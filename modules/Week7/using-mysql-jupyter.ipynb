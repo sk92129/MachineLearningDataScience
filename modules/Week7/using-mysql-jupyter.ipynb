{
 "cells": [
  {
   "cell_type": "code",
   "execution_count": 7,
   "id": "13dfc3bb-44cc-40d9-877d-1a6f7e0ff2cc",
   "metadata": {
    "tags": []
   },
   "outputs": [],
   "source": [
    "# https://stackoverflow.com/questions/51117503/python-3-7-failed-building-wheel-for-mysql-python\n",
    "\n",
    "#!pip install mysql"
   ]
  },
  {
   "cell_type": "code",
   "execution_count": 4,
   "id": "4cf8f4c9-1843-4e63-a003-df41218455ad",
   "metadata": {
    "tags": []
   },
   "outputs": [
    {
     "ename": "ModuleNotFoundError",
     "evalue": "No module named 'mysql'",
     "output_type": "error",
     "traceback": [
      "\u001b[0;31m---------------------------------------------------------------------------\u001b[0m",
      "\u001b[0;31mModuleNotFoundError\u001b[0m                       Traceback (most recent call last)",
      "Cell \u001b[0;32mIn[4], line 1\u001b[0m\n\u001b[0;32m----> 1\u001b[0m \u001b[38;5;28;01mfrom\u001b[39;00m \u001b[38;5;21;01mmysql\u001b[39;00m\u001b[38;5;21;01m.\u001b[39;00m\u001b[38;5;21;01mconnector\u001b[39;00m \u001b[38;5;28;01mimport\u001b[39;00m connect, Error\n\u001b[1;32m      2\u001b[0m \u001b[38;5;28;01mimport\u001b[39;00m \u001b[38;5;21;01mpandas\u001b[39;00m \u001b[38;5;28;01mas\u001b[39;00m \u001b[38;5;21;01mpd\u001b[39;00m\n",
      "\u001b[0;31mModuleNotFoundError\u001b[0m: No module named 'mysql'"
     ]
    }
   ],
   "source": [
    "\n",
    "from mysql.connector import connect, Error\n",
    "import pandas as pd"
   ]
  },
  {
   "cell_type": "code",
   "execution_count": 19,
   "id": "9a0c3984-7443-4bc2-897d-9d9840295e8f",
   "metadata": {
    "tags": []
   },
   "outputs": [],
   "source": [
    "import sqlite3\n",
    "\n",
    "myconn = sqlite3.connect('test.db')\n"
   ]
  },
  {
   "cell_type": "code",
   "execution_count": 9,
   "id": "56f278d4-bf17-4375-bd48-3174f5b4aead",
   "metadata": {
    "tags": []
   },
   "outputs": [],
   "source": [
    "myconn.execute(\n",
    "    \"CREATE TABLE dogs (\" +\n",
    "\n",
    "\"dogid integer,\" +\n",
    "\n",
    "\"name text, \" +\n",
    "\n",
    "\"age integer, \" +\n",
    "\n",
    "\"PRIMARY KEY (dogid) )\" );\n"
   ]
  },
  {
   "cell_type": "code",
   "execution_count": 13,
   "id": "04aea10d-4ee2-4b34-8bb2-284398234a8b",
   "metadata": {
    "tags": []
   },
   "outputs": [],
   "source": [
    "myconn.commit()"
   ]
  },
  {
   "cell_type": "code",
   "execution_count": 20,
   "id": "8213fb5a-268e-4152-a27e-5aaddcaa32a1",
   "metadata": {
    "tags": []
   },
   "outputs": [
    {
     "name": "stdout",
     "output_type": "stream",
     "text": [
      "[('dogs',)]\n"
     ]
    }
   ],
   "source": [
    "sql_query = \"\"\"SELECT name FROM sqlite_master  WHERE type='table';\"\"\"\n",
    "cursor = myconn.cursor()\n",
    "cursor.execute(sql_query)\n",
    "print(cursor.fetchall())"
   ]
  },
  {
   "cell_type": "code",
   "execution_count": 17,
   "id": "ce0f8de2-90e9-4a0e-a324-16a39b790375",
   "metadata": {
    "tags": []
   },
   "outputs": [],
   "source": [
    "insert_sql = \"\"\"INSERT INTO dogs\n",
    "VALUES\n",
    "(100,'Fido',20),\n",
    "(153,'Rex',12),\n",
    "(106,'Max',9),\n",
    "(51,'Fubar',3)\"\"\"\n",
    "\n",
    "myconn.execute(insert_sql);\n",
    "myconn.commit()"
   ]
  },
  {
   "cell_type": "code",
   "execution_count": 21,
   "id": "9275720b-1f9c-4aa4-97ac-e19ed7c13c42",
   "metadata": {
    "tags": []
   },
   "outputs": [
    {
     "name": "stdout",
     "output_type": "stream",
     "text": [
      "[(51, 'Fubar', 3), (100, 'Fido', 20), (106, 'Max', 9), (153, 'Rex', 12)]\n"
     ]
    }
   ],
   "source": [
    "sql_query = \"\"\"SELECT * FROM dogs;\"\"\"\n",
    "cursor = myconn.cursor()\n",
    "cursor.execute(sql_query)\n",
    "print(cursor.fetchall())"
   ]
  },
  {
   "cell_type": "code",
   "execution_count": null,
   "id": "30fa3531-6d8f-462c-88e4-090c6a9c3f80",
   "metadata": {},
   "outputs": [],
   "source": []
  }
 ],
 "metadata": {
  "kernelspec": {
   "display_name": "Python 3 (ipykernel)",
   "language": "python",
   "name": "python3"
  },
  "language_info": {
   "codemirror_mode": {
    "name": "ipython",
    "version": 3
   },
   "file_extension": ".py",
   "mimetype": "text/x-python",
   "name": "python",
   "nbconvert_exporter": "python",
   "pygments_lexer": "ipython3",
   "version": "3.11.5"
  }
 },
 "nbformat": 4,
 "nbformat_minor": 5
}
