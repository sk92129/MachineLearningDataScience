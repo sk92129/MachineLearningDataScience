{
 "cells": [
  {
   "cell_type": "code",
   "execution_count": 1,
   "metadata": {},
   "outputs": [],
   "source": [
    "import numpy as np\n",
    "import pandas as pd\n",
    "from sklearn.linear_model import LogisticRegression\n",
    "from sklearn.model_selection import train_test_split\n",
    "# test classification dataset\n",
    "from collections import Counter\n",
    "from sklearn.datasets import make_classification\n",
    "\n",
    "from numpy import mean\n",
    "from numpy import std\n",
    "from sklearn.model_selection import cross_val_score\n",
    "from sklearn.model_selection import RepeatedStratifiedKFold"
   ]
  },
  {
   "cell_type": "code",
   "execution_count": 2,
   "metadata": {},
   "outputs": [],
   "source": [
    "from sklearn.datasets import load_iris\n",
    "models = dict()\n",
    "iris = load_iris()"
   ]
  },
  {
   "cell_type": "code",
   "execution_count": 3,
   "metadata": {},
   "outputs": [],
   "source": [
    "\n",
    "\n",
    "# Extract the features and target\n",
    "X = iris.data[:, :2]  # we only take the first two features\n",
    "y = iris.target"
   ]
  },
  {
   "cell_type": "code",
   "execution_count": 4,
   "metadata": {},
   "outputs": [],
   "source": [
    "# Split the data into training and testing sets\n",
    "X_train, X_test, y_train, y_test = train_test_split(X, y, test_size=0.25, random_state=42)"
   ]
  },
  {
   "cell_type": "code",
   "execution_count": 5,
   "metadata": {},
   "outputs": [],
   "source": [
    "# Create a LogisticRegression object\n",
    "multinomial_model = LogisticRegression(multi_class='multinomial', solver='saga')"
   ]
  },
  {
   "cell_type": "code",
   "execution_count": 6,
   "metadata": {},
   "outputs": [
    {
     "name": "stderr",
     "output_type": "stream",
     "text": [
      "/Users/seankang/anaconda3/envs/Assignment3/lib/python3.11/site-packages/sklearn/linear_model/_logistic.py:1247: FutureWarning: 'multi_class' was deprecated in version 1.5 and will be removed in 1.7. From then on, it will always use 'multinomial'. Leave it to its default value to avoid this warning.\n",
      "  warnings.warn(\n",
      "/Users/seankang/anaconda3/envs/Assignment3/lib/python3.11/site-packages/sklearn/linear_model/_sag.py:349: ConvergenceWarning: The max_iter was reached which means the coef_ did not converge\n",
      "  warnings.warn(\n"
     ]
    },
    {
     "data": {
      "text/html": [
       "<style>#sk-container-id-1 {\n",
       "  /* Definition of color scheme common for light and dark mode */\n",
       "  --sklearn-color-text: black;\n",
       "  --sklearn-color-line: gray;\n",
       "  /* Definition of color scheme for unfitted estimators */\n",
       "  --sklearn-color-unfitted-level-0: #fff5e6;\n",
       "  --sklearn-color-unfitted-level-1: #f6e4d2;\n",
       "  --sklearn-color-unfitted-level-2: #ffe0b3;\n",
       "  --sklearn-color-unfitted-level-3: chocolate;\n",
       "  /* Definition of color scheme for fitted estimators */\n",
       "  --sklearn-color-fitted-level-0: #f0f8ff;\n",
       "  --sklearn-color-fitted-level-1: #d4ebff;\n",
       "  --sklearn-color-fitted-level-2: #b3dbfd;\n",
       "  --sklearn-color-fitted-level-3: cornflowerblue;\n",
       "\n",
       "  /* Specific color for light theme */\n",
       "  --sklearn-color-text-on-default-background: var(--sg-text-color, var(--theme-code-foreground, var(--jp-content-font-color1, black)));\n",
       "  --sklearn-color-background: var(--sg-background-color, var(--theme-background, var(--jp-layout-color0, white)));\n",
       "  --sklearn-color-border-box: var(--sg-text-color, var(--theme-code-foreground, var(--jp-content-font-color1, black)));\n",
       "  --sklearn-color-icon: #696969;\n",
       "\n",
       "  @media (prefers-color-scheme: dark) {\n",
       "    /* Redefinition of color scheme for dark theme */\n",
       "    --sklearn-color-text-on-default-background: var(--sg-text-color, var(--theme-code-foreground, var(--jp-content-font-color1, white)));\n",
       "    --sklearn-color-background: var(--sg-background-color, var(--theme-background, var(--jp-layout-color0, #111)));\n",
       "    --sklearn-color-border-box: var(--sg-text-color, var(--theme-code-foreground, var(--jp-content-font-color1, white)));\n",
       "    --sklearn-color-icon: #878787;\n",
       "  }\n",
       "}\n",
       "\n",
       "#sk-container-id-1 {\n",
       "  color: var(--sklearn-color-text);\n",
       "}\n",
       "\n",
       "#sk-container-id-1 pre {\n",
       "  padding: 0;\n",
       "}\n",
       "\n",
       "#sk-container-id-1 input.sk-hidden--visually {\n",
       "  border: 0;\n",
       "  clip: rect(1px 1px 1px 1px);\n",
       "  clip: rect(1px, 1px, 1px, 1px);\n",
       "  height: 1px;\n",
       "  margin: -1px;\n",
       "  overflow: hidden;\n",
       "  padding: 0;\n",
       "  position: absolute;\n",
       "  width: 1px;\n",
       "}\n",
       "\n",
       "#sk-container-id-1 div.sk-dashed-wrapped {\n",
       "  border: 1px dashed var(--sklearn-color-line);\n",
       "  margin: 0 0.4em 0.5em 0.4em;\n",
       "  box-sizing: border-box;\n",
       "  padding-bottom: 0.4em;\n",
       "  background-color: var(--sklearn-color-background);\n",
       "}\n",
       "\n",
       "#sk-container-id-1 div.sk-container {\n",
       "  /* jupyter's `normalize.less` sets `[hidden] { display: none; }`\n",
       "     but bootstrap.min.css set `[hidden] { display: none !important; }`\n",
       "     so we also need the `!important` here to be able to override the\n",
       "     default hidden behavior on the sphinx rendered scikit-learn.org.\n",
       "     See: https://github.com/scikit-learn/scikit-learn/issues/21755 */\n",
       "  display: inline-block !important;\n",
       "  position: relative;\n",
       "}\n",
       "\n",
       "#sk-container-id-1 div.sk-text-repr-fallback {\n",
       "  display: none;\n",
       "}\n",
       "\n",
       "div.sk-parallel-item,\n",
       "div.sk-serial,\n",
       "div.sk-item {\n",
       "  /* draw centered vertical line to link estimators */\n",
       "  background-image: linear-gradient(var(--sklearn-color-text-on-default-background), var(--sklearn-color-text-on-default-background));\n",
       "  background-size: 2px 100%;\n",
       "  background-repeat: no-repeat;\n",
       "  background-position: center center;\n",
       "}\n",
       "\n",
       "/* Parallel-specific style estimator block */\n",
       "\n",
       "#sk-container-id-1 div.sk-parallel-item::after {\n",
       "  content: \"\";\n",
       "  width: 100%;\n",
       "  border-bottom: 2px solid var(--sklearn-color-text-on-default-background);\n",
       "  flex-grow: 1;\n",
       "}\n",
       "\n",
       "#sk-container-id-1 div.sk-parallel {\n",
       "  display: flex;\n",
       "  align-items: stretch;\n",
       "  justify-content: center;\n",
       "  background-color: var(--sklearn-color-background);\n",
       "  position: relative;\n",
       "}\n",
       "\n",
       "#sk-container-id-1 div.sk-parallel-item {\n",
       "  display: flex;\n",
       "  flex-direction: column;\n",
       "}\n",
       "\n",
       "#sk-container-id-1 div.sk-parallel-item:first-child::after {\n",
       "  align-self: flex-end;\n",
       "  width: 50%;\n",
       "}\n",
       "\n",
       "#sk-container-id-1 div.sk-parallel-item:last-child::after {\n",
       "  align-self: flex-start;\n",
       "  width: 50%;\n",
       "}\n",
       "\n",
       "#sk-container-id-1 div.sk-parallel-item:only-child::after {\n",
       "  width: 0;\n",
       "}\n",
       "\n",
       "/* Serial-specific style estimator block */\n",
       "\n",
       "#sk-container-id-1 div.sk-serial {\n",
       "  display: flex;\n",
       "  flex-direction: column;\n",
       "  align-items: center;\n",
       "  background-color: var(--sklearn-color-background);\n",
       "  padding-right: 1em;\n",
       "  padding-left: 1em;\n",
       "}\n",
       "\n",
       "\n",
       "/* Toggleable style: style used for estimator/Pipeline/ColumnTransformer box that is\n",
       "clickable and can be expanded/collapsed.\n",
       "- Pipeline and ColumnTransformer use this feature and define the default style\n",
       "- Estimators will overwrite some part of the style using the `sk-estimator` class\n",
       "*/\n",
       "\n",
       "/* Pipeline and ColumnTransformer style (default) */\n",
       "\n",
       "#sk-container-id-1 div.sk-toggleable {\n",
       "  /* Default theme specific background. It is overwritten whether we have a\n",
       "  specific estimator or a Pipeline/ColumnTransformer */\n",
       "  background-color: var(--sklearn-color-background);\n",
       "}\n",
       "\n",
       "/* Toggleable label */\n",
       "#sk-container-id-1 label.sk-toggleable__label {\n",
       "  cursor: pointer;\n",
       "  display: block;\n",
       "  width: 100%;\n",
       "  margin-bottom: 0;\n",
       "  padding: 0.5em;\n",
       "  box-sizing: border-box;\n",
       "  text-align: center;\n",
       "}\n",
       "\n",
       "#sk-container-id-1 label.sk-toggleable__label-arrow:before {\n",
       "  /* Arrow on the left of the label */\n",
       "  content: \"▸\";\n",
       "  float: left;\n",
       "  margin-right: 0.25em;\n",
       "  color: var(--sklearn-color-icon);\n",
       "}\n",
       "\n",
       "#sk-container-id-1 label.sk-toggleable__label-arrow:hover:before {\n",
       "  color: var(--sklearn-color-text);\n",
       "}\n",
       "\n",
       "/* Toggleable content - dropdown */\n",
       "\n",
       "#sk-container-id-1 div.sk-toggleable__content {\n",
       "  max-height: 0;\n",
       "  max-width: 0;\n",
       "  overflow: hidden;\n",
       "  text-align: left;\n",
       "  /* unfitted */\n",
       "  background-color: var(--sklearn-color-unfitted-level-0);\n",
       "}\n",
       "\n",
       "#sk-container-id-1 div.sk-toggleable__content.fitted {\n",
       "  /* fitted */\n",
       "  background-color: var(--sklearn-color-fitted-level-0);\n",
       "}\n",
       "\n",
       "#sk-container-id-1 div.sk-toggleable__content pre {\n",
       "  margin: 0.2em;\n",
       "  border-radius: 0.25em;\n",
       "  color: var(--sklearn-color-text);\n",
       "  /* unfitted */\n",
       "  background-color: var(--sklearn-color-unfitted-level-0);\n",
       "}\n",
       "\n",
       "#sk-container-id-1 div.sk-toggleable__content.fitted pre {\n",
       "  /* unfitted */\n",
       "  background-color: var(--sklearn-color-fitted-level-0);\n",
       "}\n",
       "\n",
       "#sk-container-id-1 input.sk-toggleable__control:checked~div.sk-toggleable__content {\n",
       "  /* Expand drop-down */\n",
       "  max-height: 200px;\n",
       "  max-width: 100%;\n",
       "  overflow: auto;\n",
       "}\n",
       "\n",
       "#sk-container-id-1 input.sk-toggleable__control:checked~label.sk-toggleable__label-arrow:before {\n",
       "  content: \"▾\";\n",
       "}\n",
       "\n",
       "/* Pipeline/ColumnTransformer-specific style */\n",
       "\n",
       "#sk-container-id-1 div.sk-label input.sk-toggleable__control:checked~label.sk-toggleable__label {\n",
       "  color: var(--sklearn-color-text);\n",
       "  background-color: var(--sklearn-color-unfitted-level-2);\n",
       "}\n",
       "\n",
       "#sk-container-id-1 div.sk-label.fitted input.sk-toggleable__control:checked~label.sk-toggleable__label {\n",
       "  background-color: var(--sklearn-color-fitted-level-2);\n",
       "}\n",
       "\n",
       "/* Estimator-specific style */\n",
       "\n",
       "/* Colorize estimator box */\n",
       "#sk-container-id-1 div.sk-estimator input.sk-toggleable__control:checked~label.sk-toggleable__label {\n",
       "  /* unfitted */\n",
       "  background-color: var(--sklearn-color-unfitted-level-2);\n",
       "}\n",
       "\n",
       "#sk-container-id-1 div.sk-estimator.fitted input.sk-toggleable__control:checked~label.sk-toggleable__label {\n",
       "  /* fitted */\n",
       "  background-color: var(--sklearn-color-fitted-level-2);\n",
       "}\n",
       "\n",
       "#sk-container-id-1 div.sk-label label.sk-toggleable__label,\n",
       "#sk-container-id-1 div.sk-label label {\n",
       "  /* The background is the default theme color */\n",
       "  color: var(--sklearn-color-text-on-default-background);\n",
       "}\n",
       "\n",
       "/* On hover, darken the color of the background */\n",
       "#sk-container-id-1 div.sk-label:hover label.sk-toggleable__label {\n",
       "  color: var(--sklearn-color-text);\n",
       "  background-color: var(--sklearn-color-unfitted-level-2);\n",
       "}\n",
       "\n",
       "/* Label box, darken color on hover, fitted */\n",
       "#sk-container-id-1 div.sk-label.fitted:hover label.sk-toggleable__label.fitted {\n",
       "  color: var(--sklearn-color-text);\n",
       "  background-color: var(--sklearn-color-fitted-level-2);\n",
       "}\n",
       "\n",
       "/* Estimator label */\n",
       "\n",
       "#sk-container-id-1 div.sk-label label {\n",
       "  font-family: monospace;\n",
       "  font-weight: bold;\n",
       "  display: inline-block;\n",
       "  line-height: 1.2em;\n",
       "}\n",
       "\n",
       "#sk-container-id-1 div.sk-label-container {\n",
       "  text-align: center;\n",
       "}\n",
       "\n",
       "/* Estimator-specific */\n",
       "#sk-container-id-1 div.sk-estimator {\n",
       "  font-family: monospace;\n",
       "  border: 1px dotted var(--sklearn-color-border-box);\n",
       "  border-radius: 0.25em;\n",
       "  box-sizing: border-box;\n",
       "  margin-bottom: 0.5em;\n",
       "  /* unfitted */\n",
       "  background-color: var(--sklearn-color-unfitted-level-0);\n",
       "}\n",
       "\n",
       "#sk-container-id-1 div.sk-estimator.fitted {\n",
       "  /* fitted */\n",
       "  background-color: var(--sklearn-color-fitted-level-0);\n",
       "}\n",
       "\n",
       "/* on hover */\n",
       "#sk-container-id-1 div.sk-estimator:hover {\n",
       "  /* unfitted */\n",
       "  background-color: var(--sklearn-color-unfitted-level-2);\n",
       "}\n",
       "\n",
       "#sk-container-id-1 div.sk-estimator.fitted:hover {\n",
       "  /* fitted */\n",
       "  background-color: var(--sklearn-color-fitted-level-2);\n",
       "}\n",
       "\n",
       "/* Specification for estimator info (e.g. \"i\" and \"?\") */\n",
       "\n",
       "/* Common style for \"i\" and \"?\" */\n",
       "\n",
       ".sk-estimator-doc-link,\n",
       "a:link.sk-estimator-doc-link,\n",
       "a:visited.sk-estimator-doc-link {\n",
       "  float: right;\n",
       "  font-size: smaller;\n",
       "  line-height: 1em;\n",
       "  font-family: monospace;\n",
       "  background-color: var(--sklearn-color-background);\n",
       "  border-radius: 1em;\n",
       "  height: 1em;\n",
       "  width: 1em;\n",
       "  text-decoration: none !important;\n",
       "  margin-left: 1ex;\n",
       "  /* unfitted */\n",
       "  border: var(--sklearn-color-unfitted-level-1) 1pt solid;\n",
       "  color: var(--sklearn-color-unfitted-level-1);\n",
       "}\n",
       "\n",
       ".sk-estimator-doc-link.fitted,\n",
       "a:link.sk-estimator-doc-link.fitted,\n",
       "a:visited.sk-estimator-doc-link.fitted {\n",
       "  /* fitted */\n",
       "  border: var(--sklearn-color-fitted-level-1) 1pt solid;\n",
       "  color: var(--sklearn-color-fitted-level-1);\n",
       "}\n",
       "\n",
       "/* On hover */\n",
       "div.sk-estimator:hover .sk-estimator-doc-link:hover,\n",
       ".sk-estimator-doc-link:hover,\n",
       "div.sk-label-container:hover .sk-estimator-doc-link:hover,\n",
       ".sk-estimator-doc-link:hover {\n",
       "  /* unfitted */\n",
       "  background-color: var(--sklearn-color-unfitted-level-3);\n",
       "  color: var(--sklearn-color-background);\n",
       "  text-decoration: none;\n",
       "}\n",
       "\n",
       "div.sk-estimator.fitted:hover .sk-estimator-doc-link.fitted:hover,\n",
       ".sk-estimator-doc-link.fitted:hover,\n",
       "div.sk-label-container:hover .sk-estimator-doc-link.fitted:hover,\n",
       ".sk-estimator-doc-link.fitted:hover {\n",
       "  /* fitted */\n",
       "  background-color: var(--sklearn-color-fitted-level-3);\n",
       "  color: var(--sklearn-color-background);\n",
       "  text-decoration: none;\n",
       "}\n",
       "\n",
       "/* Span, style for the box shown on hovering the info icon */\n",
       ".sk-estimator-doc-link span {\n",
       "  display: none;\n",
       "  z-index: 9999;\n",
       "  position: relative;\n",
       "  font-weight: normal;\n",
       "  right: .2ex;\n",
       "  padding: .5ex;\n",
       "  margin: .5ex;\n",
       "  width: min-content;\n",
       "  min-width: 20ex;\n",
       "  max-width: 50ex;\n",
       "  color: var(--sklearn-color-text);\n",
       "  box-shadow: 2pt 2pt 4pt #999;\n",
       "  /* unfitted */\n",
       "  background: var(--sklearn-color-unfitted-level-0);\n",
       "  border: .5pt solid var(--sklearn-color-unfitted-level-3);\n",
       "}\n",
       "\n",
       ".sk-estimator-doc-link.fitted span {\n",
       "  /* fitted */\n",
       "  background: var(--sklearn-color-fitted-level-0);\n",
       "  border: var(--sklearn-color-fitted-level-3);\n",
       "}\n",
       "\n",
       ".sk-estimator-doc-link:hover span {\n",
       "  display: block;\n",
       "}\n",
       "\n",
       "/* \"?\"-specific style due to the `<a>` HTML tag */\n",
       "\n",
       "#sk-container-id-1 a.estimator_doc_link {\n",
       "  float: right;\n",
       "  font-size: 1rem;\n",
       "  line-height: 1em;\n",
       "  font-family: monospace;\n",
       "  background-color: var(--sklearn-color-background);\n",
       "  border-radius: 1rem;\n",
       "  height: 1rem;\n",
       "  width: 1rem;\n",
       "  text-decoration: none;\n",
       "  /* unfitted */\n",
       "  color: var(--sklearn-color-unfitted-level-1);\n",
       "  border: var(--sklearn-color-unfitted-level-1) 1pt solid;\n",
       "}\n",
       "\n",
       "#sk-container-id-1 a.estimator_doc_link.fitted {\n",
       "  /* fitted */\n",
       "  border: var(--sklearn-color-fitted-level-1) 1pt solid;\n",
       "  color: var(--sklearn-color-fitted-level-1);\n",
       "}\n",
       "\n",
       "/* On hover */\n",
       "#sk-container-id-1 a.estimator_doc_link:hover {\n",
       "  /* unfitted */\n",
       "  background-color: var(--sklearn-color-unfitted-level-3);\n",
       "  color: var(--sklearn-color-background);\n",
       "  text-decoration: none;\n",
       "}\n",
       "\n",
       "#sk-container-id-1 a.estimator_doc_link.fitted:hover {\n",
       "  /* fitted */\n",
       "  background-color: var(--sklearn-color-fitted-level-3);\n",
       "}\n",
       "</style><div id=\"sk-container-id-1\" class=\"sk-top-container\"><div class=\"sk-text-repr-fallback\"><pre>LogisticRegression(multi_class=&#x27;multinomial&#x27;, solver=&#x27;saga&#x27;)</pre><b>In a Jupyter environment, please rerun this cell to show the HTML representation or trust the notebook. <br />On GitHub, the HTML representation is unable to render, please try loading this page with nbviewer.org.</b></div><div class=\"sk-container\" hidden><div class=\"sk-item\"><div class=\"sk-estimator fitted sk-toggleable\"><input class=\"sk-toggleable__control sk-hidden--visually\" id=\"sk-estimator-id-1\" type=\"checkbox\" checked><label for=\"sk-estimator-id-1\" class=\"sk-toggleable__label fitted sk-toggleable__label-arrow fitted\">&nbsp;&nbsp;LogisticRegression<a class=\"sk-estimator-doc-link fitted\" rel=\"noreferrer\" target=\"_blank\" href=\"https://scikit-learn.org/1.5/modules/generated/sklearn.linear_model.LogisticRegression.html\">?<span>Documentation for LogisticRegression</span></a><span class=\"sk-estimator-doc-link fitted\">i<span>Fitted</span></span></label><div class=\"sk-toggleable__content fitted\"><pre>LogisticRegression(multi_class=&#x27;multinomial&#x27;, solver=&#x27;saga&#x27;)</pre></div> </div></div></div></div>"
      ],
      "text/plain": [
       "LogisticRegression(multi_class='multinomial', solver='saga')"
      ]
     },
     "execution_count": 6,
     "metadata": {},
     "output_type": "execute_result"
    }
   ],
   "source": [
    "# Fit the model to the training data\n",
    "multinomial_model.fit(X_train, y_train)"
   ]
  },
  {
   "cell_type": "code",
   "execution_count": 7,
   "metadata": {},
   "outputs": [
    {
     "name": "stdout",
     "output_type": "stream",
     "text": [
      "The accuracy of the model is: 0.868421052631579\n"
     ]
    }
   ],
   "source": [
    "# Evaluate the model on the testing data\n",
    "score = multinomial_model.score(X_test, y_test)\n",
    "#models['multinomial-simple'] = multinomial_model\n",
    "print('The accuracy of the model is:', score)"
   ]
  },
  {
   "cell_type": "markdown",
   "metadata": {},
   "source": []
  },
  {
   "cell_type": "code",
   "execution_count": 8,
   "metadata": {},
   "outputs": [
    {
     "name": "stdout",
     "output_type": "stream",
     "text": [
      "The predicted class is: [0]\n"
     ]
    }
   ],
   "source": [
    "# Make predictions on new data\n",
    "new_data = np.array([3.5, 5.0])\n",
    "new_data = new_data.reshape(1, -1)\n",
    "prediction = multinomial_model.predict(new_data)\n",
    "print('The predicted class is:', prediction)"
   ]
  },
  {
   "cell_type": "code",
   "execution_count": 9,
   "metadata": {},
   "outputs": [],
   "source": [
    "iris_data = iris.data\n",
    "iris_data = pd.DataFrame(iris_data, columns=iris.feature_names)\n",
    "iris_data['species'] = iris.target \n",
    "\n"
   ]
  },
  {
   "cell_type": "code",
   "execution_count": 10,
   "metadata": {},
   "outputs": [],
   "source": [
    "# evaluate a give model using cross-validation\n",
    "def evaluate_model(model, X, y):\n",
    "\t# define the evaluation procedure\n",
    "\tcv = RepeatedStratifiedKFold(n_splits=10, n_repeats=3, random_state=1)\n",
    "\t# evaluate the model\n",
    "\tscores = cross_val_score(model, X, y, scoring='accuracy', cv=cv, n_jobs=-1)\n",
    "\treturn scores"
   ]
  },
  {
   "cell_type": "code",
   "execution_count": 11,
   "metadata": {},
   "outputs": [],
   "source": [
    "import plotly.graph_objects as go\n",
    "def compare_models(models, X,y):\n",
    "    # Compute the score for each model\n",
    "    scores = [mean(evaluate_model(model, X, y)) for model in models.values()]\n",
    "    print(scores)\n",
    "    names = list(models.keys())\n",
    "    fig = go.Figure([\n",
    "        go.Bar(x = names, y = scores, name=\"Scores\"),\n",
    "        ])\n",
    "    return fig"
   ]
  },
  {
   "cell_type": "code",
   "execution_count": 12,
   "metadata": {},
   "outputs": [
    {
     "data": {
      "text/html": [
       "<div>\n",
       "<style scoped>\n",
       "    .dataframe tbody tr th:only-of-type {\n",
       "        vertical-align: middle;\n",
       "    }\n",
       "\n",
       "    .dataframe tbody tr th {\n",
       "        vertical-align: top;\n",
       "    }\n",
       "\n",
       "    .dataframe thead th {\n",
       "        text-align: right;\n",
       "    }\n",
       "</style>\n",
       "<table border=\"1\" class=\"dataframe\">\n",
       "  <thead>\n",
       "    <tr style=\"text-align: right;\">\n",
       "      <th></th>\n",
       "      <th>sepal length (cm)</th>\n",
       "      <th>sepal width (cm)</th>\n",
       "      <th>petal length (cm)</th>\n",
       "      <th>petal width (cm)</th>\n",
       "      <th>species</th>\n",
       "    </tr>\n",
       "  </thead>\n",
       "  <tbody>\n",
       "    <tr>\n",
       "      <th>0</th>\n",
       "      <td>5.1</td>\n",
       "      <td>3.5</td>\n",
       "      <td>1.4</td>\n",
       "      <td>0.2</td>\n",
       "      <td>0</td>\n",
       "    </tr>\n",
       "    <tr>\n",
       "      <th>1</th>\n",
       "      <td>4.9</td>\n",
       "      <td>3.0</td>\n",
       "      <td>1.4</td>\n",
       "      <td>0.2</td>\n",
       "      <td>0</td>\n",
       "    </tr>\n",
       "    <tr>\n",
       "      <th>2</th>\n",
       "      <td>4.7</td>\n",
       "      <td>3.2</td>\n",
       "      <td>1.3</td>\n",
       "      <td>0.2</td>\n",
       "      <td>0</td>\n",
       "    </tr>\n",
       "    <tr>\n",
       "      <th>3</th>\n",
       "      <td>4.6</td>\n",
       "      <td>3.1</td>\n",
       "      <td>1.5</td>\n",
       "      <td>0.2</td>\n",
       "      <td>0</td>\n",
       "    </tr>\n",
       "    <tr>\n",
       "      <th>4</th>\n",
       "      <td>5.0</td>\n",
       "      <td>3.6</td>\n",
       "      <td>1.4</td>\n",
       "      <td>0.2</td>\n",
       "      <td>0</td>\n",
       "    </tr>\n",
       "    <tr>\n",
       "      <th>...</th>\n",
       "      <td>...</td>\n",
       "      <td>...</td>\n",
       "      <td>...</td>\n",
       "      <td>...</td>\n",
       "      <td>...</td>\n",
       "    </tr>\n",
       "    <tr>\n",
       "      <th>145</th>\n",
       "      <td>6.7</td>\n",
       "      <td>3.0</td>\n",
       "      <td>5.2</td>\n",
       "      <td>2.3</td>\n",
       "      <td>2</td>\n",
       "    </tr>\n",
       "    <tr>\n",
       "      <th>146</th>\n",
       "      <td>6.3</td>\n",
       "      <td>2.5</td>\n",
       "      <td>5.0</td>\n",
       "      <td>1.9</td>\n",
       "      <td>2</td>\n",
       "    </tr>\n",
       "    <tr>\n",
       "      <th>147</th>\n",
       "      <td>6.5</td>\n",
       "      <td>3.0</td>\n",
       "      <td>5.2</td>\n",
       "      <td>2.0</td>\n",
       "      <td>2</td>\n",
       "    </tr>\n",
       "    <tr>\n",
       "      <th>148</th>\n",
       "      <td>6.2</td>\n",
       "      <td>3.4</td>\n",
       "      <td>5.4</td>\n",
       "      <td>2.3</td>\n",
       "      <td>2</td>\n",
       "    </tr>\n",
       "    <tr>\n",
       "      <th>149</th>\n",
       "      <td>5.9</td>\n",
       "      <td>3.0</td>\n",
       "      <td>5.1</td>\n",
       "      <td>1.8</td>\n",
       "      <td>2</td>\n",
       "    </tr>\n",
       "  </tbody>\n",
       "</table>\n",
       "<p>150 rows × 5 columns</p>\n",
       "</div>"
      ],
      "text/plain": [
       "     sepal length (cm)  sepal width (cm)  petal length (cm)  petal width (cm)  \\\n",
       "0                  5.1               3.5                1.4               0.2   \n",
       "1                  4.9               3.0                1.4               0.2   \n",
       "2                  4.7               3.2                1.3               0.2   \n",
       "3                  4.6               3.1                1.5               0.2   \n",
       "4                  5.0               3.6                1.4               0.2   \n",
       "..                 ...               ...                ...               ...   \n",
       "145                6.7               3.0                5.2               2.3   \n",
       "146                6.3               2.5                5.0               1.9   \n",
       "147                6.5               3.0                5.2               2.0   \n",
       "148                6.2               3.4                5.4               2.3   \n",
       "149                5.9               3.0                5.1               1.8   \n",
       "\n",
       "     species  \n",
       "0          0  \n",
       "1          0  \n",
       "2          0  \n",
       "3          0  \n",
       "4          0  \n",
       "..       ...  \n",
       "145        2  \n",
       "146        2  \n",
       "147        2  \n",
       "148        2  \n",
       "149        2  \n",
       "\n",
       "[150 rows x 5 columns]"
      ]
     },
     "execution_count": 12,
     "metadata": {},
     "output_type": "execute_result"
    }
   ],
   "source": [
    "iris_data"
   ]
  },
  {
   "cell_type": "code",
   "execution_count": 13,
   "metadata": {},
   "outputs": [],
   "source": [
    "iris_data['species'].unique()\n",
    "features = iris.feature_names\n",
    "target = 'species'"
   ]
  },
  {
   "cell_type": "code",
   "execution_count": 14,
   "metadata": {},
   "outputs": [],
   "source": [
    "X_iris = iris_data[features]\n",
    "y_iris = iris_data[target]"
   ]
  },
  {
   "cell_type": "code",
   "execution_count": 15,
   "metadata": {},
   "outputs": [
    {
     "name": "stdout",
     "output_type": "stream",
     "text": [
      "[0 0 0 0 0 0 0 0 0 0 0 0 0 0 0 0 0 0 0 0 0 0 0 0 0 0 0 0 0 0 0 0 0 0 0 0 0\n",
      " 0 0 0 0 0 0 0 0 0 0 0 0 0 2 2 2 1 2 1 2 1 2 1 1 1 1 1 1 2 1 1 1 1 1 1 1 1\n",
      " 2 2 2 2 1 1 1 1 1 1 1 2 2 1 1 1 1 1 1 1 1 1 1 1 1 1 2 1 2 2 2 2 1 2 2 2 2\n",
      " 2 2 1 1 2 2 2 2 1 2 1 2 1 2 2 1 1 2 2 2 2 2 2 1 2 2 2 1 2 2 2 1 2 2 2 1 2\n",
      " 2 1]\n"
     ]
    }
   ],
   "source": [
    "\n",
    "from sklearn import datasets,metrics\n",
    "lr_iris = LogisticRegression()\n",
    "lr_iris = lr_iris.fit(X, y)\n",
    "y_pred = lr_iris.predict(X)\n",
    "print( y_pred)\n",
    "models['simple'] = lr_iris\n",
    "\n"
   ]
  },
  {
   "cell_type": "code",
   "execution_count": 16,
   "metadata": {},
   "outputs": [
    {
     "name": "stdout",
     "output_type": "stream",
     "text": [
      "0.82\n"
     ]
    }
   ],
   "source": [
    "print(metrics.accuracy_score(y_pred,y))"
   ]
  },
  {
   "cell_type": "code",
   "execution_count": 17,
   "metadata": {},
   "outputs": [
    {
     "name": "stdout",
     "output_type": "stream",
     "text": [
      "0.82\n"
     ]
    }
   ],
   "source": [
    "def calc_accuracy(y_pred,y):\n",
    "    count = len(y)\n",
    "    return np.sum([1  for y1, y2 in zip(y_pred, y) if y1==y2])/count\n",
    "    return \n",
    "print(calc_accuracy(y_pred,y))"
   ]
  },
  {
   "cell_type": "code",
   "execution_count": 18,
   "metadata": {},
   "outputs": [
    {
     "name": "stdout",
     "output_type": "stream",
     "text": [
      "0.8066666666666666\n"
     ]
    },
    {
     "name": "stderr",
     "output_type": "stream",
     "text": [
      "/Users/seankang/anaconda3/envs/Assignment3/lib/python3.11/site-packages/sklearn/linear_model/_logistic.py:1256: FutureWarning: 'multi_class' was deprecated in version 1.5 and will be removed in 1.7. Use OneVsRestClassifier(LogisticRegression(..)) instead. Leave it to its default value to avoid this warning.\n",
      "  warnings.warn(\n"
     ]
    }
   ],
   "source": [
    "#specifying - ovr\n",
    "ovr_iris = LogisticRegression(multi_class='ovr')\n",
    "ovr_iris = ovr_iris.fit(X, y)\n",
    "y_pred_ovr = ovr_iris.predict(X)\n",
    "models['ovr'] = ovr_iris\n",
    "print(metrics.accuracy_score(y_pred_ovr,y))"
   ]
  },
  {
   "cell_type": "code",
   "execution_count": 19,
   "metadata": {},
   "outputs": [
    {
     "name": "stdout",
     "output_type": "stream",
     "text": [
      "0.8066666666666666\n"
     ]
    }
   ],
   "source": [
    "print(calc_accuracy(y_pred_ovr,y))"
   ]
  },
  {
   "cell_type": "code",
   "execution_count": 20,
   "metadata": {},
   "outputs": [
    {
     "name": "stdout",
     "output_type": "stream",
     "text": [
      "0.82\n"
     ]
    },
    {
     "name": "stderr",
     "output_type": "stream",
     "text": [
      "/Users/seankang/anaconda3/envs/Assignment3/lib/python3.11/site-packages/sklearn/linear_model/_logistic.py:1247: FutureWarning: 'multi_class' was deprecated in version 1.5 and will be removed in 1.7. From then on, it will always use 'multinomial'. Leave it to its default value to avoid this warning.\n",
      "  warnings.warn(\n"
     ]
    }
   ],
   "source": [
    "# specify multinomial\n",
    "multi_iris = LogisticRegression(multi_class='multinomial',solver='newton-cg')\n",
    "multi_iris = multi_iris.fit(X, y)\n",
    "y_pred_multi = multi_iris.predict(X)\n",
    "models['newton-cg'] = multi_iris\n",
    "print(metrics.accuracy_score(y_pred_multi,y))\n"
   ]
  },
  {
   "cell_type": "code",
   "execution_count": 21,
   "metadata": {},
   "outputs": [
    {
     "name": "stdout",
     "output_type": "stream",
     "text": [
      "0.82\n"
     ]
    },
    {
     "name": "stderr",
     "output_type": "stream",
     "text": [
      "/Users/seankang/anaconda3/envs/Assignment3/lib/python3.11/site-packages/sklearn/linear_model/_logistic.py:1247: FutureWarning: 'multi_class' was deprecated in version 1.5 and will be removed in 1.7. From then on, it will always use 'multinomial'. Leave it to its default value to avoid this warning.\n",
      "  warnings.warn(\n"
     ]
    }
   ],
   "source": [
    "# using another solver with multinomial\n",
    "\n",
    "multi_lbfgs_iris = LogisticRegression(multi_class='multinomial',solver='lbfgs')\n",
    "multi_lbfgs_iris = multi_lbfgs_iris.fit(X, y)\n",
    "y_pred_multi_2 = multi_lbfgs_iris.predict(X)\n",
    "models['lbfgs'] = multi_lbfgs_iris\n",
    "print(metrics.accuracy_score(y_pred_multi_2,y))"
   ]
  },
  {
   "cell_type": "code",
   "execution_count": 22,
   "metadata": {},
   "outputs": [
    {
     "name": "stdout",
     "output_type": "stream",
     "text": [
      "0.8133333333333334\n"
     ]
    },
    {
     "name": "stderr",
     "output_type": "stream",
     "text": [
      "/Users/seankang/anaconda3/envs/Assignment3/lib/python3.11/site-packages/sklearn/linear_model/_logistic.py:1247: FutureWarning: 'multi_class' was deprecated in version 1.5 and will be removed in 1.7. From then on, it will always use 'multinomial'. Leave it to its default value to avoid this warning.\n",
      "  warnings.warn(\n",
      "/Users/seankang/anaconda3/envs/Assignment3/lib/python3.11/site-packages/sklearn/linear_model/_sag.py:349: ConvergenceWarning: The max_iter was reached which means the coef_ did not converge\n",
      "  warnings.warn(\n"
     ]
    }
   ],
   "source": [
    "# another solver with multinomial - saga\n",
    "\n",
    "multi_sag_iris = LogisticRegression(multi_class='multinomial',solver='sag')\n",
    "multi_sag_iris = multi_sag_iris.fit(X, y)\n",
    "y_pred_multi_sag = multi_sag_iris.predict(X)\n",
    "models['sag'] = multi_sag_iris\n",
    "print(metrics.accuracy_score(y_pred_multi_sag,y))\n",
    "\n"
   ]
  },
  {
   "cell_type": "markdown",
   "metadata": {},
   "source": []
  },
  {
   "cell_type": "code",
   "execution_count": 23,
   "metadata": {},
   "outputs": [
    {
     "data": {
      "text/plain": [
       "(150,)"
      ]
     },
     "execution_count": 23,
     "metadata": {},
     "output_type": "execute_result"
    }
   ],
   "source": [
    "y.shape"
   ]
  },
  {
   "cell_type": "code",
   "execution_count": 24,
   "metadata": {},
   "outputs": [
    {
     "name": "stdout",
     "output_type": "stream",
     "text": [
      "[0.8133333333333334, 0.8000000000000002, 0.8133333333333334, 0.8133333333333334, 0.8022222222222223]\n"
     ]
    },
    {
     "name": "stderr",
     "output_type": "stream",
     "text": [
      "/Users/seankang/anaconda3/envs/Assignment3/lib/python3.11/site-packages/sklearn/linear_model/_logistic.py:1256: FutureWarning: 'multi_class' was deprecated in version 1.5 and will be removed in 1.7. Use OneVsRestClassifier(LogisticRegression(..)) instead. Leave it to its default value to avoid this warning.\n",
      "  warnings.warn(\n",
      "/Users/seankang/anaconda3/envs/Assignment3/lib/python3.11/site-packages/sklearn/linear_model/_logistic.py:1256: FutureWarning: 'multi_class' was deprecated in version 1.5 and will be removed in 1.7. Use OneVsRestClassifier(LogisticRegression(..)) instead. Leave it to its default value to avoid this warning.\n",
      "  warnings.warn(\n",
      "/Users/seankang/anaconda3/envs/Assignment3/lib/python3.11/site-packages/sklearn/linear_model/_logistic.py:1256: FutureWarning: 'multi_class' was deprecated in version 1.5 and will be removed in 1.7. Use OneVsRestClassifier(LogisticRegression(..)) instead. Leave it to its default value to avoid this warning.\n",
      "  warnings.warn(\n",
      "/Users/seankang/anaconda3/envs/Assignment3/lib/python3.11/site-packages/sklearn/linear_model/_logistic.py:1256: FutureWarning: 'multi_class' was deprecated in version 1.5 and will be removed in 1.7. Use OneVsRestClassifier(LogisticRegression(..)) instead. Leave it to its default value to avoid this warning.\n",
      "  warnings.warn(\n",
      "/Users/seankang/anaconda3/envs/Assignment3/lib/python3.11/site-packages/sklearn/linear_model/_logistic.py:1256: FutureWarning: 'multi_class' was deprecated in version 1.5 and will be removed in 1.7. Use OneVsRestClassifier(LogisticRegression(..)) instead. Leave it to its default value to avoid this warning.\n",
      "  warnings.warn(\n",
      "/Users/seankang/anaconda3/envs/Assignment3/lib/python3.11/site-packages/sklearn/linear_model/_logistic.py:1256: FutureWarning: 'multi_class' was deprecated in version 1.5 and will be removed in 1.7. Use OneVsRestClassifier(LogisticRegression(..)) instead. Leave it to its default value to avoid this warning.\n",
      "  warnings.warn(\n",
      "/Users/seankang/anaconda3/envs/Assignment3/lib/python3.11/site-packages/sklearn/linear_model/_logistic.py:1256: FutureWarning: 'multi_class' was deprecated in version 1.5 and will be removed in 1.7. Use OneVsRestClassifier(LogisticRegression(..)) instead. Leave it to its default value to avoid this warning.\n",
      "  warnings.warn(\n",
      "/Users/seankang/anaconda3/envs/Assignment3/lib/python3.11/site-packages/sklearn/linear_model/_logistic.py:1256: FutureWarning: 'multi_class' was deprecated in version 1.5 and will be removed in 1.7. Use OneVsRestClassifier(LogisticRegression(..)) instead. Leave it to its default value to avoid this warning.\n",
      "  warnings.warn(\n",
      "/Users/seankang/anaconda3/envs/Assignment3/lib/python3.11/site-packages/sklearn/linear_model/_logistic.py:1256: FutureWarning: 'multi_class' was deprecated in version 1.5 and will be removed in 1.7. Use OneVsRestClassifier(LogisticRegression(..)) instead. Leave it to its default value to avoid this warning.\n",
      "  warnings.warn(\n",
      "/Users/seankang/anaconda3/envs/Assignment3/lib/python3.11/site-packages/sklearn/linear_model/_logistic.py:1256: FutureWarning: 'multi_class' was deprecated in version 1.5 and will be removed in 1.7. Use OneVsRestClassifier(LogisticRegression(..)) instead. Leave it to its default value to avoid this warning.\n",
      "  warnings.warn(\n",
      "/Users/seankang/anaconda3/envs/Assignment3/lib/python3.11/site-packages/sklearn/linear_model/_logistic.py:1256: FutureWarning: 'multi_class' was deprecated in version 1.5 and will be removed in 1.7. Use OneVsRestClassifier(LogisticRegression(..)) instead. Leave it to its default value to avoid this warning.\n",
      "  warnings.warn(\n",
      "/Users/seankang/anaconda3/envs/Assignment3/lib/python3.11/site-packages/sklearn/linear_model/_logistic.py:1256: FutureWarning: 'multi_class' was deprecated in version 1.5 and will be removed in 1.7. Use OneVsRestClassifier(LogisticRegression(..)) instead. Leave it to its default value to avoid this warning.\n",
      "  warnings.warn(\n",
      "/Users/seankang/anaconda3/envs/Assignment3/lib/python3.11/site-packages/sklearn/linear_model/_logistic.py:1256: FutureWarning: 'multi_class' was deprecated in version 1.5 and will be removed in 1.7. Use OneVsRestClassifier(LogisticRegression(..)) instead. Leave it to its default value to avoid this warning.\n",
      "  warnings.warn(\n",
      "/Users/seankang/anaconda3/envs/Assignment3/lib/python3.11/site-packages/sklearn/linear_model/_logistic.py:1256: FutureWarning: 'multi_class' was deprecated in version 1.5 and will be removed in 1.7. Use OneVsRestClassifier(LogisticRegression(..)) instead. Leave it to its default value to avoid this warning.\n",
      "  warnings.warn(\n",
      "/Users/seankang/anaconda3/envs/Assignment3/lib/python3.11/site-packages/sklearn/linear_model/_logistic.py:1256: FutureWarning: 'multi_class' was deprecated in version 1.5 and will be removed in 1.7. Use OneVsRestClassifier(LogisticRegression(..)) instead. Leave it to its default value to avoid this warning.\n",
      "  warnings.warn(\n",
      "/Users/seankang/anaconda3/envs/Assignment3/lib/python3.11/site-packages/sklearn/linear_model/_logistic.py:1256: FutureWarning: 'multi_class' was deprecated in version 1.5 and will be removed in 1.7. Use OneVsRestClassifier(LogisticRegression(..)) instead. Leave it to its default value to avoid this warning.\n",
      "  warnings.warn(\n",
      "/Users/seankang/anaconda3/envs/Assignment3/lib/python3.11/site-packages/sklearn/linear_model/_logistic.py:1256: FutureWarning: 'multi_class' was deprecated in version 1.5 and will be removed in 1.7. Use OneVsRestClassifier(LogisticRegression(..)) instead. Leave it to its default value to avoid this warning.\n",
      "  warnings.warn(\n",
      "/Users/seankang/anaconda3/envs/Assignment3/lib/python3.11/site-packages/sklearn/linear_model/_logistic.py:1256: FutureWarning: 'multi_class' was deprecated in version 1.5 and will be removed in 1.7. Use OneVsRestClassifier(LogisticRegression(..)) instead. Leave it to its default value to avoid this warning.\n",
      "  warnings.warn(\n",
      "/Users/seankang/anaconda3/envs/Assignment3/lib/python3.11/site-packages/sklearn/linear_model/_logistic.py:1256: FutureWarning: 'multi_class' was deprecated in version 1.5 and will be removed in 1.7. Use OneVsRestClassifier(LogisticRegression(..)) instead. Leave it to its default value to avoid this warning.\n",
      "  warnings.warn(\n",
      "/Users/seankang/anaconda3/envs/Assignment3/lib/python3.11/site-packages/sklearn/linear_model/_logistic.py:1256: FutureWarning: 'multi_class' was deprecated in version 1.5 and will be removed in 1.7. Use OneVsRestClassifier(LogisticRegression(..)) instead. Leave it to its default value to avoid this warning.\n",
      "  warnings.warn(\n",
      "/Users/seankang/anaconda3/envs/Assignment3/lib/python3.11/site-packages/sklearn/linear_model/_logistic.py:1256: FutureWarning: 'multi_class' was deprecated in version 1.5 and will be removed in 1.7. Use OneVsRestClassifier(LogisticRegression(..)) instead. Leave it to its default value to avoid this warning.\n",
      "  warnings.warn(\n",
      "/Users/seankang/anaconda3/envs/Assignment3/lib/python3.11/site-packages/sklearn/linear_model/_logistic.py:1256: FutureWarning: 'multi_class' was deprecated in version 1.5 and will be removed in 1.7. Use OneVsRestClassifier(LogisticRegression(..)) instead. Leave it to its default value to avoid this warning.\n",
      "  warnings.warn(\n",
      "/Users/seankang/anaconda3/envs/Assignment3/lib/python3.11/site-packages/sklearn/linear_model/_logistic.py:1256: FutureWarning: 'multi_class' was deprecated in version 1.5 and will be removed in 1.7. Use OneVsRestClassifier(LogisticRegression(..)) instead. Leave it to its default value to avoid this warning.\n",
      "  warnings.warn(\n",
      "/Users/seankang/anaconda3/envs/Assignment3/lib/python3.11/site-packages/sklearn/linear_model/_logistic.py:1256: FutureWarning: 'multi_class' was deprecated in version 1.5 and will be removed in 1.7. Use OneVsRestClassifier(LogisticRegression(..)) instead. Leave it to its default value to avoid this warning.\n",
      "  warnings.warn(\n",
      "/Users/seankang/anaconda3/envs/Assignment3/lib/python3.11/site-packages/sklearn/linear_model/_logistic.py:1256: FutureWarning: 'multi_class' was deprecated in version 1.5 and will be removed in 1.7. Use OneVsRestClassifier(LogisticRegression(..)) instead. Leave it to its default value to avoid this warning.\n",
      "  warnings.warn(\n",
      "/Users/seankang/anaconda3/envs/Assignment3/lib/python3.11/site-packages/sklearn/linear_model/_logistic.py:1256: FutureWarning: 'multi_class' was deprecated in version 1.5 and will be removed in 1.7. Use OneVsRestClassifier(LogisticRegression(..)) instead. Leave it to its default value to avoid this warning.\n",
      "  warnings.warn(\n",
      "/Users/seankang/anaconda3/envs/Assignment3/lib/python3.11/site-packages/sklearn/linear_model/_logistic.py:1256: FutureWarning: 'multi_class' was deprecated in version 1.5 and will be removed in 1.7. Use OneVsRestClassifier(LogisticRegression(..)) instead. Leave it to its default value to avoid this warning.\n",
      "  warnings.warn(\n",
      "/Users/seankang/anaconda3/envs/Assignment3/lib/python3.11/site-packages/sklearn/linear_model/_logistic.py:1256: FutureWarning: 'multi_class' was deprecated in version 1.5 and will be removed in 1.7. Use OneVsRestClassifier(LogisticRegression(..)) instead. Leave it to its default value to avoid this warning.\n",
      "  warnings.warn(\n",
      "/Users/seankang/anaconda3/envs/Assignment3/lib/python3.11/site-packages/sklearn/linear_model/_logistic.py:1256: FutureWarning: 'multi_class' was deprecated in version 1.5 and will be removed in 1.7. Use OneVsRestClassifier(LogisticRegression(..)) instead. Leave it to its default value to avoid this warning.\n",
      "  warnings.warn(\n",
      "/Users/seankang/anaconda3/envs/Assignment3/lib/python3.11/site-packages/sklearn/linear_model/_logistic.py:1256: FutureWarning: 'multi_class' was deprecated in version 1.5 and will be removed in 1.7. Use OneVsRestClassifier(LogisticRegression(..)) instead. Leave it to its default value to avoid this warning.\n",
      "  warnings.warn(\n",
      "/Users/seankang/anaconda3/envs/Assignment3/lib/python3.11/site-packages/sklearn/linear_model/_logistic.py:1247: FutureWarning: 'multi_class' was deprecated in version 1.5 and will be removed in 1.7. From then on, it will always use 'multinomial'. Leave it to its default value to avoid this warning.\n",
      "  warnings.warn(\n",
      "/Users/seankang/anaconda3/envs/Assignment3/lib/python3.11/site-packages/sklearn/linear_model/_logistic.py:1247: FutureWarning: 'multi_class' was deprecated in version 1.5 and will be removed in 1.7. From then on, it will always use 'multinomial'. Leave it to its default value to avoid this warning.\n",
      "  warnings.warn(\n",
      "/Users/seankang/anaconda3/envs/Assignment3/lib/python3.11/site-packages/sklearn/linear_model/_logistic.py:1247: FutureWarning: 'multi_class' was deprecated in version 1.5 and will be removed in 1.7. From then on, it will always use 'multinomial'. Leave it to its default value to avoid this warning.\n",
      "  warnings.warn(\n",
      "/Users/seankang/anaconda3/envs/Assignment3/lib/python3.11/site-packages/sklearn/linear_model/_logistic.py:1247: FutureWarning: 'multi_class' was deprecated in version 1.5 and will be removed in 1.7. From then on, it will always use 'multinomial'. Leave it to its default value to avoid this warning.\n",
      "  warnings.warn(\n",
      "/Users/seankang/anaconda3/envs/Assignment3/lib/python3.11/site-packages/sklearn/linear_model/_logistic.py:1247: FutureWarning: 'multi_class' was deprecated in version 1.5 and will be removed in 1.7. From then on, it will always use 'multinomial'. Leave it to its default value to avoid this warning.\n",
      "  warnings.warn(\n",
      "/Users/seankang/anaconda3/envs/Assignment3/lib/python3.11/site-packages/sklearn/linear_model/_logistic.py:1247: FutureWarning: 'multi_class' was deprecated in version 1.5 and will be removed in 1.7. From then on, it will always use 'multinomial'. Leave it to its default value to avoid this warning.\n",
      "  warnings.warn(\n",
      "/Users/seankang/anaconda3/envs/Assignment3/lib/python3.11/site-packages/sklearn/linear_model/_logistic.py:1247: FutureWarning: 'multi_class' was deprecated in version 1.5 and will be removed in 1.7. From then on, it will always use 'multinomial'. Leave it to its default value to avoid this warning.\n",
      "  warnings.warn(\n",
      "/Users/seankang/anaconda3/envs/Assignment3/lib/python3.11/site-packages/sklearn/linear_model/_logistic.py:1247: FutureWarning: 'multi_class' was deprecated in version 1.5 and will be removed in 1.7. From then on, it will always use 'multinomial'. Leave it to its default value to avoid this warning.\n",
      "  warnings.warn(\n",
      "/Users/seankang/anaconda3/envs/Assignment3/lib/python3.11/site-packages/sklearn/linear_model/_logistic.py:1247: FutureWarning: 'multi_class' was deprecated in version 1.5 and will be removed in 1.7. From then on, it will always use 'multinomial'. Leave it to its default value to avoid this warning.\n",
      "  warnings.warn(\n",
      "/Users/seankang/anaconda3/envs/Assignment3/lib/python3.11/site-packages/sklearn/linear_model/_logistic.py:1247: FutureWarning: 'multi_class' was deprecated in version 1.5 and will be removed in 1.7. From then on, it will always use 'multinomial'. Leave it to its default value to avoid this warning.\n",
      "  warnings.warn(\n",
      "/Users/seankang/anaconda3/envs/Assignment3/lib/python3.11/site-packages/sklearn/linear_model/_logistic.py:1247: FutureWarning: 'multi_class' was deprecated in version 1.5 and will be removed in 1.7. From then on, it will always use 'multinomial'. Leave it to its default value to avoid this warning.\n",
      "  warnings.warn(\n",
      "/Users/seankang/anaconda3/envs/Assignment3/lib/python3.11/site-packages/sklearn/linear_model/_logistic.py:1247: FutureWarning: 'multi_class' was deprecated in version 1.5 and will be removed in 1.7. From then on, it will always use 'multinomial'. Leave it to its default value to avoid this warning.\n",
      "  warnings.warn(\n",
      "/Users/seankang/anaconda3/envs/Assignment3/lib/python3.11/site-packages/sklearn/linear_model/_logistic.py:1247: FutureWarning: 'multi_class' was deprecated in version 1.5 and will be removed in 1.7. From then on, it will always use 'multinomial'. Leave it to its default value to avoid this warning.\n",
      "  warnings.warn(\n",
      "/Users/seankang/anaconda3/envs/Assignment3/lib/python3.11/site-packages/sklearn/linear_model/_logistic.py:1247: FutureWarning: 'multi_class' was deprecated in version 1.5 and will be removed in 1.7. From then on, it will always use 'multinomial'. Leave it to its default value to avoid this warning.\n",
      "  warnings.warn(\n",
      "/Users/seankang/anaconda3/envs/Assignment3/lib/python3.11/site-packages/sklearn/linear_model/_logistic.py:1247: FutureWarning: 'multi_class' was deprecated in version 1.5 and will be removed in 1.7. From then on, it will always use 'multinomial'. Leave it to its default value to avoid this warning.\n",
      "  warnings.warn(\n",
      "/Users/seankang/anaconda3/envs/Assignment3/lib/python3.11/site-packages/sklearn/linear_model/_logistic.py:1247: FutureWarning: 'multi_class' was deprecated in version 1.5 and will be removed in 1.7. From then on, it will always use 'multinomial'. Leave it to its default value to avoid this warning.\n",
      "  warnings.warn(\n",
      "/Users/seankang/anaconda3/envs/Assignment3/lib/python3.11/site-packages/sklearn/linear_model/_logistic.py:1247: FutureWarning: 'multi_class' was deprecated in version 1.5 and will be removed in 1.7. From then on, it will always use 'multinomial'. Leave it to its default value to avoid this warning.\n",
      "  warnings.warn(\n",
      "/Users/seankang/anaconda3/envs/Assignment3/lib/python3.11/site-packages/sklearn/linear_model/_logistic.py:1247: FutureWarning: 'multi_class' was deprecated in version 1.5 and will be removed in 1.7. From then on, it will always use 'multinomial'. Leave it to its default value to avoid this warning.\n",
      "  warnings.warn(\n",
      "/Users/seankang/anaconda3/envs/Assignment3/lib/python3.11/site-packages/sklearn/linear_model/_logistic.py:1247: FutureWarning: 'multi_class' was deprecated in version 1.5 and will be removed in 1.7. From then on, it will always use 'multinomial'. Leave it to its default value to avoid this warning.\n",
      "  warnings.warn(\n",
      "/Users/seankang/anaconda3/envs/Assignment3/lib/python3.11/site-packages/sklearn/linear_model/_logistic.py:1247: FutureWarning: 'multi_class' was deprecated in version 1.5 and will be removed in 1.7. From then on, it will always use 'multinomial'. Leave it to its default value to avoid this warning.\n",
      "  warnings.warn(\n",
      "/Users/seankang/anaconda3/envs/Assignment3/lib/python3.11/site-packages/sklearn/linear_model/_logistic.py:1247: FutureWarning: 'multi_class' was deprecated in version 1.5 and will be removed in 1.7. From then on, it will always use 'multinomial'. Leave it to its default value to avoid this warning.\n",
      "  warnings.warn(\n",
      "/Users/seankang/anaconda3/envs/Assignment3/lib/python3.11/site-packages/sklearn/linear_model/_logistic.py:1247: FutureWarning: 'multi_class' was deprecated in version 1.5 and will be removed in 1.7. From then on, it will always use 'multinomial'. Leave it to its default value to avoid this warning.\n",
      "  warnings.warn(\n",
      "/Users/seankang/anaconda3/envs/Assignment3/lib/python3.11/site-packages/sklearn/linear_model/_logistic.py:1247: FutureWarning: 'multi_class' was deprecated in version 1.5 and will be removed in 1.7. From then on, it will always use 'multinomial'. Leave it to its default value to avoid this warning.\n",
      "  warnings.warn(\n",
      "/Users/seankang/anaconda3/envs/Assignment3/lib/python3.11/site-packages/sklearn/linear_model/_logistic.py:1247: FutureWarning: 'multi_class' was deprecated in version 1.5 and will be removed in 1.7. From then on, it will always use 'multinomial'. Leave it to its default value to avoid this warning.\n",
      "  warnings.warn(\n",
      "/Users/seankang/anaconda3/envs/Assignment3/lib/python3.11/site-packages/sklearn/linear_model/_logistic.py:1247: FutureWarning: 'multi_class' was deprecated in version 1.5 and will be removed in 1.7. From then on, it will always use 'multinomial'. Leave it to its default value to avoid this warning.\n",
      "  warnings.warn(\n",
      "/Users/seankang/anaconda3/envs/Assignment3/lib/python3.11/site-packages/sklearn/linear_model/_logistic.py:1247: FutureWarning: 'multi_class' was deprecated in version 1.5 and will be removed in 1.7. From then on, it will always use 'multinomial'. Leave it to its default value to avoid this warning.\n",
      "  warnings.warn(\n",
      "/Users/seankang/anaconda3/envs/Assignment3/lib/python3.11/site-packages/sklearn/linear_model/_logistic.py:1247: FutureWarning: 'multi_class' was deprecated in version 1.5 and will be removed in 1.7. From then on, it will always use 'multinomial'. Leave it to its default value to avoid this warning.\n",
      "  warnings.warn(\n",
      "/Users/seankang/anaconda3/envs/Assignment3/lib/python3.11/site-packages/sklearn/linear_model/_logistic.py:1247: FutureWarning: 'multi_class' was deprecated in version 1.5 and will be removed in 1.7. From then on, it will always use 'multinomial'. Leave it to its default value to avoid this warning.\n",
      "  warnings.warn(\n",
      "/Users/seankang/anaconda3/envs/Assignment3/lib/python3.11/site-packages/sklearn/linear_model/_logistic.py:1247: FutureWarning: 'multi_class' was deprecated in version 1.5 and will be removed in 1.7. From then on, it will always use 'multinomial'. Leave it to its default value to avoid this warning.\n",
      "  warnings.warn(\n",
      "/Users/seankang/anaconda3/envs/Assignment3/lib/python3.11/site-packages/sklearn/linear_model/_logistic.py:1247: FutureWarning: 'multi_class' was deprecated in version 1.5 and will be removed in 1.7. From then on, it will always use 'multinomial'. Leave it to its default value to avoid this warning.\n",
      "  warnings.warn(\n",
      "/Users/seankang/anaconda3/envs/Assignment3/lib/python3.11/site-packages/sklearn/linear_model/_logistic.py:1247: FutureWarning: 'multi_class' was deprecated in version 1.5 and will be removed in 1.7. From then on, it will always use 'multinomial'. Leave it to its default value to avoid this warning.\n",
      "  warnings.warn(\n",
      "/Users/seankang/anaconda3/envs/Assignment3/lib/python3.11/site-packages/sklearn/linear_model/_logistic.py:1247: FutureWarning: 'multi_class' was deprecated in version 1.5 and will be removed in 1.7. From then on, it will always use 'multinomial'. Leave it to its default value to avoid this warning.\n",
      "  warnings.warn(\n",
      "/Users/seankang/anaconda3/envs/Assignment3/lib/python3.11/site-packages/sklearn/linear_model/_logistic.py:1247: FutureWarning: 'multi_class' was deprecated in version 1.5 and will be removed in 1.7. From then on, it will always use 'multinomial'. Leave it to its default value to avoid this warning.\n",
      "  warnings.warn(\n",
      "/Users/seankang/anaconda3/envs/Assignment3/lib/python3.11/site-packages/sklearn/linear_model/_logistic.py:1247: FutureWarning: 'multi_class' was deprecated in version 1.5 and will be removed in 1.7. From then on, it will always use 'multinomial'. Leave it to its default value to avoid this warning.\n",
      "  warnings.warn(\n",
      "/Users/seankang/anaconda3/envs/Assignment3/lib/python3.11/site-packages/sklearn/linear_model/_logistic.py:1247: FutureWarning: 'multi_class' was deprecated in version 1.5 and will be removed in 1.7. From then on, it will always use 'multinomial'. Leave it to its default value to avoid this warning.\n",
      "  warnings.warn(\n",
      "/Users/seankang/anaconda3/envs/Assignment3/lib/python3.11/site-packages/sklearn/linear_model/_logistic.py:1247: FutureWarning: 'multi_class' was deprecated in version 1.5 and will be removed in 1.7. From then on, it will always use 'multinomial'. Leave it to its default value to avoid this warning.\n",
      "  warnings.warn(\n",
      "/Users/seankang/anaconda3/envs/Assignment3/lib/python3.11/site-packages/sklearn/linear_model/_logistic.py:1247: FutureWarning: 'multi_class' was deprecated in version 1.5 and will be removed in 1.7. From then on, it will always use 'multinomial'. Leave it to its default value to avoid this warning.\n",
      "  warnings.warn(\n",
      "/Users/seankang/anaconda3/envs/Assignment3/lib/python3.11/site-packages/sklearn/linear_model/_logistic.py:1247: FutureWarning: 'multi_class' was deprecated in version 1.5 and will be removed in 1.7. From then on, it will always use 'multinomial'. Leave it to its default value to avoid this warning.\n",
      "  warnings.warn(\n",
      "/Users/seankang/anaconda3/envs/Assignment3/lib/python3.11/site-packages/sklearn/linear_model/_logistic.py:1247: FutureWarning: 'multi_class' was deprecated in version 1.5 and will be removed in 1.7. From then on, it will always use 'multinomial'. Leave it to its default value to avoid this warning.\n",
      "  warnings.warn(\n",
      "/Users/seankang/anaconda3/envs/Assignment3/lib/python3.11/site-packages/sklearn/linear_model/_logistic.py:1247: FutureWarning: 'multi_class' was deprecated in version 1.5 and will be removed in 1.7. From then on, it will always use 'multinomial'. Leave it to its default value to avoid this warning.\n",
      "  warnings.warn(\n",
      "/Users/seankang/anaconda3/envs/Assignment3/lib/python3.11/site-packages/sklearn/linear_model/_logistic.py:1247: FutureWarning: 'multi_class' was deprecated in version 1.5 and will be removed in 1.7. From then on, it will always use 'multinomial'. Leave it to its default value to avoid this warning.\n",
      "  warnings.warn(\n",
      "/Users/seankang/anaconda3/envs/Assignment3/lib/python3.11/site-packages/sklearn/linear_model/_logistic.py:1247: FutureWarning: 'multi_class' was deprecated in version 1.5 and will be removed in 1.7. From then on, it will always use 'multinomial'. Leave it to its default value to avoid this warning.\n",
      "  warnings.warn(\n",
      "/Users/seankang/anaconda3/envs/Assignment3/lib/python3.11/site-packages/sklearn/linear_model/_logistic.py:1247: FutureWarning: 'multi_class' was deprecated in version 1.5 and will be removed in 1.7. From then on, it will always use 'multinomial'. Leave it to its default value to avoid this warning.\n",
      "  warnings.warn(\n",
      "/Users/seankang/anaconda3/envs/Assignment3/lib/python3.11/site-packages/sklearn/linear_model/_logistic.py:1247: FutureWarning: 'multi_class' was deprecated in version 1.5 and will be removed in 1.7. From then on, it will always use 'multinomial'. Leave it to its default value to avoid this warning.\n",
      "  warnings.warn(\n",
      "/Users/seankang/anaconda3/envs/Assignment3/lib/python3.11/site-packages/sklearn/linear_model/_logistic.py:1247: FutureWarning: 'multi_class' was deprecated in version 1.5 and will be removed in 1.7. From then on, it will always use 'multinomial'. Leave it to its default value to avoid this warning.\n",
      "  warnings.warn(\n",
      "/Users/seankang/anaconda3/envs/Assignment3/lib/python3.11/site-packages/sklearn/linear_model/_logistic.py:1247: FutureWarning: 'multi_class' was deprecated in version 1.5 and will be removed in 1.7. From then on, it will always use 'multinomial'. Leave it to its default value to avoid this warning.\n",
      "  warnings.warn(\n",
      "/Users/seankang/anaconda3/envs/Assignment3/lib/python3.11/site-packages/sklearn/linear_model/_logistic.py:1247: FutureWarning: 'multi_class' was deprecated in version 1.5 and will be removed in 1.7. From then on, it will always use 'multinomial'. Leave it to its default value to avoid this warning.\n",
      "  warnings.warn(\n",
      "/Users/seankang/anaconda3/envs/Assignment3/lib/python3.11/site-packages/sklearn/linear_model/_logistic.py:1247: FutureWarning: 'multi_class' was deprecated in version 1.5 and will be removed in 1.7. From then on, it will always use 'multinomial'. Leave it to its default value to avoid this warning.\n",
      "  warnings.warn(\n",
      "/Users/seankang/anaconda3/envs/Assignment3/lib/python3.11/site-packages/sklearn/linear_model/_logistic.py:1247: FutureWarning: 'multi_class' was deprecated in version 1.5 and will be removed in 1.7. From then on, it will always use 'multinomial'. Leave it to its default value to avoid this warning.\n",
      "  warnings.warn(\n",
      "/Users/seankang/anaconda3/envs/Assignment3/lib/python3.11/site-packages/sklearn/linear_model/_logistic.py:1247: FutureWarning: 'multi_class' was deprecated in version 1.5 and will be removed in 1.7. From then on, it will always use 'multinomial'. Leave it to its default value to avoid this warning.\n",
      "  warnings.warn(\n",
      "/Users/seankang/anaconda3/envs/Assignment3/lib/python3.11/site-packages/sklearn/linear_model/_logistic.py:1247: FutureWarning: 'multi_class' was deprecated in version 1.5 and will be removed in 1.7. From then on, it will always use 'multinomial'. Leave it to its default value to avoid this warning.\n",
      "  warnings.warn(\n",
      "/Users/seankang/anaconda3/envs/Assignment3/lib/python3.11/site-packages/sklearn/linear_model/_logistic.py:1247: FutureWarning: 'multi_class' was deprecated in version 1.5 and will be removed in 1.7. From then on, it will always use 'multinomial'. Leave it to its default value to avoid this warning.\n",
      "  warnings.warn(\n",
      "/Users/seankang/anaconda3/envs/Assignment3/lib/python3.11/site-packages/sklearn/linear_model/_logistic.py:1247: FutureWarning: 'multi_class' was deprecated in version 1.5 and will be removed in 1.7. From then on, it will always use 'multinomial'. Leave it to its default value to avoid this warning.\n",
      "  warnings.warn(\n",
      "/Users/seankang/anaconda3/envs/Assignment3/lib/python3.11/site-packages/sklearn/linear_model/_logistic.py:1247: FutureWarning: 'multi_class' was deprecated in version 1.5 and will be removed in 1.7. From then on, it will always use 'multinomial'. Leave it to its default value to avoid this warning.\n",
      "  warnings.warn(\n",
      "/Users/seankang/anaconda3/envs/Assignment3/lib/python3.11/site-packages/sklearn/linear_model/_logistic.py:1247: FutureWarning: 'multi_class' was deprecated in version 1.5 and will be removed in 1.7. From then on, it will always use 'multinomial'. Leave it to its default value to avoid this warning.\n",
      "  warnings.warn(\n",
      "/Users/seankang/anaconda3/envs/Assignment3/lib/python3.11/site-packages/sklearn/linear_model/_logistic.py:1247: FutureWarning: 'multi_class' was deprecated in version 1.5 and will be removed in 1.7. From then on, it will always use 'multinomial'. Leave it to its default value to avoid this warning.\n",
      "  warnings.warn(\n",
      "/Users/seankang/anaconda3/envs/Assignment3/lib/python3.11/site-packages/sklearn/linear_model/_logistic.py:1247: FutureWarning: 'multi_class' was deprecated in version 1.5 and will be removed in 1.7. From then on, it will always use 'multinomial'. Leave it to its default value to avoid this warning.\n",
      "  warnings.warn(\n",
      "/Users/seankang/anaconda3/envs/Assignment3/lib/python3.11/site-packages/sklearn/linear_model/_logistic.py:1247: FutureWarning: 'multi_class' was deprecated in version 1.5 and will be removed in 1.7. From then on, it will always use 'multinomial'. Leave it to its default value to avoid this warning.\n",
      "  warnings.warn(\n",
      "/Users/seankang/anaconda3/envs/Assignment3/lib/python3.11/site-packages/sklearn/linear_model/_logistic.py:1247: FutureWarning: 'multi_class' was deprecated in version 1.5 and will be removed in 1.7. From then on, it will always use 'multinomial'. Leave it to its default value to avoid this warning.\n",
      "  warnings.warn(\n",
      "/Users/seankang/anaconda3/envs/Assignment3/lib/python3.11/site-packages/sklearn/linear_model/_logistic.py:1247: FutureWarning: 'multi_class' was deprecated in version 1.5 and will be removed in 1.7. From then on, it will always use 'multinomial'. Leave it to its default value to avoid this warning.\n",
      "  warnings.warn(\n",
      "/Users/seankang/anaconda3/envs/Assignment3/lib/python3.11/site-packages/sklearn/linear_model/_logistic.py:1247: FutureWarning: 'multi_class' was deprecated in version 1.5 and will be removed in 1.7. From then on, it will always use 'multinomial'. Leave it to its default value to avoid this warning.\n",
      "  warnings.warn(\n",
      "/Users/seankang/anaconda3/envs/Assignment3/lib/python3.11/site-packages/sklearn/linear_model/_logistic.py:1247: FutureWarning: 'multi_class' was deprecated in version 1.5 and will be removed in 1.7. From then on, it will always use 'multinomial'. Leave it to its default value to avoid this warning.\n",
      "  warnings.warn(\n",
      "/Users/seankang/anaconda3/envs/Assignment3/lib/python3.11/site-packages/sklearn/linear_model/_logistic.py:1247: FutureWarning: 'multi_class' was deprecated in version 1.5 and will be removed in 1.7. From then on, it will always use 'multinomial'. Leave it to its default value to avoid this warning.\n",
      "  warnings.warn(\n",
      "/Users/seankang/anaconda3/envs/Assignment3/lib/python3.11/site-packages/sklearn/linear_model/_logistic.py:1247: FutureWarning: 'multi_class' was deprecated in version 1.5 and will be removed in 1.7. From then on, it will always use 'multinomial'. Leave it to its default value to avoid this warning.\n",
      "  warnings.warn(\n",
      "/Users/seankang/anaconda3/envs/Assignment3/lib/python3.11/site-packages/sklearn/linear_model/_sag.py:349: ConvergenceWarning: The max_iter was reached which means the coef_ did not converge\n",
      "  warnings.warn(\n",
      "/Users/seankang/anaconda3/envs/Assignment3/lib/python3.11/site-packages/sklearn/linear_model/_sag.py:349: ConvergenceWarning: The max_iter was reached which means the coef_ did not converge\n",
      "  warnings.warn(\n",
      "/Users/seankang/anaconda3/envs/Assignment3/lib/python3.11/site-packages/sklearn/linear_model/_logistic.py:1247: FutureWarning: 'multi_class' was deprecated in version 1.5 and will be removed in 1.7. From then on, it will always use 'multinomial'. Leave it to its default value to avoid this warning.\n",
      "  warnings.warn(\n",
      "/Users/seankang/anaconda3/envs/Assignment3/lib/python3.11/site-packages/sklearn/linear_model/_sag.py:349: ConvergenceWarning: The max_iter was reached which means the coef_ did not converge\n",
      "  warnings.warn(\n",
      "/Users/seankang/anaconda3/envs/Assignment3/lib/python3.11/site-packages/sklearn/linear_model/_logistic.py:1247: FutureWarning: 'multi_class' was deprecated in version 1.5 and will be removed in 1.7. From then on, it will always use 'multinomial'. Leave it to its default value to avoid this warning.\n",
      "  warnings.warn(\n",
      "/Users/seankang/anaconda3/envs/Assignment3/lib/python3.11/site-packages/sklearn/linear_model/_logistic.py:1247: FutureWarning: 'multi_class' was deprecated in version 1.5 and will be removed in 1.7. From then on, it will always use 'multinomial'. Leave it to its default value to avoid this warning.\n",
      "  warnings.warn(\n",
      "/Users/seankang/anaconda3/envs/Assignment3/lib/python3.11/site-packages/sklearn/linear_model/_logistic.py:1247: FutureWarning: 'multi_class' was deprecated in version 1.5 and will be removed in 1.7. From then on, it will always use 'multinomial'. Leave it to its default value to avoid this warning.\n",
      "  warnings.warn(\n",
      "/Users/seankang/anaconda3/envs/Assignment3/lib/python3.11/site-packages/sklearn/linear_model/_logistic.py:1247: FutureWarning: 'multi_class' was deprecated in version 1.5 and will be removed in 1.7. From then on, it will always use 'multinomial'. Leave it to its default value to avoid this warning.\n",
      "  warnings.warn(\n",
      "/Users/seankang/anaconda3/envs/Assignment3/lib/python3.11/site-packages/sklearn/linear_model/_sag.py:349: ConvergenceWarning: The max_iter was reached which means the coef_ did not converge\n",
      "  warnings.warn(\n",
      "/Users/seankang/anaconda3/envs/Assignment3/lib/python3.11/site-packages/sklearn/linear_model/_logistic.py:1247: FutureWarning: 'multi_class' was deprecated in version 1.5 and will be removed in 1.7. From then on, it will always use 'multinomial'. Leave it to its default value to avoid this warning.\n",
      "  warnings.warn(\n",
      "/Users/seankang/anaconda3/envs/Assignment3/lib/python3.11/site-packages/sklearn/linear_model/_logistic.py:1247: FutureWarning: 'multi_class' was deprecated in version 1.5 and will be removed in 1.7. From then on, it will always use 'multinomial'. Leave it to its default value to avoid this warning.\n",
      "  warnings.warn(\n",
      "/Users/seankang/anaconda3/envs/Assignment3/lib/python3.11/site-packages/sklearn/linear_model/_sag.py:349: ConvergenceWarning: The max_iter was reached which means the coef_ did not converge\n",
      "  warnings.warn(\n",
      "/Users/seankang/anaconda3/envs/Assignment3/lib/python3.11/site-packages/sklearn/linear_model/_sag.py:349: ConvergenceWarning: The max_iter was reached which means the coef_ did not converge\n",
      "  warnings.warn(\n",
      "/Users/seankang/anaconda3/envs/Assignment3/lib/python3.11/site-packages/sklearn/linear_model/_logistic.py:1247: FutureWarning: 'multi_class' was deprecated in version 1.5 and will be removed in 1.7. From then on, it will always use 'multinomial'. Leave it to its default value to avoid this warning.\n",
      "  warnings.warn(\n",
      "/Users/seankang/anaconda3/envs/Assignment3/lib/python3.11/site-packages/sklearn/linear_model/_logistic.py:1247: FutureWarning: 'multi_class' was deprecated in version 1.5 and will be removed in 1.7. From then on, it will always use 'multinomial'. Leave it to its default value to avoid this warning.\n",
      "  warnings.warn(\n",
      "/Users/seankang/anaconda3/envs/Assignment3/lib/python3.11/site-packages/sklearn/linear_model/_sag.py:349: ConvergenceWarning: The max_iter was reached which means the coef_ did not converge\n",
      "  warnings.warn(\n",
      "/Users/seankang/anaconda3/envs/Assignment3/lib/python3.11/site-packages/sklearn/linear_model/_sag.py:349: ConvergenceWarning: The max_iter was reached which means the coef_ did not converge\n",
      "  warnings.warn(\n",
      "/Users/seankang/anaconda3/envs/Assignment3/lib/python3.11/site-packages/sklearn/linear_model/_sag.py:349: ConvergenceWarning: The max_iter was reached which means the coef_ did not converge\n",
      "  warnings.warn(\n",
      "/Users/seankang/anaconda3/envs/Assignment3/lib/python3.11/site-packages/sklearn/linear_model/_logistic.py:1247: FutureWarning: 'multi_class' was deprecated in version 1.5 and will be removed in 1.7. From then on, it will always use 'multinomial'. Leave it to its default value to avoid this warning.\n",
      "  warnings.warn(\n",
      "/Users/seankang/anaconda3/envs/Assignment3/lib/python3.11/site-packages/sklearn/linear_model/_sag.py:349: ConvergenceWarning: The max_iter was reached which means the coef_ did not converge\n",
      "  warnings.warn(\n",
      "/Users/seankang/anaconda3/envs/Assignment3/lib/python3.11/site-packages/sklearn/linear_model/_logistic.py:1247: FutureWarning: 'multi_class' was deprecated in version 1.5 and will be removed in 1.7. From then on, it will always use 'multinomial'. Leave it to its default value to avoid this warning.\n",
      "  warnings.warn(\n",
      "/Users/seankang/anaconda3/envs/Assignment3/lib/python3.11/site-packages/sklearn/linear_model/_logistic.py:1247: FutureWarning: 'multi_class' was deprecated in version 1.5 and will be removed in 1.7. From then on, it will always use 'multinomial'. Leave it to its default value to avoid this warning.\n",
      "  warnings.warn(\n",
      "/Users/seankang/anaconda3/envs/Assignment3/lib/python3.11/site-packages/sklearn/linear_model/_logistic.py:1247: FutureWarning: 'multi_class' was deprecated in version 1.5 and will be removed in 1.7. From then on, it will always use 'multinomial'. Leave it to its default value to avoid this warning.\n",
      "  warnings.warn(\n",
      "/Users/seankang/anaconda3/envs/Assignment3/lib/python3.11/site-packages/sklearn/linear_model/_sag.py:349: ConvergenceWarning: The max_iter was reached which means the coef_ did not converge\n",
      "  warnings.warn(\n",
      "/Users/seankang/anaconda3/envs/Assignment3/lib/python3.11/site-packages/sklearn/linear_model/_logistic.py:1247: FutureWarning: 'multi_class' was deprecated in version 1.5 and will be removed in 1.7. From then on, it will always use 'multinomial'. Leave it to its default value to avoid this warning.\n",
      "  warnings.warn(\n",
      "/Users/seankang/anaconda3/envs/Assignment3/lib/python3.11/site-packages/sklearn/linear_model/_sag.py:349: ConvergenceWarning: The max_iter was reached which means the coef_ did not converge\n",
      "  warnings.warn(\n",
      "/Users/seankang/anaconda3/envs/Assignment3/lib/python3.11/site-packages/sklearn/linear_model/_logistic.py:1247: FutureWarning: 'multi_class' was deprecated in version 1.5 and will be removed in 1.7. From then on, it will always use 'multinomial'. Leave it to its default value to avoid this warning.\n",
      "  warnings.warn(\n",
      "/Users/seankang/anaconda3/envs/Assignment3/lib/python3.11/site-packages/sklearn/linear_model/_sag.py:349: ConvergenceWarning: The max_iter was reached which means the coef_ did not converge\n",
      "  warnings.warn(\n",
      "/Users/seankang/anaconda3/envs/Assignment3/lib/python3.11/site-packages/sklearn/linear_model/_logistic.py:1247: FutureWarning: 'multi_class' was deprecated in version 1.5 and will be removed in 1.7. From then on, it will always use 'multinomial'. Leave it to its default value to avoid this warning.\n",
      "  warnings.warn(\n",
      "/Users/seankang/anaconda3/envs/Assignment3/lib/python3.11/site-packages/sklearn/linear_model/_sag.py:349: ConvergenceWarning: The max_iter was reached which means the coef_ did not converge\n",
      "  warnings.warn(\n",
      "/Users/seankang/anaconda3/envs/Assignment3/lib/python3.11/site-packages/sklearn/linear_model/_logistic.py:1247: FutureWarning: 'multi_class' was deprecated in version 1.5 and will be removed in 1.7. From then on, it will always use 'multinomial'. Leave it to its default value to avoid this warning.\n",
      "  warnings.warn(\n",
      "/Users/seankang/anaconda3/envs/Assignment3/lib/python3.11/site-packages/sklearn/linear_model/_sag.py:349: ConvergenceWarning: The max_iter was reached which means the coef_ did not converge\n",
      "  warnings.warn(\n",
      "/Users/seankang/anaconda3/envs/Assignment3/lib/python3.11/site-packages/sklearn/linear_model/_sag.py:349: ConvergenceWarning: The max_iter was reached which means the coef_ did not converge\n",
      "  warnings.warn(\n",
      "/Users/seankang/anaconda3/envs/Assignment3/lib/python3.11/site-packages/sklearn/linear_model/_sag.py:349: ConvergenceWarning: The max_iter was reached which means the coef_ did not converge\n",
      "  warnings.warn(\n",
      "/Users/seankang/anaconda3/envs/Assignment3/lib/python3.11/site-packages/sklearn/linear_model/_logistic.py:1247: FutureWarning: 'multi_class' was deprecated in version 1.5 and will be removed in 1.7. From then on, it will always use 'multinomial'. Leave it to its default value to avoid this warning.\n",
      "  warnings.warn(\n",
      "/Users/seankang/anaconda3/envs/Assignment3/lib/python3.11/site-packages/sklearn/linear_model/_sag.py:349: ConvergenceWarning: The max_iter was reached which means the coef_ did not converge\n",
      "  warnings.warn(\n",
      "/Users/seankang/anaconda3/envs/Assignment3/lib/python3.11/site-packages/sklearn/linear_model/_sag.py:349: ConvergenceWarning: The max_iter was reached which means the coef_ did not converge\n",
      "  warnings.warn(\n",
      "/Users/seankang/anaconda3/envs/Assignment3/lib/python3.11/site-packages/sklearn/linear_model/_logistic.py:1247: FutureWarning: 'multi_class' was deprecated in version 1.5 and will be removed in 1.7. From then on, it will always use 'multinomial'. Leave it to its default value to avoid this warning.\n",
      "  warnings.warn(\n",
      "/Users/seankang/anaconda3/envs/Assignment3/lib/python3.11/site-packages/sklearn/linear_model/_logistic.py:1247: FutureWarning: 'multi_class' was deprecated in version 1.5 and will be removed in 1.7. From then on, it will always use 'multinomial'. Leave it to its default value to avoid this warning.\n",
      "  warnings.warn(\n",
      "/Users/seankang/anaconda3/envs/Assignment3/lib/python3.11/site-packages/sklearn/linear_model/_logistic.py:1247: FutureWarning: 'multi_class' was deprecated in version 1.5 and will be removed in 1.7. From then on, it will always use 'multinomial'. Leave it to its default value to avoid this warning.\n",
      "  warnings.warn(\n",
      "/Users/seankang/anaconda3/envs/Assignment3/lib/python3.11/site-packages/sklearn/linear_model/_sag.py:349: ConvergenceWarning: The max_iter was reached which means the coef_ did not converge\n",
      "  warnings.warn(\n",
      "/Users/seankang/anaconda3/envs/Assignment3/lib/python3.11/site-packages/sklearn/linear_model/_sag.py:349: ConvergenceWarning: The max_iter was reached which means the coef_ did not converge\n",
      "  warnings.warn(\n",
      "/Users/seankang/anaconda3/envs/Assignment3/lib/python3.11/site-packages/sklearn/linear_model/_sag.py:349: ConvergenceWarning: The max_iter was reached which means the coef_ did not converge\n",
      "  warnings.warn(\n",
      "/Users/seankang/anaconda3/envs/Assignment3/lib/python3.11/site-packages/sklearn/linear_model/_logistic.py:1247: FutureWarning: 'multi_class' was deprecated in version 1.5 and will be removed in 1.7. From then on, it will always use 'multinomial'. Leave it to its default value to avoid this warning.\n",
      "  warnings.warn(\n",
      "/Users/seankang/anaconda3/envs/Assignment3/lib/python3.11/site-packages/sklearn/linear_model/_logistic.py:1247: FutureWarning: 'multi_class' was deprecated in version 1.5 and will be removed in 1.7. From then on, it will always use 'multinomial'. Leave it to its default value to avoid this warning.\n",
      "  warnings.warn(\n",
      "/Users/seankang/anaconda3/envs/Assignment3/lib/python3.11/site-packages/sklearn/linear_model/_logistic.py:1247: FutureWarning: 'multi_class' was deprecated in version 1.5 and will be removed in 1.7. From then on, it will always use 'multinomial'. Leave it to its default value to avoid this warning.\n",
      "  warnings.warn(\n",
      "/Users/seankang/anaconda3/envs/Assignment3/lib/python3.11/site-packages/sklearn/linear_model/_logistic.py:1247: FutureWarning: 'multi_class' was deprecated in version 1.5 and will be removed in 1.7. From then on, it will always use 'multinomial'. Leave it to its default value to avoid this warning.\n",
      "  warnings.warn(\n",
      "/Users/seankang/anaconda3/envs/Assignment3/lib/python3.11/site-packages/sklearn/linear_model/_sag.py:349: ConvergenceWarning: The max_iter was reached which means the coef_ did not converge\n",
      "  warnings.warn(\n",
      "/Users/seankang/anaconda3/envs/Assignment3/lib/python3.11/site-packages/sklearn/linear_model/_sag.py:349: ConvergenceWarning: The max_iter was reached which means the coef_ did not converge\n",
      "  warnings.warn(\n",
      "/Users/seankang/anaconda3/envs/Assignment3/lib/python3.11/site-packages/sklearn/linear_model/_logistic.py:1247: FutureWarning: 'multi_class' was deprecated in version 1.5 and will be removed in 1.7. From then on, it will always use 'multinomial'. Leave it to its default value to avoid this warning.\n",
      "  warnings.warn(\n",
      "/Users/seankang/anaconda3/envs/Assignment3/lib/python3.11/site-packages/sklearn/linear_model/_sag.py:349: ConvergenceWarning: The max_iter was reached which means the coef_ did not converge\n",
      "  warnings.warn(\n",
      "/Users/seankang/anaconda3/envs/Assignment3/lib/python3.11/site-packages/sklearn/linear_model/_sag.py:349: ConvergenceWarning: The max_iter was reached which means the coef_ did not converge\n",
      "  warnings.warn(\n",
      "/Users/seankang/anaconda3/envs/Assignment3/lib/python3.11/site-packages/sklearn/linear_model/_sag.py:349: ConvergenceWarning: The max_iter was reached which means the coef_ did not converge\n",
      "  warnings.warn(\n",
      "/Users/seankang/anaconda3/envs/Assignment3/lib/python3.11/site-packages/sklearn/linear_model/_sag.py:349: ConvergenceWarning: The max_iter was reached which means the coef_ did not converge\n",
      "  warnings.warn(\n",
      "/Users/seankang/anaconda3/envs/Assignment3/lib/python3.11/site-packages/sklearn/linear_model/_sag.py:349: ConvergenceWarning: The max_iter was reached which means the coef_ did not converge\n",
      "  warnings.warn(\n",
      "/Users/seankang/anaconda3/envs/Assignment3/lib/python3.11/site-packages/sklearn/linear_model/_sag.py:349: ConvergenceWarning: The max_iter was reached which means the coef_ did not converge\n",
      "  warnings.warn(\n"
     ]
    },
    {
     "data": {
      "application/vnd.plotly.v1+json": {
       "config": {
        "plotlyServerURL": "https://plot.ly"
       },
       "data": [
        {
         "name": "Scores",
         "type": "bar",
         "x": [
          "simple",
          "ovr",
          "newton-cg",
          "lbfgs",
          "sag"
         ],
         "y": [
          0.8133333333333334,
          0.8000000000000002,
          0.8133333333333334,
          0.8133333333333334,
          0.8022222222222223
         ]
        }
       ],
       "layout": {
        "template": {
         "data": {
          "bar": [
           {
            "error_x": {
             "color": "#2a3f5f"
            },
            "error_y": {
             "color": "#2a3f5f"
            },
            "marker": {
             "line": {
              "color": "#E5ECF6",
              "width": 0.5
             },
             "pattern": {
              "fillmode": "overlay",
              "size": 10,
              "solidity": 0.2
             }
            },
            "type": "bar"
           }
          ],
          "barpolar": [
           {
            "marker": {
             "line": {
              "color": "#E5ECF6",
              "width": 0.5
             },
             "pattern": {
              "fillmode": "overlay",
              "size": 10,
              "solidity": 0.2
             }
            },
            "type": "barpolar"
           }
          ],
          "carpet": [
           {
            "aaxis": {
             "endlinecolor": "#2a3f5f",
             "gridcolor": "white",
             "linecolor": "white",
             "minorgridcolor": "white",
             "startlinecolor": "#2a3f5f"
            },
            "baxis": {
             "endlinecolor": "#2a3f5f",
             "gridcolor": "white",
             "linecolor": "white",
             "minorgridcolor": "white",
             "startlinecolor": "#2a3f5f"
            },
            "type": "carpet"
           }
          ],
          "choropleth": [
           {
            "colorbar": {
             "outlinewidth": 0,
             "ticks": ""
            },
            "type": "choropleth"
           }
          ],
          "contour": [
           {
            "colorbar": {
             "outlinewidth": 0,
             "ticks": ""
            },
            "colorscale": [
             [
              0,
              "#0d0887"
             ],
             [
              0.1111111111111111,
              "#46039f"
             ],
             [
              0.2222222222222222,
              "#7201a8"
             ],
             [
              0.3333333333333333,
              "#9c179e"
             ],
             [
              0.4444444444444444,
              "#bd3786"
             ],
             [
              0.5555555555555556,
              "#d8576b"
             ],
             [
              0.6666666666666666,
              "#ed7953"
             ],
             [
              0.7777777777777778,
              "#fb9f3a"
             ],
             [
              0.8888888888888888,
              "#fdca26"
             ],
             [
              1,
              "#f0f921"
             ]
            ],
            "type": "contour"
           }
          ],
          "contourcarpet": [
           {
            "colorbar": {
             "outlinewidth": 0,
             "ticks": ""
            },
            "type": "contourcarpet"
           }
          ],
          "heatmap": [
           {
            "colorbar": {
             "outlinewidth": 0,
             "ticks": ""
            },
            "colorscale": [
             [
              0,
              "#0d0887"
             ],
             [
              0.1111111111111111,
              "#46039f"
             ],
             [
              0.2222222222222222,
              "#7201a8"
             ],
             [
              0.3333333333333333,
              "#9c179e"
             ],
             [
              0.4444444444444444,
              "#bd3786"
             ],
             [
              0.5555555555555556,
              "#d8576b"
             ],
             [
              0.6666666666666666,
              "#ed7953"
             ],
             [
              0.7777777777777778,
              "#fb9f3a"
             ],
             [
              0.8888888888888888,
              "#fdca26"
             ],
             [
              1,
              "#f0f921"
             ]
            ],
            "type": "heatmap"
           }
          ],
          "heatmapgl": [
           {
            "colorbar": {
             "outlinewidth": 0,
             "ticks": ""
            },
            "colorscale": [
             [
              0,
              "#0d0887"
             ],
             [
              0.1111111111111111,
              "#46039f"
             ],
             [
              0.2222222222222222,
              "#7201a8"
             ],
             [
              0.3333333333333333,
              "#9c179e"
             ],
             [
              0.4444444444444444,
              "#bd3786"
             ],
             [
              0.5555555555555556,
              "#d8576b"
             ],
             [
              0.6666666666666666,
              "#ed7953"
             ],
             [
              0.7777777777777778,
              "#fb9f3a"
             ],
             [
              0.8888888888888888,
              "#fdca26"
             ],
             [
              1,
              "#f0f921"
             ]
            ],
            "type": "heatmapgl"
           }
          ],
          "histogram": [
           {
            "marker": {
             "pattern": {
              "fillmode": "overlay",
              "size": 10,
              "solidity": 0.2
             }
            },
            "type": "histogram"
           }
          ],
          "histogram2d": [
           {
            "colorbar": {
             "outlinewidth": 0,
             "ticks": ""
            },
            "colorscale": [
             [
              0,
              "#0d0887"
             ],
             [
              0.1111111111111111,
              "#46039f"
             ],
             [
              0.2222222222222222,
              "#7201a8"
             ],
             [
              0.3333333333333333,
              "#9c179e"
             ],
             [
              0.4444444444444444,
              "#bd3786"
             ],
             [
              0.5555555555555556,
              "#d8576b"
             ],
             [
              0.6666666666666666,
              "#ed7953"
             ],
             [
              0.7777777777777778,
              "#fb9f3a"
             ],
             [
              0.8888888888888888,
              "#fdca26"
             ],
             [
              1,
              "#f0f921"
             ]
            ],
            "type": "histogram2d"
           }
          ],
          "histogram2dcontour": [
           {
            "colorbar": {
             "outlinewidth": 0,
             "ticks": ""
            },
            "colorscale": [
             [
              0,
              "#0d0887"
             ],
             [
              0.1111111111111111,
              "#46039f"
             ],
             [
              0.2222222222222222,
              "#7201a8"
             ],
             [
              0.3333333333333333,
              "#9c179e"
             ],
             [
              0.4444444444444444,
              "#bd3786"
             ],
             [
              0.5555555555555556,
              "#d8576b"
             ],
             [
              0.6666666666666666,
              "#ed7953"
             ],
             [
              0.7777777777777778,
              "#fb9f3a"
             ],
             [
              0.8888888888888888,
              "#fdca26"
             ],
             [
              1,
              "#f0f921"
             ]
            ],
            "type": "histogram2dcontour"
           }
          ],
          "mesh3d": [
           {
            "colorbar": {
             "outlinewidth": 0,
             "ticks": ""
            },
            "type": "mesh3d"
           }
          ],
          "parcoords": [
           {
            "line": {
             "colorbar": {
              "outlinewidth": 0,
              "ticks": ""
             }
            },
            "type": "parcoords"
           }
          ],
          "pie": [
           {
            "automargin": true,
            "type": "pie"
           }
          ],
          "scatter": [
           {
            "fillpattern": {
             "fillmode": "overlay",
             "size": 10,
             "solidity": 0.2
            },
            "type": "scatter"
           }
          ],
          "scatter3d": [
           {
            "line": {
             "colorbar": {
              "outlinewidth": 0,
              "ticks": ""
             }
            },
            "marker": {
             "colorbar": {
              "outlinewidth": 0,
              "ticks": ""
             }
            },
            "type": "scatter3d"
           }
          ],
          "scattercarpet": [
           {
            "marker": {
             "colorbar": {
              "outlinewidth": 0,
              "ticks": ""
             }
            },
            "type": "scattercarpet"
           }
          ],
          "scattergeo": [
           {
            "marker": {
             "colorbar": {
              "outlinewidth": 0,
              "ticks": ""
             }
            },
            "type": "scattergeo"
           }
          ],
          "scattergl": [
           {
            "marker": {
             "colorbar": {
              "outlinewidth": 0,
              "ticks": ""
             }
            },
            "type": "scattergl"
           }
          ],
          "scattermapbox": [
           {
            "marker": {
             "colorbar": {
              "outlinewidth": 0,
              "ticks": ""
             }
            },
            "type": "scattermapbox"
           }
          ],
          "scatterpolar": [
           {
            "marker": {
             "colorbar": {
              "outlinewidth": 0,
              "ticks": ""
             }
            },
            "type": "scatterpolar"
           }
          ],
          "scatterpolargl": [
           {
            "marker": {
             "colorbar": {
              "outlinewidth": 0,
              "ticks": ""
             }
            },
            "type": "scatterpolargl"
           }
          ],
          "scatterternary": [
           {
            "marker": {
             "colorbar": {
              "outlinewidth": 0,
              "ticks": ""
             }
            },
            "type": "scatterternary"
           }
          ],
          "surface": [
           {
            "colorbar": {
             "outlinewidth": 0,
             "ticks": ""
            },
            "colorscale": [
             [
              0,
              "#0d0887"
             ],
             [
              0.1111111111111111,
              "#46039f"
             ],
             [
              0.2222222222222222,
              "#7201a8"
             ],
             [
              0.3333333333333333,
              "#9c179e"
             ],
             [
              0.4444444444444444,
              "#bd3786"
             ],
             [
              0.5555555555555556,
              "#d8576b"
             ],
             [
              0.6666666666666666,
              "#ed7953"
             ],
             [
              0.7777777777777778,
              "#fb9f3a"
             ],
             [
              0.8888888888888888,
              "#fdca26"
             ],
             [
              1,
              "#f0f921"
             ]
            ],
            "type": "surface"
           }
          ],
          "table": [
           {
            "cells": {
             "fill": {
              "color": "#EBF0F8"
             },
             "line": {
              "color": "white"
             }
            },
            "header": {
             "fill": {
              "color": "#C8D4E3"
             },
             "line": {
              "color": "white"
             }
            },
            "type": "table"
           }
          ]
         },
         "layout": {
          "annotationdefaults": {
           "arrowcolor": "#2a3f5f",
           "arrowhead": 0,
           "arrowwidth": 1
          },
          "autotypenumbers": "strict",
          "coloraxis": {
           "colorbar": {
            "outlinewidth": 0,
            "ticks": ""
           }
          },
          "colorscale": {
           "diverging": [
            [
             0,
             "#8e0152"
            ],
            [
             0.1,
             "#c51b7d"
            ],
            [
             0.2,
             "#de77ae"
            ],
            [
             0.3,
             "#f1b6da"
            ],
            [
             0.4,
             "#fde0ef"
            ],
            [
             0.5,
             "#f7f7f7"
            ],
            [
             0.6,
             "#e6f5d0"
            ],
            [
             0.7,
             "#b8e186"
            ],
            [
             0.8,
             "#7fbc41"
            ],
            [
             0.9,
             "#4d9221"
            ],
            [
             1,
             "#276419"
            ]
           ],
           "sequential": [
            [
             0,
             "#0d0887"
            ],
            [
             0.1111111111111111,
             "#46039f"
            ],
            [
             0.2222222222222222,
             "#7201a8"
            ],
            [
             0.3333333333333333,
             "#9c179e"
            ],
            [
             0.4444444444444444,
             "#bd3786"
            ],
            [
             0.5555555555555556,
             "#d8576b"
            ],
            [
             0.6666666666666666,
             "#ed7953"
            ],
            [
             0.7777777777777778,
             "#fb9f3a"
            ],
            [
             0.8888888888888888,
             "#fdca26"
            ],
            [
             1,
             "#f0f921"
            ]
           ],
           "sequentialminus": [
            [
             0,
             "#0d0887"
            ],
            [
             0.1111111111111111,
             "#46039f"
            ],
            [
             0.2222222222222222,
             "#7201a8"
            ],
            [
             0.3333333333333333,
             "#9c179e"
            ],
            [
             0.4444444444444444,
             "#bd3786"
            ],
            [
             0.5555555555555556,
             "#d8576b"
            ],
            [
             0.6666666666666666,
             "#ed7953"
            ],
            [
             0.7777777777777778,
             "#fb9f3a"
            ],
            [
             0.8888888888888888,
             "#fdca26"
            ],
            [
             1,
             "#f0f921"
            ]
           ]
          },
          "colorway": [
           "#636efa",
           "#EF553B",
           "#00cc96",
           "#ab63fa",
           "#FFA15A",
           "#19d3f3",
           "#FF6692",
           "#B6E880",
           "#FF97FF",
           "#FECB52"
          ],
          "font": {
           "color": "#2a3f5f"
          },
          "geo": {
           "bgcolor": "white",
           "lakecolor": "white",
           "landcolor": "#E5ECF6",
           "showlakes": true,
           "showland": true,
           "subunitcolor": "white"
          },
          "hoverlabel": {
           "align": "left"
          },
          "hovermode": "closest",
          "mapbox": {
           "style": "light"
          },
          "paper_bgcolor": "white",
          "plot_bgcolor": "#E5ECF6",
          "polar": {
           "angularaxis": {
            "gridcolor": "white",
            "linecolor": "white",
            "ticks": ""
           },
           "bgcolor": "#E5ECF6",
           "radialaxis": {
            "gridcolor": "white",
            "linecolor": "white",
            "ticks": ""
           }
          },
          "scene": {
           "xaxis": {
            "backgroundcolor": "#E5ECF6",
            "gridcolor": "white",
            "gridwidth": 2,
            "linecolor": "white",
            "showbackground": true,
            "ticks": "",
            "zerolinecolor": "white"
           },
           "yaxis": {
            "backgroundcolor": "#E5ECF6",
            "gridcolor": "white",
            "gridwidth": 2,
            "linecolor": "white",
            "showbackground": true,
            "ticks": "",
            "zerolinecolor": "white"
           },
           "zaxis": {
            "backgroundcolor": "#E5ECF6",
            "gridcolor": "white",
            "gridwidth": 2,
            "linecolor": "white",
            "showbackground": true,
            "ticks": "",
            "zerolinecolor": "white"
           }
          },
          "shapedefaults": {
           "line": {
            "color": "#2a3f5f"
           }
          },
          "ternary": {
           "aaxis": {
            "gridcolor": "white",
            "linecolor": "white",
            "ticks": ""
           },
           "baxis": {
            "gridcolor": "white",
            "linecolor": "white",
            "ticks": ""
           },
           "bgcolor": "#E5ECF6",
           "caxis": {
            "gridcolor": "white",
            "linecolor": "white",
            "ticks": ""
           }
          },
          "title": {
           "x": 0.05
          },
          "xaxis": {
           "automargin": true,
           "gridcolor": "white",
           "linecolor": "white",
           "ticks": "",
           "title": {
            "standoff": 15
           },
           "zerolinecolor": "white",
           "zerolinewidth": 2
          },
          "yaxis": {
           "automargin": true,
           "gridcolor": "white",
           "linecolor": "white",
           "ticks": "",
           "title": {
            "standoff": 15
           },
           "zerolinecolor": "white",
           "zerolinewidth": 2
          }
         }
        },
        "yaxis": {
         "range": [
          0,
          1
         ],
         "title": {
          "text": "scores"
         }
        }
       }
      }
     },
     "metadata": {},
     "output_type": "display_data"
    }
   ],
   "source": [
    "fig = compare_models(models, X, y)\n",
    "fig.update_yaxes(range=[0,1], title=\"scores\")"
   ]
  },
  {
   "cell_type": "markdown",
   "metadata": {},
   "source": [
    "We are going to use a tool called GridSearchCV -- a bit of a Cross Validation Fold system to find the best values.\n"
   ]
  },
  {
   "cell_type": "code",
   "execution_count": 25,
   "metadata": {},
   "outputs": [],
   "source": [
    "from sklearn.model_selection import GridSearchCV\n",
    "import time\n",
    "\n",
    "penalty = ['l1','l2']\n",
    "max_iter=[80, 100,140]\n",
    "C = np.linspace(0.1, 1.0, num=5)\n",
    "\n"
   ]
  },
  {
   "cell_type": "code",
   "execution_count": 26,
   "metadata": {},
   "outputs": [
    {
     "name": "stderr",
     "output_type": "stream",
     "text": [
      "/Users/seankang/anaconda3/envs/Assignment3/lib/python3.11/site-packages/sklearn/linear_model/_logistic.py:1247: FutureWarning:\n",
      "\n",
      "'multi_class' was deprecated in version 1.5 and will be removed in 1.7. From then on, it will always use 'multinomial'. Leave it to its default value to avoid this warning.\n",
      "\n",
      "/Users/seankang/anaconda3/envs/Assignment3/lib/python3.11/site-packages/sklearn/linear_model/_sag.py:349: ConvergenceWarning:\n",
      "\n",
      "The max_iter was reached which means the coef_ did not converge\n",
      "\n",
      "/Users/seankang/anaconda3/envs/Assignment3/lib/python3.11/site-packages/sklearn/linear_model/_logistic.py:1247: FutureWarning:\n",
      "\n",
      "'multi_class' was deprecated in version 1.5 and will be removed in 1.7. From then on, it will always use 'multinomial'. Leave it to its default value to avoid this warning.\n",
      "\n",
      "/Users/seankang/anaconda3/envs/Assignment3/lib/python3.11/site-packages/sklearn/linear_model/_sag.py:349: ConvergenceWarning:\n",
      "\n",
      "The max_iter was reached which means the coef_ did not converge\n",
      "\n",
      "/Users/seankang/anaconda3/envs/Assignment3/lib/python3.11/site-packages/sklearn/linear_model/_logistic.py:1247: FutureWarning:\n",
      "\n",
      "'multi_class' was deprecated in version 1.5 and will be removed in 1.7. From then on, it will always use 'multinomial'. Leave it to its default value to avoid this warning.\n",
      "\n",
      "/Users/seankang/anaconda3/envs/Assignment3/lib/python3.11/site-packages/sklearn/linear_model/_sag.py:349: ConvergenceWarning:\n",
      "\n",
      "The max_iter was reached which means the coef_ did not converge\n",
      "\n",
      "/Users/seankang/anaconda3/envs/Assignment3/lib/python3.11/site-packages/sklearn/linear_model/_logistic.py:1247: FutureWarning:\n",
      "\n",
      "'multi_class' was deprecated in version 1.5 and will be removed in 1.7. From then on, it will always use 'multinomial'. Leave it to its default value to avoid this warning.\n",
      "\n",
      "/Users/seankang/anaconda3/envs/Assignment3/lib/python3.11/site-packages/sklearn/linear_model/_sag.py:349: ConvergenceWarning:\n",
      "\n",
      "The max_iter was reached which means the coef_ did not converge\n",
      "\n",
      "/Users/seankang/anaconda3/envs/Assignment3/lib/python3.11/site-packages/sklearn/linear_model/_logistic.py:1247: FutureWarning:\n",
      "\n",
      "'multi_class' was deprecated in version 1.5 and will be removed in 1.7. From then on, it will always use 'multinomial'. Leave it to its default value to avoid this warning.\n",
      "\n",
      "/Users/seankang/anaconda3/envs/Assignment3/lib/python3.11/site-packages/sklearn/linear_model/_sag.py:349: ConvergenceWarning:\n",
      "\n",
      "The max_iter was reached which means the coef_ did not converge\n",
      "\n",
      "/Users/seankang/anaconda3/envs/Assignment3/lib/python3.11/site-packages/sklearn/linear_model/_logistic.py:1247: FutureWarning:\n",
      "\n",
      "'multi_class' was deprecated in version 1.5 and will be removed in 1.7. From then on, it will always use 'multinomial'. Leave it to its default value to avoid this warning.\n",
      "\n",
      "/Users/seankang/anaconda3/envs/Assignment3/lib/python3.11/site-packages/sklearn/linear_model/_sag.py:349: ConvergenceWarning:\n",
      "\n",
      "The max_iter was reached which means the coef_ did not converge\n",
      "\n",
      "/Users/seankang/anaconda3/envs/Assignment3/lib/python3.11/site-packages/sklearn/linear_model/_logistic.py:1247: FutureWarning:\n",
      "\n",
      "'multi_class' was deprecated in version 1.5 and will be removed in 1.7. From then on, it will always use 'multinomial'. Leave it to its default value to avoid this warning.\n",
      "\n",
      "/Users/seankang/anaconda3/envs/Assignment3/lib/python3.11/site-packages/sklearn/linear_model/_sag.py:349: ConvergenceWarning:\n",
      "\n",
      "The max_iter was reached which means the coef_ did not converge\n",
      "\n",
      "/Users/seankang/anaconda3/envs/Assignment3/lib/python3.11/site-packages/sklearn/linear_model/_logistic.py:1247: FutureWarning:\n",
      "\n",
      "'multi_class' was deprecated in version 1.5 and will be removed in 1.7. From then on, it will always use 'multinomial'. Leave it to its default value to avoid this warning.\n",
      "\n",
      "/Users/seankang/anaconda3/envs/Assignment3/lib/python3.11/site-packages/sklearn/linear_model/_sag.py:349: ConvergenceWarning:\n",
      "\n",
      "The max_iter was reached which means the coef_ did not converge\n",
      "\n",
      "/Users/seankang/anaconda3/envs/Assignment3/lib/python3.11/site-packages/sklearn/linear_model/_logistic.py:1247: FutureWarning:\n",
      "\n",
      "'multi_class' was deprecated in version 1.5 and will be removed in 1.7. From then on, it will always use 'multinomial'. Leave it to its default value to avoid this warning.\n",
      "\n",
      "/Users/seankang/anaconda3/envs/Assignment3/lib/python3.11/site-packages/sklearn/linear_model/_sag.py:349: ConvergenceWarning:\n",
      "\n",
      "The max_iter was reached which means the coef_ did not converge\n",
      "\n",
      "/Users/seankang/anaconda3/envs/Assignment3/lib/python3.11/site-packages/sklearn/linear_model/_logistic.py:1247: FutureWarning:\n",
      "\n",
      "'multi_class' was deprecated in version 1.5 and will be removed in 1.7. From then on, it will always use 'multinomial'. Leave it to its default value to avoid this warning.\n",
      "\n",
      "/Users/seankang/anaconda3/envs/Assignment3/lib/python3.11/site-packages/sklearn/linear_model/_sag.py:349: ConvergenceWarning:\n",
      "\n",
      "The max_iter was reached which means the coef_ did not converge\n",
      "\n",
      "/Users/seankang/anaconda3/envs/Assignment3/lib/python3.11/site-packages/sklearn/linear_model/_logistic.py:1247: FutureWarning:\n",
      "\n",
      "'multi_class' was deprecated in version 1.5 and will be removed in 1.7. From then on, it will always use 'multinomial'. Leave it to its default value to avoid this warning.\n",
      "\n",
      "/Users/seankang/anaconda3/envs/Assignment3/lib/python3.11/site-packages/sklearn/linear_model/_sag.py:349: ConvergenceWarning:\n",
      "\n",
      "The max_iter was reached which means the coef_ did not converge\n",
      "\n",
      "/Users/seankang/anaconda3/envs/Assignment3/lib/python3.11/site-packages/sklearn/linear_model/_logistic.py:1247: FutureWarning:\n",
      "\n",
      "'multi_class' was deprecated in version 1.5 and will be removed in 1.7. From then on, it will always use 'multinomial'. Leave it to its default value to avoid this warning.\n",
      "\n",
      "/Users/seankang/anaconda3/envs/Assignment3/lib/python3.11/site-packages/sklearn/linear_model/_sag.py:349: ConvergenceWarning:\n",
      "\n",
      "The max_iter was reached which means the coef_ did not converge\n",
      "\n",
      "/Users/seankang/anaconda3/envs/Assignment3/lib/python3.11/site-packages/sklearn/linear_model/_logistic.py:1247: FutureWarning:\n",
      "\n",
      "'multi_class' was deprecated in version 1.5 and will be removed in 1.7. From then on, it will always use 'multinomial'. Leave it to its default value to avoid this warning.\n",
      "\n",
      "/Users/seankang/anaconda3/envs/Assignment3/lib/python3.11/site-packages/sklearn/linear_model/_sag.py:349: ConvergenceWarning:\n",
      "\n",
      "The max_iter was reached which means the coef_ did not converge\n",
      "\n",
      "/Users/seankang/anaconda3/envs/Assignment3/lib/python3.11/site-packages/sklearn/linear_model/_logistic.py:1247: FutureWarning:\n",
      "\n",
      "'multi_class' was deprecated in version 1.5 and will be removed in 1.7. From then on, it will always use 'multinomial'. Leave it to its default value to avoid this warning.\n",
      "\n",
      "/Users/seankang/anaconda3/envs/Assignment3/lib/python3.11/site-packages/sklearn/linear_model/_sag.py:349: ConvergenceWarning:\n",
      "\n",
      "The max_iter was reached which means the coef_ did not converge\n",
      "\n",
      "/Users/seankang/anaconda3/envs/Assignment3/lib/python3.11/site-packages/sklearn/linear_model/_logistic.py:1247: FutureWarning:\n",
      "\n",
      "'multi_class' was deprecated in version 1.5 and will be removed in 1.7. From then on, it will always use 'multinomial'. Leave it to its default value to avoid this warning.\n",
      "\n",
      "/Users/seankang/anaconda3/envs/Assignment3/lib/python3.11/site-packages/sklearn/linear_model/_sag.py:349: ConvergenceWarning:\n",
      "\n",
      "The max_iter was reached which means the coef_ did not converge\n",
      "\n",
      "/Users/seankang/anaconda3/envs/Assignment3/lib/python3.11/site-packages/sklearn/linear_model/_logistic.py:1247: FutureWarning:\n",
      "\n",
      "'multi_class' was deprecated in version 1.5 and will be removed in 1.7. From then on, it will always use 'multinomial'. Leave it to its default value to avoid this warning.\n",
      "\n",
      "/Users/seankang/anaconda3/envs/Assignment3/lib/python3.11/site-packages/sklearn/linear_model/_sag.py:349: ConvergenceWarning:\n",
      "\n",
      "The max_iter was reached which means the coef_ did not converge\n",
      "\n",
      "/Users/seankang/anaconda3/envs/Assignment3/lib/python3.11/site-packages/sklearn/linear_model/_logistic.py:1247: FutureWarning:\n",
      "\n",
      "'multi_class' was deprecated in version 1.5 and will be removed in 1.7. From then on, it will always use 'multinomial'. Leave it to its default value to avoid this warning.\n",
      "\n",
      "/Users/seankang/anaconda3/envs/Assignment3/lib/python3.11/site-packages/sklearn/linear_model/_sag.py:349: ConvergenceWarning:\n",
      "\n",
      "The max_iter was reached which means the coef_ did not converge\n",
      "\n",
      "/Users/seankang/anaconda3/envs/Assignment3/lib/python3.11/site-packages/sklearn/linear_model/_logistic.py:1247: FutureWarning:\n",
      "\n",
      "'multi_class' was deprecated in version 1.5 and will be removed in 1.7. From then on, it will always use 'multinomial'. Leave it to its default value to avoid this warning.\n",
      "\n",
      "/Users/seankang/anaconda3/envs/Assignment3/lib/python3.11/site-packages/sklearn/linear_model/_sag.py:349: ConvergenceWarning:\n",
      "\n",
      "The max_iter was reached which means the coef_ did not converge\n",
      "\n",
      "/Users/seankang/anaconda3/envs/Assignment3/lib/python3.11/site-packages/sklearn/linear_model/_logistic.py:1247: FutureWarning:\n",
      "\n",
      "'multi_class' was deprecated in version 1.5 and will be removed in 1.7. From then on, it will always use 'multinomial'. Leave it to its default value to avoid this warning.\n",
      "\n",
      "/Users/seankang/anaconda3/envs/Assignment3/lib/python3.11/site-packages/sklearn/linear_model/_sag.py:349: ConvergenceWarning:\n",
      "\n",
      "The max_iter was reached which means the coef_ did not converge\n",
      "\n",
      "/Users/seankang/anaconda3/envs/Assignment3/lib/python3.11/site-packages/sklearn/linear_model/_logistic.py:1247: FutureWarning:\n",
      "\n",
      "'multi_class' was deprecated in version 1.5 and will be removed in 1.7. From then on, it will always use 'multinomial'. Leave it to its default value to avoid this warning.\n",
      "\n",
      "/Users/seankang/anaconda3/envs/Assignment3/lib/python3.11/site-packages/sklearn/linear_model/_sag.py:349: ConvergenceWarning:\n",
      "\n",
      "The max_iter was reached which means the coef_ did not converge\n",
      "\n",
      "/Users/seankang/anaconda3/envs/Assignment3/lib/python3.11/site-packages/sklearn/linear_model/_logistic.py:1247: FutureWarning:\n",
      "\n",
      "'multi_class' was deprecated in version 1.5 and will be removed in 1.7. From then on, it will always use 'multinomial'. Leave it to its default value to avoid this warning.\n",
      "\n",
      "/Users/seankang/anaconda3/envs/Assignment3/lib/python3.11/site-packages/sklearn/linear_model/_sag.py:349: ConvergenceWarning:\n",
      "\n",
      "The max_iter was reached which means the coef_ did not converge\n",
      "\n",
      "/Users/seankang/anaconda3/envs/Assignment3/lib/python3.11/site-packages/sklearn/linear_model/_logistic.py:1247: FutureWarning:\n",
      "\n",
      "'multi_class' was deprecated in version 1.5 and will be removed in 1.7. From then on, it will always use 'multinomial'. Leave it to its default value to avoid this warning.\n",
      "\n",
      "/Users/seankang/anaconda3/envs/Assignment3/lib/python3.11/site-packages/sklearn/linear_model/_sag.py:349: ConvergenceWarning:\n",
      "\n",
      "The max_iter was reached which means the coef_ did not converge\n",
      "\n",
      "/Users/seankang/anaconda3/envs/Assignment3/lib/python3.11/site-packages/sklearn/linear_model/_logistic.py:1247: FutureWarning:\n",
      "\n",
      "'multi_class' was deprecated in version 1.5 and will be removed in 1.7. From then on, it will always use 'multinomial'. Leave it to its default value to avoid this warning.\n",
      "\n",
      "/Users/seankang/anaconda3/envs/Assignment3/lib/python3.11/site-packages/sklearn/linear_model/_sag.py:349: ConvergenceWarning:\n",
      "\n",
      "The max_iter was reached which means the coef_ did not converge\n",
      "\n",
      "/Users/seankang/anaconda3/envs/Assignment3/lib/python3.11/site-packages/sklearn/linear_model/_logistic.py:1247: FutureWarning:\n",
      "\n",
      "'multi_class' was deprecated in version 1.5 and will be removed in 1.7. From then on, it will always use 'multinomial'. Leave it to its default value to avoid this warning.\n",
      "\n",
      "/Users/seankang/anaconda3/envs/Assignment3/lib/python3.11/site-packages/sklearn/linear_model/_sag.py:349: ConvergenceWarning:\n",
      "\n",
      "The max_iter was reached which means the coef_ did not converge\n",
      "\n",
      "/Users/seankang/anaconda3/envs/Assignment3/lib/python3.11/site-packages/sklearn/linear_model/_logistic.py:1247: FutureWarning:\n",
      "\n",
      "'multi_class' was deprecated in version 1.5 and will be removed in 1.7. From then on, it will always use 'multinomial'. Leave it to its default value to avoid this warning.\n",
      "\n",
      "/Users/seankang/anaconda3/envs/Assignment3/lib/python3.11/site-packages/sklearn/linear_model/_sag.py:349: ConvergenceWarning:\n",
      "\n",
      "The max_iter was reached which means the coef_ did not converge\n",
      "\n",
      "/Users/seankang/anaconda3/envs/Assignment3/lib/python3.11/site-packages/sklearn/linear_model/_logistic.py:1247: FutureWarning:\n",
      "\n",
      "'multi_class' was deprecated in version 1.5 and will be removed in 1.7. From then on, it will always use 'multinomial'. Leave it to its default value to avoid this warning.\n",
      "\n",
      "/Users/seankang/anaconda3/envs/Assignment3/lib/python3.11/site-packages/sklearn/linear_model/_sag.py:349: ConvergenceWarning:\n",
      "\n",
      "The max_iter was reached which means the coef_ did not converge\n",
      "\n",
      "/Users/seankang/anaconda3/envs/Assignment3/lib/python3.11/site-packages/sklearn/linear_model/_logistic.py:1247: FutureWarning:\n",
      "\n",
      "'multi_class' was deprecated in version 1.5 and will be removed in 1.7. From then on, it will always use 'multinomial'. Leave it to its default value to avoid this warning.\n",
      "\n",
      "/Users/seankang/anaconda3/envs/Assignment3/lib/python3.11/site-packages/sklearn/linear_model/_sag.py:349: ConvergenceWarning:\n",
      "\n",
      "The max_iter was reached which means the coef_ did not converge\n",
      "\n",
      "/Users/seankang/anaconda3/envs/Assignment3/lib/python3.11/site-packages/sklearn/linear_model/_logistic.py:1247: FutureWarning:\n",
      "\n",
      "'multi_class' was deprecated in version 1.5 and will be removed in 1.7. From then on, it will always use 'multinomial'. Leave it to its default value to avoid this warning.\n",
      "\n",
      "/Users/seankang/anaconda3/envs/Assignment3/lib/python3.11/site-packages/sklearn/linear_model/_sag.py:349: ConvergenceWarning:\n",
      "\n",
      "The max_iter was reached which means the coef_ did not converge\n",
      "\n",
      "/Users/seankang/anaconda3/envs/Assignment3/lib/python3.11/site-packages/sklearn/linear_model/_logistic.py:1247: FutureWarning:\n",
      "\n",
      "'multi_class' was deprecated in version 1.5 and will be removed in 1.7. From then on, it will always use 'multinomial'. Leave it to its default value to avoid this warning.\n",
      "\n",
      "/Users/seankang/anaconda3/envs/Assignment3/lib/python3.11/site-packages/sklearn/linear_model/_sag.py:349: ConvergenceWarning:\n",
      "\n",
      "The max_iter was reached which means the coef_ did not converge\n",
      "\n",
      "/Users/seankang/anaconda3/envs/Assignment3/lib/python3.11/site-packages/sklearn/linear_model/_logistic.py:1247: FutureWarning:\n",
      "\n",
      "'multi_class' was deprecated in version 1.5 and will be removed in 1.7. From then on, it will always use 'multinomial'. Leave it to its default value to avoid this warning.\n",
      "\n",
      "/Users/seankang/anaconda3/envs/Assignment3/lib/python3.11/site-packages/sklearn/linear_model/_sag.py:349: ConvergenceWarning:\n",
      "\n",
      "The max_iter was reached which means the coef_ did not converge\n",
      "\n",
      "/Users/seankang/anaconda3/envs/Assignment3/lib/python3.11/site-packages/sklearn/linear_model/_logistic.py:1247: FutureWarning:\n",
      "\n",
      "'multi_class' was deprecated in version 1.5 and will be removed in 1.7. From then on, it will always use 'multinomial'. Leave it to its default value to avoid this warning.\n",
      "\n",
      "/Users/seankang/anaconda3/envs/Assignment3/lib/python3.11/site-packages/sklearn/linear_model/_sag.py:349: ConvergenceWarning:\n",
      "\n",
      "The max_iter was reached which means the coef_ did not converge\n",
      "\n",
      "/Users/seankang/anaconda3/envs/Assignment3/lib/python3.11/site-packages/sklearn/linear_model/_logistic.py:1247: FutureWarning:\n",
      "\n",
      "'multi_class' was deprecated in version 1.5 and will be removed in 1.7. From then on, it will always use 'multinomial'. Leave it to its default value to avoid this warning.\n",
      "\n",
      "/Users/seankang/anaconda3/envs/Assignment3/lib/python3.11/site-packages/sklearn/linear_model/_sag.py:349: ConvergenceWarning:\n",
      "\n",
      "The max_iter was reached which means the coef_ did not converge\n",
      "\n",
      "/Users/seankang/anaconda3/envs/Assignment3/lib/python3.11/site-packages/sklearn/linear_model/_logistic.py:1247: FutureWarning:\n",
      "\n",
      "'multi_class' was deprecated in version 1.5 and will be removed in 1.7. From then on, it will always use 'multinomial'. Leave it to its default value to avoid this warning.\n",
      "\n",
      "/Users/seankang/anaconda3/envs/Assignment3/lib/python3.11/site-packages/sklearn/linear_model/_sag.py:349: ConvergenceWarning:\n",
      "\n",
      "The max_iter was reached which means the coef_ did not converge\n",
      "\n",
      "/Users/seankang/anaconda3/envs/Assignment3/lib/python3.11/site-packages/sklearn/linear_model/_logistic.py:1247: FutureWarning:\n",
      "\n",
      "'multi_class' was deprecated in version 1.5 and will be removed in 1.7. From then on, it will always use 'multinomial'. Leave it to its default value to avoid this warning.\n",
      "\n",
      "/Users/seankang/anaconda3/envs/Assignment3/lib/python3.11/site-packages/sklearn/linear_model/_sag.py:349: ConvergenceWarning:\n",
      "\n",
      "The max_iter was reached which means the coef_ did not converge\n",
      "\n",
      "/Users/seankang/anaconda3/envs/Assignment3/lib/python3.11/site-packages/sklearn/linear_model/_logistic.py:1247: FutureWarning:\n",
      "\n",
      "'multi_class' was deprecated in version 1.5 and will be removed in 1.7. From then on, it will always use 'multinomial'. Leave it to its default value to avoid this warning.\n",
      "\n",
      "/Users/seankang/anaconda3/envs/Assignment3/lib/python3.11/site-packages/sklearn/linear_model/_sag.py:349: ConvergenceWarning:\n",
      "\n",
      "The max_iter was reached which means the coef_ did not converge\n",
      "\n",
      "/Users/seankang/anaconda3/envs/Assignment3/lib/python3.11/site-packages/sklearn/linear_model/_logistic.py:1247: FutureWarning:\n",
      "\n",
      "'multi_class' was deprecated in version 1.5 and will be removed in 1.7. From then on, it will always use 'multinomial'. Leave it to its default value to avoid this warning.\n",
      "\n",
      "/Users/seankang/anaconda3/envs/Assignment3/lib/python3.11/site-packages/sklearn/linear_model/_sag.py:349: ConvergenceWarning:\n",
      "\n",
      "The max_iter was reached which means the coef_ did not converge\n",
      "\n",
      "/Users/seankang/anaconda3/envs/Assignment3/lib/python3.11/site-packages/sklearn/linear_model/_logistic.py:1247: FutureWarning:\n",
      "\n",
      "'multi_class' was deprecated in version 1.5 and will be removed in 1.7. From then on, it will always use 'multinomial'. Leave it to its default value to avoid this warning.\n",
      "\n",
      "/Users/seankang/anaconda3/envs/Assignment3/lib/python3.11/site-packages/sklearn/linear_model/_sag.py:349: ConvergenceWarning:\n",
      "\n",
      "The max_iter was reached which means the coef_ did not converge\n",
      "\n",
      "/Users/seankang/anaconda3/envs/Assignment3/lib/python3.11/site-packages/sklearn/linear_model/_logistic.py:1247: FutureWarning:\n",
      "\n",
      "'multi_class' was deprecated in version 1.5 and will be removed in 1.7. From then on, it will always use 'multinomial'. Leave it to its default value to avoid this warning.\n",
      "\n",
      "/Users/seankang/anaconda3/envs/Assignment3/lib/python3.11/site-packages/sklearn/linear_model/_sag.py:349: ConvergenceWarning:\n",
      "\n",
      "The max_iter was reached which means the coef_ did not converge\n",
      "\n",
      "/Users/seankang/anaconda3/envs/Assignment3/lib/python3.11/site-packages/sklearn/linear_model/_logistic.py:1247: FutureWarning:\n",
      "\n",
      "'multi_class' was deprecated in version 1.5 and will be removed in 1.7. From then on, it will always use 'multinomial'. Leave it to its default value to avoid this warning.\n",
      "\n",
      "/Users/seankang/anaconda3/envs/Assignment3/lib/python3.11/site-packages/sklearn/linear_model/_sag.py:349: ConvergenceWarning:\n",
      "\n",
      "The max_iter was reached which means the coef_ did not converge\n",
      "\n",
      "/Users/seankang/anaconda3/envs/Assignment3/lib/python3.11/site-packages/sklearn/linear_model/_logistic.py:1247: FutureWarning:\n",
      "\n",
      "'multi_class' was deprecated in version 1.5 and will be removed in 1.7. From then on, it will always use 'multinomial'. Leave it to its default value to avoid this warning.\n",
      "\n",
      "/Users/seankang/anaconda3/envs/Assignment3/lib/python3.11/site-packages/sklearn/linear_model/_sag.py:349: ConvergenceWarning:\n",
      "\n",
      "The max_iter was reached which means the coef_ did not converge\n",
      "\n",
      "/Users/seankang/anaconda3/envs/Assignment3/lib/python3.11/site-packages/sklearn/linear_model/_logistic.py:1247: FutureWarning:\n",
      "\n",
      "'multi_class' was deprecated in version 1.5 and will be removed in 1.7. From then on, it will always use 'multinomial'. Leave it to its default value to avoid this warning.\n",
      "\n",
      "/Users/seankang/anaconda3/envs/Assignment3/lib/python3.11/site-packages/sklearn/linear_model/_sag.py:349: ConvergenceWarning:\n",
      "\n",
      "The max_iter was reached which means the coef_ did not converge\n",
      "\n",
      "/Users/seankang/anaconda3/envs/Assignment3/lib/python3.11/site-packages/sklearn/linear_model/_logistic.py:1247: FutureWarning:\n",
      "\n",
      "'multi_class' was deprecated in version 1.5 and will be removed in 1.7. From then on, it will always use 'multinomial'. Leave it to its default value to avoid this warning.\n",
      "\n",
      "/Users/seankang/anaconda3/envs/Assignment3/lib/python3.11/site-packages/sklearn/linear_model/_sag.py:349: ConvergenceWarning:\n",
      "\n",
      "The max_iter was reached which means the coef_ did not converge\n",
      "\n",
      "/Users/seankang/anaconda3/envs/Assignment3/lib/python3.11/site-packages/sklearn/linear_model/_logistic.py:1247: FutureWarning:\n",
      "\n",
      "'multi_class' was deprecated in version 1.5 and will be removed in 1.7. From then on, it will always use 'multinomial'. Leave it to its default value to avoid this warning.\n",
      "\n",
      "/Users/seankang/anaconda3/envs/Assignment3/lib/python3.11/site-packages/sklearn/linear_model/_sag.py:349: ConvergenceWarning:\n",
      "\n",
      "The max_iter was reached which means the coef_ did not converge\n",
      "\n",
      "/Users/seankang/anaconda3/envs/Assignment3/lib/python3.11/site-packages/sklearn/linear_model/_logistic.py:1247: FutureWarning:\n",
      "\n",
      "'multi_class' was deprecated in version 1.5 and will be removed in 1.7. From then on, it will always use 'multinomial'. Leave it to its default value to avoid this warning.\n",
      "\n",
      "/Users/seankang/anaconda3/envs/Assignment3/lib/python3.11/site-packages/sklearn/linear_model/_sag.py:349: ConvergenceWarning:\n",
      "\n",
      "The max_iter was reached which means the coef_ did not converge\n",
      "\n",
      "/Users/seankang/anaconda3/envs/Assignment3/lib/python3.11/site-packages/sklearn/linear_model/_logistic.py:1247: FutureWarning:\n",
      "\n",
      "'multi_class' was deprecated in version 1.5 and will be removed in 1.7. From then on, it will always use 'multinomial'. Leave it to its default value to avoid this warning.\n",
      "\n",
      "/Users/seankang/anaconda3/envs/Assignment3/lib/python3.11/site-packages/sklearn/linear_model/_sag.py:349: ConvergenceWarning:\n",
      "\n",
      "The max_iter was reached which means the coef_ did not converge\n",
      "\n",
      "/Users/seankang/anaconda3/envs/Assignment3/lib/python3.11/site-packages/sklearn/linear_model/_logistic.py:1247: FutureWarning:\n",
      "\n",
      "'multi_class' was deprecated in version 1.5 and will be removed in 1.7. From then on, it will always use 'multinomial'. Leave it to its default value to avoid this warning.\n",
      "\n",
      "/Users/seankang/anaconda3/envs/Assignment3/lib/python3.11/site-packages/sklearn/linear_model/_sag.py:349: ConvergenceWarning:\n",
      "\n",
      "The max_iter was reached which means the coef_ did not converge\n",
      "\n",
      "/Users/seankang/anaconda3/envs/Assignment3/lib/python3.11/site-packages/sklearn/linear_model/_logistic.py:1247: FutureWarning:\n",
      "\n",
      "'multi_class' was deprecated in version 1.5 and will be removed in 1.7. From then on, it will always use 'multinomial'. Leave it to its default value to avoid this warning.\n",
      "\n",
      "/Users/seankang/anaconda3/envs/Assignment3/lib/python3.11/site-packages/sklearn/linear_model/_sag.py:349: ConvergenceWarning:\n",
      "\n",
      "The max_iter was reached which means the coef_ did not converge\n",
      "\n",
      "/Users/seankang/anaconda3/envs/Assignment3/lib/python3.11/site-packages/sklearn/linear_model/_logistic.py:1247: FutureWarning:\n",
      "\n",
      "'multi_class' was deprecated in version 1.5 and will be removed in 1.7. From then on, it will always use 'multinomial'. Leave it to its default value to avoid this warning.\n",
      "\n",
      "/Users/seankang/anaconda3/envs/Assignment3/lib/python3.11/site-packages/sklearn/linear_model/_sag.py:349: ConvergenceWarning:\n",
      "\n",
      "The max_iter was reached which means the coef_ did not converge\n",
      "\n",
      "/Users/seankang/anaconda3/envs/Assignment3/lib/python3.11/site-packages/sklearn/linear_model/_logistic.py:1247: FutureWarning:\n",
      "\n",
      "'multi_class' was deprecated in version 1.5 and will be removed in 1.7. From then on, it will always use 'multinomial'. Leave it to its default value to avoid this warning.\n",
      "\n",
      "/Users/seankang/anaconda3/envs/Assignment3/lib/python3.11/site-packages/sklearn/linear_model/_sag.py:349: ConvergenceWarning:\n",
      "\n",
      "The max_iter was reached which means the coef_ did not converge\n",
      "\n",
      "/Users/seankang/anaconda3/envs/Assignment3/lib/python3.11/site-packages/sklearn/linear_model/_logistic.py:1247: FutureWarning:\n",
      "\n",
      "'multi_class' was deprecated in version 1.5 and will be removed in 1.7. From then on, it will always use 'multinomial'. Leave it to its default value to avoid this warning.\n",
      "\n",
      "/Users/seankang/anaconda3/envs/Assignment3/lib/python3.11/site-packages/sklearn/linear_model/_sag.py:349: ConvergenceWarning:\n",
      "\n",
      "The max_iter was reached which means the coef_ did not converge\n",
      "\n",
      "/Users/seankang/anaconda3/envs/Assignment3/lib/python3.11/site-packages/sklearn/linear_model/_logistic.py:1247: FutureWarning:\n",
      "\n",
      "'multi_class' was deprecated in version 1.5 and will be removed in 1.7. From then on, it will always use 'multinomial'. Leave it to its default value to avoid this warning.\n",
      "\n",
      "/Users/seankang/anaconda3/envs/Assignment3/lib/python3.11/site-packages/sklearn/linear_model/_sag.py:349: ConvergenceWarning:\n",
      "\n",
      "The max_iter was reached which means the coef_ did not converge\n",
      "\n",
      "/Users/seankang/anaconda3/envs/Assignment3/lib/python3.11/site-packages/sklearn/linear_model/_logistic.py:1247: FutureWarning:\n",
      "\n",
      "'multi_class' was deprecated in version 1.5 and will be removed in 1.7. From then on, it will always use 'multinomial'. Leave it to its default value to avoid this warning.\n",
      "\n",
      "/Users/seankang/anaconda3/envs/Assignment3/lib/python3.11/site-packages/sklearn/linear_model/_sag.py:349: ConvergenceWarning:\n",
      "\n",
      "The max_iter was reached which means the coef_ did not converge\n",
      "\n",
      "/Users/seankang/anaconda3/envs/Assignment3/lib/python3.11/site-packages/sklearn/linear_model/_logistic.py:1247: FutureWarning:\n",
      "\n",
      "'multi_class' was deprecated in version 1.5 and will be removed in 1.7. From then on, it will always use 'multinomial'. Leave it to its default value to avoid this warning.\n",
      "\n",
      "/Users/seankang/anaconda3/envs/Assignment3/lib/python3.11/site-packages/sklearn/linear_model/_sag.py:349: ConvergenceWarning:\n",
      "\n",
      "The max_iter was reached which means the coef_ did not converge\n",
      "\n",
      "/Users/seankang/anaconda3/envs/Assignment3/lib/python3.11/site-packages/sklearn/linear_model/_logistic.py:1247: FutureWarning:\n",
      "\n",
      "'multi_class' was deprecated in version 1.5 and will be removed in 1.7. From then on, it will always use 'multinomial'. Leave it to its default value to avoid this warning.\n",
      "\n",
      "/Users/seankang/anaconda3/envs/Assignment3/lib/python3.11/site-packages/sklearn/linear_model/_sag.py:349: ConvergenceWarning:\n",
      "\n",
      "The max_iter was reached which means the coef_ did not converge\n",
      "\n",
      "/Users/seankang/anaconda3/envs/Assignment3/lib/python3.11/site-packages/sklearn/linear_model/_logistic.py:1247: FutureWarning:\n",
      "\n",
      "'multi_class' was deprecated in version 1.5 and will be removed in 1.7. From then on, it will always use 'multinomial'. Leave it to its default value to avoid this warning.\n",
      "\n",
      "/Users/seankang/anaconda3/envs/Assignment3/lib/python3.11/site-packages/sklearn/linear_model/_sag.py:349: ConvergenceWarning:\n",
      "\n",
      "The max_iter was reached which means the coef_ did not converge\n",
      "\n",
      "/Users/seankang/anaconda3/envs/Assignment3/lib/python3.11/site-packages/sklearn/linear_model/_logistic.py:1247: FutureWarning:\n",
      "\n",
      "'multi_class' was deprecated in version 1.5 and will be removed in 1.7. From then on, it will always use 'multinomial'. Leave it to its default value to avoid this warning.\n",
      "\n",
      "/Users/seankang/anaconda3/envs/Assignment3/lib/python3.11/site-packages/sklearn/linear_model/_sag.py:349: ConvergenceWarning:\n",
      "\n",
      "The max_iter was reached which means the coef_ did not converge\n",
      "\n",
      "/Users/seankang/anaconda3/envs/Assignment3/lib/python3.11/site-packages/sklearn/linear_model/_logistic.py:1247: FutureWarning:\n",
      "\n",
      "'multi_class' was deprecated in version 1.5 and will be removed in 1.7. From then on, it will always use 'multinomial'. Leave it to its default value to avoid this warning.\n",
      "\n",
      "/Users/seankang/anaconda3/envs/Assignment3/lib/python3.11/site-packages/sklearn/linear_model/_sag.py:349: ConvergenceWarning:\n",
      "\n",
      "The max_iter was reached which means the coef_ did not converge\n",
      "\n",
      "/Users/seankang/anaconda3/envs/Assignment3/lib/python3.11/site-packages/sklearn/linear_model/_logistic.py:1247: FutureWarning:\n",
      "\n",
      "'multi_class' was deprecated in version 1.5 and will be removed in 1.7. From then on, it will always use 'multinomial'. Leave it to its default value to avoid this warning.\n",
      "\n",
      "/Users/seankang/anaconda3/envs/Assignment3/lib/python3.11/site-packages/sklearn/linear_model/_sag.py:349: ConvergenceWarning:\n",
      "\n",
      "The max_iter was reached which means the coef_ did not converge\n",
      "\n",
      "/Users/seankang/anaconda3/envs/Assignment3/lib/python3.11/site-packages/sklearn/linear_model/_logistic.py:1247: FutureWarning:\n",
      "\n",
      "'multi_class' was deprecated in version 1.5 and will be removed in 1.7. From then on, it will always use 'multinomial'. Leave it to its default value to avoid this warning.\n",
      "\n",
      "/Users/seankang/anaconda3/envs/Assignment3/lib/python3.11/site-packages/sklearn/linear_model/_sag.py:349: ConvergenceWarning:\n",
      "\n",
      "The max_iter was reached which means the coef_ did not converge\n",
      "\n",
      "/Users/seankang/anaconda3/envs/Assignment3/lib/python3.11/site-packages/sklearn/linear_model/_logistic.py:1247: FutureWarning:\n",
      "\n",
      "'multi_class' was deprecated in version 1.5 and will be removed in 1.7. From then on, it will always use 'multinomial'. Leave it to its default value to avoid this warning.\n",
      "\n",
      "/Users/seankang/anaconda3/envs/Assignment3/lib/python3.11/site-packages/sklearn/linear_model/_sag.py:349: ConvergenceWarning:\n",
      "\n",
      "The max_iter was reached which means the coef_ did not converge\n",
      "\n",
      "/Users/seankang/anaconda3/envs/Assignment3/lib/python3.11/site-packages/sklearn/linear_model/_logistic.py:1247: FutureWarning:\n",
      "\n",
      "'multi_class' was deprecated in version 1.5 and will be removed in 1.7. From then on, it will always use 'multinomial'. Leave it to its default value to avoid this warning.\n",
      "\n",
      "/Users/seankang/anaconda3/envs/Assignment3/lib/python3.11/site-packages/sklearn/linear_model/_sag.py:349: ConvergenceWarning:\n",
      "\n",
      "The max_iter was reached which means the coef_ did not converge\n",
      "\n",
      "/Users/seankang/anaconda3/envs/Assignment3/lib/python3.11/site-packages/sklearn/linear_model/_logistic.py:1247: FutureWarning:\n",
      "\n",
      "'multi_class' was deprecated in version 1.5 and will be removed in 1.7. From then on, it will always use 'multinomial'. Leave it to its default value to avoid this warning.\n",
      "\n",
      "/Users/seankang/anaconda3/envs/Assignment3/lib/python3.11/site-packages/sklearn/linear_model/_sag.py:349: ConvergenceWarning:\n",
      "\n",
      "The max_iter was reached which means the coef_ did not converge\n",
      "\n",
      "/Users/seankang/anaconda3/envs/Assignment3/lib/python3.11/site-packages/sklearn/linear_model/_logistic.py:1247: FutureWarning:\n",
      "\n",
      "'multi_class' was deprecated in version 1.5 and will be removed in 1.7. From then on, it will always use 'multinomial'. Leave it to its default value to avoid this warning.\n",
      "\n",
      "/Users/seankang/anaconda3/envs/Assignment3/lib/python3.11/site-packages/sklearn/linear_model/_sag.py:349: ConvergenceWarning:\n",
      "\n",
      "The max_iter was reached which means the coef_ did not converge\n",
      "\n",
      "/Users/seankang/anaconda3/envs/Assignment3/lib/python3.11/site-packages/sklearn/linear_model/_logistic.py:1247: FutureWarning:\n",
      "\n",
      "'multi_class' was deprecated in version 1.5 and will be removed in 1.7. From then on, it will always use 'multinomial'. Leave it to its default value to avoid this warning.\n",
      "\n",
      "/Users/seankang/anaconda3/envs/Assignment3/lib/python3.11/site-packages/sklearn/linear_model/_sag.py:349: ConvergenceWarning:\n",
      "\n",
      "The max_iter was reached which means the coef_ did not converge\n",
      "\n",
      "/Users/seankang/anaconda3/envs/Assignment3/lib/python3.11/site-packages/sklearn/linear_model/_logistic.py:1247: FutureWarning:\n",
      "\n",
      "'multi_class' was deprecated in version 1.5 and will be removed in 1.7. From then on, it will always use 'multinomial'. Leave it to its default value to avoid this warning.\n",
      "\n",
      "/Users/seankang/anaconda3/envs/Assignment3/lib/python3.11/site-packages/sklearn/linear_model/_sag.py:349: ConvergenceWarning:\n",
      "\n",
      "The max_iter was reached which means the coef_ did not converge\n",
      "\n",
      "/Users/seankang/anaconda3/envs/Assignment3/lib/python3.11/site-packages/sklearn/linear_model/_logistic.py:1247: FutureWarning:\n",
      "\n",
      "'multi_class' was deprecated in version 1.5 and will be removed in 1.7. From then on, it will always use 'multinomial'. Leave it to its default value to avoid this warning.\n",
      "\n",
      "/Users/seankang/anaconda3/envs/Assignment3/lib/python3.11/site-packages/sklearn/linear_model/_sag.py:349: ConvergenceWarning:\n",
      "\n",
      "The max_iter was reached which means the coef_ did not converge\n",
      "\n",
      "/Users/seankang/anaconda3/envs/Assignment3/lib/python3.11/site-packages/sklearn/linear_model/_logistic.py:1247: FutureWarning:\n",
      "\n",
      "'multi_class' was deprecated in version 1.5 and will be removed in 1.7. From then on, it will always use 'multinomial'. Leave it to its default value to avoid this warning.\n",
      "\n",
      "/Users/seankang/anaconda3/envs/Assignment3/lib/python3.11/site-packages/sklearn/linear_model/_sag.py:349: ConvergenceWarning:\n",
      "\n",
      "The max_iter was reached which means the coef_ did not converge\n",
      "\n",
      "/Users/seankang/anaconda3/envs/Assignment3/lib/python3.11/site-packages/sklearn/linear_model/_logistic.py:1247: FutureWarning:\n",
      "\n",
      "'multi_class' was deprecated in version 1.5 and will be removed in 1.7. From then on, it will always use 'multinomial'. Leave it to its default value to avoid this warning.\n",
      "\n",
      "/Users/seankang/anaconda3/envs/Assignment3/lib/python3.11/site-packages/sklearn/linear_model/_sag.py:349: ConvergenceWarning:\n",
      "\n",
      "The max_iter was reached which means the coef_ did not converge\n",
      "\n",
      "/Users/seankang/anaconda3/envs/Assignment3/lib/python3.11/site-packages/sklearn/linear_model/_logistic.py:1247: FutureWarning:\n",
      "\n",
      "'multi_class' was deprecated in version 1.5 and will be removed in 1.7. From then on, it will always use 'multinomial'. Leave it to its default value to avoid this warning.\n",
      "\n",
      "/Users/seankang/anaconda3/envs/Assignment3/lib/python3.11/site-packages/sklearn/linear_model/_sag.py:349: ConvergenceWarning:\n",
      "\n",
      "The max_iter was reached which means the coef_ did not converge\n",
      "\n",
      "/Users/seankang/anaconda3/envs/Assignment3/lib/python3.11/site-packages/sklearn/linear_model/_logistic.py:1247: FutureWarning:\n",
      "\n",
      "'multi_class' was deprecated in version 1.5 and will be removed in 1.7. From then on, it will always use 'multinomial'. Leave it to its default value to avoid this warning.\n",
      "\n",
      "/Users/seankang/anaconda3/envs/Assignment3/lib/python3.11/site-packages/sklearn/linear_model/_sag.py:349: ConvergenceWarning:\n",
      "\n",
      "The max_iter was reached which means the coef_ did not converge\n",
      "\n",
      "/Users/seankang/anaconda3/envs/Assignment3/lib/python3.11/site-packages/sklearn/linear_model/_logistic.py:1247: FutureWarning:\n",
      "\n",
      "'multi_class' was deprecated in version 1.5 and will be removed in 1.7. From then on, it will always use 'multinomial'. Leave it to its default value to avoid this warning.\n",
      "\n",
      "/Users/seankang/anaconda3/envs/Assignment3/lib/python3.11/site-packages/sklearn/linear_model/_sag.py:349: ConvergenceWarning:\n",
      "\n",
      "The max_iter was reached which means the coef_ did not converge\n",
      "\n",
      "/Users/seankang/anaconda3/envs/Assignment3/lib/python3.11/site-packages/sklearn/linear_model/_logistic.py:1247: FutureWarning:\n",
      "\n",
      "'multi_class' was deprecated in version 1.5 and will be removed in 1.7. From then on, it will always use 'multinomial'. Leave it to its default value to avoid this warning.\n",
      "\n",
      "/Users/seankang/anaconda3/envs/Assignment3/lib/python3.11/site-packages/sklearn/linear_model/_sag.py:349: ConvergenceWarning:\n",
      "\n",
      "The max_iter was reached which means the coef_ did not converge\n",
      "\n",
      "/Users/seankang/anaconda3/envs/Assignment3/lib/python3.11/site-packages/sklearn/linear_model/_logistic.py:1247: FutureWarning:\n",
      "\n",
      "'multi_class' was deprecated in version 1.5 and will be removed in 1.7. From then on, it will always use 'multinomial'. Leave it to its default value to avoid this warning.\n",
      "\n",
      "/Users/seankang/anaconda3/envs/Assignment3/lib/python3.11/site-packages/sklearn/linear_model/_sag.py:349: ConvergenceWarning:\n",
      "\n",
      "The max_iter was reached which means the coef_ did not converge\n",
      "\n",
      "/Users/seankang/anaconda3/envs/Assignment3/lib/python3.11/site-packages/sklearn/linear_model/_logistic.py:1247: FutureWarning:\n",
      "\n",
      "'multi_class' was deprecated in version 1.5 and will be removed in 1.7. From then on, it will always use 'multinomial'. Leave it to its default value to avoid this warning.\n",
      "\n",
      "/Users/seankang/anaconda3/envs/Assignment3/lib/python3.11/site-packages/sklearn/linear_model/_sag.py:349: ConvergenceWarning:\n",
      "\n",
      "The max_iter was reached which means the coef_ did not converge\n",
      "\n",
      "/Users/seankang/anaconda3/envs/Assignment3/lib/python3.11/site-packages/sklearn/linear_model/_logistic.py:1247: FutureWarning:\n",
      "\n",
      "'multi_class' was deprecated in version 1.5 and will be removed in 1.7. From then on, it will always use 'multinomial'. Leave it to its default value to avoid this warning.\n",
      "\n",
      "/Users/seankang/anaconda3/envs/Assignment3/lib/python3.11/site-packages/sklearn/linear_model/_sag.py:349: ConvergenceWarning:\n",
      "\n",
      "The max_iter was reached which means the coef_ did not converge\n",
      "\n",
      "/Users/seankang/anaconda3/envs/Assignment3/lib/python3.11/site-packages/sklearn/linear_model/_logistic.py:1247: FutureWarning:\n",
      "\n",
      "'multi_class' was deprecated in version 1.5 and will be removed in 1.7. From then on, it will always use 'multinomial'. Leave it to its default value to avoid this warning.\n",
      "\n",
      "/Users/seankang/anaconda3/envs/Assignment3/lib/python3.11/site-packages/sklearn/linear_model/_sag.py:349: ConvergenceWarning:\n",
      "\n",
      "The max_iter was reached which means the coef_ did not converge\n",
      "\n",
      "/Users/seankang/anaconda3/envs/Assignment3/lib/python3.11/site-packages/sklearn/linear_model/_logistic.py:1247: FutureWarning:\n",
      "\n",
      "'multi_class' was deprecated in version 1.5 and will be removed in 1.7. From then on, it will always use 'multinomial'. Leave it to its default value to avoid this warning.\n",
      "\n",
      "/Users/seankang/anaconda3/envs/Assignment3/lib/python3.11/site-packages/sklearn/linear_model/_sag.py:349: ConvergenceWarning:\n",
      "\n",
      "The max_iter was reached which means the coef_ did not converge\n",
      "\n",
      "/Users/seankang/anaconda3/envs/Assignment3/lib/python3.11/site-packages/sklearn/linear_model/_logistic.py:1247: FutureWarning:\n",
      "\n",
      "'multi_class' was deprecated in version 1.5 and will be removed in 1.7. From then on, it will always use 'multinomial'. Leave it to its default value to avoid this warning.\n",
      "\n",
      "/Users/seankang/anaconda3/envs/Assignment3/lib/python3.11/site-packages/sklearn/linear_model/_sag.py:349: ConvergenceWarning:\n",
      "\n",
      "The max_iter was reached which means the coef_ did not converge\n",
      "\n",
      "/Users/seankang/anaconda3/envs/Assignment3/lib/python3.11/site-packages/sklearn/linear_model/_logistic.py:1247: FutureWarning:\n",
      "\n",
      "'multi_class' was deprecated in version 1.5 and will be removed in 1.7. From then on, it will always use 'multinomial'. Leave it to its default value to avoid this warning.\n",
      "\n",
      "/Users/seankang/anaconda3/envs/Assignment3/lib/python3.11/site-packages/sklearn/linear_model/_sag.py:349: ConvergenceWarning:\n",
      "\n",
      "The max_iter was reached which means the coef_ did not converge\n",
      "\n",
      "/Users/seankang/anaconda3/envs/Assignment3/lib/python3.11/site-packages/sklearn/linear_model/_logistic.py:1247: FutureWarning:\n",
      "\n",
      "'multi_class' was deprecated in version 1.5 and will be removed in 1.7. From then on, it will always use 'multinomial'. Leave it to its default value to avoid this warning.\n",
      "\n",
      "/Users/seankang/anaconda3/envs/Assignment3/lib/python3.11/site-packages/sklearn/linear_model/_sag.py:349: ConvergenceWarning:\n",
      "\n",
      "The max_iter was reached which means the coef_ did not converge\n",
      "\n",
      "/Users/seankang/anaconda3/envs/Assignment3/lib/python3.11/site-packages/sklearn/linear_model/_logistic.py:1247: FutureWarning:\n",
      "\n",
      "'multi_class' was deprecated in version 1.5 and will be removed in 1.7. From then on, it will always use 'multinomial'. Leave it to its default value to avoid this warning.\n",
      "\n",
      "/Users/seankang/anaconda3/envs/Assignment3/lib/python3.11/site-packages/sklearn/linear_model/_sag.py:349: ConvergenceWarning:\n",
      "\n",
      "The max_iter was reached which means the coef_ did not converge\n",
      "\n",
      "/Users/seankang/anaconda3/envs/Assignment3/lib/python3.11/site-packages/sklearn/linear_model/_logistic.py:1247: FutureWarning:\n",
      "\n",
      "'multi_class' was deprecated in version 1.5 and will be removed in 1.7. From then on, it will always use 'multinomial'. Leave it to its default value to avoid this warning.\n",
      "\n",
      "/Users/seankang/anaconda3/envs/Assignment3/lib/python3.11/site-packages/sklearn/linear_model/_sag.py:349: ConvergenceWarning:\n",
      "\n",
      "The max_iter was reached which means the coef_ did not converge\n",
      "\n",
      "/Users/seankang/anaconda3/envs/Assignment3/lib/python3.11/site-packages/sklearn/linear_model/_logistic.py:1247: FutureWarning:\n",
      "\n",
      "'multi_class' was deprecated in version 1.5 and will be removed in 1.7. From then on, it will always use 'multinomial'. Leave it to its default value to avoid this warning.\n",
      "\n",
      "/Users/seankang/anaconda3/envs/Assignment3/lib/python3.11/site-packages/sklearn/linear_model/_sag.py:349: ConvergenceWarning:\n",
      "\n",
      "The max_iter was reached which means the coef_ did not converge\n",
      "\n",
      "/Users/seankang/anaconda3/envs/Assignment3/lib/python3.11/site-packages/sklearn/linear_model/_logistic.py:1247: FutureWarning:\n",
      "\n",
      "'multi_class' was deprecated in version 1.5 and will be removed in 1.7. From then on, it will always use 'multinomial'. Leave it to its default value to avoid this warning.\n",
      "\n",
      "/Users/seankang/anaconda3/envs/Assignment3/lib/python3.11/site-packages/sklearn/linear_model/_sag.py:349: ConvergenceWarning:\n",
      "\n",
      "The max_iter was reached which means the coef_ did not converge\n",
      "\n",
      "/Users/seankang/anaconda3/envs/Assignment3/lib/python3.11/site-packages/sklearn/linear_model/_logistic.py:1247: FutureWarning:\n",
      "\n",
      "'multi_class' was deprecated in version 1.5 and will be removed in 1.7. From then on, it will always use 'multinomial'. Leave it to its default value to avoid this warning.\n",
      "\n",
      "/Users/seankang/anaconda3/envs/Assignment3/lib/python3.11/site-packages/sklearn/linear_model/_sag.py:349: ConvergenceWarning:\n",
      "\n",
      "The max_iter was reached which means the coef_ did not converge\n",
      "\n",
      "/Users/seankang/anaconda3/envs/Assignment3/lib/python3.11/site-packages/sklearn/linear_model/_logistic.py:1247: FutureWarning:\n",
      "\n",
      "'multi_class' was deprecated in version 1.5 and will be removed in 1.7. From then on, it will always use 'multinomial'. Leave it to its default value to avoid this warning.\n",
      "\n",
      "/Users/seankang/anaconda3/envs/Assignment3/lib/python3.11/site-packages/sklearn/linear_model/_sag.py:349: ConvergenceWarning:\n",
      "\n",
      "The max_iter was reached which means the coef_ did not converge\n",
      "\n",
      "/Users/seankang/anaconda3/envs/Assignment3/lib/python3.11/site-packages/sklearn/linear_model/_logistic.py:1247: FutureWarning:\n",
      "\n",
      "'multi_class' was deprecated in version 1.5 and will be removed in 1.7. From then on, it will always use 'multinomial'. Leave it to its default value to avoid this warning.\n",
      "\n",
      "/Users/seankang/anaconda3/envs/Assignment3/lib/python3.11/site-packages/sklearn/linear_model/_sag.py:349: ConvergenceWarning:\n",
      "\n",
      "The max_iter was reached which means the coef_ did not converge\n",
      "\n",
      "/Users/seankang/anaconda3/envs/Assignment3/lib/python3.11/site-packages/sklearn/linear_model/_logistic.py:1247: FutureWarning:\n",
      "\n",
      "'multi_class' was deprecated in version 1.5 and will be removed in 1.7. From then on, it will always use 'multinomial'. Leave it to its default value to avoid this warning.\n",
      "\n",
      "/Users/seankang/anaconda3/envs/Assignment3/lib/python3.11/site-packages/sklearn/linear_model/_sag.py:349: ConvergenceWarning:\n",
      "\n",
      "The max_iter was reached which means the coef_ did not converge\n",
      "\n",
      "/Users/seankang/anaconda3/envs/Assignment3/lib/python3.11/site-packages/sklearn/linear_model/_logistic.py:1247: FutureWarning:\n",
      "\n",
      "'multi_class' was deprecated in version 1.5 and will be removed in 1.7. From then on, it will always use 'multinomial'. Leave it to its default value to avoid this warning.\n",
      "\n",
      "/Users/seankang/anaconda3/envs/Assignment3/lib/python3.11/site-packages/sklearn/linear_model/_sag.py:349: ConvergenceWarning:\n",
      "\n",
      "The max_iter was reached which means the coef_ did not converge\n",
      "\n",
      "/Users/seankang/anaconda3/envs/Assignment3/lib/python3.11/site-packages/sklearn/linear_model/_logistic.py:1247: FutureWarning:\n",
      "\n",
      "'multi_class' was deprecated in version 1.5 and will be removed in 1.7. From then on, it will always use 'multinomial'. Leave it to its default value to avoid this warning.\n",
      "\n",
      "/Users/seankang/anaconda3/envs/Assignment3/lib/python3.11/site-packages/sklearn/linear_model/_sag.py:349: ConvergenceWarning:\n",
      "\n",
      "The max_iter was reached which means the coef_ did not converge\n",
      "\n",
      "/Users/seankang/anaconda3/envs/Assignment3/lib/python3.11/site-packages/sklearn/linear_model/_logistic.py:1247: FutureWarning:\n",
      "\n",
      "'multi_class' was deprecated in version 1.5 and will be removed in 1.7. From then on, it will always use 'multinomial'. Leave it to its default value to avoid this warning.\n",
      "\n",
      "/Users/seankang/anaconda3/envs/Assignment3/lib/python3.11/site-packages/sklearn/linear_model/_sag.py:349: ConvergenceWarning:\n",
      "\n",
      "The max_iter was reached which means the coef_ did not converge\n",
      "\n",
      "/Users/seankang/anaconda3/envs/Assignment3/lib/python3.11/site-packages/sklearn/linear_model/_logistic.py:1247: FutureWarning:\n",
      "\n",
      "'multi_class' was deprecated in version 1.5 and will be removed in 1.7. From then on, it will always use 'multinomial'. Leave it to its default value to avoid this warning.\n",
      "\n",
      "/Users/seankang/anaconda3/envs/Assignment3/lib/python3.11/site-packages/sklearn/linear_model/_sag.py:349: ConvergenceWarning:\n",
      "\n",
      "The max_iter was reached which means the coef_ did not converge\n",
      "\n",
      "/Users/seankang/anaconda3/envs/Assignment3/lib/python3.11/site-packages/sklearn/linear_model/_logistic.py:1247: FutureWarning:\n",
      "\n",
      "'multi_class' was deprecated in version 1.5 and will be removed in 1.7. From then on, it will always use 'multinomial'. Leave it to its default value to avoid this warning.\n",
      "\n",
      "/Users/seankang/anaconda3/envs/Assignment3/lib/python3.11/site-packages/sklearn/linear_model/_sag.py:349: ConvergenceWarning:\n",
      "\n",
      "The max_iter was reached which means the coef_ did not converge\n",
      "\n",
      "/Users/seankang/anaconda3/envs/Assignment3/lib/python3.11/site-packages/sklearn/linear_model/_logistic.py:1247: FutureWarning:\n",
      "\n",
      "'multi_class' was deprecated in version 1.5 and will be removed in 1.7. From then on, it will always use 'multinomial'. Leave it to its default value to avoid this warning.\n",
      "\n",
      "/Users/seankang/anaconda3/envs/Assignment3/lib/python3.11/site-packages/sklearn/linear_model/_sag.py:349: ConvergenceWarning:\n",
      "\n",
      "The max_iter was reached which means the coef_ did not converge\n",
      "\n",
      "/Users/seankang/anaconda3/envs/Assignment3/lib/python3.11/site-packages/sklearn/linear_model/_logistic.py:1247: FutureWarning:\n",
      "\n",
      "'multi_class' was deprecated in version 1.5 and will be removed in 1.7. From then on, it will always use 'multinomial'. Leave it to its default value to avoid this warning.\n",
      "\n",
      "/Users/seankang/anaconda3/envs/Assignment3/lib/python3.11/site-packages/sklearn/linear_model/_sag.py:349: ConvergenceWarning:\n",
      "\n",
      "The max_iter was reached which means the coef_ did not converge\n",
      "\n",
      "/Users/seankang/anaconda3/envs/Assignment3/lib/python3.11/site-packages/sklearn/linear_model/_logistic.py:1247: FutureWarning:\n",
      "\n",
      "'multi_class' was deprecated in version 1.5 and will be removed in 1.7. From then on, it will always use 'multinomial'. Leave it to its default value to avoid this warning.\n",
      "\n",
      "/Users/seankang/anaconda3/envs/Assignment3/lib/python3.11/site-packages/sklearn/linear_model/_sag.py:349: ConvergenceWarning:\n",
      "\n",
      "The max_iter was reached which means the coef_ did not converge\n",
      "\n",
      "/Users/seankang/anaconda3/envs/Assignment3/lib/python3.11/site-packages/sklearn/linear_model/_logistic.py:1247: FutureWarning:\n",
      "\n",
      "'multi_class' was deprecated in version 1.5 and will be removed in 1.7. From then on, it will always use 'multinomial'. Leave it to its default value to avoid this warning.\n",
      "\n",
      "/Users/seankang/anaconda3/envs/Assignment3/lib/python3.11/site-packages/sklearn/linear_model/_sag.py:349: ConvergenceWarning:\n",
      "\n",
      "The max_iter was reached which means the coef_ did not converge\n",
      "\n",
      "/Users/seankang/anaconda3/envs/Assignment3/lib/python3.11/site-packages/sklearn/linear_model/_logistic.py:1247: FutureWarning:\n",
      "\n",
      "'multi_class' was deprecated in version 1.5 and will be removed in 1.7. From then on, it will always use 'multinomial'. Leave it to its default value to avoid this warning.\n",
      "\n",
      "/Users/seankang/anaconda3/envs/Assignment3/lib/python3.11/site-packages/sklearn/linear_model/_sag.py:349: ConvergenceWarning:\n",
      "\n",
      "The max_iter was reached which means the coef_ did not converge\n",
      "\n",
      "/Users/seankang/anaconda3/envs/Assignment3/lib/python3.11/site-packages/sklearn/linear_model/_logistic.py:1247: FutureWarning:\n",
      "\n",
      "'multi_class' was deprecated in version 1.5 and will be removed in 1.7. From then on, it will always use 'multinomial'. Leave it to its default value to avoid this warning.\n",
      "\n",
      "/Users/seankang/anaconda3/envs/Assignment3/lib/python3.11/site-packages/sklearn/linear_model/_sag.py:349: ConvergenceWarning:\n",
      "\n",
      "The max_iter was reached which means the coef_ did not converge\n",
      "\n",
      "/Users/seankang/anaconda3/envs/Assignment3/lib/python3.11/site-packages/sklearn/linear_model/_logistic.py:1247: FutureWarning:\n",
      "\n",
      "'multi_class' was deprecated in version 1.5 and will be removed in 1.7. From then on, it will always use 'multinomial'. Leave it to its default value to avoid this warning.\n",
      "\n",
      "/Users/seankang/anaconda3/envs/Assignment3/lib/python3.11/site-packages/sklearn/linear_model/_sag.py:349: ConvergenceWarning:\n",
      "\n",
      "The max_iter was reached which means the coef_ did not converge\n",
      "\n",
      "/Users/seankang/anaconda3/envs/Assignment3/lib/python3.11/site-packages/sklearn/linear_model/_logistic.py:1247: FutureWarning:\n",
      "\n",
      "'multi_class' was deprecated in version 1.5 and will be removed in 1.7. From then on, it will always use 'multinomial'. Leave it to its default value to avoid this warning.\n",
      "\n",
      "/Users/seankang/anaconda3/envs/Assignment3/lib/python3.11/site-packages/sklearn/linear_model/_sag.py:349: ConvergenceWarning:\n",
      "\n",
      "The max_iter was reached which means the coef_ did not converge\n",
      "\n",
      "/Users/seankang/anaconda3/envs/Assignment3/lib/python3.11/site-packages/sklearn/linear_model/_logistic.py:1247: FutureWarning:\n",
      "\n",
      "'multi_class' was deprecated in version 1.5 and will be removed in 1.7. From then on, it will always use 'multinomial'. Leave it to its default value to avoid this warning.\n",
      "\n",
      "/Users/seankang/anaconda3/envs/Assignment3/lib/python3.11/site-packages/sklearn/linear_model/_sag.py:349: ConvergenceWarning:\n",
      "\n",
      "The max_iter was reached which means the coef_ did not converge\n",
      "\n",
      "/Users/seankang/anaconda3/envs/Assignment3/lib/python3.11/site-packages/sklearn/linear_model/_logistic.py:1247: FutureWarning:\n",
      "\n",
      "'multi_class' was deprecated in version 1.5 and will be removed in 1.7. From then on, it will always use 'multinomial'. Leave it to its default value to avoid this warning.\n",
      "\n",
      "/Users/seankang/anaconda3/envs/Assignment3/lib/python3.11/site-packages/sklearn/linear_model/_sag.py:349: ConvergenceWarning:\n",
      "\n",
      "The max_iter was reached which means the coef_ did not converge\n",
      "\n",
      "/Users/seankang/anaconda3/envs/Assignment3/lib/python3.11/site-packages/sklearn/linear_model/_logistic.py:1247: FutureWarning:\n",
      "\n",
      "'multi_class' was deprecated in version 1.5 and will be removed in 1.7. From then on, it will always use 'multinomial'. Leave it to its default value to avoid this warning.\n",
      "\n",
      "/Users/seankang/anaconda3/envs/Assignment3/lib/python3.11/site-packages/sklearn/linear_model/_sag.py:349: ConvergenceWarning:\n",
      "\n",
      "The max_iter was reached which means the coef_ did not converge\n",
      "\n",
      "/Users/seankang/anaconda3/envs/Assignment3/lib/python3.11/site-packages/sklearn/linear_model/_logistic.py:1247: FutureWarning:\n",
      "\n",
      "'multi_class' was deprecated in version 1.5 and will be removed in 1.7. From then on, it will always use 'multinomial'. Leave it to its default value to avoid this warning.\n",
      "\n",
      "/Users/seankang/anaconda3/envs/Assignment3/lib/python3.11/site-packages/sklearn/linear_model/_sag.py:349: ConvergenceWarning:\n",
      "\n",
      "The max_iter was reached which means the coef_ did not converge\n",
      "\n",
      "/Users/seankang/anaconda3/envs/Assignment3/lib/python3.11/site-packages/sklearn/linear_model/_logistic.py:1247: FutureWarning:\n",
      "\n",
      "'multi_class' was deprecated in version 1.5 and will be removed in 1.7. From then on, it will always use 'multinomial'. Leave it to its default value to avoid this warning.\n",
      "\n",
      "/Users/seankang/anaconda3/envs/Assignment3/lib/python3.11/site-packages/sklearn/linear_model/_sag.py:349: ConvergenceWarning:\n",
      "\n",
      "The max_iter was reached which means the coef_ did not converge\n",
      "\n",
      "/Users/seankang/anaconda3/envs/Assignment3/lib/python3.11/site-packages/sklearn/linear_model/_logistic.py:1247: FutureWarning:\n",
      "\n",
      "'multi_class' was deprecated in version 1.5 and will be removed in 1.7. From then on, it will always use 'multinomial'. Leave it to its default value to avoid this warning.\n",
      "\n",
      "/Users/seankang/anaconda3/envs/Assignment3/lib/python3.11/site-packages/sklearn/linear_model/_sag.py:349: ConvergenceWarning:\n",
      "\n",
      "The max_iter was reached which means the coef_ did not converge\n",
      "\n",
      "/Users/seankang/anaconda3/envs/Assignment3/lib/python3.11/site-packages/sklearn/linear_model/_logistic.py:1247: FutureWarning:\n",
      "\n",
      "'multi_class' was deprecated in version 1.5 and will be removed in 1.7. From then on, it will always use 'multinomial'. Leave it to its default value to avoid this warning.\n",
      "\n",
      "/Users/seankang/anaconda3/envs/Assignment3/lib/python3.11/site-packages/sklearn/linear_model/_sag.py:349: ConvergenceWarning:\n",
      "\n",
      "The max_iter was reached which means the coef_ did not converge\n",
      "\n",
      "/Users/seankang/anaconda3/envs/Assignment3/lib/python3.11/site-packages/sklearn/linear_model/_logistic.py:1247: FutureWarning:\n",
      "\n",
      "'multi_class' was deprecated in version 1.5 and will be removed in 1.7. From then on, it will always use 'multinomial'. Leave it to its default value to avoid this warning.\n",
      "\n",
      "/Users/seankang/anaconda3/envs/Assignment3/lib/python3.11/site-packages/sklearn/linear_model/_sag.py:349: ConvergenceWarning:\n",
      "\n",
      "The max_iter was reached which means the coef_ did not converge\n",
      "\n",
      "/Users/seankang/anaconda3/envs/Assignment3/lib/python3.11/site-packages/sklearn/linear_model/_logistic.py:1247: FutureWarning:\n",
      "\n",
      "'multi_class' was deprecated in version 1.5 and will be removed in 1.7. From then on, it will always use 'multinomial'. Leave it to its default value to avoid this warning.\n",
      "\n",
      "/Users/seankang/anaconda3/envs/Assignment3/lib/python3.11/site-packages/sklearn/linear_model/_sag.py:349: ConvergenceWarning:\n",
      "\n",
      "The max_iter was reached which means the coef_ did not converge\n",
      "\n",
      "/Users/seankang/anaconda3/envs/Assignment3/lib/python3.11/site-packages/sklearn/linear_model/_logistic.py:1247: FutureWarning:\n",
      "\n",
      "'multi_class' was deprecated in version 1.5 and will be removed in 1.7. From then on, it will always use 'multinomial'. Leave it to its default value to avoid this warning.\n",
      "\n",
      "/Users/seankang/anaconda3/envs/Assignment3/lib/python3.11/site-packages/sklearn/linear_model/_sag.py:349: ConvergenceWarning:\n",
      "\n",
      "The max_iter was reached which means the coef_ did not converge\n",
      "\n",
      "/Users/seankang/anaconda3/envs/Assignment3/lib/python3.11/site-packages/sklearn/linear_model/_logistic.py:1247: FutureWarning:\n",
      "\n",
      "'multi_class' was deprecated in version 1.5 and will be removed in 1.7. From then on, it will always use 'multinomial'. Leave it to its default value to avoid this warning.\n",
      "\n",
      "/Users/seankang/anaconda3/envs/Assignment3/lib/python3.11/site-packages/sklearn/linear_model/_sag.py:349: ConvergenceWarning:\n",
      "\n",
      "The max_iter was reached which means the coef_ did not converge\n",
      "\n",
      "/Users/seankang/anaconda3/envs/Assignment3/lib/python3.11/site-packages/sklearn/linear_model/_logistic.py:1247: FutureWarning:\n",
      "\n",
      "'multi_class' was deprecated in version 1.5 and will be removed in 1.7. From then on, it will always use 'multinomial'. Leave it to its default value to avoid this warning.\n",
      "\n",
      "/Users/seankang/anaconda3/envs/Assignment3/lib/python3.11/site-packages/sklearn/linear_model/_sag.py:349: ConvergenceWarning:\n",
      "\n",
      "The max_iter was reached which means the coef_ did not converge\n",
      "\n",
      "/Users/seankang/anaconda3/envs/Assignment3/lib/python3.11/site-packages/sklearn/linear_model/_logistic.py:1247: FutureWarning:\n",
      "\n",
      "'multi_class' was deprecated in version 1.5 and will be removed in 1.7. From then on, it will always use 'multinomial'. Leave it to its default value to avoid this warning.\n",
      "\n",
      "/Users/seankang/anaconda3/envs/Assignment3/lib/python3.11/site-packages/sklearn/linear_model/_sag.py:349: ConvergenceWarning:\n",
      "\n",
      "The max_iter was reached which means the coef_ did not converge\n",
      "\n",
      "/Users/seankang/anaconda3/envs/Assignment3/lib/python3.11/site-packages/sklearn/linear_model/_logistic.py:1247: FutureWarning:\n",
      "\n",
      "'multi_class' was deprecated in version 1.5 and will be removed in 1.7. From then on, it will always use 'multinomial'. Leave it to its default value to avoid this warning.\n",
      "\n",
      "/Users/seankang/anaconda3/envs/Assignment3/lib/python3.11/site-packages/sklearn/linear_model/_sag.py:349: ConvergenceWarning:\n",
      "\n",
      "The max_iter was reached which means the coef_ did not converge\n",
      "\n",
      "/Users/seankang/anaconda3/envs/Assignment3/lib/python3.11/site-packages/sklearn/linear_model/_logistic.py:1247: FutureWarning:\n",
      "\n",
      "'multi_class' was deprecated in version 1.5 and will be removed in 1.7. From then on, it will always use 'multinomial'. Leave it to its default value to avoid this warning.\n",
      "\n",
      "/Users/seankang/anaconda3/envs/Assignment3/lib/python3.11/site-packages/sklearn/linear_model/_sag.py:349: ConvergenceWarning:\n",
      "\n",
      "The max_iter was reached which means the coef_ did not converge\n",
      "\n",
      "/Users/seankang/anaconda3/envs/Assignment3/lib/python3.11/site-packages/sklearn/linear_model/_logistic.py:1247: FutureWarning:\n",
      "\n",
      "'multi_class' was deprecated in version 1.5 and will be removed in 1.7. From then on, it will always use 'multinomial'. Leave it to its default value to avoid this warning.\n",
      "\n",
      "/Users/seankang/anaconda3/envs/Assignment3/lib/python3.11/site-packages/sklearn/linear_model/_sag.py:349: ConvergenceWarning:\n",
      "\n",
      "The max_iter was reached which means the coef_ did not converge\n",
      "\n",
      "/Users/seankang/anaconda3/envs/Assignment3/lib/python3.11/site-packages/sklearn/linear_model/_logistic.py:1247: FutureWarning:\n",
      "\n",
      "'multi_class' was deprecated in version 1.5 and will be removed in 1.7. From then on, it will always use 'multinomial'. Leave it to its default value to avoid this warning.\n",
      "\n",
      "/Users/seankang/anaconda3/envs/Assignment3/lib/python3.11/site-packages/sklearn/linear_model/_sag.py:349: ConvergenceWarning:\n",
      "\n",
      "The max_iter was reached which means the coef_ did not converge\n",
      "\n",
      "/Users/seankang/anaconda3/envs/Assignment3/lib/python3.11/site-packages/sklearn/linear_model/_logistic.py:1247: FutureWarning:\n",
      "\n",
      "'multi_class' was deprecated in version 1.5 and will be removed in 1.7. From then on, it will always use 'multinomial'. Leave it to its default value to avoid this warning.\n",
      "\n",
      "/Users/seankang/anaconda3/envs/Assignment3/lib/python3.11/site-packages/sklearn/linear_model/_sag.py:349: ConvergenceWarning:\n",
      "\n",
      "The max_iter was reached which means the coef_ did not converge\n",
      "\n",
      "/Users/seankang/anaconda3/envs/Assignment3/lib/python3.11/site-packages/sklearn/linear_model/_logistic.py:1247: FutureWarning:\n",
      "\n",
      "'multi_class' was deprecated in version 1.5 and will be removed in 1.7. From then on, it will always use 'multinomial'. Leave it to its default value to avoid this warning.\n",
      "\n",
      "/Users/seankang/anaconda3/envs/Assignment3/lib/python3.11/site-packages/sklearn/linear_model/_sag.py:349: ConvergenceWarning:\n",
      "\n",
      "The max_iter was reached which means the coef_ did not converge\n",
      "\n",
      "/Users/seankang/anaconda3/envs/Assignment3/lib/python3.11/site-packages/sklearn/linear_model/_logistic.py:1247: FutureWarning:\n",
      "\n",
      "'multi_class' was deprecated in version 1.5 and will be removed in 1.7. From then on, it will always use 'multinomial'. Leave it to its default value to avoid this warning.\n",
      "\n",
      "/Users/seankang/anaconda3/envs/Assignment3/lib/python3.11/site-packages/sklearn/linear_model/_sag.py:349: ConvergenceWarning:\n",
      "\n",
      "The max_iter was reached which means the coef_ did not converge\n",
      "\n",
      "/Users/seankang/anaconda3/envs/Assignment3/lib/python3.11/site-packages/sklearn/linear_model/_logistic.py:1247: FutureWarning:\n",
      "\n",
      "'multi_class' was deprecated in version 1.5 and will be removed in 1.7. From then on, it will always use 'multinomial'. Leave it to its default value to avoid this warning.\n",
      "\n",
      "/Users/seankang/anaconda3/envs/Assignment3/lib/python3.11/site-packages/sklearn/linear_model/_sag.py:349: ConvergenceWarning:\n",
      "\n",
      "The max_iter was reached which means the coef_ did not converge\n",
      "\n",
      "/Users/seankang/anaconda3/envs/Assignment3/lib/python3.11/site-packages/sklearn/linear_model/_logistic.py:1247: FutureWarning:\n",
      "\n",
      "'multi_class' was deprecated in version 1.5 and will be removed in 1.7. From then on, it will always use 'multinomial'. Leave it to its default value to avoid this warning.\n",
      "\n",
      "/Users/seankang/anaconda3/envs/Assignment3/lib/python3.11/site-packages/sklearn/linear_model/_sag.py:349: ConvergenceWarning:\n",
      "\n",
      "The max_iter was reached which means the coef_ did not converge\n",
      "\n",
      "/Users/seankang/anaconda3/envs/Assignment3/lib/python3.11/site-packages/sklearn/linear_model/_logistic.py:1247: FutureWarning:\n",
      "\n",
      "'multi_class' was deprecated in version 1.5 and will be removed in 1.7. From then on, it will always use 'multinomial'. Leave it to its default value to avoid this warning.\n",
      "\n",
      "/Users/seankang/anaconda3/envs/Assignment3/lib/python3.11/site-packages/sklearn/linear_model/_sag.py:349: ConvergenceWarning:\n",
      "\n",
      "The max_iter was reached which means the coef_ did not converge\n",
      "\n",
      "/Users/seankang/anaconda3/envs/Assignment3/lib/python3.11/site-packages/sklearn/linear_model/_logistic.py:1247: FutureWarning:\n",
      "\n",
      "'multi_class' was deprecated in version 1.5 and will be removed in 1.7. From then on, it will always use 'multinomial'. Leave it to its default value to avoid this warning.\n",
      "\n",
      "/Users/seankang/anaconda3/envs/Assignment3/lib/python3.11/site-packages/sklearn/linear_model/_sag.py:349: ConvergenceWarning:\n",
      "\n",
      "The max_iter was reached which means the coef_ did not converge\n",
      "\n",
      "/Users/seankang/anaconda3/envs/Assignment3/lib/python3.11/site-packages/sklearn/linear_model/_logistic.py:1247: FutureWarning:\n",
      "\n",
      "'multi_class' was deprecated in version 1.5 and will be removed in 1.7. From then on, it will always use 'multinomial'. Leave it to its default value to avoid this warning.\n",
      "\n",
      "/Users/seankang/anaconda3/envs/Assignment3/lib/python3.11/site-packages/sklearn/linear_model/_sag.py:349: ConvergenceWarning:\n",
      "\n",
      "The max_iter was reached which means the coef_ did not converge\n",
      "\n",
      "/Users/seankang/anaconda3/envs/Assignment3/lib/python3.11/site-packages/sklearn/linear_model/_logistic.py:1247: FutureWarning:\n",
      "\n",
      "'multi_class' was deprecated in version 1.5 and will be removed in 1.7. From then on, it will always use 'multinomial'. Leave it to its default value to avoid this warning.\n",
      "\n",
      "/Users/seankang/anaconda3/envs/Assignment3/lib/python3.11/site-packages/sklearn/linear_model/_sag.py:349: ConvergenceWarning:\n",
      "\n",
      "The max_iter was reached which means the coef_ did not converge\n",
      "\n",
      "/Users/seankang/anaconda3/envs/Assignment3/lib/python3.11/site-packages/sklearn/linear_model/_logistic.py:1247: FutureWarning:\n",
      "\n",
      "'multi_class' was deprecated in version 1.5 and will be removed in 1.7. From then on, it will always use 'multinomial'. Leave it to its default value to avoid this warning.\n",
      "\n",
      "/Users/seankang/anaconda3/envs/Assignment3/lib/python3.11/site-packages/sklearn/linear_model/_sag.py:349: ConvergenceWarning:\n",
      "\n",
      "The max_iter was reached which means the coef_ did not converge\n",
      "\n",
      "/Users/seankang/anaconda3/envs/Assignment3/lib/python3.11/site-packages/sklearn/linear_model/_logistic.py:1247: FutureWarning:\n",
      "\n",
      "'multi_class' was deprecated in version 1.5 and will be removed in 1.7. From then on, it will always use 'multinomial'. Leave it to its default value to avoid this warning.\n",
      "\n",
      "/Users/seankang/anaconda3/envs/Assignment3/lib/python3.11/site-packages/sklearn/linear_model/_sag.py:349: ConvergenceWarning:\n",
      "\n",
      "The max_iter was reached which means the coef_ did not converge\n",
      "\n",
      "/Users/seankang/anaconda3/envs/Assignment3/lib/python3.11/site-packages/sklearn/linear_model/_logistic.py:1247: FutureWarning:\n",
      "\n",
      "'multi_class' was deprecated in version 1.5 and will be removed in 1.7. From then on, it will always use 'multinomial'. Leave it to its default value to avoid this warning.\n",
      "\n",
      "/Users/seankang/anaconda3/envs/Assignment3/lib/python3.11/site-packages/sklearn/linear_model/_sag.py:349: ConvergenceWarning:\n",
      "\n",
      "The max_iter was reached which means the coef_ did not converge\n",
      "\n",
      "/Users/seankang/anaconda3/envs/Assignment3/lib/python3.11/site-packages/sklearn/linear_model/_logistic.py:1247: FutureWarning:\n",
      "\n",
      "'multi_class' was deprecated in version 1.5 and will be removed in 1.7. From then on, it will always use 'multinomial'. Leave it to its default value to avoid this warning.\n",
      "\n",
      "/Users/seankang/anaconda3/envs/Assignment3/lib/python3.11/site-packages/sklearn/linear_model/_sag.py:349: ConvergenceWarning:\n",
      "\n",
      "The max_iter was reached which means the coef_ did not converge\n",
      "\n",
      "/Users/seankang/anaconda3/envs/Assignment3/lib/python3.11/site-packages/sklearn/linear_model/_logistic.py:1247: FutureWarning:\n",
      "\n",
      "'multi_class' was deprecated in version 1.5 and will be removed in 1.7. From then on, it will always use 'multinomial'. Leave it to its default value to avoid this warning.\n",
      "\n",
      "/Users/seankang/anaconda3/envs/Assignment3/lib/python3.11/site-packages/sklearn/linear_model/_sag.py:349: ConvergenceWarning:\n",
      "\n",
      "The max_iter was reached which means the coef_ did not converge\n",
      "\n",
      "/Users/seankang/anaconda3/envs/Assignment3/lib/python3.11/site-packages/sklearn/linear_model/_logistic.py:1247: FutureWarning:\n",
      "\n",
      "'multi_class' was deprecated in version 1.5 and will be removed in 1.7. From then on, it will always use 'multinomial'. Leave it to its default value to avoid this warning.\n",
      "\n",
      "/Users/seankang/anaconda3/envs/Assignment3/lib/python3.11/site-packages/sklearn/linear_model/_sag.py:349: ConvergenceWarning:\n",
      "\n",
      "The max_iter was reached which means the coef_ did not converge\n",
      "\n",
      "/Users/seankang/anaconda3/envs/Assignment3/lib/python3.11/site-packages/sklearn/linear_model/_logistic.py:1247: FutureWarning:\n",
      "\n",
      "'multi_class' was deprecated in version 1.5 and will be removed in 1.7. From then on, it will always use 'multinomial'. Leave it to its default value to avoid this warning.\n",
      "\n",
      "/Users/seankang/anaconda3/envs/Assignment3/lib/python3.11/site-packages/sklearn/linear_model/_sag.py:349: ConvergenceWarning:\n",
      "\n",
      "The max_iter was reached which means the coef_ did not converge\n",
      "\n",
      "/Users/seankang/anaconda3/envs/Assignment3/lib/python3.11/site-packages/sklearn/linear_model/_logistic.py:1247: FutureWarning:\n",
      "\n",
      "'multi_class' was deprecated in version 1.5 and will be removed in 1.7. From then on, it will always use 'multinomial'. Leave it to its default value to avoid this warning.\n",
      "\n",
      "/Users/seankang/anaconda3/envs/Assignment3/lib/python3.11/site-packages/sklearn/linear_model/_sag.py:349: ConvergenceWarning:\n",
      "\n",
      "The max_iter was reached which means the coef_ did not converge\n",
      "\n",
      "/Users/seankang/anaconda3/envs/Assignment3/lib/python3.11/site-packages/sklearn/linear_model/_logistic.py:1247: FutureWarning:\n",
      "\n",
      "'multi_class' was deprecated in version 1.5 and will be removed in 1.7. From then on, it will always use 'multinomial'. Leave it to its default value to avoid this warning.\n",
      "\n",
      "/Users/seankang/anaconda3/envs/Assignment3/lib/python3.11/site-packages/sklearn/linear_model/_sag.py:349: ConvergenceWarning:\n",
      "\n",
      "The max_iter was reached which means the coef_ did not converge\n",
      "\n",
      "/Users/seankang/anaconda3/envs/Assignment3/lib/python3.11/site-packages/sklearn/linear_model/_logistic.py:1247: FutureWarning:\n",
      "\n",
      "'multi_class' was deprecated in version 1.5 and will be removed in 1.7. From then on, it will always use 'multinomial'. Leave it to its default value to avoid this warning.\n",
      "\n",
      "/Users/seankang/anaconda3/envs/Assignment3/lib/python3.11/site-packages/sklearn/linear_model/_sag.py:349: ConvergenceWarning:\n",
      "\n",
      "The max_iter was reached which means the coef_ did not converge\n",
      "\n",
      "/Users/seankang/anaconda3/envs/Assignment3/lib/python3.11/site-packages/sklearn/linear_model/_logistic.py:1247: FutureWarning:\n",
      "\n",
      "'multi_class' was deprecated in version 1.5 and will be removed in 1.7. From then on, it will always use 'multinomial'. Leave it to its default value to avoid this warning.\n",
      "\n",
      "/Users/seankang/anaconda3/envs/Assignment3/lib/python3.11/site-packages/sklearn/linear_model/_sag.py:349: ConvergenceWarning:\n",
      "\n",
      "The max_iter was reached which means the coef_ did not converge\n",
      "\n",
      "/Users/seankang/anaconda3/envs/Assignment3/lib/python3.11/site-packages/sklearn/linear_model/_logistic.py:1247: FutureWarning:\n",
      "\n",
      "'multi_class' was deprecated in version 1.5 and will be removed in 1.7. From then on, it will always use 'multinomial'. Leave it to its default value to avoid this warning.\n",
      "\n",
      "/Users/seankang/anaconda3/envs/Assignment3/lib/python3.11/site-packages/sklearn/linear_model/_sag.py:349: ConvergenceWarning:\n",
      "\n",
      "The max_iter was reached which means the coef_ did not converge\n",
      "\n",
      "/Users/seankang/anaconda3/envs/Assignment3/lib/python3.11/site-packages/sklearn/linear_model/_logistic.py:1247: FutureWarning:\n",
      "\n",
      "'multi_class' was deprecated in version 1.5 and will be removed in 1.7. From then on, it will always use 'multinomial'. Leave it to its default value to avoid this warning.\n",
      "\n",
      "/Users/seankang/anaconda3/envs/Assignment3/lib/python3.11/site-packages/sklearn/linear_model/_sag.py:349: ConvergenceWarning:\n",
      "\n",
      "The max_iter was reached which means the coef_ did not converge\n",
      "\n",
      "/Users/seankang/anaconda3/envs/Assignment3/lib/python3.11/site-packages/sklearn/linear_model/_logistic.py:1247: FutureWarning:\n",
      "\n",
      "'multi_class' was deprecated in version 1.5 and will be removed in 1.7. From then on, it will always use 'multinomial'. Leave it to its default value to avoid this warning.\n",
      "\n",
      "/Users/seankang/anaconda3/envs/Assignment3/lib/python3.11/site-packages/sklearn/linear_model/_sag.py:349: ConvergenceWarning:\n",
      "\n",
      "The max_iter was reached which means the coef_ did not converge\n",
      "\n",
      "/Users/seankang/anaconda3/envs/Assignment3/lib/python3.11/site-packages/sklearn/linear_model/_logistic.py:1247: FutureWarning:\n",
      "\n",
      "'multi_class' was deprecated in version 1.5 and will be removed in 1.7. From then on, it will always use 'multinomial'. Leave it to its default value to avoid this warning.\n",
      "\n",
      "/Users/seankang/anaconda3/envs/Assignment3/lib/python3.11/site-packages/sklearn/linear_model/_sag.py:349: ConvergenceWarning:\n",
      "\n",
      "The max_iter was reached which means the coef_ did not converge\n",
      "\n",
      "/Users/seankang/anaconda3/envs/Assignment3/lib/python3.11/site-packages/sklearn/linear_model/_logistic.py:1247: FutureWarning:\n",
      "\n",
      "'multi_class' was deprecated in version 1.5 and will be removed in 1.7. From then on, it will always use 'multinomial'. Leave it to its default value to avoid this warning.\n",
      "\n",
      "/Users/seankang/anaconda3/envs/Assignment3/lib/python3.11/site-packages/sklearn/linear_model/_sag.py:349: ConvergenceWarning:\n",
      "\n",
      "The max_iter was reached which means the coef_ did not converge\n",
      "\n",
      "/Users/seankang/anaconda3/envs/Assignment3/lib/python3.11/site-packages/sklearn/linear_model/_logistic.py:1247: FutureWarning:\n",
      "\n",
      "'multi_class' was deprecated in version 1.5 and will be removed in 1.7. From then on, it will always use 'multinomial'. Leave it to its default value to avoid this warning.\n",
      "\n",
      "/Users/seankang/anaconda3/envs/Assignment3/lib/python3.11/site-packages/sklearn/linear_model/_sag.py:349: ConvergenceWarning:\n",
      "\n",
      "The max_iter was reached which means the coef_ did not converge\n",
      "\n",
      "/Users/seankang/anaconda3/envs/Assignment3/lib/python3.11/site-packages/sklearn/linear_model/_logistic.py:1247: FutureWarning:\n",
      "\n",
      "'multi_class' was deprecated in version 1.5 and will be removed in 1.7. From then on, it will always use 'multinomial'. Leave it to its default value to avoid this warning.\n",
      "\n",
      "/Users/seankang/anaconda3/envs/Assignment3/lib/python3.11/site-packages/sklearn/linear_model/_sag.py:349: ConvergenceWarning:\n",
      "\n",
      "The max_iter was reached which means the coef_ did not converge\n",
      "\n",
      "/Users/seankang/anaconda3/envs/Assignment3/lib/python3.11/site-packages/sklearn/linear_model/_logistic.py:1247: FutureWarning:\n",
      "\n",
      "'multi_class' was deprecated in version 1.5 and will be removed in 1.7. From then on, it will always use 'multinomial'. Leave it to its default value to avoid this warning.\n",
      "\n",
      "/Users/seankang/anaconda3/envs/Assignment3/lib/python3.11/site-packages/sklearn/linear_model/_sag.py:349: ConvergenceWarning:\n",
      "\n",
      "The max_iter was reached which means the coef_ did not converge\n",
      "\n",
      "/Users/seankang/anaconda3/envs/Assignment3/lib/python3.11/site-packages/sklearn/linear_model/_logistic.py:1247: FutureWarning:\n",
      "\n",
      "'multi_class' was deprecated in version 1.5 and will be removed in 1.7. From then on, it will always use 'multinomial'. Leave it to its default value to avoid this warning.\n",
      "\n",
      "/Users/seankang/anaconda3/envs/Assignment3/lib/python3.11/site-packages/sklearn/linear_model/_sag.py:349: ConvergenceWarning:\n",
      "\n",
      "The max_iter was reached which means the coef_ did not converge\n",
      "\n",
      "/Users/seankang/anaconda3/envs/Assignment3/lib/python3.11/site-packages/sklearn/linear_model/_logistic.py:1247: FutureWarning:\n",
      "\n",
      "'multi_class' was deprecated in version 1.5 and will be removed in 1.7. From then on, it will always use 'multinomial'. Leave it to its default value to avoid this warning.\n",
      "\n",
      "/Users/seankang/anaconda3/envs/Assignment3/lib/python3.11/site-packages/sklearn/linear_model/_sag.py:349: ConvergenceWarning:\n",
      "\n",
      "The max_iter was reached which means the coef_ did not converge\n",
      "\n",
      "/Users/seankang/anaconda3/envs/Assignment3/lib/python3.11/site-packages/sklearn/linear_model/_logistic.py:1247: FutureWarning:\n",
      "\n",
      "'multi_class' was deprecated in version 1.5 and will be removed in 1.7. From then on, it will always use 'multinomial'. Leave it to its default value to avoid this warning.\n",
      "\n",
      "/Users/seankang/anaconda3/envs/Assignment3/lib/python3.11/site-packages/sklearn/linear_model/_sag.py:349: ConvergenceWarning:\n",
      "\n",
      "The max_iter was reached which means the coef_ did not converge\n",
      "\n",
      "/Users/seankang/anaconda3/envs/Assignment3/lib/python3.11/site-packages/sklearn/linear_model/_logistic.py:1247: FutureWarning:\n",
      "\n",
      "'multi_class' was deprecated in version 1.5 and will be removed in 1.7. From then on, it will always use 'multinomial'. Leave it to its default value to avoid this warning.\n",
      "\n",
      "/Users/seankang/anaconda3/envs/Assignment3/lib/python3.11/site-packages/sklearn/linear_model/_sag.py:349: ConvergenceWarning:\n",
      "\n",
      "The max_iter was reached which means the coef_ did not converge\n",
      "\n",
      "/Users/seankang/anaconda3/envs/Assignment3/lib/python3.11/site-packages/sklearn/linear_model/_logistic.py:1247: FutureWarning:\n",
      "\n",
      "'multi_class' was deprecated in version 1.5 and will be removed in 1.7. From then on, it will always use 'multinomial'. Leave it to its default value to avoid this warning.\n",
      "\n",
      "/Users/seankang/anaconda3/envs/Assignment3/lib/python3.11/site-packages/sklearn/linear_model/_sag.py:349: ConvergenceWarning:\n",
      "\n",
      "The max_iter was reached which means the coef_ did not converge\n",
      "\n"
     ]
    }
   ],
   "source": [
    "param_grid = dict(max_iter=max_iter, C=C, penalty=penalty)\n",
    "\n",
    "lr_iris = LogisticRegression(multi_class='multinomial',solver='saga')\n",
    "\n",
    "grid = GridSearchCV(estimator=lr_iris, param_grid=param_grid, cv = 5)\n",
    "\n",
    "grid_result = grid.fit(X, y)\n",
    "\n"
   ]
  },
  {
   "cell_type": "code",
   "execution_count": 27,
   "metadata": {},
   "outputs": [
    {
     "name": "stdout",
     "output_type": "stream",
     "text": [
      "Best: 0.833333 using {'C': 0.55, 'max_iter': 80, 'penalty': 'l1'}\n"
     ]
    }
   ],
   "source": [
    "# Summarize results\n",
    "print(\"Best: %f using %s\" % (grid_result.best_score_, grid_result.best_params_))"
   ]
  },
  {
   "cell_type": "code",
   "execution_count": 28,
   "metadata": {},
   "outputs": [
    {
     "name": "stderr",
     "output_type": "stream",
     "text": [
      "/Users/seankang/anaconda3/envs/Assignment3/lib/python3.11/site-packages/sklearn/linear_model/_logistic.py:1247: FutureWarning:\n",
      "\n",
      "'multi_class' was deprecated in version 1.5 and will be removed in 1.7. From then on, it will always use 'multinomial'. Leave it to its default value to avoid this warning.\n",
      "\n",
      "/Users/seankang/anaconda3/envs/Assignment3/lib/python3.11/site-packages/sklearn/linear_model/_sag.py:349: ConvergenceWarning:\n",
      "\n",
      "The max_iter was reached which means the coef_ did not converge\n",
      "\n"
     ]
    }
   ],
   "source": [
    "best_iris = LogisticRegression(multi_class='multinomial',solver='saga', C=0.325, max_iter= 100, penalty= 'l2')\n",
    "best_iris = best_iris.fit(X, y)\n",
    "y_pred_best = best_iris.predict(X)\n",
    "\n"
   ]
  },
  {
   "cell_type": "code",
   "execution_count": 29,
   "metadata": {},
   "outputs": [
    {
     "name": "stdout",
     "output_type": "stream",
     "text": [
      "0.82\n"
     ]
    }
   ],
   "source": [
    "print(metrics.accuracy_score(y_pred_best,y))"
   ]
  },
  {
   "cell_type": "code",
   "execution_count": 30,
   "metadata": {},
   "outputs": [
    {
     "name": "stdout",
     "output_type": "stream",
     "text": [
      "0.5108256237659907\n"
     ]
    }
   ],
   "source": [
    "#what is the log loss function and how does it work?\n",
    "from sklearn.metrics import log_loss\n",
    "\n",
    "# Predicted probabilities\n",
    "y_pred = [0.6, 0.4]\n",
    "\n",
    "# Actual class labels\n",
    "y_true = [1, 0]\n",
    "\n",
    "# Calculate the cross-entropy loss\n",
    "loss = log_loss(y_true, y_pred)\n",
    "\n",
    "# Print the loss\n",
    "print(loss)"
   ]
  },
  {
   "cell_type": "code",
   "execution_count": 31,
   "metadata": {},
   "outputs": [
    {
     "name": "stdout",
     "output_type": "stream",
     "text": [
      "[0.700001   0.2        0.10000009]\n",
      "log of pred y:  [-0.35667352 -1.60943791 -2.30258419]\n",
      "y_true * log(y_pred) [-0.35667352 -0.         -0.        ]\n",
      "0.35667351536832426\n"
     ]
    }
   ],
   "source": [
    "# how does the cross entropy loss work? \n",
    "import numpy as np\n",
    "\n",
    "def cross_entropy_loss(y_true, y_pred):\n",
    "  \"\"\"Computes the cross entropy loss.\n",
    "\n",
    "  Args:\n",
    "    y_true: The ground truth labels.\n",
    "    y_pred: The predicted labels.\n",
    "\n",
    "  Returns:\n",
    "    The cross entropy loss.\n",
    "  \"\"\"\n",
    "\n",
    "  # Clip the predicted values to prevent log(0).\n",
    "  y_pred = np.clip(y_pred, 1e-15, 1 - 1e-15)\n",
    "  print(y_pred)\n",
    "\n",
    "  # Calculate the cross entropy loss.\n",
    "  print(\"log of pred y: \", np.log(y_pred))\n",
    "  print(\"y_true * log(y_pred)\", y_true * np.log(y_pred))\n",
    "  loss = -np.sum(y_true * np.log(y_pred))\n",
    "  #print(loss)\n",
    "\n",
    "  return loss\n",
    "\n",
    "# Example usage:\n",
    "\n",
    "y_true = np.array([1, 0, 0])\n",
    "y_pred = np.array([0.700001, 0.200000000001, 0.10000009])\n",
    "\n",
    "loss = cross_entropy_loss(y_true, y_pred)\n",
    "\n",
    "print(loss)\n"
   ]
  }
 ],
 "metadata": {
  "kernelspec": {
   "display_name": "Assignment3",
   "language": "python",
   "name": "python3"
  },
  "language_info": {
   "codemirror_mode": {
    "name": "ipython",
    "version": 3
   },
   "file_extension": ".py",
   "mimetype": "text/x-python",
   "name": "python",
   "nbconvert_exporter": "python",
   "pygments_lexer": "ipython3",
   "version": "3.11.8"
  }
 },
 "nbformat": 4,
 "nbformat_minor": 2
}
