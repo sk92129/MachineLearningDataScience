{
 "cells": [
  {
   "cell_type": "markdown",
   "metadata": {},
   "source": [
    "# Regularization\n",
    "\n",
    "\n",
    "**Note:** scikit-learn's `Pipeline` functionality is explored at length in this notebook. Instead, focus on the bigger picture, of how we are using regularization in practice."
   ]
  },
  {
   "cell_type": "markdown",
   "metadata": {},
   "source": [
    "## Regularization\n",
    "\n",
    "In this notebook we explore the use of regularization techniques to address overfitting.  "
   ]
  },
  {
   "cell_type": "markdown",
   "metadata": {},
   "source": [
    "## Imports\n",
    "\n",
    "As with other notebooks we will use the same set of standard imports."
   ]
  },
  {
   "cell_type": "code",
   "execution_count": 1,
   "metadata": {},
   "outputs": [],
   "source": [
    "import numpy as np\n",
    "import pandas as pd"
   ]
  },
  {
   "cell_type": "code",
   "execution_count": 2,
   "metadata": {},
   "outputs": [
    {
     "data": {
      "text/html": [
       "        <script type=\"text/javascript\">\n",
       "        window.PlotlyConfig = {MathJaxConfig: 'local'};\n",
       "        if (window.MathJax && window.MathJax.Hub && window.MathJax.Hub.Config) {window.MathJax.Hub.Config({SVG: {font: \"STIX-Web\"}});}\n",
       "        if (typeof require !== 'undefined') {\n",
       "        require.undef(\"plotly\");\n",
       "        requirejs.config({\n",
       "            paths: {\n",
       "                'plotly': ['https://cdn.plot.ly/plotly-2.35.2.min']\n",
       "            }\n",
       "        });\n",
       "        require(['plotly'], function(Plotly) {\n",
       "            window._Plotly = Plotly;\n",
       "        });\n",
       "        }\n",
       "        </script>\n",
       "        "
      ]
     },
     "metadata": {},
     "output_type": "display_data"
    },
    {
     "data": {
      "text/html": [
       "        <script type=\"text/javascript\">\n",
       "        window.PlotlyConfig = {MathJaxConfig: 'local'};\n",
       "        if (window.MathJax && window.MathJax.Hub && window.MathJax.Hub.Config) {window.MathJax.Hub.Config({SVG: {font: \"STIX-Web\"}});}\n",
       "        if (typeof require !== 'undefined') {\n",
       "        require.undef(\"plotly\");\n",
       "        requirejs.config({\n",
       "            paths: {\n",
       "                'plotly': ['https://cdn.plot.ly/plotly-2.35.2.min']\n",
       "            }\n",
       "        });\n",
       "        require(['plotly'], function(Plotly) {\n",
       "            window._Plotly = Plotly;\n",
       "        });\n",
       "        }\n",
       "        </script>\n",
       "        "
      ]
     },
     "metadata": {},
     "output_type": "display_data"
    }
   ],
   "source": [
    "import plotly.offline as py\n",
    "import plotly.express as px\n",
    "import plotly.graph_objects as go\n",
    "from plotly.subplots import make_subplots\n",
    "import plotly.figure_factory as ff\n",
    "import cufflinks as cf\n",
    "cf.set_config_file(offline=True, sharing=False, theme='ggplot');"
   ]
  },
  {
   "cell_type": "code",
   "execution_count": 3,
   "metadata": {},
   "outputs": [],
   "source": [
    "from sklearn.model_selection import train_test_split\n",
    "from sklearn.pipeline import Pipeline\n",
    "from sklearn.compose import ColumnTransformer\n",
    "from sklearn.preprocessing import FunctionTransformer\n",
    "from sklearn.impute import SimpleImputer\n",
    "from sklearn.linear_model import LinearRegression\n",
    "from sklearn.model_selection import cross_val_score"
   ]
  },
  {
   "cell_type": "markdown",
   "metadata": {},
   "source": [
    "## The Data\n",
    "\n",
    "For this notebook, we will use the seaborn `mpg` dataset which describes the fuel mileage (measured in miles per gallon or mpg) of various cars along with characteristics of those cars.  Our goal will be to build a model that can predict the fuel mileage of a car based on the characteristics of that car."
   ]
  },
  {
   "cell_type": "code",
   "execution_count": 4,
   "metadata": {},
   "outputs": [
    {
     "data": {
      "text/html": [
       "<div>\n",
       "<style scoped>\n",
       "    .dataframe tbody tr th:only-of-type {\n",
       "        vertical-align: middle;\n",
       "    }\n",
       "\n",
       "    .dataframe tbody tr th {\n",
       "        vertical-align: top;\n",
       "    }\n",
       "\n",
       "    .dataframe thead th {\n",
       "        text-align: right;\n",
       "    }\n",
       "</style>\n",
       "<table border=\"1\" class=\"dataframe\">\n",
       "  <thead>\n",
       "    <tr style=\"text-align: right;\">\n",
       "      <th></th>\n",
       "      <th>mpg</th>\n",
       "      <th>cylinders</th>\n",
       "      <th>displacement</th>\n",
       "      <th>horsepower</th>\n",
       "      <th>weight</th>\n",
       "      <th>acceleration</th>\n",
       "      <th>model_year</th>\n",
       "      <th>origin</th>\n",
       "      <th>name</th>\n",
       "    </tr>\n",
       "  </thead>\n",
       "  <tbody>\n",
       "    <tr>\n",
       "      <th>0</th>\n",
       "      <td>18.0</td>\n",
       "      <td>8</td>\n",
       "      <td>307.0</td>\n",
       "      <td>130.0</td>\n",
       "      <td>3504</td>\n",
       "      <td>12.0</td>\n",
       "      <td>70</td>\n",
       "      <td>usa</td>\n",
       "      <td>chevrolet chevelle malibu</td>\n",
       "    </tr>\n",
       "    <tr>\n",
       "      <th>1</th>\n",
       "      <td>15.0</td>\n",
       "      <td>8</td>\n",
       "      <td>350.0</td>\n",
       "      <td>165.0</td>\n",
       "      <td>3693</td>\n",
       "      <td>11.5</td>\n",
       "      <td>70</td>\n",
       "      <td>usa</td>\n",
       "      <td>buick skylark 320</td>\n",
       "    </tr>\n",
       "    <tr>\n",
       "      <th>2</th>\n",
       "      <td>18.0</td>\n",
       "      <td>8</td>\n",
       "      <td>318.0</td>\n",
       "      <td>150.0</td>\n",
       "      <td>3436</td>\n",
       "      <td>11.0</td>\n",
       "      <td>70</td>\n",
       "      <td>usa</td>\n",
       "      <td>plymouth satellite</td>\n",
       "    </tr>\n",
       "    <tr>\n",
       "      <th>3</th>\n",
       "      <td>16.0</td>\n",
       "      <td>8</td>\n",
       "      <td>304.0</td>\n",
       "      <td>150.0</td>\n",
       "      <td>3433</td>\n",
       "      <td>12.0</td>\n",
       "      <td>70</td>\n",
       "      <td>usa</td>\n",
       "      <td>amc rebel sst</td>\n",
       "    </tr>\n",
       "    <tr>\n",
       "      <th>4</th>\n",
       "      <td>17.0</td>\n",
       "      <td>8</td>\n",
       "      <td>302.0</td>\n",
       "      <td>140.0</td>\n",
       "      <td>3449</td>\n",
       "      <td>10.5</td>\n",
       "      <td>70</td>\n",
       "      <td>usa</td>\n",
       "      <td>ford torino</td>\n",
       "    </tr>\n",
       "    <tr>\n",
       "      <th>...</th>\n",
       "      <td>...</td>\n",
       "      <td>...</td>\n",
       "      <td>...</td>\n",
       "      <td>...</td>\n",
       "      <td>...</td>\n",
       "      <td>...</td>\n",
       "      <td>...</td>\n",
       "      <td>...</td>\n",
       "      <td>...</td>\n",
       "    </tr>\n",
       "    <tr>\n",
       "      <th>393</th>\n",
       "      <td>27.0</td>\n",
       "      <td>4</td>\n",
       "      <td>140.0</td>\n",
       "      <td>86.0</td>\n",
       "      <td>2790</td>\n",
       "      <td>15.6</td>\n",
       "      <td>82</td>\n",
       "      <td>usa</td>\n",
       "      <td>ford mustang gl</td>\n",
       "    </tr>\n",
       "    <tr>\n",
       "      <th>394</th>\n",
       "      <td>44.0</td>\n",
       "      <td>4</td>\n",
       "      <td>97.0</td>\n",
       "      <td>52.0</td>\n",
       "      <td>2130</td>\n",
       "      <td>24.6</td>\n",
       "      <td>82</td>\n",
       "      <td>europe</td>\n",
       "      <td>vw pickup</td>\n",
       "    </tr>\n",
       "    <tr>\n",
       "      <th>395</th>\n",
       "      <td>32.0</td>\n",
       "      <td>4</td>\n",
       "      <td>135.0</td>\n",
       "      <td>84.0</td>\n",
       "      <td>2295</td>\n",
       "      <td>11.6</td>\n",
       "      <td>82</td>\n",
       "      <td>usa</td>\n",
       "      <td>dodge rampage</td>\n",
       "    </tr>\n",
       "    <tr>\n",
       "      <th>396</th>\n",
       "      <td>28.0</td>\n",
       "      <td>4</td>\n",
       "      <td>120.0</td>\n",
       "      <td>79.0</td>\n",
       "      <td>2625</td>\n",
       "      <td>18.6</td>\n",
       "      <td>82</td>\n",
       "      <td>usa</td>\n",
       "      <td>ford ranger</td>\n",
       "    </tr>\n",
       "    <tr>\n",
       "      <th>397</th>\n",
       "      <td>31.0</td>\n",
       "      <td>4</td>\n",
       "      <td>119.0</td>\n",
       "      <td>82.0</td>\n",
       "      <td>2720</td>\n",
       "      <td>19.4</td>\n",
       "      <td>82</td>\n",
       "      <td>usa</td>\n",
       "      <td>chevy s-10</td>\n",
       "    </tr>\n",
       "  </tbody>\n",
       "</table>\n",
       "<p>398 rows × 9 columns</p>\n",
       "</div>"
      ],
      "text/plain": [
       "      mpg  cylinders  displacement  horsepower  weight  acceleration  \\\n",
       "0    18.0          8         307.0       130.0    3504          12.0   \n",
       "1    15.0          8         350.0       165.0    3693          11.5   \n",
       "2    18.0          8         318.0       150.0    3436          11.0   \n",
       "3    16.0          8         304.0       150.0    3433          12.0   \n",
       "4    17.0          8         302.0       140.0    3449          10.5   \n",
       "..    ...        ...           ...         ...     ...           ...   \n",
       "393  27.0          4         140.0        86.0    2790          15.6   \n",
       "394  44.0          4          97.0        52.0    2130          24.6   \n",
       "395  32.0          4         135.0        84.0    2295          11.6   \n",
       "396  28.0          4         120.0        79.0    2625          18.6   \n",
       "397  31.0          4         119.0        82.0    2720          19.4   \n",
       "\n",
       "     model_year  origin                       name  \n",
       "0            70     usa  chevrolet chevelle malibu  \n",
       "1            70     usa          buick skylark 320  \n",
       "2            70     usa         plymouth satellite  \n",
       "3            70     usa              amc rebel sst  \n",
       "4            70     usa                ford torino  \n",
       "..          ...     ...                        ...  \n",
       "393          82     usa            ford mustang gl  \n",
       "394          82  europe                  vw pickup  \n",
       "395          82     usa              dodge rampage  \n",
       "396          82     usa                ford ranger  \n",
       "397          82     usa                 chevy s-10  \n",
       "\n",
       "[398 rows x 9 columns]"
      ]
     },
     "execution_count": 4,
     "metadata": {},
     "output_type": "execute_result"
    }
   ],
   "source": [
    "from seaborn import load_dataset\n",
    "data = load_dataset(\"mpg\")\n",
    "data"
   ]
  },
  {
   "cell_type": "code",
   "execution_count": 5,
   "metadata": {
    "tags": []
   },
   "outputs": [
    {
     "data": {
      "text/plain": [
       "82"
      ]
     },
     "execution_count": 5,
     "metadata": {},
     "output_type": "execute_result"
    }
   ],
   "source": [
    "data['model_year'].max()"
   ]
  },
  {
   "cell_type": "markdown",
   "metadata": {},
   "source": [
    "The first thing we will want to do with this data is construct a train/test split."
   ]
  },
  {
   "cell_type": "code",
   "execution_count": 6,
   "metadata": {},
   "outputs": [],
   "source": [
    "tr, te = train_test_split(data, test_size=0.25, random_state=83)"
   ]
  },
  {
   "cell_type": "markdown",
   "metadata": {},
   "source": [
    "<br/><br/><br/>\n",
    "\n",
    "---\n",
    "\n",
    "## Building a Few Basic Models\n",
    "\n"
   ]
  },
  {
   "cell_type": "code",
   "execution_count": 7,
   "metadata": {},
   "outputs": [],
   "source": [
    "models = {}"
   ]
  },
  {
   "cell_type": "code",
   "execution_count": 8,
   "metadata": {},
   "outputs": [],
   "source": [
    "quantitative_features = [\"cylinders\", \"displacement\", \"horsepower\", \"weight\", \"acceleration\", \"model_year\"]"
   ]
  },
  {
   "cell_type": "code",
   "execution_count": 9,
   "metadata": {},
   "outputs": [],
   "source": [
    "# imputation is to handle null in data\n",
    "# hard coded to use the training data - tr\n",
    "for i in range(len(quantitative_features)):\n",
    "    # The features to include in the ith model\n",
    "    features = quantitative_features[:(i+1)]\n",
    "    # The name we are giving to the ith model\n",
    "    name = \",\".join([name[0] for name in features])\n",
    "    # The pipeline for the ith model\n",
    "    model = Pipeline([\n",
    "        (\"SelectColumns\", ColumnTransformer([\n",
    "            (\"keep\", \"passthrough\", features),\n",
    "        ])),\n",
    "        (\"Imputation\", SimpleImputer()),\n",
    "        (\"LinearModel\", LinearRegression())\n",
    "    ])\n",
    "    # Fit the pipeline\n",
    "    model.fit(tr, tr['mpg']);\n",
    "    # Saving the ith model\n",
    "    models[name] = model"
   ]
  },
  {
   "cell_type": "markdown",
   "metadata": {},
   "source": [
    "We have defined and trained (fit) 5 models:"
   ]
  },
  {
   "cell_type": "code",
   "execution_count": 10,
   "metadata": {},
   "outputs": [
    {
     "data": {
      "text/plain": [
       "dict_keys(['c', 'c,d', 'c,d,h', 'c,d,h,w', 'c,d,h,w,a', 'c,d,h,w,a,m'])"
      ]
     },
     "execution_count": 10,
     "metadata": {},
     "output_type": "execute_result"
    }
   ],
   "source": [
    "models.keys()"
   ]
  },
  {
   "cell_type": "markdown",
   "metadata": {},
   "source": [
    "<br/><br/><br/>\n",
    "\n",
    "\n",
    "---\n",
    "\n",
    "## `cross_val_score`\n",
    "\n",
    "Before we proceed, we'll look at how to use `cross_val_score`, a method built-in to `sklearn.model_selection`, to give us the CV RMSE of our models."
   ]
  },
  {
   "cell_type": "code",
   "execution_count": 11,
   "metadata": {},
   "outputs": [],
   "source": [
    "from sklearn.model_selection import cross_val_score"
   ]
  },
  {
   "cell_type": "markdown",
   "metadata": {},
   "source": [
    "The `cross_val_score` function takes a score function which it cross validates.  That score function must take three arguments, the model, X, and y.  We implement an Root Mean Squared Error (RMSE) score function:"
   ]
  },
  {
   "cell_type": "code",
   "execution_count": 12,
   "metadata": {},
   "outputs": [],
   "source": [
    "def rmse_score(model, X, y):\n",
    "    return np.sqrt(np.mean((y - model.predict(X))**2))"
   ]
  },
  {
   "cell_type": "markdown",
   "metadata": {},
   "source": [
    "We can then use `cross_val_score` to **estimate the test RMSE** for the model that only uses the number of cylinders `c`:"
   ]
  },
  {
   "cell_type": "code",
   "execution_count": 13,
   "metadata": {},
   "outputs": [
    {
     "data": {
      "text/plain": [
       "array([5.34219804, 4.31960704, 4.17949277, 4.89156037, 5.65044712])"
      ]
     },
     "execution_count": 13,
     "metadata": {},
     "output_type": "execute_result"
    }
   ],
   "source": [
    "cross_val_score(models['c'], tr, tr['mpg'], scoring=rmse_score, cv=5)"
   ]
  },
  {
   "cell_type": "markdown",
   "metadata": {},
   "source": [
    "Taking the mean we get the average cross validation (CV) RMSE:"
   ]
  },
  {
   "cell_type": "code",
   "execution_count": 14,
   "metadata": {},
   "outputs": [
    {
     "data": {
      "text/plain": [
       "4.876661068256956"
      ]
     },
     "execution_count": 14,
     "metadata": {},
     "output_type": "execute_result"
    }
   ],
   "source": [
    "np.mean(cross_val_score(models['c'], tr, tr['mpg'], scoring=rmse_score, cv=5))"
   ]
  },
  {
   "cell_type": "markdown",
   "metadata": {},
   "source": [
    "### Visualizing the Train/CV/Test RMSE\n",
    "\n",
    "In the following helper function we plot the **Train** and **CV** RMSE.  **We also plot the test RMSE for educational purposes you should not do this! If you use the height of the test RMSE bar to make decisions in designing your model you have invalidated the test data sort of like looking at the exam when studying.**"
   ]
  },
  {
   "cell_type": "code",
   "execution_count": 15,
   "metadata": {},
   "outputs": [],
   "source": [
    "def compare_models(models):\n",
    "    # Compute the training error for each model\n",
    "    training_rmse = [rmse_score(model, tr, tr['mpg']) for model in models.values()]\n",
    "    # Compute the cross validation error for each model\n",
    "    validation_rmse = [np.mean(cross_val_score(model, tr, tr['mpg'], scoring=rmse_score, cv=5)) \n",
    "                       for model in models.values()]\n",
    "    # Compute the test error for each model - dont normally use the test data\n",
    "    test_rmse = [rmse_score(model, te, te['mpg']) for model in models.values()]\n",
    "    names = list(models.keys())\n",
    "    fig = go.Figure([\n",
    "        go.Bar(x = names, y = training_rmse, name=\"Training RMSE\"),\n",
    "        go.Bar(x = names, y = validation_rmse, name=\"CV RMSE\"),\n",
    "        go.Bar(x = names, y = test_rmse, name=\"Test RMSE\", opacity=.3)])\n",
    "    fig.update_yaxes(title=\"RMSE\")\n",
    "    return fig"
   ]
  },
  {
   "cell_type": "code",
   "execution_count": 16,
   "metadata": {},
   "outputs": [
    {
     "data": {
      "application/vnd.plotly.v1+json": {
       "config": {
        "plotlyServerURL": "https://plot.ly"
       },
       "data": [
        {
         "name": "Training RMSE",
         "type": "bar",
         "x": [
          "c",
          "c,d",
          "c,d,h",
          "c,d,h,w",
          "c,d,h,w,a",
          "c,d,h,w,a,m"
         ],
         "y": [
          4.888109236813688,
          4.58757379901803,
          4.525395490245242,
          4.216877763288668,
          4.213763450275894,
          3.379999480925898
         ]
        },
        {
         "name": "CV RMSE",
         "type": "bar",
         "x": [
          "c",
          "c,d",
          "c,d,h",
          "c,d,h,w",
          "c,d,h,w,a",
          "c,d,h,w,a,m"
         ],
         "y": [
          4.876661068256956,
          4.579060426624024,
          4.556808311664745,
          4.252718625749385,
          4.256844728700814,
          3.4557657065586773
         ]
        },
        {
         "name": "Test RMSE",
         "opacity": 0.3,
         "type": "bar",
         "x": [
          "c",
          "c,d",
          "c,d,h",
          "c,d,h,w",
          "c,d,h,w,a",
          "c,d,h,w,a,m"
         ],
         "y": [
          5.055013548375552,
          4.7661569898523695,
          4.5838617699808735,
          4.325847816131029,
          4.349888692769131,
          3.550828171640195
         ]
        }
       ],
       "layout": {
        "template": {
         "data": {
          "bar": [
           {
            "error_x": {
             "color": "#2a3f5f"
            },
            "error_y": {
             "color": "#2a3f5f"
            },
            "marker": {
             "line": {
              "color": "#E5ECF6",
              "width": 0.5
             },
             "pattern": {
              "fillmode": "overlay",
              "size": 10,
              "solidity": 0.2
             }
            },
            "type": "bar"
           }
          ],
          "barpolar": [
           {
            "marker": {
             "line": {
              "color": "#E5ECF6",
              "width": 0.5
             },
             "pattern": {
              "fillmode": "overlay",
              "size": 10,
              "solidity": 0.2
             }
            },
            "type": "barpolar"
           }
          ],
          "carpet": [
           {
            "aaxis": {
             "endlinecolor": "#2a3f5f",
             "gridcolor": "white",
             "linecolor": "white",
             "minorgridcolor": "white",
             "startlinecolor": "#2a3f5f"
            },
            "baxis": {
             "endlinecolor": "#2a3f5f",
             "gridcolor": "white",
             "linecolor": "white",
             "minorgridcolor": "white",
             "startlinecolor": "#2a3f5f"
            },
            "type": "carpet"
           }
          ],
          "choropleth": [
           {
            "colorbar": {
             "outlinewidth": 0,
             "ticks": ""
            },
            "type": "choropleth"
           }
          ],
          "contour": [
           {
            "colorbar": {
             "outlinewidth": 0,
             "ticks": ""
            },
            "colorscale": [
             [
              0,
              "#0d0887"
             ],
             [
              0.1111111111111111,
              "#46039f"
             ],
             [
              0.2222222222222222,
              "#7201a8"
             ],
             [
              0.3333333333333333,
              "#9c179e"
             ],
             [
              0.4444444444444444,
              "#bd3786"
             ],
             [
              0.5555555555555556,
              "#d8576b"
             ],
             [
              0.6666666666666666,
              "#ed7953"
             ],
             [
              0.7777777777777778,
              "#fb9f3a"
             ],
             [
              0.8888888888888888,
              "#fdca26"
             ],
             [
              1,
              "#f0f921"
             ]
            ],
            "type": "contour"
           }
          ],
          "contourcarpet": [
           {
            "colorbar": {
             "outlinewidth": 0,
             "ticks": ""
            },
            "type": "contourcarpet"
           }
          ],
          "heatmap": [
           {
            "colorbar": {
             "outlinewidth": 0,
             "ticks": ""
            },
            "colorscale": [
             [
              0,
              "#0d0887"
             ],
             [
              0.1111111111111111,
              "#46039f"
             ],
             [
              0.2222222222222222,
              "#7201a8"
             ],
             [
              0.3333333333333333,
              "#9c179e"
             ],
             [
              0.4444444444444444,
              "#bd3786"
             ],
             [
              0.5555555555555556,
              "#d8576b"
             ],
             [
              0.6666666666666666,
              "#ed7953"
             ],
             [
              0.7777777777777778,
              "#fb9f3a"
             ],
             [
              0.8888888888888888,
              "#fdca26"
             ],
             [
              1,
              "#f0f921"
             ]
            ],
            "type": "heatmap"
           }
          ],
          "heatmapgl": [
           {
            "colorbar": {
             "outlinewidth": 0,
             "ticks": ""
            },
            "colorscale": [
             [
              0,
              "#0d0887"
             ],
             [
              0.1111111111111111,
              "#46039f"
             ],
             [
              0.2222222222222222,
              "#7201a8"
             ],
             [
              0.3333333333333333,
              "#9c179e"
             ],
             [
              0.4444444444444444,
              "#bd3786"
             ],
             [
              0.5555555555555556,
              "#d8576b"
             ],
             [
              0.6666666666666666,
              "#ed7953"
             ],
             [
              0.7777777777777778,
              "#fb9f3a"
             ],
             [
              0.8888888888888888,
              "#fdca26"
             ],
             [
              1,
              "#f0f921"
             ]
            ],
            "type": "heatmapgl"
           }
          ],
          "histogram": [
           {
            "marker": {
             "pattern": {
              "fillmode": "overlay",
              "size": 10,
              "solidity": 0.2
             }
            },
            "type": "histogram"
           }
          ],
          "histogram2d": [
           {
            "colorbar": {
             "outlinewidth": 0,
             "ticks": ""
            },
            "colorscale": [
             [
              0,
              "#0d0887"
             ],
             [
              0.1111111111111111,
              "#46039f"
             ],
             [
              0.2222222222222222,
              "#7201a8"
             ],
             [
              0.3333333333333333,
              "#9c179e"
             ],
             [
              0.4444444444444444,
              "#bd3786"
             ],
             [
              0.5555555555555556,
              "#d8576b"
             ],
             [
              0.6666666666666666,
              "#ed7953"
             ],
             [
              0.7777777777777778,
              "#fb9f3a"
             ],
             [
              0.8888888888888888,
              "#fdca26"
             ],
             [
              1,
              "#f0f921"
             ]
            ],
            "type": "histogram2d"
           }
          ],
          "histogram2dcontour": [
           {
            "colorbar": {
             "outlinewidth": 0,
             "ticks": ""
            },
            "colorscale": [
             [
              0,
              "#0d0887"
             ],
             [
              0.1111111111111111,
              "#46039f"
             ],
             [
              0.2222222222222222,
              "#7201a8"
             ],
             [
              0.3333333333333333,
              "#9c179e"
             ],
             [
              0.4444444444444444,
              "#bd3786"
             ],
             [
              0.5555555555555556,
              "#d8576b"
             ],
             [
              0.6666666666666666,
              "#ed7953"
             ],
             [
              0.7777777777777778,
              "#fb9f3a"
             ],
             [
              0.8888888888888888,
              "#fdca26"
             ],
             [
              1,
              "#f0f921"
             ]
            ],
            "type": "histogram2dcontour"
           }
          ],
          "mesh3d": [
           {
            "colorbar": {
             "outlinewidth": 0,
             "ticks": ""
            },
            "type": "mesh3d"
           }
          ],
          "parcoords": [
           {
            "line": {
             "colorbar": {
              "outlinewidth": 0,
              "ticks": ""
             }
            },
            "type": "parcoords"
           }
          ],
          "pie": [
           {
            "automargin": true,
            "type": "pie"
           }
          ],
          "scatter": [
           {
            "fillpattern": {
             "fillmode": "overlay",
             "size": 10,
             "solidity": 0.2
            },
            "type": "scatter"
           }
          ],
          "scatter3d": [
           {
            "line": {
             "colorbar": {
              "outlinewidth": 0,
              "ticks": ""
             }
            },
            "marker": {
             "colorbar": {
              "outlinewidth": 0,
              "ticks": ""
             }
            },
            "type": "scatter3d"
           }
          ],
          "scattercarpet": [
           {
            "marker": {
             "colorbar": {
              "outlinewidth": 0,
              "ticks": ""
             }
            },
            "type": "scattercarpet"
           }
          ],
          "scattergeo": [
           {
            "marker": {
             "colorbar": {
              "outlinewidth": 0,
              "ticks": ""
             }
            },
            "type": "scattergeo"
           }
          ],
          "scattergl": [
           {
            "marker": {
             "colorbar": {
              "outlinewidth": 0,
              "ticks": ""
             }
            },
            "type": "scattergl"
           }
          ],
          "scattermapbox": [
           {
            "marker": {
             "colorbar": {
              "outlinewidth": 0,
              "ticks": ""
             }
            },
            "type": "scattermapbox"
           }
          ],
          "scatterpolar": [
           {
            "marker": {
             "colorbar": {
              "outlinewidth": 0,
              "ticks": ""
             }
            },
            "type": "scatterpolar"
           }
          ],
          "scatterpolargl": [
           {
            "marker": {
             "colorbar": {
              "outlinewidth": 0,
              "ticks": ""
             }
            },
            "type": "scatterpolargl"
           }
          ],
          "scatterternary": [
           {
            "marker": {
             "colorbar": {
              "outlinewidth": 0,
              "ticks": ""
             }
            },
            "type": "scatterternary"
           }
          ],
          "surface": [
           {
            "colorbar": {
             "outlinewidth": 0,
             "ticks": ""
            },
            "colorscale": [
             [
              0,
              "#0d0887"
             ],
             [
              0.1111111111111111,
              "#46039f"
             ],
             [
              0.2222222222222222,
              "#7201a8"
             ],
             [
              0.3333333333333333,
              "#9c179e"
             ],
             [
              0.4444444444444444,
              "#bd3786"
             ],
             [
              0.5555555555555556,
              "#d8576b"
             ],
             [
              0.6666666666666666,
              "#ed7953"
             ],
             [
              0.7777777777777778,
              "#fb9f3a"
             ],
             [
              0.8888888888888888,
              "#fdca26"
             ],
             [
              1,
              "#f0f921"
             ]
            ],
            "type": "surface"
           }
          ],
          "table": [
           {
            "cells": {
             "fill": {
              "color": "#EBF0F8"
             },
             "line": {
              "color": "white"
             }
            },
            "header": {
             "fill": {
              "color": "#C8D4E3"
             },
             "line": {
              "color": "white"
             }
            },
            "type": "table"
           }
          ]
         },
         "layout": {
          "annotationdefaults": {
           "arrowcolor": "#2a3f5f",
           "arrowhead": 0,
           "arrowwidth": 1
          },
          "autotypenumbers": "strict",
          "coloraxis": {
           "colorbar": {
            "outlinewidth": 0,
            "ticks": ""
           }
          },
          "colorscale": {
           "diverging": [
            [
             0,
             "#8e0152"
            ],
            [
             0.1,
             "#c51b7d"
            ],
            [
             0.2,
             "#de77ae"
            ],
            [
             0.3,
             "#f1b6da"
            ],
            [
             0.4,
             "#fde0ef"
            ],
            [
             0.5,
             "#f7f7f7"
            ],
            [
             0.6,
             "#e6f5d0"
            ],
            [
             0.7,
             "#b8e186"
            ],
            [
             0.8,
             "#7fbc41"
            ],
            [
             0.9,
             "#4d9221"
            ],
            [
             1,
             "#276419"
            ]
           ],
           "sequential": [
            [
             0,
             "#0d0887"
            ],
            [
             0.1111111111111111,
             "#46039f"
            ],
            [
             0.2222222222222222,
             "#7201a8"
            ],
            [
             0.3333333333333333,
             "#9c179e"
            ],
            [
             0.4444444444444444,
             "#bd3786"
            ],
            [
             0.5555555555555556,
             "#d8576b"
            ],
            [
             0.6666666666666666,
             "#ed7953"
            ],
            [
             0.7777777777777778,
             "#fb9f3a"
            ],
            [
             0.8888888888888888,
             "#fdca26"
            ],
            [
             1,
             "#f0f921"
            ]
           ],
           "sequentialminus": [
            [
             0,
             "#0d0887"
            ],
            [
             0.1111111111111111,
             "#46039f"
            ],
            [
             0.2222222222222222,
             "#7201a8"
            ],
            [
             0.3333333333333333,
             "#9c179e"
            ],
            [
             0.4444444444444444,
             "#bd3786"
            ],
            [
             0.5555555555555556,
             "#d8576b"
            ],
            [
             0.6666666666666666,
             "#ed7953"
            ],
            [
             0.7777777777777778,
             "#fb9f3a"
            ],
            [
             0.8888888888888888,
             "#fdca26"
            ],
            [
             1,
             "#f0f921"
            ]
           ]
          },
          "colorway": [
           "#636efa",
           "#EF553B",
           "#00cc96",
           "#ab63fa",
           "#FFA15A",
           "#19d3f3",
           "#FF6692",
           "#B6E880",
           "#FF97FF",
           "#FECB52"
          ],
          "font": {
           "color": "#2a3f5f"
          },
          "geo": {
           "bgcolor": "white",
           "lakecolor": "white",
           "landcolor": "#E5ECF6",
           "showlakes": true,
           "showland": true,
           "subunitcolor": "white"
          },
          "hoverlabel": {
           "align": "left"
          },
          "hovermode": "closest",
          "mapbox": {
           "style": "light"
          },
          "paper_bgcolor": "white",
          "plot_bgcolor": "#E5ECF6",
          "polar": {
           "angularaxis": {
            "gridcolor": "white",
            "linecolor": "white",
            "ticks": ""
           },
           "bgcolor": "#E5ECF6",
           "radialaxis": {
            "gridcolor": "white",
            "linecolor": "white",
            "ticks": ""
           }
          },
          "scene": {
           "xaxis": {
            "backgroundcolor": "#E5ECF6",
            "gridcolor": "white",
            "gridwidth": 2,
            "linecolor": "white",
            "showbackground": true,
            "ticks": "",
            "zerolinecolor": "white"
           },
           "yaxis": {
            "backgroundcolor": "#E5ECF6",
            "gridcolor": "white",
            "gridwidth": 2,
            "linecolor": "white",
            "showbackground": true,
            "ticks": "",
            "zerolinecolor": "white"
           },
           "zaxis": {
            "backgroundcolor": "#E5ECF6",
            "gridcolor": "white",
            "gridwidth": 2,
            "linecolor": "white",
            "showbackground": true,
            "ticks": "",
            "zerolinecolor": "white"
           }
          },
          "shapedefaults": {
           "line": {
            "color": "#2a3f5f"
           }
          },
          "ternary": {
           "aaxis": {
            "gridcolor": "white",
            "linecolor": "white",
            "ticks": ""
           },
           "baxis": {
            "gridcolor": "white",
            "linecolor": "white",
            "ticks": ""
           },
           "bgcolor": "#E5ECF6",
           "caxis": {
            "gridcolor": "white",
            "linecolor": "white",
            "ticks": ""
           }
          },
          "title": {
           "x": 0.05
          },
          "xaxis": {
           "automargin": true,
           "gridcolor": "white",
           "linecolor": "white",
           "ticks": "",
           "title": {
            "standoff": 15
           },
           "zerolinecolor": "white",
           "zerolinewidth": 2
          },
          "yaxis": {
           "automargin": true,
           "gridcolor": "white",
           "linecolor": "white",
           "ticks": "",
           "title": {
            "standoff": 15
           },
           "zerolinecolor": "white",
           "zerolinewidth": 2
          }
         }
        },
        "yaxis": {
         "title": {
          "text": "RMSE"
         }
        }
       }
      },
      "text/html": [
       "<div>                            <div id=\"7c7e0f7b-b628-4b61-9412-aba9b2b86232\" class=\"plotly-graph-div\" style=\"height:525px; width:100%;\"></div>            <script type=\"text/javascript\">                require([\"plotly\"], function(Plotly) {                    window.PLOTLYENV=window.PLOTLYENV || {};                                    if (document.getElementById(\"7c7e0f7b-b628-4b61-9412-aba9b2b86232\")) {                    Plotly.newPlot(                        \"7c7e0f7b-b628-4b61-9412-aba9b2b86232\",                        [{\"name\":\"Training RMSE\",\"x\":[\"c\",\"c,d\",\"c,d,h\",\"c,d,h,w\",\"c,d,h,w,a\",\"c,d,h,w,a,m\"],\"y\":[4.888109236813688,4.58757379901803,4.525395490245242,4.216877763288668,4.213763450275894,3.379999480925898],\"type\":\"bar\"},{\"name\":\"CV RMSE\",\"x\":[\"c\",\"c,d\",\"c,d,h\",\"c,d,h,w\",\"c,d,h,w,a\",\"c,d,h,w,a,m\"],\"y\":[4.876661068256956,4.579060426624024,4.556808311664745,4.252718625749385,4.256844728700814,3.4557657065586773],\"type\":\"bar\"},{\"name\":\"Test RMSE\",\"opacity\":0.3,\"x\":[\"c\",\"c,d\",\"c,d,h\",\"c,d,h,w\",\"c,d,h,w,a\",\"c,d,h,w,a,m\"],\"y\":[5.055013548375552,4.7661569898523695,4.5838617699808735,4.325847816131029,4.349888692769131,3.550828171640195],\"type\":\"bar\"}],                        {\"template\":{\"data\":{\"histogram2dcontour\":[{\"type\":\"histogram2dcontour\",\"colorbar\":{\"outlinewidth\":0,\"ticks\":\"\"},\"colorscale\":[[0.0,\"#0d0887\"],[0.1111111111111111,\"#46039f\"],[0.2222222222222222,\"#7201a8\"],[0.3333333333333333,\"#9c179e\"],[0.4444444444444444,\"#bd3786\"],[0.5555555555555556,\"#d8576b\"],[0.6666666666666666,\"#ed7953\"],[0.7777777777777778,\"#fb9f3a\"],[0.8888888888888888,\"#fdca26\"],[1.0,\"#f0f921\"]]}],\"choropleth\":[{\"type\":\"choropleth\",\"colorbar\":{\"outlinewidth\":0,\"ticks\":\"\"}}],\"histogram2d\":[{\"type\":\"histogram2d\",\"colorbar\":{\"outlinewidth\":0,\"ticks\":\"\"},\"colorscale\":[[0.0,\"#0d0887\"],[0.1111111111111111,\"#46039f\"],[0.2222222222222222,\"#7201a8\"],[0.3333333333333333,\"#9c179e\"],[0.4444444444444444,\"#bd3786\"],[0.5555555555555556,\"#d8576b\"],[0.6666666666666666,\"#ed7953\"],[0.7777777777777778,\"#fb9f3a\"],[0.8888888888888888,\"#fdca26\"],[1.0,\"#f0f921\"]]}],\"heatmap\":[{\"type\":\"heatmap\",\"colorbar\":{\"outlinewidth\":0,\"ticks\":\"\"},\"colorscale\":[[0.0,\"#0d0887\"],[0.1111111111111111,\"#46039f\"],[0.2222222222222222,\"#7201a8\"],[0.3333333333333333,\"#9c179e\"],[0.4444444444444444,\"#bd3786\"],[0.5555555555555556,\"#d8576b\"],[0.6666666666666666,\"#ed7953\"],[0.7777777777777778,\"#fb9f3a\"],[0.8888888888888888,\"#fdca26\"],[1.0,\"#f0f921\"]]}],\"heatmapgl\":[{\"type\":\"heatmapgl\",\"colorbar\":{\"outlinewidth\":0,\"ticks\":\"\"},\"colorscale\":[[0.0,\"#0d0887\"],[0.1111111111111111,\"#46039f\"],[0.2222222222222222,\"#7201a8\"],[0.3333333333333333,\"#9c179e\"],[0.4444444444444444,\"#bd3786\"],[0.5555555555555556,\"#d8576b\"],[0.6666666666666666,\"#ed7953\"],[0.7777777777777778,\"#fb9f3a\"],[0.8888888888888888,\"#fdca26\"],[1.0,\"#f0f921\"]]}],\"contourcarpet\":[{\"type\":\"contourcarpet\",\"colorbar\":{\"outlinewidth\":0,\"ticks\":\"\"}}],\"contour\":[{\"type\":\"contour\",\"colorbar\":{\"outlinewidth\":0,\"ticks\":\"\"},\"colorscale\":[[0.0,\"#0d0887\"],[0.1111111111111111,\"#46039f\"],[0.2222222222222222,\"#7201a8\"],[0.3333333333333333,\"#9c179e\"],[0.4444444444444444,\"#bd3786\"],[0.5555555555555556,\"#d8576b\"],[0.6666666666666666,\"#ed7953\"],[0.7777777777777778,\"#fb9f3a\"],[0.8888888888888888,\"#fdca26\"],[1.0,\"#f0f921\"]]}],\"surface\":[{\"type\":\"surface\",\"colorbar\":{\"outlinewidth\":0,\"ticks\":\"\"},\"colorscale\":[[0.0,\"#0d0887\"],[0.1111111111111111,\"#46039f\"],[0.2222222222222222,\"#7201a8\"],[0.3333333333333333,\"#9c179e\"],[0.4444444444444444,\"#bd3786\"],[0.5555555555555556,\"#d8576b\"],[0.6666666666666666,\"#ed7953\"],[0.7777777777777778,\"#fb9f3a\"],[0.8888888888888888,\"#fdca26\"],[1.0,\"#f0f921\"]]}],\"mesh3d\":[{\"type\":\"mesh3d\",\"colorbar\":{\"outlinewidth\":0,\"ticks\":\"\"}}],\"scatter\":[{\"fillpattern\":{\"fillmode\":\"overlay\",\"size\":10,\"solidity\":0.2},\"type\":\"scatter\"}],\"parcoords\":[{\"type\":\"parcoords\",\"line\":{\"colorbar\":{\"outlinewidth\":0,\"ticks\":\"\"}}}],\"scatterpolargl\":[{\"type\":\"scatterpolargl\",\"marker\":{\"colorbar\":{\"outlinewidth\":0,\"ticks\":\"\"}}}],\"bar\":[{\"error_x\":{\"color\":\"#2a3f5f\"},\"error_y\":{\"color\":\"#2a3f5f\"},\"marker\":{\"line\":{\"color\":\"#E5ECF6\",\"width\":0.5},\"pattern\":{\"fillmode\":\"overlay\",\"size\":10,\"solidity\":0.2}},\"type\":\"bar\"}],\"scattergeo\":[{\"type\":\"scattergeo\",\"marker\":{\"colorbar\":{\"outlinewidth\":0,\"ticks\":\"\"}}}],\"scatterpolar\":[{\"type\":\"scatterpolar\",\"marker\":{\"colorbar\":{\"outlinewidth\":0,\"ticks\":\"\"}}}],\"histogram\":[{\"marker\":{\"pattern\":{\"fillmode\":\"overlay\",\"size\":10,\"solidity\":0.2}},\"type\":\"histogram\"}],\"scattergl\":[{\"type\":\"scattergl\",\"marker\":{\"colorbar\":{\"outlinewidth\":0,\"ticks\":\"\"}}}],\"scatter3d\":[{\"type\":\"scatter3d\",\"line\":{\"colorbar\":{\"outlinewidth\":0,\"ticks\":\"\"}},\"marker\":{\"colorbar\":{\"outlinewidth\":0,\"ticks\":\"\"}}}],\"scattermapbox\":[{\"type\":\"scattermapbox\",\"marker\":{\"colorbar\":{\"outlinewidth\":0,\"ticks\":\"\"}}}],\"scatterternary\":[{\"type\":\"scatterternary\",\"marker\":{\"colorbar\":{\"outlinewidth\":0,\"ticks\":\"\"}}}],\"scattercarpet\":[{\"type\":\"scattercarpet\",\"marker\":{\"colorbar\":{\"outlinewidth\":0,\"ticks\":\"\"}}}],\"carpet\":[{\"aaxis\":{\"endlinecolor\":\"#2a3f5f\",\"gridcolor\":\"white\",\"linecolor\":\"white\",\"minorgridcolor\":\"white\",\"startlinecolor\":\"#2a3f5f\"},\"baxis\":{\"endlinecolor\":\"#2a3f5f\",\"gridcolor\":\"white\",\"linecolor\":\"white\",\"minorgridcolor\":\"white\",\"startlinecolor\":\"#2a3f5f\"},\"type\":\"carpet\"}],\"table\":[{\"cells\":{\"fill\":{\"color\":\"#EBF0F8\"},\"line\":{\"color\":\"white\"}},\"header\":{\"fill\":{\"color\":\"#C8D4E3\"},\"line\":{\"color\":\"white\"}},\"type\":\"table\"}],\"barpolar\":[{\"marker\":{\"line\":{\"color\":\"#E5ECF6\",\"width\":0.5},\"pattern\":{\"fillmode\":\"overlay\",\"size\":10,\"solidity\":0.2}},\"type\":\"barpolar\"}],\"pie\":[{\"automargin\":true,\"type\":\"pie\"}]},\"layout\":{\"autotypenumbers\":\"strict\",\"colorway\":[\"#636efa\",\"#EF553B\",\"#00cc96\",\"#ab63fa\",\"#FFA15A\",\"#19d3f3\",\"#FF6692\",\"#B6E880\",\"#FF97FF\",\"#FECB52\"],\"font\":{\"color\":\"#2a3f5f\"},\"hovermode\":\"closest\",\"hoverlabel\":{\"align\":\"left\"},\"paper_bgcolor\":\"white\",\"plot_bgcolor\":\"#E5ECF6\",\"polar\":{\"bgcolor\":\"#E5ECF6\",\"angularaxis\":{\"gridcolor\":\"white\",\"linecolor\":\"white\",\"ticks\":\"\"},\"radialaxis\":{\"gridcolor\":\"white\",\"linecolor\":\"white\",\"ticks\":\"\"}},\"ternary\":{\"bgcolor\":\"#E5ECF6\",\"aaxis\":{\"gridcolor\":\"white\",\"linecolor\":\"white\",\"ticks\":\"\"},\"baxis\":{\"gridcolor\":\"white\",\"linecolor\":\"white\",\"ticks\":\"\"},\"caxis\":{\"gridcolor\":\"white\",\"linecolor\":\"white\",\"ticks\":\"\"}},\"coloraxis\":{\"colorbar\":{\"outlinewidth\":0,\"ticks\":\"\"}},\"colorscale\":{\"sequential\":[[0.0,\"#0d0887\"],[0.1111111111111111,\"#46039f\"],[0.2222222222222222,\"#7201a8\"],[0.3333333333333333,\"#9c179e\"],[0.4444444444444444,\"#bd3786\"],[0.5555555555555556,\"#d8576b\"],[0.6666666666666666,\"#ed7953\"],[0.7777777777777778,\"#fb9f3a\"],[0.8888888888888888,\"#fdca26\"],[1.0,\"#f0f921\"]],\"sequentialminus\":[[0.0,\"#0d0887\"],[0.1111111111111111,\"#46039f\"],[0.2222222222222222,\"#7201a8\"],[0.3333333333333333,\"#9c179e\"],[0.4444444444444444,\"#bd3786\"],[0.5555555555555556,\"#d8576b\"],[0.6666666666666666,\"#ed7953\"],[0.7777777777777778,\"#fb9f3a\"],[0.8888888888888888,\"#fdca26\"],[1.0,\"#f0f921\"]],\"diverging\":[[0,\"#8e0152\"],[0.1,\"#c51b7d\"],[0.2,\"#de77ae\"],[0.3,\"#f1b6da\"],[0.4,\"#fde0ef\"],[0.5,\"#f7f7f7\"],[0.6,\"#e6f5d0\"],[0.7,\"#b8e186\"],[0.8,\"#7fbc41\"],[0.9,\"#4d9221\"],[1,\"#276419\"]]},\"xaxis\":{\"gridcolor\":\"white\",\"linecolor\":\"white\",\"ticks\":\"\",\"title\":{\"standoff\":15},\"zerolinecolor\":\"white\",\"automargin\":true,\"zerolinewidth\":2},\"yaxis\":{\"gridcolor\":\"white\",\"linecolor\":\"white\",\"ticks\":\"\",\"title\":{\"standoff\":15},\"zerolinecolor\":\"white\",\"automargin\":true,\"zerolinewidth\":2},\"scene\":{\"xaxis\":{\"backgroundcolor\":\"#E5ECF6\",\"gridcolor\":\"white\",\"linecolor\":\"white\",\"showbackground\":true,\"ticks\":\"\",\"zerolinecolor\":\"white\",\"gridwidth\":2},\"yaxis\":{\"backgroundcolor\":\"#E5ECF6\",\"gridcolor\":\"white\",\"linecolor\":\"white\",\"showbackground\":true,\"ticks\":\"\",\"zerolinecolor\":\"white\",\"gridwidth\":2},\"zaxis\":{\"backgroundcolor\":\"#E5ECF6\",\"gridcolor\":\"white\",\"linecolor\":\"white\",\"showbackground\":true,\"ticks\":\"\",\"zerolinecolor\":\"white\",\"gridwidth\":2}},\"shapedefaults\":{\"line\":{\"color\":\"#2a3f5f\"}},\"annotationdefaults\":{\"arrowcolor\":\"#2a3f5f\",\"arrowhead\":0,\"arrowwidth\":1},\"geo\":{\"bgcolor\":\"white\",\"landcolor\":\"#E5ECF6\",\"subunitcolor\":\"white\",\"showland\":true,\"showlakes\":true,\"lakecolor\":\"white\"},\"title\":{\"x\":0.05},\"mapbox\":{\"style\":\"light\"}}},\"yaxis\":{\"title\":{\"text\":\"RMSE\"}}},                        {\"responsive\": true}                    ).then(function(){\n",
       "                            \n",
       "var gd = document.getElementById('7c7e0f7b-b628-4b61-9412-aba9b2b86232');\n",
       "var x = new MutationObserver(function (mutations, observer) {{\n",
       "        var display = window.getComputedStyle(gd).display;\n",
       "        if (!display || display === 'none') {{\n",
       "            console.log([gd, 'removed!']);\n",
       "            Plotly.purge(gd);\n",
       "            observer.disconnect();\n",
       "        }}\n",
       "}});\n",
       "\n",
       "// Listen for the removal of the full notebook cells\n",
       "var notebookContainer = gd.closest('#notebook-container');\n",
       "if (notebookContainer) {{\n",
       "    x.observe(notebookContainer, {childList: true});\n",
       "}}\n",
       "\n",
       "// Listen for the clearing of the current output cell\n",
       "var outputEl = gd.closest('.output');\n",
       "if (outputEl) {{\n",
       "    x.observe(outputEl, {childList: true});\n",
       "}}\n",
       "\n",
       "                        })                };                });            </script>        </div>"
      ]
     },
     "metadata": {},
     "output_type": "display_data"
    }
   ],
   "source": [
    "compare_models(models)"
   ]
  },
  {
   "cell_type": "markdown",
   "metadata": {},
   "source": [
    "Notice that as we added features the training and cross validation error generally decreased.  Also notice that the cross validation error and the test error are generally higher than the training error. "
   ]
  },
  {
   "cell_type": "markdown",
   "metadata": {},
   "source": [
    "<br/><br/><br/>\n",
    "\n",
    "---\n",
    "\n",
    "## Adding the Text Features"
   ]
  },
  {
   "cell_type": "markdown",
   "metadata": {},
   "source": [
    "### Adding the Origin\n",
    "\n",
    "The origin is a categorical feature which takes on only a few values:"
   ]
  },
  {
   "cell_type": "code",
   "execution_count": 17,
   "metadata": {},
   "outputs": [
    {
     "data": {
      "text/plain": [
       "origin\n",
       "usa       188\n",
       "japan      56\n",
       "europe     54\n",
       "Name: count, dtype: int64"
      ]
     },
     "execution_count": 17,
     "metadata": {},
     "output_type": "execute_result"
    }
   ],
   "source": [
    "tr['origin'].value_counts()"
   ]
  },
  {
   "cell_type": "markdown",
   "metadata": {},
   "source": [
    "This can be extracted using a `OneHotEncoder` in the `SelectColumns` stage of the pipeline. Notice that the `[\"origin\"]` is in brackets, this caused me some confusion when preparing lecture.  The `OneHotEncoder` wants its input in column form rather than list form. "
   ]
  },
  {
   "cell_type": "code",
   "execution_count": 18,
   "metadata": {},
   "outputs": [],
   "source": [
    "from sklearn.preprocessing import OneHotEncoder"
   ]
  },
  {
   "cell_type": "code",
   "execution_count": 19,
   "metadata": {},
   "outputs": [],
   "source": [
    "model = Pipeline([\n",
    "    (\"SelectColumns\", ColumnTransformer([\n",
    "        (\"keep\", \"passthrough\", quantitative_features),\n",
    "        (\"origin_encoder\", OneHotEncoder(), [\"origin\"])\n",
    "    ])),\n",
    "    (\"Imputation\", SimpleImputer()),\n",
    "    (\"LinearModel\", LinearRegression())\n",
    "])"
   ]
  },
  {
   "cell_type": "code",
   "execution_count": 20,
   "metadata": {},
   "outputs": [],
   "source": [
    "model.fit(tr, tr['mpg'])\n",
    "name = \",\".join([name[0] for name in quantitative_features]) + \",o\"\n",
    "models[name] = model"
   ]
  },
  {
   "cell_type": "markdown",
   "metadata": {},
   "source": [
    "### Adding the Vehicle Name\n",
    "\n",
    "In the previous lecture we added the vehicle name using the `CountVectorizer` which implements a bag-of-words encoding. "
   ]
  },
  {
   "cell_type": "code",
   "execution_count": 21,
   "metadata": {},
   "outputs": [],
   "source": [
    "from sklearn.feature_extraction.text import CountVectorizer"
   ]
  },
  {
   "cell_type": "code",
   "execution_count": 22,
   "metadata": {},
   "outputs": [],
   "source": [
    "model = Pipeline([\n",
    "    (\"SelectColumns\", ColumnTransformer([\n",
    "        (\"keep\", \"passthrough\", quantitative_features),\n",
    "        (\"origin_encoder\", OneHotEncoder(), [\"origin\"]),\n",
    "        (\"text\", CountVectorizer(), \"name\")\n",
    "    ])),\n",
    "    (\"Imputation\", SimpleImputer()),\n",
    "    (\"LinearModel\", LinearRegression())\n",
    "])"
   ]
  },
  {
   "cell_type": "code",
   "execution_count": 23,
   "metadata": {},
   "outputs": [],
   "source": [
    "model.fit(tr, tr['mpg'])\n",
    "name = \",\".join([name[0] for name in quantitative_features]) + \",o,n\"\n",
    "models[name] = model"
   ]
  },
  {
   "cell_type": "code",
   "execution_count": 24,
   "metadata": {},
   "outputs": [
    {
     "data": {
      "application/vnd.plotly.v1+json": {
       "config": {
        "plotlyServerURL": "https://plot.ly"
       },
       "data": [
        {
         "name": "Training RMSE",
         "type": "bar",
         "x": [
          "c",
          "c,d",
          "c,d,h",
          "c,d,h,w",
          "c,d,h,w,a",
          "c,d,h,w,a,m",
          "c,d,h,w,a,m,o",
          "c,d,h,w,a,m,o,n"
         ],
         "y": [
          4.888109236813688,
          4.58757379901803,
          4.525395490245242,
          4.216877763288668,
          4.213763450275894,
          3.379999480925898,
          3.2488224012050075,
          1.1436227888226098
         ]
        },
        {
         "name": "CV RMSE",
         "type": "bar",
         "x": [
          "c",
          "c,d",
          "c,d,h",
          "c,d,h,w",
          "c,d,h,w,a",
          "c,d,h,w,a,m",
          "c,d,h,w,a,m,o",
          "c,d,h,w,a,m,o,n"
         ],
         "y": [
          4.876661068256956,
          4.579060426624024,
          4.556808311664745,
          4.252718625749385,
          4.256844728700814,
          3.4557657065586773,
          3.3323381513276003,
          3.687635534487717
         ]
        },
        {
         "name": "Test RMSE",
         "opacity": 0.3,
         "type": "bar",
         "x": [
          "c",
          "c,d",
          "c,d,h",
          "c,d,h,w",
          "c,d,h,w,a",
          "c,d,h,w,a,m",
          "c,d,h,w,a,m,o",
          "c,d,h,w,a,m,o,n"
         ],
         "y": [
          5.055013548375552,
          4.7661569898523695,
          4.5838617699808735,
          4.325847816131029,
          4.349888692769131,
          3.550828171640195,
          3.3746613014711664,
          3.5151677332671225
         ]
        }
       ],
       "layout": {
        "template": {
         "data": {
          "bar": [
           {
            "error_x": {
             "color": "#2a3f5f"
            },
            "error_y": {
             "color": "#2a3f5f"
            },
            "marker": {
             "line": {
              "color": "#E5ECF6",
              "width": 0.5
             },
             "pattern": {
              "fillmode": "overlay",
              "size": 10,
              "solidity": 0.2
             }
            },
            "type": "bar"
           }
          ],
          "barpolar": [
           {
            "marker": {
             "line": {
              "color": "#E5ECF6",
              "width": 0.5
             },
             "pattern": {
              "fillmode": "overlay",
              "size": 10,
              "solidity": 0.2
             }
            },
            "type": "barpolar"
           }
          ],
          "carpet": [
           {
            "aaxis": {
             "endlinecolor": "#2a3f5f",
             "gridcolor": "white",
             "linecolor": "white",
             "minorgridcolor": "white",
             "startlinecolor": "#2a3f5f"
            },
            "baxis": {
             "endlinecolor": "#2a3f5f",
             "gridcolor": "white",
             "linecolor": "white",
             "minorgridcolor": "white",
             "startlinecolor": "#2a3f5f"
            },
            "type": "carpet"
           }
          ],
          "choropleth": [
           {
            "colorbar": {
             "outlinewidth": 0,
             "ticks": ""
            },
            "type": "choropleth"
           }
          ],
          "contour": [
           {
            "colorbar": {
             "outlinewidth": 0,
             "ticks": ""
            },
            "colorscale": [
             [
              0,
              "#0d0887"
             ],
             [
              0.1111111111111111,
              "#46039f"
             ],
             [
              0.2222222222222222,
              "#7201a8"
             ],
             [
              0.3333333333333333,
              "#9c179e"
             ],
             [
              0.4444444444444444,
              "#bd3786"
             ],
             [
              0.5555555555555556,
              "#d8576b"
             ],
             [
              0.6666666666666666,
              "#ed7953"
             ],
             [
              0.7777777777777778,
              "#fb9f3a"
             ],
             [
              0.8888888888888888,
              "#fdca26"
             ],
             [
              1,
              "#f0f921"
             ]
            ],
            "type": "contour"
           }
          ],
          "contourcarpet": [
           {
            "colorbar": {
             "outlinewidth": 0,
             "ticks": ""
            },
            "type": "contourcarpet"
           }
          ],
          "heatmap": [
           {
            "colorbar": {
             "outlinewidth": 0,
             "ticks": ""
            },
            "colorscale": [
             [
              0,
              "#0d0887"
             ],
             [
              0.1111111111111111,
              "#46039f"
             ],
             [
              0.2222222222222222,
              "#7201a8"
             ],
             [
              0.3333333333333333,
              "#9c179e"
             ],
             [
              0.4444444444444444,
              "#bd3786"
             ],
             [
              0.5555555555555556,
              "#d8576b"
             ],
             [
              0.6666666666666666,
              "#ed7953"
             ],
             [
              0.7777777777777778,
              "#fb9f3a"
             ],
             [
              0.8888888888888888,
              "#fdca26"
             ],
             [
              1,
              "#f0f921"
             ]
            ],
            "type": "heatmap"
           }
          ],
          "heatmapgl": [
           {
            "colorbar": {
             "outlinewidth": 0,
             "ticks": ""
            },
            "colorscale": [
             [
              0,
              "#0d0887"
             ],
             [
              0.1111111111111111,
              "#46039f"
             ],
             [
              0.2222222222222222,
              "#7201a8"
             ],
             [
              0.3333333333333333,
              "#9c179e"
             ],
             [
              0.4444444444444444,
              "#bd3786"
             ],
             [
              0.5555555555555556,
              "#d8576b"
             ],
             [
              0.6666666666666666,
              "#ed7953"
             ],
             [
              0.7777777777777778,
              "#fb9f3a"
             ],
             [
              0.8888888888888888,
              "#fdca26"
             ],
             [
              1,
              "#f0f921"
             ]
            ],
            "type": "heatmapgl"
           }
          ],
          "histogram": [
           {
            "marker": {
             "pattern": {
              "fillmode": "overlay",
              "size": 10,
              "solidity": 0.2
             }
            },
            "type": "histogram"
           }
          ],
          "histogram2d": [
           {
            "colorbar": {
             "outlinewidth": 0,
             "ticks": ""
            },
            "colorscale": [
             [
              0,
              "#0d0887"
             ],
             [
              0.1111111111111111,
              "#46039f"
             ],
             [
              0.2222222222222222,
              "#7201a8"
             ],
             [
              0.3333333333333333,
              "#9c179e"
             ],
             [
              0.4444444444444444,
              "#bd3786"
             ],
             [
              0.5555555555555556,
              "#d8576b"
             ],
             [
              0.6666666666666666,
              "#ed7953"
             ],
             [
              0.7777777777777778,
              "#fb9f3a"
             ],
             [
              0.8888888888888888,
              "#fdca26"
             ],
             [
              1,
              "#f0f921"
             ]
            ],
            "type": "histogram2d"
           }
          ],
          "histogram2dcontour": [
           {
            "colorbar": {
             "outlinewidth": 0,
             "ticks": ""
            },
            "colorscale": [
             [
              0,
              "#0d0887"
             ],
             [
              0.1111111111111111,
              "#46039f"
             ],
             [
              0.2222222222222222,
              "#7201a8"
             ],
             [
              0.3333333333333333,
              "#9c179e"
             ],
             [
              0.4444444444444444,
              "#bd3786"
             ],
             [
              0.5555555555555556,
              "#d8576b"
             ],
             [
              0.6666666666666666,
              "#ed7953"
             ],
             [
              0.7777777777777778,
              "#fb9f3a"
             ],
             [
              0.8888888888888888,
              "#fdca26"
             ],
             [
              1,
              "#f0f921"
             ]
            ],
            "type": "histogram2dcontour"
           }
          ],
          "mesh3d": [
           {
            "colorbar": {
             "outlinewidth": 0,
             "ticks": ""
            },
            "type": "mesh3d"
           }
          ],
          "parcoords": [
           {
            "line": {
             "colorbar": {
              "outlinewidth": 0,
              "ticks": ""
             }
            },
            "type": "parcoords"
           }
          ],
          "pie": [
           {
            "automargin": true,
            "type": "pie"
           }
          ],
          "scatter": [
           {
            "fillpattern": {
             "fillmode": "overlay",
             "size": 10,
             "solidity": 0.2
            },
            "type": "scatter"
           }
          ],
          "scatter3d": [
           {
            "line": {
             "colorbar": {
              "outlinewidth": 0,
              "ticks": ""
             }
            },
            "marker": {
             "colorbar": {
              "outlinewidth": 0,
              "ticks": ""
             }
            },
            "type": "scatter3d"
           }
          ],
          "scattercarpet": [
           {
            "marker": {
             "colorbar": {
              "outlinewidth": 0,
              "ticks": ""
             }
            },
            "type": "scattercarpet"
           }
          ],
          "scattergeo": [
           {
            "marker": {
             "colorbar": {
              "outlinewidth": 0,
              "ticks": ""
             }
            },
            "type": "scattergeo"
           }
          ],
          "scattergl": [
           {
            "marker": {
             "colorbar": {
              "outlinewidth": 0,
              "ticks": ""
             }
            },
            "type": "scattergl"
           }
          ],
          "scattermapbox": [
           {
            "marker": {
             "colorbar": {
              "outlinewidth": 0,
              "ticks": ""
             }
            },
            "type": "scattermapbox"
           }
          ],
          "scatterpolar": [
           {
            "marker": {
             "colorbar": {
              "outlinewidth": 0,
              "ticks": ""
             }
            },
            "type": "scatterpolar"
           }
          ],
          "scatterpolargl": [
           {
            "marker": {
             "colorbar": {
              "outlinewidth": 0,
              "ticks": ""
             }
            },
            "type": "scatterpolargl"
           }
          ],
          "scatterternary": [
           {
            "marker": {
             "colorbar": {
              "outlinewidth": 0,
              "ticks": ""
             }
            },
            "type": "scatterternary"
           }
          ],
          "surface": [
           {
            "colorbar": {
             "outlinewidth": 0,
             "ticks": ""
            },
            "colorscale": [
             [
              0,
              "#0d0887"
             ],
             [
              0.1111111111111111,
              "#46039f"
             ],
             [
              0.2222222222222222,
              "#7201a8"
             ],
             [
              0.3333333333333333,
              "#9c179e"
             ],
             [
              0.4444444444444444,
              "#bd3786"
             ],
             [
              0.5555555555555556,
              "#d8576b"
             ],
             [
              0.6666666666666666,
              "#ed7953"
             ],
             [
              0.7777777777777778,
              "#fb9f3a"
             ],
             [
              0.8888888888888888,
              "#fdca26"
             ],
             [
              1,
              "#f0f921"
             ]
            ],
            "type": "surface"
           }
          ],
          "table": [
           {
            "cells": {
             "fill": {
              "color": "#EBF0F8"
             },
             "line": {
              "color": "white"
             }
            },
            "header": {
             "fill": {
              "color": "#C8D4E3"
             },
             "line": {
              "color": "white"
             }
            },
            "type": "table"
           }
          ]
         },
         "layout": {
          "annotationdefaults": {
           "arrowcolor": "#2a3f5f",
           "arrowhead": 0,
           "arrowwidth": 1
          },
          "autotypenumbers": "strict",
          "coloraxis": {
           "colorbar": {
            "outlinewidth": 0,
            "ticks": ""
           }
          },
          "colorscale": {
           "diverging": [
            [
             0,
             "#8e0152"
            ],
            [
             0.1,
             "#c51b7d"
            ],
            [
             0.2,
             "#de77ae"
            ],
            [
             0.3,
             "#f1b6da"
            ],
            [
             0.4,
             "#fde0ef"
            ],
            [
             0.5,
             "#f7f7f7"
            ],
            [
             0.6,
             "#e6f5d0"
            ],
            [
             0.7,
             "#b8e186"
            ],
            [
             0.8,
             "#7fbc41"
            ],
            [
             0.9,
             "#4d9221"
            ],
            [
             1,
             "#276419"
            ]
           ],
           "sequential": [
            [
             0,
             "#0d0887"
            ],
            [
             0.1111111111111111,
             "#46039f"
            ],
            [
             0.2222222222222222,
             "#7201a8"
            ],
            [
             0.3333333333333333,
             "#9c179e"
            ],
            [
             0.4444444444444444,
             "#bd3786"
            ],
            [
             0.5555555555555556,
             "#d8576b"
            ],
            [
             0.6666666666666666,
             "#ed7953"
            ],
            [
             0.7777777777777778,
             "#fb9f3a"
            ],
            [
             0.8888888888888888,
             "#fdca26"
            ],
            [
             1,
             "#f0f921"
            ]
           ],
           "sequentialminus": [
            [
             0,
             "#0d0887"
            ],
            [
             0.1111111111111111,
             "#46039f"
            ],
            [
             0.2222222222222222,
             "#7201a8"
            ],
            [
             0.3333333333333333,
             "#9c179e"
            ],
            [
             0.4444444444444444,
             "#bd3786"
            ],
            [
             0.5555555555555556,
             "#d8576b"
            ],
            [
             0.6666666666666666,
             "#ed7953"
            ],
            [
             0.7777777777777778,
             "#fb9f3a"
            ],
            [
             0.8888888888888888,
             "#fdca26"
            ],
            [
             1,
             "#f0f921"
            ]
           ]
          },
          "colorway": [
           "#636efa",
           "#EF553B",
           "#00cc96",
           "#ab63fa",
           "#FFA15A",
           "#19d3f3",
           "#FF6692",
           "#B6E880",
           "#FF97FF",
           "#FECB52"
          ],
          "font": {
           "color": "#2a3f5f"
          },
          "geo": {
           "bgcolor": "white",
           "lakecolor": "white",
           "landcolor": "#E5ECF6",
           "showlakes": true,
           "showland": true,
           "subunitcolor": "white"
          },
          "hoverlabel": {
           "align": "left"
          },
          "hovermode": "closest",
          "mapbox": {
           "style": "light"
          },
          "paper_bgcolor": "white",
          "plot_bgcolor": "#E5ECF6",
          "polar": {
           "angularaxis": {
            "gridcolor": "white",
            "linecolor": "white",
            "ticks": ""
           },
           "bgcolor": "#E5ECF6",
           "radialaxis": {
            "gridcolor": "white",
            "linecolor": "white",
            "ticks": ""
           }
          },
          "scene": {
           "xaxis": {
            "backgroundcolor": "#E5ECF6",
            "gridcolor": "white",
            "gridwidth": 2,
            "linecolor": "white",
            "showbackground": true,
            "ticks": "",
            "zerolinecolor": "white"
           },
           "yaxis": {
            "backgroundcolor": "#E5ECF6",
            "gridcolor": "white",
            "gridwidth": 2,
            "linecolor": "white",
            "showbackground": true,
            "ticks": "",
            "zerolinecolor": "white"
           },
           "zaxis": {
            "backgroundcolor": "#E5ECF6",
            "gridcolor": "white",
            "gridwidth": 2,
            "linecolor": "white",
            "showbackground": true,
            "ticks": "",
            "zerolinecolor": "white"
           }
          },
          "shapedefaults": {
           "line": {
            "color": "#2a3f5f"
           }
          },
          "ternary": {
           "aaxis": {
            "gridcolor": "white",
            "linecolor": "white",
            "ticks": ""
           },
           "baxis": {
            "gridcolor": "white",
            "linecolor": "white",
            "ticks": ""
           },
           "bgcolor": "#E5ECF6",
           "caxis": {
            "gridcolor": "white",
            "linecolor": "white",
            "ticks": ""
           }
          },
          "title": {
           "x": 0.05
          },
          "xaxis": {
           "automargin": true,
           "gridcolor": "white",
           "linecolor": "white",
           "ticks": "",
           "title": {
            "standoff": 15
           },
           "zerolinecolor": "white",
           "zerolinewidth": 2
          },
          "yaxis": {
           "automargin": true,
           "gridcolor": "white",
           "linecolor": "white",
           "ticks": "",
           "title": {
            "standoff": 15
           },
           "zerolinecolor": "white",
           "zerolinewidth": 2
          }
         }
        },
        "yaxis": {
         "title": {
          "text": "RMSE"
         }
        }
       }
      },
      "text/html": [
       "<div>                            <div id=\"54269a0b-52fb-4bed-8c25-e1dbf200beb5\" class=\"plotly-graph-div\" style=\"height:525px; width:100%;\"></div>            <script type=\"text/javascript\">                require([\"plotly\"], function(Plotly) {                    window.PLOTLYENV=window.PLOTLYENV || {};                                    if (document.getElementById(\"54269a0b-52fb-4bed-8c25-e1dbf200beb5\")) {                    Plotly.newPlot(                        \"54269a0b-52fb-4bed-8c25-e1dbf200beb5\",                        [{\"name\":\"Training RMSE\",\"x\":[\"c\",\"c,d\",\"c,d,h\",\"c,d,h,w\",\"c,d,h,w,a\",\"c,d,h,w,a,m\",\"c,d,h,w,a,m,o\",\"c,d,h,w,a,m,o,n\"],\"y\":[4.888109236813688,4.58757379901803,4.525395490245242,4.216877763288668,4.213763450275894,3.379999480925898,3.2488224012050075,1.1436227888226098],\"type\":\"bar\"},{\"name\":\"CV RMSE\",\"x\":[\"c\",\"c,d\",\"c,d,h\",\"c,d,h,w\",\"c,d,h,w,a\",\"c,d,h,w,a,m\",\"c,d,h,w,a,m,o\",\"c,d,h,w,a,m,o,n\"],\"y\":[4.876661068256956,4.579060426624024,4.556808311664745,4.252718625749385,4.256844728700814,3.4557657065586773,3.3323381513276003,3.687635534487717],\"type\":\"bar\"},{\"name\":\"Test RMSE\",\"opacity\":0.3,\"x\":[\"c\",\"c,d\",\"c,d,h\",\"c,d,h,w\",\"c,d,h,w,a\",\"c,d,h,w,a,m\",\"c,d,h,w,a,m,o\",\"c,d,h,w,a,m,o,n\"],\"y\":[5.055013548375552,4.7661569898523695,4.5838617699808735,4.325847816131029,4.349888692769131,3.550828171640195,3.3746613014711664,3.5151677332671225],\"type\":\"bar\"}],                        {\"template\":{\"data\":{\"histogram2dcontour\":[{\"type\":\"histogram2dcontour\",\"colorbar\":{\"outlinewidth\":0,\"ticks\":\"\"},\"colorscale\":[[0.0,\"#0d0887\"],[0.1111111111111111,\"#46039f\"],[0.2222222222222222,\"#7201a8\"],[0.3333333333333333,\"#9c179e\"],[0.4444444444444444,\"#bd3786\"],[0.5555555555555556,\"#d8576b\"],[0.6666666666666666,\"#ed7953\"],[0.7777777777777778,\"#fb9f3a\"],[0.8888888888888888,\"#fdca26\"],[1.0,\"#f0f921\"]]}],\"choropleth\":[{\"type\":\"choropleth\",\"colorbar\":{\"outlinewidth\":0,\"ticks\":\"\"}}],\"histogram2d\":[{\"type\":\"histogram2d\",\"colorbar\":{\"outlinewidth\":0,\"ticks\":\"\"},\"colorscale\":[[0.0,\"#0d0887\"],[0.1111111111111111,\"#46039f\"],[0.2222222222222222,\"#7201a8\"],[0.3333333333333333,\"#9c179e\"],[0.4444444444444444,\"#bd3786\"],[0.5555555555555556,\"#d8576b\"],[0.6666666666666666,\"#ed7953\"],[0.7777777777777778,\"#fb9f3a\"],[0.8888888888888888,\"#fdca26\"],[1.0,\"#f0f921\"]]}],\"heatmap\":[{\"type\":\"heatmap\",\"colorbar\":{\"outlinewidth\":0,\"ticks\":\"\"},\"colorscale\":[[0.0,\"#0d0887\"],[0.1111111111111111,\"#46039f\"],[0.2222222222222222,\"#7201a8\"],[0.3333333333333333,\"#9c179e\"],[0.4444444444444444,\"#bd3786\"],[0.5555555555555556,\"#d8576b\"],[0.6666666666666666,\"#ed7953\"],[0.7777777777777778,\"#fb9f3a\"],[0.8888888888888888,\"#fdca26\"],[1.0,\"#f0f921\"]]}],\"heatmapgl\":[{\"type\":\"heatmapgl\",\"colorbar\":{\"outlinewidth\":0,\"ticks\":\"\"},\"colorscale\":[[0.0,\"#0d0887\"],[0.1111111111111111,\"#46039f\"],[0.2222222222222222,\"#7201a8\"],[0.3333333333333333,\"#9c179e\"],[0.4444444444444444,\"#bd3786\"],[0.5555555555555556,\"#d8576b\"],[0.6666666666666666,\"#ed7953\"],[0.7777777777777778,\"#fb9f3a\"],[0.8888888888888888,\"#fdca26\"],[1.0,\"#f0f921\"]]}],\"contourcarpet\":[{\"type\":\"contourcarpet\",\"colorbar\":{\"outlinewidth\":0,\"ticks\":\"\"}}],\"contour\":[{\"type\":\"contour\",\"colorbar\":{\"outlinewidth\":0,\"ticks\":\"\"},\"colorscale\":[[0.0,\"#0d0887\"],[0.1111111111111111,\"#46039f\"],[0.2222222222222222,\"#7201a8\"],[0.3333333333333333,\"#9c179e\"],[0.4444444444444444,\"#bd3786\"],[0.5555555555555556,\"#d8576b\"],[0.6666666666666666,\"#ed7953\"],[0.7777777777777778,\"#fb9f3a\"],[0.8888888888888888,\"#fdca26\"],[1.0,\"#f0f921\"]]}],\"surface\":[{\"type\":\"surface\",\"colorbar\":{\"outlinewidth\":0,\"ticks\":\"\"},\"colorscale\":[[0.0,\"#0d0887\"],[0.1111111111111111,\"#46039f\"],[0.2222222222222222,\"#7201a8\"],[0.3333333333333333,\"#9c179e\"],[0.4444444444444444,\"#bd3786\"],[0.5555555555555556,\"#d8576b\"],[0.6666666666666666,\"#ed7953\"],[0.7777777777777778,\"#fb9f3a\"],[0.8888888888888888,\"#fdca26\"],[1.0,\"#f0f921\"]]}],\"mesh3d\":[{\"type\":\"mesh3d\",\"colorbar\":{\"outlinewidth\":0,\"ticks\":\"\"}}],\"scatter\":[{\"fillpattern\":{\"fillmode\":\"overlay\",\"size\":10,\"solidity\":0.2},\"type\":\"scatter\"}],\"parcoords\":[{\"type\":\"parcoords\",\"line\":{\"colorbar\":{\"outlinewidth\":0,\"ticks\":\"\"}}}],\"scatterpolargl\":[{\"type\":\"scatterpolargl\",\"marker\":{\"colorbar\":{\"outlinewidth\":0,\"ticks\":\"\"}}}],\"bar\":[{\"error_x\":{\"color\":\"#2a3f5f\"},\"error_y\":{\"color\":\"#2a3f5f\"},\"marker\":{\"line\":{\"color\":\"#E5ECF6\",\"width\":0.5},\"pattern\":{\"fillmode\":\"overlay\",\"size\":10,\"solidity\":0.2}},\"type\":\"bar\"}],\"scattergeo\":[{\"type\":\"scattergeo\",\"marker\":{\"colorbar\":{\"outlinewidth\":0,\"ticks\":\"\"}}}],\"scatterpolar\":[{\"type\":\"scatterpolar\",\"marker\":{\"colorbar\":{\"outlinewidth\":0,\"ticks\":\"\"}}}],\"histogram\":[{\"marker\":{\"pattern\":{\"fillmode\":\"overlay\",\"size\":10,\"solidity\":0.2}},\"type\":\"histogram\"}],\"scattergl\":[{\"type\":\"scattergl\",\"marker\":{\"colorbar\":{\"outlinewidth\":0,\"ticks\":\"\"}}}],\"scatter3d\":[{\"type\":\"scatter3d\",\"line\":{\"colorbar\":{\"outlinewidth\":0,\"ticks\":\"\"}},\"marker\":{\"colorbar\":{\"outlinewidth\":0,\"ticks\":\"\"}}}],\"scattermapbox\":[{\"type\":\"scattermapbox\",\"marker\":{\"colorbar\":{\"outlinewidth\":0,\"ticks\":\"\"}}}],\"scatterternary\":[{\"type\":\"scatterternary\",\"marker\":{\"colorbar\":{\"outlinewidth\":0,\"ticks\":\"\"}}}],\"scattercarpet\":[{\"type\":\"scattercarpet\",\"marker\":{\"colorbar\":{\"outlinewidth\":0,\"ticks\":\"\"}}}],\"carpet\":[{\"aaxis\":{\"endlinecolor\":\"#2a3f5f\",\"gridcolor\":\"white\",\"linecolor\":\"white\",\"minorgridcolor\":\"white\",\"startlinecolor\":\"#2a3f5f\"},\"baxis\":{\"endlinecolor\":\"#2a3f5f\",\"gridcolor\":\"white\",\"linecolor\":\"white\",\"minorgridcolor\":\"white\",\"startlinecolor\":\"#2a3f5f\"},\"type\":\"carpet\"}],\"table\":[{\"cells\":{\"fill\":{\"color\":\"#EBF0F8\"},\"line\":{\"color\":\"white\"}},\"header\":{\"fill\":{\"color\":\"#C8D4E3\"},\"line\":{\"color\":\"white\"}},\"type\":\"table\"}],\"barpolar\":[{\"marker\":{\"line\":{\"color\":\"#E5ECF6\",\"width\":0.5},\"pattern\":{\"fillmode\":\"overlay\",\"size\":10,\"solidity\":0.2}},\"type\":\"barpolar\"}],\"pie\":[{\"automargin\":true,\"type\":\"pie\"}]},\"layout\":{\"autotypenumbers\":\"strict\",\"colorway\":[\"#636efa\",\"#EF553B\",\"#00cc96\",\"#ab63fa\",\"#FFA15A\",\"#19d3f3\",\"#FF6692\",\"#B6E880\",\"#FF97FF\",\"#FECB52\"],\"font\":{\"color\":\"#2a3f5f\"},\"hovermode\":\"closest\",\"hoverlabel\":{\"align\":\"left\"},\"paper_bgcolor\":\"white\",\"plot_bgcolor\":\"#E5ECF6\",\"polar\":{\"bgcolor\":\"#E5ECF6\",\"angularaxis\":{\"gridcolor\":\"white\",\"linecolor\":\"white\",\"ticks\":\"\"},\"radialaxis\":{\"gridcolor\":\"white\",\"linecolor\":\"white\",\"ticks\":\"\"}},\"ternary\":{\"bgcolor\":\"#E5ECF6\",\"aaxis\":{\"gridcolor\":\"white\",\"linecolor\":\"white\",\"ticks\":\"\"},\"baxis\":{\"gridcolor\":\"white\",\"linecolor\":\"white\",\"ticks\":\"\"},\"caxis\":{\"gridcolor\":\"white\",\"linecolor\":\"white\",\"ticks\":\"\"}},\"coloraxis\":{\"colorbar\":{\"outlinewidth\":0,\"ticks\":\"\"}},\"colorscale\":{\"sequential\":[[0.0,\"#0d0887\"],[0.1111111111111111,\"#46039f\"],[0.2222222222222222,\"#7201a8\"],[0.3333333333333333,\"#9c179e\"],[0.4444444444444444,\"#bd3786\"],[0.5555555555555556,\"#d8576b\"],[0.6666666666666666,\"#ed7953\"],[0.7777777777777778,\"#fb9f3a\"],[0.8888888888888888,\"#fdca26\"],[1.0,\"#f0f921\"]],\"sequentialminus\":[[0.0,\"#0d0887\"],[0.1111111111111111,\"#46039f\"],[0.2222222222222222,\"#7201a8\"],[0.3333333333333333,\"#9c179e\"],[0.4444444444444444,\"#bd3786\"],[0.5555555555555556,\"#d8576b\"],[0.6666666666666666,\"#ed7953\"],[0.7777777777777778,\"#fb9f3a\"],[0.8888888888888888,\"#fdca26\"],[1.0,\"#f0f921\"]],\"diverging\":[[0,\"#8e0152\"],[0.1,\"#c51b7d\"],[0.2,\"#de77ae\"],[0.3,\"#f1b6da\"],[0.4,\"#fde0ef\"],[0.5,\"#f7f7f7\"],[0.6,\"#e6f5d0\"],[0.7,\"#b8e186\"],[0.8,\"#7fbc41\"],[0.9,\"#4d9221\"],[1,\"#276419\"]]},\"xaxis\":{\"gridcolor\":\"white\",\"linecolor\":\"white\",\"ticks\":\"\",\"title\":{\"standoff\":15},\"zerolinecolor\":\"white\",\"automargin\":true,\"zerolinewidth\":2},\"yaxis\":{\"gridcolor\":\"white\",\"linecolor\":\"white\",\"ticks\":\"\",\"title\":{\"standoff\":15},\"zerolinecolor\":\"white\",\"automargin\":true,\"zerolinewidth\":2},\"scene\":{\"xaxis\":{\"backgroundcolor\":\"#E5ECF6\",\"gridcolor\":\"white\",\"linecolor\":\"white\",\"showbackground\":true,\"ticks\":\"\",\"zerolinecolor\":\"white\",\"gridwidth\":2},\"yaxis\":{\"backgroundcolor\":\"#E5ECF6\",\"gridcolor\":\"white\",\"linecolor\":\"white\",\"showbackground\":true,\"ticks\":\"\",\"zerolinecolor\":\"white\",\"gridwidth\":2},\"zaxis\":{\"backgroundcolor\":\"#E5ECF6\",\"gridcolor\":\"white\",\"linecolor\":\"white\",\"showbackground\":true,\"ticks\":\"\",\"zerolinecolor\":\"white\",\"gridwidth\":2}},\"shapedefaults\":{\"line\":{\"color\":\"#2a3f5f\"}},\"annotationdefaults\":{\"arrowcolor\":\"#2a3f5f\",\"arrowhead\":0,\"arrowwidth\":1},\"geo\":{\"bgcolor\":\"white\",\"landcolor\":\"#E5ECF6\",\"subunitcolor\":\"white\",\"showland\":true,\"showlakes\":true,\"lakecolor\":\"white\"},\"title\":{\"x\":0.05},\"mapbox\":{\"style\":\"light\"}}},\"yaxis\":{\"title\":{\"text\":\"RMSE\"}}},                        {\"responsive\": true}                    ).then(function(){\n",
       "                            \n",
       "var gd = document.getElementById('54269a0b-52fb-4bed-8c25-e1dbf200beb5');\n",
       "var x = new MutationObserver(function (mutations, observer) {{\n",
       "        var display = window.getComputedStyle(gd).display;\n",
       "        if (!display || display === 'none') {{\n",
       "            console.log([gd, 'removed!']);\n",
       "            Plotly.purge(gd);\n",
       "            observer.disconnect();\n",
       "        }}\n",
       "}});\n",
       "\n",
       "// Listen for the removal of the full notebook cells\n",
       "var notebookContainer = gd.closest('#notebook-container');\n",
       "if (notebookContainer) {{\n",
       "    x.observe(notebookContainer, {childList: true});\n",
       "}}\n",
       "\n",
       "// Listen for the clearing of the current output cell\n",
       "var outputEl = gd.closest('.output');\n",
       "if (outputEl) {{\n",
       "    x.observe(outputEl, {childList: true});\n",
       "}}\n",
       "\n",
       "                        })                };                });            </script>        </div>"
      ]
     },
     "metadata": {},
     "output_type": "display_data"
    }
   ],
   "source": [
    "compare_models(models)"
   ]
  },
  {
   "cell_type": "markdown",
   "metadata": {},
   "source": [
    "Notice that adding the origin of the vehicle resulted in a small decrease in training error and validation error but adding the name resulted in a large decrease in training error and moderate increase in validation error.  The introduction of vehicle name feature resulted in **overfitting**.  To see why this might have happened let's look at the number of features in each model."
   ]
  },
  {
   "cell_type": "code",
   "execution_count": 25,
   "metadata": {},
   "outputs": [
    {
     "data": {
      "application/vnd.plotly.v1+json": {
       "config": {
        "plotlyServerURL": "https://plot.ly"
       },
       "data": [
        {
         "type": "bar",
         "x": [
          "c",
          "c,d",
          "c,d,h",
          "c,d,h,w",
          "c,d,h,w,a",
          "c,d,h,w,a,m",
          "c,d,h,w,a,m,o",
          "c,d,h,w,a,m,o,n"
         ],
         "y": [
          1,
          2,
          3,
          4,
          5,
          6,
          9,
          270
         ]
        }
       ],
       "layout": {
        "template": {
         "data": {
          "bar": [
           {
            "error_x": {
             "color": "#2a3f5f"
            },
            "error_y": {
             "color": "#2a3f5f"
            },
            "marker": {
             "line": {
              "color": "#E5ECF6",
              "width": 0.5
             },
             "pattern": {
              "fillmode": "overlay",
              "size": 10,
              "solidity": 0.2
             }
            },
            "type": "bar"
           }
          ],
          "barpolar": [
           {
            "marker": {
             "line": {
              "color": "#E5ECF6",
              "width": 0.5
             },
             "pattern": {
              "fillmode": "overlay",
              "size": 10,
              "solidity": 0.2
             }
            },
            "type": "barpolar"
           }
          ],
          "carpet": [
           {
            "aaxis": {
             "endlinecolor": "#2a3f5f",
             "gridcolor": "white",
             "linecolor": "white",
             "minorgridcolor": "white",
             "startlinecolor": "#2a3f5f"
            },
            "baxis": {
             "endlinecolor": "#2a3f5f",
             "gridcolor": "white",
             "linecolor": "white",
             "minorgridcolor": "white",
             "startlinecolor": "#2a3f5f"
            },
            "type": "carpet"
           }
          ],
          "choropleth": [
           {
            "colorbar": {
             "outlinewidth": 0,
             "ticks": ""
            },
            "type": "choropleth"
           }
          ],
          "contour": [
           {
            "colorbar": {
             "outlinewidth": 0,
             "ticks": ""
            },
            "colorscale": [
             [
              0,
              "#0d0887"
             ],
             [
              0.1111111111111111,
              "#46039f"
             ],
             [
              0.2222222222222222,
              "#7201a8"
             ],
             [
              0.3333333333333333,
              "#9c179e"
             ],
             [
              0.4444444444444444,
              "#bd3786"
             ],
             [
              0.5555555555555556,
              "#d8576b"
             ],
             [
              0.6666666666666666,
              "#ed7953"
             ],
             [
              0.7777777777777778,
              "#fb9f3a"
             ],
             [
              0.8888888888888888,
              "#fdca26"
             ],
             [
              1,
              "#f0f921"
             ]
            ],
            "type": "contour"
           }
          ],
          "contourcarpet": [
           {
            "colorbar": {
             "outlinewidth": 0,
             "ticks": ""
            },
            "type": "contourcarpet"
           }
          ],
          "heatmap": [
           {
            "colorbar": {
             "outlinewidth": 0,
             "ticks": ""
            },
            "colorscale": [
             [
              0,
              "#0d0887"
             ],
             [
              0.1111111111111111,
              "#46039f"
             ],
             [
              0.2222222222222222,
              "#7201a8"
             ],
             [
              0.3333333333333333,
              "#9c179e"
             ],
             [
              0.4444444444444444,
              "#bd3786"
             ],
             [
              0.5555555555555556,
              "#d8576b"
             ],
             [
              0.6666666666666666,
              "#ed7953"
             ],
             [
              0.7777777777777778,
              "#fb9f3a"
             ],
             [
              0.8888888888888888,
              "#fdca26"
             ],
             [
              1,
              "#f0f921"
             ]
            ],
            "type": "heatmap"
           }
          ],
          "heatmapgl": [
           {
            "colorbar": {
             "outlinewidth": 0,
             "ticks": ""
            },
            "colorscale": [
             [
              0,
              "#0d0887"
             ],
             [
              0.1111111111111111,
              "#46039f"
             ],
             [
              0.2222222222222222,
              "#7201a8"
             ],
             [
              0.3333333333333333,
              "#9c179e"
             ],
             [
              0.4444444444444444,
              "#bd3786"
             ],
             [
              0.5555555555555556,
              "#d8576b"
             ],
             [
              0.6666666666666666,
              "#ed7953"
             ],
             [
              0.7777777777777778,
              "#fb9f3a"
             ],
             [
              0.8888888888888888,
              "#fdca26"
             ],
             [
              1,
              "#f0f921"
             ]
            ],
            "type": "heatmapgl"
           }
          ],
          "histogram": [
           {
            "marker": {
             "pattern": {
              "fillmode": "overlay",
              "size": 10,
              "solidity": 0.2
             }
            },
            "type": "histogram"
           }
          ],
          "histogram2d": [
           {
            "colorbar": {
             "outlinewidth": 0,
             "ticks": ""
            },
            "colorscale": [
             [
              0,
              "#0d0887"
             ],
             [
              0.1111111111111111,
              "#46039f"
             ],
             [
              0.2222222222222222,
              "#7201a8"
             ],
             [
              0.3333333333333333,
              "#9c179e"
             ],
             [
              0.4444444444444444,
              "#bd3786"
             ],
             [
              0.5555555555555556,
              "#d8576b"
             ],
             [
              0.6666666666666666,
              "#ed7953"
             ],
             [
              0.7777777777777778,
              "#fb9f3a"
             ],
             [
              0.8888888888888888,
              "#fdca26"
             ],
             [
              1,
              "#f0f921"
             ]
            ],
            "type": "histogram2d"
           }
          ],
          "histogram2dcontour": [
           {
            "colorbar": {
             "outlinewidth": 0,
             "ticks": ""
            },
            "colorscale": [
             [
              0,
              "#0d0887"
             ],
             [
              0.1111111111111111,
              "#46039f"
             ],
             [
              0.2222222222222222,
              "#7201a8"
             ],
             [
              0.3333333333333333,
              "#9c179e"
             ],
             [
              0.4444444444444444,
              "#bd3786"
             ],
             [
              0.5555555555555556,
              "#d8576b"
             ],
             [
              0.6666666666666666,
              "#ed7953"
             ],
             [
              0.7777777777777778,
              "#fb9f3a"
             ],
             [
              0.8888888888888888,
              "#fdca26"
             ],
             [
              1,
              "#f0f921"
             ]
            ],
            "type": "histogram2dcontour"
           }
          ],
          "mesh3d": [
           {
            "colorbar": {
             "outlinewidth": 0,
             "ticks": ""
            },
            "type": "mesh3d"
           }
          ],
          "parcoords": [
           {
            "line": {
             "colorbar": {
              "outlinewidth": 0,
              "ticks": ""
             }
            },
            "type": "parcoords"
           }
          ],
          "pie": [
           {
            "automargin": true,
            "type": "pie"
           }
          ],
          "scatter": [
           {
            "fillpattern": {
             "fillmode": "overlay",
             "size": 10,
             "solidity": 0.2
            },
            "type": "scatter"
           }
          ],
          "scatter3d": [
           {
            "line": {
             "colorbar": {
              "outlinewidth": 0,
              "ticks": ""
             }
            },
            "marker": {
             "colorbar": {
              "outlinewidth": 0,
              "ticks": ""
             }
            },
            "type": "scatter3d"
           }
          ],
          "scattercarpet": [
           {
            "marker": {
             "colorbar": {
              "outlinewidth": 0,
              "ticks": ""
             }
            },
            "type": "scattercarpet"
           }
          ],
          "scattergeo": [
           {
            "marker": {
             "colorbar": {
              "outlinewidth": 0,
              "ticks": ""
             }
            },
            "type": "scattergeo"
           }
          ],
          "scattergl": [
           {
            "marker": {
             "colorbar": {
              "outlinewidth": 0,
              "ticks": ""
             }
            },
            "type": "scattergl"
           }
          ],
          "scattermapbox": [
           {
            "marker": {
             "colorbar": {
              "outlinewidth": 0,
              "ticks": ""
             }
            },
            "type": "scattermapbox"
           }
          ],
          "scatterpolar": [
           {
            "marker": {
             "colorbar": {
              "outlinewidth": 0,
              "ticks": ""
             }
            },
            "type": "scatterpolar"
           }
          ],
          "scatterpolargl": [
           {
            "marker": {
             "colorbar": {
              "outlinewidth": 0,
              "ticks": ""
             }
            },
            "type": "scatterpolargl"
           }
          ],
          "scatterternary": [
           {
            "marker": {
             "colorbar": {
              "outlinewidth": 0,
              "ticks": ""
             }
            },
            "type": "scatterternary"
           }
          ],
          "surface": [
           {
            "colorbar": {
             "outlinewidth": 0,
             "ticks": ""
            },
            "colorscale": [
             [
              0,
              "#0d0887"
             ],
             [
              0.1111111111111111,
              "#46039f"
             ],
             [
              0.2222222222222222,
              "#7201a8"
             ],
             [
              0.3333333333333333,
              "#9c179e"
             ],
             [
              0.4444444444444444,
              "#bd3786"
             ],
             [
              0.5555555555555556,
              "#d8576b"
             ],
             [
              0.6666666666666666,
              "#ed7953"
             ],
             [
              0.7777777777777778,
              "#fb9f3a"
             ],
             [
              0.8888888888888888,
              "#fdca26"
             ],
             [
              1,
              "#f0f921"
             ]
            ],
            "type": "surface"
           }
          ],
          "table": [
           {
            "cells": {
             "fill": {
              "color": "#EBF0F8"
             },
             "line": {
              "color": "white"
             }
            },
            "header": {
             "fill": {
              "color": "#C8D4E3"
             },
             "line": {
              "color": "white"
             }
            },
            "type": "table"
           }
          ]
         },
         "layout": {
          "annotationdefaults": {
           "arrowcolor": "#2a3f5f",
           "arrowhead": 0,
           "arrowwidth": 1
          },
          "autotypenumbers": "strict",
          "coloraxis": {
           "colorbar": {
            "outlinewidth": 0,
            "ticks": ""
           }
          },
          "colorscale": {
           "diverging": [
            [
             0,
             "#8e0152"
            ],
            [
             0.1,
             "#c51b7d"
            ],
            [
             0.2,
             "#de77ae"
            ],
            [
             0.3,
             "#f1b6da"
            ],
            [
             0.4,
             "#fde0ef"
            ],
            [
             0.5,
             "#f7f7f7"
            ],
            [
             0.6,
             "#e6f5d0"
            ],
            [
             0.7,
             "#b8e186"
            ],
            [
             0.8,
             "#7fbc41"
            ],
            [
             0.9,
             "#4d9221"
            ],
            [
             1,
             "#276419"
            ]
           ],
           "sequential": [
            [
             0,
             "#0d0887"
            ],
            [
             0.1111111111111111,
             "#46039f"
            ],
            [
             0.2222222222222222,
             "#7201a8"
            ],
            [
             0.3333333333333333,
             "#9c179e"
            ],
            [
             0.4444444444444444,
             "#bd3786"
            ],
            [
             0.5555555555555556,
             "#d8576b"
            ],
            [
             0.6666666666666666,
             "#ed7953"
            ],
            [
             0.7777777777777778,
             "#fb9f3a"
            ],
            [
             0.8888888888888888,
             "#fdca26"
            ],
            [
             1,
             "#f0f921"
            ]
           ],
           "sequentialminus": [
            [
             0,
             "#0d0887"
            ],
            [
             0.1111111111111111,
             "#46039f"
            ],
            [
             0.2222222222222222,
             "#7201a8"
            ],
            [
             0.3333333333333333,
             "#9c179e"
            ],
            [
             0.4444444444444444,
             "#bd3786"
            ],
            [
             0.5555555555555556,
             "#d8576b"
            ],
            [
             0.6666666666666666,
             "#ed7953"
            ],
            [
             0.7777777777777778,
             "#fb9f3a"
            ],
            [
             0.8888888888888888,
             "#fdca26"
            ],
            [
             1,
             "#f0f921"
            ]
           ]
          },
          "colorway": [
           "#636efa",
           "#EF553B",
           "#00cc96",
           "#ab63fa",
           "#FFA15A",
           "#19d3f3",
           "#FF6692",
           "#B6E880",
           "#FF97FF",
           "#FECB52"
          ],
          "font": {
           "color": "#2a3f5f"
          },
          "geo": {
           "bgcolor": "white",
           "lakecolor": "white",
           "landcolor": "#E5ECF6",
           "showlakes": true,
           "showland": true,
           "subunitcolor": "white"
          },
          "hoverlabel": {
           "align": "left"
          },
          "hovermode": "closest",
          "mapbox": {
           "style": "light"
          },
          "paper_bgcolor": "white",
          "plot_bgcolor": "#E5ECF6",
          "polar": {
           "angularaxis": {
            "gridcolor": "white",
            "linecolor": "white",
            "ticks": ""
           },
           "bgcolor": "#E5ECF6",
           "radialaxis": {
            "gridcolor": "white",
            "linecolor": "white",
            "ticks": ""
           }
          },
          "scene": {
           "xaxis": {
            "backgroundcolor": "#E5ECF6",
            "gridcolor": "white",
            "gridwidth": 2,
            "linecolor": "white",
            "showbackground": true,
            "ticks": "",
            "zerolinecolor": "white"
           },
           "yaxis": {
            "backgroundcolor": "#E5ECF6",
            "gridcolor": "white",
            "gridwidth": 2,
            "linecolor": "white",
            "showbackground": true,
            "ticks": "",
            "zerolinecolor": "white"
           },
           "zaxis": {
            "backgroundcolor": "#E5ECF6",
            "gridcolor": "white",
            "gridwidth": 2,
            "linecolor": "white",
            "showbackground": true,
            "ticks": "",
            "zerolinecolor": "white"
           }
          },
          "shapedefaults": {
           "line": {
            "color": "#2a3f5f"
           }
          },
          "ternary": {
           "aaxis": {
            "gridcolor": "white",
            "linecolor": "white",
            "ticks": ""
           },
           "baxis": {
            "gridcolor": "white",
            "linecolor": "white",
            "ticks": ""
           },
           "bgcolor": "#E5ECF6",
           "caxis": {
            "gridcolor": "white",
            "linecolor": "white",
            "ticks": ""
           }
          },
          "title": {
           "x": 0.05
          },
          "xaxis": {
           "automargin": true,
           "gridcolor": "white",
           "linecolor": "white",
           "ticks": "",
           "title": {
            "standoff": 15
           },
           "zerolinecolor": "white",
           "zerolinewidth": 2
          },
          "yaxis": {
           "automargin": true,
           "gridcolor": "white",
           "linecolor": "white",
           "ticks": "",
           "title": {
            "standoff": 15
           },
           "zerolinecolor": "white",
           "zerolinewidth": 2
          }
         }
        },
        "yaxis": {
         "title": {
          "text": "Number of Features"
         },
         "type": "log"
        }
       }
      },
      "text/html": [
       "<div>                            <div id=\"14a1d3c7-b700-4019-8845-2b67605939ae\" class=\"plotly-graph-div\" style=\"height:525px; width:100%;\"></div>            <script type=\"text/javascript\">                require([\"plotly\"], function(Plotly) {                    window.PLOTLYENV=window.PLOTLYENV || {};                                    if (document.getElementById(\"14a1d3c7-b700-4019-8845-2b67605939ae\")) {                    Plotly.newPlot(                        \"14a1d3c7-b700-4019-8845-2b67605939ae\",                        [{\"x\":[\"c\",\"c,d\",\"c,d,h\",\"c,d,h,w\",\"c,d,h,w,a\",\"c,d,h,w,a,m\",\"c,d,h,w,a,m,o\",\"c,d,h,w,a,m,o,n\"],\"y\":[1,2,3,4,5,6,9,270],\"type\":\"bar\"}],                        {\"template\":{\"data\":{\"histogram2dcontour\":[{\"type\":\"histogram2dcontour\",\"colorbar\":{\"outlinewidth\":0,\"ticks\":\"\"},\"colorscale\":[[0.0,\"#0d0887\"],[0.1111111111111111,\"#46039f\"],[0.2222222222222222,\"#7201a8\"],[0.3333333333333333,\"#9c179e\"],[0.4444444444444444,\"#bd3786\"],[0.5555555555555556,\"#d8576b\"],[0.6666666666666666,\"#ed7953\"],[0.7777777777777778,\"#fb9f3a\"],[0.8888888888888888,\"#fdca26\"],[1.0,\"#f0f921\"]]}],\"choropleth\":[{\"type\":\"choropleth\",\"colorbar\":{\"outlinewidth\":0,\"ticks\":\"\"}}],\"histogram2d\":[{\"type\":\"histogram2d\",\"colorbar\":{\"outlinewidth\":0,\"ticks\":\"\"},\"colorscale\":[[0.0,\"#0d0887\"],[0.1111111111111111,\"#46039f\"],[0.2222222222222222,\"#7201a8\"],[0.3333333333333333,\"#9c179e\"],[0.4444444444444444,\"#bd3786\"],[0.5555555555555556,\"#d8576b\"],[0.6666666666666666,\"#ed7953\"],[0.7777777777777778,\"#fb9f3a\"],[0.8888888888888888,\"#fdca26\"],[1.0,\"#f0f921\"]]}],\"heatmap\":[{\"type\":\"heatmap\",\"colorbar\":{\"outlinewidth\":0,\"ticks\":\"\"},\"colorscale\":[[0.0,\"#0d0887\"],[0.1111111111111111,\"#46039f\"],[0.2222222222222222,\"#7201a8\"],[0.3333333333333333,\"#9c179e\"],[0.4444444444444444,\"#bd3786\"],[0.5555555555555556,\"#d8576b\"],[0.6666666666666666,\"#ed7953\"],[0.7777777777777778,\"#fb9f3a\"],[0.8888888888888888,\"#fdca26\"],[1.0,\"#f0f921\"]]}],\"heatmapgl\":[{\"type\":\"heatmapgl\",\"colorbar\":{\"outlinewidth\":0,\"ticks\":\"\"},\"colorscale\":[[0.0,\"#0d0887\"],[0.1111111111111111,\"#46039f\"],[0.2222222222222222,\"#7201a8\"],[0.3333333333333333,\"#9c179e\"],[0.4444444444444444,\"#bd3786\"],[0.5555555555555556,\"#d8576b\"],[0.6666666666666666,\"#ed7953\"],[0.7777777777777778,\"#fb9f3a\"],[0.8888888888888888,\"#fdca26\"],[1.0,\"#f0f921\"]]}],\"contourcarpet\":[{\"type\":\"contourcarpet\",\"colorbar\":{\"outlinewidth\":0,\"ticks\":\"\"}}],\"contour\":[{\"type\":\"contour\",\"colorbar\":{\"outlinewidth\":0,\"ticks\":\"\"},\"colorscale\":[[0.0,\"#0d0887\"],[0.1111111111111111,\"#46039f\"],[0.2222222222222222,\"#7201a8\"],[0.3333333333333333,\"#9c179e\"],[0.4444444444444444,\"#bd3786\"],[0.5555555555555556,\"#d8576b\"],[0.6666666666666666,\"#ed7953\"],[0.7777777777777778,\"#fb9f3a\"],[0.8888888888888888,\"#fdca26\"],[1.0,\"#f0f921\"]]}],\"surface\":[{\"type\":\"surface\",\"colorbar\":{\"outlinewidth\":0,\"ticks\":\"\"},\"colorscale\":[[0.0,\"#0d0887\"],[0.1111111111111111,\"#46039f\"],[0.2222222222222222,\"#7201a8\"],[0.3333333333333333,\"#9c179e\"],[0.4444444444444444,\"#bd3786\"],[0.5555555555555556,\"#d8576b\"],[0.6666666666666666,\"#ed7953\"],[0.7777777777777778,\"#fb9f3a\"],[0.8888888888888888,\"#fdca26\"],[1.0,\"#f0f921\"]]}],\"mesh3d\":[{\"type\":\"mesh3d\",\"colorbar\":{\"outlinewidth\":0,\"ticks\":\"\"}}],\"scatter\":[{\"fillpattern\":{\"fillmode\":\"overlay\",\"size\":10,\"solidity\":0.2},\"type\":\"scatter\"}],\"parcoords\":[{\"type\":\"parcoords\",\"line\":{\"colorbar\":{\"outlinewidth\":0,\"ticks\":\"\"}}}],\"scatterpolargl\":[{\"type\":\"scatterpolargl\",\"marker\":{\"colorbar\":{\"outlinewidth\":0,\"ticks\":\"\"}}}],\"bar\":[{\"error_x\":{\"color\":\"#2a3f5f\"},\"error_y\":{\"color\":\"#2a3f5f\"},\"marker\":{\"line\":{\"color\":\"#E5ECF6\",\"width\":0.5},\"pattern\":{\"fillmode\":\"overlay\",\"size\":10,\"solidity\":0.2}},\"type\":\"bar\"}],\"scattergeo\":[{\"type\":\"scattergeo\",\"marker\":{\"colorbar\":{\"outlinewidth\":0,\"ticks\":\"\"}}}],\"scatterpolar\":[{\"type\":\"scatterpolar\",\"marker\":{\"colorbar\":{\"outlinewidth\":0,\"ticks\":\"\"}}}],\"histogram\":[{\"marker\":{\"pattern\":{\"fillmode\":\"overlay\",\"size\":10,\"solidity\":0.2}},\"type\":\"histogram\"}],\"scattergl\":[{\"type\":\"scattergl\",\"marker\":{\"colorbar\":{\"outlinewidth\":0,\"ticks\":\"\"}}}],\"scatter3d\":[{\"type\":\"scatter3d\",\"line\":{\"colorbar\":{\"outlinewidth\":0,\"ticks\":\"\"}},\"marker\":{\"colorbar\":{\"outlinewidth\":0,\"ticks\":\"\"}}}],\"scattermapbox\":[{\"type\":\"scattermapbox\",\"marker\":{\"colorbar\":{\"outlinewidth\":0,\"ticks\":\"\"}}}],\"scatterternary\":[{\"type\":\"scatterternary\",\"marker\":{\"colorbar\":{\"outlinewidth\":0,\"ticks\":\"\"}}}],\"scattercarpet\":[{\"type\":\"scattercarpet\",\"marker\":{\"colorbar\":{\"outlinewidth\":0,\"ticks\":\"\"}}}],\"carpet\":[{\"aaxis\":{\"endlinecolor\":\"#2a3f5f\",\"gridcolor\":\"white\",\"linecolor\":\"white\",\"minorgridcolor\":\"white\",\"startlinecolor\":\"#2a3f5f\"},\"baxis\":{\"endlinecolor\":\"#2a3f5f\",\"gridcolor\":\"white\",\"linecolor\":\"white\",\"minorgridcolor\":\"white\",\"startlinecolor\":\"#2a3f5f\"},\"type\":\"carpet\"}],\"table\":[{\"cells\":{\"fill\":{\"color\":\"#EBF0F8\"},\"line\":{\"color\":\"white\"}},\"header\":{\"fill\":{\"color\":\"#C8D4E3\"},\"line\":{\"color\":\"white\"}},\"type\":\"table\"}],\"barpolar\":[{\"marker\":{\"line\":{\"color\":\"#E5ECF6\",\"width\":0.5},\"pattern\":{\"fillmode\":\"overlay\",\"size\":10,\"solidity\":0.2}},\"type\":\"barpolar\"}],\"pie\":[{\"automargin\":true,\"type\":\"pie\"}]},\"layout\":{\"autotypenumbers\":\"strict\",\"colorway\":[\"#636efa\",\"#EF553B\",\"#00cc96\",\"#ab63fa\",\"#FFA15A\",\"#19d3f3\",\"#FF6692\",\"#B6E880\",\"#FF97FF\",\"#FECB52\"],\"font\":{\"color\":\"#2a3f5f\"},\"hovermode\":\"closest\",\"hoverlabel\":{\"align\":\"left\"},\"paper_bgcolor\":\"white\",\"plot_bgcolor\":\"#E5ECF6\",\"polar\":{\"bgcolor\":\"#E5ECF6\",\"angularaxis\":{\"gridcolor\":\"white\",\"linecolor\":\"white\",\"ticks\":\"\"},\"radialaxis\":{\"gridcolor\":\"white\",\"linecolor\":\"white\",\"ticks\":\"\"}},\"ternary\":{\"bgcolor\":\"#E5ECF6\",\"aaxis\":{\"gridcolor\":\"white\",\"linecolor\":\"white\",\"ticks\":\"\"},\"baxis\":{\"gridcolor\":\"white\",\"linecolor\":\"white\",\"ticks\":\"\"},\"caxis\":{\"gridcolor\":\"white\",\"linecolor\":\"white\",\"ticks\":\"\"}},\"coloraxis\":{\"colorbar\":{\"outlinewidth\":0,\"ticks\":\"\"}},\"colorscale\":{\"sequential\":[[0.0,\"#0d0887\"],[0.1111111111111111,\"#46039f\"],[0.2222222222222222,\"#7201a8\"],[0.3333333333333333,\"#9c179e\"],[0.4444444444444444,\"#bd3786\"],[0.5555555555555556,\"#d8576b\"],[0.6666666666666666,\"#ed7953\"],[0.7777777777777778,\"#fb9f3a\"],[0.8888888888888888,\"#fdca26\"],[1.0,\"#f0f921\"]],\"sequentialminus\":[[0.0,\"#0d0887\"],[0.1111111111111111,\"#46039f\"],[0.2222222222222222,\"#7201a8\"],[0.3333333333333333,\"#9c179e\"],[0.4444444444444444,\"#bd3786\"],[0.5555555555555556,\"#d8576b\"],[0.6666666666666666,\"#ed7953\"],[0.7777777777777778,\"#fb9f3a\"],[0.8888888888888888,\"#fdca26\"],[1.0,\"#f0f921\"]],\"diverging\":[[0,\"#8e0152\"],[0.1,\"#c51b7d\"],[0.2,\"#de77ae\"],[0.3,\"#f1b6da\"],[0.4,\"#fde0ef\"],[0.5,\"#f7f7f7\"],[0.6,\"#e6f5d0\"],[0.7,\"#b8e186\"],[0.8,\"#7fbc41\"],[0.9,\"#4d9221\"],[1,\"#276419\"]]},\"xaxis\":{\"gridcolor\":\"white\",\"linecolor\":\"white\",\"ticks\":\"\",\"title\":{\"standoff\":15},\"zerolinecolor\":\"white\",\"automargin\":true,\"zerolinewidth\":2},\"yaxis\":{\"gridcolor\":\"white\",\"linecolor\":\"white\",\"ticks\":\"\",\"title\":{\"standoff\":15},\"zerolinecolor\":\"white\",\"automargin\":true,\"zerolinewidth\":2},\"scene\":{\"xaxis\":{\"backgroundcolor\":\"#E5ECF6\",\"gridcolor\":\"white\",\"linecolor\":\"white\",\"showbackground\":true,\"ticks\":\"\",\"zerolinecolor\":\"white\",\"gridwidth\":2},\"yaxis\":{\"backgroundcolor\":\"#E5ECF6\",\"gridcolor\":\"white\",\"linecolor\":\"white\",\"showbackground\":true,\"ticks\":\"\",\"zerolinecolor\":\"white\",\"gridwidth\":2},\"zaxis\":{\"backgroundcolor\":\"#E5ECF6\",\"gridcolor\":\"white\",\"linecolor\":\"white\",\"showbackground\":true,\"ticks\":\"\",\"zerolinecolor\":\"white\",\"gridwidth\":2}},\"shapedefaults\":{\"line\":{\"color\":\"#2a3f5f\"}},\"annotationdefaults\":{\"arrowcolor\":\"#2a3f5f\",\"arrowhead\":0,\"arrowwidth\":1},\"geo\":{\"bgcolor\":\"white\",\"landcolor\":\"#E5ECF6\",\"subunitcolor\":\"white\",\"showland\":true,\"showlakes\":true,\"lakecolor\":\"white\"},\"title\":{\"x\":0.05},\"mapbox\":{\"style\":\"light\"}}},\"yaxis\":{\"title\":{\"text\":\"Number of Features\"},\"type\":\"log\"}},                        {\"responsive\": true}                    ).then(function(){\n",
       "                            \n",
       "var gd = document.getElementById('14a1d3c7-b700-4019-8845-2b67605939ae');\n",
       "var x = new MutationObserver(function (mutations, observer) {{\n",
       "        var display = window.getComputedStyle(gd).display;\n",
       "        if (!display || display === 'none') {{\n",
       "            console.log([gd, 'removed!']);\n",
       "            Plotly.purge(gd);\n",
       "            observer.disconnect();\n",
       "        }}\n",
       "}});\n",
       "\n",
       "// Listen for the removal of the full notebook cells\n",
       "var notebookContainer = gd.closest('#notebook-container');\n",
       "if (notebookContainer) {{\n",
       "    x.observe(notebookContainer, {childList: true});\n",
       "}}\n",
       "\n",
       "// Listen for the clearing of the current output cell\n",
       "var outputEl = gd.closest('.output');\n",
       "if (outputEl) {{\n",
       "    x.observe(outputEl, {childList: true});\n",
       "}}\n",
       "\n",
       "                        })                };                });            </script>        </div>"
      ]
     },
     "metadata": {},
     "output_type": "display_data"
    }
   ],
   "source": [
    "fig = go.Figure()\n",
    "fig.add_trace(go.Bar(\n",
    "    x = list(models.keys()), \n",
    "    y = [len(models[m][\"LinearModel\"].coef_) for m in models]\n",
    "))\n",
    "fig.update_yaxes(title=\"Number of Features\",type=\"log\")"
   ]
  },
  {
   "cell_type": "markdown",
   "metadata": {},
   "source": [
    "Notice that the above plot is in log scale on the y axis!  The addition of the model name resulted in a large jump in features.  Perhaps some of these new features are useful and some are not.  What we really want now is a mechanism to select which of these features to keep and which to ignore or down-weight.  This can be done by using regularization. "
   ]
  },
  {
   "cell_type": "markdown",
   "metadata": {},
   "source": [
    "## Regularization\n",
    "\n",
    "Broadly speaking, regularization refers to methods used to control over-fitting.  However, in this class we will focus on parametric regularization (or parameter-based) techniques."
   ]
  },
  {
   "cell_type": "markdown",
   "metadata": {},
   "source": [
    "The simplest way to think about regularization is in the context of our original loss minimization problem. Recall we defined the loss function which determines what is the best parameter value $\\hat{\\theta}$ for our model. \n",
    "\n",
    "$$\n",
    "\\hat{\\theta} = \\arg \\min_\\theta \\frac{1}{n} \\sum_{i=1}^n \\textbf{Loss}\\left(Y_i, f_\\theta(X_i)\\right)\n",
    "$$\n",
    "\n",
    "The loss captures how well our model fits the data.  What we need is a way to a way to penalize models that over-fit to the data.  We can do this by adding an extra term to our loss minimization problem:\n",
    "\n",
    "\n",
    "$$\n",
    "\\hat{\\theta} = \\arg \\min_\\theta \\frac{1}{n} \\sum_{i=1}^n \\textbf{Loss}\\left(Y_i, f_\\theta(X_i)\\right) + \\alpha \\textbf{Reg}(f_\\theta, X, Y)\n",
    "$$\n",
    "\n",
    "The **Reg** function measures how much our model overfits and  (alpha) $\\alpha$ parameter (really **hyper-parameter** - **another word for external configuration parameters**) allows us balance fitting our data and overfitting. The remaining challenge is how to define this **Reg** function and determine the value of our additional $\\alpha$  (alpha) parameter.  \n"
   ]
  },
  {
   "cell_type": "markdown",
   "metadata": {},
   "source": [
    "### The Regularization Hyper-parameter\n",
    "The $\\alpha$ parameter is our regularization **hyper-parameter**.  It is a hyper-parameter because it is not a model parameter but a choice of how we want to balance fitting the data and \"over-fitting\".  The goal is to find a value of this hyper-parameter to maximize our accuracy on the **test data**. However, **we can't use the test data to make modeling decisions** so we turn to cross validation.  The standard way to find the best $\\alpha$ is to try a bunch of values (perhaps using binary search) and take the one with the lowest cross validation error. \n",
    "\n",
    "You may have noticed that  we interchange-ablely use $\\lambda$ instead of $\\alpha$.  This is because many textbooks use $\\lambda$ and sklearn uses $\\alpha$."
   ]
  },
  {
   "cell_type": "markdown",
   "metadata": {},
   "source": [
    "### The Regularization Function \n",
    "\n",
    "In our cartoon formulation of the regularized loss, the regularization function **Reg** is supposed to \"measure\" how much our model \"overfits\".  It depends on the model parameters and also can depend on the data.  An obvious choice for this function could be the gap between training and cross validation error but that is difficult to optimize and somewhat circular since both training and validation error depend on solving the regularized loss minimization problem. \n",
    "\n",
    "We have already seen that the more features we have the more likely we are to overfit to our data.  For our linear model, if we set a parameter to 0 then that is the same as not having that feature.  Therefore, one possible regularization function could be to count the non-zero parameters in our model.\n",
    "\n",
    "$$\n",
    "\\textbf{Reg}(\\theta) = \\sum_{k=1}^d (\\theta_i \\neq 0)\n",
    "$$\n",
    "\n",
    "To minimize this function would be to ignore all the features and that would certainly not overfit.  This is actually, the \"feature selection\" regularization objective.  Unfortunately, optimizing this objective is very hard (NP-Hard).  \n",
    "\n",
    "However, there are some good approximations we can use:\n",
    "\n",
    "$$\n",
    "\\textbf{Reg}^\\text{ridge}(\\theta) = \\sum_{k=1}^d \\theta_i^2\n",
    "$$\n",
    "\n",
    "and\n",
    "\n",
    "$$\n",
    "\\textbf{Reg}^\\text{lasso}(\\theta) = \\sum_{k=1}^d \\left|\\theta_i \\right|\n",
    "$$\n",
    "\n",
    "Each of these regularization functions (and their combination) give rise to different regression techniques.\n",
    "\n"
   ]
  },
  {
   "cell_type": "markdown",
   "metadata": {},
   "source": [
    "### Ridge Regression\n",
    "\n",
    "Ridge regression combines the ridge (L2, Squared) regularization function with the least squares loss.  \n",
    "\n",
    "\n",
    "$$\n",
    "\\hat{\\theta}_\\alpha = \\arg \\min_\\theta \\left(\\frac{1}{n} \\sum_{i=1}^n \\left(Y_i -  f_\\theta(X_i)\\right)^2 \\right) + \\alpha \\sum_{k=1}^d \\theta_k^2\n",
    "$$\n",
    "\n",
    "\n",
    "\n",
    "Ridge regression, like ordinary least squares regression, also has a closed form solution for the optimal $\\hat{\\theta}_\\alpha$\n",
    "\n",
    "$$\n",
    "\\hat{\\theta}_\\alpha = \\left(X^T X + n \\alpha \\mathbf{I}\\right)^{-1} X^T Y\n",
    "$$\n",
    "\n",
    "where $\\mathbf{I}$ is the identity matrix, $n$ is the number of data points, and $\\alpha$ is the regularization hyper-parameter.\n",
    "\n",
    "Notice that even if $X^T X$ is not full rank, the addition of $n \\alpha \\mathbf{I}$ (which is full rank) makes $\\left(X^T X + n \\alpha \\mathbf{I}\\right)$ invertible.  Thus, ridge regression addresses our earlier issue of having an underdetermined system and partially improves the numerical stability of the solution. "
   ]
  },
  {
   "cell_type": "markdown",
   "metadata": {},
   "source": [
    "### Lasso Regression\n",
    "\n",
    "Lasso regression combines the absolute (L1) regularization function with the least squares loss.  \n",
    "\n",
    "$$\n",
    "\\hat{\\theta}_\\alpha = \\arg \\min_\\theta \\left(\\frac{1}{n} \\sum_{i=1}^n \\left(Y_i -  f_\\theta(X_i)\\right)^2 \\right) + \\alpha \\sum_{k=1}^d |\\theta_k|\n",
    "$$\n",
    "\n",
    "Lasso is actually an acronym (and a cool name) which stands for Least Absolute Shrinkage and Selection Operator.  It is an absolute operator because it is the absolute value.  It is a shrinkage operator because it favors smaller parameter values.  It is a selection operator because it has the peculiar property of pushing parameter values all the way to zero thereby selecting the remaining features.  It is this last property that makes Lasso regression so useful. By using Lasso regression and setting sufficiently large value of $\\alpha$ you can eliminate features that are not informative. \n",
    "\n",
    "Unfortunately, there is no closed form solution for Lasso regression and so iterative optimization algorithms like gradient descent are typically used. "
   ]
  },
  {
   "cell_type": "markdown",
   "metadata": {},
   "source": [
    "### Normalizing the Features\n",
    "\n",
    "When applying Ridge or Lasso regression it is important that you normalize your features.  Why (think about it for a second)?  \n",
    "\n",
    "The issue is that if you have very large and very small features then the relative magnitudes of the coefficients may differ substantially.  Think of the coefficients as unit translations from units of features (e.g., cubic centimeters, and horse power) to units of the thing you are trying to predict (e.g., miles per gallon).  The regularization function treats all these unit translation coefficients equally but some may *need* to be much larger than others.  Therefore, by *standardizing the features* we can address this variation.   You can standardize a feature by computing:\n",
    "\n",
    "$$\n",
    "z = \\frac{x - \\textbf{Mean}(x)}{\\textbf{StdDev}(x)}\n",
    "$$"
   ]
  },
  {
   "cell_type": "markdown",
   "metadata": {},
   "source": [
    "## Ridge Regression in SK Learn\n",
    "\n",
    "Both Ridge Regression and Lasso are built-in functions in SKLearn.  Let's start by importing the `Ridge` Regression class which behaves identically to the `LinearRegression` class we used earlier:"
   ]
  },
  {
   "cell_type": "code",
   "execution_count": 26,
   "metadata": {},
   "outputs": [],
   "source": [
    "from sklearn.linear_model import Ridge"
   ]
  },
  {
   "cell_type": "markdown",
   "metadata": {},
   "source": [
    "Take a look at the documentation.  Notice the regularized loss function. "
   ]
  },
  {
   "cell_type": "code",
   "execution_count": 60,
   "metadata": {},
   "outputs": [
    {
     "data": {
      "text/plain": [
       "sklearn.linear_model._ridge.Ridge"
      ]
     },
     "execution_count": 60,
     "metadata": {},
     "output_type": "execute_result"
    }
   ],
   "source": [
    "Ridge"
   ]
  },
  {
   "cell_type": "markdown",
   "metadata": {},
   "source": [
    "We can plug the Ridge Regression Model in place of our the LinearRegression Model in our earlier pipeline."
   ]
  },
  {
   "cell_type": "code",
   "execution_count": 28,
   "metadata": {},
   "outputs": [],
   "source": [
    "ridge_model = Pipeline([\n",
    "    (\"SelectColumns\", ColumnTransformer([\n",
    "        (\"keep\", \"passthrough\", quantitative_features),\n",
    "        (\"origin_encoder\", OneHotEncoder(), [\"origin\"]),\n",
    "        (\"text\", CountVectorizer(), \"name\")\n",
    "    ])),\n",
    "    (\"Imputation\", SimpleImputer()),\n",
    "    (\"LinearModel\", Ridge(alpha=0.5))\n",
    "])"
   ]
  },
  {
   "cell_type": "code",
   "execution_count": 29,
   "metadata": {},
   "outputs": [
    {
     "data": {
      "application/vnd.plotly.v1+json": {
       "config": {
        "plotlyServerURL": "https://plot.ly"
       },
       "data": [
        {
         "name": "Training RMSE",
         "type": "bar",
         "x": [
          "c",
          "c,d",
          "c,d,h",
          "c,d,h,w",
          "c,d,h,w,a",
          "c,d,h,w,a,m",
          "c,d,h,w,a,m,o",
          "c,d,h,w,a,m,o,n",
          "Ridge(alpha=0.5)"
         ],
         "y": [
          4.888109236813688,
          4.58757379901803,
          4.525395490245242,
          4.216877763288668,
          4.213763450275894,
          3.379999480925898,
          3.2488224012050075,
          1.1436227888226098,
          2.932671699585722
         ]
        },
        {
         "name": "CV RMSE",
         "type": "bar",
         "x": [
          "c",
          "c,d",
          "c,d,h",
          "c,d,h,w",
          "c,d,h,w,a",
          "c,d,h,w,a,m",
          "c,d,h,w,a,m,o",
          "c,d,h,w,a,m,o,n",
          "Ridge(alpha=0.5)"
         ],
         "y": [
          4.876661068256956,
          4.579060426624024,
          4.556808311664745,
          4.252718625749385,
          4.256844728700814,
          3.4557657065586773,
          3.3323381513276003,
          3.687635534487717,
          3.1648724810528024
         ]
        },
        {
         "name": "Test RMSE",
         "opacity": 0.3,
         "type": "bar",
         "x": [
          "c",
          "c,d",
          "c,d,h",
          "c,d,h,w",
          "c,d,h,w,a",
          "c,d,h,w,a,m",
          "c,d,h,w,a,m,o",
          "c,d,h,w,a,m,o,n",
          "Ridge(alpha=0.5)"
         ],
         "y": [
          5.055013548375552,
          4.7661569898523695,
          4.5838617699808735,
          4.325847816131029,
          4.349888692769131,
          3.550828171640195,
          3.3746613014711664,
          3.5151677332671225,
          3.400380874370932
         ]
        }
       ],
       "layout": {
        "template": {
         "data": {
          "bar": [
           {
            "error_x": {
             "color": "#2a3f5f"
            },
            "error_y": {
             "color": "#2a3f5f"
            },
            "marker": {
             "line": {
              "color": "#E5ECF6",
              "width": 0.5
             },
             "pattern": {
              "fillmode": "overlay",
              "size": 10,
              "solidity": 0.2
             }
            },
            "type": "bar"
           }
          ],
          "barpolar": [
           {
            "marker": {
             "line": {
              "color": "#E5ECF6",
              "width": 0.5
             },
             "pattern": {
              "fillmode": "overlay",
              "size": 10,
              "solidity": 0.2
             }
            },
            "type": "barpolar"
           }
          ],
          "carpet": [
           {
            "aaxis": {
             "endlinecolor": "#2a3f5f",
             "gridcolor": "white",
             "linecolor": "white",
             "minorgridcolor": "white",
             "startlinecolor": "#2a3f5f"
            },
            "baxis": {
             "endlinecolor": "#2a3f5f",
             "gridcolor": "white",
             "linecolor": "white",
             "minorgridcolor": "white",
             "startlinecolor": "#2a3f5f"
            },
            "type": "carpet"
           }
          ],
          "choropleth": [
           {
            "colorbar": {
             "outlinewidth": 0,
             "ticks": ""
            },
            "type": "choropleth"
           }
          ],
          "contour": [
           {
            "colorbar": {
             "outlinewidth": 0,
             "ticks": ""
            },
            "colorscale": [
             [
              0,
              "#0d0887"
             ],
             [
              0.1111111111111111,
              "#46039f"
             ],
             [
              0.2222222222222222,
              "#7201a8"
             ],
             [
              0.3333333333333333,
              "#9c179e"
             ],
             [
              0.4444444444444444,
              "#bd3786"
             ],
             [
              0.5555555555555556,
              "#d8576b"
             ],
             [
              0.6666666666666666,
              "#ed7953"
             ],
             [
              0.7777777777777778,
              "#fb9f3a"
             ],
             [
              0.8888888888888888,
              "#fdca26"
             ],
             [
              1,
              "#f0f921"
             ]
            ],
            "type": "contour"
           }
          ],
          "contourcarpet": [
           {
            "colorbar": {
             "outlinewidth": 0,
             "ticks": ""
            },
            "type": "contourcarpet"
           }
          ],
          "heatmap": [
           {
            "colorbar": {
             "outlinewidth": 0,
             "ticks": ""
            },
            "colorscale": [
             [
              0,
              "#0d0887"
             ],
             [
              0.1111111111111111,
              "#46039f"
             ],
             [
              0.2222222222222222,
              "#7201a8"
             ],
             [
              0.3333333333333333,
              "#9c179e"
             ],
             [
              0.4444444444444444,
              "#bd3786"
             ],
             [
              0.5555555555555556,
              "#d8576b"
             ],
             [
              0.6666666666666666,
              "#ed7953"
             ],
             [
              0.7777777777777778,
              "#fb9f3a"
             ],
             [
              0.8888888888888888,
              "#fdca26"
             ],
             [
              1,
              "#f0f921"
             ]
            ],
            "type": "heatmap"
           }
          ],
          "heatmapgl": [
           {
            "colorbar": {
             "outlinewidth": 0,
             "ticks": ""
            },
            "colorscale": [
             [
              0,
              "#0d0887"
             ],
             [
              0.1111111111111111,
              "#46039f"
             ],
             [
              0.2222222222222222,
              "#7201a8"
             ],
             [
              0.3333333333333333,
              "#9c179e"
             ],
             [
              0.4444444444444444,
              "#bd3786"
             ],
             [
              0.5555555555555556,
              "#d8576b"
             ],
             [
              0.6666666666666666,
              "#ed7953"
             ],
             [
              0.7777777777777778,
              "#fb9f3a"
             ],
             [
              0.8888888888888888,
              "#fdca26"
             ],
             [
              1,
              "#f0f921"
             ]
            ],
            "type": "heatmapgl"
           }
          ],
          "histogram": [
           {
            "marker": {
             "pattern": {
              "fillmode": "overlay",
              "size": 10,
              "solidity": 0.2
             }
            },
            "type": "histogram"
           }
          ],
          "histogram2d": [
           {
            "colorbar": {
             "outlinewidth": 0,
             "ticks": ""
            },
            "colorscale": [
             [
              0,
              "#0d0887"
             ],
             [
              0.1111111111111111,
              "#46039f"
             ],
             [
              0.2222222222222222,
              "#7201a8"
             ],
             [
              0.3333333333333333,
              "#9c179e"
             ],
             [
              0.4444444444444444,
              "#bd3786"
             ],
             [
              0.5555555555555556,
              "#d8576b"
             ],
             [
              0.6666666666666666,
              "#ed7953"
             ],
             [
              0.7777777777777778,
              "#fb9f3a"
             ],
             [
              0.8888888888888888,
              "#fdca26"
             ],
             [
              1,
              "#f0f921"
             ]
            ],
            "type": "histogram2d"
           }
          ],
          "histogram2dcontour": [
           {
            "colorbar": {
             "outlinewidth": 0,
             "ticks": ""
            },
            "colorscale": [
             [
              0,
              "#0d0887"
             ],
             [
              0.1111111111111111,
              "#46039f"
             ],
             [
              0.2222222222222222,
              "#7201a8"
             ],
             [
              0.3333333333333333,
              "#9c179e"
             ],
             [
              0.4444444444444444,
              "#bd3786"
             ],
             [
              0.5555555555555556,
              "#d8576b"
             ],
             [
              0.6666666666666666,
              "#ed7953"
             ],
             [
              0.7777777777777778,
              "#fb9f3a"
             ],
             [
              0.8888888888888888,
              "#fdca26"
             ],
             [
              1,
              "#f0f921"
             ]
            ],
            "type": "histogram2dcontour"
           }
          ],
          "mesh3d": [
           {
            "colorbar": {
             "outlinewidth": 0,
             "ticks": ""
            },
            "type": "mesh3d"
           }
          ],
          "parcoords": [
           {
            "line": {
             "colorbar": {
              "outlinewidth": 0,
              "ticks": ""
             }
            },
            "type": "parcoords"
           }
          ],
          "pie": [
           {
            "automargin": true,
            "type": "pie"
           }
          ],
          "scatter": [
           {
            "fillpattern": {
             "fillmode": "overlay",
             "size": 10,
             "solidity": 0.2
            },
            "type": "scatter"
           }
          ],
          "scatter3d": [
           {
            "line": {
             "colorbar": {
              "outlinewidth": 0,
              "ticks": ""
             }
            },
            "marker": {
             "colorbar": {
              "outlinewidth": 0,
              "ticks": ""
             }
            },
            "type": "scatter3d"
           }
          ],
          "scattercarpet": [
           {
            "marker": {
             "colorbar": {
              "outlinewidth": 0,
              "ticks": ""
             }
            },
            "type": "scattercarpet"
           }
          ],
          "scattergeo": [
           {
            "marker": {
             "colorbar": {
              "outlinewidth": 0,
              "ticks": ""
             }
            },
            "type": "scattergeo"
           }
          ],
          "scattergl": [
           {
            "marker": {
             "colorbar": {
              "outlinewidth": 0,
              "ticks": ""
             }
            },
            "type": "scattergl"
           }
          ],
          "scattermapbox": [
           {
            "marker": {
             "colorbar": {
              "outlinewidth": 0,
              "ticks": ""
             }
            },
            "type": "scattermapbox"
           }
          ],
          "scatterpolar": [
           {
            "marker": {
             "colorbar": {
              "outlinewidth": 0,
              "ticks": ""
             }
            },
            "type": "scatterpolar"
           }
          ],
          "scatterpolargl": [
           {
            "marker": {
             "colorbar": {
              "outlinewidth": 0,
              "ticks": ""
             }
            },
            "type": "scatterpolargl"
           }
          ],
          "scatterternary": [
           {
            "marker": {
             "colorbar": {
              "outlinewidth": 0,
              "ticks": ""
             }
            },
            "type": "scatterternary"
           }
          ],
          "surface": [
           {
            "colorbar": {
             "outlinewidth": 0,
             "ticks": ""
            },
            "colorscale": [
             [
              0,
              "#0d0887"
             ],
             [
              0.1111111111111111,
              "#46039f"
             ],
             [
              0.2222222222222222,
              "#7201a8"
             ],
             [
              0.3333333333333333,
              "#9c179e"
             ],
             [
              0.4444444444444444,
              "#bd3786"
             ],
             [
              0.5555555555555556,
              "#d8576b"
             ],
             [
              0.6666666666666666,
              "#ed7953"
             ],
             [
              0.7777777777777778,
              "#fb9f3a"
             ],
             [
              0.8888888888888888,
              "#fdca26"
             ],
             [
              1,
              "#f0f921"
             ]
            ],
            "type": "surface"
           }
          ],
          "table": [
           {
            "cells": {
             "fill": {
              "color": "#EBF0F8"
             },
             "line": {
              "color": "white"
             }
            },
            "header": {
             "fill": {
              "color": "#C8D4E3"
             },
             "line": {
              "color": "white"
             }
            },
            "type": "table"
           }
          ]
         },
         "layout": {
          "annotationdefaults": {
           "arrowcolor": "#2a3f5f",
           "arrowhead": 0,
           "arrowwidth": 1
          },
          "autotypenumbers": "strict",
          "coloraxis": {
           "colorbar": {
            "outlinewidth": 0,
            "ticks": ""
           }
          },
          "colorscale": {
           "diverging": [
            [
             0,
             "#8e0152"
            ],
            [
             0.1,
             "#c51b7d"
            ],
            [
             0.2,
             "#de77ae"
            ],
            [
             0.3,
             "#f1b6da"
            ],
            [
             0.4,
             "#fde0ef"
            ],
            [
             0.5,
             "#f7f7f7"
            ],
            [
             0.6,
             "#e6f5d0"
            ],
            [
             0.7,
             "#b8e186"
            ],
            [
             0.8,
             "#7fbc41"
            ],
            [
             0.9,
             "#4d9221"
            ],
            [
             1,
             "#276419"
            ]
           ],
           "sequential": [
            [
             0,
             "#0d0887"
            ],
            [
             0.1111111111111111,
             "#46039f"
            ],
            [
             0.2222222222222222,
             "#7201a8"
            ],
            [
             0.3333333333333333,
             "#9c179e"
            ],
            [
             0.4444444444444444,
             "#bd3786"
            ],
            [
             0.5555555555555556,
             "#d8576b"
            ],
            [
             0.6666666666666666,
             "#ed7953"
            ],
            [
             0.7777777777777778,
             "#fb9f3a"
            ],
            [
             0.8888888888888888,
             "#fdca26"
            ],
            [
             1,
             "#f0f921"
            ]
           ],
           "sequentialminus": [
            [
             0,
             "#0d0887"
            ],
            [
             0.1111111111111111,
             "#46039f"
            ],
            [
             0.2222222222222222,
             "#7201a8"
            ],
            [
             0.3333333333333333,
             "#9c179e"
            ],
            [
             0.4444444444444444,
             "#bd3786"
            ],
            [
             0.5555555555555556,
             "#d8576b"
            ],
            [
             0.6666666666666666,
             "#ed7953"
            ],
            [
             0.7777777777777778,
             "#fb9f3a"
            ],
            [
             0.8888888888888888,
             "#fdca26"
            ],
            [
             1,
             "#f0f921"
            ]
           ]
          },
          "colorway": [
           "#636efa",
           "#EF553B",
           "#00cc96",
           "#ab63fa",
           "#FFA15A",
           "#19d3f3",
           "#FF6692",
           "#B6E880",
           "#FF97FF",
           "#FECB52"
          ],
          "font": {
           "color": "#2a3f5f"
          },
          "geo": {
           "bgcolor": "white",
           "lakecolor": "white",
           "landcolor": "#E5ECF6",
           "showlakes": true,
           "showland": true,
           "subunitcolor": "white"
          },
          "hoverlabel": {
           "align": "left"
          },
          "hovermode": "closest",
          "mapbox": {
           "style": "light"
          },
          "paper_bgcolor": "white",
          "plot_bgcolor": "#E5ECF6",
          "polar": {
           "angularaxis": {
            "gridcolor": "white",
            "linecolor": "white",
            "ticks": ""
           },
           "bgcolor": "#E5ECF6",
           "radialaxis": {
            "gridcolor": "white",
            "linecolor": "white",
            "ticks": ""
           }
          },
          "scene": {
           "xaxis": {
            "backgroundcolor": "#E5ECF6",
            "gridcolor": "white",
            "gridwidth": 2,
            "linecolor": "white",
            "showbackground": true,
            "ticks": "",
            "zerolinecolor": "white"
           },
           "yaxis": {
            "backgroundcolor": "#E5ECF6",
            "gridcolor": "white",
            "gridwidth": 2,
            "linecolor": "white",
            "showbackground": true,
            "ticks": "",
            "zerolinecolor": "white"
           },
           "zaxis": {
            "backgroundcolor": "#E5ECF6",
            "gridcolor": "white",
            "gridwidth": 2,
            "linecolor": "white",
            "showbackground": true,
            "ticks": "",
            "zerolinecolor": "white"
           }
          },
          "shapedefaults": {
           "line": {
            "color": "#2a3f5f"
           }
          },
          "ternary": {
           "aaxis": {
            "gridcolor": "white",
            "linecolor": "white",
            "ticks": ""
           },
           "baxis": {
            "gridcolor": "white",
            "linecolor": "white",
            "ticks": ""
           },
           "bgcolor": "#E5ECF6",
           "caxis": {
            "gridcolor": "white",
            "linecolor": "white",
            "ticks": ""
           }
          },
          "title": {
           "x": 0.05
          },
          "xaxis": {
           "automargin": true,
           "gridcolor": "white",
           "linecolor": "white",
           "ticks": "",
           "title": {
            "standoff": 15
           },
           "zerolinecolor": "white",
           "zerolinewidth": 2
          },
          "yaxis": {
           "automargin": true,
           "gridcolor": "white",
           "linecolor": "white",
           "ticks": "",
           "title": {
            "standoff": 15
           },
           "zerolinecolor": "white",
           "zerolinewidth": 2
          }
         }
        },
        "yaxis": {
         "title": {
          "text": "RMSE"
         }
        }
       }
      },
      "text/html": [
       "<div>                            <div id=\"3bacf8d4-b35e-4ed1-8b94-c3879bcc7433\" class=\"plotly-graph-div\" style=\"height:525px; width:100%;\"></div>            <script type=\"text/javascript\">                require([\"plotly\"], function(Plotly) {                    window.PLOTLYENV=window.PLOTLYENV || {};                                    if (document.getElementById(\"3bacf8d4-b35e-4ed1-8b94-c3879bcc7433\")) {                    Plotly.newPlot(                        \"3bacf8d4-b35e-4ed1-8b94-c3879bcc7433\",                        [{\"name\":\"Training RMSE\",\"x\":[\"c\",\"c,d\",\"c,d,h\",\"c,d,h,w\",\"c,d,h,w,a\",\"c,d,h,w,a,m\",\"c,d,h,w,a,m,o\",\"c,d,h,w,a,m,o,n\",\"Ridge(alpha=0.5)\"],\"y\":[4.888109236813688,4.58757379901803,4.525395490245242,4.216877763288668,4.213763450275894,3.379999480925898,3.2488224012050075,1.1436227888226098,2.932671699585722],\"type\":\"bar\"},{\"name\":\"CV RMSE\",\"x\":[\"c\",\"c,d\",\"c,d,h\",\"c,d,h,w\",\"c,d,h,w,a\",\"c,d,h,w,a,m\",\"c,d,h,w,a,m,o\",\"c,d,h,w,a,m,o,n\",\"Ridge(alpha=0.5)\"],\"y\":[4.876661068256956,4.579060426624024,4.556808311664745,4.252718625749385,4.256844728700814,3.4557657065586773,3.3323381513276003,3.687635534487717,3.1648724810528024],\"type\":\"bar\"},{\"name\":\"Test RMSE\",\"opacity\":0.3,\"x\":[\"c\",\"c,d\",\"c,d,h\",\"c,d,h,w\",\"c,d,h,w,a\",\"c,d,h,w,a,m\",\"c,d,h,w,a,m,o\",\"c,d,h,w,a,m,o,n\",\"Ridge(alpha=0.5)\"],\"y\":[5.055013548375552,4.7661569898523695,4.5838617699808735,4.325847816131029,4.349888692769131,3.550828171640195,3.3746613014711664,3.5151677332671225,3.400380874370932],\"type\":\"bar\"}],                        {\"template\":{\"data\":{\"histogram2dcontour\":[{\"type\":\"histogram2dcontour\",\"colorbar\":{\"outlinewidth\":0,\"ticks\":\"\"},\"colorscale\":[[0.0,\"#0d0887\"],[0.1111111111111111,\"#46039f\"],[0.2222222222222222,\"#7201a8\"],[0.3333333333333333,\"#9c179e\"],[0.4444444444444444,\"#bd3786\"],[0.5555555555555556,\"#d8576b\"],[0.6666666666666666,\"#ed7953\"],[0.7777777777777778,\"#fb9f3a\"],[0.8888888888888888,\"#fdca26\"],[1.0,\"#f0f921\"]]}],\"choropleth\":[{\"type\":\"choropleth\",\"colorbar\":{\"outlinewidth\":0,\"ticks\":\"\"}}],\"histogram2d\":[{\"type\":\"histogram2d\",\"colorbar\":{\"outlinewidth\":0,\"ticks\":\"\"},\"colorscale\":[[0.0,\"#0d0887\"],[0.1111111111111111,\"#46039f\"],[0.2222222222222222,\"#7201a8\"],[0.3333333333333333,\"#9c179e\"],[0.4444444444444444,\"#bd3786\"],[0.5555555555555556,\"#d8576b\"],[0.6666666666666666,\"#ed7953\"],[0.7777777777777778,\"#fb9f3a\"],[0.8888888888888888,\"#fdca26\"],[1.0,\"#f0f921\"]]}],\"heatmap\":[{\"type\":\"heatmap\",\"colorbar\":{\"outlinewidth\":0,\"ticks\":\"\"},\"colorscale\":[[0.0,\"#0d0887\"],[0.1111111111111111,\"#46039f\"],[0.2222222222222222,\"#7201a8\"],[0.3333333333333333,\"#9c179e\"],[0.4444444444444444,\"#bd3786\"],[0.5555555555555556,\"#d8576b\"],[0.6666666666666666,\"#ed7953\"],[0.7777777777777778,\"#fb9f3a\"],[0.8888888888888888,\"#fdca26\"],[1.0,\"#f0f921\"]]}],\"heatmapgl\":[{\"type\":\"heatmapgl\",\"colorbar\":{\"outlinewidth\":0,\"ticks\":\"\"},\"colorscale\":[[0.0,\"#0d0887\"],[0.1111111111111111,\"#46039f\"],[0.2222222222222222,\"#7201a8\"],[0.3333333333333333,\"#9c179e\"],[0.4444444444444444,\"#bd3786\"],[0.5555555555555556,\"#d8576b\"],[0.6666666666666666,\"#ed7953\"],[0.7777777777777778,\"#fb9f3a\"],[0.8888888888888888,\"#fdca26\"],[1.0,\"#f0f921\"]]}],\"contourcarpet\":[{\"type\":\"contourcarpet\",\"colorbar\":{\"outlinewidth\":0,\"ticks\":\"\"}}],\"contour\":[{\"type\":\"contour\",\"colorbar\":{\"outlinewidth\":0,\"ticks\":\"\"},\"colorscale\":[[0.0,\"#0d0887\"],[0.1111111111111111,\"#46039f\"],[0.2222222222222222,\"#7201a8\"],[0.3333333333333333,\"#9c179e\"],[0.4444444444444444,\"#bd3786\"],[0.5555555555555556,\"#d8576b\"],[0.6666666666666666,\"#ed7953\"],[0.7777777777777778,\"#fb9f3a\"],[0.8888888888888888,\"#fdca26\"],[1.0,\"#f0f921\"]]}],\"surface\":[{\"type\":\"surface\",\"colorbar\":{\"outlinewidth\":0,\"ticks\":\"\"},\"colorscale\":[[0.0,\"#0d0887\"],[0.1111111111111111,\"#46039f\"],[0.2222222222222222,\"#7201a8\"],[0.3333333333333333,\"#9c179e\"],[0.4444444444444444,\"#bd3786\"],[0.5555555555555556,\"#d8576b\"],[0.6666666666666666,\"#ed7953\"],[0.7777777777777778,\"#fb9f3a\"],[0.8888888888888888,\"#fdca26\"],[1.0,\"#f0f921\"]]}],\"mesh3d\":[{\"type\":\"mesh3d\",\"colorbar\":{\"outlinewidth\":0,\"ticks\":\"\"}}],\"scatter\":[{\"fillpattern\":{\"fillmode\":\"overlay\",\"size\":10,\"solidity\":0.2},\"type\":\"scatter\"}],\"parcoords\":[{\"type\":\"parcoords\",\"line\":{\"colorbar\":{\"outlinewidth\":0,\"ticks\":\"\"}}}],\"scatterpolargl\":[{\"type\":\"scatterpolargl\",\"marker\":{\"colorbar\":{\"outlinewidth\":0,\"ticks\":\"\"}}}],\"bar\":[{\"error_x\":{\"color\":\"#2a3f5f\"},\"error_y\":{\"color\":\"#2a3f5f\"},\"marker\":{\"line\":{\"color\":\"#E5ECF6\",\"width\":0.5},\"pattern\":{\"fillmode\":\"overlay\",\"size\":10,\"solidity\":0.2}},\"type\":\"bar\"}],\"scattergeo\":[{\"type\":\"scattergeo\",\"marker\":{\"colorbar\":{\"outlinewidth\":0,\"ticks\":\"\"}}}],\"scatterpolar\":[{\"type\":\"scatterpolar\",\"marker\":{\"colorbar\":{\"outlinewidth\":0,\"ticks\":\"\"}}}],\"histogram\":[{\"marker\":{\"pattern\":{\"fillmode\":\"overlay\",\"size\":10,\"solidity\":0.2}},\"type\":\"histogram\"}],\"scattergl\":[{\"type\":\"scattergl\",\"marker\":{\"colorbar\":{\"outlinewidth\":0,\"ticks\":\"\"}}}],\"scatter3d\":[{\"type\":\"scatter3d\",\"line\":{\"colorbar\":{\"outlinewidth\":0,\"ticks\":\"\"}},\"marker\":{\"colorbar\":{\"outlinewidth\":0,\"ticks\":\"\"}}}],\"scattermapbox\":[{\"type\":\"scattermapbox\",\"marker\":{\"colorbar\":{\"outlinewidth\":0,\"ticks\":\"\"}}}],\"scatterternary\":[{\"type\":\"scatterternary\",\"marker\":{\"colorbar\":{\"outlinewidth\":0,\"ticks\":\"\"}}}],\"scattercarpet\":[{\"type\":\"scattercarpet\",\"marker\":{\"colorbar\":{\"outlinewidth\":0,\"ticks\":\"\"}}}],\"carpet\":[{\"aaxis\":{\"endlinecolor\":\"#2a3f5f\",\"gridcolor\":\"white\",\"linecolor\":\"white\",\"minorgridcolor\":\"white\",\"startlinecolor\":\"#2a3f5f\"},\"baxis\":{\"endlinecolor\":\"#2a3f5f\",\"gridcolor\":\"white\",\"linecolor\":\"white\",\"minorgridcolor\":\"white\",\"startlinecolor\":\"#2a3f5f\"},\"type\":\"carpet\"}],\"table\":[{\"cells\":{\"fill\":{\"color\":\"#EBF0F8\"},\"line\":{\"color\":\"white\"}},\"header\":{\"fill\":{\"color\":\"#C8D4E3\"},\"line\":{\"color\":\"white\"}},\"type\":\"table\"}],\"barpolar\":[{\"marker\":{\"line\":{\"color\":\"#E5ECF6\",\"width\":0.5},\"pattern\":{\"fillmode\":\"overlay\",\"size\":10,\"solidity\":0.2}},\"type\":\"barpolar\"}],\"pie\":[{\"automargin\":true,\"type\":\"pie\"}]},\"layout\":{\"autotypenumbers\":\"strict\",\"colorway\":[\"#636efa\",\"#EF553B\",\"#00cc96\",\"#ab63fa\",\"#FFA15A\",\"#19d3f3\",\"#FF6692\",\"#B6E880\",\"#FF97FF\",\"#FECB52\"],\"font\":{\"color\":\"#2a3f5f\"},\"hovermode\":\"closest\",\"hoverlabel\":{\"align\":\"left\"},\"paper_bgcolor\":\"white\",\"plot_bgcolor\":\"#E5ECF6\",\"polar\":{\"bgcolor\":\"#E5ECF6\",\"angularaxis\":{\"gridcolor\":\"white\",\"linecolor\":\"white\",\"ticks\":\"\"},\"radialaxis\":{\"gridcolor\":\"white\",\"linecolor\":\"white\",\"ticks\":\"\"}},\"ternary\":{\"bgcolor\":\"#E5ECF6\",\"aaxis\":{\"gridcolor\":\"white\",\"linecolor\":\"white\",\"ticks\":\"\"},\"baxis\":{\"gridcolor\":\"white\",\"linecolor\":\"white\",\"ticks\":\"\"},\"caxis\":{\"gridcolor\":\"white\",\"linecolor\":\"white\",\"ticks\":\"\"}},\"coloraxis\":{\"colorbar\":{\"outlinewidth\":0,\"ticks\":\"\"}},\"colorscale\":{\"sequential\":[[0.0,\"#0d0887\"],[0.1111111111111111,\"#46039f\"],[0.2222222222222222,\"#7201a8\"],[0.3333333333333333,\"#9c179e\"],[0.4444444444444444,\"#bd3786\"],[0.5555555555555556,\"#d8576b\"],[0.6666666666666666,\"#ed7953\"],[0.7777777777777778,\"#fb9f3a\"],[0.8888888888888888,\"#fdca26\"],[1.0,\"#f0f921\"]],\"sequentialminus\":[[0.0,\"#0d0887\"],[0.1111111111111111,\"#46039f\"],[0.2222222222222222,\"#7201a8\"],[0.3333333333333333,\"#9c179e\"],[0.4444444444444444,\"#bd3786\"],[0.5555555555555556,\"#d8576b\"],[0.6666666666666666,\"#ed7953\"],[0.7777777777777778,\"#fb9f3a\"],[0.8888888888888888,\"#fdca26\"],[1.0,\"#f0f921\"]],\"diverging\":[[0,\"#8e0152\"],[0.1,\"#c51b7d\"],[0.2,\"#de77ae\"],[0.3,\"#f1b6da\"],[0.4,\"#fde0ef\"],[0.5,\"#f7f7f7\"],[0.6,\"#e6f5d0\"],[0.7,\"#b8e186\"],[0.8,\"#7fbc41\"],[0.9,\"#4d9221\"],[1,\"#276419\"]]},\"xaxis\":{\"gridcolor\":\"white\",\"linecolor\":\"white\",\"ticks\":\"\",\"title\":{\"standoff\":15},\"zerolinecolor\":\"white\",\"automargin\":true,\"zerolinewidth\":2},\"yaxis\":{\"gridcolor\":\"white\",\"linecolor\":\"white\",\"ticks\":\"\",\"title\":{\"standoff\":15},\"zerolinecolor\":\"white\",\"automargin\":true,\"zerolinewidth\":2},\"scene\":{\"xaxis\":{\"backgroundcolor\":\"#E5ECF6\",\"gridcolor\":\"white\",\"linecolor\":\"white\",\"showbackground\":true,\"ticks\":\"\",\"zerolinecolor\":\"white\",\"gridwidth\":2},\"yaxis\":{\"backgroundcolor\":\"#E5ECF6\",\"gridcolor\":\"white\",\"linecolor\":\"white\",\"showbackground\":true,\"ticks\":\"\",\"zerolinecolor\":\"white\",\"gridwidth\":2},\"zaxis\":{\"backgroundcolor\":\"#E5ECF6\",\"gridcolor\":\"white\",\"linecolor\":\"white\",\"showbackground\":true,\"ticks\":\"\",\"zerolinecolor\":\"white\",\"gridwidth\":2}},\"shapedefaults\":{\"line\":{\"color\":\"#2a3f5f\"}},\"annotationdefaults\":{\"arrowcolor\":\"#2a3f5f\",\"arrowhead\":0,\"arrowwidth\":1},\"geo\":{\"bgcolor\":\"white\",\"landcolor\":\"#E5ECF6\",\"subunitcolor\":\"white\",\"showland\":true,\"showlakes\":true,\"lakecolor\":\"white\"},\"title\":{\"x\":0.05},\"mapbox\":{\"style\":\"light\"}}},\"yaxis\":{\"title\":{\"text\":\"RMSE\"}}},                        {\"responsive\": true}                    ).then(function(){\n",
       "                            \n",
       "var gd = document.getElementById('3bacf8d4-b35e-4ed1-8b94-c3879bcc7433');\n",
       "var x = new MutationObserver(function (mutations, observer) {{\n",
       "        var display = window.getComputedStyle(gd).display;\n",
       "        if (!display || display === 'none') {{\n",
       "            console.log([gd, 'removed!']);\n",
       "            Plotly.purge(gd);\n",
       "            observer.disconnect();\n",
       "        }}\n",
       "}});\n",
       "\n",
       "// Listen for the removal of the full notebook cells\n",
       "var notebookContainer = gd.closest('#notebook-container');\n",
       "if (notebookContainer) {{\n",
       "    x.observe(notebookContainer, {childList: true});\n",
       "}}\n",
       "\n",
       "// Listen for the clearing of the current output cell\n",
       "var outputEl = gd.closest('.output');\n",
       "if (outputEl) {{\n",
       "    x.observe(outputEl, {childList: true});\n",
       "}}\n",
       "\n",
       "                        })                };                });            </script>        </div>"
      ]
     },
     "metadata": {},
     "output_type": "display_data"
    }
   ],
   "source": [
    "ridge_model.fit(tr, tr['mpg'])\n",
    "models[\"Ridge(alpha=0.5)\"] = ridge_model\n",
    "compare_models(models)"
   ]
  },
  {
   "cell_type": "markdown",
   "metadata": {},
   "source": [
    "We should also standardize our features:"
   ]
  },
  {
   "cell_type": "code",
   "execution_count": 30,
   "metadata": {},
   "outputs": [],
   "source": [
    "from sklearn.preprocessing import StandardScaler"
   ]
  },
  {
   "cell_type": "code",
   "execution_count": 31,
   "metadata": {},
   "outputs": [],
   "source": [
    "ridge_model = Pipeline([\n",
    "    (\"SelectColumns\", ColumnTransformer([\n",
    "        (\"keep\", StandardScaler(), quantitative_features),\n",
    "        (\"origin_encoder\", OneHotEncoder(), [\"origin\"]),\n",
    "        (\"text\", CountVectorizer(), \"name\")\n",
    "    ])),\n",
    "    (\"Imputation\", SimpleImputer()),\n",
    "     (\"Standarize\", StandardScaler(with_mean=False)),\n",
    "    (\"LinearModel\", Ridge(alpha=0.5))\n",
    "])"
   ]
  },
  {
   "cell_type": "code",
   "execution_count": 32,
   "metadata": {},
   "outputs": [
    {
     "data": {
      "application/vnd.plotly.v1+json": {
       "config": {
        "plotlyServerURL": "https://plot.ly"
       },
       "data": [
        {
         "name": "Training RMSE",
         "type": "bar",
         "x": [
          "c",
          "c,d",
          "c,d,h",
          "c,d,h,w",
          "c,d,h,w,a",
          "c,d,h,w,a,m",
          "c,d,h,w,a,m,o",
          "c,d,h,w,a,m,o,n",
          "Ridge(alpha=0.5)",
          "RidgeN(alpha=0.5)"
         ],
         "y": [
          4.888109236813688,
          4.58757379901803,
          4.525395490245242,
          4.216877763288668,
          4.213763450275894,
          3.379999480925898,
          3.2488224012050075,
          1.1436227888226098,
          2.932671699585722,
          1.1395927398086765
         ]
        },
        {
         "name": "CV RMSE",
         "type": "bar",
         "x": [
          "c",
          "c,d",
          "c,d,h",
          "c,d,h,w",
          "c,d,h,w,a",
          "c,d,h,w,a,m",
          "c,d,h,w,a,m,o",
          "c,d,h,w,a,m,o,n",
          "Ridge(alpha=0.5)",
          "RidgeN(alpha=0.5)"
         ],
         "y": [
          4.876661068256956,
          4.579060426624024,
          4.556808311664745,
          4.252718625749385,
          4.256844728700814,
          3.4557657065586773,
          3.3323381513276003,
          3.687635534487717,
          3.1648724810528024,
          3.628478349421298
         ]
        },
        {
         "name": "Test RMSE",
         "opacity": 0.3,
         "type": "bar",
         "x": [
          "c",
          "c,d",
          "c,d,h",
          "c,d,h,w",
          "c,d,h,w,a",
          "c,d,h,w,a,m",
          "c,d,h,w,a,m,o",
          "c,d,h,w,a,m,o,n",
          "Ridge(alpha=0.5)",
          "RidgeN(alpha=0.5)"
         ],
         "y": [
          5.055013548375552,
          4.7661569898523695,
          4.5838617699808735,
          4.325847816131029,
          4.349888692769131,
          3.550828171640195,
          3.3746613014711664,
          3.5151677332671225,
          3.400380874370932,
          3.5344504739391254
         ]
        }
       ],
       "layout": {
        "template": {
         "data": {
          "bar": [
           {
            "error_x": {
             "color": "#2a3f5f"
            },
            "error_y": {
             "color": "#2a3f5f"
            },
            "marker": {
             "line": {
              "color": "#E5ECF6",
              "width": 0.5
             },
             "pattern": {
              "fillmode": "overlay",
              "size": 10,
              "solidity": 0.2
             }
            },
            "type": "bar"
           }
          ],
          "barpolar": [
           {
            "marker": {
             "line": {
              "color": "#E5ECF6",
              "width": 0.5
             },
             "pattern": {
              "fillmode": "overlay",
              "size": 10,
              "solidity": 0.2
             }
            },
            "type": "barpolar"
           }
          ],
          "carpet": [
           {
            "aaxis": {
             "endlinecolor": "#2a3f5f",
             "gridcolor": "white",
             "linecolor": "white",
             "minorgridcolor": "white",
             "startlinecolor": "#2a3f5f"
            },
            "baxis": {
             "endlinecolor": "#2a3f5f",
             "gridcolor": "white",
             "linecolor": "white",
             "minorgridcolor": "white",
             "startlinecolor": "#2a3f5f"
            },
            "type": "carpet"
           }
          ],
          "choropleth": [
           {
            "colorbar": {
             "outlinewidth": 0,
             "ticks": ""
            },
            "type": "choropleth"
           }
          ],
          "contour": [
           {
            "colorbar": {
             "outlinewidth": 0,
             "ticks": ""
            },
            "colorscale": [
             [
              0,
              "#0d0887"
             ],
             [
              0.1111111111111111,
              "#46039f"
             ],
             [
              0.2222222222222222,
              "#7201a8"
             ],
             [
              0.3333333333333333,
              "#9c179e"
             ],
             [
              0.4444444444444444,
              "#bd3786"
             ],
             [
              0.5555555555555556,
              "#d8576b"
             ],
             [
              0.6666666666666666,
              "#ed7953"
             ],
             [
              0.7777777777777778,
              "#fb9f3a"
             ],
             [
              0.8888888888888888,
              "#fdca26"
             ],
             [
              1,
              "#f0f921"
             ]
            ],
            "type": "contour"
           }
          ],
          "contourcarpet": [
           {
            "colorbar": {
             "outlinewidth": 0,
             "ticks": ""
            },
            "type": "contourcarpet"
           }
          ],
          "heatmap": [
           {
            "colorbar": {
             "outlinewidth": 0,
             "ticks": ""
            },
            "colorscale": [
             [
              0,
              "#0d0887"
             ],
             [
              0.1111111111111111,
              "#46039f"
             ],
             [
              0.2222222222222222,
              "#7201a8"
             ],
             [
              0.3333333333333333,
              "#9c179e"
             ],
             [
              0.4444444444444444,
              "#bd3786"
             ],
             [
              0.5555555555555556,
              "#d8576b"
             ],
             [
              0.6666666666666666,
              "#ed7953"
             ],
             [
              0.7777777777777778,
              "#fb9f3a"
             ],
             [
              0.8888888888888888,
              "#fdca26"
             ],
             [
              1,
              "#f0f921"
             ]
            ],
            "type": "heatmap"
           }
          ],
          "heatmapgl": [
           {
            "colorbar": {
             "outlinewidth": 0,
             "ticks": ""
            },
            "colorscale": [
             [
              0,
              "#0d0887"
             ],
             [
              0.1111111111111111,
              "#46039f"
             ],
             [
              0.2222222222222222,
              "#7201a8"
             ],
             [
              0.3333333333333333,
              "#9c179e"
             ],
             [
              0.4444444444444444,
              "#bd3786"
             ],
             [
              0.5555555555555556,
              "#d8576b"
             ],
             [
              0.6666666666666666,
              "#ed7953"
             ],
             [
              0.7777777777777778,
              "#fb9f3a"
             ],
             [
              0.8888888888888888,
              "#fdca26"
             ],
             [
              1,
              "#f0f921"
             ]
            ],
            "type": "heatmapgl"
           }
          ],
          "histogram": [
           {
            "marker": {
             "pattern": {
              "fillmode": "overlay",
              "size": 10,
              "solidity": 0.2
             }
            },
            "type": "histogram"
           }
          ],
          "histogram2d": [
           {
            "colorbar": {
             "outlinewidth": 0,
             "ticks": ""
            },
            "colorscale": [
             [
              0,
              "#0d0887"
             ],
             [
              0.1111111111111111,
              "#46039f"
             ],
             [
              0.2222222222222222,
              "#7201a8"
             ],
             [
              0.3333333333333333,
              "#9c179e"
             ],
             [
              0.4444444444444444,
              "#bd3786"
             ],
             [
              0.5555555555555556,
              "#d8576b"
             ],
             [
              0.6666666666666666,
              "#ed7953"
             ],
             [
              0.7777777777777778,
              "#fb9f3a"
             ],
             [
              0.8888888888888888,
              "#fdca26"
             ],
             [
              1,
              "#f0f921"
             ]
            ],
            "type": "histogram2d"
           }
          ],
          "histogram2dcontour": [
           {
            "colorbar": {
             "outlinewidth": 0,
             "ticks": ""
            },
            "colorscale": [
             [
              0,
              "#0d0887"
             ],
             [
              0.1111111111111111,
              "#46039f"
             ],
             [
              0.2222222222222222,
              "#7201a8"
             ],
             [
              0.3333333333333333,
              "#9c179e"
             ],
             [
              0.4444444444444444,
              "#bd3786"
             ],
             [
              0.5555555555555556,
              "#d8576b"
             ],
             [
              0.6666666666666666,
              "#ed7953"
             ],
             [
              0.7777777777777778,
              "#fb9f3a"
             ],
             [
              0.8888888888888888,
              "#fdca26"
             ],
             [
              1,
              "#f0f921"
             ]
            ],
            "type": "histogram2dcontour"
           }
          ],
          "mesh3d": [
           {
            "colorbar": {
             "outlinewidth": 0,
             "ticks": ""
            },
            "type": "mesh3d"
           }
          ],
          "parcoords": [
           {
            "line": {
             "colorbar": {
              "outlinewidth": 0,
              "ticks": ""
             }
            },
            "type": "parcoords"
           }
          ],
          "pie": [
           {
            "automargin": true,
            "type": "pie"
           }
          ],
          "scatter": [
           {
            "fillpattern": {
             "fillmode": "overlay",
             "size": 10,
             "solidity": 0.2
            },
            "type": "scatter"
           }
          ],
          "scatter3d": [
           {
            "line": {
             "colorbar": {
              "outlinewidth": 0,
              "ticks": ""
             }
            },
            "marker": {
             "colorbar": {
              "outlinewidth": 0,
              "ticks": ""
             }
            },
            "type": "scatter3d"
           }
          ],
          "scattercarpet": [
           {
            "marker": {
             "colorbar": {
              "outlinewidth": 0,
              "ticks": ""
             }
            },
            "type": "scattercarpet"
           }
          ],
          "scattergeo": [
           {
            "marker": {
             "colorbar": {
              "outlinewidth": 0,
              "ticks": ""
             }
            },
            "type": "scattergeo"
           }
          ],
          "scattergl": [
           {
            "marker": {
             "colorbar": {
              "outlinewidth": 0,
              "ticks": ""
             }
            },
            "type": "scattergl"
           }
          ],
          "scattermapbox": [
           {
            "marker": {
             "colorbar": {
              "outlinewidth": 0,
              "ticks": ""
             }
            },
            "type": "scattermapbox"
           }
          ],
          "scatterpolar": [
           {
            "marker": {
             "colorbar": {
              "outlinewidth": 0,
              "ticks": ""
             }
            },
            "type": "scatterpolar"
           }
          ],
          "scatterpolargl": [
           {
            "marker": {
             "colorbar": {
              "outlinewidth": 0,
              "ticks": ""
             }
            },
            "type": "scatterpolargl"
           }
          ],
          "scatterternary": [
           {
            "marker": {
             "colorbar": {
              "outlinewidth": 0,
              "ticks": ""
             }
            },
            "type": "scatterternary"
           }
          ],
          "surface": [
           {
            "colorbar": {
             "outlinewidth": 0,
             "ticks": ""
            },
            "colorscale": [
             [
              0,
              "#0d0887"
             ],
             [
              0.1111111111111111,
              "#46039f"
             ],
             [
              0.2222222222222222,
              "#7201a8"
             ],
             [
              0.3333333333333333,
              "#9c179e"
             ],
             [
              0.4444444444444444,
              "#bd3786"
             ],
             [
              0.5555555555555556,
              "#d8576b"
             ],
             [
              0.6666666666666666,
              "#ed7953"
             ],
             [
              0.7777777777777778,
              "#fb9f3a"
             ],
             [
              0.8888888888888888,
              "#fdca26"
             ],
             [
              1,
              "#f0f921"
             ]
            ],
            "type": "surface"
           }
          ],
          "table": [
           {
            "cells": {
             "fill": {
              "color": "#EBF0F8"
             },
             "line": {
              "color": "white"
             }
            },
            "header": {
             "fill": {
              "color": "#C8D4E3"
             },
             "line": {
              "color": "white"
             }
            },
            "type": "table"
           }
          ]
         },
         "layout": {
          "annotationdefaults": {
           "arrowcolor": "#2a3f5f",
           "arrowhead": 0,
           "arrowwidth": 1
          },
          "autotypenumbers": "strict",
          "coloraxis": {
           "colorbar": {
            "outlinewidth": 0,
            "ticks": ""
           }
          },
          "colorscale": {
           "diverging": [
            [
             0,
             "#8e0152"
            ],
            [
             0.1,
             "#c51b7d"
            ],
            [
             0.2,
             "#de77ae"
            ],
            [
             0.3,
             "#f1b6da"
            ],
            [
             0.4,
             "#fde0ef"
            ],
            [
             0.5,
             "#f7f7f7"
            ],
            [
             0.6,
             "#e6f5d0"
            ],
            [
             0.7,
             "#b8e186"
            ],
            [
             0.8,
             "#7fbc41"
            ],
            [
             0.9,
             "#4d9221"
            ],
            [
             1,
             "#276419"
            ]
           ],
           "sequential": [
            [
             0,
             "#0d0887"
            ],
            [
             0.1111111111111111,
             "#46039f"
            ],
            [
             0.2222222222222222,
             "#7201a8"
            ],
            [
             0.3333333333333333,
             "#9c179e"
            ],
            [
             0.4444444444444444,
             "#bd3786"
            ],
            [
             0.5555555555555556,
             "#d8576b"
            ],
            [
             0.6666666666666666,
             "#ed7953"
            ],
            [
             0.7777777777777778,
             "#fb9f3a"
            ],
            [
             0.8888888888888888,
             "#fdca26"
            ],
            [
             1,
             "#f0f921"
            ]
           ],
           "sequentialminus": [
            [
             0,
             "#0d0887"
            ],
            [
             0.1111111111111111,
             "#46039f"
            ],
            [
             0.2222222222222222,
             "#7201a8"
            ],
            [
             0.3333333333333333,
             "#9c179e"
            ],
            [
             0.4444444444444444,
             "#bd3786"
            ],
            [
             0.5555555555555556,
             "#d8576b"
            ],
            [
             0.6666666666666666,
             "#ed7953"
            ],
            [
             0.7777777777777778,
             "#fb9f3a"
            ],
            [
             0.8888888888888888,
             "#fdca26"
            ],
            [
             1,
             "#f0f921"
            ]
           ]
          },
          "colorway": [
           "#636efa",
           "#EF553B",
           "#00cc96",
           "#ab63fa",
           "#FFA15A",
           "#19d3f3",
           "#FF6692",
           "#B6E880",
           "#FF97FF",
           "#FECB52"
          ],
          "font": {
           "color": "#2a3f5f"
          },
          "geo": {
           "bgcolor": "white",
           "lakecolor": "white",
           "landcolor": "#E5ECF6",
           "showlakes": true,
           "showland": true,
           "subunitcolor": "white"
          },
          "hoverlabel": {
           "align": "left"
          },
          "hovermode": "closest",
          "mapbox": {
           "style": "light"
          },
          "paper_bgcolor": "white",
          "plot_bgcolor": "#E5ECF6",
          "polar": {
           "angularaxis": {
            "gridcolor": "white",
            "linecolor": "white",
            "ticks": ""
           },
           "bgcolor": "#E5ECF6",
           "radialaxis": {
            "gridcolor": "white",
            "linecolor": "white",
            "ticks": ""
           }
          },
          "scene": {
           "xaxis": {
            "backgroundcolor": "#E5ECF6",
            "gridcolor": "white",
            "gridwidth": 2,
            "linecolor": "white",
            "showbackground": true,
            "ticks": "",
            "zerolinecolor": "white"
           },
           "yaxis": {
            "backgroundcolor": "#E5ECF6",
            "gridcolor": "white",
            "gridwidth": 2,
            "linecolor": "white",
            "showbackground": true,
            "ticks": "",
            "zerolinecolor": "white"
           },
           "zaxis": {
            "backgroundcolor": "#E5ECF6",
            "gridcolor": "white",
            "gridwidth": 2,
            "linecolor": "white",
            "showbackground": true,
            "ticks": "",
            "zerolinecolor": "white"
           }
          },
          "shapedefaults": {
           "line": {
            "color": "#2a3f5f"
           }
          },
          "ternary": {
           "aaxis": {
            "gridcolor": "white",
            "linecolor": "white",
            "ticks": ""
           },
           "baxis": {
            "gridcolor": "white",
            "linecolor": "white",
            "ticks": ""
           },
           "bgcolor": "#E5ECF6",
           "caxis": {
            "gridcolor": "white",
            "linecolor": "white",
            "ticks": ""
           }
          },
          "title": {
           "x": 0.05
          },
          "xaxis": {
           "automargin": true,
           "gridcolor": "white",
           "linecolor": "white",
           "ticks": "",
           "title": {
            "standoff": 15
           },
           "zerolinecolor": "white",
           "zerolinewidth": 2
          },
          "yaxis": {
           "automargin": true,
           "gridcolor": "white",
           "linecolor": "white",
           "ticks": "",
           "title": {
            "standoff": 15
           },
           "zerolinecolor": "white",
           "zerolinewidth": 2
          }
         }
        },
        "yaxis": {
         "title": {
          "text": "RMSE"
         }
        }
       }
      },
      "text/html": [
       "<div>                            <div id=\"2f9691f3-4f25-4089-8ce2-663898b9bb36\" class=\"plotly-graph-div\" style=\"height:525px; width:100%;\"></div>            <script type=\"text/javascript\">                require([\"plotly\"], function(Plotly) {                    window.PLOTLYENV=window.PLOTLYENV || {};                                    if (document.getElementById(\"2f9691f3-4f25-4089-8ce2-663898b9bb36\")) {                    Plotly.newPlot(                        \"2f9691f3-4f25-4089-8ce2-663898b9bb36\",                        [{\"name\":\"Training RMSE\",\"x\":[\"c\",\"c,d\",\"c,d,h\",\"c,d,h,w\",\"c,d,h,w,a\",\"c,d,h,w,a,m\",\"c,d,h,w,a,m,o\",\"c,d,h,w,a,m,o,n\",\"Ridge(alpha=0.5)\",\"RidgeN(alpha=0.5)\"],\"y\":[4.888109236813688,4.58757379901803,4.525395490245242,4.216877763288668,4.213763450275894,3.379999480925898,3.2488224012050075,1.1436227888226098,2.932671699585722,1.1395927398086765],\"type\":\"bar\"},{\"name\":\"CV RMSE\",\"x\":[\"c\",\"c,d\",\"c,d,h\",\"c,d,h,w\",\"c,d,h,w,a\",\"c,d,h,w,a,m\",\"c,d,h,w,a,m,o\",\"c,d,h,w,a,m,o,n\",\"Ridge(alpha=0.5)\",\"RidgeN(alpha=0.5)\"],\"y\":[4.876661068256956,4.579060426624024,4.556808311664745,4.252718625749385,4.256844728700814,3.4557657065586773,3.3323381513276003,3.687635534487717,3.1648724810528024,3.628478349421298],\"type\":\"bar\"},{\"name\":\"Test RMSE\",\"opacity\":0.3,\"x\":[\"c\",\"c,d\",\"c,d,h\",\"c,d,h,w\",\"c,d,h,w,a\",\"c,d,h,w,a,m\",\"c,d,h,w,a,m,o\",\"c,d,h,w,a,m,o,n\",\"Ridge(alpha=0.5)\",\"RidgeN(alpha=0.5)\"],\"y\":[5.055013548375552,4.7661569898523695,4.5838617699808735,4.325847816131029,4.349888692769131,3.550828171640195,3.3746613014711664,3.5151677332671225,3.400380874370932,3.5344504739391254],\"type\":\"bar\"}],                        {\"template\":{\"data\":{\"histogram2dcontour\":[{\"type\":\"histogram2dcontour\",\"colorbar\":{\"outlinewidth\":0,\"ticks\":\"\"},\"colorscale\":[[0.0,\"#0d0887\"],[0.1111111111111111,\"#46039f\"],[0.2222222222222222,\"#7201a8\"],[0.3333333333333333,\"#9c179e\"],[0.4444444444444444,\"#bd3786\"],[0.5555555555555556,\"#d8576b\"],[0.6666666666666666,\"#ed7953\"],[0.7777777777777778,\"#fb9f3a\"],[0.8888888888888888,\"#fdca26\"],[1.0,\"#f0f921\"]]}],\"choropleth\":[{\"type\":\"choropleth\",\"colorbar\":{\"outlinewidth\":0,\"ticks\":\"\"}}],\"histogram2d\":[{\"type\":\"histogram2d\",\"colorbar\":{\"outlinewidth\":0,\"ticks\":\"\"},\"colorscale\":[[0.0,\"#0d0887\"],[0.1111111111111111,\"#46039f\"],[0.2222222222222222,\"#7201a8\"],[0.3333333333333333,\"#9c179e\"],[0.4444444444444444,\"#bd3786\"],[0.5555555555555556,\"#d8576b\"],[0.6666666666666666,\"#ed7953\"],[0.7777777777777778,\"#fb9f3a\"],[0.8888888888888888,\"#fdca26\"],[1.0,\"#f0f921\"]]}],\"heatmap\":[{\"type\":\"heatmap\",\"colorbar\":{\"outlinewidth\":0,\"ticks\":\"\"},\"colorscale\":[[0.0,\"#0d0887\"],[0.1111111111111111,\"#46039f\"],[0.2222222222222222,\"#7201a8\"],[0.3333333333333333,\"#9c179e\"],[0.4444444444444444,\"#bd3786\"],[0.5555555555555556,\"#d8576b\"],[0.6666666666666666,\"#ed7953\"],[0.7777777777777778,\"#fb9f3a\"],[0.8888888888888888,\"#fdca26\"],[1.0,\"#f0f921\"]]}],\"heatmapgl\":[{\"type\":\"heatmapgl\",\"colorbar\":{\"outlinewidth\":0,\"ticks\":\"\"},\"colorscale\":[[0.0,\"#0d0887\"],[0.1111111111111111,\"#46039f\"],[0.2222222222222222,\"#7201a8\"],[0.3333333333333333,\"#9c179e\"],[0.4444444444444444,\"#bd3786\"],[0.5555555555555556,\"#d8576b\"],[0.6666666666666666,\"#ed7953\"],[0.7777777777777778,\"#fb9f3a\"],[0.8888888888888888,\"#fdca26\"],[1.0,\"#f0f921\"]]}],\"contourcarpet\":[{\"type\":\"contourcarpet\",\"colorbar\":{\"outlinewidth\":0,\"ticks\":\"\"}}],\"contour\":[{\"type\":\"contour\",\"colorbar\":{\"outlinewidth\":0,\"ticks\":\"\"},\"colorscale\":[[0.0,\"#0d0887\"],[0.1111111111111111,\"#46039f\"],[0.2222222222222222,\"#7201a8\"],[0.3333333333333333,\"#9c179e\"],[0.4444444444444444,\"#bd3786\"],[0.5555555555555556,\"#d8576b\"],[0.6666666666666666,\"#ed7953\"],[0.7777777777777778,\"#fb9f3a\"],[0.8888888888888888,\"#fdca26\"],[1.0,\"#f0f921\"]]}],\"surface\":[{\"type\":\"surface\",\"colorbar\":{\"outlinewidth\":0,\"ticks\":\"\"},\"colorscale\":[[0.0,\"#0d0887\"],[0.1111111111111111,\"#46039f\"],[0.2222222222222222,\"#7201a8\"],[0.3333333333333333,\"#9c179e\"],[0.4444444444444444,\"#bd3786\"],[0.5555555555555556,\"#d8576b\"],[0.6666666666666666,\"#ed7953\"],[0.7777777777777778,\"#fb9f3a\"],[0.8888888888888888,\"#fdca26\"],[1.0,\"#f0f921\"]]}],\"mesh3d\":[{\"type\":\"mesh3d\",\"colorbar\":{\"outlinewidth\":0,\"ticks\":\"\"}}],\"scatter\":[{\"fillpattern\":{\"fillmode\":\"overlay\",\"size\":10,\"solidity\":0.2},\"type\":\"scatter\"}],\"parcoords\":[{\"type\":\"parcoords\",\"line\":{\"colorbar\":{\"outlinewidth\":0,\"ticks\":\"\"}}}],\"scatterpolargl\":[{\"type\":\"scatterpolargl\",\"marker\":{\"colorbar\":{\"outlinewidth\":0,\"ticks\":\"\"}}}],\"bar\":[{\"error_x\":{\"color\":\"#2a3f5f\"},\"error_y\":{\"color\":\"#2a3f5f\"},\"marker\":{\"line\":{\"color\":\"#E5ECF6\",\"width\":0.5},\"pattern\":{\"fillmode\":\"overlay\",\"size\":10,\"solidity\":0.2}},\"type\":\"bar\"}],\"scattergeo\":[{\"type\":\"scattergeo\",\"marker\":{\"colorbar\":{\"outlinewidth\":0,\"ticks\":\"\"}}}],\"scatterpolar\":[{\"type\":\"scatterpolar\",\"marker\":{\"colorbar\":{\"outlinewidth\":0,\"ticks\":\"\"}}}],\"histogram\":[{\"marker\":{\"pattern\":{\"fillmode\":\"overlay\",\"size\":10,\"solidity\":0.2}},\"type\":\"histogram\"}],\"scattergl\":[{\"type\":\"scattergl\",\"marker\":{\"colorbar\":{\"outlinewidth\":0,\"ticks\":\"\"}}}],\"scatter3d\":[{\"type\":\"scatter3d\",\"line\":{\"colorbar\":{\"outlinewidth\":0,\"ticks\":\"\"}},\"marker\":{\"colorbar\":{\"outlinewidth\":0,\"ticks\":\"\"}}}],\"scattermapbox\":[{\"type\":\"scattermapbox\",\"marker\":{\"colorbar\":{\"outlinewidth\":0,\"ticks\":\"\"}}}],\"scatterternary\":[{\"type\":\"scatterternary\",\"marker\":{\"colorbar\":{\"outlinewidth\":0,\"ticks\":\"\"}}}],\"scattercarpet\":[{\"type\":\"scattercarpet\",\"marker\":{\"colorbar\":{\"outlinewidth\":0,\"ticks\":\"\"}}}],\"carpet\":[{\"aaxis\":{\"endlinecolor\":\"#2a3f5f\",\"gridcolor\":\"white\",\"linecolor\":\"white\",\"minorgridcolor\":\"white\",\"startlinecolor\":\"#2a3f5f\"},\"baxis\":{\"endlinecolor\":\"#2a3f5f\",\"gridcolor\":\"white\",\"linecolor\":\"white\",\"minorgridcolor\":\"white\",\"startlinecolor\":\"#2a3f5f\"},\"type\":\"carpet\"}],\"table\":[{\"cells\":{\"fill\":{\"color\":\"#EBF0F8\"},\"line\":{\"color\":\"white\"}},\"header\":{\"fill\":{\"color\":\"#C8D4E3\"},\"line\":{\"color\":\"white\"}},\"type\":\"table\"}],\"barpolar\":[{\"marker\":{\"line\":{\"color\":\"#E5ECF6\",\"width\":0.5},\"pattern\":{\"fillmode\":\"overlay\",\"size\":10,\"solidity\":0.2}},\"type\":\"barpolar\"}],\"pie\":[{\"automargin\":true,\"type\":\"pie\"}]},\"layout\":{\"autotypenumbers\":\"strict\",\"colorway\":[\"#636efa\",\"#EF553B\",\"#00cc96\",\"#ab63fa\",\"#FFA15A\",\"#19d3f3\",\"#FF6692\",\"#B6E880\",\"#FF97FF\",\"#FECB52\"],\"font\":{\"color\":\"#2a3f5f\"},\"hovermode\":\"closest\",\"hoverlabel\":{\"align\":\"left\"},\"paper_bgcolor\":\"white\",\"plot_bgcolor\":\"#E5ECF6\",\"polar\":{\"bgcolor\":\"#E5ECF6\",\"angularaxis\":{\"gridcolor\":\"white\",\"linecolor\":\"white\",\"ticks\":\"\"},\"radialaxis\":{\"gridcolor\":\"white\",\"linecolor\":\"white\",\"ticks\":\"\"}},\"ternary\":{\"bgcolor\":\"#E5ECF6\",\"aaxis\":{\"gridcolor\":\"white\",\"linecolor\":\"white\",\"ticks\":\"\"},\"baxis\":{\"gridcolor\":\"white\",\"linecolor\":\"white\",\"ticks\":\"\"},\"caxis\":{\"gridcolor\":\"white\",\"linecolor\":\"white\",\"ticks\":\"\"}},\"coloraxis\":{\"colorbar\":{\"outlinewidth\":0,\"ticks\":\"\"}},\"colorscale\":{\"sequential\":[[0.0,\"#0d0887\"],[0.1111111111111111,\"#46039f\"],[0.2222222222222222,\"#7201a8\"],[0.3333333333333333,\"#9c179e\"],[0.4444444444444444,\"#bd3786\"],[0.5555555555555556,\"#d8576b\"],[0.6666666666666666,\"#ed7953\"],[0.7777777777777778,\"#fb9f3a\"],[0.8888888888888888,\"#fdca26\"],[1.0,\"#f0f921\"]],\"sequentialminus\":[[0.0,\"#0d0887\"],[0.1111111111111111,\"#46039f\"],[0.2222222222222222,\"#7201a8\"],[0.3333333333333333,\"#9c179e\"],[0.4444444444444444,\"#bd3786\"],[0.5555555555555556,\"#d8576b\"],[0.6666666666666666,\"#ed7953\"],[0.7777777777777778,\"#fb9f3a\"],[0.8888888888888888,\"#fdca26\"],[1.0,\"#f0f921\"]],\"diverging\":[[0,\"#8e0152\"],[0.1,\"#c51b7d\"],[0.2,\"#de77ae\"],[0.3,\"#f1b6da\"],[0.4,\"#fde0ef\"],[0.5,\"#f7f7f7\"],[0.6,\"#e6f5d0\"],[0.7,\"#b8e186\"],[0.8,\"#7fbc41\"],[0.9,\"#4d9221\"],[1,\"#276419\"]]},\"xaxis\":{\"gridcolor\":\"white\",\"linecolor\":\"white\",\"ticks\":\"\",\"title\":{\"standoff\":15},\"zerolinecolor\":\"white\",\"automargin\":true,\"zerolinewidth\":2},\"yaxis\":{\"gridcolor\":\"white\",\"linecolor\":\"white\",\"ticks\":\"\",\"title\":{\"standoff\":15},\"zerolinecolor\":\"white\",\"automargin\":true,\"zerolinewidth\":2},\"scene\":{\"xaxis\":{\"backgroundcolor\":\"#E5ECF6\",\"gridcolor\":\"white\",\"linecolor\":\"white\",\"showbackground\":true,\"ticks\":\"\",\"zerolinecolor\":\"white\",\"gridwidth\":2},\"yaxis\":{\"backgroundcolor\":\"#E5ECF6\",\"gridcolor\":\"white\",\"linecolor\":\"white\",\"showbackground\":true,\"ticks\":\"\",\"zerolinecolor\":\"white\",\"gridwidth\":2},\"zaxis\":{\"backgroundcolor\":\"#E5ECF6\",\"gridcolor\":\"white\",\"linecolor\":\"white\",\"showbackground\":true,\"ticks\":\"\",\"zerolinecolor\":\"white\",\"gridwidth\":2}},\"shapedefaults\":{\"line\":{\"color\":\"#2a3f5f\"}},\"annotationdefaults\":{\"arrowcolor\":\"#2a3f5f\",\"arrowhead\":0,\"arrowwidth\":1},\"geo\":{\"bgcolor\":\"white\",\"landcolor\":\"#E5ECF6\",\"subunitcolor\":\"white\",\"showland\":true,\"showlakes\":true,\"lakecolor\":\"white\"},\"title\":{\"x\":0.05},\"mapbox\":{\"style\":\"light\"}}},\"yaxis\":{\"title\":{\"text\":\"RMSE\"}}},                        {\"responsive\": true}                    ).then(function(){\n",
       "                            \n",
       "var gd = document.getElementById('2f9691f3-4f25-4089-8ce2-663898b9bb36');\n",
       "var x = new MutationObserver(function (mutations, observer) {{\n",
       "        var display = window.getComputedStyle(gd).display;\n",
       "        if (!display || display === 'none') {{\n",
       "            console.log([gd, 'removed!']);\n",
       "            Plotly.purge(gd);\n",
       "            observer.disconnect();\n",
       "        }}\n",
       "}});\n",
       "\n",
       "// Listen for the removal of the full notebook cells\n",
       "var notebookContainer = gd.closest('#notebook-container');\n",
       "if (notebookContainer) {{\n",
       "    x.observe(notebookContainer, {childList: true});\n",
       "}}\n",
       "\n",
       "// Listen for the clearing of the current output cell\n",
       "var outputEl = gd.closest('.output');\n",
       "if (outputEl) {{\n",
       "    x.observe(outputEl, {childList: true});\n",
       "}}\n",
       "\n",
       "                        })                };                });            </script>        </div>"
      ]
     },
     "metadata": {},
     "output_type": "display_data"
    }
   ],
   "source": [
    "ridge_model.fit(tr, tr['mpg'])\n",
    "models[\"RidgeN(alpha=0.5)\"] = ridge_model\n",
    "compare_models(models)"
   ]
  },
  {
   "cell_type": "markdown",
   "metadata": {},
   "source": [
    "**Notice that as we introduce regularization we are reducing the cross validation error and also increasing the training error.**"
   ]
  },
  {
   "cell_type": "markdown",
   "metadata": {},
   "source": [
    "What about different $\\alpha$ hyper-parameter values?"
   ]
  },
  {
   "cell_type": "code",
   "execution_count": 33,
   "metadata": {},
   "outputs": [],
   "source": [
    "ridge_model = Pipeline([\n",
    "    (\"SelectColumns\", ColumnTransformer([\n",
    "        (\"keep\", StandardScaler(), quantitative_features),\n",
    "        (\"origin_encoder\", OneHotEncoder(), [\"origin\"]),\n",
    "        (\"text\", CountVectorizer(), \"name\")\n",
    "    ])),\n",
    "    (\"Imputation\", SimpleImputer()),\n",
    "    (\"LinearModel\", Ridge(alpha=10))\n",
    "])"
   ]
  },
  {
   "cell_type": "code",
   "execution_count": 34,
   "metadata": {},
   "outputs": [
    {
     "data": {
      "application/vnd.plotly.v1+json": {
       "config": {
        "plotlyServerURL": "https://plot.ly"
       },
       "data": [
        {
         "name": "Training RMSE",
         "type": "bar",
         "x": [
          "c",
          "c,d",
          "c,d,h",
          "c,d,h,w",
          "c,d,h,w,a",
          "c,d,h,w,a,m",
          "c,d,h,w,a,m,o",
          "c,d,h,w,a,m,o,n",
          "Ridge(alpha=0.5)",
          "RidgeN(alpha=0.5)",
          "RidgeN(alpha=10)"
         ],
         "y": [
          4.888109236813688,
          4.58757379901803,
          4.525395490245242,
          4.216877763288668,
          4.213763450275894,
          3.379999480925898,
          3.2488224012050075,
          1.1436227888226098,
          2.932671699585722,
          1.1395927398086765,
          2.563277247678354
         ]
        },
        {
         "name": "CV RMSE",
         "type": "bar",
         "x": [
          "c",
          "c,d",
          "c,d,h",
          "c,d,h,w",
          "c,d,h,w,a",
          "c,d,h,w,a,m",
          "c,d,h,w,a,m,o",
          "c,d,h,w,a,m,o,n",
          "Ridge(alpha=0.5)",
          "RidgeN(alpha=0.5)",
          "RidgeN(alpha=10)"
         ],
         "y": [
          4.876661068256956,
          4.579060426624024,
          4.556808311664745,
          4.252718625749385,
          4.256844728700814,
          3.4557657065586773,
          3.3323381513276003,
          3.687635534487717,
          3.1648724810528024,
          3.628478349421298,
          3.124955650580545
         ]
        },
        {
         "name": "Test RMSE",
         "opacity": 0.3,
         "type": "bar",
         "x": [
          "c",
          "c,d",
          "c,d,h",
          "c,d,h,w",
          "c,d,h,w,a",
          "c,d,h,w,a,m",
          "c,d,h,w,a,m,o",
          "c,d,h,w,a,m,o,n",
          "Ridge(alpha=0.5)",
          "RidgeN(alpha=0.5)",
          "RidgeN(alpha=10)"
         ],
         "y": [
          5.055013548375552,
          4.7661569898523695,
          4.5838617699808735,
          4.325847816131029,
          4.349888692769131,
          3.550828171640195,
          3.3746613014711664,
          3.5151677332671225,
          3.400380874370932,
          3.5344504739391254,
          3.3703031839052042
         ]
        }
       ],
       "layout": {
        "template": {
         "data": {
          "bar": [
           {
            "error_x": {
             "color": "#2a3f5f"
            },
            "error_y": {
             "color": "#2a3f5f"
            },
            "marker": {
             "line": {
              "color": "#E5ECF6",
              "width": 0.5
             },
             "pattern": {
              "fillmode": "overlay",
              "size": 10,
              "solidity": 0.2
             }
            },
            "type": "bar"
           }
          ],
          "barpolar": [
           {
            "marker": {
             "line": {
              "color": "#E5ECF6",
              "width": 0.5
             },
             "pattern": {
              "fillmode": "overlay",
              "size": 10,
              "solidity": 0.2
             }
            },
            "type": "barpolar"
           }
          ],
          "carpet": [
           {
            "aaxis": {
             "endlinecolor": "#2a3f5f",
             "gridcolor": "white",
             "linecolor": "white",
             "minorgridcolor": "white",
             "startlinecolor": "#2a3f5f"
            },
            "baxis": {
             "endlinecolor": "#2a3f5f",
             "gridcolor": "white",
             "linecolor": "white",
             "minorgridcolor": "white",
             "startlinecolor": "#2a3f5f"
            },
            "type": "carpet"
           }
          ],
          "choropleth": [
           {
            "colorbar": {
             "outlinewidth": 0,
             "ticks": ""
            },
            "type": "choropleth"
           }
          ],
          "contour": [
           {
            "colorbar": {
             "outlinewidth": 0,
             "ticks": ""
            },
            "colorscale": [
             [
              0,
              "#0d0887"
             ],
             [
              0.1111111111111111,
              "#46039f"
             ],
             [
              0.2222222222222222,
              "#7201a8"
             ],
             [
              0.3333333333333333,
              "#9c179e"
             ],
             [
              0.4444444444444444,
              "#bd3786"
             ],
             [
              0.5555555555555556,
              "#d8576b"
             ],
             [
              0.6666666666666666,
              "#ed7953"
             ],
             [
              0.7777777777777778,
              "#fb9f3a"
             ],
             [
              0.8888888888888888,
              "#fdca26"
             ],
             [
              1,
              "#f0f921"
             ]
            ],
            "type": "contour"
           }
          ],
          "contourcarpet": [
           {
            "colorbar": {
             "outlinewidth": 0,
             "ticks": ""
            },
            "type": "contourcarpet"
           }
          ],
          "heatmap": [
           {
            "colorbar": {
             "outlinewidth": 0,
             "ticks": ""
            },
            "colorscale": [
             [
              0,
              "#0d0887"
             ],
             [
              0.1111111111111111,
              "#46039f"
             ],
             [
              0.2222222222222222,
              "#7201a8"
             ],
             [
              0.3333333333333333,
              "#9c179e"
             ],
             [
              0.4444444444444444,
              "#bd3786"
             ],
             [
              0.5555555555555556,
              "#d8576b"
             ],
             [
              0.6666666666666666,
              "#ed7953"
             ],
             [
              0.7777777777777778,
              "#fb9f3a"
             ],
             [
              0.8888888888888888,
              "#fdca26"
             ],
             [
              1,
              "#f0f921"
             ]
            ],
            "type": "heatmap"
           }
          ],
          "heatmapgl": [
           {
            "colorbar": {
             "outlinewidth": 0,
             "ticks": ""
            },
            "colorscale": [
             [
              0,
              "#0d0887"
             ],
             [
              0.1111111111111111,
              "#46039f"
             ],
             [
              0.2222222222222222,
              "#7201a8"
             ],
             [
              0.3333333333333333,
              "#9c179e"
             ],
             [
              0.4444444444444444,
              "#bd3786"
             ],
             [
              0.5555555555555556,
              "#d8576b"
             ],
             [
              0.6666666666666666,
              "#ed7953"
             ],
             [
              0.7777777777777778,
              "#fb9f3a"
             ],
             [
              0.8888888888888888,
              "#fdca26"
             ],
             [
              1,
              "#f0f921"
             ]
            ],
            "type": "heatmapgl"
           }
          ],
          "histogram": [
           {
            "marker": {
             "pattern": {
              "fillmode": "overlay",
              "size": 10,
              "solidity": 0.2
             }
            },
            "type": "histogram"
           }
          ],
          "histogram2d": [
           {
            "colorbar": {
             "outlinewidth": 0,
             "ticks": ""
            },
            "colorscale": [
             [
              0,
              "#0d0887"
             ],
             [
              0.1111111111111111,
              "#46039f"
             ],
             [
              0.2222222222222222,
              "#7201a8"
             ],
             [
              0.3333333333333333,
              "#9c179e"
             ],
             [
              0.4444444444444444,
              "#bd3786"
             ],
             [
              0.5555555555555556,
              "#d8576b"
             ],
             [
              0.6666666666666666,
              "#ed7953"
             ],
             [
              0.7777777777777778,
              "#fb9f3a"
             ],
             [
              0.8888888888888888,
              "#fdca26"
             ],
             [
              1,
              "#f0f921"
             ]
            ],
            "type": "histogram2d"
           }
          ],
          "histogram2dcontour": [
           {
            "colorbar": {
             "outlinewidth": 0,
             "ticks": ""
            },
            "colorscale": [
             [
              0,
              "#0d0887"
             ],
             [
              0.1111111111111111,
              "#46039f"
             ],
             [
              0.2222222222222222,
              "#7201a8"
             ],
             [
              0.3333333333333333,
              "#9c179e"
             ],
             [
              0.4444444444444444,
              "#bd3786"
             ],
             [
              0.5555555555555556,
              "#d8576b"
             ],
             [
              0.6666666666666666,
              "#ed7953"
             ],
             [
              0.7777777777777778,
              "#fb9f3a"
             ],
             [
              0.8888888888888888,
              "#fdca26"
             ],
             [
              1,
              "#f0f921"
             ]
            ],
            "type": "histogram2dcontour"
           }
          ],
          "mesh3d": [
           {
            "colorbar": {
             "outlinewidth": 0,
             "ticks": ""
            },
            "type": "mesh3d"
           }
          ],
          "parcoords": [
           {
            "line": {
             "colorbar": {
              "outlinewidth": 0,
              "ticks": ""
             }
            },
            "type": "parcoords"
           }
          ],
          "pie": [
           {
            "automargin": true,
            "type": "pie"
           }
          ],
          "scatter": [
           {
            "fillpattern": {
             "fillmode": "overlay",
             "size": 10,
             "solidity": 0.2
            },
            "type": "scatter"
           }
          ],
          "scatter3d": [
           {
            "line": {
             "colorbar": {
              "outlinewidth": 0,
              "ticks": ""
             }
            },
            "marker": {
             "colorbar": {
              "outlinewidth": 0,
              "ticks": ""
             }
            },
            "type": "scatter3d"
           }
          ],
          "scattercarpet": [
           {
            "marker": {
             "colorbar": {
              "outlinewidth": 0,
              "ticks": ""
             }
            },
            "type": "scattercarpet"
           }
          ],
          "scattergeo": [
           {
            "marker": {
             "colorbar": {
              "outlinewidth": 0,
              "ticks": ""
             }
            },
            "type": "scattergeo"
           }
          ],
          "scattergl": [
           {
            "marker": {
             "colorbar": {
              "outlinewidth": 0,
              "ticks": ""
             }
            },
            "type": "scattergl"
           }
          ],
          "scattermapbox": [
           {
            "marker": {
             "colorbar": {
              "outlinewidth": 0,
              "ticks": ""
             }
            },
            "type": "scattermapbox"
           }
          ],
          "scatterpolar": [
           {
            "marker": {
             "colorbar": {
              "outlinewidth": 0,
              "ticks": ""
             }
            },
            "type": "scatterpolar"
           }
          ],
          "scatterpolargl": [
           {
            "marker": {
             "colorbar": {
              "outlinewidth": 0,
              "ticks": ""
             }
            },
            "type": "scatterpolargl"
           }
          ],
          "scatterternary": [
           {
            "marker": {
             "colorbar": {
              "outlinewidth": 0,
              "ticks": ""
             }
            },
            "type": "scatterternary"
           }
          ],
          "surface": [
           {
            "colorbar": {
             "outlinewidth": 0,
             "ticks": ""
            },
            "colorscale": [
             [
              0,
              "#0d0887"
             ],
             [
              0.1111111111111111,
              "#46039f"
             ],
             [
              0.2222222222222222,
              "#7201a8"
             ],
             [
              0.3333333333333333,
              "#9c179e"
             ],
             [
              0.4444444444444444,
              "#bd3786"
             ],
             [
              0.5555555555555556,
              "#d8576b"
             ],
             [
              0.6666666666666666,
              "#ed7953"
             ],
             [
              0.7777777777777778,
              "#fb9f3a"
             ],
             [
              0.8888888888888888,
              "#fdca26"
             ],
             [
              1,
              "#f0f921"
             ]
            ],
            "type": "surface"
           }
          ],
          "table": [
           {
            "cells": {
             "fill": {
              "color": "#EBF0F8"
             },
             "line": {
              "color": "white"
             }
            },
            "header": {
             "fill": {
              "color": "#C8D4E3"
             },
             "line": {
              "color": "white"
             }
            },
            "type": "table"
           }
          ]
         },
         "layout": {
          "annotationdefaults": {
           "arrowcolor": "#2a3f5f",
           "arrowhead": 0,
           "arrowwidth": 1
          },
          "autotypenumbers": "strict",
          "coloraxis": {
           "colorbar": {
            "outlinewidth": 0,
            "ticks": ""
           }
          },
          "colorscale": {
           "diverging": [
            [
             0,
             "#8e0152"
            ],
            [
             0.1,
             "#c51b7d"
            ],
            [
             0.2,
             "#de77ae"
            ],
            [
             0.3,
             "#f1b6da"
            ],
            [
             0.4,
             "#fde0ef"
            ],
            [
             0.5,
             "#f7f7f7"
            ],
            [
             0.6,
             "#e6f5d0"
            ],
            [
             0.7,
             "#b8e186"
            ],
            [
             0.8,
             "#7fbc41"
            ],
            [
             0.9,
             "#4d9221"
            ],
            [
             1,
             "#276419"
            ]
           ],
           "sequential": [
            [
             0,
             "#0d0887"
            ],
            [
             0.1111111111111111,
             "#46039f"
            ],
            [
             0.2222222222222222,
             "#7201a8"
            ],
            [
             0.3333333333333333,
             "#9c179e"
            ],
            [
             0.4444444444444444,
             "#bd3786"
            ],
            [
             0.5555555555555556,
             "#d8576b"
            ],
            [
             0.6666666666666666,
             "#ed7953"
            ],
            [
             0.7777777777777778,
             "#fb9f3a"
            ],
            [
             0.8888888888888888,
             "#fdca26"
            ],
            [
             1,
             "#f0f921"
            ]
           ],
           "sequentialminus": [
            [
             0,
             "#0d0887"
            ],
            [
             0.1111111111111111,
             "#46039f"
            ],
            [
             0.2222222222222222,
             "#7201a8"
            ],
            [
             0.3333333333333333,
             "#9c179e"
            ],
            [
             0.4444444444444444,
             "#bd3786"
            ],
            [
             0.5555555555555556,
             "#d8576b"
            ],
            [
             0.6666666666666666,
             "#ed7953"
            ],
            [
             0.7777777777777778,
             "#fb9f3a"
            ],
            [
             0.8888888888888888,
             "#fdca26"
            ],
            [
             1,
             "#f0f921"
            ]
           ]
          },
          "colorway": [
           "#636efa",
           "#EF553B",
           "#00cc96",
           "#ab63fa",
           "#FFA15A",
           "#19d3f3",
           "#FF6692",
           "#B6E880",
           "#FF97FF",
           "#FECB52"
          ],
          "font": {
           "color": "#2a3f5f"
          },
          "geo": {
           "bgcolor": "white",
           "lakecolor": "white",
           "landcolor": "#E5ECF6",
           "showlakes": true,
           "showland": true,
           "subunitcolor": "white"
          },
          "hoverlabel": {
           "align": "left"
          },
          "hovermode": "closest",
          "mapbox": {
           "style": "light"
          },
          "paper_bgcolor": "white",
          "plot_bgcolor": "#E5ECF6",
          "polar": {
           "angularaxis": {
            "gridcolor": "white",
            "linecolor": "white",
            "ticks": ""
           },
           "bgcolor": "#E5ECF6",
           "radialaxis": {
            "gridcolor": "white",
            "linecolor": "white",
            "ticks": ""
           }
          },
          "scene": {
           "xaxis": {
            "backgroundcolor": "#E5ECF6",
            "gridcolor": "white",
            "gridwidth": 2,
            "linecolor": "white",
            "showbackground": true,
            "ticks": "",
            "zerolinecolor": "white"
           },
           "yaxis": {
            "backgroundcolor": "#E5ECF6",
            "gridcolor": "white",
            "gridwidth": 2,
            "linecolor": "white",
            "showbackground": true,
            "ticks": "",
            "zerolinecolor": "white"
           },
           "zaxis": {
            "backgroundcolor": "#E5ECF6",
            "gridcolor": "white",
            "gridwidth": 2,
            "linecolor": "white",
            "showbackground": true,
            "ticks": "",
            "zerolinecolor": "white"
           }
          },
          "shapedefaults": {
           "line": {
            "color": "#2a3f5f"
           }
          },
          "ternary": {
           "aaxis": {
            "gridcolor": "white",
            "linecolor": "white",
            "ticks": ""
           },
           "baxis": {
            "gridcolor": "white",
            "linecolor": "white",
            "ticks": ""
           },
           "bgcolor": "#E5ECF6",
           "caxis": {
            "gridcolor": "white",
            "linecolor": "white",
            "ticks": ""
           }
          },
          "title": {
           "x": 0.05
          },
          "xaxis": {
           "automargin": true,
           "gridcolor": "white",
           "linecolor": "white",
           "ticks": "",
           "title": {
            "standoff": 15
           },
           "zerolinecolor": "white",
           "zerolinewidth": 2
          },
          "yaxis": {
           "automargin": true,
           "gridcolor": "white",
           "linecolor": "white",
           "ticks": "",
           "title": {
            "standoff": 15
           },
           "zerolinecolor": "white",
           "zerolinewidth": 2
          }
         }
        },
        "yaxis": {
         "title": {
          "text": "RMSE"
         }
        }
       }
      },
      "text/html": [
       "<div>                            <div id=\"0064d470-8342-4378-8c80-fcc7dbdf3f14\" class=\"plotly-graph-div\" style=\"height:525px; width:100%;\"></div>            <script type=\"text/javascript\">                require([\"plotly\"], function(Plotly) {                    window.PLOTLYENV=window.PLOTLYENV || {};                                    if (document.getElementById(\"0064d470-8342-4378-8c80-fcc7dbdf3f14\")) {                    Plotly.newPlot(                        \"0064d470-8342-4378-8c80-fcc7dbdf3f14\",                        [{\"name\":\"Training RMSE\",\"x\":[\"c\",\"c,d\",\"c,d,h\",\"c,d,h,w\",\"c,d,h,w,a\",\"c,d,h,w,a,m\",\"c,d,h,w,a,m,o\",\"c,d,h,w,a,m,o,n\",\"Ridge(alpha=0.5)\",\"RidgeN(alpha=0.5)\",\"RidgeN(alpha=10)\"],\"y\":[4.888109236813688,4.58757379901803,4.525395490245242,4.216877763288668,4.213763450275894,3.379999480925898,3.2488224012050075,1.1436227888226098,2.932671699585722,1.1395927398086765,2.563277247678354],\"type\":\"bar\"},{\"name\":\"CV RMSE\",\"x\":[\"c\",\"c,d\",\"c,d,h\",\"c,d,h,w\",\"c,d,h,w,a\",\"c,d,h,w,a,m\",\"c,d,h,w,a,m,o\",\"c,d,h,w,a,m,o,n\",\"Ridge(alpha=0.5)\",\"RidgeN(alpha=0.5)\",\"RidgeN(alpha=10)\"],\"y\":[4.876661068256956,4.579060426624024,4.556808311664745,4.252718625749385,4.256844728700814,3.4557657065586773,3.3323381513276003,3.687635534487717,3.1648724810528024,3.628478349421298,3.124955650580545],\"type\":\"bar\"},{\"name\":\"Test RMSE\",\"opacity\":0.3,\"x\":[\"c\",\"c,d\",\"c,d,h\",\"c,d,h,w\",\"c,d,h,w,a\",\"c,d,h,w,a,m\",\"c,d,h,w,a,m,o\",\"c,d,h,w,a,m,o,n\",\"Ridge(alpha=0.5)\",\"RidgeN(alpha=0.5)\",\"RidgeN(alpha=10)\"],\"y\":[5.055013548375552,4.7661569898523695,4.5838617699808735,4.325847816131029,4.349888692769131,3.550828171640195,3.3746613014711664,3.5151677332671225,3.400380874370932,3.5344504739391254,3.3703031839052042],\"type\":\"bar\"}],                        {\"template\":{\"data\":{\"histogram2dcontour\":[{\"type\":\"histogram2dcontour\",\"colorbar\":{\"outlinewidth\":0,\"ticks\":\"\"},\"colorscale\":[[0.0,\"#0d0887\"],[0.1111111111111111,\"#46039f\"],[0.2222222222222222,\"#7201a8\"],[0.3333333333333333,\"#9c179e\"],[0.4444444444444444,\"#bd3786\"],[0.5555555555555556,\"#d8576b\"],[0.6666666666666666,\"#ed7953\"],[0.7777777777777778,\"#fb9f3a\"],[0.8888888888888888,\"#fdca26\"],[1.0,\"#f0f921\"]]}],\"choropleth\":[{\"type\":\"choropleth\",\"colorbar\":{\"outlinewidth\":0,\"ticks\":\"\"}}],\"histogram2d\":[{\"type\":\"histogram2d\",\"colorbar\":{\"outlinewidth\":0,\"ticks\":\"\"},\"colorscale\":[[0.0,\"#0d0887\"],[0.1111111111111111,\"#46039f\"],[0.2222222222222222,\"#7201a8\"],[0.3333333333333333,\"#9c179e\"],[0.4444444444444444,\"#bd3786\"],[0.5555555555555556,\"#d8576b\"],[0.6666666666666666,\"#ed7953\"],[0.7777777777777778,\"#fb9f3a\"],[0.8888888888888888,\"#fdca26\"],[1.0,\"#f0f921\"]]}],\"heatmap\":[{\"type\":\"heatmap\",\"colorbar\":{\"outlinewidth\":0,\"ticks\":\"\"},\"colorscale\":[[0.0,\"#0d0887\"],[0.1111111111111111,\"#46039f\"],[0.2222222222222222,\"#7201a8\"],[0.3333333333333333,\"#9c179e\"],[0.4444444444444444,\"#bd3786\"],[0.5555555555555556,\"#d8576b\"],[0.6666666666666666,\"#ed7953\"],[0.7777777777777778,\"#fb9f3a\"],[0.8888888888888888,\"#fdca26\"],[1.0,\"#f0f921\"]]}],\"heatmapgl\":[{\"type\":\"heatmapgl\",\"colorbar\":{\"outlinewidth\":0,\"ticks\":\"\"},\"colorscale\":[[0.0,\"#0d0887\"],[0.1111111111111111,\"#46039f\"],[0.2222222222222222,\"#7201a8\"],[0.3333333333333333,\"#9c179e\"],[0.4444444444444444,\"#bd3786\"],[0.5555555555555556,\"#d8576b\"],[0.6666666666666666,\"#ed7953\"],[0.7777777777777778,\"#fb9f3a\"],[0.8888888888888888,\"#fdca26\"],[1.0,\"#f0f921\"]]}],\"contourcarpet\":[{\"type\":\"contourcarpet\",\"colorbar\":{\"outlinewidth\":0,\"ticks\":\"\"}}],\"contour\":[{\"type\":\"contour\",\"colorbar\":{\"outlinewidth\":0,\"ticks\":\"\"},\"colorscale\":[[0.0,\"#0d0887\"],[0.1111111111111111,\"#46039f\"],[0.2222222222222222,\"#7201a8\"],[0.3333333333333333,\"#9c179e\"],[0.4444444444444444,\"#bd3786\"],[0.5555555555555556,\"#d8576b\"],[0.6666666666666666,\"#ed7953\"],[0.7777777777777778,\"#fb9f3a\"],[0.8888888888888888,\"#fdca26\"],[1.0,\"#f0f921\"]]}],\"surface\":[{\"type\":\"surface\",\"colorbar\":{\"outlinewidth\":0,\"ticks\":\"\"},\"colorscale\":[[0.0,\"#0d0887\"],[0.1111111111111111,\"#46039f\"],[0.2222222222222222,\"#7201a8\"],[0.3333333333333333,\"#9c179e\"],[0.4444444444444444,\"#bd3786\"],[0.5555555555555556,\"#d8576b\"],[0.6666666666666666,\"#ed7953\"],[0.7777777777777778,\"#fb9f3a\"],[0.8888888888888888,\"#fdca26\"],[1.0,\"#f0f921\"]]}],\"mesh3d\":[{\"type\":\"mesh3d\",\"colorbar\":{\"outlinewidth\":0,\"ticks\":\"\"}}],\"scatter\":[{\"fillpattern\":{\"fillmode\":\"overlay\",\"size\":10,\"solidity\":0.2},\"type\":\"scatter\"}],\"parcoords\":[{\"type\":\"parcoords\",\"line\":{\"colorbar\":{\"outlinewidth\":0,\"ticks\":\"\"}}}],\"scatterpolargl\":[{\"type\":\"scatterpolargl\",\"marker\":{\"colorbar\":{\"outlinewidth\":0,\"ticks\":\"\"}}}],\"bar\":[{\"error_x\":{\"color\":\"#2a3f5f\"},\"error_y\":{\"color\":\"#2a3f5f\"},\"marker\":{\"line\":{\"color\":\"#E5ECF6\",\"width\":0.5},\"pattern\":{\"fillmode\":\"overlay\",\"size\":10,\"solidity\":0.2}},\"type\":\"bar\"}],\"scattergeo\":[{\"type\":\"scattergeo\",\"marker\":{\"colorbar\":{\"outlinewidth\":0,\"ticks\":\"\"}}}],\"scatterpolar\":[{\"type\":\"scatterpolar\",\"marker\":{\"colorbar\":{\"outlinewidth\":0,\"ticks\":\"\"}}}],\"histogram\":[{\"marker\":{\"pattern\":{\"fillmode\":\"overlay\",\"size\":10,\"solidity\":0.2}},\"type\":\"histogram\"}],\"scattergl\":[{\"type\":\"scattergl\",\"marker\":{\"colorbar\":{\"outlinewidth\":0,\"ticks\":\"\"}}}],\"scatter3d\":[{\"type\":\"scatter3d\",\"line\":{\"colorbar\":{\"outlinewidth\":0,\"ticks\":\"\"}},\"marker\":{\"colorbar\":{\"outlinewidth\":0,\"ticks\":\"\"}}}],\"scattermapbox\":[{\"type\":\"scattermapbox\",\"marker\":{\"colorbar\":{\"outlinewidth\":0,\"ticks\":\"\"}}}],\"scatterternary\":[{\"type\":\"scatterternary\",\"marker\":{\"colorbar\":{\"outlinewidth\":0,\"ticks\":\"\"}}}],\"scattercarpet\":[{\"type\":\"scattercarpet\",\"marker\":{\"colorbar\":{\"outlinewidth\":0,\"ticks\":\"\"}}}],\"carpet\":[{\"aaxis\":{\"endlinecolor\":\"#2a3f5f\",\"gridcolor\":\"white\",\"linecolor\":\"white\",\"minorgridcolor\":\"white\",\"startlinecolor\":\"#2a3f5f\"},\"baxis\":{\"endlinecolor\":\"#2a3f5f\",\"gridcolor\":\"white\",\"linecolor\":\"white\",\"minorgridcolor\":\"white\",\"startlinecolor\":\"#2a3f5f\"},\"type\":\"carpet\"}],\"table\":[{\"cells\":{\"fill\":{\"color\":\"#EBF0F8\"},\"line\":{\"color\":\"white\"}},\"header\":{\"fill\":{\"color\":\"#C8D4E3\"},\"line\":{\"color\":\"white\"}},\"type\":\"table\"}],\"barpolar\":[{\"marker\":{\"line\":{\"color\":\"#E5ECF6\",\"width\":0.5},\"pattern\":{\"fillmode\":\"overlay\",\"size\":10,\"solidity\":0.2}},\"type\":\"barpolar\"}],\"pie\":[{\"automargin\":true,\"type\":\"pie\"}]},\"layout\":{\"autotypenumbers\":\"strict\",\"colorway\":[\"#636efa\",\"#EF553B\",\"#00cc96\",\"#ab63fa\",\"#FFA15A\",\"#19d3f3\",\"#FF6692\",\"#B6E880\",\"#FF97FF\",\"#FECB52\"],\"font\":{\"color\":\"#2a3f5f\"},\"hovermode\":\"closest\",\"hoverlabel\":{\"align\":\"left\"},\"paper_bgcolor\":\"white\",\"plot_bgcolor\":\"#E5ECF6\",\"polar\":{\"bgcolor\":\"#E5ECF6\",\"angularaxis\":{\"gridcolor\":\"white\",\"linecolor\":\"white\",\"ticks\":\"\"},\"radialaxis\":{\"gridcolor\":\"white\",\"linecolor\":\"white\",\"ticks\":\"\"}},\"ternary\":{\"bgcolor\":\"#E5ECF6\",\"aaxis\":{\"gridcolor\":\"white\",\"linecolor\":\"white\",\"ticks\":\"\"},\"baxis\":{\"gridcolor\":\"white\",\"linecolor\":\"white\",\"ticks\":\"\"},\"caxis\":{\"gridcolor\":\"white\",\"linecolor\":\"white\",\"ticks\":\"\"}},\"coloraxis\":{\"colorbar\":{\"outlinewidth\":0,\"ticks\":\"\"}},\"colorscale\":{\"sequential\":[[0.0,\"#0d0887\"],[0.1111111111111111,\"#46039f\"],[0.2222222222222222,\"#7201a8\"],[0.3333333333333333,\"#9c179e\"],[0.4444444444444444,\"#bd3786\"],[0.5555555555555556,\"#d8576b\"],[0.6666666666666666,\"#ed7953\"],[0.7777777777777778,\"#fb9f3a\"],[0.8888888888888888,\"#fdca26\"],[1.0,\"#f0f921\"]],\"sequentialminus\":[[0.0,\"#0d0887\"],[0.1111111111111111,\"#46039f\"],[0.2222222222222222,\"#7201a8\"],[0.3333333333333333,\"#9c179e\"],[0.4444444444444444,\"#bd3786\"],[0.5555555555555556,\"#d8576b\"],[0.6666666666666666,\"#ed7953\"],[0.7777777777777778,\"#fb9f3a\"],[0.8888888888888888,\"#fdca26\"],[1.0,\"#f0f921\"]],\"diverging\":[[0,\"#8e0152\"],[0.1,\"#c51b7d\"],[0.2,\"#de77ae\"],[0.3,\"#f1b6da\"],[0.4,\"#fde0ef\"],[0.5,\"#f7f7f7\"],[0.6,\"#e6f5d0\"],[0.7,\"#b8e186\"],[0.8,\"#7fbc41\"],[0.9,\"#4d9221\"],[1,\"#276419\"]]},\"xaxis\":{\"gridcolor\":\"white\",\"linecolor\":\"white\",\"ticks\":\"\",\"title\":{\"standoff\":15},\"zerolinecolor\":\"white\",\"automargin\":true,\"zerolinewidth\":2},\"yaxis\":{\"gridcolor\":\"white\",\"linecolor\":\"white\",\"ticks\":\"\",\"title\":{\"standoff\":15},\"zerolinecolor\":\"white\",\"automargin\":true,\"zerolinewidth\":2},\"scene\":{\"xaxis\":{\"backgroundcolor\":\"#E5ECF6\",\"gridcolor\":\"white\",\"linecolor\":\"white\",\"showbackground\":true,\"ticks\":\"\",\"zerolinecolor\":\"white\",\"gridwidth\":2},\"yaxis\":{\"backgroundcolor\":\"#E5ECF6\",\"gridcolor\":\"white\",\"linecolor\":\"white\",\"showbackground\":true,\"ticks\":\"\",\"zerolinecolor\":\"white\",\"gridwidth\":2},\"zaxis\":{\"backgroundcolor\":\"#E5ECF6\",\"gridcolor\":\"white\",\"linecolor\":\"white\",\"showbackground\":true,\"ticks\":\"\",\"zerolinecolor\":\"white\",\"gridwidth\":2}},\"shapedefaults\":{\"line\":{\"color\":\"#2a3f5f\"}},\"annotationdefaults\":{\"arrowcolor\":\"#2a3f5f\",\"arrowhead\":0,\"arrowwidth\":1},\"geo\":{\"bgcolor\":\"white\",\"landcolor\":\"#E5ECF6\",\"subunitcolor\":\"white\",\"showland\":true,\"showlakes\":true,\"lakecolor\":\"white\"},\"title\":{\"x\":0.05},\"mapbox\":{\"style\":\"light\"}}},\"yaxis\":{\"title\":{\"text\":\"RMSE\"}}},                        {\"responsive\": true}                    ).then(function(){\n",
       "                            \n",
       "var gd = document.getElementById('0064d470-8342-4378-8c80-fcc7dbdf3f14');\n",
       "var x = new MutationObserver(function (mutations, observer) {{\n",
       "        var display = window.getComputedStyle(gd).display;\n",
       "        if (!display || display === 'none') {{\n",
       "            console.log([gd, 'removed!']);\n",
       "            Plotly.purge(gd);\n",
       "            observer.disconnect();\n",
       "        }}\n",
       "}});\n",
       "\n",
       "// Listen for the removal of the full notebook cells\n",
       "var notebookContainer = gd.closest('#notebook-container');\n",
       "if (notebookContainer) {{\n",
       "    x.observe(notebookContainer, {childList: true});\n",
       "}}\n",
       "\n",
       "// Listen for the clearing of the current output cell\n",
       "var outputEl = gd.closest('.output');\n",
       "if (outputEl) {{\n",
       "    x.observe(outputEl, {childList: true});\n",
       "}}\n",
       "\n",
       "                        })                };                });            </script>        </div>"
      ]
     },
     "metadata": {},
     "output_type": "display_data"
    }
   ],
   "source": [
    "ridge_model.fit(tr, tr['mpg'])\n",
    "models[\"RidgeN(alpha=10)\"] = ridge_model\n",
    "compare_models(models)"
   ]
  },
  {
   "cell_type": "markdown",
   "metadata": {},
   "source": [
    "That is too much regularization.  Let's use cross validation to pick the best value."
   ]
  },
  {
   "cell_type": "markdown",
   "metadata": {},
   "source": [
    "### Cross Validation to Tune Regularization Parameter\n",
    "\n",
    "The following uses cross validation to tune the regularization parameter."
   ]
  },
  {
   "cell_type": "code",
   "execution_count": 35,
   "metadata": {},
   "outputs": [],
   "source": [
    "ridge_model = Pipeline([\n",
    "    (\"SelectColumns\", ColumnTransformer([\n",
    "        (\"keep\", StandardScaler(), quantitative_features),\n",
    "        (\"origin_encoder\", OneHotEncoder(), [\"origin\"]),\n",
    "        (\"text\", CountVectorizer(), \"name\")\n",
    "    ])),\n",
    "    (\"Imputation\", SimpleImputer()),\n",
    "    (\"LinearModel\", Ridge(alpha=10))\n",
    "])\n",
    "\n",
    "alphas = np.linspace(0.5, 20, 30)\n",
    "cv_values = []\n",
    "train_values = []\n",
    "test_values = []\n",
    "for alpha in alphas:\n",
    "    ridge_model.set_params(LinearModel__alpha=alpha)\n",
    "    cv_values.append(np.mean(cross_val_score(ridge_model, tr, tr['mpg'], scoring=rmse_score, cv=5)))\n",
    "    ridge_model.fit(tr, tr['mpg'])\n",
    "    train_values.append(rmse_score(ridge_model, tr, tr['mpg']))\n",
    "    test_values.append(rmse_score(ridge_model, te, te['mpg']))"
   ]
  },
  {
   "cell_type": "markdown",
   "metadata": {},
   "source": [
    "We can plot the cross validation error against the different $\\alpha$ values and pick the $\\alpha$ with the smallest cross validation error. "
   ]
  },
  {
   "cell_type": "code",
   "execution_count": 36,
   "metadata": {},
   "outputs": [
    {
     "data": {
      "application/vnd.plotly.v1+json": {
       "config": {
        "plotlyServerURL": "https://plot.ly"
       },
       "data": [
        {
         "mode": "lines+markers",
         "name": "Train",
         "type": "scatter",
         "x": [
          0.5,
          1.1724137931034484,
          1.8448275862068966,
          2.5172413793103448,
          3.189655172413793,
          3.8620689655172415,
          4.5344827586206895,
          5.206896551724138,
          5.879310344827586,
          6.551724137931035,
          7.224137931034483,
          7.8965517241379315,
          8.568965517241379,
          9.241379310344827,
          9.913793103448276,
          10.586206896551724,
          11.258620689655173,
          11.931034482758621,
          12.60344827586207,
          13.275862068965518,
          13.948275862068966,
          14.620689655172415,
          15.293103448275863,
          15.965517241379311,
          16.637931034482758,
          17.310344827586206,
          17.982758620689655,
          18.655172413793103,
          19.32758620689655,
          20
         ],
         "y": [
          1.3649712944602321,
          1.614773086431105,
          1.7933943110013333,
          1.9283800372521704,
          2.0355192298377927,
          2.1237907887829617,
          2.1984174215604173,
          2.262888550769624,
          2.3195002506934452,
          2.369797457510891,
          2.414985133637191,
          2.455963745295732,
          2.4933361987809373,
          2.5276691205796813,
          2.559382741938256,
          2.5888242271781183,
          2.616254496600337,
          2.6419079603903004,
          2.665991270235635,
          2.6886623004948125,
          2.7100812309612756,
          2.730330954393904,
          2.7495377211764254,
          2.7677946686968076,
          2.785180275306523,
          2.801768595374798,
          2.8176226080744353,
          2.8327978339080375,
          2.8473402619853396,
          2.86130181146213
         ]
        },
        {
         "mode": "lines+markers",
         "name": "CV",
         "type": "scatter",
         "x": [
          0.5,
          1.1724137931034484,
          1.8448275862068966,
          2.5172413793103448,
          3.189655172413793,
          3.8620689655172415,
          4.5344827586206895,
          5.206896551724138,
          5.879310344827586,
          6.551724137931035,
          7.224137931034483,
          7.8965517241379315,
          8.568965517241379,
          9.241379310344827,
          9.913793103448276,
          10.586206896551724,
          11.258620689655173,
          11.931034482758621,
          12.60344827586207,
          13.275862068965518,
          13.948275862068966,
          14.620689655172415,
          15.293103448275863,
          15.965517241379311,
          16.637931034482758,
          17.310344827586206,
          17.982758620689655,
          18.655172413793103,
          19.32758620689655,
          20
         ],
         "y": [
          3.0253607676987047,
          2.946890506042984,
          2.9408907337101278,
          2.952012865701043,
          2.968441438847152,
          2.9861688435720195,
          3.004020472154045,
          3.021536977091772,
          3.0385873793730864,
          3.054530235418112,
          3.069731930763747,
          3.0841516491987093,
          3.097875904968501,
          3.1109512886412762,
          3.123408435122305,
          3.1352502021742596,
          3.146545163007618,
          3.157338373758236,
          3.16768941579964,
          3.177554850739858,
          3.1869866960688147,
          3.1961269057112305,
          3.204919127704648,
          3.213385570372234,
          3.2215516352090723,
          3.2294226460462014,
          3.2370303701515213,
          3.2443751258797633,
          3.2515078418880266,
          3.258390204083061
         ]
        },
        {
         "mode": "lines+markers",
         "name": "Test",
         "type": "scatter",
         "x": [
          0.5,
          1.1724137931034484,
          1.8448275862068966,
          2.5172413793103448,
          3.189655172413793,
          3.8620689655172415,
          4.5344827586206895,
          5.206896551724138,
          5.879310344827586,
          6.551724137931035,
          7.224137931034483,
          7.8965517241379315,
          8.568965517241379,
          9.241379310344827,
          9.913793103448276,
          10.586206896551724,
          11.258620689655173,
          11.931034482758621,
          12.60344827586207,
          13.275862068965518,
          13.948275862068966,
          14.620689655172415,
          15.293103448275863,
          15.965517241379311,
          16.637931034482758,
          17.310344827586206,
          17.982758620689655,
          18.655172413793103,
          19.32758620689655,
          20
         ],
         "y": [
          3.516717679669648,
          3.494145702896763,
          3.4715384386964905,
          3.4530846435731135,
          3.436921155032901,
          3.4235980285933856,
          3.4124977681935964,
          3.4033281814199925,
          3.395481797720373,
          3.3892091507576927,
          3.3839755032754084,
          3.37957277330586,
          3.3759693535360205,
          3.3730009046907226,
          3.370578250326481,
          3.368993459682411,
          3.3673871893598055,
          3.366150168151526,
          3.365236288999087,
          3.364603748601561,
          3.3636269651424247,
          3.3635405022162512,
          3.363633523869577,
          3.3638859920576376,
          3.364280595959472,
          3.364801780818524,
          3.365436029882436,
          3.3661715384536053,
          3.366997849764018,
          3.3679053083645303
         ]
        }
       ],
       "layout": {
        "template": {
         "data": {
          "bar": [
           {
            "error_x": {
             "color": "#2a3f5f"
            },
            "error_y": {
             "color": "#2a3f5f"
            },
            "marker": {
             "line": {
              "color": "#E5ECF6",
              "width": 0.5
             },
             "pattern": {
              "fillmode": "overlay",
              "size": 10,
              "solidity": 0.2
             }
            },
            "type": "bar"
           }
          ],
          "barpolar": [
           {
            "marker": {
             "line": {
              "color": "#E5ECF6",
              "width": 0.5
             },
             "pattern": {
              "fillmode": "overlay",
              "size": 10,
              "solidity": 0.2
             }
            },
            "type": "barpolar"
           }
          ],
          "carpet": [
           {
            "aaxis": {
             "endlinecolor": "#2a3f5f",
             "gridcolor": "white",
             "linecolor": "white",
             "minorgridcolor": "white",
             "startlinecolor": "#2a3f5f"
            },
            "baxis": {
             "endlinecolor": "#2a3f5f",
             "gridcolor": "white",
             "linecolor": "white",
             "minorgridcolor": "white",
             "startlinecolor": "#2a3f5f"
            },
            "type": "carpet"
           }
          ],
          "choropleth": [
           {
            "colorbar": {
             "outlinewidth": 0,
             "ticks": ""
            },
            "type": "choropleth"
           }
          ],
          "contour": [
           {
            "colorbar": {
             "outlinewidth": 0,
             "ticks": ""
            },
            "colorscale": [
             [
              0,
              "#0d0887"
             ],
             [
              0.1111111111111111,
              "#46039f"
             ],
             [
              0.2222222222222222,
              "#7201a8"
             ],
             [
              0.3333333333333333,
              "#9c179e"
             ],
             [
              0.4444444444444444,
              "#bd3786"
             ],
             [
              0.5555555555555556,
              "#d8576b"
             ],
             [
              0.6666666666666666,
              "#ed7953"
             ],
             [
              0.7777777777777778,
              "#fb9f3a"
             ],
             [
              0.8888888888888888,
              "#fdca26"
             ],
             [
              1,
              "#f0f921"
             ]
            ],
            "type": "contour"
           }
          ],
          "contourcarpet": [
           {
            "colorbar": {
             "outlinewidth": 0,
             "ticks": ""
            },
            "type": "contourcarpet"
           }
          ],
          "heatmap": [
           {
            "colorbar": {
             "outlinewidth": 0,
             "ticks": ""
            },
            "colorscale": [
             [
              0,
              "#0d0887"
             ],
             [
              0.1111111111111111,
              "#46039f"
             ],
             [
              0.2222222222222222,
              "#7201a8"
             ],
             [
              0.3333333333333333,
              "#9c179e"
             ],
             [
              0.4444444444444444,
              "#bd3786"
             ],
             [
              0.5555555555555556,
              "#d8576b"
             ],
             [
              0.6666666666666666,
              "#ed7953"
             ],
             [
              0.7777777777777778,
              "#fb9f3a"
             ],
             [
              0.8888888888888888,
              "#fdca26"
             ],
             [
              1,
              "#f0f921"
             ]
            ],
            "type": "heatmap"
           }
          ],
          "heatmapgl": [
           {
            "colorbar": {
             "outlinewidth": 0,
             "ticks": ""
            },
            "colorscale": [
             [
              0,
              "#0d0887"
             ],
             [
              0.1111111111111111,
              "#46039f"
             ],
             [
              0.2222222222222222,
              "#7201a8"
             ],
             [
              0.3333333333333333,
              "#9c179e"
             ],
             [
              0.4444444444444444,
              "#bd3786"
             ],
             [
              0.5555555555555556,
              "#d8576b"
             ],
             [
              0.6666666666666666,
              "#ed7953"
             ],
             [
              0.7777777777777778,
              "#fb9f3a"
             ],
             [
              0.8888888888888888,
              "#fdca26"
             ],
             [
              1,
              "#f0f921"
             ]
            ],
            "type": "heatmapgl"
           }
          ],
          "histogram": [
           {
            "marker": {
             "pattern": {
              "fillmode": "overlay",
              "size": 10,
              "solidity": 0.2
             }
            },
            "type": "histogram"
           }
          ],
          "histogram2d": [
           {
            "colorbar": {
             "outlinewidth": 0,
             "ticks": ""
            },
            "colorscale": [
             [
              0,
              "#0d0887"
             ],
             [
              0.1111111111111111,
              "#46039f"
             ],
             [
              0.2222222222222222,
              "#7201a8"
             ],
             [
              0.3333333333333333,
              "#9c179e"
             ],
             [
              0.4444444444444444,
              "#bd3786"
             ],
             [
              0.5555555555555556,
              "#d8576b"
             ],
             [
              0.6666666666666666,
              "#ed7953"
             ],
             [
              0.7777777777777778,
              "#fb9f3a"
             ],
             [
              0.8888888888888888,
              "#fdca26"
             ],
             [
              1,
              "#f0f921"
             ]
            ],
            "type": "histogram2d"
           }
          ],
          "histogram2dcontour": [
           {
            "colorbar": {
             "outlinewidth": 0,
             "ticks": ""
            },
            "colorscale": [
             [
              0,
              "#0d0887"
             ],
             [
              0.1111111111111111,
              "#46039f"
             ],
             [
              0.2222222222222222,
              "#7201a8"
             ],
             [
              0.3333333333333333,
              "#9c179e"
             ],
             [
              0.4444444444444444,
              "#bd3786"
             ],
             [
              0.5555555555555556,
              "#d8576b"
             ],
             [
              0.6666666666666666,
              "#ed7953"
             ],
             [
              0.7777777777777778,
              "#fb9f3a"
             ],
             [
              0.8888888888888888,
              "#fdca26"
             ],
             [
              1,
              "#f0f921"
             ]
            ],
            "type": "histogram2dcontour"
           }
          ],
          "mesh3d": [
           {
            "colorbar": {
             "outlinewidth": 0,
             "ticks": ""
            },
            "type": "mesh3d"
           }
          ],
          "parcoords": [
           {
            "line": {
             "colorbar": {
              "outlinewidth": 0,
              "ticks": ""
             }
            },
            "type": "parcoords"
           }
          ],
          "pie": [
           {
            "automargin": true,
            "type": "pie"
           }
          ],
          "scatter": [
           {
            "fillpattern": {
             "fillmode": "overlay",
             "size": 10,
             "solidity": 0.2
            },
            "type": "scatter"
           }
          ],
          "scatter3d": [
           {
            "line": {
             "colorbar": {
              "outlinewidth": 0,
              "ticks": ""
             }
            },
            "marker": {
             "colorbar": {
              "outlinewidth": 0,
              "ticks": ""
             }
            },
            "type": "scatter3d"
           }
          ],
          "scattercarpet": [
           {
            "marker": {
             "colorbar": {
              "outlinewidth": 0,
              "ticks": ""
             }
            },
            "type": "scattercarpet"
           }
          ],
          "scattergeo": [
           {
            "marker": {
             "colorbar": {
              "outlinewidth": 0,
              "ticks": ""
             }
            },
            "type": "scattergeo"
           }
          ],
          "scattergl": [
           {
            "marker": {
             "colorbar": {
              "outlinewidth": 0,
              "ticks": ""
             }
            },
            "type": "scattergl"
           }
          ],
          "scattermapbox": [
           {
            "marker": {
             "colorbar": {
              "outlinewidth": 0,
              "ticks": ""
             }
            },
            "type": "scattermapbox"
           }
          ],
          "scatterpolar": [
           {
            "marker": {
             "colorbar": {
              "outlinewidth": 0,
              "ticks": ""
             }
            },
            "type": "scatterpolar"
           }
          ],
          "scatterpolargl": [
           {
            "marker": {
             "colorbar": {
              "outlinewidth": 0,
              "ticks": ""
             }
            },
            "type": "scatterpolargl"
           }
          ],
          "scatterternary": [
           {
            "marker": {
             "colorbar": {
              "outlinewidth": 0,
              "ticks": ""
             }
            },
            "type": "scatterternary"
           }
          ],
          "surface": [
           {
            "colorbar": {
             "outlinewidth": 0,
             "ticks": ""
            },
            "colorscale": [
             [
              0,
              "#0d0887"
             ],
             [
              0.1111111111111111,
              "#46039f"
             ],
             [
              0.2222222222222222,
              "#7201a8"
             ],
             [
              0.3333333333333333,
              "#9c179e"
             ],
             [
              0.4444444444444444,
              "#bd3786"
             ],
             [
              0.5555555555555556,
              "#d8576b"
             ],
             [
              0.6666666666666666,
              "#ed7953"
             ],
             [
              0.7777777777777778,
              "#fb9f3a"
             ],
             [
              0.8888888888888888,
              "#fdca26"
             ],
             [
              1,
              "#f0f921"
             ]
            ],
            "type": "surface"
           }
          ],
          "table": [
           {
            "cells": {
             "fill": {
              "color": "#EBF0F8"
             },
             "line": {
              "color": "white"
             }
            },
            "header": {
             "fill": {
              "color": "#C8D4E3"
             },
             "line": {
              "color": "white"
             }
            },
            "type": "table"
           }
          ]
         },
         "layout": {
          "annotationdefaults": {
           "arrowcolor": "#2a3f5f",
           "arrowhead": 0,
           "arrowwidth": 1
          },
          "autotypenumbers": "strict",
          "coloraxis": {
           "colorbar": {
            "outlinewidth": 0,
            "ticks": ""
           }
          },
          "colorscale": {
           "diverging": [
            [
             0,
             "#8e0152"
            ],
            [
             0.1,
             "#c51b7d"
            ],
            [
             0.2,
             "#de77ae"
            ],
            [
             0.3,
             "#f1b6da"
            ],
            [
             0.4,
             "#fde0ef"
            ],
            [
             0.5,
             "#f7f7f7"
            ],
            [
             0.6,
             "#e6f5d0"
            ],
            [
             0.7,
             "#b8e186"
            ],
            [
             0.8,
             "#7fbc41"
            ],
            [
             0.9,
             "#4d9221"
            ],
            [
             1,
             "#276419"
            ]
           ],
           "sequential": [
            [
             0,
             "#0d0887"
            ],
            [
             0.1111111111111111,
             "#46039f"
            ],
            [
             0.2222222222222222,
             "#7201a8"
            ],
            [
             0.3333333333333333,
             "#9c179e"
            ],
            [
             0.4444444444444444,
             "#bd3786"
            ],
            [
             0.5555555555555556,
             "#d8576b"
            ],
            [
             0.6666666666666666,
             "#ed7953"
            ],
            [
             0.7777777777777778,
             "#fb9f3a"
            ],
            [
             0.8888888888888888,
             "#fdca26"
            ],
            [
             1,
             "#f0f921"
            ]
           ],
           "sequentialminus": [
            [
             0,
             "#0d0887"
            ],
            [
             0.1111111111111111,
             "#46039f"
            ],
            [
             0.2222222222222222,
             "#7201a8"
            ],
            [
             0.3333333333333333,
             "#9c179e"
            ],
            [
             0.4444444444444444,
             "#bd3786"
            ],
            [
             0.5555555555555556,
             "#d8576b"
            ],
            [
             0.6666666666666666,
             "#ed7953"
            ],
            [
             0.7777777777777778,
             "#fb9f3a"
            ],
            [
             0.8888888888888888,
             "#fdca26"
            ],
            [
             1,
             "#f0f921"
            ]
           ]
          },
          "colorway": [
           "#636efa",
           "#EF553B",
           "#00cc96",
           "#ab63fa",
           "#FFA15A",
           "#19d3f3",
           "#FF6692",
           "#B6E880",
           "#FF97FF",
           "#FECB52"
          ],
          "font": {
           "color": "#2a3f5f"
          },
          "geo": {
           "bgcolor": "white",
           "lakecolor": "white",
           "landcolor": "#E5ECF6",
           "showlakes": true,
           "showland": true,
           "subunitcolor": "white"
          },
          "hoverlabel": {
           "align": "left"
          },
          "hovermode": "closest",
          "mapbox": {
           "style": "light"
          },
          "paper_bgcolor": "white",
          "plot_bgcolor": "#E5ECF6",
          "polar": {
           "angularaxis": {
            "gridcolor": "white",
            "linecolor": "white",
            "ticks": ""
           },
           "bgcolor": "#E5ECF6",
           "radialaxis": {
            "gridcolor": "white",
            "linecolor": "white",
            "ticks": ""
           }
          },
          "scene": {
           "xaxis": {
            "backgroundcolor": "#E5ECF6",
            "gridcolor": "white",
            "gridwidth": 2,
            "linecolor": "white",
            "showbackground": true,
            "ticks": "",
            "zerolinecolor": "white"
           },
           "yaxis": {
            "backgroundcolor": "#E5ECF6",
            "gridcolor": "white",
            "gridwidth": 2,
            "linecolor": "white",
            "showbackground": true,
            "ticks": "",
            "zerolinecolor": "white"
           },
           "zaxis": {
            "backgroundcolor": "#E5ECF6",
            "gridcolor": "white",
            "gridwidth": 2,
            "linecolor": "white",
            "showbackground": true,
            "ticks": "",
            "zerolinecolor": "white"
           }
          },
          "shapedefaults": {
           "line": {
            "color": "#2a3f5f"
           }
          },
          "ternary": {
           "aaxis": {
            "gridcolor": "white",
            "linecolor": "white",
            "ticks": ""
           },
           "baxis": {
            "gridcolor": "white",
            "linecolor": "white",
            "ticks": ""
           },
           "bgcolor": "#E5ECF6",
           "caxis": {
            "gridcolor": "white",
            "linecolor": "white",
            "ticks": ""
           }
          },
          "title": {
           "x": 0.05
          },
          "xaxis": {
           "automargin": true,
           "gridcolor": "white",
           "linecolor": "white",
           "ticks": "",
           "title": {
            "standoff": 15
           },
           "zerolinecolor": "white",
           "zerolinewidth": 2
          },
          "yaxis": {
           "automargin": true,
           "gridcolor": "white",
           "linecolor": "white",
           "ticks": "",
           "title": {
            "standoff": 15
           },
           "zerolinecolor": "white",
           "zerolinewidth": 2
          }
         }
        },
        "xaxis": {
         "title": {
          "text": "$\\alpha$"
         }
        },
        "yaxis": {
         "title": {
          "text": "CV RMSE"
         }
        }
       }
      },
      "text/html": [
       "<div>                            <div id=\"e770be2d-1bad-4c22-bb34-a0e37c4a8891\" class=\"plotly-graph-div\" style=\"height:525px; width:100%;\"></div>            <script type=\"text/javascript\">                require([\"plotly\"], function(Plotly) {                    window.PLOTLYENV=window.PLOTLYENV || {};                                    if (document.getElementById(\"e770be2d-1bad-4c22-bb34-a0e37c4a8891\")) {                    Plotly.newPlot(                        \"e770be2d-1bad-4c22-bb34-a0e37c4a8891\",                        [{\"mode\":\"lines+markers\",\"name\":\"Train\",\"x\":[0.5,1.1724137931034484,1.8448275862068966,2.5172413793103448,3.189655172413793,3.8620689655172415,4.5344827586206895,5.206896551724138,5.879310344827586,6.551724137931035,7.224137931034483,7.8965517241379315,8.568965517241379,9.241379310344827,9.913793103448276,10.586206896551724,11.258620689655173,11.931034482758621,12.60344827586207,13.275862068965518,13.948275862068966,14.620689655172415,15.293103448275863,15.965517241379311,16.637931034482758,17.310344827586206,17.982758620689655,18.655172413793103,19.32758620689655,20.0],\"y\":[1.3649712944602321,1.614773086431105,1.7933943110013333,1.9283800372521704,2.0355192298377927,2.1237907887829617,2.1984174215604173,2.262888550769624,2.3195002506934452,2.369797457510891,2.414985133637191,2.455963745295732,2.4933361987809373,2.5276691205796813,2.559382741938256,2.5888242271781183,2.616254496600337,2.6419079603903004,2.665991270235635,2.6886623004948125,2.7100812309612756,2.730330954393904,2.7495377211764254,2.7677946686968076,2.785180275306523,2.801768595374798,2.8176226080744353,2.8327978339080375,2.8473402619853396,2.86130181146213],\"type\":\"scatter\"},{\"mode\":\"lines+markers\",\"name\":\"CV\",\"x\":[0.5,1.1724137931034484,1.8448275862068966,2.5172413793103448,3.189655172413793,3.8620689655172415,4.5344827586206895,5.206896551724138,5.879310344827586,6.551724137931035,7.224137931034483,7.8965517241379315,8.568965517241379,9.241379310344827,9.913793103448276,10.586206896551724,11.258620689655173,11.931034482758621,12.60344827586207,13.275862068965518,13.948275862068966,14.620689655172415,15.293103448275863,15.965517241379311,16.637931034482758,17.310344827586206,17.982758620689655,18.655172413793103,19.32758620689655,20.0],\"y\":[3.0253607676987047,2.946890506042984,2.9408907337101278,2.952012865701043,2.968441438847152,2.9861688435720195,3.004020472154045,3.021536977091772,3.0385873793730864,3.054530235418112,3.069731930763747,3.0841516491987093,3.097875904968501,3.1109512886412762,3.123408435122305,3.1352502021742596,3.146545163007618,3.157338373758236,3.16768941579964,3.177554850739858,3.1869866960688147,3.1961269057112305,3.204919127704648,3.213385570372234,3.2215516352090723,3.2294226460462014,3.2370303701515213,3.2443751258797633,3.2515078418880266,3.258390204083061],\"type\":\"scatter\"},{\"mode\":\"lines+markers\",\"name\":\"Test\",\"x\":[0.5,1.1724137931034484,1.8448275862068966,2.5172413793103448,3.189655172413793,3.8620689655172415,4.5344827586206895,5.206896551724138,5.879310344827586,6.551724137931035,7.224137931034483,7.8965517241379315,8.568965517241379,9.241379310344827,9.913793103448276,10.586206896551724,11.258620689655173,11.931034482758621,12.60344827586207,13.275862068965518,13.948275862068966,14.620689655172415,15.293103448275863,15.965517241379311,16.637931034482758,17.310344827586206,17.982758620689655,18.655172413793103,19.32758620689655,20.0],\"y\":[3.516717679669648,3.494145702896763,3.4715384386964905,3.4530846435731135,3.436921155032901,3.4235980285933856,3.4124977681935964,3.4033281814199925,3.395481797720373,3.3892091507576927,3.3839755032754084,3.37957277330586,3.3759693535360205,3.3730009046907226,3.370578250326481,3.368993459682411,3.3673871893598055,3.366150168151526,3.365236288999087,3.364603748601561,3.3636269651424247,3.3635405022162512,3.363633523869577,3.3638859920576376,3.364280595959472,3.364801780818524,3.365436029882436,3.3661715384536053,3.366997849764018,3.3679053083645303],\"type\":\"scatter\"}],                        {\"template\":{\"data\":{\"histogram2dcontour\":[{\"type\":\"histogram2dcontour\",\"colorbar\":{\"outlinewidth\":0,\"ticks\":\"\"},\"colorscale\":[[0.0,\"#0d0887\"],[0.1111111111111111,\"#46039f\"],[0.2222222222222222,\"#7201a8\"],[0.3333333333333333,\"#9c179e\"],[0.4444444444444444,\"#bd3786\"],[0.5555555555555556,\"#d8576b\"],[0.6666666666666666,\"#ed7953\"],[0.7777777777777778,\"#fb9f3a\"],[0.8888888888888888,\"#fdca26\"],[1.0,\"#f0f921\"]]}],\"choropleth\":[{\"type\":\"choropleth\",\"colorbar\":{\"outlinewidth\":0,\"ticks\":\"\"}}],\"histogram2d\":[{\"type\":\"histogram2d\",\"colorbar\":{\"outlinewidth\":0,\"ticks\":\"\"},\"colorscale\":[[0.0,\"#0d0887\"],[0.1111111111111111,\"#46039f\"],[0.2222222222222222,\"#7201a8\"],[0.3333333333333333,\"#9c179e\"],[0.4444444444444444,\"#bd3786\"],[0.5555555555555556,\"#d8576b\"],[0.6666666666666666,\"#ed7953\"],[0.7777777777777778,\"#fb9f3a\"],[0.8888888888888888,\"#fdca26\"],[1.0,\"#f0f921\"]]}],\"heatmap\":[{\"type\":\"heatmap\",\"colorbar\":{\"outlinewidth\":0,\"ticks\":\"\"},\"colorscale\":[[0.0,\"#0d0887\"],[0.1111111111111111,\"#46039f\"],[0.2222222222222222,\"#7201a8\"],[0.3333333333333333,\"#9c179e\"],[0.4444444444444444,\"#bd3786\"],[0.5555555555555556,\"#d8576b\"],[0.6666666666666666,\"#ed7953\"],[0.7777777777777778,\"#fb9f3a\"],[0.8888888888888888,\"#fdca26\"],[1.0,\"#f0f921\"]]}],\"heatmapgl\":[{\"type\":\"heatmapgl\",\"colorbar\":{\"outlinewidth\":0,\"ticks\":\"\"},\"colorscale\":[[0.0,\"#0d0887\"],[0.1111111111111111,\"#46039f\"],[0.2222222222222222,\"#7201a8\"],[0.3333333333333333,\"#9c179e\"],[0.4444444444444444,\"#bd3786\"],[0.5555555555555556,\"#d8576b\"],[0.6666666666666666,\"#ed7953\"],[0.7777777777777778,\"#fb9f3a\"],[0.8888888888888888,\"#fdca26\"],[1.0,\"#f0f921\"]]}],\"contourcarpet\":[{\"type\":\"contourcarpet\",\"colorbar\":{\"outlinewidth\":0,\"ticks\":\"\"}}],\"contour\":[{\"type\":\"contour\",\"colorbar\":{\"outlinewidth\":0,\"ticks\":\"\"},\"colorscale\":[[0.0,\"#0d0887\"],[0.1111111111111111,\"#46039f\"],[0.2222222222222222,\"#7201a8\"],[0.3333333333333333,\"#9c179e\"],[0.4444444444444444,\"#bd3786\"],[0.5555555555555556,\"#d8576b\"],[0.6666666666666666,\"#ed7953\"],[0.7777777777777778,\"#fb9f3a\"],[0.8888888888888888,\"#fdca26\"],[1.0,\"#f0f921\"]]}],\"surface\":[{\"type\":\"surface\",\"colorbar\":{\"outlinewidth\":0,\"ticks\":\"\"},\"colorscale\":[[0.0,\"#0d0887\"],[0.1111111111111111,\"#46039f\"],[0.2222222222222222,\"#7201a8\"],[0.3333333333333333,\"#9c179e\"],[0.4444444444444444,\"#bd3786\"],[0.5555555555555556,\"#d8576b\"],[0.6666666666666666,\"#ed7953\"],[0.7777777777777778,\"#fb9f3a\"],[0.8888888888888888,\"#fdca26\"],[1.0,\"#f0f921\"]]}],\"mesh3d\":[{\"type\":\"mesh3d\",\"colorbar\":{\"outlinewidth\":0,\"ticks\":\"\"}}],\"scatter\":[{\"fillpattern\":{\"fillmode\":\"overlay\",\"size\":10,\"solidity\":0.2},\"type\":\"scatter\"}],\"parcoords\":[{\"type\":\"parcoords\",\"line\":{\"colorbar\":{\"outlinewidth\":0,\"ticks\":\"\"}}}],\"scatterpolargl\":[{\"type\":\"scatterpolargl\",\"marker\":{\"colorbar\":{\"outlinewidth\":0,\"ticks\":\"\"}}}],\"bar\":[{\"error_x\":{\"color\":\"#2a3f5f\"},\"error_y\":{\"color\":\"#2a3f5f\"},\"marker\":{\"line\":{\"color\":\"#E5ECF6\",\"width\":0.5},\"pattern\":{\"fillmode\":\"overlay\",\"size\":10,\"solidity\":0.2}},\"type\":\"bar\"}],\"scattergeo\":[{\"type\":\"scattergeo\",\"marker\":{\"colorbar\":{\"outlinewidth\":0,\"ticks\":\"\"}}}],\"scatterpolar\":[{\"type\":\"scatterpolar\",\"marker\":{\"colorbar\":{\"outlinewidth\":0,\"ticks\":\"\"}}}],\"histogram\":[{\"marker\":{\"pattern\":{\"fillmode\":\"overlay\",\"size\":10,\"solidity\":0.2}},\"type\":\"histogram\"}],\"scattergl\":[{\"type\":\"scattergl\",\"marker\":{\"colorbar\":{\"outlinewidth\":0,\"ticks\":\"\"}}}],\"scatter3d\":[{\"type\":\"scatter3d\",\"line\":{\"colorbar\":{\"outlinewidth\":0,\"ticks\":\"\"}},\"marker\":{\"colorbar\":{\"outlinewidth\":0,\"ticks\":\"\"}}}],\"scattermapbox\":[{\"type\":\"scattermapbox\",\"marker\":{\"colorbar\":{\"outlinewidth\":0,\"ticks\":\"\"}}}],\"scatterternary\":[{\"type\":\"scatterternary\",\"marker\":{\"colorbar\":{\"outlinewidth\":0,\"ticks\":\"\"}}}],\"scattercarpet\":[{\"type\":\"scattercarpet\",\"marker\":{\"colorbar\":{\"outlinewidth\":0,\"ticks\":\"\"}}}],\"carpet\":[{\"aaxis\":{\"endlinecolor\":\"#2a3f5f\",\"gridcolor\":\"white\",\"linecolor\":\"white\",\"minorgridcolor\":\"white\",\"startlinecolor\":\"#2a3f5f\"},\"baxis\":{\"endlinecolor\":\"#2a3f5f\",\"gridcolor\":\"white\",\"linecolor\":\"white\",\"minorgridcolor\":\"white\",\"startlinecolor\":\"#2a3f5f\"},\"type\":\"carpet\"}],\"table\":[{\"cells\":{\"fill\":{\"color\":\"#EBF0F8\"},\"line\":{\"color\":\"white\"}},\"header\":{\"fill\":{\"color\":\"#C8D4E3\"},\"line\":{\"color\":\"white\"}},\"type\":\"table\"}],\"barpolar\":[{\"marker\":{\"line\":{\"color\":\"#E5ECF6\",\"width\":0.5},\"pattern\":{\"fillmode\":\"overlay\",\"size\":10,\"solidity\":0.2}},\"type\":\"barpolar\"}],\"pie\":[{\"automargin\":true,\"type\":\"pie\"}]},\"layout\":{\"autotypenumbers\":\"strict\",\"colorway\":[\"#636efa\",\"#EF553B\",\"#00cc96\",\"#ab63fa\",\"#FFA15A\",\"#19d3f3\",\"#FF6692\",\"#B6E880\",\"#FF97FF\",\"#FECB52\"],\"font\":{\"color\":\"#2a3f5f\"},\"hovermode\":\"closest\",\"hoverlabel\":{\"align\":\"left\"},\"paper_bgcolor\":\"white\",\"plot_bgcolor\":\"#E5ECF6\",\"polar\":{\"bgcolor\":\"#E5ECF6\",\"angularaxis\":{\"gridcolor\":\"white\",\"linecolor\":\"white\",\"ticks\":\"\"},\"radialaxis\":{\"gridcolor\":\"white\",\"linecolor\":\"white\",\"ticks\":\"\"}},\"ternary\":{\"bgcolor\":\"#E5ECF6\",\"aaxis\":{\"gridcolor\":\"white\",\"linecolor\":\"white\",\"ticks\":\"\"},\"baxis\":{\"gridcolor\":\"white\",\"linecolor\":\"white\",\"ticks\":\"\"},\"caxis\":{\"gridcolor\":\"white\",\"linecolor\":\"white\",\"ticks\":\"\"}},\"coloraxis\":{\"colorbar\":{\"outlinewidth\":0,\"ticks\":\"\"}},\"colorscale\":{\"sequential\":[[0.0,\"#0d0887\"],[0.1111111111111111,\"#46039f\"],[0.2222222222222222,\"#7201a8\"],[0.3333333333333333,\"#9c179e\"],[0.4444444444444444,\"#bd3786\"],[0.5555555555555556,\"#d8576b\"],[0.6666666666666666,\"#ed7953\"],[0.7777777777777778,\"#fb9f3a\"],[0.8888888888888888,\"#fdca26\"],[1.0,\"#f0f921\"]],\"sequentialminus\":[[0.0,\"#0d0887\"],[0.1111111111111111,\"#46039f\"],[0.2222222222222222,\"#7201a8\"],[0.3333333333333333,\"#9c179e\"],[0.4444444444444444,\"#bd3786\"],[0.5555555555555556,\"#d8576b\"],[0.6666666666666666,\"#ed7953\"],[0.7777777777777778,\"#fb9f3a\"],[0.8888888888888888,\"#fdca26\"],[1.0,\"#f0f921\"]],\"diverging\":[[0,\"#8e0152\"],[0.1,\"#c51b7d\"],[0.2,\"#de77ae\"],[0.3,\"#f1b6da\"],[0.4,\"#fde0ef\"],[0.5,\"#f7f7f7\"],[0.6,\"#e6f5d0\"],[0.7,\"#b8e186\"],[0.8,\"#7fbc41\"],[0.9,\"#4d9221\"],[1,\"#276419\"]]},\"xaxis\":{\"gridcolor\":\"white\",\"linecolor\":\"white\",\"ticks\":\"\",\"title\":{\"standoff\":15},\"zerolinecolor\":\"white\",\"automargin\":true,\"zerolinewidth\":2},\"yaxis\":{\"gridcolor\":\"white\",\"linecolor\":\"white\",\"ticks\":\"\",\"title\":{\"standoff\":15},\"zerolinecolor\":\"white\",\"automargin\":true,\"zerolinewidth\":2},\"scene\":{\"xaxis\":{\"backgroundcolor\":\"#E5ECF6\",\"gridcolor\":\"white\",\"linecolor\":\"white\",\"showbackground\":true,\"ticks\":\"\",\"zerolinecolor\":\"white\",\"gridwidth\":2},\"yaxis\":{\"backgroundcolor\":\"#E5ECF6\",\"gridcolor\":\"white\",\"linecolor\":\"white\",\"showbackground\":true,\"ticks\":\"\",\"zerolinecolor\":\"white\",\"gridwidth\":2},\"zaxis\":{\"backgroundcolor\":\"#E5ECF6\",\"gridcolor\":\"white\",\"linecolor\":\"white\",\"showbackground\":true,\"ticks\":\"\",\"zerolinecolor\":\"white\",\"gridwidth\":2}},\"shapedefaults\":{\"line\":{\"color\":\"#2a3f5f\"}},\"annotationdefaults\":{\"arrowcolor\":\"#2a3f5f\",\"arrowhead\":0,\"arrowwidth\":1},\"geo\":{\"bgcolor\":\"white\",\"landcolor\":\"#E5ECF6\",\"subunitcolor\":\"white\",\"showland\":true,\"showlakes\":true,\"lakecolor\":\"white\"},\"title\":{\"x\":0.05},\"mapbox\":{\"style\":\"light\"}}},\"xaxis\":{\"title\":{\"text\":\"$\\\\alpha$\"}},\"yaxis\":{\"title\":{\"text\":\"CV RMSE\"}}},                        {\"responsive\": true}                    ).then(function(){\n",
       "                            \n",
       "var gd = document.getElementById('e770be2d-1bad-4c22-bb34-a0e37c4a8891');\n",
       "var x = new MutationObserver(function (mutations, observer) {{\n",
       "        var display = window.getComputedStyle(gd).display;\n",
       "        if (!display || display === 'none') {{\n",
       "            console.log([gd, 'removed!']);\n",
       "            Plotly.purge(gd);\n",
       "            observer.disconnect();\n",
       "        }}\n",
       "}});\n",
       "\n",
       "// Listen for the removal of the full notebook cells\n",
       "var notebookContainer = gd.closest('#notebook-container');\n",
       "if (notebookContainer) {{\n",
       "    x.observe(notebookContainer, {childList: true});\n",
       "}}\n",
       "\n",
       "// Listen for the clearing of the current output cell\n",
       "var outputEl = gd.closest('.output');\n",
       "if (outputEl) {{\n",
       "    x.observe(outputEl, {childList: true});\n",
       "}}\n",
       "\n",
       "                        })                };                });            </script>        </div>"
      ]
     },
     "metadata": {},
     "output_type": "display_data"
    }
   ],
   "source": [
    "fig = go.Figure()\n",
    "fig.add_trace(go.Scatter(x = alphas, y = train_values, mode=\"lines+markers\", name=\"Train\"))\n",
    "fig.add_trace(go.Scatter(x = alphas, y = cv_values, mode=\"lines+markers\", name=\"CV\"))\n",
    "fig.add_trace(go.Scatter(x = alphas, y = test_values, mode=\"lines+markers\", name=\"Test\"))\n",
    "fig.update_layout(xaxis_title=r\"$\\alpha$\", yaxis_title=\"CV RMSE\")"
   ]
  },
  {
   "cell_type": "markdown",
   "metadata": {},
   "source": [
    "Adding the best model:"
   ]
  },
  {
   "cell_type": "code",
   "execution_count": 37,
   "metadata": {
    "tags": []
   },
   "outputs": [
    {
     "data": {
      "text/plain": [
       "[3.0253607676987047,\n",
       " 2.946890506042984,\n",
       " 2.9408907337101278,\n",
       " 2.952012865701043,\n",
       " 2.968441438847152,\n",
       " 2.9861688435720195,\n",
       " 3.004020472154045,\n",
       " 3.021536977091772,\n",
       " 3.0385873793730864,\n",
       " 3.054530235418112,\n",
       " 3.069731930763747,\n",
       " 3.0841516491987093,\n",
       " 3.097875904968501,\n",
       " 3.1109512886412762,\n",
       " 3.123408435122305,\n",
       " 3.1352502021742596,\n",
       " 3.146545163007618,\n",
       " 3.157338373758236,\n",
       " 3.16768941579964,\n",
       " 3.177554850739858,\n",
       " 3.1869866960688147,\n",
       " 3.1961269057112305,\n",
       " 3.204919127704648,\n",
       " 3.213385570372234,\n",
       " 3.2215516352090723,\n",
       " 3.2294226460462014,\n",
       " 3.2370303701515213,\n",
       " 3.2443751258797633,\n",
       " 3.2515078418880266,\n",
       " 3.258390204083061]"
      ]
     },
     "execution_count": 37,
     "metadata": {},
     "output_type": "execute_result"
    }
   ],
   "source": [
    "cv_values"
   ]
  },
  {
   "cell_type": "code",
   "execution_count": 38,
   "metadata": {
    "tags": []
   },
   "outputs": [
    {
     "data": {
      "text/plain": [
       "2"
      ]
     },
     "execution_count": 38,
     "metadata": {},
     "output_type": "execute_result"
    }
   ],
   "source": [
    "# this returns the index of the min value in the array\n",
    "np.argmin(cv_values)"
   ]
  },
  {
   "cell_type": "code",
   "execution_count": 39,
   "metadata": {
    "tags": []
   },
   "outputs": [
    {
     "data": {
      "text/plain": [
       "1.8448275862068966"
      ]
     },
     "execution_count": 39,
     "metadata": {},
     "output_type": "execute_result"
    }
   ],
   "source": [
    "# this is the alpha corresponding to the smallest CV value\n",
    "alphas[np.argmin(cv_values)]"
   ]
  },
  {
   "cell_type": "code",
   "execution_count": 40,
   "metadata": {
    "tags": []
   },
   "outputs": [
    {
     "data": {
      "text/plain": [
       "2.9408907337101278"
      ]
     },
     "execution_count": 40,
     "metadata": {},
     "output_type": "execute_result"
    }
   ],
   "source": [
    "# this is the smallest CV value \n",
    "cv_values[np.argmin(cv_values)]"
   ]
  },
  {
   "cell_type": "code",
   "execution_count": 41,
   "metadata": {},
   "outputs": [
    {
     "data": {
      "application/vnd.plotly.v1+json": {
       "config": {
        "plotlyServerURL": "https://plot.ly"
       },
       "data": [
        {
         "name": "Training RMSE",
         "type": "bar",
         "x": [
          "c",
          "c,d",
          "c,d,h",
          "c,d,h,w",
          "c,d,h,w,a",
          "c,d,h,w,a,m",
          "c,d,h,w,a,m,o",
          "c,d,h,w,a,m,o,n",
          "Ridge(alpha=0.5)",
          "RidgeN(alpha=0.5)",
          "RidgeN(alpha=10)",
          "RidgeN(alpha_best)"
         ],
         "y": [
          4.888109236813688,
          4.58757379901803,
          4.525395490245242,
          4.216877763288668,
          4.213763450275894,
          3.379999480925898,
          3.2488224012050075,
          1.1436227888226098,
          2.932671699585722,
          1.1395927398086765,
          2.563277247678354,
          1.7933943110013333
         ]
        },
        {
         "name": "CV RMSE",
         "type": "bar",
         "x": [
          "c",
          "c,d",
          "c,d,h",
          "c,d,h,w",
          "c,d,h,w,a",
          "c,d,h,w,a,m",
          "c,d,h,w,a,m,o",
          "c,d,h,w,a,m,o,n",
          "Ridge(alpha=0.5)",
          "RidgeN(alpha=0.5)",
          "RidgeN(alpha=10)",
          "RidgeN(alpha_best)"
         ],
         "y": [
          4.876661068256956,
          4.579060426624024,
          4.556808311664745,
          4.252718625749385,
          4.256844728700814,
          3.4557657065586773,
          3.3323381513276003,
          3.687635534487717,
          3.1648724810528024,
          3.628478349421298,
          3.124955650580545,
          2.9408907337101278
         ]
        },
        {
         "name": "Test RMSE",
         "opacity": 0.3,
         "type": "bar",
         "x": [
          "c",
          "c,d",
          "c,d,h",
          "c,d,h,w",
          "c,d,h,w,a",
          "c,d,h,w,a,m",
          "c,d,h,w,a,m,o",
          "c,d,h,w,a,m,o,n",
          "Ridge(alpha=0.5)",
          "RidgeN(alpha=0.5)",
          "RidgeN(alpha=10)",
          "RidgeN(alpha_best)"
         ],
         "y": [
          5.055013548375552,
          4.7661569898523695,
          4.5838617699808735,
          4.325847816131029,
          4.349888692769131,
          3.550828171640195,
          3.3746613014711664,
          3.5151677332671225,
          3.400380874370932,
          3.5344504739391254,
          3.3703031839052042,
          3.4715384386964905
         ]
        }
       ],
       "layout": {
        "template": {
         "data": {
          "bar": [
           {
            "error_x": {
             "color": "#2a3f5f"
            },
            "error_y": {
             "color": "#2a3f5f"
            },
            "marker": {
             "line": {
              "color": "#E5ECF6",
              "width": 0.5
             },
             "pattern": {
              "fillmode": "overlay",
              "size": 10,
              "solidity": 0.2
             }
            },
            "type": "bar"
           }
          ],
          "barpolar": [
           {
            "marker": {
             "line": {
              "color": "#E5ECF6",
              "width": 0.5
             },
             "pattern": {
              "fillmode": "overlay",
              "size": 10,
              "solidity": 0.2
             }
            },
            "type": "barpolar"
           }
          ],
          "carpet": [
           {
            "aaxis": {
             "endlinecolor": "#2a3f5f",
             "gridcolor": "white",
             "linecolor": "white",
             "minorgridcolor": "white",
             "startlinecolor": "#2a3f5f"
            },
            "baxis": {
             "endlinecolor": "#2a3f5f",
             "gridcolor": "white",
             "linecolor": "white",
             "minorgridcolor": "white",
             "startlinecolor": "#2a3f5f"
            },
            "type": "carpet"
           }
          ],
          "choropleth": [
           {
            "colorbar": {
             "outlinewidth": 0,
             "ticks": ""
            },
            "type": "choropleth"
           }
          ],
          "contour": [
           {
            "colorbar": {
             "outlinewidth": 0,
             "ticks": ""
            },
            "colorscale": [
             [
              0,
              "#0d0887"
             ],
             [
              0.1111111111111111,
              "#46039f"
             ],
             [
              0.2222222222222222,
              "#7201a8"
             ],
             [
              0.3333333333333333,
              "#9c179e"
             ],
             [
              0.4444444444444444,
              "#bd3786"
             ],
             [
              0.5555555555555556,
              "#d8576b"
             ],
             [
              0.6666666666666666,
              "#ed7953"
             ],
             [
              0.7777777777777778,
              "#fb9f3a"
             ],
             [
              0.8888888888888888,
              "#fdca26"
             ],
             [
              1,
              "#f0f921"
             ]
            ],
            "type": "contour"
           }
          ],
          "contourcarpet": [
           {
            "colorbar": {
             "outlinewidth": 0,
             "ticks": ""
            },
            "type": "contourcarpet"
           }
          ],
          "heatmap": [
           {
            "colorbar": {
             "outlinewidth": 0,
             "ticks": ""
            },
            "colorscale": [
             [
              0,
              "#0d0887"
             ],
             [
              0.1111111111111111,
              "#46039f"
             ],
             [
              0.2222222222222222,
              "#7201a8"
             ],
             [
              0.3333333333333333,
              "#9c179e"
             ],
             [
              0.4444444444444444,
              "#bd3786"
             ],
             [
              0.5555555555555556,
              "#d8576b"
             ],
             [
              0.6666666666666666,
              "#ed7953"
             ],
             [
              0.7777777777777778,
              "#fb9f3a"
             ],
             [
              0.8888888888888888,
              "#fdca26"
             ],
             [
              1,
              "#f0f921"
             ]
            ],
            "type": "heatmap"
           }
          ],
          "heatmapgl": [
           {
            "colorbar": {
             "outlinewidth": 0,
             "ticks": ""
            },
            "colorscale": [
             [
              0,
              "#0d0887"
             ],
             [
              0.1111111111111111,
              "#46039f"
             ],
             [
              0.2222222222222222,
              "#7201a8"
             ],
             [
              0.3333333333333333,
              "#9c179e"
             ],
             [
              0.4444444444444444,
              "#bd3786"
             ],
             [
              0.5555555555555556,
              "#d8576b"
             ],
             [
              0.6666666666666666,
              "#ed7953"
             ],
             [
              0.7777777777777778,
              "#fb9f3a"
             ],
             [
              0.8888888888888888,
              "#fdca26"
             ],
             [
              1,
              "#f0f921"
             ]
            ],
            "type": "heatmapgl"
           }
          ],
          "histogram": [
           {
            "marker": {
             "pattern": {
              "fillmode": "overlay",
              "size": 10,
              "solidity": 0.2
             }
            },
            "type": "histogram"
           }
          ],
          "histogram2d": [
           {
            "colorbar": {
             "outlinewidth": 0,
             "ticks": ""
            },
            "colorscale": [
             [
              0,
              "#0d0887"
             ],
             [
              0.1111111111111111,
              "#46039f"
             ],
             [
              0.2222222222222222,
              "#7201a8"
             ],
             [
              0.3333333333333333,
              "#9c179e"
             ],
             [
              0.4444444444444444,
              "#bd3786"
             ],
             [
              0.5555555555555556,
              "#d8576b"
             ],
             [
              0.6666666666666666,
              "#ed7953"
             ],
             [
              0.7777777777777778,
              "#fb9f3a"
             ],
             [
              0.8888888888888888,
              "#fdca26"
             ],
             [
              1,
              "#f0f921"
             ]
            ],
            "type": "histogram2d"
           }
          ],
          "histogram2dcontour": [
           {
            "colorbar": {
             "outlinewidth": 0,
             "ticks": ""
            },
            "colorscale": [
             [
              0,
              "#0d0887"
             ],
             [
              0.1111111111111111,
              "#46039f"
             ],
             [
              0.2222222222222222,
              "#7201a8"
             ],
             [
              0.3333333333333333,
              "#9c179e"
             ],
             [
              0.4444444444444444,
              "#bd3786"
             ],
             [
              0.5555555555555556,
              "#d8576b"
             ],
             [
              0.6666666666666666,
              "#ed7953"
             ],
             [
              0.7777777777777778,
              "#fb9f3a"
             ],
             [
              0.8888888888888888,
              "#fdca26"
             ],
             [
              1,
              "#f0f921"
             ]
            ],
            "type": "histogram2dcontour"
           }
          ],
          "mesh3d": [
           {
            "colorbar": {
             "outlinewidth": 0,
             "ticks": ""
            },
            "type": "mesh3d"
           }
          ],
          "parcoords": [
           {
            "line": {
             "colorbar": {
              "outlinewidth": 0,
              "ticks": ""
             }
            },
            "type": "parcoords"
           }
          ],
          "pie": [
           {
            "automargin": true,
            "type": "pie"
           }
          ],
          "scatter": [
           {
            "fillpattern": {
             "fillmode": "overlay",
             "size": 10,
             "solidity": 0.2
            },
            "type": "scatter"
           }
          ],
          "scatter3d": [
           {
            "line": {
             "colorbar": {
              "outlinewidth": 0,
              "ticks": ""
             }
            },
            "marker": {
             "colorbar": {
              "outlinewidth": 0,
              "ticks": ""
             }
            },
            "type": "scatter3d"
           }
          ],
          "scattercarpet": [
           {
            "marker": {
             "colorbar": {
              "outlinewidth": 0,
              "ticks": ""
             }
            },
            "type": "scattercarpet"
           }
          ],
          "scattergeo": [
           {
            "marker": {
             "colorbar": {
              "outlinewidth": 0,
              "ticks": ""
             }
            },
            "type": "scattergeo"
           }
          ],
          "scattergl": [
           {
            "marker": {
             "colorbar": {
              "outlinewidth": 0,
              "ticks": ""
             }
            },
            "type": "scattergl"
           }
          ],
          "scattermapbox": [
           {
            "marker": {
             "colorbar": {
              "outlinewidth": 0,
              "ticks": ""
             }
            },
            "type": "scattermapbox"
           }
          ],
          "scatterpolar": [
           {
            "marker": {
             "colorbar": {
              "outlinewidth": 0,
              "ticks": ""
             }
            },
            "type": "scatterpolar"
           }
          ],
          "scatterpolargl": [
           {
            "marker": {
             "colorbar": {
              "outlinewidth": 0,
              "ticks": ""
             }
            },
            "type": "scatterpolargl"
           }
          ],
          "scatterternary": [
           {
            "marker": {
             "colorbar": {
              "outlinewidth": 0,
              "ticks": ""
             }
            },
            "type": "scatterternary"
           }
          ],
          "surface": [
           {
            "colorbar": {
             "outlinewidth": 0,
             "ticks": ""
            },
            "colorscale": [
             [
              0,
              "#0d0887"
             ],
             [
              0.1111111111111111,
              "#46039f"
             ],
             [
              0.2222222222222222,
              "#7201a8"
             ],
             [
              0.3333333333333333,
              "#9c179e"
             ],
             [
              0.4444444444444444,
              "#bd3786"
             ],
             [
              0.5555555555555556,
              "#d8576b"
             ],
             [
              0.6666666666666666,
              "#ed7953"
             ],
             [
              0.7777777777777778,
              "#fb9f3a"
             ],
             [
              0.8888888888888888,
              "#fdca26"
             ],
             [
              1,
              "#f0f921"
             ]
            ],
            "type": "surface"
           }
          ],
          "table": [
           {
            "cells": {
             "fill": {
              "color": "#EBF0F8"
             },
             "line": {
              "color": "white"
             }
            },
            "header": {
             "fill": {
              "color": "#C8D4E3"
             },
             "line": {
              "color": "white"
             }
            },
            "type": "table"
           }
          ]
         },
         "layout": {
          "annotationdefaults": {
           "arrowcolor": "#2a3f5f",
           "arrowhead": 0,
           "arrowwidth": 1
          },
          "autotypenumbers": "strict",
          "coloraxis": {
           "colorbar": {
            "outlinewidth": 0,
            "ticks": ""
           }
          },
          "colorscale": {
           "diverging": [
            [
             0,
             "#8e0152"
            ],
            [
             0.1,
             "#c51b7d"
            ],
            [
             0.2,
             "#de77ae"
            ],
            [
             0.3,
             "#f1b6da"
            ],
            [
             0.4,
             "#fde0ef"
            ],
            [
             0.5,
             "#f7f7f7"
            ],
            [
             0.6,
             "#e6f5d0"
            ],
            [
             0.7,
             "#b8e186"
            ],
            [
             0.8,
             "#7fbc41"
            ],
            [
             0.9,
             "#4d9221"
            ],
            [
             1,
             "#276419"
            ]
           ],
           "sequential": [
            [
             0,
             "#0d0887"
            ],
            [
             0.1111111111111111,
             "#46039f"
            ],
            [
             0.2222222222222222,
             "#7201a8"
            ],
            [
             0.3333333333333333,
             "#9c179e"
            ],
            [
             0.4444444444444444,
             "#bd3786"
            ],
            [
             0.5555555555555556,
             "#d8576b"
            ],
            [
             0.6666666666666666,
             "#ed7953"
            ],
            [
             0.7777777777777778,
             "#fb9f3a"
            ],
            [
             0.8888888888888888,
             "#fdca26"
            ],
            [
             1,
             "#f0f921"
            ]
           ],
           "sequentialminus": [
            [
             0,
             "#0d0887"
            ],
            [
             0.1111111111111111,
             "#46039f"
            ],
            [
             0.2222222222222222,
             "#7201a8"
            ],
            [
             0.3333333333333333,
             "#9c179e"
            ],
            [
             0.4444444444444444,
             "#bd3786"
            ],
            [
             0.5555555555555556,
             "#d8576b"
            ],
            [
             0.6666666666666666,
             "#ed7953"
            ],
            [
             0.7777777777777778,
             "#fb9f3a"
            ],
            [
             0.8888888888888888,
             "#fdca26"
            ],
            [
             1,
             "#f0f921"
            ]
           ]
          },
          "colorway": [
           "#636efa",
           "#EF553B",
           "#00cc96",
           "#ab63fa",
           "#FFA15A",
           "#19d3f3",
           "#FF6692",
           "#B6E880",
           "#FF97FF",
           "#FECB52"
          ],
          "font": {
           "color": "#2a3f5f"
          },
          "geo": {
           "bgcolor": "white",
           "lakecolor": "white",
           "landcolor": "#E5ECF6",
           "showlakes": true,
           "showland": true,
           "subunitcolor": "white"
          },
          "hoverlabel": {
           "align": "left"
          },
          "hovermode": "closest",
          "mapbox": {
           "style": "light"
          },
          "paper_bgcolor": "white",
          "plot_bgcolor": "#E5ECF6",
          "polar": {
           "angularaxis": {
            "gridcolor": "white",
            "linecolor": "white",
            "ticks": ""
           },
           "bgcolor": "#E5ECF6",
           "radialaxis": {
            "gridcolor": "white",
            "linecolor": "white",
            "ticks": ""
           }
          },
          "scene": {
           "xaxis": {
            "backgroundcolor": "#E5ECF6",
            "gridcolor": "white",
            "gridwidth": 2,
            "linecolor": "white",
            "showbackground": true,
            "ticks": "",
            "zerolinecolor": "white"
           },
           "yaxis": {
            "backgroundcolor": "#E5ECF6",
            "gridcolor": "white",
            "gridwidth": 2,
            "linecolor": "white",
            "showbackground": true,
            "ticks": "",
            "zerolinecolor": "white"
           },
           "zaxis": {
            "backgroundcolor": "#E5ECF6",
            "gridcolor": "white",
            "gridwidth": 2,
            "linecolor": "white",
            "showbackground": true,
            "ticks": "",
            "zerolinecolor": "white"
           }
          },
          "shapedefaults": {
           "line": {
            "color": "#2a3f5f"
           }
          },
          "ternary": {
           "aaxis": {
            "gridcolor": "white",
            "linecolor": "white",
            "ticks": ""
           },
           "baxis": {
            "gridcolor": "white",
            "linecolor": "white",
            "ticks": ""
           },
           "bgcolor": "#E5ECF6",
           "caxis": {
            "gridcolor": "white",
            "linecolor": "white",
            "ticks": ""
           }
          },
          "title": {
           "x": 0.05
          },
          "xaxis": {
           "automargin": true,
           "gridcolor": "white",
           "linecolor": "white",
           "ticks": "",
           "title": {
            "standoff": 15
           },
           "zerolinecolor": "white",
           "zerolinewidth": 2
          },
          "yaxis": {
           "automargin": true,
           "gridcolor": "white",
           "linecolor": "white",
           "ticks": "",
           "title": {
            "standoff": 15
           },
           "zerolinecolor": "white",
           "zerolinewidth": 2
          }
         }
        },
        "yaxis": {
         "title": {
          "text": "RMSE"
         }
        }
       }
      },
      "text/html": [
       "<div>                            <div id=\"bae78e07-77e2-4f9e-951e-ac1435175083\" class=\"plotly-graph-div\" style=\"height:525px; width:100%;\"></div>            <script type=\"text/javascript\">                require([\"plotly\"], function(Plotly) {                    window.PLOTLYENV=window.PLOTLYENV || {};                                    if (document.getElementById(\"bae78e07-77e2-4f9e-951e-ac1435175083\")) {                    Plotly.newPlot(                        \"bae78e07-77e2-4f9e-951e-ac1435175083\",                        [{\"name\":\"Training RMSE\",\"x\":[\"c\",\"c,d\",\"c,d,h\",\"c,d,h,w\",\"c,d,h,w,a\",\"c,d,h,w,a,m\",\"c,d,h,w,a,m,o\",\"c,d,h,w,a,m,o,n\",\"Ridge(alpha=0.5)\",\"RidgeN(alpha=0.5)\",\"RidgeN(alpha=10)\",\"RidgeN(alpha_best)\"],\"y\":[4.888109236813688,4.58757379901803,4.525395490245242,4.216877763288668,4.213763450275894,3.379999480925898,3.2488224012050075,1.1436227888226098,2.932671699585722,1.1395927398086765,2.563277247678354,1.7933943110013333],\"type\":\"bar\"},{\"name\":\"CV RMSE\",\"x\":[\"c\",\"c,d\",\"c,d,h\",\"c,d,h,w\",\"c,d,h,w,a\",\"c,d,h,w,a,m\",\"c,d,h,w,a,m,o\",\"c,d,h,w,a,m,o,n\",\"Ridge(alpha=0.5)\",\"RidgeN(alpha=0.5)\",\"RidgeN(alpha=10)\",\"RidgeN(alpha_best)\"],\"y\":[4.876661068256956,4.579060426624024,4.556808311664745,4.252718625749385,4.256844728700814,3.4557657065586773,3.3323381513276003,3.687635534487717,3.1648724810528024,3.628478349421298,3.124955650580545,2.9408907337101278],\"type\":\"bar\"},{\"name\":\"Test RMSE\",\"opacity\":0.3,\"x\":[\"c\",\"c,d\",\"c,d,h\",\"c,d,h,w\",\"c,d,h,w,a\",\"c,d,h,w,a,m\",\"c,d,h,w,a,m,o\",\"c,d,h,w,a,m,o,n\",\"Ridge(alpha=0.5)\",\"RidgeN(alpha=0.5)\",\"RidgeN(alpha=10)\",\"RidgeN(alpha_best)\"],\"y\":[5.055013548375552,4.7661569898523695,4.5838617699808735,4.325847816131029,4.349888692769131,3.550828171640195,3.3746613014711664,3.5151677332671225,3.400380874370932,3.5344504739391254,3.3703031839052042,3.4715384386964905],\"type\":\"bar\"}],                        {\"template\":{\"data\":{\"histogram2dcontour\":[{\"type\":\"histogram2dcontour\",\"colorbar\":{\"outlinewidth\":0,\"ticks\":\"\"},\"colorscale\":[[0.0,\"#0d0887\"],[0.1111111111111111,\"#46039f\"],[0.2222222222222222,\"#7201a8\"],[0.3333333333333333,\"#9c179e\"],[0.4444444444444444,\"#bd3786\"],[0.5555555555555556,\"#d8576b\"],[0.6666666666666666,\"#ed7953\"],[0.7777777777777778,\"#fb9f3a\"],[0.8888888888888888,\"#fdca26\"],[1.0,\"#f0f921\"]]}],\"choropleth\":[{\"type\":\"choropleth\",\"colorbar\":{\"outlinewidth\":0,\"ticks\":\"\"}}],\"histogram2d\":[{\"type\":\"histogram2d\",\"colorbar\":{\"outlinewidth\":0,\"ticks\":\"\"},\"colorscale\":[[0.0,\"#0d0887\"],[0.1111111111111111,\"#46039f\"],[0.2222222222222222,\"#7201a8\"],[0.3333333333333333,\"#9c179e\"],[0.4444444444444444,\"#bd3786\"],[0.5555555555555556,\"#d8576b\"],[0.6666666666666666,\"#ed7953\"],[0.7777777777777778,\"#fb9f3a\"],[0.8888888888888888,\"#fdca26\"],[1.0,\"#f0f921\"]]}],\"heatmap\":[{\"type\":\"heatmap\",\"colorbar\":{\"outlinewidth\":0,\"ticks\":\"\"},\"colorscale\":[[0.0,\"#0d0887\"],[0.1111111111111111,\"#46039f\"],[0.2222222222222222,\"#7201a8\"],[0.3333333333333333,\"#9c179e\"],[0.4444444444444444,\"#bd3786\"],[0.5555555555555556,\"#d8576b\"],[0.6666666666666666,\"#ed7953\"],[0.7777777777777778,\"#fb9f3a\"],[0.8888888888888888,\"#fdca26\"],[1.0,\"#f0f921\"]]}],\"heatmapgl\":[{\"type\":\"heatmapgl\",\"colorbar\":{\"outlinewidth\":0,\"ticks\":\"\"},\"colorscale\":[[0.0,\"#0d0887\"],[0.1111111111111111,\"#46039f\"],[0.2222222222222222,\"#7201a8\"],[0.3333333333333333,\"#9c179e\"],[0.4444444444444444,\"#bd3786\"],[0.5555555555555556,\"#d8576b\"],[0.6666666666666666,\"#ed7953\"],[0.7777777777777778,\"#fb9f3a\"],[0.8888888888888888,\"#fdca26\"],[1.0,\"#f0f921\"]]}],\"contourcarpet\":[{\"type\":\"contourcarpet\",\"colorbar\":{\"outlinewidth\":0,\"ticks\":\"\"}}],\"contour\":[{\"type\":\"contour\",\"colorbar\":{\"outlinewidth\":0,\"ticks\":\"\"},\"colorscale\":[[0.0,\"#0d0887\"],[0.1111111111111111,\"#46039f\"],[0.2222222222222222,\"#7201a8\"],[0.3333333333333333,\"#9c179e\"],[0.4444444444444444,\"#bd3786\"],[0.5555555555555556,\"#d8576b\"],[0.6666666666666666,\"#ed7953\"],[0.7777777777777778,\"#fb9f3a\"],[0.8888888888888888,\"#fdca26\"],[1.0,\"#f0f921\"]]}],\"surface\":[{\"type\":\"surface\",\"colorbar\":{\"outlinewidth\":0,\"ticks\":\"\"},\"colorscale\":[[0.0,\"#0d0887\"],[0.1111111111111111,\"#46039f\"],[0.2222222222222222,\"#7201a8\"],[0.3333333333333333,\"#9c179e\"],[0.4444444444444444,\"#bd3786\"],[0.5555555555555556,\"#d8576b\"],[0.6666666666666666,\"#ed7953\"],[0.7777777777777778,\"#fb9f3a\"],[0.8888888888888888,\"#fdca26\"],[1.0,\"#f0f921\"]]}],\"mesh3d\":[{\"type\":\"mesh3d\",\"colorbar\":{\"outlinewidth\":0,\"ticks\":\"\"}}],\"scatter\":[{\"fillpattern\":{\"fillmode\":\"overlay\",\"size\":10,\"solidity\":0.2},\"type\":\"scatter\"}],\"parcoords\":[{\"type\":\"parcoords\",\"line\":{\"colorbar\":{\"outlinewidth\":0,\"ticks\":\"\"}}}],\"scatterpolargl\":[{\"type\":\"scatterpolargl\",\"marker\":{\"colorbar\":{\"outlinewidth\":0,\"ticks\":\"\"}}}],\"bar\":[{\"error_x\":{\"color\":\"#2a3f5f\"},\"error_y\":{\"color\":\"#2a3f5f\"},\"marker\":{\"line\":{\"color\":\"#E5ECF6\",\"width\":0.5},\"pattern\":{\"fillmode\":\"overlay\",\"size\":10,\"solidity\":0.2}},\"type\":\"bar\"}],\"scattergeo\":[{\"type\":\"scattergeo\",\"marker\":{\"colorbar\":{\"outlinewidth\":0,\"ticks\":\"\"}}}],\"scatterpolar\":[{\"type\":\"scatterpolar\",\"marker\":{\"colorbar\":{\"outlinewidth\":0,\"ticks\":\"\"}}}],\"histogram\":[{\"marker\":{\"pattern\":{\"fillmode\":\"overlay\",\"size\":10,\"solidity\":0.2}},\"type\":\"histogram\"}],\"scattergl\":[{\"type\":\"scattergl\",\"marker\":{\"colorbar\":{\"outlinewidth\":0,\"ticks\":\"\"}}}],\"scatter3d\":[{\"type\":\"scatter3d\",\"line\":{\"colorbar\":{\"outlinewidth\":0,\"ticks\":\"\"}},\"marker\":{\"colorbar\":{\"outlinewidth\":0,\"ticks\":\"\"}}}],\"scattermapbox\":[{\"type\":\"scattermapbox\",\"marker\":{\"colorbar\":{\"outlinewidth\":0,\"ticks\":\"\"}}}],\"scatterternary\":[{\"type\":\"scatterternary\",\"marker\":{\"colorbar\":{\"outlinewidth\":0,\"ticks\":\"\"}}}],\"scattercarpet\":[{\"type\":\"scattercarpet\",\"marker\":{\"colorbar\":{\"outlinewidth\":0,\"ticks\":\"\"}}}],\"carpet\":[{\"aaxis\":{\"endlinecolor\":\"#2a3f5f\",\"gridcolor\":\"white\",\"linecolor\":\"white\",\"minorgridcolor\":\"white\",\"startlinecolor\":\"#2a3f5f\"},\"baxis\":{\"endlinecolor\":\"#2a3f5f\",\"gridcolor\":\"white\",\"linecolor\":\"white\",\"minorgridcolor\":\"white\",\"startlinecolor\":\"#2a3f5f\"},\"type\":\"carpet\"}],\"table\":[{\"cells\":{\"fill\":{\"color\":\"#EBF0F8\"},\"line\":{\"color\":\"white\"}},\"header\":{\"fill\":{\"color\":\"#C8D4E3\"},\"line\":{\"color\":\"white\"}},\"type\":\"table\"}],\"barpolar\":[{\"marker\":{\"line\":{\"color\":\"#E5ECF6\",\"width\":0.5},\"pattern\":{\"fillmode\":\"overlay\",\"size\":10,\"solidity\":0.2}},\"type\":\"barpolar\"}],\"pie\":[{\"automargin\":true,\"type\":\"pie\"}]},\"layout\":{\"autotypenumbers\":\"strict\",\"colorway\":[\"#636efa\",\"#EF553B\",\"#00cc96\",\"#ab63fa\",\"#FFA15A\",\"#19d3f3\",\"#FF6692\",\"#B6E880\",\"#FF97FF\",\"#FECB52\"],\"font\":{\"color\":\"#2a3f5f\"},\"hovermode\":\"closest\",\"hoverlabel\":{\"align\":\"left\"},\"paper_bgcolor\":\"white\",\"plot_bgcolor\":\"#E5ECF6\",\"polar\":{\"bgcolor\":\"#E5ECF6\",\"angularaxis\":{\"gridcolor\":\"white\",\"linecolor\":\"white\",\"ticks\":\"\"},\"radialaxis\":{\"gridcolor\":\"white\",\"linecolor\":\"white\",\"ticks\":\"\"}},\"ternary\":{\"bgcolor\":\"#E5ECF6\",\"aaxis\":{\"gridcolor\":\"white\",\"linecolor\":\"white\",\"ticks\":\"\"},\"baxis\":{\"gridcolor\":\"white\",\"linecolor\":\"white\",\"ticks\":\"\"},\"caxis\":{\"gridcolor\":\"white\",\"linecolor\":\"white\",\"ticks\":\"\"}},\"coloraxis\":{\"colorbar\":{\"outlinewidth\":0,\"ticks\":\"\"}},\"colorscale\":{\"sequential\":[[0.0,\"#0d0887\"],[0.1111111111111111,\"#46039f\"],[0.2222222222222222,\"#7201a8\"],[0.3333333333333333,\"#9c179e\"],[0.4444444444444444,\"#bd3786\"],[0.5555555555555556,\"#d8576b\"],[0.6666666666666666,\"#ed7953\"],[0.7777777777777778,\"#fb9f3a\"],[0.8888888888888888,\"#fdca26\"],[1.0,\"#f0f921\"]],\"sequentialminus\":[[0.0,\"#0d0887\"],[0.1111111111111111,\"#46039f\"],[0.2222222222222222,\"#7201a8\"],[0.3333333333333333,\"#9c179e\"],[0.4444444444444444,\"#bd3786\"],[0.5555555555555556,\"#d8576b\"],[0.6666666666666666,\"#ed7953\"],[0.7777777777777778,\"#fb9f3a\"],[0.8888888888888888,\"#fdca26\"],[1.0,\"#f0f921\"]],\"diverging\":[[0,\"#8e0152\"],[0.1,\"#c51b7d\"],[0.2,\"#de77ae\"],[0.3,\"#f1b6da\"],[0.4,\"#fde0ef\"],[0.5,\"#f7f7f7\"],[0.6,\"#e6f5d0\"],[0.7,\"#b8e186\"],[0.8,\"#7fbc41\"],[0.9,\"#4d9221\"],[1,\"#276419\"]]},\"xaxis\":{\"gridcolor\":\"white\",\"linecolor\":\"white\",\"ticks\":\"\",\"title\":{\"standoff\":15},\"zerolinecolor\":\"white\",\"automargin\":true,\"zerolinewidth\":2},\"yaxis\":{\"gridcolor\":\"white\",\"linecolor\":\"white\",\"ticks\":\"\",\"title\":{\"standoff\":15},\"zerolinecolor\":\"white\",\"automargin\":true,\"zerolinewidth\":2},\"scene\":{\"xaxis\":{\"backgroundcolor\":\"#E5ECF6\",\"gridcolor\":\"white\",\"linecolor\":\"white\",\"showbackground\":true,\"ticks\":\"\",\"zerolinecolor\":\"white\",\"gridwidth\":2},\"yaxis\":{\"backgroundcolor\":\"#E5ECF6\",\"gridcolor\":\"white\",\"linecolor\":\"white\",\"showbackground\":true,\"ticks\":\"\",\"zerolinecolor\":\"white\",\"gridwidth\":2},\"zaxis\":{\"backgroundcolor\":\"#E5ECF6\",\"gridcolor\":\"white\",\"linecolor\":\"white\",\"showbackground\":true,\"ticks\":\"\",\"zerolinecolor\":\"white\",\"gridwidth\":2}},\"shapedefaults\":{\"line\":{\"color\":\"#2a3f5f\"}},\"annotationdefaults\":{\"arrowcolor\":\"#2a3f5f\",\"arrowhead\":0,\"arrowwidth\":1},\"geo\":{\"bgcolor\":\"white\",\"landcolor\":\"#E5ECF6\",\"subunitcolor\":\"white\",\"showland\":true,\"showlakes\":true,\"lakecolor\":\"white\"},\"title\":{\"x\":0.05},\"mapbox\":{\"style\":\"light\"}}},\"yaxis\":{\"title\":{\"text\":\"RMSE\"}}},                        {\"responsive\": true}                    ).then(function(){\n",
       "                            \n",
       "var gd = document.getElementById('bae78e07-77e2-4f9e-951e-ac1435175083');\n",
       "var x = new MutationObserver(function (mutations, observer) {{\n",
       "        var display = window.getComputedStyle(gd).display;\n",
       "        if (!display || display === 'none') {{\n",
       "            console.log([gd, 'removed!']);\n",
       "            Plotly.purge(gd);\n",
       "            observer.disconnect();\n",
       "        }}\n",
       "}});\n",
       "\n",
       "// Listen for the removal of the full notebook cells\n",
       "var notebookContainer = gd.closest('#notebook-container');\n",
       "if (notebookContainer) {{\n",
       "    x.observe(notebookContainer, {childList: true});\n",
       "}}\n",
       "\n",
       "// Listen for the clearing of the current output cell\n",
       "var outputEl = gd.closest('.output');\n",
       "if (outputEl) {{\n",
       "    x.observe(outputEl, {childList: true});\n",
       "}}\n",
       "\n",
       "                        })                };                });            </script>        </div>"
      ]
     },
     "metadata": {},
     "output_type": "display_data"
    }
   ],
   "source": [
    "best_alpha = alphas[np.argmin(cv_values)]\n",
    "ridge_model.set_params(LinearModel__alpha=best_alpha)\n",
    "ridge_model.fit(tr, tr['mpg'])\n",
    "models[\"RidgeN(alpha_best)\"] = ridge_model\n",
    "compare_models(models)"
   ]
  },
  {
   "cell_type": "markdown",
   "metadata": {},
   "source": [
    "We didn't have to do all of that work -- but now you know what is going on. SKLearn has a Ridge Regression class with built-in cross validation"
   ]
  },
  {
   "cell_type": "code",
   "execution_count": 42,
   "metadata": {},
   "outputs": [],
   "source": [
    "from sklearn.linear_model import RidgeCV"
   ]
  },
  {
   "cell_type": "code",
   "execution_count": 43,
   "metadata": {},
   "outputs": [],
   "source": [
    "alphas = np.linspace(0.5, 3, 30)\n",
    "\n",
    "ridge_model = Pipeline([\n",
    "    (\"SelectColumns\", ColumnTransformer([\n",
    "        (\"keep\", StandardScaler(), quantitative_features),\n",
    "        (\"origin_encoder\", OneHotEncoder(), [\"origin\"]),\n",
    "        (\"text\", CountVectorizer(), \"name\")\n",
    "    ])),\n",
    "    (\"Imputation\", SimpleImputer()),\n",
    "    (\"LinearModel\", RidgeCV(alphas=alphas))\n",
    "])"
   ]
  },
  {
   "cell_type": "code",
   "execution_count": 44,
   "metadata": {},
   "outputs": [
    {
     "data": {
      "application/vnd.plotly.v1+json": {
       "config": {
        "plotlyServerURL": "https://plot.ly"
       },
       "data": [
        {
         "name": "Training RMSE",
         "type": "bar",
         "x": [
          "c",
          "c,d",
          "c,d,h",
          "c,d,h,w",
          "c,d,h,w,a",
          "c,d,h,w,a,m",
          "c,d,h,w,a,m,o",
          "c,d,h,w,a,m,o,n",
          "Ridge(alpha=0.5)",
          "RidgeN(alpha=0.5)",
          "RidgeN(alpha=10)",
          "RidgeN(alpha_best)",
          "RidgeCV"
         ],
         "y": [
          4.888109236813688,
          4.58757379901803,
          4.525395490245242,
          4.216877763288668,
          4.213763450275894,
          3.379999480925898,
          3.2488224012050075,
          1.1436227888226098,
          2.932671699585722,
          1.1395927398086765,
          2.563277247678354,
          1.7933943110013333,
          1.7609475467567646
         ]
        },
        {
         "name": "CV RMSE",
         "type": "bar",
         "x": [
          "c",
          "c,d",
          "c,d,h",
          "c,d,h,w",
          "c,d,h,w,a",
          "c,d,h,w,a,m",
          "c,d,h,w,a,m,o",
          "c,d,h,w,a,m,o,n",
          "Ridge(alpha=0.5)",
          "RidgeN(alpha=0.5)",
          "RidgeN(alpha=10)",
          "RidgeN(alpha_best)",
          "RidgeCV"
         ],
         "y": [
          4.876661068256956,
          4.579060426624024,
          4.556808311664745,
          4.252718625749385,
          4.256844728700814,
          3.4557657065586773,
          3.3323381513276003,
          3.687635534487717,
          3.1648724810528024,
          3.628478349421298,
          3.124955650580545,
          2.9408907337101278,
          2.9630429994262735
         ]
        },
        {
         "name": "Test RMSE",
         "opacity": 0.3,
         "type": "bar",
         "x": [
          "c",
          "c,d",
          "c,d,h",
          "c,d,h,w",
          "c,d,h,w,a",
          "c,d,h,w,a,m",
          "c,d,h,w,a,m,o",
          "c,d,h,w,a,m,o,n",
          "Ridge(alpha=0.5)",
          "RidgeN(alpha=0.5)",
          "RidgeN(alpha=10)",
          "RidgeN(alpha_best)",
          "RidgeCV"
         ],
         "y": [
          5.055013548375552,
          4.7661569898523695,
          4.5838617699808735,
          4.325847816131029,
          4.349888692769131,
          3.550828171640195,
          3.3746613014711664,
          3.5151677332671225,
          3.400380874370932,
          3.5344504739391254,
          3.3703031839052042,
          3.4715384386964905,
          3.4751204469162635
         ]
        }
       ],
       "layout": {
        "template": {
         "data": {
          "bar": [
           {
            "error_x": {
             "color": "#2a3f5f"
            },
            "error_y": {
             "color": "#2a3f5f"
            },
            "marker": {
             "line": {
              "color": "#E5ECF6",
              "width": 0.5
             },
             "pattern": {
              "fillmode": "overlay",
              "size": 10,
              "solidity": 0.2
             }
            },
            "type": "bar"
           }
          ],
          "barpolar": [
           {
            "marker": {
             "line": {
              "color": "#E5ECF6",
              "width": 0.5
             },
             "pattern": {
              "fillmode": "overlay",
              "size": 10,
              "solidity": 0.2
             }
            },
            "type": "barpolar"
           }
          ],
          "carpet": [
           {
            "aaxis": {
             "endlinecolor": "#2a3f5f",
             "gridcolor": "white",
             "linecolor": "white",
             "minorgridcolor": "white",
             "startlinecolor": "#2a3f5f"
            },
            "baxis": {
             "endlinecolor": "#2a3f5f",
             "gridcolor": "white",
             "linecolor": "white",
             "minorgridcolor": "white",
             "startlinecolor": "#2a3f5f"
            },
            "type": "carpet"
           }
          ],
          "choropleth": [
           {
            "colorbar": {
             "outlinewidth": 0,
             "ticks": ""
            },
            "type": "choropleth"
           }
          ],
          "contour": [
           {
            "colorbar": {
             "outlinewidth": 0,
             "ticks": ""
            },
            "colorscale": [
             [
              0,
              "#0d0887"
             ],
             [
              0.1111111111111111,
              "#46039f"
             ],
             [
              0.2222222222222222,
              "#7201a8"
             ],
             [
              0.3333333333333333,
              "#9c179e"
             ],
             [
              0.4444444444444444,
              "#bd3786"
             ],
             [
              0.5555555555555556,
              "#d8576b"
             ],
             [
              0.6666666666666666,
              "#ed7953"
             ],
             [
              0.7777777777777778,
              "#fb9f3a"
             ],
             [
              0.8888888888888888,
              "#fdca26"
             ],
             [
              1,
              "#f0f921"
             ]
            ],
            "type": "contour"
           }
          ],
          "contourcarpet": [
           {
            "colorbar": {
             "outlinewidth": 0,
             "ticks": ""
            },
            "type": "contourcarpet"
           }
          ],
          "heatmap": [
           {
            "colorbar": {
             "outlinewidth": 0,
             "ticks": ""
            },
            "colorscale": [
             [
              0,
              "#0d0887"
             ],
             [
              0.1111111111111111,
              "#46039f"
             ],
             [
              0.2222222222222222,
              "#7201a8"
             ],
             [
              0.3333333333333333,
              "#9c179e"
             ],
             [
              0.4444444444444444,
              "#bd3786"
             ],
             [
              0.5555555555555556,
              "#d8576b"
             ],
             [
              0.6666666666666666,
              "#ed7953"
             ],
             [
              0.7777777777777778,
              "#fb9f3a"
             ],
             [
              0.8888888888888888,
              "#fdca26"
             ],
             [
              1,
              "#f0f921"
             ]
            ],
            "type": "heatmap"
           }
          ],
          "heatmapgl": [
           {
            "colorbar": {
             "outlinewidth": 0,
             "ticks": ""
            },
            "colorscale": [
             [
              0,
              "#0d0887"
             ],
             [
              0.1111111111111111,
              "#46039f"
             ],
             [
              0.2222222222222222,
              "#7201a8"
             ],
             [
              0.3333333333333333,
              "#9c179e"
             ],
             [
              0.4444444444444444,
              "#bd3786"
             ],
             [
              0.5555555555555556,
              "#d8576b"
             ],
             [
              0.6666666666666666,
              "#ed7953"
             ],
             [
              0.7777777777777778,
              "#fb9f3a"
             ],
             [
              0.8888888888888888,
              "#fdca26"
             ],
             [
              1,
              "#f0f921"
             ]
            ],
            "type": "heatmapgl"
           }
          ],
          "histogram": [
           {
            "marker": {
             "pattern": {
              "fillmode": "overlay",
              "size": 10,
              "solidity": 0.2
             }
            },
            "type": "histogram"
           }
          ],
          "histogram2d": [
           {
            "colorbar": {
             "outlinewidth": 0,
             "ticks": ""
            },
            "colorscale": [
             [
              0,
              "#0d0887"
             ],
             [
              0.1111111111111111,
              "#46039f"
             ],
             [
              0.2222222222222222,
              "#7201a8"
             ],
             [
              0.3333333333333333,
              "#9c179e"
             ],
             [
              0.4444444444444444,
              "#bd3786"
             ],
             [
              0.5555555555555556,
              "#d8576b"
             ],
             [
              0.6666666666666666,
              "#ed7953"
             ],
             [
              0.7777777777777778,
              "#fb9f3a"
             ],
             [
              0.8888888888888888,
              "#fdca26"
             ],
             [
              1,
              "#f0f921"
             ]
            ],
            "type": "histogram2d"
           }
          ],
          "histogram2dcontour": [
           {
            "colorbar": {
             "outlinewidth": 0,
             "ticks": ""
            },
            "colorscale": [
             [
              0,
              "#0d0887"
             ],
             [
              0.1111111111111111,
              "#46039f"
             ],
             [
              0.2222222222222222,
              "#7201a8"
             ],
             [
              0.3333333333333333,
              "#9c179e"
             ],
             [
              0.4444444444444444,
              "#bd3786"
             ],
             [
              0.5555555555555556,
              "#d8576b"
             ],
             [
              0.6666666666666666,
              "#ed7953"
             ],
             [
              0.7777777777777778,
              "#fb9f3a"
             ],
             [
              0.8888888888888888,
              "#fdca26"
             ],
             [
              1,
              "#f0f921"
             ]
            ],
            "type": "histogram2dcontour"
           }
          ],
          "mesh3d": [
           {
            "colorbar": {
             "outlinewidth": 0,
             "ticks": ""
            },
            "type": "mesh3d"
           }
          ],
          "parcoords": [
           {
            "line": {
             "colorbar": {
              "outlinewidth": 0,
              "ticks": ""
             }
            },
            "type": "parcoords"
           }
          ],
          "pie": [
           {
            "automargin": true,
            "type": "pie"
           }
          ],
          "scatter": [
           {
            "fillpattern": {
             "fillmode": "overlay",
             "size": 10,
             "solidity": 0.2
            },
            "type": "scatter"
           }
          ],
          "scatter3d": [
           {
            "line": {
             "colorbar": {
              "outlinewidth": 0,
              "ticks": ""
             }
            },
            "marker": {
             "colorbar": {
              "outlinewidth": 0,
              "ticks": ""
             }
            },
            "type": "scatter3d"
           }
          ],
          "scattercarpet": [
           {
            "marker": {
             "colorbar": {
              "outlinewidth": 0,
              "ticks": ""
             }
            },
            "type": "scattercarpet"
           }
          ],
          "scattergeo": [
           {
            "marker": {
             "colorbar": {
              "outlinewidth": 0,
              "ticks": ""
             }
            },
            "type": "scattergeo"
           }
          ],
          "scattergl": [
           {
            "marker": {
             "colorbar": {
              "outlinewidth": 0,
              "ticks": ""
             }
            },
            "type": "scattergl"
           }
          ],
          "scattermapbox": [
           {
            "marker": {
             "colorbar": {
              "outlinewidth": 0,
              "ticks": ""
             }
            },
            "type": "scattermapbox"
           }
          ],
          "scatterpolar": [
           {
            "marker": {
             "colorbar": {
              "outlinewidth": 0,
              "ticks": ""
             }
            },
            "type": "scatterpolar"
           }
          ],
          "scatterpolargl": [
           {
            "marker": {
             "colorbar": {
              "outlinewidth": 0,
              "ticks": ""
             }
            },
            "type": "scatterpolargl"
           }
          ],
          "scatterternary": [
           {
            "marker": {
             "colorbar": {
              "outlinewidth": 0,
              "ticks": ""
             }
            },
            "type": "scatterternary"
           }
          ],
          "surface": [
           {
            "colorbar": {
             "outlinewidth": 0,
             "ticks": ""
            },
            "colorscale": [
             [
              0,
              "#0d0887"
             ],
             [
              0.1111111111111111,
              "#46039f"
             ],
             [
              0.2222222222222222,
              "#7201a8"
             ],
             [
              0.3333333333333333,
              "#9c179e"
             ],
             [
              0.4444444444444444,
              "#bd3786"
             ],
             [
              0.5555555555555556,
              "#d8576b"
             ],
             [
              0.6666666666666666,
              "#ed7953"
             ],
             [
              0.7777777777777778,
              "#fb9f3a"
             ],
             [
              0.8888888888888888,
              "#fdca26"
             ],
             [
              1,
              "#f0f921"
             ]
            ],
            "type": "surface"
           }
          ],
          "table": [
           {
            "cells": {
             "fill": {
              "color": "#EBF0F8"
             },
             "line": {
              "color": "white"
             }
            },
            "header": {
             "fill": {
              "color": "#C8D4E3"
             },
             "line": {
              "color": "white"
             }
            },
            "type": "table"
           }
          ]
         },
         "layout": {
          "annotationdefaults": {
           "arrowcolor": "#2a3f5f",
           "arrowhead": 0,
           "arrowwidth": 1
          },
          "autotypenumbers": "strict",
          "coloraxis": {
           "colorbar": {
            "outlinewidth": 0,
            "ticks": ""
           }
          },
          "colorscale": {
           "diverging": [
            [
             0,
             "#8e0152"
            ],
            [
             0.1,
             "#c51b7d"
            ],
            [
             0.2,
             "#de77ae"
            ],
            [
             0.3,
             "#f1b6da"
            ],
            [
             0.4,
             "#fde0ef"
            ],
            [
             0.5,
             "#f7f7f7"
            ],
            [
             0.6,
             "#e6f5d0"
            ],
            [
             0.7,
             "#b8e186"
            ],
            [
             0.8,
             "#7fbc41"
            ],
            [
             0.9,
             "#4d9221"
            ],
            [
             1,
             "#276419"
            ]
           ],
           "sequential": [
            [
             0,
             "#0d0887"
            ],
            [
             0.1111111111111111,
             "#46039f"
            ],
            [
             0.2222222222222222,
             "#7201a8"
            ],
            [
             0.3333333333333333,
             "#9c179e"
            ],
            [
             0.4444444444444444,
             "#bd3786"
            ],
            [
             0.5555555555555556,
             "#d8576b"
            ],
            [
             0.6666666666666666,
             "#ed7953"
            ],
            [
             0.7777777777777778,
             "#fb9f3a"
            ],
            [
             0.8888888888888888,
             "#fdca26"
            ],
            [
             1,
             "#f0f921"
            ]
           ],
           "sequentialminus": [
            [
             0,
             "#0d0887"
            ],
            [
             0.1111111111111111,
             "#46039f"
            ],
            [
             0.2222222222222222,
             "#7201a8"
            ],
            [
             0.3333333333333333,
             "#9c179e"
            ],
            [
             0.4444444444444444,
             "#bd3786"
            ],
            [
             0.5555555555555556,
             "#d8576b"
            ],
            [
             0.6666666666666666,
             "#ed7953"
            ],
            [
             0.7777777777777778,
             "#fb9f3a"
            ],
            [
             0.8888888888888888,
             "#fdca26"
            ],
            [
             1,
             "#f0f921"
            ]
           ]
          },
          "colorway": [
           "#636efa",
           "#EF553B",
           "#00cc96",
           "#ab63fa",
           "#FFA15A",
           "#19d3f3",
           "#FF6692",
           "#B6E880",
           "#FF97FF",
           "#FECB52"
          ],
          "font": {
           "color": "#2a3f5f"
          },
          "geo": {
           "bgcolor": "white",
           "lakecolor": "white",
           "landcolor": "#E5ECF6",
           "showlakes": true,
           "showland": true,
           "subunitcolor": "white"
          },
          "hoverlabel": {
           "align": "left"
          },
          "hovermode": "closest",
          "mapbox": {
           "style": "light"
          },
          "paper_bgcolor": "white",
          "plot_bgcolor": "#E5ECF6",
          "polar": {
           "angularaxis": {
            "gridcolor": "white",
            "linecolor": "white",
            "ticks": ""
           },
           "bgcolor": "#E5ECF6",
           "radialaxis": {
            "gridcolor": "white",
            "linecolor": "white",
            "ticks": ""
           }
          },
          "scene": {
           "xaxis": {
            "backgroundcolor": "#E5ECF6",
            "gridcolor": "white",
            "gridwidth": 2,
            "linecolor": "white",
            "showbackground": true,
            "ticks": "",
            "zerolinecolor": "white"
           },
           "yaxis": {
            "backgroundcolor": "#E5ECF6",
            "gridcolor": "white",
            "gridwidth": 2,
            "linecolor": "white",
            "showbackground": true,
            "ticks": "",
            "zerolinecolor": "white"
           },
           "zaxis": {
            "backgroundcolor": "#E5ECF6",
            "gridcolor": "white",
            "gridwidth": 2,
            "linecolor": "white",
            "showbackground": true,
            "ticks": "",
            "zerolinecolor": "white"
           }
          },
          "shapedefaults": {
           "line": {
            "color": "#2a3f5f"
           }
          },
          "ternary": {
           "aaxis": {
            "gridcolor": "white",
            "linecolor": "white",
            "ticks": ""
           },
           "baxis": {
            "gridcolor": "white",
            "linecolor": "white",
            "ticks": ""
           },
           "bgcolor": "#E5ECF6",
           "caxis": {
            "gridcolor": "white",
            "linecolor": "white",
            "ticks": ""
           }
          },
          "title": {
           "x": 0.05
          },
          "xaxis": {
           "automargin": true,
           "gridcolor": "white",
           "linecolor": "white",
           "ticks": "",
           "title": {
            "standoff": 15
           },
           "zerolinecolor": "white",
           "zerolinewidth": 2
          },
          "yaxis": {
           "automargin": true,
           "gridcolor": "white",
           "linecolor": "white",
           "ticks": "",
           "title": {
            "standoff": 15
           },
           "zerolinecolor": "white",
           "zerolinewidth": 2
          }
         }
        },
        "yaxis": {
         "title": {
          "text": "RMSE"
         }
        }
       }
      },
      "text/html": [
       "<div>                            <div id=\"b74a0cdc-3b52-4638-9c95-6ed71cabfc04\" class=\"plotly-graph-div\" style=\"height:525px; width:100%;\"></div>            <script type=\"text/javascript\">                require([\"plotly\"], function(Plotly) {                    window.PLOTLYENV=window.PLOTLYENV || {};                                    if (document.getElementById(\"b74a0cdc-3b52-4638-9c95-6ed71cabfc04\")) {                    Plotly.newPlot(                        \"b74a0cdc-3b52-4638-9c95-6ed71cabfc04\",                        [{\"name\":\"Training RMSE\",\"x\":[\"c\",\"c,d\",\"c,d,h\",\"c,d,h,w\",\"c,d,h,w,a\",\"c,d,h,w,a,m\",\"c,d,h,w,a,m,o\",\"c,d,h,w,a,m,o,n\",\"Ridge(alpha=0.5)\",\"RidgeN(alpha=0.5)\",\"RidgeN(alpha=10)\",\"RidgeN(alpha_best)\",\"RidgeCV\"],\"y\":[4.888109236813688,4.58757379901803,4.525395490245242,4.216877763288668,4.213763450275894,3.379999480925898,3.2488224012050075,1.1436227888226098,2.932671699585722,1.1395927398086765,2.563277247678354,1.7933943110013333,1.7609475467567646],\"type\":\"bar\"},{\"name\":\"CV RMSE\",\"x\":[\"c\",\"c,d\",\"c,d,h\",\"c,d,h,w\",\"c,d,h,w,a\",\"c,d,h,w,a,m\",\"c,d,h,w,a,m,o\",\"c,d,h,w,a,m,o,n\",\"Ridge(alpha=0.5)\",\"RidgeN(alpha=0.5)\",\"RidgeN(alpha=10)\",\"RidgeN(alpha_best)\",\"RidgeCV\"],\"y\":[4.876661068256956,4.579060426624024,4.556808311664745,4.252718625749385,4.256844728700814,3.4557657065586773,3.3323381513276003,3.687635534487717,3.1648724810528024,3.628478349421298,3.124955650580545,2.9408907337101278,2.9630429994262735],\"type\":\"bar\"},{\"name\":\"Test RMSE\",\"opacity\":0.3,\"x\":[\"c\",\"c,d\",\"c,d,h\",\"c,d,h,w\",\"c,d,h,w,a\",\"c,d,h,w,a,m\",\"c,d,h,w,a,m,o\",\"c,d,h,w,a,m,o,n\",\"Ridge(alpha=0.5)\",\"RidgeN(alpha=0.5)\",\"RidgeN(alpha=10)\",\"RidgeN(alpha_best)\",\"RidgeCV\"],\"y\":[5.055013548375552,4.7661569898523695,4.5838617699808735,4.325847816131029,4.349888692769131,3.550828171640195,3.3746613014711664,3.5151677332671225,3.400380874370932,3.5344504739391254,3.3703031839052042,3.4715384386964905,3.4751204469162635],\"type\":\"bar\"}],                        {\"template\":{\"data\":{\"histogram2dcontour\":[{\"type\":\"histogram2dcontour\",\"colorbar\":{\"outlinewidth\":0,\"ticks\":\"\"},\"colorscale\":[[0.0,\"#0d0887\"],[0.1111111111111111,\"#46039f\"],[0.2222222222222222,\"#7201a8\"],[0.3333333333333333,\"#9c179e\"],[0.4444444444444444,\"#bd3786\"],[0.5555555555555556,\"#d8576b\"],[0.6666666666666666,\"#ed7953\"],[0.7777777777777778,\"#fb9f3a\"],[0.8888888888888888,\"#fdca26\"],[1.0,\"#f0f921\"]]}],\"choropleth\":[{\"type\":\"choropleth\",\"colorbar\":{\"outlinewidth\":0,\"ticks\":\"\"}}],\"histogram2d\":[{\"type\":\"histogram2d\",\"colorbar\":{\"outlinewidth\":0,\"ticks\":\"\"},\"colorscale\":[[0.0,\"#0d0887\"],[0.1111111111111111,\"#46039f\"],[0.2222222222222222,\"#7201a8\"],[0.3333333333333333,\"#9c179e\"],[0.4444444444444444,\"#bd3786\"],[0.5555555555555556,\"#d8576b\"],[0.6666666666666666,\"#ed7953\"],[0.7777777777777778,\"#fb9f3a\"],[0.8888888888888888,\"#fdca26\"],[1.0,\"#f0f921\"]]}],\"heatmap\":[{\"type\":\"heatmap\",\"colorbar\":{\"outlinewidth\":0,\"ticks\":\"\"},\"colorscale\":[[0.0,\"#0d0887\"],[0.1111111111111111,\"#46039f\"],[0.2222222222222222,\"#7201a8\"],[0.3333333333333333,\"#9c179e\"],[0.4444444444444444,\"#bd3786\"],[0.5555555555555556,\"#d8576b\"],[0.6666666666666666,\"#ed7953\"],[0.7777777777777778,\"#fb9f3a\"],[0.8888888888888888,\"#fdca26\"],[1.0,\"#f0f921\"]]}],\"heatmapgl\":[{\"type\":\"heatmapgl\",\"colorbar\":{\"outlinewidth\":0,\"ticks\":\"\"},\"colorscale\":[[0.0,\"#0d0887\"],[0.1111111111111111,\"#46039f\"],[0.2222222222222222,\"#7201a8\"],[0.3333333333333333,\"#9c179e\"],[0.4444444444444444,\"#bd3786\"],[0.5555555555555556,\"#d8576b\"],[0.6666666666666666,\"#ed7953\"],[0.7777777777777778,\"#fb9f3a\"],[0.8888888888888888,\"#fdca26\"],[1.0,\"#f0f921\"]]}],\"contourcarpet\":[{\"type\":\"contourcarpet\",\"colorbar\":{\"outlinewidth\":0,\"ticks\":\"\"}}],\"contour\":[{\"type\":\"contour\",\"colorbar\":{\"outlinewidth\":0,\"ticks\":\"\"},\"colorscale\":[[0.0,\"#0d0887\"],[0.1111111111111111,\"#46039f\"],[0.2222222222222222,\"#7201a8\"],[0.3333333333333333,\"#9c179e\"],[0.4444444444444444,\"#bd3786\"],[0.5555555555555556,\"#d8576b\"],[0.6666666666666666,\"#ed7953\"],[0.7777777777777778,\"#fb9f3a\"],[0.8888888888888888,\"#fdca26\"],[1.0,\"#f0f921\"]]}],\"surface\":[{\"type\":\"surface\",\"colorbar\":{\"outlinewidth\":0,\"ticks\":\"\"},\"colorscale\":[[0.0,\"#0d0887\"],[0.1111111111111111,\"#46039f\"],[0.2222222222222222,\"#7201a8\"],[0.3333333333333333,\"#9c179e\"],[0.4444444444444444,\"#bd3786\"],[0.5555555555555556,\"#d8576b\"],[0.6666666666666666,\"#ed7953\"],[0.7777777777777778,\"#fb9f3a\"],[0.8888888888888888,\"#fdca26\"],[1.0,\"#f0f921\"]]}],\"mesh3d\":[{\"type\":\"mesh3d\",\"colorbar\":{\"outlinewidth\":0,\"ticks\":\"\"}}],\"scatter\":[{\"fillpattern\":{\"fillmode\":\"overlay\",\"size\":10,\"solidity\":0.2},\"type\":\"scatter\"}],\"parcoords\":[{\"type\":\"parcoords\",\"line\":{\"colorbar\":{\"outlinewidth\":0,\"ticks\":\"\"}}}],\"scatterpolargl\":[{\"type\":\"scatterpolargl\",\"marker\":{\"colorbar\":{\"outlinewidth\":0,\"ticks\":\"\"}}}],\"bar\":[{\"error_x\":{\"color\":\"#2a3f5f\"},\"error_y\":{\"color\":\"#2a3f5f\"},\"marker\":{\"line\":{\"color\":\"#E5ECF6\",\"width\":0.5},\"pattern\":{\"fillmode\":\"overlay\",\"size\":10,\"solidity\":0.2}},\"type\":\"bar\"}],\"scattergeo\":[{\"type\":\"scattergeo\",\"marker\":{\"colorbar\":{\"outlinewidth\":0,\"ticks\":\"\"}}}],\"scatterpolar\":[{\"type\":\"scatterpolar\",\"marker\":{\"colorbar\":{\"outlinewidth\":0,\"ticks\":\"\"}}}],\"histogram\":[{\"marker\":{\"pattern\":{\"fillmode\":\"overlay\",\"size\":10,\"solidity\":0.2}},\"type\":\"histogram\"}],\"scattergl\":[{\"type\":\"scattergl\",\"marker\":{\"colorbar\":{\"outlinewidth\":0,\"ticks\":\"\"}}}],\"scatter3d\":[{\"type\":\"scatter3d\",\"line\":{\"colorbar\":{\"outlinewidth\":0,\"ticks\":\"\"}},\"marker\":{\"colorbar\":{\"outlinewidth\":0,\"ticks\":\"\"}}}],\"scattermapbox\":[{\"type\":\"scattermapbox\",\"marker\":{\"colorbar\":{\"outlinewidth\":0,\"ticks\":\"\"}}}],\"scatterternary\":[{\"type\":\"scatterternary\",\"marker\":{\"colorbar\":{\"outlinewidth\":0,\"ticks\":\"\"}}}],\"scattercarpet\":[{\"type\":\"scattercarpet\",\"marker\":{\"colorbar\":{\"outlinewidth\":0,\"ticks\":\"\"}}}],\"carpet\":[{\"aaxis\":{\"endlinecolor\":\"#2a3f5f\",\"gridcolor\":\"white\",\"linecolor\":\"white\",\"minorgridcolor\":\"white\",\"startlinecolor\":\"#2a3f5f\"},\"baxis\":{\"endlinecolor\":\"#2a3f5f\",\"gridcolor\":\"white\",\"linecolor\":\"white\",\"minorgridcolor\":\"white\",\"startlinecolor\":\"#2a3f5f\"},\"type\":\"carpet\"}],\"table\":[{\"cells\":{\"fill\":{\"color\":\"#EBF0F8\"},\"line\":{\"color\":\"white\"}},\"header\":{\"fill\":{\"color\":\"#C8D4E3\"},\"line\":{\"color\":\"white\"}},\"type\":\"table\"}],\"barpolar\":[{\"marker\":{\"line\":{\"color\":\"#E5ECF6\",\"width\":0.5},\"pattern\":{\"fillmode\":\"overlay\",\"size\":10,\"solidity\":0.2}},\"type\":\"barpolar\"}],\"pie\":[{\"automargin\":true,\"type\":\"pie\"}]},\"layout\":{\"autotypenumbers\":\"strict\",\"colorway\":[\"#636efa\",\"#EF553B\",\"#00cc96\",\"#ab63fa\",\"#FFA15A\",\"#19d3f3\",\"#FF6692\",\"#B6E880\",\"#FF97FF\",\"#FECB52\"],\"font\":{\"color\":\"#2a3f5f\"},\"hovermode\":\"closest\",\"hoverlabel\":{\"align\":\"left\"},\"paper_bgcolor\":\"white\",\"plot_bgcolor\":\"#E5ECF6\",\"polar\":{\"bgcolor\":\"#E5ECF6\",\"angularaxis\":{\"gridcolor\":\"white\",\"linecolor\":\"white\",\"ticks\":\"\"},\"radialaxis\":{\"gridcolor\":\"white\",\"linecolor\":\"white\",\"ticks\":\"\"}},\"ternary\":{\"bgcolor\":\"#E5ECF6\",\"aaxis\":{\"gridcolor\":\"white\",\"linecolor\":\"white\",\"ticks\":\"\"},\"baxis\":{\"gridcolor\":\"white\",\"linecolor\":\"white\",\"ticks\":\"\"},\"caxis\":{\"gridcolor\":\"white\",\"linecolor\":\"white\",\"ticks\":\"\"}},\"coloraxis\":{\"colorbar\":{\"outlinewidth\":0,\"ticks\":\"\"}},\"colorscale\":{\"sequential\":[[0.0,\"#0d0887\"],[0.1111111111111111,\"#46039f\"],[0.2222222222222222,\"#7201a8\"],[0.3333333333333333,\"#9c179e\"],[0.4444444444444444,\"#bd3786\"],[0.5555555555555556,\"#d8576b\"],[0.6666666666666666,\"#ed7953\"],[0.7777777777777778,\"#fb9f3a\"],[0.8888888888888888,\"#fdca26\"],[1.0,\"#f0f921\"]],\"sequentialminus\":[[0.0,\"#0d0887\"],[0.1111111111111111,\"#46039f\"],[0.2222222222222222,\"#7201a8\"],[0.3333333333333333,\"#9c179e\"],[0.4444444444444444,\"#bd3786\"],[0.5555555555555556,\"#d8576b\"],[0.6666666666666666,\"#ed7953\"],[0.7777777777777778,\"#fb9f3a\"],[0.8888888888888888,\"#fdca26\"],[1.0,\"#f0f921\"]],\"diverging\":[[0,\"#8e0152\"],[0.1,\"#c51b7d\"],[0.2,\"#de77ae\"],[0.3,\"#f1b6da\"],[0.4,\"#fde0ef\"],[0.5,\"#f7f7f7\"],[0.6,\"#e6f5d0\"],[0.7,\"#b8e186\"],[0.8,\"#7fbc41\"],[0.9,\"#4d9221\"],[1,\"#276419\"]]},\"xaxis\":{\"gridcolor\":\"white\",\"linecolor\":\"white\",\"ticks\":\"\",\"title\":{\"standoff\":15},\"zerolinecolor\":\"white\",\"automargin\":true,\"zerolinewidth\":2},\"yaxis\":{\"gridcolor\":\"white\",\"linecolor\":\"white\",\"ticks\":\"\",\"title\":{\"standoff\":15},\"zerolinecolor\":\"white\",\"automargin\":true,\"zerolinewidth\":2},\"scene\":{\"xaxis\":{\"backgroundcolor\":\"#E5ECF6\",\"gridcolor\":\"white\",\"linecolor\":\"white\",\"showbackground\":true,\"ticks\":\"\",\"zerolinecolor\":\"white\",\"gridwidth\":2},\"yaxis\":{\"backgroundcolor\":\"#E5ECF6\",\"gridcolor\":\"white\",\"linecolor\":\"white\",\"showbackground\":true,\"ticks\":\"\",\"zerolinecolor\":\"white\",\"gridwidth\":2},\"zaxis\":{\"backgroundcolor\":\"#E5ECF6\",\"gridcolor\":\"white\",\"linecolor\":\"white\",\"showbackground\":true,\"ticks\":\"\",\"zerolinecolor\":\"white\",\"gridwidth\":2}},\"shapedefaults\":{\"line\":{\"color\":\"#2a3f5f\"}},\"annotationdefaults\":{\"arrowcolor\":\"#2a3f5f\",\"arrowhead\":0,\"arrowwidth\":1},\"geo\":{\"bgcolor\":\"white\",\"landcolor\":\"#E5ECF6\",\"subunitcolor\":\"white\",\"showland\":true,\"showlakes\":true,\"lakecolor\":\"white\"},\"title\":{\"x\":0.05},\"mapbox\":{\"style\":\"light\"}}},\"yaxis\":{\"title\":{\"text\":\"RMSE\"}}},                        {\"responsive\": true}                    ).then(function(){\n",
       "                            \n",
       "var gd = document.getElementById('b74a0cdc-3b52-4638-9c95-6ed71cabfc04');\n",
       "var x = new MutationObserver(function (mutations, observer) {{\n",
       "        var display = window.getComputedStyle(gd).display;\n",
       "        if (!display || display === 'none') {{\n",
       "            console.log([gd, 'removed!']);\n",
       "            Plotly.purge(gd);\n",
       "            observer.disconnect();\n",
       "        }}\n",
       "}});\n",
       "\n",
       "// Listen for the removal of the full notebook cells\n",
       "var notebookContainer = gd.closest('#notebook-container');\n",
       "if (notebookContainer) {{\n",
       "    x.observe(notebookContainer, {childList: true});\n",
       "}}\n",
       "\n",
       "// Listen for the clearing of the current output cell\n",
       "var outputEl = gd.closest('.output');\n",
       "if (outputEl) {{\n",
       "    x.observe(outputEl, {childList: true});\n",
       "}}\n",
       "\n",
       "                        })                };                });            </script>        </div>"
      ]
     },
     "metadata": {},
     "output_type": "display_data"
    }
   ],
   "source": [
    "ridge_model.fit(tr, tr['mpg'])\n",
    "models[\"RidgeCV\"] = ridge_model\n",
    "compare_models(models)"
   ]
  },
  {
   "cell_type": "markdown",
   "metadata": {},
   "source": [
    "## Lasso in SKLearn \n",
    "\n",
    "Similarly we can swap Ridge Regression for Lasso by simply importing the Lasso object from `sklearn.linear_model`."
   ]
  },
  {
   "cell_type": "code",
   "execution_count": 45,
   "metadata": {},
   "outputs": [],
   "source": [
    "from sklearn.linear_model import Lasso, LassoCV"
   ]
  },
  {
   "cell_type": "code",
   "execution_count": 46,
   "metadata": {},
   "outputs": [],
   "source": [
    "lasso_model = Pipeline([\n",
    "    (\"SelectColumns\", ColumnTransformer([\n",
    "        (\"keep\", StandardScaler(), quantitative_features),\n",
    "        (\"origin_encoder\", OneHotEncoder(), [\"origin\"]),\n",
    "        (\"text\", CountVectorizer(), \"name\")\n",
    "    ])),\n",
    "    (\"Imputation\", SimpleImputer()),\n",
    "    (\"LinearModel\", LassoCV(cv=3))\n",
    "])"
   ]
  },
  {
   "cell_type": "code",
   "execution_count": 47,
   "metadata": {},
   "outputs": [
    {
     "data": {
      "application/vnd.plotly.v1+json": {
       "config": {
        "plotlyServerURL": "https://plot.ly"
       },
       "data": [
        {
         "name": "Training RMSE",
         "type": "bar",
         "x": [
          "c",
          "c,d",
          "c,d,h",
          "c,d,h,w",
          "c,d,h,w,a",
          "c,d,h,w,a,m",
          "c,d,h,w,a,m,o",
          "c,d,h,w,a,m,o,n",
          "Ridge(alpha=0.5)",
          "RidgeN(alpha=0.5)",
          "RidgeN(alpha=10)",
          "RidgeN(alpha_best)",
          "RidgeCV",
          "LassoCV"
         ],
         "y": [
          4.888109236813688,
          4.58757379901803,
          4.525395490245242,
          4.216877763288668,
          4.213763450275894,
          3.379999480925898,
          3.2488224012050075,
          1.1436227888226098,
          2.932671699585722,
          1.1395927398086765,
          2.563277247678354,
          1.7933943110013333,
          1.7609475467567646,
          2.6892966925168538
         ]
        },
        {
         "name": "CV RMSE",
         "type": "bar",
         "x": [
          "c",
          "c,d",
          "c,d,h",
          "c,d,h,w",
          "c,d,h,w,a",
          "c,d,h,w,a,m",
          "c,d,h,w,a,m,o",
          "c,d,h,w,a,m,o,n",
          "Ridge(alpha=0.5)",
          "RidgeN(alpha=0.5)",
          "RidgeN(alpha=10)",
          "RidgeN(alpha_best)",
          "RidgeCV",
          "LassoCV"
         ],
         "y": [
          4.876661068256956,
          4.579060426624024,
          4.556808311664745,
          4.252718625749385,
          4.256844728700814,
          3.4557657065586773,
          3.3323381513276003,
          3.687635534487717,
          3.1648724810528024,
          3.628478349421298,
          3.124955650580545,
          2.9408907337101278,
          2.9630429994262735,
          3.096978371220981
         ]
        },
        {
         "name": "Test RMSE",
         "opacity": 0.3,
         "type": "bar",
         "x": [
          "c",
          "c,d",
          "c,d,h",
          "c,d,h,w",
          "c,d,h,w,a",
          "c,d,h,w,a,m",
          "c,d,h,w,a,m,o",
          "c,d,h,w,a,m,o,n",
          "Ridge(alpha=0.5)",
          "RidgeN(alpha=0.5)",
          "RidgeN(alpha=10)",
          "RidgeN(alpha_best)",
          "RidgeCV",
          "LassoCV"
         ],
         "y": [
          5.055013548375552,
          4.7661569898523695,
          4.5838617699808735,
          4.325847816131029,
          4.349888692769131,
          3.550828171640195,
          3.3746613014711664,
          3.5151677332671225,
          3.400380874370932,
          3.5344504739391254,
          3.3703031839052042,
          3.4715384386964905,
          3.4751204469162635,
          3.4295685068646264
         ]
        }
       ],
       "layout": {
        "template": {
         "data": {
          "bar": [
           {
            "error_x": {
             "color": "#2a3f5f"
            },
            "error_y": {
             "color": "#2a3f5f"
            },
            "marker": {
             "line": {
              "color": "#E5ECF6",
              "width": 0.5
             },
             "pattern": {
              "fillmode": "overlay",
              "size": 10,
              "solidity": 0.2
             }
            },
            "type": "bar"
           }
          ],
          "barpolar": [
           {
            "marker": {
             "line": {
              "color": "#E5ECF6",
              "width": 0.5
             },
             "pattern": {
              "fillmode": "overlay",
              "size": 10,
              "solidity": 0.2
             }
            },
            "type": "barpolar"
           }
          ],
          "carpet": [
           {
            "aaxis": {
             "endlinecolor": "#2a3f5f",
             "gridcolor": "white",
             "linecolor": "white",
             "minorgridcolor": "white",
             "startlinecolor": "#2a3f5f"
            },
            "baxis": {
             "endlinecolor": "#2a3f5f",
             "gridcolor": "white",
             "linecolor": "white",
             "minorgridcolor": "white",
             "startlinecolor": "#2a3f5f"
            },
            "type": "carpet"
           }
          ],
          "choropleth": [
           {
            "colorbar": {
             "outlinewidth": 0,
             "ticks": ""
            },
            "type": "choropleth"
           }
          ],
          "contour": [
           {
            "colorbar": {
             "outlinewidth": 0,
             "ticks": ""
            },
            "colorscale": [
             [
              0,
              "#0d0887"
             ],
             [
              0.1111111111111111,
              "#46039f"
             ],
             [
              0.2222222222222222,
              "#7201a8"
             ],
             [
              0.3333333333333333,
              "#9c179e"
             ],
             [
              0.4444444444444444,
              "#bd3786"
             ],
             [
              0.5555555555555556,
              "#d8576b"
             ],
             [
              0.6666666666666666,
              "#ed7953"
             ],
             [
              0.7777777777777778,
              "#fb9f3a"
             ],
             [
              0.8888888888888888,
              "#fdca26"
             ],
             [
              1,
              "#f0f921"
             ]
            ],
            "type": "contour"
           }
          ],
          "contourcarpet": [
           {
            "colorbar": {
             "outlinewidth": 0,
             "ticks": ""
            },
            "type": "contourcarpet"
           }
          ],
          "heatmap": [
           {
            "colorbar": {
             "outlinewidth": 0,
             "ticks": ""
            },
            "colorscale": [
             [
              0,
              "#0d0887"
             ],
             [
              0.1111111111111111,
              "#46039f"
             ],
             [
              0.2222222222222222,
              "#7201a8"
             ],
             [
              0.3333333333333333,
              "#9c179e"
             ],
             [
              0.4444444444444444,
              "#bd3786"
             ],
             [
              0.5555555555555556,
              "#d8576b"
             ],
             [
              0.6666666666666666,
              "#ed7953"
             ],
             [
              0.7777777777777778,
              "#fb9f3a"
             ],
             [
              0.8888888888888888,
              "#fdca26"
             ],
             [
              1,
              "#f0f921"
             ]
            ],
            "type": "heatmap"
           }
          ],
          "heatmapgl": [
           {
            "colorbar": {
             "outlinewidth": 0,
             "ticks": ""
            },
            "colorscale": [
             [
              0,
              "#0d0887"
             ],
             [
              0.1111111111111111,
              "#46039f"
             ],
             [
              0.2222222222222222,
              "#7201a8"
             ],
             [
              0.3333333333333333,
              "#9c179e"
             ],
             [
              0.4444444444444444,
              "#bd3786"
             ],
             [
              0.5555555555555556,
              "#d8576b"
             ],
             [
              0.6666666666666666,
              "#ed7953"
             ],
             [
              0.7777777777777778,
              "#fb9f3a"
             ],
             [
              0.8888888888888888,
              "#fdca26"
             ],
             [
              1,
              "#f0f921"
             ]
            ],
            "type": "heatmapgl"
           }
          ],
          "histogram": [
           {
            "marker": {
             "pattern": {
              "fillmode": "overlay",
              "size": 10,
              "solidity": 0.2
             }
            },
            "type": "histogram"
           }
          ],
          "histogram2d": [
           {
            "colorbar": {
             "outlinewidth": 0,
             "ticks": ""
            },
            "colorscale": [
             [
              0,
              "#0d0887"
             ],
             [
              0.1111111111111111,
              "#46039f"
             ],
             [
              0.2222222222222222,
              "#7201a8"
             ],
             [
              0.3333333333333333,
              "#9c179e"
             ],
             [
              0.4444444444444444,
              "#bd3786"
             ],
             [
              0.5555555555555556,
              "#d8576b"
             ],
             [
              0.6666666666666666,
              "#ed7953"
             ],
             [
              0.7777777777777778,
              "#fb9f3a"
             ],
             [
              0.8888888888888888,
              "#fdca26"
             ],
             [
              1,
              "#f0f921"
             ]
            ],
            "type": "histogram2d"
           }
          ],
          "histogram2dcontour": [
           {
            "colorbar": {
             "outlinewidth": 0,
             "ticks": ""
            },
            "colorscale": [
             [
              0,
              "#0d0887"
             ],
             [
              0.1111111111111111,
              "#46039f"
             ],
             [
              0.2222222222222222,
              "#7201a8"
             ],
             [
              0.3333333333333333,
              "#9c179e"
             ],
             [
              0.4444444444444444,
              "#bd3786"
             ],
             [
              0.5555555555555556,
              "#d8576b"
             ],
             [
              0.6666666666666666,
              "#ed7953"
             ],
             [
              0.7777777777777778,
              "#fb9f3a"
             ],
             [
              0.8888888888888888,
              "#fdca26"
             ],
             [
              1,
              "#f0f921"
             ]
            ],
            "type": "histogram2dcontour"
           }
          ],
          "mesh3d": [
           {
            "colorbar": {
             "outlinewidth": 0,
             "ticks": ""
            },
            "type": "mesh3d"
           }
          ],
          "parcoords": [
           {
            "line": {
             "colorbar": {
              "outlinewidth": 0,
              "ticks": ""
             }
            },
            "type": "parcoords"
           }
          ],
          "pie": [
           {
            "automargin": true,
            "type": "pie"
           }
          ],
          "scatter": [
           {
            "fillpattern": {
             "fillmode": "overlay",
             "size": 10,
             "solidity": 0.2
            },
            "type": "scatter"
           }
          ],
          "scatter3d": [
           {
            "line": {
             "colorbar": {
              "outlinewidth": 0,
              "ticks": ""
             }
            },
            "marker": {
             "colorbar": {
              "outlinewidth": 0,
              "ticks": ""
             }
            },
            "type": "scatter3d"
           }
          ],
          "scattercarpet": [
           {
            "marker": {
             "colorbar": {
              "outlinewidth": 0,
              "ticks": ""
             }
            },
            "type": "scattercarpet"
           }
          ],
          "scattergeo": [
           {
            "marker": {
             "colorbar": {
              "outlinewidth": 0,
              "ticks": ""
             }
            },
            "type": "scattergeo"
           }
          ],
          "scattergl": [
           {
            "marker": {
             "colorbar": {
              "outlinewidth": 0,
              "ticks": ""
             }
            },
            "type": "scattergl"
           }
          ],
          "scattermapbox": [
           {
            "marker": {
             "colorbar": {
              "outlinewidth": 0,
              "ticks": ""
             }
            },
            "type": "scattermapbox"
           }
          ],
          "scatterpolar": [
           {
            "marker": {
             "colorbar": {
              "outlinewidth": 0,
              "ticks": ""
             }
            },
            "type": "scatterpolar"
           }
          ],
          "scatterpolargl": [
           {
            "marker": {
             "colorbar": {
              "outlinewidth": 0,
              "ticks": ""
             }
            },
            "type": "scatterpolargl"
           }
          ],
          "scatterternary": [
           {
            "marker": {
             "colorbar": {
              "outlinewidth": 0,
              "ticks": ""
             }
            },
            "type": "scatterternary"
           }
          ],
          "surface": [
           {
            "colorbar": {
             "outlinewidth": 0,
             "ticks": ""
            },
            "colorscale": [
             [
              0,
              "#0d0887"
             ],
             [
              0.1111111111111111,
              "#46039f"
             ],
             [
              0.2222222222222222,
              "#7201a8"
             ],
             [
              0.3333333333333333,
              "#9c179e"
             ],
             [
              0.4444444444444444,
              "#bd3786"
             ],
             [
              0.5555555555555556,
              "#d8576b"
             ],
             [
              0.6666666666666666,
              "#ed7953"
             ],
             [
              0.7777777777777778,
              "#fb9f3a"
             ],
             [
              0.8888888888888888,
              "#fdca26"
             ],
             [
              1,
              "#f0f921"
             ]
            ],
            "type": "surface"
           }
          ],
          "table": [
           {
            "cells": {
             "fill": {
              "color": "#EBF0F8"
             },
             "line": {
              "color": "white"
             }
            },
            "header": {
             "fill": {
              "color": "#C8D4E3"
             },
             "line": {
              "color": "white"
             }
            },
            "type": "table"
           }
          ]
         },
         "layout": {
          "annotationdefaults": {
           "arrowcolor": "#2a3f5f",
           "arrowhead": 0,
           "arrowwidth": 1
          },
          "autotypenumbers": "strict",
          "coloraxis": {
           "colorbar": {
            "outlinewidth": 0,
            "ticks": ""
           }
          },
          "colorscale": {
           "diverging": [
            [
             0,
             "#8e0152"
            ],
            [
             0.1,
             "#c51b7d"
            ],
            [
             0.2,
             "#de77ae"
            ],
            [
             0.3,
             "#f1b6da"
            ],
            [
             0.4,
             "#fde0ef"
            ],
            [
             0.5,
             "#f7f7f7"
            ],
            [
             0.6,
             "#e6f5d0"
            ],
            [
             0.7,
             "#b8e186"
            ],
            [
             0.8,
             "#7fbc41"
            ],
            [
             0.9,
             "#4d9221"
            ],
            [
             1,
             "#276419"
            ]
           ],
           "sequential": [
            [
             0,
             "#0d0887"
            ],
            [
             0.1111111111111111,
             "#46039f"
            ],
            [
             0.2222222222222222,
             "#7201a8"
            ],
            [
             0.3333333333333333,
             "#9c179e"
            ],
            [
             0.4444444444444444,
             "#bd3786"
            ],
            [
             0.5555555555555556,
             "#d8576b"
            ],
            [
             0.6666666666666666,
             "#ed7953"
            ],
            [
             0.7777777777777778,
             "#fb9f3a"
            ],
            [
             0.8888888888888888,
             "#fdca26"
            ],
            [
             1,
             "#f0f921"
            ]
           ],
           "sequentialminus": [
            [
             0,
             "#0d0887"
            ],
            [
             0.1111111111111111,
             "#46039f"
            ],
            [
             0.2222222222222222,
             "#7201a8"
            ],
            [
             0.3333333333333333,
             "#9c179e"
            ],
            [
             0.4444444444444444,
             "#bd3786"
            ],
            [
             0.5555555555555556,
             "#d8576b"
            ],
            [
             0.6666666666666666,
             "#ed7953"
            ],
            [
             0.7777777777777778,
             "#fb9f3a"
            ],
            [
             0.8888888888888888,
             "#fdca26"
            ],
            [
             1,
             "#f0f921"
            ]
           ]
          },
          "colorway": [
           "#636efa",
           "#EF553B",
           "#00cc96",
           "#ab63fa",
           "#FFA15A",
           "#19d3f3",
           "#FF6692",
           "#B6E880",
           "#FF97FF",
           "#FECB52"
          ],
          "font": {
           "color": "#2a3f5f"
          },
          "geo": {
           "bgcolor": "white",
           "lakecolor": "white",
           "landcolor": "#E5ECF6",
           "showlakes": true,
           "showland": true,
           "subunitcolor": "white"
          },
          "hoverlabel": {
           "align": "left"
          },
          "hovermode": "closest",
          "mapbox": {
           "style": "light"
          },
          "paper_bgcolor": "white",
          "plot_bgcolor": "#E5ECF6",
          "polar": {
           "angularaxis": {
            "gridcolor": "white",
            "linecolor": "white",
            "ticks": ""
           },
           "bgcolor": "#E5ECF6",
           "radialaxis": {
            "gridcolor": "white",
            "linecolor": "white",
            "ticks": ""
           }
          },
          "scene": {
           "xaxis": {
            "backgroundcolor": "#E5ECF6",
            "gridcolor": "white",
            "gridwidth": 2,
            "linecolor": "white",
            "showbackground": true,
            "ticks": "",
            "zerolinecolor": "white"
           },
           "yaxis": {
            "backgroundcolor": "#E5ECF6",
            "gridcolor": "white",
            "gridwidth": 2,
            "linecolor": "white",
            "showbackground": true,
            "ticks": "",
            "zerolinecolor": "white"
           },
           "zaxis": {
            "backgroundcolor": "#E5ECF6",
            "gridcolor": "white",
            "gridwidth": 2,
            "linecolor": "white",
            "showbackground": true,
            "ticks": "",
            "zerolinecolor": "white"
           }
          },
          "shapedefaults": {
           "line": {
            "color": "#2a3f5f"
           }
          },
          "ternary": {
           "aaxis": {
            "gridcolor": "white",
            "linecolor": "white",
            "ticks": ""
           },
           "baxis": {
            "gridcolor": "white",
            "linecolor": "white",
            "ticks": ""
           },
           "bgcolor": "#E5ECF6",
           "caxis": {
            "gridcolor": "white",
            "linecolor": "white",
            "ticks": ""
           }
          },
          "title": {
           "x": 0.05
          },
          "xaxis": {
           "automargin": true,
           "gridcolor": "white",
           "linecolor": "white",
           "ticks": "",
           "title": {
            "standoff": 15
           },
           "zerolinecolor": "white",
           "zerolinewidth": 2
          },
          "yaxis": {
           "automargin": true,
           "gridcolor": "white",
           "linecolor": "white",
           "ticks": "",
           "title": {
            "standoff": 15
           },
           "zerolinecolor": "white",
           "zerolinewidth": 2
          }
         }
        },
        "yaxis": {
         "title": {
          "text": "RMSE"
         }
        }
       }
      },
      "text/html": [
       "<div>                            <div id=\"9c3a3349-df42-49f6-8f1e-386d6a9442a4\" class=\"plotly-graph-div\" style=\"height:525px; width:100%;\"></div>            <script type=\"text/javascript\">                require([\"plotly\"], function(Plotly) {                    window.PLOTLYENV=window.PLOTLYENV || {};                                    if (document.getElementById(\"9c3a3349-df42-49f6-8f1e-386d6a9442a4\")) {                    Plotly.newPlot(                        \"9c3a3349-df42-49f6-8f1e-386d6a9442a4\",                        [{\"name\":\"Training RMSE\",\"x\":[\"c\",\"c,d\",\"c,d,h\",\"c,d,h,w\",\"c,d,h,w,a\",\"c,d,h,w,a,m\",\"c,d,h,w,a,m,o\",\"c,d,h,w,a,m,o,n\",\"Ridge(alpha=0.5)\",\"RidgeN(alpha=0.5)\",\"RidgeN(alpha=10)\",\"RidgeN(alpha_best)\",\"RidgeCV\",\"LassoCV\"],\"y\":[4.888109236813688,4.58757379901803,4.525395490245242,4.216877763288668,4.213763450275894,3.379999480925898,3.2488224012050075,1.1436227888226098,2.932671699585722,1.1395927398086765,2.563277247678354,1.7933943110013333,1.7609475467567646,2.6892966925168538],\"type\":\"bar\"},{\"name\":\"CV RMSE\",\"x\":[\"c\",\"c,d\",\"c,d,h\",\"c,d,h,w\",\"c,d,h,w,a\",\"c,d,h,w,a,m\",\"c,d,h,w,a,m,o\",\"c,d,h,w,a,m,o,n\",\"Ridge(alpha=0.5)\",\"RidgeN(alpha=0.5)\",\"RidgeN(alpha=10)\",\"RidgeN(alpha_best)\",\"RidgeCV\",\"LassoCV\"],\"y\":[4.876661068256956,4.579060426624024,4.556808311664745,4.252718625749385,4.256844728700814,3.4557657065586773,3.3323381513276003,3.687635534487717,3.1648724810528024,3.628478349421298,3.124955650580545,2.9408907337101278,2.9630429994262735,3.096978371220981],\"type\":\"bar\"},{\"name\":\"Test RMSE\",\"opacity\":0.3,\"x\":[\"c\",\"c,d\",\"c,d,h\",\"c,d,h,w\",\"c,d,h,w,a\",\"c,d,h,w,a,m\",\"c,d,h,w,a,m,o\",\"c,d,h,w,a,m,o,n\",\"Ridge(alpha=0.5)\",\"RidgeN(alpha=0.5)\",\"RidgeN(alpha=10)\",\"RidgeN(alpha_best)\",\"RidgeCV\",\"LassoCV\"],\"y\":[5.055013548375552,4.7661569898523695,4.5838617699808735,4.325847816131029,4.349888692769131,3.550828171640195,3.3746613014711664,3.5151677332671225,3.400380874370932,3.5344504739391254,3.3703031839052042,3.4715384386964905,3.4751204469162635,3.4295685068646264],\"type\":\"bar\"}],                        {\"template\":{\"data\":{\"histogram2dcontour\":[{\"type\":\"histogram2dcontour\",\"colorbar\":{\"outlinewidth\":0,\"ticks\":\"\"},\"colorscale\":[[0.0,\"#0d0887\"],[0.1111111111111111,\"#46039f\"],[0.2222222222222222,\"#7201a8\"],[0.3333333333333333,\"#9c179e\"],[0.4444444444444444,\"#bd3786\"],[0.5555555555555556,\"#d8576b\"],[0.6666666666666666,\"#ed7953\"],[0.7777777777777778,\"#fb9f3a\"],[0.8888888888888888,\"#fdca26\"],[1.0,\"#f0f921\"]]}],\"choropleth\":[{\"type\":\"choropleth\",\"colorbar\":{\"outlinewidth\":0,\"ticks\":\"\"}}],\"histogram2d\":[{\"type\":\"histogram2d\",\"colorbar\":{\"outlinewidth\":0,\"ticks\":\"\"},\"colorscale\":[[0.0,\"#0d0887\"],[0.1111111111111111,\"#46039f\"],[0.2222222222222222,\"#7201a8\"],[0.3333333333333333,\"#9c179e\"],[0.4444444444444444,\"#bd3786\"],[0.5555555555555556,\"#d8576b\"],[0.6666666666666666,\"#ed7953\"],[0.7777777777777778,\"#fb9f3a\"],[0.8888888888888888,\"#fdca26\"],[1.0,\"#f0f921\"]]}],\"heatmap\":[{\"type\":\"heatmap\",\"colorbar\":{\"outlinewidth\":0,\"ticks\":\"\"},\"colorscale\":[[0.0,\"#0d0887\"],[0.1111111111111111,\"#46039f\"],[0.2222222222222222,\"#7201a8\"],[0.3333333333333333,\"#9c179e\"],[0.4444444444444444,\"#bd3786\"],[0.5555555555555556,\"#d8576b\"],[0.6666666666666666,\"#ed7953\"],[0.7777777777777778,\"#fb9f3a\"],[0.8888888888888888,\"#fdca26\"],[1.0,\"#f0f921\"]]}],\"heatmapgl\":[{\"type\":\"heatmapgl\",\"colorbar\":{\"outlinewidth\":0,\"ticks\":\"\"},\"colorscale\":[[0.0,\"#0d0887\"],[0.1111111111111111,\"#46039f\"],[0.2222222222222222,\"#7201a8\"],[0.3333333333333333,\"#9c179e\"],[0.4444444444444444,\"#bd3786\"],[0.5555555555555556,\"#d8576b\"],[0.6666666666666666,\"#ed7953\"],[0.7777777777777778,\"#fb9f3a\"],[0.8888888888888888,\"#fdca26\"],[1.0,\"#f0f921\"]]}],\"contourcarpet\":[{\"type\":\"contourcarpet\",\"colorbar\":{\"outlinewidth\":0,\"ticks\":\"\"}}],\"contour\":[{\"type\":\"contour\",\"colorbar\":{\"outlinewidth\":0,\"ticks\":\"\"},\"colorscale\":[[0.0,\"#0d0887\"],[0.1111111111111111,\"#46039f\"],[0.2222222222222222,\"#7201a8\"],[0.3333333333333333,\"#9c179e\"],[0.4444444444444444,\"#bd3786\"],[0.5555555555555556,\"#d8576b\"],[0.6666666666666666,\"#ed7953\"],[0.7777777777777778,\"#fb9f3a\"],[0.8888888888888888,\"#fdca26\"],[1.0,\"#f0f921\"]]}],\"surface\":[{\"type\":\"surface\",\"colorbar\":{\"outlinewidth\":0,\"ticks\":\"\"},\"colorscale\":[[0.0,\"#0d0887\"],[0.1111111111111111,\"#46039f\"],[0.2222222222222222,\"#7201a8\"],[0.3333333333333333,\"#9c179e\"],[0.4444444444444444,\"#bd3786\"],[0.5555555555555556,\"#d8576b\"],[0.6666666666666666,\"#ed7953\"],[0.7777777777777778,\"#fb9f3a\"],[0.8888888888888888,\"#fdca26\"],[1.0,\"#f0f921\"]]}],\"mesh3d\":[{\"type\":\"mesh3d\",\"colorbar\":{\"outlinewidth\":0,\"ticks\":\"\"}}],\"scatter\":[{\"fillpattern\":{\"fillmode\":\"overlay\",\"size\":10,\"solidity\":0.2},\"type\":\"scatter\"}],\"parcoords\":[{\"type\":\"parcoords\",\"line\":{\"colorbar\":{\"outlinewidth\":0,\"ticks\":\"\"}}}],\"scatterpolargl\":[{\"type\":\"scatterpolargl\",\"marker\":{\"colorbar\":{\"outlinewidth\":0,\"ticks\":\"\"}}}],\"bar\":[{\"error_x\":{\"color\":\"#2a3f5f\"},\"error_y\":{\"color\":\"#2a3f5f\"},\"marker\":{\"line\":{\"color\":\"#E5ECF6\",\"width\":0.5},\"pattern\":{\"fillmode\":\"overlay\",\"size\":10,\"solidity\":0.2}},\"type\":\"bar\"}],\"scattergeo\":[{\"type\":\"scattergeo\",\"marker\":{\"colorbar\":{\"outlinewidth\":0,\"ticks\":\"\"}}}],\"scatterpolar\":[{\"type\":\"scatterpolar\",\"marker\":{\"colorbar\":{\"outlinewidth\":0,\"ticks\":\"\"}}}],\"histogram\":[{\"marker\":{\"pattern\":{\"fillmode\":\"overlay\",\"size\":10,\"solidity\":0.2}},\"type\":\"histogram\"}],\"scattergl\":[{\"type\":\"scattergl\",\"marker\":{\"colorbar\":{\"outlinewidth\":0,\"ticks\":\"\"}}}],\"scatter3d\":[{\"type\":\"scatter3d\",\"line\":{\"colorbar\":{\"outlinewidth\":0,\"ticks\":\"\"}},\"marker\":{\"colorbar\":{\"outlinewidth\":0,\"ticks\":\"\"}}}],\"scattermapbox\":[{\"type\":\"scattermapbox\",\"marker\":{\"colorbar\":{\"outlinewidth\":0,\"ticks\":\"\"}}}],\"scatterternary\":[{\"type\":\"scatterternary\",\"marker\":{\"colorbar\":{\"outlinewidth\":0,\"ticks\":\"\"}}}],\"scattercarpet\":[{\"type\":\"scattercarpet\",\"marker\":{\"colorbar\":{\"outlinewidth\":0,\"ticks\":\"\"}}}],\"carpet\":[{\"aaxis\":{\"endlinecolor\":\"#2a3f5f\",\"gridcolor\":\"white\",\"linecolor\":\"white\",\"minorgridcolor\":\"white\",\"startlinecolor\":\"#2a3f5f\"},\"baxis\":{\"endlinecolor\":\"#2a3f5f\",\"gridcolor\":\"white\",\"linecolor\":\"white\",\"minorgridcolor\":\"white\",\"startlinecolor\":\"#2a3f5f\"},\"type\":\"carpet\"}],\"table\":[{\"cells\":{\"fill\":{\"color\":\"#EBF0F8\"},\"line\":{\"color\":\"white\"}},\"header\":{\"fill\":{\"color\":\"#C8D4E3\"},\"line\":{\"color\":\"white\"}},\"type\":\"table\"}],\"barpolar\":[{\"marker\":{\"line\":{\"color\":\"#E5ECF6\",\"width\":0.5},\"pattern\":{\"fillmode\":\"overlay\",\"size\":10,\"solidity\":0.2}},\"type\":\"barpolar\"}],\"pie\":[{\"automargin\":true,\"type\":\"pie\"}]},\"layout\":{\"autotypenumbers\":\"strict\",\"colorway\":[\"#636efa\",\"#EF553B\",\"#00cc96\",\"#ab63fa\",\"#FFA15A\",\"#19d3f3\",\"#FF6692\",\"#B6E880\",\"#FF97FF\",\"#FECB52\"],\"font\":{\"color\":\"#2a3f5f\"},\"hovermode\":\"closest\",\"hoverlabel\":{\"align\":\"left\"},\"paper_bgcolor\":\"white\",\"plot_bgcolor\":\"#E5ECF6\",\"polar\":{\"bgcolor\":\"#E5ECF6\",\"angularaxis\":{\"gridcolor\":\"white\",\"linecolor\":\"white\",\"ticks\":\"\"},\"radialaxis\":{\"gridcolor\":\"white\",\"linecolor\":\"white\",\"ticks\":\"\"}},\"ternary\":{\"bgcolor\":\"#E5ECF6\",\"aaxis\":{\"gridcolor\":\"white\",\"linecolor\":\"white\",\"ticks\":\"\"},\"baxis\":{\"gridcolor\":\"white\",\"linecolor\":\"white\",\"ticks\":\"\"},\"caxis\":{\"gridcolor\":\"white\",\"linecolor\":\"white\",\"ticks\":\"\"}},\"coloraxis\":{\"colorbar\":{\"outlinewidth\":0,\"ticks\":\"\"}},\"colorscale\":{\"sequential\":[[0.0,\"#0d0887\"],[0.1111111111111111,\"#46039f\"],[0.2222222222222222,\"#7201a8\"],[0.3333333333333333,\"#9c179e\"],[0.4444444444444444,\"#bd3786\"],[0.5555555555555556,\"#d8576b\"],[0.6666666666666666,\"#ed7953\"],[0.7777777777777778,\"#fb9f3a\"],[0.8888888888888888,\"#fdca26\"],[1.0,\"#f0f921\"]],\"sequentialminus\":[[0.0,\"#0d0887\"],[0.1111111111111111,\"#46039f\"],[0.2222222222222222,\"#7201a8\"],[0.3333333333333333,\"#9c179e\"],[0.4444444444444444,\"#bd3786\"],[0.5555555555555556,\"#d8576b\"],[0.6666666666666666,\"#ed7953\"],[0.7777777777777778,\"#fb9f3a\"],[0.8888888888888888,\"#fdca26\"],[1.0,\"#f0f921\"]],\"diverging\":[[0,\"#8e0152\"],[0.1,\"#c51b7d\"],[0.2,\"#de77ae\"],[0.3,\"#f1b6da\"],[0.4,\"#fde0ef\"],[0.5,\"#f7f7f7\"],[0.6,\"#e6f5d0\"],[0.7,\"#b8e186\"],[0.8,\"#7fbc41\"],[0.9,\"#4d9221\"],[1,\"#276419\"]]},\"xaxis\":{\"gridcolor\":\"white\",\"linecolor\":\"white\",\"ticks\":\"\",\"title\":{\"standoff\":15},\"zerolinecolor\":\"white\",\"automargin\":true,\"zerolinewidth\":2},\"yaxis\":{\"gridcolor\":\"white\",\"linecolor\":\"white\",\"ticks\":\"\",\"title\":{\"standoff\":15},\"zerolinecolor\":\"white\",\"automargin\":true,\"zerolinewidth\":2},\"scene\":{\"xaxis\":{\"backgroundcolor\":\"#E5ECF6\",\"gridcolor\":\"white\",\"linecolor\":\"white\",\"showbackground\":true,\"ticks\":\"\",\"zerolinecolor\":\"white\",\"gridwidth\":2},\"yaxis\":{\"backgroundcolor\":\"#E5ECF6\",\"gridcolor\":\"white\",\"linecolor\":\"white\",\"showbackground\":true,\"ticks\":\"\",\"zerolinecolor\":\"white\",\"gridwidth\":2},\"zaxis\":{\"backgroundcolor\":\"#E5ECF6\",\"gridcolor\":\"white\",\"linecolor\":\"white\",\"showbackground\":true,\"ticks\":\"\",\"zerolinecolor\":\"white\",\"gridwidth\":2}},\"shapedefaults\":{\"line\":{\"color\":\"#2a3f5f\"}},\"annotationdefaults\":{\"arrowcolor\":\"#2a3f5f\",\"arrowhead\":0,\"arrowwidth\":1},\"geo\":{\"bgcolor\":\"white\",\"landcolor\":\"#E5ECF6\",\"subunitcolor\":\"white\",\"showland\":true,\"showlakes\":true,\"lakecolor\":\"white\"},\"title\":{\"x\":0.05},\"mapbox\":{\"style\":\"light\"}}},\"yaxis\":{\"title\":{\"text\":\"RMSE\"}}},                        {\"responsive\": true}                    ).then(function(){\n",
       "                            \n",
       "var gd = document.getElementById('9c3a3349-df42-49f6-8f1e-386d6a9442a4');\n",
       "var x = new MutationObserver(function (mutations, observer) {{\n",
       "        var display = window.getComputedStyle(gd).display;\n",
       "        if (!display || display === 'none') {{\n",
       "            console.log([gd, 'removed!']);\n",
       "            Plotly.purge(gd);\n",
       "            observer.disconnect();\n",
       "        }}\n",
       "}});\n",
       "\n",
       "// Listen for the removal of the full notebook cells\n",
       "var notebookContainer = gd.closest('#notebook-container');\n",
       "if (notebookContainer) {{\n",
       "    x.observe(notebookContainer, {childList: true});\n",
       "}}\n",
       "\n",
       "// Listen for the clearing of the current output cell\n",
       "var outputEl = gd.closest('.output');\n",
       "if (outputEl) {{\n",
       "    x.observe(outputEl, {childList: true});\n",
       "}}\n",
       "\n",
       "                        })                };                });            </script>        </div>"
      ]
     },
     "metadata": {},
     "output_type": "display_data"
    }
   ],
   "source": [
    "lasso_model.fit(tr, tr['mpg'])\n",
    "models[\"LassoCV\"] = lasso_model\n",
    "compare_models(models)"
   ]
  },
  {
   "cell_type": "markdown",
   "metadata": {},
   "source": [
    "We can examine the distribution of model coefficients to see that Lasso is selecting only a few of the features to use in it's predictions:"
   ]
  },
  {
   "cell_type": "code",
   "execution_count": 48,
   "metadata": {},
   "outputs": [
    {
     "data": {
      "application/vnd.plotly.v1+json": {
       "config": {
        "plotlyServerURL": "https://plot.ly"
       },
       "data": [
        {
         "autobinx": false,
         "histnorm": "probability density",
         "legendgroup": "Lasso",
         "marker": {
          "color": "rgb(31, 119, 180)"
         },
         "name": "Lasso",
         "opacity": 0.7,
         "type": "histogram",
         "x": [
          -0.2988645822136688,
          0.3408157190759779,
          0,
          -5.077585851834598,
          -0.011546218132247835,
          2.504753303583181,
          0,
          0,
          -1.2254666741348483,
          0,
          0,
          0,
          0,
          0,
          0,
          0.8911508709272489,
          0,
          0,
          0,
          0,
          0,
          0,
          0.48261306316595637,
          0,
          0,
          0,
          0,
          0,
          0,
          0.2925973682707245,
          0,
          0,
          0,
          0,
          0,
          0,
          0,
          0,
          0,
          0,
          0,
          0,
          0,
          0,
          0,
          0,
          0,
          0,
          0,
          0,
          0,
          0,
          0,
          0,
          0,
          0,
          0,
          0,
          0,
          0,
          -0.8137493295508532,
          0,
          0,
          0,
          0,
          0,
          0,
          0,
          0,
          0,
          0,
          0,
          0,
          0,
          0,
          0,
          0,
          0,
          0,
          0,
          0,
          0,
          0,
          0,
          0,
          0,
          0,
          0,
          0,
          0,
          0,
          0,
          0.8577155917758741,
          0,
          0,
          1.1721102608593437,
          0,
          0,
          0.28870926085446913,
          0,
          0,
          0,
          0,
          0,
          0,
          0,
          0.20926544012577297,
          0,
          0,
          0,
          0,
          0,
          0,
          1.555782628139949,
          0,
          0,
          5.608686884873427,
          0,
          0,
          0,
          0,
          0,
          0,
          0,
          0,
          0,
          0,
          0,
          0,
          0,
          0,
          -0.5834694165847315,
          0,
          0,
          0,
          0,
          0,
          0,
          0,
          0,
          0,
          0,
          0,
          0,
          0,
          0,
          0,
          0,
          0.567732366170475,
          0,
          1.6083497158913294,
          1.1672531907630153,
          0,
          -0.6403255347633293,
          0,
          0,
          0,
          0,
          0,
          0,
          0,
          0,
          0,
          0,
          0,
          0,
          0,
          0,
          0,
          0,
          0,
          0,
          0,
          0,
          0,
          0,
          0,
          0,
          -0.4021040609510492,
          0,
          0,
          0,
          0,
          0,
          0,
          0,
          0,
          0,
          0,
          0,
          0,
          0,
          0,
          0,
          0,
          0,
          0,
          0,
          0,
          0,
          0,
          0,
          0,
          0.7072730612261585,
          1.622680436188137,
          0,
          0,
          0,
          0.40519832556906654,
          0,
          0,
          0,
          0,
          0,
          0,
          1.2247142327906229,
          0,
          0,
          -1.1811727255510378,
          -0.0030190125000514397,
          0,
          0,
          0,
          0,
          0,
          0,
          0,
          0,
          0,
          0,
          0,
          0,
          0,
          0,
          0,
          0,
          0,
          0,
          0,
          0,
          0,
          0,
          0,
          0,
          0,
          0.19289042452120814,
          0,
          0,
          0,
          0.9537875656344021,
          0,
          0,
          0,
          0,
          0,
          0,
          0,
          0,
          0,
          0,
          0,
          0,
          0,
          0,
          6.580903263082053,
          0,
          0,
          0,
          0,
          0
         ],
         "xaxis": "x",
         "xbins": {
          "end": 6.580903263082053,
          "size": 0.1,
          "start": -5.077585851834598
         },
         "yaxis": "y"
        },
        {
         "autobinx": false,
         "histnorm": "probability density",
         "legendgroup": "Ridge",
         "marker": {
          "color": "rgb(255, 127, 14)"
         },
         "name": "Ridge",
         "opacity": 0.7,
         "type": "histogram",
         "x": [
          -1.1129087993561357,
          0.8294144662424573,
          -0.5787984166758985,
          -4.491722023123003,
          -0.3231443964418073,
          2.552844778514602,
          0.6441174358223568,
          0.14095520188785843,
          -0.7850726377103925,
          0.7655534592398832,
          0.35668345877109486,
          -1.5694262616056949,
          0.2622755706720004,
          -0.25740342390752374,
          -0.7824098482842227,
          2.5934921160922713,
          0.5606042947986356,
          -0.4517342035226931,
          -1.251517711623685,
          -1.2566996189796225,
          -0.8399631100453093,
          -0.9115025384574819,
          2.4240448138351636,
          0.5895441677219228,
          -1.081293214146634,
          -1.7078041853218495,
          -0.14992684171083884,
          0.8871041754356822,
          0.6283527413632825,
          1.8381784632118596,
          0.505301827698505,
          1.847543980828639,
          1.1660417251227582,
          -0.2943188274365214,
          -0.8460284506775096,
          -1.1743906199073832,
          0.38758253290088196,
          1.5379256032546136,
          0.7316435087965895,
          -1.884974333803087,
          -0.3803906278169629,
          -0.08497089850921134,
          1.2408957059769843,
          -0.6753846928418664,
          0.9156462926384713,
          1.3807542463329747,
          -1.8741582993187473,
          -0.3036013953091381,
          -1.0424954733411276,
          1.4179918699988796,
          -1.7072056935387632,
          1.5472728948675645,
          -0.1227210004055106,
          -1.5950573585056156,
          0.15378752892518024,
          -1.5158020234453624,
          0.35757369273867545,
          0.03033002471470625,
          0.5305137448732199,
          0.5063646604899323,
          -1.304474985161872,
          -0.9238000638358148,
          -0.8593459950757987,
          -0.8880271347939364,
          -0.6393546630438383,
          -0.21638696058560544,
          0.5305137448732199,
          0.3792336381162569,
          -0.9978701583674049,
          0.2493173132189108,
          0.05756227228091626,
          -1.239745407526675,
          1.278060194951151,
          -0.10863399808939253,
          -0.2107793401255064,
          -0.29120046811234535,
          -1.831950533468658,
          -0.049184438276753395,
          1.3319810228343887,
          0.38011871476745274,
          -0.5547483724496778,
          -0.4773991991057108,
          -0.01885776832651515,
          2.083607641950622,
          0.5019017353090345,
          1.1648262126908626,
          -0.33267410582722,
          -0.5674857997047492,
          -0.21335053062708242,
          -0.3794735839177543,
          1.5669198703542766,
          -1.2522278650518264,
          1.4733934612816828,
          0.2950302432706544,
          -0.39116971003031153,
          1.9506134740662049,
          -1.3039572485578552,
          -0.26461410270498087,
          1.1745371841275918,
          0.7332049553666572,
          0.40787226982260094,
          -0.07004096082382522,
          0.9641079920295164,
          -0.7510364354347983,
          -0.5507022164537886,
          -0.3803906278169629,
          0.5946382945521977,
          1.1556929985029158,
          0.2472846161787175,
          -1.5282662275837418,
          0.8294023660846715,
          -1.052465224091736,
          0.16304731435793607,
          1.4641369891503295,
          0.15378752892518024,
          1.6818403861389453,
          5.352922139978308,
          0.18684346159249166,
          0.4889378708015187,
          -0.4506482465355326,
          1.3891756534312316,
          0.8580076675686382,
          0.3088028358132139,
          0.9417726671756019,
          0.505301827698505,
          0.9156462926384713,
          0.279700065872337,
          1.0463882598359586,
          -1.3612332448924145,
          0.6049897975120018,
          -0.06543314271056258,
          -1.0108996225862321,
          0.9579782613824268,
          0.7252543780887716,
          -1.3691288925157792,
          1.3807542463329747,
          0.725744656785349,
          1.6015116018525628,
          -0.1359476085128417,
          0.3353049414117687,
          -1.4934173404771922,
          0.6746094015057071,
          -0.3710643489750267,
          -1.30375522488435,
          -0.5547483724496778,
          1.1401731485445128,
          0.7316435087965895,
          -0.7704485369412277,
          1.309064121771245,
          0.5606042947986356,
          1.5022066465152109,
          2.0043866121613467,
          -0.15732058294772702,
          -1.188042408518915,
          0.616582446146266,
          0.8794436105112078,
          0.18350594168418952,
          -0.6227415537366755,
          0.5190881755161982,
          -0.8512030334431,
          -1.5624517801767859,
          1.7557378683622795,
          0.472188215309748,
          -1.7470268311650918,
          -0.44389495120080064,
          -0.8351537643914896,
          0.35668345877109486,
          0.7145994336929238,
          0.5244451833778973,
          -0.8487825870093588,
          1.653849861479738,
          -0.03971594990337779,
          -0.6578821407405016,
          0.3870083521743139,
          -1.0429267048071287,
          0.3960769123293276,
          0.32567600803466035,
          -1.0696500851664157,
          -2.4987004748334685,
          -0.9746776732692854,
          0.3792336381162569,
          -0.5709870751501146,
          0.2622755706720004,
          -0.24695538881779827,
          -1.1473221196669074,
          -0.049184438276753395,
          0.23989386642114513,
          0.3184997323551964,
          -1.0629697147956998,
          0.6701186728269483,
          0.5128595234320833,
          0.6320329944542736,
          -1.1731659078568113,
          0.03952824119724774,
          -1.2699522862308483,
          0.8565716807482061,
          -0.8977872724624445,
          -0.9708116225942747,
          0.1918287346043479,
          0.23362925750630859,
          2.269289902502991,
          -1.2140561129115883,
          0.34713742175275114,
          0.5502602614323536,
          1.2058020229631286,
          -0.0015168394811781174,
          -0.7817080683038743,
          0.0034856782099265127,
          2.042015376090019,
          0.1869271089995188,
          -0.12300009092940306,
          0.3681432509426984,
          -0.4003860901625929,
          -0.19947199021444295,
          -1.1465289568912527,
          1.4463457173648697,
          0.5128595234320833,
          0.15378752892518024,
          -2.386002959624008,
          -2.4987004748334685,
          -1.158228330706687,
          1.4479555874951318,
          -1.8625735900026967,
          -1.242032737469573,
          -0.04068580996706711,
          0.4388487477204985,
          -0.1454890137237808,
          -0.3416944929344409,
          0.3362875277755491,
          -0.5362284339622133,
          -0.303557571614939,
          -0.20179091740062055,
          -0.38342993420765387,
          0.2984948984457206,
          -0.1641900427616228,
          -0.32853661451039484,
          -0.1378956100654105,
          1.121715207584461,
          -0.19947199021444295,
          0.6320329944542736,
          1.6448251820465893,
          0.5175894427156322,
          0.3595335301022626,
          -0.5868463926731754,
          -0.21638696058560544,
          0.6037975663436309,
          -1.7078041853218495,
          -0.6879302509236632,
          0.6495738899164921,
          2.8036382792770214,
          1.2247078451683642,
          -0.11110506202544991,
          -0.43781037857896177,
          -0.06382234426587026,
          -1.4428815635037204,
          -0.3996679623842675,
          -0.4139565225913963,
          -0.7817080683038743,
          -0.7649194839949485,
          -0.29804713396324656,
          -0.5362284339622133,
          -1.3567671205440592,
          -1.2381446354939096,
          -1.559734913180336,
          4.945017934913792,
          -1.0994721332096047,
          0.6634165306117908,
          0.5923170445508958,
          0.6701186728269483,
          -0.8396674041662123
         ],
         "xaxis": "x",
         "xbins": {
          "end": 5.352922139978308,
          "size": 0.1,
          "start": -4.491722023123003
         },
         "yaxis": "y"
        },
        {
         "legendgroup": "Lasso",
         "marker": {
          "color": "rgb(31, 119, 180)"
         },
         "mode": "lines",
         "name": "Lasso",
         "showlegend": false,
         "type": "scatter",
         "x": [
          -5.077585851834598,
          -5.054268873604765,
          -5.0309518953749315,
          -5.007634917145099,
          -4.984317938915265,
          -4.961000960685432,
          -4.9376839824555985,
          -4.914367004225765,
          -4.891050025995932,
          -4.867733047766099,
          -4.8444160695362655,
          -4.821099091306432,
          -4.7977821130765985,
          -4.774465134846766,
          -4.7511481566169325,
          -4.727831178387099,
          -4.7045142001572655,
          -4.681197221927432,
          -4.6578802436975995,
          -4.634563265467766,
          -4.6112462872379325,
          -4.587929309008099,
          -4.564612330778266,
          -4.541295352548432,
          -4.517978374318599,
          -4.494661396088766,
          -4.4713444178589326,
          -4.448027439629099,
          -4.424710461399266,
          -4.401393483169433,
          -4.3780765049395995,
          -4.354759526709766,
          -4.331442548479933,
          -4.308125570250099,
          -4.284808592020266,
          -4.261491613790433,
          -4.2381746355606,
          -4.214857657330766,
          -4.191540679100933,
          -4.168223700871099,
          -4.144906722641267,
          -4.121589744411433,
          -4.0982727661816,
          -4.074955787951766,
          -4.051638809721933,
          -4.0283218314921,
          -4.005004853262267,
          -3.981687875032433,
          -3.9583708968025997,
          -3.935053918572766,
          -3.911736940342933,
          -3.8884199621131,
          -3.8651029838832667,
          -3.841786005653433,
          -3.8184690274236,
          -3.795152049193767,
          -3.7718350709639337,
          -3.7485180927341,
          -3.7252011145042667,
          -3.7018841362744332,
          -3.6785671580446,
          -3.655250179814767,
          -3.6319332015849337,
          -3.6086162233551002,
          -3.5852992451252668,
          -3.5619822668954337,
          -3.5386652886656003,
          -3.5153483104357672,
          -3.4920313322059338,
          -3.4687143539761003,
          -3.445397375746267,
          -3.422080397516434,
          -3.3987634192866008,
          -3.3754464410567673,
          -3.352129462826934,
          -3.3288124845971008,
          -3.3054955063672677,
          -3.2821785281374343,
          -3.258861549907601,
          -3.2355445716777673,
          -3.2122275934479343,
          -3.188910615218101,
          -3.165593636988268,
          -3.1422766587584343,
          -3.118959680528601,
          -3.0956427022987674,
          -3.0723257240689343,
          -3.0490087458391013,
          -3.025691767609268,
          -3.0023747893794344,
          -2.979057811149601,
          -2.955740832919768,
          -2.9324238546899344,
          -2.9091068764601014,
          -2.885789898230268,
          -2.862472920000435,
          -2.839155941770601,
          -2.815838963540768,
          -2.7925219853109344,
          -2.7692050070811014,
          -2.745888028851268,
          -2.722571050621435,
          -2.699254072391602,
          -2.6759370941617684,
          -2.652620115931935,
          -2.6293031377021014,
          -2.6059861594722684,
          -2.582669181242435,
          -2.559352203012602,
          -2.5360352247827684,
          -2.5127182465529354,
          -2.4894012683231015,
          -2.4660842900932685,
          -2.442767311863435,
          -2.419450333633602,
          -2.3961333554037685,
          -2.3728163771739355,
          -2.349499398944102,
          -2.3261824207142685,
          -2.302865442484435,
          -2.279548464254602,
          -2.2562314860247685,
          -2.2329145077949355,
          -2.2095975295651025,
          -2.186280551335269,
          -2.1629635731054355,
          -2.139646594875602,
          -2.116329616645769,
          -2.0930126384159355,
          -2.0696956601861025,
          -2.046378681956269,
          -2.023061703726436,
          -1.999744725496602,
          -1.976427747266769,
          -1.9531107690369356,
          -1.9297937908071026,
          -1.906476812577269,
          -1.883159834347436,
          -1.8598428561176026,
          -1.836525877887769,
          -1.8132088996579356,
          -1.7898919214281026,
          -1.7665749431982691,
          -1.743257964968436,
          -1.719940986738603,
          -1.6966240085087696,
          -1.6733070302789361,
          -1.6499900520491027,
          -1.6266730738192696,
          -1.6033560955894361,
          -1.5800391173596031,
          -1.5567221391297696,
          -1.5334051608999366,
          -1.5100881826701027,
          -1.4867712044402697,
          -1.4634542262104362,
          -1.4401372479806032,
          -1.4168202697507697,
          -1.3935032915209367,
          -1.3701863132911032,
          -1.3468693350612702,
          -1.3235523568314362,
          -1.3002353786016032,
          -1.2769184003717702,
          -1.2536014221419367,
          -1.2302844439121037,
          -1.2069674656822702,
          -1.1836504874524372,
          -1.1603335092226033,
          -1.1370165309927702,
          -1.1136995527629368,
          -1.0903825745331037,
          -1.0670655963032702,
          -1.0437486180734368,
          -1.0204316398436042,
          -0.9971146616137698,
          -0.9737976833839372,
          -0.9504807051541038,
          -0.9271637269242703,
          -0.9038467486944368,
          -0.8805297704646033,
          -0.8572127922347708,
          -0.8338958140049373,
          -0.8105788357751047,
          -0.7872618575452703,
          -0.7639448793154369,
          -0.7406279010856043,
          -0.7173109228557708,
          -0.6939939446259373,
          -0.6706769663961039,
          -0.6473599881662713,
          -0.6240430099364378,
          -0.6007260317066034,
          -0.5774090534767709,
          -0.5540920752469374,
          -0.5307750970171048,
          -0.5074581187872704,
          -0.48414114055743784,
          -0.46082416232760437,
          -0.4375071840977718,
          -0.4141902058679374,
          -0.39087322763810395,
          -0.36755624940827136,
          -0.3442392711784379,
          -0.3209222929486053,
          -0.29760531471877094,
          -0.27428833648893836,
          -0.2509713582591049,
          -0.2276543800292714,
          -0.20433740179943793,
          -0.18102042356960446,
          -0.15770344533977187,
          -0.1343864671099384,
          -0.11106948888010493,
          -0.08775251065027145,
          -0.06443553242043798,
          -0.041118554190605394,
          -0.017801575960771032,
          0.005515402269061553,
          0.028832380498895027,
          0.05214935872872761,
          0.07546633695856197,
          0.09878331518839545,
          0.12210029341822803,
          0.1454172716480615,
          0.1687342498778941,
          0.19205122810772846,
          0.21536820633756104,
          0.23868518456739451,
          0.262002162797228,
          0.28531914102706146,
          0.30863611925689494,
          0.3319530974867275,
          0.355270075716561,
          0.37858705394639447,
          0.40190403217622794,
          0.4252210104060614,
          0.448537988635894,
          0.47185496686572836,
          0.49517194509556095,
          0.5184889233253944,
          0.541805901555227,
          0.5651228797850614,
          0.5884398580148948,
          0.6117568362447274,
          0.6350738144745609,
          0.6583907927043935,
          0.6817077709342279,
          0.7050247491640604,
          0.7283417273938939,
          0.7516587056237274,
          0.7749756838535609,
          0.7982926620833943,
          0.8216096403132269,
          0.8449266185430604,
          0.8682435967728939,
          0.8915605750027273,
          0.9148775532325608,
          0.9381945314623934,
          0.9615115096922278,
          0.9848284879220603,
          1.0081454661518938,
          1.0314624443817264,
          1.0547794226115608,
          1.0780964008413942,
          1.1014133790712268,
          1.1247303573010603,
          1.1480473355308929,
          1.1713643137607272,
          1.1946812919905598,
          1.2179982702203933,
          1.2413152484502268,
          1.2646322266800603,
          1.2879492049098937,
          1.3112661831397263,
          1.3345831613695598,
          1.3579001395993933,
          1.3812171178292267,
          1.4045340960590602,
          1.4278510742888928,
          1.4511680525187272,
          1.4744850307485597,
          1.4978020089783932,
          1.5211189872082258,
          1.5444359654380602,
          1.5677529436678936,
          1.5910699218977262,
          1.6143869001275597,
          1.6377038783573923,
          1.6610208565872266,
          1.6843378348170592,
          1.7076548130468927,
          1.7309717912767262,
          1.7542887695065597,
          1.7776057477363931,
          1.8009227259662257,
          1.8242397041960592,
          1.8475566824258927,
          1.8708736606557261,
          1.8941906388855596,
          1.9175076171153922,
          1.9408245953452266,
          1.9641415735750591,
          1.9874585518048926,
          2.010775530034725,
          2.0340925082645587,
          2.057409486494393,
          2.0807264647242256,
          2.104043442954059,
          2.1273604211838917,
          2.150677399413726,
          2.1739943776435586,
          2.197311355873392,
          2.2206283341032256,
          2.243945312333059,
          2.2672622905628925,
          2.290579268792725,
          2.3138962470225586,
          2.337213225252392,
          2.3605302034822255,
          2.383847181712058,
          2.4071641599418916,
          2.430481138171726,
          2.4537981164015585,
          2.477115094631392,
          2.5004320728612246,
          2.523749051091058,
          2.5470660293208915,
          2.570383007550725,
          2.5936999857805585,
          2.617016964010391,
          2.6403339422402254,
          2.663650920470058,
          2.6869678986998915,
          2.710284876929724,
          2.7336018551595584,
          2.756918833389392,
          2.7802358116192245,
          2.803552789849058,
          2.8268697680788915,
          2.850186746308725,
          2.8735037245385575,
          2.896820702768391,
          2.9201376809982253,
          2.943454659228058,
          2.9667716374578923,
          2.990088615687725,
          3.0134055939175575,
          3.03672257214739,
          3.0600395503772244,
          3.0833565286070588,
          3.1066735068368914,
          3.129990485066724,
          3.1533074632965565,
          3.176624441526391,
          3.1999414197562253,
          3.223258397986058,
          3.2465753762158904,
          3.269892354445725,
          3.2932093326755574,
          3.3165263109053917,
          3.3398432891352225,
          3.363160267365057,
          3.3864772455948913,
          3.409794223824724,
          3.433111202054558,
          3.456428180284389,
          3.4797451585142234,
          3.5030621367440578,
          3.5263791149738903,
          3.5496960932037247,
          3.5730130714335573,
          3.59633004966339,
          3.6196470278932242,
          3.642964006123057,
          3.6662809843528894,
          3.6895979625827238,
          3.7129149408125564,
          3.7362319190423907,
          3.759548897272225,
          3.782865875502056,
          3.8061828537318902,
          3.829499831961723,
          3.852816810191557,
          3.8761337884213916,
          3.8994507666512224,
          3.9227677448810567,
          3.9460847231108893,
          3.9694017013407237,
          3.9927186795705563,
          4.016035657800389,
          4.039352636030223,
          4.062669614260058,
          4.08598659248989,
          4.109303570719723,
          4.132620548949555,
          4.15593752717939,
          4.179254505409224,
          4.202571483639055,
          4.225888461868889,
          4.249205440098724,
          4.272522418328556,
          4.2958393965583905,
          4.319156374788221,
          4.342473353018056,
          4.36579033124789,
          4.389107309477723,
          4.412424287707557,
          4.435741265937388,
          4.459058244167222,
          4.4823752223970565,
          4.505692200626889,
          4.529009178856722,
          4.552326157086556,
          4.575643135316389,
          4.598960113546223,
          4.622277091776056,
          4.645594070005888,
          4.668911048235723,
          4.692228026465555,
          4.7155450046953895,
          4.738861982925224,
          4.762178961155055,
          4.785495939384889,
          4.808812917614722,
          4.832129895844556,
          4.855446874074389,
          4.878763852304221,
          4.9020808305340555,
          4.925397808763888,
          4.9487147869937225,
          4.972031765223555,
          4.995348743453388,
          5.018665721683222,
          5.041982699913056,
          5.065299678142889,
          5.0886166563727215,
          5.111933634602554,
          5.1352506128323885,
          5.158567591062223,
          5.181884569292054,
          5.205201547521888,
          5.228518525751722,
          5.251835503981555,
          5.275152482211389,
          5.29846946044122,
          5.3217864386710545,
          5.345103416900889,
          5.3684203951307214,
          5.391737373360556,
          5.415054351590387,
          5.438371329820221,
          5.461688308050055,
          5.485005286279888,
          5.5083222645097205,
          5.531639242739555,
          5.5549562209693875,
          5.578273199199222,
          5.601590177429054,
          5.624907155658887,
          5.648224133888721,
          5.671541112118554,
          5.694858090348388,
          5.718175068578223,
          5.7414920468080535,
          5.764809025037888,
          5.78812600326772,
          5.811442981497555,
          5.834759959727387,
          5.85807693795722,
          5.881393916187054,
          5.904710894416887,
          5.928027872646721,
          5.951344850876554,
          5.974661829106386,
          5.997978807336221,
          6.021295785566055,
          6.044612763795888,
          6.06792974202572,
          6.091246720255553,
          6.114563698485387,
          6.137880676715222,
          6.1611976549450524,
          6.184514633174887,
          6.207831611404721,
          6.231148589634554,
          6.254465567864388,
          6.277782546094219,
          6.301099524324053,
          6.324416502553888,
          6.34773348078372,
          6.371050459013555,
          6.394367437243385,
          6.41768441547322,
          6.441001393703054,
          6.464318371932887,
          6.487635350162719,
          6.510952328392554,
          6.534269306622386,
          6.557586284852221
         ],
         "xaxis": "x",
         "y": [
          0.006616081736722864,
          0.006580119927529627,
          0.006473403081428284,
          0.00629937388282177,
          0.006063564685837937,
          0.005773305490885267,
          0.005437345830368613,
          0.005065417751983037,
          0.004667770274435119,
          0.00425470617948036,
          0.003836149891852738,
          0.0034212708456284996,
          0.003018180709434237,
          0.002633715839020416,
          0.002273309078339491,
          0.001940948226794278,
          0.0016392126995643916,
          0.0013693755303778126,
          0.001131555110288696,
          0.0009248999407728171,
          0.0007477900584304867,
          0.000598040390866323,
          0.0004730937823549007,
          0.00037019441140139273,
          0.00028653545649948245,
          0.00021937785016603825,
          0.000166139567829301,
          0.00012445698352756094,
          0.00009222132531933168,
          0.00006759418589819883,
          0.000049006447166642064,
          0.00003514495481761231,
          0.000024930940043763585,
          0.000017493641143501103,
          0.00001214192837283187,
          0.000008336063494206793,
          0.000005661092555065788,
          0.000003802816686980062,
          0.000002526832305258345,
          0.000001660784735394715,
          0.00000107973247167582,
          6.94360287891526e-7,
          4.4169194655291245e-7,
          2.7792011518751047e-7,
          1.729762093275828e-7,
          1.064924121120091e-7,
          6.485102532501598e-8,
          3.906437890304627e-8,
          2.327613646180439e-8,
          1.3718504175147669e-8,
          7.9977627896565e-9,
          4.612072996147673e-9,
          2.6308114284921472e-9,
          1.4843939014402663e-9,
          8.284656324411827e-10,
          4.573679486974934e-10,
          2.4975998000078617e-10,
          1.34910536402671e-10,
          7.208332002970366e-11,
          3.8096895585145446e-11,
          1.9916374687940998e-11,
          1.0299043267899287e-11,
          5.26804373041259e-12,
          2.6654329016014107e-12,
          1.333988332895145e-12,
          6.603926063806513e-13,
          3.2338380562994327e-13,
          1.5663911723508242e-13,
          7.504954790390245e-14,
          3.5568195137345243e-14,
          1.667406421880554e-14,
          7.731913842902598e-15,
          3.546487537932869e-15,
          1.609073102004745e-15,
          7.221361247768264e-16,
          3.2057426542476006e-16,
          1.4076883946914392e-16,
          6.114554837049987e-17,
          2.6277095649434283e-17,
          1.1183854383639438e-17,
          4.743569988956991e-18,
          2.0788818008409847e-18,
          1.12090061213943e-18,
          1.1129536521809219e-18,
          2.0537151832930875e-18,
          4.70060140921425e-18,
          1.1139371559462235e-17,
          2.631747482693142e-17,
          6.158569331557321e-17,
          1.4259341680596423e-16,
          3.266076050509225e-16,
          7.400276318066292e-16,
          1.6586802503637374e-15,
          3.677651088046299e-15,
          8.066252151842304e-15,
          1.7501160204074855e-14,
          3.756263308288203e-14,
          7.975165877809928e-14,
          1.6750134540811505e-13,
          3.4801031993404774e-13,
          7.152560908721875e-13,
          1.4542095672775588e-12,
          2.9247502945372885e-12,
          5.818986172968386e-12,
          1.145257030567351e-11,
          2.2297495817877953e-11,
          4.294445279712959e-11,
          8.181939945387929e-11,
          1.542070072005922e-10,
          2.875086475457955e-10,
          5.302700179343619e-10,
          9.674821615543102e-10,
          1.746179840022459e-9,
          3.11770816549048e-9,
          5.506590940215447e-9,
          9.621248143930957e-9,
          1.6629593806580695e-8,
          2.843373267818318e-8,
          4.809373507984513e-8,
          8.047220922564509e-8,
          1.3320070536642179e-7,
          2.1810755565081407e-7,
          3.5329614073743254e-7,
          5.661239067248495e-7,
          8.97405962540137e-7,
          0.0000014072514755063494,
          0.000002183032762822957,
          0.000003350079180941212,
          0.000005085769789010673,
          0.000007637754583266817,
          0.000011347042823274755,
          0.00001667663238498889,
          0.000024246185851539888,
          0.00003487295501367751,
          0.000049618685291503094,
          0.00006984157214497983,
          0.00009725148348987709,
          0.00013396561766039036,
          0.00018256057704478667,
          0.0002461155806460523,
          0.0003282403319679309,
          0.0004330800588387878,
          0.0005652896390665971,
          0.0007299687291079909,
          0.0009325506281670401,
          0.001178639411109935,
          0.0014737927578311494,
          0.0018232519002112197,
          0.002231625073680757,
          0.002702536517744437,
          0.003238258978849503,
          0.0038393532477857795,
          0.004504342829516724,
          0.005229454677693961,
          0.006008457360798816,
          0.006832625540406348,
          0.007690853955738884,
          0.008569935267176556,
          0.009455004533292,
          0.010330139581679672,
          0.011179092222818387,
          0.011986111532947133,
          0.012736808787187918,
          0.013419005486543229,
          0.014023502481469139,
          0.014544710240266621,
          0.014981088112836211,
          0.015335353691636197,
          0.015614441201408565,
          0.015829208914541825,
          0.015993918230926697,
          0.01612552950575308,
          0.01624288028323651,
          0.01636582892678405,
          0.016514459804674447,
          0.016708454795805776,
          0.01696674002543911,
          0.01730751691280108,
          0.017748783475279806,
          0.018309445959907283,
          0.019011112444037442,
          0.01988064857561299,
          0.020953559739560406,
          0.022278241299974407,
          0.02392110594814212,
          0.02597255075982761,
          0.028553662443255738,
          0.03182347425545594,
          0.035986480659888284,
          0.04129998722714277,
          0.04808072861100711,
          0.05671003646367611,
          0.06763669691833434,
          0.0813765239048821,
          0.09850761435966776,
          0.11966027082189883,
          0.1455007016820242,
          0.17670786053051377,
          0.2139431756626577,
          0.2578134473257999,
          0.3088278349437664,
          0.36735058087031114,
          0.43355186301419085,
          0.5073598607283784,
          0.5884176702817988,
          0.6760490292814035,
          0.7692368235254714,
          0.8666179956786102,
          0.9664977258924116,
          1.0668846244302672,
          1.1655472260337727,
          1.2600904110851576,
          1.3480486436638235,
          1.426991280350191,
          1.4946338417512914,
          1.5489482124848262,
          1.588264370589405,
          1.6113565163449706,
          1.6175073798863115,
          1.6065459733965493,
          1.578855988459431,
          1.535354241888616,
          1.477440832250352,
          1.406924766007279,
          1.3259305475425796,
          1.236792444268985,
          1.1419437390272724,
          1.0438082381504232,
          0.9447006549372987,
          0.8467413353906159,
          0.7517892815765945,
          0.6613957287080228,
          0.5767788196743768,
          0.49881835372243266,
          0.42806829066495183,
          0.3647837522121584,
          0.30895871514165457,
          0.2603704300037683,
          0.2186267795383821,
          0.18321324173994744,
          0.153536757478617,
          0.12896453260830648,
          0.1088565474000474,
          0.09259123420318963,
          0.07958436852766562,
          0.06930167047875756,
          0.06126592281235621,
          0.055059584800796466,
          0.05032393524458295,
          0.04675573809299363,
          0.044102317874070596,
          0.042155786429881444,
          0.04074700097244295,
          0.03973967500713275,
          0.03902492145660798,
          0.03851638915715296,
          0.03814606280328707,
          0.03786073161719724,
          0.0376190901270538,
          0.03738941059392727,
          0.03714771553342323,
          0.0368763755259213,
          0.036563058156494035,
          0.03619995581602638,
          0.03578322192671466,
          0.035312546832262676,
          0.03479080691255932,
          0.03422372471775088,
          0.03361948536929866,
          0.032988266065480526,
          0.03234165148163585,
          0.03169192753507198,
          0.031051267891800873,
          0.03043084952813833,
          0.029839953025537637,
          0.02928511746013714,
          0.02876942653774479,
          0.028292000580298696,
          0.027847757692668545,
          0.027427487695818518,
          0.027018256092056006,
          0.026604125232041555,
          0.026167149353495466,
          0.025688572772044265,
          0.025150139428332465,
          0.024535409712531833,
          0.02383097844135263,
          0.02302749628784695,
          0.02212041487443016,
          0.0211104010753795,
          0.020003395985982553,
          0.018810325231405,
          0.01754649652865899,
          0.01623074477809752,
          0.014884402243819416,
          0.013530180293968902,
          0.012191049418300562,
          0.010889196482516437,
          0.009645123878439854,
          0.008476936412358247,
          0.007399840752003559,
          0.0064258613377184024,
          0.0055637579157959294,
          0.004819114886213541,
          0.004194562520960643,
          0.0036900852415074816,
          0.003303372402261115,
          0.003030171772663153,
          0.0028646141328794576,
          0.0027994878555529265,
          0.0028264537113390433,
          0.0029362011271850843,
          0.0031185566184260094,
          0.0033625622250038263,
          0.003656545922991386,
          0.003988206897246186,
          0.004344736322217148,
          0.004712989287419076,
          0.005079716367929141,
          0.005431854923540687,
          0.005756871474675776,
          0.006043138433008822,
          0.006280321967980695,
          0.006459753604842086,
          0.0065747567642275425,
          0.00662090105264904,
          0.006596161557415752,
          0.006500967237546432,
          0.0063381310243578876,
          0.006112663565080295,
          0.005831481700567559,
          0.005503030842991765,
          0.0051368466338479555,
          0.0047430850672110164,
          0.004332051390216084,
          0.003913756572685886,
          0.0034975262785433676,
          0.0030916816045388753,
          0.0027033040545586156,
          0.002338090025261498,
          0.0020002931951213425,
          0.0016927472318321879,
          0.0014169565991690048,
          0.0011732402006644543,
          0.0009609111984644554,
          0.000778476474595223,
          0.0006238406084270373,
          0.0004945015929022289,
          0.00038772843267053937,
          0.0003007138999934919,
          0.0002306987565928284,
          0.0001750664400972606,
          0.00013140940320166973,
          0.00009756990457768935,
          0.0000716590773803437,
          0.0000520585945152147,
          0.00003740929809654226,
          0.000026590871718760843,
          0.000018696119888850338,
          0.000013002782195975834,
          0.000008945136779529052,
          0.000006087003867298253,
          0.0000040971896198989485,
          0.0000027279376763218328,
          0.0000017965889259212623,
          0.0000011703853767014934,
          7.54179892850995e-7,
          4.807141503845874e-7,
          3.0308521911363806e-7,
          1.8902032353574685e-7,
          1.166052599133676e-7,
          7.115307516469634e-8,
          4.2947224456478105e-8,
          2.564144073198385e-8,
          1.5143129598537485e-8,
          8.846159160335622e-9,
          5.1116340317244044e-9,
          2.9216665681851642e-9,
          1.6518379667100918e-9,
          9.237833562188699e-10,
          5.110209757742337e-10,
          2.796232362207357e-10,
          1.5134701735769712e-10,
          8.102912602269154e-11,
          4.291189436876211e-11,
          2.2479901891605475e-11,
          1.1650325009463586e-11,
          5.9759614822438314e-12,
          3.039843250371405e-12,
          1.5460994670758314e-12,
          8.127816038841465e-13,
          4.947938925555366e-13,
          4.389669330104037e-13,
          6.181034794273204e-13,
          1.1191258813404696e-12,
          2.180797290930494e-12,
          4.295361399200604e-12,
          8.411951614781959e-12,
          1.631506801121797e-11,
          3.1309133531661585e-11,
          5.943581199665111e-11,
          1.1160870376041475e-10,
          2.0730769358707822e-10,
          3.8088953811814134e-10,
          6.922271838440225e-10,
          1.2444119437838395e-9,
          2.2128174645476757e-9,
          3.8921798980564784e-9,
          6.77183105337437e-9,
          1.1654273829235416e-8,
          1.9839476835736756e-8,
          3.340727925640058e-8,
          5.564394251629166e-8,
          9.167703801769899e-8,
          1.4940638142426892e-7,
          2.408483168590527e-7,
          3.840466472198785e-7,
          6.05745553001879e-7,
          9.450665353195718e-7,
          0.0000014584798381834161,
          0.0000022264060257723726,
          0.0000033618180276149057,
          0.000005021227849016794,
          0.000007418422263081813,
          0.000010841242663297571,
          0.000015671568849420533,
          0.00002240844800568717,
          0.00003169399436590362,
          0.00004434126392290828,
          0.00006136278388394037,
          0.00008399780443378933,
          0.00011373567482865312,
          0.00015233208177883173,
          0.0002018143018382305,
          0.00026447120663354655,
          0.0003428236288834734,
          0.0004395709598061667,
          0.0005575106048542289,
          0.0006994282462138848,
          0.0008679587712601532,
          0.0010654201854717953,
          0.0012936257175809613,
          0.0015536824420177286,
          0.0018457878088440187,
          0.0021690381435913175,
          0.002521265087839317,
          0.0028989167365792885,
          0.003296999591224165,
          0.003709095198676306,
          0.004127461452490168,
          0.0045432231416595945,
          0.004946649789739193,
          0.005327511654163185,
          0.005675497611498668,
          0.0059806722684143,
          0.006233944727938893,
          0.006427518622528622,
          0.006555292731118508,
          0.006613183907803405,
          0.006599349058798192,
          0.006514290116860134,
          0.006360834730802992,
          0.0061439948816426225,
          0.005870714937578666,
          0.005549528867027756,
          0.005190152664129401,
          0.004803041935857887,
          0.004398945753924751,
          0.003988486280393423,
          0.0035817896055595666,
          0.0031881871968991787,
          0.0028160000201538768,
          0.0024724095109396648,
          0.002163411897921928,
          0.0018938455793442405,
          0.0016674758715936088,
          0.0014871178497379359,
          0.001354776371265835,
          0.0012717827255759265,
          0.0012389095385123951,
          0.001256449313541423,
          0.0013242469455821738,
          0.0014416822731699583,
          0.0016076047756812676,
          0.0018202283969601515,
          0.002076999714429632,
          0.002374456832896322,
          0.002708099078986672,
          0.003072288503787204,
          0.003460203181757736,
          0.003863859283556329,
          0.0042742140297581796,
          0.004681355214592178,
          0.005074775512782771,
          0.005443721885210405,
          0.005777602814323971,
          0.006066429588919602,
          0.006301263125384007,
          0.006474635423858665,
          0.006580915062723832
         ],
         "yaxis": "y"
        },
        {
         "legendgroup": "Ridge",
         "marker": {
          "color": "rgb(255, 127, 14)"
         },
         "mode": "lines",
         "name": "Ridge",
         "showlegend": false,
         "type": "scatter",
         "x": [
          -4.491722023123003,
          -4.472032734796801,
          -4.452343446470598,
          -4.432654158144396,
          -4.412964869818193,
          -4.393275581491991,
          -4.373586293165787,
          -4.353897004839585,
          -4.334207716513382,
          -4.31451842818718,
          -4.294829139860977,
          -4.2751398515347745,
          -4.255450563208572,
          -4.235761274882369,
          -4.216071986556167,
          -4.196382698229964,
          -4.176693409903761,
          -4.157004121577558,
          -4.137314833251356,
          -4.117625544925153,
          -4.097936256598951,
          -4.078246968272748,
          -4.058557679946546,
          -4.038868391620343,
          -4.019179103294141,
          -3.9994898149679377,
          -3.979800526641735,
          -3.9601112383155326,
          -3.9404219499893296,
          -3.920732661663127,
          -3.9010433733369245,
          -3.881354085010722,
          -3.8616647966845195,
          -3.841975508358317,
          -3.8222862200321144,
          -3.8025969317059114,
          -3.782907643379709,
          -3.7632183550535063,
          -3.743529066727304,
          -3.723839778401101,
          -3.7041504900748983,
          -3.6844612017486957,
          -3.664771913422493,
          -3.6450826250962907,
          -3.625393336770088,
          -3.6057040484438856,
          -3.5860147601176826,
          -3.56632547179148,
          -3.5466361834652775,
          -3.526946895139075,
          -3.507257606812872,
          -3.4875683184866695,
          -3.467879030160467,
          -3.4481897418342644,
          -3.428500453508062,
          -3.408811165181859,
          -3.3891218768556564,
          -3.369432588529454,
          -3.3497433002032513,
          -3.3300540118770487,
          -3.3103647235508458,
          -3.2906754352246432,
          -3.2709861468984407,
          -3.251296858572238,
          -3.2316075702460356,
          -3.211918281919833,
          -3.1922289935936305,
          -3.172539705267428,
          -3.152850416941225,
          -3.133161128615022,
          -3.1134718402888195,
          -3.093782551962617,
          -3.0740932636364144,
          -3.054403975310212,
          -3.0347146869840094,
          -3.015025398657807,
          -2.9953361103316043,
          -2.9756468220054013,
          -2.955957533679199,
          -2.9362682453529962,
          -2.9165789570267937,
          -2.8968896687005907,
          -2.877200380374388,
          -2.8575110920481857,
          -2.837821803721983,
          -2.8181325153957806,
          -2.798443227069578,
          -2.778753938743375,
          -2.7590646504171725,
          -2.73937536209097,
          -2.7196860737647675,
          -2.6999967854385645,
          -2.680307497112362,
          -2.6606182087861594,
          -2.640928920459957,
          -2.6212396321337543,
          -2.601550343807552,
          -2.5818610554813493,
          -2.5621717671551467,
          -2.5424824788289437,
          -2.5227931905027408,
          -2.503103902176538,
          -2.4834146138503357,
          -2.463725325524133,
          -2.4440360371979306,
          -2.424346748871728,
          -2.4046574605455255,
          -2.384968172219323,
          -2.3652788838931205,
          -2.3455895955669175,
          -2.3259003072407145,
          -2.306211018914512,
          -2.2865217305883094,
          -2.266832442262107,
          -2.2471431539359044,
          -2.227453865609702,
          -2.2077645772834993,
          -2.1880752889572967,
          -2.168386000631094,
          -2.1486967123048912,
          -2.1290074239786887,
          -2.109318135652486,
          -2.089628847326283,
          -2.0699395590000806,
          -2.050250270673878,
          -2.0305609823476756,
          -2.010871694021473,
          -1.9911824056952705,
          -1.9714931173690675,
          -1.951803829042865,
          -1.9321145407166624,
          -1.91242525239046,
          -1.8927359640642574,
          -1.8730466757380548,
          -1.8533573874118523,
          -1.8336680990856493,
          -1.8139788107594468,
          -1.7942895224332438,
          -1.7746002341070413,
          -1.7549109457808387,
          -1.7352216574546362,
          -1.7155323691284337,
          -1.6958430808022311,
          -1.6761537924760286,
          -1.656464504149826,
          -1.636775215823623,
          -1.6170859274974205,
          -1.597396639171218,
          -1.577707350845015,
          -1.5580180625188125,
          -1.53832877419261,
          -1.5186394858664074,
          -1.4989501975402049,
          -1.4792609092140023,
          -1.4595716208877993,
          -1.4398823325615968,
          -1.4201930442353943,
          -1.4005037559091917,
          -1.3808144675829892,
          -1.3611251792567867,
          -1.3414358909305841,
          -1.3217466026043811,
          -1.3020573142781786,
          -1.2823680259519756,
          -1.262678737625773,
          -1.2429894492995706,
          -1.223300160973368,
          -1.2036108726471655,
          -1.183921584320963,
          -1.1642322959947604,
          -1.1445430076685579,
          -1.1248537193423553,
          -1.1051644310161524,
          -1.0854751426899494,
          -1.0657858543637468,
          -1.0460965660375443,
          -1.0264072777113418,
          -1.0067179893851392,
          -0.9870287010589367,
          -0.9673394127327342,
          -0.9476501244065316,
          -0.9279608360803286,
          -0.9082715477541261,
          -0.8885822594279236,
          -0.868892971101721,
          -0.8492036827755185,
          -0.8295143944493155,
          -0.809825106123113,
          -0.7901358177969104,
          -0.7704465294707075,
          -0.7507572411445049,
          -0.7310679528183024,
          -0.7113786644920999,
          -0.6916893761658973,
          -0.6720000878396948,
          -0.6523107995134922,
          -0.6326215111872897,
          -0.6129322228610872,
          -0.5932429345348842,
          -0.5735536462086812,
          -0.5538643578824787,
          -0.5341750695562761,
          -0.5144857812300736,
          -0.49479649290387107,
          -0.4751072045776681,
          -0.45541791625146555,
          -0.435728627925263,
          -0.4160393395990605,
          -0.39635005127285794,
          -0.3766607629466554,
          -0.35697147462045287,
          -0.33728218629425033,
          -0.3175928979680478,
          -0.29790360964184526,
          -0.2782143213156427,
          -0.2585250329894402,
          -0.23883574466323765,
          -0.2191464563370351,
          -0.1994571680108317,
          -0.17976787968462915,
          -0.16007859135842573,
          -0.1403893030322232,
          -0.12070001470602065,
          -0.10101072637981812,
          -0.08132143805361558,
          -0.061632149727413044,
          -0.04194286140121051,
          -0.02225357307500797,
          -0.0025642847488054343,
          0.017125003577397102,
          0.03681429190359964,
          0.056503580229802175,
          0.07619286855600471,
          0.09588215688220725,
          0.11557144520840978,
          0.13526073353461232,
          0.15495002186081486,
          0.1746393101870174,
          0.19432859851322082,
          0.21401788683942335,
          0.2337071751656259,
          0.2533964634918284,
          0.27308575181803096,
          0.2927750401442335,
          0.3124643284704369,
          0.33215361679663946,
          0.351842905122842,
          0.37153219344904453,
          0.39122148177524707,
          0.4109107701014496,
          0.43060005842765214,
          0.4502893467538547,
          0.4699786350800572,
          0.48966792340625975,
          0.5093572117324623,
          0.5290465000586657,
          0.5487357883848683,
          0.5684250767110708,
          0.5881143650372733,
          0.6078036533634759,
          0.6274929416896784,
          0.6471822300158809,
          0.6668715183420835,
          0.686560806668286,
          0.7062500949944885,
          0.7259393833206911,
          0.7456286716468936,
          0.7653179599730962,
          0.7850072482992987,
          0.8046965366255021,
          0.8243858249517046,
          0.8440751132779072,
          0.8637644016041097,
          0.8834536899303131,
          0.9031429782565157,
          0.9228322665827182,
          0.9425215549089208,
          0.9622108432351233,
          0.9819001315613258,
          1.0015894198875284,
          1.021278708213731,
          1.0409679965399334,
          1.060657284866136,
          1.0803465731923385,
          1.100035861518541,
          1.1197251498447436,
          1.1394144381709461,
          1.1591037264971487,
          1.1787930148233512,
          1.1984823031495537,
          1.2181715914757572,
          1.2378608798019597,
          1.2575501681281622,
          1.2772394564543648,
          1.2969287447805673,
          1.3166180331067707,
          1.3363073214329733,
          1.3559966097591758,
          1.3756858980853783,
          1.3953751864115809,
          1.4150644747377834,
          1.434753763063986,
          1.4544430513901885,
          1.474132339716391,
          1.4938216280425936,
          1.513510916368796,
          1.5332002046949986,
          1.5528894930212012,
          1.5725787813474046,
          1.5922680696736071,
          1.6119573579998097,
          1.6316466463260122,
          1.6513359346522147,
          1.6710252229784173,
          1.6907145113046198,
          1.7104037996308223,
          1.7300930879570249,
          1.7497823762832274,
          1.76947166460943,
          1.7891609529356325,
          1.808850241261835,
          1.8285395295880384,
          1.848228817914241,
          1.8679181062404435,
          1.887607394566646,
          1.9072966828928495,
          1.926985971219052,
          1.9466752595452546,
          1.966364547871457,
          1.9860538361976596,
          2.005743124523862,
          2.0254324128500647,
          2.0451217011762672,
          2.0648109895024698,
          2.0845002778286723,
          2.104189566154875,
          2.1238788544810774,
          2.14356814280728,
          2.1632574311334825,
          2.182946719459685,
          2.2026360077858875,
          2.22232529611209,
          2.2420145844382926,
          2.261703872764496,
          2.2813931610906986,
          2.301082449416901,
          2.3207717377431045,
          2.340461026069307,
          2.3601503143955096,
          2.379839602721712,
          2.3995288910479147,
          2.419218179374117,
          2.4389074677003197,
          2.4585967560265223,
          2.478286044352725,
          2.4979753326789274,
          2.51766462100513,
          2.5373539093313324,
          2.557043197657535,
          2.5767324859837375,
          2.59642177430994,
          2.6161110626361435,
          2.635800350962346,
          2.6554896392885485,
          2.675178927614751,
          2.6948682159409536,
          2.714557504267156,
          2.7342467925933587,
          2.753936080919561,
          2.7736253692457637,
          2.7933146575719663,
          2.813003945898169,
          2.8326932342243722,
          2.852382522550575,
          2.8720718108767773,
          2.89176109920298,
          2.9114503875291824,
          2.931139675855385,
          2.9508289641815884,
          2.970518252507791,
          2.9902075408339934,
          3.009896829160196,
          3.0295861174863985,
          3.049275405812601,
          3.0689646941388036,
          3.088653982465006,
          3.1083432707912086,
          3.128032559117411,
          3.1477218474436137,
          3.1674111357698163,
          3.187100424096019,
          3.2067897124222213,
          3.226479000748424,
          3.2461682890746264,
          3.265857577400829,
          3.2855468657270315,
          3.305236154053235,
          3.3249254423794383,
          3.344614730705641,
          3.3643040190318434,
          3.383993307358046,
          3.4036825956842485,
          3.423371884010451,
          3.4430611723366535,
          3.462750460662856,
          3.4824397489890586,
          3.502129037315261,
          3.5218183256414637,
          3.541507613967667,
          3.5611969022938688,
          3.580886190620072,
          3.600575478946274,
          3.6202647672724773,
          3.639954055598679,
          3.6596433439248823,
          3.679332632251084,
          3.6990219205772874,
          3.718711208903489,
          3.7384004972296925,
          3.758089785555894,
          3.7777790738820975,
          3.797468362208299,
          3.8171576505345026,
          3.836846938860706,
          3.8565362271869077,
          3.876225515513111,
          3.8959148038393128,
          3.915604092165516,
          3.935293380491718,
          3.9549826688179213,
          3.974671957144123,
          3.9943612454703263,
          4.014050533796528,
          4.033739822122731,
          4.053429110448933,
          4.0731183987751365,
          4.09280768710134,
          4.112496975427543,
          4.132186263753745,
          4.151875552079948,
          4.171564840406152,
          4.1912541287323535,
          4.210943417058557,
          4.2306327053847586,
          4.250321993710962,
          4.270011282037164,
          4.289700570363367,
          4.309389858689569,
          4.329079147015772,
          4.348768435341974,
          4.368457723668177,
          4.388147011994379,
          4.407836300320582,
          4.427525588646784,
          4.447214876972987,
          4.466904165299189,
          4.486593453625392,
          4.506282741951596,
          4.5259720302777975,
          4.545661318604001,
          4.565350606930203,
          4.585039895256406,
          4.604729183582608,
          4.624418471908811,
          4.644107760235013,
          4.663797048561216,
          4.683486336887418,
          4.703175625213621,
          4.722864913539823,
          4.742554201866026,
          4.762243490192228,
          4.781932778518431,
          4.801622066844633,
          4.821311355170836,
          4.841000643497038,
          4.8606899318232415,
          4.880379220149445,
          4.900068508475647,
          4.91975779680185,
          4.939447085128052,
          4.959136373454255,
          4.978825661780457,
          4.99851495010666,
          5.018204238432862,
          5.037893526759065,
          5.057582815085267,
          5.07727210341147,
          5.096961391737674,
          5.116650680063877,
          5.136339968390079,
          5.156029256716282,
          5.175718545042484,
          5.195407833368687,
          5.215097121694891,
          5.234786410021092,
          5.254475698347296,
          5.274164986673497,
          5.293854274999701,
          5.3135435633259025,
          5.333232851652106
         ],
         "xaxis": "x",
         "y": [
          0.004018457567951768,
          0.004012701707431581,
          0.003995481500453678,
          0.003966944682824811,
          0.003927335092731356,
          0.0038769892156757415,
          0.0038163314429222176,
          0.0037458681379544884,
          0.0036661806282452646,
          0.003577917259514423,
          0.003481784666147418,
          0.003378538424203098,
          0.0032689732622152978,
          0.003153913009660312,
          0.0030342004635158814,
          0.002910687349886106,
          0.002784224550430518,
          0.0026556527526322912,
          0.0025257936691748303,
          0.00239544195534157,
          0.0022653579349370657,
          0.0021362612253077867,
          0.0020088253311925804,
          0.0018836732559243568,
          0.0017613741574830286,
          0.00164244105657331,
          0.0015273295847242744,
          0.0014164377427720134,
          0.0013101066243091924,
          0.0012086220450044966,
          0.0011122170072675435,
          0.0010210749206357205,
          0.0009353334914847041,
          0.0008550891911381869,
          0.0007804022090316501,
          0.0007113017970735142,
          0.0006477919125017671,
          0.0005898570690812814,
          0.000537468310132276,
          0.0004905892213217301,
          0.00044918190609138746,
          0.0004132128517584571,
          0.00038265861945652196,
          0.0003575112959693701,
          0.0003377836499793368,
          0.0003235139391843444,
          0.0003147703180697086,
          0.00031165479884401185,
          0.0003143067202126255,
          0.0003229056803727115,
          0.0003376738920261298,
          0.00035887791852387145,
          0.00038682975171759566,
          0.0004218871939696165,
          0.0004644535093493104,
          0.0005149763126141264,
          0.0005739456694231248,
          0.0006418913876247412,
          0.0007193794876280906,
          0.0008070078499892041,
          0.0009054010505377804,
          0.0010152044076794755,
          0.001137077282889458,
          0.0012716856937262891,
          0.001419694318700479,
          0.0015817579946826937,
          0.0017585128297812997,
          0.0019505670772039453,
          0.0021584919378954313,
          0.0023828124809856907,
          0.00262399889049165,
          0.0028824582634567088,
          0.0031585271979214288,
          0.0034524654179483413,
          0.0037644506865581414,
          0.004094575255134854,
          0.004442844088984171,
          0.004809175092786082,
          0.005193401536338951,
          0.005595276850116952,
          0.006014481921847624,
          0.006450634979894656,
          0.006903304097287022,
          0.007372022292614831,
          0.00785630514180738,
          0.008355670749355245,
          0.008869661860381498,
          0.009397869827836636,
          0.00993996008385147,
          0.01049569870288769,
          0.01106497958875669,
          0.011647851769785849,
          0.012244546248243848,
          0.012855501823277436,
          0.013481389292507463,
          0.014123133437235818,
          0.014781932210727624,
          0.015459272578656048,
          0.016156942505498297,
          0.016877038639961036,
          0.017621969325434392,
          0.018394452646614483,
          0.019197509318946104,
          0.020034450331178743,
          0.02090885936052323,
          0.021824570091795188,
          0.02278563868350302,
          0.02379631173196053,
          0.02486099018605618,
          0.025984189757287873,
          0.027170498449274605,
          0.02842453189570562,
          0.02975088724349609,
          0.031154096347201028,
          0.0326385790504394,
          0.034208597319763896,
          0.03586821096625699,
          0.037621235640968004,
          0.03947120372357196,
          0.04142132864137092,
          0.04347447306053059,
          0.04563312128627815,
          0.04789935609704521,
          0.05027484012285946,
          0.05276080176440832,
          0.055358025539868586,
          0.05806684664543129,
          0.060887149425796365,
          0.0638183693757416,
          0.06685949823564927,
          0.07000909170449177,
          0.07326527927445406,
          0.0766257756926137,
          0.0800878935766633,
          0.08364855675257493,
          0.0873043139406624,
          0.09105135249032613,
          0.09488551194991615,
          0.09880229735316125,
          0.10279689220366575,
          0.10686417124000597,
          0.11099871316179129,
          0.1151948135875913,
          0.1194464985949356,
          0.12374753925709972,
          0.12809146763800092,
          0.13247159473271003,
          0.13688103084502914,
          0.14131270887420425,
          0.14575941093988348,
          0.15021379870845072,
          0.15466844769623495,
          0.15911588571798924,
          0.16354863552529567,
          0.16795926154271792,
          0.1723404204635741,
          0.17668491531658695,
          0.1809857524640242,
          0.18523620084606296,
          0.18942985264974535,
          0.1935606844585681,
          0.19762311783472594,
          0.2016120782040914,
          0.20552305085736952,
          0.2093521328521249,
          0.21309607960136556,
          0.21675234496617443,
          0.2203191137328051,
          0.22379532544813124,
          0.22718068871010177,
          0.2304756851597938,
          0.2336815625960255,
          0.23680031682889138,
          0.23983466210104043,
          0.24278799013065555,
          0.24566431806308925,
          0.2484682258539559,
          0.2512047838399684,
          0.2538794714796663,
          0.2564980884592302,
          0.25906665955374464,
          0.26159133480675123,
          0.2640782867362759,
          0.26653360638967494,
          0.268963200149116,
          0.2713726892313956,
          0.2737673138278427,
          0.2761518437907869,
          0.2785304976917808,
          0.2809068719536399,
          0.2832838815944295,
          0.28566371391877926,
          0.28804779625325055,
          0.2904367785516859,
          0.29283053139833104,
          0.295228159616509,
          0.2976280313551044,
          0.3000278221810689,
          0.30242457336110773,
          0.3048147631776048,
          0.30719438980083613,
          0.309559063939846,
          0.3119041092260222,
          0.31422466805413457,
          0.3165158104224119,
          0.31877264318242693,
          0.32099041703635506,
          0.3231646286075825,
          0.32529111496329294,
          0.3273661380856256,
          0.3293864569707569,
          0.3313493852804944,
          0.33325283277478734,
          0.335095329110215,
          0.3368760289918333,
          0.3385946981049484,
          0.3402516797195221,
          0.3418478423419026,
          0.34338450927465547,
          0.34486337142316226,
          0.3462863851449221,
          0.3476556573620154,
          0.3489733205372205,
          0.350241400439164,
          0.35146167988204635,
          0.35263556181288996,
          0.35376393522769106,
          0.35484704742297507,
          0.3558843860289106,
          0.35687457412437734,
          0.35781528150544767,
          0.35870315487115756,
          0.35953376931072834,
          0.3603016030331016,
          0.3610000367829849,
          0.3616213788492013,
          0.36215691600382877,
          0.3625969901279731,
          0.3629310996960119,
          0.3631480247189127,
          0.3632359732023963,
          0.3631827466704364,
          0.362975921850825,
          0.36260304522803843,
          0.36205183684853187,
          0.36131039952218147,
          0.36036742940627625,
          0.35921242388851377,
          0.35783588270402933,
          0.35622949832768924,
          0.35438633187367385,
          0.3523009710048486,
          0.3499696666978689,
          0.3473904461180927,
          0.3445631993215534,
          0.34148973800877763,
          0.33817382509559596,
          0.3346211744272497,
          0.3308394205318467,
          0.32683805887531964,
          0.32262835763070624,
          0.3182232424985505,
          0.3136371566021171,
          0.308885897921571,
          0.30398643711716583,
          0.2989567189160015,
          0.29381545049483604,
          0.2885818804788357,
          0.2832755722910221,
          0.2779161756286743,
          0.2725231998121409,
          0.2671157926506255,
          0.2617125283023539,
          0.2563312073779831,
          0.2509886722523299,
          0.2457006402173641,
          0.24048155673684626,
          0.23534447065817704,
          0.230300932808846,
          0.22536091896215815,
          0.22053277770870197,
          0.21582320332502797,
          0.2112372332977162,
          0.20677826974734867,
          0.20244812361015113,
          0.1982470800818024,
          0.1941739835137131,
          0.19022633968173153,
          0.18640043312431584,
          0.18269145707441928,
          0.1790936533881342,
          0.17560045980400932,
          0.17220466184929434,
          0.16889854674157617,
          0.16567405671380336,
          0.16252293931416006,
          0.15943689239550873,
          0.15640770170732132,
          0.15342736923091116,
          0.1504882306505226,
          0.14758306062255322,
          0.1447051647866325,
          0.14184845774942526,
          0.1390075265588033,
          0.136177679466764,
          0.13335498004875698,
          0.13053626700007973,
          0.1277191601623871,
          0.12490205354149692,
          0.12208409625859809,
          0.11926516252850185,
          0.11644581187929276,
          0.11362724091696623,
          0.11081122799651494,
          0.10800007218825095,
          0.10519652792642357,
          0.10240373669851231,
          0.09962515708052688,
          0.09686449434927795,
          0.09412563081023012,
          0.09141255787275976,
          0.08872931078709936,
          0.08607990683258654,
          0.08346828761860532,
          0.08089826603116994,
          0.07837347823247927,
          0.07589734100070829,
          0.07347301458503712,
          0.07110337114834082,
          0.06879096877837189,
          0.06653803096859258,
          0.06434643140243668,
          0.06221768381968771,
          0.06015293670041728,
          0.05815297246977156,
          0.05621821090476359,
          0.054348716410867484,
          0.05254420883020092,
          0.050804077442962024,
          0.04912739782806649,
          0.047512951256222284,
          0.04595924629768393,
          0.04446454233654107,
          0.04302687469271379,
          0.04164408106116673,
          0.04031382898479253,
          0.03903364408275933,
          0.03780093875990581,
          0.03661304112525089,
          0.035467223849293225,
          0.03436073269105738,
          0.03329081442747825,
          0.03225474392039213,
          0.031249850060852624,
          0.030273540337375362,
          0.02932332378464035,
          0.028396832082620258,
          0.027491838593402946,
          0.026606275144303547,
          0.025738246391225957,
          0.024886041625453374,
          0.02404814391977148,
          0.023223236545545364,
          0.022410206630425422,
          0.021608146065978592,
          0.02081634971486417,
          0.020034311007287815,
          0.01926171505543106,
          0.018498429451443737,
          0.017744492948521713,
          0.017000102254766877,
          0.01626559719523663,
          0.015541444518257435,
          0.014828220637259276,
          0.014126593608798872,
          0.013437304650950735,
          0.012761149503879429,
          0.012098959926350511,
          0.011451585608508015,
          0.01081987676289869,
          0.010204667633016862,
          0.00960676113223127,
          0.00902691479655767,
          0.008465828203120678,
          0.007924131973096235,
          0.007402378444223273,
          0.006901034064387053,
          0.006420473525026017,
          0.005960975621863862,
          0.005522720801308427,
          0.005105790324293762,
          0.004710166955787908,
          0.0043357370679594125,
          0.003982294028311899,
          0.0036495427310744596,
          0.0033371051208036765,
          0.0030445265514471237,
          0.0027712828218940584,
          0.0025167877300836805,
          0.0022804009917794747,
          0.002061436376826339,
          0.0018591699247259717,
          0.001672848112308757,
          0.0015016958587493034,
          0.001344924266764548,
          0.001201738013154022,
          0.0010713423165125777,
          0.0009529494246108603,
          0.0008457845782745201,
          0.0007490914223085892,
          0.0006621368468591027,
          0.0005842152543699759,
          0.0005146522578123631,
          0.00045280782501298203,
          0.0003980788916029532,
          0.00034990147130863606,
          0.00030775229700352584,
          0.00027115002916606567,
          0.00023965607020064156,
          0.00021287502356646666,
          0.00019045483593101687,
          0.00017208665875237384,
          0.0001575044629435597,
          0.00014648443674079216,
          0.0001388441927530385,
          0.00013444180558524712,
          0.00013317469657667236,
          0.00013497837725286578,
          0.00013982505822566306,
          0.00014772212565383337,
          0.00015871048315310813,
          0.0001728627533615188,
          0.00019028133035348184,
          0.00021109627186651603,
          0.0002354630189508256,
          0.0002635599302461134,
          0.0002955856186791435,
          0.0003317560799818429,
          0.0003723016050467179,
          0.0004174634717293114,
          0.00046749041621132407,
          0.0005226348893585183,
          0.0005831491095202938,
          0.0006492809297715804,
          0.0007212695445157226,
          0.0007993410674502241,
          0.0008837040199304579,
          0.0009745447755211422,
          0.0010720230127691805,
          0.0011762672337311609,
          0.0012873704103232957,
          0.0014053858239227801,
          0.0015303231656587646,
          0.0016621449653370557,
          0.0018007634158389262,
          0.001946037657054375,
          0.0020977715789436023,
          0.0022557121972043024,
          0.002419548647354766,
          0.0025889118339705907,
          0.002763374761537775,
          0.002942453562155273,
          0.003125609223419866,
          0.0033122500075764873,
          0.003501734540751071,
          0.003693375539150548,
          0.0038864441278522524,
          0.00408017469754126,
          0.004273770235577832,
          0.004466408060345015,
          0.004657245882133138,
          0.004845428110007039,
          0.005030092322240671,
          0.005210375817998,
          0.0053854221699154116,
          0.005554387700966116,
          0.005716447814257091,
          0.00587080311097446,
          0.006016685239253754,
          0.006153362424983191,
          0.006280144644109098,
          0.006396388404559861,
          0.0065015011141154044,
          0.006594945018124123,
          0.0066762406976596305,
          0.006744970124315722,
          0.006800779272228094,
          0.006843380291018984,
          0.006872553245194198,
          0.006888147426155887,
          0.0068900822425710835,
          0.006878347693553408,
          0.006853004427217762,
          0.006814183384932718,
          0.006762085029317565,
          0.006696978152008389,
          0.006619198255733897,
          0.006529145504551578,
          0.006427282236411712,
          0.006314130033697441
         ],
         "yaxis": "y"
        },
        {
         "legendgroup": "Lasso",
         "marker": {
          "color": "rgb(31, 119, 180)",
          "symbol": "line-ns-open"
         },
         "mode": "markers",
         "name": "Lasso",
         "showlegend": false,
         "type": "scatter",
         "x": [
          -0.2988645822136688,
          0.3408157190759779,
          0,
          -5.077585851834598,
          -0.011546218132247835,
          2.504753303583181,
          0,
          0,
          -1.2254666741348483,
          0,
          0,
          0,
          0,
          0,
          0,
          0.8911508709272489,
          0,
          0,
          0,
          0,
          0,
          0,
          0.48261306316595637,
          0,
          0,
          0,
          0,
          0,
          0,
          0.2925973682707245,
          0,
          0,
          0,
          0,
          0,
          0,
          0,
          0,
          0,
          0,
          0,
          0,
          0,
          0,
          0,
          0,
          0,
          0,
          0,
          0,
          0,
          0,
          0,
          0,
          0,
          0,
          0,
          0,
          0,
          0,
          -0.8137493295508532,
          0,
          0,
          0,
          0,
          0,
          0,
          0,
          0,
          0,
          0,
          0,
          0,
          0,
          0,
          0,
          0,
          0,
          0,
          0,
          0,
          0,
          0,
          0,
          0,
          0,
          0,
          0,
          0,
          0,
          0,
          0,
          0.8577155917758741,
          0,
          0,
          1.1721102608593437,
          0,
          0,
          0.28870926085446913,
          0,
          0,
          0,
          0,
          0,
          0,
          0,
          0.20926544012577297,
          0,
          0,
          0,
          0,
          0,
          0,
          1.555782628139949,
          0,
          0,
          5.608686884873427,
          0,
          0,
          0,
          0,
          0,
          0,
          0,
          0,
          0,
          0,
          0,
          0,
          0,
          0,
          -0.5834694165847315,
          0,
          0,
          0,
          0,
          0,
          0,
          0,
          0,
          0,
          0,
          0,
          0,
          0,
          0,
          0,
          0,
          0.567732366170475,
          0,
          1.6083497158913294,
          1.1672531907630153,
          0,
          -0.6403255347633293,
          0,
          0,
          0,
          0,
          0,
          0,
          0,
          0,
          0,
          0,
          0,
          0,
          0,
          0,
          0,
          0,
          0,
          0,
          0,
          0,
          0,
          0,
          0,
          0,
          -0.4021040609510492,
          0,
          0,
          0,
          0,
          0,
          0,
          0,
          0,
          0,
          0,
          0,
          0,
          0,
          0,
          0,
          0,
          0,
          0,
          0,
          0,
          0,
          0,
          0,
          0,
          0.7072730612261585,
          1.622680436188137,
          0,
          0,
          0,
          0.40519832556906654,
          0,
          0,
          0,
          0,
          0,
          0,
          1.2247142327906229,
          0,
          0,
          -1.1811727255510378,
          -0.0030190125000514397,
          0,
          0,
          0,
          0,
          0,
          0,
          0,
          0,
          0,
          0,
          0,
          0,
          0,
          0,
          0,
          0,
          0,
          0,
          0,
          0,
          0,
          0,
          0,
          0,
          0,
          0.19289042452120814,
          0,
          0,
          0,
          0.9537875656344021,
          0,
          0,
          0,
          0,
          0,
          0,
          0,
          0,
          0,
          0,
          0,
          0,
          0,
          0,
          6.580903263082053,
          0,
          0,
          0,
          0,
          0
         ],
         "xaxis": "x",
         "y": [
          "Lasso",
          "Lasso",
          "Lasso",
          "Lasso",
          "Lasso",
          "Lasso",
          "Lasso",
          "Lasso",
          "Lasso",
          "Lasso",
          "Lasso",
          "Lasso",
          "Lasso",
          "Lasso",
          "Lasso",
          "Lasso",
          "Lasso",
          "Lasso",
          "Lasso",
          "Lasso",
          "Lasso",
          "Lasso",
          "Lasso",
          "Lasso",
          "Lasso",
          "Lasso",
          "Lasso",
          "Lasso",
          "Lasso",
          "Lasso",
          "Lasso",
          "Lasso",
          "Lasso",
          "Lasso",
          "Lasso",
          "Lasso",
          "Lasso",
          "Lasso",
          "Lasso",
          "Lasso",
          "Lasso",
          "Lasso",
          "Lasso",
          "Lasso",
          "Lasso",
          "Lasso",
          "Lasso",
          "Lasso",
          "Lasso",
          "Lasso",
          "Lasso",
          "Lasso",
          "Lasso",
          "Lasso",
          "Lasso",
          "Lasso",
          "Lasso",
          "Lasso",
          "Lasso",
          "Lasso",
          "Lasso",
          "Lasso",
          "Lasso",
          "Lasso",
          "Lasso",
          "Lasso",
          "Lasso",
          "Lasso",
          "Lasso",
          "Lasso",
          "Lasso",
          "Lasso",
          "Lasso",
          "Lasso",
          "Lasso",
          "Lasso",
          "Lasso",
          "Lasso",
          "Lasso",
          "Lasso",
          "Lasso",
          "Lasso",
          "Lasso",
          "Lasso",
          "Lasso",
          "Lasso",
          "Lasso",
          "Lasso",
          "Lasso",
          "Lasso",
          "Lasso",
          "Lasso",
          "Lasso",
          "Lasso",
          "Lasso",
          "Lasso",
          "Lasso",
          "Lasso",
          "Lasso",
          "Lasso",
          "Lasso",
          "Lasso",
          "Lasso",
          "Lasso",
          "Lasso",
          "Lasso",
          "Lasso",
          "Lasso",
          "Lasso",
          "Lasso",
          "Lasso",
          "Lasso",
          "Lasso",
          "Lasso",
          "Lasso",
          "Lasso",
          "Lasso",
          "Lasso",
          "Lasso",
          "Lasso",
          "Lasso",
          "Lasso",
          "Lasso",
          "Lasso",
          "Lasso",
          "Lasso",
          "Lasso",
          "Lasso",
          "Lasso",
          "Lasso",
          "Lasso",
          "Lasso",
          "Lasso",
          "Lasso",
          "Lasso",
          "Lasso",
          "Lasso",
          "Lasso",
          "Lasso",
          "Lasso",
          "Lasso",
          "Lasso",
          "Lasso",
          "Lasso",
          "Lasso",
          "Lasso",
          "Lasso",
          "Lasso",
          "Lasso",
          "Lasso",
          "Lasso",
          "Lasso",
          "Lasso",
          "Lasso",
          "Lasso",
          "Lasso",
          "Lasso",
          "Lasso",
          "Lasso",
          "Lasso",
          "Lasso",
          "Lasso",
          "Lasso",
          "Lasso",
          "Lasso",
          "Lasso",
          "Lasso",
          "Lasso",
          "Lasso",
          "Lasso",
          "Lasso",
          "Lasso",
          "Lasso",
          "Lasso",
          "Lasso",
          "Lasso",
          "Lasso",
          "Lasso",
          "Lasso",
          "Lasso",
          "Lasso",
          "Lasso",
          "Lasso",
          "Lasso",
          "Lasso",
          "Lasso",
          "Lasso",
          "Lasso",
          "Lasso",
          "Lasso",
          "Lasso",
          "Lasso",
          "Lasso",
          "Lasso",
          "Lasso",
          "Lasso",
          "Lasso",
          "Lasso",
          "Lasso",
          "Lasso",
          "Lasso",
          "Lasso",
          "Lasso",
          "Lasso",
          "Lasso",
          "Lasso",
          "Lasso",
          "Lasso",
          "Lasso",
          "Lasso",
          "Lasso",
          "Lasso",
          "Lasso",
          "Lasso",
          "Lasso",
          "Lasso",
          "Lasso",
          "Lasso",
          "Lasso",
          "Lasso",
          "Lasso",
          "Lasso",
          "Lasso",
          "Lasso",
          "Lasso",
          "Lasso",
          "Lasso",
          "Lasso",
          "Lasso",
          "Lasso",
          "Lasso",
          "Lasso",
          "Lasso",
          "Lasso",
          "Lasso",
          "Lasso",
          "Lasso",
          "Lasso",
          "Lasso",
          "Lasso",
          "Lasso",
          "Lasso",
          "Lasso",
          "Lasso",
          "Lasso",
          "Lasso",
          "Lasso",
          "Lasso",
          "Lasso",
          "Lasso",
          "Lasso",
          "Lasso",
          "Lasso",
          "Lasso",
          "Lasso",
          "Lasso",
          "Lasso",
          "Lasso",
          "Lasso",
          "Lasso",
          "Lasso",
          "Lasso",
          "Lasso",
          "Lasso",
          "Lasso",
          "Lasso",
          "Lasso",
          "Lasso",
          "Lasso",
          "Lasso"
         ],
         "yaxis": "y2"
        },
        {
         "legendgroup": "Ridge",
         "marker": {
          "color": "rgb(255, 127, 14)",
          "symbol": "line-ns-open"
         },
         "mode": "markers",
         "name": "Ridge",
         "showlegend": false,
         "type": "scatter",
         "x": [
          -1.1129087993561357,
          0.8294144662424573,
          -0.5787984166758985,
          -4.491722023123003,
          -0.3231443964418073,
          2.552844778514602,
          0.6441174358223568,
          0.14095520188785843,
          -0.7850726377103925,
          0.7655534592398832,
          0.35668345877109486,
          -1.5694262616056949,
          0.2622755706720004,
          -0.25740342390752374,
          -0.7824098482842227,
          2.5934921160922713,
          0.5606042947986356,
          -0.4517342035226931,
          -1.251517711623685,
          -1.2566996189796225,
          -0.8399631100453093,
          -0.9115025384574819,
          2.4240448138351636,
          0.5895441677219228,
          -1.081293214146634,
          -1.7078041853218495,
          -0.14992684171083884,
          0.8871041754356822,
          0.6283527413632825,
          1.8381784632118596,
          0.505301827698505,
          1.847543980828639,
          1.1660417251227582,
          -0.2943188274365214,
          -0.8460284506775096,
          -1.1743906199073832,
          0.38758253290088196,
          1.5379256032546136,
          0.7316435087965895,
          -1.884974333803087,
          -0.3803906278169629,
          -0.08497089850921134,
          1.2408957059769843,
          -0.6753846928418664,
          0.9156462926384713,
          1.3807542463329747,
          -1.8741582993187473,
          -0.3036013953091381,
          -1.0424954733411276,
          1.4179918699988796,
          -1.7072056935387632,
          1.5472728948675645,
          -0.1227210004055106,
          -1.5950573585056156,
          0.15378752892518024,
          -1.5158020234453624,
          0.35757369273867545,
          0.03033002471470625,
          0.5305137448732199,
          0.5063646604899323,
          -1.304474985161872,
          -0.9238000638358148,
          -0.8593459950757987,
          -0.8880271347939364,
          -0.6393546630438383,
          -0.21638696058560544,
          0.5305137448732199,
          0.3792336381162569,
          -0.9978701583674049,
          0.2493173132189108,
          0.05756227228091626,
          -1.239745407526675,
          1.278060194951151,
          -0.10863399808939253,
          -0.2107793401255064,
          -0.29120046811234535,
          -1.831950533468658,
          -0.049184438276753395,
          1.3319810228343887,
          0.38011871476745274,
          -0.5547483724496778,
          -0.4773991991057108,
          -0.01885776832651515,
          2.083607641950622,
          0.5019017353090345,
          1.1648262126908626,
          -0.33267410582722,
          -0.5674857997047492,
          -0.21335053062708242,
          -0.3794735839177543,
          1.5669198703542766,
          -1.2522278650518264,
          1.4733934612816828,
          0.2950302432706544,
          -0.39116971003031153,
          1.9506134740662049,
          -1.3039572485578552,
          -0.26461410270498087,
          1.1745371841275918,
          0.7332049553666572,
          0.40787226982260094,
          -0.07004096082382522,
          0.9641079920295164,
          -0.7510364354347983,
          -0.5507022164537886,
          -0.3803906278169629,
          0.5946382945521977,
          1.1556929985029158,
          0.2472846161787175,
          -1.5282662275837418,
          0.8294023660846715,
          -1.052465224091736,
          0.16304731435793607,
          1.4641369891503295,
          0.15378752892518024,
          1.6818403861389453,
          5.352922139978308,
          0.18684346159249166,
          0.4889378708015187,
          -0.4506482465355326,
          1.3891756534312316,
          0.8580076675686382,
          0.3088028358132139,
          0.9417726671756019,
          0.505301827698505,
          0.9156462926384713,
          0.279700065872337,
          1.0463882598359586,
          -1.3612332448924145,
          0.6049897975120018,
          -0.06543314271056258,
          -1.0108996225862321,
          0.9579782613824268,
          0.7252543780887716,
          -1.3691288925157792,
          1.3807542463329747,
          0.725744656785349,
          1.6015116018525628,
          -0.1359476085128417,
          0.3353049414117687,
          -1.4934173404771922,
          0.6746094015057071,
          -0.3710643489750267,
          -1.30375522488435,
          -0.5547483724496778,
          1.1401731485445128,
          0.7316435087965895,
          -0.7704485369412277,
          1.309064121771245,
          0.5606042947986356,
          1.5022066465152109,
          2.0043866121613467,
          -0.15732058294772702,
          -1.188042408518915,
          0.616582446146266,
          0.8794436105112078,
          0.18350594168418952,
          -0.6227415537366755,
          0.5190881755161982,
          -0.8512030334431,
          -1.5624517801767859,
          1.7557378683622795,
          0.472188215309748,
          -1.7470268311650918,
          -0.44389495120080064,
          -0.8351537643914896,
          0.35668345877109486,
          0.7145994336929238,
          0.5244451833778973,
          -0.8487825870093588,
          1.653849861479738,
          -0.03971594990337779,
          -0.6578821407405016,
          0.3870083521743139,
          -1.0429267048071287,
          0.3960769123293276,
          0.32567600803466035,
          -1.0696500851664157,
          -2.4987004748334685,
          -0.9746776732692854,
          0.3792336381162569,
          -0.5709870751501146,
          0.2622755706720004,
          -0.24695538881779827,
          -1.1473221196669074,
          -0.049184438276753395,
          0.23989386642114513,
          0.3184997323551964,
          -1.0629697147956998,
          0.6701186728269483,
          0.5128595234320833,
          0.6320329944542736,
          -1.1731659078568113,
          0.03952824119724774,
          -1.2699522862308483,
          0.8565716807482061,
          -0.8977872724624445,
          -0.9708116225942747,
          0.1918287346043479,
          0.23362925750630859,
          2.269289902502991,
          -1.2140561129115883,
          0.34713742175275114,
          0.5502602614323536,
          1.2058020229631286,
          -0.0015168394811781174,
          -0.7817080683038743,
          0.0034856782099265127,
          2.042015376090019,
          0.1869271089995188,
          -0.12300009092940306,
          0.3681432509426984,
          -0.4003860901625929,
          -0.19947199021444295,
          -1.1465289568912527,
          1.4463457173648697,
          0.5128595234320833,
          0.15378752892518024,
          -2.386002959624008,
          -2.4987004748334685,
          -1.158228330706687,
          1.4479555874951318,
          -1.8625735900026967,
          -1.242032737469573,
          -0.04068580996706711,
          0.4388487477204985,
          -0.1454890137237808,
          -0.3416944929344409,
          0.3362875277755491,
          -0.5362284339622133,
          -0.303557571614939,
          -0.20179091740062055,
          -0.38342993420765387,
          0.2984948984457206,
          -0.1641900427616228,
          -0.32853661451039484,
          -0.1378956100654105,
          1.121715207584461,
          -0.19947199021444295,
          0.6320329944542736,
          1.6448251820465893,
          0.5175894427156322,
          0.3595335301022626,
          -0.5868463926731754,
          -0.21638696058560544,
          0.6037975663436309,
          -1.7078041853218495,
          -0.6879302509236632,
          0.6495738899164921,
          2.8036382792770214,
          1.2247078451683642,
          -0.11110506202544991,
          -0.43781037857896177,
          -0.06382234426587026,
          -1.4428815635037204,
          -0.3996679623842675,
          -0.4139565225913963,
          -0.7817080683038743,
          -0.7649194839949485,
          -0.29804713396324656,
          -0.5362284339622133,
          -1.3567671205440592,
          -1.2381446354939096,
          -1.559734913180336,
          4.945017934913792,
          -1.0994721332096047,
          0.6634165306117908,
          0.5923170445508958,
          0.6701186728269483,
          -0.8396674041662123
         ],
         "xaxis": "x",
         "y": [
          "Ridge",
          "Ridge",
          "Ridge",
          "Ridge",
          "Ridge",
          "Ridge",
          "Ridge",
          "Ridge",
          "Ridge",
          "Ridge",
          "Ridge",
          "Ridge",
          "Ridge",
          "Ridge",
          "Ridge",
          "Ridge",
          "Ridge",
          "Ridge",
          "Ridge",
          "Ridge",
          "Ridge",
          "Ridge",
          "Ridge",
          "Ridge",
          "Ridge",
          "Ridge",
          "Ridge",
          "Ridge",
          "Ridge",
          "Ridge",
          "Ridge",
          "Ridge",
          "Ridge",
          "Ridge",
          "Ridge",
          "Ridge",
          "Ridge",
          "Ridge",
          "Ridge",
          "Ridge",
          "Ridge",
          "Ridge",
          "Ridge",
          "Ridge",
          "Ridge",
          "Ridge",
          "Ridge",
          "Ridge",
          "Ridge",
          "Ridge",
          "Ridge",
          "Ridge",
          "Ridge",
          "Ridge",
          "Ridge",
          "Ridge",
          "Ridge",
          "Ridge",
          "Ridge",
          "Ridge",
          "Ridge",
          "Ridge",
          "Ridge",
          "Ridge",
          "Ridge",
          "Ridge",
          "Ridge",
          "Ridge",
          "Ridge",
          "Ridge",
          "Ridge",
          "Ridge",
          "Ridge",
          "Ridge",
          "Ridge",
          "Ridge",
          "Ridge",
          "Ridge",
          "Ridge",
          "Ridge",
          "Ridge",
          "Ridge",
          "Ridge",
          "Ridge",
          "Ridge",
          "Ridge",
          "Ridge",
          "Ridge",
          "Ridge",
          "Ridge",
          "Ridge",
          "Ridge",
          "Ridge",
          "Ridge",
          "Ridge",
          "Ridge",
          "Ridge",
          "Ridge",
          "Ridge",
          "Ridge",
          "Ridge",
          "Ridge",
          "Ridge",
          "Ridge",
          "Ridge",
          "Ridge",
          "Ridge",
          "Ridge",
          "Ridge",
          "Ridge",
          "Ridge",
          "Ridge",
          "Ridge",
          "Ridge",
          "Ridge",
          "Ridge",
          "Ridge",
          "Ridge",
          "Ridge",
          "Ridge",
          "Ridge",
          "Ridge",
          "Ridge",
          "Ridge",
          "Ridge",
          "Ridge",
          "Ridge",
          "Ridge",
          "Ridge",
          "Ridge",
          "Ridge",
          "Ridge",
          "Ridge",
          "Ridge",
          "Ridge",
          "Ridge",
          "Ridge",
          "Ridge",
          "Ridge",
          "Ridge",
          "Ridge",
          "Ridge",
          "Ridge",
          "Ridge",
          "Ridge",
          "Ridge",
          "Ridge",
          "Ridge",
          "Ridge",
          "Ridge",
          "Ridge",
          "Ridge",
          "Ridge",
          "Ridge",
          "Ridge",
          "Ridge",
          "Ridge",
          "Ridge",
          "Ridge",
          "Ridge",
          "Ridge",
          "Ridge",
          "Ridge",
          "Ridge",
          "Ridge",
          "Ridge",
          "Ridge",
          "Ridge",
          "Ridge",
          "Ridge",
          "Ridge",
          "Ridge",
          "Ridge",
          "Ridge",
          "Ridge",
          "Ridge",
          "Ridge",
          "Ridge",
          "Ridge",
          "Ridge",
          "Ridge",
          "Ridge",
          "Ridge",
          "Ridge",
          "Ridge",
          "Ridge",
          "Ridge",
          "Ridge",
          "Ridge",
          "Ridge",
          "Ridge",
          "Ridge",
          "Ridge",
          "Ridge",
          "Ridge",
          "Ridge",
          "Ridge",
          "Ridge",
          "Ridge",
          "Ridge",
          "Ridge",
          "Ridge",
          "Ridge",
          "Ridge",
          "Ridge",
          "Ridge",
          "Ridge",
          "Ridge",
          "Ridge",
          "Ridge",
          "Ridge",
          "Ridge",
          "Ridge",
          "Ridge",
          "Ridge",
          "Ridge",
          "Ridge",
          "Ridge",
          "Ridge",
          "Ridge",
          "Ridge",
          "Ridge",
          "Ridge",
          "Ridge",
          "Ridge",
          "Ridge",
          "Ridge",
          "Ridge",
          "Ridge",
          "Ridge",
          "Ridge",
          "Ridge",
          "Ridge",
          "Ridge",
          "Ridge",
          "Ridge",
          "Ridge",
          "Ridge",
          "Ridge",
          "Ridge",
          "Ridge",
          "Ridge",
          "Ridge",
          "Ridge",
          "Ridge",
          "Ridge",
          "Ridge",
          "Ridge",
          "Ridge",
          "Ridge",
          "Ridge",
          "Ridge",
          "Ridge",
          "Ridge",
          "Ridge",
          "Ridge",
          "Ridge",
          "Ridge",
          "Ridge",
          "Ridge",
          "Ridge",
          "Ridge",
          "Ridge",
          "Ridge",
          "Ridge",
          "Ridge",
          "Ridge",
          "Ridge",
          "Ridge",
          "Ridge"
         ],
         "yaxis": "y2"
        }
       ],
       "layout": {
        "barmode": "overlay",
        "hovermode": "closest",
        "legend": {
         "traceorder": "reversed"
        },
        "template": {
         "data": {
          "bar": [
           {
            "error_x": {
             "color": "#2a3f5f"
            },
            "error_y": {
             "color": "#2a3f5f"
            },
            "marker": {
             "line": {
              "color": "#E5ECF6",
              "width": 0.5
             },
             "pattern": {
              "fillmode": "overlay",
              "size": 10,
              "solidity": 0.2
             }
            },
            "type": "bar"
           }
          ],
          "barpolar": [
           {
            "marker": {
             "line": {
              "color": "#E5ECF6",
              "width": 0.5
             },
             "pattern": {
              "fillmode": "overlay",
              "size": 10,
              "solidity": 0.2
             }
            },
            "type": "barpolar"
           }
          ],
          "carpet": [
           {
            "aaxis": {
             "endlinecolor": "#2a3f5f",
             "gridcolor": "white",
             "linecolor": "white",
             "minorgridcolor": "white",
             "startlinecolor": "#2a3f5f"
            },
            "baxis": {
             "endlinecolor": "#2a3f5f",
             "gridcolor": "white",
             "linecolor": "white",
             "minorgridcolor": "white",
             "startlinecolor": "#2a3f5f"
            },
            "type": "carpet"
           }
          ],
          "choropleth": [
           {
            "colorbar": {
             "outlinewidth": 0,
             "ticks": ""
            },
            "type": "choropleth"
           }
          ],
          "contour": [
           {
            "colorbar": {
             "outlinewidth": 0,
             "ticks": ""
            },
            "colorscale": [
             [
              0,
              "#0d0887"
             ],
             [
              0.1111111111111111,
              "#46039f"
             ],
             [
              0.2222222222222222,
              "#7201a8"
             ],
             [
              0.3333333333333333,
              "#9c179e"
             ],
             [
              0.4444444444444444,
              "#bd3786"
             ],
             [
              0.5555555555555556,
              "#d8576b"
             ],
             [
              0.6666666666666666,
              "#ed7953"
             ],
             [
              0.7777777777777778,
              "#fb9f3a"
             ],
             [
              0.8888888888888888,
              "#fdca26"
             ],
             [
              1,
              "#f0f921"
             ]
            ],
            "type": "contour"
           }
          ],
          "contourcarpet": [
           {
            "colorbar": {
             "outlinewidth": 0,
             "ticks": ""
            },
            "type": "contourcarpet"
           }
          ],
          "heatmap": [
           {
            "colorbar": {
             "outlinewidth": 0,
             "ticks": ""
            },
            "colorscale": [
             [
              0,
              "#0d0887"
             ],
             [
              0.1111111111111111,
              "#46039f"
             ],
             [
              0.2222222222222222,
              "#7201a8"
             ],
             [
              0.3333333333333333,
              "#9c179e"
             ],
             [
              0.4444444444444444,
              "#bd3786"
             ],
             [
              0.5555555555555556,
              "#d8576b"
             ],
             [
              0.6666666666666666,
              "#ed7953"
             ],
             [
              0.7777777777777778,
              "#fb9f3a"
             ],
             [
              0.8888888888888888,
              "#fdca26"
             ],
             [
              1,
              "#f0f921"
             ]
            ],
            "type": "heatmap"
           }
          ],
          "heatmapgl": [
           {
            "colorbar": {
             "outlinewidth": 0,
             "ticks": ""
            },
            "colorscale": [
             [
              0,
              "#0d0887"
             ],
             [
              0.1111111111111111,
              "#46039f"
             ],
             [
              0.2222222222222222,
              "#7201a8"
             ],
             [
              0.3333333333333333,
              "#9c179e"
             ],
             [
              0.4444444444444444,
              "#bd3786"
             ],
             [
              0.5555555555555556,
              "#d8576b"
             ],
             [
              0.6666666666666666,
              "#ed7953"
             ],
             [
              0.7777777777777778,
              "#fb9f3a"
             ],
             [
              0.8888888888888888,
              "#fdca26"
             ],
             [
              1,
              "#f0f921"
             ]
            ],
            "type": "heatmapgl"
           }
          ],
          "histogram": [
           {
            "marker": {
             "pattern": {
              "fillmode": "overlay",
              "size": 10,
              "solidity": 0.2
             }
            },
            "type": "histogram"
           }
          ],
          "histogram2d": [
           {
            "colorbar": {
             "outlinewidth": 0,
             "ticks": ""
            },
            "colorscale": [
             [
              0,
              "#0d0887"
             ],
             [
              0.1111111111111111,
              "#46039f"
             ],
             [
              0.2222222222222222,
              "#7201a8"
             ],
             [
              0.3333333333333333,
              "#9c179e"
             ],
             [
              0.4444444444444444,
              "#bd3786"
             ],
             [
              0.5555555555555556,
              "#d8576b"
             ],
             [
              0.6666666666666666,
              "#ed7953"
             ],
             [
              0.7777777777777778,
              "#fb9f3a"
             ],
             [
              0.8888888888888888,
              "#fdca26"
             ],
             [
              1,
              "#f0f921"
             ]
            ],
            "type": "histogram2d"
           }
          ],
          "histogram2dcontour": [
           {
            "colorbar": {
             "outlinewidth": 0,
             "ticks": ""
            },
            "colorscale": [
             [
              0,
              "#0d0887"
             ],
             [
              0.1111111111111111,
              "#46039f"
             ],
             [
              0.2222222222222222,
              "#7201a8"
             ],
             [
              0.3333333333333333,
              "#9c179e"
             ],
             [
              0.4444444444444444,
              "#bd3786"
             ],
             [
              0.5555555555555556,
              "#d8576b"
             ],
             [
              0.6666666666666666,
              "#ed7953"
             ],
             [
              0.7777777777777778,
              "#fb9f3a"
             ],
             [
              0.8888888888888888,
              "#fdca26"
             ],
             [
              1,
              "#f0f921"
             ]
            ],
            "type": "histogram2dcontour"
           }
          ],
          "mesh3d": [
           {
            "colorbar": {
             "outlinewidth": 0,
             "ticks": ""
            },
            "type": "mesh3d"
           }
          ],
          "parcoords": [
           {
            "line": {
             "colorbar": {
              "outlinewidth": 0,
              "ticks": ""
             }
            },
            "type": "parcoords"
           }
          ],
          "pie": [
           {
            "automargin": true,
            "type": "pie"
           }
          ],
          "scatter": [
           {
            "fillpattern": {
             "fillmode": "overlay",
             "size": 10,
             "solidity": 0.2
            },
            "type": "scatter"
           }
          ],
          "scatter3d": [
           {
            "line": {
             "colorbar": {
              "outlinewidth": 0,
              "ticks": ""
             }
            },
            "marker": {
             "colorbar": {
              "outlinewidth": 0,
              "ticks": ""
             }
            },
            "type": "scatter3d"
           }
          ],
          "scattercarpet": [
           {
            "marker": {
             "colorbar": {
              "outlinewidth": 0,
              "ticks": ""
             }
            },
            "type": "scattercarpet"
           }
          ],
          "scattergeo": [
           {
            "marker": {
             "colorbar": {
              "outlinewidth": 0,
              "ticks": ""
             }
            },
            "type": "scattergeo"
           }
          ],
          "scattergl": [
           {
            "marker": {
             "colorbar": {
              "outlinewidth": 0,
              "ticks": ""
             }
            },
            "type": "scattergl"
           }
          ],
          "scattermapbox": [
           {
            "marker": {
             "colorbar": {
              "outlinewidth": 0,
              "ticks": ""
             }
            },
            "type": "scattermapbox"
           }
          ],
          "scatterpolar": [
           {
            "marker": {
             "colorbar": {
              "outlinewidth": 0,
              "ticks": ""
             }
            },
            "type": "scatterpolar"
           }
          ],
          "scatterpolargl": [
           {
            "marker": {
             "colorbar": {
              "outlinewidth": 0,
              "ticks": ""
             }
            },
            "type": "scatterpolargl"
           }
          ],
          "scatterternary": [
           {
            "marker": {
             "colorbar": {
              "outlinewidth": 0,
              "ticks": ""
             }
            },
            "type": "scatterternary"
           }
          ],
          "surface": [
           {
            "colorbar": {
             "outlinewidth": 0,
             "ticks": ""
            },
            "colorscale": [
             [
              0,
              "#0d0887"
             ],
             [
              0.1111111111111111,
              "#46039f"
             ],
             [
              0.2222222222222222,
              "#7201a8"
             ],
             [
              0.3333333333333333,
              "#9c179e"
             ],
             [
              0.4444444444444444,
              "#bd3786"
             ],
             [
              0.5555555555555556,
              "#d8576b"
             ],
             [
              0.6666666666666666,
              "#ed7953"
             ],
             [
              0.7777777777777778,
              "#fb9f3a"
             ],
             [
              0.8888888888888888,
              "#fdca26"
             ],
             [
              1,
              "#f0f921"
             ]
            ],
            "type": "surface"
           }
          ],
          "table": [
           {
            "cells": {
             "fill": {
              "color": "#EBF0F8"
             },
             "line": {
              "color": "white"
             }
            },
            "header": {
             "fill": {
              "color": "#C8D4E3"
             },
             "line": {
              "color": "white"
             }
            },
            "type": "table"
           }
          ]
         },
         "layout": {
          "annotationdefaults": {
           "arrowcolor": "#2a3f5f",
           "arrowhead": 0,
           "arrowwidth": 1
          },
          "autotypenumbers": "strict",
          "coloraxis": {
           "colorbar": {
            "outlinewidth": 0,
            "ticks": ""
           }
          },
          "colorscale": {
           "diverging": [
            [
             0,
             "#8e0152"
            ],
            [
             0.1,
             "#c51b7d"
            ],
            [
             0.2,
             "#de77ae"
            ],
            [
             0.3,
             "#f1b6da"
            ],
            [
             0.4,
             "#fde0ef"
            ],
            [
             0.5,
             "#f7f7f7"
            ],
            [
             0.6,
             "#e6f5d0"
            ],
            [
             0.7,
             "#b8e186"
            ],
            [
             0.8,
             "#7fbc41"
            ],
            [
             0.9,
             "#4d9221"
            ],
            [
             1,
             "#276419"
            ]
           ],
           "sequential": [
            [
             0,
             "#0d0887"
            ],
            [
             0.1111111111111111,
             "#46039f"
            ],
            [
             0.2222222222222222,
             "#7201a8"
            ],
            [
             0.3333333333333333,
             "#9c179e"
            ],
            [
             0.4444444444444444,
             "#bd3786"
            ],
            [
             0.5555555555555556,
             "#d8576b"
            ],
            [
             0.6666666666666666,
             "#ed7953"
            ],
            [
             0.7777777777777778,
             "#fb9f3a"
            ],
            [
             0.8888888888888888,
             "#fdca26"
            ],
            [
             1,
             "#f0f921"
            ]
           ],
           "sequentialminus": [
            [
             0,
             "#0d0887"
            ],
            [
             0.1111111111111111,
             "#46039f"
            ],
            [
             0.2222222222222222,
             "#7201a8"
            ],
            [
             0.3333333333333333,
             "#9c179e"
            ],
            [
             0.4444444444444444,
             "#bd3786"
            ],
            [
             0.5555555555555556,
             "#d8576b"
            ],
            [
             0.6666666666666666,
             "#ed7953"
            ],
            [
             0.7777777777777778,
             "#fb9f3a"
            ],
            [
             0.8888888888888888,
             "#fdca26"
            ],
            [
             1,
             "#f0f921"
            ]
           ]
          },
          "colorway": [
           "#636efa",
           "#EF553B",
           "#00cc96",
           "#ab63fa",
           "#FFA15A",
           "#19d3f3",
           "#FF6692",
           "#B6E880",
           "#FF97FF",
           "#FECB52"
          ],
          "font": {
           "color": "#2a3f5f"
          },
          "geo": {
           "bgcolor": "white",
           "lakecolor": "white",
           "landcolor": "#E5ECF6",
           "showlakes": true,
           "showland": true,
           "subunitcolor": "white"
          },
          "hoverlabel": {
           "align": "left"
          },
          "hovermode": "closest",
          "mapbox": {
           "style": "light"
          },
          "paper_bgcolor": "white",
          "plot_bgcolor": "#E5ECF6",
          "polar": {
           "angularaxis": {
            "gridcolor": "white",
            "linecolor": "white",
            "ticks": ""
           },
           "bgcolor": "#E5ECF6",
           "radialaxis": {
            "gridcolor": "white",
            "linecolor": "white",
            "ticks": ""
           }
          },
          "scene": {
           "xaxis": {
            "backgroundcolor": "#E5ECF6",
            "gridcolor": "white",
            "gridwidth": 2,
            "linecolor": "white",
            "showbackground": true,
            "ticks": "",
            "zerolinecolor": "white"
           },
           "yaxis": {
            "backgroundcolor": "#E5ECF6",
            "gridcolor": "white",
            "gridwidth": 2,
            "linecolor": "white",
            "showbackground": true,
            "ticks": "",
            "zerolinecolor": "white"
           },
           "zaxis": {
            "backgroundcolor": "#E5ECF6",
            "gridcolor": "white",
            "gridwidth": 2,
            "linecolor": "white",
            "showbackground": true,
            "ticks": "",
            "zerolinecolor": "white"
           }
          },
          "shapedefaults": {
           "line": {
            "color": "#2a3f5f"
           }
          },
          "ternary": {
           "aaxis": {
            "gridcolor": "white",
            "linecolor": "white",
            "ticks": ""
           },
           "baxis": {
            "gridcolor": "white",
            "linecolor": "white",
            "ticks": ""
           },
           "bgcolor": "#E5ECF6",
           "caxis": {
            "gridcolor": "white",
            "linecolor": "white",
            "ticks": ""
           }
          },
          "title": {
           "x": 0.05
          },
          "xaxis": {
           "automargin": true,
           "gridcolor": "white",
           "linecolor": "white",
           "ticks": "",
           "title": {
            "standoff": 15
           },
           "zerolinecolor": "white",
           "zerolinewidth": 2
          },
          "yaxis": {
           "automargin": true,
           "gridcolor": "white",
           "linecolor": "white",
           "ticks": "",
           "title": {
            "standoff": 15
           },
           "zerolinecolor": "white",
           "zerolinewidth": 2
          }
         }
        },
        "xaxis": {
         "anchor": "y2",
         "domain": [
          0,
          1
         ],
         "zeroline": false
        },
        "yaxis": {
         "anchor": "free",
         "domain": [
          0.35,
          1
         ],
         "position": 0
        },
        "yaxis2": {
         "anchor": "x",
         "domain": [
          0,
          0.25
         ],
         "dtick": 1,
         "showticklabels": false
        }
       }
      },
      "text/html": [
       "<div>                            <div id=\"54be4619-07e5-4b44-a902-682100f1fc9b\" class=\"plotly-graph-div\" style=\"height:525px; width:100%;\"></div>            <script type=\"text/javascript\">                require([\"plotly\"], function(Plotly) {                    window.PLOTLYENV=window.PLOTLYENV || {};                                    if (document.getElementById(\"54be4619-07e5-4b44-a902-682100f1fc9b\")) {                    Plotly.newPlot(                        \"54be4619-07e5-4b44-a902-682100f1fc9b\",                        [{\"autobinx\":false,\"histnorm\":\"probability density\",\"legendgroup\":\"Lasso\",\"marker\":{\"color\":\"rgb(31, 119, 180)\"},\"name\":\"Lasso\",\"opacity\":0.7,\"x\":[-0.2988645822136688,0.3408157190759779,0.0,-5.077585851834598,-0.011546218132247835,2.504753303583181,0.0,0.0,-1.2254666741348483,0.0,0.0,-0.0,-0.0,-0.0,-0.0,0.8911508709272489,0.0,-0.0,-0.0,-0.0,-0.0,-0.0,0.48261306316595637,0.0,-0.0,-0.0,-0.0,0.0,0.0,0.2925973682707245,0.0,0.0,0.0,-0.0,-0.0,-0.0,0.0,0.0,0.0,-0.0,-0.0,-0.0,0.0,-0.0,0.0,0.0,-0.0,0.0,-0.0,0.0,-0.0,0.0,-0.0,-0.0,0.0,-0.0,0.0,-0.0,0.0,0.0,-0.8137493295508532,-0.0,-0.0,-0.0,-0.0,-0.0,0.0,0.0,-0.0,0.0,0.0,-0.0,0.0,0.0,-0.0,-0.0,-0.0,-0.0,0.0,0.0,-0.0,-0.0,-0.0,0.0,0.0,0.0,-0.0,-0.0,-0.0,-0.0,0.0,-0.0,0.8577155917758741,-0.0,-0.0,1.1721102608593437,-0.0,-0.0,0.28870926085446913,0.0,0.0,-0.0,0.0,-0.0,-0.0,-0.0,0.20926544012577297,0.0,0.0,-0.0,0.0,-0.0,-0.0,1.555782628139949,0.0,0.0,5.608686884873427,-0.0,0.0,-0.0,0.0,0.0,0.0,0.0,0.0,0.0,0.0,0.0,-0.0,0.0,-0.0,-0.5834694165847315,0.0,0.0,-0.0,0.0,-0.0,0.0,-0.0,0.0,-0.0,0.0,-0.0,-0.0,-0.0,0.0,0.0,-0.0,0.567732366170475,0.0,1.6083497158913294,1.1672531907630153,-0.0,-0.6403255347633293,0.0,0.0,0.0,-0.0,0.0,-0.0,-0.0,0.0,0.0,-0.0,-0.0,-0.0,0.0,0.0,0.0,-0.0,0.0,0.0,-0.0,0.0,-0.0,0.0,0.0,-0.0,-0.4021040609510492,-0.0,0.0,-0.0,-0.0,-0.0,-0.0,-0.0,-0.0,0.0,-0.0,0.0,0.0,0.0,-0.0,0.0,-0.0,0.0,-0.0,-0.0,0.0,0.0,0.0,-0.0,0.0,0.7072730612261585,1.622680436188137,0.0,-0.0,-0.0,0.40519832556906654,0.0,-0.0,0.0,-0.0,-0.0,-0.0,1.2247142327906229,0.0,0.0,-1.1811727255510378,-0.0030190125000514397,-0.0,0.0,-0.0,-0.0,0.0,0.0,-0.0,-0.0,0.0,-0.0,-0.0,-0.0,-0.0,0.0,-0.0,-0.0,0.0,0.0,-0.0,0.0,0.0,0.0,0.0,-0.0,-0.0,0.19289042452120814,-0.0,-0.0,0.0,0.9537875656344021,0.0,-0.0,-0.0,-0.0,-0.0,-0.0,-0.0,-0.0,-0.0,-0.0,-0.0,-0.0,-0.0,-0.0,6.580903263082053,-0.0,0.0,0.0,0.0,-0.0],\"xaxis\":\"x\",\"xbins\":{\"end\":6.580903263082053,\"size\":0.1,\"start\":-5.077585851834598},\"yaxis\":\"y\",\"type\":\"histogram\"},{\"autobinx\":false,\"histnorm\":\"probability density\",\"legendgroup\":\"Ridge\",\"marker\":{\"color\":\"rgb(255, 127, 14)\"},\"name\":\"Ridge\",\"opacity\":0.7,\"x\":[-1.1129087993561357,0.8294144662424573,-0.5787984166758985,-4.491722023123003,-0.3231443964418073,2.552844778514602,0.6441174358223568,0.14095520188785843,-0.7850726377103925,0.7655534592398832,0.35668345877109486,-1.5694262616056949,0.2622755706720004,-0.25740342390752374,-0.7824098482842227,2.5934921160922713,0.5606042947986356,-0.4517342035226931,-1.251517711623685,-1.2566996189796225,-0.8399631100453093,-0.9115025384574819,2.4240448138351636,0.5895441677219228,-1.081293214146634,-1.7078041853218495,-0.14992684171083884,0.8871041754356822,0.6283527413632825,1.8381784632118596,0.505301827698505,1.847543980828639,1.1660417251227582,-0.2943188274365214,-0.8460284506775096,-1.1743906199073832,0.38758253290088196,1.5379256032546136,0.7316435087965895,-1.884974333803087,-0.3803906278169629,-0.08497089850921134,1.2408957059769843,-0.6753846928418664,0.9156462926384713,1.3807542463329747,-1.8741582993187473,-0.3036013953091381,-1.0424954733411276,1.4179918699988796,-1.7072056935387632,1.5472728948675645,-0.1227210004055106,-1.5950573585056156,0.15378752892518024,-1.5158020234453624,0.35757369273867545,0.03033002471470625,0.5305137448732199,0.5063646604899323,-1.304474985161872,-0.9238000638358148,-0.8593459950757987,-0.8880271347939364,-0.6393546630438383,-0.21638696058560544,0.5305137448732199,0.3792336381162569,-0.9978701583674049,0.2493173132189108,0.05756227228091626,-1.239745407526675,1.278060194951151,-0.10863399808939253,-0.2107793401255064,-0.29120046811234535,-1.831950533468658,-0.049184438276753395,1.3319810228343887,0.38011871476745274,-0.5547483724496778,-0.4773991991057108,-0.01885776832651515,2.083607641950622,0.5019017353090345,1.1648262126908626,-0.33267410582722,-0.5674857997047492,-0.21335053062708242,-0.3794735839177543,1.5669198703542766,-1.2522278650518264,1.4733934612816828,0.2950302432706544,-0.39116971003031153,1.9506134740662049,-1.3039572485578552,-0.26461410270498087,1.1745371841275918,0.7332049553666572,0.40787226982260094,-0.07004096082382522,0.9641079920295164,-0.7510364354347983,-0.5507022164537886,-0.3803906278169629,0.5946382945521977,1.1556929985029158,0.2472846161787175,-1.5282662275837418,0.8294023660846715,-1.052465224091736,0.16304731435793607,1.4641369891503295,0.15378752892518024,1.6818403861389453,5.352922139978308,0.18684346159249166,0.4889378708015187,-0.4506482465355326,1.3891756534312316,0.8580076675686382,0.3088028358132139,0.9417726671756019,0.505301827698505,0.9156462926384713,0.279700065872337,1.0463882598359586,-1.3612332448924145,0.6049897975120018,-0.06543314271056258,-1.0108996225862321,0.9579782613824268,0.7252543780887716,-1.3691288925157792,1.3807542463329747,0.725744656785349,1.6015116018525628,-0.1359476085128417,0.3353049414117687,-1.4934173404771922,0.6746094015057071,-0.3710643489750267,-1.30375522488435,-0.5547483724496778,1.1401731485445128,0.7316435087965895,-0.7704485369412277,1.309064121771245,0.5606042947986356,1.5022066465152109,2.0043866121613467,-0.15732058294772702,-1.188042408518915,0.616582446146266,0.8794436105112078,0.18350594168418952,-0.6227415537366755,0.5190881755161982,-0.8512030334431,-1.5624517801767859,1.7557378683622795,0.472188215309748,-1.7470268311650918,-0.44389495120080064,-0.8351537643914896,0.35668345877109486,0.7145994336929238,0.5244451833778973,-0.8487825870093588,1.653849861479738,-0.03971594990337779,-0.6578821407405016,0.3870083521743139,-1.0429267048071287,0.3960769123293276,0.32567600803466035,-1.0696500851664157,-2.4987004748334685,-0.9746776732692854,0.3792336381162569,-0.5709870751501146,0.2622755706720004,-0.24695538881779827,-1.1473221196669074,-0.049184438276753395,0.23989386642114513,0.3184997323551964,-1.0629697147956998,0.6701186728269483,0.5128595234320833,0.6320329944542736,-1.1731659078568113,0.03952824119724774,-1.2699522862308483,0.8565716807482061,-0.8977872724624445,-0.9708116225942747,0.1918287346043479,0.23362925750630859,2.269289902502991,-1.2140561129115883,0.34713742175275114,0.5502602614323536,1.2058020229631286,-0.0015168394811781174,-0.7817080683038743,0.0034856782099265127,2.042015376090019,0.1869271089995188,-0.12300009092940306,0.3681432509426984,-0.4003860901625929,-0.19947199021444295,-1.1465289568912527,1.4463457173648697,0.5128595234320833,0.15378752892518024,-2.386002959624008,-2.4987004748334685,-1.158228330706687,1.4479555874951318,-1.8625735900026967,-1.242032737469573,-0.04068580996706711,0.4388487477204985,-0.1454890137237808,-0.3416944929344409,0.3362875277755491,-0.5362284339622133,-0.303557571614939,-0.20179091740062055,-0.38342993420765387,0.2984948984457206,-0.1641900427616228,-0.32853661451039484,-0.1378956100654105,1.121715207584461,-0.19947199021444295,0.6320329944542736,1.6448251820465893,0.5175894427156322,0.3595335301022626,-0.5868463926731754,-0.21638696058560544,0.6037975663436309,-1.7078041853218495,-0.6879302509236632,0.6495738899164921,2.8036382792770214,1.2247078451683642,-0.11110506202544991,-0.43781037857896177,-0.06382234426587026,-1.4428815635037204,-0.3996679623842675,-0.4139565225913963,-0.7817080683038743,-0.7649194839949485,-0.29804713396324656,-0.5362284339622133,-1.3567671205440592,-1.2381446354939096,-1.559734913180336,4.945017934913792,-1.0994721332096047,0.6634165306117908,0.5923170445508958,0.6701186728269483,-0.8396674041662123],\"xaxis\":\"x\",\"xbins\":{\"end\":5.352922139978308,\"size\":0.1,\"start\":-4.491722023123003},\"yaxis\":\"y\",\"type\":\"histogram\"},{\"legendgroup\":\"Lasso\",\"marker\":{\"color\":\"rgb(31, 119, 180)\"},\"mode\":\"lines\",\"name\":\"Lasso\",\"showlegend\":false,\"x\":[-5.077585851834598,-5.054268873604765,-5.0309518953749315,-5.007634917145099,-4.984317938915265,-4.961000960685432,-4.9376839824555985,-4.914367004225765,-4.891050025995932,-4.867733047766099,-4.8444160695362655,-4.821099091306432,-4.7977821130765985,-4.774465134846766,-4.7511481566169325,-4.727831178387099,-4.7045142001572655,-4.681197221927432,-4.6578802436975995,-4.634563265467766,-4.6112462872379325,-4.587929309008099,-4.564612330778266,-4.541295352548432,-4.517978374318599,-4.494661396088766,-4.4713444178589326,-4.448027439629099,-4.424710461399266,-4.401393483169433,-4.3780765049395995,-4.354759526709766,-4.331442548479933,-4.308125570250099,-4.284808592020266,-4.261491613790433,-4.2381746355606,-4.214857657330766,-4.191540679100933,-4.168223700871099,-4.144906722641267,-4.121589744411433,-4.0982727661816,-4.074955787951766,-4.051638809721933,-4.0283218314921,-4.005004853262267,-3.981687875032433,-3.9583708968025997,-3.935053918572766,-3.911736940342933,-3.8884199621131,-3.8651029838832667,-3.841786005653433,-3.8184690274236,-3.795152049193767,-3.7718350709639337,-3.7485180927341,-3.7252011145042667,-3.7018841362744332,-3.6785671580446,-3.655250179814767,-3.6319332015849337,-3.6086162233551002,-3.5852992451252668,-3.5619822668954337,-3.5386652886656003,-3.5153483104357672,-3.4920313322059338,-3.4687143539761003,-3.445397375746267,-3.422080397516434,-3.3987634192866008,-3.3754464410567673,-3.352129462826934,-3.3288124845971008,-3.3054955063672677,-3.2821785281374343,-3.258861549907601,-3.2355445716777673,-3.2122275934479343,-3.188910615218101,-3.165593636988268,-3.1422766587584343,-3.118959680528601,-3.0956427022987674,-3.0723257240689343,-3.0490087458391013,-3.025691767609268,-3.0023747893794344,-2.979057811149601,-2.955740832919768,-2.9324238546899344,-2.9091068764601014,-2.885789898230268,-2.862472920000435,-2.839155941770601,-2.815838963540768,-2.7925219853109344,-2.7692050070811014,-2.745888028851268,-2.722571050621435,-2.699254072391602,-2.6759370941617684,-2.652620115931935,-2.6293031377021014,-2.6059861594722684,-2.582669181242435,-2.559352203012602,-2.5360352247827684,-2.5127182465529354,-2.4894012683231015,-2.4660842900932685,-2.442767311863435,-2.419450333633602,-2.3961333554037685,-2.3728163771739355,-2.349499398944102,-2.3261824207142685,-2.302865442484435,-2.279548464254602,-2.2562314860247685,-2.2329145077949355,-2.2095975295651025,-2.186280551335269,-2.1629635731054355,-2.139646594875602,-2.116329616645769,-2.0930126384159355,-2.0696956601861025,-2.046378681956269,-2.023061703726436,-1.999744725496602,-1.976427747266769,-1.9531107690369356,-1.9297937908071026,-1.906476812577269,-1.883159834347436,-1.8598428561176026,-1.836525877887769,-1.8132088996579356,-1.7898919214281026,-1.7665749431982691,-1.743257964968436,-1.719940986738603,-1.6966240085087696,-1.6733070302789361,-1.6499900520491027,-1.6266730738192696,-1.6033560955894361,-1.5800391173596031,-1.5567221391297696,-1.5334051608999366,-1.5100881826701027,-1.4867712044402697,-1.4634542262104362,-1.4401372479806032,-1.4168202697507697,-1.3935032915209367,-1.3701863132911032,-1.3468693350612702,-1.3235523568314362,-1.3002353786016032,-1.2769184003717702,-1.2536014221419367,-1.2302844439121037,-1.2069674656822702,-1.1836504874524372,-1.1603335092226033,-1.1370165309927702,-1.1136995527629368,-1.0903825745331037,-1.0670655963032702,-1.0437486180734368,-1.0204316398436042,-0.9971146616137698,-0.9737976833839372,-0.9504807051541038,-0.9271637269242703,-0.9038467486944368,-0.8805297704646033,-0.8572127922347708,-0.8338958140049373,-0.8105788357751047,-0.7872618575452703,-0.7639448793154369,-0.7406279010856043,-0.7173109228557708,-0.6939939446259373,-0.6706769663961039,-0.6473599881662713,-0.6240430099364378,-0.6007260317066034,-0.5774090534767709,-0.5540920752469374,-0.5307750970171048,-0.5074581187872704,-0.48414114055743784,-0.46082416232760437,-0.4375071840977718,-0.4141902058679374,-0.39087322763810395,-0.36755624940827136,-0.3442392711784379,-0.3209222929486053,-0.29760531471877094,-0.27428833648893836,-0.2509713582591049,-0.2276543800292714,-0.20433740179943793,-0.18102042356960446,-0.15770344533977187,-0.1343864671099384,-0.11106948888010493,-0.08775251065027145,-0.06443553242043798,-0.041118554190605394,-0.017801575960771032,0.005515402269061553,0.028832380498895027,0.05214935872872761,0.07546633695856197,0.09878331518839545,0.12210029341822803,0.1454172716480615,0.1687342498778941,0.19205122810772846,0.21536820633756104,0.23868518456739451,0.262002162797228,0.28531914102706146,0.30863611925689494,0.3319530974867275,0.355270075716561,0.37858705394639447,0.40190403217622794,0.4252210104060614,0.448537988635894,0.47185496686572836,0.49517194509556095,0.5184889233253944,0.541805901555227,0.5651228797850614,0.5884398580148948,0.6117568362447274,0.6350738144745609,0.6583907927043935,0.6817077709342279,0.7050247491640604,0.7283417273938939,0.7516587056237274,0.7749756838535609,0.7982926620833943,0.8216096403132269,0.8449266185430604,0.8682435967728939,0.8915605750027273,0.9148775532325608,0.9381945314623934,0.9615115096922278,0.9848284879220603,1.0081454661518938,1.0314624443817264,1.0547794226115608,1.0780964008413942,1.1014133790712268,1.1247303573010603,1.1480473355308929,1.1713643137607272,1.1946812919905598,1.2179982702203933,1.2413152484502268,1.2646322266800603,1.2879492049098937,1.3112661831397263,1.3345831613695598,1.3579001395993933,1.3812171178292267,1.4045340960590602,1.4278510742888928,1.4511680525187272,1.4744850307485597,1.4978020089783932,1.5211189872082258,1.5444359654380602,1.5677529436678936,1.5910699218977262,1.6143869001275597,1.6377038783573923,1.6610208565872266,1.6843378348170592,1.7076548130468927,1.7309717912767262,1.7542887695065597,1.7776057477363931,1.8009227259662257,1.8242397041960592,1.8475566824258927,1.8708736606557261,1.8941906388855596,1.9175076171153922,1.9408245953452266,1.9641415735750591,1.9874585518048926,2.010775530034725,2.0340925082645587,2.057409486494393,2.0807264647242256,2.104043442954059,2.1273604211838917,2.150677399413726,2.1739943776435586,2.197311355873392,2.2206283341032256,2.243945312333059,2.2672622905628925,2.290579268792725,2.3138962470225586,2.337213225252392,2.3605302034822255,2.383847181712058,2.4071641599418916,2.430481138171726,2.4537981164015585,2.477115094631392,2.5004320728612246,2.523749051091058,2.5470660293208915,2.570383007550725,2.5936999857805585,2.617016964010391,2.6403339422402254,2.663650920470058,2.6869678986998915,2.710284876929724,2.7336018551595584,2.756918833389392,2.7802358116192245,2.803552789849058,2.8268697680788915,2.850186746308725,2.8735037245385575,2.896820702768391,2.9201376809982253,2.943454659228058,2.9667716374578923,2.990088615687725,3.0134055939175575,3.03672257214739,3.0600395503772244,3.0833565286070588,3.1066735068368914,3.129990485066724,3.1533074632965565,3.176624441526391,3.1999414197562253,3.223258397986058,3.2465753762158904,3.269892354445725,3.2932093326755574,3.3165263109053917,3.3398432891352225,3.363160267365057,3.3864772455948913,3.409794223824724,3.433111202054558,3.456428180284389,3.4797451585142234,3.5030621367440578,3.5263791149738903,3.5496960932037247,3.5730130714335573,3.59633004966339,3.6196470278932242,3.642964006123057,3.6662809843528894,3.6895979625827238,3.7129149408125564,3.7362319190423907,3.759548897272225,3.782865875502056,3.8061828537318902,3.829499831961723,3.852816810191557,3.8761337884213916,3.8994507666512224,3.9227677448810567,3.9460847231108893,3.9694017013407237,3.9927186795705563,4.016035657800389,4.039352636030223,4.062669614260058,4.08598659248989,4.109303570719723,4.132620548949555,4.15593752717939,4.179254505409224,4.202571483639055,4.225888461868889,4.249205440098724,4.272522418328556,4.2958393965583905,4.319156374788221,4.342473353018056,4.36579033124789,4.389107309477723,4.412424287707557,4.435741265937388,4.459058244167222,4.4823752223970565,4.505692200626889,4.529009178856722,4.552326157086556,4.575643135316389,4.598960113546223,4.622277091776056,4.645594070005888,4.668911048235723,4.692228026465555,4.7155450046953895,4.738861982925224,4.762178961155055,4.785495939384889,4.808812917614722,4.832129895844556,4.855446874074389,4.878763852304221,4.9020808305340555,4.925397808763888,4.9487147869937225,4.972031765223555,4.995348743453388,5.018665721683222,5.041982699913056,5.065299678142889,5.0886166563727215,5.111933634602554,5.1352506128323885,5.158567591062223,5.181884569292054,5.205201547521888,5.228518525751722,5.251835503981555,5.275152482211389,5.29846946044122,5.3217864386710545,5.345103416900889,5.3684203951307214,5.391737373360556,5.415054351590387,5.438371329820221,5.461688308050055,5.485005286279888,5.5083222645097205,5.531639242739555,5.5549562209693875,5.578273199199222,5.601590177429054,5.624907155658887,5.648224133888721,5.671541112118554,5.694858090348388,5.718175068578223,5.7414920468080535,5.764809025037888,5.78812600326772,5.811442981497555,5.834759959727387,5.85807693795722,5.881393916187054,5.904710894416887,5.928027872646721,5.951344850876554,5.974661829106386,5.997978807336221,6.021295785566055,6.044612763795888,6.06792974202572,6.091246720255553,6.114563698485387,6.137880676715222,6.1611976549450524,6.184514633174887,6.207831611404721,6.231148589634554,6.254465567864388,6.277782546094219,6.301099524324053,6.324416502553888,6.34773348078372,6.371050459013555,6.394367437243385,6.41768441547322,6.441001393703054,6.464318371932887,6.487635350162719,6.510952328392554,6.534269306622386,6.557586284852221],\"xaxis\":\"x\",\"y\":[0.006616081736722864,0.006580119927529627,0.006473403081428284,0.00629937388282177,0.006063564685837937,0.005773305490885267,0.005437345830368613,0.005065417751983037,0.004667770274435119,0.00425470617948036,0.003836149891852738,0.0034212708456284996,0.003018180709434237,0.002633715839020416,0.002273309078339491,0.001940948226794278,0.0016392126995643916,0.0013693755303778126,0.001131555110288696,0.0009248999407728171,0.0007477900584304867,0.000598040390866323,0.0004730937823549007,0.00037019441140139273,0.00028653545649948245,0.00021937785016603825,0.000166139567829301,0.00012445698352756094,9.222132531933168e-05,6.759418589819883e-05,4.9006447166642064e-05,3.514495481761231e-05,2.4930940043763585e-05,1.7493641143501103e-05,1.214192837283187e-05,8.336063494206793e-06,5.661092555065788e-06,3.802816686980062e-06,2.526832305258345e-06,1.660784735394715e-06,1.07973247167582e-06,6.94360287891526e-07,4.4169194655291245e-07,2.7792011518751047e-07,1.729762093275828e-07,1.064924121120091e-07,6.485102532501598e-08,3.906437890304627e-08,2.327613646180439e-08,1.3718504175147669e-08,7.9977627896565e-09,4.612072996147673e-09,2.6308114284921472e-09,1.4843939014402663e-09,8.284656324411827e-10,4.573679486974934e-10,2.4975998000078617e-10,1.34910536402671e-10,7.208332002970366e-11,3.8096895585145446e-11,1.9916374687940998e-11,1.0299043267899287e-11,5.26804373041259e-12,2.6654329016014107e-12,1.333988332895145e-12,6.603926063806513e-13,3.2338380562994327e-13,1.5663911723508242e-13,7.504954790390245e-14,3.5568195137345243e-14,1.667406421880554e-14,7.731913842902598e-15,3.546487537932869e-15,1.609073102004745e-15,7.221361247768264e-16,3.2057426542476006e-16,1.4076883946914392e-16,6.114554837049987e-17,2.6277095649434283e-17,1.1183854383639438e-17,4.743569988956991e-18,2.0788818008409847e-18,1.12090061213943e-18,1.1129536521809219e-18,2.0537151832930875e-18,4.70060140921425e-18,1.1139371559462235e-17,2.631747482693142e-17,6.158569331557321e-17,1.4259341680596423e-16,3.266076050509225e-16,7.400276318066292e-16,1.6586802503637374e-15,3.677651088046299e-15,8.066252151842304e-15,1.7501160204074855e-14,3.756263308288203e-14,7.975165877809928e-14,1.6750134540811505e-13,3.4801031993404774e-13,7.152560908721875e-13,1.4542095672775588e-12,2.9247502945372885e-12,5.818986172968386e-12,1.145257030567351e-11,2.2297495817877953e-11,4.294445279712959e-11,8.181939945387929e-11,1.542070072005922e-10,2.875086475457955e-10,5.302700179343619e-10,9.674821615543102e-10,1.746179840022459e-09,3.11770816549048e-09,5.506590940215447e-09,9.621248143930957e-09,1.6629593806580695e-08,2.843373267818318e-08,4.809373507984513e-08,8.047220922564509e-08,1.3320070536642179e-07,2.1810755565081407e-07,3.5329614073743254e-07,5.661239067248495e-07,8.97405962540137e-07,1.4072514755063494e-06,2.183032762822957e-06,3.350079180941212e-06,5.085769789010673e-06,7.637754583266817e-06,1.1347042823274755e-05,1.667663238498889e-05,2.4246185851539888e-05,3.487295501367751e-05,4.9618685291503094e-05,6.984157214497983e-05,9.725148348987709e-05,0.00013396561766039036,0.00018256057704478667,0.0002461155806460523,0.0003282403319679309,0.0004330800588387878,0.0005652896390665971,0.0007299687291079909,0.0009325506281670401,0.001178639411109935,0.0014737927578311494,0.0018232519002112197,0.002231625073680757,0.002702536517744437,0.003238258978849503,0.0038393532477857795,0.004504342829516724,0.005229454677693961,0.006008457360798816,0.006832625540406348,0.007690853955738884,0.008569935267176556,0.009455004533292,0.010330139581679672,0.011179092222818387,0.011986111532947133,0.012736808787187918,0.013419005486543229,0.014023502481469139,0.014544710240266621,0.014981088112836211,0.015335353691636197,0.015614441201408565,0.015829208914541825,0.015993918230926697,0.01612552950575308,0.01624288028323651,0.01636582892678405,0.016514459804674447,0.016708454795805776,0.01696674002543911,0.01730751691280108,0.017748783475279806,0.018309445959907283,0.019011112444037442,0.01988064857561299,0.020953559739560406,0.022278241299974407,0.02392110594814212,0.02597255075982761,0.028553662443255738,0.03182347425545594,0.035986480659888284,0.04129998722714277,0.04808072861100711,0.05671003646367611,0.06763669691833434,0.0813765239048821,0.09850761435966776,0.11966027082189883,0.1455007016820242,0.17670786053051377,0.2139431756626577,0.2578134473257999,0.3088278349437664,0.36735058087031114,0.43355186301419085,0.5073598607283784,0.5884176702817988,0.6760490292814035,0.7692368235254714,0.8666179956786102,0.9664977258924116,1.0668846244302672,1.1655472260337727,1.2600904110851576,1.3480486436638235,1.426991280350191,1.4946338417512914,1.5489482124848262,1.588264370589405,1.6113565163449706,1.6175073798863115,1.6065459733965493,1.578855988459431,1.535354241888616,1.477440832250352,1.406924766007279,1.3259305475425796,1.236792444268985,1.1419437390272724,1.0438082381504232,0.9447006549372987,0.8467413353906159,0.7517892815765945,0.6613957287080228,0.5767788196743768,0.49881835372243266,0.42806829066495183,0.3647837522121584,0.30895871514165457,0.2603704300037683,0.2186267795383821,0.18321324173994744,0.153536757478617,0.12896453260830648,0.1088565474000474,0.09259123420318963,0.07958436852766562,0.06930167047875756,0.06126592281235621,0.055059584800796466,0.05032393524458295,0.04675573809299363,0.044102317874070596,0.042155786429881444,0.04074700097244295,0.03973967500713275,0.03902492145660798,0.03851638915715296,0.03814606280328707,0.03786073161719724,0.0376190901270538,0.03738941059392727,0.03714771553342323,0.0368763755259213,0.036563058156494035,0.03619995581602638,0.03578322192671466,0.035312546832262676,0.03479080691255932,0.03422372471775088,0.03361948536929866,0.032988266065480526,0.03234165148163585,0.03169192753507198,0.031051267891800873,0.03043084952813833,0.029839953025537637,0.02928511746013714,0.02876942653774479,0.028292000580298696,0.027847757692668545,0.027427487695818518,0.027018256092056006,0.026604125232041555,0.026167149353495466,0.025688572772044265,0.025150139428332465,0.024535409712531833,0.02383097844135263,0.02302749628784695,0.02212041487443016,0.0211104010753795,0.020003395985982553,0.018810325231405,0.01754649652865899,0.01623074477809752,0.014884402243819416,0.013530180293968902,0.012191049418300562,0.010889196482516437,0.009645123878439854,0.008476936412358247,0.007399840752003559,0.0064258613377184024,0.0055637579157959294,0.004819114886213541,0.004194562520960643,0.0036900852415074816,0.003303372402261115,0.003030171772663153,0.0028646141328794576,0.0027994878555529265,0.0028264537113390433,0.0029362011271850843,0.0031185566184260094,0.0033625622250038263,0.003656545922991386,0.003988206897246186,0.004344736322217148,0.004712989287419076,0.005079716367929141,0.005431854923540687,0.005756871474675776,0.006043138433008822,0.006280321967980695,0.006459753604842086,0.0065747567642275425,0.00662090105264904,0.006596161557415752,0.006500967237546432,0.0063381310243578876,0.006112663565080295,0.005831481700567559,0.005503030842991765,0.0051368466338479555,0.0047430850672110164,0.004332051390216084,0.003913756572685886,0.0034975262785433676,0.0030916816045388753,0.0027033040545586156,0.002338090025261498,0.0020002931951213425,0.0016927472318321879,0.0014169565991690048,0.0011732402006644543,0.0009609111984644554,0.000778476474595223,0.0006238406084270373,0.0004945015929022289,0.00038772843267053937,0.0003007138999934919,0.0002306987565928284,0.0001750664400972606,0.00013140940320166973,9.756990457768935e-05,7.16590773803437e-05,5.20585945152147e-05,3.740929809654226e-05,2.6590871718760843e-05,1.8696119888850338e-05,1.3002782195975834e-05,8.945136779529052e-06,6.087003867298253e-06,4.0971896198989485e-06,2.7279376763218328e-06,1.7965889259212623e-06,1.1703853767014934e-06,7.54179892850995e-07,4.807141503845874e-07,3.0308521911363806e-07,1.8902032353574685e-07,1.166052599133676e-07,7.115307516469634e-08,4.2947224456478105e-08,2.564144073198385e-08,1.5143129598537485e-08,8.846159160335622e-09,5.1116340317244044e-09,2.9216665681851642e-09,1.6518379667100918e-09,9.237833562188699e-10,5.110209757742337e-10,2.796232362207357e-10,1.5134701735769712e-10,8.102912602269154e-11,4.291189436876211e-11,2.2479901891605475e-11,1.1650325009463586e-11,5.9759614822438314e-12,3.039843250371405e-12,1.5460994670758314e-12,8.127816038841465e-13,4.947938925555366e-13,4.389669330104037e-13,6.181034794273204e-13,1.1191258813404696e-12,2.180797290930494e-12,4.295361399200604e-12,8.411951614781959e-12,1.631506801121797e-11,3.1309133531661585e-11,5.943581199665111e-11,1.1160870376041475e-10,2.0730769358707822e-10,3.8088953811814134e-10,6.922271838440225e-10,1.2444119437838395e-09,2.2128174645476757e-09,3.8921798980564784e-09,6.77183105337437e-09,1.1654273829235416e-08,1.9839476835736756e-08,3.340727925640058e-08,5.564394251629166e-08,9.167703801769899e-08,1.4940638142426892e-07,2.408483168590527e-07,3.840466472198785e-07,6.05745553001879e-07,9.450665353195718e-07,1.4584798381834161e-06,2.2264060257723726e-06,3.3618180276149057e-06,5.021227849016794e-06,7.418422263081813e-06,1.0841242663297571e-05,1.5671568849420533e-05,2.240844800568717e-05,3.169399436590362e-05,4.434126392290828e-05,6.136278388394037e-05,8.399780443378933e-05,0.00011373567482865312,0.00015233208177883173,0.0002018143018382305,0.00026447120663354655,0.0003428236288834734,0.0004395709598061667,0.0005575106048542289,0.0006994282462138848,0.0008679587712601532,0.0010654201854717953,0.0012936257175809613,0.0015536824420177286,0.0018457878088440187,0.0021690381435913175,0.002521265087839317,0.0028989167365792885,0.003296999591224165,0.003709095198676306,0.004127461452490168,0.0045432231416595945,0.004946649789739193,0.005327511654163185,0.005675497611498668,0.0059806722684143,0.006233944727938893,0.006427518622528622,0.006555292731118508,0.006613183907803405,0.006599349058798192,0.006514290116860134,0.006360834730802992,0.0061439948816426225,0.005870714937578666,0.005549528867027756,0.005190152664129401,0.004803041935857887,0.004398945753924751,0.003988486280393423,0.0035817896055595666,0.0031881871968991787,0.0028160000201538768,0.0024724095109396648,0.002163411897921928,0.0018938455793442405,0.0016674758715936088,0.0014871178497379359,0.001354776371265835,0.0012717827255759265,0.0012389095385123951,0.001256449313541423,0.0013242469455821738,0.0014416822731699583,0.0016076047756812676,0.0018202283969601515,0.002076999714429632,0.002374456832896322,0.002708099078986672,0.003072288503787204,0.003460203181757736,0.003863859283556329,0.0042742140297581796,0.004681355214592178,0.005074775512782771,0.005443721885210405,0.005777602814323971,0.006066429588919602,0.006301263125384007,0.006474635423858665,0.006580915062723832],\"yaxis\":\"y\",\"type\":\"scatter\"},{\"legendgroup\":\"Ridge\",\"marker\":{\"color\":\"rgb(255, 127, 14)\"},\"mode\":\"lines\",\"name\":\"Ridge\",\"showlegend\":false,\"x\":[-4.491722023123003,-4.472032734796801,-4.452343446470598,-4.432654158144396,-4.412964869818193,-4.393275581491991,-4.373586293165787,-4.353897004839585,-4.334207716513382,-4.31451842818718,-4.294829139860977,-4.2751398515347745,-4.255450563208572,-4.235761274882369,-4.216071986556167,-4.196382698229964,-4.176693409903761,-4.157004121577558,-4.137314833251356,-4.117625544925153,-4.097936256598951,-4.078246968272748,-4.058557679946546,-4.038868391620343,-4.019179103294141,-3.9994898149679377,-3.979800526641735,-3.9601112383155326,-3.9404219499893296,-3.920732661663127,-3.9010433733369245,-3.881354085010722,-3.8616647966845195,-3.841975508358317,-3.8222862200321144,-3.8025969317059114,-3.782907643379709,-3.7632183550535063,-3.743529066727304,-3.723839778401101,-3.7041504900748983,-3.6844612017486957,-3.664771913422493,-3.6450826250962907,-3.625393336770088,-3.6057040484438856,-3.5860147601176826,-3.56632547179148,-3.5466361834652775,-3.526946895139075,-3.507257606812872,-3.4875683184866695,-3.467879030160467,-3.4481897418342644,-3.428500453508062,-3.408811165181859,-3.3891218768556564,-3.369432588529454,-3.3497433002032513,-3.3300540118770487,-3.3103647235508458,-3.2906754352246432,-3.2709861468984407,-3.251296858572238,-3.2316075702460356,-3.211918281919833,-3.1922289935936305,-3.172539705267428,-3.152850416941225,-3.133161128615022,-3.1134718402888195,-3.093782551962617,-3.0740932636364144,-3.054403975310212,-3.0347146869840094,-3.015025398657807,-2.9953361103316043,-2.9756468220054013,-2.955957533679199,-2.9362682453529962,-2.9165789570267937,-2.8968896687005907,-2.877200380374388,-2.8575110920481857,-2.837821803721983,-2.8181325153957806,-2.798443227069578,-2.778753938743375,-2.7590646504171725,-2.73937536209097,-2.7196860737647675,-2.6999967854385645,-2.680307497112362,-2.6606182087861594,-2.640928920459957,-2.6212396321337543,-2.601550343807552,-2.5818610554813493,-2.5621717671551467,-2.5424824788289437,-2.5227931905027408,-2.503103902176538,-2.4834146138503357,-2.463725325524133,-2.4440360371979306,-2.424346748871728,-2.4046574605455255,-2.384968172219323,-2.3652788838931205,-2.3455895955669175,-2.3259003072407145,-2.306211018914512,-2.2865217305883094,-2.266832442262107,-2.2471431539359044,-2.227453865609702,-2.2077645772834993,-2.1880752889572967,-2.168386000631094,-2.1486967123048912,-2.1290074239786887,-2.109318135652486,-2.089628847326283,-2.0699395590000806,-2.050250270673878,-2.0305609823476756,-2.010871694021473,-1.9911824056952705,-1.9714931173690675,-1.951803829042865,-1.9321145407166624,-1.91242525239046,-1.8927359640642574,-1.8730466757380548,-1.8533573874118523,-1.8336680990856493,-1.8139788107594468,-1.7942895224332438,-1.7746002341070413,-1.7549109457808387,-1.7352216574546362,-1.7155323691284337,-1.6958430808022311,-1.6761537924760286,-1.656464504149826,-1.636775215823623,-1.6170859274974205,-1.597396639171218,-1.577707350845015,-1.5580180625188125,-1.53832877419261,-1.5186394858664074,-1.4989501975402049,-1.4792609092140023,-1.4595716208877993,-1.4398823325615968,-1.4201930442353943,-1.4005037559091917,-1.3808144675829892,-1.3611251792567867,-1.3414358909305841,-1.3217466026043811,-1.3020573142781786,-1.2823680259519756,-1.262678737625773,-1.2429894492995706,-1.223300160973368,-1.2036108726471655,-1.183921584320963,-1.1642322959947604,-1.1445430076685579,-1.1248537193423553,-1.1051644310161524,-1.0854751426899494,-1.0657858543637468,-1.0460965660375443,-1.0264072777113418,-1.0067179893851392,-0.9870287010589367,-0.9673394127327342,-0.9476501244065316,-0.9279608360803286,-0.9082715477541261,-0.8885822594279236,-0.868892971101721,-0.8492036827755185,-0.8295143944493155,-0.809825106123113,-0.7901358177969104,-0.7704465294707075,-0.7507572411445049,-0.7310679528183024,-0.7113786644920999,-0.6916893761658973,-0.6720000878396948,-0.6523107995134922,-0.6326215111872897,-0.6129322228610872,-0.5932429345348842,-0.5735536462086812,-0.5538643578824787,-0.5341750695562761,-0.5144857812300736,-0.49479649290387107,-0.4751072045776681,-0.45541791625146555,-0.435728627925263,-0.4160393395990605,-0.39635005127285794,-0.3766607629466554,-0.35697147462045287,-0.33728218629425033,-0.3175928979680478,-0.29790360964184526,-0.2782143213156427,-0.2585250329894402,-0.23883574466323765,-0.2191464563370351,-0.1994571680108317,-0.17976787968462915,-0.16007859135842573,-0.1403893030322232,-0.12070001470602065,-0.10101072637981812,-0.08132143805361558,-0.061632149727413044,-0.04194286140121051,-0.02225357307500797,-0.0025642847488054343,0.017125003577397102,0.03681429190359964,0.056503580229802175,0.07619286855600471,0.09588215688220725,0.11557144520840978,0.13526073353461232,0.15495002186081486,0.1746393101870174,0.19432859851322082,0.21401788683942335,0.2337071751656259,0.2533964634918284,0.27308575181803096,0.2927750401442335,0.3124643284704369,0.33215361679663946,0.351842905122842,0.37153219344904453,0.39122148177524707,0.4109107701014496,0.43060005842765214,0.4502893467538547,0.4699786350800572,0.48966792340625975,0.5093572117324623,0.5290465000586657,0.5487357883848683,0.5684250767110708,0.5881143650372733,0.6078036533634759,0.6274929416896784,0.6471822300158809,0.6668715183420835,0.686560806668286,0.7062500949944885,0.7259393833206911,0.7456286716468936,0.7653179599730962,0.7850072482992987,0.8046965366255021,0.8243858249517046,0.8440751132779072,0.8637644016041097,0.8834536899303131,0.9031429782565157,0.9228322665827182,0.9425215549089208,0.9622108432351233,0.9819001315613258,1.0015894198875284,1.021278708213731,1.0409679965399334,1.060657284866136,1.0803465731923385,1.100035861518541,1.1197251498447436,1.1394144381709461,1.1591037264971487,1.1787930148233512,1.1984823031495537,1.2181715914757572,1.2378608798019597,1.2575501681281622,1.2772394564543648,1.2969287447805673,1.3166180331067707,1.3363073214329733,1.3559966097591758,1.3756858980853783,1.3953751864115809,1.4150644747377834,1.434753763063986,1.4544430513901885,1.474132339716391,1.4938216280425936,1.513510916368796,1.5332002046949986,1.5528894930212012,1.5725787813474046,1.5922680696736071,1.6119573579998097,1.6316466463260122,1.6513359346522147,1.6710252229784173,1.6907145113046198,1.7104037996308223,1.7300930879570249,1.7497823762832274,1.76947166460943,1.7891609529356325,1.808850241261835,1.8285395295880384,1.848228817914241,1.8679181062404435,1.887607394566646,1.9072966828928495,1.926985971219052,1.9466752595452546,1.966364547871457,1.9860538361976596,2.005743124523862,2.0254324128500647,2.0451217011762672,2.0648109895024698,2.0845002778286723,2.104189566154875,2.1238788544810774,2.14356814280728,2.1632574311334825,2.182946719459685,2.2026360077858875,2.22232529611209,2.2420145844382926,2.261703872764496,2.2813931610906986,2.301082449416901,2.3207717377431045,2.340461026069307,2.3601503143955096,2.379839602721712,2.3995288910479147,2.419218179374117,2.4389074677003197,2.4585967560265223,2.478286044352725,2.4979753326789274,2.51766462100513,2.5373539093313324,2.557043197657535,2.5767324859837375,2.59642177430994,2.6161110626361435,2.635800350962346,2.6554896392885485,2.675178927614751,2.6948682159409536,2.714557504267156,2.7342467925933587,2.753936080919561,2.7736253692457637,2.7933146575719663,2.813003945898169,2.8326932342243722,2.852382522550575,2.8720718108767773,2.89176109920298,2.9114503875291824,2.931139675855385,2.9508289641815884,2.970518252507791,2.9902075408339934,3.009896829160196,3.0295861174863985,3.049275405812601,3.0689646941388036,3.088653982465006,3.1083432707912086,3.128032559117411,3.1477218474436137,3.1674111357698163,3.187100424096019,3.2067897124222213,3.226479000748424,3.2461682890746264,3.265857577400829,3.2855468657270315,3.305236154053235,3.3249254423794383,3.344614730705641,3.3643040190318434,3.383993307358046,3.4036825956842485,3.423371884010451,3.4430611723366535,3.462750460662856,3.4824397489890586,3.502129037315261,3.5218183256414637,3.541507613967667,3.5611969022938688,3.580886190620072,3.600575478946274,3.6202647672724773,3.639954055598679,3.6596433439248823,3.679332632251084,3.6990219205772874,3.718711208903489,3.7384004972296925,3.758089785555894,3.7777790738820975,3.797468362208299,3.8171576505345026,3.836846938860706,3.8565362271869077,3.876225515513111,3.8959148038393128,3.915604092165516,3.935293380491718,3.9549826688179213,3.974671957144123,3.9943612454703263,4.014050533796528,4.033739822122731,4.053429110448933,4.0731183987751365,4.09280768710134,4.112496975427543,4.132186263753745,4.151875552079948,4.171564840406152,4.1912541287323535,4.210943417058557,4.2306327053847586,4.250321993710962,4.270011282037164,4.289700570363367,4.309389858689569,4.329079147015772,4.348768435341974,4.368457723668177,4.388147011994379,4.407836300320582,4.427525588646784,4.447214876972987,4.466904165299189,4.486593453625392,4.506282741951596,4.5259720302777975,4.545661318604001,4.565350606930203,4.585039895256406,4.604729183582608,4.624418471908811,4.644107760235013,4.663797048561216,4.683486336887418,4.703175625213621,4.722864913539823,4.742554201866026,4.762243490192228,4.781932778518431,4.801622066844633,4.821311355170836,4.841000643497038,4.8606899318232415,4.880379220149445,4.900068508475647,4.91975779680185,4.939447085128052,4.959136373454255,4.978825661780457,4.99851495010666,5.018204238432862,5.037893526759065,5.057582815085267,5.07727210341147,5.096961391737674,5.116650680063877,5.136339968390079,5.156029256716282,5.175718545042484,5.195407833368687,5.215097121694891,5.234786410021092,5.254475698347296,5.274164986673497,5.293854274999701,5.3135435633259025,5.333232851652106],\"xaxis\":\"x\",\"y\":[0.004018457567951768,0.004012701707431581,0.003995481500453678,0.003966944682824811,0.003927335092731356,0.0038769892156757415,0.0038163314429222176,0.0037458681379544884,0.0036661806282452646,0.003577917259514423,0.003481784666147418,0.003378538424203098,0.0032689732622152978,0.003153913009660312,0.0030342004635158814,0.002910687349886106,0.002784224550430518,0.0026556527526322912,0.0025257936691748303,0.00239544195534157,0.0022653579349370657,0.0021362612253077867,0.0020088253311925804,0.0018836732559243568,0.0017613741574830286,0.00164244105657331,0.0015273295847242744,0.0014164377427720134,0.0013101066243091924,0.0012086220450044966,0.0011122170072675435,0.0010210749206357205,0.0009353334914847041,0.0008550891911381869,0.0007804022090316501,0.0007113017970735142,0.0006477919125017671,0.0005898570690812814,0.000537468310132276,0.0004905892213217301,0.00044918190609138746,0.0004132128517584571,0.00038265861945652196,0.0003575112959693701,0.0003377836499793368,0.0003235139391843444,0.0003147703180697086,0.00031165479884401185,0.0003143067202126255,0.0003229056803727115,0.0003376738920261298,0.00035887791852387145,0.00038682975171759566,0.0004218871939696165,0.0004644535093493104,0.0005149763126141264,0.0005739456694231248,0.0006418913876247412,0.0007193794876280906,0.0008070078499892041,0.0009054010505377804,0.0010152044076794755,0.001137077282889458,0.0012716856937262891,0.001419694318700479,0.0015817579946826937,0.0017585128297812997,0.0019505670772039453,0.0021584919378954313,0.0023828124809856907,0.00262399889049165,0.0028824582634567088,0.0031585271979214288,0.0034524654179483413,0.0037644506865581414,0.004094575255134854,0.004442844088984171,0.004809175092786082,0.005193401536338951,0.005595276850116952,0.006014481921847624,0.006450634979894656,0.006903304097287022,0.007372022292614831,0.00785630514180738,0.008355670749355245,0.008869661860381498,0.009397869827836636,0.00993996008385147,0.01049569870288769,0.01106497958875669,0.011647851769785849,0.012244546248243848,0.012855501823277436,0.013481389292507463,0.014123133437235818,0.014781932210727624,0.015459272578656048,0.016156942505498297,0.016877038639961036,0.017621969325434392,0.018394452646614483,0.019197509318946104,0.020034450331178743,0.02090885936052323,0.021824570091795188,0.02278563868350302,0.02379631173196053,0.02486099018605618,0.025984189757287873,0.027170498449274605,0.02842453189570562,0.02975088724349609,0.031154096347201028,0.0326385790504394,0.034208597319763896,0.03586821096625699,0.037621235640968004,0.03947120372357196,0.04142132864137092,0.04347447306053059,0.04563312128627815,0.04789935609704521,0.05027484012285946,0.05276080176440832,0.055358025539868586,0.05806684664543129,0.060887149425796365,0.0638183693757416,0.06685949823564927,0.07000909170449177,0.07326527927445406,0.0766257756926137,0.0800878935766633,0.08364855675257493,0.0873043139406624,0.09105135249032613,0.09488551194991615,0.09880229735316125,0.10279689220366575,0.10686417124000597,0.11099871316179129,0.1151948135875913,0.1194464985949356,0.12374753925709972,0.12809146763800092,0.13247159473271003,0.13688103084502914,0.14131270887420425,0.14575941093988348,0.15021379870845072,0.15466844769623495,0.15911588571798924,0.16354863552529567,0.16795926154271792,0.1723404204635741,0.17668491531658695,0.1809857524640242,0.18523620084606296,0.18942985264974535,0.1935606844585681,0.19762311783472594,0.2016120782040914,0.20552305085736952,0.2093521328521249,0.21309607960136556,0.21675234496617443,0.2203191137328051,0.22379532544813124,0.22718068871010177,0.2304756851597938,0.2336815625960255,0.23680031682889138,0.23983466210104043,0.24278799013065555,0.24566431806308925,0.2484682258539559,0.2512047838399684,0.2538794714796663,0.2564980884592302,0.25906665955374464,0.26159133480675123,0.2640782867362759,0.26653360638967494,0.268963200149116,0.2713726892313956,0.2737673138278427,0.2761518437907869,0.2785304976917808,0.2809068719536399,0.2832838815944295,0.28566371391877926,0.28804779625325055,0.2904367785516859,0.29283053139833104,0.295228159616509,0.2976280313551044,0.3000278221810689,0.30242457336110773,0.3048147631776048,0.30719438980083613,0.309559063939846,0.3119041092260222,0.31422466805413457,0.3165158104224119,0.31877264318242693,0.32099041703635506,0.3231646286075825,0.32529111496329294,0.3273661380856256,0.3293864569707569,0.3313493852804944,0.33325283277478734,0.335095329110215,0.3368760289918333,0.3385946981049484,0.3402516797195221,0.3418478423419026,0.34338450927465547,0.34486337142316226,0.3462863851449221,0.3476556573620154,0.3489733205372205,0.350241400439164,0.35146167988204635,0.35263556181288996,0.35376393522769106,0.35484704742297507,0.3558843860289106,0.35687457412437734,0.35781528150544767,0.35870315487115756,0.35953376931072834,0.3603016030331016,0.3610000367829849,0.3616213788492013,0.36215691600382877,0.3625969901279731,0.3629310996960119,0.3631480247189127,0.3632359732023963,0.3631827466704364,0.362975921850825,0.36260304522803843,0.36205183684853187,0.36131039952218147,0.36036742940627625,0.35921242388851377,0.35783588270402933,0.35622949832768924,0.35438633187367385,0.3523009710048486,0.3499696666978689,0.3473904461180927,0.3445631993215534,0.34148973800877763,0.33817382509559596,0.3346211744272497,0.3308394205318467,0.32683805887531964,0.32262835763070624,0.3182232424985505,0.3136371566021171,0.308885897921571,0.30398643711716583,0.2989567189160015,0.29381545049483604,0.2885818804788357,0.2832755722910221,0.2779161756286743,0.2725231998121409,0.2671157926506255,0.2617125283023539,0.2563312073779831,0.2509886722523299,0.2457006402173641,0.24048155673684626,0.23534447065817704,0.230300932808846,0.22536091896215815,0.22053277770870197,0.21582320332502797,0.2112372332977162,0.20677826974734867,0.20244812361015113,0.1982470800818024,0.1941739835137131,0.19022633968173153,0.18640043312431584,0.18269145707441928,0.1790936533881342,0.17560045980400932,0.17220466184929434,0.16889854674157617,0.16567405671380336,0.16252293931416006,0.15943689239550873,0.15640770170732132,0.15342736923091116,0.1504882306505226,0.14758306062255322,0.1447051647866325,0.14184845774942526,0.1390075265588033,0.136177679466764,0.13335498004875698,0.13053626700007973,0.1277191601623871,0.12490205354149692,0.12208409625859809,0.11926516252850185,0.11644581187929276,0.11362724091696623,0.11081122799651494,0.10800007218825095,0.10519652792642357,0.10240373669851231,0.09962515708052688,0.09686449434927795,0.09412563081023012,0.09141255787275976,0.08872931078709936,0.08607990683258654,0.08346828761860532,0.08089826603116994,0.07837347823247927,0.07589734100070829,0.07347301458503712,0.07110337114834082,0.06879096877837189,0.06653803096859258,0.06434643140243668,0.06221768381968771,0.06015293670041728,0.05815297246977156,0.05621821090476359,0.054348716410867484,0.05254420883020092,0.050804077442962024,0.04912739782806649,0.047512951256222284,0.04595924629768393,0.04446454233654107,0.04302687469271379,0.04164408106116673,0.04031382898479253,0.03903364408275933,0.03780093875990581,0.03661304112525089,0.035467223849293225,0.03436073269105738,0.03329081442747825,0.03225474392039213,0.031249850060852624,0.030273540337375362,0.02932332378464035,0.028396832082620258,0.027491838593402946,0.026606275144303547,0.025738246391225957,0.024886041625453374,0.02404814391977148,0.023223236545545364,0.022410206630425422,0.021608146065978592,0.02081634971486417,0.020034311007287815,0.01926171505543106,0.018498429451443737,0.017744492948521713,0.017000102254766877,0.01626559719523663,0.015541444518257435,0.014828220637259276,0.014126593608798872,0.013437304650950735,0.012761149503879429,0.012098959926350511,0.011451585608508015,0.01081987676289869,0.010204667633016862,0.00960676113223127,0.00902691479655767,0.008465828203120678,0.007924131973096235,0.007402378444223273,0.006901034064387053,0.006420473525026017,0.005960975621863862,0.005522720801308427,0.005105790324293762,0.004710166955787908,0.0043357370679594125,0.003982294028311899,0.0036495427310744596,0.0033371051208036765,0.0030445265514471237,0.0027712828218940584,0.0025167877300836805,0.0022804009917794747,0.002061436376826339,0.0018591699247259717,0.001672848112308757,0.0015016958587493034,0.001344924266764548,0.001201738013154022,0.0010713423165125777,0.0009529494246108603,0.0008457845782745201,0.0007490914223085892,0.0006621368468591027,0.0005842152543699759,0.0005146522578123631,0.00045280782501298203,0.0003980788916029532,0.00034990147130863606,0.00030775229700352584,0.00027115002916606567,0.00023965607020064156,0.00021287502356646666,0.00019045483593101687,0.00017208665875237384,0.0001575044629435597,0.00014648443674079216,0.0001388441927530385,0.00013444180558524712,0.00013317469657667236,0.00013497837725286578,0.00013982505822566306,0.00014772212565383337,0.00015871048315310813,0.0001728627533615188,0.00019028133035348184,0.00021109627186651603,0.0002354630189508256,0.0002635599302461134,0.0002955856186791435,0.0003317560799818429,0.0003723016050467179,0.0004174634717293114,0.00046749041621132407,0.0005226348893585183,0.0005831491095202938,0.0006492809297715804,0.0007212695445157226,0.0007993410674502241,0.0008837040199304579,0.0009745447755211422,0.0010720230127691805,0.0011762672337311609,0.0012873704103232957,0.0014053858239227801,0.0015303231656587646,0.0016621449653370557,0.0018007634158389262,0.001946037657054375,0.0020977715789436023,0.0022557121972043024,0.002419548647354766,0.0025889118339705907,0.002763374761537775,0.002942453562155273,0.003125609223419866,0.0033122500075764873,0.003501734540751071,0.003693375539150548,0.0038864441278522524,0.00408017469754126,0.004273770235577832,0.004466408060345015,0.004657245882133138,0.004845428110007039,0.005030092322240671,0.005210375817998,0.0053854221699154116,0.005554387700966116,0.005716447814257091,0.00587080311097446,0.006016685239253754,0.006153362424983191,0.006280144644109098,0.006396388404559861,0.0065015011141154044,0.006594945018124123,0.0066762406976596305,0.006744970124315722,0.006800779272228094,0.006843380291018984,0.006872553245194198,0.006888147426155887,0.0068900822425710835,0.006878347693553408,0.006853004427217762,0.006814183384932718,0.006762085029317565,0.006696978152008389,0.006619198255733897,0.006529145504551578,0.006427282236411712,0.006314130033697441],\"yaxis\":\"y\",\"type\":\"scatter\"},{\"legendgroup\":\"Lasso\",\"marker\":{\"color\":\"rgb(31, 119, 180)\",\"symbol\":\"line-ns-open\"},\"mode\":\"markers\",\"name\":\"Lasso\",\"showlegend\":false,\"x\":[-0.2988645822136688,0.3408157190759779,0.0,-5.077585851834598,-0.011546218132247835,2.504753303583181,0.0,0.0,-1.2254666741348483,0.0,0.0,-0.0,-0.0,-0.0,-0.0,0.8911508709272489,0.0,-0.0,-0.0,-0.0,-0.0,-0.0,0.48261306316595637,0.0,-0.0,-0.0,-0.0,0.0,0.0,0.2925973682707245,0.0,0.0,0.0,-0.0,-0.0,-0.0,0.0,0.0,0.0,-0.0,-0.0,-0.0,0.0,-0.0,0.0,0.0,-0.0,0.0,-0.0,0.0,-0.0,0.0,-0.0,-0.0,0.0,-0.0,0.0,-0.0,0.0,0.0,-0.8137493295508532,-0.0,-0.0,-0.0,-0.0,-0.0,0.0,0.0,-0.0,0.0,0.0,-0.0,0.0,0.0,-0.0,-0.0,-0.0,-0.0,0.0,0.0,-0.0,-0.0,-0.0,0.0,0.0,0.0,-0.0,-0.0,-0.0,-0.0,0.0,-0.0,0.8577155917758741,-0.0,-0.0,1.1721102608593437,-0.0,-0.0,0.28870926085446913,0.0,0.0,-0.0,0.0,-0.0,-0.0,-0.0,0.20926544012577297,0.0,0.0,-0.0,0.0,-0.0,-0.0,1.555782628139949,0.0,0.0,5.608686884873427,-0.0,0.0,-0.0,0.0,0.0,0.0,0.0,0.0,0.0,0.0,0.0,-0.0,0.0,-0.0,-0.5834694165847315,0.0,0.0,-0.0,0.0,-0.0,0.0,-0.0,0.0,-0.0,0.0,-0.0,-0.0,-0.0,0.0,0.0,-0.0,0.567732366170475,0.0,1.6083497158913294,1.1672531907630153,-0.0,-0.6403255347633293,0.0,0.0,0.0,-0.0,0.0,-0.0,-0.0,0.0,0.0,-0.0,-0.0,-0.0,0.0,0.0,0.0,-0.0,0.0,0.0,-0.0,0.0,-0.0,0.0,0.0,-0.0,-0.4021040609510492,-0.0,0.0,-0.0,-0.0,-0.0,-0.0,-0.0,-0.0,0.0,-0.0,0.0,0.0,0.0,-0.0,0.0,-0.0,0.0,-0.0,-0.0,0.0,0.0,0.0,-0.0,0.0,0.7072730612261585,1.622680436188137,0.0,-0.0,-0.0,0.40519832556906654,0.0,-0.0,0.0,-0.0,-0.0,-0.0,1.2247142327906229,0.0,0.0,-1.1811727255510378,-0.0030190125000514397,-0.0,0.0,-0.0,-0.0,0.0,0.0,-0.0,-0.0,0.0,-0.0,-0.0,-0.0,-0.0,0.0,-0.0,-0.0,0.0,0.0,-0.0,0.0,0.0,0.0,0.0,-0.0,-0.0,0.19289042452120814,-0.0,-0.0,0.0,0.9537875656344021,0.0,-0.0,-0.0,-0.0,-0.0,-0.0,-0.0,-0.0,-0.0,-0.0,-0.0,-0.0,-0.0,-0.0,6.580903263082053,-0.0,0.0,0.0,0.0,-0.0],\"xaxis\":\"x\",\"y\":[\"Lasso\",\"Lasso\",\"Lasso\",\"Lasso\",\"Lasso\",\"Lasso\",\"Lasso\",\"Lasso\",\"Lasso\",\"Lasso\",\"Lasso\",\"Lasso\",\"Lasso\",\"Lasso\",\"Lasso\",\"Lasso\",\"Lasso\",\"Lasso\",\"Lasso\",\"Lasso\",\"Lasso\",\"Lasso\",\"Lasso\",\"Lasso\",\"Lasso\",\"Lasso\",\"Lasso\",\"Lasso\",\"Lasso\",\"Lasso\",\"Lasso\",\"Lasso\",\"Lasso\",\"Lasso\",\"Lasso\",\"Lasso\",\"Lasso\",\"Lasso\",\"Lasso\",\"Lasso\",\"Lasso\",\"Lasso\",\"Lasso\",\"Lasso\",\"Lasso\",\"Lasso\",\"Lasso\",\"Lasso\",\"Lasso\",\"Lasso\",\"Lasso\",\"Lasso\",\"Lasso\",\"Lasso\",\"Lasso\",\"Lasso\",\"Lasso\",\"Lasso\",\"Lasso\",\"Lasso\",\"Lasso\",\"Lasso\",\"Lasso\",\"Lasso\",\"Lasso\",\"Lasso\",\"Lasso\",\"Lasso\",\"Lasso\",\"Lasso\",\"Lasso\",\"Lasso\",\"Lasso\",\"Lasso\",\"Lasso\",\"Lasso\",\"Lasso\",\"Lasso\",\"Lasso\",\"Lasso\",\"Lasso\",\"Lasso\",\"Lasso\",\"Lasso\",\"Lasso\",\"Lasso\",\"Lasso\",\"Lasso\",\"Lasso\",\"Lasso\",\"Lasso\",\"Lasso\",\"Lasso\",\"Lasso\",\"Lasso\",\"Lasso\",\"Lasso\",\"Lasso\",\"Lasso\",\"Lasso\",\"Lasso\",\"Lasso\",\"Lasso\",\"Lasso\",\"Lasso\",\"Lasso\",\"Lasso\",\"Lasso\",\"Lasso\",\"Lasso\",\"Lasso\",\"Lasso\",\"Lasso\",\"Lasso\",\"Lasso\",\"Lasso\",\"Lasso\",\"Lasso\",\"Lasso\",\"Lasso\",\"Lasso\",\"Lasso\",\"Lasso\",\"Lasso\",\"Lasso\",\"Lasso\",\"Lasso\",\"Lasso\",\"Lasso\",\"Lasso\",\"Lasso\",\"Lasso\",\"Lasso\",\"Lasso\",\"Lasso\",\"Lasso\",\"Lasso\",\"Lasso\",\"Lasso\",\"Lasso\",\"Lasso\",\"Lasso\",\"Lasso\",\"Lasso\",\"Lasso\",\"Lasso\",\"Lasso\",\"Lasso\",\"Lasso\",\"Lasso\",\"Lasso\",\"Lasso\",\"Lasso\",\"Lasso\",\"Lasso\",\"Lasso\",\"Lasso\",\"Lasso\",\"Lasso\",\"Lasso\",\"Lasso\",\"Lasso\",\"Lasso\",\"Lasso\",\"Lasso\",\"Lasso\",\"Lasso\",\"Lasso\",\"Lasso\",\"Lasso\",\"Lasso\",\"Lasso\",\"Lasso\",\"Lasso\",\"Lasso\",\"Lasso\",\"Lasso\",\"Lasso\",\"Lasso\",\"Lasso\",\"Lasso\",\"Lasso\",\"Lasso\",\"Lasso\",\"Lasso\",\"Lasso\",\"Lasso\",\"Lasso\",\"Lasso\",\"Lasso\",\"Lasso\",\"Lasso\",\"Lasso\",\"Lasso\",\"Lasso\",\"Lasso\",\"Lasso\",\"Lasso\",\"Lasso\",\"Lasso\",\"Lasso\",\"Lasso\",\"Lasso\",\"Lasso\",\"Lasso\",\"Lasso\",\"Lasso\",\"Lasso\",\"Lasso\",\"Lasso\",\"Lasso\",\"Lasso\",\"Lasso\",\"Lasso\",\"Lasso\",\"Lasso\",\"Lasso\",\"Lasso\",\"Lasso\",\"Lasso\",\"Lasso\",\"Lasso\",\"Lasso\",\"Lasso\",\"Lasso\",\"Lasso\",\"Lasso\",\"Lasso\",\"Lasso\",\"Lasso\",\"Lasso\",\"Lasso\",\"Lasso\",\"Lasso\",\"Lasso\",\"Lasso\",\"Lasso\",\"Lasso\",\"Lasso\",\"Lasso\",\"Lasso\",\"Lasso\",\"Lasso\",\"Lasso\",\"Lasso\",\"Lasso\",\"Lasso\",\"Lasso\",\"Lasso\",\"Lasso\",\"Lasso\",\"Lasso\",\"Lasso\",\"Lasso\",\"Lasso\",\"Lasso\",\"Lasso\",\"Lasso\",\"Lasso\",\"Lasso\",\"Lasso\",\"Lasso\",\"Lasso\",\"Lasso\",\"Lasso\",\"Lasso\",\"Lasso\",\"Lasso\",\"Lasso\",\"Lasso\"],\"yaxis\":\"y2\",\"type\":\"scatter\"},{\"legendgroup\":\"Ridge\",\"marker\":{\"color\":\"rgb(255, 127, 14)\",\"symbol\":\"line-ns-open\"},\"mode\":\"markers\",\"name\":\"Ridge\",\"showlegend\":false,\"x\":[-1.1129087993561357,0.8294144662424573,-0.5787984166758985,-4.491722023123003,-0.3231443964418073,2.552844778514602,0.6441174358223568,0.14095520188785843,-0.7850726377103925,0.7655534592398832,0.35668345877109486,-1.5694262616056949,0.2622755706720004,-0.25740342390752374,-0.7824098482842227,2.5934921160922713,0.5606042947986356,-0.4517342035226931,-1.251517711623685,-1.2566996189796225,-0.8399631100453093,-0.9115025384574819,2.4240448138351636,0.5895441677219228,-1.081293214146634,-1.7078041853218495,-0.14992684171083884,0.8871041754356822,0.6283527413632825,1.8381784632118596,0.505301827698505,1.847543980828639,1.1660417251227582,-0.2943188274365214,-0.8460284506775096,-1.1743906199073832,0.38758253290088196,1.5379256032546136,0.7316435087965895,-1.884974333803087,-0.3803906278169629,-0.08497089850921134,1.2408957059769843,-0.6753846928418664,0.9156462926384713,1.3807542463329747,-1.8741582993187473,-0.3036013953091381,-1.0424954733411276,1.4179918699988796,-1.7072056935387632,1.5472728948675645,-0.1227210004055106,-1.5950573585056156,0.15378752892518024,-1.5158020234453624,0.35757369273867545,0.03033002471470625,0.5305137448732199,0.5063646604899323,-1.304474985161872,-0.9238000638358148,-0.8593459950757987,-0.8880271347939364,-0.6393546630438383,-0.21638696058560544,0.5305137448732199,0.3792336381162569,-0.9978701583674049,0.2493173132189108,0.05756227228091626,-1.239745407526675,1.278060194951151,-0.10863399808939253,-0.2107793401255064,-0.29120046811234535,-1.831950533468658,-0.049184438276753395,1.3319810228343887,0.38011871476745274,-0.5547483724496778,-0.4773991991057108,-0.01885776832651515,2.083607641950622,0.5019017353090345,1.1648262126908626,-0.33267410582722,-0.5674857997047492,-0.21335053062708242,-0.3794735839177543,1.5669198703542766,-1.2522278650518264,1.4733934612816828,0.2950302432706544,-0.39116971003031153,1.9506134740662049,-1.3039572485578552,-0.26461410270498087,1.1745371841275918,0.7332049553666572,0.40787226982260094,-0.07004096082382522,0.9641079920295164,-0.7510364354347983,-0.5507022164537886,-0.3803906278169629,0.5946382945521977,1.1556929985029158,0.2472846161787175,-1.5282662275837418,0.8294023660846715,-1.052465224091736,0.16304731435793607,1.4641369891503295,0.15378752892518024,1.6818403861389453,5.352922139978308,0.18684346159249166,0.4889378708015187,-0.4506482465355326,1.3891756534312316,0.8580076675686382,0.3088028358132139,0.9417726671756019,0.505301827698505,0.9156462926384713,0.279700065872337,1.0463882598359586,-1.3612332448924145,0.6049897975120018,-0.06543314271056258,-1.0108996225862321,0.9579782613824268,0.7252543780887716,-1.3691288925157792,1.3807542463329747,0.725744656785349,1.6015116018525628,-0.1359476085128417,0.3353049414117687,-1.4934173404771922,0.6746094015057071,-0.3710643489750267,-1.30375522488435,-0.5547483724496778,1.1401731485445128,0.7316435087965895,-0.7704485369412277,1.309064121771245,0.5606042947986356,1.5022066465152109,2.0043866121613467,-0.15732058294772702,-1.188042408518915,0.616582446146266,0.8794436105112078,0.18350594168418952,-0.6227415537366755,0.5190881755161982,-0.8512030334431,-1.5624517801767859,1.7557378683622795,0.472188215309748,-1.7470268311650918,-0.44389495120080064,-0.8351537643914896,0.35668345877109486,0.7145994336929238,0.5244451833778973,-0.8487825870093588,1.653849861479738,-0.03971594990337779,-0.6578821407405016,0.3870083521743139,-1.0429267048071287,0.3960769123293276,0.32567600803466035,-1.0696500851664157,-2.4987004748334685,-0.9746776732692854,0.3792336381162569,-0.5709870751501146,0.2622755706720004,-0.24695538881779827,-1.1473221196669074,-0.049184438276753395,0.23989386642114513,0.3184997323551964,-1.0629697147956998,0.6701186728269483,0.5128595234320833,0.6320329944542736,-1.1731659078568113,0.03952824119724774,-1.2699522862308483,0.8565716807482061,-0.8977872724624445,-0.9708116225942747,0.1918287346043479,0.23362925750630859,2.269289902502991,-1.2140561129115883,0.34713742175275114,0.5502602614323536,1.2058020229631286,-0.0015168394811781174,-0.7817080683038743,0.0034856782099265127,2.042015376090019,0.1869271089995188,-0.12300009092940306,0.3681432509426984,-0.4003860901625929,-0.19947199021444295,-1.1465289568912527,1.4463457173648697,0.5128595234320833,0.15378752892518024,-2.386002959624008,-2.4987004748334685,-1.158228330706687,1.4479555874951318,-1.8625735900026967,-1.242032737469573,-0.04068580996706711,0.4388487477204985,-0.1454890137237808,-0.3416944929344409,0.3362875277755491,-0.5362284339622133,-0.303557571614939,-0.20179091740062055,-0.38342993420765387,0.2984948984457206,-0.1641900427616228,-0.32853661451039484,-0.1378956100654105,1.121715207584461,-0.19947199021444295,0.6320329944542736,1.6448251820465893,0.5175894427156322,0.3595335301022626,-0.5868463926731754,-0.21638696058560544,0.6037975663436309,-1.7078041853218495,-0.6879302509236632,0.6495738899164921,2.8036382792770214,1.2247078451683642,-0.11110506202544991,-0.43781037857896177,-0.06382234426587026,-1.4428815635037204,-0.3996679623842675,-0.4139565225913963,-0.7817080683038743,-0.7649194839949485,-0.29804713396324656,-0.5362284339622133,-1.3567671205440592,-1.2381446354939096,-1.559734913180336,4.945017934913792,-1.0994721332096047,0.6634165306117908,0.5923170445508958,0.6701186728269483,-0.8396674041662123],\"xaxis\":\"x\",\"y\":[\"Ridge\",\"Ridge\",\"Ridge\",\"Ridge\",\"Ridge\",\"Ridge\",\"Ridge\",\"Ridge\",\"Ridge\",\"Ridge\",\"Ridge\",\"Ridge\",\"Ridge\",\"Ridge\",\"Ridge\",\"Ridge\",\"Ridge\",\"Ridge\",\"Ridge\",\"Ridge\",\"Ridge\",\"Ridge\",\"Ridge\",\"Ridge\",\"Ridge\",\"Ridge\",\"Ridge\",\"Ridge\",\"Ridge\",\"Ridge\",\"Ridge\",\"Ridge\",\"Ridge\",\"Ridge\",\"Ridge\",\"Ridge\",\"Ridge\",\"Ridge\",\"Ridge\",\"Ridge\",\"Ridge\",\"Ridge\",\"Ridge\",\"Ridge\",\"Ridge\",\"Ridge\",\"Ridge\",\"Ridge\",\"Ridge\",\"Ridge\",\"Ridge\",\"Ridge\",\"Ridge\",\"Ridge\",\"Ridge\",\"Ridge\",\"Ridge\",\"Ridge\",\"Ridge\",\"Ridge\",\"Ridge\",\"Ridge\",\"Ridge\",\"Ridge\",\"Ridge\",\"Ridge\",\"Ridge\",\"Ridge\",\"Ridge\",\"Ridge\",\"Ridge\",\"Ridge\",\"Ridge\",\"Ridge\",\"Ridge\",\"Ridge\",\"Ridge\",\"Ridge\",\"Ridge\",\"Ridge\",\"Ridge\",\"Ridge\",\"Ridge\",\"Ridge\",\"Ridge\",\"Ridge\",\"Ridge\",\"Ridge\",\"Ridge\",\"Ridge\",\"Ridge\",\"Ridge\",\"Ridge\",\"Ridge\",\"Ridge\",\"Ridge\",\"Ridge\",\"Ridge\",\"Ridge\",\"Ridge\",\"Ridge\",\"Ridge\",\"Ridge\",\"Ridge\",\"Ridge\",\"Ridge\",\"Ridge\",\"Ridge\",\"Ridge\",\"Ridge\",\"Ridge\",\"Ridge\",\"Ridge\",\"Ridge\",\"Ridge\",\"Ridge\",\"Ridge\",\"Ridge\",\"Ridge\",\"Ridge\",\"Ridge\",\"Ridge\",\"Ridge\",\"Ridge\",\"Ridge\",\"Ridge\",\"Ridge\",\"Ridge\",\"Ridge\",\"Ridge\",\"Ridge\",\"Ridge\",\"Ridge\",\"Ridge\",\"Ridge\",\"Ridge\",\"Ridge\",\"Ridge\",\"Ridge\",\"Ridge\",\"Ridge\",\"Ridge\",\"Ridge\",\"Ridge\",\"Ridge\",\"Ridge\",\"Ridge\",\"Ridge\",\"Ridge\",\"Ridge\",\"Ridge\",\"Ridge\",\"Ridge\",\"Ridge\",\"Ridge\",\"Ridge\",\"Ridge\",\"Ridge\",\"Ridge\",\"Ridge\",\"Ridge\",\"Ridge\",\"Ridge\",\"Ridge\",\"Ridge\",\"Ridge\",\"Ridge\",\"Ridge\",\"Ridge\",\"Ridge\",\"Ridge\",\"Ridge\",\"Ridge\",\"Ridge\",\"Ridge\",\"Ridge\",\"Ridge\",\"Ridge\",\"Ridge\",\"Ridge\",\"Ridge\",\"Ridge\",\"Ridge\",\"Ridge\",\"Ridge\",\"Ridge\",\"Ridge\",\"Ridge\",\"Ridge\",\"Ridge\",\"Ridge\",\"Ridge\",\"Ridge\",\"Ridge\",\"Ridge\",\"Ridge\",\"Ridge\",\"Ridge\",\"Ridge\",\"Ridge\",\"Ridge\",\"Ridge\",\"Ridge\",\"Ridge\",\"Ridge\",\"Ridge\",\"Ridge\",\"Ridge\",\"Ridge\",\"Ridge\",\"Ridge\",\"Ridge\",\"Ridge\",\"Ridge\",\"Ridge\",\"Ridge\",\"Ridge\",\"Ridge\",\"Ridge\",\"Ridge\",\"Ridge\",\"Ridge\",\"Ridge\",\"Ridge\",\"Ridge\",\"Ridge\",\"Ridge\",\"Ridge\",\"Ridge\",\"Ridge\",\"Ridge\",\"Ridge\",\"Ridge\",\"Ridge\",\"Ridge\",\"Ridge\",\"Ridge\",\"Ridge\",\"Ridge\",\"Ridge\",\"Ridge\",\"Ridge\",\"Ridge\",\"Ridge\",\"Ridge\",\"Ridge\",\"Ridge\",\"Ridge\",\"Ridge\",\"Ridge\",\"Ridge\",\"Ridge\",\"Ridge\",\"Ridge\",\"Ridge\",\"Ridge\",\"Ridge\",\"Ridge\",\"Ridge\",\"Ridge\",\"Ridge\",\"Ridge\",\"Ridge\",\"Ridge\",\"Ridge\",\"Ridge\",\"Ridge\",\"Ridge\",\"Ridge\",\"Ridge\"],\"yaxis\":\"y2\",\"type\":\"scatter\"}],                        {\"barmode\":\"overlay\",\"hovermode\":\"closest\",\"legend\":{\"traceorder\":\"reversed\"},\"xaxis\":{\"anchor\":\"y2\",\"domain\":[0.0,1.0],\"zeroline\":false},\"yaxis\":{\"anchor\":\"free\",\"domain\":[0.35,1],\"position\":0.0},\"yaxis2\":{\"anchor\":\"x\",\"domain\":[0,0.25],\"dtick\":1,\"showticklabels\":false},\"template\":{\"data\":{\"histogram2dcontour\":[{\"type\":\"histogram2dcontour\",\"colorbar\":{\"outlinewidth\":0,\"ticks\":\"\"},\"colorscale\":[[0.0,\"#0d0887\"],[0.1111111111111111,\"#46039f\"],[0.2222222222222222,\"#7201a8\"],[0.3333333333333333,\"#9c179e\"],[0.4444444444444444,\"#bd3786\"],[0.5555555555555556,\"#d8576b\"],[0.6666666666666666,\"#ed7953\"],[0.7777777777777778,\"#fb9f3a\"],[0.8888888888888888,\"#fdca26\"],[1.0,\"#f0f921\"]]}],\"choropleth\":[{\"type\":\"choropleth\",\"colorbar\":{\"outlinewidth\":0,\"ticks\":\"\"}}],\"histogram2d\":[{\"type\":\"histogram2d\",\"colorbar\":{\"outlinewidth\":0,\"ticks\":\"\"},\"colorscale\":[[0.0,\"#0d0887\"],[0.1111111111111111,\"#46039f\"],[0.2222222222222222,\"#7201a8\"],[0.3333333333333333,\"#9c179e\"],[0.4444444444444444,\"#bd3786\"],[0.5555555555555556,\"#d8576b\"],[0.6666666666666666,\"#ed7953\"],[0.7777777777777778,\"#fb9f3a\"],[0.8888888888888888,\"#fdca26\"],[1.0,\"#f0f921\"]]}],\"heatmap\":[{\"type\":\"heatmap\",\"colorbar\":{\"outlinewidth\":0,\"ticks\":\"\"},\"colorscale\":[[0.0,\"#0d0887\"],[0.1111111111111111,\"#46039f\"],[0.2222222222222222,\"#7201a8\"],[0.3333333333333333,\"#9c179e\"],[0.4444444444444444,\"#bd3786\"],[0.5555555555555556,\"#d8576b\"],[0.6666666666666666,\"#ed7953\"],[0.7777777777777778,\"#fb9f3a\"],[0.8888888888888888,\"#fdca26\"],[1.0,\"#f0f921\"]]}],\"heatmapgl\":[{\"type\":\"heatmapgl\",\"colorbar\":{\"outlinewidth\":0,\"ticks\":\"\"},\"colorscale\":[[0.0,\"#0d0887\"],[0.1111111111111111,\"#46039f\"],[0.2222222222222222,\"#7201a8\"],[0.3333333333333333,\"#9c179e\"],[0.4444444444444444,\"#bd3786\"],[0.5555555555555556,\"#d8576b\"],[0.6666666666666666,\"#ed7953\"],[0.7777777777777778,\"#fb9f3a\"],[0.8888888888888888,\"#fdca26\"],[1.0,\"#f0f921\"]]}],\"contourcarpet\":[{\"type\":\"contourcarpet\",\"colorbar\":{\"outlinewidth\":0,\"ticks\":\"\"}}],\"contour\":[{\"type\":\"contour\",\"colorbar\":{\"outlinewidth\":0,\"ticks\":\"\"},\"colorscale\":[[0.0,\"#0d0887\"],[0.1111111111111111,\"#46039f\"],[0.2222222222222222,\"#7201a8\"],[0.3333333333333333,\"#9c179e\"],[0.4444444444444444,\"#bd3786\"],[0.5555555555555556,\"#d8576b\"],[0.6666666666666666,\"#ed7953\"],[0.7777777777777778,\"#fb9f3a\"],[0.8888888888888888,\"#fdca26\"],[1.0,\"#f0f921\"]]}],\"surface\":[{\"type\":\"surface\",\"colorbar\":{\"outlinewidth\":0,\"ticks\":\"\"},\"colorscale\":[[0.0,\"#0d0887\"],[0.1111111111111111,\"#46039f\"],[0.2222222222222222,\"#7201a8\"],[0.3333333333333333,\"#9c179e\"],[0.4444444444444444,\"#bd3786\"],[0.5555555555555556,\"#d8576b\"],[0.6666666666666666,\"#ed7953\"],[0.7777777777777778,\"#fb9f3a\"],[0.8888888888888888,\"#fdca26\"],[1.0,\"#f0f921\"]]}],\"mesh3d\":[{\"type\":\"mesh3d\",\"colorbar\":{\"outlinewidth\":0,\"ticks\":\"\"}}],\"scatter\":[{\"fillpattern\":{\"fillmode\":\"overlay\",\"size\":10,\"solidity\":0.2},\"type\":\"scatter\"}],\"parcoords\":[{\"type\":\"parcoords\",\"line\":{\"colorbar\":{\"outlinewidth\":0,\"ticks\":\"\"}}}],\"scatterpolargl\":[{\"type\":\"scatterpolargl\",\"marker\":{\"colorbar\":{\"outlinewidth\":0,\"ticks\":\"\"}}}],\"bar\":[{\"error_x\":{\"color\":\"#2a3f5f\"},\"error_y\":{\"color\":\"#2a3f5f\"},\"marker\":{\"line\":{\"color\":\"#E5ECF6\",\"width\":0.5},\"pattern\":{\"fillmode\":\"overlay\",\"size\":10,\"solidity\":0.2}},\"type\":\"bar\"}],\"scattergeo\":[{\"type\":\"scattergeo\",\"marker\":{\"colorbar\":{\"outlinewidth\":0,\"ticks\":\"\"}}}],\"scatterpolar\":[{\"type\":\"scatterpolar\",\"marker\":{\"colorbar\":{\"outlinewidth\":0,\"ticks\":\"\"}}}],\"histogram\":[{\"marker\":{\"pattern\":{\"fillmode\":\"overlay\",\"size\":10,\"solidity\":0.2}},\"type\":\"histogram\"}],\"scattergl\":[{\"type\":\"scattergl\",\"marker\":{\"colorbar\":{\"outlinewidth\":0,\"ticks\":\"\"}}}],\"scatter3d\":[{\"type\":\"scatter3d\",\"line\":{\"colorbar\":{\"outlinewidth\":0,\"ticks\":\"\"}},\"marker\":{\"colorbar\":{\"outlinewidth\":0,\"ticks\":\"\"}}}],\"scattermapbox\":[{\"type\":\"scattermapbox\",\"marker\":{\"colorbar\":{\"outlinewidth\":0,\"ticks\":\"\"}}}],\"scatterternary\":[{\"type\":\"scatterternary\",\"marker\":{\"colorbar\":{\"outlinewidth\":0,\"ticks\":\"\"}}}],\"scattercarpet\":[{\"type\":\"scattercarpet\",\"marker\":{\"colorbar\":{\"outlinewidth\":0,\"ticks\":\"\"}}}],\"carpet\":[{\"aaxis\":{\"endlinecolor\":\"#2a3f5f\",\"gridcolor\":\"white\",\"linecolor\":\"white\",\"minorgridcolor\":\"white\",\"startlinecolor\":\"#2a3f5f\"},\"baxis\":{\"endlinecolor\":\"#2a3f5f\",\"gridcolor\":\"white\",\"linecolor\":\"white\",\"minorgridcolor\":\"white\",\"startlinecolor\":\"#2a3f5f\"},\"type\":\"carpet\"}],\"table\":[{\"cells\":{\"fill\":{\"color\":\"#EBF0F8\"},\"line\":{\"color\":\"white\"}},\"header\":{\"fill\":{\"color\":\"#C8D4E3\"},\"line\":{\"color\":\"white\"}},\"type\":\"table\"}],\"barpolar\":[{\"marker\":{\"line\":{\"color\":\"#E5ECF6\",\"width\":0.5},\"pattern\":{\"fillmode\":\"overlay\",\"size\":10,\"solidity\":0.2}},\"type\":\"barpolar\"}],\"pie\":[{\"automargin\":true,\"type\":\"pie\"}]},\"layout\":{\"autotypenumbers\":\"strict\",\"colorway\":[\"#636efa\",\"#EF553B\",\"#00cc96\",\"#ab63fa\",\"#FFA15A\",\"#19d3f3\",\"#FF6692\",\"#B6E880\",\"#FF97FF\",\"#FECB52\"],\"font\":{\"color\":\"#2a3f5f\"},\"hovermode\":\"closest\",\"hoverlabel\":{\"align\":\"left\"},\"paper_bgcolor\":\"white\",\"plot_bgcolor\":\"#E5ECF6\",\"polar\":{\"bgcolor\":\"#E5ECF6\",\"angularaxis\":{\"gridcolor\":\"white\",\"linecolor\":\"white\",\"ticks\":\"\"},\"radialaxis\":{\"gridcolor\":\"white\",\"linecolor\":\"white\",\"ticks\":\"\"}},\"ternary\":{\"bgcolor\":\"#E5ECF6\",\"aaxis\":{\"gridcolor\":\"white\",\"linecolor\":\"white\",\"ticks\":\"\"},\"baxis\":{\"gridcolor\":\"white\",\"linecolor\":\"white\",\"ticks\":\"\"},\"caxis\":{\"gridcolor\":\"white\",\"linecolor\":\"white\",\"ticks\":\"\"}},\"coloraxis\":{\"colorbar\":{\"outlinewidth\":0,\"ticks\":\"\"}},\"colorscale\":{\"sequential\":[[0.0,\"#0d0887\"],[0.1111111111111111,\"#46039f\"],[0.2222222222222222,\"#7201a8\"],[0.3333333333333333,\"#9c179e\"],[0.4444444444444444,\"#bd3786\"],[0.5555555555555556,\"#d8576b\"],[0.6666666666666666,\"#ed7953\"],[0.7777777777777778,\"#fb9f3a\"],[0.8888888888888888,\"#fdca26\"],[1.0,\"#f0f921\"]],\"sequentialminus\":[[0.0,\"#0d0887\"],[0.1111111111111111,\"#46039f\"],[0.2222222222222222,\"#7201a8\"],[0.3333333333333333,\"#9c179e\"],[0.4444444444444444,\"#bd3786\"],[0.5555555555555556,\"#d8576b\"],[0.6666666666666666,\"#ed7953\"],[0.7777777777777778,\"#fb9f3a\"],[0.8888888888888888,\"#fdca26\"],[1.0,\"#f0f921\"]],\"diverging\":[[0,\"#8e0152\"],[0.1,\"#c51b7d\"],[0.2,\"#de77ae\"],[0.3,\"#f1b6da\"],[0.4,\"#fde0ef\"],[0.5,\"#f7f7f7\"],[0.6,\"#e6f5d0\"],[0.7,\"#b8e186\"],[0.8,\"#7fbc41\"],[0.9,\"#4d9221\"],[1,\"#276419\"]]},\"xaxis\":{\"gridcolor\":\"white\",\"linecolor\":\"white\",\"ticks\":\"\",\"title\":{\"standoff\":15},\"zerolinecolor\":\"white\",\"automargin\":true,\"zerolinewidth\":2},\"yaxis\":{\"gridcolor\":\"white\",\"linecolor\":\"white\",\"ticks\":\"\",\"title\":{\"standoff\":15},\"zerolinecolor\":\"white\",\"automargin\":true,\"zerolinewidth\":2},\"scene\":{\"xaxis\":{\"backgroundcolor\":\"#E5ECF6\",\"gridcolor\":\"white\",\"linecolor\":\"white\",\"showbackground\":true,\"ticks\":\"\",\"zerolinecolor\":\"white\",\"gridwidth\":2},\"yaxis\":{\"backgroundcolor\":\"#E5ECF6\",\"gridcolor\":\"white\",\"linecolor\":\"white\",\"showbackground\":true,\"ticks\":\"\",\"zerolinecolor\":\"white\",\"gridwidth\":2},\"zaxis\":{\"backgroundcolor\":\"#E5ECF6\",\"gridcolor\":\"white\",\"linecolor\":\"white\",\"showbackground\":true,\"ticks\":\"\",\"zerolinecolor\":\"white\",\"gridwidth\":2}},\"shapedefaults\":{\"line\":{\"color\":\"#2a3f5f\"}},\"annotationdefaults\":{\"arrowcolor\":\"#2a3f5f\",\"arrowhead\":0,\"arrowwidth\":1},\"geo\":{\"bgcolor\":\"white\",\"landcolor\":\"#E5ECF6\",\"subunitcolor\":\"white\",\"showland\":true,\"showlakes\":true,\"lakecolor\":\"white\"},\"title\":{\"x\":0.05},\"mapbox\":{\"style\":\"light\"}}}},                        {\"responsive\": true}                    ).then(function(){\n",
       "                            \n",
       "var gd = document.getElementById('54be4619-07e5-4b44-a902-682100f1fc9b');\n",
       "var x = new MutationObserver(function (mutations, observer) {{\n",
       "        var display = window.getComputedStyle(gd).display;\n",
       "        if (!display || display === 'none') {{\n",
       "            console.log([gd, 'removed!']);\n",
       "            Plotly.purge(gd);\n",
       "            observer.disconnect();\n",
       "        }}\n",
       "}});\n",
       "\n",
       "// Listen for the removal of the full notebook cells\n",
       "var notebookContainer = gd.closest('#notebook-container');\n",
       "if (notebookContainer) {{\n",
       "    x.observe(notebookContainer, {childList: true});\n",
       "}}\n",
       "\n",
       "// Listen for the clearing of the current output cell\n",
       "var outputEl = gd.closest('.output');\n",
       "if (outputEl) {{\n",
       "    x.observe(outputEl, {childList: true});\n",
       "}}\n",
       "\n",
       "                        })                };                });            </script>        </div>"
      ]
     },
     "metadata": {},
     "output_type": "display_data"
    }
   ],
   "source": [
    "ff.create_distplot([\n",
    "    models['LassoCV'][\"LinearModel\"].coef_, \n",
    "    models['RidgeCV'][\"LinearModel\"].coef_],\n",
    "    [\"Lasso\", \"Ridge\"], bin_size=0.1)"
   ]
  },
  {
   "cell_type": "markdown",
   "metadata": {},
   "source": [
    "Here we get the names of all the features in the model."
   ]
  },
  {
   "cell_type": "code",
   "execution_count": 49,
   "metadata": {},
   "outputs": [
    {
     "name": "stdout",
     "output_type": "stream",
     "text": [
      "['cylinders' 'displacement' 'horsepower' 'weight' 'acceleration'\n",
      " 'model_year' 'origin_europe' 'origin_japan' 'origin_usa' '10' '100'\n",
      " '100ls' '111' '1131' '12' '1200' '1200d' '124' '128' '12tl' '1300'\n",
      " '144ea' '1500' '18i' '1900' '200' '2000' '2002' '200sx' '210' '225'\n",
      " '2300' '240d' '244dl' '245' '280s' '300d' '304' '310' '320i' '340' '350'\n",
      " '4000' '411' '4w' '500' '5000' '504' '505s' '510' '610' '626' '710' '810'\n",
      " '88' '99gle' '99le' 'accord' 'air' 'ambassador' 'amc' 'aries' 'aspen'\n",
      " 'audi' 'auto' 'beetle' 'bel' 'benz' 'bmw' 'brougham' 'buick' 'c10'\n",
      " 'cadillac' 'camaro' 'capri' 'caprice' 'carina' 'carlo' 'catalina'\n",
      " 'cavalier' 'celica' 'century' 'challenger' 'champ' 'chevelle' 'chevette'\n",
      " 'chevroelt' 'chevrolet' 'chevy' 'chrysler' 'ciera' 'citation' 'civic'\n",
      " 'classic' 'cobra' 'colt' 'concord' 'concours' 'corolla' 'corona'\n",
      " 'coronet' 'cougar' 'country' 'coupe' 'cressida' 'cuda' 'custom' 'cutlass'\n",
      " 'cvcc' 'd100' 'd200' 'dart' 'dasher' 'datsun' 'delta' 'deluxe' 'diesel'\n",
      " 'diplomat' 'dl' 'dodge' 'door' 'dpl' 'duster' 'eldorado' 'electra'\n",
      " 'escort' 'estate' 'f250' 'fairmont' 'fiat' 'firebird' 'ford' 'fox' 'fury'\n",
      " 'futura' 'galaxie' 'ghia' 'gl' 'glc' 'gran' 'granada' 'grand' 'gremlin'\n",
      " 'gs' 'gt' 'gtl' 'gx' 'hardtop' 'hatchback' 'hi' 'honda' 'horizon'\n",
      " 'hornet' 'ii' 'iii' 'impala' 'isuzu' 'j2000' 'jetta' 'landau' 'lebaron'\n",
      " 'lecar' 'lesabre' 'liftback' 'limited' 'lj' 'ls' 'ltd' 'luxus' 'lx'\n",
      " 'lynx' 'magnum' 'malibu' 'man' 'mark' 'marquis' 'matador' 'maverick'\n",
      " 'maxda' 'mazda' 'mercedes' 'mercury' 'model' 'monaco' 'monarch' 'monte'\n",
      " 'monza' 'mpg' 'mustang' 'new' 'newport' 'nissan' 'nova' 'oldsmobile'\n",
      " 'omega' 'omni' 'opel' 'pacer' 'peugeot' 'phoenix' 'pickup' 'pinto'\n",
      " 'pl510' 'plymouth' 'pontiac' 'prelude' 'premier' 'prix' 'rabbit'\n",
      " 'rampage' 'ranger' 'rebel' 'regal' 'regis' 'reliant' 'renault' 'royal'\n",
      " 'royale' 'rx' 'rx3' 'saab' 'safari' 'salon' 'sapporo' 'satellite' 'se'\n",
      " 'sebring' 'sedan' 'seville' 'sj' 'skyhawk' 'skylark' 'special' 'spirit'\n",
      " 'sport' 'sportabout' 'squire' 'sst' 'st' 'stanza' 'strada' 'subaru'\n",
      " 'suburb' 'sunbird' 'super' 'sw' 'sx' 'tc' 'tc3' 'tercel' 'torino' 'town'\n",
      " 'toyota' 'toyouta' 'turbo' 'type' 'v6' 'v8' 'valiant' 'vega' 'ventura'\n",
      " 'volare' 'volkswagen' 'volvo' 'vw' 'wagon' 'x1' 'xe' 'yorker' 'zephyr']\n"
     ]
    }
   ],
   "source": [
    "ct = models['LassoCV']['SelectColumns']\n",
    "feature_names = (\n",
    "    quantitative_features +\n",
    "    list(ct.named_transformers_['origin_encoder'].get_feature_names_out())+\n",
    "    list(ct.named_transformers_['text'].get_feature_names_out())\n",
    ")\n",
    "feature_names = np.array(feature_names)\n",
    "print(feature_names)\n",
    "# look at all the names that came from the BOW"
   ]
  },
  {
   "cell_type": "markdown",
   "metadata": {},
   "source": [
    "Finally, we select the features that had non-zero coefficients (parameters).  Not surprisingly, many of these features are likely good predictors of the fuel economy of a car."
   ]
  },
  {
   "cell_type": "code",
   "execution_count": 50,
   "metadata": {
    "tags": []
   },
   "outputs": [
    {
     "data": {
      "text/plain": [
       "array(['cylinders', 'displacement', 'weight', 'acceleration',\n",
       "       'model_year', 'origin_usa', '1200', '1500', '210', 'amc', 'civic',\n",
       "       'colt', 'corolla', 'custom', 'datsun', 'diesel', 'ford',\n",
       "       'hatchback', 'honda', 'horizon', 'ii', 'maxda', 'plymouth',\n",
       "       'pontiac', 'rabbit', 'renault', 'rx', 'rx3', 'sw', 'tercel', 'vw'],\n",
       "      dtype='<U13')"
      ]
     },
     "execution_count": 50,
     "metadata": {},
     "output_type": "execute_result"
    }
   ],
   "source": [
    "kept = ~np.isclose(models['LassoCV'][\"LinearModel\"].coef_, 0)\n",
    "feature_names[kept]\n",
    "# do some of these feature names makes logical sense?  using renault, or 1200 -- the model name of a car?"
   ]
  },
  {
   "cell_type": "code",
   "execution_count": 51,
   "metadata": {
    "tags": []
   },
   "outputs": [
    {
     "data": {
      "text/plain": [
       "array([-2.98864582e-01,  3.40815719e-01,  0.00000000e+00, -5.07758585e+00,\n",
       "       -1.15462181e-02,  2.50475330e+00,  0.00000000e+00,  0.00000000e+00,\n",
       "       -1.22546667e+00,  0.00000000e+00,  0.00000000e+00, -0.00000000e+00,\n",
       "       -0.00000000e+00, -0.00000000e+00, -0.00000000e+00,  8.91150871e-01,\n",
       "        0.00000000e+00, -0.00000000e+00, -0.00000000e+00, -0.00000000e+00,\n",
       "       -0.00000000e+00, -0.00000000e+00,  4.82613063e-01,  0.00000000e+00,\n",
       "       -0.00000000e+00, -0.00000000e+00, -0.00000000e+00,  0.00000000e+00,\n",
       "        0.00000000e+00,  2.92597368e-01,  0.00000000e+00,  0.00000000e+00,\n",
       "        0.00000000e+00, -0.00000000e+00, -0.00000000e+00, -0.00000000e+00,\n",
       "        0.00000000e+00,  0.00000000e+00,  0.00000000e+00, -0.00000000e+00,\n",
       "       -0.00000000e+00, -0.00000000e+00,  0.00000000e+00, -0.00000000e+00,\n",
       "        0.00000000e+00,  0.00000000e+00, -0.00000000e+00,  0.00000000e+00,\n",
       "       -0.00000000e+00,  0.00000000e+00, -0.00000000e+00,  0.00000000e+00,\n",
       "       -0.00000000e+00, -0.00000000e+00,  0.00000000e+00, -0.00000000e+00,\n",
       "        0.00000000e+00, -0.00000000e+00,  0.00000000e+00,  0.00000000e+00,\n",
       "       -8.13749330e-01, -0.00000000e+00, -0.00000000e+00, -0.00000000e+00,\n",
       "       -0.00000000e+00, -0.00000000e+00,  0.00000000e+00,  0.00000000e+00,\n",
       "       -0.00000000e+00,  0.00000000e+00,  0.00000000e+00, -0.00000000e+00,\n",
       "        0.00000000e+00,  0.00000000e+00, -0.00000000e+00, -0.00000000e+00,\n",
       "       -0.00000000e+00, -0.00000000e+00,  0.00000000e+00,  0.00000000e+00,\n",
       "       -0.00000000e+00, -0.00000000e+00, -0.00000000e+00,  0.00000000e+00,\n",
       "        0.00000000e+00,  0.00000000e+00, -0.00000000e+00, -0.00000000e+00,\n",
       "       -0.00000000e+00, -0.00000000e+00,  0.00000000e+00, -0.00000000e+00,\n",
       "        8.57715592e-01, -0.00000000e+00, -0.00000000e+00,  1.17211026e+00,\n",
       "       -0.00000000e+00, -0.00000000e+00,  2.88709261e-01,  0.00000000e+00,\n",
       "        0.00000000e+00, -0.00000000e+00,  0.00000000e+00, -0.00000000e+00,\n",
       "       -0.00000000e+00, -0.00000000e+00,  2.09265440e-01,  0.00000000e+00,\n",
       "        0.00000000e+00, -0.00000000e+00,  0.00000000e+00, -0.00000000e+00,\n",
       "       -0.00000000e+00,  1.55578263e+00,  0.00000000e+00,  0.00000000e+00,\n",
       "        5.60868688e+00, -0.00000000e+00,  0.00000000e+00, -0.00000000e+00,\n",
       "        0.00000000e+00,  0.00000000e+00,  0.00000000e+00,  0.00000000e+00,\n",
       "        0.00000000e+00,  0.00000000e+00,  0.00000000e+00,  0.00000000e+00,\n",
       "       -0.00000000e+00,  0.00000000e+00, -0.00000000e+00, -5.83469417e-01,\n",
       "        0.00000000e+00,  0.00000000e+00, -0.00000000e+00,  0.00000000e+00,\n",
       "       -0.00000000e+00,  0.00000000e+00, -0.00000000e+00,  0.00000000e+00,\n",
       "       -0.00000000e+00,  0.00000000e+00, -0.00000000e+00, -0.00000000e+00,\n",
       "       -0.00000000e+00,  0.00000000e+00,  0.00000000e+00, -0.00000000e+00,\n",
       "        5.67732366e-01,  0.00000000e+00,  1.60834972e+00,  1.16725319e+00,\n",
       "       -0.00000000e+00, -6.40325535e-01,  0.00000000e+00,  0.00000000e+00,\n",
       "        0.00000000e+00, -0.00000000e+00,  0.00000000e+00, -0.00000000e+00,\n",
       "       -0.00000000e+00,  0.00000000e+00,  0.00000000e+00, -0.00000000e+00,\n",
       "       -0.00000000e+00, -0.00000000e+00,  0.00000000e+00,  0.00000000e+00,\n",
       "        0.00000000e+00, -0.00000000e+00,  0.00000000e+00,  0.00000000e+00,\n",
       "       -0.00000000e+00,  0.00000000e+00, -0.00000000e+00,  0.00000000e+00,\n",
       "        0.00000000e+00, -0.00000000e+00, -4.02104061e-01, -0.00000000e+00,\n",
       "        0.00000000e+00, -0.00000000e+00, -0.00000000e+00, -0.00000000e+00,\n",
       "       -0.00000000e+00, -0.00000000e+00, -0.00000000e+00,  0.00000000e+00,\n",
       "       -0.00000000e+00,  0.00000000e+00,  0.00000000e+00,  0.00000000e+00,\n",
       "       -0.00000000e+00,  0.00000000e+00, -0.00000000e+00,  0.00000000e+00,\n",
       "       -0.00000000e+00, -0.00000000e+00,  0.00000000e+00,  0.00000000e+00,\n",
       "        0.00000000e+00, -0.00000000e+00,  0.00000000e+00,  7.07273061e-01,\n",
       "        1.62268044e+00,  0.00000000e+00, -0.00000000e+00, -0.00000000e+00,\n",
       "        4.05198326e-01,  0.00000000e+00, -0.00000000e+00,  0.00000000e+00,\n",
       "       -0.00000000e+00, -0.00000000e+00, -0.00000000e+00,  1.22471423e+00,\n",
       "        0.00000000e+00,  0.00000000e+00, -1.18117273e+00, -3.01901250e-03,\n",
       "       -0.00000000e+00,  0.00000000e+00, -0.00000000e+00, -0.00000000e+00,\n",
       "        0.00000000e+00,  0.00000000e+00, -0.00000000e+00, -0.00000000e+00,\n",
       "        0.00000000e+00, -0.00000000e+00, -0.00000000e+00, -0.00000000e+00,\n",
       "       -0.00000000e+00,  0.00000000e+00, -0.00000000e+00, -0.00000000e+00,\n",
       "        0.00000000e+00,  0.00000000e+00, -0.00000000e+00,  0.00000000e+00,\n",
       "        0.00000000e+00,  0.00000000e+00,  0.00000000e+00, -0.00000000e+00,\n",
       "       -0.00000000e+00,  1.92890425e-01, -0.00000000e+00, -0.00000000e+00,\n",
       "        0.00000000e+00,  9.53787566e-01,  0.00000000e+00, -0.00000000e+00,\n",
       "       -0.00000000e+00, -0.00000000e+00, -0.00000000e+00, -0.00000000e+00,\n",
       "       -0.00000000e+00, -0.00000000e+00, -0.00000000e+00, -0.00000000e+00,\n",
       "       -0.00000000e+00, -0.00000000e+00, -0.00000000e+00, -0.00000000e+00,\n",
       "        6.58090326e+00, -0.00000000e+00,  0.00000000e+00,  0.00000000e+00,\n",
       "        0.00000000e+00, -0.00000000e+00])"
      ]
     },
     "execution_count": 51,
     "metadata": {},
     "output_type": "execute_result"
    }
   ],
   "source": [
    "models['LassoCV'][\"LinearModel\"].coef_"
   ]
  },
  {
   "cell_type": "code",
   "execution_count": 52,
   "metadata": {
    "tags": []
   },
   "outputs": [],
   "source": [
    "copydf = data[0:0]\n",
    "#lasso_model.predict()"
   ]
  },
  {
   "cell_type": "code",
   "execution_count": 53,
   "metadata": {
    "tags": []
   },
   "outputs": [
    {
     "data": {
      "text/html": [
       "<div>\n",
       "<style scoped>\n",
       "    .dataframe tbody tr th:only-of-type {\n",
       "        vertical-align: middle;\n",
       "    }\n",
       "\n",
       "    .dataframe tbody tr th {\n",
       "        vertical-align: top;\n",
       "    }\n",
       "\n",
       "    .dataframe thead th {\n",
       "        text-align: right;\n",
       "    }\n",
       "</style>\n",
       "<table border=\"1\" class=\"dataframe\">\n",
       "  <thead>\n",
       "    <tr style=\"text-align: right;\">\n",
       "      <th></th>\n",
       "      <th>mpg</th>\n",
       "      <th>cylinders</th>\n",
       "      <th>displacement</th>\n",
       "      <th>horsepower</th>\n",
       "      <th>weight</th>\n",
       "      <th>acceleration</th>\n",
       "      <th>model_year</th>\n",
       "      <th>origin</th>\n",
       "      <th>name</th>\n",
       "    </tr>\n",
       "  </thead>\n",
       "  <tbody>\n",
       "  </tbody>\n",
       "</table>\n",
       "</div>"
      ],
      "text/plain": [
       "Empty DataFrame\n",
       "Columns: [mpg, cylinders, displacement, horsepower, weight, acceleration, model_year, origin, name]\n",
       "Index: []"
      ]
     },
     "execution_count": 53,
     "metadata": {},
     "output_type": "execute_result"
    }
   ],
   "source": [
    "copydf"
   ]
  },
  {
   "cell_type": "code",
   "execution_count": 54,
   "metadata": {
    "tags": []
   },
   "outputs": [],
   "source": [
    "copydf.loc[-1] = [28.0, 4, 120.0, 79.0, 2625, 18.6, 99, 'usa', 'ford ranger']"
   ]
  },
  {
   "cell_type": "code",
   "execution_count": 55,
   "metadata": {
    "tags": []
   },
   "outputs": [
    {
     "data": {
      "text/html": [
       "<div>\n",
       "<style scoped>\n",
       "    .dataframe tbody tr th:only-of-type {\n",
       "        vertical-align: middle;\n",
       "    }\n",
       "\n",
       "    .dataframe tbody tr th {\n",
       "        vertical-align: top;\n",
       "    }\n",
       "\n",
       "    .dataframe thead th {\n",
       "        text-align: right;\n",
       "    }\n",
       "</style>\n",
       "<table border=\"1\" class=\"dataframe\">\n",
       "  <thead>\n",
       "    <tr style=\"text-align: right;\">\n",
       "      <th></th>\n",
       "      <th>mpg</th>\n",
       "      <th>cylinders</th>\n",
       "      <th>displacement</th>\n",
       "      <th>horsepower</th>\n",
       "      <th>weight</th>\n",
       "      <th>acceleration</th>\n",
       "      <th>model_year</th>\n",
       "      <th>origin</th>\n",
       "      <th>name</th>\n",
       "    </tr>\n",
       "  </thead>\n",
       "  <tbody>\n",
       "    <tr>\n",
       "      <th>-1</th>\n",
       "      <td>28.0</td>\n",
       "      <td>4</td>\n",
       "      <td>120.0</td>\n",
       "      <td>79.0</td>\n",
       "      <td>2625</td>\n",
       "      <td>18.6</td>\n",
       "      <td>99</td>\n",
       "      <td>usa</td>\n",
       "      <td>ford ranger</td>\n",
       "    </tr>\n",
       "  </tbody>\n",
       "</table>\n",
       "</div>"
      ],
      "text/plain": [
       "     mpg  cylinders  displacement  horsepower  weight  acceleration  \\\n",
       "-1  28.0          4         120.0        79.0    2625          18.6   \n",
       "\n",
       "    model_year origin         name  \n",
       "-1          99    usa  ford ranger  "
      ]
     },
     "execution_count": 55,
     "metadata": {},
     "output_type": "execute_result"
    }
   ],
   "source": [
    "copydf"
   ]
  },
  {
   "cell_type": "code",
   "execution_count": 56,
   "metadata": {
    "tags": []
   },
   "outputs": [],
   "source": [
    "result_lasso = lasso_model.predict(copydf)"
   ]
  },
  {
   "cell_type": "code",
   "execution_count": 57,
   "metadata": {
    "tags": []
   },
   "outputs": [
    {
     "data": {
      "text/plain": [
       "array([39.96619665])"
      ]
     },
     "execution_count": 57,
     "metadata": {},
     "output_type": "execute_result"
    }
   ],
   "source": [
    "result_lasso"
   ]
  },
  {
   "cell_type": "code",
   "execution_count": 58,
   "metadata": {
    "tags": []
   },
   "outputs": [],
   "source": [
    "result_ridge = ridge_model.predict(copydf)"
   ]
  },
  {
   "cell_type": "code",
   "execution_count": 59,
   "metadata": {
    "tags": []
   },
   "outputs": [
    {
     "data": {
      "text/plain": [
       "array([40.17029338])"
      ]
     },
     "execution_count": 59,
     "metadata": {},
     "output_type": "execute_result"
    }
   ],
   "source": [
    "result_ridge"
   ]
  },
  {
   "cell_type": "code",
   "execution_count": null,
   "metadata": {},
   "outputs": [],
   "source": []
  }
 ],
 "metadata": {
  "kernelspec": {
   "display_name": "Python 3 (ipykernel)",
   "language": "python",
   "name": "python3"
  },
  "language_info": {
   "codemirror_mode": {
    "name": "ipython",
    "version": 3
   },
   "file_extension": ".py",
   "mimetype": "text/x-python",
   "name": "python",
   "nbconvert_exporter": "python",
   "pygments_lexer": "ipython3",
   "version": "3.11.8"
  }
 },
 "nbformat": 4,
 "nbformat_minor": 4
}
