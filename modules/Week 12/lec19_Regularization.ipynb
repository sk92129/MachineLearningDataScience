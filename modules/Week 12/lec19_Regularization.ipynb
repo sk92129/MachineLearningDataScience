{
 "cells": [
  {
   "cell_type": "markdown",
   "metadata": {},
   "source": [
    "# Regularization\n",
    "\n",
    "**by Joseph Gonzalez (Spring 2020)**\n",
    "\n",
    "**Note:** scikit-learn's `Pipeline` functionality is explored at length in this notebook. Instead, focus on the bigger picture, of how we are using regularization in practice."
   ]
  },
  {
   "cell_type": "markdown",
   "metadata": {},
   "source": [
    "## Regularization\n",
    "\n",
    "In this notebook we explore the use of regularization techniques to address overfitting.  "
   ]
  },
  {
   "cell_type": "markdown",
   "metadata": {},
   "source": [
    "## Imports\n",
    "\n",
    "As with other notebooks we will use the same set of standard imports."
   ]
  },
  {
   "cell_type": "code",
   "execution_count": 1,
   "metadata": {},
   "outputs": [],
   "source": [
    "import numpy as np\n",
    "import pandas as pd"
   ]
  },
  {
   "cell_type": "code",
   "execution_count": 2,
   "metadata": {},
   "outputs": [
    {
     "data": {
      "text/html": [
       "        <script type=\"text/javascript\">\n",
       "        window.PlotlyConfig = {MathJaxConfig: 'local'};\n",
       "        if (window.MathJax) {MathJax.Hub.Config({SVG: {font: \"STIX-Web\"}});}\n",
       "        if (typeof require !== 'undefined') {\n",
       "        require.undef(\"plotly\");\n",
       "        requirejs.config({\n",
       "            paths: {\n",
       "                'plotly': ['https://cdn.plot.ly/plotly-2.4.2.min']\n",
       "            }\n",
       "        });\n",
       "        require(['plotly'], function(Plotly) {\n",
       "            window._Plotly = Plotly;\n",
       "        });\n",
       "        }\n",
       "        </script>\n",
       "        "
      ]
     },
     "metadata": {},
     "output_type": "display_data"
    },
    {
     "data": {
      "text/html": [
       "        <script type=\"text/javascript\">\n",
       "        window.PlotlyConfig = {MathJaxConfig: 'local'};\n",
       "        if (window.MathJax) {MathJax.Hub.Config({SVG: {font: \"STIX-Web\"}});}\n",
       "        if (typeof require !== 'undefined') {\n",
       "        require.undef(\"plotly\");\n",
       "        requirejs.config({\n",
       "            paths: {\n",
       "                'plotly': ['https://cdn.plot.ly/plotly-2.4.2.min']\n",
       "            }\n",
       "        });\n",
       "        require(['plotly'], function(Plotly) {\n",
       "            window._Plotly = Plotly;\n",
       "        });\n",
       "        }\n",
       "        </script>\n",
       "        "
      ]
     },
     "metadata": {},
     "output_type": "display_data"
    }
   ],
   "source": [
    "import plotly.offline as py\n",
    "import plotly.express as px\n",
    "import plotly.graph_objects as go\n",
    "from plotly.subplots import make_subplots\n",
    "import plotly.figure_factory as ff\n",
    "import cufflinks as cf\n",
    "cf.set_config_file(offline=True, sharing=False, theme='ggplot');"
   ]
  },
  {
   "cell_type": "code",
   "execution_count": 3,
   "metadata": {},
   "outputs": [],
   "source": [
    "from sklearn.model_selection import train_test_split\n",
    "from sklearn.pipeline import Pipeline\n",
    "from sklearn.compose import ColumnTransformer\n",
    "from sklearn.preprocessing import FunctionTransformer\n",
    "from sklearn.impute import SimpleImputer\n",
    "from sklearn.linear_model import LinearRegression\n",
    "from sklearn.model_selection import cross_val_score"
   ]
  },
  {
   "cell_type": "markdown",
   "metadata": {},
   "source": [
    "## The Data\n",
    "\n",
    "For this notebook, we will use the seaborn `mpg` dataset which describes the fuel mileage (measured in miles per gallon or mpg) of various cars along with characteristics of those cars.  Our goal will be to build a model that can predict the fuel mileage of a car based on the characteristics of that car."
   ]
  },
  {
   "cell_type": "code",
   "execution_count": 46,
   "metadata": {},
   "outputs": [
    {
     "data": {
      "text/html": [
       "<div>\n",
       "<style scoped>\n",
       "    .dataframe tbody tr th:only-of-type {\n",
       "        vertical-align: middle;\n",
       "    }\n",
       "\n",
       "    .dataframe tbody tr th {\n",
       "        vertical-align: top;\n",
       "    }\n",
       "\n",
       "    .dataframe thead th {\n",
       "        text-align: right;\n",
       "    }\n",
       "</style>\n",
       "<table border=\"1\" class=\"dataframe\">\n",
       "  <thead>\n",
       "    <tr style=\"text-align: right;\">\n",
       "      <th></th>\n",
       "      <th>mpg</th>\n",
       "      <th>cylinders</th>\n",
       "      <th>displacement</th>\n",
       "      <th>horsepower</th>\n",
       "      <th>weight</th>\n",
       "      <th>acceleration</th>\n",
       "      <th>model_year</th>\n",
       "      <th>origin</th>\n",
       "      <th>name</th>\n",
       "    </tr>\n",
       "  </thead>\n",
       "  <tbody>\n",
       "    <tr>\n",
       "      <th>0</th>\n",
       "      <td>18.0</td>\n",
       "      <td>8</td>\n",
       "      <td>307.0</td>\n",
       "      <td>130.0</td>\n",
       "      <td>3504</td>\n",
       "      <td>12.0</td>\n",
       "      <td>70</td>\n",
       "      <td>usa</td>\n",
       "      <td>chevrolet chevelle malibu</td>\n",
       "    </tr>\n",
       "    <tr>\n",
       "      <th>1</th>\n",
       "      <td>15.0</td>\n",
       "      <td>8</td>\n",
       "      <td>350.0</td>\n",
       "      <td>165.0</td>\n",
       "      <td>3693</td>\n",
       "      <td>11.5</td>\n",
       "      <td>70</td>\n",
       "      <td>usa</td>\n",
       "      <td>buick skylark 320</td>\n",
       "    </tr>\n",
       "    <tr>\n",
       "      <th>2</th>\n",
       "      <td>18.0</td>\n",
       "      <td>8</td>\n",
       "      <td>318.0</td>\n",
       "      <td>150.0</td>\n",
       "      <td>3436</td>\n",
       "      <td>11.0</td>\n",
       "      <td>70</td>\n",
       "      <td>usa</td>\n",
       "      <td>plymouth satellite</td>\n",
       "    </tr>\n",
       "    <tr>\n",
       "      <th>3</th>\n",
       "      <td>16.0</td>\n",
       "      <td>8</td>\n",
       "      <td>304.0</td>\n",
       "      <td>150.0</td>\n",
       "      <td>3433</td>\n",
       "      <td>12.0</td>\n",
       "      <td>70</td>\n",
       "      <td>usa</td>\n",
       "      <td>amc rebel sst</td>\n",
       "    </tr>\n",
       "    <tr>\n",
       "      <th>4</th>\n",
       "      <td>17.0</td>\n",
       "      <td>8</td>\n",
       "      <td>302.0</td>\n",
       "      <td>140.0</td>\n",
       "      <td>3449</td>\n",
       "      <td>10.5</td>\n",
       "      <td>70</td>\n",
       "      <td>usa</td>\n",
       "      <td>ford torino</td>\n",
       "    </tr>\n",
       "    <tr>\n",
       "      <th>...</th>\n",
       "      <td>...</td>\n",
       "      <td>...</td>\n",
       "      <td>...</td>\n",
       "      <td>...</td>\n",
       "      <td>...</td>\n",
       "      <td>...</td>\n",
       "      <td>...</td>\n",
       "      <td>...</td>\n",
       "      <td>...</td>\n",
       "    </tr>\n",
       "    <tr>\n",
       "      <th>393</th>\n",
       "      <td>27.0</td>\n",
       "      <td>4</td>\n",
       "      <td>140.0</td>\n",
       "      <td>86.0</td>\n",
       "      <td>2790</td>\n",
       "      <td>15.6</td>\n",
       "      <td>82</td>\n",
       "      <td>usa</td>\n",
       "      <td>ford mustang gl</td>\n",
       "    </tr>\n",
       "    <tr>\n",
       "      <th>394</th>\n",
       "      <td>44.0</td>\n",
       "      <td>4</td>\n",
       "      <td>97.0</td>\n",
       "      <td>52.0</td>\n",
       "      <td>2130</td>\n",
       "      <td>24.6</td>\n",
       "      <td>82</td>\n",
       "      <td>europe</td>\n",
       "      <td>vw pickup</td>\n",
       "    </tr>\n",
       "    <tr>\n",
       "      <th>395</th>\n",
       "      <td>32.0</td>\n",
       "      <td>4</td>\n",
       "      <td>135.0</td>\n",
       "      <td>84.0</td>\n",
       "      <td>2295</td>\n",
       "      <td>11.6</td>\n",
       "      <td>82</td>\n",
       "      <td>usa</td>\n",
       "      <td>dodge rampage</td>\n",
       "    </tr>\n",
       "    <tr>\n",
       "      <th>396</th>\n",
       "      <td>28.0</td>\n",
       "      <td>4</td>\n",
       "      <td>120.0</td>\n",
       "      <td>79.0</td>\n",
       "      <td>2625</td>\n",
       "      <td>18.6</td>\n",
       "      <td>82</td>\n",
       "      <td>usa</td>\n",
       "      <td>ford ranger</td>\n",
       "    </tr>\n",
       "    <tr>\n",
       "      <th>397</th>\n",
       "      <td>31.0</td>\n",
       "      <td>4</td>\n",
       "      <td>119.0</td>\n",
       "      <td>82.0</td>\n",
       "      <td>2720</td>\n",
       "      <td>19.4</td>\n",
       "      <td>82</td>\n",
       "      <td>usa</td>\n",
       "      <td>chevy s-10</td>\n",
       "    </tr>\n",
       "  </tbody>\n",
       "</table>\n",
       "<p>398 rows × 9 columns</p>\n",
       "</div>"
      ],
      "text/plain": [
       "      mpg  cylinders  displacement  horsepower  weight  acceleration  \\\n",
       "0    18.0          8         307.0       130.0    3504          12.0   \n",
       "1    15.0          8         350.0       165.0    3693          11.5   \n",
       "2    18.0          8         318.0       150.0    3436          11.0   \n",
       "3    16.0          8         304.0       150.0    3433          12.0   \n",
       "4    17.0          8         302.0       140.0    3449          10.5   \n",
       "..    ...        ...           ...         ...     ...           ...   \n",
       "393  27.0          4         140.0        86.0    2790          15.6   \n",
       "394  44.0          4          97.0        52.0    2130          24.6   \n",
       "395  32.0          4         135.0        84.0    2295          11.6   \n",
       "396  28.0          4         120.0        79.0    2625          18.6   \n",
       "397  31.0          4         119.0        82.0    2720          19.4   \n",
       "\n",
       "     model_year  origin                       name  \n",
       "0            70     usa  chevrolet chevelle malibu  \n",
       "1            70     usa          buick skylark 320  \n",
       "2            70     usa         plymouth satellite  \n",
       "3            70     usa              amc rebel sst  \n",
       "4            70     usa                ford torino  \n",
       "..          ...     ...                        ...  \n",
       "393          82     usa            ford mustang gl  \n",
       "394          82  europe                  vw pickup  \n",
       "395          82     usa              dodge rampage  \n",
       "396          82     usa                ford ranger  \n",
       "397          82     usa                 chevy s-10  \n",
       "\n",
       "[398 rows x 9 columns]"
      ]
     },
     "execution_count": 46,
     "metadata": {},
     "output_type": "execute_result"
    }
   ],
   "source": [
    "from seaborn import load_dataset\n",
    "data = load_dataset(\"mpg\")\n",
    "data"
   ]
  },
  {
   "cell_type": "markdown",
   "metadata": {},
   "source": [
    "The first thing we will want to do with this data is construct a train/test split."
   ]
  },
  {
   "cell_type": "code",
   "execution_count": 5,
   "metadata": {},
   "outputs": [],
   "source": [
    "tr, te = train_test_split(data, test_size=0.25, random_state=83)"
   ]
  },
  {
   "cell_type": "markdown",
   "metadata": {},
   "source": [
    "<br/><br/><br/>\n",
    "\n",
    "---\n",
    "\n",
    "## Building a Few Basic Models\n",
    "\n",
    "The following code uses scikit-learn `Pipeline`s which are not in scope for the fall. Again, treat `Pipeline`s as a black-box that specify the features that our models use."
   ]
  },
  {
   "cell_type": "code",
   "execution_count": 47,
   "metadata": {},
   "outputs": [],
   "source": [
    "models = {}"
   ]
  },
  {
   "cell_type": "code",
   "execution_count": 48,
   "metadata": {},
   "outputs": [],
   "source": [
    "quantitative_features = [\"cylinders\", \"displacement\", \"horsepower\", \"weight\", \"acceleration\", \"model_year\"]"
   ]
  },
  {
   "cell_type": "code",
   "execution_count": 51,
   "metadata": {},
   "outputs": [],
   "source": [
    "for i in range(len(quantitative_features)):\n",
    "    # The features to include in the ith model\n",
    "    features = quantitative_features[:(i+1)]\n",
    "    # The name we are giving to the ith model\n",
    "    name = \",\".join([name[0] for name in features])\n",
    "    # The pipeline for the ith model\n",
    "    model = Pipeline([\n",
    "        (\"SelectColumns\", ColumnTransformer([\n",
    "            (\"keep\", \"passthrough\", features),\n",
    "        ])),\n",
    "        (\"Imputation\", SimpleImputer()),\n",
    "        (\"LinearModel\", LinearRegression())\n",
    "    ])\n",
    "    # Fit the pipeline\n",
    "    model.fit(tr, tr['mpg']);\n",
    "    # Saving the ith model\n",
    "    models[name] = model"
   ]
  },
  {
   "cell_type": "markdown",
   "metadata": {},
   "source": [
    "We have defined and trained (fit) 5 models:"
   ]
  },
  {
   "cell_type": "code",
   "execution_count": 52,
   "metadata": {},
   "outputs": [
    {
     "data": {
      "text/plain": [
       "dict_keys(['c', 'c,d', 'c,d,h', 'c,d,h,w', 'c,d,h,w,a', 'c,d,h,w,a,m'])"
      ]
     },
     "execution_count": 52,
     "metadata": {},
     "output_type": "execute_result"
    }
   ],
   "source": [
    "models.keys()"
   ]
  },
  {
   "cell_type": "markdown",
   "metadata": {},
   "source": [
    "<br/><br/><br/>\n",
    "\n",
    "\n",
    "---\n",
    "\n",
    "## `cross_val_score`\n",
    "\n",
    "Before we proceed, we'll look at how to use `cross_val_score`, a method built-in to `sklearn.model_selection`, to give us the CV RMSE of our models."
   ]
  },
  {
   "cell_type": "code",
   "execution_count": 53,
   "metadata": {},
   "outputs": [],
   "source": [
    "from sklearn.model_selection import cross_val_score"
   ]
  },
  {
   "cell_type": "markdown",
   "metadata": {},
   "source": [
    "The `cross_val_score` function takes a score function which it cross validates.  That score function must take three arguments, the model, X, and y.  We implement an Root Mean Squared Error (RMSE) score function:"
   ]
  },
  {
   "cell_type": "code",
   "execution_count": 54,
   "metadata": {},
   "outputs": [],
   "source": [
    "def rmse_score(model, X, y):\n",
    "    return np.sqrt(np.mean((y - model.predict(X))**2))"
   ]
  },
  {
   "cell_type": "markdown",
   "metadata": {},
   "source": [
    "We can then use `cross_val_score` to **estimate the test RMSE** for the model that only uses the number of cylinders `c`:"
   ]
  },
  {
   "cell_type": "code",
   "execution_count": 55,
   "metadata": {},
   "outputs": [
    {
     "data": {
      "text/plain": [
       "array([5.34219804, 4.31960704, 4.17949277, 4.89156037, 5.65044712])"
      ]
     },
     "execution_count": 55,
     "metadata": {},
     "output_type": "execute_result"
    }
   ],
   "source": [
    "cross_val_score(models['c'], tr, tr['mpg'], scoring=rmse_score, cv=5)"
   ]
  },
  {
   "cell_type": "markdown",
   "metadata": {},
   "source": [
    "Taking the mean we get the average cross validation (CV) RMSE:"
   ]
  },
  {
   "cell_type": "code",
   "execution_count": 56,
   "metadata": {},
   "outputs": [
    {
     "data": {
      "text/plain": [
       "4.876661068256957"
      ]
     },
     "execution_count": 56,
     "metadata": {},
     "output_type": "execute_result"
    }
   ],
   "source": [
    "np.mean(cross_val_score(models['c'], tr, tr['mpg'], scoring=rmse_score, cv=5))"
   ]
  },
  {
   "cell_type": "markdown",
   "metadata": {},
   "source": [
    "### Visualizing the Train/CV/Test RMSE\n",
    "\n",
    "In the following helper function we plot the **Train** and **CV** RMSE.  **We also plot the test RMSE for educational purposes you should not do this! If you use the height of the test RMSE bar to make decisions in designing your model you have invalidated the test data sort of like looking at the exam when studying.**"
   ]
  },
  {
   "cell_type": "code",
   "execution_count": 57,
   "metadata": {},
   "outputs": [],
   "source": [
    "def compare_models(models):\n",
    "    # Compute the training error for each model\n",
    "    training_rmse = [rmse_score(model, tr, tr['mpg']) for model in models.values()]\n",
    "    # Compute the cross validation error for each model\n",
    "    validation_rmse = [np.mean(cross_val_score(model, tr, tr['mpg'], scoring=rmse_score, cv=5)) \n",
    "                       for model in models.values()]\n",
    "    # Compute the test error for each model (don't do this!)\n",
    "    test_rmse = [rmse_score(model, te, te['mpg']) for model in models.values()]\n",
    "    names = list(models.keys())\n",
    "    fig = go.Figure([\n",
    "        go.Bar(x = names, y = training_rmse, name=\"Training RMSE\"),\n",
    "        go.Bar(x = names, y = validation_rmse, name=\"CV RMSE\"),\n",
    "        go.Bar(x = names, y = test_rmse, name=\"Test RMSE\", opacity=.3)])\n",
    "    fig.update_yaxes(title=\"RMSE\")\n",
    "    return fig"
   ]
  },
  {
   "cell_type": "code",
   "execution_count": 58,
   "metadata": {},
   "outputs": [
    {
     "data": {
      "application/vnd.plotly.v1+json": {
       "config": {
        "plotlyServerURL": "https://plot.ly"
       },
       "data": [
        {
         "name": "Training RMSE",
         "type": "bar",
         "x": [
          "c",
          "c,d",
          "c,d,h",
          "c,d,h,w",
          "c,d,h,w,a",
          "c,d,h,w,a,m"
         ],
         "y": [
          4.888109236813688,
          4.58757379901803,
          4.525395490245242,
          4.216877763288668,
          4.213763450275894,
          3.3799994809258984
         ]
        },
        {
         "name": "CV RMSE",
         "type": "bar",
         "x": [
          "c",
          "c,d",
          "c,d,h",
          "c,d,h,w",
          "c,d,h,w,a",
          "c,d,h,w,a,m"
         ],
         "y": [
          4.876661068256957,
          4.579060426624026,
          4.556808311664747,
          4.252718625749385,
          4.256844728700814,
          3.4557657065586787
         ]
        },
        {
         "name": "Test RMSE",
         "opacity": 0.3,
         "type": "bar",
         "x": [
          "c",
          "c,d",
          "c,d,h",
          "c,d,h,w",
          "c,d,h,w,a",
          "c,d,h,w,a,m"
         ],
         "y": [
          5.055013548375552,
          4.7661569898523695,
          4.583861769980873,
          4.325847816131029,
          4.34988869276913,
          3.550828171640195
         ]
        }
       ],
       "layout": {
        "autosize": true,
        "template": {
         "data": {
          "bar": [
           {
            "error_x": {
             "color": "#2a3f5f"
            },
            "error_y": {
             "color": "#2a3f5f"
            },
            "marker": {
             "line": {
              "color": "#E5ECF6",
              "width": 0.5
             },
             "pattern": {
              "fillmode": "overlay",
              "size": 10,
              "solidity": 0.2
             }
            },
            "type": "bar"
           }
          ],
          "barpolar": [
           {
            "marker": {
             "line": {
              "color": "#E5ECF6",
              "width": 0.5
             },
             "pattern": {
              "fillmode": "overlay",
              "size": 10,
              "solidity": 0.2
             }
            },
            "type": "barpolar"
           }
          ],
          "carpet": [
           {
            "aaxis": {
             "endlinecolor": "#2a3f5f",
             "gridcolor": "white",
             "linecolor": "white",
             "minorgridcolor": "white",
             "startlinecolor": "#2a3f5f"
            },
            "baxis": {
             "endlinecolor": "#2a3f5f",
             "gridcolor": "white",
             "linecolor": "white",
             "minorgridcolor": "white",
             "startlinecolor": "#2a3f5f"
            },
            "type": "carpet"
           }
          ],
          "choropleth": [
           {
            "colorbar": {
             "outlinewidth": 0,
             "ticks": ""
            },
            "type": "choropleth"
           }
          ],
          "contour": [
           {
            "colorbar": {
             "outlinewidth": 0,
             "ticks": ""
            },
            "colorscale": [
             [
              0,
              "#0d0887"
             ],
             [
              0.1111111111111111,
              "#46039f"
             ],
             [
              0.2222222222222222,
              "#7201a8"
             ],
             [
              0.3333333333333333,
              "#9c179e"
             ],
             [
              0.4444444444444444,
              "#bd3786"
             ],
             [
              0.5555555555555556,
              "#d8576b"
             ],
             [
              0.6666666666666666,
              "#ed7953"
             ],
             [
              0.7777777777777778,
              "#fb9f3a"
             ],
             [
              0.8888888888888888,
              "#fdca26"
             ],
             [
              1,
              "#f0f921"
             ]
            ],
            "type": "contour"
           }
          ],
          "contourcarpet": [
           {
            "colorbar": {
             "outlinewidth": 0,
             "ticks": ""
            },
            "type": "contourcarpet"
           }
          ],
          "heatmap": [
           {
            "colorbar": {
             "outlinewidth": 0,
             "ticks": ""
            },
            "colorscale": [
             [
              0,
              "#0d0887"
             ],
             [
              0.1111111111111111,
              "#46039f"
             ],
             [
              0.2222222222222222,
              "#7201a8"
             ],
             [
              0.3333333333333333,
              "#9c179e"
             ],
             [
              0.4444444444444444,
              "#bd3786"
             ],
             [
              0.5555555555555556,
              "#d8576b"
             ],
             [
              0.6666666666666666,
              "#ed7953"
             ],
             [
              0.7777777777777778,
              "#fb9f3a"
             ],
             [
              0.8888888888888888,
              "#fdca26"
             ],
             [
              1,
              "#f0f921"
             ]
            ],
            "type": "heatmap"
           }
          ],
          "heatmapgl": [
           {
            "colorbar": {
             "outlinewidth": 0,
             "ticks": ""
            },
            "colorscale": [
             [
              0,
              "#0d0887"
             ],
             [
              0.1111111111111111,
              "#46039f"
             ],
             [
              0.2222222222222222,
              "#7201a8"
             ],
             [
              0.3333333333333333,
              "#9c179e"
             ],
             [
              0.4444444444444444,
              "#bd3786"
             ],
             [
              0.5555555555555556,
              "#d8576b"
             ],
             [
              0.6666666666666666,
              "#ed7953"
             ],
             [
              0.7777777777777778,
              "#fb9f3a"
             ],
             [
              0.8888888888888888,
              "#fdca26"
             ],
             [
              1,
              "#f0f921"
             ]
            ],
            "type": "heatmapgl"
           }
          ],
          "histogram": [
           {
            "marker": {
             "pattern": {
              "fillmode": "overlay",
              "size": 10,
              "solidity": 0.2
             }
            },
            "type": "histogram"
           }
          ],
          "histogram2d": [
           {
            "colorbar": {
             "outlinewidth": 0,
             "ticks": ""
            },
            "colorscale": [
             [
              0,
              "#0d0887"
             ],
             [
              0.1111111111111111,
              "#46039f"
             ],
             [
              0.2222222222222222,
              "#7201a8"
             ],
             [
              0.3333333333333333,
              "#9c179e"
             ],
             [
              0.4444444444444444,
              "#bd3786"
             ],
             [
              0.5555555555555556,
              "#d8576b"
             ],
             [
              0.6666666666666666,
              "#ed7953"
             ],
             [
              0.7777777777777778,
              "#fb9f3a"
             ],
             [
              0.8888888888888888,
              "#fdca26"
             ],
             [
              1,
              "#f0f921"
             ]
            ],
            "type": "histogram2d"
           }
          ],
          "histogram2dcontour": [
           {
            "colorbar": {
             "outlinewidth": 0,
             "ticks": ""
            },
            "colorscale": [
             [
              0,
              "#0d0887"
             ],
             [
              0.1111111111111111,
              "#46039f"
             ],
             [
              0.2222222222222222,
              "#7201a8"
             ],
             [
              0.3333333333333333,
              "#9c179e"
             ],
             [
              0.4444444444444444,
              "#bd3786"
             ],
             [
              0.5555555555555556,
              "#d8576b"
             ],
             [
              0.6666666666666666,
              "#ed7953"
             ],
             [
              0.7777777777777778,
              "#fb9f3a"
             ],
             [
              0.8888888888888888,
              "#fdca26"
             ],
             [
              1,
              "#f0f921"
             ]
            ],
            "type": "histogram2dcontour"
           }
          ],
          "mesh3d": [
           {
            "colorbar": {
             "outlinewidth": 0,
             "ticks": ""
            },
            "type": "mesh3d"
           }
          ],
          "parcoords": [
           {
            "line": {
             "colorbar": {
              "outlinewidth": 0,
              "ticks": ""
             }
            },
            "type": "parcoords"
           }
          ],
          "pie": [
           {
            "automargin": true,
            "type": "pie"
           }
          ],
          "scatter": [
           {
            "marker": {
             "colorbar": {
              "outlinewidth": 0,
              "ticks": ""
             }
            },
            "type": "scatter"
           }
          ],
          "scatter3d": [
           {
            "line": {
             "colorbar": {
              "outlinewidth": 0,
              "ticks": ""
             }
            },
            "marker": {
             "colorbar": {
              "outlinewidth": 0,
              "ticks": ""
             }
            },
            "type": "scatter3d"
           }
          ],
          "scattercarpet": [
           {
            "marker": {
             "colorbar": {
              "outlinewidth": 0,
              "ticks": ""
             }
            },
            "type": "scattercarpet"
           }
          ],
          "scattergeo": [
           {
            "marker": {
             "colorbar": {
              "outlinewidth": 0,
              "ticks": ""
             }
            },
            "type": "scattergeo"
           }
          ],
          "scattergl": [
           {
            "marker": {
             "colorbar": {
              "outlinewidth": 0,
              "ticks": ""
             }
            },
            "type": "scattergl"
           }
          ],
          "scattermapbox": [
           {
            "marker": {
             "colorbar": {
              "outlinewidth": 0,
              "ticks": ""
             }
            },
            "type": "scattermapbox"
           }
          ],
          "scatterpolar": [
           {
            "marker": {
             "colorbar": {
              "outlinewidth": 0,
              "ticks": ""
             }
            },
            "type": "scatterpolar"
           }
          ],
          "scatterpolargl": [
           {
            "marker": {
             "colorbar": {
              "outlinewidth": 0,
              "ticks": ""
             }
            },
            "type": "scatterpolargl"
           }
          ],
          "scatterternary": [
           {
            "marker": {
             "colorbar": {
              "outlinewidth": 0,
              "ticks": ""
             }
            },
            "type": "scatterternary"
           }
          ],
          "surface": [
           {
            "colorbar": {
             "outlinewidth": 0,
             "ticks": ""
            },
            "colorscale": [
             [
              0,
              "#0d0887"
             ],
             [
              0.1111111111111111,
              "#46039f"
             ],
             [
              0.2222222222222222,
              "#7201a8"
             ],
             [
              0.3333333333333333,
              "#9c179e"
             ],
             [
              0.4444444444444444,
              "#bd3786"
             ],
             [
              0.5555555555555556,
              "#d8576b"
             ],
             [
              0.6666666666666666,
              "#ed7953"
             ],
             [
              0.7777777777777778,
              "#fb9f3a"
             ],
             [
              0.8888888888888888,
              "#fdca26"
             ],
             [
              1,
              "#f0f921"
             ]
            ],
            "type": "surface"
           }
          ],
          "table": [
           {
            "cells": {
             "fill": {
              "color": "#EBF0F8"
             },
             "line": {
              "color": "white"
             }
            },
            "header": {
             "fill": {
              "color": "#C8D4E3"
             },
             "line": {
              "color": "white"
             }
            },
            "type": "table"
           }
          ]
         },
         "layout": {
          "annotationdefaults": {
           "arrowcolor": "#2a3f5f",
           "arrowhead": 0,
           "arrowwidth": 1
          },
          "autotypenumbers": "strict",
          "coloraxis": {
           "colorbar": {
            "outlinewidth": 0,
            "ticks": ""
           }
          },
          "colorscale": {
           "diverging": [
            [
             0,
             "#8e0152"
            ],
            [
             0.1,
             "#c51b7d"
            ],
            [
             0.2,
             "#de77ae"
            ],
            [
             0.3,
             "#f1b6da"
            ],
            [
             0.4,
             "#fde0ef"
            ],
            [
             0.5,
             "#f7f7f7"
            ],
            [
             0.6,
             "#e6f5d0"
            ],
            [
             0.7,
             "#b8e186"
            ],
            [
             0.8,
             "#7fbc41"
            ],
            [
             0.9,
             "#4d9221"
            ],
            [
             1,
             "#276419"
            ]
           ],
           "sequential": [
            [
             0,
             "#0d0887"
            ],
            [
             0.1111111111111111,
             "#46039f"
            ],
            [
             0.2222222222222222,
             "#7201a8"
            ],
            [
             0.3333333333333333,
             "#9c179e"
            ],
            [
             0.4444444444444444,
             "#bd3786"
            ],
            [
             0.5555555555555556,
             "#d8576b"
            ],
            [
             0.6666666666666666,
             "#ed7953"
            ],
            [
             0.7777777777777778,
             "#fb9f3a"
            ],
            [
             0.8888888888888888,
             "#fdca26"
            ],
            [
             1,
             "#f0f921"
            ]
           ],
           "sequentialminus": [
            [
             0,
             "#0d0887"
            ],
            [
             0.1111111111111111,
             "#46039f"
            ],
            [
             0.2222222222222222,
             "#7201a8"
            ],
            [
             0.3333333333333333,
             "#9c179e"
            ],
            [
             0.4444444444444444,
             "#bd3786"
            ],
            [
             0.5555555555555556,
             "#d8576b"
            ],
            [
             0.6666666666666666,
             "#ed7953"
            ],
            [
             0.7777777777777778,
             "#fb9f3a"
            ],
            [
             0.8888888888888888,
             "#fdca26"
            ],
            [
             1,
             "#f0f921"
            ]
           ]
          },
          "colorway": [
           "#636efa",
           "#EF553B",
           "#00cc96",
           "#ab63fa",
           "#FFA15A",
           "#19d3f3",
           "#FF6692",
           "#B6E880",
           "#FF97FF",
           "#FECB52"
          ],
          "font": {
           "color": "#2a3f5f"
          },
          "geo": {
           "bgcolor": "white",
           "lakecolor": "white",
           "landcolor": "#E5ECF6",
           "showlakes": true,
           "showland": true,
           "subunitcolor": "white"
          },
          "hoverlabel": {
           "align": "left"
          },
          "hovermode": "closest",
          "mapbox": {
           "style": "light"
          },
          "paper_bgcolor": "white",
          "plot_bgcolor": "#E5ECF6",
          "polar": {
           "angularaxis": {
            "gridcolor": "white",
            "linecolor": "white",
            "ticks": ""
           },
           "bgcolor": "#E5ECF6",
           "radialaxis": {
            "gridcolor": "white",
            "linecolor": "white",
            "ticks": ""
           }
          },
          "scene": {
           "xaxis": {
            "backgroundcolor": "#E5ECF6",
            "gridcolor": "white",
            "gridwidth": 2,
            "linecolor": "white",
            "showbackground": true,
            "ticks": "",
            "zerolinecolor": "white"
           },
           "yaxis": {
            "backgroundcolor": "#E5ECF6",
            "gridcolor": "white",
            "gridwidth": 2,
            "linecolor": "white",
            "showbackground": true,
            "ticks": "",
            "zerolinecolor": "white"
           },
           "zaxis": {
            "backgroundcolor": "#E5ECF6",
            "gridcolor": "white",
            "gridwidth": 2,
            "linecolor": "white",
            "showbackground": true,
            "ticks": "",
            "zerolinecolor": "white"
           }
          },
          "shapedefaults": {
           "line": {
            "color": "#2a3f5f"
           }
          },
          "ternary": {
           "aaxis": {
            "gridcolor": "white",
            "linecolor": "white",
            "ticks": ""
           },
           "baxis": {
            "gridcolor": "white",
            "linecolor": "white",
            "ticks": ""
           },
           "bgcolor": "#E5ECF6",
           "caxis": {
            "gridcolor": "white",
            "linecolor": "white",
            "ticks": ""
           }
          },
          "title": {
           "x": 0.05
          },
          "xaxis": {
           "automargin": true,
           "gridcolor": "white",
           "linecolor": "white",
           "ticks": "",
           "title": {
            "standoff": 15
           },
           "zerolinecolor": "white",
           "zerolinewidth": 2
          },
          "yaxis": {
           "automargin": true,
           "gridcolor": "white",
           "linecolor": "white",
           "ticks": "",
           "title": {
            "standoff": 15
           },
           "zerolinecolor": "white",
           "zerolinewidth": 2
          }
         }
        },
        "xaxis": {
         "autorange": true,
         "range": [
          -0.5,
          5.5
         ],
         "type": "category"
        },
        "yaxis": {
         "autorange": true,
         "range": [
          0,
          5.321066893026897
         ],
         "title": {
          "text": "RMSE"
         },
         "type": "linear"
        }
       }
      },
      "image/png": "[encoded data removed]",
      "text/html": [
       "<div>                            <div id=\"81e2714f-55d1-4589-915e-5a8af091f925\" class=\"plotly-graph-div\" style=\"height:525px; width:100%;\"></div>            <script type=\"text/javascript\">                require([\"plotly\"], function(Plotly) {                    window.PLOTLYENV=window.PLOTLYENV || {};                                    if (document.getElementById(\"81e2714f-55d1-4589-915e-5a8af091f925\")) {                    Plotly.newPlot(                        \"81e2714f-55d1-4589-915e-5a8af091f925\",                        [{\"name\":\"Training RMSE\",\"type\":\"bar\",\"x\":[\"c\",\"c,d\",\"c,d,h\",\"c,d,h,w\",\"c,d,h,w,a\",\"c,d,h,w,a,m\"],\"y\":[4.888109236813688,4.58757379901803,4.525395490245242,4.216877763288668,4.213763450275894,3.3799994809258984]},{\"name\":\"CV RMSE\",\"type\":\"bar\",\"x\":[\"c\",\"c,d\",\"c,d,h\",\"c,d,h,w\",\"c,d,h,w,a\",\"c,d,h,w,a,m\"],\"y\":[4.876661068256957,4.579060426624026,4.556808311664747,4.252718625749385,4.256844728700814,3.4557657065586787]},{\"name\":\"Test RMSE\",\"opacity\":0.3,\"type\":\"bar\",\"x\":[\"c\",\"c,d\",\"c,d,h\",\"c,d,h,w\",\"c,d,h,w,a\",\"c,d,h,w,a,m\"],\"y\":[5.055013548375552,4.7661569898523695,4.583861769980873,4.325847816131029,4.34988869276913,3.550828171640195]}],                        {\"template\":{\"data\":{\"bar\":[{\"error_x\":{\"color\":\"#2a3f5f\"},\"error_y\":{\"color\":\"#2a3f5f\"},\"marker\":{\"line\":{\"color\":\"#E5ECF6\",\"width\":0.5},\"pattern\":{\"fillmode\":\"overlay\",\"size\":10,\"solidity\":0.2}},\"type\":\"bar\"}],\"barpolar\":[{\"marker\":{\"line\":{\"color\":\"#E5ECF6\",\"width\":0.5},\"pattern\":{\"fillmode\":\"overlay\",\"size\":10,\"solidity\":0.2}},\"type\":\"barpolar\"}],\"carpet\":[{\"aaxis\":{\"endlinecolor\":\"#2a3f5f\",\"gridcolor\":\"white\",\"linecolor\":\"white\",\"minorgridcolor\":\"white\",\"startlinecolor\":\"#2a3f5f\"},\"baxis\":{\"endlinecolor\":\"#2a3f5f\",\"gridcolor\":\"white\",\"linecolor\":\"white\",\"minorgridcolor\":\"white\",\"startlinecolor\":\"#2a3f5f\"},\"type\":\"carpet\"}],\"choropleth\":[{\"colorbar\":{\"outlinewidth\":0,\"ticks\":\"\"},\"type\":\"choropleth\"}],\"contour\":[{\"colorbar\":{\"outlinewidth\":0,\"ticks\":\"\"},\"colorscale\":[[0.0,\"#0d0887\"],[0.1111111111111111,\"#46039f\"],[0.2222222222222222,\"#7201a8\"],[0.3333333333333333,\"#9c179e\"],[0.4444444444444444,\"#bd3786\"],[0.5555555555555556,\"#d8576b\"],[0.6666666666666666,\"#ed7953\"],[0.7777777777777778,\"#fb9f3a\"],[0.8888888888888888,\"#fdca26\"],[1.0,\"#f0f921\"]],\"type\":\"contour\"}],\"contourcarpet\":[{\"colorbar\":{\"outlinewidth\":0,\"ticks\":\"\"},\"type\":\"contourcarpet\"}],\"heatmap\":[{\"colorbar\":{\"outlinewidth\":0,\"ticks\":\"\"},\"colorscale\":[[0.0,\"#0d0887\"],[0.1111111111111111,\"#46039f\"],[0.2222222222222222,\"#7201a8\"],[0.3333333333333333,\"#9c179e\"],[0.4444444444444444,\"#bd3786\"],[0.5555555555555556,\"#d8576b\"],[0.6666666666666666,\"#ed7953\"],[0.7777777777777778,\"#fb9f3a\"],[0.8888888888888888,\"#fdca26\"],[1.0,\"#f0f921\"]],\"type\":\"heatmap\"}],\"heatmapgl\":[{\"colorbar\":{\"outlinewidth\":0,\"ticks\":\"\"},\"colorscale\":[[0.0,\"#0d0887\"],[0.1111111111111111,\"#46039f\"],[0.2222222222222222,\"#7201a8\"],[0.3333333333333333,\"#9c179e\"],[0.4444444444444444,\"#bd3786\"],[0.5555555555555556,\"#d8576b\"],[0.6666666666666666,\"#ed7953\"],[0.7777777777777778,\"#fb9f3a\"],[0.8888888888888888,\"#fdca26\"],[1.0,\"#f0f921\"]],\"type\":\"heatmapgl\"}],\"histogram\":[{\"marker\":{\"pattern\":{\"fillmode\":\"overlay\",\"size\":10,\"solidity\":0.2}},\"type\":\"histogram\"}],\"histogram2d\":[{\"colorbar\":{\"outlinewidth\":0,\"ticks\":\"\"},\"colorscale\":[[0.0,\"#0d0887\"],[0.1111111111111111,\"#46039f\"],[0.2222222222222222,\"#7201a8\"],[0.3333333333333333,\"#9c179e\"],[0.4444444444444444,\"#bd3786\"],[0.5555555555555556,\"#d8576b\"],[0.6666666666666666,\"#ed7953\"],[0.7777777777777778,\"#fb9f3a\"],[0.8888888888888888,\"#fdca26\"],[1.0,\"#f0f921\"]],\"type\":\"histogram2d\"}],\"histogram2dcontour\":[{\"colorbar\":{\"outlinewidth\":0,\"ticks\":\"\"},\"colorscale\":[[0.0,\"#0d0887\"],[0.1111111111111111,\"#46039f\"],[0.2222222222222222,\"#7201a8\"],[0.3333333333333333,\"#9c179e\"],[0.4444444444444444,\"#bd3786\"],[0.5555555555555556,\"#d8576b\"],[0.6666666666666666,\"#ed7953\"],[0.7777777777777778,\"#fb9f3a\"],[0.8888888888888888,\"#fdca26\"],[1.0,\"#f0f921\"]],\"type\":\"histogram2dcontour\"}],\"mesh3d\":[{\"colorbar\":{\"outlinewidth\":0,\"ticks\":\"\"},\"type\":\"mesh3d\"}],\"parcoords\":[{\"line\":{\"colorbar\":{\"outlinewidth\":0,\"ticks\":\"\"}},\"type\":\"parcoords\"}],\"pie\":[{\"automargin\":true,\"type\":\"pie\"}],\"scatter\":[{\"marker\":{\"colorbar\":{\"outlinewidth\":0,\"ticks\":\"\"}},\"type\":\"scatter\"}],\"scatter3d\":[{\"line\":{\"colorbar\":{\"outlinewidth\":0,\"ticks\":\"\"}},\"marker\":{\"colorbar\":{\"outlinewidth\":0,\"ticks\":\"\"}},\"type\":\"scatter3d\"}],\"scattercarpet\":[{\"marker\":{\"colorbar\":{\"outlinewidth\":0,\"ticks\":\"\"}},\"type\":\"scattercarpet\"}],\"scattergeo\":[{\"marker\":{\"colorbar\":{\"outlinewidth\":0,\"ticks\":\"\"}},\"type\":\"scattergeo\"}],\"scattergl\":[{\"marker\":{\"colorbar\":{\"outlinewidth\":0,\"ticks\":\"\"}},\"type\":\"scattergl\"}],\"scattermapbox\":[{\"marker\":{\"colorbar\":{\"outlinewidth\":0,\"ticks\":\"\"}},\"type\":\"scattermapbox\"}],\"scatterpolar\":[{\"marker\":{\"colorbar\":{\"outlinewidth\":0,\"ticks\":\"\"}},\"type\":\"scatterpolar\"}],\"scatterpolargl\":[{\"marker\":{\"colorbar\":{\"outlinewidth\":0,\"ticks\":\"\"}},\"type\":\"scatterpolargl\"}],\"scatterternary\":[{\"marker\":{\"colorbar\":{\"outlinewidth\":0,\"ticks\":\"\"}},\"type\":\"scatterternary\"}],\"surface\":[{\"colorbar\":{\"outlinewidth\":0,\"ticks\":\"\"},\"colorscale\":[[0.0,\"#0d0887\"],[0.1111111111111111,\"#46039f\"],[0.2222222222222222,\"#7201a8\"],[0.3333333333333333,\"#9c179e\"],[0.4444444444444444,\"#bd3786\"],[0.5555555555555556,\"#d8576b\"],[0.6666666666666666,\"#ed7953\"],[0.7777777777777778,\"#fb9f3a\"],[0.8888888888888888,\"#fdca26\"],[1.0,\"#f0f921\"]],\"type\":\"surface\"}],\"table\":[{\"cells\":{\"fill\":{\"color\":\"#EBF0F8\"},\"line\":{\"color\":\"white\"}},\"header\":{\"fill\":{\"color\":\"#C8D4E3\"},\"line\":{\"color\":\"white\"}},\"type\":\"table\"}]},\"layout\":{\"annotationdefaults\":{\"arrowcolor\":\"#2a3f5f\",\"arrowhead\":0,\"arrowwidth\":1},\"autotypenumbers\":\"strict\",\"coloraxis\":{\"colorbar\":{\"outlinewidth\":0,\"ticks\":\"\"}},\"colorscale\":{\"diverging\":[[0,\"#8e0152\"],[0.1,\"#c51b7d\"],[0.2,\"#de77ae\"],[0.3,\"#f1b6da\"],[0.4,\"#fde0ef\"],[0.5,\"#f7f7f7\"],[0.6,\"#e6f5d0\"],[0.7,\"#b8e186\"],[0.8,\"#7fbc41\"],[0.9,\"#4d9221\"],[1,\"#276419\"]],\"sequential\":[[0.0,\"#0d0887\"],[0.1111111111111111,\"#46039f\"],[0.2222222222222222,\"#7201a8\"],[0.3333333333333333,\"#9c179e\"],[0.4444444444444444,\"#bd3786\"],[0.5555555555555556,\"#d8576b\"],[0.6666666666666666,\"#ed7953\"],[0.7777777777777778,\"#fb9f3a\"],[0.8888888888888888,\"#fdca26\"],[1.0,\"#f0f921\"]],\"sequentialminus\":[[0.0,\"#0d0887\"],[0.1111111111111111,\"#46039f\"],[0.2222222222222222,\"#7201a8\"],[0.3333333333333333,\"#9c179e\"],[0.4444444444444444,\"#bd3786\"],[0.5555555555555556,\"#d8576b\"],[0.6666666666666666,\"#ed7953\"],[0.7777777777777778,\"#fb9f3a\"],[0.8888888888888888,\"#fdca26\"],[1.0,\"#f0f921\"]]},\"colorway\":[\"#636efa\",\"#EF553B\",\"#00cc96\",\"#ab63fa\",\"#FFA15A\",\"#19d3f3\",\"#FF6692\",\"#B6E880\",\"#FF97FF\",\"#FECB52\"],\"font\":{\"color\":\"#2a3f5f\"},\"geo\":{\"bgcolor\":\"white\",\"lakecolor\":\"white\",\"landcolor\":\"#E5ECF6\",\"showlakes\":true,\"showland\":true,\"subunitcolor\":\"white\"},\"hoverlabel\":{\"align\":\"left\"},\"hovermode\":\"closest\",\"mapbox\":{\"style\":\"light\"},\"paper_bgcolor\":\"white\",\"plot_bgcolor\":\"#E5ECF6\",\"polar\":{\"angularaxis\":{\"gridcolor\":\"white\",\"linecolor\":\"white\",\"ticks\":\"\"},\"bgcolor\":\"#E5ECF6\",\"radialaxis\":{\"gridcolor\":\"white\",\"linecolor\":\"white\",\"ticks\":\"\"}},\"scene\":{\"xaxis\":{\"backgroundcolor\":\"#E5ECF6\",\"gridcolor\":\"white\",\"gridwidth\":2,\"linecolor\":\"white\",\"showbackground\":true,\"ticks\":\"\",\"zerolinecolor\":\"white\"},\"yaxis\":{\"backgroundcolor\":\"#E5ECF6\",\"gridcolor\":\"white\",\"gridwidth\":2,\"linecolor\":\"white\",\"showbackground\":true,\"ticks\":\"\",\"zerolinecolor\":\"white\"},\"zaxis\":{\"backgroundcolor\":\"#E5ECF6\",\"gridcolor\":\"white\",\"gridwidth\":2,\"linecolor\":\"white\",\"showbackground\":true,\"ticks\":\"\",\"zerolinecolor\":\"white\"}},\"shapedefaults\":{\"line\":{\"color\":\"#2a3f5f\"}},\"ternary\":{\"aaxis\":{\"gridcolor\":\"white\",\"linecolor\":\"white\",\"ticks\":\"\"},\"baxis\":{\"gridcolor\":\"white\",\"linecolor\":\"white\",\"ticks\":\"\"},\"bgcolor\":\"#E5ECF6\",\"caxis\":{\"gridcolor\":\"white\",\"linecolor\":\"white\",\"ticks\":\"\"}},\"title\":{\"x\":0.05},\"xaxis\":{\"automargin\":true,\"gridcolor\":\"white\",\"linecolor\":\"white\",\"ticks\":\"\",\"title\":{\"standoff\":15},\"zerolinecolor\":\"white\",\"zerolinewidth\":2},\"yaxis\":{\"automargin\":true,\"gridcolor\":\"white\",\"linecolor\":\"white\",\"ticks\":\"\",\"title\":{\"standoff\":15},\"zerolinecolor\":\"white\",\"zerolinewidth\":2}}},\"yaxis\":{\"title\":{\"text\":\"RMSE\"}}},                        {\"responsive\": true}                    ).then(function(){\n",
       "                            \n",
       "var gd = document.getElementById('81e2714f-55d1-4589-915e-5a8af091f925');\n",
       "var x = new MutationObserver(function (mutations, observer) {{\n",
       "        var display = window.getComputedStyle(gd).display;\n",
       "        if (!display || display === 'none') {{\n",
       "            console.log([gd, 'removed!']);\n",
       "            Plotly.purge(gd);\n",
       "            observer.disconnect();\n",
       "        }}\n",
       "}});\n",
       "\n",
       "// Listen for the removal of the full notebook cells\n",
       "var notebookContainer = gd.closest('#notebook-container');\n",
       "if (notebookContainer) {{\n",
       "    x.observe(notebookContainer, {childList: true});\n",
       "}}\n",
       "\n",
       "// Listen for the clearing of the current output cell\n",
       "var outputEl = gd.closest('.output');\n",
       "if (outputEl) {{\n",
       "    x.observe(outputEl, {childList: true});\n",
       "}}\n",
       "\n",
       "                        })                };                });            </script>        </div>"
      ]
     },
     "metadata": {},
     "output_type": "display_data"
    }
   ],
   "source": [
    "compare_models(models)"
   ]
  },
  {
   "cell_type": "markdown",
   "metadata": {},
   "source": [
    "Notice that as we added features the training and cross validation error generally decreased.  Also notice that the cross validation error and the test error are generally higher than the training error. "
   ]
  },
  {
   "cell_type": "markdown",
   "metadata": {},
   "source": [
    "<br/><br/><br/>\n",
    "\n",
    "---\n",
    "\n",
    "## Adding the Text Features"
   ]
  },
  {
   "cell_type": "markdown",
   "metadata": {},
   "source": [
    "### Adding the Origin\n",
    "\n",
    "The origin is a categorical feature which takes on only a few values:"
   ]
  },
  {
   "cell_type": "code",
   "execution_count": 59,
   "metadata": {},
   "outputs": [
    {
     "data": {
      "text/plain": [
       "usa       188\n",
       "japan      56\n",
       "europe     54\n",
       "Name: origin, dtype: int64"
      ]
     },
     "execution_count": 59,
     "metadata": {},
     "output_type": "execute_result"
    }
   ],
   "source": [
    "tr['origin'].value_counts()"
   ]
  },
  {
   "cell_type": "markdown",
   "metadata": {},
   "source": [
    "This can be extracted using a `OneHotEncoder` in the `SelectColumns` stage of the pipeline. Notice that the `[\"origin\"]` is in brackets, this caused me some confusion when preparing lecture.  The `OneHotEncoder` wants its input in column form rather than list form. "
   ]
  },
  {
   "cell_type": "code",
   "execution_count": 61,
   "metadata": {},
   "outputs": [],
   "source": [
    "from sklearn.preprocessing import OneHotEncoder"
   ]
  },
  {
   "cell_type": "code",
   "execution_count": 62,
   "metadata": {},
   "outputs": [],
   "source": [
    "model = Pipeline([\n",
    "    (\"SelectColumns\", ColumnTransformer([\n",
    "        (\"keep\", \"passthrough\", quantitative_features),\n",
    "        (\"origin_encoder\", OneHotEncoder(), [\"origin\"])\n",
    "    ])),\n",
    "    (\"Imputation\", SimpleImputer()),\n",
    "    (\"LinearModel\", LinearRegression())\n",
    "])"
   ]
  },
  {
   "cell_type": "code",
   "execution_count": 63,
   "metadata": {},
   "outputs": [],
   "source": [
    "model.fit(tr, tr['mpg'])\n",
    "name = \",\".join([name[0] for name in quantitative_features]) + \",o\"\n",
    "models[name] = model"
   ]
  },
  {
   "cell_type": "markdown",
   "metadata": {},
   "source": [
    "### Adding the Vehicle Name\n",
    "\n",
    "In the previous lecture we added the vehicle name using the `CountVectorizer` which implements a bag-of-words encoding. "
   ]
  },
  {
   "cell_type": "code",
   "execution_count": 64,
   "metadata": {},
   "outputs": [],
   "source": [
    "from sklearn.feature_extraction.text import CountVectorizer"
   ]
  },
  {
   "cell_type": "code",
   "execution_count": 65,
   "metadata": {},
   "outputs": [],
   "source": [
    "model = Pipeline([\n",
    "    (\"SelectColumns\", ColumnTransformer([\n",
    "        (\"keep\", \"passthrough\", quantitative_features),\n",
    "        (\"origin_encoder\", OneHotEncoder(), [\"origin\"]),\n",
    "        (\"text\", CountVectorizer(), \"name\")\n",
    "    ])),\n",
    "    (\"Imputation\", SimpleImputer()),\n",
    "    (\"LinearModel\", LinearRegression())\n",
    "])"
   ]
  },
  {
   "cell_type": "code",
   "execution_count": 67,
   "metadata": {},
   "outputs": [],
   "source": [
    "model.fit(tr, tr['mpg'])\n",
    "name = \",\".join([name[0] for name in quantitative_features]) + \",o,n\"\n",
    "models[name] = model"
   ]
  },
  {
   "cell_type": "code",
   "execution_count": 68,
   "metadata": {},
   "outputs": [
    {
     "data": {
      "application/vnd.plotly.v1+json": {
       "config": {
        "plotlyServerURL": "https://plot.ly"
       },
       "data": [
        {
         "name": "Training RMSE",
         "type": "bar",
         "x": [
          "c",
          "c,d",
          "c,d,h",
          "c,d,h,w",
          "c,d,h,w,a",
          "c,d,h,w,a,m",
          "c,d,h,w,a,m,o",
          "c,d,h,w,a,m,o,n"
         ],
         "y": [
          4.888109236813688,
          4.58757379901803,
          4.525395490245242,
          4.216877763288668,
          4.213763450275894,
          3.3799994809258984,
          3.248822401205007,
          1.1387325746873735
         ]
        },
        {
         "name": "CV RMSE",
         "type": "bar",
         "x": [
          "c",
          "c,d",
          "c,d,h",
          "c,d,h,w",
          "c,d,h,w,a",
          "c,d,h,w,a,m",
          "c,d,h,w,a,m,o",
          "c,d,h,w,a,m,o,n"
         ],
         "y": [
          4.876661068256957,
          4.579060426624026,
          4.556808311664747,
          4.252718625749385,
          4.256844728700814,
          3.4557657065586787,
          3.3323381513276,
          3.728904117236925
         ]
        },
        {
         "name": "Test RMSE",
         "opacity": 0.3,
         "type": "bar",
         "x": [
          "c",
          "c,d",
          "c,d,h",
          "c,d,h,w",
          "c,d,h,w,a",
          "c,d,h,w,a,m",
          "c,d,h,w,a,m,o",
          "c,d,h,w,a,m,o,n"
         ],
         "y": [
          5.055013548375552,
          4.7661569898523695,
          4.583861769980873,
          4.325847816131029,
          4.34988869276913,
          3.550828171640195,
          3.3746613014711673,
          3.507039743068532
         ]
        }
       ],
       "layout": {
        "autosize": true,
        "template": {
         "data": {
          "bar": [
           {
            "error_x": {
             "color": "#2a3f5f"
            },
            "error_y": {
             "color": "#2a3f5f"
            },
            "marker": {
             "line": {
              "color": "#E5ECF6",
              "width": 0.5
             },
             "pattern": {
              "fillmode": "overlay",
              "size": 10,
              "solidity": 0.2
             }
            },
            "type": "bar"
           }
          ],
          "barpolar": [
           {
            "marker": {
             "line": {
              "color": "#E5ECF6",
              "width": 0.5
             },
             "pattern": {
              "fillmode": "overlay",
              "size": 10,
              "solidity": 0.2
             }
            },
            "type": "barpolar"
           }
          ],
          "carpet": [
           {
            "aaxis": {
             "endlinecolor": "#2a3f5f",
             "gridcolor": "white",
             "linecolor": "white",
             "minorgridcolor": "white",
             "startlinecolor": "#2a3f5f"
            },
            "baxis": {
             "endlinecolor": "#2a3f5f",
             "gridcolor": "white",
             "linecolor": "white",
             "minorgridcolor": "white",
             "startlinecolor": "#2a3f5f"
            },
            "type": "carpet"
           }
          ],
          "choropleth": [
           {
            "colorbar": {
             "outlinewidth": 0,
             "ticks": ""
            },
            "type": "choropleth"
           }
          ],
          "contour": [
           {
            "colorbar": {
             "outlinewidth": 0,
             "ticks": ""
            },
            "colorscale": [
             [
              0,
              "#0d0887"
             ],
             [
              0.1111111111111111,
              "#46039f"
             ],
             [
              0.2222222222222222,
              "#7201a8"
             ],
             [
              0.3333333333333333,
              "#9c179e"
             ],
             [
              0.4444444444444444,
              "#bd3786"
             ],
             [
              0.5555555555555556,
              "#d8576b"
             ],
             [
              0.6666666666666666,
              "#ed7953"
             ],
             [
              0.7777777777777778,
              "#fb9f3a"
             ],
             [
              0.8888888888888888,
              "#fdca26"
             ],
             [
              1,
              "#f0f921"
             ]
            ],
            "type": "contour"
           }
          ],
          "contourcarpet": [
           {
            "colorbar": {
             "outlinewidth": 0,
             "ticks": ""
            },
            "type": "contourcarpet"
           }
          ],
          "heatmap": [
           {
            "colorbar": {
             "outlinewidth": 0,
             "ticks": ""
            },
            "colorscale": [
             [
              0,
              "#0d0887"
             ],
             [
              0.1111111111111111,
              "#46039f"
             ],
             [
              0.2222222222222222,
              "#7201a8"
             ],
             [
              0.3333333333333333,
              "#9c179e"
             ],
             [
              0.4444444444444444,
              "#bd3786"
             ],
             [
              0.5555555555555556,
              "#d8576b"
             ],
             [
              0.6666666666666666,
              "#ed7953"
             ],
             [
              0.7777777777777778,
              "#fb9f3a"
             ],
             [
              0.8888888888888888,
              "#fdca26"
             ],
             [
              1,
              "#f0f921"
             ]
            ],
            "type": "heatmap"
           }
          ],
          "heatmapgl": [
           {
            "colorbar": {
             "outlinewidth": 0,
             "ticks": ""
            },
            "colorscale": [
             [
              0,
              "#0d0887"
             ],
             [
              0.1111111111111111,
              "#46039f"
             ],
             [
              0.2222222222222222,
              "#7201a8"
             ],
             [
              0.3333333333333333,
              "#9c179e"
             ],
             [
              0.4444444444444444,
              "#bd3786"
             ],
             [
              0.5555555555555556,
              "#d8576b"
             ],
             [
              0.6666666666666666,
              "#ed7953"
             ],
             [
              0.7777777777777778,
              "#fb9f3a"
             ],
             [
              0.8888888888888888,
              "#fdca26"
             ],
             [
              1,
              "#f0f921"
             ]
            ],
            "type": "heatmapgl"
           }
          ],
          "histogram": [
           {
            "marker": {
             "pattern": {
              "fillmode": "overlay",
              "size": 10,
              "solidity": 0.2
             }
            },
            "type": "histogram"
           }
          ],
          "histogram2d": [
           {
            "colorbar": {
             "outlinewidth": 0,
             "ticks": ""
            },
            "colorscale": [
             [
              0,
              "#0d0887"
             ],
             [
              0.1111111111111111,
              "#46039f"
             ],
             [
              0.2222222222222222,
              "#7201a8"
             ],
             [
              0.3333333333333333,
              "#9c179e"
             ],
             [
              0.4444444444444444,
              "#bd3786"
             ],
             [
              0.5555555555555556,
              "#d8576b"
             ],
             [
              0.6666666666666666,
              "#ed7953"
             ],
             [
              0.7777777777777778,
              "#fb9f3a"
             ],
             [
              0.8888888888888888,
              "#fdca26"
             ],
             [
              1,
              "#f0f921"
             ]
            ],
            "type": "histogram2d"
           }
          ],
          "histogram2dcontour": [
           {
            "colorbar": {
             "outlinewidth": 0,
             "ticks": ""
            },
            "colorscale": [
             [
              0,
              "#0d0887"
             ],
             [
              0.1111111111111111,
              "#46039f"
             ],
             [
              0.2222222222222222,
              "#7201a8"
             ],
             [
              0.3333333333333333,
              "#9c179e"
             ],
             [
              0.4444444444444444,
              "#bd3786"
             ],
             [
              0.5555555555555556,
              "#d8576b"
             ],
             [
              0.6666666666666666,
              "#ed7953"
             ],
             [
              0.7777777777777778,
              "#fb9f3a"
             ],
             [
              0.8888888888888888,
              "#fdca26"
             ],
             [
              1,
              "#f0f921"
             ]
            ],
            "type": "histogram2dcontour"
           }
          ],
          "mesh3d": [
           {
            "colorbar": {
             "outlinewidth": 0,
             "ticks": ""
            },
            "type": "mesh3d"
           }
          ],
          "parcoords": [
           {
            "line": {
             "colorbar": {
              "outlinewidth": 0,
              "ticks": ""
             }
            },
            "type": "parcoords"
           }
          ],
          "pie": [
           {
            "automargin": true,
            "type": "pie"
           }
          ],
          "scatter": [
           {
            "marker": {
             "colorbar": {
              "outlinewidth": 0,
              "ticks": ""
             }
            },
            "type": "scatter"
           }
          ],
          "scatter3d": [
           {
            "line": {
             "colorbar": {
              "outlinewidth": 0,
              "ticks": ""
             }
            },
            "marker": {
             "colorbar": {
              "outlinewidth": 0,
              "ticks": ""
             }
            },
            "type": "scatter3d"
           }
          ],
          "scattercarpet": [
           {
            "marker": {
             "colorbar": {
              "outlinewidth": 0,
              "ticks": ""
             }
            },
            "type": "scattercarpet"
           }
          ],
          "scattergeo": [
           {
            "marker": {
             "colorbar": {
              "outlinewidth": 0,
              "ticks": ""
             }
            },
            "type": "scattergeo"
           }
          ],
          "scattergl": [
           {
            "marker": {
             "colorbar": {
              "outlinewidth": 0,
              "ticks": ""
             }
            },
            "type": "scattergl"
           }
          ],
          "scattermapbox": [
           {
            "marker": {
             "colorbar": {
              "outlinewidth": 0,
              "ticks": ""
             }
            },
            "type": "scattermapbox"
           }
          ],
          "scatterpolar": [
           {
            "marker": {
             "colorbar": {
              "outlinewidth": 0,
              "ticks": ""
             }
            },
            "type": "scatterpolar"
           }
          ],
          "scatterpolargl": [
           {
            "marker": {
             "colorbar": {
              "outlinewidth": 0,
              "ticks": ""
             }
            },
            "type": "scatterpolargl"
           }
          ],
          "scatterternary": [
           {
            "marker": {
             "colorbar": {
              "outlinewidth": 0,
              "ticks": ""
             }
            },
            "type": "scatterternary"
           }
          ],
          "surface": [
           {
            "colorbar": {
             "outlinewidth": 0,
             "ticks": ""
            },
            "colorscale": [
             [
              0,
              "#0d0887"
             ],
             [
              0.1111111111111111,
              "#46039f"
             ],
             [
              0.2222222222222222,
              "#7201a8"
             ],
             [
              0.3333333333333333,
              "#9c179e"
             ],
             [
              0.4444444444444444,
              "#bd3786"
             ],
             [
              0.5555555555555556,
              "#d8576b"
             ],
             [
              0.6666666666666666,
              "#ed7953"
             ],
             [
              0.7777777777777778,
              "#fb9f3a"
             ],
             [
              0.8888888888888888,
              "#fdca26"
             ],
             [
              1,
              "#f0f921"
             ]
            ],
            "type": "surface"
           }
          ],
          "table": [
           {
            "cells": {
             "fill": {
              "color": "#EBF0F8"
             },
             "line": {
              "color": "white"
             }
            },
            "header": {
             "fill": {
              "color": "#C8D4E3"
             },
             "line": {
              "color": "white"
             }
            },
            "type": "table"
           }
          ]
         },
         "layout": {
          "annotationdefaults": {
           "arrowcolor": "#2a3f5f",
           "arrowhead": 0,
           "arrowwidth": 1
          },
          "autotypenumbers": "strict",
          "coloraxis": {
           "colorbar": {
            "outlinewidth": 0,
            "ticks": ""
           }
          },
          "colorscale": {
           "diverging": [
            [
             0,
             "#8e0152"
            ],
            [
             0.1,
             "#c51b7d"
            ],
            [
             0.2,
             "#de77ae"
            ],
            [
             0.3,
             "#f1b6da"
            ],
            [
             0.4,
             "#fde0ef"
            ],
            [
             0.5,
             "#f7f7f7"
            ],
            [
             0.6,
             "#e6f5d0"
            ],
            [
             0.7,
             "#b8e186"
            ],
            [
             0.8,
             "#7fbc41"
            ],
            [
             0.9,
             "#4d9221"
            ],
            [
             1,
             "#276419"
            ]
           ],
           "sequential": [
            [
             0,
             "#0d0887"
            ],
            [
             0.1111111111111111,
             "#46039f"
            ],
            [
             0.2222222222222222,
             "#7201a8"
            ],
            [
             0.3333333333333333,
             "#9c179e"
            ],
            [
             0.4444444444444444,
             "#bd3786"
            ],
            [
             0.5555555555555556,
             "#d8576b"
            ],
            [
             0.6666666666666666,
             "#ed7953"
            ],
            [
             0.7777777777777778,
             "#fb9f3a"
            ],
            [
             0.8888888888888888,
             "#fdca26"
            ],
            [
             1,
             "#f0f921"
            ]
           ],
           "sequentialminus": [
            [
             0,
             "#0d0887"
            ],
            [
             0.1111111111111111,
             "#46039f"
            ],
            [
             0.2222222222222222,
             "#7201a8"
            ],
            [
             0.3333333333333333,
             "#9c179e"
            ],
            [
             0.4444444444444444,
             "#bd3786"
            ],
            [
             0.5555555555555556,
             "#d8576b"
            ],
            [
             0.6666666666666666,
             "#ed7953"
            ],
            [
             0.7777777777777778,
             "#fb9f3a"
            ],
            [
             0.8888888888888888,
             "#fdca26"
            ],
            [
             1,
             "#f0f921"
            ]
           ]
          },
          "colorway": [
           "#636efa",
           "#EF553B",
           "#00cc96",
           "#ab63fa",
           "#FFA15A",
           "#19d3f3",
           "#FF6692",
           "#B6E880",
           "#FF97FF",
           "#FECB52"
          ],
          "font": {
           "color": "#2a3f5f"
          },
          "geo": {
           "bgcolor": "white",
           "lakecolor": "white",
           "landcolor": "#E5ECF6",
           "showlakes": true,
           "showland": true,
           "subunitcolor": "white"
          },
          "hoverlabel": {
           "align": "left"
          },
          "hovermode": "closest",
          "mapbox": {
           "style": "light"
          },
          "paper_bgcolor": "white",
          "plot_bgcolor": "#E5ECF6",
          "polar": {
           "angularaxis": {
            "gridcolor": "white",
            "linecolor": "white",
            "ticks": ""
           },
           "bgcolor": "#E5ECF6",
           "radialaxis": {
            "gridcolor": "white",
            "linecolor": "white",
            "ticks": ""
           }
          },
          "scene": {
           "xaxis": {
            "backgroundcolor": "#E5ECF6",
            "gridcolor": "white",
            "gridwidth": 2,
            "linecolor": "white",
            "showbackground": true,
            "ticks": "",
            "zerolinecolor": "white"
           },
           "yaxis": {
            "backgroundcolor": "#E5ECF6",
            "gridcolor": "white",
            "gridwidth": 2,
            "linecolor": "white",
            "showbackground": true,
            "ticks": "",
            "zerolinecolor": "white"
           },
           "zaxis": {
            "backgroundcolor": "#E5ECF6",
            "gridcolor": "white",
            "gridwidth": 2,
            "linecolor": "white",
            "showbackground": true,
            "ticks": "",
            "zerolinecolor": "white"
           }
          },
          "shapedefaults": {
           "line": {
            "color": "#2a3f5f"
           }
          },
          "ternary": {
           "aaxis": {
            "gridcolor": "white",
            "linecolor": "white",
            "ticks": ""
           },
           "baxis": {
            "gridcolor": "white",
            "linecolor": "white",
            "ticks": ""
           },
           "bgcolor": "#E5ECF6",
           "caxis": {
            "gridcolor": "white",
            "linecolor": "white",
            "ticks": ""
           }
          },
          "title": {
           "x": 0.05
          },
          "xaxis": {
           "automargin": true,
           "gridcolor": "white",
           "linecolor": "white",
           "ticks": "",
           "title": {
            "standoff": 15
           },
           "zerolinecolor": "white",
           "zerolinewidth": 2
          },
          "yaxis": {
           "automargin": true,
           "gridcolor": "white",
           "linecolor": "white",
           "ticks": "",
           "title": {
            "standoff": 15
           },
           "zerolinecolor": "white",
           "zerolinewidth": 2
          }
         }
        },
        "xaxis": {
         "autorange": true,
         "range": [
          -0.5,
          7.5
         ],
         "type": "category"
        },
        "yaxis": {
         "autorange": true,
         "range": [
          0,
          5.321066893026897
         ],
         "title": {
          "text": "RMSE"
         },
         "type": "linear"
        }
       }
      },
      "image/png": "[encoded data removed]",
      "text/html": [
       "<div>                            <div id=\"f1ce8d51-f3e7-465b-a2c9-2af9cfee8bf6\" class=\"plotly-graph-div\" style=\"height:525px; width:100%;\"></div>            <script type=\"text/javascript\">                require([\"plotly\"], function(Plotly) {                    window.PLOTLYENV=window.PLOTLYENV || {};                                    if (document.getElementById(\"f1ce8d51-f3e7-465b-a2c9-2af9cfee8bf6\")) {                    Plotly.newPlot(                        \"f1ce8d51-f3e7-465b-a2c9-2af9cfee8bf6\",                        [{\"name\":\"Training RMSE\",\"type\":\"bar\",\"x\":[\"c\",\"c,d\",\"c,d,h\",\"c,d,h,w\",\"c,d,h,w,a\",\"c,d,h,w,a,m\",\"c,d,h,w,a,m,o\",\"c,d,h,w,a,m,o,n\"],\"y\":[4.888109236813688,4.58757379901803,4.525395490245242,4.216877763288668,4.213763450275894,3.3799994809258984,3.248822401205007,1.1387325746873735]},{\"name\":\"CV RMSE\",\"type\":\"bar\",\"x\":[\"c\",\"c,d\",\"c,d,h\",\"c,d,h,w\",\"c,d,h,w,a\",\"c,d,h,w,a,m\",\"c,d,h,w,a,m,o\",\"c,d,h,w,a,m,o,n\"],\"y\":[4.876661068256957,4.579060426624026,4.556808311664747,4.252718625749385,4.256844728700814,3.4557657065586787,3.3323381513276,3.728904117236925]},{\"name\":\"Test RMSE\",\"opacity\":0.3,\"type\":\"bar\",\"x\":[\"c\",\"c,d\",\"c,d,h\",\"c,d,h,w\",\"c,d,h,w,a\",\"c,d,h,w,a,m\",\"c,d,h,w,a,m,o\",\"c,d,h,w,a,m,o,n\"],\"y\":[5.055013548375552,4.7661569898523695,4.583861769980873,4.325847816131029,4.34988869276913,3.550828171640195,3.3746613014711673,3.507039743068532]}],                        {\"template\":{\"data\":{\"bar\":[{\"error_x\":{\"color\":\"#2a3f5f\"},\"error_y\":{\"color\":\"#2a3f5f\"},\"marker\":{\"line\":{\"color\":\"#E5ECF6\",\"width\":0.5},\"pattern\":{\"fillmode\":\"overlay\",\"size\":10,\"solidity\":0.2}},\"type\":\"bar\"}],\"barpolar\":[{\"marker\":{\"line\":{\"color\":\"#E5ECF6\",\"width\":0.5},\"pattern\":{\"fillmode\":\"overlay\",\"size\":10,\"solidity\":0.2}},\"type\":\"barpolar\"}],\"carpet\":[{\"aaxis\":{\"endlinecolor\":\"#2a3f5f\",\"gridcolor\":\"white\",\"linecolor\":\"white\",\"minorgridcolor\":\"white\",\"startlinecolor\":\"#2a3f5f\"},\"baxis\":{\"endlinecolor\":\"#2a3f5f\",\"gridcolor\":\"white\",\"linecolor\":\"white\",\"minorgridcolor\":\"white\",\"startlinecolor\":\"#2a3f5f\"},\"type\":\"carpet\"}],\"choropleth\":[{\"colorbar\":{\"outlinewidth\":0,\"ticks\":\"\"},\"type\":\"choropleth\"}],\"contour\":[{\"colorbar\":{\"outlinewidth\":0,\"ticks\":\"\"},\"colorscale\":[[0.0,\"#0d0887\"],[0.1111111111111111,\"#46039f\"],[0.2222222222222222,\"#7201a8\"],[0.3333333333333333,\"#9c179e\"],[0.4444444444444444,\"#bd3786\"],[0.5555555555555556,\"#d8576b\"],[0.6666666666666666,\"#ed7953\"],[0.7777777777777778,\"#fb9f3a\"],[0.8888888888888888,\"#fdca26\"],[1.0,\"#f0f921\"]],\"type\":\"contour\"}],\"contourcarpet\":[{\"colorbar\":{\"outlinewidth\":0,\"ticks\":\"\"},\"type\":\"contourcarpet\"}],\"heatmap\":[{\"colorbar\":{\"outlinewidth\":0,\"ticks\":\"\"},\"colorscale\":[[0.0,\"#0d0887\"],[0.1111111111111111,\"#46039f\"],[0.2222222222222222,\"#7201a8\"],[0.3333333333333333,\"#9c179e\"],[0.4444444444444444,\"#bd3786\"],[0.5555555555555556,\"#d8576b\"],[0.6666666666666666,\"#ed7953\"],[0.7777777777777778,\"#fb9f3a\"],[0.8888888888888888,\"#fdca26\"],[1.0,\"#f0f921\"]],\"type\":\"heatmap\"}],\"heatmapgl\":[{\"colorbar\":{\"outlinewidth\":0,\"ticks\":\"\"},\"colorscale\":[[0.0,\"#0d0887\"],[0.1111111111111111,\"#46039f\"],[0.2222222222222222,\"#7201a8\"],[0.3333333333333333,\"#9c179e\"],[0.4444444444444444,\"#bd3786\"],[0.5555555555555556,\"#d8576b\"],[0.6666666666666666,\"#ed7953\"],[0.7777777777777778,\"#fb9f3a\"],[0.8888888888888888,\"#fdca26\"],[1.0,\"#f0f921\"]],\"type\":\"heatmapgl\"}],\"histogram\":[{\"marker\":{\"pattern\":{\"fillmode\":\"overlay\",\"size\":10,\"solidity\":0.2}},\"type\":\"histogram\"}],\"histogram2d\":[{\"colorbar\":{\"outlinewidth\":0,\"ticks\":\"\"},\"colorscale\":[[0.0,\"#0d0887\"],[0.1111111111111111,\"#46039f\"],[0.2222222222222222,\"#7201a8\"],[0.3333333333333333,\"#9c179e\"],[0.4444444444444444,\"#bd3786\"],[0.5555555555555556,\"#d8576b\"],[0.6666666666666666,\"#ed7953\"],[0.7777777777777778,\"#fb9f3a\"],[0.8888888888888888,\"#fdca26\"],[1.0,\"#f0f921\"]],\"type\":\"histogram2d\"}],\"histogram2dcontour\":[{\"colorbar\":{\"outlinewidth\":0,\"ticks\":\"\"},\"colorscale\":[[0.0,\"#0d0887\"],[0.1111111111111111,\"#46039f\"],[0.2222222222222222,\"#7201a8\"],[0.3333333333333333,\"#9c179e\"],[0.4444444444444444,\"#bd3786\"],[0.5555555555555556,\"#d8576b\"],[0.6666666666666666,\"#ed7953\"],[0.7777777777777778,\"#fb9f3a\"],[0.8888888888888888,\"#fdca26\"],[1.0,\"#f0f921\"]],\"type\":\"histogram2dcontour\"}],\"mesh3d\":[{\"colorbar\":{\"outlinewidth\":0,\"ticks\":\"\"},\"type\":\"mesh3d\"}],\"parcoords\":[{\"line\":{\"colorbar\":{\"outlinewidth\":0,\"ticks\":\"\"}},\"type\":\"parcoords\"}],\"pie\":[{\"automargin\":true,\"type\":\"pie\"}],\"scatter\":[{\"marker\":{\"colorbar\":{\"outlinewidth\":0,\"ticks\":\"\"}},\"type\":\"scatter\"}],\"scatter3d\":[{\"line\":{\"colorbar\":{\"outlinewidth\":0,\"ticks\":\"\"}},\"marker\":{\"colorbar\":{\"outlinewidth\":0,\"ticks\":\"\"}},\"type\":\"scatter3d\"}],\"scattercarpet\":[{\"marker\":{\"colorbar\":{\"outlinewidth\":0,\"ticks\":\"\"}},\"type\":\"scattercarpet\"}],\"scattergeo\":[{\"marker\":{\"colorbar\":{\"outlinewidth\":0,\"ticks\":\"\"}},\"type\":\"scattergeo\"}],\"scattergl\":[{\"marker\":{\"colorbar\":{\"outlinewidth\":0,\"ticks\":\"\"}},\"type\":\"scattergl\"}],\"scattermapbox\":[{\"marker\":{\"colorbar\":{\"outlinewidth\":0,\"ticks\":\"\"}},\"type\":\"scattermapbox\"}],\"scatterpolar\":[{\"marker\":{\"colorbar\":{\"outlinewidth\":0,\"ticks\":\"\"}},\"type\":\"scatterpolar\"}],\"scatterpolargl\":[{\"marker\":{\"colorbar\":{\"outlinewidth\":0,\"ticks\":\"\"}},\"type\":\"scatterpolargl\"}],\"scatterternary\":[{\"marker\":{\"colorbar\":{\"outlinewidth\":0,\"ticks\":\"\"}},\"type\":\"scatterternary\"}],\"surface\":[{\"colorbar\":{\"outlinewidth\":0,\"ticks\":\"\"},\"colorscale\":[[0.0,\"#0d0887\"],[0.1111111111111111,\"#46039f\"],[0.2222222222222222,\"#7201a8\"],[0.3333333333333333,\"#9c179e\"],[0.4444444444444444,\"#bd3786\"],[0.5555555555555556,\"#d8576b\"],[0.6666666666666666,\"#ed7953\"],[0.7777777777777778,\"#fb9f3a\"],[0.8888888888888888,\"#fdca26\"],[1.0,\"#f0f921\"]],\"type\":\"surface\"}],\"table\":[{\"cells\":{\"fill\":{\"color\":\"#EBF0F8\"},\"line\":{\"color\":\"white\"}},\"header\":{\"fill\":{\"color\":\"#C8D4E3\"},\"line\":{\"color\":\"white\"}},\"type\":\"table\"}]},\"layout\":{\"annotationdefaults\":{\"arrowcolor\":\"#2a3f5f\",\"arrowhead\":0,\"arrowwidth\":1},\"autotypenumbers\":\"strict\",\"coloraxis\":{\"colorbar\":{\"outlinewidth\":0,\"ticks\":\"\"}},\"colorscale\":{\"diverging\":[[0,\"#8e0152\"],[0.1,\"#c51b7d\"],[0.2,\"#de77ae\"],[0.3,\"#f1b6da\"],[0.4,\"#fde0ef\"],[0.5,\"#f7f7f7\"],[0.6,\"#e6f5d0\"],[0.7,\"#b8e186\"],[0.8,\"#7fbc41\"],[0.9,\"#4d9221\"],[1,\"#276419\"]],\"sequential\":[[0.0,\"#0d0887\"],[0.1111111111111111,\"#46039f\"],[0.2222222222222222,\"#7201a8\"],[0.3333333333333333,\"#9c179e\"],[0.4444444444444444,\"#bd3786\"],[0.5555555555555556,\"#d8576b\"],[0.6666666666666666,\"#ed7953\"],[0.7777777777777778,\"#fb9f3a\"],[0.8888888888888888,\"#fdca26\"],[1.0,\"#f0f921\"]],\"sequentialminus\":[[0.0,\"#0d0887\"],[0.1111111111111111,\"#46039f\"],[0.2222222222222222,\"#7201a8\"],[0.3333333333333333,\"#9c179e\"],[0.4444444444444444,\"#bd3786\"],[0.5555555555555556,\"#d8576b\"],[0.6666666666666666,\"#ed7953\"],[0.7777777777777778,\"#fb9f3a\"],[0.8888888888888888,\"#fdca26\"],[1.0,\"#f0f921\"]]},\"colorway\":[\"#636efa\",\"#EF553B\",\"#00cc96\",\"#ab63fa\",\"#FFA15A\",\"#19d3f3\",\"#FF6692\",\"#B6E880\",\"#FF97FF\",\"#FECB52\"],\"font\":{\"color\":\"#2a3f5f\"},\"geo\":{\"bgcolor\":\"white\",\"lakecolor\":\"white\",\"landcolor\":\"#E5ECF6\",\"showlakes\":true,\"showland\":true,\"subunitcolor\":\"white\"},\"hoverlabel\":{\"align\":\"left\"},\"hovermode\":\"closest\",\"mapbox\":{\"style\":\"light\"},\"paper_bgcolor\":\"white\",\"plot_bgcolor\":\"#E5ECF6\",\"polar\":{\"angularaxis\":{\"gridcolor\":\"white\",\"linecolor\":\"white\",\"ticks\":\"\"},\"bgcolor\":\"#E5ECF6\",\"radialaxis\":{\"gridcolor\":\"white\",\"linecolor\":\"white\",\"ticks\":\"\"}},\"scene\":{\"xaxis\":{\"backgroundcolor\":\"#E5ECF6\",\"gridcolor\":\"white\",\"gridwidth\":2,\"linecolor\":\"white\",\"showbackground\":true,\"ticks\":\"\",\"zerolinecolor\":\"white\"},\"yaxis\":{\"backgroundcolor\":\"#E5ECF6\",\"gridcolor\":\"white\",\"gridwidth\":2,\"linecolor\":\"white\",\"showbackground\":true,\"ticks\":\"\",\"zerolinecolor\":\"white\"},\"zaxis\":{\"backgroundcolor\":\"#E5ECF6\",\"gridcolor\":\"white\",\"gridwidth\":2,\"linecolor\":\"white\",\"showbackground\":true,\"ticks\":\"\",\"zerolinecolor\":\"white\"}},\"shapedefaults\":{\"line\":{\"color\":\"#2a3f5f\"}},\"ternary\":{\"aaxis\":{\"gridcolor\":\"white\",\"linecolor\":\"white\",\"ticks\":\"\"},\"baxis\":{\"gridcolor\":\"white\",\"linecolor\":\"white\",\"ticks\":\"\"},\"bgcolor\":\"#E5ECF6\",\"caxis\":{\"gridcolor\":\"white\",\"linecolor\":\"white\",\"ticks\":\"\"}},\"title\":{\"x\":0.05},\"xaxis\":{\"automargin\":true,\"gridcolor\":\"white\",\"linecolor\":\"white\",\"ticks\":\"\",\"title\":{\"standoff\":15},\"zerolinecolor\":\"white\",\"zerolinewidth\":2},\"yaxis\":{\"automargin\":true,\"gridcolor\":\"white\",\"linecolor\":\"white\",\"ticks\":\"\",\"title\":{\"standoff\":15},\"zerolinecolor\":\"white\",\"zerolinewidth\":2}}},\"yaxis\":{\"title\":{\"text\":\"RMSE\"}}},                        {\"responsive\": true}                    ).then(function(){\n",
       "                            \n",
       "var gd = document.getElementById('f1ce8d51-f3e7-465b-a2c9-2af9cfee8bf6');\n",
       "var x = new MutationObserver(function (mutations, observer) {{\n",
       "        var display = window.getComputedStyle(gd).display;\n",
       "        if (!display || display === 'none') {{\n",
       "            console.log([gd, 'removed!']);\n",
       "            Plotly.purge(gd);\n",
       "            observer.disconnect();\n",
       "        }}\n",
       "}});\n",
       "\n",
       "// Listen for the removal of the full notebook cells\n",
       "var notebookContainer = gd.closest('#notebook-container');\n",
       "if (notebookContainer) {{\n",
       "    x.observe(notebookContainer, {childList: true});\n",
       "}}\n",
       "\n",
       "// Listen for the clearing of the current output cell\n",
       "var outputEl = gd.closest('.output');\n",
       "if (outputEl) {{\n",
       "    x.observe(outputEl, {childList: true});\n",
       "}}\n",
       "\n",
       "                        })                };                });            </script>        </div>"
      ]
     },
     "metadata": {},
     "output_type": "display_data"
    }
   ],
   "source": [
    "compare_models(models)"
   ]
  },
  {
   "cell_type": "markdown",
   "metadata": {},
   "source": [
    "Notice that adding the origin of the vehicle resulted in a small decrease in training error and validation error but adding the name resulted in a large decrease in training error and moderate increase in validation error.  The introduction of vehicle name feature resulted in overfitting.  To see why this might have happened let's look at the number of features in each model."
   ]
  },
  {
   "cell_type": "code",
   "execution_count": 69,
   "metadata": {},
   "outputs": [
    {
     "data": {
      "application/vnd.plotly.v1+json": {
       "config": {
        "plotlyServerURL": "https://plot.ly"
       },
       "data": [
        {
         "type": "bar",
         "x": [
          "c",
          "c,d",
          "c,d,h",
          "c,d,h,w",
          "c,d,h,w,a",
          "c,d,h,w,a,m",
          "c,d,h,w,a,m,o",
          "c,d,h,w,a,m,o,n"
         ],
         "y": [
          1,
          2,
          3,
          4,
          5,
          6,
          9,
          270
         ]
        }
       ],
       "layout": {
        "autosize": true,
        "template": {
         "data": {
          "bar": [
           {
            "error_x": {
             "color": "#2a3f5f"
            },
            "error_y": {
             "color": "#2a3f5f"
            },
            "marker": {
             "line": {
              "color": "#E5ECF6",
              "width": 0.5
             },
             "pattern": {
              "fillmode": "overlay",
              "size": 10,
              "solidity": 0.2
             }
            },
            "type": "bar"
           }
          ],
          "barpolar": [
           {
            "marker": {
             "line": {
              "color": "#E5ECF6",
              "width": 0.5
             },
             "pattern": {
              "fillmode": "overlay",
              "size": 10,
              "solidity": 0.2
             }
            },
            "type": "barpolar"
           }
          ],
          "carpet": [
           {
            "aaxis": {
             "endlinecolor": "#2a3f5f",
             "gridcolor": "white",
             "linecolor": "white",
             "minorgridcolor": "white",
             "startlinecolor": "#2a3f5f"
            },
            "baxis": {
             "endlinecolor": "#2a3f5f",
             "gridcolor": "white",
             "linecolor": "white",
             "minorgridcolor": "white",
             "startlinecolor": "#2a3f5f"
            },
            "type": "carpet"
           }
          ],
          "choropleth": [
           {
            "colorbar": {
             "outlinewidth": 0,
             "ticks": ""
            },
            "type": "choropleth"
           }
          ],
          "contour": [
           {
            "colorbar": {
             "outlinewidth": 0,
             "ticks": ""
            },
            "colorscale": [
             [
              0,
              "#0d0887"
             ],
             [
              0.1111111111111111,
              "#46039f"
             ],
             [
              0.2222222222222222,
              "#7201a8"
             ],
             [
              0.3333333333333333,
              "#9c179e"
             ],
             [
              0.4444444444444444,
              "#bd3786"
             ],
             [
              0.5555555555555556,
              "#d8576b"
             ],
             [
              0.6666666666666666,
              "#ed7953"
             ],
             [
              0.7777777777777778,
              "#fb9f3a"
             ],
             [
              0.8888888888888888,
              "#fdca26"
             ],
             [
              1,
              "#f0f921"
             ]
            ],
            "type": "contour"
           }
          ],
          "contourcarpet": [
           {
            "colorbar": {
             "outlinewidth": 0,
             "ticks": ""
            },
            "type": "contourcarpet"
           }
          ],
          "heatmap": [
           {
            "colorbar": {
             "outlinewidth": 0,
             "ticks": ""
            },
            "colorscale": [
             [
              0,
              "#0d0887"
             ],
             [
              0.1111111111111111,
              "#46039f"
             ],
             [
              0.2222222222222222,
              "#7201a8"
             ],
             [
              0.3333333333333333,
              "#9c179e"
             ],
             [
              0.4444444444444444,
              "#bd3786"
             ],
             [
              0.5555555555555556,
              "#d8576b"
             ],
             [
              0.6666666666666666,
              "#ed7953"
             ],
             [
              0.7777777777777778,
              "#fb9f3a"
             ],
             [
              0.8888888888888888,
              "#fdca26"
             ],
             [
              1,
              "#f0f921"
             ]
            ],
            "type": "heatmap"
           }
          ],
          "heatmapgl": [
           {
            "colorbar": {
             "outlinewidth": 0,
             "ticks": ""
            },
            "colorscale": [
             [
              0,
              "#0d0887"
             ],
             [
              0.1111111111111111,
              "#46039f"
             ],
             [
              0.2222222222222222,
              "#7201a8"
             ],
             [
              0.3333333333333333,
              "#9c179e"
             ],
             [
              0.4444444444444444,
              "#bd3786"
             ],
             [
              0.5555555555555556,
              "#d8576b"
             ],
             [
              0.6666666666666666,
              "#ed7953"
             ],
             [
              0.7777777777777778,
              "#fb9f3a"
             ],
             [
              0.8888888888888888,
              "#fdca26"
             ],
             [
              1,
              "#f0f921"
             ]
            ],
            "type": "heatmapgl"
           }
          ],
          "histogram": [
           {
            "marker": {
             "pattern": {
              "fillmode": "overlay",
              "size": 10,
              "solidity": 0.2
             }
            },
            "type": "histogram"
           }
          ],
          "histogram2d": [
           {
            "colorbar": {
             "outlinewidth": 0,
             "ticks": ""
            },
            "colorscale": [
             [
              0,
              "#0d0887"
             ],
             [
              0.1111111111111111,
              "#46039f"
             ],
             [
              0.2222222222222222,
              "#7201a8"
             ],
             [
              0.3333333333333333,
              "#9c179e"
             ],
             [
              0.4444444444444444,
              "#bd3786"
             ],
             [
              0.5555555555555556,
              "#d8576b"
             ],
             [
              0.6666666666666666,
              "#ed7953"
             ],
             [
              0.7777777777777778,
              "#fb9f3a"
             ],
             [
              0.8888888888888888,
              "#fdca26"
             ],
             [
              1,
              "#f0f921"
             ]
            ],
            "type": "histogram2d"
           }
          ],
          "histogram2dcontour": [
           {
            "colorbar": {
             "outlinewidth": 0,
             "ticks": ""
            },
            "colorscale": [
             [
              0,
              "#0d0887"
             ],
             [
              0.1111111111111111,
              "#46039f"
             ],
             [
              0.2222222222222222,
              "#7201a8"
             ],
             [
              0.3333333333333333,
              "#9c179e"
             ],
             [
              0.4444444444444444,
              "#bd3786"
             ],
             [
              0.5555555555555556,
              "#d8576b"
             ],
             [
              0.6666666666666666,
              "#ed7953"
             ],
             [
              0.7777777777777778,
              "#fb9f3a"
             ],
             [
              0.8888888888888888,
              "#fdca26"
             ],
             [
              1,
              "#f0f921"
             ]
            ],
            "type": "histogram2dcontour"
           }
          ],
          "mesh3d": [
           {
            "colorbar": {
             "outlinewidth": 0,
             "ticks": ""
            },
            "type": "mesh3d"
           }
          ],
          "parcoords": [
           {
            "line": {
             "colorbar": {
              "outlinewidth": 0,
              "ticks": ""
             }
            },
            "type": "parcoords"
           }
          ],
          "pie": [
           {
            "automargin": true,
            "type": "pie"
           }
          ],
          "scatter": [
           {
            "marker": {
             "colorbar": {
              "outlinewidth": 0,
              "ticks": ""
             }
            },
            "type": "scatter"
           }
          ],
          "scatter3d": [
           {
            "line": {
             "colorbar": {
              "outlinewidth": 0,
              "ticks": ""
             }
            },
            "marker": {
             "colorbar": {
              "outlinewidth": 0,
              "ticks": ""
             }
            },
            "type": "scatter3d"
           }
          ],
          "scattercarpet": [
           {
            "marker": {
             "colorbar": {
              "outlinewidth": 0,
              "ticks": ""
             }
            },
            "type": "scattercarpet"
           }
          ],
          "scattergeo": [
           {
            "marker": {
             "colorbar": {
              "outlinewidth": 0,
              "ticks": ""
             }
            },
            "type": "scattergeo"
           }
          ],
          "scattergl": [
           {
            "marker": {
             "colorbar": {
              "outlinewidth": 0,
              "ticks": ""
             }
            },
            "type": "scattergl"
           }
          ],
          "scattermapbox": [
           {
            "marker": {
             "colorbar": {
              "outlinewidth": 0,
              "ticks": ""
             }
            },
            "type": "scattermapbox"
           }
          ],
          "scatterpolar": [
           {
            "marker": {
             "colorbar": {
              "outlinewidth": 0,
              "ticks": ""
             }
            },
            "type": "scatterpolar"
           }
          ],
          "scatterpolargl": [
           {
            "marker": {
             "colorbar": {
              "outlinewidth": 0,
              "ticks": ""
             }
            },
            "type": "scatterpolargl"
           }
          ],
          "scatterternary": [
           {
            "marker": {
             "colorbar": {
              "outlinewidth": 0,
              "ticks": ""
             }
            },
            "type": "scatterternary"
           }
          ],
          "surface": [
           {
            "colorbar": {
             "outlinewidth": 0,
             "ticks": ""
            },
            "colorscale": [
             [
              0,
              "#0d0887"
             ],
             [
              0.1111111111111111,
              "#46039f"
             ],
             [
              0.2222222222222222,
              "#7201a8"
             ],
             [
              0.3333333333333333,
              "#9c179e"
             ],
             [
              0.4444444444444444,
              "#bd3786"
             ],
             [
              0.5555555555555556,
              "#d8576b"
             ],
             [
              0.6666666666666666,
              "#ed7953"
             ],
             [
              0.7777777777777778,
              "#fb9f3a"
             ],
             [
              0.8888888888888888,
              "#fdca26"
             ],
             [
              1,
              "#f0f921"
             ]
            ],
            "type": "surface"
           }
          ],
          "table": [
           {
            "cells": {
             "fill": {
              "color": "#EBF0F8"
             },
             "line": {
              "color": "white"
             }
            },
            "header": {
             "fill": {
              "color": "#C8D4E3"
             },
             "line": {
              "color": "white"
             }
            },
            "type": "table"
           }
          ]
         },
         "layout": {
          "annotationdefaults": {
           "arrowcolor": "#2a3f5f",
           "arrowhead": 0,
           "arrowwidth": 1
          },
          "autotypenumbers": "strict",
          "coloraxis": {
           "colorbar": {
            "outlinewidth": 0,
            "ticks": ""
           }
          },
          "colorscale": {
           "diverging": [
            [
             0,
             "#8e0152"
            ],
            [
             0.1,
             "#c51b7d"
            ],
            [
             0.2,
             "#de77ae"
            ],
            [
             0.3,
             "#f1b6da"
            ],
            [
             0.4,
             "#fde0ef"
            ],
            [
             0.5,
             "#f7f7f7"
            ],
            [
             0.6,
             "#e6f5d0"
            ],
            [
             0.7,
             "#b8e186"
            ],
            [
             0.8,
             "#7fbc41"
            ],
            [
             0.9,
             "#4d9221"
            ],
            [
             1,
             "#276419"
            ]
           ],
           "sequential": [
            [
             0,
             "#0d0887"
            ],
            [
             0.1111111111111111,
             "#46039f"
            ],
            [
             0.2222222222222222,
             "#7201a8"
            ],
            [
             0.3333333333333333,
             "#9c179e"
            ],
            [
             0.4444444444444444,
             "#bd3786"
            ],
            [
             0.5555555555555556,
             "#d8576b"
            ],
            [
             0.6666666666666666,
             "#ed7953"
            ],
            [
             0.7777777777777778,
             "#fb9f3a"
            ],
            [
             0.8888888888888888,
             "#fdca26"
            ],
            [
             1,
             "#f0f921"
            ]
           ],
           "sequentialminus": [
            [
             0,
             "#0d0887"
            ],
            [
             0.1111111111111111,
             "#46039f"
            ],
            [
             0.2222222222222222,
             "#7201a8"
            ],
            [
             0.3333333333333333,
             "#9c179e"
            ],
            [
             0.4444444444444444,
             "#bd3786"
            ],
            [
             0.5555555555555556,
             "#d8576b"
            ],
            [
             0.6666666666666666,
             "#ed7953"
            ],
            [
             0.7777777777777778,
             "#fb9f3a"
            ],
            [
             0.8888888888888888,
             "#fdca26"
            ],
            [
             1,
             "#f0f921"
            ]
           ]
          },
          "colorway": [
           "#636efa",
           "#EF553B",
           "#00cc96",
           "#ab63fa",
           "#FFA15A",
           "#19d3f3",
           "#FF6692",
           "#B6E880",
           "#FF97FF",
           "#FECB52"
          ],
          "font": {
           "color": "#2a3f5f"
          },
          "geo": {
           "bgcolor": "white",
           "lakecolor": "white",
           "landcolor": "#E5ECF6",
           "showlakes": true,
           "showland": true,
           "subunitcolor": "white"
          },
          "hoverlabel": {
           "align": "left"
          },
          "hovermode": "closest",
          "mapbox": {
           "style": "light"
          },
          "paper_bgcolor": "white",
          "plot_bgcolor": "#E5ECF6",
          "polar": {
           "angularaxis": {
            "gridcolor": "white",
            "linecolor": "white",
            "ticks": ""
           },
           "bgcolor": "#E5ECF6",
           "radialaxis": {
            "gridcolor": "white",
            "linecolor": "white",
            "ticks": ""
           }
          },
          "scene": {
           "xaxis": {
            "backgroundcolor": "#E5ECF6",
            "gridcolor": "white",
            "gridwidth": 2,
            "linecolor": "white",
            "showbackground": true,
            "ticks": "",
            "zerolinecolor": "white"
           },
           "yaxis": {
            "backgroundcolor": "#E5ECF6",
            "gridcolor": "white",
            "gridwidth": 2,
            "linecolor": "white",
            "showbackground": true,
            "ticks": "",
            "zerolinecolor": "white"
           },
           "zaxis": {
            "backgroundcolor": "#E5ECF6",
            "gridcolor": "white",
            "gridwidth": 2,
            "linecolor": "white",
            "showbackground": true,
            "ticks": "",
            "zerolinecolor": "white"
           }
          },
          "shapedefaults": {
           "line": {
            "color": "#2a3f5f"
           }
          },
          "ternary": {
           "aaxis": {
            "gridcolor": "white",
            "linecolor": "white",
            "ticks": ""
           },
           "baxis": {
            "gridcolor": "white",
            "linecolor": "white",
            "ticks": ""
           },
           "bgcolor": "#E5ECF6",
           "caxis": {
            "gridcolor": "white",
            "linecolor": "white",
            "ticks": ""
           }
          },
          "title": {
           "x": 0.05
          },
          "xaxis": {
           "automargin": true,
           "gridcolor": "white",
           "linecolor": "white",
           "ticks": "",
           "title": {
            "standoff": 15
           },
           "zerolinecolor": "white",
           "zerolinewidth": 2
          },
          "yaxis": {
           "automargin": true,
           "gridcolor": "white",
           "linecolor": "white",
           "ticks": "",
           "title": {
            "standoff": 15
           },
           "zerolinecolor": "white",
           "zerolinewidth": 2
          }
         }
        },
        "xaxis": {
         "autorange": true,
         "range": [
          -0.5,
          7.5
         ],
         "type": "category"
        },
        "yaxis": {
         "autorange": true,
         "range": [
          -0.1350757646754993,
          2.566439528834487
         ],
         "title": {
          "text": "Number of Features"
         },
         "type": "log"
        }
       }
      },
      "image/png": "[encoded data removed]",
      "text/html": [
       "<div>                            <div id=\"011edb3b-c77e-4ebc-a663-ff2c1573bc97\" class=\"plotly-graph-div\" style=\"height:525px; width:100%;\"></div>            <script type=\"text/javascript\">                require([\"plotly\"], function(Plotly) {                    window.PLOTLYENV=window.PLOTLYENV || {};                                    if (document.getElementById(\"011edb3b-c77e-4ebc-a663-ff2c1573bc97\")) {                    Plotly.newPlot(                        \"011edb3b-c77e-4ebc-a663-ff2c1573bc97\",                        [{\"type\":\"bar\",\"x\":[\"c\",\"c,d\",\"c,d,h\",\"c,d,h,w\",\"c,d,h,w,a\",\"c,d,h,w,a,m\",\"c,d,h,w,a,m,o\",\"c,d,h,w,a,m,o,n\"],\"y\":[1,2,3,4,5,6,9,270]}],                        {\"template\":{\"data\":{\"bar\":[{\"error_x\":{\"color\":\"#2a3f5f\"},\"error_y\":{\"color\":\"#2a3f5f\"},\"marker\":{\"line\":{\"color\":\"#E5ECF6\",\"width\":0.5},\"pattern\":{\"fillmode\":\"overlay\",\"size\":10,\"solidity\":0.2}},\"type\":\"bar\"}],\"barpolar\":[{\"marker\":{\"line\":{\"color\":\"#E5ECF6\",\"width\":0.5},\"pattern\":{\"fillmode\":\"overlay\",\"size\":10,\"solidity\":0.2}},\"type\":\"barpolar\"}],\"carpet\":[{\"aaxis\":{\"endlinecolor\":\"#2a3f5f\",\"gridcolor\":\"white\",\"linecolor\":\"white\",\"minorgridcolor\":\"white\",\"startlinecolor\":\"#2a3f5f\"},\"baxis\":{\"endlinecolor\":\"#2a3f5f\",\"gridcolor\":\"white\",\"linecolor\":\"white\",\"minorgridcolor\":\"white\",\"startlinecolor\":\"#2a3f5f\"},\"type\":\"carpet\"}],\"choropleth\":[{\"colorbar\":{\"outlinewidth\":0,\"ticks\":\"\"},\"type\":\"choropleth\"}],\"contour\":[{\"colorbar\":{\"outlinewidth\":0,\"ticks\":\"\"},\"colorscale\":[[0.0,\"#0d0887\"],[0.1111111111111111,\"#46039f\"],[0.2222222222222222,\"#7201a8\"],[0.3333333333333333,\"#9c179e\"],[0.4444444444444444,\"#bd3786\"],[0.5555555555555556,\"#d8576b\"],[0.6666666666666666,\"#ed7953\"],[0.7777777777777778,\"#fb9f3a\"],[0.8888888888888888,\"#fdca26\"],[1.0,\"#f0f921\"]],\"type\":\"contour\"}],\"contourcarpet\":[{\"colorbar\":{\"outlinewidth\":0,\"ticks\":\"\"},\"type\":\"contourcarpet\"}],\"heatmap\":[{\"colorbar\":{\"outlinewidth\":0,\"ticks\":\"\"},\"colorscale\":[[0.0,\"#0d0887\"],[0.1111111111111111,\"#46039f\"],[0.2222222222222222,\"#7201a8\"],[0.3333333333333333,\"#9c179e\"],[0.4444444444444444,\"#bd3786\"],[0.5555555555555556,\"#d8576b\"],[0.6666666666666666,\"#ed7953\"],[0.7777777777777778,\"#fb9f3a\"],[0.8888888888888888,\"#fdca26\"],[1.0,\"#f0f921\"]],\"type\":\"heatmap\"}],\"heatmapgl\":[{\"colorbar\":{\"outlinewidth\":0,\"ticks\":\"\"},\"colorscale\":[[0.0,\"#0d0887\"],[0.1111111111111111,\"#46039f\"],[0.2222222222222222,\"#7201a8\"],[0.3333333333333333,\"#9c179e\"],[0.4444444444444444,\"#bd3786\"],[0.5555555555555556,\"#d8576b\"],[0.6666666666666666,\"#ed7953\"],[0.7777777777777778,\"#fb9f3a\"],[0.8888888888888888,\"#fdca26\"],[1.0,\"#f0f921\"]],\"type\":\"heatmapgl\"}],\"histogram\":[{\"marker\":{\"pattern\":{\"fillmode\":\"overlay\",\"size\":10,\"solidity\":0.2}},\"type\":\"histogram\"}],\"histogram2d\":[{\"colorbar\":{\"outlinewidth\":0,\"ticks\":\"\"},\"colorscale\":[[0.0,\"#0d0887\"],[0.1111111111111111,\"#46039f\"],[0.2222222222222222,\"#7201a8\"],[0.3333333333333333,\"#9c179e\"],[0.4444444444444444,\"#bd3786\"],[0.5555555555555556,\"#d8576b\"],[0.6666666666666666,\"#ed7953\"],[0.7777777777777778,\"#fb9f3a\"],[0.8888888888888888,\"#fdca26\"],[1.0,\"#f0f921\"]],\"type\":\"histogram2d\"}],\"histogram2dcontour\":[{\"colorbar\":{\"outlinewidth\":0,\"ticks\":\"\"},\"colorscale\":[[0.0,\"#0d0887\"],[0.1111111111111111,\"#46039f\"],[0.2222222222222222,\"#7201a8\"],[0.3333333333333333,\"#9c179e\"],[0.4444444444444444,\"#bd3786\"],[0.5555555555555556,\"#d8576b\"],[0.6666666666666666,\"#ed7953\"],[0.7777777777777778,\"#fb9f3a\"],[0.8888888888888888,\"#fdca26\"],[1.0,\"#f0f921\"]],\"type\":\"histogram2dcontour\"}],\"mesh3d\":[{\"colorbar\":{\"outlinewidth\":0,\"ticks\":\"\"},\"type\":\"mesh3d\"}],\"parcoords\":[{\"line\":{\"colorbar\":{\"outlinewidth\":0,\"ticks\":\"\"}},\"type\":\"parcoords\"}],\"pie\":[{\"automargin\":true,\"type\":\"pie\"}],\"scatter\":[{\"marker\":{\"colorbar\":{\"outlinewidth\":0,\"ticks\":\"\"}},\"type\":\"scatter\"}],\"scatter3d\":[{\"line\":{\"colorbar\":{\"outlinewidth\":0,\"ticks\":\"\"}},\"marker\":{\"colorbar\":{\"outlinewidth\":0,\"ticks\":\"\"}},\"type\":\"scatter3d\"}],\"scattercarpet\":[{\"marker\":{\"colorbar\":{\"outlinewidth\":0,\"ticks\":\"\"}},\"type\":\"scattercarpet\"}],\"scattergeo\":[{\"marker\":{\"colorbar\":{\"outlinewidth\":0,\"ticks\":\"\"}},\"type\":\"scattergeo\"}],\"scattergl\":[{\"marker\":{\"colorbar\":{\"outlinewidth\":0,\"ticks\":\"\"}},\"type\":\"scattergl\"}],\"scattermapbox\":[{\"marker\":{\"colorbar\":{\"outlinewidth\":0,\"ticks\":\"\"}},\"type\":\"scattermapbox\"}],\"scatterpolar\":[{\"marker\":{\"colorbar\":{\"outlinewidth\":0,\"ticks\":\"\"}},\"type\":\"scatterpolar\"}],\"scatterpolargl\":[{\"marker\":{\"colorbar\":{\"outlinewidth\":0,\"ticks\":\"\"}},\"type\":\"scatterpolargl\"}],\"scatterternary\":[{\"marker\":{\"colorbar\":{\"outlinewidth\":0,\"ticks\":\"\"}},\"type\":\"scatterternary\"}],\"surface\":[{\"colorbar\":{\"outlinewidth\":0,\"ticks\":\"\"},\"colorscale\":[[0.0,\"#0d0887\"],[0.1111111111111111,\"#46039f\"],[0.2222222222222222,\"#7201a8\"],[0.3333333333333333,\"#9c179e\"],[0.4444444444444444,\"#bd3786\"],[0.5555555555555556,\"#d8576b\"],[0.6666666666666666,\"#ed7953\"],[0.7777777777777778,\"#fb9f3a\"],[0.8888888888888888,\"#fdca26\"],[1.0,\"#f0f921\"]],\"type\":\"surface\"}],\"table\":[{\"cells\":{\"fill\":{\"color\":\"#EBF0F8\"},\"line\":{\"color\":\"white\"}},\"header\":{\"fill\":{\"color\":\"#C8D4E3\"},\"line\":{\"color\":\"white\"}},\"type\":\"table\"}]},\"layout\":{\"annotationdefaults\":{\"arrowcolor\":\"#2a3f5f\",\"arrowhead\":0,\"arrowwidth\":1},\"autotypenumbers\":\"strict\",\"coloraxis\":{\"colorbar\":{\"outlinewidth\":0,\"ticks\":\"\"}},\"colorscale\":{\"diverging\":[[0,\"#8e0152\"],[0.1,\"#c51b7d\"],[0.2,\"#de77ae\"],[0.3,\"#f1b6da\"],[0.4,\"#fde0ef\"],[0.5,\"#f7f7f7\"],[0.6,\"#e6f5d0\"],[0.7,\"#b8e186\"],[0.8,\"#7fbc41\"],[0.9,\"#4d9221\"],[1,\"#276419\"]],\"sequential\":[[0.0,\"#0d0887\"],[0.1111111111111111,\"#46039f\"],[0.2222222222222222,\"#7201a8\"],[0.3333333333333333,\"#9c179e\"],[0.4444444444444444,\"#bd3786\"],[0.5555555555555556,\"#d8576b\"],[0.6666666666666666,\"#ed7953\"],[0.7777777777777778,\"#fb9f3a\"],[0.8888888888888888,\"#fdca26\"],[1.0,\"#f0f921\"]],\"sequentialminus\":[[0.0,\"#0d0887\"],[0.1111111111111111,\"#46039f\"],[0.2222222222222222,\"#7201a8\"],[0.3333333333333333,\"#9c179e\"],[0.4444444444444444,\"#bd3786\"],[0.5555555555555556,\"#d8576b\"],[0.6666666666666666,\"#ed7953\"],[0.7777777777777778,\"#fb9f3a\"],[0.8888888888888888,\"#fdca26\"],[1.0,\"#f0f921\"]]},\"colorway\":[\"#636efa\",\"#EF553B\",\"#00cc96\",\"#ab63fa\",\"#FFA15A\",\"#19d3f3\",\"#FF6692\",\"#B6E880\",\"#FF97FF\",\"#FECB52\"],\"font\":{\"color\":\"#2a3f5f\"},\"geo\":{\"bgcolor\":\"white\",\"lakecolor\":\"white\",\"landcolor\":\"#E5ECF6\",\"showlakes\":true,\"showland\":true,\"subunitcolor\":\"white\"},\"hoverlabel\":{\"align\":\"left\"},\"hovermode\":\"closest\",\"mapbox\":{\"style\":\"light\"},\"paper_bgcolor\":\"white\",\"plot_bgcolor\":\"#E5ECF6\",\"polar\":{\"angularaxis\":{\"gridcolor\":\"white\",\"linecolor\":\"white\",\"ticks\":\"\"},\"bgcolor\":\"#E5ECF6\",\"radialaxis\":{\"gridcolor\":\"white\",\"linecolor\":\"white\",\"ticks\":\"\"}},\"scene\":{\"xaxis\":{\"backgroundcolor\":\"#E5ECF6\",\"gridcolor\":\"white\",\"gridwidth\":2,\"linecolor\":\"white\",\"showbackground\":true,\"ticks\":\"\",\"zerolinecolor\":\"white\"},\"yaxis\":{\"backgroundcolor\":\"#E5ECF6\",\"gridcolor\":\"white\",\"gridwidth\":2,\"linecolor\":\"white\",\"showbackground\":true,\"ticks\":\"\",\"zerolinecolor\":\"white\"},\"zaxis\":{\"backgroundcolor\":\"#E5ECF6\",\"gridcolor\":\"white\",\"gridwidth\":2,\"linecolor\":\"white\",\"showbackground\":true,\"ticks\":\"\",\"zerolinecolor\":\"white\"}},\"shapedefaults\":{\"line\":{\"color\":\"#2a3f5f\"}},\"ternary\":{\"aaxis\":{\"gridcolor\":\"white\",\"linecolor\":\"white\",\"ticks\":\"\"},\"baxis\":{\"gridcolor\":\"white\",\"linecolor\":\"white\",\"ticks\":\"\"},\"bgcolor\":\"#E5ECF6\",\"caxis\":{\"gridcolor\":\"white\",\"linecolor\":\"white\",\"ticks\":\"\"}},\"title\":{\"x\":0.05},\"xaxis\":{\"automargin\":true,\"gridcolor\":\"white\",\"linecolor\":\"white\",\"ticks\":\"\",\"title\":{\"standoff\":15},\"zerolinecolor\":\"white\",\"zerolinewidth\":2},\"yaxis\":{\"automargin\":true,\"gridcolor\":\"white\",\"linecolor\":\"white\",\"ticks\":\"\",\"title\":{\"standoff\":15},\"zerolinecolor\":\"white\",\"zerolinewidth\":2}}},\"yaxis\":{\"title\":{\"text\":\"Number of Features\"},\"type\":\"log\"}},                        {\"responsive\": true}                    ).then(function(){\n",
       "                            \n",
       "var gd = document.getElementById('011edb3b-c77e-4ebc-a663-ff2c1573bc97');\n",
       "var x = new MutationObserver(function (mutations, observer) {{\n",
       "        var display = window.getComputedStyle(gd).display;\n",
       "        if (!display || display === 'none') {{\n",
       "            console.log([gd, 'removed!']);\n",
       "            Plotly.purge(gd);\n",
       "            observer.disconnect();\n",
       "        }}\n",
       "}});\n",
       "\n",
       "// Listen for the removal of the full notebook cells\n",
       "var notebookContainer = gd.closest('#notebook-container');\n",
       "if (notebookContainer) {{\n",
       "    x.observe(notebookContainer, {childList: true});\n",
       "}}\n",
       "\n",
       "// Listen for the clearing of the current output cell\n",
       "var outputEl = gd.closest('.output');\n",
       "if (outputEl) {{\n",
       "    x.observe(outputEl, {childList: true});\n",
       "}}\n",
       "\n",
       "                        })                };                });            </script>        </div>"
      ]
     },
     "metadata": {},
     "output_type": "display_data"
    }
   ],
   "source": [
    "fig = go.Figure()\n",
    "fig.add_trace(go.Bar(\n",
    "    x = list(models.keys()), \n",
    "    y = [len(models[m][\"LinearModel\"].coef_) for m in models]\n",
    "))\n",
    "fig.update_yaxes(title=\"Number of Features\",type=\"log\")"
   ]
  },
  {
   "cell_type": "markdown",
   "metadata": {},
   "source": [
    "Notice that the above plot is in log scale on the y axis!  The addition of the model name resulted in a large jump in features.  Perhaps some of these new features are useful and some are not.  What we really want now is a mechanism to select which of these features to keep and which to ignore or down-weight.  This can be done by using regularization. "
   ]
  },
  {
   "cell_type": "markdown",
   "metadata": {},
   "source": [
    "## Regularization\n",
    "\n",
    "Broadly speaking, regularization refers to methods used to control over-fitting.  However, in this class we will focus on parametric regularization techniques."
   ]
  },
  {
   "cell_type": "markdown",
   "metadata": {},
   "source": [
    "The simplest way to think about regularization is in the context of our original loss minimization problem. Recall we defined the loss function which determines what is the best parameter value $\\hat{\\theta}$ for our model. \n",
    "\n",
    "$$\n",
    "\\hat{\\theta} = \\arg \\min_\\theta \\frac{1}{n} \\sum_{i=1}^n \\textbf{Loss}\\left(Y_i, f_\\theta(X_i)\\right)\n",
    "$$\n",
    "\n",
    "The loss captures how well our model fits the data.  What we need is a way to a way to penalize models that over-fit to the data.  We can do this by adding an extra term to our loss minimization problem:\n",
    "\n",
    "\n",
    "$$\n",
    "\\hat{\\theta} = \\arg \\min_\\theta \\frac{1}{n} \\sum_{i=1}^n \\textbf{Loss}\\left(Y_i, f_\\theta(X_i)\\right) + \\alpha \\textbf{Reg}(f_\\theta, X, Y)\n",
    "$$\n",
    "\n",
    "The **Reg** function measures how much our model overfits and $\\alpha$ parameter (really hyper-parameter) allows us balance fitting our data and overfitting. The remaining challenge is how to define this **Reg** function and determine the value of our additional $\\alpha$ parameter.  \n"
   ]
  },
  {
   "cell_type": "markdown",
   "metadata": {},
   "source": [
    "### The Regularization Hyper-parameter\n",
    "The $\\alpha$ parameter is our regularization **hyper-parameter**.  It is a hyper-parameter because it is not a model parameter but a choice of how we want to balance fitting the data and \"over-fitting\".  The goal is to find a value of this hyper-parameter to maximize our accuracy on the **test data**. However, **we can't use the test data to make modeling decisions** so we turn to cross validation.  The standard way to find the best $\\alpha$ is to try a bunch of values (perhaps using binary search) and take the one with the lowest cross validation error. \n",
    "\n",
    "You may have noticed that in the video lecture we use $\\lambda$ instead of $\\alpha$.  This is because many textbooks use $\\lambda$ and sklearn uses $\\alpha$."
   ]
  },
  {
   "cell_type": "markdown",
   "metadata": {},
   "source": [
    "### The Regularization Function \n",
    "\n",
    "In our cartoon formulation of the regularized loss, the regularization function **Reg** is supposed to \"measure\" how much our model \"overfits\".  It depends on the model parameters and also can depend on the data.  An obvious choice for this function could be the gap between training and cross validation error but that is difficult to optimize and somewhat circular since both training and validation error depend on solving the regularized loss minimization problem. \n",
    "\n",
    "We have already seen that the more features we have the more likely we are to overfit to our data.  For our linear model, if we set a parameter to 0 then that is the same as not having that feature.  Therefore, one possible regularization function could be to count the non-zero parameters in our model.\n",
    "\n",
    "$$\n",
    "\\textbf{Reg}(\\theta) = \\sum_{k=1}^d (\\theta_i \\neq 0)\n",
    "$$\n",
    "\n",
    "To minimize this function would be to ignore all the features and that would certainly not overfit.  This is actually, the \"feature selection\" regularization objective.  Unfortunately, optimizing this objective is very hard (NP-Hard).  \n",
    "\n",
    "However, there are some good approximations we can use:\n",
    "\n",
    "$$\n",
    "\\textbf{Reg}^\\text{ridge}(\\theta) = \\sum_{k=1}^d \\theta_i^2\n",
    "$$\n",
    "\n",
    "and\n",
    "\n",
    "$$\n",
    "\\textbf{Reg}^\\text{lasso}(\\theta) = \\sum_{k=1}^d \\left|\\theta_i \\right|\n",
    "$$\n",
    "\n",
    "Each of these regularization functions (and their combination) give rise to different regression techniques.\n",
    "\n"
   ]
  },
  {
   "cell_type": "markdown",
   "metadata": {},
   "source": [
    "### Ridge Regression\n",
    "\n",
    "Ridge regression combines the ridge (L2, Squared) regularization function with the least squares loss.  \n",
    "\n",
    "\n",
    "$$\n",
    "\\hat{\\theta}_\\alpha = \\arg \\min_\\theta \\left(\\frac{1}{n} \\sum_{i=1}^n \\left(Y_i -  f_\\theta(X_i)\\right)^2 \\right) + \\alpha \\sum_{k=1}^d \\theta_k^2\n",
    "$$\n",
    "\n",
    "\n",
    "\n",
    "Ridge regression, like ordinary least squares regression, also has a closed form solution for the optimal $\\hat{\\theta}_\\alpha$\n",
    "\n",
    "$$\n",
    "\\hat{\\theta}_\\alpha = \\left(X^T X + n \\alpha \\mathbf{I}\\right)^{-1} X^T Y\n",
    "$$\n",
    "\n",
    "where $\\mathbf{I}$ is the identity matrix, $n$ is the number of data points, and $\\alpha$ is the regularization hyper-parameter.\n",
    "\n",
    "Notice that even if $X^T X$ is not full rank, the addition of $n \\alpha \\mathbf{I}$ (which is full rank) makes $\\left(X^T X + n \\alpha \\mathbf{I}\\right)$ invertible.  Thus, ridge regression addresses our earlier issue of having an underdetermined system and partially improves the numerical stability of the solution. "
   ]
  },
  {
   "cell_type": "markdown",
   "metadata": {},
   "source": [
    "### Lasso Regression\n",
    "\n",
    "Lasso regression combines the absolute (L1) regularization function with the least squares loss.  \n",
    "\n",
    "$$\n",
    "\\hat{\\theta}_\\alpha = \\arg \\min_\\theta \\left(\\frac{1}{n} \\sum_{i=1}^n \\left(Y_i -  f_\\theta(X_i)\\right)^2 \\right) + \\alpha \\sum_{k=1}^d |\\theta_k|\n",
    "$$\n",
    "\n",
    "Lasso is actually an acronym (and a cool name) which stands for Least Absolute Shrinkage and Selection Operator.  It is an absolute operator because it is the absolute value.  It is a shrinkage operator because it favors smaller parameter values.  It is a selection operator because it has the peculiar property of pushing parameter values all the way to zero thereby selecting the remaining features.  It is this last property that makes Lasso regression so useful. By using Lasso regression and setting sufficiently large value of $\\alpha$ you can eliminate features that are not informative. \n",
    "\n",
    "Unfortunately, there is no closed form solution for Lasso regression and so iterative optimization algorithms like gradient descent are typically used. "
   ]
  },
  {
   "cell_type": "markdown",
   "metadata": {},
   "source": [
    "### Normalizing the Features\n",
    "\n",
    "When applying Ridge or Lasso regression it is important that you normalize your features.  Why (think about it for a second)?  \n",
    "\n",
    "The issue is that if you have very large and very small features then the relative magnitudes of the coefficients may differ substantially.  Think of the coefficients as unit translations from units of features (e.g., cubic centimeters, and horse power) to units of the thing you are trying to predict (e.g., miles per gallon).  The regularization function treats all these unit translation coefficients equally but some may *need* to be much larger than others.  Therefore, by *standardizing the features* we can address this variation.   You can standardize a feature by computing:\n",
    "\n",
    "$$\n",
    "z = \\frac{x - \\textbf{Mean}(x)}{\\textbf{StdDev}(x)}\n",
    "$$"
   ]
  },
  {
   "cell_type": "markdown",
   "metadata": {},
   "source": [
    "## Ridge Regression in SK Learn\n",
    "\n",
    "Both Ridge Regression and Lasso are built-in functions in SKLearn.  Let's start by importing the `Ridge` Regression class which behaves identically to the `LinearRegression` class we used earlier:"
   ]
  },
  {
   "cell_type": "code",
   "execution_count": 70,
   "metadata": {},
   "outputs": [],
   "source": [
    "from sklearn.linear_model import Ridge"
   ]
  },
  {
   "cell_type": "markdown",
   "metadata": {},
   "source": [
    "Take a look at the documentation.  Notice the regularized loss function. "
   ]
  },
  {
   "cell_type": "code",
   "execution_count": 71,
   "metadata": {},
   "outputs": [
    {
     "data": {
      "text/plain": [
       "\u001b[0;31mInit signature:\u001b[0m\n",
       "\u001b[0mRidge\u001b[0m\u001b[0;34m(\u001b[0m\u001b[0;34m\u001b[0m\n",
       "\u001b[0;34m\u001b[0m    \u001b[0malpha\u001b[0m\u001b[0;34m=\u001b[0m\u001b[0;36m1.0\u001b[0m\u001b[0;34m,\u001b[0m\u001b[0;34m\u001b[0m\n",
       "\u001b[0;34m\u001b[0m    \u001b[0;34m*\u001b[0m\u001b[0;34m,\u001b[0m\u001b[0;34m\u001b[0m\n",
       "\u001b[0;34m\u001b[0m    \u001b[0mfit_intercept\u001b[0m\u001b[0;34m=\u001b[0m\u001b[0;32mTrue\u001b[0m\u001b[0;34m,\u001b[0m\u001b[0;34m\u001b[0m\n",
       "\u001b[0;34m\u001b[0m    \u001b[0mnormalize\u001b[0m\u001b[0;34m=\u001b[0m\u001b[0;32mFalse\u001b[0m\u001b[0;34m,\u001b[0m\u001b[0;34m\u001b[0m\n",
       "\u001b[0;34m\u001b[0m    \u001b[0mcopy_X\u001b[0m\u001b[0;34m=\u001b[0m\u001b[0;32mTrue\u001b[0m\u001b[0;34m,\u001b[0m\u001b[0;34m\u001b[0m\n",
       "\u001b[0;34m\u001b[0m    \u001b[0mmax_iter\u001b[0m\u001b[0;34m=\u001b[0m\u001b[0;32mNone\u001b[0m\u001b[0;34m,\u001b[0m\u001b[0;34m\u001b[0m\n",
       "\u001b[0;34m\u001b[0m    \u001b[0mtol\u001b[0m\u001b[0;34m=\u001b[0m\u001b[0;36m0.001\u001b[0m\u001b[0;34m,\u001b[0m\u001b[0;34m\u001b[0m\n",
       "\u001b[0;34m\u001b[0m    \u001b[0msolver\u001b[0m\u001b[0;34m=\u001b[0m\u001b[0;34m'auto'\u001b[0m\u001b[0;34m,\u001b[0m\u001b[0;34m\u001b[0m\n",
       "\u001b[0;34m\u001b[0m    \u001b[0mrandom_state\u001b[0m\u001b[0;34m=\u001b[0m\u001b[0;32mNone\u001b[0m\u001b[0;34m,\u001b[0m\u001b[0;34m\u001b[0m\n",
       "\u001b[0;34m\u001b[0m\u001b[0;34m)\u001b[0m\u001b[0;34m\u001b[0m\u001b[0;34m\u001b[0m\u001b[0m\n",
       "\u001b[0;31mDocstring:\u001b[0m     \n",
       "Linear least squares with l2 regularization.\n",
       "\n",
       "Minimizes the objective function::\n",
       "\n",
       "||y - Xw||^2_2 + alpha * ||w||^2_2\n",
       "\n",
       "This model solves a regression model where the loss function is\n",
       "the linear least squares function and regularization is given by\n",
       "the l2-norm. Also known as Ridge Regression or Tikhonov regularization.\n",
       "This estimator has built-in support for multi-variate regression\n",
       "(i.e., when y is a 2d-array of shape (n_samples, n_targets)).\n",
       "\n",
       "Read more in the :ref:`User Guide <ridge_regression>`.\n",
       "\n",
       "Parameters\n",
       "----------\n",
       "alpha : {float, ndarray of shape (n_targets,)}, default=1.0\n",
       "    Regularization strength; must be a positive float. Regularization\n",
       "    improves the conditioning of the problem and reduces the variance of\n",
       "    the estimates. Larger values specify stronger regularization.\n",
       "    Alpha corresponds to ``1 / (2C)`` in other linear models such as\n",
       "    :class:`~sklearn.linear_model.LogisticRegression` or\n",
       "    :class:`~sklearn.svm.LinearSVC`. If an array is passed, penalties are\n",
       "    assumed to be specific to the targets. Hence they must correspond in\n",
       "    number.\n",
       "\n",
       "fit_intercept : bool, default=True\n",
       "    Whether to fit the intercept for this model. If set\n",
       "    to false, no intercept will be used in calculations\n",
       "    (i.e. ``X`` and ``y`` are expected to be centered).\n",
       "\n",
       "normalize : bool, default=False\n",
       "    This parameter is ignored when ``fit_intercept`` is set to False.\n",
       "    If True, the regressors X will be normalized before regression by\n",
       "    subtracting the mean and dividing by the l2-norm.\n",
       "    If you wish to standardize, please use\n",
       "    :class:`~sklearn.preprocessing.StandardScaler` before calling ``fit``\n",
       "    on an estimator with ``normalize=False``.\n",
       "\n",
       "copy_X : bool, default=True\n",
       "    If True, X will be copied; else, it may be overwritten.\n",
       "\n",
       "max_iter : int, default=None\n",
       "    Maximum number of iterations for conjugate gradient solver.\n",
       "    For 'sparse_cg' and 'lsqr' solvers, the default value is determined\n",
       "    by scipy.sparse.linalg. For 'sag' solver, the default value is 1000.\n",
       "\n",
       "tol : float, default=1e-3\n",
       "    Precision of the solution.\n",
       "\n",
       "solver : {'auto', 'svd', 'cholesky', 'lsqr', 'sparse_cg', 'sag', 'saga'},         default='auto'\n",
       "    Solver to use in the computational routines:\n",
       "\n",
       "    - 'auto' chooses the solver automatically based on the type of data.\n",
       "\n",
       "    - 'svd' uses a Singular Value Decomposition of X to compute the Ridge\n",
       "      coefficients. More stable for singular matrices than 'cholesky'.\n",
       "\n",
       "    - 'cholesky' uses the standard scipy.linalg.solve function to\n",
       "      obtain a closed-form solution.\n",
       "\n",
       "    - 'sparse_cg' uses the conjugate gradient solver as found in\n",
       "      scipy.sparse.linalg.cg. As an iterative algorithm, this solver is\n",
       "      more appropriate than 'cholesky' for large-scale data\n",
       "      (possibility to set `tol` and `max_iter`).\n",
       "\n",
       "    - 'lsqr' uses the dedicated regularized least-squares routine\n",
       "      scipy.sparse.linalg.lsqr. It is the fastest and uses an iterative\n",
       "      procedure.\n",
       "\n",
       "    - 'sag' uses a Stochastic Average Gradient descent, and 'saga' uses\n",
       "      its improved, unbiased version named SAGA. Both methods also use an\n",
       "      iterative procedure, and are often faster than other solvers when\n",
       "      both n_samples and n_features are large. Note that 'sag' and\n",
       "      'saga' fast convergence is only guaranteed on features with\n",
       "      approximately the same scale. You can preprocess the data with a\n",
       "      scaler from sklearn.preprocessing.\n",
       "\n",
       "    All last five solvers support both dense and sparse data. However, only\n",
       "    'sag' and 'sparse_cg' supports sparse input when `fit_intercept` is\n",
       "    True.\n",
       "\n",
       "    .. versionadded:: 0.17\n",
       "       Stochastic Average Gradient descent solver.\n",
       "    .. versionadded:: 0.19\n",
       "       SAGA solver.\n",
       "\n",
       "random_state : int, RandomState instance, default=None\n",
       "    Used when ``solver`` == 'sag' or 'saga' to shuffle the data.\n",
       "    See :term:`Glossary <random_state>` for details.\n",
       "\n",
       "    .. versionadded:: 0.17\n",
       "       `random_state` to support Stochastic Average Gradient.\n",
       "\n",
       "Attributes\n",
       "----------\n",
       "coef_ : ndarray of shape (n_features,) or (n_targets, n_features)\n",
       "    Weight vector(s).\n",
       "\n",
       "intercept_ : float or ndarray of shape (n_targets,)\n",
       "    Independent term in decision function. Set to 0.0 if\n",
       "    ``fit_intercept = False``.\n",
       "\n",
       "n_iter_ : None or ndarray of shape (n_targets,)\n",
       "    Actual number of iterations for each target. Available only for\n",
       "    sag and lsqr solvers. Other solvers will return None.\n",
       "\n",
       "    .. versionadded:: 0.17\n",
       "\n",
       "See Also\n",
       "--------\n",
       "RidgeClassifier : Ridge classifier.\n",
       "RidgeCV : Ridge regression with built-in cross validation.\n",
       ":class:`~sklearn.kernel_ridge.KernelRidge` : Kernel ridge regression\n",
       "    combines ridge regression with the kernel trick.\n",
       "\n",
       "Examples\n",
       "--------\n",
       ">>> from sklearn.linear_model import Ridge\n",
       ">>> import numpy as np\n",
       ">>> n_samples, n_features = 10, 5\n",
       ">>> rng = np.random.RandomState(0)\n",
       ">>> y = rng.randn(n_samples)\n",
       ">>> X = rng.randn(n_samples, n_features)\n",
       ">>> clf = Ridge(alpha=1.0)\n",
       ">>> clf.fit(X, y)\n",
       "Ridge()\n",
       "\u001b[0;31mFile:\u001b[0m           /usr/local/lib/python3.9/site-packages/sklearn/linear_model/_ridge.py\n",
       "\u001b[0;31mType:\u001b[0m           ABCMeta\n",
       "\u001b[0;31mSubclasses:\u001b[0m     \n"
      ]
     },
     "metadata": {},
     "output_type": "display_data"
    }
   ],
   "source": [
    "Ridge?"
   ]
  },
  {
   "cell_type": "markdown",
   "metadata": {},
   "source": [
    "We can plug the Ridge Regression Model in place of our the LinearRegression Model in our earlier pipeline."
   ]
  },
  {
   "cell_type": "code",
   "execution_count": 27,
   "metadata": {},
   "outputs": [],
   "source": [
    "ridge_model = Pipeline([\n",
    "    (\"SelectColumns\", ColumnTransformer([\n",
    "        (\"keep\", \"passthrough\", quantitative_features),\n",
    "        (\"origin_encoder\", OneHotEncoder(), [\"origin\"]),\n",
    "        (\"text\", CountVectorizer(), \"name\")\n",
    "    ])),\n",
    "    (\"Imputation\", SimpleImputer()),\n",
    "    (\"LinearModel\", Ridge(alpha=0.5))\n",
    "])"
   ]
  },
  {
   "cell_type": "code",
   "execution_count": 28,
   "metadata": {},
   "outputs": [
    {
     "data": {
      "application/vnd.plotly.v1+json": {
       "config": {
        "plotlyServerURL": "https://plot.ly"
       },
       "data": [
        {
         "name": "Training RMSE",
         "type": "bar",
         "x": [
          "c",
          "c,d",
          "c,d,h",
          "c,d,h,w",
          "c,d,h,w,a",
          "c,d,h,w,a,m",
          "c,d,h,w,a,m,o",
          "c,d,h,w,a,m,o,n",
          "Ridge(alpha=0.5)"
         ],
         "y": [
          4.888109236813688,
          4.58757379901803,
          4.525395490245242,
          4.216877763288668,
          4.213763450275894,
          3.3799994809258984,
          3.248822401205007,
          1.1387325746873735,
          3.392024331152466
         ]
        },
        {
         "name": "CV RMSE",
         "type": "bar",
         "x": [
          "c",
          "c,d",
          "c,d,h",
          "c,d,h,w",
          "c,d,h,w,a",
          "c,d,h,w,a,m",
          "c,d,h,w,a,m,o",
          "c,d,h,w,a,m,o,n",
          "Ridge(alpha=0.5)"
         ],
         "y": [
          4.876661068256957,
          4.579060426624026,
          4.556808311664747,
          4.252718625749385,
          4.256844728700814,
          3.4557657065586787,
          3.3323381513276,
          3.728904117236925,
          3.25010581041028
         ]
        },
        {
         "name": "Test RMSE",
         "opacity": 0.3,
         "type": "bar",
         "x": [
          "c",
          "c,d",
          "c,d,h",
          "c,d,h,w",
          "c,d,h,w,a",
          "c,d,h,w,a,m",
          "c,d,h,w,a,m,o",
          "c,d,h,w,a,m,o,n",
          "Ridge(alpha=0.5)"
         ],
         "y": [
          5.055013548375552,
          4.7661569898523695,
          4.583861769980873,
          4.325847816131029,
          4.34988869276913,
          3.550828171640195,
          3.3746613014711673,
          3.507039743068532,
          3.4637255340236033
         ]
        }
       ],
       "layout": {
        "autosize": true,
        "template": {
         "data": {
          "bar": [
           {
            "error_x": {
             "color": "#2a3f5f"
            },
            "error_y": {
             "color": "#2a3f5f"
            },
            "marker": {
             "line": {
              "color": "#E5ECF6",
              "width": 0.5
             },
             "pattern": {
              "fillmode": "overlay",
              "size": 10,
              "solidity": 0.2
             }
            },
            "type": "bar"
           }
          ],
          "barpolar": [
           {
            "marker": {
             "line": {
              "color": "#E5ECF6",
              "width": 0.5
             },
             "pattern": {
              "fillmode": "overlay",
              "size": 10,
              "solidity": 0.2
             }
            },
            "type": "barpolar"
           }
          ],
          "carpet": [
           {
            "aaxis": {
             "endlinecolor": "#2a3f5f",
             "gridcolor": "white",
             "linecolor": "white",
             "minorgridcolor": "white",
             "startlinecolor": "#2a3f5f"
            },
            "baxis": {
             "endlinecolor": "#2a3f5f",
             "gridcolor": "white",
             "linecolor": "white",
             "minorgridcolor": "white",
             "startlinecolor": "#2a3f5f"
            },
            "type": "carpet"
           }
          ],
          "choropleth": [
           {
            "colorbar": {
             "outlinewidth": 0,
             "ticks": ""
            },
            "type": "choropleth"
           }
          ],
          "contour": [
           {
            "colorbar": {
             "outlinewidth": 0,
             "ticks": ""
            },
            "colorscale": [
             [
              0,
              "#0d0887"
             ],
             [
              0.1111111111111111,
              "#46039f"
             ],
             [
              0.2222222222222222,
              "#7201a8"
             ],
             [
              0.3333333333333333,
              "#9c179e"
             ],
             [
              0.4444444444444444,
              "#bd3786"
             ],
             [
              0.5555555555555556,
              "#d8576b"
             ],
             [
              0.6666666666666666,
              "#ed7953"
             ],
             [
              0.7777777777777778,
              "#fb9f3a"
             ],
             [
              0.8888888888888888,
              "#fdca26"
             ],
             [
              1,
              "#f0f921"
             ]
            ],
            "type": "contour"
           }
          ],
          "contourcarpet": [
           {
            "colorbar": {
             "outlinewidth": 0,
             "ticks": ""
            },
            "type": "contourcarpet"
           }
          ],
          "heatmap": [
           {
            "colorbar": {
             "outlinewidth": 0,
             "ticks": ""
            },
            "colorscale": [
             [
              0,
              "#0d0887"
             ],
             [
              0.1111111111111111,
              "#46039f"
             ],
             [
              0.2222222222222222,
              "#7201a8"
             ],
             [
              0.3333333333333333,
              "#9c179e"
             ],
             [
              0.4444444444444444,
              "#bd3786"
             ],
             [
              0.5555555555555556,
              "#d8576b"
             ],
             [
              0.6666666666666666,
              "#ed7953"
             ],
             [
              0.7777777777777778,
              "#fb9f3a"
             ],
             [
              0.8888888888888888,
              "#fdca26"
             ],
             [
              1,
              "#f0f921"
             ]
            ],
            "type": "heatmap"
           }
          ],
          "heatmapgl": [
           {
            "colorbar": {
             "outlinewidth": 0,
             "ticks": ""
            },
            "colorscale": [
             [
              0,
              "#0d0887"
             ],
             [
              0.1111111111111111,
              "#46039f"
             ],
             [
              0.2222222222222222,
              "#7201a8"
             ],
             [
              0.3333333333333333,
              "#9c179e"
             ],
             [
              0.4444444444444444,
              "#bd3786"
             ],
             [
              0.5555555555555556,
              "#d8576b"
             ],
             [
              0.6666666666666666,
              "#ed7953"
             ],
             [
              0.7777777777777778,
              "#fb9f3a"
             ],
             [
              0.8888888888888888,
              "#fdca26"
             ],
             [
              1,
              "#f0f921"
             ]
            ],
            "type": "heatmapgl"
           }
          ],
          "histogram": [
           {
            "marker": {
             "pattern": {
              "fillmode": "overlay",
              "size": 10,
              "solidity": 0.2
             }
            },
            "type": "histogram"
           }
          ],
          "histogram2d": [
           {
            "colorbar": {
             "outlinewidth": 0,
             "ticks": ""
            },
            "colorscale": [
             [
              0,
              "#0d0887"
             ],
             [
              0.1111111111111111,
              "#46039f"
             ],
             [
              0.2222222222222222,
              "#7201a8"
             ],
             [
              0.3333333333333333,
              "#9c179e"
             ],
             [
              0.4444444444444444,
              "#bd3786"
             ],
             [
              0.5555555555555556,
              "#d8576b"
             ],
             [
              0.6666666666666666,
              "#ed7953"
             ],
             [
              0.7777777777777778,
              "#fb9f3a"
             ],
             [
              0.8888888888888888,
              "#fdca26"
             ],
             [
              1,
              "#f0f921"
             ]
            ],
            "type": "histogram2d"
           }
          ],
          "histogram2dcontour": [
           {
            "colorbar": {
             "outlinewidth": 0,
             "ticks": ""
            },
            "colorscale": [
             [
              0,
              "#0d0887"
             ],
             [
              0.1111111111111111,
              "#46039f"
             ],
             [
              0.2222222222222222,
              "#7201a8"
             ],
             [
              0.3333333333333333,
              "#9c179e"
             ],
             [
              0.4444444444444444,
              "#bd3786"
             ],
             [
              0.5555555555555556,
              "#d8576b"
             ],
             [
              0.6666666666666666,
              "#ed7953"
             ],
             [
              0.7777777777777778,
              "#fb9f3a"
             ],
             [
              0.8888888888888888,
              "#fdca26"
             ],
             [
              1,
              "#f0f921"
             ]
            ],
            "type": "histogram2dcontour"
           }
          ],
          "mesh3d": [
           {
            "colorbar": {
             "outlinewidth": 0,
             "ticks": ""
            },
            "type": "mesh3d"
           }
          ],
          "parcoords": [
           {
            "line": {
             "colorbar": {
              "outlinewidth": 0,
              "ticks": ""
             }
            },
            "type": "parcoords"
           }
          ],
          "pie": [
           {
            "automargin": true,
            "type": "pie"
           }
          ],
          "scatter": [
           {
            "marker": {
             "colorbar": {
              "outlinewidth": 0,
              "ticks": ""
             }
            },
            "type": "scatter"
           }
          ],
          "scatter3d": [
           {
            "line": {
             "colorbar": {
              "outlinewidth": 0,
              "ticks": ""
             }
            },
            "marker": {
             "colorbar": {
              "outlinewidth": 0,
              "ticks": ""
             }
            },
            "type": "scatter3d"
           }
          ],
          "scattercarpet": [
           {
            "marker": {
             "colorbar": {
              "outlinewidth": 0,
              "ticks": ""
             }
            },
            "type": "scattercarpet"
           }
          ],
          "scattergeo": [
           {
            "marker": {
             "colorbar": {
              "outlinewidth": 0,
              "ticks": ""
             }
            },
            "type": "scattergeo"
           }
          ],
          "scattergl": [
           {
            "marker": {
             "colorbar": {
              "outlinewidth": 0,
              "ticks": ""
             }
            },
            "type": "scattergl"
           }
          ],
          "scattermapbox": [
           {
            "marker": {
             "colorbar": {
              "outlinewidth": 0,
              "ticks": ""
             }
            },
            "type": "scattermapbox"
           }
          ],
          "scatterpolar": [
           {
            "marker": {
             "colorbar": {
              "outlinewidth": 0,
              "ticks": ""
             }
            },
            "type": "scatterpolar"
           }
          ],
          "scatterpolargl": [
           {
            "marker": {
             "colorbar": {
              "outlinewidth": 0,
              "ticks": ""
             }
            },
            "type": "scatterpolargl"
           }
          ],
          "scatterternary": [
           {
            "marker": {
             "colorbar": {
              "outlinewidth": 0,
              "ticks": ""
             }
            },
            "type": "scatterternary"
           }
          ],
          "surface": [
           {
            "colorbar": {
             "outlinewidth": 0,
             "ticks": ""
            },
            "colorscale": [
             [
              0,
              "#0d0887"
             ],
             [
              0.1111111111111111,
              "#46039f"
             ],
             [
              0.2222222222222222,
              "#7201a8"
             ],
             [
              0.3333333333333333,
              "#9c179e"
             ],
             [
              0.4444444444444444,
              "#bd3786"
             ],
             [
              0.5555555555555556,
              "#d8576b"
             ],
             [
              0.6666666666666666,
              "#ed7953"
             ],
             [
              0.7777777777777778,
              "#fb9f3a"
             ],
             [
              0.8888888888888888,
              "#fdca26"
             ],
             [
              1,
              "#f0f921"
             ]
            ],
            "type": "surface"
           }
          ],
          "table": [
           {
            "cells": {
             "fill": {
              "color": "#EBF0F8"
             },
             "line": {
              "color": "white"
             }
            },
            "header": {
             "fill": {
              "color": "#C8D4E3"
             },
             "line": {
              "color": "white"
             }
            },
            "type": "table"
           }
          ]
         },
         "layout": {
          "annotationdefaults": {
           "arrowcolor": "#2a3f5f",
           "arrowhead": 0,
           "arrowwidth": 1
          },
          "autotypenumbers": "strict",
          "coloraxis": {
           "colorbar": {
            "outlinewidth": 0,
            "ticks": ""
           }
          },
          "colorscale": {
           "diverging": [
            [
             0,
             "#8e0152"
            ],
            [
             0.1,
             "#c51b7d"
            ],
            [
             0.2,
             "#de77ae"
            ],
            [
             0.3,
             "#f1b6da"
            ],
            [
             0.4,
             "#fde0ef"
            ],
            [
             0.5,
             "#f7f7f7"
            ],
            [
             0.6,
             "#e6f5d0"
            ],
            [
             0.7,
             "#b8e186"
            ],
            [
             0.8,
             "#7fbc41"
            ],
            [
             0.9,
             "#4d9221"
            ],
            [
             1,
             "#276419"
            ]
           ],
           "sequential": [
            [
             0,
             "#0d0887"
            ],
            [
             0.1111111111111111,
             "#46039f"
            ],
            [
             0.2222222222222222,
             "#7201a8"
            ],
            [
             0.3333333333333333,
             "#9c179e"
            ],
            [
             0.4444444444444444,
             "#bd3786"
            ],
            [
             0.5555555555555556,
             "#d8576b"
            ],
            [
             0.6666666666666666,
             "#ed7953"
            ],
            [
             0.7777777777777778,
             "#fb9f3a"
            ],
            [
             0.8888888888888888,
             "#fdca26"
            ],
            [
             1,
             "#f0f921"
            ]
           ],
           "sequentialminus": [
            [
             0,
             "#0d0887"
            ],
            [
             0.1111111111111111,
             "#46039f"
            ],
            [
             0.2222222222222222,
             "#7201a8"
            ],
            [
             0.3333333333333333,
             "#9c179e"
            ],
            [
             0.4444444444444444,
             "#bd3786"
            ],
            [
             0.5555555555555556,
             "#d8576b"
            ],
            [
             0.6666666666666666,
             "#ed7953"
            ],
            [
             0.7777777777777778,
             "#fb9f3a"
            ],
            [
             0.8888888888888888,
             "#fdca26"
            ],
            [
             1,
             "#f0f921"
            ]
           ]
          },
          "colorway": [
           "#636efa",
           "#EF553B",
           "#00cc96",
           "#ab63fa",
           "#FFA15A",
           "#19d3f3",
           "#FF6692",
           "#B6E880",
           "#FF97FF",
           "#FECB52"
          ],
          "font": {
           "color": "#2a3f5f"
          },
          "geo": {
           "bgcolor": "white",
           "lakecolor": "white",
           "landcolor": "#E5ECF6",
           "showlakes": true,
           "showland": true,
           "subunitcolor": "white"
          },
          "hoverlabel": {
           "align": "left"
          },
          "hovermode": "closest",
          "mapbox": {
           "style": "light"
          },
          "paper_bgcolor": "white",
          "plot_bgcolor": "#E5ECF6",
          "polar": {
           "angularaxis": {
            "gridcolor": "white",
            "linecolor": "white",
            "ticks": ""
           },
           "bgcolor": "#E5ECF6",
           "radialaxis": {
            "gridcolor": "white",
            "linecolor": "white",
            "ticks": ""
           }
          },
          "scene": {
           "xaxis": {
            "backgroundcolor": "#E5ECF6",
            "gridcolor": "white",
            "gridwidth": 2,
            "linecolor": "white",
            "showbackground": true,
            "ticks": "",
            "zerolinecolor": "white"
           },
           "yaxis": {
            "backgroundcolor": "#E5ECF6",
            "gridcolor": "white",
            "gridwidth": 2,
            "linecolor": "white",
            "showbackground": true,
            "ticks": "",
            "zerolinecolor": "white"
           },
           "zaxis": {
            "backgroundcolor": "#E5ECF6",
            "gridcolor": "white",
            "gridwidth": 2,
            "linecolor": "white",
            "showbackground": true,
            "ticks": "",
            "zerolinecolor": "white"
           }
          },
          "shapedefaults": {
           "line": {
            "color": "#2a3f5f"
           }
          },
          "ternary": {
           "aaxis": {
            "gridcolor": "white",
            "linecolor": "white",
            "ticks": ""
           },
           "baxis": {
            "gridcolor": "white",
            "linecolor": "white",
            "ticks": ""
           },
           "bgcolor": "#E5ECF6",
           "caxis": {
            "gridcolor": "white",
            "linecolor": "white",
            "ticks": ""
           }
          },
          "title": {
           "x": 0.05
          },
          "xaxis": {
           "automargin": true,
           "gridcolor": "white",
           "linecolor": "white",
           "ticks": "",
           "title": {
            "standoff": 15
           },
           "zerolinecolor": "white",
           "zerolinewidth": 2
          },
          "yaxis": {
           "automargin": true,
           "gridcolor": "white",
           "linecolor": "white",
           "ticks": "",
           "title": {
            "standoff": 15
           },
           "zerolinecolor": "white",
           "zerolinewidth": 2
          }
         }
        },
        "xaxis": {
         "autorange": true,
         "range": [
          -0.5,
          8.5
         ],
         "type": "category"
        },
        "yaxis": {
         "autorange": true,
         "range": [
          0,
          5.321066893026897
         ],
         "title": {
          "text": "RMSE"
         },
         "type": "linear"
        }
       }
      },
      "image/png": "[encoded data removed]",
      "text/html": [
       "<div>                            <div id=\"cd7f9a4f-1c90-4929-bea2-3aa6cd70bc25\" class=\"plotly-graph-div\" style=\"height:525px; width:100%;\"></div>            <script type=\"text/javascript\">                require([\"plotly\"], function(Plotly) {                    window.PLOTLYENV=window.PLOTLYENV || {};                                    if (document.getElementById(\"cd7f9a4f-1c90-4929-bea2-3aa6cd70bc25\")) {                    Plotly.newPlot(                        \"cd7f9a4f-1c90-4929-bea2-3aa6cd70bc25\",                        [{\"name\":\"Training RMSE\",\"type\":\"bar\",\"x\":[\"c\",\"c,d\",\"c,d,h\",\"c,d,h,w\",\"c,d,h,w,a\",\"c,d,h,w,a,m\",\"c,d,h,w,a,m,o\",\"c,d,h,w,a,m,o,n\",\"Ridge(alpha=0.5)\"],\"y\":[4.888109236813688,4.58757379901803,4.525395490245242,4.216877763288668,4.213763450275894,3.3799994809258984,3.248822401205007,1.1387325746873735,3.392024331152466]},{\"name\":\"CV RMSE\",\"type\":\"bar\",\"x\":[\"c\",\"c,d\",\"c,d,h\",\"c,d,h,w\",\"c,d,h,w,a\",\"c,d,h,w,a,m\",\"c,d,h,w,a,m,o\",\"c,d,h,w,a,m,o,n\",\"Ridge(alpha=0.5)\"],\"y\":[4.876661068256957,4.579060426624026,4.556808311664747,4.252718625749385,4.256844728700814,3.4557657065586787,3.3323381513276,3.728904117236925,3.25010581041028]},{\"name\":\"Test RMSE\",\"opacity\":0.3,\"type\":\"bar\",\"x\":[\"c\",\"c,d\",\"c,d,h\",\"c,d,h,w\",\"c,d,h,w,a\",\"c,d,h,w,a,m\",\"c,d,h,w,a,m,o\",\"c,d,h,w,a,m,o,n\",\"Ridge(alpha=0.5)\"],\"y\":[5.055013548375552,4.7661569898523695,4.583861769980873,4.325847816131029,4.34988869276913,3.550828171640195,3.3746613014711673,3.507039743068532,3.4637255340236033]}],                        {\"template\":{\"data\":{\"bar\":[{\"error_x\":{\"color\":\"#2a3f5f\"},\"error_y\":{\"color\":\"#2a3f5f\"},\"marker\":{\"line\":{\"color\":\"#E5ECF6\",\"width\":0.5},\"pattern\":{\"fillmode\":\"overlay\",\"size\":10,\"solidity\":0.2}},\"type\":\"bar\"}],\"barpolar\":[{\"marker\":{\"line\":{\"color\":\"#E5ECF6\",\"width\":0.5},\"pattern\":{\"fillmode\":\"overlay\",\"size\":10,\"solidity\":0.2}},\"type\":\"barpolar\"}],\"carpet\":[{\"aaxis\":{\"endlinecolor\":\"#2a3f5f\",\"gridcolor\":\"white\",\"linecolor\":\"white\",\"minorgridcolor\":\"white\",\"startlinecolor\":\"#2a3f5f\"},\"baxis\":{\"endlinecolor\":\"#2a3f5f\",\"gridcolor\":\"white\",\"linecolor\":\"white\",\"minorgridcolor\":\"white\",\"startlinecolor\":\"#2a3f5f\"},\"type\":\"carpet\"}],\"choropleth\":[{\"colorbar\":{\"outlinewidth\":0,\"ticks\":\"\"},\"type\":\"choropleth\"}],\"contour\":[{\"colorbar\":{\"outlinewidth\":0,\"ticks\":\"\"},\"colorscale\":[[0.0,\"#0d0887\"],[0.1111111111111111,\"#46039f\"],[0.2222222222222222,\"#7201a8\"],[0.3333333333333333,\"#9c179e\"],[0.4444444444444444,\"#bd3786\"],[0.5555555555555556,\"#d8576b\"],[0.6666666666666666,\"#ed7953\"],[0.7777777777777778,\"#fb9f3a\"],[0.8888888888888888,\"#fdca26\"],[1.0,\"#f0f921\"]],\"type\":\"contour\"}],\"contourcarpet\":[{\"colorbar\":{\"outlinewidth\":0,\"ticks\":\"\"},\"type\":\"contourcarpet\"}],\"heatmap\":[{\"colorbar\":{\"outlinewidth\":0,\"ticks\":\"\"},\"colorscale\":[[0.0,\"#0d0887\"],[0.1111111111111111,\"#46039f\"],[0.2222222222222222,\"#7201a8\"],[0.3333333333333333,\"#9c179e\"],[0.4444444444444444,\"#bd3786\"],[0.5555555555555556,\"#d8576b\"],[0.6666666666666666,\"#ed7953\"],[0.7777777777777778,\"#fb9f3a\"],[0.8888888888888888,\"#fdca26\"],[1.0,\"#f0f921\"]],\"type\":\"heatmap\"}],\"heatmapgl\":[{\"colorbar\":{\"outlinewidth\":0,\"ticks\":\"\"},\"colorscale\":[[0.0,\"#0d0887\"],[0.1111111111111111,\"#46039f\"],[0.2222222222222222,\"#7201a8\"],[0.3333333333333333,\"#9c179e\"],[0.4444444444444444,\"#bd3786\"],[0.5555555555555556,\"#d8576b\"],[0.6666666666666666,\"#ed7953\"],[0.7777777777777778,\"#fb9f3a\"],[0.8888888888888888,\"#fdca26\"],[1.0,\"#f0f921\"]],\"type\":\"heatmapgl\"}],\"histogram\":[{\"marker\":{\"pattern\":{\"fillmode\":\"overlay\",\"size\":10,\"solidity\":0.2}},\"type\":\"histogram\"}],\"histogram2d\":[{\"colorbar\":{\"outlinewidth\":0,\"ticks\":\"\"},\"colorscale\":[[0.0,\"#0d0887\"],[0.1111111111111111,\"#46039f\"],[0.2222222222222222,\"#7201a8\"],[0.3333333333333333,\"#9c179e\"],[0.4444444444444444,\"#bd3786\"],[0.5555555555555556,\"#d8576b\"],[0.6666666666666666,\"#ed7953\"],[0.7777777777777778,\"#fb9f3a\"],[0.8888888888888888,\"#fdca26\"],[1.0,\"#f0f921\"]],\"type\":\"histogram2d\"}],\"histogram2dcontour\":[{\"colorbar\":{\"outlinewidth\":0,\"ticks\":\"\"},\"colorscale\":[[0.0,\"#0d0887\"],[0.1111111111111111,\"#46039f\"],[0.2222222222222222,\"#7201a8\"],[0.3333333333333333,\"#9c179e\"],[0.4444444444444444,\"#bd3786\"],[0.5555555555555556,\"#d8576b\"],[0.6666666666666666,\"#ed7953\"],[0.7777777777777778,\"#fb9f3a\"],[0.8888888888888888,\"#fdca26\"],[1.0,\"#f0f921\"]],\"type\":\"histogram2dcontour\"}],\"mesh3d\":[{\"colorbar\":{\"outlinewidth\":0,\"ticks\":\"\"},\"type\":\"mesh3d\"}],\"parcoords\":[{\"line\":{\"colorbar\":{\"outlinewidth\":0,\"ticks\":\"\"}},\"type\":\"parcoords\"}],\"pie\":[{\"automargin\":true,\"type\":\"pie\"}],\"scatter\":[{\"marker\":{\"colorbar\":{\"outlinewidth\":0,\"ticks\":\"\"}},\"type\":\"scatter\"}],\"scatter3d\":[{\"line\":{\"colorbar\":{\"outlinewidth\":0,\"ticks\":\"\"}},\"marker\":{\"colorbar\":{\"outlinewidth\":0,\"ticks\":\"\"}},\"type\":\"scatter3d\"}],\"scattercarpet\":[{\"marker\":{\"colorbar\":{\"outlinewidth\":0,\"ticks\":\"\"}},\"type\":\"scattercarpet\"}],\"scattergeo\":[{\"marker\":{\"colorbar\":{\"outlinewidth\":0,\"ticks\":\"\"}},\"type\":\"scattergeo\"}],\"scattergl\":[{\"marker\":{\"colorbar\":{\"outlinewidth\":0,\"ticks\":\"\"}},\"type\":\"scattergl\"}],\"scattermapbox\":[{\"marker\":{\"colorbar\":{\"outlinewidth\":0,\"ticks\":\"\"}},\"type\":\"scattermapbox\"}],\"scatterpolar\":[{\"marker\":{\"colorbar\":{\"outlinewidth\":0,\"ticks\":\"\"}},\"type\":\"scatterpolar\"}],\"scatterpolargl\":[{\"marker\":{\"colorbar\":{\"outlinewidth\":0,\"ticks\":\"\"}},\"type\":\"scatterpolargl\"}],\"scatterternary\":[{\"marker\":{\"colorbar\":{\"outlinewidth\":0,\"ticks\":\"\"}},\"type\":\"scatterternary\"}],\"surface\":[{\"colorbar\":{\"outlinewidth\":0,\"ticks\":\"\"},\"colorscale\":[[0.0,\"#0d0887\"],[0.1111111111111111,\"#46039f\"],[0.2222222222222222,\"#7201a8\"],[0.3333333333333333,\"#9c179e\"],[0.4444444444444444,\"#bd3786\"],[0.5555555555555556,\"#d8576b\"],[0.6666666666666666,\"#ed7953\"],[0.7777777777777778,\"#fb9f3a\"],[0.8888888888888888,\"#fdca26\"],[1.0,\"#f0f921\"]],\"type\":\"surface\"}],\"table\":[{\"cells\":{\"fill\":{\"color\":\"#EBF0F8\"},\"line\":{\"color\":\"white\"}},\"header\":{\"fill\":{\"color\":\"#C8D4E3\"},\"line\":{\"color\":\"white\"}},\"type\":\"table\"}]},\"layout\":{\"annotationdefaults\":{\"arrowcolor\":\"#2a3f5f\",\"arrowhead\":0,\"arrowwidth\":1},\"autotypenumbers\":\"strict\",\"coloraxis\":{\"colorbar\":{\"outlinewidth\":0,\"ticks\":\"\"}},\"colorscale\":{\"diverging\":[[0,\"#8e0152\"],[0.1,\"#c51b7d\"],[0.2,\"#de77ae\"],[0.3,\"#f1b6da\"],[0.4,\"#fde0ef\"],[0.5,\"#f7f7f7\"],[0.6,\"#e6f5d0\"],[0.7,\"#b8e186\"],[0.8,\"#7fbc41\"],[0.9,\"#4d9221\"],[1,\"#276419\"]],\"sequential\":[[0.0,\"#0d0887\"],[0.1111111111111111,\"#46039f\"],[0.2222222222222222,\"#7201a8\"],[0.3333333333333333,\"#9c179e\"],[0.4444444444444444,\"#bd3786\"],[0.5555555555555556,\"#d8576b\"],[0.6666666666666666,\"#ed7953\"],[0.7777777777777778,\"#fb9f3a\"],[0.8888888888888888,\"#fdca26\"],[1.0,\"#f0f921\"]],\"sequentialminus\":[[0.0,\"#0d0887\"],[0.1111111111111111,\"#46039f\"],[0.2222222222222222,\"#7201a8\"],[0.3333333333333333,\"#9c179e\"],[0.4444444444444444,\"#bd3786\"],[0.5555555555555556,\"#d8576b\"],[0.6666666666666666,\"#ed7953\"],[0.7777777777777778,\"#fb9f3a\"],[0.8888888888888888,\"#fdca26\"],[1.0,\"#f0f921\"]]},\"colorway\":[\"#636efa\",\"#EF553B\",\"#00cc96\",\"#ab63fa\",\"#FFA15A\",\"#19d3f3\",\"#FF6692\",\"#B6E880\",\"#FF97FF\",\"#FECB52\"],\"font\":{\"color\":\"#2a3f5f\"},\"geo\":{\"bgcolor\":\"white\",\"lakecolor\":\"white\",\"landcolor\":\"#E5ECF6\",\"showlakes\":true,\"showland\":true,\"subunitcolor\":\"white\"},\"hoverlabel\":{\"align\":\"left\"},\"hovermode\":\"closest\",\"mapbox\":{\"style\":\"light\"},\"paper_bgcolor\":\"white\",\"plot_bgcolor\":\"#E5ECF6\",\"polar\":{\"angularaxis\":{\"gridcolor\":\"white\",\"linecolor\":\"white\",\"ticks\":\"\"},\"bgcolor\":\"#E5ECF6\",\"radialaxis\":{\"gridcolor\":\"white\",\"linecolor\":\"white\",\"ticks\":\"\"}},\"scene\":{\"xaxis\":{\"backgroundcolor\":\"#E5ECF6\",\"gridcolor\":\"white\",\"gridwidth\":2,\"linecolor\":\"white\",\"showbackground\":true,\"ticks\":\"\",\"zerolinecolor\":\"white\"},\"yaxis\":{\"backgroundcolor\":\"#E5ECF6\",\"gridcolor\":\"white\",\"gridwidth\":2,\"linecolor\":\"white\",\"showbackground\":true,\"ticks\":\"\",\"zerolinecolor\":\"white\"},\"zaxis\":{\"backgroundcolor\":\"#E5ECF6\",\"gridcolor\":\"white\",\"gridwidth\":2,\"linecolor\":\"white\",\"showbackground\":true,\"ticks\":\"\",\"zerolinecolor\":\"white\"}},\"shapedefaults\":{\"line\":{\"color\":\"#2a3f5f\"}},\"ternary\":{\"aaxis\":{\"gridcolor\":\"white\",\"linecolor\":\"white\",\"ticks\":\"\"},\"baxis\":{\"gridcolor\":\"white\",\"linecolor\":\"white\",\"ticks\":\"\"},\"bgcolor\":\"#E5ECF6\",\"caxis\":{\"gridcolor\":\"white\",\"linecolor\":\"white\",\"ticks\":\"\"}},\"title\":{\"x\":0.05},\"xaxis\":{\"automargin\":true,\"gridcolor\":\"white\",\"linecolor\":\"white\",\"ticks\":\"\",\"title\":{\"standoff\":15},\"zerolinecolor\":\"white\",\"zerolinewidth\":2},\"yaxis\":{\"automargin\":true,\"gridcolor\":\"white\",\"linecolor\":\"white\",\"ticks\":\"\",\"title\":{\"standoff\":15},\"zerolinecolor\":\"white\",\"zerolinewidth\":2}}},\"yaxis\":{\"title\":{\"text\":\"RMSE\"}}},                        {\"responsive\": true}                    ).then(function(){\n",
       "                            \n",
       "var gd = document.getElementById('cd7f9a4f-1c90-4929-bea2-3aa6cd70bc25');\n",
       "var x = new MutationObserver(function (mutations, observer) {{\n",
       "        var display = window.getComputedStyle(gd).display;\n",
       "        if (!display || display === 'none') {{\n",
       "            console.log([gd, 'removed!']);\n",
       "            Plotly.purge(gd);\n",
       "            observer.disconnect();\n",
       "        }}\n",
       "}});\n",
       "\n",
       "// Listen for the removal of the full notebook cells\n",
       "var notebookContainer = gd.closest('#notebook-container');\n",
       "if (notebookContainer) {{\n",
       "    x.observe(notebookContainer, {childList: true});\n",
       "}}\n",
       "\n",
       "// Listen for the clearing of the current output cell\n",
       "var outputEl = gd.closest('.output');\n",
       "if (outputEl) {{\n",
       "    x.observe(outputEl, {childList: true});\n",
       "}}\n",
       "\n",
       "                        })                };                });            </script>        </div>"
      ]
     },
     "metadata": {},
     "output_type": "display_data"
    }
   ],
   "source": [
    "ridge_model.fit(tr, tr['mpg'])\n",
    "models[\"Ridge(alpha=0.5)\"] = ridge_model\n",
    "compare_models(models)"
   ]
  },
  {
   "cell_type": "markdown",
   "metadata": {},
   "source": [
    "We should also standardize our features:"
   ]
  },
  {
   "cell_type": "code",
   "execution_count": 29,
   "metadata": {},
   "outputs": [],
   "source": [
    "from sklearn.preprocessing import StandardScaler"
   ]
  },
  {
   "cell_type": "code",
   "execution_count": 30,
   "metadata": {},
   "outputs": [],
   "source": [
    "ridge_model = Pipeline([\n",
    "    (\"SelectColumns\", ColumnTransformer([\n",
    "        (\"keep\", StandardScaler(), quantitative_features),\n",
    "        (\"origin_encoder\", OneHotEncoder(), [\"origin\"]),\n",
    "        (\"text\", CountVectorizer(), \"name\")\n",
    "    ])),\n",
    "    (\"Imputation\", SimpleImputer()),\n",
    "#     (\"Standarize\", StandardScaler(with_mean=False)),\n",
    "    (\"LinearModel\", Ridge(alpha=0.5))\n",
    "])"
   ]
  },
  {
   "cell_type": "code",
   "execution_count": 31,
   "metadata": {},
   "outputs": [
    {
     "data": {
      "application/vnd.plotly.v1+json": {
       "config": {
        "plotlyServerURL": "https://plot.ly"
       },
       "data": [
        {
         "name": "Training RMSE",
         "type": "bar",
         "x": [
          "c",
          "c,d",
          "c,d,h",
          "c,d,h,w",
          "c,d,h,w,a",
          "c,d,h,w,a,m",
          "c,d,h,w,a,m,o",
          "c,d,h,w,a,m,o,n",
          "Ridge(alpha=0.5)",
          "RidgeN(alpha=0.5)"
         ],
         "y": [
          4.888109236813688,
          4.58757379901803,
          4.525395490245242,
          4.216877763288668,
          4.213763450275894,
          3.3799994809258984,
          3.248822401205007,
          1.1387325746873735,
          3.392024331152466,
          1.3731123141095083
         ]
        },
        {
         "name": "CV RMSE",
         "type": "bar",
         "x": [
          "c",
          "c,d",
          "c,d,h",
          "c,d,h,w",
          "c,d,h,w,a",
          "c,d,h,w,a,m",
          "c,d,h,w,a,m,o",
          "c,d,h,w,a,m,o,n",
          "Ridge(alpha=0.5)",
          "RidgeN(alpha=0.5)"
         ],
         "y": [
          4.876661068256957,
          4.579060426624026,
          4.556808311664747,
          4.252718625749385,
          4.256844728700814,
          3.4557657065586787,
          3.3323381513276,
          3.728904117236925,
          3.25010581041028,
          3.021326792517836
         ]
        },
        {
         "name": "Test RMSE",
         "opacity": 0.3,
         "type": "bar",
         "x": [
          "c",
          "c,d",
          "c,d,h",
          "c,d,h,w",
          "c,d,h,w,a",
          "c,d,h,w,a,m",
          "c,d,h,w,a,m,o",
          "c,d,h,w,a,m,o,n",
          "Ridge(alpha=0.5)",
          "RidgeN(alpha=0.5)"
         ],
         "y": [
          5.055013548375552,
          4.7661569898523695,
          4.583861769980873,
          4.325847816131029,
          4.34988869276913,
          3.550828171640195,
          3.3746613014711673,
          3.507039743068532,
          3.4637255340236033,
          3.539174433911404
         ]
        }
       ],
       "layout": {
        "autosize": true,
        "template": {
         "data": {
          "bar": [
           {
            "error_x": {
             "color": "#2a3f5f"
            },
            "error_y": {
             "color": "#2a3f5f"
            },
            "marker": {
             "line": {
              "color": "#E5ECF6",
              "width": 0.5
             },
             "pattern": {
              "fillmode": "overlay",
              "size": 10,
              "solidity": 0.2
             }
            },
            "type": "bar"
           }
          ],
          "barpolar": [
           {
            "marker": {
             "line": {
              "color": "#E5ECF6",
              "width": 0.5
             },
             "pattern": {
              "fillmode": "overlay",
              "size": 10,
              "solidity": 0.2
             }
            },
            "type": "barpolar"
           }
          ],
          "carpet": [
           {
            "aaxis": {
             "endlinecolor": "#2a3f5f",
             "gridcolor": "white",
             "linecolor": "white",
             "minorgridcolor": "white",
             "startlinecolor": "#2a3f5f"
            },
            "baxis": {
             "endlinecolor": "#2a3f5f",
             "gridcolor": "white",
             "linecolor": "white",
             "minorgridcolor": "white",
             "startlinecolor": "#2a3f5f"
            },
            "type": "carpet"
           }
          ],
          "choropleth": [
           {
            "colorbar": {
             "outlinewidth": 0,
             "ticks": ""
            },
            "type": "choropleth"
           }
          ],
          "contour": [
           {
            "colorbar": {
             "outlinewidth": 0,
             "ticks": ""
            },
            "colorscale": [
             [
              0,
              "#0d0887"
             ],
             [
              0.1111111111111111,
              "#46039f"
             ],
             [
              0.2222222222222222,
              "#7201a8"
             ],
             [
              0.3333333333333333,
              "#9c179e"
             ],
             [
              0.4444444444444444,
              "#bd3786"
             ],
             [
              0.5555555555555556,
              "#d8576b"
             ],
             [
              0.6666666666666666,
              "#ed7953"
             ],
             [
              0.7777777777777778,
              "#fb9f3a"
             ],
             [
              0.8888888888888888,
              "#fdca26"
             ],
             [
              1,
              "#f0f921"
             ]
            ],
            "type": "contour"
           }
          ],
          "contourcarpet": [
           {
            "colorbar": {
             "outlinewidth": 0,
             "ticks": ""
            },
            "type": "contourcarpet"
           }
          ],
          "heatmap": [
           {
            "colorbar": {
             "outlinewidth": 0,
             "ticks": ""
            },
            "colorscale": [
             [
              0,
              "#0d0887"
             ],
             [
              0.1111111111111111,
              "#46039f"
             ],
             [
              0.2222222222222222,
              "#7201a8"
             ],
             [
              0.3333333333333333,
              "#9c179e"
             ],
             [
              0.4444444444444444,
              "#bd3786"
             ],
             [
              0.5555555555555556,
              "#d8576b"
             ],
             [
              0.6666666666666666,
              "#ed7953"
             ],
             [
              0.7777777777777778,
              "#fb9f3a"
             ],
             [
              0.8888888888888888,
              "#fdca26"
             ],
             [
              1,
              "#f0f921"
             ]
            ],
            "type": "heatmap"
           }
          ],
          "heatmapgl": [
           {
            "colorbar": {
             "outlinewidth": 0,
             "ticks": ""
            },
            "colorscale": [
             [
              0,
              "#0d0887"
             ],
             [
              0.1111111111111111,
              "#46039f"
             ],
             [
              0.2222222222222222,
              "#7201a8"
             ],
             [
              0.3333333333333333,
              "#9c179e"
             ],
             [
              0.4444444444444444,
              "#bd3786"
             ],
             [
              0.5555555555555556,
              "#d8576b"
             ],
             [
              0.6666666666666666,
              "#ed7953"
             ],
             [
              0.7777777777777778,
              "#fb9f3a"
             ],
             [
              0.8888888888888888,
              "#fdca26"
             ],
             [
              1,
              "#f0f921"
             ]
            ],
            "type": "heatmapgl"
           }
          ],
          "histogram": [
           {
            "marker": {
             "pattern": {
              "fillmode": "overlay",
              "size": 10,
              "solidity": 0.2
             }
            },
            "type": "histogram"
           }
          ],
          "histogram2d": [
           {
            "colorbar": {
             "outlinewidth": 0,
             "ticks": ""
            },
            "colorscale": [
             [
              0,
              "#0d0887"
             ],
             [
              0.1111111111111111,
              "#46039f"
             ],
             [
              0.2222222222222222,
              "#7201a8"
             ],
             [
              0.3333333333333333,
              "#9c179e"
             ],
             [
              0.4444444444444444,
              "#bd3786"
             ],
             [
              0.5555555555555556,
              "#d8576b"
             ],
             [
              0.6666666666666666,
              "#ed7953"
             ],
             [
              0.7777777777777778,
              "#fb9f3a"
             ],
             [
              0.8888888888888888,
              "#fdca26"
             ],
             [
              1,
              "#f0f921"
             ]
            ],
            "type": "histogram2d"
           }
          ],
          "histogram2dcontour": [
           {
            "colorbar": {
             "outlinewidth": 0,
             "ticks": ""
            },
            "colorscale": [
             [
              0,
              "#0d0887"
             ],
             [
              0.1111111111111111,
              "#46039f"
             ],
             [
              0.2222222222222222,
              "#7201a8"
             ],
             [
              0.3333333333333333,
              "#9c179e"
             ],
             [
              0.4444444444444444,
              "#bd3786"
             ],
             [
              0.5555555555555556,
              "#d8576b"
             ],
             [
              0.6666666666666666,
              "#ed7953"
             ],
             [
              0.7777777777777778,
              "#fb9f3a"
             ],
             [
              0.8888888888888888,
              "#fdca26"
             ],
             [
              1,
              "#f0f921"
             ]
            ],
            "type": "histogram2dcontour"
           }
          ],
          "mesh3d": [
           {
            "colorbar": {
             "outlinewidth": 0,
             "ticks": ""
            },
            "type": "mesh3d"
           }
          ],
          "parcoords": [
           {
            "line": {
             "colorbar": {
              "outlinewidth": 0,
              "ticks": ""
             }
            },
            "type": "parcoords"
           }
          ],
          "pie": [
           {
            "automargin": true,
            "type": "pie"
           }
          ],
          "scatter": [
           {
            "marker": {
             "colorbar": {
              "outlinewidth": 0,
              "ticks": ""
             }
            },
            "type": "scatter"
           }
          ],
          "scatter3d": [
           {
            "line": {
             "colorbar": {
              "outlinewidth": 0,
              "ticks": ""
             }
            },
            "marker": {
             "colorbar": {
              "outlinewidth": 0,
              "ticks": ""
             }
            },
            "type": "scatter3d"
           }
          ],
          "scattercarpet": [
           {
            "marker": {
             "colorbar": {
              "outlinewidth": 0,
              "ticks": ""
             }
            },
            "type": "scattercarpet"
           }
          ],
          "scattergeo": [
           {
            "marker": {
             "colorbar": {
              "outlinewidth": 0,
              "ticks": ""
             }
            },
            "type": "scattergeo"
           }
          ],
          "scattergl": [
           {
            "marker": {
             "colorbar": {
              "outlinewidth": 0,
              "ticks": ""
             }
            },
            "type": "scattergl"
           }
          ],
          "scattermapbox": [
           {
            "marker": {
             "colorbar": {
              "outlinewidth": 0,
              "ticks": ""
             }
            },
            "type": "scattermapbox"
           }
          ],
          "scatterpolar": [
           {
            "marker": {
             "colorbar": {
              "outlinewidth": 0,
              "ticks": ""
             }
            },
            "type": "scatterpolar"
           }
          ],
          "scatterpolargl": [
           {
            "marker": {
             "colorbar": {
              "outlinewidth": 0,
              "ticks": ""
             }
            },
            "type": "scatterpolargl"
           }
          ],
          "scatterternary": [
           {
            "marker": {
             "colorbar": {
              "outlinewidth": 0,
              "ticks": ""
             }
            },
            "type": "scatterternary"
           }
          ],
          "surface": [
           {
            "colorbar": {
             "outlinewidth": 0,
             "ticks": ""
            },
            "colorscale": [
             [
              0,
              "#0d0887"
             ],
             [
              0.1111111111111111,
              "#46039f"
             ],
             [
              0.2222222222222222,
              "#7201a8"
             ],
             [
              0.3333333333333333,
              "#9c179e"
             ],
             [
              0.4444444444444444,
              "#bd3786"
             ],
             [
              0.5555555555555556,
              "#d8576b"
             ],
             [
              0.6666666666666666,
              "#ed7953"
             ],
             [
              0.7777777777777778,
              "#fb9f3a"
             ],
             [
              0.8888888888888888,
              "#fdca26"
             ],
             [
              1,
              "#f0f921"
             ]
            ],
            "type": "surface"
           }
          ],
          "table": [
           {
            "cells": {
             "fill": {
              "color": "#EBF0F8"
             },
             "line": {
              "color": "white"
             }
            },
            "header": {
             "fill": {
              "color": "#C8D4E3"
             },
             "line": {
              "color": "white"
             }
            },
            "type": "table"
           }
          ]
         },
         "layout": {
          "annotationdefaults": {
           "arrowcolor": "#2a3f5f",
           "arrowhead": 0,
           "arrowwidth": 1
          },
          "autotypenumbers": "strict",
          "coloraxis": {
           "colorbar": {
            "outlinewidth": 0,
            "ticks": ""
           }
          },
          "colorscale": {
           "diverging": [
            [
             0,
             "#8e0152"
            ],
            [
             0.1,
             "#c51b7d"
            ],
            [
             0.2,
             "#de77ae"
            ],
            [
             0.3,
             "#f1b6da"
            ],
            [
             0.4,
             "#fde0ef"
            ],
            [
             0.5,
             "#f7f7f7"
            ],
            [
             0.6,
             "#e6f5d0"
            ],
            [
             0.7,
             "#b8e186"
            ],
            [
             0.8,
             "#7fbc41"
            ],
            [
             0.9,
             "#4d9221"
            ],
            [
             1,
             "#276419"
            ]
           ],
           "sequential": [
            [
             0,
             "#0d0887"
            ],
            [
             0.1111111111111111,
             "#46039f"
            ],
            [
             0.2222222222222222,
             "#7201a8"
            ],
            [
             0.3333333333333333,
             "#9c179e"
            ],
            [
             0.4444444444444444,
             "#bd3786"
            ],
            [
             0.5555555555555556,
             "#d8576b"
            ],
            [
             0.6666666666666666,
             "#ed7953"
            ],
            [
             0.7777777777777778,
             "#fb9f3a"
            ],
            [
             0.8888888888888888,
             "#fdca26"
            ],
            [
             1,
             "#f0f921"
            ]
           ],
           "sequentialminus": [
            [
             0,
             "#0d0887"
            ],
            [
             0.1111111111111111,
             "#46039f"
            ],
            [
             0.2222222222222222,
             "#7201a8"
            ],
            [
             0.3333333333333333,
             "#9c179e"
            ],
            [
             0.4444444444444444,
             "#bd3786"
            ],
            [
             0.5555555555555556,
             "#d8576b"
            ],
            [
             0.6666666666666666,
             "#ed7953"
            ],
            [
             0.7777777777777778,
             "#fb9f3a"
            ],
            [
             0.8888888888888888,
             "#fdca26"
            ],
            [
             1,
             "#f0f921"
            ]
           ]
          },
          "colorway": [
           "#636efa",
           "#EF553B",
           "#00cc96",
           "#ab63fa",
           "#FFA15A",
           "#19d3f3",
           "#FF6692",
           "#B6E880",
           "#FF97FF",
           "#FECB52"
          ],
          "font": {
           "color": "#2a3f5f"
          },
          "geo": {
           "bgcolor": "white",
           "lakecolor": "white",
           "landcolor": "#E5ECF6",
           "showlakes": true,
           "showland": true,
           "subunitcolor": "white"
          },
          "hoverlabel": {
           "align": "left"
          },
          "hovermode": "closest",
          "mapbox": {
           "style": "light"
          },
          "paper_bgcolor": "white",
          "plot_bgcolor": "#E5ECF6",
          "polar": {
           "angularaxis": {
            "gridcolor": "white",
            "linecolor": "white",
            "ticks": ""
           },
           "bgcolor": "#E5ECF6",
           "radialaxis": {
            "gridcolor": "white",
            "linecolor": "white",
            "ticks": ""
           }
          },
          "scene": {
           "xaxis": {
            "backgroundcolor": "#E5ECF6",
            "gridcolor": "white",
            "gridwidth": 2,
            "linecolor": "white",
            "showbackground": true,
            "ticks": "",
            "zerolinecolor": "white"
           },
           "yaxis": {
            "backgroundcolor": "#E5ECF6",
            "gridcolor": "white",
            "gridwidth": 2,
            "linecolor": "white",
            "showbackground": true,
            "ticks": "",
            "zerolinecolor": "white"
           },
           "zaxis": {
            "backgroundcolor": "#E5ECF6",
            "gridcolor": "white",
            "gridwidth": 2,
            "linecolor": "white",
            "showbackground": true,
            "ticks": "",
            "zerolinecolor": "white"
           }
          },
          "shapedefaults": {
           "line": {
            "color": "#2a3f5f"
           }
          },
          "ternary": {
           "aaxis": {
            "gridcolor": "white",
            "linecolor": "white",
            "ticks": ""
           },
           "baxis": {
            "gridcolor": "white",
            "linecolor": "white",
            "ticks": ""
           },
           "bgcolor": "#E5ECF6",
           "caxis": {
            "gridcolor": "white",
            "linecolor": "white",
            "ticks": ""
           }
          },
          "title": {
           "x": 0.05
          },
          "xaxis": {
           "automargin": true,
           "gridcolor": "white",
           "linecolor": "white",
           "ticks": "",
           "title": {
            "standoff": 15
           },
           "zerolinecolor": "white",
           "zerolinewidth": 2
          },
          "yaxis": {
           "automargin": true,
           "gridcolor": "white",
           "linecolor": "white",
           "ticks": "",
           "title": {
            "standoff": 15
           },
           "zerolinecolor": "white",
           "zerolinewidth": 2
          }
         }
        },
        "xaxis": {
         "autorange": true,
         "range": [
          -0.5,
          9.5
         ],
         "type": "category"
        },
        "yaxis": {
         "autorange": true,
         "range": [
          0,
          5.321066893026897
         ],
         "title": {
          "text": "RMSE"
         },
         "type": "linear"
        }
       }
      },
      "image/png": "[encoded data removed]",
      "text/html": [
       "<div>                            <div id=\"3446fff5-9acf-4cec-974e-4fceaf42292d\" class=\"plotly-graph-div\" style=\"height:525px; width:100%;\"></div>            <script type=\"text/javascript\">                require([\"plotly\"], function(Plotly) {                    window.PLOTLYENV=window.PLOTLYENV || {};                                    if (document.getElementById(\"3446fff5-9acf-4cec-974e-4fceaf42292d\")) {                    Plotly.newPlot(                        \"3446fff5-9acf-4cec-974e-4fceaf42292d\",                        [{\"name\":\"Training RMSE\",\"type\":\"bar\",\"x\":[\"c\",\"c,d\",\"c,d,h\",\"c,d,h,w\",\"c,d,h,w,a\",\"c,d,h,w,a,m\",\"c,d,h,w,a,m,o\",\"c,d,h,w,a,m,o,n\",\"Ridge(alpha=0.5)\",\"RidgeN(alpha=0.5)\"],\"y\":[4.888109236813688,4.58757379901803,4.525395490245242,4.216877763288668,4.213763450275894,3.3799994809258984,3.248822401205007,1.1387325746873735,3.392024331152466,1.3731123141095083]},{\"name\":\"CV RMSE\",\"type\":\"bar\",\"x\":[\"c\",\"c,d\",\"c,d,h\",\"c,d,h,w\",\"c,d,h,w,a\",\"c,d,h,w,a,m\",\"c,d,h,w,a,m,o\",\"c,d,h,w,a,m,o,n\",\"Ridge(alpha=0.5)\",\"RidgeN(alpha=0.5)\"],\"y\":[4.876661068256957,4.579060426624026,4.556808311664747,4.252718625749385,4.256844728700814,3.4557657065586787,3.3323381513276,3.728904117236925,3.25010581041028,3.021326792517836]},{\"name\":\"Test RMSE\",\"opacity\":0.3,\"type\":\"bar\",\"x\":[\"c\",\"c,d\",\"c,d,h\",\"c,d,h,w\",\"c,d,h,w,a\",\"c,d,h,w,a,m\",\"c,d,h,w,a,m,o\",\"c,d,h,w,a,m,o,n\",\"Ridge(alpha=0.5)\",\"RidgeN(alpha=0.5)\"],\"y\":[5.055013548375552,4.7661569898523695,4.583861769980873,4.325847816131029,4.34988869276913,3.550828171640195,3.3746613014711673,3.507039743068532,3.4637255340236033,3.539174433911404]}],                        {\"template\":{\"data\":{\"bar\":[{\"error_x\":{\"color\":\"#2a3f5f\"},\"error_y\":{\"color\":\"#2a3f5f\"},\"marker\":{\"line\":{\"color\":\"#E5ECF6\",\"width\":0.5},\"pattern\":{\"fillmode\":\"overlay\",\"size\":10,\"solidity\":0.2}},\"type\":\"bar\"}],\"barpolar\":[{\"marker\":{\"line\":{\"color\":\"#E5ECF6\",\"width\":0.5},\"pattern\":{\"fillmode\":\"overlay\",\"size\":10,\"solidity\":0.2}},\"type\":\"barpolar\"}],\"carpet\":[{\"aaxis\":{\"endlinecolor\":\"#2a3f5f\",\"gridcolor\":\"white\",\"linecolor\":\"white\",\"minorgridcolor\":\"white\",\"startlinecolor\":\"#2a3f5f\"},\"baxis\":{\"endlinecolor\":\"#2a3f5f\",\"gridcolor\":\"white\",\"linecolor\":\"white\",\"minorgridcolor\":\"white\",\"startlinecolor\":\"#2a3f5f\"},\"type\":\"carpet\"}],\"choropleth\":[{\"colorbar\":{\"outlinewidth\":0,\"ticks\":\"\"},\"type\":\"choropleth\"}],\"contour\":[{\"colorbar\":{\"outlinewidth\":0,\"ticks\":\"\"},\"colorscale\":[[0.0,\"#0d0887\"],[0.1111111111111111,\"#46039f\"],[0.2222222222222222,\"#7201a8\"],[0.3333333333333333,\"#9c179e\"],[0.4444444444444444,\"#bd3786\"],[0.5555555555555556,\"#d8576b\"],[0.6666666666666666,\"#ed7953\"],[0.7777777777777778,\"#fb9f3a\"],[0.8888888888888888,\"#fdca26\"],[1.0,\"#f0f921\"]],\"type\":\"contour\"}],\"contourcarpet\":[{\"colorbar\":{\"outlinewidth\":0,\"ticks\":\"\"},\"type\":\"contourcarpet\"}],\"heatmap\":[{\"colorbar\":{\"outlinewidth\":0,\"ticks\":\"\"},\"colorscale\":[[0.0,\"#0d0887\"],[0.1111111111111111,\"#46039f\"],[0.2222222222222222,\"#7201a8\"],[0.3333333333333333,\"#9c179e\"],[0.4444444444444444,\"#bd3786\"],[0.5555555555555556,\"#d8576b\"],[0.6666666666666666,\"#ed7953\"],[0.7777777777777778,\"#fb9f3a\"],[0.8888888888888888,\"#fdca26\"],[1.0,\"#f0f921\"]],\"type\":\"heatmap\"}],\"heatmapgl\":[{\"colorbar\":{\"outlinewidth\":0,\"ticks\":\"\"},\"colorscale\":[[0.0,\"#0d0887\"],[0.1111111111111111,\"#46039f\"],[0.2222222222222222,\"#7201a8\"],[0.3333333333333333,\"#9c179e\"],[0.4444444444444444,\"#bd3786\"],[0.5555555555555556,\"#d8576b\"],[0.6666666666666666,\"#ed7953\"],[0.7777777777777778,\"#fb9f3a\"],[0.8888888888888888,\"#fdca26\"],[1.0,\"#f0f921\"]],\"type\":\"heatmapgl\"}],\"histogram\":[{\"marker\":{\"pattern\":{\"fillmode\":\"overlay\",\"size\":10,\"solidity\":0.2}},\"type\":\"histogram\"}],\"histogram2d\":[{\"colorbar\":{\"outlinewidth\":0,\"ticks\":\"\"},\"colorscale\":[[0.0,\"#0d0887\"],[0.1111111111111111,\"#46039f\"],[0.2222222222222222,\"#7201a8\"],[0.3333333333333333,\"#9c179e\"],[0.4444444444444444,\"#bd3786\"],[0.5555555555555556,\"#d8576b\"],[0.6666666666666666,\"#ed7953\"],[0.7777777777777778,\"#fb9f3a\"],[0.8888888888888888,\"#fdca26\"],[1.0,\"#f0f921\"]],\"type\":\"histogram2d\"}],\"histogram2dcontour\":[{\"colorbar\":{\"outlinewidth\":0,\"ticks\":\"\"},\"colorscale\":[[0.0,\"#0d0887\"],[0.1111111111111111,\"#46039f\"],[0.2222222222222222,\"#7201a8\"],[0.3333333333333333,\"#9c179e\"],[0.4444444444444444,\"#bd3786\"],[0.5555555555555556,\"#d8576b\"],[0.6666666666666666,\"#ed7953\"],[0.7777777777777778,\"#fb9f3a\"],[0.8888888888888888,\"#fdca26\"],[1.0,\"#f0f921\"]],\"type\":\"histogram2dcontour\"}],\"mesh3d\":[{\"colorbar\":{\"outlinewidth\":0,\"ticks\":\"\"},\"type\":\"mesh3d\"}],\"parcoords\":[{\"line\":{\"colorbar\":{\"outlinewidth\":0,\"ticks\":\"\"}},\"type\":\"parcoords\"}],\"pie\":[{\"automargin\":true,\"type\":\"pie\"}],\"scatter\":[{\"marker\":{\"colorbar\":{\"outlinewidth\":0,\"ticks\":\"\"}},\"type\":\"scatter\"}],\"scatter3d\":[{\"line\":{\"colorbar\":{\"outlinewidth\":0,\"ticks\":\"\"}},\"marker\":{\"colorbar\":{\"outlinewidth\":0,\"ticks\":\"\"}},\"type\":\"scatter3d\"}],\"scattercarpet\":[{\"marker\":{\"colorbar\":{\"outlinewidth\":0,\"ticks\":\"\"}},\"type\":\"scattercarpet\"}],\"scattergeo\":[{\"marker\":{\"colorbar\":{\"outlinewidth\":0,\"ticks\":\"\"}},\"type\":\"scattergeo\"}],\"scattergl\":[{\"marker\":{\"colorbar\":{\"outlinewidth\":0,\"ticks\":\"\"}},\"type\":\"scattergl\"}],\"scattermapbox\":[{\"marker\":{\"colorbar\":{\"outlinewidth\":0,\"ticks\":\"\"}},\"type\":\"scattermapbox\"}],\"scatterpolar\":[{\"marker\":{\"colorbar\":{\"outlinewidth\":0,\"ticks\":\"\"}},\"type\":\"scatterpolar\"}],\"scatterpolargl\":[{\"marker\":{\"colorbar\":{\"outlinewidth\":0,\"ticks\":\"\"}},\"type\":\"scatterpolargl\"}],\"scatterternary\":[{\"marker\":{\"colorbar\":{\"outlinewidth\":0,\"ticks\":\"\"}},\"type\":\"scatterternary\"}],\"surface\":[{\"colorbar\":{\"outlinewidth\":0,\"ticks\":\"\"},\"colorscale\":[[0.0,\"#0d0887\"],[0.1111111111111111,\"#46039f\"],[0.2222222222222222,\"#7201a8\"],[0.3333333333333333,\"#9c179e\"],[0.4444444444444444,\"#bd3786\"],[0.5555555555555556,\"#d8576b\"],[0.6666666666666666,\"#ed7953\"],[0.7777777777777778,\"#fb9f3a\"],[0.8888888888888888,\"#fdca26\"],[1.0,\"#f0f921\"]],\"type\":\"surface\"}],\"table\":[{\"cells\":{\"fill\":{\"color\":\"#EBF0F8\"},\"line\":{\"color\":\"white\"}},\"header\":{\"fill\":{\"color\":\"#C8D4E3\"},\"line\":{\"color\":\"white\"}},\"type\":\"table\"}]},\"layout\":{\"annotationdefaults\":{\"arrowcolor\":\"#2a3f5f\",\"arrowhead\":0,\"arrowwidth\":1},\"autotypenumbers\":\"strict\",\"coloraxis\":{\"colorbar\":{\"outlinewidth\":0,\"ticks\":\"\"}},\"colorscale\":{\"diverging\":[[0,\"#8e0152\"],[0.1,\"#c51b7d\"],[0.2,\"#de77ae\"],[0.3,\"#f1b6da\"],[0.4,\"#fde0ef\"],[0.5,\"#f7f7f7\"],[0.6,\"#e6f5d0\"],[0.7,\"#b8e186\"],[0.8,\"#7fbc41\"],[0.9,\"#4d9221\"],[1,\"#276419\"]],\"sequential\":[[0.0,\"#0d0887\"],[0.1111111111111111,\"#46039f\"],[0.2222222222222222,\"#7201a8\"],[0.3333333333333333,\"#9c179e\"],[0.4444444444444444,\"#bd3786\"],[0.5555555555555556,\"#d8576b\"],[0.6666666666666666,\"#ed7953\"],[0.7777777777777778,\"#fb9f3a\"],[0.8888888888888888,\"#fdca26\"],[1.0,\"#f0f921\"]],\"sequentialminus\":[[0.0,\"#0d0887\"],[0.1111111111111111,\"#46039f\"],[0.2222222222222222,\"#7201a8\"],[0.3333333333333333,\"#9c179e\"],[0.4444444444444444,\"#bd3786\"],[0.5555555555555556,\"#d8576b\"],[0.6666666666666666,\"#ed7953\"],[0.7777777777777778,\"#fb9f3a\"],[0.8888888888888888,\"#fdca26\"],[1.0,\"#f0f921\"]]},\"colorway\":[\"#636efa\",\"#EF553B\",\"#00cc96\",\"#ab63fa\",\"#FFA15A\",\"#19d3f3\",\"#FF6692\",\"#B6E880\",\"#FF97FF\",\"#FECB52\"],\"font\":{\"color\":\"#2a3f5f\"},\"geo\":{\"bgcolor\":\"white\",\"lakecolor\":\"white\",\"landcolor\":\"#E5ECF6\",\"showlakes\":true,\"showland\":true,\"subunitcolor\":\"white\"},\"hoverlabel\":{\"align\":\"left\"},\"hovermode\":\"closest\",\"mapbox\":{\"style\":\"light\"},\"paper_bgcolor\":\"white\",\"plot_bgcolor\":\"#E5ECF6\",\"polar\":{\"angularaxis\":{\"gridcolor\":\"white\",\"linecolor\":\"white\",\"ticks\":\"\"},\"bgcolor\":\"#E5ECF6\",\"radialaxis\":{\"gridcolor\":\"white\",\"linecolor\":\"white\",\"ticks\":\"\"}},\"scene\":{\"xaxis\":{\"backgroundcolor\":\"#E5ECF6\",\"gridcolor\":\"white\",\"gridwidth\":2,\"linecolor\":\"white\",\"showbackground\":true,\"ticks\":\"\",\"zerolinecolor\":\"white\"},\"yaxis\":{\"backgroundcolor\":\"#E5ECF6\",\"gridcolor\":\"white\",\"gridwidth\":2,\"linecolor\":\"white\",\"showbackground\":true,\"ticks\":\"\",\"zerolinecolor\":\"white\"},\"zaxis\":{\"backgroundcolor\":\"#E5ECF6\",\"gridcolor\":\"white\",\"gridwidth\":2,\"linecolor\":\"white\",\"showbackground\":true,\"ticks\":\"\",\"zerolinecolor\":\"white\"}},\"shapedefaults\":{\"line\":{\"color\":\"#2a3f5f\"}},\"ternary\":{\"aaxis\":{\"gridcolor\":\"white\",\"linecolor\":\"white\",\"ticks\":\"\"},\"baxis\":{\"gridcolor\":\"white\",\"linecolor\":\"white\",\"ticks\":\"\"},\"bgcolor\":\"#E5ECF6\",\"caxis\":{\"gridcolor\":\"white\",\"linecolor\":\"white\",\"ticks\":\"\"}},\"title\":{\"x\":0.05},\"xaxis\":{\"automargin\":true,\"gridcolor\":\"white\",\"linecolor\":\"white\",\"ticks\":\"\",\"title\":{\"standoff\":15},\"zerolinecolor\":\"white\",\"zerolinewidth\":2},\"yaxis\":{\"automargin\":true,\"gridcolor\":\"white\",\"linecolor\":\"white\",\"ticks\":\"\",\"title\":{\"standoff\":15},\"zerolinecolor\":\"white\",\"zerolinewidth\":2}}},\"yaxis\":{\"title\":{\"text\":\"RMSE\"}}},                        {\"responsive\": true}                    ).then(function(){\n",
       "                            \n",
       "var gd = document.getElementById('3446fff5-9acf-4cec-974e-4fceaf42292d');\n",
       "var x = new MutationObserver(function (mutations, observer) {{\n",
       "        var display = window.getComputedStyle(gd).display;\n",
       "        if (!display || display === 'none') {{\n",
       "            console.log([gd, 'removed!']);\n",
       "            Plotly.purge(gd);\n",
       "            observer.disconnect();\n",
       "        }}\n",
       "}});\n",
       "\n",
       "// Listen for the removal of the full notebook cells\n",
       "var notebookContainer = gd.closest('#notebook-container');\n",
       "if (notebookContainer) {{\n",
       "    x.observe(notebookContainer, {childList: true});\n",
       "}}\n",
       "\n",
       "// Listen for the clearing of the current output cell\n",
       "var outputEl = gd.closest('.output');\n",
       "if (outputEl) {{\n",
       "    x.observe(outputEl, {childList: true});\n",
       "}}\n",
       "\n",
       "                        })                };                });            </script>        </div>"
      ]
     },
     "metadata": {},
     "output_type": "display_data"
    }
   ],
   "source": [
    "ridge_model.fit(tr, tr['mpg'])\n",
    "models[\"RidgeN(alpha=0.5)\"] = ridge_model\n",
    "compare_models(models)"
   ]
  },
  {
   "cell_type": "markdown",
   "metadata": {},
   "source": [
    "Notice that as we introduce regularization we are reducing the cross validation error and also increasing the training error."
   ]
  },
  {
   "cell_type": "markdown",
   "metadata": {},
   "source": [
    "What about different $\\alpha$ hyper-parameter values?"
   ]
  },
  {
   "cell_type": "code",
   "execution_count": 32,
   "metadata": {},
   "outputs": [],
   "source": [
    "ridge_model = Pipeline([\n",
    "    (\"SelectColumns\", ColumnTransformer([\n",
    "        (\"keep\", StandardScaler(), quantitative_features),\n",
    "        (\"origin_encoder\", OneHotEncoder(), [\"origin\"]),\n",
    "        (\"text\", CountVectorizer(), \"name\")\n",
    "    ])),\n",
    "    (\"Imputation\", SimpleImputer()),\n",
    "    (\"LinearModel\", Ridge(alpha=10))\n",
    "])"
   ]
  },
  {
   "cell_type": "code",
   "execution_count": 33,
   "metadata": {},
   "outputs": [
    {
     "data": {
      "application/vnd.plotly.v1+json": {
       "config": {
        "plotlyServerURL": "https://plot.ly"
       },
       "data": [
        {
         "name": "Training RMSE",
         "type": "bar",
         "x": [
          "c",
          "c,d",
          "c,d,h",
          "c,d,h,w",
          "c,d,h,w,a",
          "c,d,h,w,a,m",
          "c,d,h,w,a,m,o",
          "c,d,h,w,a,m,o,n",
          "Ridge(alpha=0.5)",
          "RidgeN(alpha=0.5)",
          "RidgeN(alpha=10)"
         ],
         "y": [
          4.888109236813688,
          4.58757379901803,
          4.525395490245242,
          4.216877763288668,
          4.213763450275894,
          3.3799994809258984,
          3.248822401205007,
          1.1387325746873735,
          3.392024331152466,
          1.3731123141095083,
          2.5640356668089086
         ]
        },
        {
         "name": "CV RMSE",
         "type": "bar",
         "x": [
          "c",
          "c,d",
          "c,d,h",
          "c,d,h,w",
          "c,d,h,w,a",
          "c,d,h,w,a,m",
          "c,d,h,w,a,m,o",
          "c,d,h,w,a,m,o,n",
          "Ridge(alpha=0.5)",
          "RidgeN(alpha=0.5)",
          "RidgeN(alpha=10)"
         ],
         "y": [
          4.876661068256957,
          4.579060426624026,
          4.556808311664747,
          4.252718625749385,
          4.256844728700814,
          3.4557657065586787,
          3.3323381513276,
          3.728904117236925,
          3.25010581041028,
          3.021326792517836,
          3.1232826527910533
         ]
        },
        {
         "name": "Test RMSE",
         "opacity": 0.3,
         "type": "bar",
         "x": [
          "c",
          "c,d",
          "c,d,h",
          "c,d,h,w",
          "c,d,h,w,a",
          "c,d,h,w,a,m",
          "c,d,h,w,a,m,o",
          "c,d,h,w,a,m,o,n",
          "Ridge(alpha=0.5)",
          "RidgeN(alpha=0.5)",
          "RidgeN(alpha=10)"
         ],
         "y": [
          5.055013548375552,
          4.7661569898523695,
          4.583861769980873,
          4.325847816131029,
          4.34988869276913,
          3.550828171640195,
          3.3746613014711673,
          3.507039743068532,
          3.4637255340236033,
          3.539174433911404,
          3.372074009903791
         ]
        }
       ],
       "layout": {
        "autosize": true,
        "template": {
         "data": {
          "bar": [
           {
            "error_x": {
             "color": "#2a3f5f"
            },
            "error_y": {
             "color": "#2a3f5f"
            },
            "marker": {
             "line": {
              "color": "#E5ECF6",
              "width": 0.5
             },
             "pattern": {
              "fillmode": "overlay",
              "size": 10,
              "solidity": 0.2
             }
            },
            "type": "bar"
           }
          ],
          "barpolar": [
           {
            "marker": {
             "line": {
              "color": "#E5ECF6",
              "width": 0.5
             },
             "pattern": {
              "fillmode": "overlay",
              "size": 10,
              "solidity": 0.2
             }
            },
            "type": "barpolar"
           }
          ],
          "carpet": [
           {
            "aaxis": {
             "endlinecolor": "#2a3f5f",
             "gridcolor": "white",
             "linecolor": "white",
             "minorgridcolor": "white",
             "startlinecolor": "#2a3f5f"
            },
            "baxis": {
             "endlinecolor": "#2a3f5f",
             "gridcolor": "white",
             "linecolor": "white",
             "minorgridcolor": "white",
             "startlinecolor": "#2a3f5f"
            },
            "type": "carpet"
           }
          ],
          "choropleth": [
           {
            "colorbar": {
             "outlinewidth": 0,
             "ticks": ""
            },
            "type": "choropleth"
           }
          ],
          "contour": [
           {
            "colorbar": {
             "outlinewidth": 0,
             "ticks": ""
            },
            "colorscale": [
             [
              0,
              "#0d0887"
             ],
             [
              0.1111111111111111,
              "#46039f"
             ],
             [
              0.2222222222222222,
              "#7201a8"
             ],
             [
              0.3333333333333333,
              "#9c179e"
             ],
             [
              0.4444444444444444,
              "#bd3786"
             ],
             [
              0.5555555555555556,
              "#d8576b"
             ],
             [
              0.6666666666666666,
              "#ed7953"
             ],
             [
              0.7777777777777778,
              "#fb9f3a"
             ],
             [
              0.8888888888888888,
              "#fdca26"
             ],
             [
              1,
              "#f0f921"
             ]
            ],
            "type": "contour"
           }
          ],
          "contourcarpet": [
           {
            "colorbar": {
             "outlinewidth": 0,
             "ticks": ""
            },
            "type": "contourcarpet"
           }
          ],
          "heatmap": [
           {
            "colorbar": {
             "outlinewidth": 0,
             "ticks": ""
            },
            "colorscale": [
             [
              0,
              "#0d0887"
             ],
             [
              0.1111111111111111,
              "#46039f"
             ],
             [
              0.2222222222222222,
              "#7201a8"
             ],
             [
              0.3333333333333333,
              "#9c179e"
             ],
             [
              0.4444444444444444,
              "#bd3786"
             ],
             [
              0.5555555555555556,
              "#d8576b"
             ],
             [
              0.6666666666666666,
              "#ed7953"
             ],
             [
              0.7777777777777778,
              "#fb9f3a"
             ],
             [
              0.8888888888888888,
              "#fdca26"
             ],
             [
              1,
              "#f0f921"
             ]
            ],
            "type": "heatmap"
           }
          ],
          "heatmapgl": [
           {
            "colorbar": {
             "outlinewidth": 0,
             "ticks": ""
            },
            "colorscale": [
             [
              0,
              "#0d0887"
             ],
             [
              0.1111111111111111,
              "#46039f"
             ],
             [
              0.2222222222222222,
              "#7201a8"
             ],
             [
              0.3333333333333333,
              "#9c179e"
             ],
             [
              0.4444444444444444,
              "#bd3786"
             ],
             [
              0.5555555555555556,
              "#d8576b"
             ],
             [
              0.6666666666666666,
              "#ed7953"
             ],
             [
              0.7777777777777778,
              "#fb9f3a"
             ],
             [
              0.8888888888888888,
              "#fdca26"
             ],
             [
              1,
              "#f0f921"
             ]
            ],
            "type": "heatmapgl"
           }
          ],
          "histogram": [
           {
            "marker": {
             "pattern": {
              "fillmode": "overlay",
              "size": 10,
              "solidity": 0.2
             }
            },
            "type": "histogram"
           }
          ],
          "histogram2d": [
           {
            "colorbar": {
             "outlinewidth": 0,
             "ticks": ""
            },
            "colorscale": [
             [
              0,
              "#0d0887"
             ],
             [
              0.1111111111111111,
              "#46039f"
             ],
             [
              0.2222222222222222,
              "#7201a8"
             ],
             [
              0.3333333333333333,
              "#9c179e"
             ],
             [
              0.4444444444444444,
              "#bd3786"
             ],
             [
              0.5555555555555556,
              "#d8576b"
             ],
             [
              0.6666666666666666,
              "#ed7953"
             ],
             [
              0.7777777777777778,
              "#fb9f3a"
             ],
             [
              0.8888888888888888,
              "#fdca26"
             ],
             [
              1,
              "#f0f921"
             ]
            ],
            "type": "histogram2d"
           }
          ],
          "histogram2dcontour": [
           {
            "colorbar": {
             "outlinewidth": 0,
             "ticks": ""
            },
            "colorscale": [
             [
              0,
              "#0d0887"
             ],
             [
              0.1111111111111111,
              "#46039f"
             ],
             [
              0.2222222222222222,
              "#7201a8"
             ],
             [
              0.3333333333333333,
              "#9c179e"
             ],
             [
              0.4444444444444444,
              "#bd3786"
             ],
             [
              0.5555555555555556,
              "#d8576b"
             ],
             [
              0.6666666666666666,
              "#ed7953"
             ],
             [
              0.7777777777777778,
              "#fb9f3a"
             ],
             [
              0.8888888888888888,
              "#fdca26"
             ],
             [
              1,
              "#f0f921"
             ]
            ],
            "type": "histogram2dcontour"
           }
          ],
          "mesh3d": [
           {
            "colorbar": {
             "outlinewidth": 0,
             "ticks": ""
            },
            "type": "mesh3d"
           }
          ],
          "parcoords": [
           {
            "line": {
             "colorbar": {
              "outlinewidth": 0,
              "ticks": ""
             }
            },
            "type": "parcoords"
           }
          ],
          "pie": [
           {
            "automargin": true,
            "type": "pie"
           }
          ],
          "scatter": [
           {
            "marker": {
             "colorbar": {
              "outlinewidth": 0,
              "ticks": ""
             }
            },
            "type": "scatter"
           }
          ],
          "scatter3d": [
           {
            "line": {
             "colorbar": {
              "outlinewidth": 0,
              "ticks": ""
             }
            },
            "marker": {
             "colorbar": {
              "outlinewidth": 0,
              "ticks": ""
             }
            },
            "type": "scatter3d"
           }
          ],
          "scattercarpet": [
           {
            "marker": {
             "colorbar": {
              "outlinewidth": 0,
              "ticks": ""
             }
            },
            "type": "scattercarpet"
           }
          ],
          "scattergeo": [
           {
            "marker": {
             "colorbar": {
              "outlinewidth": 0,
              "ticks": ""
             }
            },
            "type": "scattergeo"
           }
          ],
          "scattergl": [
           {
            "marker": {
             "colorbar": {
              "outlinewidth": 0,
              "ticks": ""
             }
            },
            "type": "scattergl"
           }
          ],
          "scattermapbox": [
           {
            "marker": {
             "colorbar": {
              "outlinewidth": 0,
              "ticks": ""
             }
            },
            "type": "scattermapbox"
           }
          ],
          "scatterpolar": [
           {
            "marker": {
             "colorbar": {
              "outlinewidth": 0,
              "ticks": ""
             }
            },
            "type": "scatterpolar"
           }
          ],
          "scatterpolargl": [
           {
            "marker": {
             "colorbar": {
              "outlinewidth": 0,
              "ticks": ""
             }
            },
            "type": "scatterpolargl"
           }
          ],
          "scatterternary": [
           {
            "marker": {
             "colorbar": {
              "outlinewidth": 0,
              "ticks": ""
             }
            },
            "type": "scatterternary"
           }
          ],
          "surface": [
           {
            "colorbar": {
             "outlinewidth": 0,
             "ticks": ""
            },
            "colorscale": [
             [
              0,
              "#0d0887"
             ],
             [
              0.1111111111111111,
              "#46039f"
             ],
             [
              0.2222222222222222,
              "#7201a8"
             ],
             [
              0.3333333333333333,
              "#9c179e"
             ],
             [
              0.4444444444444444,
              "#bd3786"
             ],
             [
              0.5555555555555556,
              "#d8576b"
             ],
             [
              0.6666666666666666,
              "#ed7953"
             ],
             [
              0.7777777777777778,
              "#fb9f3a"
             ],
             [
              0.8888888888888888,
              "#fdca26"
             ],
             [
              1,
              "#f0f921"
             ]
            ],
            "type": "surface"
           }
          ],
          "table": [
           {
            "cells": {
             "fill": {
              "color": "#EBF0F8"
             },
             "line": {
              "color": "white"
             }
            },
            "header": {
             "fill": {
              "color": "#C8D4E3"
             },
             "line": {
              "color": "white"
             }
            },
            "type": "table"
           }
          ]
         },
         "layout": {
          "annotationdefaults": {
           "arrowcolor": "#2a3f5f",
           "arrowhead": 0,
           "arrowwidth": 1
          },
          "autotypenumbers": "strict",
          "coloraxis": {
           "colorbar": {
            "outlinewidth": 0,
            "ticks": ""
           }
          },
          "colorscale": {
           "diverging": [
            [
             0,
             "#8e0152"
            ],
            [
             0.1,
             "#c51b7d"
            ],
            [
             0.2,
             "#de77ae"
            ],
            [
             0.3,
             "#f1b6da"
            ],
            [
             0.4,
             "#fde0ef"
            ],
            [
             0.5,
             "#f7f7f7"
            ],
            [
             0.6,
             "#e6f5d0"
            ],
            [
             0.7,
             "#b8e186"
            ],
            [
             0.8,
             "#7fbc41"
            ],
            [
             0.9,
             "#4d9221"
            ],
            [
             1,
             "#276419"
            ]
           ],
           "sequential": [
            [
             0,
             "#0d0887"
            ],
            [
             0.1111111111111111,
             "#46039f"
            ],
            [
             0.2222222222222222,
             "#7201a8"
            ],
            [
             0.3333333333333333,
             "#9c179e"
            ],
            [
             0.4444444444444444,
             "#bd3786"
            ],
            [
             0.5555555555555556,
             "#d8576b"
            ],
            [
             0.6666666666666666,
             "#ed7953"
            ],
            [
             0.7777777777777778,
             "#fb9f3a"
            ],
            [
             0.8888888888888888,
             "#fdca26"
            ],
            [
             1,
             "#f0f921"
            ]
           ],
           "sequentialminus": [
            [
             0,
             "#0d0887"
            ],
            [
             0.1111111111111111,
             "#46039f"
            ],
            [
             0.2222222222222222,
             "#7201a8"
            ],
            [
             0.3333333333333333,
             "#9c179e"
            ],
            [
             0.4444444444444444,
             "#bd3786"
            ],
            [
             0.5555555555555556,
             "#d8576b"
            ],
            [
             0.6666666666666666,
             "#ed7953"
            ],
            [
             0.7777777777777778,
             "#fb9f3a"
            ],
            [
             0.8888888888888888,
             "#fdca26"
            ],
            [
             1,
             "#f0f921"
            ]
           ]
          },
          "colorway": [
           "#636efa",
           "#EF553B",
           "#00cc96",
           "#ab63fa",
           "#FFA15A",
           "#19d3f3",
           "#FF6692",
           "#B6E880",
           "#FF97FF",
           "#FECB52"
          ],
          "font": {
           "color": "#2a3f5f"
          },
          "geo": {
           "bgcolor": "white",
           "lakecolor": "white",
           "landcolor": "#E5ECF6",
           "showlakes": true,
           "showland": true,
           "subunitcolor": "white"
          },
          "hoverlabel": {
           "align": "left"
          },
          "hovermode": "closest",
          "mapbox": {
           "style": "light"
          },
          "paper_bgcolor": "white",
          "plot_bgcolor": "#E5ECF6",
          "polar": {
           "angularaxis": {
            "gridcolor": "white",
            "linecolor": "white",
            "ticks": ""
           },
           "bgcolor": "#E5ECF6",
           "radialaxis": {
            "gridcolor": "white",
            "linecolor": "white",
            "ticks": ""
           }
          },
          "scene": {
           "xaxis": {
            "backgroundcolor": "#E5ECF6",
            "gridcolor": "white",
            "gridwidth": 2,
            "linecolor": "white",
            "showbackground": true,
            "ticks": "",
            "zerolinecolor": "white"
           },
           "yaxis": {
            "backgroundcolor": "#E5ECF6",
            "gridcolor": "white",
            "gridwidth": 2,
            "linecolor": "white",
            "showbackground": true,
            "ticks": "",
            "zerolinecolor": "white"
           },
           "zaxis": {
            "backgroundcolor": "#E5ECF6",
            "gridcolor": "white",
            "gridwidth": 2,
            "linecolor": "white",
            "showbackground": true,
            "ticks": "",
            "zerolinecolor": "white"
           }
          },
          "shapedefaults": {
           "line": {
            "color": "#2a3f5f"
           }
          },
          "ternary": {
           "aaxis": {
            "gridcolor": "white",
            "linecolor": "white",
            "ticks": ""
           },
           "baxis": {
            "gridcolor": "white",
            "linecolor": "white",
            "ticks": ""
           },
           "bgcolor": "#E5ECF6",
           "caxis": {
            "gridcolor": "white",
            "linecolor": "white",
            "ticks": ""
           }
          },
          "title": {
           "x": 0.05
          },
          "xaxis": {
           "automargin": true,
           "gridcolor": "white",
           "linecolor": "white",
           "ticks": "",
           "title": {
            "standoff": 15
           },
           "zerolinecolor": "white",
           "zerolinewidth": 2
          },
          "yaxis": {
           "automargin": true,
           "gridcolor": "white",
           "linecolor": "white",
           "ticks": "",
           "title": {
            "standoff": 15
           },
           "zerolinecolor": "white",
           "zerolinewidth": 2
          }
         }
        },
        "xaxis": {
         "autorange": true,
         "range": [
          -0.5,
          10.5
         ],
         "type": "category"
        },
        "yaxis": {
         "autorange": true,
         "range": [
          0,
          5.321066893026897
         ],
         "title": {
          "text": "RMSE"
         },
         "type": "linear"
        }
       }
      },
      "image/png": "[encoded data removed]",
      "text/html": [
       "<div>                            <div id=\"f02cbaab-7e06-4b29-bb22-9cecf247c2b4\" class=\"plotly-graph-div\" style=\"height:525px; width:100%;\"></div>            <script type=\"text/javascript\">                require([\"plotly\"], function(Plotly) {                    window.PLOTLYENV=window.PLOTLYENV || {};                                    if (document.getElementById(\"f02cbaab-7e06-4b29-bb22-9cecf247c2b4\")) {                    Plotly.newPlot(                        \"f02cbaab-7e06-4b29-bb22-9cecf247c2b4\",                        [{\"name\":\"Training RMSE\",\"type\":\"bar\",\"x\":[\"c\",\"c,d\",\"c,d,h\",\"c,d,h,w\",\"c,d,h,w,a\",\"c,d,h,w,a,m\",\"c,d,h,w,a,m,o\",\"c,d,h,w,a,m,o,n\",\"Ridge(alpha=0.5)\",\"RidgeN(alpha=0.5)\",\"RidgeN(alpha=10)\"],\"y\":[4.888109236813688,4.58757379901803,4.525395490245242,4.216877763288668,4.213763450275894,3.3799994809258984,3.248822401205007,1.1387325746873735,3.392024331152466,1.3731123141095083,2.5640356668089086]},{\"name\":\"CV RMSE\",\"type\":\"bar\",\"x\":[\"c\",\"c,d\",\"c,d,h\",\"c,d,h,w\",\"c,d,h,w,a\",\"c,d,h,w,a,m\",\"c,d,h,w,a,m,o\",\"c,d,h,w,a,m,o,n\",\"Ridge(alpha=0.5)\",\"RidgeN(alpha=0.5)\",\"RidgeN(alpha=10)\"],\"y\":[4.876661068256957,4.579060426624026,4.556808311664747,4.252718625749385,4.256844728700814,3.4557657065586787,3.3323381513276,3.728904117236925,3.25010581041028,3.021326792517836,3.1232826527910533]},{\"name\":\"Test RMSE\",\"opacity\":0.3,\"type\":\"bar\",\"x\":[\"c\",\"c,d\",\"c,d,h\",\"c,d,h,w\",\"c,d,h,w,a\",\"c,d,h,w,a,m\",\"c,d,h,w,a,m,o\",\"c,d,h,w,a,m,o,n\",\"Ridge(alpha=0.5)\",\"RidgeN(alpha=0.5)\",\"RidgeN(alpha=10)\"],\"y\":[5.055013548375552,4.7661569898523695,4.583861769980873,4.325847816131029,4.34988869276913,3.550828171640195,3.3746613014711673,3.507039743068532,3.4637255340236033,3.539174433911404,3.372074009903791]}],                        {\"template\":{\"data\":{\"bar\":[{\"error_x\":{\"color\":\"#2a3f5f\"},\"error_y\":{\"color\":\"#2a3f5f\"},\"marker\":{\"line\":{\"color\":\"#E5ECF6\",\"width\":0.5},\"pattern\":{\"fillmode\":\"overlay\",\"size\":10,\"solidity\":0.2}},\"type\":\"bar\"}],\"barpolar\":[{\"marker\":{\"line\":{\"color\":\"#E5ECF6\",\"width\":0.5},\"pattern\":{\"fillmode\":\"overlay\",\"size\":10,\"solidity\":0.2}},\"type\":\"barpolar\"}],\"carpet\":[{\"aaxis\":{\"endlinecolor\":\"#2a3f5f\",\"gridcolor\":\"white\",\"linecolor\":\"white\",\"minorgridcolor\":\"white\",\"startlinecolor\":\"#2a3f5f\"},\"baxis\":{\"endlinecolor\":\"#2a3f5f\",\"gridcolor\":\"white\",\"linecolor\":\"white\",\"minorgridcolor\":\"white\",\"startlinecolor\":\"#2a3f5f\"},\"type\":\"carpet\"}],\"choropleth\":[{\"colorbar\":{\"outlinewidth\":0,\"ticks\":\"\"},\"type\":\"choropleth\"}],\"contour\":[{\"colorbar\":{\"outlinewidth\":0,\"ticks\":\"\"},\"colorscale\":[[0.0,\"#0d0887\"],[0.1111111111111111,\"#46039f\"],[0.2222222222222222,\"#7201a8\"],[0.3333333333333333,\"#9c179e\"],[0.4444444444444444,\"#bd3786\"],[0.5555555555555556,\"#d8576b\"],[0.6666666666666666,\"#ed7953\"],[0.7777777777777778,\"#fb9f3a\"],[0.8888888888888888,\"#fdca26\"],[1.0,\"#f0f921\"]],\"type\":\"contour\"}],\"contourcarpet\":[{\"colorbar\":{\"outlinewidth\":0,\"ticks\":\"\"},\"type\":\"contourcarpet\"}],\"heatmap\":[{\"colorbar\":{\"outlinewidth\":0,\"ticks\":\"\"},\"colorscale\":[[0.0,\"#0d0887\"],[0.1111111111111111,\"#46039f\"],[0.2222222222222222,\"#7201a8\"],[0.3333333333333333,\"#9c179e\"],[0.4444444444444444,\"#bd3786\"],[0.5555555555555556,\"#d8576b\"],[0.6666666666666666,\"#ed7953\"],[0.7777777777777778,\"#fb9f3a\"],[0.8888888888888888,\"#fdca26\"],[1.0,\"#f0f921\"]],\"type\":\"heatmap\"}],\"heatmapgl\":[{\"colorbar\":{\"outlinewidth\":0,\"ticks\":\"\"},\"colorscale\":[[0.0,\"#0d0887\"],[0.1111111111111111,\"#46039f\"],[0.2222222222222222,\"#7201a8\"],[0.3333333333333333,\"#9c179e\"],[0.4444444444444444,\"#bd3786\"],[0.5555555555555556,\"#d8576b\"],[0.6666666666666666,\"#ed7953\"],[0.7777777777777778,\"#fb9f3a\"],[0.8888888888888888,\"#fdca26\"],[1.0,\"#f0f921\"]],\"type\":\"heatmapgl\"}],\"histogram\":[{\"marker\":{\"pattern\":{\"fillmode\":\"overlay\",\"size\":10,\"solidity\":0.2}},\"type\":\"histogram\"}],\"histogram2d\":[{\"colorbar\":{\"outlinewidth\":0,\"ticks\":\"\"},\"colorscale\":[[0.0,\"#0d0887\"],[0.1111111111111111,\"#46039f\"],[0.2222222222222222,\"#7201a8\"],[0.3333333333333333,\"#9c179e\"],[0.4444444444444444,\"#bd3786\"],[0.5555555555555556,\"#d8576b\"],[0.6666666666666666,\"#ed7953\"],[0.7777777777777778,\"#fb9f3a\"],[0.8888888888888888,\"#fdca26\"],[1.0,\"#f0f921\"]],\"type\":\"histogram2d\"}],\"histogram2dcontour\":[{\"colorbar\":{\"outlinewidth\":0,\"ticks\":\"\"},\"colorscale\":[[0.0,\"#0d0887\"],[0.1111111111111111,\"#46039f\"],[0.2222222222222222,\"#7201a8\"],[0.3333333333333333,\"#9c179e\"],[0.4444444444444444,\"#bd3786\"],[0.5555555555555556,\"#d8576b\"],[0.6666666666666666,\"#ed7953\"],[0.7777777777777778,\"#fb9f3a\"],[0.8888888888888888,\"#fdca26\"],[1.0,\"#f0f921\"]],\"type\":\"histogram2dcontour\"}],\"mesh3d\":[{\"colorbar\":{\"outlinewidth\":0,\"ticks\":\"\"},\"type\":\"mesh3d\"}],\"parcoords\":[{\"line\":{\"colorbar\":{\"outlinewidth\":0,\"ticks\":\"\"}},\"type\":\"parcoords\"}],\"pie\":[{\"automargin\":true,\"type\":\"pie\"}],\"scatter\":[{\"marker\":{\"colorbar\":{\"outlinewidth\":0,\"ticks\":\"\"}},\"type\":\"scatter\"}],\"scatter3d\":[{\"line\":{\"colorbar\":{\"outlinewidth\":0,\"ticks\":\"\"}},\"marker\":{\"colorbar\":{\"outlinewidth\":0,\"ticks\":\"\"}},\"type\":\"scatter3d\"}],\"scattercarpet\":[{\"marker\":{\"colorbar\":{\"outlinewidth\":0,\"ticks\":\"\"}},\"type\":\"scattercarpet\"}],\"scattergeo\":[{\"marker\":{\"colorbar\":{\"outlinewidth\":0,\"ticks\":\"\"}},\"type\":\"scattergeo\"}],\"scattergl\":[{\"marker\":{\"colorbar\":{\"outlinewidth\":0,\"ticks\":\"\"}},\"type\":\"scattergl\"}],\"scattermapbox\":[{\"marker\":{\"colorbar\":{\"outlinewidth\":0,\"ticks\":\"\"}},\"type\":\"scattermapbox\"}],\"scatterpolar\":[{\"marker\":{\"colorbar\":{\"outlinewidth\":0,\"ticks\":\"\"}},\"type\":\"scatterpolar\"}],\"scatterpolargl\":[{\"marker\":{\"colorbar\":{\"outlinewidth\":0,\"ticks\":\"\"}},\"type\":\"scatterpolargl\"}],\"scatterternary\":[{\"marker\":{\"colorbar\":{\"outlinewidth\":0,\"ticks\":\"\"}},\"type\":\"scatterternary\"}],\"surface\":[{\"colorbar\":{\"outlinewidth\":0,\"ticks\":\"\"},\"colorscale\":[[0.0,\"#0d0887\"],[0.1111111111111111,\"#46039f\"],[0.2222222222222222,\"#7201a8\"],[0.3333333333333333,\"#9c179e\"],[0.4444444444444444,\"#bd3786\"],[0.5555555555555556,\"#d8576b\"],[0.6666666666666666,\"#ed7953\"],[0.7777777777777778,\"#fb9f3a\"],[0.8888888888888888,\"#fdca26\"],[1.0,\"#f0f921\"]],\"type\":\"surface\"}],\"table\":[{\"cells\":{\"fill\":{\"color\":\"#EBF0F8\"},\"line\":{\"color\":\"white\"}},\"header\":{\"fill\":{\"color\":\"#C8D4E3\"},\"line\":{\"color\":\"white\"}},\"type\":\"table\"}]},\"layout\":{\"annotationdefaults\":{\"arrowcolor\":\"#2a3f5f\",\"arrowhead\":0,\"arrowwidth\":1},\"autotypenumbers\":\"strict\",\"coloraxis\":{\"colorbar\":{\"outlinewidth\":0,\"ticks\":\"\"}},\"colorscale\":{\"diverging\":[[0,\"#8e0152\"],[0.1,\"#c51b7d\"],[0.2,\"#de77ae\"],[0.3,\"#f1b6da\"],[0.4,\"#fde0ef\"],[0.5,\"#f7f7f7\"],[0.6,\"#e6f5d0\"],[0.7,\"#b8e186\"],[0.8,\"#7fbc41\"],[0.9,\"#4d9221\"],[1,\"#276419\"]],\"sequential\":[[0.0,\"#0d0887\"],[0.1111111111111111,\"#46039f\"],[0.2222222222222222,\"#7201a8\"],[0.3333333333333333,\"#9c179e\"],[0.4444444444444444,\"#bd3786\"],[0.5555555555555556,\"#d8576b\"],[0.6666666666666666,\"#ed7953\"],[0.7777777777777778,\"#fb9f3a\"],[0.8888888888888888,\"#fdca26\"],[1.0,\"#f0f921\"]],\"sequentialminus\":[[0.0,\"#0d0887\"],[0.1111111111111111,\"#46039f\"],[0.2222222222222222,\"#7201a8\"],[0.3333333333333333,\"#9c179e\"],[0.4444444444444444,\"#bd3786\"],[0.5555555555555556,\"#d8576b\"],[0.6666666666666666,\"#ed7953\"],[0.7777777777777778,\"#fb9f3a\"],[0.8888888888888888,\"#fdca26\"],[1.0,\"#f0f921\"]]},\"colorway\":[\"#636efa\",\"#EF553B\",\"#00cc96\",\"#ab63fa\",\"#FFA15A\",\"#19d3f3\",\"#FF6692\",\"#B6E880\",\"#FF97FF\",\"#FECB52\"],\"font\":{\"color\":\"#2a3f5f\"},\"geo\":{\"bgcolor\":\"white\",\"lakecolor\":\"white\",\"landcolor\":\"#E5ECF6\",\"showlakes\":true,\"showland\":true,\"subunitcolor\":\"white\"},\"hoverlabel\":{\"align\":\"left\"},\"hovermode\":\"closest\",\"mapbox\":{\"style\":\"light\"},\"paper_bgcolor\":\"white\",\"plot_bgcolor\":\"#E5ECF6\",\"polar\":{\"angularaxis\":{\"gridcolor\":\"white\",\"linecolor\":\"white\",\"ticks\":\"\"},\"bgcolor\":\"#E5ECF6\",\"radialaxis\":{\"gridcolor\":\"white\",\"linecolor\":\"white\",\"ticks\":\"\"}},\"scene\":{\"xaxis\":{\"backgroundcolor\":\"#E5ECF6\",\"gridcolor\":\"white\",\"gridwidth\":2,\"linecolor\":\"white\",\"showbackground\":true,\"ticks\":\"\",\"zerolinecolor\":\"white\"},\"yaxis\":{\"backgroundcolor\":\"#E5ECF6\",\"gridcolor\":\"white\",\"gridwidth\":2,\"linecolor\":\"white\",\"showbackground\":true,\"ticks\":\"\",\"zerolinecolor\":\"white\"},\"zaxis\":{\"backgroundcolor\":\"#E5ECF6\",\"gridcolor\":\"white\",\"gridwidth\":2,\"linecolor\":\"white\",\"showbackground\":true,\"ticks\":\"\",\"zerolinecolor\":\"white\"}},\"shapedefaults\":{\"line\":{\"color\":\"#2a3f5f\"}},\"ternary\":{\"aaxis\":{\"gridcolor\":\"white\",\"linecolor\":\"white\",\"ticks\":\"\"},\"baxis\":{\"gridcolor\":\"white\",\"linecolor\":\"white\",\"ticks\":\"\"},\"bgcolor\":\"#E5ECF6\",\"caxis\":{\"gridcolor\":\"white\",\"linecolor\":\"white\",\"ticks\":\"\"}},\"title\":{\"x\":0.05},\"xaxis\":{\"automargin\":true,\"gridcolor\":\"white\",\"linecolor\":\"white\",\"ticks\":\"\",\"title\":{\"standoff\":15},\"zerolinecolor\":\"white\",\"zerolinewidth\":2},\"yaxis\":{\"automargin\":true,\"gridcolor\":\"white\",\"linecolor\":\"white\",\"ticks\":\"\",\"title\":{\"standoff\":15},\"zerolinecolor\":\"white\",\"zerolinewidth\":2}}},\"yaxis\":{\"title\":{\"text\":\"RMSE\"}}},                        {\"responsive\": true}                    ).then(function(){\n",
       "                            \n",
       "var gd = document.getElementById('f02cbaab-7e06-4b29-bb22-9cecf247c2b4');\n",
       "var x = new MutationObserver(function (mutations, observer) {{\n",
       "        var display = window.getComputedStyle(gd).display;\n",
       "        if (!display || display === 'none') {{\n",
       "            console.log([gd, 'removed!']);\n",
       "            Plotly.purge(gd);\n",
       "            observer.disconnect();\n",
       "        }}\n",
       "}});\n",
       "\n",
       "// Listen for the removal of the full notebook cells\n",
       "var notebookContainer = gd.closest('#notebook-container');\n",
       "if (notebookContainer) {{\n",
       "    x.observe(notebookContainer, {childList: true});\n",
       "}}\n",
       "\n",
       "// Listen for the clearing of the current output cell\n",
       "var outputEl = gd.closest('.output');\n",
       "if (outputEl) {{\n",
       "    x.observe(outputEl, {childList: true});\n",
       "}}\n",
       "\n",
       "                        })                };                });            </script>        </div>"
      ]
     },
     "metadata": {},
     "output_type": "display_data"
    }
   ],
   "source": [
    "ridge_model.fit(tr, tr['mpg'])\n",
    "models[\"RidgeN(alpha=10)\"] = ridge_model\n",
    "compare_models(models)"
   ]
  },
  {
   "cell_type": "markdown",
   "metadata": {},
   "source": [
    "That is too much regularization.  Let's use cross validation to pick the best value."
   ]
  },
  {
   "cell_type": "markdown",
   "metadata": {},
   "source": [
    "### Cross Validation to Tune Regularization Parameter\n",
    "\n",
    "The following uses cross validation to tune the regularization parameter."
   ]
  },
  {
   "cell_type": "code",
   "execution_count": 34,
   "metadata": {},
   "outputs": [],
   "source": [
    "ridge_model = Pipeline([\n",
    "    (\"SelectColumns\", ColumnTransformer([\n",
    "        (\"keep\", StandardScaler(), quantitative_features),\n",
    "        (\"origin_encoder\", OneHotEncoder(), [\"origin\"]),\n",
    "        (\"text\", CountVectorizer(), \"name\")\n",
    "    ])),\n",
    "    (\"Imputation\", SimpleImputer()),\n",
    "    (\"LinearModel\", Ridge(alpha=10))\n",
    "])\n",
    "\n",
    "alphas = np.linspace(0.5, 20, 30)\n",
    "cv_values = []\n",
    "train_values = []\n",
    "test_values = []\n",
    "for alpha in alphas:\n",
    "    ridge_model.set_params(LinearModel__alpha=alpha)\n",
    "    cv_values.append(np.mean(cross_val_score(ridge_model, tr, tr['mpg'], scoring=rmse_score, cv=5)))\n",
    "    ridge_model.fit(tr, tr['mpg'])\n",
    "    train_values.append(rmse_score(ridge_model, tr, tr['mpg']))\n",
    "    test_values.append(rmse_score(ridge_model, te, te['mpg']))"
   ]
  },
  {
   "cell_type": "markdown",
   "metadata": {},
   "source": [
    "We can plot the cross validation error against the different $\\alpha$ values and pick the $\\alpha$ with the smallest cross validation error. "
   ]
  },
  {
   "cell_type": "code",
   "execution_count": 35,
   "metadata": {},
   "outputs": [
    {
     "data": {
      "application/vnd.plotly.v1+json": {
       "config": {
        "plotlyServerURL": "https://plot.ly"
       },
       "data": [
        {
         "mode": "lines+markers",
         "name": "Train",
         "type": "scatter",
         "x": [
          0.5,
          1.1724137931034484,
          1.8448275862068966,
          2.5172413793103448,
          3.189655172413793,
          3.8620689655172415,
          4.5344827586206895,
          5.206896551724138,
          5.879310344827586,
          6.551724137931035,
          7.224137931034483,
          7.8965517241379315,
          8.568965517241379,
          9.241379310344827,
          9.913793103448276,
          10.586206896551724,
          11.258620689655173,
          11.931034482758621,
          12.60344827586207,
          13.275862068965518,
          13.948275862068966,
          14.620689655172415,
          15.293103448275863,
          15.965517241379311,
          16.637931034482758,
          17.310344827586206,
          17.982758620689655,
          18.655172413793103,
          19.32758620689655,
          20
         ],
         "y": [
          1.3731123141095083,
          1.6209136594178317,
          1.797322608152135,
          1.932877459299416,
          2.0375696190488655,
          2.1257608242249604,
          2.201753870795589,
          2.2649349954400115,
          2.3207657003551407,
          2.3706314651772273,
          2.4177266546792224,
          2.4579087333657186,
          2.4947574866565594,
          2.528721201651214,
          2.5601693755140307,
          2.5894091634644716,
          2.6166978523081057,
          2.6422521295041865,
          2.666256784764235,
          2.690536431788631,
          2.7116121200140704,
          2.7316022884592406,
          2.7505990281689026,
          2.7686840893205975,
          2.7859302699821495,
          2.8024026142818173,
          2.818159406380137,
          2.8332530382229653,
          2.847730731089845,
          2.86163517563297
         ]
        },
        {
         "mode": "lines+markers",
         "name": "CV",
         "type": "scatter",
         "x": [
          0.5,
          1.1724137931034484,
          1.8448275862068966,
          2.5172413793103448,
          3.189655172413793,
          3.8620689655172415,
          4.5344827586206895,
          5.206896551724138,
          5.879310344827586,
          6.551724137931035,
          7.224137931034483,
          7.8965517241379315,
          8.568965517241379,
          9.241379310344827,
          9.913793103448276,
          10.586206896551724,
          11.258620689655173,
          11.931034482758621,
          12.60344827586207,
          13.275862068965518,
          13.948275862068966,
          14.620689655172415,
          15.293103448275863,
          15.965517241379311,
          16.637931034482758,
          17.310344827586206,
          17.982758620689655,
          18.655172413793103,
          19.32758620689655,
          20
         ],
         "y": [
          3.021326792517836,
          2.946990261113301,
          2.9436529541924905,
          2.953578487902594,
          2.9694541396249763,
          2.9871393054492246,
          3.002268779253826,
          3.0202262315457937,
          3.0373872697060227,
          3.0536317050608086,
          3.069036382775667,
          3.082729627325308,
          3.0956517706694333,
          3.109010003423694,
          3.121708003837406,
          3.1335230769332982,
          3.1451754317171416,
          3.156139999950093,
          3.1689557821761403,
          3.1787549153014667,
          3.1881362174494496,
          3.197172579940146,
          3.2060538494109734,
          3.214428082289537,
          3.2224860479511506,
          3.2302709137262147,
          3.237798932896633,
          3.24508488512168,
          3.25216385436363,
          3.259004437803351
         ]
        },
        {
         "mode": "lines+markers",
         "name": "Test",
         "type": "scatter",
         "x": [
          0.5,
          1.1724137931034484,
          1.8448275862068966,
          2.5172413793103448,
          3.189655172413793,
          3.8620689655172415,
          4.5344827586206895,
          5.206896551724138,
          5.879310344827586,
          6.551724137931035,
          7.224137931034483,
          7.8965517241379315,
          8.568965517241379,
          9.241379310344827,
          9.913793103448276,
          10.586206896551724,
          11.258620689655173,
          11.931034482758621,
          12.60344827586207,
          13.275862068965518,
          13.948275862068966,
          14.620689655172415,
          15.293103448275863,
          15.965517241379311,
          16.637931034482758,
          17.310344827586206,
          17.982758620689655,
          18.655172413793103,
          19.32758620689655,
          20
         ],
         "y": [
          3.539174433911404,
          3.505734006037547,
          3.472979885334427,
          3.4524803343774506,
          3.4360275895979693,
          3.4273420379025143,
          3.4076201504498487,
          3.399260645685052,
          3.3923335967064605,
          3.386564282874257,
          3.388226570687131,
          3.3829847227454226,
          3.3787047833594173,
          3.375218205542624,
          3.372393812762555,
          3.370127662086183,
          3.3683361461482915,
          3.366951215811777,
          3.365916686265309,
          3.368367843514794,
          3.3674862083766564,
          3.3668985710488952,
          3.3665659560346843,
          3.366455459838091,
          3.3665391399548366,
          3.3667931353892016,
          3.367196967900046,
          3.367732979356572,
          3.3683858776744104,
          3.369142366015763
         ]
        }
       ],
       "layout": {
        "autosize": true,
        "template": {
         "data": {
          "bar": [
           {
            "error_x": {
             "color": "#2a3f5f"
            },
            "error_y": {
             "color": "#2a3f5f"
            },
            "marker": {
             "line": {
              "color": "#E5ECF6",
              "width": 0.5
             },
             "pattern": {
              "fillmode": "overlay",
              "size": 10,
              "solidity": 0.2
             }
            },
            "type": "bar"
           }
          ],
          "barpolar": [
           {
            "marker": {
             "line": {
              "color": "#E5ECF6",
              "width": 0.5
             },
             "pattern": {
              "fillmode": "overlay",
              "size": 10,
              "solidity": 0.2
             }
            },
            "type": "barpolar"
           }
          ],
          "carpet": [
           {
            "aaxis": {
             "endlinecolor": "#2a3f5f",
             "gridcolor": "white",
             "linecolor": "white",
             "minorgridcolor": "white",
             "startlinecolor": "#2a3f5f"
            },
            "baxis": {
             "endlinecolor": "#2a3f5f",
             "gridcolor": "white",
             "linecolor": "white",
             "minorgridcolor": "white",
             "startlinecolor": "#2a3f5f"
            },
            "type": "carpet"
           }
          ],
          "choropleth": [
           {
            "colorbar": {
             "outlinewidth": 0,
             "ticks": ""
            },
            "type": "choropleth"
           }
          ],
          "contour": [
           {
            "colorbar": {
             "outlinewidth": 0,
             "ticks": ""
            },
            "colorscale": [
             [
              0,
              "#0d0887"
             ],
             [
              0.1111111111111111,
              "#46039f"
             ],
             [
              0.2222222222222222,
              "#7201a8"
             ],
             [
              0.3333333333333333,
              "#9c179e"
             ],
             [
              0.4444444444444444,
              "#bd3786"
             ],
             [
              0.5555555555555556,
              "#d8576b"
             ],
             [
              0.6666666666666666,
              "#ed7953"
             ],
             [
              0.7777777777777778,
              "#fb9f3a"
             ],
             [
              0.8888888888888888,
              "#fdca26"
             ],
             [
              1,
              "#f0f921"
             ]
            ],
            "type": "contour"
           }
          ],
          "contourcarpet": [
           {
            "colorbar": {
             "outlinewidth": 0,
             "ticks": ""
            },
            "type": "contourcarpet"
           }
          ],
          "heatmap": [
           {
            "colorbar": {
             "outlinewidth": 0,
             "ticks": ""
            },
            "colorscale": [
             [
              0,
              "#0d0887"
             ],
             [
              0.1111111111111111,
              "#46039f"
             ],
             [
              0.2222222222222222,
              "#7201a8"
             ],
             [
              0.3333333333333333,
              "#9c179e"
             ],
             [
              0.4444444444444444,
              "#bd3786"
             ],
             [
              0.5555555555555556,
              "#d8576b"
             ],
             [
              0.6666666666666666,
              "#ed7953"
             ],
             [
              0.7777777777777778,
              "#fb9f3a"
             ],
             [
              0.8888888888888888,
              "#fdca26"
             ],
             [
              1,
              "#f0f921"
             ]
            ],
            "type": "heatmap"
           }
          ],
          "heatmapgl": [
           {
            "colorbar": {
             "outlinewidth": 0,
             "ticks": ""
            },
            "colorscale": [
             [
              0,
              "#0d0887"
             ],
             [
              0.1111111111111111,
              "#46039f"
             ],
             [
              0.2222222222222222,
              "#7201a8"
             ],
             [
              0.3333333333333333,
              "#9c179e"
             ],
             [
              0.4444444444444444,
              "#bd3786"
             ],
             [
              0.5555555555555556,
              "#d8576b"
             ],
             [
              0.6666666666666666,
              "#ed7953"
             ],
             [
              0.7777777777777778,
              "#fb9f3a"
             ],
             [
              0.8888888888888888,
              "#fdca26"
             ],
             [
              1,
              "#f0f921"
             ]
            ],
            "type": "heatmapgl"
           }
          ],
          "histogram": [
           {
            "marker": {
             "pattern": {
              "fillmode": "overlay",
              "size": 10,
              "solidity": 0.2
             }
            },
            "type": "histogram"
           }
          ],
          "histogram2d": [
           {
            "colorbar": {
             "outlinewidth": 0,
             "ticks": ""
            },
            "colorscale": [
             [
              0,
              "#0d0887"
             ],
             [
              0.1111111111111111,
              "#46039f"
             ],
             [
              0.2222222222222222,
              "#7201a8"
             ],
             [
              0.3333333333333333,
              "#9c179e"
             ],
             [
              0.4444444444444444,
              "#bd3786"
             ],
             [
              0.5555555555555556,
              "#d8576b"
             ],
             [
              0.6666666666666666,
              "#ed7953"
             ],
             [
              0.7777777777777778,
              "#fb9f3a"
             ],
             [
              0.8888888888888888,
              "#fdca26"
             ],
             [
              1,
              "#f0f921"
             ]
            ],
            "type": "histogram2d"
           }
          ],
          "histogram2dcontour": [
           {
            "colorbar": {
             "outlinewidth": 0,
             "ticks": ""
            },
            "colorscale": [
             [
              0,
              "#0d0887"
             ],
             [
              0.1111111111111111,
              "#46039f"
             ],
             [
              0.2222222222222222,
              "#7201a8"
             ],
             [
              0.3333333333333333,
              "#9c179e"
             ],
             [
              0.4444444444444444,
              "#bd3786"
             ],
             [
              0.5555555555555556,
              "#d8576b"
             ],
             [
              0.6666666666666666,
              "#ed7953"
             ],
             [
              0.7777777777777778,
              "#fb9f3a"
             ],
             [
              0.8888888888888888,
              "#fdca26"
             ],
             [
              1,
              "#f0f921"
             ]
            ],
            "type": "histogram2dcontour"
           }
          ],
          "mesh3d": [
           {
            "colorbar": {
             "outlinewidth": 0,
             "ticks": ""
            },
            "type": "mesh3d"
           }
          ],
          "parcoords": [
           {
            "line": {
             "colorbar": {
              "outlinewidth": 0,
              "ticks": ""
             }
            },
            "type": "parcoords"
           }
          ],
          "pie": [
           {
            "automargin": true,
            "type": "pie"
           }
          ],
          "scatter": [
           {
            "marker": {
             "colorbar": {
              "outlinewidth": 0,
              "ticks": ""
             }
            },
            "type": "scatter"
           }
          ],
          "scatter3d": [
           {
            "line": {
             "colorbar": {
              "outlinewidth": 0,
              "ticks": ""
             }
            },
            "marker": {
             "colorbar": {
              "outlinewidth": 0,
              "ticks": ""
             }
            },
            "type": "scatter3d"
           }
          ],
          "scattercarpet": [
           {
            "marker": {
             "colorbar": {
              "outlinewidth": 0,
              "ticks": ""
             }
            },
            "type": "scattercarpet"
           }
          ],
          "scattergeo": [
           {
            "marker": {
             "colorbar": {
              "outlinewidth": 0,
              "ticks": ""
             }
            },
            "type": "scattergeo"
           }
          ],
          "scattergl": [
           {
            "marker": {
             "colorbar": {
              "outlinewidth": 0,
              "ticks": ""
             }
            },
            "type": "scattergl"
           }
          ],
          "scattermapbox": [
           {
            "marker": {
             "colorbar": {
              "outlinewidth": 0,
              "ticks": ""
             }
            },
            "type": "scattermapbox"
           }
          ],
          "scatterpolar": [
           {
            "marker": {
             "colorbar": {
              "outlinewidth": 0,
              "ticks": ""
             }
            },
            "type": "scatterpolar"
           }
          ],
          "scatterpolargl": [
           {
            "marker": {
             "colorbar": {
              "outlinewidth": 0,
              "ticks": ""
             }
            },
            "type": "scatterpolargl"
           }
          ],
          "scatterternary": [
           {
            "marker": {
             "colorbar": {
              "outlinewidth": 0,
              "ticks": ""
             }
            },
            "type": "scatterternary"
           }
          ],
          "surface": [
           {
            "colorbar": {
             "outlinewidth": 0,
             "ticks": ""
            },
            "colorscale": [
             [
              0,
              "#0d0887"
             ],
             [
              0.1111111111111111,
              "#46039f"
             ],
             [
              0.2222222222222222,
              "#7201a8"
             ],
             [
              0.3333333333333333,
              "#9c179e"
             ],
             [
              0.4444444444444444,
              "#bd3786"
             ],
             [
              0.5555555555555556,
              "#d8576b"
             ],
             [
              0.6666666666666666,
              "#ed7953"
             ],
             [
              0.7777777777777778,
              "#fb9f3a"
             ],
             [
              0.8888888888888888,
              "#fdca26"
             ],
             [
              1,
              "#f0f921"
             ]
            ],
            "type": "surface"
           }
          ],
          "table": [
           {
            "cells": {
             "fill": {
              "color": "#EBF0F8"
             },
             "line": {
              "color": "white"
             }
            },
            "header": {
             "fill": {
              "color": "#C8D4E3"
             },
             "line": {
              "color": "white"
             }
            },
            "type": "table"
           }
          ]
         },
         "layout": {
          "annotationdefaults": {
           "arrowcolor": "#2a3f5f",
           "arrowhead": 0,
           "arrowwidth": 1
          },
          "autotypenumbers": "strict",
          "coloraxis": {
           "colorbar": {
            "outlinewidth": 0,
            "ticks": ""
           }
          },
          "colorscale": {
           "diverging": [
            [
             0,
             "#8e0152"
            ],
            [
             0.1,
             "#c51b7d"
            ],
            [
             0.2,
             "#de77ae"
            ],
            [
             0.3,
             "#f1b6da"
            ],
            [
             0.4,
             "#fde0ef"
            ],
            [
             0.5,
             "#f7f7f7"
            ],
            [
             0.6,
             "#e6f5d0"
            ],
            [
             0.7,
             "#b8e186"
            ],
            [
             0.8,
             "#7fbc41"
            ],
            [
             0.9,
             "#4d9221"
            ],
            [
             1,
             "#276419"
            ]
           ],
           "sequential": [
            [
             0,
             "#0d0887"
            ],
            [
             0.1111111111111111,
             "#46039f"
            ],
            [
             0.2222222222222222,
             "#7201a8"
            ],
            [
             0.3333333333333333,
             "#9c179e"
            ],
            [
             0.4444444444444444,
             "#bd3786"
            ],
            [
             0.5555555555555556,
             "#d8576b"
            ],
            [
             0.6666666666666666,
             "#ed7953"
            ],
            [
             0.7777777777777778,
             "#fb9f3a"
            ],
            [
             0.8888888888888888,
             "#fdca26"
            ],
            [
             1,
             "#f0f921"
            ]
           ],
           "sequentialminus": [
            [
             0,
             "#0d0887"
            ],
            [
             0.1111111111111111,
             "#46039f"
            ],
            [
             0.2222222222222222,
             "#7201a8"
            ],
            [
             0.3333333333333333,
             "#9c179e"
            ],
            [
             0.4444444444444444,
             "#bd3786"
            ],
            [
             0.5555555555555556,
             "#d8576b"
            ],
            [
             0.6666666666666666,
             "#ed7953"
            ],
            [
             0.7777777777777778,
             "#fb9f3a"
            ],
            [
             0.8888888888888888,
             "#fdca26"
            ],
            [
             1,
             "#f0f921"
            ]
           ]
          },
          "colorway": [
           "#636efa",
           "#EF553B",
           "#00cc96",
           "#ab63fa",
           "#FFA15A",
           "#19d3f3",
           "#FF6692",
           "#B6E880",
           "#FF97FF",
           "#FECB52"
          ],
          "font": {
           "color": "#2a3f5f"
          },
          "geo": {
           "bgcolor": "white",
           "lakecolor": "white",
           "landcolor": "#E5ECF6",
           "showlakes": true,
           "showland": true,
           "subunitcolor": "white"
          },
          "hoverlabel": {
           "align": "left"
          },
          "hovermode": "closest",
          "mapbox": {
           "style": "light"
          },
          "paper_bgcolor": "white",
          "plot_bgcolor": "#E5ECF6",
          "polar": {
           "angularaxis": {
            "gridcolor": "white",
            "linecolor": "white",
            "ticks": ""
           },
           "bgcolor": "#E5ECF6",
           "radialaxis": {
            "gridcolor": "white",
            "linecolor": "white",
            "ticks": ""
           }
          },
          "scene": {
           "xaxis": {
            "backgroundcolor": "#E5ECF6",
            "gridcolor": "white",
            "gridwidth": 2,
            "linecolor": "white",
            "showbackground": true,
            "ticks": "",
            "zerolinecolor": "white"
           },
           "yaxis": {
            "backgroundcolor": "#E5ECF6",
            "gridcolor": "white",
            "gridwidth": 2,
            "linecolor": "white",
            "showbackground": true,
            "ticks": "",
            "zerolinecolor": "white"
           },
           "zaxis": {
            "backgroundcolor": "#E5ECF6",
            "gridcolor": "white",
            "gridwidth": 2,
            "linecolor": "white",
            "showbackground": true,
            "ticks": "",
            "zerolinecolor": "white"
           }
          },
          "shapedefaults": {
           "line": {
            "color": "#2a3f5f"
           }
          },
          "ternary": {
           "aaxis": {
            "gridcolor": "white",
            "linecolor": "white",
            "ticks": ""
           },
           "baxis": {
            "gridcolor": "white",
            "linecolor": "white",
            "ticks": ""
           },
           "bgcolor": "#E5ECF6",
           "caxis": {
            "gridcolor": "white",
            "linecolor": "white",
            "ticks": ""
           }
          },
          "title": {
           "x": 0.05
          },
          "xaxis": {
           "automargin": true,
           "gridcolor": "white",
           "linecolor": "white",
           "ticks": "",
           "title": {
            "standoff": 15
           },
           "zerolinecolor": "white",
           "zerolinewidth": 2
          },
          "yaxis": {
           "automargin": true,
           "gridcolor": "white",
           "linecolor": "white",
           "ticks": "",
           "title": {
            "standoff": 15
           },
           "zerolinecolor": "white",
           "zerolinewidth": 2
          }
         }
        },
        "xaxis": {
         "autorange": true,
         "range": [
          -0.7524984384759525,
          21.252498438475953
         ],
         "title": {
          "text": "$\\alpha$"
         },
         "type": "linear"
        },
        "yaxis": {
         "autorange": true,
         "range": [
          1.1943596149025557,
          3.7179271331183568
         ],
         "title": {
          "text": "CV RMSE"
         },
         "type": "linear"
        }
       }
      },
      "image/png": "[encoded data removed]",
      "text/html": [
       "<div>                            <div id=\"3ae9e466-a925-4464-9c70-f9253deda29b\" class=\"plotly-graph-div\" style=\"height:525px; width:100%;\"></div>            <script type=\"text/javascript\">                require([\"plotly\"], function(Plotly) {                    window.PLOTLYENV=window.PLOTLYENV || {};                                    if (document.getElementById(\"3ae9e466-a925-4464-9c70-f9253deda29b\")) {                    Plotly.newPlot(                        \"3ae9e466-a925-4464-9c70-f9253deda29b\",                        [{\"mode\":\"lines+markers\",\"name\":\"Train\",\"type\":\"scatter\",\"x\":[0.5,1.1724137931034484,1.8448275862068966,2.5172413793103448,3.189655172413793,3.8620689655172415,4.5344827586206895,5.206896551724138,5.879310344827586,6.551724137931035,7.224137931034483,7.8965517241379315,8.568965517241379,9.241379310344827,9.913793103448276,10.586206896551724,11.258620689655173,11.931034482758621,12.60344827586207,13.275862068965518,13.948275862068966,14.620689655172415,15.293103448275863,15.965517241379311,16.637931034482758,17.310344827586206,17.982758620689655,18.655172413793103,19.32758620689655,20.0],\"y\":[1.3731123141095083,1.6209136594178317,1.797322608152135,1.932877459299416,2.0375696190488655,2.1257608242249604,2.201753870795589,2.2649349954400115,2.3207657003551407,2.3706314651772273,2.4177266546792224,2.4579087333657186,2.4947574866565594,2.528721201651214,2.5601693755140307,2.5894091634644716,2.6166978523081057,2.6422521295041865,2.666256784764235,2.690536431788631,2.7116121200140704,2.7316022884592406,2.7505990281689026,2.7686840893205975,2.7859302699821495,2.8024026142818173,2.818159406380137,2.8332530382229653,2.847730731089845,2.86163517563297]},{\"mode\":\"lines+markers\",\"name\":\"CV\",\"type\":\"scatter\",\"x\":[0.5,1.1724137931034484,1.8448275862068966,2.5172413793103448,3.189655172413793,3.8620689655172415,4.5344827586206895,5.206896551724138,5.879310344827586,6.551724137931035,7.224137931034483,7.8965517241379315,8.568965517241379,9.241379310344827,9.913793103448276,10.586206896551724,11.258620689655173,11.931034482758621,12.60344827586207,13.275862068965518,13.948275862068966,14.620689655172415,15.293103448275863,15.965517241379311,16.637931034482758,17.310344827586206,17.982758620689655,18.655172413793103,19.32758620689655,20.0],\"y\":[3.021326792517836,2.946990261113301,2.9436529541924905,2.953578487902594,2.9694541396249763,2.9871393054492246,3.002268779253826,3.0202262315457937,3.0373872697060227,3.0536317050608086,3.069036382775667,3.082729627325308,3.0956517706694333,3.109010003423694,3.121708003837406,3.1335230769332982,3.1451754317171416,3.156139999950093,3.1689557821761403,3.1787549153014667,3.1881362174494496,3.197172579940146,3.2060538494109734,3.214428082289537,3.2224860479511506,3.2302709137262147,3.237798932896633,3.24508488512168,3.25216385436363,3.259004437803351]},{\"mode\":\"lines+markers\",\"name\":\"Test\",\"type\":\"scatter\",\"x\":[0.5,1.1724137931034484,1.8448275862068966,2.5172413793103448,3.189655172413793,3.8620689655172415,4.5344827586206895,5.206896551724138,5.879310344827586,6.551724137931035,7.224137931034483,7.8965517241379315,8.568965517241379,9.241379310344827,9.913793103448276,10.586206896551724,11.258620689655173,11.931034482758621,12.60344827586207,13.275862068965518,13.948275862068966,14.620689655172415,15.293103448275863,15.965517241379311,16.637931034482758,17.310344827586206,17.982758620689655,18.655172413793103,19.32758620689655,20.0],\"y\":[3.539174433911404,3.505734006037547,3.472979885334427,3.4524803343774506,3.4360275895979693,3.4273420379025143,3.4076201504498487,3.399260645685052,3.3923335967064605,3.386564282874257,3.388226570687131,3.3829847227454226,3.3787047833594173,3.375218205542624,3.372393812762555,3.370127662086183,3.3683361461482915,3.366951215811777,3.365916686265309,3.368367843514794,3.3674862083766564,3.3668985710488952,3.3665659560346843,3.366455459838091,3.3665391399548366,3.3667931353892016,3.367196967900046,3.367732979356572,3.3683858776744104,3.369142366015763]}],                        {\"template\":{\"data\":{\"bar\":[{\"error_x\":{\"color\":\"#2a3f5f\"},\"error_y\":{\"color\":\"#2a3f5f\"},\"marker\":{\"line\":{\"color\":\"#E5ECF6\",\"width\":0.5},\"pattern\":{\"fillmode\":\"overlay\",\"size\":10,\"solidity\":0.2}},\"type\":\"bar\"}],\"barpolar\":[{\"marker\":{\"line\":{\"color\":\"#E5ECF6\",\"width\":0.5},\"pattern\":{\"fillmode\":\"overlay\",\"size\":10,\"solidity\":0.2}},\"type\":\"barpolar\"}],\"carpet\":[{\"aaxis\":{\"endlinecolor\":\"#2a3f5f\",\"gridcolor\":\"white\",\"linecolor\":\"white\",\"minorgridcolor\":\"white\",\"startlinecolor\":\"#2a3f5f\"},\"baxis\":{\"endlinecolor\":\"#2a3f5f\",\"gridcolor\":\"white\",\"linecolor\":\"white\",\"minorgridcolor\":\"white\",\"startlinecolor\":\"#2a3f5f\"},\"type\":\"carpet\"}],\"choropleth\":[{\"colorbar\":{\"outlinewidth\":0,\"ticks\":\"\"},\"type\":\"choropleth\"}],\"contour\":[{\"colorbar\":{\"outlinewidth\":0,\"ticks\":\"\"},\"colorscale\":[[0.0,\"#0d0887\"],[0.1111111111111111,\"#46039f\"],[0.2222222222222222,\"#7201a8\"],[0.3333333333333333,\"#9c179e\"],[0.4444444444444444,\"#bd3786\"],[0.5555555555555556,\"#d8576b\"],[0.6666666666666666,\"#ed7953\"],[0.7777777777777778,\"#fb9f3a\"],[0.8888888888888888,\"#fdca26\"],[1.0,\"#f0f921\"]],\"type\":\"contour\"}],\"contourcarpet\":[{\"colorbar\":{\"outlinewidth\":0,\"ticks\":\"\"},\"type\":\"contourcarpet\"}],\"heatmap\":[{\"colorbar\":{\"outlinewidth\":0,\"ticks\":\"\"},\"colorscale\":[[0.0,\"#0d0887\"],[0.1111111111111111,\"#46039f\"],[0.2222222222222222,\"#7201a8\"],[0.3333333333333333,\"#9c179e\"],[0.4444444444444444,\"#bd3786\"],[0.5555555555555556,\"#d8576b\"],[0.6666666666666666,\"#ed7953\"],[0.7777777777777778,\"#fb9f3a\"],[0.8888888888888888,\"#fdca26\"],[1.0,\"#f0f921\"]],\"type\":\"heatmap\"}],\"heatmapgl\":[{\"colorbar\":{\"outlinewidth\":0,\"ticks\":\"\"},\"colorscale\":[[0.0,\"#0d0887\"],[0.1111111111111111,\"#46039f\"],[0.2222222222222222,\"#7201a8\"],[0.3333333333333333,\"#9c179e\"],[0.4444444444444444,\"#bd3786\"],[0.5555555555555556,\"#d8576b\"],[0.6666666666666666,\"#ed7953\"],[0.7777777777777778,\"#fb9f3a\"],[0.8888888888888888,\"#fdca26\"],[1.0,\"#f0f921\"]],\"type\":\"heatmapgl\"}],\"histogram\":[{\"marker\":{\"pattern\":{\"fillmode\":\"overlay\",\"size\":10,\"solidity\":0.2}},\"type\":\"histogram\"}],\"histogram2d\":[{\"colorbar\":{\"outlinewidth\":0,\"ticks\":\"\"},\"colorscale\":[[0.0,\"#0d0887\"],[0.1111111111111111,\"#46039f\"],[0.2222222222222222,\"#7201a8\"],[0.3333333333333333,\"#9c179e\"],[0.4444444444444444,\"#bd3786\"],[0.5555555555555556,\"#d8576b\"],[0.6666666666666666,\"#ed7953\"],[0.7777777777777778,\"#fb9f3a\"],[0.8888888888888888,\"#fdca26\"],[1.0,\"#f0f921\"]],\"type\":\"histogram2d\"}],\"histogram2dcontour\":[{\"colorbar\":{\"outlinewidth\":0,\"ticks\":\"\"},\"colorscale\":[[0.0,\"#0d0887\"],[0.1111111111111111,\"#46039f\"],[0.2222222222222222,\"#7201a8\"],[0.3333333333333333,\"#9c179e\"],[0.4444444444444444,\"#bd3786\"],[0.5555555555555556,\"#d8576b\"],[0.6666666666666666,\"#ed7953\"],[0.7777777777777778,\"#fb9f3a\"],[0.8888888888888888,\"#fdca26\"],[1.0,\"#f0f921\"]],\"type\":\"histogram2dcontour\"}],\"mesh3d\":[{\"colorbar\":{\"outlinewidth\":0,\"ticks\":\"\"},\"type\":\"mesh3d\"}],\"parcoords\":[{\"line\":{\"colorbar\":{\"outlinewidth\":0,\"ticks\":\"\"}},\"type\":\"parcoords\"}],\"pie\":[{\"automargin\":true,\"type\":\"pie\"}],\"scatter\":[{\"marker\":{\"colorbar\":{\"outlinewidth\":0,\"ticks\":\"\"}},\"type\":\"scatter\"}],\"scatter3d\":[{\"line\":{\"colorbar\":{\"outlinewidth\":0,\"ticks\":\"\"}},\"marker\":{\"colorbar\":{\"outlinewidth\":0,\"ticks\":\"\"}},\"type\":\"scatter3d\"}],\"scattercarpet\":[{\"marker\":{\"colorbar\":{\"outlinewidth\":0,\"ticks\":\"\"}},\"type\":\"scattercarpet\"}],\"scattergeo\":[{\"marker\":{\"colorbar\":{\"outlinewidth\":0,\"ticks\":\"\"}},\"type\":\"scattergeo\"}],\"scattergl\":[{\"marker\":{\"colorbar\":{\"outlinewidth\":0,\"ticks\":\"\"}},\"type\":\"scattergl\"}],\"scattermapbox\":[{\"marker\":{\"colorbar\":{\"outlinewidth\":0,\"ticks\":\"\"}},\"type\":\"scattermapbox\"}],\"scatterpolar\":[{\"marker\":{\"colorbar\":{\"outlinewidth\":0,\"ticks\":\"\"}},\"type\":\"scatterpolar\"}],\"scatterpolargl\":[{\"marker\":{\"colorbar\":{\"outlinewidth\":0,\"ticks\":\"\"}},\"type\":\"scatterpolargl\"}],\"scatterternary\":[{\"marker\":{\"colorbar\":{\"outlinewidth\":0,\"ticks\":\"\"}},\"type\":\"scatterternary\"}],\"surface\":[{\"colorbar\":{\"outlinewidth\":0,\"ticks\":\"\"},\"colorscale\":[[0.0,\"#0d0887\"],[0.1111111111111111,\"#46039f\"],[0.2222222222222222,\"#7201a8\"],[0.3333333333333333,\"#9c179e\"],[0.4444444444444444,\"#bd3786\"],[0.5555555555555556,\"#d8576b\"],[0.6666666666666666,\"#ed7953\"],[0.7777777777777778,\"#fb9f3a\"],[0.8888888888888888,\"#fdca26\"],[1.0,\"#f0f921\"]],\"type\":\"surface\"}],\"table\":[{\"cells\":{\"fill\":{\"color\":\"#EBF0F8\"},\"line\":{\"color\":\"white\"}},\"header\":{\"fill\":{\"color\":\"#C8D4E3\"},\"line\":{\"color\":\"white\"}},\"type\":\"table\"}]},\"layout\":{\"annotationdefaults\":{\"arrowcolor\":\"#2a3f5f\",\"arrowhead\":0,\"arrowwidth\":1},\"autotypenumbers\":\"strict\",\"coloraxis\":{\"colorbar\":{\"outlinewidth\":0,\"ticks\":\"\"}},\"colorscale\":{\"diverging\":[[0,\"#8e0152\"],[0.1,\"#c51b7d\"],[0.2,\"#de77ae\"],[0.3,\"#f1b6da\"],[0.4,\"#fde0ef\"],[0.5,\"#f7f7f7\"],[0.6,\"#e6f5d0\"],[0.7,\"#b8e186\"],[0.8,\"#7fbc41\"],[0.9,\"#4d9221\"],[1,\"#276419\"]],\"sequential\":[[0.0,\"#0d0887\"],[0.1111111111111111,\"#46039f\"],[0.2222222222222222,\"#7201a8\"],[0.3333333333333333,\"#9c179e\"],[0.4444444444444444,\"#bd3786\"],[0.5555555555555556,\"#d8576b\"],[0.6666666666666666,\"#ed7953\"],[0.7777777777777778,\"#fb9f3a\"],[0.8888888888888888,\"#fdca26\"],[1.0,\"#f0f921\"]],\"sequentialminus\":[[0.0,\"#0d0887\"],[0.1111111111111111,\"#46039f\"],[0.2222222222222222,\"#7201a8\"],[0.3333333333333333,\"#9c179e\"],[0.4444444444444444,\"#bd3786\"],[0.5555555555555556,\"#d8576b\"],[0.6666666666666666,\"#ed7953\"],[0.7777777777777778,\"#fb9f3a\"],[0.8888888888888888,\"#fdca26\"],[1.0,\"#f0f921\"]]},\"colorway\":[\"#636efa\",\"#EF553B\",\"#00cc96\",\"#ab63fa\",\"#FFA15A\",\"#19d3f3\",\"#FF6692\",\"#B6E880\",\"#FF97FF\",\"#FECB52\"],\"font\":{\"color\":\"#2a3f5f\"},\"geo\":{\"bgcolor\":\"white\",\"lakecolor\":\"white\",\"landcolor\":\"#E5ECF6\",\"showlakes\":true,\"showland\":true,\"subunitcolor\":\"white\"},\"hoverlabel\":{\"align\":\"left\"},\"hovermode\":\"closest\",\"mapbox\":{\"style\":\"light\"},\"paper_bgcolor\":\"white\",\"plot_bgcolor\":\"#E5ECF6\",\"polar\":{\"angularaxis\":{\"gridcolor\":\"white\",\"linecolor\":\"white\",\"ticks\":\"\"},\"bgcolor\":\"#E5ECF6\",\"radialaxis\":{\"gridcolor\":\"white\",\"linecolor\":\"white\",\"ticks\":\"\"}},\"scene\":{\"xaxis\":{\"backgroundcolor\":\"#E5ECF6\",\"gridcolor\":\"white\",\"gridwidth\":2,\"linecolor\":\"white\",\"showbackground\":true,\"ticks\":\"\",\"zerolinecolor\":\"white\"},\"yaxis\":{\"backgroundcolor\":\"#E5ECF6\",\"gridcolor\":\"white\",\"gridwidth\":2,\"linecolor\":\"white\",\"showbackground\":true,\"ticks\":\"\",\"zerolinecolor\":\"white\"},\"zaxis\":{\"backgroundcolor\":\"#E5ECF6\",\"gridcolor\":\"white\",\"gridwidth\":2,\"linecolor\":\"white\",\"showbackground\":true,\"ticks\":\"\",\"zerolinecolor\":\"white\"}},\"shapedefaults\":{\"line\":{\"color\":\"#2a3f5f\"}},\"ternary\":{\"aaxis\":{\"gridcolor\":\"white\",\"linecolor\":\"white\",\"ticks\":\"\"},\"baxis\":{\"gridcolor\":\"white\",\"linecolor\":\"white\",\"ticks\":\"\"},\"bgcolor\":\"#E5ECF6\",\"caxis\":{\"gridcolor\":\"white\",\"linecolor\":\"white\",\"ticks\":\"\"}},\"title\":{\"x\":0.05},\"xaxis\":{\"automargin\":true,\"gridcolor\":\"white\",\"linecolor\":\"white\",\"ticks\":\"\",\"title\":{\"standoff\":15},\"zerolinecolor\":\"white\",\"zerolinewidth\":2},\"yaxis\":{\"automargin\":true,\"gridcolor\":\"white\",\"linecolor\":\"white\",\"ticks\":\"\",\"title\":{\"standoff\":15},\"zerolinecolor\":\"white\",\"zerolinewidth\":2}}},\"xaxis\":{\"title\":{\"text\":\"$\\\\alpha$\"}},\"yaxis\":{\"title\":{\"text\":\"CV RMSE\"}}},                        {\"responsive\": true}                    ).then(function(){\n",
       "                            \n",
       "var gd = document.getElementById('3ae9e466-a925-4464-9c70-f9253deda29b');\n",
       "var x = new MutationObserver(function (mutations, observer) {{\n",
       "        var display = window.getComputedStyle(gd).display;\n",
       "        if (!display || display === 'none') {{\n",
       "            console.log([gd, 'removed!']);\n",
       "            Plotly.purge(gd);\n",
       "            observer.disconnect();\n",
       "        }}\n",
       "}});\n",
       "\n",
       "// Listen for the removal of the full notebook cells\n",
       "var notebookContainer = gd.closest('#notebook-container');\n",
       "if (notebookContainer) {{\n",
       "    x.observe(notebookContainer, {childList: true});\n",
       "}}\n",
       "\n",
       "// Listen for the clearing of the current output cell\n",
       "var outputEl = gd.closest('.output');\n",
       "if (outputEl) {{\n",
       "    x.observe(outputEl, {childList: true});\n",
       "}}\n",
       "\n",
       "                        })                };                });            </script>        </div>"
      ]
     },
     "metadata": {},
     "output_type": "display_data"
    }
   ],
   "source": [
    "fig = go.Figure()\n",
    "fig.add_trace(go.Scatter(x = alphas, y = train_values, mode=\"lines+markers\", name=\"Train\"))\n",
    "fig.add_trace(go.Scatter(x = alphas, y = cv_values, mode=\"lines+markers\", name=\"CV\"))\n",
    "fig.add_trace(go.Scatter(x = alphas, y = test_values, mode=\"lines+markers\", name=\"Test\"))\n",
    "fig.update_layout(xaxis_title=r\"$\\alpha$\", yaxis_title=\"CV RMSE\")"
   ]
  },
  {
   "cell_type": "markdown",
   "metadata": {},
   "source": [
    "Adding the best model:"
   ]
  },
  {
   "cell_type": "code",
   "execution_count": 36,
   "metadata": {},
   "outputs": [
    {
     "data": {
      "application/vnd.plotly.v1+json": {
       "config": {
        "plotlyServerURL": "https://plot.ly"
       },
       "data": [
        {
         "name": "Training RMSE",
         "type": "bar",
         "x": [
          "c",
          "c,d",
          "c,d,h",
          "c,d,h,w",
          "c,d,h,w,a",
          "c,d,h,w,a,m",
          "c,d,h,w,a,m,o",
          "c,d,h,w,a,m,o,n",
          "Ridge(alpha=0.5)",
          "RidgeN(alpha=0.5)",
          "RidgeN(alpha=10)",
          "RidgeN(alpha_best)"
         ],
         "y": [
          4.888109236813688,
          4.58757379901803,
          4.525395490245242,
          4.216877763288668,
          4.213763450275894,
          3.3799994809258984,
          3.248822401205007,
          1.1387325746873735,
          3.392024331152466,
          1.3731123141095083,
          2.5640356668089086,
          1.797322608152135
         ]
        },
        {
         "name": "CV RMSE",
         "type": "bar",
         "x": [
          "c",
          "c,d",
          "c,d,h",
          "c,d,h,w",
          "c,d,h,w,a",
          "c,d,h,w,a,m",
          "c,d,h,w,a,m,o",
          "c,d,h,w,a,m,o,n",
          "Ridge(alpha=0.5)",
          "RidgeN(alpha=0.5)",
          "RidgeN(alpha=10)",
          "RidgeN(alpha_best)"
         ],
         "y": [
          4.876661068256957,
          4.579060426624026,
          4.556808311664747,
          4.252718625749385,
          4.256844728700814,
          3.4557657065586787,
          3.3323381513276,
          3.728904117236925,
          3.25010581041028,
          3.021326792517836,
          3.1232826527910533,
          2.9436529541924905
         ]
        },
        {
         "name": "Test RMSE",
         "opacity": 0.3,
         "type": "bar",
         "x": [
          "c",
          "c,d",
          "c,d,h",
          "c,d,h,w",
          "c,d,h,w,a",
          "c,d,h,w,a,m",
          "c,d,h,w,a,m,o",
          "c,d,h,w,a,m,o,n",
          "Ridge(alpha=0.5)",
          "RidgeN(alpha=0.5)",
          "RidgeN(alpha=10)",
          "RidgeN(alpha_best)"
         ],
         "y": [
          5.055013548375552,
          4.7661569898523695,
          4.583861769980873,
          4.325847816131029,
          4.34988869276913,
          3.550828171640195,
          3.3746613014711673,
          3.507039743068532,
          3.4637255340236033,
          3.539174433911404,
          3.372074009903791,
          3.472979885334427
         ]
        }
       ],
       "layout": {
        "autosize": true,
        "template": {
         "data": {
          "bar": [
           {
            "error_x": {
             "color": "#2a3f5f"
            },
            "error_y": {
             "color": "#2a3f5f"
            },
            "marker": {
             "line": {
              "color": "#E5ECF6",
              "width": 0.5
             },
             "pattern": {
              "fillmode": "overlay",
              "size": 10,
              "solidity": 0.2
             }
            },
            "type": "bar"
           }
          ],
          "barpolar": [
           {
            "marker": {
             "line": {
              "color": "#E5ECF6",
              "width": 0.5
             },
             "pattern": {
              "fillmode": "overlay",
              "size": 10,
              "solidity": 0.2
             }
            },
            "type": "barpolar"
           }
          ],
          "carpet": [
           {
            "aaxis": {
             "endlinecolor": "#2a3f5f",
             "gridcolor": "white",
             "linecolor": "white",
             "minorgridcolor": "white",
             "startlinecolor": "#2a3f5f"
            },
            "baxis": {
             "endlinecolor": "#2a3f5f",
             "gridcolor": "white",
             "linecolor": "white",
             "minorgridcolor": "white",
             "startlinecolor": "#2a3f5f"
            },
            "type": "carpet"
           }
          ],
          "choropleth": [
           {
            "colorbar": {
             "outlinewidth": 0,
             "ticks": ""
            },
            "type": "choropleth"
           }
          ],
          "contour": [
           {
            "colorbar": {
             "outlinewidth": 0,
             "ticks": ""
            },
            "colorscale": [
             [
              0,
              "#0d0887"
             ],
             [
              0.1111111111111111,
              "#46039f"
             ],
             [
              0.2222222222222222,
              "#7201a8"
             ],
             [
              0.3333333333333333,
              "#9c179e"
             ],
             [
              0.4444444444444444,
              "#bd3786"
             ],
             [
              0.5555555555555556,
              "#d8576b"
             ],
             [
              0.6666666666666666,
              "#ed7953"
             ],
             [
              0.7777777777777778,
              "#fb9f3a"
             ],
             [
              0.8888888888888888,
              "#fdca26"
             ],
             [
              1,
              "#f0f921"
             ]
            ],
            "type": "contour"
           }
          ],
          "contourcarpet": [
           {
            "colorbar": {
             "outlinewidth": 0,
             "ticks": ""
            },
            "type": "contourcarpet"
           }
          ],
          "heatmap": [
           {
            "colorbar": {
             "outlinewidth": 0,
             "ticks": ""
            },
            "colorscale": [
             [
              0,
              "#0d0887"
             ],
             [
              0.1111111111111111,
              "#46039f"
             ],
             [
              0.2222222222222222,
              "#7201a8"
             ],
             [
              0.3333333333333333,
              "#9c179e"
             ],
             [
              0.4444444444444444,
              "#bd3786"
             ],
             [
              0.5555555555555556,
              "#d8576b"
             ],
             [
              0.6666666666666666,
              "#ed7953"
             ],
             [
              0.7777777777777778,
              "#fb9f3a"
             ],
             [
              0.8888888888888888,
              "#fdca26"
             ],
             [
              1,
              "#f0f921"
             ]
            ],
            "type": "heatmap"
           }
          ],
          "heatmapgl": [
           {
            "colorbar": {
             "outlinewidth": 0,
             "ticks": ""
            },
            "colorscale": [
             [
              0,
              "#0d0887"
             ],
             [
              0.1111111111111111,
              "#46039f"
             ],
             [
              0.2222222222222222,
              "#7201a8"
             ],
             [
              0.3333333333333333,
              "#9c179e"
             ],
             [
              0.4444444444444444,
              "#bd3786"
             ],
             [
              0.5555555555555556,
              "#d8576b"
             ],
             [
              0.6666666666666666,
              "#ed7953"
             ],
             [
              0.7777777777777778,
              "#fb9f3a"
             ],
             [
              0.8888888888888888,
              "#fdca26"
             ],
             [
              1,
              "#f0f921"
             ]
            ],
            "type": "heatmapgl"
           }
          ],
          "histogram": [
           {
            "marker": {
             "pattern": {
              "fillmode": "overlay",
              "size": 10,
              "solidity": 0.2
             }
            },
            "type": "histogram"
           }
          ],
          "histogram2d": [
           {
            "colorbar": {
             "outlinewidth": 0,
             "ticks": ""
            },
            "colorscale": [
             [
              0,
              "#0d0887"
             ],
             [
              0.1111111111111111,
              "#46039f"
             ],
             [
              0.2222222222222222,
              "#7201a8"
             ],
             [
              0.3333333333333333,
              "#9c179e"
             ],
             [
              0.4444444444444444,
              "#bd3786"
             ],
             [
              0.5555555555555556,
              "#d8576b"
             ],
             [
              0.6666666666666666,
              "#ed7953"
             ],
             [
              0.7777777777777778,
              "#fb9f3a"
             ],
             [
              0.8888888888888888,
              "#fdca26"
             ],
             [
              1,
              "#f0f921"
             ]
            ],
            "type": "histogram2d"
           }
          ],
          "histogram2dcontour": [
           {
            "colorbar": {
             "outlinewidth": 0,
             "ticks": ""
            },
            "colorscale": [
             [
              0,
              "#0d0887"
             ],
             [
              0.1111111111111111,
              "#46039f"
             ],
             [
              0.2222222222222222,
              "#7201a8"
             ],
             [
              0.3333333333333333,
              "#9c179e"
             ],
             [
              0.4444444444444444,
              "#bd3786"
             ],
             [
              0.5555555555555556,
              "#d8576b"
             ],
             [
              0.6666666666666666,
              "#ed7953"
             ],
             [
              0.7777777777777778,
              "#fb9f3a"
             ],
             [
              0.8888888888888888,
              "#fdca26"
             ],
             [
              1,
              "#f0f921"
             ]
            ],
            "type": "histogram2dcontour"
           }
          ],
          "mesh3d": [
           {
            "colorbar": {
             "outlinewidth": 0,
             "ticks": ""
            },
            "type": "mesh3d"
           }
          ],
          "parcoords": [
           {
            "line": {
             "colorbar": {
              "outlinewidth": 0,
              "ticks": ""
             }
            },
            "type": "parcoords"
           }
          ],
          "pie": [
           {
            "automargin": true,
            "type": "pie"
           }
          ],
          "scatter": [
           {
            "marker": {
             "colorbar": {
              "outlinewidth": 0,
              "ticks": ""
             }
            },
            "type": "scatter"
           }
          ],
          "scatter3d": [
           {
            "line": {
             "colorbar": {
              "outlinewidth": 0,
              "ticks": ""
             }
            },
            "marker": {
             "colorbar": {
              "outlinewidth": 0,
              "ticks": ""
             }
            },
            "type": "scatter3d"
           }
          ],
          "scattercarpet": [
           {
            "marker": {
             "colorbar": {
              "outlinewidth": 0,
              "ticks": ""
             }
            },
            "type": "scattercarpet"
           }
          ],
          "scattergeo": [
           {
            "marker": {
             "colorbar": {
              "outlinewidth": 0,
              "ticks": ""
             }
            },
            "type": "scattergeo"
           }
          ],
          "scattergl": [
           {
            "marker": {
             "colorbar": {
              "outlinewidth": 0,
              "ticks": ""
             }
            },
            "type": "scattergl"
           }
          ],
          "scattermapbox": [
           {
            "marker": {
             "colorbar": {
              "outlinewidth": 0,
              "ticks": ""
             }
            },
            "type": "scattermapbox"
           }
          ],
          "scatterpolar": [
           {
            "marker": {
             "colorbar": {
              "outlinewidth": 0,
              "ticks": ""
             }
            },
            "type": "scatterpolar"
           }
          ],
          "scatterpolargl": [
           {
            "marker": {
             "colorbar": {
              "outlinewidth": 0,
              "ticks": ""
             }
            },
            "type": "scatterpolargl"
           }
          ],
          "scatterternary": [
           {
            "marker": {
             "colorbar": {
              "outlinewidth": 0,
              "ticks": ""
             }
            },
            "type": "scatterternary"
           }
          ],
          "surface": [
           {
            "colorbar": {
             "outlinewidth": 0,
             "ticks": ""
            },
            "colorscale": [
             [
              0,
              "#0d0887"
             ],
             [
              0.1111111111111111,
              "#46039f"
             ],
             [
              0.2222222222222222,
              "#7201a8"
             ],
             [
              0.3333333333333333,
              "#9c179e"
             ],
             [
              0.4444444444444444,
              "#bd3786"
             ],
             [
              0.5555555555555556,
              "#d8576b"
             ],
             [
              0.6666666666666666,
              "#ed7953"
             ],
             [
              0.7777777777777778,
              "#fb9f3a"
             ],
             [
              0.8888888888888888,
              "#fdca26"
             ],
             [
              1,
              "#f0f921"
             ]
            ],
            "type": "surface"
           }
          ],
          "table": [
           {
            "cells": {
             "fill": {
              "color": "#EBF0F8"
             },
             "line": {
              "color": "white"
             }
            },
            "header": {
             "fill": {
              "color": "#C8D4E3"
             },
             "line": {
              "color": "white"
             }
            },
            "type": "table"
           }
          ]
         },
         "layout": {
          "annotationdefaults": {
           "arrowcolor": "#2a3f5f",
           "arrowhead": 0,
           "arrowwidth": 1
          },
          "autotypenumbers": "strict",
          "coloraxis": {
           "colorbar": {
            "outlinewidth": 0,
            "ticks": ""
           }
          },
          "colorscale": {
           "diverging": [
            [
             0,
             "#8e0152"
            ],
            [
             0.1,
             "#c51b7d"
            ],
            [
             0.2,
             "#de77ae"
            ],
            [
             0.3,
             "#f1b6da"
            ],
            [
             0.4,
             "#fde0ef"
            ],
            [
             0.5,
             "#f7f7f7"
            ],
            [
             0.6,
             "#e6f5d0"
            ],
            [
             0.7,
             "#b8e186"
            ],
            [
             0.8,
             "#7fbc41"
            ],
            [
             0.9,
             "#4d9221"
            ],
            [
             1,
             "#276419"
            ]
           ],
           "sequential": [
            [
             0,
             "#0d0887"
            ],
            [
             0.1111111111111111,
             "#46039f"
            ],
            [
             0.2222222222222222,
             "#7201a8"
            ],
            [
             0.3333333333333333,
             "#9c179e"
            ],
            [
             0.4444444444444444,
             "#bd3786"
            ],
            [
             0.5555555555555556,
             "#d8576b"
            ],
            [
             0.6666666666666666,
             "#ed7953"
            ],
            [
             0.7777777777777778,
             "#fb9f3a"
            ],
            [
             0.8888888888888888,
             "#fdca26"
            ],
            [
             1,
             "#f0f921"
            ]
           ],
           "sequentialminus": [
            [
             0,
             "#0d0887"
            ],
            [
             0.1111111111111111,
             "#46039f"
            ],
            [
             0.2222222222222222,
             "#7201a8"
            ],
            [
             0.3333333333333333,
             "#9c179e"
            ],
            [
             0.4444444444444444,
             "#bd3786"
            ],
            [
             0.5555555555555556,
             "#d8576b"
            ],
            [
             0.6666666666666666,
             "#ed7953"
            ],
            [
             0.7777777777777778,
             "#fb9f3a"
            ],
            [
             0.8888888888888888,
             "#fdca26"
            ],
            [
             1,
             "#f0f921"
            ]
           ]
          },
          "colorway": [
           "#636efa",
           "#EF553B",
           "#00cc96",
           "#ab63fa",
           "#FFA15A",
           "#19d3f3",
           "#FF6692",
           "#B6E880",
           "#FF97FF",
           "#FECB52"
          ],
          "font": {
           "color": "#2a3f5f"
          },
          "geo": {
           "bgcolor": "white",
           "lakecolor": "white",
           "landcolor": "#E5ECF6",
           "showlakes": true,
           "showland": true,
           "subunitcolor": "white"
          },
          "hoverlabel": {
           "align": "left"
          },
          "hovermode": "closest",
          "mapbox": {
           "style": "light"
          },
          "paper_bgcolor": "white",
          "plot_bgcolor": "#E5ECF6",
          "polar": {
           "angularaxis": {
            "gridcolor": "white",
            "linecolor": "white",
            "ticks": ""
           },
           "bgcolor": "#E5ECF6",
           "radialaxis": {
            "gridcolor": "white",
            "linecolor": "white",
            "ticks": ""
           }
          },
          "scene": {
           "xaxis": {
            "backgroundcolor": "#E5ECF6",
            "gridcolor": "white",
            "gridwidth": 2,
            "linecolor": "white",
            "showbackground": true,
            "ticks": "",
            "zerolinecolor": "white"
           },
           "yaxis": {
            "backgroundcolor": "#E5ECF6",
            "gridcolor": "white",
            "gridwidth": 2,
            "linecolor": "white",
            "showbackground": true,
            "ticks": "",
            "zerolinecolor": "white"
           },
           "zaxis": {
            "backgroundcolor": "#E5ECF6",
            "gridcolor": "white",
            "gridwidth": 2,
            "linecolor": "white",
            "showbackground": true,
            "ticks": "",
            "zerolinecolor": "white"
           }
          },
          "shapedefaults": {
           "line": {
            "color": "#2a3f5f"
           }
          },
          "ternary": {
           "aaxis": {
            "gridcolor": "white",
            "linecolor": "white",
            "ticks": ""
           },
           "baxis": {
            "gridcolor": "white",
            "linecolor": "white",
            "ticks": ""
           },
           "bgcolor": "#E5ECF6",
           "caxis": {
            "gridcolor": "white",
            "linecolor": "white",
            "ticks": ""
           }
          },
          "title": {
           "x": 0.05
          },
          "xaxis": {
           "automargin": true,
           "gridcolor": "white",
           "linecolor": "white",
           "ticks": "",
           "title": {
            "standoff": 15
           },
           "zerolinecolor": "white",
           "zerolinewidth": 2
          },
          "yaxis": {
           "automargin": true,
           "gridcolor": "white",
           "linecolor": "white",
           "ticks": "",
           "title": {
            "standoff": 15
           },
           "zerolinecolor": "white",
           "zerolinewidth": 2
          }
         }
        },
        "xaxis": {
         "autorange": true,
         "range": [
          -0.5,
          11.5
         ],
         "type": "category"
        },
        "yaxis": {
         "autorange": true,
         "range": [
          0,
          5.321066893026897
         ],
         "title": {
          "text": "RMSE"
         },
         "type": "linear"
        }
       }
      },
      "image/png": "[encoded data removed]",
      "text/html": [
       "<div>                            <div id=\"c1c5190e-c905-462e-b110-3e29fb2be62d\" class=\"plotly-graph-div\" style=\"height:525px; width:100%;\"></div>            <script type=\"text/javascript\">                require([\"plotly\"], function(Plotly) {                    window.PLOTLYENV=window.PLOTLYENV || {};                                    if (document.getElementById(\"c1c5190e-c905-462e-b110-3e29fb2be62d\")) {                    Plotly.newPlot(                        \"c1c5190e-c905-462e-b110-3e29fb2be62d\",                        [{\"name\":\"Training RMSE\",\"type\":\"bar\",\"x\":[\"c\",\"c,d\",\"c,d,h\",\"c,d,h,w\",\"c,d,h,w,a\",\"c,d,h,w,a,m\",\"c,d,h,w,a,m,o\",\"c,d,h,w,a,m,o,n\",\"Ridge(alpha=0.5)\",\"RidgeN(alpha=0.5)\",\"RidgeN(alpha=10)\",\"RidgeN(alpha_best)\"],\"y\":[4.888109236813688,4.58757379901803,4.525395490245242,4.216877763288668,4.213763450275894,3.3799994809258984,3.248822401205007,1.1387325746873735,3.392024331152466,1.3731123141095083,2.5640356668089086,1.797322608152135]},{\"name\":\"CV RMSE\",\"type\":\"bar\",\"x\":[\"c\",\"c,d\",\"c,d,h\",\"c,d,h,w\",\"c,d,h,w,a\",\"c,d,h,w,a,m\",\"c,d,h,w,a,m,o\",\"c,d,h,w,a,m,o,n\",\"Ridge(alpha=0.5)\",\"RidgeN(alpha=0.5)\",\"RidgeN(alpha=10)\",\"RidgeN(alpha_best)\"],\"y\":[4.876661068256957,4.579060426624026,4.556808311664747,4.252718625749385,4.256844728700814,3.4557657065586787,3.3323381513276,3.728904117236925,3.25010581041028,3.021326792517836,3.1232826527910533,2.9436529541924905]},{\"name\":\"Test RMSE\",\"opacity\":0.3,\"type\":\"bar\",\"x\":[\"c\",\"c,d\",\"c,d,h\",\"c,d,h,w\",\"c,d,h,w,a\",\"c,d,h,w,a,m\",\"c,d,h,w,a,m,o\",\"c,d,h,w,a,m,o,n\",\"Ridge(alpha=0.5)\",\"RidgeN(alpha=0.5)\",\"RidgeN(alpha=10)\",\"RidgeN(alpha_best)\"],\"y\":[5.055013548375552,4.7661569898523695,4.583861769980873,4.325847816131029,4.34988869276913,3.550828171640195,3.3746613014711673,3.507039743068532,3.4637255340236033,3.539174433911404,3.372074009903791,3.472979885334427]}],                        {\"template\":{\"data\":{\"bar\":[{\"error_x\":{\"color\":\"#2a3f5f\"},\"error_y\":{\"color\":\"#2a3f5f\"},\"marker\":{\"line\":{\"color\":\"#E5ECF6\",\"width\":0.5},\"pattern\":{\"fillmode\":\"overlay\",\"size\":10,\"solidity\":0.2}},\"type\":\"bar\"}],\"barpolar\":[{\"marker\":{\"line\":{\"color\":\"#E5ECF6\",\"width\":0.5},\"pattern\":{\"fillmode\":\"overlay\",\"size\":10,\"solidity\":0.2}},\"type\":\"barpolar\"}],\"carpet\":[{\"aaxis\":{\"endlinecolor\":\"#2a3f5f\",\"gridcolor\":\"white\",\"linecolor\":\"white\",\"minorgridcolor\":\"white\",\"startlinecolor\":\"#2a3f5f\"},\"baxis\":{\"endlinecolor\":\"#2a3f5f\",\"gridcolor\":\"white\",\"linecolor\":\"white\",\"minorgridcolor\":\"white\",\"startlinecolor\":\"#2a3f5f\"},\"type\":\"carpet\"}],\"choropleth\":[{\"colorbar\":{\"outlinewidth\":0,\"ticks\":\"\"},\"type\":\"choropleth\"}],\"contour\":[{\"colorbar\":{\"outlinewidth\":0,\"ticks\":\"\"},\"colorscale\":[[0.0,\"#0d0887\"],[0.1111111111111111,\"#46039f\"],[0.2222222222222222,\"#7201a8\"],[0.3333333333333333,\"#9c179e\"],[0.4444444444444444,\"#bd3786\"],[0.5555555555555556,\"#d8576b\"],[0.6666666666666666,\"#ed7953\"],[0.7777777777777778,\"#fb9f3a\"],[0.8888888888888888,\"#fdca26\"],[1.0,\"#f0f921\"]],\"type\":\"contour\"}],\"contourcarpet\":[{\"colorbar\":{\"outlinewidth\":0,\"ticks\":\"\"},\"type\":\"contourcarpet\"}],\"heatmap\":[{\"colorbar\":{\"outlinewidth\":0,\"ticks\":\"\"},\"colorscale\":[[0.0,\"#0d0887\"],[0.1111111111111111,\"#46039f\"],[0.2222222222222222,\"#7201a8\"],[0.3333333333333333,\"#9c179e\"],[0.4444444444444444,\"#bd3786\"],[0.5555555555555556,\"#d8576b\"],[0.6666666666666666,\"#ed7953\"],[0.7777777777777778,\"#fb9f3a\"],[0.8888888888888888,\"#fdca26\"],[1.0,\"#f0f921\"]],\"type\":\"heatmap\"}],\"heatmapgl\":[{\"colorbar\":{\"outlinewidth\":0,\"ticks\":\"\"},\"colorscale\":[[0.0,\"#0d0887\"],[0.1111111111111111,\"#46039f\"],[0.2222222222222222,\"#7201a8\"],[0.3333333333333333,\"#9c179e\"],[0.4444444444444444,\"#bd3786\"],[0.5555555555555556,\"#d8576b\"],[0.6666666666666666,\"#ed7953\"],[0.7777777777777778,\"#fb9f3a\"],[0.8888888888888888,\"#fdca26\"],[1.0,\"#f0f921\"]],\"type\":\"heatmapgl\"}],\"histogram\":[{\"marker\":{\"pattern\":{\"fillmode\":\"overlay\",\"size\":10,\"solidity\":0.2}},\"type\":\"histogram\"}],\"histogram2d\":[{\"colorbar\":{\"outlinewidth\":0,\"ticks\":\"\"},\"colorscale\":[[0.0,\"#0d0887\"],[0.1111111111111111,\"#46039f\"],[0.2222222222222222,\"#7201a8\"],[0.3333333333333333,\"#9c179e\"],[0.4444444444444444,\"#bd3786\"],[0.5555555555555556,\"#d8576b\"],[0.6666666666666666,\"#ed7953\"],[0.7777777777777778,\"#fb9f3a\"],[0.8888888888888888,\"#fdca26\"],[1.0,\"#f0f921\"]],\"type\":\"histogram2d\"}],\"histogram2dcontour\":[{\"colorbar\":{\"outlinewidth\":0,\"ticks\":\"\"},\"colorscale\":[[0.0,\"#0d0887\"],[0.1111111111111111,\"#46039f\"],[0.2222222222222222,\"#7201a8\"],[0.3333333333333333,\"#9c179e\"],[0.4444444444444444,\"#bd3786\"],[0.5555555555555556,\"#d8576b\"],[0.6666666666666666,\"#ed7953\"],[0.7777777777777778,\"#fb9f3a\"],[0.8888888888888888,\"#fdca26\"],[1.0,\"#f0f921\"]],\"type\":\"histogram2dcontour\"}],\"mesh3d\":[{\"colorbar\":{\"outlinewidth\":0,\"ticks\":\"\"},\"type\":\"mesh3d\"}],\"parcoords\":[{\"line\":{\"colorbar\":{\"outlinewidth\":0,\"ticks\":\"\"}},\"type\":\"parcoords\"}],\"pie\":[{\"automargin\":true,\"type\":\"pie\"}],\"scatter\":[{\"marker\":{\"colorbar\":{\"outlinewidth\":0,\"ticks\":\"\"}},\"type\":\"scatter\"}],\"scatter3d\":[{\"line\":{\"colorbar\":{\"outlinewidth\":0,\"ticks\":\"\"}},\"marker\":{\"colorbar\":{\"outlinewidth\":0,\"ticks\":\"\"}},\"type\":\"scatter3d\"}],\"scattercarpet\":[{\"marker\":{\"colorbar\":{\"outlinewidth\":0,\"ticks\":\"\"}},\"type\":\"scattercarpet\"}],\"scattergeo\":[{\"marker\":{\"colorbar\":{\"outlinewidth\":0,\"ticks\":\"\"}},\"type\":\"scattergeo\"}],\"scattergl\":[{\"marker\":{\"colorbar\":{\"outlinewidth\":0,\"ticks\":\"\"}},\"type\":\"scattergl\"}],\"scattermapbox\":[{\"marker\":{\"colorbar\":{\"outlinewidth\":0,\"ticks\":\"\"}},\"type\":\"scattermapbox\"}],\"scatterpolar\":[{\"marker\":{\"colorbar\":{\"outlinewidth\":0,\"ticks\":\"\"}},\"type\":\"scatterpolar\"}],\"scatterpolargl\":[{\"marker\":{\"colorbar\":{\"outlinewidth\":0,\"ticks\":\"\"}},\"type\":\"scatterpolargl\"}],\"scatterternary\":[{\"marker\":{\"colorbar\":{\"outlinewidth\":0,\"ticks\":\"\"}},\"type\":\"scatterternary\"}],\"surface\":[{\"colorbar\":{\"outlinewidth\":0,\"ticks\":\"\"},\"colorscale\":[[0.0,\"#0d0887\"],[0.1111111111111111,\"#46039f\"],[0.2222222222222222,\"#7201a8\"],[0.3333333333333333,\"#9c179e\"],[0.4444444444444444,\"#bd3786\"],[0.5555555555555556,\"#d8576b\"],[0.6666666666666666,\"#ed7953\"],[0.7777777777777778,\"#fb9f3a\"],[0.8888888888888888,\"#fdca26\"],[1.0,\"#f0f921\"]],\"type\":\"surface\"}],\"table\":[{\"cells\":{\"fill\":{\"color\":\"#EBF0F8\"},\"line\":{\"color\":\"white\"}},\"header\":{\"fill\":{\"color\":\"#C8D4E3\"},\"line\":{\"color\":\"white\"}},\"type\":\"table\"}]},\"layout\":{\"annotationdefaults\":{\"arrowcolor\":\"#2a3f5f\",\"arrowhead\":0,\"arrowwidth\":1},\"autotypenumbers\":\"strict\",\"coloraxis\":{\"colorbar\":{\"outlinewidth\":0,\"ticks\":\"\"}},\"colorscale\":{\"diverging\":[[0,\"#8e0152\"],[0.1,\"#c51b7d\"],[0.2,\"#de77ae\"],[0.3,\"#f1b6da\"],[0.4,\"#fde0ef\"],[0.5,\"#f7f7f7\"],[0.6,\"#e6f5d0\"],[0.7,\"#b8e186\"],[0.8,\"#7fbc41\"],[0.9,\"#4d9221\"],[1,\"#276419\"]],\"sequential\":[[0.0,\"#0d0887\"],[0.1111111111111111,\"#46039f\"],[0.2222222222222222,\"#7201a8\"],[0.3333333333333333,\"#9c179e\"],[0.4444444444444444,\"#bd3786\"],[0.5555555555555556,\"#d8576b\"],[0.6666666666666666,\"#ed7953\"],[0.7777777777777778,\"#fb9f3a\"],[0.8888888888888888,\"#fdca26\"],[1.0,\"#f0f921\"]],\"sequentialminus\":[[0.0,\"#0d0887\"],[0.1111111111111111,\"#46039f\"],[0.2222222222222222,\"#7201a8\"],[0.3333333333333333,\"#9c179e\"],[0.4444444444444444,\"#bd3786\"],[0.5555555555555556,\"#d8576b\"],[0.6666666666666666,\"#ed7953\"],[0.7777777777777778,\"#fb9f3a\"],[0.8888888888888888,\"#fdca26\"],[1.0,\"#f0f921\"]]},\"colorway\":[\"#636efa\",\"#EF553B\",\"#00cc96\",\"#ab63fa\",\"#FFA15A\",\"#19d3f3\",\"#FF6692\",\"#B6E880\",\"#FF97FF\",\"#FECB52\"],\"font\":{\"color\":\"#2a3f5f\"},\"geo\":{\"bgcolor\":\"white\",\"lakecolor\":\"white\",\"landcolor\":\"#E5ECF6\",\"showlakes\":true,\"showland\":true,\"subunitcolor\":\"white\"},\"hoverlabel\":{\"align\":\"left\"},\"hovermode\":\"closest\",\"mapbox\":{\"style\":\"light\"},\"paper_bgcolor\":\"white\",\"plot_bgcolor\":\"#E5ECF6\",\"polar\":{\"angularaxis\":{\"gridcolor\":\"white\",\"linecolor\":\"white\",\"ticks\":\"\"},\"bgcolor\":\"#E5ECF6\",\"radialaxis\":{\"gridcolor\":\"white\",\"linecolor\":\"white\",\"ticks\":\"\"}},\"scene\":{\"xaxis\":{\"backgroundcolor\":\"#E5ECF6\",\"gridcolor\":\"white\",\"gridwidth\":2,\"linecolor\":\"white\",\"showbackground\":true,\"ticks\":\"\",\"zerolinecolor\":\"white\"},\"yaxis\":{\"backgroundcolor\":\"#E5ECF6\",\"gridcolor\":\"white\",\"gridwidth\":2,\"linecolor\":\"white\",\"showbackground\":true,\"ticks\":\"\",\"zerolinecolor\":\"white\"},\"zaxis\":{\"backgroundcolor\":\"#E5ECF6\",\"gridcolor\":\"white\",\"gridwidth\":2,\"linecolor\":\"white\",\"showbackground\":true,\"ticks\":\"\",\"zerolinecolor\":\"white\"}},\"shapedefaults\":{\"line\":{\"color\":\"#2a3f5f\"}},\"ternary\":{\"aaxis\":{\"gridcolor\":\"white\",\"linecolor\":\"white\",\"ticks\":\"\"},\"baxis\":{\"gridcolor\":\"white\",\"linecolor\":\"white\",\"ticks\":\"\"},\"bgcolor\":\"#E5ECF6\",\"caxis\":{\"gridcolor\":\"white\",\"linecolor\":\"white\",\"ticks\":\"\"}},\"title\":{\"x\":0.05},\"xaxis\":{\"automargin\":true,\"gridcolor\":\"white\",\"linecolor\":\"white\",\"ticks\":\"\",\"title\":{\"standoff\":15},\"zerolinecolor\":\"white\",\"zerolinewidth\":2},\"yaxis\":{\"automargin\":true,\"gridcolor\":\"white\",\"linecolor\":\"white\",\"ticks\":\"\",\"title\":{\"standoff\":15},\"zerolinecolor\":\"white\",\"zerolinewidth\":2}}},\"yaxis\":{\"title\":{\"text\":\"RMSE\"}}},                        {\"responsive\": true}                    ).then(function(){\n",
       "                            \n",
       "var gd = document.getElementById('c1c5190e-c905-462e-b110-3e29fb2be62d');\n",
       "var x = new MutationObserver(function (mutations, observer) {{\n",
       "        var display = window.getComputedStyle(gd).display;\n",
       "        if (!display || display === 'none') {{\n",
       "            console.log([gd, 'removed!']);\n",
       "            Plotly.purge(gd);\n",
       "            observer.disconnect();\n",
       "        }}\n",
       "}});\n",
       "\n",
       "// Listen for the removal of the full notebook cells\n",
       "var notebookContainer = gd.closest('#notebook-container');\n",
       "if (notebookContainer) {{\n",
       "    x.observe(notebookContainer, {childList: true});\n",
       "}}\n",
       "\n",
       "// Listen for the clearing of the current output cell\n",
       "var outputEl = gd.closest('.output');\n",
       "if (outputEl) {{\n",
       "    x.observe(outputEl, {childList: true});\n",
       "}}\n",
       "\n",
       "                        })                };                });            </script>        </div>"
      ]
     },
     "metadata": {},
     "output_type": "display_data"
    }
   ],
   "source": [
    "best_alpha = alphas[np.argmin(cv_values)]\n",
    "ridge_model.set_params(LinearModel__alpha=best_alpha)\n",
    "ridge_model.fit(tr, tr['mpg'])\n",
    "models[\"RidgeN(alpha_best)\"] = ridge_model\n",
    "compare_models(models)"
   ]
  },
  {
   "cell_type": "markdown",
   "metadata": {},
   "source": [
    "We didn't have to do all of that work. SKLearn has a Ridge Regression class with built-in cross validation"
   ]
  },
  {
   "cell_type": "code",
   "execution_count": 37,
   "metadata": {},
   "outputs": [],
   "source": [
    "from sklearn.linear_model import RidgeCV"
   ]
  },
  {
   "cell_type": "code",
   "execution_count": 38,
   "metadata": {},
   "outputs": [],
   "source": [
    "alphas = np.linspace(0.5, 3, 30)\n",
    "\n",
    "ridge_model = Pipeline([\n",
    "    (\"SelectColumns\", ColumnTransformer([\n",
    "        (\"keep\", StandardScaler(), quantitative_features),\n",
    "        (\"origin_encoder\", OneHotEncoder(), [\"origin\"]),\n",
    "        (\"text\", CountVectorizer(), \"name\")\n",
    "    ])),\n",
    "    (\"Imputation\", SimpleImputer()),\n",
    "    (\"LinearModel\", RidgeCV(alphas=alphas))\n",
    "])"
   ]
  },
  {
   "cell_type": "code",
   "execution_count": 39,
   "metadata": {},
   "outputs": [
    {
     "data": {
      "application/vnd.plotly.v1+json": {
       "config": {
        "plotlyServerURL": "https://plot.ly"
       },
       "data": [
        {
         "name": "Training RMSE",
         "type": "bar",
         "x": [
          "c",
          "c,d",
          "c,d,h",
          "c,d,h,w",
          "c,d,h,w,a",
          "c,d,h,w,a,m",
          "c,d,h,w,a,m,o",
          "c,d,h,w,a,m,o,n",
          "Ridge(alpha=0.5)",
          "RidgeN(alpha=0.5)",
          "RidgeN(alpha=10)",
          "RidgeN(alpha_best)",
          "RidgeCV"
         ],
         "y": [
          4.888109236813688,
          4.58757379901803,
          4.525395490245242,
          4.216877763288668,
          4.213763450275894,
          3.3799994809258984,
          3.248822401205007,
          1.1387325746873735,
          3.392024331152466,
          1.3731123141095083,
          2.5640356668089086,
          1.797322608152135,
          1.7609475467573532
         ]
        },
        {
         "name": "CV RMSE",
         "type": "bar",
         "x": [
          "c",
          "c,d",
          "c,d,h",
          "c,d,h,w",
          "c,d,h,w,a",
          "c,d,h,w,a,m",
          "c,d,h,w,a,m,o",
          "c,d,h,w,a,m,o,n",
          "Ridge(alpha=0.5)",
          "RidgeN(alpha=0.5)",
          "RidgeN(alpha=10)",
          "RidgeN(alpha_best)",
          "RidgeCV"
         ],
         "y": [
          4.876661068256957,
          4.579060426624026,
          4.556808311664747,
          4.252718625749385,
          4.256844728700814,
          3.4557657065586787,
          3.3323381513276,
          3.728904117236925,
          3.25010581041028,
          3.021326792517836,
          3.1232826527910533,
          2.9436529541924905,
          2.9630429994269614
         ]
        },
        {
         "name": "Test RMSE",
         "opacity": 0.3,
         "type": "bar",
         "x": [
          "c",
          "c,d",
          "c,d,h",
          "c,d,h,w",
          "c,d,h,w,a",
          "c,d,h,w,a,m",
          "c,d,h,w,a,m,o",
          "c,d,h,w,a,m,o,n",
          "Ridge(alpha=0.5)",
          "RidgeN(alpha=0.5)",
          "RidgeN(alpha=10)",
          "RidgeN(alpha_best)",
          "RidgeCV"
         ],
         "y": [
          5.055013548375552,
          4.7661569898523695,
          4.583861769980873,
          4.325847816131029,
          4.34988869276913,
          3.550828171640195,
          3.3746613014711673,
          3.507039743068532,
          3.4637255340236033,
          3.539174433911404,
          3.372074009903791,
          3.472979885334427,
          3.4751204469189556
         ]
        }
       ],
       "layout": {
        "autosize": true,
        "template": {
         "data": {
          "bar": [
           {
            "error_x": {
             "color": "#2a3f5f"
            },
            "error_y": {
             "color": "#2a3f5f"
            },
            "marker": {
             "line": {
              "color": "#E5ECF6",
              "width": 0.5
             },
             "pattern": {
              "fillmode": "overlay",
              "size": 10,
              "solidity": 0.2
             }
            },
            "type": "bar"
           }
          ],
          "barpolar": [
           {
            "marker": {
             "line": {
              "color": "#E5ECF6",
              "width": 0.5
             },
             "pattern": {
              "fillmode": "overlay",
              "size": 10,
              "solidity": 0.2
             }
            },
            "type": "barpolar"
           }
          ],
          "carpet": [
           {
            "aaxis": {
             "endlinecolor": "#2a3f5f",
             "gridcolor": "white",
             "linecolor": "white",
             "minorgridcolor": "white",
             "startlinecolor": "#2a3f5f"
            },
            "baxis": {
             "endlinecolor": "#2a3f5f",
             "gridcolor": "white",
             "linecolor": "white",
             "minorgridcolor": "white",
             "startlinecolor": "#2a3f5f"
            },
            "type": "carpet"
           }
          ],
          "choropleth": [
           {
            "colorbar": {
             "outlinewidth": 0,
             "ticks": ""
            },
            "type": "choropleth"
           }
          ],
          "contour": [
           {
            "colorbar": {
             "outlinewidth": 0,
             "ticks": ""
            },
            "colorscale": [
             [
              0,
              "#0d0887"
             ],
             [
              0.1111111111111111,
              "#46039f"
             ],
             [
              0.2222222222222222,
              "#7201a8"
             ],
             [
              0.3333333333333333,
              "#9c179e"
             ],
             [
              0.4444444444444444,
              "#bd3786"
             ],
             [
              0.5555555555555556,
              "#d8576b"
             ],
             [
              0.6666666666666666,
              "#ed7953"
             ],
             [
              0.7777777777777778,
              "#fb9f3a"
             ],
             [
              0.8888888888888888,
              "#fdca26"
             ],
             [
              1,
              "#f0f921"
             ]
            ],
            "type": "contour"
           }
          ],
          "contourcarpet": [
           {
            "colorbar": {
             "outlinewidth": 0,
             "ticks": ""
            },
            "type": "contourcarpet"
           }
          ],
          "heatmap": [
           {
            "colorbar": {
             "outlinewidth": 0,
             "ticks": ""
            },
            "colorscale": [
             [
              0,
              "#0d0887"
             ],
             [
              0.1111111111111111,
              "#46039f"
             ],
             [
              0.2222222222222222,
              "#7201a8"
             ],
             [
              0.3333333333333333,
              "#9c179e"
             ],
             [
              0.4444444444444444,
              "#bd3786"
             ],
             [
              0.5555555555555556,
              "#d8576b"
             ],
             [
              0.6666666666666666,
              "#ed7953"
             ],
             [
              0.7777777777777778,
              "#fb9f3a"
             ],
             [
              0.8888888888888888,
              "#fdca26"
             ],
             [
              1,
              "#f0f921"
             ]
            ],
            "type": "heatmap"
           }
          ],
          "heatmapgl": [
           {
            "colorbar": {
             "outlinewidth": 0,
             "ticks": ""
            },
            "colorscale": [
             [
              0,
              "#0d0887"
             ],
             [
              0.1111111111111111,
              "#46039f"
             ],
             [
              0.2222222222222222,
              "#7201a8"
             ],
             [
              0.3333333333333333,
              "#9c179e"
             ],
             [
              0.4444444444444444,
              "#bd3786"
             ],
             [
              0.5555555555555556,
              "#d8576b"
             ],
             [
              0.6666666666666666,
              "#ed7953"
             ],
             [
              0.7777777777777778,
              "#fb9f3a"
             ],
             [
              0.8888888888888888,
              "#fdca26"
             ],
             [
              1,
              "#f0f921"
             ]
            ],
            "type": "heatmapgl"
           }
          ],
          "histogram": [
           {
            "marker": {
             "pattern": {
              "fillmode": "overlay",
              "size": 10,
              "solidity": 0.2
             }
            },
            "type": "histogram"
           }
          ],
          "histogram2d": [
           {
            "colorbar": {
             "outlinewidth": 0,
             "ticks": ""
            },
            "colorscale": [
             [
              0,
              "#0d0887"
             ],
             [
              0.1111111111111111,
              "#46039f"
             ],
             [
              0.2222222222222222,
              "#7201a8"
             ],
             [
              0.3333333333333333,
              "#9c179e"
             ],
             [
              0.4444444444444444,
              "#bd3786"
             ],
             [
              0.5555555555555556,
              "#d8576b"
             ],
             [
              0.6666666666666666,
              "#ed7953"
             ],
             [
              0.7777777777777778,
              "#fb9f3a"
             ],
             [
              0.8888888888888888,
              "#fdca26"
             ],
             [
              1,
              "#f0f921"
             ]
            ],
            "type": "histogram2d"
           }
          ],
          "histogram2dcontour": [
           {
            "colorbar": {
             "outlinewidth": 0,
             "ticks": ""
            },
            "colorscale": [
             [
              0,
              "#0d0887"
             ],
             [
              0.1111111111111111,
              "#46039f"
             ],
             [
              0.2222222222222222,
              "#7201a8"
             ],
             [
              0.3333333333333333,
              "#9c179e"
             ],
             [
              0.4444444444444444,
              "#bd3786"
             ],
             [
              0.5555555555555556,
              "#d8576b"
             ],
             [
              0.6666666666666666,
              "#ed7953"
             ],
             [
              0.7777777777777778,
              "#fb9f3a"
             ],
             [
              0.8888888888888888,
              "#fdca26"
             ],
             [
              1,
              "#f0f921"
             ]
            ],
            "type": "histogram2dcontour"
           }
          ],
          "mesh3d": [
           {
            "colorbar": {
             "outlinewidth": 0,
             "ticks": ""
            },
            "type": "mesh3d"
           }
          ],
          "parcoords": [
           {
            "line": {
             "colorbar": {
              "outlinewidth": 0,
              "ticks": ""
             }
            },
            "type": "parcoords"
           }
          ],
          "pie": [
           {
            "automargin": true,
            "type": "pie"
           }
          ],
          "scatter": [
           {
            "marker": {
             "colorbar": {
              "outlinewidth": 0,
              "ticks": ""
             }
            },
            "type": "scatter"
           }
          ],
          "scatter3d": [
           {
            "line": {
             "colorbar": {
              "outlinewidth": 0,
              "ticks": ""
             }
            },
            "marker": {
             "colorbar": {
              "outlinewidth": 0,
              "ticks": ""
             }
            },
            "type": "scatter3d"
           }
          ],
          "scattercarpet": [
           {
            "marker": {
             "colorbar": {
              "outlinewidth": 0,
              "ticks": ""
             }
            },
            "type": "scattercarpet"
           }
          ],
          "scattergeo": [
           {
            "marker": {
             "colorbar": {
              "outlinewidth": 0,
              "ticks": ""
             }
            },
            "type": "scattergeo"
           }
          ],
          "scattergl": [
           {
            "marker": {
             "colorbar": {
              "outlinewidth": 0,
              "ticks": ""
             }
            },
            "type": "scattergl"
           }
          ],
          "scattermapbox": [
           {
            "marker": {
             "colorbar": {
              "outlinewidth": 0,
              "ticks": ""
             }
            },
            "type": "scattermapbox"
           }
          ],
          "scatterpolar": [
           {
            "marker": {
             "colorbar": {
              "outlinewidth": 0,
              "ticks": ""
             }
            },
            "type": "scatterpolar"
           }
          ],
          "scatterpolargl": [
           {
            "marker": {
             "colorbar": {
              "outlinewidth": 0,
              "ticks": ""
             }
            },
            "type": "scatterpolargl"
           }
          ],
          "scatterternary": [
           {
            "marker": {
             "colorbar": {
              "outlinewidth": 0,
              "ticks": ""
             }
            },
            "type": "scatterternary"
           }
          ],
          "surface": [
           {
            "colorbar": {
             "outlinewidth": 0,
             "ticks": ""
            },
            "colorscale": [
             [
              0,
              "#0d0887"
             ],
             [
              0.1111111111111111,
              "#46039f"
             ],
             [
              0.2222222222222222,
              "#7201a8"
             ],
             [
              0.3333333333333333,
              "#9c179e"
             ],
             [
              0.4444444444444444,
              "#bd3786"
             ],
             [
              0.5555555555555556,
              "#d8576b"
             ],
             [
              0.6666666666666666,
              "#ed7953"
             ],
             [
              0.7777777777777778,
              "#fb9f3a"
             ],
             [
              0.8888888888888888,
              "#fdca26"
             ],
             [
              1,
              "#f0f921"
             ]
            ],
            "type": "surface"
           }
          ],
          "table": [
           {
            "cells": {
             "fill": {
              "color": "#EBF0F8"
             },
             "line": {
              "color": "white"
             }
            },
            "header": {
             "fill": {
              "color": "#C8D4E3"
             },
             "line": {
              "color": "white"
             }
            },
            "type": "table"
           }
          ]
         },
         "layout": {
          "annotationdefaults": {
           "arrowcolor": "#2a3f5f",
           "arrowhead": 0,
           "arrowwidth": 1
          },
          "autotypenumbers": "strict",
          "coloraxis": {
           "colorbar": {
            "outlinewidth": 0,
            "ticks": ""
           }
          },
          "colorscale": {
           "diverging": [
            [
             0,
             "#8e0152"
            ],
            [
             0.1,
             "#c51b7d"
            ],
            [
             0.2,
             "#de77ae"
            ],
            [
             0.3,
             "#f1b6da"
            ],
            [
             0.4,
             "#fde0ef"
            ],
            [
             0.5,
             "#f7f7f7"
            ],
            [
             0.6,
             "#e6f5d0"
            ],
            [
             0.7,
             "#b8e186"
            ],
            [
             0.8,
             "#7fbc41"
            ],
            [
             0.9,
             "#4d9221"
            ],
            [
             1,
             "#276419"
            ]
           ],
           "sequential": [
            [
             0,
             "#0d0887"
            ],
            [
             0.1111111111111111,
             "#46039f"
            ],
            [
             0.2222222222222222,
             "#7201a8"
            ],
            [
             0.3333333333333333,
             "#9c179e"
            ],
            [
             0.4444444444444444,
             "#bd3786"
            ],
            [
             0.5555555555555556,
             "#d8576b"
            ],
            [
             0.6666666666666666,
             "#ed7953"
            ],
            [
             0.7777777777777778,
             "#fb9f3a"
            ],
            [
             0.8888888888888888,
             "#fdca26"
            ],
            [
             1,
             "#f0f921"
            ]
           ],
           "sequentialminus": [
            [
             0,
             "#0d0887"
            ],
            [
             0.1111111111111111,
             "#46039f"
            ],
            [
             0.2222222222222222,
             "#7201a8"
            ],
            [
             0.3333333333333333,
             "#9c179e"
            ],
            [
             0.4444444444444444,
             "#bd3786"
            ],
            [
             0.5555555555555556,
             "#d8576b"
            ],
            [
             0.6666666666666666,
             "#ed7953"
            ],
            [
             0.7777777777777778,
             "#fb9f3a"
            ],
            [
             0.8888888888888888,
             "#fdca26"
            ],
            [
             1,
             "#f0f921"
            ]
           ]
          },
          "colorway": [
           "#636efa",
           "#EF553B",
           "#00cc96",
           "#ab63fa",
           "#FFA15A",
           "#19d3f3",
           "#FF6692",
           "#B6E880",
           "#FF97FF",
           "#FECB52"
          ],
          "font": {
           "color": "#2a3f5f"
          },
          "geo": {
           "bgcolor": "white",
           "lakecolor": "white",
           "landcolor": "#E5ECF6",
           "showlakes": true,
           "showland": true,
           "subunitcolor": "white"
          },
          "hoverlabel": {
           "align": "left"
          },
          "hovermode": "closest",
          "mapbox": {
           "style": "light"
          },
          "paper_bgcolor": "white",
          "plot_bgcolor": "#E5ECF6",
          "polar": {
           "angularaxis": {
            "gridcolor": "white",
            "linecolor": "white",
            "ticks": ""
           },
           "bgcolor": "#E5ECF6",
           "radialaxis": {
            "gridcolor": "white",
            "linecolor": "white",
            "ticks": ""
           }
          },
          "scene": {
           "xaxis": {
            "backgroundcolor": "#E5ECF6",
            "gridcolor": "white",
            "gridwidth": 2,
            "linecolor": "white",
            "showbackground": true,
            "ticks": "",
            "zerolinecolor": "white"
           },
           "yaxis": {
            "backgroundcolor": "#E5ECF6",
            "gridcolor": "white",
            "gridwidth": 2,
            "linecolor": "white",
            "showbackground": true,
            "ticks": "",
            "zerolinecolor": "white"
           },
           "zaxis": {
            "backgroundcolor": "#E5ECF6",
            "gridcolor": "white",
            "gridwidth": 2,
            "linecolor": "white",
            "showbackground": true,
            "ticks": "",
            "zerolinecolor": "white"
           }
          },
          "shapedefaults": {
           "line": {
            "color": "#2a3f5f"
           }
          },
          "ternary": {
           "aaxis": {
            "gridcolor": "white",
            "linecolor": "white",
            "ticks": ""
           },
           "baxis": {
            "gridcolor": "white",
            "linecolor": "white",
            "ticks": ""
           },
           "bgcolor": "#E5ECF6",
           "caxis": {
            "gridcolor": "white",
            "linecolor": "white",
            "ticks": ""
           }
          },
          "title": {
           "x": 0.05
          },
          "xaxis": {
           "automargin": true,
           "gridcolor": "white",
           "linecolor": "white",
           "ticks": "",
           "title": {
            "standoff": 15
           },
           "zerolinecolor": "white",
           "zerolinewidth": 2
          },
          "yaxis": {
           "automargin": true,
           "gridcolor": "white",
           "linecolor": "white",
           "ticks": "",
           "title": {
            "standoff": 15
           },
           "zerolinecolor": "white",
           "zerolinewidth": 2
          }
         }
        },
        "xaxis": {
         "autorange": true,
         "range": [
          -0.5,
          12.5
         ],
         "type": "category"
        },
        "yaxis": {
         "autorange": true,
         "range": [
          0,
          5.321066893026897
         ],
         "title": {
          "text": "RMSE"
         },
         "type": "linear"
        }
       }
      },
      "image/png": "[encoded data removed]",
      "text/html": [
       "<div>                            <div id=\"908d58fe-9a21-4185-a323-59523e711be7\" class=\"plotly-graph-div\" style=\"height:525px; width:100%;\"></div>            <script type=\"text/javascript\">                require([\"plotly\"], function(Plotly) {                    window.PLOTLYENV=window.PLOTLYENV || {};                                    if (document.getElementById(\"908d58fe-9a21-4185-a323-59523e711be7\")) {                    Plotly.newPlot(                        \"908d58fe-9a21-4185-a323-59523e711be7\",                        [{\"name\":\"Training RMSE\",\"type\":\"bar\",\"x\":[\"c\",\"c,d\",\"c,d,h\",\"c,d,h,w\",\"c,d,h,w,a\",\"c,d,h,w,a,m\",\"c,d,h,w,a,m,o\",\"c,d,h,w,a,m,o,n\",\"Ridge(alpha=0.5)\",\"RidgeN(alpha=0.5)\",\"RidgeN(alpha=10)\",\"RidgeN(alpha_best)\",\"RidgeCV\"],\"y\":[4.888109236813688,4.58757379901803,4.525395490245242,4.216877763288668,4.213763450275894,3.3799994809258984,3.248822401205007,1.1387325746873735,3.392024331152466,1.3731123141095083,2.5640356668089086,1.797322608152135,1.7609475467573532]},{\"name\":\"CV RMSE\",\"type\":\"bar\",\"x\":[\"c\",\"c,d\",\"c,d,h\",\"c,d,h,w\",\"c,d,h,w,a\",\"c,d,h,w,a,m\",\"c,d,h,w,a,m,o\",\"c,d,h,w,a,m,o,n\",\"Ridge(alpha=0.5)\",\"RidgeN(alpha=0.5)\",\"RidgeN(alpha=10)\",\"RidgeN(alpha_best)\",\"RidgeCV\"],\"y\":[4.876661068256957,4.579060426624026,4.556808311664747,4.252718625749385,4.256844728700814,3.4557657065586787,3.3323381513276,3.728904117236925,3.25010581041028,3.021326792517836,3.1232826527910533,2.9436529541924905,2.9630429994269614]},{\"name\":\"Test RMSE\",\"opacity\":0.3,\"type\":\"bar\",\"x\":[\"c\",\"c,d\",\"c,d,h\",\"c,d,h,w\",\"c,d,h,w,a\",\"c,d,h,w,a,m\",\"c,d,h,w,a,m,o\",\"c,d,h,w,a,m,o,n\",\"Ridge(alpha=0.5)\",\"RidgeN(alpha=0.5)\",\"RidgeN(alpha=10)\",\"RidgeN(alpha_best)\",\"RidgeCV\"],\"y\":[5.055013548375552,4.7661569898523695,4.583861769980873,4.325847816131029,4.34988869276913,3.550828171640195,3.3746613014711673,3.507039743068532,3.4637255340236033,3.539174433911404,3.372074009903791,3.472979885334427,3.4751204469189556]}],                        {\"template\":{\"data\":{\"bar\":[{\"error_x\":{\"color\":\"#2a3f5f\"},\"error_y\":{\"color\":\"#2a3f5f\"},\"marker\":{\"line\":{\"color\":\"#E5ECF6\",\"width\":0.5},\"pattern\":{\"fillmode\":\"overlay\",\"size\":10,\"solidity\":0.2}},\"type\":\"bar\"}],\"barpolar\":[{\"marker\":{\"line\":{\"color\":\"#E5ECF6\",\"width\":0.5},\"pattern\":{\"fillmode\":\"overlay\",\"size\":10,\"solidity\":0.2}},\"type\":\"barpolar\"}],\"carpet\":[{\"aaxis\":{\"endlinecolor\":\"#2a3f5f\",\"gridcolor\":\"white\",\"linecolor\":\"white\",\"minorgridcolor\":\"white\",\"startlinecolor\":\"#2a3f5f\"},\"baxis\":{\"endlinecolor\":\"#2a3f5f\",\"gridcolor\":\"white\",\"linecolor\":\"white\",\"minorgridcolor\":\"white\",\"startlinecolor\":\"#2a3f5f\"},\"type\":\"carpet\"}],\"choropleth\":[{\"colorbar\":{\"outlinewidth\":0,\"ticks\":\"\"},\"type\":\"choropleth\"}],\"contour\":[{\"colorbar\":{\"outlinewidth\":0,\"ticks\":\"\"},\"colorscale\":[[0.0,\"#0d0887\"],[0.1111111111111111,\"#46039f\"],[0.2222222222222222,\"#7201a8\"],[0.3333333333333333,\"#9c179e\"],[0.4444444444444444,\"#bd3786\"],[0.5555555555555556,\"#d8576b\"],[0.6666666666666666,\"#ed7953\"],[0.7777777777777778,\"#fb9f3a\"],[0.8888888888888888,\"#fdca26\"],[1.0,\"#f0f921\"]],\"type\":\"contour\"}],\"contourcarpet\":[{\"colorbar\":{\"outlinewidth\":0,\"ticks\":\"\"},\"type\":\"contourcarpet\"}],\"heatmap\":[{\"colorbar\":{\"outlinewidth\":0,\"ticks\":\"\"},\"colorscale\":[[0.0,\"#0d0887\"],[0.1111111111111111,\"#46039f\"],[0.2222222222222222,\"#7201a8\"],[0.3333333333333333,\"#9c179e\"],[0.4444444444444444,\"#bd3786\"],[0.5555555555555556,\"#d8576b\"],[0.6666666666666666,\"#ed7953\"],[0.7777777777777778,\"#fb9f3a\"],[0.8888888888888888,\"#fdca26\"],[1.0,\"#f0f921\"]],\"type\":\"heatmap\"}],\"heatmapgl\":[{\"colorbar\":{\"outlinewidth\":0,\"ticks\":\"\"},\"colorscale\":[[0.0,\"#0d0887\"],[0.1111111111111111,\"#46039f\"],[0.2222222222222222,\"#7201a8\"],[0.3333333333333333,\"#9c179e\"],[0.4444444444444444,\"#bd3786\"],[0.5555555555555556,\"#d8576b\"],[0.6666666666666666,\"#ed7953\"],[0.7777777777777778,\"#fb9f3a\"],[0.8888888888888888,\"#fdca26\"],[1.0,\"#f0f921\"]],\"type\":\"heatmapgl\"}],\"histogram\":[{\"marker\":{\"pattern\":{\"fillmode\":\"overlay\",\"size\":10,\"solidity\":0.2}},\"type\":\"histogram\"}],\"histogram2d\":[{\"colorbar\":{\"outlinewidth\":0,\"ticks\":\"\"},\"colorscale\":[[0.0,\"#0d0887\"],[0.1111111111111111,\"#46039f\"],[0.2222222222222222,\"#7201a8\"],[0.3333333333333333,\"#9c179e\"],[0.4444444444444444,\"#bd3786\"],[0.5555555555555556,\"#d8576b\"],[0.6666666666666666,\"#ed7953\"],[0.7777777777777778,\"#fb9f3a\"],[0.8888888888888888,\"#fdca26\"],[1.0,\"#f0f921\"]],\"type\":\"histogram2d\"}],\"histogram2dcontour\":[{\"colorbar\":{\"outlinewidth\":0,\"ticks\":\"\"},\"colorscale\":[[0.0,\"#0d0887\"],[0.1111111111111111,\"#46039f\"],[0.2222222222222222,\"#7201a8\"],[0.3333333333333333,\"#9c179e\"],[0.4444444444444444,\"#bd3786\"],[0.5555555555555556,\"#d8576b\"],[0.6666666666666666,\"#ed7953\"],[0.7777777777777778,\"#fb9f3a\"],[0.8888888888888888,\"#fdca26\"],[1.0,\"#f0f921\"]],\"type\":\"histogram2dcontour\"}],\"mesh3d\":[{\"colorbar\":{\"outlinewidth\":0,\"ticks\":\"\"},\"type\":\"mesh3d\"}],\"parcoords\":[{\"line\":{\"colorbar\":{\"outlinewidth\":0,\"ticks\":\"\"}},\"type\":\"parcoords\"}],\"pie\":[{\"automargin\":true,\"type\":\"pie\"}],\"scatter\":[{\"marker\":{\"colorbar\":{\"outlinewidth\":0,\"ticks\":\"\"}},\"type\":\"scatter\"}],\"scatter3d\":[{\"line\":{\"colorbar\":{\"outlinewidth\":0,\"ticks\":\"\"}},\"marker\":{\"colorbar\":{\"outlinewidth\":0,\"ticks\":\"\"}},\"type\":\"scatter3d\"}],\"scattercarpet\":[{\"marker\":{\"colorbar\":{\"outlinewidth\":0,\"ticks\":\"\"}},\"type\":\"scattercarpet\"}],\"scattergeo\":[{\"marker\":{\"colorbar\":{\"outlinewidth\":0,\"ticks\":\"\"}},\"type\":\"scattergeo\"}],\"scattergl\":[{\"marker\":{\"colorbar\":{\"outlinewidth\":0,\"ticks\":\"\"}},\"type\":\"scattergl\"}],\"scattermapbox\":[{\"marker\":{\"colorbar\":{\"outlinewidth\":0,\"ticks\":\"\"}},\"type\":\"scattermapbox\"}],\"scatterpolar\":[{\"marker\":{\"colorbar\":{\"outlinewidth\":0,\"ticks\":\"\"}},\"type\":\"scatterpolar\"}],\"scatterpolargl\":[{\"marker\":{\"colorbar\":{\"outlinewidth\":0,\"ticks\":\"\"}},\"type\":\"scatterpolargl\"}],\"scatterternary\":[{\"marker\":{\"colorbar\":{\"outlinewidth\":0,\"ticks\":\"\"}},\"type\":\"scatterternary\"}],\"surface\":[{\"colorbar\":{\"outlinewidth\":0,\"ticks\":\"\"},\"colorscale\":[[0.0,\"#0d0887\"],[0.1111111111111111,\"#46039f\"],[0.2222222222222222,\"#7201a8\"],[0.3333333333333333,\"#9c179e\"],[0.4444444444444444,\"#bd3786\"],[0.5555555555555556,\"#d8576b\"],[0.6666666666666666,\"#ed7953\"],[0.7777777777777778,\"#fb9f3a\"],[0.8888888888888888,\"#fdca26\"],[1.0,\"#f0f921\"]],\"type\":\"surface\"}],\"table\":[{\"cells\":{\"fill\":{\"color\":\"#EBF0F8\"},\"line\":{\"color\":\"white\"}},\"header\":{\"fill\":{\"color\":\"#C8D4E3\"},\"line\":{\"color\":\"white\"}},\"type\":\"table\"}]},\"layout\":{\"annotationdefaults\":{\"arrowcolor\":\"#2a3f5f\",\"arrowhead\":0,\"arrowwidth\":1},\"autotypenumbers\":\"strict\",\"coloraxis\":{\"colorbar\":{\"outlinewidth\":0,\"ticks\":\"\"}},\"colorscale\":{\"diverging\":[[0,\"#8e0152\"],[0.1,\"#c51b7d\"],[0.2,\"#de77ae\"],[0.3,\"#f1b6da\"],[0.4,\"#fde0ef\"],[0.5,\"#f7f7f7\"],[0.6,\"#e6f5d0\"],[0.7,\"#b8e186\"],[0.8,\"#7fbc41\"],[0.9,\"#4d9221\"],[1,\"#276419\"]],\"sequential\":[[0.0,\"#0d0887\"],[0.1111111111111111,\"#46039f\"],[0.2222222222222222,\"#7201a8\"],[0.3333333333333333,\"#9c179e\"],[0.4444444444444444,\"#bd3786\"],[0.5555555555555556,\"#d8576b\"],[0.6666666666666666,\"#ed7953\"],[0.7777777777777778,\"#fb9f3a\"],[0.8888888888888888,\"#fdca26\"],[1.0,\"#f0f921\"]],\"sequentialminus\":[[0.0,\"#0d0887\"],[0.1111111111111111,\"#46039f\"],[0.2222222222222222,\"#7201a8\"],[0.3333333333333333,\"#9c179e\"],[0.4444444444444444,\"#bd3786\"],[0.5555555555555556,\"#d8576b\"],[0.6666666666666666,\"#ed7953\"],[0.7777777777777778,\"#fb9f3a\"],[0.8888888888888888,\"#fdca26\"],[1.0,\"#f0f921\"]]},\"colorway\":[\"#636efa\",\"#EF553B\",\"#00cc96\",\"#ab63fa\",\"#FFA15A\",\"#19d3f3\",\"#FF6692\",\"#B6E880\",\"#FF97FF\",\"#FECB52\"],\"font\":{\"color\":\"#2a3f5f\"},\"geo\":{\"bgcolor\":\"white\",\"lakecolor\":\"white\",\"landcolor\":\"#E5ECF6\",\"showlakes\":true,\"showland\":true,\"subunitcolor\":\"white\"},\"hoverlabel\":{\"align\":\"left\"},\"hovermode\":\"closest\",\"mapbox\":{\"style\":\"light\"},\"paper_bgcolor\":\"white\",\"plot_bgcolor\":\"#E5ECF6\",\"polar\":{\"angularaxis\":{\"gridcolor\":\"white\",\"linecolor\":\"white\",\"ticks\":\"\"},\"bgcolor\":\"#E5ECF6\",\"radialaxis\":{\"gridcolor\":\"white\",\"linecolor\":\"white\",\"ticks\":\"\"}},\"scene\":{\"xaxis\":{\"backgroundcolor\":\"#E5ECF6\",\"gridcolor\":\"white\",\"gridwidth\":2,\"linecolor\":\"white\",\"showbackground\":true,\"ticks\":\"\",\"zerolinecolor\":\"white\"},\"yaxis\":{\"backgroundcolor\":\"#E5ECF6\",\"gridcolor\":\"white\",\"gridwidth\":2,\"linecolor\":\"white\",\"showbackground\":true,\"ticks\":\"\",\"zerolinecolor\":\"white\"},\"zaxis\":{\"backgroundcolor\":\"#E5ECF6\",\"gridcolor\":\"white\",\"gridwidth\":2,\"linecolor\":\"white\",\"showbackground\":true,\"ticks\":\"\",\"zerolinecolor\":\"white\"}},\"shapedefaults\":{\"line\":{\"color\":\"#2a3f5f\"}},\"ternary\":{\"aaxis\":{\"gridcolor\":\"white\",\"linecolor\":\"white\",\"ticks\":\"\"},\"baxis\":{\"gridcolor\":\"white\",\"linecolor\":\"white\",\"ticks\":\"\"},\"bgcolor\":\"#E5ECF6\",\"caxis\":{\"gridcolor\":\"white\",\"linecolor\":\"white\",\"ticks\":\"\"}},\"title\":{\"x\":0.05},\"xaxis\":{\"automargin\":true,\"gridcolor\":\"white\",\"linecolor\":\"white\",\"ticks\":\"\",\"title\":{\"standoff\":15},\"zerolinecolor\":\"white\",\"zerolinewidth\":2},\"yaxis\":{\"automargin\":true,\"gridcolor\":\"white\",\"linecolor\":\"white\",\"ticks\":\"\",\"title\":{\"standoff\":15},\"zerolinecolor\":\"white\",\"zerolinewidth\":2}}},\"yaxis\":{\"title\":{\"text\":\"RMSE\"}}},                        {\"responsive\": true}                    ).then(function(){\n",
       "                            \n",
       "var gd = document.getElementById('908d58fe-9a21-4185-a323-59523e711be7');\n",
       "var x = new MutationObserver(function (mutations, observer) {{\n",
       "        var display = window.getComputedStyle(gd).display;\n",
       "        if (!display || display === 'none') {{\n",
       "            console.log([gd, 'removed!']);\n",
       "            Plotly.purge(gd);\n",
       "            observer.disconnect();\n",
       "        }}\n",
       "}});\n",
       "\n",
       "// Listen for the removal of the full notebook cells\n",
       "var notebookContainer = gd.closest('#notebook-container');\n",
       "if (notebookContainer) {{\n",
       "    x.observe(notebookContainer, {childList: true});\n",
       "}}\n",
       "\n",
       "// Listen for the clearing of the current output cell\n",
       "var outputEl = gd.closest('.output');\n",
       "if (outputEl) {{\n",
       "    x.observe(outputEl, {childList: true});\n",
       "}}\n",
       "\n",
       "                        })                };                });            </script>        </div>"
      ]
     },
     "metadata": {},
     "output_type": "display_data"
    }
   ],
   "source": [
    "ridge_model.fit(tr, tr['mpg'])\n",
    "models[\"RidgeCV\"] = ridge_model\n",
    "compare_models(models)"
   ]
  },
  {
   "cell_type": "markdown",
   "metadata": {},
   "source": [
    "## Lasso in SKLearn \n",
    "\n",
    "Similarly we can swap Ridge Regression for Lasso by simply importing the Lasso object from `sklearn.linear_model`."
   ]
  },
  {
   "cell_type": "code",
   "execution_count": 40,
   "metadata": {},
   "outputs": [],
   "source": [
    "from sklearn.linear_model import Lasso, LassoCV"
   ]
  },
  {
   "cell_type": "code",
   "execution_count": 41,
   "metadata": {},
   "outputs": [],
   "source": [
    "lasso_model = Pipeline([\n",
    "    (\"SelectColumns\", ColumnTransformer([\n",
    "        (\"keep\", StandardScaler(), quantitative_features),\n",
    "        (\"origin_encoder\", OneHotEncoder(), [\"origin\"]),\n",
    "        (\"text\", CountVectorizer(), \"name\")\n",
    "    ])),\n",
    "    (\"Imputation\", SimpleImputer()),\n",
    "    (\"LinearModel\", LassoCV(cv=3))\n",
    "])"
   ]
  },
  {
   "cell_type": "code",
   "execution_count": 42,
   "metadata": {},
   "outputs": [
    {
     "data": {
      "application/vnd.plotly.v1+json": {
       "config": {
        "plotlyServerURL": "https://plot.ly"
       },
       "data": [
        {
         "name": "Training RMSE",
         "type": "bar",
         "x": [
          "c",
          "c,d",
          "c,d,h",
          "c,d,h,w",
          "c,d,h,w,a",
          "c,d,h,w,a,m",
          "c,d,h,w,a,m,o",
          "c,d,h,w,a,m,o,n",
          "Ridge(alpha=0.5)",
          "RidgeN(alpha=0.5)",
          "RidgeN(alpha=10)",
          "RidgeN(alpha_best)",
          "RidgeCV",
          "LassoCV"
         ],
         "y": [
          4.888109236813688,
          4.58757379901803,
          4.525395490245242,
          4.216877763288668,
          4.213763450275894,
          3.3799994809258984,
          3.248822401205007,
          1.1387325746873735,
          3.392024331152466,
          1.3731123141095083,
          2.5640356668089086,
          1.797322608152135,
          1.7609475467573532,
          2.6892966925168538
         ]
        },
        {
         "name": "CV RMSE",
         "type": "bar",
         "x": [
          "c",
          "c,d",
          "c,d,h",
          "c,d,h,w",
          "c,d,h,w,a",
          "c,d,h,w,a,m",
          "c,d,h,w,a,m,o",
          "c,d,h,w,a,m,o,n",
          "Ridge(alpha=0.5)",
          "RidgeN(alpha=0.5)",
          "RidgeN(alpha=10)",
          "RidgeN(alpha_best)",
          "RidgeCV",
          "LassoCV"
         ],
         "y": [
          4.876661068256957,
          4.579060426624026,
          4.556808311664747,
          4.252718625749385,
          4.256844728700814,
          3.4557657065586787,
          3.3323381513276,
          3.728904117236925,
          3.25010581041028,
          3.021326792517836,
          3.1232826527910533,
          2.9436529541924905,
          2.9630429994269614,
          3.096978371220981
         ]
        },
        {
         "name": "Test RMSE",
         "opacity": 0.3,
         "type": "bar",
         "x": [
          "c",
          "c,d",
          "c,d,h",
          "c,d,h,w",
          "c,d,h,w,a",
          "c,d,h,w,a,m",
          "c,d,h,w,a,m,o",
          "c,d,h,w,a,m,o,n",
          "Ridge(alpha=0.5)",
          "RidgeN(alpha=0.5)",
          "RidgeN(alpha=10)",
          "RidgeN(alpha_best)",
          "RidgeCV",
          "LassoCV"
         ],
         "y": [
          5.055013548375552,
          4.7661569898523695,
          4.583861769980873,
          4.325847816131029,
          4.34988869276913,
          3.550828171640195,
          3.3746613014711673,
          3.507039743068532,
          3.4637255340236033,
          3.539174433911404,
          3.372074009903791,
          3.472979885334427,
          3.4751204469189556,
          3.429568506864625
         ]
        }
       ],
       "layout": {
        "autosize": true,
        "template": {
         "data": {
          "bar": [
           {
            "error_x": {
             "color": "#2a3f5f"
            },
            "error_y": {
             "color": "#2a3f5f"
            },
            "marker": {
             "line": {
              "color": "#E5ECF6",
              "width": 0.5
             },
             "pattern": {
              "fillmode": "overlay",
              "size": 10,
              "solidity": 0.2
             }
            },
            "type": "bar"
           }
          ],
          "barpolar": [
           {
            "marker": {
             "line": {
              "color": "#E5ECF6",
              "width": 0.5
             },
             "pattern": {
              "fillmode": "overlay",
              "size": 10,
              "solidity": 0.2
             }
            },
            "type": "barpolar"
           }
          ],
          "carpet": [
           {
            "aaxis": {
             "endlinecolor": "#2a3f5f",
             "gridcolor": "white",
             "linecolor": "white",
             "minorgridcolor": "white",
             "startlinecolor": "#2a3f5f"
            },
            "baxis": {
             "endlinecolor": "#2a3f5f",
             "gridcolor": "white",
             "linecolor": "white",
             "minorgridcolor": "white",
             "startlinecolor": "#2a3f5f"
            },
            "type": "carpet"
           }
          ],
          "choropleth": [
           {
            "colorbar": {
             "outlinewidth": 0,
             "ticks": ""
            },
            "type": "choropleth"
           }
          ],
          "contour": [
           {
            "colorbar": {
             "outlinewidth": 0,
             "ticks": ""
            },
            "colorscale": [
             [
              0,
              "#0d0887"
             ],
             [
              0.1111111111111111,
              "#46039f"
             ],
             [
              0.2222222222222222,
              "#7201a8"
             ],
             [
              0.3333333333333333,
              "#9c179e"
             ],
             [
              0.4444444444444444,
              "#bd3786"
             ],
             [
              0.5555555555555556,
              "#d8576b"
             ],
             [
              0.6666666666666666,
              "#ed7953"
             ],
             [
              0.7777777777777778,
              "#fb9f3a"
             ],
             [
              0.8888888888888888,
              "#fdca26"
             ],
             [
              1,
              "#f0f921"
             ]
            ],
            "type": "contour"
           }
          ],
          "contourcarpet": [
           {
            "colorbar": {
             "outlinewidth": 0,
             "ticks": ""
            },
            "type": "contourcarpet"
           }
          ],
          "heatmap": [
           {
            "colorbar": {
             "outlinewidth": 0,
             "ticks": ""
            },
            "colorscale": [
             [
              0,
              "#0d0887"
             ],
             [
              0.1111111111111111,
              "#46039f"
             ],
             [
              0.2222222222222222,
              "#7201a8"
             ],
             [
              0.3333333333333333,
              "#9c179e"
             ],
             [
              0.4444444444444444,
              "#bd3786"
             ],
             [
              0.5555555555555556,
              "#d8576b"
             ],
             [
              0.6666666666666666,
              "#ed7953"
             ],
             [
              0.7777777777777778,
              "#fb9f3a"
             ],
             [
              0.8888888888888888,
              "#fdca26"
             ],
             [
              1,
              "#f0f921"
             ]
            ],
            "type": "heatmap"
           }
          ],
          "heatmapgl": [
           {
            "colorbar": {
             "outlinewidth": 0,
             "ticks": ""
            },
            "colorscale": [
             [
              0,
              "#0d0887"
             ],
             [
              0.1111111111111111,
              "#46039f"
             ],
             [
              0.2222222222222222,
              "#7201a8"
             ],
             [
              0.3333333333333333,
              "#9c179e"
             ],
             [
              0.4444444444444444,
              "#bd3786"
             ],
             [
              0.5555555555555556,
              "#d8576b"
             ],
             [
              0.6666666666666666,
              "#ed7953"
             ],
             [
              0.7777777777777778,
              "#fb9f3a"
             ],
             [
              0.8888888888888888,
              "#fdca26"
             ],
             [
              1,
              "#f0f921"
             ]
            ],
            "type": "heatmapgl"
           }
          ],
          "histogram": [
           {
            "marker": {
             "pattern": {
              "fillmode": "overlay",
              "size": 10,
              "solidity": 0.2
             }
            },
            "type": "histogram"
           }
          ],
          "histogram2d": [
           {
            "colorbar": {
             "outlinewidth": 0,
             "ticks": ""
            },
            "colorscale": [
             [
              0,
              "#0d0887"
             ],
             [
              0.1111111111111111,
              "#46039f"
             ],
             [
              0.2222222222222222,
              "#7201a8"
             ],
             [
              0.3333333333333333,
              "#9c179e"
             ],
             [
              0.4444444444444444,
              "#bd3786"
             ],
             [
              0.5555555555555556,
              "#d8576b"
             ],
             [
              0.6666666666666666,
              "#ed7953"
             ],
             [
              0.7777777777777778,
              "#fb9f3a"
             ],
             [
              0.8888888888888888,
              "#fdca26"
             ],
             [
              1,
              "#f0f921"
             ]
            ],
            "type": "histogram2d"
           }
          ],
          "histogram2dcontour": [
           {
            "colorbar": {
             "outlinewidth": 0,
             "ticks": ""
            },
            "colorscale": [
             [
              0,
              "#0d0887"
             ],
             [
              0.1111111111111111,
              "#46039f"
             ],
             [
              0.2222222222222222,
              "#7201a8"
             ],
             [
              0.3333333333333333,
              "#9c179e"
             ],
             [
              0.4444444444444444,
              "#bd3786"
             ],
             [
              0.5555555555555556,
              "#d8576b"
             ],
             [
              0.6666666666666666,
              "#ed7953"
             ],
             [
              0.7777777777777778,
              "#fb9f3a"
             ],
             [
              0.8888888888888888,
              "#fdca26"
             ],
             [
              1,
              "#f0f921"
             ]
            ],
            "type": "histogram2dcontour"
           }
          ],
          "mesh3d": [
           {
            "colorbar": {
             "outlinewidth": 0,
             "ticks": ""
            },
            "type": "mesh3d"
           }
          ],
          "parcoords": [
           {
            "line": {
             "colorbar": {
              "outlinewidth": 0,
              "ticks": ""
             }
            },
            "type": "parcoords"
           }
          ],
          "pie": [
           {
            "automargin": true,
            "type": "pie"
           }
          ],
          "scatter": [
           {
            "marker": {
             "colorbar": {
              "outlinewidth": 0,
              "ticks": ""
             }
            },
            "type": "scatter"
           }
          ],
          "scatter3d": [
           {
            "line": {
             "colorbar": {
              "outlinewidth": 0,
              "ticks": ""
             }
            },
            "marker": {
             "colorbar": {
              "outlinewidth": 0,
              "ticks": ""
             }
            },
            "type": "scatter3d"
           }
          ],
          "scattercarpet": [
           {
            "marker": {
             "colorbar": {
              "outlinewidth": 0,
              "ticks": ""
             }
            },
            "type": "scattercarpet"
           }
          ],
          "scattergeo": [
           {
            "marker": {
             "colorbar": {
              "outlinewidth": 0,
              "ticks": ""
             }
            },
            "type": "scattergeo"
           }
          ],
          "scattergl": [
           {
            "marker": {
             "colorbar": {
              "outlinewidth": 0,
              "ticks": ""
             }
            },
            "type": "scattergl"
           }
          ],
          "scattermapbox": [
           {
            "marker": {
             "colorbar": {
              "outlinewidth": 0,
              "ticks": ""
             }
            },
            "type": "scattermapbox"
           }
          ],
          "scatterpolar": [
           {
            "marker": {
             "colorbar": {
              "outlinewidth": 0,
              "ticks": ""
             }
            },
            "type": "scatterpolar"
           }
          ],
          "scatterpolargl": [
           {
            "marker": {
             "colorbar": {
              "outlinewidth": 0,
              "ticks": ""
             }
            },
            "type": "scatterpolargl"
           }
          ],
          "scatterternary": [
           {
            "marker": {
             "colorbar": {
              "outlinewidth": 0,
              "ticks": ""
             }
            },
            "type": "scatterternary"
           }
          ],
          "surface": [
           {
            "colorbar": {
             "outlinewidth": 0,
             "ticks": ""
            },
            "colorscale": [
             [
              0,
              "#0d0887"
             ],
             [
              0.1111111111111111,
              "#46039f"
             ],
             [
              0.2222222222222222,
              "#7201a8"
             ],
             [
              0.3333333333333333,
              "#9c179e"
             ],
             [
              0.4444444444444444,
              "#bd3786"
             ],
             [
              0.5555555555555556,
              "#d8576b"
             ],
             [
              0.6666666666666666,
              "#ed7953"
             ],
             [
              0.7777777777777778,
              "#fb9f3a"
             ],
             [
              0.8888888888888888,
              "#fdca26"
             ],
             [
              1,
              "#f0f921"
             ]
            ],
            "type": "surface"
           }
          ],
          "table": [
           {
            "cells": {
             "fill": {
              "color": "#EBF0F8"
             },
             "line": {
              "color": "white"
             }
            },
            "header": {
             "fill": {
              "color": "#C8D4E3"
             },
             "line": {
              "color": "white"
             }
            },
            "type": "table"
           }
          ]
         },
         "layout": {
          "annotationdefaults": {
           "arrowcolor": "#2a3f5f",
           "arrowhead": 0,
           "arrowwidth": 1
          },
          "autotypenumbers": "strict",
          "coloraxis": {
           "colorbar": {
            "outlinewidth": 0,
            "ticks": ""
           }
          },
          "colorscale": {
           "diverging": [
            [
             0,
             "#8e0152"
            ],
            [
             0.1,
             "#c51b7d"
            ],
            [
             0.2,
             "#de77ae"
            ],
            [
             0.3,
             "#f1b6da"
            ],
            [
             0.4,
             "#fde0ef"
            ],
            [
             0.5,
             "#f7f7f7"
            ],
            [
             0.6,
             "#e6f5d0"
            ],
            [
             0.7,
             "#b8e186"
            ],
            [
             0.8,
             "#7fbc41"
            ],
            [
             0.9,
             "#4d9221"
            ],
            [
             1,
             "#276419"
            ]
           ],
           "sequential": [
            [
             0,
             "#0d0887"
            ],
            [
             0.1111111111111111,
             "#46039f"
            ],
            [
             0.2222222222222222,
             "#7201a8"
            ],
            [
             0.3333333333333333,
             "#9c179e"
            ],
            [
             0.4444444444444444,
             "#bd3786"
            ],
            [
             0.5555555555555556,
             "#d8576b"
            ],
            [
             0.6666666666666666,
             "#ed7953"
            ],
            [
             0.7777777777777778,
             "#fb9f3a"
            ],
            [
             0.8888888888888888,
             "#fdca26"
            ],
            [
             1,
             "#f0f921"
            ]
           ],
           "sequentialminus": [
            [
             0,
             "#0d0887"
            ],
            [
             0.1111111111111111,
             "#46039f"
            ],
            [
             0.2222222222222222,
             "#7201a8"
            ],
            [
             0.3333333333333333,
             "#9c179e"
            ],
            [
             0.4444444444444444,
             "#bd3786"
            ],
            [
             0.5555555555555556,
             "#d8576b"
            ],
            [
             0.6666666666666666,
             "#ed7953"
            ],
            [
             0.7777777777777778,
             "#fb9f3a"
            ],
            [
             0.8888888888888888,
             "#fdca26"
            ],
            [
             1,
             "#f0f921"
            ]
           ]
          },
          "colorway": [
           "#636efa",
           "#EF553B",
           "#00cc96",
           "#ab63fa",
           "#FFA15A",
           "#19d3f3",
           "#FF6692",
           "#B6E880",
           "#FF97FF",
           "#FECB52"
          ],
          "font": {
           "color": "#2a3f5f"
          },
          "geo": {
           "bgcolor": "white",
           "lakecolor": "white",
           "landcolor": "#E5ECF6",
           "showlakes": true,
           "showland": true,
           "subunitcolor": "white"
          },
          "hoverlabel": {
           "align": "left"
          },
          "hovermode": "closest",
          "mapbox": {
           "style": "light"
          },
          "paper_bgcolor": "white",
          "plot_bgcolor": "#E5ECF6",
          "polar": {
           "angularaxis": {
            "gridcolor": "white",
            "linecolor": "white",
            "ticks": ""
           },
           "bgcolor": "#E5ECF6",
           "radialaxis": {
            "gridcolor": "white",
            "linecolor": "white",
            "ticks": ""
           }
          },
          "scene": {
           "xaxis": {
            "backgroundcolor": "#E5ECF6",
            "gridcolor": "white",
            "gridwidth": 2,
            "linecolor": "white",
            "showbackground": true,
            "ticks": "",
            "zerolinecolor": "white"
           },
           "yaxis": {
            "backgroundcolor": "#E5ECF6",
            "gridcolor": "white",
            "gridwidth": 2,
            "linecolor": "white",
            "showbackground": true,
            "ticks": "",
            "zerolinecolor": "white"
           },
           "zaxis": {
            "backgroundcolor": "#E5ECF6",
            "gridcolor": "white",
            "gridwidth": 2,
            "linecolor": "white",
            "showbackground": true,
            "ticks": "",
            "zerolinecolor": "white"
           }
          },
          "shapedefaults": {
           "line": {
            "color": "#2a3f5f"
           }
          },
          "ternary": {
           "aaxis": {
            "gridcolor": "white",
            "linecolor": "white",
            "ticks": ""
           },
           "baxis": {
            "gridcolor": "white",
            "linecolor": "white",
            "ticks": ""
           },
           "bgcolor": "#E5ECF6",
           "caxis": {
            "gridcolor": "white",
            "linecolor": "white",
            "ticks": ""
           }
          },
          "title": {
           "x": 0.05
          },
          "xaxis": {
           "automargin": true,
           "gridcolor": "white",
           "linecolor": "white",
           "ticks": "",
           "title": {
            "standoff": 15
           },
           "zerolinecolor": "white",
           "zerolinewidth": 2
          },
          "yaxis": {
           "automargin": true,
           "gridcolor": "white",
           "linecolor": "white",
           "ticks": "",
           "title": {
            "standoff": 15
           },
           "zerolinecolor": "white",
           "zerolinewidth": 2
          }
         }
        },
        "xaxis": {
         "autorange": true,
         "range": [
          -0.5,
          13.5
         ],
         "type": "category"
        },
        "yaxis": {
         "autorange": true,
         "range": [
          0,
          5.321066893026897
         ],
         "title": {
          "text": "RMSE"
         },
         "type": "linear"
        }
       }
      },
      "image/png": "[encoded data removed]",
      "text/html": [
       "<div>                            <div id=\"0b5176f8-425b-47e5-a796-5c47d3362f78\" class=\"plotly-graph-div\" style=\"height:525px; width:100%;\"></div>            <script type=\"text/javascript\">                require([\"plotly\"], function(Plotly) {                    window.PLOTLYENV=window.PLOTLYENV || {};                                    if (document.getElementById(\"0b5176f8-425b-47e5-a796-5c47d3362f78\")) {                    Plotly.newPlot(                        \"0b5176f8-425b-47e5-a796-5c47d3362f78\",                        [{\"name\":\"Training RMSE\",\"type\":\"bar\",\"x\":[\"c\",\"c,d\",\"c,d,h\",\"c,d,h,w\",\"c,d,h,w,a\",\"c,d,h,w,a,m\",\"c,d,h,w,a,m,o\",\"c,d,h,w,a,m,o,n\",\"Ridge(alpha=0.5)\",\"RidgeN(alpha=0.5)\",\"RidgeN(alpha=10)\",\"RidgeN(alpha_best)\",\"RidgeCV\",\"LassoCV\"],\"y\":[4.888109236813688,4.58757379901803,4.525395490245242,4.216877763288668,4.213763450275894,3.3799994809258984,3.248822401205007,1.1387325746873735,3.392024331152466,1.3731123141095083,2.5640356668089086,1.797322608152135,1.7609475467573532,2.6892966925168538]},{\"name\":\"CV RMSE\",\"type\":\"bar\",\"x\":[\"c\",\"c,d\",\"c,d,h\",\"c,d,h,w\",\"c,d,h,w,a\",\"c,d,h,w,a,m\",\"c,d,h,w,a,m,o\",\"c,d,h,w,a,m,o,n\",\"Ridge(alpha=0.5)\",\"RidgeN(alpha=0.5)\",\"RidgeN(alpha=10)\",\"RidgeN(alpha_best)\",\"RidgeCV\",\"LassoCV\"],\"y\":[4.876661068256957,4.579060426624026,4.556808311664747,4.252718625749385,4.256844728700814,3.4557657065586787,3.3323381513276,3.728904117236925,3.25010581041028,3.021326792517836,3.1232826527910533,2.9436529541924905,2.9630429994269614,3.096978371220981]},{\"name\":\"Test RMSE\",\"opacity\":0.3,\"type\":\"bar\",\"x\":[\"c\",\"c,d\",\"c,d,h\",\"c,d,h,w\",\"c,d,h,w,a\",\"c,d,h,w,a,m\",\"c,d,h,w,a,m,o\",\"c,d,h,w,a,m,o,n\",\"Ridge(alpha=0.5)\",\"RidgeN(alpha=0.5)\",\"RidgeN(alpha=10)\",\"RidgeN(alpha_best)\",\"RidgeCV\",\"LassoCV\"],\"y\":[5.055013548375552,4.7661569898523695,4.583861769980873,4.325847816131029,4.34988869276913,3.550828171640195,3.3746613014711673,3.507039743068532,3.4637255340236033,3.539174433911404,3.372074009903791,3.472979885334427,3.4751204469189556,3.429568506864625]}],                        {\"template\":{\"data\":{\"bar\":[{\"error_x\":{\"color\":\"#2a3f5f\"},\"error_y\":{\"color\":\"#2a3f5f\"},\"marker\":{\"line\":{\"color\":\"#E5ECF6\",\"width\":0.5},\"pattern\":{\"fillmode\":\"overlay\",\"size\":10,\"solidity\":0.2}},\"type\":\"bar\"}],\"barpolar\":[{\"marker\":{\"line\":{\"color\":\"#E5ECF6\",\"width\":0.5},\"pattern\":{\"fillmode\":\"overlay\",\"size\":10,\"solidity\":0.2}},\"type\":\"barpolar\"}],\"carpet\":[{\"aaxis\":{\"endlinecolor\":\"#2a3f5f\",\"gridcolor\":\"white\",\"linecolor\":\"white\",\"minorgridcolor\":\"white\",\"startlinecolor\":\"#2a3f5f\"},\"baxis\":{\"endlinecolor\":\"#2a3f5f\",\"gridcolor\":\"white\",\"linecolor\":\"white\",\"minorgridcolor\":\"white\",\"startlinecolor\":\"#2a3f5f\"},\"type\":\"carpet\"}],\"choropleth\":[{\"colorbar\":{\"outlinewidth\":0,\"ticks\":\"\"},\"type\":\"choropleth\"}],\"contour\":[{\"colorbar\":{\"outlinewidth\":0,\"ticks\":\"\"},\"colorscale\":[[0.0,\"#0d0887\"],[0.1111111111111111,\"#46039f\"],[0.2222222222222222,\"#7201a8\"],[0.3333333333333333,\"#9c179e\"],[0.4444444444444444,\"#bd3786\"],[0.5555555555555556,\"#d8576b\"],[0.6666666666666666,\"#ed7953\"],[0.7777777777777778,\"#fb9f3a\"],[0.8888888888888888,\"#fdca26\"],[1.0,\"#f0f921\"]],\"type\":\"contour\"}],\"contourcarpet\":[{\"colorbar\":{\"outlinewidth\":0,\"ticks\":\"\"},\"type\":\"contourcarpet\"}],\"heatmap\":[{\"colorbar\":{\"outlinewidth\":0,\"ticks\":\"\"},\"colorscale\":[[0.0,\"#0d0887\"],[0.1111111111111111,\"#46039f\"],[0.2222222222222222,\"#7201a8\"],[0.3333333333333333,\"#9c179e\"],[0.4444444444444444,\"#bd3786\"],[0.5555555555555556,\"#d8576b\"],[0.6666666666666666,\"#ed7953\"],[0.7777777777777778,\"#fb9f3a\"],[0.8888888888888888,\"#fdca26\"],[1.0,\"#f0f921\"]],\"type\":\"heatmap\"}],\"heatmapgl\":[{\"colorbar\":{\"outlinewidth\":0,\"ticks\":\"\"},\"colorscale\":[[0.0,\"#0d0887\"],[0.1111111111111111,\"#46039f\"],[0.2222222222222222,\"#7201a8\"],[0.3333333333333333,\"#9c179e\"],[0.4444444444444444,\"#bd3786\"],[0.5555555555555556,\"#d8576b\"],[0.6666666666666666,\"#ed7953\"],[0.7777777777777778,\"#fb9f3a\"],[0.8888888888888888,\"#fdca26\"],[1.0,\"#f0f921\"]],\"type\":\"heatmapgl\"}],\"histogram\":[{\"marker\":{\"pattern\":{\"fillmode\":\"overlay\",\"size\":10,\"solidity\":0.2}},\"type\":\"histogram\"}],\"histogram2d\":[{\"colorbar\":{\"outlinewidth\":0,\"ticks\":\"\"},\"colorscale\":[[0.0,\"#0d0887\"],[0.1111111111111111,\"#46039f\"],[0.2222222222222222,\"#7201a8\"],[0.3333333333333333,\"#9c179e\"],[0.4444444444444444,\"#bd3786\"],[0.5555555555555556,\"#d8576b\"],[0.6666666666666666,\"#ed7953\"],[0.7777777777777778,\"#fb9f3a\"],[0.8888888888888888,\"#fdca26\"],[1.0,\"#f0f921\"]],\"type\":\"histogram2d\"}],\"histogram2dcontour\":[{\"colorbar\":{\"outlinewidth\":0,\"ticks\":\"\"},\"colorscale\":[[0.0,\"#0d0887\"],[0.1111111111111111,\"#46039f\"],[0.2222222222222222,\"#7201a8\"],[0.3333333333333333,\"#9c179e\"],[0.4444444444444444,\"#bd3786\"],[0.5555555555555556,\"#d8576b\"],[0.6666666666666666,\"#ed7953\"],[0.7777777777777778,\"#fb9f3a\"],[0.8888888888888888,\"#fdca26\"],[1.0,\"#f0f921\"]],\"type\":\"histogram2dcontour\"}],\"mesh3d\":[{\"colorbar\":{\"outlinewidth\":0,\"ticks\":\"\"},\"type\":\"mesh3d\"}],\"parcoords\":[{\"line\":{\"colorbar\":{\"outlinewidth\":0,\"ticks\":\"\"}},\"type\":\"parcoords\"}],\"pie\":[{\"automargin\":true,\"type\":\"pie\"}],\"scatter\":[{\"marker\":{\"colorbar\":{\"outlinewidth\":0,\"ticks\":\"\"}},\"type\":\"scatter\"}],\"scatter3d\":[{\"line\":{\"colorbar\":{\"outlinewidth\":0,\"ticks\":\"\"}},\"marker\":{\"colorbar\":{\"outlinewidth\":0,\"ticks\":\"\"}},\"type\":\"scatter3d\"}],\"scattercarpet\":[{\"marker\":{\"colorbar\":{\"outlinewidth\":0,\"ticks\":\"\"}},\"type\":\"scattercarpet\"}],\"scattergeo\":[{\"marker\":{\"colorbar\":{\"outlinewidth\":0,\"ticks\":\"\"}},\"type\":\"scattergeo\"}],\"scattergl\":[{\"marker\":{\"colorbar\":{\"outlinewidth\":0,\"ticks\":\"\"}},\"type\":\"scattergl\"}],\"scattermapbox\":[{\"marker\":{\"colorbar\":{\"outlinewidth\":0,\"ticks\":\"\"}},\"type\":\"scattermapbox\"}],\"scatterpolar\":[{\"marker\":{\"colorbar\":{\"outlinewidth\":0,\"ticks\":\"\"}},\"type\":\"scatterpolar\"}],\"scatterpolargl\":[{\"marker\":{\"colorbar\":{\"outlinewidth\":0,\"ticks\":\"\"}},\"type\":\"scatterpolargl\"}],\"scatterternary\":[{\"marker\":{\"colorbar\":{\"outlinewidth\":0,\"ticks\":\"\"}},\"type\":\"scatterternary\"}],\"surface\":[{\"colorbar\":{\"outlinewidth\":0,\"ticks\":\"\"},\"colorscale\":[[0.0,\"#0d0887\"],[0.1111111111111111,\"#46039f\"],[0.2222222222222222,\"#7201a8\"],[0.3333333333333333,\"#9c179e\"],[0.4444444444444444,\"#bd3786\"],[0.5555555555555556,\"#d8576b\"],[0.6666666666666666,\"#ed7953\"],[0.7777777777777778,\"#fb9f3a\"],[0.8888888888888888,\"#fdca26\"],[1.0,\"#f0f921\"]],\"type\":\"surface\"}],\"table\":[{\"cells\":{\"fill\":{\"color\":\"#EBF0F8\"},\"line\":{\"color\":\"white\"}},\"header\":{\"fill\":{\"color\":\"#C8D4E3\"},\"line\":{\"color\":\"white\"}},\"type\":\"table\"}]},\"layout\":{\"annotationdefaults\":{\"arrowcolor\":\"#2a3f5f\",\"arrowhead\":0,\"arrowwidth\":1},\"autotypenumbers\":\"strict\",\"coloraxis\":{\"colorbar\":{\"outlinewidth\":0,\"ticks\":\"\"}},\"colorscale\":{\"diverging\":[[0,\"#8e0152\"],[0.1,\"#c51b7d\"],[0.2,\"#de77ae\"],[0.3,\"#f1b6da\"],[0.4,\"#fde0ef\"],[0.5,\"#f7f7f7\"],[0.6,\"#e6f5d0\"],[0.7,\"#b8e186\"],[0.8,\"#7fbc41\"],[0.9,\"#4d9221\"],[1,\"#276419\"]],\"sequential\":[[0.0,\"#0d0887\"],[0.1111111111111111,\"#46039f\"],[0.2222222222222222,\"#7201a8\"],[0.3333333333333333,\"#9c179e\"],[0.4444444444444444,\"#bd3786\"],[0.5555555555555556,\"#d8576b\"],[0.6666666666666666,\"#ed7953\"],[0.7777777777777778,\"#fb9f3a\"],[0.8888888888888888,\"#fdca26\"],[1.0,\"#f0f921\"]],\"sequentialminus\":[[0.0,\"#0d0887\"],[0.1111111111111111,\"#46039f\"],[0.2222222222222222,\"#7201a8\"],[0.3333333333333333,\"#9c179e\"],[0.4444444444444444,\"#bd3786\"],[0.5555555555555556,\"#d8576b\"],[0.6666666666666666,\"#ed7953\"],[0.7777777777777778,\"#fb9f3a\"],[0.8888888888888888,\"#fdca26\"],[1.0,\"#f0f921\"]]},\"colorway\":[\"#636efa\",\"#EF553B\",\"#00cc96\",\"#ab63fa\",\"#FFA15A\",\"#19d3f3\",\"#FF6692\",\"#B6E880\",\"#FF97FF\",\"#FECB52\"],\"font\":{\"color\":\"#2a3f5f\"},\"geo\":{\"bgcolor\":\"white\",\"lakecolor\":\"white\",\"landcolor\":\"#E5ECF6\",\"showlakes\":true,\"showland\":true,\"subunitcolor\":\"white\"},\"hoverlabel\":{\"align\":\"left\"},\"hovermode\":\"closest\",\"mapbox\":{\"style\":\"light\"},\"paper_bgcolor\":\"white\",\"plot_bgcolor\":\"#E5ECF6\",\"polar\":{\"angularaxis\":{\"gridcolor\":\"white\",\"linecolor\":\"white\",\"ticks\":\"\"},\"bgcolor\":\"#E5ECF6\",\"radialaxis\":{\"gridcolor\":\"white\",\"linecolor\":\"white\",\"ticks\":\"\"}},\"scene\":{\"xaxis\":{\"backgroundcolor\":\"#E5ECF6\",\"gridcolor\":\"white\",\"gridwidth\":2,\"linecolor\":\"white\",\"showbackground\":true,\"ticks\":\"\",\"zerolinecolor\":\"white\"},\"yaxis\":{\"backgroundcolor\":\"#E5ECF6\",\"gridcolor\":\"white\",\"gridwidth\":2,\"linecolor\":\"white\",\"showbackground\":true,\"ticks\":\"\",\"zerolinecolor\":\"white\"},\"zaxis\":{\"backgroundcolor\":\"#E5ECF6\",\"gridcolor\":\"white\",\"gridwidth\":2,\"linecolor\":\"white\",\"showbackground\":true,\"ticks\":\"\",\"zerolinecolor\":\"white\"}},\"shapedefaults\":{\"line\":{\"color\":\"#2a3f5f\"}},\"ternary\":{\"aaxis\":{\"gridcolor\":\"white\",\"linecolor\":\"white\",\"ticks\":\"\"},\"baxis\":{\"gridcolor\":\"white\",\"linecolor\":\"white\",\"ticks\":\"\"},\"bgcolor\":\"#E5ECF6\",\"caxis\":{\"gridcolor\":\"white\",\"linecolor\":\"white\",\"ticks\":\"\"}},\"title\":{\"x\":0.05},\"xaxis\":{\"automargin\":true,\"gridcolor\":\"white\",\"linecolor\":\"white\",\"ticks\":\"\",\"title\":{\"standoff\":15},\"zerolinecolor\":\"white\",\"zerolinewidth\":2},\"yaxis\":{\"automargin\":true,\"gridcolor\":\"white\",\"linecolor\":\"white\",\"ticks\":\"\",\"title\":{\"standoff\":15},\"zerolinecolor\":\"white\",\"zerolinewidth\":2}}},\"yaxis\":{\"title\":{\"text\":\"RMSE\"}}},                        {\"responsive\": true}                    ).then(function(){\n",
       "                            \n",
       "var gd = document.getElementById('0b5176f8-425b-47e5-a796-5c47d3362f78');\n",
       "var x = new MutationObserver(function (mutations, observer) {{\n",
       "        var display = window.getComputedStyle(gd).display;\n",
       "        if (!display || display === 'none') {{\n",
       "            console.log([gd, 'removed!']);\n",
       "            Plotly.purge(gd);\n",
       "            observer.disconnect();\n",
       "        }}\n",
       "}});\n",
       "\n",
       "// Listen for the removal of the full notebook cells\n",
       "var notebookContainer = gd.closest('#notebook-container');\n",
       "if (notebookContainer) {{\n",
       "    x.observe(notebookContainer, {childList: true});\n",
       "}}\n",
       "\n",
       "// Listen for the clearing of the current output cell\n",
       "var outputEl = gd.closest('.output');\n",
       "if (outputEl) {{\n",
       "    x.observe(outputEl, {childList: true});\n",
       "}}\n",
       "\n",
       "                        })                };                });            </script>        </div>"
      ]
     },
     "metadata": {},
     "output_type": "display_data"
    }
   ],
   "source": [
    "lasso_model.fit(tr, tr['mpg'])\n",
    "models[\"LassoCV\"] = lasso_model\n",
    "compare_models(models)"
   ]
  },
  {
   "cell_type": "markdown",
   "metadata": {},
   "source": [
    "We can examine the distribution of model coefficients to see that Lasso is selecting only a few of the features to use in it's predictions:"
   ]
  },
  {
   "cell_type": "code",
   "execution_count": 43,
   "metadata": {},
   "outputs": [
    {
     "data": {
      "application/vnd.plotly.v1+json": {
       "config": {
        "plotlyServerURL": "https://plot.ly"
       },
       "data": [
        {
         "histnorm": "probability density",
         "legendgroup": "Lasso",
         "marker": {
          "color": "rgb(31, 119, 180)"
         },
         "name": "Lasso",
         "opacity": 0.7,
         "type": "histogram",
         "x": [
          -0.2988645822136683,
          0.3408157190759778,
          0,
          -5.0775858518346,
          -0.011546218132248353,
          2.50475330358318,
          0,
          0,
          -1.2254666741348454,
          0,
          0,
          0,
          0,
          0,
          0,
          0.8911508709272506,
          0,
          0,
          0,
          0,
          0,
          0,
          0.48261306316596353,
          0,
          0,
          0,
          0,
          0,
          0,
          0.29259736827072497,
          0,
          0,
          0,
          0,
          0,
          0,
          0,
          0,
          0,
          0,
          0,
          0,
          0,
          0,
          0,
          0,
          0,
          0,
          0,
          0,
          0,
          0,
          0,
          0,
          0,
          0,
          0,
          0,
          0,
          0,
          -0.8137493295508568,
          0,
          0,
          0,
          0,
          0,
          0,
          0,
          0,
          0,
          0,
          0,
          0,
          0,
          0,
          0,
          0,
          0,
          0,
          0,
          0,
          0,
          0,
          0,
          0,
          0,
          0,
          0,
          0,
          0,
          0,
          0,
          0.857715591775868,
          0,
          0,
          1.1721102608593408,
          0,
          0,
          0.2887092608544712,
          0,
          0,
          0,
          0,
          0,
          0,
          0,
          0.20926544012577397,
          0,
          0,
          0,
          0,
          0,
          0,
          1.5557826281399485,
          0,
          0,
          5.60868688487343,
          0,
          0,
          0,
          0,
          0,
          0,
          0,
          0,
          0,
          0,
          0,
          0,
          0,
          0,
          -0.5834694165847317,
          0,
          0,
          0,
          0,
          0,
          0,
          0,
          0,
          0,
          0,
          0,
          0,
          0,
          0,
          0,
          0,
          0.5677323661704804,
          0,
          1.6083497158913294,
          1.1672531907630226,
          0,
          -0.6403255347633285,
          0,
          0,
          0,
          0,
          0,
          0,
          0,
          0,
          0,
          0,
          0,
          0,
          0,
          0,
          0,
          0,
          0,
          0,
          0,
          0,
          0,
          0,
          0,
          0,
          -0.40210406095102963,
          0,
          0,
          0,
          0,
          0,
          0,
          0,
          0,
          0,
          0,
          0,
          0,
          0,
          0,
          0,
          0,
          0,
          0,
          0,
          0,
          0,
          0,
          0,
          0,
          0.7072730612261542,
          1.6226804361881382,
          0,
          0,
          0,
          0.4051983255690641,
          0,
          0,
          0,
          0,
          0,
          0,
          1.224714232790628,
          0,
          0,
          -1.1811727255510334,
          -0.003019012500058569,
          0,
          0,
          0,
          0,
          0,
          0,
          0,
          0,
          0,
          0,
          0,
          0,
          0,
          0,
          0,
          0,
          0,
          0,
          0,
          0,
          0,
          0,
          0,
          0,
          0,
          0.19289042452120514,
          0,
          0,
          0,
          0.953787565634395,
          0,
          0,
          0,
          0,
          0,
          0,
          0,
          0,
          0,
          0,
          0,
          0,
          0,
          0,
          6.58090326308205,
          0,
          0,
          0,
          0,
          0
         ],
         "xaxis": "x",
         "xbins": {
          "end": 6.58090326308205,
          "size": 0.1,
          "start": -5.0775858518346
         },
         "yaxis": "y"
        },
        {
         "histnorm": "probability density",
         "legendgroup": "Ridge",
         "marker": {
          "color": "rgb(255, 127, 14)"
         },
         "name": "Ridge",
         "opacity": 0.7,
         "type": "histogram",
         "x": [
          -1.1129087993281528,
          0.829414466269498,
          -0.5787984166483763,
          -4.49172202309614,
          -0.32314439645821635,
          2.5528447784976023,
          0.6441174358239381,
          0.1409552018869279,
          -0.7850726377109035,
          0.7655534592395417,
          0.35668345877114155,
          -1.5694262616056696,
          0.26227557067209484,
          -0.25740342390750737,
          -0.7824098482842659,
          2.5934921160921234,
          0.5606042947988116,
          -0.4517342035227171,
          -1.2515177116236966,
          -1.2566996189796187,
          -0.8399631100453271,
          -0.9115025384574054,
          2.4240448138351303,
          0.5895441677219353,
          -1.0812932141466554,
          -1.7078041853217922,
          -0.14992684171105214,
          0.8871041754357647,
          0.6283527413632835,
          1.8381784632117784,
          0.5053018276988172,
          1.8475439808284297,
          1.166041725122795,
          -0.29431882743646687,
          -0.8460284506774276,
          -1.1743906199072016,
          0.38758253290096834,
          1.5379256032546114,
          0.7316435087965406,
          -1.884974333803034,
          -0.3803906278167745,
          -0.08497089850903755,
          1.2408957059769854,
          -0.6753846928418495,
          0.9156462926382902,
          1.3807542463333473,
          -1.8741582993186412,
          -0.3036013953088359,
          -1.0424954733411067,
          1.4179918699988154,
          -1.7072056935387365,
          1.5472728948676164,
          -0.12272100040546663,
          -1.595057358505455,
          0.15378752892540087,
          -1.5158020234453171,
          0.357573692738794,
          0.030330024714612103,
          0.5305137448733312,
          0.5063646604904707,
          -1.3044749851609672,
          -0.9238000638360813,
          -0.8593459950759887,
          -0.8880271347937015,
          -0.639354663043884,
          -0.21638696058562235,
          0.5305137448733312,
          0.37923363811656174,
          -0.9978701583672693,
          0.24931731321976958,
          0.05756227228147898,
          -1.239745407526525,
          1.2780601949513632,
          -0.10863399808959105,
          -0.21077934012603594,
          -0.2912004681118574,
          -1.831950533468687,
          -0.04918443827665817,
          1.331981022835165,
          0.38011871476673353,
          -0.5547483724496387,
          -0.4773991991054308,
          -0.01885776832635384,
          2.0836076419503633,
          0.5019017353093824,
          1.1648262126899322,
          -0.3326741058271956,
          -0.5674857997059611,
          -0.21335053062717102,
          -0.3794735839171124,
          1.5669198703542766,
          -1.2522278650519019,
          1.4733934612814474,
          0.2950302432713381,
          -0.39116971003047674,
          1.950613474064665,
          -1.3039572485581095,
          -0.2646141027048185,
          1.1745371841270866,
          0.7332049553664663,
          0.40787226982286423,
          -0.07004096082370657,
          0.9641079920302198,
          -0.7510364354350768,
          -0.5507022164536525,
          -0.3803906278167745,
          0.5946382945529708,
          1.1556929985029454,
          0.24728461617851982,
          -1.5282662275836496,
          0.829402366084889,
          -1.0524652240916001,
          0.16304731435805708,
          1.4641369891503087,
          0.15378752892540087,
          1.6818403861385869,
          5.352922139978525,
          0.1868434615925728,
          0.48893787080129286,
          -0.4506482465367688,
          1.3891756534309911,
          0.8580076675688515,
          0.30880283581300594,
          0.9417726671756758,
          0.5053018276988172,
          0.9156462926382902,
          0.27970006587244417,
          1.046388259836174,
          -1.3612332448930298,
          0.6049897975120024,
          -0.06543314271054644,
          -1.010899622586424,
          0.9579782613824824,
          0.7252543780893794,
          -1.3691288925158884,
          1.3807542463333473,
          0.725744656785504,
          1.6015116018523161,
          -0.13594760851284793,
          0.33530494141241024,
          -1.4934173404772872,
          0.6746094015062992,
          -0.371064348974945,
          -1.3037552248843787,
          -0.5547483724496387,
          1.1401731485444337,
          0.7316435087965406,
          -0.7704485369415051,
          1.3090641217705818,
          0.5606042947988116,
          1.5022066465148687,
          2.0043866121606286,
          -0.15732058294772397,
          -1.1880424085191374,
          0.6165824461466304,
          0.8794436105115679,
          0.18350594168391163,
          -0.6227415537368794,
          0.5190881755162117,
          -0.8512030334429361,
          -1.5624517801767122,
          1.7557378683621827,
          0.4721882153099687,
          -1.7470268311650856,
          -0.44389495120081185,
          -0.8351537643912856,
          0.35668345877114155,
          0.7145994336932922,
          0.5244451833780398,
          -0.8487825870093844,
          1.6538498614795016,
          -0.03971594990327684,
          -0.6578821407402715,
          0.38700835217415064,
          -1.0429267048070432,
          0.3960769123295732,
          0.3256760080351887,
          -1.0696500851664306,
          -2.4987004748335857,
          -0.9746776732692466,
          0.37923363811656174,
          -0.5709870751502787,
          0.26227557067209484,
          -0.24695538881771711,
          -1.1473221196668018,
          -0.04918443827665817,
          0.23989386642119742,
          0.3184997323551704,
          -1.0629697147962025,
          0.6701186728272667,
          0.5128595234323331,
          0.6320329944542736,
          -1.1731659078567216,
          0.039528241197417824,
          -1.2699522862309285,
          0.8565716807479704,
          -0.8977872724627437,
          -0.9708116225943402,
          0.19182873460466876,
          0.2336292575059844,
          2.269289902502933,
          -1.2140561129124097,
          0.34713742175275764,
          0.5502602614314639,
          1.2058020229639115,
          -0.0015168394811906059,
          -0.7817080683037348,
          0.003485678210361498,
          2.0420153760900126,
          0.18692710899928672,
          -0.12300009092959195,
          0.36814325094291017,
          -0.400386090162646,
          -0.1994719902143498,
          -1.1465289568917794,
          1.4463457173646672,
          0.5128595234323331,
          0.15378752892540087,
          -2.3860029596240153,
          -2.4987004748335857,
          -1.1582283307065233,
          1.4479555874953753,
          -1.862573590002718,
          -1.2420327374698021,
          -0.04068580996693211,
          0.438848747720421,
          -0.14548901372378237,
          -0.3416944929342746,
          0.3362875277756875,
          -0.5362284339621711,
          -0.30355757161495994,
          -0.201790917400626,
          -0.3834299342076802,
          0.2984948984455817,
          -0.16419004276169927,
          -0.32853661451038546,
          -0.13789561006506768,
          1.1217152075848607,
          -0.1994719902143498,
          0.6320329944542736,
          1.6448251820466133,
          0.5175894427156379,
          0.35953353010245925,
          -0.5868463926733776,
          -0.21638696058562235,
          0.603797566344628,
          -1.7078041853217922,
          -0.6879302509236638,
          0.6495738899162601,
          2.8036382792768384,
          1.224707845168953,
          -0.11110506202532555,
          -0.4378103785794069,
          -0.06382234426592036,
          -1.4428815635037526,
          -0.3996679623842371,
          -0.41395652259150884,
          -0.7817080683037348,
          -0.7649194839950852,
          -0.29804713396409854,
          -0.5362284339621711,
          -1.3567671205439993,
          -1.2381446354935117,
          -1.5597349131799128,
          4.945017934913604,
          -1.0994721332100108,
          0.6634165306118028,
          0.5923170445509968,
          0.6701186728272667,
          -0.8396674041662843
         ],
         "xaxis": "x",
         "xbins": {
          "end": 5.352922139978525,
          "size": 0.1,
          "start": -4.49172202309614
         },
         "yaxis": "y"
        },
        {
         "legendgroup": "Lasso",
         "marker": {
          "color": "rgb(31, 119, 180)"
         },
         "mode": "lines",
         "name": "Lasso",
         "showlegend": false,
         "type": "scatter",
         "x": [
          -5.0775858518346,
          -5.054268873604767,
          -5.030951895374933,
          -5.007634917145101,
          -4.984317938915267,
          -4.961000960685434,
          -4.9376839824556,
          -4.914367004225767,
          -4.891050025995934,
          -4.867733047766101,
          -4.844416069536267,
          -4.821099091306434,
          -4.7977821130766,
          -4.774465134846768,
          -4.751148156616934,
          -4.727831178387101,
          -4.704514200157267,
          -4.681197221927434,
          -4.657880243697601,
          -4.634563265467768,
          -4.611246287237934,
          -4.587929309008101,
          -4.564612330778267,
          -4.541295352548435,
          -4.517978374318601,
          -4.494661396088768,
          -4.471344417858934,
          -4.448027439629101,
          -4.424710461399268,
          -4.401393483169435,
          -4.378076504939601,
          -4.354759526709768,
          -4.331442548479934,
          -4.308125570250101,
          -4.284808592020268,
          -4.261491613790435,
          -4.238174635560601,
          -4.214857657330768,
          -4.191540679100935,
          -4.168223700871102,
          -4.144906722641268,
          -4.121589744411435,
          -4.098272766181601,
          -4.074955787951769,
          -4.0516388097219345,
          -4.028321831492102,
          -4.005004853262268,
          -3.981687875032435,
          -3.9583708968026015,
          -3.9350539185727684,
          -3.9117369403429354,
          -3.888419962113102,
          -3.8651029838832685,
          -3.8417860056534354,
          -3.8184690274236024,
          -3.795152049193769,
          -3.7718350709639354,
          -3.748518092734102,
          -3.725201114504269,
          -3.7018841362744355,
          -3.6785671580446024,
          -3.655250179814769,
          -3.6319332015849355,
          -3.608616223355102,
          -3.585299245125269,
          -3.561982266895436,
          -3.5386652886656025,
          -3.515348310435769,
          -3.4920313322059355,
          -3.4687143539761025,
          -3.445397375746269,
          -3.422080397516436,
          -3.3987634192866025,
          -3.3754464410567695,
          -3.352129462826936,
          -3.328812484597103,
          -3.3054955063672695,
          -3.282178528137436,
          -3.2588615499076026,
          -3.2355445716777695,
          -3.2122275934479365,
          -3.188910615218103,
          -3.1655936369882696,
          -3.142276658758436,
          -3.118959680528603,
          -3.0956427022987696,
          -3.0723257240689366,
          -3.049008745839103,
          -3.0256917676092696,
          -3.0023747893794366,
          -2.979057811149603,
          -2.95574083291977,
          -2.9324238546899366,
          -2.9091068764601036,
          -2.88578989823027,
          -2.8624729200004366,
          -2.839155941770603,
          -2.81583896354077,
          -2.7925219853109366,
          -2.7692050070811036,
          -2.74588802885127,
          -2.722571050621437,
          -2.6992540723916036,
          -2.67593709416177,
          -2.652620115931937,
          -2.6293031377021037,
          -2.6059861594722706,
          -2.582669181242437,
          -2.559352203012604,
          -2.5360352247827707,
          -2.512718246552937,
          -2.4894012683231037,
          -2.4660842900932707,
          -2.442767311863437,
          -2.419450333633604,
          -2.3961333554037707,
          -2.3728163771739377,
          -2.3494993989441038,
          -2.3261824207142707,
          -2.3028654424844373,
          -2.2795484642546042,
          -2.256231486024771,
          -2.2329145077949377,
          -2.2095975295651047,
          -2.186280551335271,
          -2.1629635731054377,
          -2.1396465948756043,
          -2.1163296166457712,
          -2.0930126384159378,
          -2.0696956601861047,
          -2.0463786819562713,
          -2.0230617037264382,
          -1.9997447254966043,
          -1.9764277472667713,
          -1.9531107690369378,
          -1.9297937908071048,
          -1.9064768125772713,
          -1.8831598343474383,
          -1.8598428561176048,
          -1.8365258778877718,
          -1.8132088996579379,
          -1.7898919214281048,
          -1.7665749431982718,
          -1.7432579649684383,
          -1.7199409867386053,
          -1.6966240085087718,
          -1.6733070302789388,
          -1.6499900520491049,
          -1.6266730738192718,
          -1.6033560955894384,
          -1.5800391173596053,
          -1.5567221391297719,
          -1.5334051608999388,
          -1.5100881826701054,
          -1.4867712044402723,
          -1.4634542262104384,
          -1.4401372479806054,
          -1.416820269750772,
          -1.3935032915209389,
          -1.3701863132911054,
          -1.3468693350612724,
          -1.3235523568314393,
          -1.3002353786016054,
          -1.2769184003717724,
          -1.253601422141939,
          -1.230284443912106,
          -1.2069674656822724,
          -1.1836504874524394,
          -1.160333509222606,
          -1.137016530992773,
          -1.113699552762939,
          -1.090382574533106,
          -1.067065596303273,
          -1.0437486180734394,
          -1.020431639843606,
          -0.9971146616137725,
          -0.973797683383939,
          -0.9504807051541064,
          -0.927163726924273,
          -0.9038467486944395,
          -0.880529770464606,
          -0.8572127922347725,
          -0.83389581400494,
          -0.8105788357751065,
          -0.787261857545273,
          -0.7639448793154395,
          -0.7406279010856069,
          -0.7173109228557735,
          -0.69399394462594,
          -0.6706769663961065,
          -0.647359988166273,
          -0.6240430099364405,
          -0.6007260317066061,
          -0.5774090534767735,
          -0.55409207524694,
          -0.5307750970171075,
          -0.5074581187872731,
          -0.4841411405574396,
          -0.46082416232760703,
          -0.43750718409777356,
          -0.4141902058679401,
          -0.3908732276381066,
          -0.367556249408274,
          -0.34423927117844055,
          -0.3209222929486071,
          -0.2976053147187736,
          -0.27428833648894013,
          -0.25097135825910755,
          -0.22765438002927407,
          -0.2043374017994406,
          -0.18102042356960713,
          -0.15770344533977365,
          -0.13438646710994107,
          -0.1110694888801067,
          -0.08775251065027412,
          -0.06443553242044064,
          -0.04111855419060806,
          -0.017801575960773697,
          0.005515402269058889,
          0.028832380498892363,
          0.052149358728725836,
          0.07546633695855931,
          0.09878331518839278,
          0.12210029341822537,
          0.14541727164805884,
          0.16873424987789143,
          0.1920512281077258,
          0.21536820633755926,
          0.23868518456739185,
          0.2620021627972253,
          0.2853191410270588,
          0.30863611925689227,
          0.33195309748672486,
          0.35527007571655833,
          0.3785870539463927,
          0.4019040321762253,
          0.42522101040605875,
          0.44853798863589134,
          0.4718549668657257,
          0.4951719450955583,
          0.5184889233253918,
          0.5418059015552252,
          0.5651228797850578,
          0.5884398580148922,
          0.6117568362447248,
          0.6350738144745582,
          0.6583907927043908,
          0.6817077709342252,
          0.7050247491640578,
          0.7283417273938912,
          0.7516587056237247,
          0.7749756838535582,
          0.7982926620833917,
          0.8216096403132243,
          0.8449266185430577,
          0.8682435967728912,
          0.8915605750027247,
          0.9148775532325581,
          0.9381945314623907,
          0.9615115096922251,
          0.9848284879220577,
          1.0081454661518912,
          1.0314624443817237,
          1.0547794226115572,
          1.0780964008413916,
          1.1014133790712242,
          1.1247303573010576,
          1.1480473355308902,
          1.1713643137607246,
          1.1946812919905572,
          1.2179982702203906,
          1.2413152484502232,
          1.2646322266800576,
          1.287949204909891,
          1.3112661831397237,
          1.3345831613695571,
          1.3579001395993906,
          1.381217117829224,
          1.4045340960590567,
          1.4278510742888901,
          1.4511680525187245,
          1.474485030748557,
          1.4978020089783906,
          1.5211189872082231,
          1.5444359654380566,
          1.56775294366789,
          1.5910699218977236,
          1.614386900127557,
          1.6377038783573896,
          1.661020856587224,
          1.6843378348170566,
          1.70765481304689,
          1.7309717912767226,
          1.754288769506557,
          1.7776057477363905,
          1.800922725966223,
          1.8242397041960565,
          1.84755668242589,
          1.8708736606557235,
          1.894190638885556,
          1.9175076171153895,
          1.940824595345223,
          1.9641415735750565,
          1.98745855180489,
          2.0107755300347225,
          2.034092508264556,
          2.0574094864943895,
          2.080726464724223,
          2.1040434429540555,
          2.127360421183889,
          2.1506773994137234,
          2.173994377643556,
          2.1973113558733894,
          2.220628334103222,
          2.2439453123330564,
          2.267262290562889,
          2.2905792687927224,
          2.313896247022556,
          2.3372132252523894,
          2.360530203482223,
          2.3838471817120555,
          2.407164159941889,
          2.4304811381717215,
          2.453798116401556,
          2.4771150946313893,
          2.500432072861222,
          2.5237490510910554,
          2.547066029320889,
          2.5703830075507224,
          2.593699985780555,
          2.6170169640103884,
          2.640333942240222,
          2.6636509204700554,
          2.686967898699889,
          2.7102848769297214,
          2.733601855159556,
          2.7569188333893884,
          2.780235811619222,
          2.8035527898490544,
          2.826869768078889,
          2.8501867463087223,
          2.873503724538555,
          2.8968207027683883,
          2.920137680998221,
          2.9434546592280544,
          2.966771637457887,
          2.9900886156877213,
          3.0134055939175557,
          3.0367225721473883,
          3.060039550377221,
          3.0833565286070552,
          3.106673506836888,
          3.129990485066722,
          3.153307463296553,
          3.1766244415263873,
          3.1999414197562217,
          3.2232583979860543,
          3.2465753762158887,
          3.2698923544457212,
          3.293209332675554,
          3.316526310905388,
          3.3398432891352208,
          3.363160267365055,
          3.3864772455948877,
          3.4097942238247203,
          3.4331112020545547,
          3.4564281802843873,
          3.47974515851422,
          3.503062136744054,
          3.526379114973887,
          3.549696093203721,
          3.5730130714335555,
          3.5963300496633863,
          3.6196470278932207,
          3.6429640061230533,
          3.6662809843528876,
          3.68959796258272,
          3.712914940812553,
          3.736231919042387,
          3.7595488972722215,
          3.782865875502054,
          3.8061828537318867,
          3.8294998319617193,
          3.8528168101915536,
          3.876133788421388,
          3.8994507666512206,
          3.922767744881053,
          3.9460847231108858,
          3.96940170134072,
          3.9927186795705545,
          4.016035657800385,
          4.03935263603022,
          4.062669614260054,
          4.085986592489887,
          4.109303570719721,
          4.132620548949552,
          4.155937527179386,
          4.1792545054092205,
          4.202571483639053,
          4.225888461868886,
          4.24920544009872,
          4.272522418328553,
          4.295839396558387,
          4.31915637478822,
          4.342473353018052,
          4.3657903312478865,
          4.389107309477719,
          4.4124242877075535,
          4.435741265937386,
          4.459058244167219,
          4.482375222397053,
          4.505692200626886,
          4.52900917885672,
          4.5523261570865525,
          4.575643135316385,
          4.5989601135462195,
          4.622277091776052,
          4.645594070005886,
          4.668911048235719,
          4.692228026465552,
          4.715545004695386,
          4.73886198292522,
          4.762178961155053,
          4.7854959393848855,
          4.808812917614718,
          4.832129895844552,
          4.855446874074387,
          4.878763852304218,
          4.902080830534052,
          4.9253978087638846,
          4.948714786993719,
          4.972031765223553,
          4.995348743453384,
          5.0186657216832185,
          5.041982699913053,
          5.065299678142885,
          5.088616656372718,
          5.111933634602551,
          5.135250612832385,
          5.158567591062219,
          5.181884569292052,
          5.2052015475218845,
          5.228518525751719,
          5.251835503981551,
          5.275152482211386,
          5.298469460441218,
          5.321786438671051,
          5.345103416900885,
          5.368420395130718,
          5.391737373360552,
          5.415054351590383,
          5.438371329820217,
          5.461688308050052,
          5.485005286279884,
          5.508322264509719,
          5.531639242739551,
          5.554956220969384,
          5.578273199199218,
          5.601590177429051,
          5.624907155658883,
          5.648224133888718,
          5.67154111211855,
          5.694858090348385,
          5.718175068578219,
          5.74149204680805,
          5.764809025037884,
          5.788126003267717,
          5.811442981497551,
          5.834759959727386,
          5.858076937957216,
          5.881393916187051,
          5.904710894416883,
          5.928027872646718,
          5.95134485087655,
          5.974661829106383,
          5.997978807336217,
          6.021295785566052,
          6.044612763795884,
          6.067929742025717,
          6.091246720255549,
          6.114563698485384,
          6.137880676715218,
          6.161197654945051,
          6.184514633174883,
          6.207831611404716,
          6.23114858963455,
          6.254465567864385,
          6.277782546094215,
          6.30109952432405,
          6.324416502553884,
          6.347733480783717,
          6.371050459013551,
          6.394367437243382,
          6.417684415473216,
          6.441001393703051,
          6.464318371932883,
          6.487635350162716,
          6.51095232839255,
          6.534269306622383,
          6.557586284852217
         ],
         "xaxis": "x",
         "y": [
          0.006616081736722873,
          0.006580119927529635,
          0.006473403081428294,
          0.006299373882821773,
          0.006063564685837937,
          0.005773305490885265,
          0.005437345830368608,
          0.005065417751983031,
          0.004667770274435112,
          0.004254706179480351,
          0.0038361498918527298,
          0.0034212708456284905,
          0.003018180709434228,
          0.002633715839020407,
          0.0022733090783394827,
          0.0019409482267942698,
          0.0016392126995643844,
          0.001369375530377806,
          0.00113155511028869,
          0.000924899940772812,
          0.0007477900584304823,
          0.0005980403908663193,
          0.0004730937823548935,
          0.00037019441140139013,
          0.0002865354564994803,
          0.00021937785016603448,
          0.000166139567829298,
          0.0001244569835275586,
          9.222132531933082e-05,
          6.759418589819749e-05,
          4.900644716664105e-05,
          3.514495481761155e-05,
          2.4930940043763043e-05,
          1.749364114350069e-05,
          1.2141928372831736e-05,
          8.336063494206582e-06,
          5.661092555065646e-06,
          3.802816686979962e-06,
          2.526832305258315e-06,
          1.6607847353946937e-06,
          1.0797324716757889e-06,
          6.943602878914948e-07,
          4.4169194655289255e-07,
          2.7792011518750195e-07,
          1.7297620932757445e-07,
          1.0649241211200396e-07,
          6.485102532501272e-08,
          3.9064378903044245e-08,
          2.3276136461803183e-08,
          1.3718504175147178e-08,
          7.997762789656213e-09,
          4.6120729961474165e-09,
          2.6308114284919967e-09,
          1.4843939014402105e-09,
          8.284656324411351e-10,
          4.573679486974664e-10,
          2.4975998000077056e-10,
          1.3491053640266258e-10,
          7.208332002970068e-11,
          3.8096895585143734e-11,
          1.991637468793975e-11,
          1.0299043267898387e-11,
          5.268043730412111e-12,
          2.665432901601168e-12,
          1.3339883328950521e-12,
          6.603926063806123e-13,
          3.233838056299195e-13,
          1.5663911723506705e-13,
          7.504954790389508e-14,
          3.5568195137342643e-14,
          1.667406421880408e-14,
          7.731913842902005e-15,
          3.546487537932546e-15,
          1.6090731020046156e-15,
          7.221361247767657e-16,
          3.2057426542473427e-16,
          1.4076883946912861e-16,
          6.1145548370493e-17,
          2.6277095649431143e-17,
          1.1183854383638256e-17,
          4.7435699889564796e-18,
          2.0788818008407378e-18,
          1.1209006121392344e-18,
          1.1129536521806376e-18,
          2.053715183292482e-18,
          4.700601409212818e-18,
          1.1139371559458909e-17,
          2.631747482692427e-17,
          6.158569331555688e-17,
          1.425934168059244e-16,
          3.266076050508335e-16,
          7.400276318064279e-16,
          1.6586802503632966e-15,
          3.677651088045334e-15,
          8.066252151840215e-15,
          1.750116020407083e-14,
          3.756263308287246e-14,
          7.975165877808032e-14,
          1.6750134540807582e-13,
          3.4801031993396766e-13,
          7.152560908720251e-13,
          1.4542095672772296e-12,
          2.9247502945366774e-12,
          5.818986172967187e-12,
          1.1452570305671041e-11,
          2.2297495817873226e-11,
          4.29444527971212e-11,
          8.181939945386336e-11,
          1.5420700720056267e-10,
          2.8750864754574226e-10,
          5.302700179342698e-10,
          9.674821615541356e-10,
          1.7461798400221502e-09,
          3.1177081654899374e-09,
          5.506590940214443e-09,
          9.621248143929337e-09,
          1.6629593806577952e-08,
          2.843373267817909e-08,
          4.8093735079837466e-08,
          8.047220922563324e-08,
          1.3320070536640156e-07,
          2.1810755565077966e-07,
          3.53296140737381e-07,
          5.661239067247687e-07,
          8.974059625400121e-07,
          1.4072514755061684e-06,
          2.1830327628226847e-06,
          3.3500791809407993e-06,
          5.085769789010067e-06,
          7.637754583265926e-06,
          1.1347042823273461e-05,
          1.6676632384987045e-05,
          2.424618585153728e-05,
          3.487295501367387e-05,
          4.961868529149807e-05,
          6.984157214497339e-05,
          9.725148348986839e-05,
          0.00013396561766037868,
          0.00018256057704477135,
          0.00024611558064603113,
          0.00032824033196790525,
          0.0004330800588387553,
          0.0005652896390665538,
          0.000729968729107942,
          0.0009325506281669804,
          0.0011786394111098627,
          0.001473792757831058,
          0.0018232519002111187,
          0.0022316250736806437,
          0.002702536517744307,
          0.0032382589788493513,
          0.0038393532477856173,
          0.004504342829516547,
          0.005229454677693757,
          0.0060084573607986,
          0.0068326255404061445,
          0.00769085395573867,
          0.008569935267176348,
          0.009455004533291797,
          0.01033013958167948,
          0.011179092222818208,
          0.011986111532946951,
          0.012736808787187793,
          0.013419005486543132,
          0.014023502481469071,
          0.014544710240266588,
          0.01498108811283621,
          0.01533535369163623,
          0.015614441201408624,
          0.01582920891454191,
          0.015993918230926805,
          0.016125529505753206,
          0.016242880283236637,
          0.01636582892678418,
          0.01651445980467458,
          0.016708454795805888,
          0.01696674002543921,
          0.01730751691280114,
          0.01774878347527981,
          0.018309445959907265,
          0.019011112444037363,
          0.019880648575612874,
          0.02095355973956024,
          0.022278241299974206,
          0.02392110594814182,
          0.025972550759826886,
          0.0285536624432552,
          0.03182347425545537,
          0.03598648065988738,
          0.04129998722714122,
          0.04808072861100625,
          0.05671003646367435,
          0.06763669691833203,
          0.08137652390487919,
          0.09850761435966464,
          0.1196602708218952,
          0.14550070168201953,
          0.1767078605305114,
          0.21394317566265136,
          0.2578134473257947,
          0.30882783494375843,
          0.36735058087030603,
          0.43355186301418647,
          0.5073598607283679,
          0.5884176702817906,
          0.6760490292813948,
          0.7692368235254592,
          0.866617995678596,
          0.9664977258923927,
          1.06688462443025,
          1.165547226033757,
          1.2600904110851545,
          1.3480486436638086,
          1.4269912803501903,
          1.4946338417512908,
          1.5489482124848257,
          1.5882643705894048,
          1.6113565163449706,
          1.617507379886312,
          1.6065459733965501,
          1.578855988459432,
          1.5353542418886192,
          1.4774408322503707,
          1.4069247660072979,
          1.325930547542597,
          1.2367924442690004,
          1.1419437390272835,
          1.0438082381504374,
          0.9447006549373178,
          0.8467413353906341,
          0.7517892815766102,
          0.6613957287080307,
          0.5767788196743847,
          0.4988183537224427,
          0.4280682906649585,
          0.36478375221216225,
          0.3089587151416616,
          0.2603704300037733,
          0.21862677953838716,
          0.18321324173994954,
          0.1535367574786197,
          0.12896453260830737,
          0.10885654740004887,
          0.09259123420319161,
          0.07958436852766712,
          0.06930167047875907,
          0.06126592281235744,
          0.0550595848007972,
          0.05032393524458346,
          0.04675573809299432,
          0.044102317874070894,
          0.04215578642988204,
          0.040747000972443145,
          0.039739675007132894,
          0.03902492145660806,
          0.038516389157152976,
          0.03814606280328703,
          0.03786073161719715,
          0.03761909012705365,
          0.037389410593927086,
          0.03714771553342301,
          0.03687637552592105,
          0.036563058156493765,
          0.03619995581602612,
          0.035783221926714404,
          0.03531254683226243,
          0.034790806912559084,
          0.03422372471775069,
          0.033619485369298485,
          0.0329882660654804,
          0.03234165148163575,
          0.03169192753507194,
          0.03105126789180085,
          0.03043084952813835,
          0.029839953025537682,
          0.02928511746013721,
          0.028769426537744894,
          0.02829200058029881,
          0.027847757692668687,
          0.027427487695818653,
          0.02701825609205615,
          0.026604125232041715,
          0.02616714935349563,
          0.025688572772044435,
          0.025150139428332666,
          0.024535409712532038,
          0.023830978441352815,
          0.02302749628784714,
          0.022120414874430352,
          0.021110401075379693,
          0.020003395985982747,
          0.018810325231405196,
          0.017546496528659243,
          0.016230744778097717,
          0.014884402243819607,
          0.01353018029396908,
          0.01219104941830073,
          0.010889196482516596,
          0.009645123878440003,
          0.008476936412358424,
          0.007399840752003683,
          0.006425861337718545,
          0.005563757915796014,
          0.004819114886213614,
          0.004194562520960714,
          0.0036900852415075367,
          0.0033033724022611694,
          0.003030171772663179,
          0.0028646141328794806,
          0.002799487855552935,
          0.0028264537113390437,
          0.002936201127185078,
          0.0031185566184259964,
          0.0033625622250038,
          0.003656545922991365,
          0.003988206897246151,
          0.004344736322217124,
          0.004712989287419051,
          0.005079716367929117,
          0.005431854923540666,
          0.00575687147467576,
          0.006043138433008812,
          0.0062803219679806715,
          0.006459753604842085,
          0.006574756764227547,
          0.006620901052649049,
          0.006596161557415766,
          0.00650096723754645,
          0.006338131024357911,
          0.006112663565080329,
          0.005831481700567583,
          0.005503030842991809,
          0.005136846633847982,
          0.004743085067211043,
          0.004332051390216112,
          0.003913756572685913,
          0.0034975262785434075,
          0.0030916816045389,
          0.0027033040545586516,
          0.002338090025261519,
          0.002000293195121362,
          0.0016927472318322,
          0.0014169565991690154,
          0.001173240200664483,
          0.0009609111984644703,
          0.0007784764745952501,
          0.0006238406084270479,
          0.0004945015929022295,
          0.0003877284326705399,
          0.000300713899993499,
          0.0002306987565928329,
          0.00017506644009726425,
          0.00013140940320166927,
          9.756990457769147e-05,
          7.165907738034531e-05,
          5.20585945152156e-05,
          3.740929809654317e-05,
          2.6590871718760714e-05,
          1.8696119888850826e-05,
          1.3002782195976173e-05,
          8.94513677952924e-06,
          6.0870038672982234e-06,
          4.097189619898899e-06,
          2.7279376763218946e-06,
          1.796588925921303e-06,
          1.1703853767015217e-06,
          7.541798928509906e-07,
          4.807141503845992e-07,
          3.03085219113646e-07,
          1.8902032353575145e-07,
          1.1660525991337065e-07,
          7.115307516469531e-08,
          4.2947224456479687e-08,
          2.5641440731984346e-08,
          1.5143129598538045e-08,
          8.846159160335305e-09,
          5.111634031724611e-09,
          2.9216665681852254e-09,
          1.651837966710094e-09,
          9.237833562188907e-10,
          5.110209757742126e-10,
          2.7962323622074203e-10,
          1.5134701735770056e-10,
          8.102912602269338e-11,
          4.291189436876217e-11,
          2.2479901891604945e-11,
          1.165032500946389e-11,
          5.975961482243964e-12,
          3.039843250371469e-12,
          1.5460994670757569e-12,
          8.127816038841479e-13,
          4.947938925555091e-13,
          4.389669330103322e-13,
          6.181034794271685e-13,
          1.1191258813402097e-12,
          2.1807972909299434e-12,
          4.295361399199514e-12,
          8.41195161477967e-12,
          1.6315068011214686e-11,
          3.1309133531654063e-11,
          5.943581199663705e-11,
          1.1160870376038875e-10,
          2.0730769358703065e-10,
          3.8088953811807155e-10,
          6.922271838438684e-10,
          1.2444119437835715e-09,
          2.2128174645472075e-09,
          3.892179898055669e-09,
          6.771831053373249e-09,
          1.1654273829233093e-08,
          1.9839476835732872e-08,
          3.340727925639421e-08,
          5.5643942516283145e-08,
          9.16770380176822e-08,
          1.494063814242444e-07,
          2.4084831685901076e-07,
          3.8404664721981904e-07,
          6.057455530018057e-07,
          9.45066535319432e-07,
          1.4584798381832056e-06,
          2.2264060257720592e-06,
          3.3618180276144474e-06,
          5.021227849016256e-06,
          7.418422263080854e-06,
          1.0841242663296209e-05,
          1.567156884941862e-05,
          2.240844800568505e-05,
          3.169399436589997e-05,
          4.4341263922903336e-05,
          6.13627838839338e-05,
          8.399780443378063e-05,
          0.00011373567482864397,
          0.0001523320817788171,
          0.00020181430183821174,
          0.00026447120663352307,
          0.00034282362888344426,
          0.0004395709598061344,
          0.0005575106048541897,
          0.0006994282462138383,
          0.0008679587712600986,
          0.0010654201854717463,
          0.0012936257175808884,
          0.0015536824420176465,
          0.0018457878088439267,
          0.002169038143591217,
          0.002521265087839233,
          0.0028989167365791736,
          0.0032969995912240447,
          0.0037090951986761835,
          0.004127461452490046,
          0.004543223141659475,
          0.0049466497897390806,
          0.0053275116541630805,
          0.005675497611498576,
          0.00598067226841425,
          0.006233944727938833,
          0.006427518622528586,
          0.006555292731118491,
          0.006613183907803407,
          0.0065993490587982154,
          0.006514290116860177,
          0.006360834730803052,
          0.006143994881642699,
          0.005870714937578755,
          0.005549528867027869,
          0.00519015266412951,
          0.004803041935858017,
          0.00439894575392487,
          0.003988486280393514,
          0.0035817896055596967,
          0.003188187196899291,
          0.0028160000201539956,
          0.002472409510939764,
          0.0021634118979220285,
          0.0018938455793443224,
          0.0016674758715936803,
          0.0014871178497379985,
          0.001354776371265885,
          0.0012717827255759708,
          0.0012389095385124315,
          0.0012564493135414521,
          0.0013242469455821994,
          0.0014416822731699841,
          0.0016076047756812789,
          0.0018202283969601424,
          0.002076999714429635,
          0.0023744568328963327,
          0.002708099078986669,
          0.0030722885037872,
          0.00346020318175773,
          0.003863859283556323,
          0.0042742140297581735,
          0.004681355214592185,
          0.005074775512782779,
          0.005443721885210402,
          0.005777602814323979,
          0.006066429588919611,
          0.006301263125384015,
          0.006474635423858674,
          0.006580915062723841
         ],
         "yaxis": "y"
        },
        {
         "legendgroup": "Ridge",
         "marker": {
          "color": "rgb(255, 127, 14)"
         },
         "mode": "lines",
         "name": "Ridge",
         "showlegend": false,
         "type": "scatter",
         "x": [
          -4.49172202309614,
          -4.472032734769991,
          -4.452343446443842,
          -4.432654158117693,
          -4.412964869791543,
          -4.393275581465394,
          -4.373586293139244,
          -4.353897004813095,
          -4.3342077164869455,
          -4.314518428160796,
          -4.294829139834647,
          -4.275139851508498,
          -4.2554505631823485,
          -4.235761274856199,
          -4.21607198653005,
          -4.196382698203901,
          -4.176693409877751,
          -4.157004121551601,
          -4.137314833225452,
          -4.117625544899303,
          -4.097936256573154,
          -4.078246968247004,
          -4.058557679920855,
          -4.038868391594706,
          -4.019179103268557,
          -3.999489814942407,
          -3.9798005266162577,
          -3.9601112382901085,
          -3.940421949963959,
          -3.9207326616378095,
          -3.9010433733116603,
          -3.881354084985511,
          -3.861664796659362,
          -3.8419755083332126,
          -3.8222862200070633,
          -3.8025969316809136,
          -3.7829076433547644,
          -3.763218355028615,
          -3.743529066702466,
          -3.723839778376316,
          -3.704150490050167,
          -3.6844612017240177,
          -3.6647719133978685,
          -3.645082625071719,
          -3.62539333674557,
          -3.6057040484194207,
          -3.586014760093271,
          -3.566325471767122,
          -3.5466361834409725,
          -3.526946895114823,
          -3.5072576067886736,
          -3.4875683184625244,
          -3.467879030136375,
          -3.448189741810226,
          -3.4285004534840766,
          -3.4088111651579274,
          -3.3891218768317777,
          -3.3694325885056284,
          -3.349743300179479,
          -3.3300540118533295,
          -3.3103647235271803,
          -3.290675435201031,
          -3.2709861468748818,
          -3.2512968585487325,
          -3.2316075702225833,
          -3.211918281896434,
          -3.1922289935702843,
          -3.1725397052441355,
          -3.152850416917986,
          -3.133161128591836,
          -3.113471840265687,
          -3.0937825519395377,
          -3.0740932636133884,
          -3.054403975287239,
          -3.03471468696109,
          -3.0150253986349407,
          -2.9953361103087914,
          -2.975646821982642,
          -2.9559575336564925,
          -2.936268245330343,
          -2.916578957004194,
          -2.8968896686780443,
          -2.877200380351895,
          -2.857511092025746,
          -2.8378218036995966,
          -2.8181325153734473,
          -2.798443227047298,
          -2.778753938721149,
          -2.759064650394999,
          -2.7393753620688495,
          -2.7196860737427007,
          -2.699996785416551,
          -2.6803074970904017,
          -2.6606182087642525,
          -2.6409289204381032,
          -2.621239632111954,
          -2.6015503437858047,
          -2.5818610554596555,
          -2.562171767133506,
          -2.5424824788073566,
          -2.5227931904812073,
          -2.5031039021550576,
          -2.4834146138289084,
          -2.463725325502759,
          -2.44403603717661,
          -2.42434674885046,
          -2.4046574605243114,
          -2.384968172198162,
          -2.3652788838720125,
          -2.345589595545863,
          -2.325900307219714,
          -2.3062110188935647,
          -2.286521730567415,
          -2.266832442241266,
          -2.2471431539151165,
          -2.2274538655889673,
          -2.207764577262818,
          -2.188075288936669,
          -2.168386000610519,
          -2.14869671228437,
          -2.1290074239582206,
          -2.1093181356320714,
          -2.0896288473059217,
          -2.0699395589797724,
          -2.0502502706536236,
          -2.030560982327474,
          -2.0108716940013247,
          -1.9911824056751755,
          -1.9714931173490258,
          -1.9518038290228765,
          -1.9321145406967273,
          -1.912425252370578,
          -1.8927359640444283,
          -1.8730466757182795,
          -1.8533573873921303,
          -1.8336680990659806,
          -1.8139788107398314,
          -1.7942895224136821,
          -1.7746002340875324,
          -1.7549109457613832,
          -1.735221657435234,
          -1.7155323691090842,
          -1.6958430807829354,
          -1.6761537924567862,
          -1.656464504130637,
          -1.6367752158044873,
          -1.617085927478338,
          -1.5973966391521888,
          -1.577707350826039,
          -1.5580180624998898,
          -1.5383287741737406,
          -1.5186394858475918,
          -1.498950197521442,
          -1.4792609091952929,
          -1.4595716208691436,
          -1.439882332542994,
          -1.4201930442168447,
          -1.4005037558906954,
          -1.3808144675645457,
          -1.3611251792383965,
          -1.3414358909122477,
          -1.321746602586098,
          -1.3020573142599488,
          -1.2823680259337995,
          -1.2626787376076503,
          -1.2429894492815006,
          -1.2233001609553513,
          -1.203610872629202,
          -1.1839215843030524,
          -1.1642322959769031,
          -1.1445430076507543,
          -1.1248537193246047,
          -1.1051644309984554,
          -1.0854751426723062,
          -1.065785854346157,
          -1.0460965660200072,
          -1.026407277693858,
          -1.0067179893677087,
          -0.987028701041559,
          -0.9673394127154102,
          -0.947650124389261,
          -0.9279608360631113,
          -0.9082715477369621,
          -0.8885822594108128,
          -0.8688929710846636,
          -0.8492036827585139,
          -0.8295143944323646,
          -0.8098251061062154,
          -0.7901358177800661,
          -0.7704465294539169,
          -0.7507572411277676,
          -0.731067952801618,
          -0.7113786644754687,
          -0.6916893761493195,
          -0.6720000878231702,
          -0.6523107994970205,
          -0.6326215111708713,
          -0.6129322228447225,
          -0.5932429345185728,
          -0.5735536461924235,
          -0.5538643578662743,
          -0.5341750695401246,
          -0.5144857812139754,
          -0.4947964928878261,
          -0.47510720456167643,
          -0.4554179162355272,
          -0.43572862790937794,
          -0.4160393395832287,
          -0.39635005125707945,
          -0.3766607629309302,
          -0.35697147460478007,
          -0.3372821862786317,
          -0.31759289795248247,
          -0.29790360962633233,
          -0.278214321300184,
          -0.25852503297403384,
          -0.2388357446478846,
          -0.21914645632173535,
          -0.1994571679955861,
          -0.17976787966943597,
          -0.1600785913432876,
          -0.14038930301713837,
          -0.12070001469098912,
          -0.10101072636483988,
          -0.08132143803868974,
          -0.061632149712541384,
          -0.04194286138639125,
          -0.022253573060242005,
          -0.002564284734092759,
          0.017125003592056487,
          0.03681429191820573,
          0.05650358024435498,
          0.07619286857050422,
          0.09588215689665436,
          0.11557144522280272,
          0.13526073354895285,
          0.1549500218751021,
          0.17463931020125134,
          0.1943285985274006,
          0.21401788685354983,
          0.23370717517969908,
          0.2533964635058483,
          0.27308575183199757,
          0.2927750401581468,
          0.31246432848429695,
          0.3321536168104453,
          0.35184290513659544,
          0.3715321934627447,
          0.39122148178889304,
          0.4109107701150432,
          0.4306000584411924,
          0.45028934676734167,
          0.4699786350934909,
          0.48966792341964105,
          0.5093572117457894,
          0.5290465000719395,
          0.5487357883980888,
          0.5684250767242371,
          0.5881143650503873,
          0.6078036533765365,
          0.6274929417026858,
          0.647182230028835,
          0.6668715183549843,
          0.6865608066811335,
          0.7062500950072836,
          0.725939383333432,
          0.7456286716595812,
          0.7653179599857314,
          0.7850072483118797,
          0.8046965366380299,
          0.8243858249641791,
          0.8440751132903284,
          0.8637644016164776,
          0.8834536899426277,
          0.9031429782687761,
          0.9228322665949253,
          0.9425215549210755,
          0.9622108432472238,
          0.981900131573374,
          1.0015894198995232,
          1.0212787082256725,
          1.0409679965518217,
          1.0606572848779718,
          1.0803465732041202,
          1.1000358615302694,
          1.1197251498564187,
          1.139414438182568,
          1.159103726508718,
          1.1787930148348664,
          1.1984823031610166,
          1.2181715914871658,
          1.237860879813315,
          1.2575501681394643,
          1.2772394564656135,
          1.2969287447917628,
          1.316618033117912,
          1.3363073214440622,
          1.3559966097702105,
          1.3756858980963607,
          1.39537518642251,
          1.4150644747486592,
          1.4347537630748084,
          1.4544430514009568,
          1.4741323397271069,
          1.4938216280532561,
          1.5135109163794054,
          1.5332002047055546,
          1.5528894930317048,
          1.5725787813578531,
          1.5922680696840033,
          1.6119573580101525,
          1.6316466463363009,
          1.651335934662451,
          1.6710252229886002,
          1.6907145113147495,
          1.7104037996408987,
          1.7300930879670489,
          1.7497823762931972,
          1.7694716646193474,
          1.7891609529454966,
          1.808850241271645,
          1.828539529597795,
          1.8482288179239443,
          1.8679181062500936,
          1.8876073945762428,
          1.907296682902392,
          1.9269859712285413,
          1.9466752595546915,
          1.9663645478808398,
          1.98605383620699,
          2.005743124533139,
          2.0254324128592875,
          2.0451217011854377,
          2.064810989511587,
          2.084500277837736,
          2.1041895661638854,
          2.1238788544900356,
          2.143568142816184,
          2.163257431142334,
          2.1829467194684833,
          2.2026360077946316,
          2.222325296120782,
          2.242014584446931,
          2.2617038727730803,
          2.2813931610992295,
          2.3010824494253788,
          2.320771737751528,
          2.340461026077678,
          2.3601503144038265,
          2.3798396027299757,
          2.399528891056126,
          2.4192181793822742,
          2.4389074677084244,
          2.4585967560345736,
          2.478286044360723,
          2.497975332686872,
          2.5176646210130222,
          2.5373539093391706,
          2.55704319766532,
          2.57673248599147,
          2.5964217743176183,
          2.6161110626437685,
          2.6358003509699177,
          2.655489639296067,
          2.675178927622216,
          2.6948682159483663,
          2.7145575042745147,
          2.734246792600664,
          2.753936080926813,
          2.7736253692529624,
          2.7933146575791126,
          2.813003945905261,
          2.832693234231411,
          2.8523825225575603,
          2.8720718108837096,
          2.891761099209859,
          2.911450387536008,
          2.9311396758621573,
          2.9508289641883065,
          2.9705182525144567,
          2.990207540840605,
          3.009896829166755,
          3.0295861174929044,
          3.0492754058190537,
          3.068964694145203,
          3.088653982471352,
          3.1083432707975014,
          3.1280325591236506,
          3.1477218474498,
          3.167411135775949,
          3.1871004241020993,
          3.2067897124282476,
          3.2264790007543978,
          3.246168289080547,
          3.2658575774066954,
          3.2855468657328455,
          3.3052361540589947,
          3.324925442385144,
          3.3446147307112932,
          3.3643040190374434,
          3.3839933073635917,
          3.403682595689742,
          3.423371884015891,
          3.4430611723420395,
          3.4627504606681896,
          3.482439748994339,
          3.502129037320488,
          3.5218183256466373,
          3.5415076139727875,
          3.561196902298936,
          3.580886190625086,
          3.6005754789512343,
          3.6202647672773844,
          3.639954055603533,
          3.659643343929683,
          3.679332632255833,
          3.6990219205819814,
          3.71871120890813,
          3.73840049723428,
          3.75808978556043,
          3.77777907388658,
          3.7974683622127268,
          3.817157650538877,
          3.836846938865027,
          3.8565362271911754,
          3.8762255155173255,
          3.8959148038434757,
          3.915604092169624,
          3.9352933804957724,
          3.9549826688219225,
          3.9746719571480726,
          3.994361245474221,
          4.014050533800371,
          4.0337398221265195,
          4.05342911045267,
          4.073118398778818,
          4.092807687104968,
          4.112496975431118,
          4.132186263757268,
          4.151875552083415,
          4.171564840409565,
          4.191254128735715,
          4.210943417061864,
          4.230632705388014,
          4.250321993714162,
          4.270011282040312,
          4.289700570366461,
          4.309389858692611,
          4.329079147018761,
          4.348768435344909,
          4.368457723671058,
          4.388147011997208,
          4.407836300323358,
          4.427525588649506,
          4.447214876975656,
          4.4669041653018065,
          4.486593453627955,
          4.506282741954103,
          4.525972030280253,
          4.545661318606403,
          4.565350606932552,
          4.5850398952587,
          4.60472918358485,
          4.624418471911,
          4.644107760237149,
          4.663797048563299,
          4.683486336889449,
          4.703175625215596,
          4.722864913541746,
          4.742554201867896,
          4.762243490194046,
          4.781932778520194,
          4.8016220668463445,
          4.821311355172493,
          4.841000643498643,
          4.860689931824791,
          4.8803792201509415,
          4.900068508477092,
          4.91975779680324,
          4.939447085129388,
          4.9591363734555385,
          4.978825661781689,
          4.998514950107837,
          5.018204238433987,
          5.0378935267601355,
          5.057582815086284,
          5.077272103412434,
          5.096961391738584,
          5.116650680064734,
          5.136339968390883,
          5.156029256717031,
          5.175718545043181,
          5.195407833369331,
          5.21509712169548,
          5.23478641002163,
          5.25447569834778,
          5.274164986673926,
          5.2938542750000765,
          5.313543563326227,
          5.333232851652377
         ],
         "xaxis": "x",
         "y": [
          0.004018457567953929,
          0.004012701707433764,
          0.003995481500455926,
          0.003966944682827168,
          0.003927335092733859,
          0.0038769892156784343,
          0.0038163314429251285,
          0.00374586813795765,
          0.0036661806282487068,
          0.003577917259518163,
          0.003481784666151471,
          0.003378538424207481,
          0.0032689732622200123,
          0.0031539130096653652,
          0.0030342004635212625,
          0.002910687349891811,
          0.002784224550436531,
          0.0026556527526385995,
          0.0025257936691814122,
          0.0023954419553484014,
          0.002265357934944125,
          0.00213626122531505,
          0.002008825331200027,
          0.0018836732559319618,
          0.0017613741574907756,
          0.0016424410565811828,
          0.0015273295847322576,
          0.0014164377427800996,
          0.0013101066243173865,
          0.0012086220450128033,
          0.0011122170072759853,
          0.0010210749206443228,
          0.0009353334914935114,
          0.0008550891911472508,
          0.0007804022090410404,
          0.0007113017970833197,
          0.0006477919125120896,
          0.000589857069092246,
          0.0005374683101440297,
          0.0004905892213344398,
          0.0004491819061052483,
          0.00041321285177369074,
          0.0003826586194733771,
          0.0003575112959881278,
          0.00033778365000030887,
          0.0003235139392078774,
          0.00031477031809618505,
          0.0003116547988738507,
          0.00031430672024628393,
          0.00032290568041068543,
          0.0003376738920689543,
          0.000358877918572122,
          0.00038682975177188497,
          0.0004218871940305979,
          0.00046445350941767095,
          0.0005149763126905882,
          0.0005739456695084456,
          0.0006418913877196986,
          0.0007193794877334914,
          0.0008070078501058697,
          0.0009054010506665407,
          0.001015204407821171,
          0.0011370772830449191,
          0.001271685693896342,
          0.001419694318885925,
          0.001581757994884299,
          0.0017585128299998005,
          0.0019505670774400165,
          0.0021584919381497,
          0.002382812481258702,
          0.0026239988907838857,
          0.0028824582637685474,
          0.0031585271982531764,
          0.00345246541830018,
          0.0037644506869301745,
          0.004094575255527081,
          0.0044428440893964525,
          0.0048091750932181924,
          0.005193401536790586,
          0.0055952768505877,
          0.006014481922336986,
          0.006450634980402081,
          0.006903304097811895,
          0.007372022293156519,
          0.007856305142365244,
          0.008355670749928643,
          0.008869661860969824,
          0.009397869828439353,
          0.009939960084468168,
          0.010495698703518054,
          0.011064979589400527,
          0.011647851770443219,
          0.01224454624891497,
          0.012855501823962787,
          0.013481389293207776,
          0.014123133437952106,
          0.01478193221146121,
          0.015459272579408549,
          0.016156942506271674,
          0.016877038640757527,
          0.017621969326256575,
          0.018394452647465292,
          0.019197509319828734,
          0.02003445033209666,
          0.02090885936148018,
          0.02182457009279517,
          0.022785638684550153,
          0.02379631173305913,
          0.02486099018721071,
          0.025984189758502734,
          0.027170498450554345,
          0.028424531897054704,
          0.02975088724491897,
          0.03115409634870195,
          0.03263857905202242,
          0.034208597321432825,
          0.03586821096801541,
          0.03762123564281921,
          0.039471203725518926,
          0.04142132864341605,
          0.04347447306267601,
          0.045633121288525515,
          0.047899356099395746,
          0.050274840125313955,
          0.05276080176696704,
          0.055358025542531455,
          0.058066846648197466,
          0.060887149428664675,
          0.06381836937871044,
          0.06685949823871665,
          0.0700090917076551,
          0.0732652792777105,
          0.07662577569596014,
          0.08008789358009573,
          0.08364855675608944,
          0.08730431394425474,
          0.09105135249399159,
          0.0948855119536497,
          0.09880229735695797,
          0.10279689220752003,
          0.10686417124391212,
          0.11099871316574361,
          0.11519481359158358,
          0.11944649859896181,
          0.1237475392611536,
          0.12809146764207607,
          0.1324715947367997,
          0.1368810308491269,
          0.1413127088783033,
          0.14575941094397754,
          0.1502137987125328,
          0.15466844770029875,
          0.15911588572202856,
          0.16354863552930388,
          0.16795926154668853,
          0.17234042046750173,
          0.1766849153204656,
          0.18098575246784862,
          0.1852362008498279,
          0.1894298526534466,
          0.19356068446220065,
          0.1976231178382867,
          0.20161207820757698,
          0.20552305086077735,
          0.20935213285545307,
          0.2130960796046123,
          0.21675234496933918,
          0.22031911373588728,
          0.2237953254511318,
          0.2271806887130216,
          0.2304756851626346,
          0.23368156259878997,
          0.2368003168315823,
          0.23983466210366142,
          0.24278799013321073,
          0.24566431806558314,
          0.24846822585639314,
          0.2512047838423546,
          0.2538794714820067,
          0.25649808846153016,
          0.25906665955601,
          0.26159133480898744,
          0.26407828673848843,
          0.26653360639186924,
          0.26896320015129704,
          0.27137268923356783,
          0.2737673138300107,
          0.2761518437929538,
          0.27853049769395,
          0.28090687195581404,
          0.28328388159660933,
          0.28566371392096696,
          0.28804779625544585,
          0.29043677855388855,
          0.29283053140053994,
          0.2952281596187222,
          0.29762803135731974,
          0.30002782218328283,
          0.302424573363317,
          0.30481476317980466,
          0.3071943898030226,
          0.3095590639420143,
          0.3119041092281673,
          0.3142246680562512,
          0.3165158104244952,
          0.31877264318447196,
          0.32099041703835646,
          0.3231646286095359,
          0.32529111496519464,
          0.32736613808747106,
          0.32938645697254315,
          0.3313493852822187,
          0.3332528327764477,
          0.33509532911180956,
          0.33687602899336067,
          0.3385946981064084,
          0.34025167972091463,
          0.3418478423432282,
          0.34338450927591563,
          0.3448633714243578,
          0.3462863851460549,
          0.347655657363087,
          0.3489733205382328,
          0.3502414004401193,
          0.3514616798829459,
          0.3526355618137349,
          0.35376393522848276,
          0.35484704742371437,
          0.355884386029598,
          0.35687457412501183,
          0.35781528150602776,
          0.35870315487168203,
          0.3595337693111945,
          0.360301603033506,
          0.36100003678332415,
          0.36162137884946977,
          0.3621569160040219,
          0.3625969901280847,
          0.362931099696036,
          0.3631480247188425,
          0.3632359732022244,
          0.36318274667015604,
          0.36297592185042876,
          0.3626030452275195,
          0.36205183684788417,
          0.36131039952139754,
          0.360367429405351,
          0.3592124238874421,
          0.35783588270280736,
          0.3562294983263135,
          0.35438633187214236,
          0.35230097100316043,
          0.3499696666960238,
          0.3473904461160924,
          0.3445631993194003,
          0.3414897380064763,
          0.33817382509315125,
          0.33462117442466827,
          0.33083942052913606,
          0.326838058872489,
          0.3226283576277655,
          0.31822324249551004,
          0.31363715659898805,
          0.3088858979183662,
          0.3039864371138969,
          0.2989567189126831,
          0.29381545049147995,
          0.28858188047545524,
          0.283275572287631,
          0.2779161756252851,
          0.2725231998087661,
          0.26711579264727703,
          0.2617125282990427,
          0.2563312073747201,
          0.25098867224912463,
          0.2457006402142246,
          0.24048155673378027,
          0.23534447065519154,
          0.23030093280594524,
          0.22536091895934718,
          0.22053277770598387,
          0.21582320332240468,
          0.21123723329518876,
          0.20677826974491667,
          0.20244812360781403,
          0.19824708007955794,
          0.19417398351155843,
          0.19022633967966301,
          0.18640043312232987,
          0.18269145707251053,
          0.17909365338629812,
          0.17560045980224034,
          0.17220466184758657,
          0.1688985467399244,
          0.16567405671220128,
          0.1625229393126024,
          0.15943689239398917,
          0.156407701705835,
          0.15342736922945271,
          0.15048823064908753,
          0.14758306062113694,
          0.14470516478523143,
          0.1418484577480359,
          0.13900752655742235,
          0.13617767946538914,
          0.13335498004738647,
          0.13053626699871185,
          0.12771916016102078,
          0.12490205354013226,
          0.12208409625723449,
          0.11926516252713977,
          0.11644581187793308,
          0.1136272409156099,
          0.1108112279951634,
          0.10800007218690574,
          0.10519652792508681,
          0.10240373669718573,
          0.09962515707921281,
          0.09686449434797847,
          0.09412563080894769,
          0.09141255787149669,
          0.08872931078585783,
          0.0860799068313687,
          0.0834682876174133,
          0.08089826603000565,
          0.07837347823134465,
          0.07589734099960492,
          0.07347301458396614,
          0.07110337114730371,
          0.06879096877736947,
          0.06653803096762577,
          0.0643464314015061,
          0.06221768381879342,
          0.06015293669955944,
          0.05815297246894995,
          0.05621821090397793,
          0.054348716410117,
          0.052544208829485,
          0.0508040774422795,
          0.04912739782741618,
          0.04751295125560295,
          0.04595924629709383,
          0.044464542335978734,
          0.04302687469217756,
          0.0416440810606546,
          0.04031382898430263,
          0.03903364408228978,
          0.037800938759454526,
          0.036613041124816025,
          0.0354672238488727,
          0.034360732690649355,
          0.03329081442708086,
          0.03225474392000354,
          0.031249850060471245,
          0.030273540336999607,
          0.02932332378426881,
          0.0283968320822516,
          0.027491838593036114,
          0.02660627514393751,
          0.025738246390859826,
          0.024886041625086626,
          0.02404814391940356,
          0.023223236545175937,
          0.02241020663005433,
          0.021608146065605825,
          0.020816349714489826,
          0.020034311006912272,
          0.019261715055054664,
          0.01849842945106699,
          0.01774449294814524,
          0.01700010225439133,
          0.01626559719486284,
          0.015541444517886195,
          0.014828220636891445,
          0.014126593608435314,
          0.013437304650592332,
          0.012761149503527055,
          0.012098959926005027,
          0.011451585608170266,
          0.010819876762569423,
          0.010204667632696812,
          0.00960676113192108,
          0.009026914796257933,
          0.008465828202831921,
          0.007924131972818858,
          0.00740237844395765,
          0.006901034064133467,
          0.006420473524784645,
          0.005960975621634829,
          0.005522720801091745,
          0.0051057903240893845,
          0.004710166955595733,
          0.004335737067779235,
          0.003982294028143501,
          0.003649542730917547,
          0.003337105120657896,
          0.0030445265513121106,
          0.0027712828217693834,
          0.002516787729968897,
          0.002280400991674092,
          0.0020614363767299027,
          0.0018591699246379668,
          0.0016728481122286918,
          0.00150169585867669,
          0.001344924266698876,
          0.0012017380130948168,
          0.00107134231645936,
          0.0009529494245631748,
          0.0008457845782319185,
          0.0007490914222706567,
          0.0006621368468254351,
          0.0005842152543401976,
          0.0005146522577861161,
          0.0004528078249899374,
          0.0003980788915828012,
          0.00034990147129109015,
          0.0003077522969883331,
          0.00027115002915298504,
          0.00023965607018945902,
          0.00021287502355698648,
          0.0001904548359230683,
          0.00017208665874580547,
          0.000157504462938235,
          0.00014648443673659413,
          0.0001388441927498664,
          0.00013444180558301502,
          0.00013317469657530846,
          0.00013497837725231113,
          0.00013982505822587033,
          0.0001477221256547662,
          0.00015871048315474037,
          0.00017286275336383,
          0.00019028133035646358,
          0.00021109627187016085,
          0.00023546301895513834,
          0.00026355993025109644,
          0.0002955856186848069,
          0.00033175607998820015,
          0.00037230160505378584,
          0.0004174634717370933,
          0.0004674904162198439,
          0.0005226348893677946,
          0.0005831491095303318,
          0.0006492809297823974,
          0.00072126954452732,
          0.000799341067462616,
          0.0008837040199436312,
          0.0009745447755351062,
          0.0010720230127839196,
          0.0011762672337466556,
          0.0012873704103395164,
          0.0014053858239397171,
          0.001530323165676376,
          0.001662144965355295,
          0.0018007634158577496,
          0.0019460376570737382,
          0.002097771578963424,
          0.00225571219722451,
          0.0024195486473753145,
          0.002588911833991386,
          0.0027633747615587417,
          0.0029424535621763075,
          0.0031256092234409117,
          0.003312250007597442,
          0.003501734540771838,
          0.0036933755391710434,
          0.0038864441278724012,
          0.004080174697560921,
          0.004273770235596976,
          0.004466408060363553,
          0.0046572458821510015,
          0.004845428110024127,
          0.00503009232225695,
          0.005210375818013386,
          0.005385422169929885,
          0.005554387700979609,
          0.005716447814269586,
          0.005870803110985953,
          0.0060166852392641995,
          0.006153362424992607,
          0.006280144644117489,
          0.006396388404567249,
          0.0065015011141218,
          0.00659494501812957,
          0.0066762406976641556,
          0.006744970124319381,
          0.006800779272230945,
          0.006843380291021085,
          0.006872553245195619,
          0.006888147426156696,
          0.006890082242571359,
          0.006878347693553227,
          0.006853004427217202,
          0.006814183384931867,
          0.006762085029316493,
          0.006696978152007182,
          0.0066191982557326405,
          0.006529145504550341,
          0.006427282236410559,
          0.006314130033696451
         ],
         "yaxis": "y"
        },
        {
         "legendgroup": "Lasso",
         "marker": {
          "color": "rgb(31, 119, 180)",
          "symbol": "line-ns-open"
         },
         "mode": "markers",
         "name": "Lasso",
         "showlegend": false,
         "type": "scatter",
         "x": [
          -0.2988645822136683,
          0.3408157190759778,
          0,
          -5.0775858518346,
          -0.011546218132248353,
          2.50475330358318,
          0,
          0,
          -1.2254666741348454,
          0,
          0,
          0,
          0,
          0,
          0,
          0.8911508709272506,
          0,
          0,
          0,
          0,
          0,
          0,
          0.48261306316596353,
          0,
          0,
          0,
          0,
          0,
          0,
          0.29259736827072497,
          0,
          0,
          0,
          0,
          0,
          0,
          0,
          0,
          0,
          0,
          0,
          0,
          0,
          0,
          0,
          0,
          0,
          0,
          0,
          0,
          0,
          0,
          0,
          0,
          0,
          0,
          0,
          0,
          0,
          0,
          -0.8137493295508568,
          0,
          0,
          0,
          0,
          0,
          0,
          0,
          0,
          0,
          0,
          0,
          0,
          0,
          0,
          0,
          0,
          0,
          0,
          0,
          0,
          0,
          0,
          0,
          0,
          0,
          0,
          0,
          0,
          0,
          0,
          0,
          0.857715591775868,
          0,
          0,
          1.1721102608593408,
          0,
          0,
          0.2887092608544712,
          0,
          0,
          0,
          0,
          0,
          0,
          0,
          0.20926544012577397,
          0,
          0,
          0,
          0,
          0,
          0,
          1.5557826281399485,
          0,
          0,
          5.60868688487343,
          0,
          0,
          0,
          0,
          0,
          0,
          0,
          0,
          0,
          0,
          0,
          0,
          0,
          0,
          -0.5834694165847317,
          0,
          0,
          0,
          0,
          0,
          0,
          0,
          0,
          0,
          0,
          0,
          0,
          0,
          0,
          0,
          0,
          0.5677323661704804,
          0,
          1.6083497158913294,
          1.1672531907630226,
          0,
          -0.6403255347633285,
          0,
          0,
          0,
          0,
          0,
          0,
          0,
          0,
          0,
          0,
          0,
          0,
          0,
          0,
          0,
          0,
          0,
          0,
          0,
          0,
          0,
          0,
          0,
          0,
          -0.40210406095102963,
          0,
          0,
          0,
          0,
          0,
          0,
          0,
          0,
          0,
          0,
          0,
          0,
          0,
          0,
          0,
          0,
          0,
          0,
          0,
          0,
          0,
          0,
          0,
          0,
          0.7072730612261542,
          1.6226804361881382,
          0,
          0,
          0,
          0.4051983255690641,
          0,
          0,
          0,
          0,
          0,
          0,
          1.224714232790628,
          0,
          0,
          -1.1811727255510334,
          -0.003019012500058569,
          0,
          0,
          0,
          0,
          0,
          0,
          0,
          0,
          0,
          0,
          0,
          0,
          0,
          0,
          0,
          0,
          0,
          0,
          0,
          0,
          0,
          0,
          0,
          0,
          0,
          0.19289042452120514,
          0,
          0,
          0,
          0.953787565634395,
          0,
          0,
          0,
          0,
          0,
          0,
          0,
          0,
          0,
          0,
          0,
          0,
          0,
          0,
          6.58090326308205,
          0,
          0,
          0,
          0,
          0
         ],
         "xaxis": "x",
         "y": [
          "Lasso",
          "Lasso",
          "Lasso",
          "Lasso",
          "Lasso",
          "Lasso",
          "Lasso",
          "Lasso",
          "Lasso",
          "Lasso",
          "Lasso",
          "Lasso",
          "Lasso",
          "Lasso",
          "Lasso",
          "Lasso",
          "Lasso",
          "Lasso",
          "Lasso",
          "Lasso",
          "Lasso",
          "Lasso",
          "Lasso",
          "Lasso",
          "Lasso",
          "Lasso",
          "Lasso",
          "Lasso",
          "Lasso",
          "Lasso",
          "Lasso",
          "Lasso",
          "Lasso",
          "Lasso",
          "Lasso",
          "Lasso",
          "Lasso",
          "Lasso",
          "Lasso",
          "Lasso",
          "Lasso",
          "Lasso",
          "Lasso",
          "Lasso",
          "Lasso",
          "Lasso",
          "Lasso",
          "Lasso",
          "Lasso",
          "Lasso",
          "Lasso",
          "Lasso",
          "Lasso",
          "Lasso",
          "Lasso",
          "Lasso",
          "Lasso",
          "Lasso",
          "Lasso",
          "Lasso",
          "Lasso",
          "Lasso",
          "Lasso",
          "Lasso",
          "Lasso",
          "Lasso",
          "Lasso",
          "Lasso",
          "Lasso",
          "Lasso",
          "Lasso",
          "Lasso",
          "Lasso",
          "Lasso",
          "Lasso",
          "Lasso",
          "Lasso",
          "Lasso",
          "Lasso",
          "Lasso",
          "Lasso",
          "Lasso",
          "Lasso",
          "Lasso",
          "Lasso",
          "Lasso",
          "Lasso",
          "Lasso",
          "Lasso",
          "Lasso",
          "Lasso",
          "Lasso",
          "Lasso",
          "Lasso",
          "Lasso",
          "Lasso",
          "Lasso",
          "Lasso",
          "Lasso",
          "Lasso",
          "Lasso",
          "Lasso",
          "Lasso",
          "Lasso",
          "Lasso",
          "Lasso",
          "Lasso",
          "Lasso",
          "Lasso",
          "Lasso",
          "Lasso",
          "Lasso",
          "Lasso",
          "Lasso",
          "Lasso",
          "Lasso",
          "Lasso",
          "Lasso",
          "Lasso",
          "Lasso",
          "Lasso",
          "Lasso",
          "Lasso",
          "Lasso",
          "Lasso",
          "Lasso",
          "Lasso",
          "Lasso",
          "Lasso",
          "Lasso",
          "Lasso",
          "Lasso",
          "Lasso",
          "Lasso",
          "Lasso",
          "Lasso",
          "Lasso",
          "Lasso",
          "Lasso",
          "Lasso",
          "Lasso",
          "Lasso",
          "Lasso",
          "Lasso",
          "Lasso",
          "Lasso",
          "Lasso",
          "Lasso",
          "Lasso",
          "Lasso",
          "Lasso",
          "Lasso",
          "Lasso",
          "Lasso",
          "Lasso",
          "Lasso",
          "Lasso",
          "Lasso",
          "Lasso",
          "Lasso",
          "Lasso",
          "Lasso",
          "Lasso",
          "Lasso",
          "Lasso",
          "Lasso",
          "Lasso",
          "Lasso",
          "Lasso",
          "Lasso",
          "Lasso",
          "Lasso",
          "Lasso",
          "Lasso",
          "Lasso",
          "Lasso",
          "Lasso",
          "Lasso",
          "Lasso",
          "Lasso",
          "Lasso",
          "Lasso",
          "Lasso",
          "Lasso",
          "Lasso",
          "Lasso",
          "Lasso",
          "Lasso",
          "Lasso",
          "Lasso",
          "Lasso",
          "Lasso",
          "Lasso",
          "Lasso",
          "Lasso",
          "Lasso",
          "Lasso",
          "Lasso",
          "Lasso",
          "Lasso",
          "Lasso",
          "Lasso",
          "Lasso",
          "Lasso",
          "Lasso",
          "Lasso",
          "Lasso",
          "Lasso",
          "Lasso",
          "Lasso",
          "Lasso",
          "Lasso",
          "Lasso",
          "Lasso",
          "Lasso",
          "Lasso",
          "Lasso",
          "Lasso",
          "Lasso",
          "Lasso",
          "Lasso",
          "Lasso",
          "Lasso",
          "Lasso",
          "Lasso",
          "Lasso",
          "Lasso",
          "Lasso",
          "Lasso",
          "Lasso",
          "Lasso",
          "Lasso",
          "Lasso",
          "Lasso",
          "Lasso",
          "Lasso",
          "Lasso",
          "Lasso",
          "Lasso",
          "Lasso",
          "Lasso",
          "Lasso",
          "Lasso",
          "Lasso",
          "Lasso",
          "Lasso",
          "Lasso",
          "Lasso",
          "Lasso",
          "Lasso",
          "Lasso",
          "Lasso",
          "Lasso",
          "Lasso",
          "Lasso",
          "Lasso",
          "Lasso",
          "Lasso",
          "Lasso",
          "Lasso",
          "Lasso",
          "Lasso",
          "Lasso",
          "Lasso",
          "Lasso",
          "Lasso",
          "Lasso",
          "Lasso",
          "Lasso",
          "Lasso"
         ],
         "yaxis": "y2"
        },
        {
         "legendgroup": "Ridge",
         "marker": {
          "color": "rgb(255, 127, 14)",
          "symbol": "line-ns-open"
         },
         "mode": "markers",
         "name": "Ridge",
         "showlegend": false,
         "type": "scatter",
         "x": [
          -1.1129087993281528,
          0.829414466269498,
          -0.5787984166483763,
          -4.49172202309614,
          -0.32314439645821635,
          2.5528447784976023,
          0.6441174358239381,
          0.1409552018869279,
          -0.7850726377109035,
          0.7655534592395417,
          0.35668345877114155,
          -1.5694262616056696,
          0.26227557067209484,
          -0.25740342390750737,
          -0.7824098482842659,
          2.5934921160921234,
          0.5606042947988116,
          -0.4517342035227171,
          -1.2515177116236966,
          -1.2566996189796187,
          -0.8399631100453271,
          -0.9115025384574054,
          2.4240448138351303,
          0.5895441677219353,
          -1.0812932141466554,
          -1.7078041853217922,
          -0.14992684171105214,
          0.8871041754357647,
          0.6283527413632835,
          1.8381784632117784,
          0.5053018276988172,
          1.8475439808284297,
          1.166041725122795,
          -0.29431882743646687,
          -0.8460284506774276,
          -1.1743906199072016,
          0.38758253290096834,
          1.5379256032546114,
          0.7316435087965406,
          -1.884974333803034,
          -0.3803906278167745,
          -0.08497089850903755,
          1.2408957059769854,
          -0.6753846928418495,
          0.9156462926382902,
          1.3807542463333473,
          -1.8741582993186412,
          -0.3036013953088359,
          -1.0424954733411067,
          1.4179918699988154,
          -1.7072056935387365,
          1.5472728948676164,
          -0.12272100040546663,
          -1.595057358505455,
          0.15378752892540087,
          -1.5158020234453171,
          0.357573692738794,
          0.030330024714612103,
          0.5305137448733312,
          0.5063646604904707,
          -1.3044749851609672,
          -0.9238000638360813,
          -0.8593459950759887,
          -0.8880271347937015,
          -0.639354663043884,
          -0.21638696058562235,
          0.5305137448733312,
          0.37923363811656174,
          -0.9978701583672693,
          0.24931731321976958,
          0.05756227228147898,
          -1.239745407526525,
          1.2780601949513632,
          -0.10863399808959105,
          -0.21077934012603594,
          -0.2912004681118574,
          -1.831950533468687,
          -0.04918443827665817,
          1.331981022835165,
          0.38011871476673353,
          -0.5547483724496387,
          -0.4773991991054308,
          -0.01885776832635384,
          2.0836076419503633,
          0.5019017353093824,
          1.1648262126899322,
          -0.3326741058271956,
          -0.5674857997059611,
          -0.21335053062717102,
          -0.3794735839171124,
          1.5669198703542766,
          -1.2522278650519019,
          1.4733934612814474,
          0.2950302432713381,
          -0.39116971003047674,
          1.950613474064665,
          -1.3039572485581095,
          -0.2646141027048185,
          1.1745371841270866,
          0.7332049553664663,
          0.40787226982286423,
          -0.07004096082370657,
          0.9641079920302198,
          -0.7510364354350768,
          -0.5507022164536525,
          -0.3803906278167745,
          0.5946382945529708,
          1.1556929985029454,
          0.24728461617851982,
          -1.5282662275836496,
          0.829402366084889,
          -1.0524652240916001,
          0.16304731435805708,
          1.4641369891503087,
          0.15378752892540087,
          1.6818403861385869,
          5.352922139978525,
          0.1868434615925728,
          0.48893787080129286,
          -0.4506482465367688,
          1.3891756534309911,
          0.8580076675688515,
          0.30880283581300594,
          0.9417726671756758,
          0.5053018276988172,
          0.9156462926382902,
          0.27970006587244417,
          1.046388259836174,
          -1.3612332448930298,
          0.6049897975120024,
          -0.06543314271054644,
          -1.010899622586424,
          0.9579782613824824,
          0.7252543780893794,
          -1.3691288925158884,
          1.3807542463333473,
          0.725744656785504,
          1.6015116018523161,
          -0.13594760851284793,
          0.33530494141241024,
          -1.4934173404772872,
          0.6746094015062992,
          -0.371064348974945,
          -1.3037552248843787,
          -0.5547483724496387,
          1.1401731485444337,
          0.7316435087965406,
          -0.7704485369415051,
          1.3090641217705818,
          0.5606042947988116,
          1.5022066465148687,
          2.0043866121606286,
          -0.15732058294772397,
          -1.1880424085191374,
          0.6165824461466304,
          0.8794436105115679,
          0.18350594168391163,
          -0.6227415537368794,
          0.5190881755162117,
          -0.8512030334429361,
          -1.5624517801767122,
          1.7557378683621827,
          0.4721882153099687,
          -1.7470268311650856,
          -0.44389495120081185,
          -0.8351537643912856,
          0.35668345877114155,
          0.7145994336932922,
          0.5244451833780398,
          -0.8487825870093844,
          1.6538498614795016,
          -0.03971594990327684,
          -0.6578821407402715,
          0.38700835217415064,
          -1.0429267048070432,
          0.3960769123295732,
          0.3256760080351887,
          -1.0696500851664306,
          -2.4987004748335857,
          -0.9746776732692466,
          0.37923363811656174,
          -0.5709870751502787,
          0.26227557067209484,
          -0.24695538881771711,
          -1.1473221196668018,
          -0.04918443827665817,
          0.23989386642119742,
          0.3184997323551704,
          -1.0629697147962025,
          0.6701186728272667,
          0.5128595234323331,
          0.6320329944542736,
          -1.1731659078567216,
          0.039528241197417824,
          -1.2699522862309285,
          0.8565716807479704,
          -0.8977872724627437,
          -0.9708116225943402,
          0.19182873460466876,
          0.2336292575059844,
          2.269289902502933,
          -1.2140561129124097,
          0.34713742175275764,
          0.5502602614314639,
          1.2058020229639115,
          -0.0015168394811906059,
          -0.7817080683037348,
          0.003485678210361498,
          2.0420153760900126,
          0.18692710899928672,
          -0.12300009092959195,
          0.36814325094291017,
          -0.400386090162646,
          -0.1994719902143498,
          -1.1465289568917794,
          1.4463457173646672,
          0.5128595234323331,
          0.15378752892540087,
          -2.3860029596240153,
          -2.4987004748335857,
          -1.1582283307065233,
          1.4479555874953753,
          -1.862573590002718,
          -1.2420327374698021,
          -0.04068580996693211,
          0.438848747720421,
          -0.14548901372378237,
          -0.3416944929342746,
          0.3362875277756875,
          -0.5362284339621711,
          -0.30355757161495994,
          -0.201790917400626,
          -0.3834299342076802,
          0.2984948984455817,
          -0.16419004276169927,
          -0.32853661451038546,
          -0.13789561006506768,
          1.1217152075848607,
          -0.1994719902143498,
          0.6320329944542736,
          1.6448251820466133,
          0.5175894427156379,
          0.35953353010245925,
          -0.5868463926733776,
          -0.21638696058562235,
          0.603797566344628,
          -1.7078041853217922,
          -0.6879302509236638,
          0.6495738899162601,
          2.8036382792768384,
          1.224707845168953,
          -0.11110506202532555,
          -0.4378103785794069,
          -0.06382234426592036,
          -1.4428815635037526,
          -0.3996679623842371,
          -0.41395652259150884,
          -0.7817080683037348,
          -0.7649194839950852,
          -0.29804713396409854,
          -0.5362284339621711,
          -1.3567671205439993,
          -1.2381446354935117,
          -1.5597349131799128,
          4.945017934913604,
          -1.0994721332100108,
          0.6634165306118028,
          0.5923170445509968,
          0.6701186728272667,
          -0.8396674041662843
         ],
         "xaxis": "x",
         "y": [
          "Ridge",
          "Ridge",
          "Ridge",
          "Ridge",
          "Ridge",
          "Ridge",
          "Ridge",
          "Ridge",
          "Ridge",
          "Ridge",
          "Ridge",
          "Ridge",
          "Ridge",
          "Ridge",
          "Ridge",
          "Ridge",
          "Ridge",
          "Ridge",
          "Ridge",
          "Ridge",
          "Ridge",
          "Ridge",
          "Ridge",
          "Ridge",
          "Ridge",
          "Ridge",
          "Ridge",
          "Ridge",
          "Ridge",
          "Ridge",
          "Ridge",
          "Ridge",
          "Ridge",
          "Ridge",
          "Ridge",
          "Ridge",
          "Ridge",
          "Ridge",
          "Ridge",
          "Ridge",
          "Ridge",
          "Ridge",
          "Ridge",
          "Ridge",
          "Ridge",
          "Ridge",
          "Ridge",
          "Ridge",
          "Ridge",
          "Ridge",
          "Ridge",
          "Ridge",
          "Ridge",
          "Ridge",
          "Ridge",
          "Ridge",
          "Ridge",
          "Ridge",
          "Ridge",
          "Ridge",
          "Ridge",
          "Ridge",
          "Ridge",
          "Ridge",
          "Ridge",
          "Ridge",
          "Ridge",
          "Ridge",
          "Ridge",
          "Ridge",
          "Ridge",
          "Ridge",
          "Ridge",
          "Ridge",
          "Ridge",
          "Ridge",
          "Ridge",
          "Ridge",
          "Ridge",
          "Ridge",
          "Ridge",
          "Ridge",
          "Ridge",
          "Ridge",
          "Ridge",
          "Ridge",
          "Ridge",
          "Ridge",
          "Ridge",
          "Ridge",
          "Ridge",
          "Ridge",
          "Ridge",
          "Ridge",
          "Ridge",
          "Ridge",
          "Ridge",
          "Ridge",
          "Ridge",
          "Ridge",
          "Ridge",
          "Ridge",
          "Ridge",
          "Ridge",
          "Ridge",
          "Ridge",
          "Ridge",
          "Ridge",
          "Ridge",
          "Ridge",
          "Ridge",
          "Ridge",
          "Ridge",
          "Ridge",
          "Ridge",
          "Ridge",
          "Ridge",
          "Ridge",
          "Ridge",
          "Ridge",
          "Ridge",
          "Ridge",
          "Ridge",
          "Ridge",
          "Ridge",
          "Ridge",
          "Ridge",
          "Ridge",
          "Ridge",
          "Ridge",
          "Ridge",
          "Ridge",
          "Ridge",
          "Ridge",
          "Ridge",
          "Ridge",
          "Ridge",
          "Ridge",
          "Ridge",
          "Ridge",
          "Ridge",
          "Ridge",
          "Ridge",
          "Ridge",
          "Ridge",
          "Ridge",
          "Ridge",
          "Ridge",
          "Ridge",
          "Ridge",
          "Ridge",
          "Ridge",
          "Ridge",
          "Ridge",
          "Ridge",
          "Ridge",
          "Ridge",
          "Ridge",
          "Ridge",
          "Ridge",
          "Ridge",
          "Ridge",
          "Ridge",
          "Ridge",
          "Ridge",
          "Ridge",
          "Ridge",
          "Ridge",
          "Ridge",
          "Ridge",
          "Ridge",
          "Ridge",
          "Ridge",
          "Ridge",
          "Ridge",
          "Ridge",
          "Ridge",
          "Ridge",
          "Ridge",
          "Ridge",
          "Ridge",
          "Ridge",
          "Ridge",
          "Ridge",
          "Ridge",
          "Ridge",
          "Ridge",
          "Ridge",
          "Ridge",
          "Ridge",
          "Ridge",
          "Ridge",
          "Ridge",
          "Ridge",
          "Ridge",
          "Ridge",
          "Ridge",
          "Ridge",
          "Ridge",
          "Ridge",
          "Ridge",
          "Ridge",
          "Ridge",
          "Ridge",
          "Ridge",
          "Ridge",
          "Ridge",
          "Ridge",
          "Ridge",
          "Ridge",
          "Ridge",
          "Ridge",
          "Ridge",
          "Ridge",
          "Ridge",
          "Ridge",
          "Ridge",
          "Ridge",
          "Ridge",
          "Ridge",
          "Ridge",
          "Ridge",
          "Ridge",
          "Ridge",
          "Ridge",
          "Ridge",
          "Ridge",
          "Ridge",
          "Ridge",
          "Ridge",
          "Ridge",
          "Ridge",
          "Ridge",
          "Ridge",
          "Ridge",
          "Ridge",
          "Ridge",
          "Ridge",
          "Ridge",
          "Ridge",
          "Ridge",
          "Ridge",
          "Ridge",
          "Ridge",
          "Ridge",
          "Ridge",
          "Ridge",
          "Ridge",
          "Ridge",
          "Ridge",
          "Ridge",
          "Ridge",
          "Ridge",
          "Ridge",
          "Ridge",
          "Ridge",
          "Ridge",
          "Ridge",
          "Ridge",
          "Ridge",
          "Ridge",
          "Ridge",
          "Ridge",
          "Ridge",
          "Ridge",
          "Ridge",
          "Ridge",
          "Ridge",
          "Ridge",
          "Ridge"
         ],
         "yaxis": "y2"
        }
       ],
       "layout": {
        "autosize": true,
        "barmode": "overlay",
        "hovermode": "closest",
        "legend": {
         "traceorder": "reversed"
        },
        "template": {
         "data": {
          "bar": [
           {
            "error_x": {
             "color": "#2a3f5f"
            },
            "error_y": {
             "color": "#2a3f5f"
            },
            "marker": {
             "line": {
              "color": "#E5ECF6",
              "width": 0.5
             },
             "pattern": {
              "fillmode": "overlay",
              "size": 10,
              "solidity": 0.2
             }
            },
            "type": "bar"
           }
          ],
          "barpolar": [
           {
            "marker": {
             "line": {
              "color": "#E5ECF6",
              "width": 0.5
             },
             "pattern": {
              "fillmode": "overlay",
              "size": 10,
              "solidity": 0.2
             }
            },
            "type": "barpolar"
           }
          ],
          "carpet": [
           {
            "aaxis": {
             "endlinecolor": "#2a3f5f",
             "gridcolor": "white",
             "linecolor": "white",
             "minorgridcolor": "white",
             "startlinecolor": "#2a3f5f"
            },
            "baxis": {
             "endlinecolor": "#2a3f5f",
             "gridcolor": "white",
             "linecolor": "white",
             "minorgridcolor": "white",
             "startlinecolor": "#2a3f5f"
            },
            "type": "carpet"
           }
          ],
          "choropleth": [
           {
            "colorbar": {
             "outlinewidth": 0,
             "ticks": ""
            },
            "type": "choropleth"
           }
          ],
          "contour": [
           {
            "colorbar": {
             "outlinewidth": 0,
             "ticks": ""
            },
            "colorscale": [
             [
              0,
              "#0d0887"
             ],
             [
              0.1111111111111111,
              "#46039f"
             ],
             [
              0.2222222222222222,
              "#7201a8"
             ],
             [
              0.3333333333333333,
              "#9c179e"
             ],
             [
              0.4444444444444444,
              "#bd3786"
             ],
             [
              0.5555555555555556,
              "#d8576b"
             ],
             [
              0.6666666666666666,
              "#ed7953"
             ],
             [
              0.7777777777777778,
              "#fb9f3a"
             ],
             [
              0.8888888888888888,
              "#fdca26"
             ],
             [
              1,
              "#f0f921"
             ]
            ],
            "type": "contour"
           }
          ],
          "contourcarpet": [
           {
            "colorbar": {
             "outlinewidth": 0,
             "ticks": ""
            },
            "type": "contourcarpet"
           }
          ],
          "heatmap": [
           {
            "colorbar": {
             "outlinewidth": 0,
             "ticks": ""
            },
            "colorscale": [
             [
              0,
              "#0d0887"
             ],
             [
              0.1111111111111111,
              "#46039f"
             ],
             [
              0.2222222222222222,
              "#7201a8"
             ],
             [
              0.3333333333333333,
              "#9c179e"
             ],
             [
              0.4444444444444444,
              "#bd3786"
             ],
             [
              0.5555555555555556,
              "#d8576b"
             ],
             [
              0.6666666666666666,
              "#ed7953"
             ],
             [
              0.7777777777777778,
              "#fb9f3a"
             ],
             [
              0.8888888888888888,
              "#fdca26"
             ],
             [
              1,
              "#f0f921"
             ]
            ],
            "type": "heatmap"
           }
          ],
          "heatmapgl": [
           {
            "colorbar": {
             "outlinewidth": 0,
             "ticks": ""
            },
            "colorscale": [
             [
              0,
              "#0d0887"
             ],
             [
              0.1111111111111111,
              "#46039f"
             ],
             [
              0.2222222222222222,
              "#7201a8"
             ],
             [
              0.3333333333333333,
              "#9c179e"
             ],
             [
              0.4444444444444444,
              "#bd3786"
             ],
             [
              0.5555555555555556,
              "#d8576b"
             ],
             [
              0.6666666666666666,
              "#ed7953"
             ],
             [
              0.7777777777777778,
              "#fb9f3a"
             ],
             [
              0.8888888888888888,
              "#fdca26"
             ],
             [
              1,
              "#f0f921"
             ]
            ],
            "type": "heatmapgl"
           }
          ],
          "histogram": [
           {
            "marker": {
             "pattern": {
              "fillmode": "overlay",
              "size": 10,
              "solidity": 0.2
             }
            },
            "type": "histogram"
           }
          ],
          "histogram2d": [
           {
            "colorbar": {
             "outlinewidth": 0,
             "ticks": ""
            },
            "colorscale": [
             [
              0,
              "#0d0887"
             ],
             [
              0.1111111111111111,
              "#46039f"
             ],
             [
              0.2222222222222222,
              "#7201a8"
             ],
             [
              0.3333333333333333,
              "#9c179e"
             ],
             [
              0.4444444444444444,
              "#bd3786"
             ],
             [
              0.5555555555555556,
              "#d8576b"
             ],
             [
              0.6666666666666666,
              "#ed7953"
             ],
             [
              0.7777777777777778,
              "#fb9f3a"
             ],
             [
              0.8888888888888888,
              "#fdca26"
             ],
             [
              1,
              "#f0f921"
             ]
            ],
            "type": "histogram2d"
           }
          ],
          "histogram2dcontour": [
           {
            "colorbar": {
             "outlinewidth": 0,
             "ticks": ""
            },
            "colorscale": [
             [
              0,
              "#0d0887"
             ],
             [
              0.1111111111111111,
              "#46039f"
             ],
             [
              0.2222222222222222,
              "#7201a8"
             ],
             [
              0.3333333333333333,
              "#9c179e"
             ],
             [
              0.4444444444444444,
              "#bd3786"
             ],
             [
              0.5555555555555556,
              "#d8576b"
             ],
             [
              0.6666666666666666,
              "#ed7953"
             ],
             [
              0.7777777777777778,
              "#fb9f3a"
             ],
             [
              0.8888888888888888,
              "#fdca26"
             ],
             [
              1,
              "#f0f921"
             ]
            ],
            "type": "histogram2dcontour"
           }
          ],
          "mesh3d": [
           {
            "colorbar": {
             "outlinewidth": 0,
             "ticks": ""
            },
            "type": "mesh3d"
           }
          ],
          "parcoords": [
           {
            "line": {
             "colorbar": {
              "outlinewidth": 0,
              "ticks": ""
             }
            },
            "type": "parcoords"
           }
          ],
          "pie": [
           {
            "automargin": true,
            "type": "pie"
           }
          ],
          "scatter": [
           {
            "marker": {
             "colorbar": {
              "outlinewidth": 0,
              "ticks": ""
             }
            },
            "type": "scatter"
           }
          ],
          "scatter3d": [
           {
            "line": {
             "colorbar": {
              "outlinewidth": 0,
              "ticks": ""
             }
            },
            "marker": {
             "colorbar": {
              "outlinewidth": 0,
              "ticks": ""
             }
            },
            "type": "scatter3d"
           }
          ],
          "scattercarpet": [
           {
            "marker": {
             "colorbar": {
              "outlinewidth": 0,
              "ticks": ""
             }
            },
            "type": "scattercarpet"
           }
          ],
          "scattergeo": [
           {
            "marker": {
             "colorbar": {
              "outlinewidth": 0,
              "ticks": ""
             }
            },
            "type": "scattergeo"
           }
          ],
          "scattergl": [
           {
            "marker": {
             "colorbar": {
              "outlinewidth": 0,
              "ticks": ""
             }
            },
            "type": "scattergl"
           }
          ],
          "scattermapbox": [
           {
            "marker": {
             "colorbar": {
              "outlinewidth": 0,
              "ticks": ""
             }
            },
            "type": "scattermapbox"
           }
          ],
          "scatterpolar": [
           {
            "marker": {
             "colorbar": {
              "outlinewidth": 0,
              "ticks": ""
             }
            },
            "type": "scatterpolar"
           }
          ],
          "scatterpolargl": [
           {
            "marker": {
             "colorbar": {
              "outlinewidth": 0,
              "ticks": ""
             }
            },
            "type": "scatterpolargl"
           }
          ],
          "scatterternary": [
           {
            "marker": {
             "colorbar": {
              "outlinewidth": 0,
              "ticks": ""
             }
            },
            "type": "scatterternary"
           }
          ],
          "surface": [
           {
            "colorbar": {
             "outlinewidth": 0,
             "ticks": ""
            },
            "colorscale": [
             [
              0,
              "#0d0887"
             ],
             [
              0.1111111111111111,
              "#46039f"
             ],
             [
              0.2222222222222222,
              "#7201a8"
             ],
             [
              0.3333333333333333,
              "#9c179e"
             ],
             [
              0.4444444444444444,
              "#bd3786"
             ],
             [
              0.5555555555555556,
              "#d8576b"
             ],
             [
              0.6666666666666666,
              "#ed7953"
             ],
             [
              0.7777777777777778,
              "#fb9f3a"
             ],
             [
              0.8888888888888888,
              "#fdca26"
             ],
             [
              1,
              "#f0f921"
             ]
            ],
            "type": "surface"
           }
          ],
          "table": [
           {
            "cells": {
             "fill": {
              "color": "#EBF0F8"
             },
             "line": {
              "color": "white"
             }
            },
            "header": {
             "fill": {
              "color": "#C8D4E3"
             },
             "line": {
              "color": "white"
             }
            },
            "type": "table"
           }
          ]
         },
         "layout": {
          "annotationdefaults": {
           "arrowcolor": "#2a3f5f",
           "arrowhead": 0,
           "arrowwidth": 1
          },
          "autotypenumbers": "strict",
          "coloraxis": {
           "colorbar": {
            "outlinewidth": 0,
            "ticks": ""
           }
          },
          "colorscale": {
           "diverging": [
            [
             0,
             "#8e0152"
            ],
            [
             0.1,
             "#c51b7d"
            ],
            [
             0.2,
             "#de77ae"
            ],
            [
             0.3,
             "#f1b6da"
            ],
            [
             0.4,
             "#fde0ef"
            ],
            [
             0.5,
             "#f7f7f7"
            ],
            [
             0.6,
             "#e6f5d0"
            ],
            [
             0.7,
             "#b8e186"
            ],
            [
             0.8,
             "#7fbc41"
            ],
            [
             0.9,
             "#4d9221"
            ],
            [
             1,
             "#276419"
            ]
           ],
           "sequential": [
            [
             0,
             "#0d0887"
            ],
            [
             0.1111111111111111,
             "#46039f"
            ],
            [
             0.2222222222222222,
             "#7201a8"
            ],
            [
             0.3333333333333333,
             "#9c179e"
            ],
            [
             0.4444444444444444,
             "#bd3786"
            ],
            [
             0.5555555555555556,
             "#d8576b"
            ],
            [
             0.6666666666666666,
             "#ed7953"
            ],
            [
             0.7777777777777778,
             "#fb9f3a"
            ],
            [
             0.8888888888888888,
             "#fdca26"
            ],
            [
             1,
             "#f0f921"
            ]
           ],
           "sequentialminus": [
            [
             0,
             "#0d0887"
            ],
            [
             0.1111111111111111,
             "#46039f"
            ],
            [
             0.2222222222222222,
             "#7201a8"
            ],
            [
             0.3333333333333333,
             "#9c179e"
            ],
            [
             0.4444444444444444,
             "#bd3786"
            ],
            [
             0.5555555555555556,
             "#d8576b"
            ],
            [
             0.6666666666666666,
             "#ed7953"
            ],
            [
             0.7777777777777778,
             "#fb9f3a"
            ],
            [
             0.8888888888888888,
             "#fdca26"
            ],
            [
             1,
             "#f0f921"
            ]
           ]
          },
          "colorway": [
           "#636efa",
           "#EF553B",
           "#00cc96",
           "#ab63fa",
           "#FFA15A",
           "#19d3f3",
           "#FF6692",
           "#B6E880",
           "#FF97FF",
           "#FECB52"
          ],
          "font": {
           "color": "#2a3f5f"
          },
          "geo": {
           "bgcolor": "white",
           "lakecolor": "white",
           "landcolor": "#E5ECF6",
           "showlakes": true,
           "showland": true,
           "subunitcolor": "white"
          },
          "hoverlabel": {
           "align": "left"
          },
          "hovermode": "closest",
          "mapbox": {
           "style": "light"
          },
          "paper_bgcolor": "white",
          "plot_bgcolor": "#E5ECF6",
          "polar": {
           "angularaxis": {
            "gridcolor": "white",
            "linecolor": "white",
            "ticks": ""
           },
           "bgcolor": "#E5ECF6",
           "radialaxis": {
            "gridcolor": "white",
            "linecolor": "white",
            "ticks": ""
           }
          },
          "scene": {
           "xaxis": {
            "backgroundcolor": "#E5ECF6",
            "gridcolor": "white",
            "gridwidth": 2,
            "linecolor": "white",
            "showbackground": true,
            "ticks": "",
            "zerolinecolor": "white"
           },
           "yaxis": {
            "backgroundcolor": "#E5ECF6",
            "gridcolor": "white",
            "gridwidth": 2,
            "linecolor": "white",
            "showbackground": true,
            "ticks": "",
            "zerolinecolor": "white"
           },
           "zaxis": {
            "backgroundcolor": "#E5ECF6",
            "gridcolor": "white",
            "gridwidth": 2,
            "linecolor": "white",
            "showbackground": true,
            "ticks": "",
            "zerolinecolor": "white"
           }
          },
          "shapedefaults": {
           "line": {
            "color": "#2a3f5f"
           }
          },
          "ternary": {
           "aaxis": {
            "gridcolor": "white",
            "linecolor": "white",
            "ticks": ""
           },
           "baxis": {
            "gridcolor": "white",
            "linecolor": "white",
            "ticks": ""
           },
           "bgcolor": "#E5ECF6",
           "caxis": {
            "gridcolor": "white",
            "linecolor": "white",
            "ticks": ""
           }
          },
          "title": {
           "x": 0.05
          },
          "xaxis": {
           "automargin": true,
           "gridcolor": "white",
           "linecolor": "white",
           "ticks": "",
           "title": {
            "standoff": 15
           },
           "zerolinecolor": "white",
           "zerolinewidth": 2
          },
          "yaxis": {
           "automargin": true,
           "gridcolor": "white",
           "linecolor": "white",
           "ticks": "",
           "title": {
            "standoff": 15
           },
           "zerolinecolor": "white",
           "zerolinewidth": 2
          }
         }
        },
        "xaxis": {
         "anchor": "y2",
         "autorange": true,
         "domain": [
          0,
          1
         ],
         "range": [
          -5.827182435371825,
          7.330499846619275
         ],
         "type": "linear",
         "zeroline": false
        },
        "yaxis": {
         "anchor": "free",
         "autorange": true,
         "domain": [
          0.35,
          1
         ],
         "position": 0,
         "range": [
          -0.49588477366255146,
          9.421810699588477
         ],
         "type": "linear"
        },
        "yaxis2": {
         "anchor": "x",
         "autorange": true,
         "domain": [
          0,
          0.25
         ],
         "dtick": 1,
         "range": [
          -0.18181818181818182,
          1.1818181818181819
         ],
         "showticklabels": false,
         "type": "category"
        }
       }
      },
      "image/png": "[encoded data removed]",
      "text/html": [
       "<div>                            <div id=\"2863dfc3-f583-4778-aee8-f97a807ccf99\" class=\"plotly-graph-div\" style=\"height:525px; width:100%;\"></div>            <script type=\"text/javascript\">                require([\"plotly\"], function(Plotly) {                    window.PLOTLYENV=window.PLOTLYENV || {};                                    if (document.getElementById(\"2863dfc3-f583-4778-aee8-f97a807ccf99\")) {                    Plotly.newPlot(                        \"2863dfc3-f583-4778-aee8-f97a807ccf99\",                        [{\"autobinx\":false,\"histnorm\":\"probability density\",\"legendgroup\":\"Lasso\",\"marker\":{\"color\":\"rgb(31, 119, 180)\"},\"name\":\"Lasso\",\"opacity\":0.7,\"type\":\"histogram\",\"x\":[-0.2988645822136683,0.3408157190759778,0.0,-5.0775858518346,-0.011546218132248353,2.50475330358318,0.0,0.0,-1.2254666741348454,0.0,0.0,-0.0,-0.0,-0.0,-0.0,0.8911508709272506,0.0,-0.0,-0.0,-0.0,-0.0,-0.0,0.48261306316596353,0.0,-0.0,-0.0,-0.0,0.0,0.0,0.29259736827072497,0.0,0.0,0.0,-0.0,-0.0,-0.0,0.0,0.0,0.0,-0.0,-0.0,-0.0,0.0,-0.0,0.0,0.0,-0.0,0.0,-0.0,0.0,-0.0,0.0,-0.0,-0.0,0.0,-0.0,0.0,-0.0,0.0,0.0,-0.8137493295508568,-0.0,-0.0,-0.0,-0.0,-0.0,0.0,0.0,-0.0,0.0,0.0,-0.0,0.0,0.0,-0.0,-0.0,-0.0,-0.0,0.0,0.0,-0.0,-0.0,-0.0,0.0,0.0,0.0,-0.0,-0.0,-0.0,-0.0,0.0,-0.0,0.857715591775868,-0.0,-0.0,1.1721102608593408,-0.0,-0.0,0.2887092608544712,0.0,0.0,-0.0,0.0,-0.0,-0.0,-0.0,0.20926544012577397,0.0,0.0,-0.0,0.0,-0.0,-0.0,1.5557826281399485,0.0,0.0,5.60868688487343,-0.0,0.0,-0.0,0.0,0.0,0.0,0.0,0.0,0.0,0.0,0.0,-0.0,0.0,-0.0,-0.5834694165847317,0.0,0.0,-0.0,0.0,-0.0,0.0,-0.0,0.0,-0.0,0.0,-0.0,-0.0,-0.0,0.0,0.0,-0.0,0.5677323661704804,0.0,1.6083497158913294,1.1672531907630226,-0.0,-0.6403255347633285,0.0,0.0,0.0,-0.0,0.0,-0.0,-0.0,0.0,0.0,-0.0,-0.0,-0.0,0.0,0.0,0.0,-0.0,0.0,0.0,-0.0,0.0,-0.0,0.0,0.0,-0.0,-0.40210406095102963,-0.0,0.0,-0.0,-0.0,-0.0,-0.0,-0.0,-0.0,0.0,-0.0,0.0,0.0,0.0,-0.0,0.0,-0.0,0.0,-0.0,-0.0,0.0,0.0,0.0,-0.0,0.0,0.7072730612261542,1.6226804361881382,0.0,-0.0,-0.0,0.4051983255690641,0.0,-0.0,0.0,-0.0,-0.0,-0.0,1.224714232790628,0.0,0.0,-1.1811727255510334,-0.003019012500058569,-0.0,0.0,-0.0,-0.0,0.0,0.0,-0.0,-0.0,0.0,-0.0,-0.0,-0.0,-0.0,0.0,-0.0,-0.0,0.0,0.0,-0.0,0.0,0.0,0.0,0.0,-0.0,-0.0,0.19289042452120514,-0.0,-0.0,0.0,0.953787565634395,0.0,-0.0,-0.0,-0.0,-0.0,-0.0,-0.0,-0.0,-0.0,-0.0,-0.0,-0.0,-0.0,-0.0,6.58090326308205,-0.0,0.0,0.0,0.0,-0.0],\"xaxis\":\"x\",\"xbins\":{\"end\":6.58090326308205,\"size\":0.1,\"start\":-5.0775858518346},\"yaxis\":\"y\"},{\"autobinx\":false,\"histnorm\":\"probability density\",\"legendgroup\":\"Ridge\",\"marker\":{\"color\":\"rgb(255, 127, 14)\"},\"name\":\"Ridge\",\"opacity\":0.7,\"type\":\"histogram\",\"x\":[-1.1129087993281528,0.829414466269498,-0.5787984166483763,-4.49172202309614,-0.32314439645821635,2.5528447784976023,0.6441174358239381,0.1409552018869279,-0.7850726377109035,0.7655534592395417,0.35668345877114155,-1.5694262616056696,0.26227557067209484,-0.25740342390750737,-0.7824098482842659,2.5934921160921234,0.5606042947988116,-0.4517342035227171,-1.2515177116236966,-1.2566996189796187,-0.8399631100453271,-0.9115025384574054,2.4240448138351303,0.5895441677219353,-1.0812932141466554,-1.7078041853217922,-0.14992684171105214,0.8871041754357647,0.6283527413632835,1.8381784632117784,0.5053018276988172,1.8475439808284297,1.166041725122795,-0.29431882743646687,-0.8460284506774276,-1.1743906199072016,0.38758253290096834,1.5379256032546114,0.7316435087965406,-1.884974333803034,-0.3803906278167745,-0.08497089850903755,1.2408957059769854,-0.6753846928418495,0.9156462926382902,1.3807542463333473,-1.8741582993186412,-0.3036013953088359,-1.0424954733411067,1.4179918699988154,-1.7072056935387365,1.5472728948676164,-0.12272100040546663,-1.595057358505455,0.15378752892540087,-1.5158020234453171,0.357573692738794,0.030330024714612103,0.5305137448733312,0.5063646604904707,-1.3044749851609672,-0.9238000638360813,-0.8593459950759887,-0.8880271347937015,-0.639354663043884,-0.21638696058562235,0.5305137448733312,0.37923363811656174,-0.9978701583672693,0.24931731321976958,0.05756227228147898,-1.239745407526525,1.2780601949513632,-0.10863399808959105,-0.21077934012603594,-0.2912004681118574,-1.831950533468687,-0.04918443827665817,1.331981022835165,0.38011871476673353,-0.5547483724496387,-0.4773991991054308,-0.01885776832635384,2.0836076419503633,0.5019017353093824,1.1648262126899322,-0.3326741058271956,-0.5674857997059611,-0.21335053062717102,-0.3794735839171124,1.5669198703542766,-1.2522278650519019,1.4733934612814474,0.2950302432713381,-0.39116971003047674,1.950613474064665,-1.3039572485581095,-0.2646141027048185,1.1745371841270866,0.7332049553664663,0.40787226982286423,-0.07004096082370657,0.9641079920302198,-0.7510364354350768,-0.5507022164536525,-0.3803906278167745,0.5946382945529708,1.1556929985029454,0.24728461617851982,-1.5282662275836496,0.829402366084889,-1.0524652240916001,0.16304731435805708,1.4641369891503087,0.15378752892540087,1.6818403861385869,5.352922139978525,0.1868434615925728,0.48893787080129286,-0.4506482465367688,1.3891756534309911,0.8580076675688515,0.30880283581300594,0.9417726671756758,0.5053018276988172,0.9156462926382902,0.27970006587244417,1.046388259836174,-1.3612332448930298,0.6049897975120024,-0.06543314271054644,-1.010899622586424,0.9579782613824824,0.7252543780893794,-1.3691288925158884,1.3807542463333473,0.725744656785504,1.6015116018523161,-0.13594760851284793,0.33530494141241024,-1.4934173404772872,0.6746094015062992,-0.371064348974945,-1.3037552248843787,-0.5547483724496387,1.1401731485444337,0.7316435087965406,-0.7704485369415051,1.3090641217705818,0.5606042947988116,1.5022066465148687,2.0043866121606286,-0.15732058294772397,-1.1880424085191374,0.6165824461466304,0.8794436105115679,0.18350594168391163,-0.6227415537368794,0.5190881755162117,-0.8512030334429361,-1.5624517801767122,1.7557378683621827,0.4721882153099687,-1.7470268311650856,-0.44389495120081185,-0.8351537643912856,0.35668345877114155,0.7145994336932922,0.5244451833780398,-0.8487825870093844,1.6538498614795016,-0.03971594990327684,-0.6578821407402715,0.38700835217415064,-1.0429267048070432,0.3960769123295732,0.3256760080351887,-1.0696500851664306,-2.4987004748335857,-0.9746776732692466,0.37923363811656174,-0.5709870751502787,0.26227557067209484,-0.24695538881771711,-1.1473221196668018,-0.04918443827665817,0.23989386642119742,0.3184997323551704,-1.0629697147962025,0.6701186728272667,0.5128595234323331,0.6320329944542736,-1.1731659078567216,0.039528241197417824,-1.2699522862309285,0.8565716807479704,-0.8977872724627437,-0.9708116225943402,0.19182873460466876,0.2336292575059844,2.269289902502933,-1.2140561129124097,0.34713742175275764,0.5502602614314639,1.2058020229639115,-0.0015168394811906059,-0.7817080683037348,0.003485678210361498,2.0420153760900126,0.18692710899928672,-0.12300009092959195,0.36814325094291017,-0.400386090162646,-0.1994719902143498,-1.1465289568917794,1.4463457173646672,0.5128595234323331,0.15378752892540087,-2.3860029596240153,-2.4987004748335857,-1.1582283307065233,1.4479555874953753,-1.862573590002718,-1.2420327374698021,-0.04068580996693211,0.438848747720421,-0.14548901372378237,-0.3416944929342746,0.3362875277756875,-0.5362284339621711,-0.30355757161495994,-0.201790917400626,-0.3834299342076802,0.2984948984455817,-0.16419004276169927,-0.32853661451038546,-0.13789561006506768,1.1217152075848607,-0.1994719902143498,0.6320329944542736,1.6448251820466133,0.5175894427156379,0.35953353010245925,-0.5868463926733776,-0.21638696058562235,0.603797566344628,-1.7078041853217922,-0.6879302509236638,0.6495738899162601,2.8036382792768384,1.224707845168953,-0.11110506202532555,-0.4378103785794069,-0.06382234426592036,-1.4428815635037526,-0.3996679623842371,-0.41395652259150884,-0.7817080683037348,-0.7649194839950852,-0.29804713396409854,-0.5362284339621711,-1.3567671205439993,-1.2381446354935117,-1.5597349131799128,4.945017934913604,-1.0994721332100108,0.6634165306118028,0.5923170445509968,0.6701186728272667,-0.8396674041662843],\"xaxis\":\"x\",\"xbins\":{\"end\":5.352922139978525,\"size\":0.1,\"start\":-4.49172202309614},\"yaxis\":\"y\"},{\"legendgroup\":\"Lasso\",\"marker\":{\"color\":\"rgb(31, 119, 180)\"},\"mode\":\"lines\",\"name\":\"Lasso\",\"showlegend\":false,\"type\":\"scatter\",\"x\":[-5.0775858518346,-5.054268873604767,-5.030951895374933,-5.007634917145101,-4.984317938915267,-4.961000960685434,-4.9376839824556,-4.914367004225767,-4.891050025995934,-4.867733047766101,-4.844416069536267,-4.821099091306434,-4.7977821130766,-4.774465134846768,-4.751148156616934,-4.727831178387101,-4.704514200157267,-4.681197221927434,-4.657880243697601,-4.634563265467768,-4.611246287237934,-4.587929309008101,-4.564612330778267,-4.541295352548435,-4.517978374318601,-4.494661396088768,-4.471344417858934,-4.448027439629101,-4.424710461399268,-4.401393483169435,-4.378076504939601,-4.354759526709768,-4.331442548479934,-4.308125570250101,-4.284808592020268,-4.261491613790435,-4.238174635560601,-4.214857657330768,-4.191540679100935,-4.168223700871102,-4.144906722641268,-4.121589744411435,-4.098272766181601,-4.074955787951769,-4.0516388097219345,-4.028321831492102,-4.005004853262268,-3.981687875032435,-3.9583708968026015,-3.9350539185727684,-3.9117369403429354,-3.888419962113102,-3.8651029838832685,-3.8417860056534354,-3.8184690274236024,-3.795152049193769,-3.7718350709639354,-3.748518092734102,-3.725201114504269,-3.7018841362744355,-3.6785671580446024,-3.655250179814769,-3.6319332015849355,-3.608616223355102,-3.585299245125269,-3.561982266895436,-3.5386652886656025,-3.515348310435769,-3.4920313322059355,-3.4687143539761025,-3.445397375746269,-3.422080397516436,-3.3987634192866025,-3.3754464410567695,-3.352129462826936,-3.328812484597103,-3.3054955063672695,-3.282178528137436,-3.2588615499076026,-3.2355445716777695,-3.2122275934479365,-3.188910615218103,-3.1655936369882696,-3.142276658758436,-3.118959680528603,-3.0956427022987696,-3.0723257240689366,-3.049008745839103,-3.0256917676092696,-3.0023747893794366,-2.979057811149603,-2.95574083291977,-2.9324238546899366,-2.9091068764601036,-2.88578989823027,-2.8624729200004366,-2.839155941770603,-2.81583896354077,-2.7925219853109366,-2.7692050070811036,-2.74588802885127,-2.722571050621437,-2.6992540723916036,-2.67593709416177,-2.652620115931937,-2.6293031377021037,-2.6059861594722706,-2.582669181242437,-2.559352203012604,-2.5360352247827707,-2.512718246552937,-2.4894012683231037,-2.4660842900932707,-2.442767311863437,-2.419450333633604,-2.3961333554037707,-2.3728163771739377,-2.3494993989441038,-2.3261824207142707,-2.3028654424844373,-2.2795484642546042,-2.256231486024771,-2.2329145077949377,-2.2095975295651047,-2.186280551335271,-2.1629635731054377,-2.1396465948756043,-2.1163296166457712,-2.0930126384159378,-2.0696956601861047,-2.0463786819562713,-2.0230617037264382,-1.9997447254966043,-1.9764277472667713,-1.9531107690369378,-1.9297937908071048,-1.9064768125772713,-1.8831598343474383,-1.8598428561176048,-1.8365258778877718,-1.8132088996579379,-1.7898919214281048,-1.7665749431982718,-1.7432579649684383,-1.7199409867386053,-1.6966240085087718,-1.6733070302789388,-1.6499900520491049,-1.6266730738192718,-1.6033560955894384,-1.5800391173596053,-1.5567221391297719,-1.5334051608999388,-1.5100881826701054,-1.4867712044402723,-1.4634542262104384,-1.4401372479806054,-1.416820269750772,-1.3935032915209389,-1.3701863132911054,-1.3468693350612724,-1.3235523568314393,-1.3002353786016054,-1.2769184003717724,-1.253601422141939,-1.230284443912106,-1.2069674656822724,-1.1836504874524394,-1.160333509222606,-1.137016530992773,-1.113699552762939,-1.090382574533106,-1.067065596303273,-1.0437486180734394,-1.020431639843606,-0.9971146616137725,-0.973797683383939,-0.9504807051541064,-0.927163726924273,-0.9038467486944395,-0.880529770464606,-0.8572127922347725,-0.83389581400494,-0.8105788357751065,-0.787261857545273,-0.7639448793154395,-0.7406279010856069,-0.7173109228557735,-0.69399394462594,-0.6706769663961065,-0.647359988166273,-0.6240430099364405,-0.6007260317066061,-0.5774090534767735,-0.55409207524694,-0.5307750970171075,-0.5074581187872731,-0.4841411405574396,-0.46082416232760703,-0.43750718409777356,-0.4141902058679401,-0.3908732276381066,-0.367556249408274,-0.34423927117844055,-0.3209222929486071,-0.2976053147187736,-0.27428833648894013,-0.25097135825910755,-0.22765438002927407,-0.2043374017994406,-0.18102042356960713,-0.15770344533977365,-0.13438646710994107,-0.1110694888801067,-0.08775251065027412,-0.06443553242044064,-0.04111855419060806,-0.017801575960773697,0.005515402269058889,0.028832380498892363,0.052149358728725836,0.07546633695855931,0.09878331518839278,0.12210029341822537,0.14541727164805884,0.16873424987789143,0.1920512281077258,0.21536820633755926,0.23868518456739185,0.2620021627972253,0.2853191410270588,0.30863611925689227,0.33195309748672486,0.35527007571655833,0.3785870539463927,0.4019040321762253,0.42522101040605875,0.44853798863589134,0.4718549668657257,0.4951719450955583,0.5184889233253918,0.5418059015552252,0.5651228797850578,0.5884398580148922,0.6117568362447248,0.6350738144745582,0.6583907927043908,0.6817077709342252,0.7050247491640578,0.7283417273938912,0.7516587056237247,0.7749756838535582,0.7982926620833917,0.8216096403132243,0.8449266185430577,0.8682435967728912,0.8915605750027247,0.9148775532325581,0.9381945314623907,0.9615115096922251,0.9848284879220577,1.0081454661518912,1.0314624443817237,1.0547794226115572,1.0780964008413916,1.1014133790712242,1.1247303573010576,1.1480473355308902,1.1713643137607246,1.1946812919905572,1.2179982702203906,1.2413152484502232,1.2646322266800576,1.287949204909891,1.3112661831397237,1.3345831613695571,1.3579001395993906,1.381217117829224,1.4045340960590567,1.4278510742888901,1.4511680525187245,1.474485030748557,1.4978020089783906,1.5211189872082231,1.5444359654380566,1.56775294366789,1.5910699218977236,1.614386900127557,1.6377038783573896,1.661020856587224,1.6843378348170566,1.70765481304689,1.7309717912767226,1.754288769506557,1.7776057477363905,1.800922725966223,1.8242397041960565,1.84755668242589,1.8708736606557235,1.894190638885556,1.9175076171153895,1.940824595345223,1.9641415735750565,1.98745855180489,2.0107755300347225,2.034092508264556,2.0574094864943895,2.080726464724223,2.1040434429540555,2.127360421183889,2.1506773994137234,2.173994377643556,2.1973113558733894,2.220628334103222,2.2439453123330564,2.267262290562889,2.2905792687927224,2.313896247022556,2.3372132252523894,2.360530203482223,2.3838471817120555,2.407164159941889,2.4304811381717215,2.453798116401556,2.4771150946313893,2.500432072861222,2.5237490510910554,2.547066029320889,2.5703830075507224,2.593699985780555,2.6170169640103884,2.640333942240222,2.6636509204700554,2.686967898699889,2.7102848769297214,2.733601855159556,2.7569188333893884,2.780235811619222,2.8035527898490544,2.826869768078889,2.8501867463087223,2.873503724538555,2.8968207027683883,2.920137680998221,2.9434546592280544,2.966771637457887,2.9900886156877213,3.0134055939175557,3.0367225721473883,3.060039550377221,3.0833565286070552,3.106673506836888,3.129990485066722,3.153307463296553,3.1766244415263873,3.1999414197562217,3.2232583979860543,3.2465753762158887,3.2698923544457212,3.293209332675554,3.316526310905388,3.3398432891352208,3.363160267365055,3.3864772455948877,3.4097942238247203,3.4331112020545547,3.4564281802843873,3.47974515851422,3.503062136744054,3.526379114973887,3.549696093203721,3.5730130714335555,3.5963300496633863,3.6196470278932207,3.6429640061230533,3.6662809843528876,3.68959796258272,3.712914940812553,3.736231919042387,3.7595488972722215,3.782865875502054,3.8061828537318867,3.8294998319617193,3.8528168101915536,3.876133788421388,3.8994507666512206,3.922767744881053,3.9460847231108858,3.96940170134072,3.9927186795705545,4.016035657800385,4.03935263603022,4.062669614260054,4.085986592489887,4.109303570719721,4.132620548949552,4.155937527179386,4.1792545054092205,4.202571483639053,4.225888461868886,4.24920544009872,4.272522418328553,4.295839396558387,4.31915637478822,4.342473353018052,4.3657903312478865,4.389107309477719,4.4124242877075535,4.435741265937386,4.459058244167219,4.482375222397053,4.505692200626886,4.52900917885672,4.5523261570865525,4.575643135316385,4.5989601135462195,4.622277091776052,4.645594070005886,4.668911048235719,4.692228026465552,4.715545004695386,4.73886198292522,4.762178961155053,4.7854959393848855,4.808812917614718,4.832129895844552,4.855446874074387,4.878763852304218,4.902080830534052,4.9253978087638846,4.948714786993719,4.972031765223553,4.995348743453384,5.0186657216832185,5.041982699913053,5.065299678142885,5.088616656372718,5.111933634602551,5.135250612832385,5.158567591062219,5.181884569292052,5.2052015475218845,5.228518525751719,5.251835503981551,5.275152482211386,5.298469460441218,5.321786438671051,5.345103416900885,5.368420395130718,5.391737373360552,5.415054351590383,5.438371329820217,5.461688308050052,5.485005286279884,5.508322264509719,5.531639242739551,5.554956220969384,5.578273199199218,5.601590177429051,5.624907155658883,5.648224133888718,5.67154111211855,5.694858090348385,5.718175068578219,5.74149204680805,5.764809025037884,5.788126003267717,5.811442981497551,5.834759959727386,5.858076937957216,5.881393916187051,5.904710894416883,5.928027872646718,5.95134485087655,5.974661829106383,5.997978807336217,6.021295785566052,6.044612763795884,6.067929742025717,6.091246720255549,6.114563698485384,6.137880676715218,6.161197654945051,6.184514633174883,6.207831611404716,6.23114858963455,6.254465567864385,6.277782546094215,6.30109952432405,6.324416502553884,6.347733480783717,6.371050459013551,6.394367437243382,6.417684415473216,6.441001393703051,6.464318371932883,6.487635350162716,6.51095232839255,6.534269306622383,6.557586284852217],\"xaxis\":\"x\",\"y\":[0.006616081736722873,0.006580119927529635,0.006473403081428294,0.006299373882821773,0.006063564685837937,0.005773305490885265,0.005437345830368608,0.005065417751983031,0.004667770274435112,0.004254706179480351,0.0038361498918527298,0.0034212708456284905,0.003018180709434228,0.002633715839020407,0.0022733090783394827,0.0019409482267942698,0.0016392126995643844,0.001369375530377806,0.00113155511028869,0.000924899940772812,0.0007477900584304823,0.0005980403908663193,0.0004730937823548935,0.00037019441140139013,0.0002865354564994803,0.00021937785016603448,0.000166139567829298,0.0001244569835275586,9.222132531933082e-05,6.759418589819749e-05,4.900644716664105e-05,3.514495481761155e-05,2.4930940043763043e-05,1.749364114350069e-05,1.2141928372831736e-05,8.336063494206582e-06,5.661092555065646e-06,3.802816686979962e-06,2.526832305258315e-06,1.6607847353946937e-06,1.0797324716757889e-06,6.943602878914948e-07,4.4169194655289255e-07,2.7792011518750195e-07,1.7297620932757445e-07,1.0649241211200396e-07,6.485102532501272e-08,3.9064378903044245e-08,2.3276136461803183e-08,1.3718504175147178e-08,7.997762789656213e-09,4.6120729961474165e-09,2.6308114284919967e-09,1.4843939014402105e-09,8.284656324411351e-10,4.573679486974664e-10,2.4975998000077056e-10,1.3491053640266258e-10,7.208332002970068e-11,3.8096895585143734e-11,1.991637468793975e-11,1.0299043267898387e-11,5.268043730412111e-12,2.665432901601168e-12,1.3339883328950521e-12,6.603926063806123e-13,3.233838056299195e-13,1.5663911723506705e-13,7.504954790389508e-14,3.5568195137342643e-14,1.667406421880408e-14,7.731913842902005e-15,3.546487537932546e-15,1.6090731020046156e-15,7.221361247767657e-16,3.2057426542473427e-16,1.4076883946912861e-16,6.1145548370493e-17,2.6277095649431143e-17,1.1183854383638256e-17,4.7435699889564796e-18,2.0788818008407378e-18,1.1209006121392344e-18,1.1129536521806376e-18,2.053715183292482e-18,4.700601409212818e-18,1.1139371559458909e-17,2.631747482692427e-17,6.158569331555688e-17,1.425934168059244e-16,3.266076050508335e-16,7.400276318064279e-16,1.6586802503632966e-15,3.677651088045334e-15,8.066252151840215e-15,1.750116020407083e-14,3.756263308287246e-14,7.975165877808032e-14,1.6750134540807582e-13,3.4801031993396766e-13,7.152560908720251e-13,1.4542095672772296e-12,2.9247502945366774e-12,5.818986172967187e-12,1.1452570305671041e-11,2.2297495817873226e-11,4.29444527971212e-11,8.181939945386336e-11,1.5420700720056267e-10,2.8750864754574226e-10,5.302700179342698e-10,9.674821615541356e-10,1.7461798400221502e-09,3.1177081654899374e-09,5.506590940214443e-09,9.621248143929337e-09,1.6629593806577952e-08,2.843373267817909e-08,4.8093735079837466e-08,8.047220922563324e-08,1.3320070536640156e-07,2.1810755565077966e-07,3.53296140737381e-07,5.661239067247687e-07,8.974059625400121e-07,1.4072514755061684e-06,2.1830327628226847e-06,3.3500791809407993e-06,5.085769789010067e-06,7.637754583265926e-06,1.1347042823273461e-05,1.6676632384987045e-05,2.424618585153728e-05,3.487295501367387e-05,4.961868529149807e-05,6.984157214497339e-05,9.725148348986839e-05,0.00013396561766037868,0.00018256057704477135,0.00024611558064603113,0.00032824033196790525,0.0004330800588387553,0.0005652896390665538,0.000729968729107942,0.0009325506281669804,0.0011786394111098627,0.001473792757831058,0.0018232519002111187,0.0022316250736806437,0.002702536517744307,0.0032382589788493513,0.0038393532477856173,0.004504342829516547,0.005229454677693757,0.0060084573607986,0.0068326255404061445,0.00769085395573867,0.008569935267176348,0.009455004533291797,0.01033013958167948,0.011179092222818208,0.011986111532946951,0.012736808787187793,0.013419005486543132,0.014023502481469071,0.014544710240266588,0.01498108811283621,0.01533535369163623,0.015614441201408624,0.01582920891454191,0.015993918230926805,0.016125529505753206,0.016242880283236637,0.01636582892678418,0.01651445980467458,0.016708454795805888,0.01696674002543921,0.01730751691280114,0.01774878347527981,0.018309445959907265,0.019011112444037363,0.019880648575612874,0.02095355973956024,0.022278241299974206,0.02392110594814182,0.025972550759826886,0.0285536624432552,0.03182347425545537,0.03598648065988738,0.04129998722714122,0.04808072861100625,0.05671003646367435,0.06763669691833203,0.08137652390487919,0.09850761435966464,0.1196602708218952,0.14550070168201953,0.1767078605305114,0.21394317566265136,0.2578134473257947,0.30882783494375843,0.36735058087030603,0.43355186301418647,0.5073598607283679,0.5884176702817906,0.6760490292813948,0.7692368235254592,0.866617995678596,0.9664977258923927,1.06688462443025,1.165547226033757,1.2600904110851545,1.3480486436638086,1.4269912803501903,1.4946338417512908,1.5489482124848257,1.5882643705894048,1.6113565163449706,1.617507379886312,1.6065459733965501,1.578855988459432,1.5353542418886192,1.4774408322503707,1.4069247660072979,1.325930547542597,1.2367924442690004,1.1419437390272835,1.0438082381504374,0.9447006549373178,0.8467413353906341,0.7517892815766102,0.6613957287080307,0.5767788196743847,0.4988183537224427,0.4280682906649585,0.36478375221216225,0.3089587151416616,0.2603704300037733,0.21862677953838716,0.18321324173994954,0.1535367574786197,0.12896453260830737,0.10885654740004887,0.09259123420319161,0.07958436852766712,0.06930167047875907,0.06126592281235744,0.0550595848007972,0.05032393524458346,0.04675573809299432,0.044102317874070894,0.04215578642988204,0.040747000972443145,0.039739675007132894,0.03902492145660806,0.038516389157152976,0.03814606280328703,0.03786073161719715,0.03761909012705365,0.037389410593927086,0.03714771553342301,0.03687637552592105,0.036563058156493765,0.03619995581602612,0.035783221926714404,0.03531254683226243,0.034790806912559084,0.03422372471775069,0.033619485369298485,0.0329882660654804,0.03234165148163575,0.03169192753507194,0.03105126789180085,0.03043084952813835,0.029839953025537682,0.02928511746013721,0.028769426537744894,0.02829200058029881,0.027847757692668687,0.027427487695818653,0.02701825609205615,0.026604125232041715,0.02616714935349563,0.025688572772044435,0.025150139428332666,0.024535409712532038,0.023830978441352815,0.02302749628784714,0.022120414874430352,0.021110401075379693,0.020003395985982747,0.018810325231405196,0.017546496528659243,0.016230744778097717,0.014884402243819607,0.01353018029396908,0.01219104941830073,0.010889196482516596,0.009645123878440003,0.008476936412358424,0.007399840752003683,0.006425861337718545,0.005563757915796014,0.004819114886213614,0.004194562520960714,0.0036900852415075367,0.0033033724022611694,0.003030171772663179,0.0028646141328794806,0.002799487855552935,0.0028264537113390437,0.002936201127185078,0.0031185566184259964,0.0033625622250038,0.003656545922991365,0.003988206897246151,0.004344736322217124,0.004712989287419051,0.005079716367929117,0.005431854923540666,0.00575687147467576,0.006043138433008812,0.0062803219679806715,0.006459753604842085,0.006574756764227547,0.006620901052649049,0.006596161557415766,0.00650096723754645,0.006338131024357911,0.006112663565080329,0.005831481700567583,0.005503030842991809,0.005136846633847982,0.004743085067211043,0.004332051390216112,0.003913756572685913,0.0034975262785434075,0.0030916816045389,0.0027033040545586516,0.002338090025261519,0.002000293195121362,0.0016927472318322,0.0014169565991690154,0.001173240200664483,0.0009609111984644703,0.0007784764745952501,0.0006238406084270479,0.0004945015929022295,0.0003877284326705399,0.000300713899993499,0.0002306987565928329,0.00017506644009726425,0.00013140940320166927,9.756990457769147e-05,7.165907738034531e-05,5.20585945152156e-05,3.740929809654317e-05,2.6590871718760714e-05,1.8696119888850826e-05,1.3002782195976173e-05,8.94513677952924e-06,6.0870038672982234e-06,4.097189619898899e-06,2.7279376763218946e-06,1.796588925921303e-06,1.1703853767015217e-06,7.541798928509906e-07,4.807141503845992e-07,3.03085219113646e-07,1.8902032353575145e-07,1.1660525991337065e-07,7.115307516469531e-08,4.2947224456479687e-08,2.5641440731984346e-08,1.5143129598538045e-08,8.846159160335305e-09,5.111634031724611e-09,2.9216665681852254e-09,1.651837966710094e-09,9.237833562188907e-10,5.110209757742126e-10,2.7962323622074203e-10,1.5134701735770056e-10,8.102912602269338e-11,4.291189436876217e-11,2.2479901891604945e-11,1.165032500946389e-11,5.975961482243964e-12,3.039843250371469e-12,1.5460994670757569e-12,8.127816038841479e-13,4.947938925555091e-13,4.389669330103322e-13,6.181034794271685e-13,1.1191258813402097e-12,2.1807972909299434e-12,4.295361399199514e-12,8.41195161477967e-12,1.6315068011214686e-11,3.1309133531654063e-11,5.943581199663705e-11,1.1160870376038875e-10,2.0730769358703065e-10,3.8088953811807155e-10,6.922271838438684e-10,1.2444119437835715e-09,2.2128174645472075e-09,3.892179898055669e-09,6.771831053373249e-09,1.1654273829233093e-08,1.9839476835732872e-08,3.340727925639421e-08,5.5643942516283145e-08,9.16770380176822e-08,1.494063814242444e-07,2.4084831685901076e-07,3.8404664721981904e-07,6.057455530018057e-07,9.45066535319432e-07,1.4584798381832056e-06,2.2264060257720592e-06,3.3618180276144474e-06,5.021227849016256e-06,7.418422263080854e-06,1.0841242663296209e-05,1.567156884941862e-05,2.240844800568505e-05,3.169399436589997e-05,4.4341263922903336e-05,6.13627838839338e-05,8.399780443378063e-05,0.00011373567482864397,0.0001523320817788171,0.00020181430183821174,0.00026447120663352307,0.00034282362888344426,0.0004395709598061344,0.0005575106048541897,0.0006994282462138383,0.0008679587712600986,0.0010654201854717463,0.0012936257175808884,0.0015536824420176465,0.0018457878088439267,0.002169038143591217,0.002521265087839233,0.0028989167365791736,0.0032969995912240447,0.0037090951986761835,0.004127461452490046,0.004543223141659475,0.0049466497897390806,0.0053275116541630805,0.005675497611498576,0.00598067226841425,0.006233944727938833,0.006427518622528586,0.006555292731118491,0.006613183907803407,0.0065993490587982154,0.006514290116860177,0.006360834730803052,0.006143994881642699,0.005870714937578755,0.005549528867027869,0.00519015266412951,0.004803041935858017,0.00439894575392487,0.003988486280393514,0.0035817896055596967,0.003188187196899291,0.0028160000201539956,0.002472409510939764,0.0021634118979220285,0.0018938455793443224,0.0016674758715936803,0.0014871178497379985,0.001354776371265885,0.0012717827255759708,0.0012389095385124315,0.0012564493135414521,0.0013242469455821994,0.0014416822731699841,0.0016076047756812789,0.0018202283969601424,0.002076999714429635,0.0023744568328963327,0.002708099078986669,0.0030722885037872,0.00346020318175773,0.003863859283556323,0.0042742140297581735,0.004681355214592185,0.005074775512782779,0.005443721885210402,0.005777602814323979,0.006066429588919611,0.006301263125384015,0.006474635423858674,0.006580915062723841],\"yaxis\":\"y\"},{\"legendgroup\":\"Ridge\",\"marker\":{\"color\":\"rgb(255, 127, 14)\"},\"mode\":\"lines\",\"name\":\"Ridge\",\"showlegend\":false,\"type\":\"scatter\",\"x\":[-4.49172202309614,-4.472032734769991,-4.452343446443842,-4.432654158117693,-4.412964869791543,-4.393275581465394,-4.373586293139244,-4.353897004813095,-4.3342077164869455,-4.314518428160796,-4.294829139834647,-4.275139851508498,-4.2554505631823485,-4.235761274856199,-4.21607198653005,-4.196382698203901,-4.176693409877751,-4.157004121551601,-4.137314833225452,-4.117625544899303,-4.097936256573154,-4.078246968247004,-4.058557679920855,-4.038868391594706,-4.019179103268557,-3.999489814942407,-3.9798005266162577,-3.9601112382901085,-3.940421949963959,-3.9207326616378095,-3.9010433733116603,-3.881354084985511,-3.861664796659362,-3.8419755083332126,-3.8222862200070633,-3.8025969316809136,-3.7829076433547644,-3.763218355028615,-3.743529066702466,-3.723839778376316,-3.704150490050167,-3.6844612017240177,-3.6647719133978685,-3.645082625071719,-3.62539333674557,-3.6057040484194207,-3.586014760093271,-3.566325471767122,-3.5466361834409725,-3.526946895114823,-3.5072576067886736,-3.4875683184625244,-3.467879030136375,-3.448189741810226,-3.4285004534840766,-3.4088111651579274,-3.3891218768317777,-3.3694325885056284,-3.349743300179479,-3.3300540118533295,-3.3103647235271803,-3.290675435201031,-3.2709861468748818,-3.2512968585487325,-3.2316075702225833,-3.211918281896434,-3.1922289935702843,-3.1725397052441355,-3.152850416917986,-3.133161128591836,-3.113471840265687,-3.0937825519395377,-3.0740932636133884,-3.054403975287239,-3.03471468696109,-3.0150253986349407,-2.9953361103087914,-2.975646821982642,-2.9559575336564925,-2.936268245330343,-2.916578957004194,-2.8968896686780443,-2.877200380351895,-2.857511092025746,-2.8378218036995966,-2.8181325153734473,-2.798443227047298,-2.778753938721149,-2.759064650394999,-2.7393753620688495,-2.7196860737427007,-2.699996785416551,-2.6803074970904017,-2.6606182087642525,-2.6409289204381032,-2.621239632111954,-2.6015503437858047,-2.5818610554596555,-2.562171767133506,-2.5424824788073566,-2.5227931904812073,-2.5031039021550576,-2.4834146138289084,-2.463725325502759,-2.44403603717661,-2.42434674885046,-2.4046574605243114,-2.384968172198162,-2.3652788838720125,-2.345589595545863,-2.325900307219714,-2.3062110188935647,-2.286521730567415,-2.266832442241266,-2.2471431539151165,-2.2274538655889673,-2.207764577262818,-2.188075288936669,-2.168386000610519,-2.14869671228437,-2.1290074239582206,-2.1093181356320714,-2.0896288473059217,-2.0699395589797724,-2.0502502706536236,-2.030560982327474,-2.0108716940013247,-1.9911824056751755,-1.9714931173490258,-1.9518038290228765,-1.9321145406967273,-1.912425252370578,-1.8927359640444283,-1.8730466757182795,-1.8533573873921303,-1.8336680990659806,-1.8139788107398314,-1.7942895224136821,-1.7746002340875324,-1.7549109457613832,-1.735221657435234,-1.7155323691090842,-1.6958430807829354,-1.6761537924567862,-1.656464504130637,-1.6367752158044873,-1.617085927478338,-1.5973966391521888,-1.577707350826039,-1.5580180624998898,-1.5383287741737406,-1.5186394858475918,-1.498950197521442,-1.4792609091952929,-1.4595716208691436,-1.439882332542994,-1.4201930442168447,-1.4005037558906954,-1.3808144675645457,-1.3611251792383965,-1.3414358909122477,-1.321746602586098,-1.3020573142599488,-1.2823680259337995,-1.2626787376076503,-1.2429894492815006,-1.2233001609553513,-1.203610872629202,-1.1839215843030524,-1.1642322959769031,-1.1445430076507543,-1.1248537193246047,-1.1051644309984554,-1.0854751426723062,-1.065785854346157,-1.0460965660200072,-1.026407277693858,-1.0067179893677087,-0.987028701041559,-0.9673394127154102,-0.947650124389261,-0.9279608360631113,-0.9082715477369621,-0.8885822594108128,-0.8688929710846636,-0.8492036827585139,-0.8295143944323646,-0.8098251061062154,-0.7901358177800661,-0.7704465294539169,-0.7507572411277676,-0.731067952801618,-0.7113786644754687,-0.6916893761493195,-0.6720000878231702,-0.6523107994970205,-0.6326215111708713,-0.6129322228447225,-0.5932429345185728,-0.5735536461924235,-0.5538643578662743,-0.5341750695401246,-0.5144857812139754,-0.4947964928878261,-0.47510720456167643,-0.4554179162355272,-0.43572862790937794,-0.4160393395832287,-0.39635005125707945,-0.3766607629309302,-0.35697147460478007,-0.3372821862786317,-0.31759289795248247,-0.29790360962633233,-0.278214321300184,-0.25852503297403384,-0.2388357446478846,-0.21914645632173535,-0.1994571679955861,-0.17976787966943597,-0.1600785913432876,-0.14038930301713837,-0.12070001469098912,-0.10101072636483988,-0.08132143803868974,-0.061632149712541384,-0.04194286138639125,-0.022253573060242005,-0.002564284734092759,0.017125003592056487,0.03681429191820573,0.05650358024435498,0.07619286857050422,0.09588215689665436,0.11557144522280272,0.13526073354895285,0.1549500218751021,0.17463931020125134,0.1943285985274006,0.21401788685354983,0.23370717517969908,0.2533964635058483,0.27308575183199757,0.2927750401581468,0.31246432848429695,0.3321536168104453,0.35184290513659544,0.3715321934627447,0.39122148178889304,0.4109107701150432,0.4306000584411924,0.45028934676734167,0.4699786350934909,0.48966792341964105,0.5093572117457894,0.5290465000719395,0.5487357883980888,0.5684250767242371,0.5881143650503873,0.6078036533765365,0.6274929417026858,0.647182230028835,0.6668715183549843,0.6865608066811335,0.7062500950072836,0.725939383333432,0.7456286716595812,0.7653179599857314,0.7850072483118797,0.8046965366380299,0.8243858249641791,0.8440751132903284,0.8637644016164776,0.8834536899426277,0.9031429782687761,0.9228322665949253,0.9425215549210755,0.9622108432472238,0.981900131573374,1.0015894198995232,1.0212787082256725,1.0409679965518217,1.0606572848779718,1.0803465732041202,1.1000358615302694,1.1197251498564187,1.139414438182568,1.159103726508718,1.1787930148348664,1.1984823031610166,1.2181715914871658,1.237860879813315,1.2575501681394643,1.2772394564656135,1.2969287447917628,1.316618033117912,1.3363073214440622,1.3559966097702105,1.3756858980963607,1.39537518642251,1.4150644747486592,1.4347537630748084,1.4544430514009568,1.4741323397271069,1.4938216280532561,1.5135109163794054,1.5332002047055546,1.5528894930317048,1.5725787813578531,1.5922680696840033,1.6119573580101525,1.6316466463363009,1.651335934662451,1.6710252229886002,1.6907145113147495,1.7104037996408987,1.7300930879670489,1.7497823762931972,1.7694716646193474,1.7891609529454966,1.808850241271645,1.828539529597795,1.8482288179239443,1.8679181062500936,1.8876073945762428,1.907296682902392,1.9269859712285413,1.9466752595546915,1.9663645478808398,1.98605383620699,2.005743124533139,2.0254324128592875,2.0451217011854377,2.064810989511587,2.084500277837736,2.1041895661638854,2.1238788544900356,2.143568142816184,2.163257431142334,2.1829467194684833,2.2026360077946316,2.222325296120782,2.242014584446931,2.2617038727730803,2.2813931610992295,2.3010824494253788,2.320771737751528,2.340461026077678,2.3601503144038265,2.3798396027299757,2.399528891056126,2.4192181793822742,2.4389074677084244,2.4585967560345736,2.478286044360723,2.497975332686872,2.5176646210130222,2.5373539093391706,2.55704319766532,2.57673248599147,2.5964217743176183,2.6161110626437685,2.6358003509699177,2.655489639296067,2.675178927622216,2.6948682159483663,2.7145575042745147,2.734246792600664,2.753936080926813,2.7736253692529624,2.7933146575791126,2.813003945905261,2.832693234231411,2.8523825225575603,2.8720718108837096,2.891761099209859,2.911450387536008,2.9311396758621573,2.9508289641883065,2.9705182525144567,2.990207540840605,3.009896829166755,3.0295861174929044,3.0492754058190537,3.068964694145203,3.088653982471352,3.1083432707975014,3.1280325591236506,3.1477218474498,3.167411135775949,3.1871004241020993,3.2067897124282476,3.2264790007543978,3.246168289080547,3.2658575774066954,3.2855468657328455,3.3052361540589947,3.324925442385144,3.3446147307112932,3.3643040190374434,3.3839933073635917,3.403682595689742,3.423371884015891,3.4430611723420395,3.4627504606681896,3.482439748994339,3.502129037320488,3.5218183256466373,3.5415076139727875,3.561196902298936,3.580886190625086,3.6005754789512343,3.6202647672773844,3.639954055603533,3.659643343929683,3.679332632255833,3.6990219205819814,3.71871120890813,3.73840049723428,3.75808978556043,3.77777907388658,3.7974683622127268,3.817157650538877,3.836846938865027,3.8565362271911754,3.8762255155173255,3.8959148038434757,3.915604092169624,3.9352933804957724,3.9549826688219225,3.9746719571480726,3.994361245474221,4.014050533800371,4.0337398221265195,4.05342911045267,4.073118398778818,4.092807687104968,4.112496975431118,4.132186263757268,4.151875552083415,4.171564840409565,4.191254128735715,4.210943417061864,4.230632705388014,4.250321993714162,4.270011282040312,4.289700570366461,4.309389858692611,4.329079147018761,4.348768435344909,4.368457723671058,4.388147011997208,4.407836300323358,4.427525588649506,4.447214876975656,4.4669041653018065,4.486593453627955,4.506282741954103,4.525972030280253,4.545661318606403,4.565350606932552,4.5850398952587,4.60472918358485,4.624418471911,4.644107760237149,4.663797048563299,4.683486336889449,4.703175625215596,4.722864913541746,4.742554201867896,4.762243490194046,4.781932778520194,4.8016220668463445,4.821311355172493,4.841000643498643,4.860689931824791,4.8803792201509415,4.900068508477092,4.91975779680324,4.939447085129388,4.9591363734555385,4.978825661781689,4.998514950107837,5.018204238433987,5.0378935267601355,5.057582815086284,5.077272103412434,5.096961391738584,5.116650680064734,5.136339968390883,5.156029256717031,5.175718545043181,5.195407833369331,5.21509712169548,5.23478641002163,5.25447569834778,5.274164986673926,5.2938542750000765,5.313543563326227,5.333232851652377],\"xaxis\":\"x\",\"y\":[0.004018457567953929,0.004012701707433764,0.003995481500455926,0.003966944682827168,0.003927335092733859,0.0038769892156784343,0.0038163314429251285,0.00374586813795765,0.0036661806282487068,0.003577917259518163,0.003481784666151471,0.003378538424207481,0.0032689732622200123,0.0031539130096653652,0.0030342004635212625,0.002910687349891811,0.002784224550436531,0.0026556527526385995,0.0025257936691814122,0.0023954419553484014,0.002265357934944125,0.00213626122531505,0.002008825331200027,0.0018836732559319618,0.0017613741574907756,0.0016424410565811828,0.0015273295847322576,0.0014164377427800996,0.0013101066243173865,0.0012086220450128033,0.0011122170072759853,0.0010210749206443228,0.0009353334914935114,0.0008550891911472508,0.0007804022090410404,0.0007113017970833197,0.0006477919125120896,0.000589857069092246,0.0005374683101440297,0.0004905892213344398,0.0004491819061052483,0.00041321285177369074,0.0003826586194733771,0.0003575112959881278,0.00033778365000030887,0.0003235139392078774,0.00031477031809618505,0.0003116547988738507,0.00031430672024628393,0.00032290568041068543,0.0003376738920689543,0.000358877918572122,0.00038682975177188497,0.0004218871940305979,0.00046445350941767095,0.0005149763126905882,0.0005739456695084456,0.0006418913877196986,0.0007193794877334914,0.0008070078501058697,0.0009054010506665407,0.001015204407821171,0.0011370772830449191,0.001271685693896342,0.001419694318885925,0.001581757994884299,0.0017585128299998005,0.0019505670774400165,0.0021584919381497,0.002382812481258702,0.0026239988907838857,0.0028824582637685474,0.0031585271982531764,0.00345246541830018,0.0037644506869301745,0.004094575255527081,0.0044428440893964525,0.0048091750932181924,0.005193401536790586,0.0055952768505877,0.006014481922336986,0.006450634980402081,0.006903304097811895,0.007372022293156519,0.007856305142365244,0.008355670749928643,0.008869661860969824,0.009397869828439353,0.009939960084468168,0.010495698703518054,0.011064979589400527,0.011647851770443219,0.01224454624891497,0.012855501823962787,0.013481389293207776,0.014123133437952106,0.01478193221146121,0.015459272579408549,0.016156942506271674,0.016877038640757527,0.017621969326256575,0.018394452647465292,0.019197509319828734,0.02003445033209666,0.02090885936148018,0.02182457009279517,0.022785638684550153,0.02379631173305913,0.02486099018721071,0.025984189758502734,0.027170498450554345,0.028424531897054704,0.02975088724491897,0.03115409634870195,0.03263857905202242,0.034208597321432825,0.03586821096801541,0.03762123564281921,0.039471203725518926,0.04142132864341605,0.04347447306267601,0.045633121288525515,0.047899356099395746,0.050274840125313955,0.05276080176696704,0.055358025542531455,0.058066846648197466,0.060887149428664675,0.06381836937871044,0.06685949823871665,0.0700090917076551,0.0732652792777105,0.07662577569596014,0.08008789358009573,0.08364855675608944,0.08730431394425474,0.09105135249399159,0.0948855119536497,0.09880229735695797,0.10279689220752003,0.10686417124391212,0.11099871316574361,0.11519481359158358,0.11944649859896181,0.1237475392611536,0.12809146764207607,0.1324715947367997,0.1368810308491269,0.1413127088783033,0.14575941094397754,0.1502137987125328,0.15466844770029875,0.15911588572202856,0.16354863552930388,0.16795926154668853,0.17234042046750173,0.1766849153204656,0.18098575246784862,0.1852362008498279,0.1894298526534466,0.19356068446220065,0.1976231178382867,0.20161207820757698,0.20552305086077735,0.20935213285545307,0.2130960796046123,0.21675234496933918,0.22031911373588728,0.2237953254511318,0.2271806887130216,0.2304756851626346,0.23368156259878997,0.2368003168315823,0.23983466210366142,0.24278799013321073,0.24566431806558314,0.24846822585639314,0.2512047838423546,0.2538794714820067,0.25649808846153016,0.25906665955601,0.26159133480898744,0.26407828673848843,0.26653360639186924,0.26896320015129704,0.27137268923356783,0.2737673138300107,0.2761518437929538,0.27853049769395,0.28090687195581404,0.28328388159660933,0.28566371392096696,0.28804779625544585,0.29043677855388855,0.29283053140053994,0.2952281596187222,0.29762803135731974,0.30002782218328283,0.302424573363317,0.30481476317980466,0.3071943898030226,0.3095590639420143,0.3119041092281673,0.3142246680562512,0.3165158104244952,0.31877264318447196,0.32099041703835646,0.3231646286095359,0.32529111496519464,0.32736613808747106,0.32938645697254315,0.3313493852822187,0.3332528327764477,0.33509532911180956,0.33687602899336067,0.3385946981064084,0.34025167972091463,0.3418478423432282,0.34338450927591563,0.3448633714243578,0.3462863851460549,0.347655657363087,0.3489733205382328,0.3502414004401193,0.3514616798829459,0.3526355618137349,0.35376393522848276,0.35484704742371437,0.355884386029598,0.35687457412501183,0.35781528150602776,0.35870315487168203,0.3595337693111945,0.360301603033506,0.36100003678332415,0.36162137884946977,0.3621569160040219,0.3625969901280847,0.362931099696036,0.3631480247188425,0.3632359732022244,0.36318274667015604,0.36297592185042876,0.3626030452275195,0.36205183684788417,0.36131039952139754,0.360367429405351,0.3592124238874421,0.35783588270280736,0.3562294983263135,0.35438633187214236,0.35230097100316043,0.3499696666960238,0.3473904461160924,0.3445631993194003,0.3414897380064763,0.33817382509315125,0.33462117442466827,0.33083942052913606,0.326838058872489,0.3226283576277655,0.31822324249551004,0.31363715659898805,0.3088858979183662,0.3039864371138969,0.2989567189126831,0.29381545049147995,0.28858188047545524,0.283275572287631,0.2779161756252851,0.2725231998087661,0.26711579264727703,0.2617125282990427,0.2563312073747201,0.25098867224912463,0.2457006402142246,0.24048155673378027,0.23534447065519154,0.23030093280594524,0.22536091895934718,0.22053277770598387,0.21582320332240468,0.21123723329518876,0.20677826974491667,0.20244812360781403,0.19824708007955794,0.19417398351155843,0.19022633967966301,0.18640043312232987,0.18269145707251053,0.17909365338629812,0.17560045980224034,0.17220466184758657,0.1688985467399244,0.16567405671220128,0.1625229393126024,0.15943689239398917,0.156407701705835,0.15342736922945271,0.15048823064908753,0.14758306062113694,0.14470516478523143,0.1418484577480359,0.13900752655742235,0.13617767946538914,0.13335498004738647,0.13053626699871185,0.12771916016102078,0.12490205354013226,0.12208409625723449,0.11926516252713977,0.11644581187793308,0.1136272409156099,0.1108112279951634,0.10800007218690574,0.10519652792508681,0.10240373669718573,0.09962515707921281,0.09686449434797847,0.09412563080894769,0.09141255787149669,0.08872931078585783,0.0860799068313687,0.0834682876174133,0.08089826603000565,0.07837347823134465,0.07589734099960492,0.07347301458396614,0.07110337114730371,0.06879096877736947,0.06653803096762577,0.0643464314015061,0.06221768381879342,0.06015293669955944,0.05815297246894995,0.05621821090397793,0.054348716410117,0.052544208829485,0.0508040774422795,0.04912739782741618,0.04751295125560295,0.04595924629709383,0.044464542335978734,0.04302687469217756,0.0416440810606546,0.04031382898430263,0.03903364408228978,0.037800938759454526,0.036613041124816025,0.0354672238488727,0.034360732690649355,0.03329081442708086,0.03225474392000354,0.031249850060471245,0.030273540336999607,0.02932332378426881,0.0283968320822516,0.027491838593036114,0.02660627514393751,0.025738246390859826,0.024886041625086626,0.02404814391940356,0.023223236545175937,0.02241020663005433,0.021608146065605825,0.020816349714489826,0.020034311006912272,0.019261715055054664,0.01849842945106699,0.01774449294814524,0.01700010225439133,0.01626559719486284,0.015541444517886195,0.014828220636891445,0.014126593608435314,0.013437304650592332,0.012761149503527055,0.012098959926005027,0.011451585608170266,0.010819876762569423,0.010204667632696812,0.00960676113192108,0.009026914796257933,0.008465828202831921,0.007924131972818858,0.00740237844395765,0.006901034064133467,0.006420473524784645,0.005960975621634829,0.005522720801091745,0.0051057903240893845,0.004710166955595733,0.004335737067779235,0.003982294028143501,0.003649542730917547,0.003337105120657896,0.0030445265513121106,0.0027712828217693834,0.002516787729968897,0.002280400991674092,0.0020614363767299027,0.0018591699246379668,0.0016728481122286918,0.00150169585867669,0.001344924266698876,0.0012017380130948168,0.00107134231645936,0.0009529494245631748,0.0008457845782319185,0.0007490914222706567,0.0006621368468254351,0.0005842152543401976,0.0005146522577861161,0.0004528078249899374,0.0003980788915828012,0.00034990147129109015,0.0003077522969883331,0.00027115002915298504,0.00023965607018945902,0.00021287502355698648,0.0001904548359230683,0.00017208665874580547,0.000157504462938235,0.00014648443673659413,0.0001388441927498664,0.00013444180558301502,0.00013317469657530846,0.00013497837725231113,0.00013982505822587033,0.0001477221256547662,0.00015871048315474037,0.00017286275336383,0.00019028133035646358,0.00021109627187016085,0.00023546301895513834,0.00026355993025109644,0.0002955856186848069,0.00033175607998820015,0.00037230160505378584,0.0004174634717370933,0.0004674904162198439,0.0005226348893677946,0.0005831491095303318,0.0006492809297823974,0.00072126954452732,0.000799341067462616,0.0008837040199436312,0.0009745447755351062,0.0010720230127839196,0.0011762672337466556,0.0012873704103395164,0.0014053858239397171,0.001530323165676376,0.001662144965355295,0.0018007634158577496,0.0019460376570737382,0.002097771578963424,0.00225571219722451,0.0024195486473753145,0.002588911833991386,0.0027633747615587417,0.0029424535621763075,0.0031256092234409117,0.003312250007597442,0.003501734540771838,0.0036933755391710434,0.0038864441278724012,0.004080174697560921,0.004273770235596976,0.004466408060363553,0.0046572458821510015,0.004845428110024127,0.00503009232225695,0.005210375818013386,0.005385422169929885,0.005554387700979609,0.005716447814269586,0.005870803110985953,0.0060166852392641995,0.006153362424992607,0.006280144644117489,0.006396388404567249,0.0065015011141218,0.00659494501812957,0.0066762406976641556,0.006744970124319381,0.006800779272230945,0.006843380291021085,0.006872553245195619,0.006888147426156696,0.006890082242571359,0.006878347693553227,0.006853004427217202,0.006814183384931867,0.006762085029316493,0.006696978152007182,0.0066191982557326405,0.006529145504550341,0.006427282236410559,0.006314130033696451],\"yaxis\":\"y\"},{\"legendgroup\":\"Lasso\",\"marker\":{\"color\":\"rgb(31, 119, 180)\",\"symbol\":\"line-ns-open\"},\"mode\":\"markers\",\"name\":\"Lasso\",\"showlegend\":false,\"type\":\"scatter\",\"x\":[-0.2988645822136683,0.3408157190759778,0.0,-5.0775858518346,-0.011546218132248353,2.50475330358318,0.0,0.0,-1.2254666741348454,0.0,0.0,-0.0,-0.0,-0.0,-0.0,0.8911508709272506,0.0,-0.0,-0.0,-0.0,-0.0,-0.0,0.48261306316596353,0.0,-0.0,-0.0,-0.0,0.0,0.0,0.29259736827072497,0.0,0.0,0.0,-0.0,-0.0,-0.0,0.0,0.0,0.0,-0.0,-0.0,-0.0,0.0,-0.0,0.0,0.0,-0.0,0.0,-0.0,0.0,-0.0,0.0,-0.0,-0.0,0.0,-0.0,0.0,-0.0,0.0,0.0,-0.8137493295508568,-0.0,-0.0,-0.0,-0.0,-0.0,0.0,0.0,-0.0,0.0,0.0,-0.0,0.0,0.0,-0.0,-0.0,-0.0,-0.0,0.0,0.0,-0.0,-0.0,-0.0,0.0,0.0,0.0,-0.0,-0.0,-0.0,-0.0,0.0,-0.0,0.857715591775868,-0.0,-0.0,1.1721102608593408,-0.0,-0.0,0.2887092608544712,0.0,0.0,-0.0,0.0,-0.0,-0.0,-0.0,0.20926544012577397,0.0,0.0,-0.0,0.0,-0.0,-0.0,1.5557826281399485,0.0,0.0,5.60868688487343,-0.0,0.0,-0.0,0.0,0.0,0.0,0.0,0.0,0.0,0.0,0.0,-0.0,0.0,-0.0,-0.5834694165847317,0.0,0.0,-0.0,0.0,-0.0,0.0,-0.0,0.0,-0.0,0.0,-0.0,-0.0,-0.0,0.0,0.0,-0.0,0.5677323661704804,0.0,1.6083497158913294,1.1672531907630226,-0.0,-0.6403255347633285,0.0,0.0,0.0,-0.0,0.0,-0.0,-0.0,0.0,0.0,-0.0,-0.0,-0.0,0.0,0.0,0.0,-0.0,0.0,0.0,-0.0,0.0,-0.0,0.0,0.0,-0.0,-0.40210406095102963,-0.0,0.0,-0.0,-0.0,-0.0,-0.0,-0.0,-0.0,0.0,-0.0,0.0,0.0,0.0,-0.0,0.0,-0.0,0.0,-0.0,-0.0,0.0,0.0,0.0,-0.0,0.0,0.7072730612261542,1.6226804361881382,0.0,-0.0,-0.0,0.4051983255690641,0.0,-0.0,0.0,-0.0,-0.0,-0.0,1.224714232790628,0.0,0.0,-1.1811727255510334,-0.003019012500058569,-0.0,0.0,-0.0,-0.0,0.0,0.0,-0.0,-0.0,0.0,-0.0,-0.0,-0.0,-0.0,0.0,-0.0,-0.0,0.0,0.0,-0.0,0.0,0.0,0.0,0.0,-0.0,-0.0,0.19289042452120514,-0.0,-0.0,0.0,0.953787565634395,0.0,-0.0,-0.0,-0.0,-0.0,-0.0,-0.0,-0.0,-0.0,-0.0,-0.0,-0.0,-0.0,-0.0,6.58090326308205,-0.0,0.0,0.0,0.0,-0.0],\"xaxis\":\"x\",\"y\":[\"Lasso\",\"Lasso\",\"Lasso\",\"Lasso\",\"Lasso\",\"Lasso\",\"Lasso\",\"Lasso\",\"Lasso\",\"Lasso\",\"Lasso\",\"Lasso\",\"Lasso\",\"Lasso\",\"Lasso\",\"Lasso\",\"Lasso\",\"Lasso\",\"Lasso\",\"Lasso\",\"Lasso\",\"Lasso\",\"Lasso\",\"Lasso\",\"Lasso\",\"Lasso\",\"Lasso\",\"Lasso\",\"Lasso\",\"Lasso\",\"Lasso\",\"Lasso\",\"Lasso\",\"Lasso\",\"Lasso\",\"Lasso\",\"Lasso\",\"Lasso\",\"Lasso\",\"Lasso\",\"Lasso\",\"Lasso\",\"Lasso\",\"Lasso\",\"Lasso\",\"Lasso\",\"Lasso\",\"Lasso\",\"Lasso\",\"Lasso\",\"Lasso\",\"Lasso\",\"Lasso\",\"Lasso\",\"Lasso\",\"Lasso\",\"Lasso\",\"Lasso\",\"Lasso\",\"Lasso\",\"Lasso\",\"Lasso\",\"Lasso\",\"Lasso\",\"Lasso\",\"Lasso\",\"Lasso\",\"Lasso\",\"Lasso\",\"Lasso\",\"Lasso\",\"Lasso\",\"Lasso\",\"Lasso\",\"Lasso\",\"Lasso\",\"Lasso\",\"Lasso\",\"Lasso\",\"Lasso\",\"Lasso\",\"Lasso\",\"Lasso\",\"Lasso\",\"Lasso\",\"Lasso\",\"Lasso\",\"Lasso\",\"Lasso\",\"Lasso\",\"Lasso\",\"Lasso\",\"Lasso\",\"Lasso\",\"Lasso\",\"Lasso\",\"Lasso\",\"Lasso\",\"Lasso\",\"Lasso\",\"Lasso\",\"Lasso\",\"Lasso\",\"Lasso\",\"Lasso\",\"Lasso\",\"Lasso\",\"Lasso\",\"Lasso\",\"Lasso\",\"Lasso\",\"Lasso\",\"Lasso\",\"Lasso\",\"Lasso\",\"Lasso\",\"Lasso\",\"Lasso\",\"Lasso\",\"Lasso\",\"Lasso\",\"Lasso\",\"Lasso\",\"Lasso\",\"Lasso\",\"Lasso\",\"Lasso\",\"Lasso\",\"Lasso\",\"Lasso\",\"Lasso\",\"Lasso\",\"Lasso\",\"Lasso\",\"Lasso\",\"Lasso\",\"Lasso\",\"Lasso\",\"Lasso\",\"Lasso\",\"Lasso\",\"Lasso\",\"Lasso\",\"Lasso\",\"Lasso\",\"Lasso\",\"Lasso\",\"Lasso\",\"Lasso\",\"Lasso\",\"Lasso\",\"Lasso\",\"Lasso\",\"Lasso\",\"Lasso\",\"Lasso\",\"Lasso\",\"Lasso\",\"Lasso\",\"Lasso\",\"Lasso\",\"Lasso\",\"Lasso\",\"Lasso\",\"Lasso\",\"Lasso\",\"Lasso\",\"Lasso\",\"Lasso\",\"Lasso\",\"Lasso\",\"Lasso\",\"Lasso\",\"Lasso\",\"Lasso\",\"Lasso\",\"Lasso\",\"Lasso\",\"Lasso\",\"Lasso\",\"Lasso\",\"Lasso\",\"Lasso\",\"Lasso\",\"Lasso\",\"Lasso\",\"Lasso\",\"Lasso\",\"Lasso\",\"Lasso\",\"Lasso\",\"Lasso\",\"Lasso\",\"Lasso\",\"Lasso\",\"Lasso\",\"Lasso\",\"Lasso\",\"Lasso\",\"Lasso\",\"Lasso\",\"Lasso\",\"Lasso\",\"Lasso\",\"Lasso\",\"Lasso\",\"Lasso\",\"Lasso\",\"Lasso\",\"Lasso\",\"Lasso\",\"Lasso\",\"Lasso\",\"Lasso\",\"Lasso\",\"Lasso\",\"Lasso\",\"Lasso\",\"Lasso\",\"Lasso\",\"Lasso\",\"Lasso\",\"Lasso\",\"Lasso\",\"Lasso\",\"Lasso\",\"Lasso\",\"Lasso\",\"Lasso\",\"Lasso\",\"Lasso\",\"Lasso\",\"Lasso\",\"Lasso\",\"Lasso\",\"Lasso\",\"Lasso\",\"Lasso\",\"Lasso\",\"Lasso\",\"Lasso\",\"Lasso\",\"Lasso\",\"Lasso\",\"Lasso\",\"Lasso\",\"Lasso\",\"Lasso\",\"Lasso\",\"Lasso\",\"Lasso\",\"Lasso\",\"Lasso\",\"Lasso\",\"Lasso\",\"Lasso\",\"Lasso\",\"Lasso\",\"Lasso\",\"Lasso\",\"Lasso\",\"Lasso\",\"Lasso\",\"Lasso\",\"Lasso\",\"Lasso\",\"Lasso\",\"Lasso\",\"Lasso\",\"Lasso\"],\"yaxis\":\"y2\"},{\"legendgroup\":\"Ridge\",\"marker\":{\"color\":\"rgb(255, 127, 14)\",\"symbol\":\"line-ns-open\"},\"mode\":\"markers\",\"name\":\"Ridge\",\"showlegend\":false,\"type\":\"scatter\",\"x\":[-1.1129087993281528,0.829414466269498,-0.5787984166483763,-4.49172202309614,-0.32314439645821635,2.5528447784976023,0.6441174358239381,0.1409552018869279,-0.7850726377109035,0.7655534592395417,0.35668345877114155,-1.5694262616056696,0.26227557067209484,-0.25740342390750737,-0.7824098482842659,2.5934921160921234,0.5606042947988116,-0.4517342035227171,-1.2515177116236966,-1.2566996189796187,-0.8399631100453271,-0.9115025384574054,2.4240448138351303,0.5895441677219353,-1.0812932141466554,-1.7078041853217922,-0.14992684171105214,0.8871041754357647,0.6283527413632835,1.8381784632117784,0.5053018276988172,1.8475439808284297,1.166041725122795,-0.29431882743646687,-0.8460284506774276,-1.1743906199072016,0.38758253290096834,1.5379256032546114,0.7316435087965406,-1.884974333803034,-0.3803906278167745,-0.08497089850903755,1.2408957059769854,-0.6753846928418495,0.9156462926382902,1.3807542463333473,-1.8741582993186412,-0.3036013953088359,-1.0424954733411067,1.4179918699988154,-1.7072056935387365,1.5472728948676164,-0.12272100040546663,-1.595057358505455,0.15378752892540087,-1.5158020234453171,0.357573692738794,0.030330024714612103,0.5305137448733312,0.5063646604904707,-1.3044749851609672,-0.9238000638360813,-0.8593459950759887,-0.8880271347937015,-0.639354663043884,-0.21638696058562235,0.5305137448733312,0.37923363811656174,-0.9978701583672693,0.24931731321976958,0.05756227228147898,-1.239745407526525,1.2780601949513632,-0.10863399808959105,-0.21077934012603594,-0.2912004681118574,-1.831950533468687,-0.04918443827665817,1.331981022835165,0.38011871476673353,-0.5547483724496387,-0.4773991991054308,-0.01885776832635384,2.0836076419503633,0.5019017353093824,1.1648262126899322,-0.3326741058271956,-0.5674857997059611,-0.21335053062717102,-0.3794735839171124,1.5669198703542766,-1.2522278650519019,1.4733934612814474,0.2950302432713381,-0.39116971003047674,1.950613474064665,-1.3039572485581095,-0.2646141027048185,1.1745371841270866,0.7332049553664663,0.40787226982286423,-0.07004096082370657,0.9641079920302198,-0.7510364354350768,-0.5507022164536525,-0.3803906278167745,0.5946382945529708,1.1556929985029454,0.24728461617851982,-1.5282662275836496,0.829402366084889,-1.0524652240916001,0.16304731435805708,1.4641369891503087,0.15378752892540087,1.6818403861385869,5.352922139978525,0.1868434615925728,0.48893787080129286,-0.4506482465367688,1.3891756534309911,0.8580076675688515,0.30880283581300594,0.9417726671756758,0.5053018276988172,0.9156462926382902,0.27970006587244417,1.046388259836174,-1.3612332448930298,0.6049897975120024,-0.06543314271054644,-1.010899622586424,0.9579782613824824,0.7252543780893794,-1.3691288925158884,1.3807542463333473,0.725744656785504,1.6015116018523161,-0.13594760851284793,0.33530494141241024,-1.4934173404772872,0.6746094015062992,-0.371064348974945,-1.3037552248843787,-0.5547483724496387,1.1401731485444337,0.7316435087965406,-0.7704485369415051,1.3090641217705818,0.5606042947988116,1.5022066465148687,2.0043866121606286,-0.15732058294772397,-1.1880424085191374,0.6165824461466304,0.8794436105115679,0.18350594168391163,-0.6227415537368794,0.5190881755162117,-0.8512030334429361,-1.5624517801767122,1.7557378683621827,0.4721882153099687,-1.7470268311650856,-0.44389495120081185,-0.8351537643912856,0.35668345877114155,0.7145994336932922,0.5244451833780398,-0.8487825870093844,1.6538498614795016,-0.03971594990327684,-0.6578821407402715,0.38700835217415064,-1.0429267048070432,0.3960769123295732,0.3256760080351887,-1.0696500851664306,-2.4987004748335857,-0.9746776732692466,0.37923363811656174,-0.5709870751502787,0.26227557067209484,-0.24695538881771711,-1.1473221196668018,-0.04918443827665817,0.23989386642119742,0.3184997323551704,-1.0629697147962025,0.6701186728272667,0.5128595234323331,0.6320329944542736,-1.1731659078567216,0.039528241197417824,-1.2699522862309285,0.8565716807479704,-0.8977872724627437,-0.9708116225943402,0.19182873460466876,0.2336292575059844,2.269289902502933,-1.2140561129124097,0.34713742175275764,0.5502602614314639,1.2058020229639115,-0.0015168394811906059,-0.7817080683037348,0.003485678210361498,2.0420153760900126,0.18692710899928672,-0.12300009092959195,0.36814325094291017,-0.400386090162646,-0.1994719902143498,-1.1465289568917794,1.4463457173646672,0.5128595234323331,0.15378752892540087,-2.3860029596240153,-2.4987004748335857,-1.1582283307065233,1.4479555874953753,-1.862573590002718,-1.2420327374698021,-0.04068580996693211,0.438848747720421,-0.14548901372378237,-0.3416944929342746,0.3362875277756875,-0.5362284339621711,-0.30355757161495994,-0.201790917400626,-0.3834299342076802,0.2984948984455817,-0.16419004276169927,-0.32853661451038546,-0.13789561006506768,1.1217152075848607,-0.1994719902143498,0.6320329944542736,1.6448251820466133,0.5175894427156379,0.35953353010245925,-0.5868463926733776,-0.21638696058562235,0.603797566344628,-1.7078041853217922,-0.6879302509236638,0.6495738899162601,2.8036382792768384,1.224707845168953,-0.11110506202532555,-0.4378103785794069,-0.06382234426592036,-1.4428815635037526,-0.3996679623842371,-0.41395652259150884,-0.7817080683037348,-0.7649194839950852,-0.29804713396409854,-0.5362284339621711,-1.3567671205439993,-1.2381446354935117,-1.5597349131799128,4.945017934913604,-1.0994721332100108,0.6634165306118028,0.5923170445509968,0.6701186728272667,-0.8396674041662843],\"xaxis\":\"x\",\"y\":[\"Ridge\",\"Ridge\",\"Ridge\",\"Ridge\",\"Ridge\",\"Ridge\",\"Ridge\",\"Ridge\",\"Ridge\",\"Ridge\",\"Ridge\",\"Ridge\",\"Ridge\",\"Ridge\",\"Ridge\",\"Ridge\",\"Ridge\",\"Ridge\",\"Ridge\",\"Ridge\",\"Ridge\",\"Ridge\",\"Ridge\",\"Ridge\",\"Ridge\",\"Ridge\",\"Ridge\",\"Ridge\",\"Ridge\",\"Ridge\",\"Ridge\",\"Ridge\",\"Ridge\",\"Ridge\",\"Ridge\",\"Ridge\",\"Ridge\",\"Ridge\",\"Ridge\",\"Ridge\",\"Ridge\",\"Ridge\",\"Ridge\",\"Ridge\",\"Ridge\",\"Ridge\",\"Ridge\",\"Ridge\",\"Ridge\",\"Ridge\",\"Ridge\",\"Ridge\",\"Ridge\",\"Ridge\",\"Ridge\",\"Ridge\",\"Ridge\",\"Ridge\",\"Ridge\",\"Ridge\",\"Ridge\",\"Ridge\",\"Ridge\",\"Ridge\",\"Ridge\",\"Ridge\",\"Ridge\",\"Ridge\",\"Ridge\",\"Ridge\",\"Ridge\",\"Ridge\",\"Ridge\",\"Ridge\",\"Ridge\",\"Ridge\",\"Ridge\",\"Ridge\",\"Ridge\",\"Ridge\",\"Ridge\",\"Ridge\",\"Ridge\",\"Ridge\",\"Ridge\",\"Ridge\",\"Ridge\",\"Ridge\",\"Ridge\",\"Ridge\",\"Ridge\",\"Ridge\",\"Ridge\",\"Ridge\",\"Ridge\",\"Ridge\",\"Ridge\",\"Ridge\",\"Ridge\",\"Ridge\",\"Ridge\",\"Ridge\",\"Ridge\",\"Ridge\",\"Ridge\",\"Ridge\",\"Ridge\",\"Ridge\",\"Ridge\",\"Ridge\",\"Ridge\",\"Ridge\",\"Ridge\",\"Ridge\",\"Ridge\",\"Ridge\",\"Ridge\",\"Ridge\",\"Ridge\",\"Ridge\",\"Ridge\",\"Ridge\",\"Ridge\",\"Ridge\",\"Ridge\",\"Ridge\",\"Ridge\",\"Ridge\",\"Ridge\",\"Ridge\",\"Ridge\",\"Ridge\",\"Ridge\",\"Ridge\",\"Ridge\",\"Ridge\",\"Ridge\",\"Ridge\",\"Ridge\",\"Ridge\",\"Ridge\",\"Ridge\",\"Ridge\",\"Ridge\",\"Ridge\",\"Ridge\",\"Ridge\",\"Ridge\",\"Ridge\",\"Ridge\",\"Ridge\",\"Ridge\",\"Ridge\",\"Ridge\",\"Ridge\",\"Ridge\",\"Ridge\",\"Ridge\",\"Ridge\",\"Ridge\",\"Ridge\",\"Ridge\",\"Ridge\",\"Ridge\",\"Ridge\",\"Ridge\",\"Ridge\",\"Ridge\",\"Ridge\",\"Ridge\",\"Ridge\",\"Ridge\",\"Ridge\",\"Ridge\",\"Ridge\",\"Ridge\",\"Ridge\",\"Ridge\",\"Ridge\",\"Ridge\",\"Ridge\",\"Ridge\",\"Ridge\",\"Ridge\",\"Ridge\",\"Ridge\",\"Ridge\",\"Ridge\",\"Ridge\",\"Ridge\",\"Ridge\",\"Ridge\",\"Ridge\",\"Ridge\",\"Ridge\",\"Ridge\",\"Ridge\",\"Ridge\",\"Ridge\",\"Ridge\",\"Ridge\",\"Ridge\",\"Ridge\",\"Ridge\",\"Ridge\",\"Ridge\",\"Ridge\",\"Ridge\",\"Ridge\",\"Ridge\",\"Ridge\",\"Ridge\",\"Ridge\",\"Ridge\",\"Ridge\",\"Ridge\",\"Ridge\",\"Ridge\",\"Ridge\",\"Ridge\",\"Ridge\",\"Ridge\",\"Ridge\",\"Ridge\",\"Ridge\",\"Ridge\",\"Ridge\",\"Ridge\",\"Ridge\",\"Ridge\",\"Ridge\",\"Ridge\",\"Ridge\",\"Ridge\",\"Ridge\",\"Ridge\",\"Ridge\",\"Ridge\",\"Ridge\",\"Ridge\",\"Ridge\",\"Ridge\",\"Ridge\",\"Ridge\",\"Ridge\",\"Ridge\",\"Ridge\",\"Ridge\",\"Ridge\",\"Ridge\",\"Ridge\",\"Ridge\",\"Ridge\",\"Ridge\",\"Ridge\",\"Ridge\",\"Ridge\",\"Ridge\",\"Ridge\",\"Ridge\",\"Ridge\",\"Ridge\",\"Ridge\",\"Ridge\",\"Ridge\",\"Ridge\",\"Ridge\",\"Ridge\",\"Ridge\",\"Ridge\"],\"yaxis\":\"y2\"}],                        {\"barmode\":\"overlay\",\"hovermode\":\"closest\",\"legend\":{\"traceorder\":\"reversed\"},\"template\":{\"data\":{\"bar\":[{\"error_x\":{\"color\":\"#2a3f5f\"},\"error_y\":{\"color\":\"#2a3f5f\"},\"marker\":{\"line\":{\"color\":\"#E5ECF6\",\"width\":0.5},\"pattern\":{\"fillmode\":\"overlay\",\"size\":10,\"solidity\":0.2}},\"type\":\"bar\"}],\"barpolar\":[{\"marker\":{\"line\":{\"color\":\"#E5ECF6\",\"width\":0.5},\"pattern\":{\"fillmode\":\"overlay\",\"size\":10,\"solidity\":0.2}},\"type\":\"barpolar\"}],\"carpet\":[{\"aaxis\":{\"endlinecolor\":\"#2a3f5f\",\"gridcolor\":\"white\",\"linecolor\":\"white\",\"minorgridcolor\":\"white\",\"startlinecolor\":\"#2a3f5f\"},\"baxis\":{\"endlinecolor\":\"#2a3f5f\",\"gridcolor\":\"white\",\"linecolor\":\"white\",\"minorgridcolor\":\"white\",\"startlinecolor\":\"#2a3f5f\"},\"type\":\"carpet\"}],\"choropleth\":[{\"colorbar\":{\"outlinewidth\":0,\"ticks\":\"\"},\"type\":\"choropleth\"}],\"contour\":[{\"colorbar\":{\"outlinewidth\":0,\"ticks\":\"\"},\"colorscale\":[[0.0,\"#0d0887\"],[0.1111111111111111,\"#46039f\"],[0.2222222222222222,\"#7201a8\"],[0.3333333333333333,\"#9c179e\"],[0.4444444444444444,\"#bd3786\"],[0.5555555555555556,\"#d8576b\"],[0.6666666666666666,\"#ed7953\"],[0.7777777777777778,\"#fb9f3a\"],[0.8888888888888888,\"#fdca26\"],[1.0,\"#f0f921\"]],\"type\":\"contour\"}],\"contourcarpet\":[{\"colorbar\":{\"outlinewidth\":0,\"ticks\":\"\"},\"type\":\"contourcarpet\"}],\"heatmap\":[{\"colorbar\":{\"outlinewidth\":0,\"ticks\":\"\"},\"colorscale\":[[0.0,\"#0d0887\"],[0.1111111111111111,\"#46039f\"],[0.2222222222222222,\"#7201a8\"],[0.3333333333333333,\"#9c179e\"],[0.4444444444444444,\"#bd3786\"],[0.5555555555555556,\"#d8576b\"],[0.6666666666666666,\"#ed7953\"],[0.7777777777777778,\"#fb9f3a\"],[0.8888888888888888,\"#fdca26\"],[1.0,\"#f0f921\"]],\"type\":\"heatmap\"}],\"heatmapgl\":[{\"colorbar\":{\"outlinewidth\":0,\"ticks\":\"\"},\"colorscale\":[[0.0,\"#0d0887\"],[0.1111111111111111,\"#46039f\"],[0.2222222222222222,\"#7201a8\"],[0.3333333333333333,\"#9c179e\"],[0.4444444444444444,\"#bd3786\"],[0.5555555555555556,\"#d8576b\"],[0.6666666666666666,\"#ed7953\"],[0.7777777777777778,\"#fb9f3a\"],[0.8888888888888888,\"#fdca26\"],[1.0,\"#f0f921\"]],\"type\":\"heatmapgl\"}],\"histogram\":[{\"marker\":{\"pattern\":{\"fillmode\":\"overlay\",\"size\":10,\"solidity\":0.2}},\"type\":\"histogram\"}],\"histogram2d\":[{\"colorbar\":{\"outlinewidth\":0,\"ticks\":\"\"},\"colorscale\":[[0.0,\"#0d0887\"],[0.1111111111111111,\"#46039f\"],[0.2222222222222222,\"#7201a8\"],[0.3333333333333333,\"#9c179e\"],[0.4444444444444444,\"#bd3786\"],[0.5555555555555556,\"#d8576b\"],[0.6666666666666666,\"#ed7953\"],[0.7777777777777778,\"#fb9f3a\"],[0.8888888888888888,\"#fdca26\"],[1.0,\"#f0f921\"]],\"type\":\"histogram2d\"}],\"histogram2dcontour\":[{\"colorbar\":{\"outlinewidth\":0,\"ticks\":\"\"},\"colorscale\":[[0.0,\"#0d0887\"],[0.1111111111111111,\"#46039f\"],[0.2222222222222222,\"#7201a8\"],[0.3333333333333333,\"#9c179e\"],[0.4444444444444444,\"#bd3786\"],[0.5555555555555556,\"#d8576b\"],[0.6666666666666666,\"#ed7953\"],[0.7777777777777778,\"#fb9f3a\"],[0.8888888888888888,\"#fdca26\"],[1.0,\"#f0f921\"]],\"type\":\"histogram2dcontour\"}],\"mesh3d\":[{\"colorbar\":{\"outlinewidth\":0,\"ticks\":\"\"},\"type\":\"mesh3d\"}],\"parcoords\":[{\"line\":{\"colorbar\":{\"outlinewidth\":0,\"ticks\":\"\"}},\"type\":\"parcoords\"}],\"pie\":[{\"automargin\":true,\"type\":\"pie\"}],\"scatter\":[{\"marker\":{\"colorbar\":{\"outlinewidth\":0,\"ticks\":\"\"}},\"type\":\"scatter\"}],\"scatter3d\":[{\"line\":{\"colorbar\":{\"outlinewidth\":0,\"ticks\":\"\"}},\"marker\":{\"colorbar\":{\"outlinewidth\":0,\"ticks\":\"\"}},\"type\":\"scatter3d\"}],\"scattercarpet\":[{\"marker\":{\"colorbar\":{\"outlinewidth\":0,\"ticks\":\"\"}},\"type\":\"scattercarpet\"}],\"scattergeo\":[{\"marker\":{\"colorbar\":{\"outlinewidth\":0,\"ticks\":\"\"}},\"type\":\"scattergeo\"}],\"scattergl\":[{\"marker\":{\"colorbar\":{\"outlinewidth\":0,\"ticks\":\"\"}},\"type\":\"scattergl\"}],\"scattermapbox\":[{\"marker\":{\"colorbar\":{\"outlinewidth\":0,\"ticks\":\"\"}},\"type\":\"scattermapbox\"}],\"scatterpolar\":[{\"marker\":{\"colorbar\":{\"outlinewidth\":0,\"ticks\":\"\"}},\"type\":\"scatterpolar\"}],\"scatterpolargl\":[{\"marker\":{\"colorbar\":{\"outlinewidth\":0,\"ticks\":\"\"}},\"type\":\"scatterpolargl\"}],\"scatterternary\":[{\"marker\":{\"colorbar\":{\"outlinewidth\":0,\"ticks\":\"\"}},\"type\":\"scatterternary\"}],\"surface\":[{\"colorbar\":{\"outlinewidth\":0,\"ticks\":\"\"},\"colorscale\":[[0.0,\"#0d0887\"],[0.1111111111111111,\"#46039f\"],[0.2222222222222222,\"#7201a8\"],[0.3333333333333333,\"#9c179e\"],[0.4444444444444444,\"#bd3786\"],[0.5555555555555556,\"#d8576b\"],[0.6666666666666666,\"#ed7953\"],[0.7777777777777778,\"#fb9f3a\"],[0.8888888888888888,\"#fdca26\"],[1.0,\"#f0f921\"]],\"type\":\"surface\"}],\"table\":[{\"cells\":{\"fill\":{\"color\":\"#EBF0F8\"},\"line\":{\"color\":\"white\"}},\"header\":{\"fill\":{\"color\":\"#C8D4E3\"},\"line\":{\"color\":\"white\"}},\"type\":\"table\"}]},\"layout\":{\"annotationdefaults\":{\"arrowcolor\":\"#2a3f5f\",\"arrowhead\":0,\"arrowwidth\":1},\"autotypenumbers\":\"strict\",\"coloraxis\":{\"colorbar\":{\"outlinewidth\":0,\"ticks\":\"\"}},\"colorscale\":{\"diverging\":[[0,\"#8e0152\"],[0.1,\"#c51b7d\"],[0.2,\"#de77ae\"],[0.3,\"#f1b6da\"],[0.4,\"#fde0ef\"],[0.5,\"#f7f7f7\"],[0.6,\"#e6f5d0\"],[0.7,\"#b8e186\"],[0.8,\"#7fbc41\"],[0.9,\"#4d9221\"],[1,\"#276419\"]],\"sequential\":[[0.0,\"#0d0887\"],[0.1111111111111111,\"#46039f\"],[0.2222222222222222,\"#7201a8\"],[0.3333333333333333,\"#9c179e\"],[0.4444444444444444,\"#bd3786\"],[0.5555555555555556,\"#d8576b\"],[0.6666666666666666,\"#ed7953\"],[0.7777777777777778,\"#fb9f3a\"],[0.8888888888888888,\"#fdca26\"],[1.0,\"#f0f921\"]],\"sequentialminus\":[[0.0,\"#0d0887\"],[0.1111111111111111,\"#46039f\"],[0.2222222222222222,\"#7201a8\"],[0.3333333333333333,\"#9c179e\"],[0.4444444444444444,\"#bd3786\"],[0.5555555555555556,\"#d8576b\"],[0.6666666666666666,\"#ed7953\"],[0.7777777777777778,\"#fb9f3a\"],[0.8888888888888888,\"#fdca26\"],[1.0,\"#f0f921\"]]},\"colorway\":[\"#636efa\",\"#EF553B\",\"#00cc96\",\"#ab63fa\",\"#FFA15A\",\"#19d3f3\",\"#FF6692\",\"#B6E880\",\"#FF97FF\",\"#FECB52\"],\"font\":{\"color\":\"#2a3f5f\"},\"geo\":{\"bgcolor\":\"white\",\"lakecolor\":\"white\",\"landcolor\":\"#E5ECF6\",\"showlakes\":true,\"showland\":true,\"subunitcolor\":\"white\"},\"hoverlabel\":{\"align\":\"left\"},\"hovermode\":\"closest\",\"mapbox\":{\"style\":\"light\"},\"paper_bgcolor\":\"white\",\"plot_bgcolor\":\"#E5ECF6\",\"polar\":{\"angularaxis\":{\"gridcolor\":\"white\",\"linecolor\":\"white\",\"ticks\":\"\"},\"bgcolor\":\"#E5ECF6\",\"radialaxis\":{\"gridcolor\":\"white\",\"linecolor\":\"white\",\"ticks\":\"\"}},\"scene\":{\"xaxis\":{\"backgroundcolor\":\"#E5ECF6\",\"gridcolor\":\"white\",\"gridwidth\":2,\"linecolor\":\"white\",\"showbackground\":true,\"ticks\":\"\",\"zerolinecolor\":\"white\"},\"yaxis\":{\"backgroundcolor\":\"#E5ECF6\",\"gridcolor\":\"white\",\"gridwidth\":2,\"linecolor\":\"white\",\"showbackground\":true,\"ticks\":\"\",\"zerolinecolor\":\"white\"},\"zaxis\":{\"backgroundcolor\":\"#E5ECF6\",\"gridcolor\":\"white\",\"gridwidth\":2,\"linecolor\":\"white\",\"showbackground\":true,\"ticks\":\"\",\"zerolinecolor\":\"white\"}},\"shapedefaults\":{\"line\":{\"color\":\"#2a3f5f\"}},\"ternary\":{\"aaxis\":{\"gridcolor\":\"white\",\"linecolor\":\"white\",\"ticks\":\"\"},\"baxis\":{\"gridcolor\":\"white\",\"linecolor\":\"white\",\"ticks\":\"\"},\"bgcolor\":\"#E5ECF6\",\"caxis\":{\"gridcolor\":\"white\",\"linecolor\":\"white\",\"ticks\":\"\"}},\"title\":{\"x\":0.05},\"xaxis\":{\"automargin\":true,\"gridcolor\":\"white\",\"linecolor\":\"white\",\"ticks\":\"\",\"title\":{\"standoff\":15},\"zerolinecolor\":\"white\",\"zerolinewidth\":2},\"yaxis\":{\"automargin\":true,\"gridcolor\":\"white\",\"linecolor\":\"white\",\"ticks\":\"\",\"title\":{\"standoff\":15},\"zerolinecolor\":\"white\",\"zerolinewidth\":2}}},\"xaxis\":{\"anchor\":\"y2\",\"domain\":[0.0,1.0],\"zeroline\":false},\"yaxis\":{\"anchor\":\"free\",\"domain\":[0.35,1],\"position\":0.0},\"yaxis2\":{\"anchor\":\"x\",\"domain\":[0,0.25],\"dtick\":1,\"showticklabels\":false}},                        {\"responsive\": true}                    ).then(function(){\n",
       "                            \n",
       "var gd = document.getElementById('2863dfc3-f583-4778-aee8-f97a807ccf99');\n",
       "var x = new MutationObserver(function (mutations, observer) {{\n",
       "        var display = window.getComputedStyle(gd).display;\n",
       "        if (!display || display === 'none') {{\n",
       "            console.log([gd, 'removed!']);\n",
       "            Plotly.purge(gd);\n",
       "            observer.disconnect();\n",
       "        }}\n",
       "}});\n",
       "\n",
       "// Listen for the removal of the full notebook cells\n",
       "var notebookContainer = gd.closest('#notebook-container');\n",
       "if (notebookContainer) {{\n",
       "    x.observe(notebookContainer, {childList: true});\n",
       "}}\n",
       "\n",
       "// Listen for the clearing of the current output cell\n",
       "var outputEl = gd.closest('.output');\n",
       "if (outputEl) {{\n",
       "    x.observe(outputEl, {childList: true});\n",
       "}}\n",
       "\n",
       "                        })                };                });            </script>        </div>"
      ]
     },
     "metadata": {},
     "output_type": "display_data"
    }
   ],
   "source": [
    "ff.create_distplot([\n",
    "    models['LassoCV'][\"LinearModel\"].coef_, \n",
    "    models['RidgeCV'][\"LinearModel\"].coef_],\n",
    "    [\"Lasso\", \"Ridge\"], bin_size=0.1)"
   ]
  },
  {
   "cell_type": "markdown",
   "metadata": {},
   "source": [
    "Here we get the names of all the features in the model."
   ]
  },
  {
   "cell_type": "code",
   "execution_count": 44,
   "metadata": {},
   "outputs": [
    {
     "name": "stdout",
     "output_type": "stream",
     "text": [
      "['cylinders' 'displacement' 'horsepower' 'weight' 'acceleration'\n",
      " 'model_year' 'x0_europe' 'x0_japan' 'x0_usa' '10' '100' '100ls' '111'\n",
      " '1131' '12' '1200' '1200d' '124' '128' '12tl' '1300' '144ea' '1500' '18i'\n",
      " '1900' '200' '2000' '2002' '200sx' '210' '225' '2300' '240d' '244dl'\n",
      " '245' '280s' '300d' '304' '310' '320i' '340' '350' '4000' '411' '4w'\n",
      " '500' '5000' '504' '505s' '510' '610' '626' '710' '810' '88' '99gle'\n",
      " '99le' 'accord' 'air' 'ambassador' 'amc' 'aries' 'aspen' 'audi' 'auto'\n",
      " 'beetle' 'bel' 'benz' 'bmw' 'brougham' 'buick' 'c10' 'cadillac' 'camaro'\n",
      " 'capri' 'caprice' 'carina' 'carlo' 'catalina' 'cavalier' 'celica'\n",
      " 'century' 'challenger' 'champ' 'chevelle' 'chevette' 'chevroelt'\n",
      " 'chevrolet' 'chevy' 'chrysler' 'ciera' 'citation' 'civic' 'classic'\n",
      " 'cobra' 'colt' 'concord' 'concours' 'corolla' 'corona' 'coronet' 'cougar'\n",
      " 'country' 'coupe' 'cressida' 'cuda' 'custom' 'cutlass' 'cvcc' 'd100'\n",
      " 'd200' 'dart' 'dasher' 'datsun' 'delta' 'deluxe' 'diesel' 'diplomat' 'dl'\n",
      " 'dodge' 'door' 'dpl' 'duster' 'eldorado' 'electra' 'escort' 'estate'\n",
      " 'f250' 'fairmont' 'fiat' 'firebird' 'ford' 'fox' 'fury' 'futura'\n",
      " 'galaxie' 'ghia' 'gl' 'glc' 'gran' 'granada' 'grand' 'gremlin' 'gs' 'gt'\n",
      " 'gtl' 'gx' 'hardtop' 'hatchback' 'hi' 'honda' 'horizon' 'hornet' 'ii'\n",
      " 'iii' 'impala' 'isuzu' 'j2000' 'jetta' 'landau' 'lebaron' 'lecar'\n",
      " 'lesabre' 'liftback' 'limited' 'lj' 'ls' 'ltd' 'luxus' 'lx' 'lynx'\n",
      " 'magnum' 'malibu' 'man' 'mark' 'marquis' 'matador' 'maverick' 'maxda'\n",
      " 'mazda' 'mercedes' 'mercury' 'model' 'monaco' 'monarch' 'monte' 'monza'\n",
      " 'mpg' 'mustang' 'new' 'newport' 'nissan' 'nova' 'oldsmobile' 'omega'\n",
      " 'omni' 'opel' 'pacer' 'peugeot' 'phoenix' 'pickup' 'pinto' 'pl510'\n",
      " 'plymouth' 'pontiac' 'prelude' 'premier' 'prix' 'rabbit' 'rampage'\n",
      " 'ranger' 'rebel' 'regal' 'regis' 'reliant' 'renault' 'royal' 'royale'\n",
      " 'rx' 'rx3' 'saab' 'safari' 'salon' 'sapporo' 'satellite' 'se' 'sebring'\n",
      " 'sedan' 'seville' 'sj' 'skyhawk' 'skylark' 'special' 'spirit' 'sport'\n",
      " 'sportabout' 'squire' 'sst' 'st' 'stanza' 'strada' 'subaru' 'suburb'\n",
      " 'sunbird' 'super' 'sw' 'sx' 'tc' 'tc3' 'tercel' 'torino' 'town' 'toyota'\n",
      " 'toyouta' 'turbo' 'type' 'v6' 'v8' 'valiant' 'vega' 'ventura' 'volare'\n",
      " 'volkswagen' 'volvo' 'vw' 'wagon' 'x1' 'xe' 'yorker' 'zephyr']\n"
     ]
    }
   ],
   "source": [
    "ct = models['LassoCV']['SelectColumns']\n",
    "feature_names = (\n",
    "    quantitative_features +\n",
    "    list(ct.named_transformers_['origin_encoder'].get_feature_names())+\n",
    "    list(ct.named_transformers_['text'].get_feature_names())\n",
    ")\n",
    "feature_names = np.array(feature_names)\n",
    "print(feature_names)"
   ]
  },
  {
   "cell_type": "markdown",
   "metadata": {},
   "source": [
    "Finally, we select the features that had non-zero coefficients (parameters).  Not surprisingly, many of these features are likely good predictors of the fuel economy of a car."
   ]
  },
  {
   "cell_type": "code",
   "execution_count": 45,
   "metadata": {},
   "outputs": [
    {
     "data": {
      "text/plain": [
       "array(['cylinders', 'displacement', 'weight', 'acceleration',\n",
       "       'model_year', 'x0_usa', '1200', '1500', '210', 'amc', 'civic',\n",
       "       'colt', 'corolla', 'custom', 'datsun', 'diesel', 'ford',\n",
       "       'hatchback', 'honda', 'horizon', 'ii', 'maxda', 'plymouth',\n",
       "       'pontiac', 'rabbit', 'renault', 'rx', 'rx3', 'sw', 'tercel', 'vw'],\n",
       "      dtype='<U12')"
      ]
     },
     "execution_count": 45,
     "metadata": {},
     "output_type": "execute_result"
    }
   ],
   "source": [
    "kept = ~np.isclose(models['LassoCV'][\"LinearModel\"].coef_, 0)\n",
    "feature_names[kept]"
   ]
  }
 ],
 "metadata": {
  "kernelspec": {
   "display_name": "Python 3",
   "language": "python",
   "name": "python3"
  },
  "language_info": {
   "codemirror_mode": {
    "name": "ipython",
    "version": 3
   },
   "file_extension": ".py",
   "mimetype": "text/x-python",
   "name": "python",
   "nbconvert_exporter": "python",
   "pygments_lexer": "ipython3",
   "version": "3.9.1"
  }
 },
 "nbformat": 4,
 "nbformat_minor": 4
}
