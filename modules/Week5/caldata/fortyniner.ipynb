{
 "cells": [
  {
   "cell_type": "code",
   "execution_count": 1,
   "metadata": {},
   "outputs": [
    {
     "name": "stdout",
     "output_type": "stream",
     "text": [
      "CSV file '49ers_2023_stats.csv' has been created.\n",
      "   Week               Opponent   Result  Pass Yards  Rush Yards  Total Yards  \\\n",
      "0     1    Pittsburgh Steelers   W 30-7         261         188          449   \n",
      "1     2       Los Angeles Rams  W 30-23         206         159          365   \n",
      "2     3        New York Giants  W 30-12         310         141          451   \n",
      "3    17  Washington Commanders  W 27-10         178         184          362   \n",
      "\n",
      "   Touchdowns  Interceptions  \n",
      "0           3              0  \n",
      "1           3              0  \n",
      "2           2              1  \n",
      "3           3              0  \n",
      "            Week  Pass Yards  Rush Yards  Total Yards  Touchdowns  \\\n",
      "count   4.000000    4.000000    4.000000     4.000000        4.00   \n",
      "mean    5.750000  238.750000  168.000000   406.750000        2.75   \n",
      "std     7.544314   58.693412   22.105806    49.962486        0.50   \n",
      "min     1.000000  178.000000  141.000000   362.000000        2.00   \n",
      "25%     1.750000  199.000000  154.500000   364.250000        2.75   \n",
      "50%     2.500000  233.500000  171.500000   407.000000        3.00   \n",
      "75%     6.500000  273.250000  185.000000   449.500000        3.00   \n",
      "max    17.000000  310.000000  188.000000   451.000000        3.00   \n",
      "\n",
      "       Interceptions  \n",
      "count           4.00  \n",
      "mean            0.25  \n",
      "std             0.50  \n",
      "min             0.00  \n",
      "25%             0.00  \n",
      "50%             0.00  \n",
      "75%             0.25  \n",
      "max             1.00  \n",
      "Week             0\n",
      "Opponent         0\n",
      "Result           0\n",
      "Pass Yards       0\n",
      "Rush Yards       0\n",
      "Total Yards      0\n",
      "Touchdowns       0\n",
      "Interceptions    0\n",
      "dtype: int64\n"
     ]
    }
   ],
   "source": [
    "import csv\n",
    "import pandas as pd\n",
    "\n",
    "# Sample data for 49ers 2023 season (17 games)\n",
    "data = [\n",
    "    ['Week', 'Opponent', 'Result', 'Pass Yards', 'Rush Yards', 'Total Yards', 'Touchdowns', 'Interceptions'],\n",
    "    [1, 'Pittsburgh Steelers', 'W 30-7', 261, 188, 449, 3, 0],\n",
    "    [2, 'Los Angeles Rams', 'W 30-23', 206, 159, 365, 3, 0],\n",
    "    [3, 'New York Giants', 'W 30-12', 310, 141, 451, 2, 1],\n",
    "    # ... Add more games here\n",
    "    [17, 'Washington Commanders', 'W 27-10', 178, 184, 362, 3, 0]\n",
    "]\n",
    "\n",
    "# Write data to CSV file\n",
    "csv_filename = '49ers_2023_stats.csv'\n",
    "with open(csv_filename, 'w', newline='') as csvfile:\n",
    "    writer = csv.writer(csvfile)\n",
    "    writer.writerows(data)\n",
    "\n",
    "print(f\"CSV file '{csv_filename}' has been created.\")\n",
    "\n",
    "# Read CSV into DataFrame\n",
    "df = pd.read_csv(csv_filename)\n",
    "\n",
    "# Display the first few rows of the DataFrame\n",
    "print(df.head())\n",
    "\n",
    "# Display basic statistics\n",
    "print(df.describe())\n",
    "\n",
    "# Check for missing values\n",
    "print(df.isnull().sum())"
   ]
  },
  {
   "cell_type": "code",
   "execution_count": null,
   "metadata": {},
   "outputs": [],
   "source": []
  }
 ],
 "metadata": {
  "kernelspec": {
   "display_name": "Assignment3",
   "language": "python",
   "name": "python3"
  },
  "language_info": {
   "codemirror_mode": {
    "name": "ipython",
    "version": 3
   },
   "file_extension": ".py",
   "mimetype": "text/x-python",
   "name": "python",
   "nbconvert_exporter": "python",
   "pygments_lexer": "ipython3",
   "version": "3.11.8"
  }
 },
 "nbformat": 4,
 "nbformat_minor": 2
}
