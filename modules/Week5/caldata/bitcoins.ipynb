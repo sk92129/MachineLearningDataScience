{
 "cells": [
  {
   "cell_type": "code",
   "execution_count": 3,
   "metadata": {},
   "outputs": [
    {
     "name": "stdout",
     "output_type": "stream",
     "text": [
      "             id rank symbol      name                         supply  \\\n",
      "0       bitcoin    1    BTC   Bitcoin      19758571.0000000000000000   \n",
      "1      ethereum    2    ETH  Ethereum     120362414.2278738300000000   \n",
      "2        tether    3   USDT    Tether  119234806111.2712900000000000   \n",
      "3  binance-coin    4    BNB       BNB     166801148.0000000000000000   \n",
      "4        solana    5    SOL    Solana     468727511.8447109000000000   \n",
      "\n",
      "                    maxSupply                    marketCapUsd  \\\n",
      "0   21000000.0000000000000000  1269101674427.5595590306193752   \n",
      "1                        None   316577138405.4784762319097973   \n",
      "2                        None   119292254772.9581028370162557   \n",
      "3  166801148.0000000000000000   100493055673.5209650068305552   \n",
      "4                        None    70754977304.2000846881348419   \n",
      "\n",
      "                  volumeUsd24Hr                priceUsd   changePercent24Hr  \\\n",
      "0  16679390663.3434692683758096  64230.4382451321787912  1.7269534327965065   \n",
      "1  10651055518.2713116256986857   2630.1993062894608166  0.0797387013528387   \n",
      "2  16722855985.1980699394597992      1.0004818111720935  0.0252259221901180   \n",
      "3    303032380.6531977978002836    602.4722064474098524  0.1389439325098450   \n",
      "4   1070606451.9948109597375976    150.9511934252350002  3.2946553931677556   \n",
      "\n",
      "                 vwap24Hr                                           explorer  \n",
      "0  63816.3255611633872889                           https://blockchain.info/  \n",
      "1   2640.1641135398357738                              https://etherscan.io/  \n",
      "2      0.9999697833177992             https://www.omniexplorer.info/asset/31  \n",
      "3    606.2757275779624532  https://etherscan.io/token/0xB8c77482e45F1F44d...  \n",
      "4    149.3689645302878665                       https://explorer.solana.com/  \n",
      "<class 'pandas.core.frame.DataFrame'>\n",
      "RangeIndex: 100 entries, 0 to 99\n",
      "Data columns (total 12 columns):\n",
      " #   Column             Non-Null Count  Dtype \n",
      "---  ------             --------------  ----- \n",
      " 0   id                 100 non-null    object\n",
      " 1   rank               100 non-null    object\n",
      " 2   symbol             100 non-null    object\n",
      " 3   name               100 non-null    object\n",
      " 4   supply             100 non-null    object\n",
      " 5   maxSupply          36 non-null     object\n",
      " 6   marketCapUsd       100 non-null    object\n",
      " 7   volumeUsd24Hr      100 non-null    object\n",
      " 8   priceUsd           100 non-null    object\n",
      " 9   changePercent24Hr  100 non-null    object\n",
      " 10  vwap24Hr           100 non-null    object\n",
      " 11  explorer           98 non-null     object\n",
      "dtypes: object(12)\n",
      "memory usage: 9.5+ KB\n",
      "None\n"
     ]
    }
   ],
   "source": [
    "import requests\n",
    "import pandas as pd\n",
    "\n",
    "# Fetch data from the CoinCap API\n",
    "url = \"https://api.coincap.io/v2/assets\"\n",
    "response = requests.get(url)\n",
    "data = response.json()\n",
    "\n",
    "# Extract the 'data' list from the JSON response\n",
    "crypto_data = data['data']\n",
    "\n",
    "# Create a DataFrame from the list of dictionaries\n",
    "df = pd.DataFrame(crypto_data)\n",
    "\n",
    "# Display the first few rows of the DataFrame\n",
    "print(df.head())\n",
    "\n",
    "# Display information about the DataFrame\n",
    "print(df.info())"
   ]
  }
 ],
 "metadata": {
  "kernelspec": {
   "display_name": "Assignment3",
   "language": "python",
   "name": "python3"
  },
  "language_info": {
   "codemirror_mode": {
    "name": "ipython",
    "version": 3
   },
   "file_extension": ".py",
   "mimetype": "text/x-python",
   "name": "python",
   "nbconvert_exporter": "python",
   "pygments_lexer": "ipython3",
   "version": "3.11.8"
  }
 },
 "nbformat": 4,
 "nbformat_minor": 2
}
