{
 "cells": [
  {
   "cell_type": "code",
   "execution_count": 1,
   "metadata": {},
   "outputs": [
    {
     "name": "stdout",
     "output_type": "stream",
     "text": [
      "   OBJECTID                 COUNTY          CITY   SHAPE_Length    SHAPE_Area\n",
      "0         1  San Bernardino County      Adelanto  122818.026283  2.025273e+08\n",
      "1         2     Los Angeles County  Agoura Hills   29624.533361  2.963876e+07\n",
      "2         3         Alameda County       Alameda   52126.420949  4.356806e+07\n",
      "3         4         Alameda County        Albany   16740.663068  7.549727e+06\n",
      "4         5     Los Angeles County      Alhambra   25462.341471  2.888168e+07\n",
      "OBJECTID        0\n",
      "COUNTY          0\n",
      "CITY            0\n",
      "SHAPE_Length    1\n",
      "SHAPE_Area      0\n",
      "dtype: int64\n",
      "<class 'pandas.core.frame.DataFrame'>\n",
      "RangeIndex: 483 entries, 0 to 482\n",
      "Data columns (total 5 columns):\n",
      " #   Column        Non-Null Count  Dtype  \n",
      "---  ------        --------------  -----  \n",
      " 0   OBJECTID      483 non-null    int64  \n",
      " 1   COUNTY        483 non-null    object \n",
      " 2   CITY          483 non-null    object \n",
      " 3   SHAPE_Length  482 non-null    float64\n",
      " 4   SHAPE_Area    483 non-null    float64\n",
      "dtypes: float64(2), int64(1), object(2)\n",
      "memory usage: 19.0+ KB\n",
      "None\n"
     ]
    }
   ],
   "source": [
    "import pandas as pd\n",
    "import csv\n",
    "\n",
    "# Read the CSV file into a DataFrame\n",
    "df = pd.read_csv('California_Incorporated_Cities.csv')\n",
    "\n",
    "# Display the first few rows of the DataFrame\n",
    "print(df.head())\n",
    "\n",
    "# Check for missing values or NaN\n",
    "print(df.isnull().sum())\n",
    "\n",
    "# Get information about the DataFrame, including data types and non-null counts\n",
    "print(df.info())"
   ]
  }
 ],
 "metadata": {
  "kernelspec": {
   "display_name": "Assignment3",
   "language": "python",
   "name": "python3"
  },
  "language_info": {
   "codemirror_mode": {
    "name": "ipython",
    "version": 3
   },
   "file_extension": ".py",
   "mimetype": "text/x-python",
   "name": "python",
   "nbconvert_exporter": "python",
   "pygments_lexer": "ipython3",
   "version": "3.11.8"
  }
 },
 "nbformat": 4,
 "nbformat_minor": 2
}
