{
 "cells": [
  {
   "cell_type": "code",
   "execution_count": 219,
   "metadata": {},
   "outputs": [],
   "source": [
    "import os\n",
    "import pandas as pd\n",
    "import numpy as np\n",
    "import matplotlib.pyplot as plt\n",
    "import seaborn as sns\n",
    "%matplotlib inline\n",
    "\n",
    "from pathlib import Path\n",
    "from sqlalchemy import create_engine\n",
    "from ds100_utils import fetch_and_cache\n"
   ]
  },
  {
   "cell_type": "code",
   "execution_count": 220,
   "metadata": {},
   "outputs": [],
   "source": [
    "import sqlite3\n",
    "conn = sqlite3.connect('testsql.db')"
   ]
  },
  {
   "cell_type": "code",
   "execution_count": 221,
   "metadata": {},
   "outputs": [],
   "source": [
    "conn.executescript(\"\"\"\n",
    "DROP TABLE IF EXISTS foods;\n",
    "DROP TABLE IF EXISTS countersales;\n",
    "\n",
    "CREATE TABLE foods(\n",
    "    id INTEGER PRIMARY KEY, \n",
    "    name TEXT\n",
    ");\n",
    "\n",
    "INSERT INTO foods VALUES \n",
    "    (-1, 'Apricot'),\n",
    "    (1, 'Boots'),\n",
    "    (2, 'Cally'),\n",
    "    (4, 'Eugene');\n",
    "\n",
    "CREATE TABLE countersales(\n",
    "    id INTEGER PRIMARY KEY,\n",
    "    breed TEXT\n",
    ");\n",
    "\n",
    "INSERT INTO countersales VALUES \n",
    "    (1, 'persian'),\n",
    "    (2, 'ragdoll'),\n",
    "    (4, 'bengal'),\n",
    "    (5, 'persian');\n",
    "\"\"\");"
   ]
  },
  {
   "cell_type": "code",
   "execution_count": 222,
   "metadata": {},
   "outputs": [
    {
     "name": "stdout",
     "output_type": "stream",
     "text": [
      "foods\n",
      "(-1, 'Apricot')\n",
      "(1, 'Boots')\n",
      "(2, 'Cally')\n",
      "(4, 'Eugene')\n",
      "countersales\n",
      "(1, 'persian')\n",
      "(2, 'ragdoll')\n",
      "(4, 'bengal')\n",
      "(5, 'persian')\n"
     ]
    }
   ],
   "source": [
    "def print_sql(s):\n",
    "    for result in conn.execute(s):\n",
    "        print(result)\n",
    "\n",
    "print(\"foods\")\n",
    "print_sql('SELECT * FROM foods;')\n",
    "print(\"countersales\")\n",
    "print_sql('SELECT * FROM countersales;')"
   ]
  },
  {
   "cell_type": "code",
   "execution_count": 223,
   "metadata": {},
   "outputs": [
    {
     "name": "stdout",
     "output_type": "stream",
     "text": [
      "(4, 'Eugene', 4, 'bengal')\n"
     ]
    }
   ],
   "source": [
    "#left outer join\n",
    "query = '''\n",
    "SELECT *\n",
    "FROM foods a LEFT JOIN countersales b\n",
    "  ON a.id = b.id where a.id > 3\n",
    "'''\n",
    "print_sql(query)"
   ]
  },
  {
   "cell_type": "code",
   "execution_count": 224,
   "metadata": {},
   "outputs": [],
   "source": [
    "\n",
    "dropIfExists = '''\n",
    "DROP TABLE IF EXISTS Customers1;\n",
    "'''\n",
    "\n",
    "\n",
    "print_sql(dropIfExists)\n"
   ]
  },
  {
   "cell_type": "code",
   "execution_count": 225,
   "metadata": {},
   "outputs": [],
   "source": [
    "createTable = '''\n",
    "CREATE TABLE Customers1(\n",
    "    id INTEGER PRIMARY KEY, \n",
    "    firstname TEXT,\n",
    "    lastname TEXT,\n",
    "    age INTEGER,\n",
    "    country TEXT\n",
    ");\n",
    "'''\n",
    "print_sql(createTable)"
   ]
  },
  {
   "cell_type": "code",
   "execution_count": 226,
   "metadata": {},
   "outputs": [
    {
     "name": "stdout",
     "output_type": "stream",
     "text": [
      "(0, 'id', 'INTEGER', 0, None, 1)\n",
      "(1, 'firstname', 'TEXT', 0, None, 0)\n",
      "(2, 'lastname', 'TEXT', 0, None, 0)\n",
      "(3, 'age', 'INTEGER', 0, None, 0)\n",
      "(4, 'country', 'TEXT', 0, None, 0)\n"
     ]
    }
   ],
   "source": [
    "query = \"PRAGMA table_info(Customers1);\"\n",
    "print_sql(query)"
   ]
  },
  {
   "cell_type": "code",
   "execution_count": 227,
   "metadata": {},
   "outputs": [],
   "source": [
    "\n",
    "insertStatement2 = '''\n",
    "INSERT INTO Customers1 VALUES \n",
    "    (0, 'John', 'Kim', 31, 'USA'),\n",
    "    (1, 'James', 'Kang', 22, 'USA'),\n",
    "    (2, 'David', 'Robinson', 22, 'UK'),\n",
    "    (4, 'Sam', 'Jones', 25, 'UK'),\n",
    "    (5, 'Bill', 'Smith', 28, 'UAE');\n",
    "'''\n",
    "\n",
    "print_sql(insertStatement2)"
   ]
  },
  {
   "cell_type": "code",
   "execution_count": 228,
   "metadata": {},
   "outputs": [
    {
     "name": "stdout",
     "output_type": "stream",
     "text": [
      "(0, 'John', 'Kim', 31, 'USA')\n",
      "(1, 'James', 'Kang', 22, 'USA')\n",
      "(2, 'David', 'Robinson', 22, 'UK')\n",
      "(4, 'Sam', 'Jones', 25, 'UK')\n",
      "(5, 'Bill', 'Smith', 28, 'UAE')\n"
     ]
    }
   ],
   "source": [
    "querycustomer = '''\n",
    "SELECT *\n",
    "FROM Customers1\n",
    "'''\n",
    "print_sql(querycustomer)"
   ]
  },
  {
   "cell_type": "code",
   "execution_count": 229,
   "metadata": {},
   "outputs": [
    {
     "name": "stdout",
     "output_type": "stream",
     "text": [
      "('UAE', 28.0)\n",
      "('USA', 26.5)\n"
     ]
    }
   ],
   "source": [
    "querygroupbyhaving = '''\n",
    "SELECT country, AVG(age) as average_age\n",
    "FROM Customers1\n",
    "GROUP BY country\n",
    "HAVING AVG(age) > 25;\n",
    "'''\n",
    "print_sql(querygroupbyhaving)"
   ]
  },
  {
   "cell_type": "code",
   "execution_count": 230,
   "metadata": {},
   "outputs": [],
   "source": [
    "createStudent = '''\n",
    "CREATE TABLE students (\n",
    "    name TEXT,\n",
    "    gpa REAL,\n",
    "    age INTEGER,\n",
    "    dept TEXT,\n",
    "    gender TEXT\n",
    ");\n",
    "'''\n",
    "print_sql(createStudent)"
   ]
  },
  {
   "cell_type": "markdown",
   "metadata": {},
   "source": []
  },
  {
   "cell_type": "code",
   "execution_count": 231,
   "metadata": {},
   "outputs": [],
   "source": [
    "insertStudents = '''\n",
    "INSERT INTO students (name, gpa, age, dept, gender) VALUES\n",
    "('Sergey Brin', 2.8, 45, 'CS', 'M'),\n",
    "('Danah Boyd', 3.9, 40, 'CS', 'F'),\n",
    "('Bill Gates', 1, 63, 'CS', 'M'),\n",
    "('Hillary Mason', 4, 39, 'DATASCI', 'F'),\n",
    "('Mike Olson', 3.7, 53, 'CS', 'M'),\n",
    "('Mark Zuckerberg', 3.8, 34, 'CS', 'M'),\n",
    "('Sheryl Sandberg', 3.6, 49, 'BUSINESS', 'F'),\n",
    "('Susan Wojcicki', 3.8, 50, 'BUSINESS', 'F'),\n",
    "('Marissa Mayer', 2.6, 43, 'BUSINESS', 'F');\n",
    "'''\n",
    "\n",
    "print_sql(insertStudents)"
   ]
  },
  {
   "cell_type": "code",
   "execution_count": 232,
   "metadata": {},
   "outputs": [
    {
     "name": "stdout",
     "output_type": "stream",
     "text": [
      "('Sergey Brin', 2.8, 45, 'CS', 'M')\n",
      "('Danah Boyd', 3.9, 40, 'CS', 'F')\n",
      "('Bill Gates', 1.0, 63, 'CS', 'M')\n",
      "('Hillary Mason', 4.0, 39, 'DATASCI', 'F')\n",
      "('Mike Olson', 3.7, 53, 'CS', 'M')\n",
      "('Mark Zuckerberg', 3.8, 34, 'CS', 'M')\n",
      "('Sheryl Sandberg', 3.6, 49, 'BUSINESS', 'F')\n",
      "('Susan Wojcicki', 3.8, 50, 'BUSINESS', 'F')\n",
      "('Marissa Mayer', 2.6, 43, 'BUSINESS', 'F')\n"
     ]
    }
   ],
   "source": [
    "queryStudents = '''\n",
    "SELECT *\n",
    "FROM students\n",
    "'''\n",
    "print_sql(queryStudents)"
   ]
  },
  {
   "cell_type": "code",
   "execution_count": 233,
   "metadata": {},
   "outputs": [
    {
     "name": "stdout",
     "output_type": "stream",
     "text": [
      "('CS',)\n",
      "('DATASCI',)\n",
      "('BUSINESS',)\n"
     ]
    }
   ],
   "source": [
    "queryStudents = '''\n",
    "SELECT DISTINCT dept from students;\n",
    "'''\n",
    "print_sql(queryStudents)"
   ]
  },
  {
   "cell_type": "code",
   "execution_count": 234,
   "metadata": {},
   "outputs": [
    {
     "name": "stdout",
     "output_type": "stream",
     "text": [
      "(3,)\n"
     ]
    }
   ],
   "source": [
    "queryStudents = '''\n",
    "SELECT COUNT(DISTINCT dept) from students;\n",
    "'''\n",
    "print_sql(queryStudents)"
   ]
  },
  {
   "cell_type": "markdown",
   "metadata": {},
   "source": [
    "Doing Joins\n"
   ]
  },
  {
   "cell_type": "code",
   "execution_count": 235,
   "metadata": {},
   "outputs": [],
   "source": [
    "createleft = '''\n",
    "CREATE TABLE s (\n",
    "    id INTEGER PRIMARY KEY,\n",
    "    name TEXT\n",
    ");\n",
    "'''\n",
    "print_sql(createleft)"
   ]
  },
  {
   "cell_type": "code",
   "execution_count": 236,
   "metadata": {},
   "outputs": [],
   "source": [
    "createright = '''\n",
    "CREATE TABLE t (\n",
    "    id INTEGER PRIMARY KEY,\n",
    "    breed TEXT\n",
    ");\n",
    "'''\n",
    "print_sql(createright)"
   ]
  },
  {
   "cell_type": "code",
   "execution_count": 237,
   "metadata": {},
   "outputs": [],
   "source": [
    "insertleft = '''\n",
    "INSERT INTO s (id, name) VALUES\n",
    "(0, 'Apricot'),\n",
    "(1, 'Boots'),\n",
    "(2, 'Cally'),\n",
    "(4, 'Eugene');\n",
    "'''\n",
    "\n",
    "print_sql(insertleft)"
   ]
  },
  {
   "cell_type": "code",
   "execution_count": 238,
   "metadata": {},
   "outputs": [],
   "source": [
    "insertleft = '''\n",
    "INSERT INTO t (id, breed) VALUES\n",
    "(1, 'persian'),\n",
    "(2, 'ragdoll'),\n",
    "(4, 'bengal'),\n",
    "(5, 'persian');\n",
    "'''\n",
    "\n",
    "print_sql(insertleft)"
   ]
  },
  {
   "cell_type": "code",
   "execution_count": 239,
   "metadata": {},
   "outputs": [
    {
     "name": "stdout",
     "output_type": "stream",
     "text": [
      "(0, 'Apricot')\n",
      "(1, 'Boots')\n",
      "(2, 'Cally')\n",
      "(4, 'Eugene')\n"
     ]
    }
   ],
   "source": [
    "justLeft = '''\n",
    "SELECT * FROM s;\n",
    "'''\n",
    "print_sql(justLeft)"
   ]
  },
  {
   "cell_type": "code",
   "execution_count": 240,
   "metadata": {},
   "outputs": [
    {
     "name": "stdout",
     "output_type": "stream",
     "text": [
      "(1, 'persian')\n",
      "(2, 'ragdoll')\n",
      "(4, 'bengal')\n",
      "(5, 'persian')\n"
     ]
    }
   ],
   "source": [
    "justRight = '''\n",
    "SELECT * FROM t;\n",
    "'''\n",
    "print_sql(justRight)"
   ]
  },
  {
   "cell_type": "code",
   "execution_count": 241,
   "metadata": {},
   "outputs": [
    {
     "name": "stdout",
     "output_type": "stream",
     "text": [
      "(0, 'Apricot', 1, 'persian')\n",
      "(0, 'Apricot', 2, 'ragdoll')\n",
      "(0, 'Apricot', 4, 'bengal')\n",
      "(0, 'Apricot', 5, 'persian')\n",
      "(1, 'Boots', 1, 'persian')\n",
      "(1, 'Boots', 2, 'ragdoll')\n",
      "(1, 'Boots', 4, 'bengal')\n",
      "(1, 'Boots', 5, 'persian')\n",
      "(2, 'Cally', 1, 'persian')\n",
      "(2, 'Cally', 2, 'ragdoll')\n",
      "(2, 'Cally', 4, 'bengal')\n",
      "(2, 'Cally', 5, 'persian')\n",
      "(4, 'Eugene', 1, 'persian')\n",
      "(4, 'Eugene', 2, 'ragdoll')\n",
      "(4, 'Eugene', 4, 'bengal')\n",
      "(4, 'Eugene', 5, 'persian')\n"
     ]
    }
   ],
   "source": [
    "crossJoin = '''\n",
    "SELECT * FROM s, t;\n",
    "'''\n",
    "print_sql(crossJoin)"
   ]
  },
  {
   "cell_type": "markdown",
   "metadata": {},
   "source": [
    "The inner join is the intersection.  Here are three permutations of them."
   ]
  },
  {
   "cell_type": "code",
   "execution_count": 242,
   "metadata": {},
   "outputs": [
    {
     "name": "stdout",
     "output_type": "stream",
     "text": [
      "(1, 'Boots', 1, 'persian')\n",
      "(2, 'Cally', 2, 'ragdoll')\n",
      "(4, 'Eugene', 4, 'bengal')\n"
     ]
    }
   ],
   "source": [
    "innerJoin = '''\n",
    "SELECT * FROM s JOIN t ON s.id = t.id;\n",
    "'''\n",
    "print_sql(innerJoin)"
   ]
  },
  {
   "cell_type": "code",
   "execution_count": 243,
   "metadata": {},
   "outputs": [
    {
     "name": "stdout",
     "output_type": "stream",
     "text": [
      "(1, 'Boots', 1, 'persian')\n",
      "(2, 'Cally', 2, 'ragdoll')\n",
      "(4, 'Eugene', 4, 'bengal')\n"
     ]
    }
   ],
   "source": [
    "innerJoin = '''\n",
    "SELECT * FROM s INNER JOIN t ON s.id = t.id;\n",
    "'''\n",
    "print_sql(innerJoin)"
   ]
  },
  {
   "cell_type": "code",
   "execution_count": 244,
   "metadata": {},
   "outputs": [
    {
     "name": "stdout",
     "output_type": "stream",
     "text": [
      "(1, 'Boots', 1, 'persian')\n",
      "(2, 'Cally', 2, 'ragdoll')\n",
      "(4, 'Eugene', 4, 'bengal')\n"
     ]
    }
   ],
   "source": [
    "innerJoin = '''\n",
    "SELECT * FROM s, t WHERE s.id = t.id;\n",
    "'''\n",
    "print_sql(innerJoin)"
   ]
  },
  {
   "cell_type": "code",
   "execution_count": 245,
   "metadata": {},
   "outputs": [
    {
     "name": "stdout",
     "output_type": "stream",
     "text": [
      "(0, 'Apricot', None, None)\n",
      "(1, 'Boots', 1, 'persian')\n",
      "(2, 'Cally', 2, 'ragdoll')\n",
      "(4, 'Eugene', 4, 'bengal')\n"
     ]
    }
   ],
   "source": [
    "leftOuterJoin = '''\n",
    "SELECT * FROM s LEFT JOIN t ON s.id = t.id;\n",
    "'''\n",
    "print_sql(leftOuterJoin)"
   ]
  },
  {
   "cell_type": "code",
   "execution_count": 246,
   "metadata": {},
   "outputs": [
    {
     "name": "stdout",
     "output_type": "stream",
     "text": [
      "(1, 'Boots', 1, 'persian')\n",
      "(2, 'Cally', 2, 'ragdoll')\n",
      "(4, 'Eugene', 4, 'bengal')\n",
      "(None, None, 5, 'persian')\n"
     ]
    }
   ],
   "source": [
    "rightOuterJoin = '''\n",
    "SELECT * FROM s RIGHT JOIN t ON s.id = t.id;\n",
    "'''\n",
    "print_sql(rightOuterJoin)"
   ]
  },
  {
   "cell_type": "code",
   "execution_count": 247,
   "metadata": {},
   "outputs": [
    {
     "name": "stdout",
     "output_type": "stream",
     "text": [
      "(0, 'Apricot', None, None)\n",
      "(1, 'Boots', 1, 'persian')\n",
      "(2, 'Cally', 2, 'ragdoll')\n",
      "(4, 'Eugene', 4, 'bengal')\n",
      "(None, None, 5, 'persian')\n"
     ]
    }
   ],
   "source": [
    "fullOuterJoin = '''\n",
    "SELECT * FROM s FULL OUTER JOIN t ON s.id = t.id;\n",
    "'''\n",
    "print_sql(fullOuterJoin)"
   ]
  },
  {
   "cell_type": "code",
   "execution_count": 248,
   "metadata": {},
   "outputs": [],
   "source": [
    "createTeacher = '''\n",
    "CREATE TABLE teacher (\n",
    "    age INTEGER,\n",
    "    name TEXT\n",
    ");\n",
    "'''\n",
    "print_sql(createTeacher)"
   ]
  },
  {
   "cell_type": "code",
   "execution_count": 249,
   "metadata": {},
   "outputs": [],
   "source": [
    "insertTeachers = '''\n",
    "INSERT INTO teacher (age, name) VALUES\n",
    "(52, 'Ian'),\n",
    "(41, 'Hell'),\n",
    "(27, 'John'),\n",
    "(36, 'Anne');\n",
    "'''\n",
    "print_sql(insertTeachers)"
   ]
  },
  {
   "cell_type": "code",
   "execution_count": 250,
   "metadata": {},
   "outputs": [
    {
     "name": "stdout",
     "output_type": "stream",
     "text": [
      "(52, 'Ian')\n",
      "(41, 'Hell')\n",
      "(27, 'John')\n",
      "(36, 'Anne')\n"
     ]
    }
   ],
   "source": [
    "verifyTeachers = '''\n",
    "SELECT * from teacher;\n",
    "'''\n",
    "print_sql(verifyTeachers)"
   ]
  },
  {
   "cell_type": "code",
   "execution_count": 251,
   "metadata": {},
   "outputs": [
    {
     "name": "stdout",
     "output_type": "stream",
     "text": [
      "('Sergey Brin', 'Hell')\n",
      "('Sergey Brin', 'John')\n",
      "('Sergey Brin', 'Anne')\n",
      "('Danah Boyd', 'John')\n",
      "('Danah Boyd', 'Anne')\n",
      "('Bill Gates', 'Ian')\n",
      "('Bill Gates', 'Hell')\n",
      "('Bill Gates', 'John')\n",
      "('Bill Gates', 'Anne')\n",
      "('Hillary Mason', 'John')\n",
      "('Hillary Mason', 'Anne')\n",
      "('Mike Olson', 'Ian')\n",
      "('Mike Olson', 'Hell')\n",
      "('Mike Olson', 'John')\n",
      "('Mike Olson', 'Anne')\n",
      "('Mark Zuckerberg', 'John')\n",
      "('Sheryl Sandberg', 'Hell')\n",
      "('Sheryl Sandberg', 'John')\n",
      "('Sheryl Sandberg', 'Anne')\n",
      "('Susan Wojcicki', 'Hell')\n",
      "('Susan Wojcicki', 'John')\n",
      "('Susan Wojcicki', 'Anne')\n",
      "('Marissa Mayer', 'Hell')\n",
      "('Marissa Mayer', 'John')\n",
      "('Marissa Mayer', 'Anne')\n"
     ]
    }
   ],
   "source": [
    "weirdQuery = '''\n",
    "SELECT s.name, t.name FROM students s, teacher t WHERE s.age > t.age;\n",
    "'''\n",
    "print_sql(weirdQuery)"
   ]
  },
  {
   "cell_type": "markdown",
   "metadata": {},
   "source": [
    "Aggregation"
   ]
  },
  {
   "cell_type": "code",
   "execution_count": 252,
   "metadata": {},
   "outputs": [
    {
     "name": "stdout",
     "output_type": "stream",
     "text": [
      "(0, 'Apricot', None, None)\n",
      "(1, 'Boots', 1, 'persian')\n",
      "(2, 'Cally', 2, 'ragdoll')\n",
      "(4, 'Eugene', 4, 'bengal')\n"
     ]
    }
   ],
   "source": [
    "straightQuery = '''\n",
    "SELECT * FROM s LEFT JOIN t ON s.id = t.id;\n",
    "'''\n",
    "print_sql(straightQuery)\n",
    "\n"
   ]
  },
  {
   "cell_type": "markdown",
   "metadata": {},
   "source": [
    "The  bellow query ignored the null"
   ]
  },
  {
   "cell_type": "code",
   "execution_count": 253,
   "metadata": {},
   "outputs": [
    {
     "name": "stdout",
     "output_type": "stream",
     "text": [
      "(3,)\n"
     ]
    }
   ],
   "source": [
    "aggregateCount = '''\n",
    "SELECT COUNT(t.id) FROM s LEFT JOIN t ON s.id = t.id;\n",
    "'''\n",
    "print_sql(aggregateCount)"
   ]
  },
  {
   "cell_type": "markdown",
   "metadata": {},
   "source": []
  },
  {
   "cell_type": "markdown",
   "metadata": {},
   "source": [
    "This above returned the number of rows in the resulting join."
   ]
  },
  {
   "cell_type": "code",
   "execution_count": 254,
   "metadata": {},
   "outputs": [
    {
     "name": "stdout",
     "output_type": "stream",
     "text": [
      "(7,)\n"
     ]
    }
   ],
   "source": [
    "aggSum = '''\n",
    "SELECT SUM(t.id) FROM s LEFT JOIN t ON s.id = t.id;\n",
    "'''\n",
    "print_sql(aggSum)\n"
   ]
  },
  {
   "cell_type": "code",
   "execution_count": 255,
   "metadata": {},
   "outputs": [
    {
     "name": "stdout",
     "output_type": "stream",
     "text": [
      "(2.3333333333333335,)\n"
     ]
    }
   ],
   "source": [
    "aggAvg = '''\n",
    "SELECT AVG(t.id) FROM s LEFT JOIN t ON s.id = t.id;\n",
    "'''\n",
    "print_sql(aggAvg)\n"
   ]
  },
  {
   "cell_type": "markdown",
   "metadata": {},
   "source": [
    "This is 7/3 not 7/4"
   ]
  },
  {
   "cell_type": "code",
   "execution_count": 256,
   "metadata": {},
   "outputs": [],
   "source": [
    "createMovie = '''\n",
    "CREATE TABLE movies (\n",
    "    id INTEGER PRIMARY KEY AUTOINCREMENT,\n",
    "    year INTEGER,\n",
    "    genre TEXT,\n",
    "    title TEXT,\n",
    "    main_actor TEXT,\n",
    "    director TEXT\n",
    ");\n",
    "'''\n",
    "print_sql(createMovie)"
   ]
  },
  {
   "cell_type": "code",
   "execution_count": 257,
   "metadata": {},
   "outputs": [],
   "source": [
    "insertMovie = '''\n",
    "INSERT INTO movies (year, genre, title, main_actor, director) VALUES\n",
    "(1994, 'Drama', 'The Shawshank Redemption', 'Tim Robbins', 'Frank Darabont'),\n",
    "(1972, 'Crime', 'The Godfather', 'Marlon Brando', 'Francis Ford Coppola'),\n",
    "(2008, 'Action', 'The Dark Knight', 'Christian Bale', 'Christopher Nolan'),\n",
    "(1994, 'Drama', 'Forrest Gump', 'Tom Hanks', 'Robert Zemeckis'),\n",
    "(1999, 'Sci-Fi', 'The Matrix', 'Keanu Reeves', 'Lana Wachowski'),\n",
    "(1994, 'Crime', 'Pulp Fiction', 'John Travolta', 'Quentin Tarantino'),\n",
    "(2003, 'Fantasy', 'The Lord of the Rings: The Return of the King', 'Elijah Wood', 'Peter Jackson'),\n",
    "(1999, 'Drama', 'Fight Club', 'Brad Pitt', 'David Fincher'),\n",
    "(1994, 'Drama', 'The Lion King', 'Matthew Broderick', 'Roger Allers'),\n",
    "(2010, 'Sci-Fi', 'Inception', 'Leonardo DiCaprio', 'Christopher Nolan'),\n",
    "(1997, 'Romance', 'Titanic', 'Leonardo DiCaprio', 'James Cameron'),\n",
    "(1980, 'Sci-Fi', 'Star Wars: Episode V - The Empire Strikes Back', 'Mark Hamill', 'Irvin Kershner'),\n",
    "(1995, 'Animation', 'Toy Story', 'Tom Hanks', 'John Lasseter'),\n",
    "(2001, 'Fantasy', 'Harry Potter and the Sorcerers Stone', 'Daniel Radcliffe', 'Chris Columbus'),\n",
    "(1993, 'Adventure', 'Jurassic Park', 'Sam Neill', 'Steven Spielberg'),\n",
    "(1985, 'Adventure', 'Back to the Future', 'Michael J. Fox', 'Robert Zemeckis'),\n",
    "(2002, 'Action', 'Spider-Man', 'Tobey Maguire', 'Sam Raimi'),\n",
    "(2012, 'Action', 'The Avengers', 'Robert Downey Jr.', 'Joss Whedon'),\n",
    "(1991, 'Thriller', 'The Silence of the Lambs', 'Jodie Foster', 'Jonathan Demme'),\n",
    "(2000, 'Action', 'Gladiator', 'Russell Crowe', 'Ridley Scott');\n",
    "'''\n",
    "print_sql(insertMovie)"
   ]
  },
  {
   "cell_type": "code",
   "execution_count": 258,
   "metadata": {},
   "outputs": [
    {
     "name": "stdout",
     "output_type": "stream",
     "text": [
      "(5, 1999, 'Sci-Fi', 'The Matrix', 'Keanu Reeves', 'Lana Wachowski')\n",
      "(17, 2002, 'Action', 'Spider-Man', 'Tobey Maguire', 'Sam Raimi')\n",
      "(13, 1995, 'Animation', 'Toy Story', 'Tom Hanks', 'John Lasseter')\n"
     ]
    }
   ],
   "source": [
    "randomSample = '''\n",
    "SELECT * FROM movies ORDER BY RANDOM() LIMIT 3\n",
    "'''\n",
    "print_sql(randomSample)"
   ]
  },
  {
   "cell_type": "code",
   "execution_count": 259,
   "metadata": {},
   "outputs": [
    {
     "name": "stdout",
     "output_type": "stream",
     "text": [
      "(2003,)\n",
      "(2001,)\n",
      "(2010,)\n"
     ]
    }
   ],
   "source": [
    "randomSample = '''\n",
    "SELECT year FROM movies\n",
    "GROUP BY year\n",
    "ORDER BY RANDOM()\n",
    "LIMIT 3;\n",
    "'''\n",
    "print_sql(randomSample)"
   ]
  },
  {
   "cell_type": "code",
   "execution_count": 260,
   "metadata": {},
   "outputs": [
    {
     "name": "stdout",
     "output_type": "stream",
     "text": [
      "(10, 2010, 'Sci-Fi', 'Inception', 'Leonardo DiCaprio', 'Christopher Nolan')\n",
      "(11, 1997, 'Romance', 'Titanic', 'Leonardo DiCaprio', 'James Cameron')\n",
      "(17, 2002, 'Action', 'Spider-Man', 'Tobey Maguire', 'Sam Raimi')\n"
     ]
    }
   ],
   "source": [
    "randomSample = '''\n",
    "SELECT * FROM movies\n",
    "WHERE year IN (\n",
    "SELECT year FROM movies\n",
    "group by year\n",
    "order by RANDOM()\n",
    "limit 3\n",
    ");\n",
    "'''\n",
    "print_sql(randomSample)"
   ]
  },
  {
   "cell_type": "code",
   "execution_count": 261,
   "metadata": {},
   "outputs": [
    {
     "name": "stdout",
     "output_type": "stream",
     "text": [
      "(15, 1993, 'Adventure', 'Jurassic Park', 'Sam Neill', 'Steven Spielberg', 'Sergey Brin', 2.8, 45, 'CS', 'M')\n",
      "(15, 1993, 'Adventure', 'Jurassic Park', 'Sam Neill', 'Steven Spielberg', 'Danah Boyd', 3.9, 40, 'CS', 'F')\n",
      "(15, 1993, 'Adventure', 'Jurassic Park', 'Sam Neill', 'Steven Spielberg', 'Bill Gates', 1.0, 63, 'CS', 'M')\n",
      "(15, 1993, 'Adventure', 'Jurassic Park', 'Sam Neill', 'Steven Spielberg', 'Hillary Mason', 4.0, 39, 'DATASCI', 'F')\n",
      "(15, 1993, 'Adventure', 'Jurassic Park', 'Sam Neill', 'Steven Spielberg', 'Mike Olson', 3.7, 53, 'CS', 'M')\n",
      "(15, 1993, 'Adventure', 'Jurassic Park', 'Sam Neill', 'Steven Spielberg', 'Mark Zuckerberg', 3.8, 34, 'CS', 'M')\n",
      "(15, 1993, 'Adventure', 'Jurassic Park', 'Sam Neill', 'Steven Spielberg', 'Sheryl Sandberg', 3.6, 49, 'BUSINESS', 'F')\n",
      "(15, 1993, 'Adventure', 'Jurassic Park', 'Sam Neill', 'Steven Spielberg', 'Susan Wojcicki', 3.8, 50, 'BUSINESS', 'F')\n",
      "(15, 1993, 'Adventure', 'Jurassic Park', 'Sam Neill', 'Steven Spielberg', 'Marissa Mayer', 2.6, 43, 'BUSINESS', 'F')\n",
      "(8, 1999, 'Drama', 'Fight Club', 'Brad Pitt', 'David Fincher', 'Sergey Brin', 2.8, 45, 'CS', 'M')\n",
      "(8, 1999, 'Drama', 'Fight Club', 'Brad Pitt', 'David Fincher', 'Danah Boyd', 3.9, 40, 'CS', 'F')\n",
      "(8, 1999, 'Drama', 'Fight Club', 'Brad Pitt', 'David Fincher', 'Bill Gates', 1.0, 63, 'CS', 'M')\n",
      "(8, 1999, 'Drama', 'Fight Club', 'Brad Pitt', 'David Fincher', 'Hillary Mason', 4.0, 39, 'DATASCI', 'F')\n",
      "(8, 1999, 'Drama', 'Fight Club', 'Brad Pitt', 'David Fincher', 'Mike Olson', 3.7, 53, 'CS', 'M')\n",
      "(8, 1999, 'Drama', 'Fight Club', 'Brad Pitt', 'David Fincher', 'Mark Zuckerberg', 3.8, 34, 'CS', 'M')\n",
      "(8, 1999, 'Drama', 'Fight Club', 'Brad Pitt', 'David Fincher', 'Sheryl Sandberg', 3.6, 49, 'BUSINESS', 'F')\n",
      "(8, 1999, 'Drama', 'Fight Club', 'Brad Pitt', 'David Fincher', 'Susan Wojcicki', 3.8, 50, 'BUSINESS', 'F')\n",
      "(8, 1999, 'Drama', 'Fight Club', 'Brad Pitt', 'David Fincher', 'Marissa Mayer', 2.6, 43, 'BUSINESS', 'F')\n",
      "(2, 1972, 'Crime', 'The Godfather', 'Marlon Brando', 'Francis Ford Coppola', 'Sergey Brin', 2.8, 45, 'CS', 'M')\n",
      "(2, 1972, 'Crime', 'The Godfather', 'Marlon Brando', 'Francis Ford Coppola', 'Danah Boyd', 3.9, 40, 'CS', 'F')\n",
      "(2, 1972, 'Crime', 'The Godfather', 'Marlon Brando', 'Francis Ford Coppola', 'Bill Gates', 1.0, 63, 'CS', 'M')\n",
      "(2, 1972, 'Crime', 'The Godfather', 'Marlon Brando', 'Francis Ford Coppola', 'Hillary Mason', 4.0, 39, 'DATASCI', 'F')\n",
      "(2, 1972, 'Crime', 'The Godfather', 'Marlon Brando', 'Francis Ford Coppola', 'Mike Olson', 3.7, 53, 'CS', 'M')\n",
      "(2, 1972, 'Crime', 'The Godfather', 'Marlon Brando', 'Francis Ford Coppola', 'Mark Zuckerberg', 3.8, 34, 'CS', 'M')\n",
      "(2, 1972, 'Crime', 'The Godfather', 'Marlon Brando', 'Francis Ford Coppola', 'Sheryl Sandberg', 3.6, 49, 'BUSINESS', 'F')\n",
      "(2, 1972, 'Crime', 'The Godfather', 'Marlon Brando', 'Francis Ford Coppola', 'Susan Wojcicki', 3.8, 50, 'BUSINESS', 'F')\n",
      "(2, 1972, 'Crime', 'The Godfather', 'Marlon Brando', 'Francis Ford Coppola', 'Marissa Mayer', 2.6, 43, 'BUSINESS', 'F')\n",
      "(10, 2010, 'Sci-Fi', 'Inception', 'Leonardo DiCaprio', 'Christopher Nolan', 'Sergey Brin', 2.8, 45, 'CS', 'M')\n",
      "(10, 2010, 'Sci-Fi', 'Inception', 'Leonardo DiCaprio', 'Christopher Nolan', 'Danah Boyd', 3.9, 40, 'CS', 'F')\n",
      "(10, 2010, 'Sci-Fi', 'Inception', 'Leonardo DiCaprio', 'Christopher Nolan', 'Bill Gates', 1.0, 63, 'CS', 'M')\n",
      "(10, 2010, 'Sci-Fi', 'Inception', 'Leonardo DiCaprio', 'Christopher Nolan', 'Hillary Mason', 4.0, 39, 'DATASCI', 'F')\n",
      "(10, 2010, 'Sci-Fi', 'Inception', 'Leonardo DiCaprio', 'Christopher Nolan', 'Mike Olson', 3.7, 53, 'CS', 'M')\n",
      "(10, 2010, 'Sci-Fi', 'Inception', 'Leonardo DiCaprio', 'Christopher Nolan', 'Mark Zuckerberg', 3.8, 34, 'CS', 'M')\n",
      "(10, 2010, 'Sci-Fi', 'Inception', 'Leonardo DiCaprio', 'Christopher Nolan', 'Sheryl Sandberg', 3.6, 49, 'BUSINESS', 'F')\n",
      "(10, 2010, 'Sci-Fi', 'Inception', 'Leonardo DiCaprio', 'Christopher Nolan', 'Susan Wojcicki', 3.8, 50, 'BUSINESS', 'F')\n",
      "(10, 2010, 'Sci-Fi', 'Inception', 'Leonardo DiCaprio', 'Christopher Nolan', 'Marissa Mayer', 2.6, 43, 'BUSINESS', 'F')\n",
      "(14, 2001, 'Fantasy', 'Harry Potter and the Sorcerers Stone', 'Daniel Radcliffe', 'Chris Columbus', 'Sergey Brin', 2.8, 45, 'CS', 'M')\n",
      "(14, 2001, 'Fantasy', 'Harry Potter and the Sorcerers Stone', 'Daniel Radcliffe', 'Chris Columbus', 'Danah Boyd', 3.9, 40, 'CS', 'F')\n",
      "(14, 2001, 'Fantasy', 'Harry Potter and the Sorcerers Stone', 'Daniel Radcliffe', 'Chris Columbus', 'Bill Gates', 1.0, 63, 'CS', 'M')\n",
      "(14, 2001, 'Fantasy', 'Harry Potter and the Sorcerers Stone', 'Daniel Radcliffe', 'Chris Columbus', 'Hillary Mason', 4.0, 39, 'DATASCI', 'F')\n",
      "(14, 2001, 'Fantasy', 'Harry Potter and the Sorcerers Stone', 'Daniel Radcliffe', 'Chris Columbus', 'Mike Olson', 3.7, 53, 'CS', 'M')\n",
      "(14, 2001, 'Fantasy', 'Harry Potter and the Sorcerers Stone', 'Daniel Radcliffe', 'Chris Columbus', 'Mark Zuckerberg', 3.8, 34, 'CS', 'M')\n",
      "(14, 2001, 'Fantasy', 'Harry Potter and the Sorcerers Stone', 'Daniel Radcliffe', 'Chris Columbus', 'Sheryl Sandberg', 3.6, 49, 'BUSINESS', 'F')\n",
      "(14, 2001, 'Fantasy', 'Harry Potter and the Sorcerers Stone', 'Daniel Radcliffe', 'Chris Columbus', 'Susan Wojcicki', 3.8, 50, 'BUSINESS', 'F')\n",
      "(14, 2001, 'Fantasy', 'Harry Potter and the Sorcerers Stone', 'Daniel Radcliffe', 'Chris Columbus', 'Marissa Mayer', 2.6, 43, 'BUSINESS', 'F')\n",
      "(1, 1994, 'Drama', 'The Shawshank Redemption', 'Tim Robbins', 'Frank Darabont', 'Sergey Brin', 2.8, 45, 'CS', 'M')\n",
      "(1, 1994, 'Drama', 'The Shawshank Redemption', 'Tim Robbins', 'Frank Darabont', 'Danah Boyd', 3.9, 40, 'CS', 'F')\n",
      "(1, 1994, 'Drama', 'The Shawshank Redemption', 'Tim Robbins', 'Frank Darabont', 'Bill Gates', 1.0, 63, 'CS', 'M')\n",
      "(1, 1994, 'Drama', 'The Shawshank Redemption', 'Tim Robbins', 'Frank Darabont', 'Hillary Mason', 4.0, 39, 'DATASCI', 'F')\n",
      "(1, 1994, 'Drama', 'The Shawshank Redemption', 'Tim Robbins', 'Frank Darabont', 'Mike Olson', 3.7, 53, 'CS', 'M')\n",
      "(1, 1994, 'Drama', 'The Shawshank Redemption', 'Tim Robbins', 'Frank Darabont', 'Mark Zuckerberg', 3.8, 34, 'CS', 'M')\n",
      "(1, 1994, 'Drama', 'The Shawshank Redemption', 'Tim Robbins', 'Frank Darabont', 'Sheryl Sandberg', 3.6, 49, 'BUSINESS', 'F')\n",
      "(1, 1994, 'Drama', 'The Shawshank Redemption', 'Tim Robbins', 'Frank Darabont', 'Susan Wojcicki', 3.8, 50, 'BUSINESS', 'F')\n",
      "(1, 1994, 'Drama', 'The Shawshank Redemption', 'Tim Robbins', 'Frank Darabont', 'Marissa Mayer', 2.6, 43, 'BUSINESS', 'F')\n",
      "(12, 1980, 'Sci-Fi', 'Star Wars: Episode V - The Empire Strikes Back', 'Mark Hamill', 'Irvin Kershner', 'Sergey Brin', 2.8, 45, 'CS', 'M')\n",
      "(12, 1980, 'Sci-Fi', 'Star Wars: Episode V - The Empire Strikes Back', 'Mark Hamill', 'Irvin Kershner', 'Danah Boyd', 3.9, 40, 'CS', 'F')\n",
      "(12, 1980, 'Sci-Fi', 'Star Wars: Episode V - The Empire Strikes Back', 'Mark Hamill', 'Irvin Kershner', 'Bill Gates', 1.0, 63, 'CS', 'M')\n",
      "(12, 1980, 'Sci-Fi', 'Star Wars: Episode V - The Empire Strikes Back', 'Mark Hamill', 'Irvin Kershner', 'Hillary Mason', 4.0, 39, 'DATASCI', 'F')\n",
      "(12, 1980, 'Sci-Fi', 'Star Wars: Episode V - The Empire Strikes Back', 'Mark Hamill', 'Irvin Kershner', 'Mike Olson', 3.7, 53, 'CS', 'M')\n",
      "(12, 1980, 'Sci-Fi', 'Star Wars: Episode V - The Empire Strikes Back', 'Mark Hamill', 'Irvin Kershner', 'Mark Zuckerberg', 3.8, 34, 'CS', 'M')\n",
      "(12, 1980, 'Sci-Fi', 'Star Wars: Episode V - The Empire Strikes Back', 'Mark Hamill', 'Irvin Kershner', 'Sheryl Sandberg', 3.6, 49, 'BUSINESS', 'F')\n",
      "(12, 1980, 'Sci-Fi', 'Star Wars: Episode V - The Empire Strikes Back', 'Mark Hamill', 'Irvin Kershner', 'Susan Wojcicki', 3.8, 50, 'BUSINESS', 'F')\n",
      "(12, 1980, 'Sci-Fi', 'Star Wars: Episode V - The Empire Strikes Back', 'Mark Hamill', 'Irvin Kershner', 'Marissa Mayer', 2.6, 43, 'BUSINESS', 'F')\n",
      "(11, 1997, 'Romance', 'Titanic', 'Leonardo DiCaprio', 'James Cameron', 'Sergey Brin', 2.8, 45, 'CS', 'M')\n",
      "(11, 1997, 'Romance', 'Titanic', 'Leonardo DiCaprio', 'James Cameron', 'Danah Boyd', 3.9, 40, 'CS', 'F')\n",
      "(11, 1997, 'Romance', 'Titanic', 'Leonardo DiCaprio', 'James Cameron', 'Bill Gates', 1.0, 63, 'CS', 'M')\n",
      "(11, 1997, 'Romance', 'Titanic', 'Leonardo DiCaprio', 'James Cameron', 'Hillary Mason', 4.0, 39, 'DATASCI', 'F')\n",
      "(11, 1997, 'Romance', 'Titanic', 'Leonardo DiCaprio', 'James Cameron', 'Mike Olson', 3.7, 53, 'CS', 'M')\n",
      "(11, 1997, 'Romance', 'Titanic', 'Leonardo DiCaprio', 'James Cameron', 'Mark Zuckerberg', 3.8, 34, 'CS', 'M')\n",
      "(11, 1997, 'Romance', 'Titanic', 'Leonardo DiCaprio', 'James Cameron', 'Sheryl Sandberg', 3.6, 49, 'BUSINESS', 'F')\n",
      "(11, 1997, 'Romance', 'Titanic', 'Leonardo DiCaprio', 'James Cameron', 'Susan Wojcicki', 3.8, 50, 'BUSINESS', 'F')\n",
      "(11, 1997, 'Romance', 'Titanic', 'Leonardo DiCaprio', 'James Cameron', 'Marissa Mayer', 2.6, 43, 'BUSINESS', 'F')\n",
      "(19, 1991, 'Thriller', 'The Silence of the Lambs', 'Jodie Foster', 'Jonathan Demme', 'Sergey Brin', 2.8, 45, 'CS', 'M')\n",
      "(19, 1991, 'Thriller', 'The Silence of the Lambs', 'Jodie Foster', 'Jonathan Demme', 'Danah Boyd', 3.9, 40, 'CS', 'F')\n",
      "(19, 1991, 'Thriller', 'The Silence of the Lambs', 'Jodie Foster', 'Jonathan Demme', 'Bill Gates', 1.0, 63, 'CS', 'M')\n",
      "(19, 1991, 'Thriller', 'The Silence of the Lambs', 'Jodie Foster', 'Jonathan Demme', 'Hillary Mason', 4.0, 39, 'DATASCI', 'F')\n",
      "(19, 1991, 'Thriller', 'The Silence of the Lambs', 'Jodie Foster', 'Jonathan Demme', 'Mike Olson', 3.7, 53, 'CS', 'M')\n",
      "(19, 1991, 'Thriller', 'The Silence of the Lambs', 'Jodie Foster', 'Jonathan Demme', 'Mark Zuckerberg', 3.8, 34, 'CS', 'M')\n",
      "(19, 1991, 'Thriller', 'The Silence of the Lambs', 'Jodie Foster', 'Jonathan Demme', 'Sheryl Sandberg', 3.6, 49, 'BUSINESS', 'F')\n",
      "(19, 1991, 'Thriller', 'The Silence of the Lambs', 'Jodie Foster', 'Jonathan Demme', 'Susan Wojcicki', 3.8, 50, 'BUSINESS', 'F')\n",
      "(19, 1991, 'Thriller', 'The Silence of the Lambs', 'Jodie Foster', 'Jonathan Demme', 'Marissa Mayer', 2.6, 43, 'BUSINESS', 'F')\n",
      "(3, 2008, 'Action', 'The Dark Knight', 'Christian Bale', 'Christopher Nolan', 'Sergey Brin', 2.8, 45, 'CS', 'M')\n",
      "(3, 2008, 'Action', 'The Dark Knight', 'Christian Bale', 'Christopher Nolan', 'Danah Boyd', 3.9, 40, 'CS', 'F')\n",
      "(3, 2008, 'Action', 'The Dark Knight', 'Christian Bale', 'Christopher Nolan', 'Bill Gates', 1.0, 63, 'CS', 'M')\n",
      "(3, 2008, 'Action', 'The Dark Knight', 'Christian Bale', 'Christopher Nolan', 'Hillary Mason', 4.0, 39, 'DATASCI', 'F')\n",
      "(3, 2008, 'Action', 'The Dark Knight', 'Christian Bale', 'Christopher Nolan', 'Mike Olson', 3.7, 53, 'CS', 'M')\n",
      "(3, 2008, 'Action', 'The Dark Knight', 'Christian Bale', 'Christopher Nolan', 'Mark Zuckerberg', 3.8, 34, 'CS', 'M')\n",
      "(3, 2008, 'Action', 'The Dark Knight', 'Christian Bale', 'Christopher Nolan', 'Sheryl Sandberg', 3.6, 49, 'BUSINESS', 'F')\n",
      "(3, 2008, 'Action', 'The Dark Knight', 'Christian Bale', 'Christopher Nolan', 'Susan Wojcicki', 3.8, 50, 'BUSINESS', 'F')\n",
      "(3, 2008, 'Action', 'The Dark Knight', 'Christian Bale', 'Christopher Nolan', 'Marissa Mayer', 2.6, 43, 'BUSINESS', 'F')\n"
     ]
    }
   ],
   "source": [
    "randomSample = '''\n",
    "\n",
    "WITH t2 AS (\n",
    "SELECT * FROM movies ORDER BY RANDOM() LIMIT 10\n",
    ")\n",
    "SELECT * FROM t2, students;\n",
    "\n",
    "'''\n",
    "print_sql(randomSample)\n",
    "\n"
   ]
  },
  {
   "cell_type": "code",
   "execution_count": 262,
   "metadata": {},
   "outputs": [
    {
     "name": "stdout",
     "output_type": "stream",
     "text": [
      "(1, 'The Shawshank Redemption', 1994, 'Drama', 'Tim Robbins', 'Frank Darabont', 'Classic')\n",
      "(2, 'The Godfather', 1972, 'Crime', 'Marlon Brando', 'Francis Ford Coppola', 'Classic')\n",
      "(3, 'The Dark Knight', 2008, 'Action', 'Christian Bale', 'Christopher Nolan', 'Modern Classic')\n",
      "(4, 'Forrest Gump', 1994, 'Drama', 'Tom Hanks', 'Robert Zemeckis', 'Classic')\n",
      "(5, 'The Matrix', 1999, 'Sci-Fi', 'Keanu Reeves', 'Lana Wachowski', 'Classic')\n",
      "(6, 'Pulp Fiction', 1994, 'Crime', 'John Travolta', 'Quentin Tarantino', 'Classic')\n",
      "(7, 'The Lord of the Rings: The Return of the King', 2003, 'Fantasy', 'Elijah Wood', 'Peter Jackson', 'Modern Classic')\n",
      "(8, 'Fight Club', 1999, 'Drama', 'Brad Pitt', 'David Fincher', 'Classic')\n",
      "(9, 'The Lion King', 1994, 'Drama', 'Matthew Broderick', 'Roger Allers', 'Classic')\n",
      "(10, 'Inception', 2010, 'Sci-Fi', 'Leonardo DiCaprio', 'Christopher Nolan', 'Modern Classic')\n",
      "(11, 'Titanic', 1997, 'Romance', 'Leonardo DiCaprio', 'James Cameron', 'Classic')\n",
      "(12, 'Star Wars: Episode V - The Empire Strikes Back', 1980, 'Sci-Fi', 'Mark Hamill', 'Irvin Kershner', 'Classic')\n",
      "(13, 'Toy Story', 1995, 'Animation', 'Tom Hanks', 'John Lasseter', 'Classic')\n",
      "(14, 'Harry Potter and the Sorcerers Stone', 2001, 'Fantasy', 'Daniel Radcliffe', 'Chris Columbus', 'Modern Classic')\n",
      "(15, 'Jurassic Park', 1993, 'Adventure', 'Sam Neill', 'Steven Spielberg', 'Classic')\n",
      "(16, 'Back to the Future', 1985, 'Adventure', 'Michael J. Fox', 'Robert Zemeckis', 'Classic')\n",
      "(17, 'Spider-Man', 2002, 'Action', 'Tobey Maguire', 'Sam Raimi', 'Modern Classic')\n",
      "(18, 'The Avengers', 2012, 'Action', 'Robert Downey Jr.', 'Joss Whedon', 'Contemporary')\n",
      "(19, 'The Silence of the Lambs', 1991, 'Thriller', 'Jodie Foster', 'Jonathan Demme', 'Classic')\n",
      "(20, 'Gladiator', 2000, 'Action', 'Russell Crowe', 'Ridley Scott', 'Modern Classic')\n"
     ]
    }
   ],
   "source": [
    "caseSample = '''\n",
    "SELECT \n",
    "    id,\n",
    "    title,\n",
    "    year,\n",
    "    genre,\n",
    "    main_actor,\n",
    "    director,\n",
    "    CASE\n",
    "        WHEN year < 2000 THEN 'Classic'\n",
    "        WHEN year BETWEEN 2000 AND 2010 THEN 'Modern Classic'\n",
    "        ELSE 'Contemporary'\n",
    "    END AS era\n",
    "FROM \n",
    "    movies;\n",
    "\n",
    "'''\n",
    "print_sql(caseSample)"
   ]
  },
  {
   "cell_type": "code",
   "execution_count": 263,
   "metadata": {},
   "outputs": [
    {
     "name": "stdout",
     "output_type": "stream",
     "text": [
      "('The Shawshank Redemption', 'The')\n",
      "('The Godfather', 'The')\n",
      "('The Dark Knight', 'The')\n",
      "('Forrest Gump', 'Forrest')\n",
      "('The Matrix', 'The')\n",
      "('Pulp Fiction', 'Pulp')\n",
      "('The Lord of the Rings: The Return of the King', 'The')\n",
      "('Fight Club', 'Fight')\n",
      "('The Lion King', 'The')\n",
      "('Inception', 'Inception')\n",
      "('Titanic', 'Titanic')\n",
      "('Star Wars: Episode V - The Empire Strikes Back', 'Star')\n",
      "('Toy Story', 'Toy')\n",
      "('Harry Potter and the Sorcerers Stone', 'Harry')\n",
      "('Jurassic Park', 'Jurassic')\n",
      "('Back to the Future', 'Back')\n",
      "('Spider-Man', 'Spider-Man')\n",
      "('The Avengers', 'The')\n",
      "('The Silence of the Lambs', 'The')\n",
      "('Gladiator', 'Gladiator')\n"
     ]
    }
   ],
   "source": [
    "substrSample = '''\n",
    "\n",
    "SELECT \n",
    "    \n",
    "    title,\n",
    "    SUBSTR(title, 1, INSTR(title || ' ', ' ') - 1) AS first_word\n",
    "FROM \n",
    "    movies;\n",
    "\n",
    "'''\n",
    "print_sql(substrSample)"
   ]
  }
 ],
 "metadata": {
  "kernelspec": {
   "display_name": "Assignment3",
   "language": "python",
   "name": "python3"
  },
  "language_info": {
   "codemirror_mode": {
    "name": "ipython",
    "version": 3
   },
   "file_extension": ".py",
   "mimetype": "text/x-python",
   "name": "python",
   "nbconvert_exporter": "python",
   "pygments_lexer": "ipython3",
   "version": "3.11.8"
  }
 },
 "nbformat": 4,
 "nbformat_minor": 2
}
