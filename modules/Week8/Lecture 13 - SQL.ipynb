{
 "cells": [
  {
   "cell_type": "code",
   "execution_count": 17,
   "metadata": {},
   "outputs": [],
   "source": [
    "import os\n",
    "import pandas as pd\n",
    "import numpy as np\n",
    "import matplotlib.pyplot as plt\n",
    "import seaborn as sns\n",
    "%matplotlib inline\n",
    "\n",
    "from pathlib import Path\n",
    "from sqlalchemy import create_engine\n",
    "from ds100_utils import fetch_and_cache\n",
    "\n",
    "sns.set()\n",
    "sns.set_context('talk')\n",
    "np.set_printoptions(threshold=20, precision=2, suppress=True)\n",
    "pd.set_option('display.max_rows', 7)\n",
    "pd.set_option('display.max_columns', 8)\n",
    "#pd.set_option('precision', 2)"
   ]
  },
  {
   "cell_type": "markdown",
   "metadata": {},
   "source": [
    "## SQL Joins"
   ]
  },
  {
   "cell_type": "code",
   "execution_count": 18,
   "metadata": {},
   "outputs": [],
   "source": [
    "import sqlite3\n",
    "conn = sqlite3.connect('test13.db')"
   ]
  },
  {
   "cell_type": "code",
   "execution_count": 19,
   "metadata": {},
   "outputs": [],
   "source": [
    "conn.executescript(\"\"\"\n",
    "DROP TABLE IF EXISTS s;\n",
    "DROP TABLE IF EXISTS t;\n",
    "\n",
    "CREATE TABLE s(\n",
    "    id INTEGER PRIMARY KEY, \n",
    "    name TEXT\n",
    ");\n",
    "\n",
    "INSERT INTO s VALUES \n",
    "    (-1, 'Apricot'),\n",
    "    (1, 'Boots'),\n",
    "    (2, 'Cally'),\n",
    "    (4, 'Eugene');\n",
    "\n",
    "CREATE TABLE t(\n",
    "    id INTEGER PRIMARY KEY,\n",
    "    breed TEXT\n",
    ");\n",
    "\n",
    "INSERT INTO t VALUES \n",
    "    (1, 'persian'),\n",
    "    (2, 'ragdoll'),\n",
    "    (4, 'bengal'),\n",
    "    (5, 'persian');\n",
    "\"\"\");"
   ]
  },
  {
   "cell_type": "code",
   "execution_count": 20,
   "metadata": {},
   "outputs": [
    {
     "name": "stdout",
     "output_type": "stream",
     "text": [
      "(-1, 'Apricot')\n",
      "(1, 'Boots')\n",
      "(2, 'Cally')\n",
      "(4, 'Eugene')\n"
     ]
    }
   ],
   "source": [
    "def print_sql(s):\n",
    "    for result in conn.execute(s):\n",
    "        print(result)\n",
    "\n",
    "print_sql('SELECT * FROM s;')\n"
   ]
  },
  {
   "cell_type": "code",
   "execution_count": 21,
   "metadata": {},
   "outputs": [
    {
     "name": "stdout",
     "output_type": "stream",
     "text": [
      "(1, 'persian')\n",
      "(2, 'ragdoll')\n",
      "(4, 'bengal')\n",
      "(5, 'persian')\n"
     ]
    }
   ],
   "source": [
    "print_sql('SELECT * FROM t;')"
   ]
  },
  {
   "cell_type": "code",
   "execution_count": 22,
   "metadata": {},
   "outputs": [
    {
     "name": "stdout",
     "output_type": "stream",
     "text": [
      "(2, 'Cally')\n",
      "(4, 'Eugene')\n"
     ]
    }
   ],
   "source": [
    "query = '''\n",
    "SELECT *\n",
    "FROM s\n",
    "WHERE id >= 2;\n",
    "'''\n",
    "\n",
    "print_sql(query)"
   ]
  },
  {
   "cell_type": "code",
   "execution_count": 23,
   "metadata": {},
   "outputs": [
    {
     "name": "stdout",
     "output_type": "stream",
     "text": [
      "(-1, 'Apricot', 1, 'persian')\n",
      "(-1, 'Apricot', 2, 'ragdoll')\n",
      "(-1, 'Apricot', 4, 'bengal')\n",
      "(-1, 'Apricot', 5, 'persian')\n",
      "(1, 'Boots', 1, 'persian')\n",
      "(1, 'Boots', 2, 'ragdoll')\n",
      "(1, 'Boots', 4, 'bengal')\n",
      "(1, 'Boots', 5, 'persian')\n",
      "(2, 'Cally', 1, 'persian')\n",
      "(2, 'Cally', 2, 'ragdoll')\n",
      "(2, 'Cally', 4, 'bengal')\n",
      "(2, 'Cally', 5, 'persian')\n",
      "(4, 'Eugene', 1, 'persian')\n",
      "(4, 'Eugene', 2, 'ragdoll')\n",
      "(4, 'Eugene', 4, 'bengal')\n",
      "(4, 'Eugene', 5, 'persian')\n"
     ]
    }
   ],
   "source": [
    "#cross join\n",
    "query = '''\n",
    "SELECT *\n",
    "FROM s, t\n",
    "'''\n",
    "print_sql(query)"
   ]
  },
  {
   "cell_type": "code",
   "execution_count": 24,
   "metadata": {},
   "outputs": [
    {
     "name": "stdout",
     "output_type": "stream",
     "text": [
      "(1, 'Boots', 1, 'persian')\n",
      "(2, 'Cally', 2, 'ragdoll')\n",
      "(4, 'Eugene', 4, 'bengal')\n"
     ]
    }
   ],
   "source": [
    "#inner join\n",
    "query = '''\n",
    "SELECT *\n",
    "FROM s JOIN t\n",
    "  ON s.id = t.id\n",
    "'''\n",
    "print_sql(query)"
   ]
  },
  {
   "cell_type": "code",
   "execution_count": 25,
   "metadata": {},
   "outputs": [
    {
     "name": "stdout",
     "output_type": "stream",
     "text": [
      "(2, 'Cally', 2, 'ragdoll')\n",
      "(4, 'Eugene', 4, 'bengal')\n"
     ]
    }
   ],
   "source": [
    "#left outer join\n",
    "query = '''\n",
    "SELECT *\n",
    "FROM s LEFT JOIN t\n",
    "  ON s.id = t.id\n",
    "  where s.id > 1\n",
    "'''\n",
    "print_sql(query)"
   ]
  },
  {
   "cell_type": "code",
   "execution_count": 26,
   "metadata": {},
   "outputs": [
    {
     "name": "stdout",
     "output_type": "stream",
     "text": [
      "(1, 'persian', 1, 'Boots')\n",
      "(2, 'ragdoll', 2, 'Cally')\n",
      "(4, 'bengal', 4, 'Eugene')\n",
      "(5, 'persian', None, None)\n"
     ]
    }
   ],
   "source": [
    "#right inner join unsupported, so we have to switch s and t\n",
    "query = '''\n",
    "SELECT *\n",
    "FROM t LEFT JOIN s\n",
    "  ON s.id = t.id\n",
    "'''\n",
    "print_sql(query)"
   ]
  },
  {
   "cell_type": "markdown",
   "metadata": {},
   "source": [
    "Doing an outer join is possible but is not very concise and requires UNION keyword."
   ]
  },
  {
   "cell_type": "code",
   "execution_count": 27,
   "metadata": {},
   "outputs": [
    {
     "name": "stdout",
     "output_type": "stream",
     "text": [
      "(None, None, 5, 'persian')\n",
      "(-1, 'Apricot', None, None)\n",
      "(1, 'Boots', 1, 'persian')\n",
      "(2, 'Cally', 2, 'ragdoll')\n",
      "(4, 'Eugene', 4, 'bengal')\n"
     ]
    }
   ],
   "source": [
    "#full outer join with UNION\n",
    "query = '''\n",
    "SELECT s.id, s.name, t.id, t.breed\n",
    "FROM s LEFT JOIN t\n",
    "  ON s.id = t.id\n",
    "UNION\n",
    "SELECT s.id, s.name, t.id, t.breed\n",
    "FROM t LEFT JOIN s\n",
    "  ON s.id = t.id\n",
    "'''\n",
    "print_sql(query)"
   ]
  },
  {
   "cell_type": "code",
   "execution_count": 28,
   "metadata": {
    "tags": []
   },
   "outputs": [],
   "source": [
    "conn.executescript(\"\"\"\n",
    "DROP TABLE IF EXISTS student;\n",
    "DROP TABLE IF EXISTS teacher;\n",
    "\n",
    "CREATE TABLE student(\n",
    "    age INTEGER, \n",
    "    name TEXT\n",
    ");\n",
    "\n",
    "INSERT INTO student VALUES \n",
    "    (29, 'James'),\n",
    "    (37, 'Jin'),\n",
    "    (20, 'John'),\n",
    "    (20, 'Emma');\n",
    "\n",
    "CREATE TABLE teacher(\n",
    "    age INTEGER,\n",
    "    name TEXT\n",
    ");\n",
    "\n",
    "INSERT INTO teacher VALUES \n",
    "    (52, 'Ian'),\n",
    "    (41, 'Hellen'),\n",
    "    (27, 'John'),\n",
    "    (36, 'Anne');\n",
    "\"\"\");"
   ]
  },
  {
   "cell_type": "code",
   "execution_count": 29,
   "metadata": {
    "tags": []
   },
   "outputs": [
    {
     "name": "stdout",
     "output_type": "stream",
     "text": [
      "(29, 'James', 27, 'John')\n",
      "(37, 'Jin', 27, 'John')\n",
      "(37, 'Jin', 36, 'Anne')\n"
     ]
    }
   ],
   "source": [
    "#\n",
    "query = '''\n",
    "SELECT * FROM student, teacher WHERE student.age > teacher.age\n",
    "'''\n",
    "print_sql(query)"
   ]
  },
  {
   "cell_type": "code",
   "execution_count": 30,
   "metadata": {
    "tags": []
   },
   "outputs": [],
   "source": [
    "conn.executescript(\"\"\"\n",
    "\n",
    "\n",
    "INSERT INTO student VALUES \n",
    "    (2, NULL);\n",
    "\n",
    "\"\"\");"
   ]
  },
  {
   "cell_type": "code",
   "execution_count": 31,
   "metadata": {
    "tags": []
   },
   "outputs": [
    {
     "name": "stdout",
     "output_type": "stream",
     "text": [
      "(2, None)\n"
     ]
    }
   ],
   "source": [
    "#\n",
    "query = '''\n",
    "SELECT * FROM student WHERE name is NULL\n",
    "'''\n",
    "print_sql(query)"
   ]
  },
  {
   "cell_type": "code",
   "execution_count": 32,
   "metadata": {
    "tags": []
   },
   "outputs": [
    {
     "name": "stdout",
     "output_type": "stream",
     "text": [
      "(29, 'James')\n",
      "(37, 'Jin')\n",
      "(20, 'John')\n",
      "(20, 'Emma')\n",
      "(2, None)\n"
     ]
    }
   ],
   "source": [
    "#\n",
    "query = '''\n",
    "SELECT * FROM student\n",
    "'''\n",
    "print_sql(query)"
   ]
  },
  {
   "cell_type": "code",
   "execution_count": 33,
   "metadata": {
    "tags": []
   },
   "outputs": [
    {
     "name": "stdout",
     "output_type": "stream",
     "text": [
      "(3,)\n"
     ]
    }
   ],
   "source": [
    "# count ignore null values\n",
    "query = '''\n",
    "SELECT COUNT(t.id) FROM s LEFT JOIN t ON s.id = t.id\n",
    "'''\n",
    "print_sql(query)"
   ]
  },
  {
   "cell_type": "code",
   "execution_count": 34,
   "metadata": {
    "tags": []
   },
   "outputs": [
    {
     "name": "stdout",
     "output_type": "stream",
     "text": [
      "(7,)\n"
     ]
    }
   ],
   "source": [
    "# count ignore null values\n",
    "query = '''\n",
    "SELECT SUM(t.id) FROM s LEFT JOIN t ON s.id = t.id\n",
    "'''\n",
    "print_sql(query)"
   ]
  },
  {
   "cell_type": "code",
   "execution_count": 35,
   "metadata": {
    "tags": []
   },
   "outputs": [
    {
     "name": "stdout",
     "output_type": "stream",
     "text": [
      "(-1, 'Apricot', None, None)\n",
      "(1, 'Boots', 1, 'persian')\n",
      "(2, 'Cally', 2, 'ragdoll')\n",
      "(4, 'Eugene', 4, 'bengal')\n"
     ]
    }
   ],
   "source": [
    "#\n",
    "query = '''\n",
    "SELECT * FROM s LEFT JOIN t ON s.id = t.id \n",
    "'''\n",
    "print_sql(query)\n",
    "# how to handle this correctly?  https://learnsql.com/blog/null-comparison-operators/"
   ]
  },
  {
   "cell_type": "code",
   "execution_count": 36,
   "metadata": {
    "tags": []
   },
   "outputs": [
    {
     "name": "stdout",
     "output_type": "stream",
     "text": [
      "(1, 'Boots', 1, 'persian')\n",
      "(2, 'Cally', 2, 'ragdoll')\n",
      "(4, 'Eugene', 4, 'bengal')\n"
     ]
    }
   ],
   "source": [
    "#\n",
    "query = '''\n",
    "SELECT * FROM s LEFT JOIN t ON s.id = t.id where t.breed is NOT NULL\n",
    "'''\n",
    "print_sql(query)\n",
    "# how to handle this correctly?  https://learnsql.com/blog/null-comparison-operators/"
   ]
  },
  {
   "cell_type": "markdown",
   "metadata": {},
   "source": [
    "## IMDB Data"
   ]
  },
  {
   "cell_type": "code",
   "execution_count": null,
   "metadata": {},
   "outputs": [],
   "source": []
  },
  {
   "cell_type": "code",
   "execution_count": 37,
   "metadata": {},
   "outputs": [],
   "source": [
    "data_directory = './'"
   ]
  },
  {
   "cell_type": "code",
   "execution_count": 38,
   "metadata": {
    "scrolled": true
   },
   "outputs": [
    {
     "name": "stdout",
     "output_type": "stream",
     "text": [
      "Using cached version that was downloaded (UTC): Tue Oct 15 23:24:17 2024\n",
      "Using cached version that was downloaded (UTC): Tue Oct 15 23:24:24 2024\n",
      "total 4500208\n",
      "-rw-r--r--@ 1 seankang  staff    65K Oct 15 23:25 Lecture 13 - SQL.ipynb\n",
      "-rw-r--r--@ 1 seankang  staff   595K Oct  9 22:18 Lecture 13 - SQL.pdf\n",
      "-rw-r--r--@ 1 seankang  staff   1.7M Feb 27  2024 Lecture 13 - SQL.pptx\n",
      "-rw-r--r--@ 1 seankang  staff   1.0M Oct  9 22:19 Lecture 14. Modeling.pdf\n",
      "-rw-r--r--@ 1 seankang  staff   2.1M Mar  2  2024 Lecture 14. Modeling.pptx\n",
      "-rw-r--r--@ 1 seankang  staff    39K Oct 15 23:18 SQLtests.ipynb\n",
      "drwxr-xr-x@ 3 seankang  staff    96B Oct 15 21:33 \u001b[34m__pycache__\u001b[m\u001b[m\n",
      "-rw-r--r--@ 1 seankang  staff   1.6K Dec  8  2023 ds100_utils.py\n",
      "-rw-r--r--@ 1 seankang  staff   814M Oct 15 23:24 names.tsv\n",
      "-rw-r--r--@ 1 seankang  staff   261M Oct 15 23:24 names.tsv.gz\n",
      "-rw-r--r--@ 1 seankang  staff    20K Oct 15 23:25 test13.db\n",
      "-rw-r--r--@ 1 seankang  staff   916M Oct 15 23:24 titles.tsv\n",
      "-rw-r--r--@ 1 seankang  staff   187M Oct 15 23:24 titles.tsv.gz\n"
     ]
    }
   ],
   "source": [
    "# From https://www.imdb.com/interfaces/\n",
    "fetch_and_cache('https://datasets.imdbws.com/title.basics.tsv.gz', 'titles.tsv.gz', data_directory)\n",
    "fetch_and_cache('https://datasets.imdbws.com/name.basics.tsv.gz', 'names.tsv.gz', data_directory)\n",
    "!gunzip -kf {data_directory}/titles.tsv.gz\n",
    "!gunzip -kf {data_directory}/names.tsv.gz\n",
    "!ls -lh {data_directory}"
   ]
  },
  {
   "cell_type": "code",
   "execution_count": 39,
   "metadata": {
    "scrolled": true
   },
   "outputs": [],
   "source": [
    "# Running the line below will probaly crash your kernel because the names \n",
    "# dataset is too big to comfortable fit into main memory. \n",
    "#pd.read_csv(f'{data_directory}/names.tsv', sep='\\t')"
   ]
  },
  {
   "cell_type": "code",
   "execution_count": 40,
   "metadata": {},
   "outputs": [],
   "source": [
    "# Use sqlite3 instead of Python (must be run from the terminal)\n",
    "# note: To close sqlite3, press ctrl-d\n",
    "\"\"\"\n",
    "$ sqlite3 imdb.db\n",
    "sqlite> .mode tabs\n",
    "sqlite> .import titles.tsv titles\n",
    "sqlite> .import names.tsv names\n",
    "\"\"\";"
   ]
  },
  {
   "cell_type": "markdown",
   "metadata": {},
   "source": [
    "While the code above runs, let's explore the data files a bit."
   ]
  },
  {
   "cell_type": "code",
   "execution_count": 41,
   "metadata": {
    "scrolled": true
   },
   "outputs": [
    {
     "name": "stdout",
     "output_type": "stream",
     "text": [
      " 13873519 98257811 853080680 .//names.tsv\n",
      " 11159294 151600337 960914725 .//titles.tsv\n",
      " 25032813 249858148 1813995405 total\n"
     ]
    }
   ],
   "source": [
    "!wc {data_directory}/*.tsv"
   ]
  },
  {
   "cell_type": "code",
   "execution_count": 42,
   "metadata": {
    "scrolled": true
   },
   "outputs": [
    {
     "name": "stdout",
     "output_type": "stream",
     "text": [
      "tconst\ttitleType\tprimaryTitle\toriginalTitle\tisAdult\tstartYear\tendYear\truntimeMinutes\tgenres\n",
      "tt0000001\tshort\tCarmencita\tCarmencita\t0\t1894\t\\N\t1\tDocumentary,Short\n",
      "tt0000002\tshort\tLe clown et ses chiens\tLe clown et ses chiens\t0\t1892\t\\N\t5\tAnimation,Short\n",
      "tt0000003\tshort\tPauvre Pierrot\tPauvre Pierrot\t0\t1892\t\\N\t5\tAnimation,Comedy,Romance\n",
      "tt0000004\tshort\tUn bon bock\tUn bon bock\t0\t1892\t\\N\t12\tAnimation,Short\n"
     ]
    }
   ],
   "source": [
    "!head -n5 {data_directory}/titles.tsv"
   ]
  },
  {
   "cell_type": "code",
   "execution_count": 43,
   "metadata": {},
   "outputs": [
    {
     "name": "stdout",
     "output_type": "stream",
     "text": [
      "nconst\tprimaryName\tbirthYear\tdeathYear\tprimaryProfession\tknownForTitles\n",
      "nm0000001\tFred Astaire\t1899\t1987\tactor,miscellaneous,producer\ttt0072308,tt0050419,tt0053137,tt0027125\n",
      "nm0000002\tLauren Bacall\t1924\t2014\tactress,soundtrack,archive_footage\ttt0037382,tt0075213,tt0117057,tt0038355\n",
      "nm0000003\tBrigitte Bardot\t1934\t\\N\tactress,music_department,producer\ttt0057345,tt0049189,tt0056404,tt0054452\n",
      "nm0000004\tJohn Belushi\t1949\t1982\tactor,writer,music_department\ttt0072562,tt0077975,tt0080455,tt0078723\n"
     ]
    }
   ],
   "source": [
    "!head -n5 {data_directory}/names.tsv"
   ]
  },
  {
   "cell_type": "code",
   "execution_count": 44,
   "metadata": {
    "tags": []
   },
   "outputs": [
    {
     "name": "stdout",
     "output_type": "stream",
     "text": [
      "[]\n"
     ]
    }
   ],
   "source": [
    "conn = sqlite3.connect(data_directory + '/imdb.db')\n",
    "sql_query = \"\"\"SELECT name FROM sqlite_master WHERE type='table';\"\"\"\n",
    "cursor = conn.cursor()\n",
    "cursor.execute(sql_query)\n",
    "print(cursor.fetchall())"
   ]
  },
  {
   "cell_type": "code",
   "execution_count": 46,
   "metadata": {},
   "outputs": [],
   "source": [
    "conn = sqlite3.connect(data_directory + '/imdb.db')\n",
    "#print_sql('SELECT * FROM titles LIMIT 10;')"
   ]
  },
  {
   "cell_type": "code",
   "execution_count": 47,
   "metadata": {},
   "outputs": [],
   "source": [
    "for exp in conn.execute('SELECT sql FROM sqlite_master;'):\n",
    "    print(exp[0])"
   ]
  },
  {
   "cell_type": "code",
   "execution_count": 48,
   "metadata": {},
   "outputs": [
    {
     "data": {
      "text/plain": [
       "'John is here'"
      ]
     },
     "execution_count": 48,
     "metadata": {},
     "output_type": "execute_result"
    }
   ],
   "source": [
    "# Reminder: Python f strings\n",
    "who, where = 'John', 'here'\n",
    "f\"{who} is {where}\""
   ]
  },
  {
   "cell_type": "code",
   "execution_count": 49,
   "metadata": {},
   "outputs": [
    {
     "ename": "OperationalError",
     "evalue": "no such table: titles",
     "output_type": "error",
     "traceback": [
      "\u001b[0;31m---------------------------------------------------------------------------\u001b[0m",
      "\u001b[0;31mOperationalError\u001b[0m                          Traceback (most recent call last)",
      "Cell \u001b[0;32mIn[49], line 8\u001b[0m\n\u001b[1;32m      1\u001b[0m get_10_movies \u001b[38;5;241m=\u001b[39m \u001b[38;5;124mf\u001b[39m\u001b[38;5;124m'''\u001b[39m\n\u001b[1;32m      2\u001b[0m \u001b[38;5;124mSELECT primaryTitle AS title, \u001b[39m\n\u001b[1;32m      3\u001b[0m \u001b[38;5;124m  runtimeMinutes AS time\u001b[39m\n\u001b[1;32m      4\u001b[0m \u001b[38;5;124mFROM titles\u001b[39m\n\u001b[1;32m      5\u001b[0m \u001b[38;5;124mLIMIT 10;\u001b[39m\n\u001b[1;32m      6\u001b[0m \u001b[38;5;124m'''\u001b[39m\n\u001b[0;32m----> 8\u001b[0m \u001b[43mprint_sql\u001b[49m\u001b[43m(\u001b[49m\u001b[43mget_10_movies\u001b[49m\u001b[43m)\u001b[49m\n",
      "Cell \u001b[0;32mIn[20], line 2\u001b[0m, in \u001b[0;36mprint_sql\u001b[0;34m(s)\u001b[0m\n\u001b[1;32m      1\u001b[0m \u001b[38;5;28;01mdef\u001b[39;00m \u001b[38;5;21mprint_sql\u001b[39m(s):\n\u001b[0;32m----> 2\u001b[0m     \u001b[38;5;28;01mfor\u001b[39;00m result \u001b[38;5;129;01min\u001b[39;00m conn\u001b[38;5;241m.\u001b[39mexecute(s):\n\u001b[1;32m      3\u001b[0m         \u001b[38;5;28mprint\u001b[39m(result)\n",
      "\u001b[0;31mOperationalError\u001b[0m: no such table: titles"
     ]
    }
   ],
   "source": [
    "get_10_movies = f'''\n",
    "SELECT primaryTitle AS title, \n",
    "  runtimeMinutes AS time\n",
    "FROM titles\n",
    "LIMIT 10;\n",
    "'''\n",
    "\n",
    "print_sql(get_10_movies)"
   ]
  },
  {
   "cell_type": "code",
   "execution_count": null,
   "metadata": {},
   "outputs": [
    {
     "name": "stdout",
     "output_type": "stream",
     "text": [
      "('Carmencita', 1)\n",
      "('Le clown et ses chiens', 5)\n",
      "('Pauvre Pierrot', 4)\n",
      "('Un bon bock', 12)\n",
      "('Blacksmith Scene', 1)\n",
      "('Chinese Opium Den', 1)\n",
      "('Corbett and Courtney Before the Kinetograph', 1)\n",
      "('Edison Kinetoscopic Record of a Sneeze', 1)\n",
      "('Miss Jerry', 45)\n",
      "('Leaving the Factory', 1)\n"
     ]
    }
   ],
   "source": [
    "get_10_movies_time_as_int = f'''\n",
    "SELECT primaryTitle AS title, \n",
    "  CAST(runtimeMinutes as int) AS time\n",
    "FROM titles\n",
    "LIMIT 10;\n",
    "'''\n",
    "\n",
    "print_sql(get_10_movies_time_as_int)"
   ]
  },
  {
   "cell_type": "code",
   "execution_count": null,
   "metadata": {},
   "outputs": [
    {
     "name": "stdout",
     "output_type": "stream",
     "text": [
      "('tt0000574', 'The Story of the Kelly Gang', 70, 1906)\n",
      "('tt0002574', 'What Happened to Mary', 150, 1912)\n",
      "('tt0004223', 'The Life of General Villa', 105, 1914)\n",
      "('tt0004450', 'Die Pagode', 82, 1917)\n",
      "('tt0004635', 'The Squaw Man', 74, 1914)\n",
      "('tt0005073', 'The Chalice of Courage', 65, 1915)\n",
      "('tt0006333', '20,000 Leagues Under the Sea', 85, 1916)\n",
      "('tt0006997', 'The Warrior', 95, 1916)\n",
      "('tt0007168', 'Die Peitsche', 85, 1916)\n",
      "('tt0008114', 'Die Hochzeit im Excentricclub', 70, 1917)\n"
     ]
    }
   ],
   "source": [
    "select_action = f'''\n",
    "SELECT tconst AS id,\n",
    "  primaryTitle AS title, \n",
    "  CAST(runtimeMinutes AS int) AS time, \n",
    "  CAST(startYear AS int) AS year\n",
    "FROM titles\n",
    "WHERE genres LIKE '%Action%' AND\n",
    "  year > 1900 AND \n",
    "  isAdult = '0' AND\n",
    "  titleType = 'movie' AND\n",
    "  time > 60 AND time < 180\n",
    "'''\n",
    "\n",
    "create_action_table = f'''\n",
    "DROP TABLE IF EXISTS action_movie;\n",
    "CREATE TABLE action_movie AS {select_action};\n",
    "'''\n",
    "\n",
    "conn.executescript(create_action_table)\n",
    "print_sql('SELECT * FROM action_movie LIMIT 10')"
   ]
  },
  {
   "cell_type": "markdown",
   "metadata": {},
   "source": [
    "We can check to see whether this table is small enough to read into pandas:"
   ]
  },
  {
   "cell_type": "code",
   "execution_count": null,
   "metadata": {},
   "outputs": [
    {
     "name": "stdout",
     "output_type": "stream",
     "text": [
      "(28478,)\n"
     ]
    }
   ],
   "source": [
    "print_sql('SELECT COUNT(*) from action_movie')"
   ]
  },
  {
   "cell_type": "code",
   "execution_count": null,
   "metadata": {
    "scrolled": true
   },
   "outputs": [
    {
     "data": {
      "text/html": [
       "<div>\n",
       "<style scoped>\n",
       "    .dataframe tbody tr th:only-of-type {\n",
       "        vertical-align: middle;\n",
       "    }\n",
       "\n",
       "    .dataframe tbody tr th {\n",
       "        vertical-align: top;\n",
       "    }\n",
       "\n",
       "    .dataframe thead th {\n",
       "        text-align: right;\n",
       "    }\n",
       "</style>\n",
       "<table border=\"1\" class=\"dataframe\">\n",
       "  <thead>\n",
       "    <tr style=\"text-align: right;\">\n",
       "      <th></th>\n",
       "      <th>id</th>\n",
       "      <th>title</th>\n",
       "      <th>time</th>\n",
       "      <th>year</th>\n",
       "    </tr>\n",
       "  </thead>\n",
       "  <tbody>\n",
       "    <tr>\n",
       "      <th>0</th>\n",
       "      <td>tt0000574</td>\n",
       "      <td>The Story of the Kelly Gang</td>\n",
       "      <td>70</td>\n",
       "      <td>1906</td>\n",
       "    </tr>\n",
       "    <tr>\n",
       "      <th>1</th>\n",
       "      <td>tt0002574</td>\n",
       "      <td>What Happened to Mary</td>\n",
       "      <td>150</td>\n",
       "      <td>1912</td>\n",
       "    </tr>\n",
       "    <tr>\n",
       "      <th>2</th>\n",
       "      <td>tt0004223</td>\n",
       "      <td>The Life of General Villa</td>\n",
       "      <td>105</td>\n",
       "      <td>1914</td>\n",
       "    </tr>\n",
       "    <tr>\n",
       "      <th>...</th>\n",
       "      <td>...</td>\n",
       "      <td>...</td>\n",
       "      <td>...</td>\n",
       "      <td>...</td>\n",
       "    </tr>\n",
       "    <tr>\n",
       "      <th>28475</th>\n",
       "      <td>tt9900908</td>\n",
       "      <td>Useless Handcuffs</td>\n",
       "      <td>89</td>\n",
       "      <td>1969</td>\n",
       "    </tr>\n",
       "    <tr>\n",
       "      <th>28476</th>\n",
       "      <td>tt9904066</td>\n",
       "      <td>Fox Hunting</td>\n",
       "      <td>66</td>\n",
       "      <td>2019</td>\n",
       "    </tr>\n",
       "    <tr>\n",
       "      <th>28477</th>\n",
       "      <td>tt9904802</td>\n",
       "      <td>Enemy Lines</td>\n",
       "      <td>92</td>\n",
       "      <td>2020</td>\n",
       "    </tr>\n",
       "  </tbody>\n",
       "</table>\n",
       "<p>28478 rows × 4 columns</p>\n",
       "</div>"
      ],
      "text/plain": [
       "              id                        title  time  year\n",
       "0      tt0000574  The Story of the Kelly Gang    70  1906\n",
       "1      tt0002574        What Happened to Mary   150  1912\n",
       "2      tt0004223    The Life of General Villa   105  1914\n",
       "...          ...                          ...   ...   ...\n",
       "28475  tt9900908            Useless Handcuffs    89  1969\n",
       "28476  tt9904066                  Fox Hunting    66  2019\n",
       "28477  tt9904802                  Enemy Lines    92  2020\n",
       "\n",
       "[28478 rows x 4 columns]"
      ]
     },
     "execution_count": 35,
     "metadata": {},
     "output_type": "execute_result"
    }
   ],
   "source": [
    "df = pd.read_sql('SELECT * FROM action_movie', conn)\n",
    "df"
   ]
  },
  {
   "cell_type": "code",
   "execution_count": null,
   "metadata": {},
   "outputs": [
    {
     "data": {
      "text/plain": [
       "(28478, 4)"
      ]
     },
     "execution_count": 36,
     "metadata": {},
     "output_type": "execute_result"
    }
   ],
   "source": [
    "df.shape"
   ]
  },
  {
   "cell_type": "code",
   "execution_count": null,
   "metadata": {},
   "outputs": [
    {
     "data": {
      "image/png": "[encoded data removed]",
      "text/plain": [
       "<Figure size 640x480 with 1 Axes>"
      ]
     },
     "metadata": {},
     "output_type": "display_data"
    }
   ],
   "source": [
    "df.hist('year');"
   ]
  },
  {
   "cell_type": "code",
   "execution_count": null,
   "metadata": {},
   "outputs": [
    {
     "ename": "TypeError",
     "evalue": "scatterplot() takes from 0 to 1 positional arguments but 2 were given",
     "output_type": "error",
     "traceback": [
      "\u001b[0;31m---------------------------------------------------------------------------\u001b[0m",
      "\u001b[0;31mTypeError\u001b[0m                                 Traceback (most recent call last)",
      "Cell \u001b[0;32mIn[38], line 1\u001b[0m\n\u001b[0;32m----> 1\u001b[0m sns\u001b[38;5;241m.\u001b[39mscatterplot(df[\u001b[38;5;124m'\u001b[39m\u001b[38;5;124myear\u001b[39m\u001b[38;5;124m'\u001b[39m], df[\u001b[38;5;124m'\u001b[39m\u001b[38;5;124mtime\u001b[39m\u001b[38;5;124m'\u001b[39m])\n",
      "\u001b[0;31mTypeError\u001b[0m: scatterplot() takes from 0 to 1 positional arguments but 2 were given"
     ]
    }
   ],
   "source": [
    "#sns.scatterplot(df['year'], df['time']);"
   ]
  },
  {
   "cell_type": "code",
   "execution_count": null,
   "metadata": {},
   "outputs": [],
   "source": [
    "sns.kdeplot(df['year'], df['time']);"
   ]
  },
  {
   "cell_type": "code",
   "execution_count": null,
   "metadata": {},
   "outputs": [],
   "source": [
    "df['time'].groupby(df['year']).mean().plot();"
   ]
  },
  {
   "cell_type": "code",
   "execution_count": null,
   "metadata": {},
   "outputs": [],
   "source": [
    "df['decade'] = (df['year'] // 10) * 10\n",
    "sns.boxplot('decade', 'time', data=df)\n",
    "plt.xticks(rotation=45);"
   ]
  },
  {
   "cell_type": "markdown",
   "metadata": {},
   "source": [
    "## Sampling in SQL"
   ]
  },
  {
   "cell_type": "code",
   "execution_count": null,
   "metadata": {},
   "outputs": [],
   "source": [
    "pd.read_sql('SELECT * FROM action_movie ORDER BY RANDOM() LIMIT 3', conn)"
   ]
  },
  {
   "cell_type": "code",
   "execution_count": null,
   "metadata": {},
   "outputs": [],
   "source": [
    "#selecting 3 random years\n",
    "three_years = '''\n",
    "SELECT year FROM action_movie \n",
    "  GROUP BY year \n",
    "  ORDER BY RANDOM()\n",
    "  LIMIT 3\n",
    "'''\n",
    "\n",
    "pd.read_sql(three_years, conn)"
   ]
  },
  {
   "cell_type": "code",
   "execution_count": null,
   "metadata": {},
   "outputs": [],
   "source": [
    "#selecting all movies from 3 random years\n",
    "three_years = '''\n",
    "SELECT year FROM action_movie \n",
    "  GROUP BY year \n",
    "  ORDER BY RANDOM()\n",
    "  LIMIT 3\n",
    "'''\n",
    "\n",
    "cluster_sample = f'''\n",
    "SELECT * FROM action_movie \n",
    "WHERE year IN ({three_years})\n",
    "'''\n",
    "\n",
    "pd.read_sql(f'''\n",
    "SELECT *\n",
    "FROM ({cluster_sample}) \n",
    "''', conn)"
   ]
  },
  {
   "cell_type": "code",
   "execution_count": null,
   "metadata": {},
   "outputs": [],
   "source": [
    "# Query has two select statements\n",
    "# Inner select statement creates the table of 3 randomly chosen years.\n",
    "print(cluster_sample)"
   ]
  },
  {
   "cell_type": "markdown",
   "metadata": {},
   "source": [
    "## Ages of Fame"
   ]
  },
  {
   "cell_type": "markdown",
   "metadata": {},
   "source": [
    "#### CASE Example"
   ]
  },
  {
   "cell_type": "code",
   "execution_count": null,
   "metadata": {},
   "outputs": [],
   "source": [
    "#case statement example\n",
    "pd.read_sql('''\n",
    "SELECT id, title, time, year,\n",
    "     CASE WHEN time < 70 THEN 'short'\n",
    "          WHEN time < 120 THEN 'medium'\n",
    "          ELSE 'long'\n",
    "     END as length\n",
    "          \n",
    "FROM action_movie\n",
    "''', conn).sample(10)"
   ]
  },
  {
   "cell_type": "code",
   "execution_count": null,
   "metadata": {},
   "outputs": [],
   "source": [
    "#case statement example with a base expression\n",
    "pd.read_sql('''\n",
    "SELECT id, title, time, year,\n",
    "     CASE year LIKE '%197%' WHEN True THEN '70s'          \n",
    "          ELSE 'not 70s'\n",
    "     END as decade\n",
    "          \n",
    "FROM action_movie\n",
    "''', conn).sample(10)"
   ]
  },
  {
   "cell_type": "markdown",
   "metadata": {},
   "source": [
    "#### SUBSTR Example"
   ]
  },
  {
   "cell_type": "code",
   "execution_count": null,
   "metadata": {},
   "outputs": [],
   "source": [
    "select_people = f'''\n",
    "SELECT primaryName AS name, knownForTitles  \n",
    "FROM names\n",
    "'''\n",
    "\n",
    "pd.read_sql(f'{select_people} LIMIT 10', conn)"
   ]
  },
  {
   "cell_type": "code",
   "execution_count": null,
   "metadata": {
    "scrolled": true
   },
   "outputs": [
    {
     "data": {
      "text/html": [
       "<div>\n",
       "<style scoped>\n",
       "    .dataframe tbody tr th:only-of-type {\n",
       "        vertical-align: middle;\n",
       "    }\n",
       "\n",
       "    .dataframe tbody tr th {\n",
       "        vertical-align: top;\n",
       "    }\n",
       "\n",
       "    .dataframe thead th {\n",
       "        text-align: right;\n",
       "    }\n",
       "</style>\n",
       "<table border=\"1\" class=\"dataframe\">\n",
       "  <thead>\n",
       "    <tr style=\"text-align: right;\">\n",
       "      <th></th>\n",
       "      <th>name</th>\n",
       "      <th>most_popular_id</th>\n",
       "    </tr>\n",
       "  </thead>\n",
       "  <tbody>\n",
       "    <tr>\n",
       "      <th>0</th>\n",
       "      <td>Fred Astaire</td>\n",
       "      <td>tt0027125</td>\n",
       "    </tr>\n",
       "    <tr>\n",
       "      <th>1</th>\n",
       "      <td>Lauren Bacall</td>\n",
       "      <td>tt0075213</td>\n",
       "    </tr>\n",
       "    <tr>\n",
       "      <th>2</th>\n",
       "      <td>Brigitte Bardot</td>\n",
       "      <td>tt0054452</td>\n",
       "    </tr>\n",
       "    <tr>\n",
       "      <th>...</th>\n",
       "      <td>...</td>\n",
       "      <td>...</td>\n",
       "    </tr>\n",
       "    <tr>\n",
       "      <th>7</th>\n",
       "      <td>Marlon Brando</td>\n",
       "      <td>tt0047296</td>\n",
       "    </tr>\n",
       "    <tr>\n",
       "      <th>8</th>\n",
       "      <td>Richard Burton</td>\n",
       "      <td>tt0061184</td>\n",
       "    </tr>\n",
       "    <tr>\n",
       "      <th>9</th>\n",
       "      <td>James Cagney</td>\n",
       "      <td>tt0031867</td>\n",
       "    </tr>\n",
       "  </tbody>\n",
       "</table>\n",
       "<p>10 rows × 2 columns</p>\n",
       "</div>"
      ],
      "text/plain": [
       "               name most_popular_id\n",
       "0      Fred Astaire       tt0027125\n",
       "1     Lauren Bacall       tt0075213\n",
       "2   Brigitte Bardot       tt0054452\n",
       "..              ...             ...\n",
       "7     Marlon Brando       tt0047296\n",
       "8    Richard Burton       tt0061184\n",
       "9      James Cagney       tt0031867\n",
       "\n",
       "[10 rows x 2 columns]"
      ]
     },
     "execution_count": 39,
     "metadata": {},
     "output_type": "execute_result"
    }
   ],
   "source": [
    "select_people = f'''\n",
    "SELECT primaryName AS name,   \n",
    "  SUBSTR(knownForTitles, 0, INSTR(knownForTitles, ',')) AS most_popular_id\n",
    "FROM names\n",
    "'''\n",
    "\n",
    "pd.read_sql(f'{select_people} LIMIT 10', conn)"
   ]
  },
  {
   "cell_type": "markdown",
   "metadata": {},
   "source": [
    "### Age Trends"
   ]
  },
  {
   "cell_type": "code",
   "execution_count": null,
   "metadata": {},
   "outputs": [],
   "source": [
    "pd.read_sql('SELECT * FROM names LIMIT 10;', conn)"
   ]
  },
  {
   "cell_type": "code",
   "execution_count": null,
   "metadata": {},
   "outputs": [],
   "source": [
    "select_actors = f'''\n",
    "SELECT primaryName AS name, \n",
    "  CAST(birthYear AS int) AS born,\n",
    "  SUBSTR(knownForTitles, 0, INSTR(knownForTitles, ',')) AS movie_id,\n",
    "  CASE WHEN primaryProfession LIKE '%actor%' THEN 'actor' \n",
    "    WHEN primaryProfession LIKE '%actress%' THEN 'actress'   \n",
    "    END AS profession\n",
    "FROM names\n",
    "WHERE primaryProfession LIKE '%act%' AND\n",
    "  born > 1800\n",
    "'''\n",
    "\n",
    "pd.read_sql(f'{select_actors} LIMIT 10', conn)"
   ]
  },
  {
   "cell_type": "code",
   "execution_count": null,
   "metadata": {
    "scrolled": true
   },
   "outputs": [],
   "source": [
    "select = f'''\n",
    "SELECT name, profession, born, title, year\n",
    "FROM ({select_actors}) JOIN action_movie\n",
    "  ON movie_id = id;\n",
    "'''\n",
    "\n",
    "conn.executescript(f'''\n",
    "DROP TABLE IF EXISTS action_ppl;\n",
    "CREATE TABLE action_ppl AS {select};\n",
    "''')\n",
    "\n",
    "pd.read_sql('SELECT * FROM action_ppl LIMIT 10', conn)"
   ]
  },
  {
   "cell_type": "markdown",
   "metadata": {},
   "source": [
    "The table above gives us all the people whose first movie in IMDB's \"known for\" list is an action movie, along with the name of that movie. We call these people \"action people\"."
   ]
  },
  {
   "cell_type": "markdown",
   "metadata": {},
   "source": [
    "There's a lot we can do with this table, i.e. we can find all the people whose top role has the word \"Vampire\" in it."
   ]
  },
  {
   "cell_type": "code",
   "execution_count": null,
   "metadata": {
    "scrolled": true
   },
   "outputs": [],
   "source": [
    "vampire_people = '''\n",
    "SELECT *\n",
    "FROM action_ppl\n",
    "WHERE title LIKE \"%Vampire%\"\n",
    "'''\n",
    "\n",
    "pd.read_sql(vampire_people, conn)"
   ]
  },
  {
   "cell_type": "markdown",
   "metadata": {},
   "source": [
    "Or we can read in our dataframe into pandas and make a plot. Let's see the age of each actor when their best known movie was made."
   ]
  },
  {
   "cell_type": "code",
   "execution_count": null,
   "metadata": {},
   "outputs": [],
   "source": [
    "df = pd.read_sql('SELECT * FROM action_ppl', conn)\n",
    "df.shape"
   ]
  },
  {
   "cell_type": "code",
   "execution_count": null,
   "metadata": {
    "tags": []
   },
   "outputs": [],
   "source": [
    "df['age'] = df['year'] - df['born']\n",
    "bins = np.linspace(0, 100, 21)\n",
    "sns.distplot(df[df['profession']=='actor']['age'], bins=bins)\n",
    "sns.distplot(df[df['profession']=='actress']['age'], bins=bins)\n",
    "plt.legend(labels=['Actor', 'Actress'])\n",
    "plt.xticks(bins, rotation=90)\n",
    "plt.xlim(0, 100)\n",
    "plt.ylabel('density');\n",
    "plt.title('Ages of actors in the Action movies they are known for');"
   ]
  },
  {
   "cell_type": "code",
   "execution_count": null,
   "metadata": {},
   "outputs": [],
   "source": []
  }
 ],
 "metadata": {
  "kernelspec": {
   "display_name": "Python 3 (ipykernel)",
   "language": "python",
   "name": "python3"
  },
  "language_info": {
   "codemirror_mode": {
    "name": "ipython",
    "version": 3
   },
   "file_extension": ".py",
   "mimetype": "text/x-python",
   "name": "python",
   "nbconvert_exporter": "python",
   "pygments_lexer": "ipython3",
   "version": "3.11.8"
  }
 },
 "nbformat": 4,
 "nbformat_minor": 4
}
