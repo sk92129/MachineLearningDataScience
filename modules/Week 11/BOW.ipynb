{
 "cells": [
  {
   "cell_type": "code",
   "execution_count": 10,
   "id": "841fd168-5370-495d-97c1-9fb526f09052",
   "metadata": {
    "tags": []
   },
   "outputs": [
    {
     "name": "stdout",
     "output_type": "stream",
     "text": [
      "  (1, 8)\t1\n",
      "  (2, 5)\t1\n",
      "  (3, 0)\t1\n",
      "  (4, 4)\t1\n",
      "  (5, 7)\t1\n",
      "  (6, 3)\t1\n",
      "  (7, 2)\t1\n",
      "  (8, 9)\t1\n",
      "  (9, 6)\t1\n",
      "  (10, 1)\t1\n"
     ]
    }
   ],
   "source": [
    "from sklearn.feature_extraction.text import CountVectorizer\n",
    "\n",
    "# create the vocabulary\n",
    "vectorizer = CountVectorizer()\n",
    "\n",
    "text_data = ['I', 'love', 'dogs', 'and', 'cats', 'hate', 'but', 'are', 'my', 'favourite', 'animal']\n",
    "# fit the vocabulary to the text data\n",
    "vectorizer.fit(text_data)\n",
    "\n",
    "# create the bag-of-words model\n",
    "bow_model = vectorizer.transform(text_data)\n",
    "\n",
    "# print the bag-of-words model\n",
    "print(bow_model)\n",
    "\n"
   ]
  },
  {
   "cell_type": "code",
   "execution_count": 13,
   "id": "967e7bcb-2744-45ae-a7bc-3fa349ba0e3f",
   "metadata": {
    "tags": []
   },
   "outputs": [
    {
     "name": "stdout",
     "output_type": "stream",
     "text": [
      "{'love': 8, 'dogs': 5, 'and': 0, 'cats': 4, 'hate': 7, 'but': 3, 'are': 2, 'my': 9, 'favourite': 6, 'animal': 1}\n"
     ]
    }
   ],
   "source": [
    "print(vectorizer.vocabulary_)"
   ]
  },
  {
   "cell_type": "code",
   "execution_count": 15,
   "id": "fa702e50-4268-469c-982c-13ad9ea5d636",
   "metadata": {
    "tags": []
   },
   "outputs": [
    {
     "name": "stdout",
     "output_type": "stream",
     "text": [
      "5\n"
     ]
    }
   ],
   "source": [
    "# print the word-to-index mapping\n",
    "print(vectorizer.vocabulary_['dogs'])"
   ]
  },
  {
   "cell_type": "code",
   "execution_count": 16,
   "id": "53c622b4-1300-4d69-8bde-c8bfd59bf383",
   "metadata": {
    "tags": []
   },
   "outputs": [
    {
     "data": {
      "text/plain": [
       "<1x20 sparse matrix of type '<class 'numpy.int64'>'\n",
       "\twith 20 stored elements in Compressed Sparse Row format>"
      ]
     },
     "execution_count": 16,
     "metadata": {},
     "output_type": "execute_result"
    }
   ],
   "source": [
    "text = \"\"\"Yesterday I went fishing. I don't fish that often, \n",
    "so I didn't catch any fish. I was told I'd enjoy myself, \n",
    "but it didn't really seem that fun.\"\"\"\n",
    "\n",
    "vectorizer = CountVectorizer()\n",
    "\n",
    "matrix = vectorizer.fit_transform([text])\n",
    "matrix"
   ]
  },
  {
   "cell_type": "code",
   "execution_count": 18,
   "id": "0f2ff498-262a-43cd-ae04-555c5e1bf0fe",
   "metadata": {
    "tags": []
   },
   "outputs": [
    {
     "data": {
      "text/html": [
       "<div>\n",
       "<style scoped>\n",
       "    .dataframe tbody tr th:only-of-type {\n",
       "        vertical-align: middle;\n",
       "    }\n",
       "\n",
       "    .dataframe tbody tr th {\n",
       "        vertical-align: top;\n",
       "    }\n",
       "\n",
       "    .dataframe thead th {\n",
       "        text-align: right;\n",
       "    }\n",
       "</style>\n",
       "<table border=\"1\" class=\"dataframe\">\n",
       "  <thead>\n",
       "    <tr style=\"text-align: right;\">\n",
       "      <th></th>\n",
       "      <th>any</th>\n",
       "      <th>but</th>\n",
       "      <th>catch</th>\n",
       "      <th>didn</th>\n",
       "      <th>don</th>\n",
       "      <th>enjoy</th>\n",
       "      <th>fish</th>\n",
       "      <th>fishing</th>\n",
       "      <th>fun</th>\n",
       "      <th>it</th>\n",
       "      <th>myself</th>\n",
       "      <th>often</th>\n",
       "      <th>really</th>\n",
       "      <th>seem</th>\n",
       "      <th>so</th>\n",
       "      <th>that</th>\n",
       "      <th>told</th>\n",
       "      <th>was</th>\n",
       "      <th>went</th>\n",
       "      <th>yesterday</th>\n",
       "    </tr>\n",
       "  </thead>\n",
       "  <tbody>\n",
       "    <tr>\n",
       "      <th>0</th>\n",
       "      <td>1</td>\n",
       "      <td>1</td>\n",
       "      <td>1</td>\n",
       "      <td>2</td>\n",
       "      <td>1</td>\n",
       "      <td>1</td>\n",
       "      <td>2</td>\n",
       "      <td>1</td>\n",
       "      <td>1</td>\n",
       "      <td>1</td>\n",
       "      <td>1</td>\n",
       "      <td>1</td>\n",
       "      <td>1</td>\n",
       "      <td>1</td>\n",
       "      <td>1</td>\n",
       "      <td>2</td>\n",
       "      <td>1</td>\n",
       "      <td>1</td>\n",
       "      <td>1</td>\n",
       "      <td>1</td>\n",
       "    </tr>\n",
       "  </tbody>\n",
       "</table>\n",
       "</div>"
      ],
      "text/plain": [
       "   any  but  catch  didn  don  enjoy  fish  fishing  fun  it  myself  often  \\\n",
       "0    1    1      1     2    1      1     2        1    1   1       1      1   \n",
       "\n",
       "   really  seem  so  that  told  was  went  yesterday  \n",
       "0       1     1   1     2     1    1     1          1  "
      ]
     },
     "execution_count": 18,
     "metadata": {},
     "output_type": "execute_result"
    }
   ],
   "source": [
    "import pandas as pd\n",
    "\n",
    "counts = pd.DataFrame(matrix.toarray(),\n",
    "                      columns=vectorizer.get_feature_names_out())\n",
    "counts"
   ]
  },
  {
   "cell_type": "code",
   "execution_count": null,
   "id": "77f1bdce-2dda-489f-bb46-0a353ce221bf",
   "metadata": {},
   "outputs": [],
   "source": []
  }
 ],
 "metadata": {
  "kernelspec": {
   "display_name": "Python 3 (ipykernel)",
   "language": "python",
   "name": "python3"
  },
  "language_info": {
   "codemirror_mode": {
    "name": "ipython",
    "version": 3
   },
   "file_extension": ".py",
   "mimetype": "text/x-python",
   "name": "python",
   "nbconvert_exporter": "python",
   "pygments_lexer": "ipython3",
   "version": "3.11.5"
  }
 },
 "nbformat": 4,
 "nbformat_minor": 5
}
