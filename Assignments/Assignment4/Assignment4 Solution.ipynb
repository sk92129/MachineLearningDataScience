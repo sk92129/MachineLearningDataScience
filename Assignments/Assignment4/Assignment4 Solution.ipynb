{
 "cells": [
  {
   "cell_type": "markdown",
   "id": "configured-background",
   "metadata": {},
   "source": [
    "# Assignment 4: Linear Regression and Gradient Descent\n",
    "\n",
    "\n",
    "## Collaboration Policy\n",
    "\n",
    "Data science is a collaborative activity. While you may talk with others about\n",
    "the homework, we ask that you **write your solutions individually**. If you do\n",
    "discuss the assignments with others please **include their names** below."
   ]
  },
  {
   "cell_type": "markdown",
   "id": "graduate-tractor",
   "metadata": {},
   "source": [
    "**Collaborators**: *list  collaborators here*"
   ]
  },
  {
   "cell_type": "markdown",
   "id": "surrounded-turkish",
   "metadata": {},
   "source": [
    "## Scoring Breakdown\n",
    "\n",
    "|Question|Points|\n",
    "|---|---|\n",
    "|1.1|10|\n",
    "|1.2|10|\n",
    "|2.1|10|\n",
    "|2.2|15|\n",
    "|2.3|15|\n",
    "|2.4|10|\n",
    "|**Total**|70|"
   ]
  },
  {
   "cell_type": "markdown",
   "id": "elementary-population",
   "metadata": {},
   "source": [
    "## Question 1. \n",
    "Suppose we create a linear model with parameters $\\vec{\\hat{\\beta}}=[\\hat{\\beta}_0,...,\\hat{\\beta}_p]$\n",
    "As we saw in lecture, such a model makes predictions $\\hat{y}=\\vec{\\hat{\\beta}}.\\vec{x}=\\sum{\\hat{\\beta}_ix_i}$ \n",
    "\n",
    "\n",
    "### 1.1. \n",
    "Suppose $\\vec{\\hat{\\beta}}=[1,2,1]$ and e receive an observation $x = [4, 2, 1]$. What $\\hat{y}$ value will\n",
    "this model predict for the given observation?"
   ]
  },
  {
   "cell_type": "code",
   "execution_count": 1,
   "id": "1b61a5e8",
   "metadata": {},
   "outputs": [
    {
     "name": "stdout",
     "output_type": "stream",
     "text": [
      "9\n"
     ]
    }
   ],
   "source": [
    "import numpy as np\n",
    "b_arr = [1, 2, 1]\n",
    "x_arr = [4, 2, 1]\n",
    "\n",
    "\n",
    "#10 points for show correct answer \n",
    "# if the answer is not correct, then 9\n",
    "# 3 point for using correct expression like below\n",
    "# 3 point for using numpy\n",
    "# 3 points for using a list comprehension\n",
    "\n",
    "# Calculate the predicted y_hat value\n",
    "y_hat = np.sum([b_i * x_i for b_i, x_i in zip(b_arr, x_arr)])\n",
    "print(y_hat)"
   ]
  },
  {
   "cell_type": "markdown",
   "id": "beneficial-burke",
   "metadata": {},
   "source": [
    "### 1.2.\n",
    "Suppose the correct $y$ was 6.1. What will be the L2 loss for our prediction $\\hat{y}$ from question 1.a?"
   ]
  },
  {
   "cell_type": "markdown",
   "id": "listed-savannah",
   "metadata": {},
   "source": []
  },
  {
   "cell_type": "code",
   "execution_count": 2,
   "id": "927aaaf5",
   "metadata": {},
   "outputs": [
    {
     "data": {
      "text/plain": [
       "9"
      ]
     },
     "execution_count": 2,
     "metadata": {},
     "output_type": "execute_result"
    }
   ],
   "source": [
    "y_hat"
   ]
  },
  {
   "cell_type": "code",
   "execution_count": 3,
   "id": "4e17a6e5",
   "metadata": {},
   "outputs": [
    {
     "name": "stdout",
     "output_type": "stream",
     "text": [
      "8.410000000000002\n"
     ]
    }
   ],
   "source": [
    "# 1 point for using numpy\n",
    "# 9 point for show correct answer of 8.41\n",
    "# if the incorrect answer is given then use this rules\n",
    "# 3 points for using the correct expression : np.mean((y_hat - y_true) ** 2) or similar\n",
    "# 3 points for printing the value from a variable or computed amount.\n",
    "y_true = 6.1\n",
    "\n",
    "# L2 loss calculation (Mean Square Error)\n",
    "l2_loss = np.mean((y_hat - y_true) ** 2)\n",
    "print(l2_loss)"
   ]
  },
  {
   "cell_type": "markdown",
   "id": "favorite-empire",
   "metadata": {},
   "source": [
    "## Question 2.\n",
    "\n",
    "The following function generates the dataset you need for the rest of the questions"
   ]
  },
  {
   "cell_type": "code",
   "execution_count": 4,
   "id": "aboriginal-jurisdiction",
   "metadata": {},
   "outputs": [],
   "source": [
    "import numpy as np\n",
    "import pandas as pd\n",
    "# This function helps generate a synthesized dataset based on a given gamma value\n",
    "def generate_dataset(gamma, std=1, num_samples=100, with_intercept=True):\n",
    "    X = np.random.random_sample(num_samples)\n",
    "    e = np.random.randn(num_samples) * std \n",
    "    intercept = -int(with_intercept) * 2\n",
    "    Y = gamma * X + intercept + e\n",
    "    #X=X.reshape(-1, 1)\n",
    "    #Y=Y.reshape(-1, 1)\n",
    "    data=pd.DataFrame({'X':X, 'Y':Y})\n",
    "    return data"
   ]
  },
  {
   "cell_type": "code",
   "execution_count": 5,
   "id": "hollow-arthur",
   "metadata": {},
   "outputs": [
    {
     "data": {
      "text/html": [
       "<div>\n",
       "<style scoped>\n",
       "    .dataframe tbody tr th:only-of-type {\n",
       "        vertical-align: middle;\n",
       "    }\n",
       "\n",
       "    .dataframe tbody tr th {\n",
       "        vertical-align: top;\n",
       "    }\n",
       "\n",
       "    .dataframe thead th {\n",
       "        text-align: right;\n",
       "    }\n",
       "</style>\n",
       "<table border=\"1\" class=\"dataframe\">\n",
       "  <thead>\n",
       "    <tr style=\"text-align: right;\">\n",
       "      <th></th>\n",
       "      <th>X</th>\n",
       "      <th>Y</th>\n",
       "    </tr>\n",
       "  </thead>\n",
       "  <tbody>\n",
       "    <tr>\n",
       "      <th>0</th>\n",
       "      <td>0.680873</td>\n",
       "      <td>4.221752</td>\n",
       "    </tr>\n",
       "    <tr>\n",
       "      <th>1</th>\n",
       "      <td>0.110965</td>\n",
       "      <td>-1.346909</td>\n",
       "    </tr>\n",
       "    <tr>\n",
       "      <th>2</th>\n",
       "      <td>0.268736</td>\n",
       "      <td>0.271593</td>\n",
       "    </tr>\n",
       "    <tr>\n",
       "      <th>3</th>\n",
       "      <td>0.654011</td>\n",
       "      <td>3.762636</td>\n",
       "    </tr>\n",
       "    <tr>\n",
       "      <th>4</th>\n",
       "      <td>0.817931</td>\n",
       "      <td>5.888343</td>\n",
       "    </tr>\n",
       "    <tr>\n",
       "      <th>...</th>\n",
       "      <td>...</td>\n",
       "      <td>...</td>\n",
       "    </tr>\n",
       "    <tr>\n",
       "      <th>95</th>\n",
       "      <td>0.087564</td>\n",
       "      <td>-1.840553</td>\n",
       "    </tr>\n",
       "    <tr>\n",
       "      <th>96</th>\n",
       "      <td>0.826917</td>\n",
       "      <td>6.311912</td>\n",
       "    </tr>\n",
       "    <tr>\n",
       "      <th>97</th>\n",
       "      <td>0.820186</td>\n",
       "      <td>6.800594</td>\n",
       "    </tr>\n",
       "    <tr>\n",
       "      <th>98</th>\n",
       "      <td>0.499291</td>\n",
       "      <td>2.390651</td>\n",
       "    </tr>\n",
       "    <tr>\n",
       "      <th>99</th>\n",
       "      <td>0.928449</td>\n",
       "      <td>9.215701</td>\n",
       "    </tr>\n",
       "  </tbody>\n",
       "</table>\n",
       "<p>100 rows × 2 columns</p>\n",
       "</div>"
      ],
      "text/plain": [
       "           X         Y\n",
       "0   0.680873  4.221752\n",
       "1   0.110965 -1.346909\n",
       "2   0.268736  0.271593\n",
       "3   0.654011  3.762636\n",
       "4   0.817931  5.888343\n",
       "..       ...       ...\n",
       "95  0.087564 -1.840553\n",
       "96  0.826917  6.311912\n",
       "97  0.820186  6.800594\n",
       "98  0.499291  2.390651\n",
       "99  0.928449  9.215701\n",
       "\n",
       "[100 rows x 2 columns]"
      ]
     },
     "execution_count": 5,
     "metadata": {},
     "output_type": "execute_result"
    }
   ],
   "source": [
    "# Example:\n",
    "data = generate_dataset(gamma=10)\n",
    "data"
   ]
  },
  {
   "cell_type": "markdown",
   "id": "decent-fruit",
   "metadata": {},
   "source": [
    "### 2.1.\n",
    "\n",
    "Using the following functions (gradient descent python logic provided in lecture), find the best value of m and b that the gradient descent algorithm can find in 100 iterations with a step initial value of 0.01. "
   ]
  },
  {
   "cell_type": "code",
   "execution_count": 6,
   "id": "ruled-thousand",
   "metadata": {},
   "outputs": [],
   "source": [
    "# 4 point for using the correct gradient desc function from lecture\n",
    "     # what to look for\n",
    "     # look for the x, y, iteration and rate input parameter to a loop or function.\n",
    "     # (interal 1 point) - Look for the y_hat prediction from using a current m and b and x\n",
    "     # (intenral 1 point) -  Look for the mse calculation.\n",
    "     # (internal 1 point) - calculation of the derivatives.\n",
    "     # (internal 1 point) - for defining a function \n",
    "# 6 point for modifying it to look for the lowest mse in the results without visual inspection. \n",
    "      # if the student just returns the last value of m and b, based on the last MSE then minus 1 point\n",
    "\n",
    "x=data['X']\n",
    "y_obs=data['Y']\n",
    "\n",
    "# Function from lecture file\n",
    "def gradient_des(x, y, iterations, learning_rate):\n",
    "    m_curr = 0\n",
    "    b_curr = 0\n",
    "    m_array = []\n",
    "    b_array = []\n",
    "    mse_array = []\n",
    "    n = len(x)\n",
    "    for i in range(iterations):\n",
    "        y_hat = m_curr * x + b_curr\n",
    "        mse = np.mean( [diff_y**2 for diff_y in (y-y_hat)])\n",
    "        m_derivative = -(2/n) * np.sum( x * ( y-y_hat))\n",
    "        b_derivative = -(2/n) * np.sum( y-y_hat)\n",
    "        m_curr = m_curr - learning_rate * m_derivative\n",
    "        b_curr = b_curr - learning_rate * b_derivative\n",
    "        # Commenting out the print statement below as it is not necessary for the assignment\n",
    "        #print(\"m : {}, b: {}, mse: {} m_dev: {}, b_dev: {}, iteration: {}\".format(m_curr, b_curr, mse, m_derivative, b_derivative, i))\n",
    "        m_array.append(m_curr)\n",
    "        b_array.append(b_curr)\n",
    "        mse_array.append(mse)\n",
    "\n",
    "    return m_array, b_array, mse_array # added return statement to get the best values returned    \n"
   ]
  },
  {
   "cell_type": "code",
   "execution_count": 7,
   "id": "offshore-sacramento",
   "metadata": {},
   "outputs": [],
   "source": [
    "m_array, b_arr, mse_arr = gradient_des(x, y_obs, 100, 0.01)"
   ]
  },
  {
   "cell_type": "code",
   "execution_count": 8,
   "id": "2a3289fb",
   "metadata": {},
   "outputs": [
    {
     "data": {
      "text/plain": [
       "99"
      ]
     },
     "execution_count": 8,
     "metadata": {},
     "output_type": "execute_result"
    }
   ],
   "source": [
    "index_lowest = np.argmin(mse_arr)\n",
    "index_lowest"
   ]
  },
  {
   "cell_type": "code",
   "execution_count": 9,
   "id": "d4a10d5b",
   "metadata": {},
   "outputs": [
    {
     "name": "stdout",
     "output_type": "stream",
     "text": [
      "The best m, b for the lowest value ms are: 2.8383038698257326, 2.1736497302296045, 6.703798783539023\n"
     ]
    }
   ],
   "source": [
    "print(f'The best m, b for the lowest value ms are: {m_array[index_lowest]}, {b_arr[index_lowest]}, {mse_arr[index_lowest]}')"
   ]
  },
  {
   "cell_type": "code",
   "execution_count": 10,
   "id": "1fa5afbf",
   "metadata": {},
   "outputs": [],
   "source": [
    "# try again with more iterations  -- this is not required for section 2.1\n",
    "m_array, b_arr, mse_arr = gradient_des(x, y_obs, 1000, 0.01)"
   ]
  },
  {
   "cell_type": "code",
   "execution_count": 11,
   "id": "87062d42",
   "metadata": {},
   "outputs": [
    {
     "data": {
      "text/plain": [
       "999"
      ]
     },
     "execution_count": 11,
     "metadata": {},
     "output_type": "execute_result"
    }
   ],
   "source": [
    "index_lowest = np.argmin(mse_arr)\n",
    "index_lowest"
   ]
  },
  {
   "cell_type": "code",
   "execution_count": 12,
   "id": "b51cd9a1",
   "metadata": {},
   "outputs": [
    {
     "name": "stdout",
     "output_type": "stream",
     "text": [
      "The best m, b for the lowest value ms are: 8.359737205728079, -0.9004214622995186, 1.649459271118915\n"
     ]
    }
   ],
   "source": [
    "# this is not required for section 2.1\n",
    "print(f'The best m, b for the lowest value ms are: {m_array[index_lowest]}, {b_arr[index_lowest]}, {mse_arr[index_lowest]}')"
   ]
  },
  {
   "cell_type": "markdown",
   "id": "extra-discussion",
   "metadata": {},
   "source": [
    "### 2.2.\n",
    "Create a plot below showing the fitted simple linear regression model on the observed data . Your plot should include at least the following:\n",
    "- A scatter plot of all the observed data\n",
    "- A line plot for the simple linear regression model \n",
    "- An appropriate title, a legend labeling which line contains an intercept, and labels for both axes"
   ]
  },
  {
   "cell_type": "code",
   "execution_count": 13,
   "id": "lucky-reservoir",
   "metadata": {},
   "outputs": [],
   "source": [
    "# total 15 points.\n",
    "# there are two ways that are acceptable.\n",
    "# see below\n",
    "\n",
    "import pandas as pd\n",
    "import matplotlib.pyplot as plt\n",
    "%matplotlib inline\n",
    "import seaborn as sns\n",
    "import plotly.express as px\n",
    "import plotly.graph_objs as go\n",
    "\n"
   ]
  },
  {
   "cell_type": "code",
   "execution_count": 14,
   "id": "2ab3e727",
   "metadata": {},
   "outputs": [],
   "source": [
    "def predict_mean_y(x):\n",
    "    return data.loc[np.abs(data['X'] - x) <= 0.5, 'Y'].mean()"
   ]
  },
  {
   "cell_type": "code",
   "execution_count": 15,
   "id": "5d207e90",
   "metadata": {},
   "outputs": [],
   "source": [
    "data['Y_predicted'] = data['X'].apply(predict_mean_y)"
   ]
  },
  {
   "cell_type": "code",
   "execution_count": 16,
   "id": "f3e0b8d6",
   "metadata": {},
   "outputs": [
    {
     "data": {
      "application/vnd.plotly.v1+json": {
       "config": {
        "plotlyServerURL": "https://plot.ly"
       },
       "data": [
        {
         "mode": "markers",
         "name": "actual",
         "type": "scatter",
         "x": [
          0.6808726683763211,
          0.11096539272127748,
          0.26873597733134413,
          0.6540105716710871,
          0.8179311649028992,
          0.3860716859331559,
          0.4324134535664589,
          0.7952937702133547,
          0.8893010893736275,
          0.045610103464578056,
          0.23031009937616786,
          0.6824978767862425,
          0.7633314158188252,
          0.23619506436549753,
          0.07883809018728105,
          0.039291556458677435,
          0.7871739924497785,
          0.05554548330366671,
          0.9355215340074012,
          0.7769572663820068,
          0.9400185819275354,
          0.8378311614073621,
          0.6988986146535666,
          0.4920199499886645,
          0.5052787558476152,
          0.848395464096658,
          0.6673385020542457,
          0.7578948029961029,
          0.11347070148737937,
          0.5701283949856673,
          0.47212113926951227,
          0.6624174307676531,
          0.8423097888516012,
          0.6603294939574145,
          0.12220684154890094,
          0.3215101434062113,
          0.4790237890402338,
          0.32739239968653766,
          0.7190010551104518,
          0.12107878781619952,
          0.9180260916768698,
          0.9478752718470964,
          0.32640573576532994,
          0.363366648505859,
          0.8773063252275064,
          0.4624706594397493,
          0.3872804701399132,
          0.5429595128804204,
          0.5916542546156431,
          0.3135225289807152,
          0.8123838206852416,
          0.5846655685711106,
          0.9453495960922401,
          0.6296251205911255,
          0.9466267228526805,
          0.8740604666722134,
          0.8853133395756977,
          0.05979176963523325,
          0.6672747704355806,
          0.967870420686631,
          0.8391949388194673,
          0.6443164800170301,
          0.8994846528327762,
          0.059959077116207626,
          0.8112485753670552,
          0.28111282967407614,
          0.8025508622178834,
          0.923931958600824,
          0.12074805506706243,
          0.9270134126273074,
          0.7561489635484339,
          0.4612793175981189,
          0.15292812443560833,
          0.8772520832878269,
          0.18992049745005235,
          0.6935414482545583,
          0.7850324087539896,
          0.9995422686701506,
          0.47335206203290237,
          0.6756546657318028,
          0.10548121807443422,
          0.9554639892937119,
          0.06732447126993923,
          0.9980076636806106,
          0.13045610699084265,
          0.87668424839488,
          0.5737969405940515,
          0.1357410567704035,
          0.033881953953891486,
          0.5987802719877112,
          0.16367958858257114,
          0.4827218657570418,
          0.45439115262601026,
          0.5916024939473367,
          0.9010807921355786,
          0.08756414376406696,
          0.8269167025397236,
          0.8201858412379202,
          0.4992906827502448,
          0.9284485950569646
         ],
         "y": [
          4.221752253112694,
          -1.3469092349093235,
          0.27159331027486155,
          3.762635548828706,
          5.888343448508944,
          1.947340964473559,
          1.0909179646118445,
          6.3378054245382325,
          7.248524843650005,
          -2.822116904368711,
          0.3923283752899981,
          6.370044676130917,
          7.348499371533039,
          1.6451216849204093,
          -2.33212794400787,
          -0.00796291098427071,
          4.624703997699721,
          0.9534254819002721,
          7.181813433842258,
          6.1291638551522745,
          7.6065982188892285,
          7.796903697416263,
          5.232665945042281,
          3.257793432769918,
          4.288947883267252,
          6.411278040434329,
          4.941004955768714,
          6.145667222699822,
          -2.5715398098688,
          3.2195712499514872,
          3.0145497232537783,
          4.401157743985014,
          7.598387774502802,
          4.409837472355361,
          -2.6207497249714415,
          0.38946677217305525,
          3.843788785228371,
          0.49621256188742147,
          5.161980474603746,
          -1.4511457369339544,
          7.687484148618528,
          8.096237008813782,
          0.8911092668661846,
          1.3269402433028952,
          7.439454587980946,
          0.6590496128737622,
          0.01309560399777654,
          2.0091501622653123,
          6.18532874304181,
          0.8692436861452153,
          4.618931226935791,
          3.025389963223385,
          7.255331923104634,
          5.700434933927351,
          8.55697041197068,
          8.43490172335547,
          6.7233526664938825,
          -1.5194769173852958,
          4.754034843770247,
          8.673591057862795,
          7.865497315732027,
          5.584301116361971,
          7.760431167144839,
          0.00483907441251441,
          7.081041745311235,
          0.23037348817232806,
          7.749165775853402,
          7.893806557860937,
          -2.409296422037003,
          5.926110664689823,
          4.195181070508768,
          3.2354545071445164,
          -0.02812375967323999,
          6.1608896372959,
          1.261372166353335,
          3.4393302552469205,
          6.477055679853183,
          7.719084086401214,
          1.7285098554603913,
          4.720868726775207,
          -2.342804276133743,
          7.293130802026389,
          -0.7029365406131871,
          7.605291573232531,
          1.9431897056306362,
          6.370582600957016,
          6.426703249991977,
          -2.2224890476792263,
          -1.0160678842133646,
          2.892214644608723,
          -1.7632726672300976,
          1.5584897714220776,
          3.546337291065396,
          5.6899039906168305,
          6.647178277104205,
          -1.8405529993251384,
          6.311911710518852,
          6.800594405504015,
          2.3906513612787084,
          9.215701217495932
         ]
        },
        {
         "line": {
          "color": "gold"
         },
         "mode": "markers",
         "name": "predicted",
         "type": "scatter",
         "x": [
          0.6808726683763211,
          0.11096539272127748,
          0.26873597733134413,
          0.6540105716710871,
          0.8179311649028992,
          0.3860716859331559,
          0.4324134535664589,
          0.7952937702133547,
          0.8893010893736275,
          0.045610103464578056,
          0.23031009937616786,
          0.6824978767862425,
          0.7633314158188252,
          0.23619506436549753,
          0.07883809018728105,
          0.039291556458677435,
          0.7871739924497785,
          0.05554548330366671,
          0.9355215340074012,
          0.7769572663820068,
          0.9400185819275354,
          0.8378311614073621,
          0.6988986146535666,
          0.4920199499886645,
          0.5052787558476152,
          0.848395464096658,
          0.6673385020542457,
          0.7578948029961029,
          0.11347070148737937,
          0.5701283949856673,
          0.47212113926951227,
          0.6624174307676531,
          0.8423097888516012,
          0.6603294939574145,
          0.12220684154890094,
          0.3215101434062113,
          0.4790237890402338,
          0.32739239968653766,
          0.7190010551104518,
          0.12107878781619952,
          0.9180260916768698,
          0.9478752718470964,
          0.32640573576532994,
          0.363366648505859,
          0.8773063252275064,
          0.4624706594397493,
          0.3872804701399132,
          0.5429595128804204,
          0.5916542546156431,
          0.3135225289807152,
          0.8123838206852416,
          0.5846655685711106,
          0.9453495960922401,
          0.6296251205911255,
          0.9466267228526805,
          0.8740604666722134,
          0.8853133395756977,
          0.05979176963523325,
          0.6672747704355806,
          0.967870420686631,
          0.8391949388194673,
          0.6443164800170301,
          0.8994846528327762,
          0.059959077116207626,
          0.8112485753670552,
          0.28111282967407614,
          0.8025508622178834,
          0.923931958600824,
          0.12074805506706243,
          0.9270134126273074,
          0.7561489635484339,
          0.4612793175981189,
          0.15292812443560833,
          0.8772520832878269,
          0.18992049745005235,
          0.6935414482545583,
          0.7850324087539896,
          0.9995422686701506,
          0.47335206203290237,
          0.6756546657318028,
          0.10548121807443422,
          0.9554639892937119,
          0.06732447126993923,
          0.9980076636806106,
          0.13045610699084265,
          0.87668424839488,
          0.5737969405940515,
          0.1357410567704035,
          0.033881953953891486,
          0.5987802719877112,
          0.16367958858257114,
          0.4827218657570418,
          0.45439115262601026,
          0.5916024939473367,
          0.9010807921355786,
          0.08756414376406696,
          0.8269167025397236,
          0.8201858412379202,
          0.4992906827502448,
          0.9284485950569646
         ],
         "y": [
          4.905846884362165,
          0.8918537101539048,
          1.9090804370491092,
          4.8245161581232345,
          5.236047532295722,
          2.987026115740909,
          3.3328508857011054,
          5.178589586951637,
          5.61796231173157,
          0.3781795338629564,
          1.716143237797588,
          4.905846884362165,
          5.052240710343225,
          1.716143237797588,
          0.5757332101344577,
          0.3393468998533765,
          5.178589586951637,
          0.3781795338629564,
          5.684536493306859,
          5.114327040214244,
          5.684536493306859,
          5.429538560017397,
          4.951402818337276,
          3.6525826883194936,
          3.732774791149441,
          5.429538560017397,
          4.905846884362165,
          5.052240710343225,
          0.8918537101539048,
          4.068685760389206,
          3.6525826883194936,
          4.8245161581232345,
          5.429538560017397,
          4.8245161581232345,
          0.8918537101539048,
          2.4296896482101205,
          3.6525826883194936,
          2.481452609040904,
          4.951402818337276,
          0.8918537101539048,
          5.61796231173157,
          5.684536493306859,
          2.4296896482101205,
          2.7314052215968756,
          5.4873216349007,
          3.6008197154376034,
          2.987026115740909,
          3.8194031623483853,
          4.203961062192628,
          2.320945779354666,
          5.178589586951637,
          4.138259822393522,
          5.684536493306859,
          4.650622374875098,
          5.684536493306859,
          5.4873216349007,
          5.4873216349007,
          0.3781795338629564,
          4.905846884362165,
          5.832425232827428,
          5.429538560017397,
          4.7660506169449635,
          5.61796231173157,
          0.3781795338629564,
          5.178589586951637,
          1.973021094899157,
          5.178589586951637,
          5.61796231173157,
          0.8918537101539048,
          5.61796231173157,
          5.052240710343225,
          3.6008197154376034,
          1.0781483891731503,
          5.4873216349007,
          1.568930577433178,
          4.951402818337276,
          5.178589586951637,
          6.157861986514739,
          3.6525826883194936,
          4.905846884362165,
          0.8918537101539048,
          5.716449914235837,
          0.3781795338629564,
          6.0950751427608045,
          0.9880253346293736,
          5.4873216349007,
          4.068685760389206,
          0.9880253346293736,
          0.3393468998533765,
          4.203961062192628,
          1.2510962706111062,
          3.6525826883194936,
          3.562358141618971,
          4.203961062192628,
          5.61796231173157,
          0.6289866178103038,
          5.361958751823836,
          5.236047532295722,
          3.692509040692352,
          5.61796231173157
         ]
        }
       ],
       "layout": {
        "template": {
         "data": {
          "bar": [
           {
            "error_x": {
             "color": "#2a3f5f"
            },
            "error_y": {
             "color": "#2a3f5f"
            },
            "marker": {
             "line": {
              "color": "#E5ECF6",
              "width": 0.5
             },
             "pattern": {
              "fillmode": "overlay",
              "size": 10,
              "solidity": 0.2
             }
            },
            "type": "bar"
           }
          ],
          "barpolar": [
           {
            "marker": {
             "line": {
              "color": "#E5ECF6",
              "width": 0.5
             },
             "pattern": {
              "fillmode": "overlay",
              "size": 10,
              "solidity": 0.2
             }
            },
            "type": "barpolar"
           }
          ],
          "carpet": [
           {
            "aaxis": {
             "endlinecolor": "#2a3f5f",
             "gridcolor": "white",
             "linecolor": "white",
             "minorgridcolor": "white",
             "startlinecolor": "#2a3f5f"
            },
            "baxis": {
             "endlinecolor": "#2a3f5f",
             "gridcolor": "white",
             "linecolor": "white",
             "minorgridcolor": "white",
             "startlinecolor": "#2a3f5f"
            },
            "type": "carpet"
           }
          ],
          "choropleth": [
           {
            "colorbar": {
             "outlinewidth": 0,
             "ticks": ""
            },
            "type": "choropleth"
           }
          ],
          "contour": [
           {
            "colorbar": {
             "outlinewidth": 0,
             "ticks": ""
            },
            "colorscale": [
             [
              0,
              "#0d0887"
             ],
             [
              0.1111111111111111,
              "#46039f"
             ],
             [
              0.2222222222222222,
              "#7201a8"
             ],
             [
              0.3333333333333333,
              "#9c179e"
             ],
             [
              0.4444444444444444,
              "#bd3786"
             ],
             [
              0.5555555555555556,
              "#d8576b"
             ],
             [
              0.6666666666666666,
              "#ed7953"
             ],
             [
              0.7777777777777778,
              "#fb9f3a"
             ],
             [
              0.8888888888888888,
              "#fdca26"
             ],
             [
              1,
              "#f0f921"
             ]
            ],
            "type": "contour"
           }
          ],
          "contourcarpet": [
           {
            "colorbar": {
             "outlinewidth": 0,
             "ticks": ""
            },
            "type": "contourcarpet"
           }
          ],
          "heatmap": [
           {
            "colorbar": {
             "outlinewidth": 0,
             "ticks": ""
            },
            "colorscale": [
             [
              0,
              "#0d0887"
             ],
             [
              0.1111111111111111,
              "#46039f"
             ],
             [
              0.2222222222222222,
              "#7201a8"
             ],
             [
              0.3333333333333333,
              "#9c179e"
             ],
             [
              0.4444444444444444,
              "#bd3786"
             ],
             [
              0.5555555555555556,
              "#d8576b"
             ],
             [
              0.6666666666666666,
              "#ed7953"
             ],
             [
              0.7777777777777778,
              "#fb9f3a"
             ],
             [
              0.8888888888888888,
              "#fdca26"
             ],
             [
              1,
              "#f0f921"
             ]
            ],
            "type": "heatmap"
           }
          ],
          "heatmapgl": [
           {
            "colorbar": {
             "outlinewidth": 0,
             "ticks": ""
            },
            "colorscale": [
             [
              0,
              "#0d0887"
             ],
             [
              0.1111111111111111,
              "#46039f"
             ],
             [
              0.2222222222222222,
              "#7201a8"
             ],
             [
              0.3333333333333333,
              "#9c179e"
             ],
             [
              0.4444444444444444,
              "#bd3786"
             ],
             [
              0.5555555555555556,
              "#d8576b"
             ],
             [
              0.6666666666666666,
              "#ed7953"
             ],
             [
              0.7777777777777778,
              "#fb9f3a"
             ],
             [
              0.8888888888888888,
              "#fdca26"
             ],
             [
              1,
              "#f0f921"
             ]
            ],
            "type": "heatmapgl"
           }
          ],
          "histogram": [
           {
            "marker": {
             "pattern": {
              "fillmode": "overlay",
              "size": 10,
              "solidity": 0.2
             }
            },
            "type": "histogram"
           }
          ],
          "histogram2d": [
           {
            "colorbar": {
             "outlinewidth": 0,
             "ticks": ""
            },
            "colorscale": [
             [
              0,
              "#0d0887"
             ],
             [
              0.1111111111111111,
              "#46039f"
             ],
             [
              0.2222222222222222,
              "#7201a8"
             ],
             [
              0.3333333333333333,
              "#9c179e"
             ],
             [
              0.4444444444444444,
              "#bd3786"
             ],
             [
              0.5555555555555556,
              "#d8576b"
             ],
             [
              0.6666666666666666,
              "#ed7953"
             ],
             [
              0.7777777777777778,
              "#fb9f3a"
             ],
             [
              0.8888888888888888,
              "#fdca26"
             ],
             [
              1,
              "#f0f921"
             ]
            ],
            "type": "histogram2d"
           }
          ],
          "histogram2dcontour": [
           {
            "colorbar": {
             "outlinewidth": 0,
             "ticks": ""
            },
            "colorscale": [
             [
              0,
              "#0d0887"
             ],
             [
              0.1111111111111111,
              "#46039f"
             ],
             [
              0.2222222222222222,
              "#7201a8"
             ],
             [
              0.3333333333333333,
              "#9c179e"
             ],
             [
              0.4444444444444444,
              "#bd3786"
             ],
             [
              0.5555555555555556,
              "#d8576b"
             ],
             [
              0.6666666666666666,
              "#ed7953"
             ],
             [
              0.7777777777777778,
              "#fb9f3a"
             ],
             [
              0.8888888888888888,
              "#fdca26"
             ],
             [
              1,
              "#f0f921"
             ]
            ],
            "type": "histogram2dcontour"
           }
          ],
          "mesh3d": [
           {
            "colorbar": {
             "outlinewidth": 0,
             "ticks": ""
            },
            "type": "mesh3d"
           }
          ],
          "parcoords": [
           {
            "line": {
             "colorbar": {
              "outlinewidth": 0,
              "ticks": ""
             }
            },
            "type": "parcoords"
           }
          ],
          "pie": [
           {
            "automargin": true,
            "type": "pie"
           }
          ],
          "scatter": [
           {
            "fillpattern": {
             "fillmode": "overlay",
             "size": 10,
             "solidity": 0.2
            },
            "type": "scatter"
           }
          ],
          "scatter3d": [
           {
            "line": {
             "colorbar": {
              "outlinewidth": 0,
              "ticks": ""
             }
            },
            "marker": {
             "colorbar": {
              "outlinewidth": 0,
              "ticks": ""
             }
            },
            "type": "scatter3d"
           }
          ],
          "scattercarpet": [
           {
            "marker": {
             "colorbar": {
              "outlinewidth": 0,
              "ticks": ""
             }
            },
            "type": "scattercarpet"
           }
          ],
          "scattergeo": [
           {
            "marker": {
             "colorbar": {
              "outlinewidth": 0,
              "ticks": ""
             }
            },
            "type": "scattergeo"
           }
          ],
          "scattergl": [
           {
            "marker": {
             "colorbar": {
              "outlinewidth": 0,
              "ticks": ""
             }
            },
            "type": "scattergl"
           }
          ],
          "scattermapbox": [
           {
            "marker": {
             "colorbar": {
              "outlinewidth": 0,
              "ticks": ""
             }
            },
            "type": "scattermapbox"
           }
          ],
          "scatterpolar": [
           {
            "marker": {
             "colorbar": {
              "outlinewidth": 0,
              "ticks": ""
             }
            },
            "type": "scatterpolar"
           }
          ],
          "scatterpolargl": [
           {
            "marker": {
             "colorbar": {
              "outlinewidth": 0,
              "ticks": ""
             }
            },
            "type": "scatterpolargl"
           }
          ],
          "scatterternary": [
           {
            "marker": {
             "colorbar": {
              "outlinewidth": 0,
              "ticks": ""
             }
            },
            "type": "scatterternary"
           }
          ],
          "surface": [
           {
            "colorbar": {
             "outlinewidth": 0,
             "ticks": ""
            },
            "colorscale": [
             [
              0,
              "#0d0887"
             ],
             [
              0.1111111111111111,
              "#46039f"
             ],
             [
              0.2222222222222222,
              "#7201a8"
             ],
             [
              0.3333333333333333,
              "#9c179e"
             ],
             [
              0.4444444444444444,
              "#bd3786"
             ],
             [
              0.5555555555555556,
              "#d8576b"
             ],
             [
              0.6666666666666666,
              "#ed7953"
             ],
             [
              0.7777777777777778,
              "#fb9f3a"
             ],
             [
              0.8888888888888888,
              "#fdca26"
             ],
             [
              1,
              "#f0f921"
             ]
            ],
            "type": "surface"
           }
          ],
          "table": [
           {
            "cells": {
             "fill": {
              "color": "#EBF0F8"
             },
             "line": {
              "color": "white"
             }
            },
            "header": {
             "fill": {
              "color": "#C8D4E3"
             },
             "line": {
              "color": "white"
             }
            },
            "type": "table"
           }
          ]
         },
         "layout": {
          "annotationdefaults": {
           "arrowcolor": "#2a3f5f",
           "arrowhead": 0,
           "arrowwidth": 1
          },
          "autotypenumbers": "strict",
          "coloraxis": {
           "colorbar": {
            "outlinewidth": 0,
            "ticks": ""
           }
          },
          "colorscale": {
           "diverging": [
            [
             0,
             "#8e0152"
            ],
            [
             0.1,
             "#c51b7d"
            ],
            [
             0.2,
             "#de77ae"
            ],
            [
             0.3,
             "#f1b6da"
            ],
            [
             0.4,
             "#fde0ef"
            ],
            [
             0.5,
             "#f7f7f7"
            ],
            [
             0.6,
             "#e6f5d0"
            ],
            [
             0.7,
             "#b8e186"
            ],
            [
             0.8,
             "#7fbc41"
            ],
            [
             0.9,
             "#4d9221"
            ],
            [
             1,
             "#276419"
            ]
           ],
           "sequential": [
            [
             0,
             "#0d0887"
            ],
            [
             0.1111111111111111,
             "#46039f"
            ],
            [
             0.2222222222222222,
             "#7201a8"
            ],
            [
             0.3333333333333333,
             "#9c179e"
            ],
            [
             0.4444444444444444,
             "#bd3786"
            ],
            [
             0.5555555555555556,
             "#d8576b"
            ],
            [
             0.6666666666666666,
             "#ed7953"
            ],
            [
             0.7777777777777778,
             "#fb9f3a"
            ],
            [
             0.8888888888888888,
             "#fdca26"
            ],
            [
             1,
             "#f0f921"
            ]
           ],
           "sequentialminus": [
            [
             0,
             "#0d0887"
            ],
            [
             0.1111111111111111,
             "#46039f"
            ],
            [
             0.2222222222222222,
             "#7201a8"
            ],
            [
             0.3333333333333333,
             "#9c179e"
            ],
            [
             0.4444444444444444,
             "#bd3786"
            ],
            [
             0.5555555555555556,
             "#d8576b"
            ],
            [
             0.6666666666666666,
             "#ed7953"
            ],
            [
             0.7777777777777778,
             "#fb9f3a"
            ],
            [
             0.8888888888888888,
             "#fdca26"
            ],
            [
             1,
             "#f0f921"
            ]
           ]
          },
          "colorway": [
           "#636efa",
           "#EF553B",
           "#00cc96",
           "#ab63fa",
           "#FFA15A",
           "#19d3f3",
           "#FF6692",
           "#B6E880",
           "#FF97FF",
           "#FECB52"
          ],
          "font": {
           "color": "#2a3f5f"
          },
          "geo": {
           "bgcolor": "white",
           "lakecolor": "white",
           "landcolor": "#E5ECF6",
           "showlakes": true,
           "showland": true,
           "subunitcolor": "white"
          },
          "hoverlabel": {
           "align": "left"
          },
          "hovermode": "closest",
          "mapbox": {
           "style": "light"
          },
          "paper_bgcolor": "white",
          "plot_bgcolor": "#E5ECF6",
          "polar": {
           "angularaxis": {
            "gridcolor": "white",
            "linecolor": "white",
            "ticks": ""
           },
           "bgcolor": "#E5ECF6",
           "radialaxis": {
            "gridcolor": "white",
            "linecolor": "white",
            "ticks": ""
           }
          },
          "scene": {
           "xaxis": {
            "backgroundcolor": "#E5ECF6",
            "gridcolor": "white",
            "gridwidth": 2,
            "linecolor": "white",
            "showbackground": true,
            "ticks": "",
            "zerolinecolor": "white"
           },
           "yaxis": {
            "backgroundcolor": "#E5ECF6",
            "gridcolor": "white",
            "gridwidth": 2,
            "linecolor": "white",
            "showbackground": true,
            "ticks": "",
            "zerolinecolor": "white"
           },
           "zaxis": {
            "backgroundcolor": "#E5ECF6",
            "gridcolor": "white",
            "gridwidth": 2,
            "linecolor": "white",
            "showbackground": true,
            "ticks": "",
            "zerolinecolor": "white"
           }
          },
          "shapedefaults": {
           "line": {
            "color": "#2a3f5f"
           }
          },
          "ternary": {
           "aaxis": {
            "gridcolor": "white",
            "linecolor": "white",
            "ticks": ""
           },
           "baxis": {
            "gridcolor": "white",
            "linecolor": "white",
            "ticks": ""
           },
           "bgcolor": "#E5ECF6",
           "caxis": {
            "gridcolor": "white",
            "linecolor": "white",
            "ticks": ""
           }
          },
          "title": {
           "x": 0.05
          },
          "xaxis": {
           "automargin": true,
           "gridcolor": "white",
           "linecolor": "white",
           "ticks": "",
           "title": {
            "standoff": 15
           },
           "zerolinecolor": "white",
           "zerolinewidth": 2
          },
          "yaxis": {
           "automargin": true,
           "gridcolor": "white",
           "linecolor": "white",
           "ticks": "",
           "title": {
            "standoff": 15
           },
           "zerolinecolor": "white",
           "zerolinewidth": 2
          }
         }
        },
        "xaxis": {
         "title": {
          "text": "X"
         }
        },
        "yaxis": {
         "title": {
          "text": "Y"
         }
        }
       }
      }
     },
     "metadata": {},
     "output_type": "display_data"
    }
   ],
   "source": [
    "# 5 points for showing the actual points\n",
    "# 5 points for showing the predicted points\n",
    "# 5 points for showing a title, legend, or x or y axis labels.\n",
    "\n",
    "fig = go.Figure()\n",
    "fig.add_trace(go.Scatter(x = data['X'], y = data['Y'], mode = 'markers', name = 'actual'))\n",
    "fig.add_trace(go.Scatter(x = data['X'], y = data['Y_predicted'], mode = 'markers', name = 'predicted', line=dict(color='gold')))\n",
    "fig.update_layout(xaxis_title = 'X', yaxis_title = 'Y')"
   ]
  },
  {
   "cell_type": "code",
   "execution_count": 17,
   "id": "f09369fe",
   "metadata": {},
   "outputs": [],
   "source": [
    "import sklearn.linear_model as lm"
   ]
  },
  {
   "cell_type": "code",
   "execution_count": 18,
   "id": "aca57866",
   "metadata": {},
   "outputs": [],
   "source": [
    "# another way to do it\n",
    "# 5 points for using a linear regression model from sklearn\n",
    "# 5 points for using a line for the prediction.\n",
    "# 5 points for plotting the actual points\n",
    "\n",
    "model = lm.LinearRegression(fit_intercept = True)\n",
    "\n",
    "model.fit(data[['X']], data['Y']);\n",
    "\n",
    "pred_Y = model.predict(data[['X']])"
   ]
  },
  {
   "cell_type": "code",
   "execution_count": 19,
   "id": "096946df",
   "metadata": {},
   "outputs": [
    {
     "data": {
      "application/vnd.plotly.v1+json": {
       "config": {
        "plotlyServerURL": "https://plot.ly"
       },
       "data": [
        {
         "mode": "markers",
         "name": "actual",
         "type": "scatter",
         "x": [
          0.6808726683763211,
          0.11096539272127748,
          0.26873597733134413,
          0.6540105716710871,
          0.8179311649028992,
          0.3860716859331559,
          0.4324134535664589,
          0.7952937702133547,
          0.8893010893736275,
          0.045610103464578056,
          0.23031009937616786,
          0.6824978767862425,
          0.7633314158188252,
          0.23619506436549753,
          0.07883809018728105,
          0.039291556458677435,
          0.7871739924497785,
          0.05554548330366671,
          0.9355215340074012,
          0.7769572663820068,
          0.9400185819275354,
          0.8378311614073621,
          0.6988986146535666,
          0.4920199499886645,
          0.5052787558476152,
          0.848395464096658,
          0.6673385020542457,
          0.7578948029961029,
          0.11347070148737937,
          0.5701283949856673,
          0.47212113926951227,
          0.6624174307676531,
          0.8423097888516012,
          0.6603294939574145,
          0.12220684154890094,
          0.3215101434062113,
          0.4790237890402338,
          0.32739239968653766,
          0.7190010551104518,
          0.12107878781619952,
          0.9180260916768698,
          0.9478752718470964,
          0.32640573576532994,
          0.363366648505859,
          0.8773063252275064,
          0.4624706594397493,
          0.3872804701399132,
          0.5429595128804204,
          0.5916542546156431,
          0.3135225289807152,
          0.8123838206852416,
          0.5846655685711106,
          0.9453495960922401,
          0.6296251205911255,
          0.9466267228526805,
          0.8740604666722134,
          0.8853133395756977,
          0.05979176963523325,
          0.6672747704355806,
          0.967870420686631,
          0.8391949388194673,
          0.6443164800170301,
          0.8994846528327762,
          0.059959077116207626,
          0.8112485753670552,
          0.28111282967407614,
          0.8025508622178834,
          0.923931958600824,
          0.12074805506706243,
          0.9270134126273074,
          0.7561489635484339,
          0.4612793175981189,
          0.15292812443560833,
          0.8772520832878269,
          0.18992049745005235,
          0.6935414482545583,
          0.7850324087539896,
          0.9995422686701506,
          0.47335206203290237,
          0.6756546657318028,
          0.10548121807443422,
          0.9554639892937119,
          0.06732447126993923,
          0.9980076636806106,
          0.13045610699084265,
          0.87668424839488,
          0.5737969405940515,
          0.1357410567704035,
          0.033881953953891486,
          0.5987802719877112,
          0.16367958858257114,
          0.4827218657570418,
          0.45439115262601026,
          0.5916024939473367,
          0.9010807921355786,
          0.08756414376406696,
          0.8269167025397236,
          0.8201858412379202,
          0.4992906827502448,
          0.9284485950569646
         ],
         "y": [
          4.221752253112694,
          -1.3469092349093235,
          0.27159331027486155,
          3.762635548828706,
          5.888343448508944,
          1.947340964473559,
          1.0909179646118445,
          6.3378054245382325,
          7.248524843650005,
          -2.822116904368711,
          0.3923283752899981,
          6.370044676130917,
          7.348499371533039,
          1.6451216849204093,
          -2.33212794400787,
          -0.00796291098427071,
          4.624703997699721,
          0.9534254819002721,
          7.181813433842258,
          6.1291638551522745,
          7.6065982188892285,
          7.796903697416263,
          5.232665945042281,
          3.257793432769918,
          4.288947883267252,
          6.411278040434329,
          4.941004955768714,
          6.145667222699822,
          -2.5715398098688,
          3.2195712499514872,
          3.0145497232537783,
          4.401157743985014,
          7.598387774502802,
          4.409837472355361,
          -2.6207497249714415,
          0.38946677217305525,
          3.843788785228371,
          0.49621256188742147,
          5.161980474603746,
          -1.4511457369339544,
          7.687484148618528,
          8.096237008813782,
          0.8911092668661846,
          1.3269402433028952,
          7.439454587980946,
          0.6590496128737622,
          0.01309560399777654,
          2.0091501622653123,
          6.18532874304181,
          0.8692436861452153,
          4.618931226935791,
          3.025389963223385,
          7.255331923104634,
          5.700434933927351,
          8.55697041197068,
          8.43490172335547,
          6.7233526664938825,
          -1.5194769173852958,
          4.754034843770247,
          8.673591057862795,
          7.865497315732027,
          5.584301116361971,
          7.760431167144839,
          0.00483907441251441,
          7.081041745311235,
          0.23037348817232806,
          7.749165775853402,
          7.893806557860937,
          -2.409296422037003,
          5.926110664689823,
          4.195181070508768,
          3.2354545071445164,
          -0.02812375967323999,
          6.1608896372959,
          1.261372166353335,
          3.4393302552469205,
          6.477055679853183,
          7.719084086401214,
          1.7285098554603913,
          4.720868726775207,
          -2.342804276133743,
          7.293130802026389,
          -0.7029365406131871,
          7.605291573232531,
          1.9431897056306362,
          6.370582600957016,
          6.426703249991977,
          -2.2224890476792263,
          -1.0160678842133646,
          2.892214644608723,
          -1.7632726672300976,
          1.5584897714220776,
          3.546337291065396,
          5.6899039906168305,
          6.647178277104205,
          -1.8405529993251384,
          6.311911710518852,
          6.800594405504015,
          2.3906513612787084,
          9.215701217495932
         ]
        },
        {
         "line": {
          "color": "red"
         },
         "name": "prediction",
         "type": "scatter",
         "x": [
          0.6808726683763211,
          0.11096539272127748,
          0.26873597733134413,
          0.6540105716710871,
          0.8179311649028992,
          0.3860716859331559,
          0.4324134535664589,
          0.7952937702133547,
          0.8893010893736275,
          0.045610103464578056,
          0.23031009937616786,
          0.6824978767862425,
          0.7633314158188252,
          0.23619506436549753,
          0.07883809018728105,
          0.039291556458677435,
          0.7871739924497785,
          0.05554548330366671,
          0.9355215340074012,
          0.7769572663820068,
          0.9400185819275354,
          0.8378311614073621,
          0.6988986146535666,
          0.4920199499886645,
          0.5052787558476152,
          0.848395464096658,
          0.6673385020542457,
          0.7578948029961029,
          0.11347070148737937,
          0.5701283949856673,
          0.47212113926951227,
          0.6624174307676531,
          0.8423097888516012,
          0.6603294939574145,
          0.12220684154890094,
          0.3215101434062113,
          0.4790237890402338,
          0.32739239968653766,
          0.7190010551104518,
          0.12107878781619952,
          0.9180260916768698,
          0.9478752718470964,
          0.32640573576532994,
          0.363366648505859,
          0.8773063252275064,
          0.4624706594397493,
          0.3872804701399132,
          0.5429595128804204,
          0.5916542546156431,
          0.3135225289807152,
          0.8123838206852416,
          0.5846655685711106,
          0.9453495960922401,
          0.6296251205911255,
          0.9466267228526805,
          0.8740604666722134,
          0.8853133395756977,
          0.05979176963523325,
          0.6672747704355806,
          0.967870420686631,
          0.8391949388194673,
          0.6443164800170301,
          0.8994846528327762,
          0.059959077116207626,
          0.8112485753670552,
          0.28111282967407614,
          0.8025508622178834,
          0.923931958600824,
          0.12074805506706243,
          0.9270134126273074,
          0.7561489635484339,
          0.4612793175981189,
          0.15292812443560833,
          0.8772520832878269,
          0.18992049745005235,
          0.6935414482545583,
          0.7850324087539896,
          0.9995422686701506,
          0.47335206203290237,
          0.6756546657318028,
          0.10548121807443422,
          0.9554639892937119,
          0.06732447126993923,
          0.9980076636806106,
          0.13045610699084265,
          0.87668424839488,
          0.5737969405940515,
          0.1357410567704035,
          0.033881953953891486,
          0.5987802719877112,
          0.16367958858257114,
          0.4827218657570418,
          0.45439115262601026,
          0.5916024939473367,
          0.9010807921355786,
          0.08756414376406696,
          0.8269167025397236,
          0.8201858412379202,
          0.4992906827502448,
          0.9284485950569646
         ],
         "y": [
          4.960378970216901,
          -1.095792881590486,
          0.5807706830007171,
          4.674926439785907,
          6.416843634159391,
          1.8276493350224978,
          2.3201043723462957,
          6.176285286558902,
          7.1752626719729475,
          -1.7902968475351608,
          0.17243457220857739,
          4.977649396207118,
          5.836634400756197,
          0.23497169156064324,
          -1.4371966039017252,
          -1.8574414658899177,
          6.089999724616951,
          -1.6847176238810246,
          7.666428459332562,
          5.981430749500519,
          7.714216750855674,
          6.628312769279437,
          5.151933338988505,
          2.9535182648117067,
          3.094414179395817,
          6.740575299192483,
          4.816556912456325,
          5.778861736758704,
          -1.069169988573524,
          3.7835448080517278,
          2.7420617305478485,
          4.7642626978012395,
          6.6759053139286655,
          4.742075046092484,
          -0.9763345962314582,
          1.1415801913858563,
          2.8154133704199316,
          1.204088526393659,
          5.365553763306989,
          -0.9883219625191764,
          7.480511539329567,
          7.797706585731944,
          1.193603651885005,
          1.586372175675161,
          7.047799212399963,
          2.6395100229314306,
          1.8404945910853527,
          3.4948321944748093,
          4.012291326557178,
          1.056699075258361,
          6.357894272853817,
          3.938025414343003,
          7.770867261043954,
          4.4157922108811345,
          7.7844387655117275,
          7.013306799235171,
          7.132886483582451,
          -1.6395940733413514,
          4.815879662574603,
          8.010186865853836,
          6.642805074831824,
          4.571911287125045,
          7.283479241592109,
          -1.6378161650742404,
          6.345830484524401,
          0.7122944377832408,
          6.253403439285216,
          7.543270775003934,
          -0.9918365243634566,
          7.576016128388619,
          5.760309413999539,
          2.6268501197588146,
          -0.6498720704529584,
          7.047222805460961,
          -0.25676923118119177,
          5.095004919687608,
          6.06724198936639,
          8.34675065867794,
          2.755142244010014,
          4.904929387296475,
          -1.1540709656672916,
          7.878348786585913,
          -1.5595471296420707,
          8.330443038231063,
          -0.8886730216180219,
          7.041188655973772,
          3.8225289438921273,
          -0.832512018836641,
          -1.9149271022704952,
          4.088016602698995,
          -0.5356206521714266,
          2.8547113212881934,
          2.5536524039255815,
          4.011741287075636,
          7.300440762053635,
          -1.3444683965133337,
          6.512329272673033,
          6.440803158696773,
          3.030781372291929,
          7.591267225898663
         ]
        }
       ],
       "layout": {
        "template": {
         "data": {
          "bar": [
           {
            "error_x": {
             "color": "#2a3f5f"
            },
            "error_y": {
             "color": "#2a3f5f"
            },
            "marker": {
             "line": {
              "color": "#E5ECF6",
              "width": 0.5
             },
             "pattern": {
              "fillmode": "overlay",
              "size": 10,
              "solidity": 0.2
             }
            },
            "type": "bar"
           }
          ],
          "barpolar": [
           {
            "marker": {
             "line": {
              "color": "#E5ECF6",
              "width": 0.5
             },
             "pattern": {
              "fillmode": "overlay",
              "size": 10,
              "solidity": 0.2
             }
            },
            "type": "barpolar"
           }
          ],
          "carpet": [
           {
            "aaxis": {
             "endlinecolor": "#2a3f5f",
             "gridcolor": "white",
             "linecolor": "white",
             "minorgridcolor": "white",
             "startlinecolor": "#2a3f5f"
            },
            "baxis": {
             "endlinecolor": "#2a3f5f",
             "gridcolor": "white",
             "linecolor": "white",
             "minorgridcolor": "white",
             "startlinecolor": "#2a3f5f"
            },
            "type": "carpet"
           }
          ],
          "choropleth": [
           {
            "colorbar": {
             "outlinewidth": 0,
             "ticks": ""
            },
            "type": "choropleth"
           }
          ],
          "contour": [
           {
            "colorbar": {
             "outlinewidth": 0,
             "ticks": ""
            },
            "colorscale": [
             [
              0,
              "#0d0887"
             ],
             [
              0.1111111111111111,
              "#46039f"
             ],
             [
              0.2222222222222222,
              "#7201a8"
             ],
             [
              0.3333333333333333,
              "#9c179e"
             ],
             [
              0.4444444444444444,
              "#bd3786"
             ],
             [
              0.5555555555555556,
              "#d8576b"
             ],
             [
              0.6666666666666666,
              "#ed7953"
             ],
             [
              0.7777777777777778,
              "#fb9f3a"
             ],
             [
              0.8888888888888888,
              "#fdca26"
             ],
             [
              1,
              "#f0f921"
             ]
            ],
            "type": "contour"
           }
          ],
          "contourcarpet": [
           {
            "colorbar": {
             "outlinewidth": 0,
             "ticks": ""
            },
            "type": "contourcarpet"
           }
          ],
          "heatmap": [
           {
            "colorbar": {
             "outlinewidth": 0,
             "ticks": ""
            },
            "colorscale": [
             [
              0,
              "#0d0887"
             ],
             [
              0.1111111111111111,
              "#46039f"
             ],
             [
              0.2222222222222222,
              "#7201a8"
             ],
             [
              0.3333333333333333,
              "#9c179e"
             ],
             [
              0.4444444444444444,
              "#bd3786"
             ],
             [
              0.5555555555555556,
              "#d8576b"
             ],
             [
              0.6666666666666666,
              "#ed7953"
             ],
             [
              0.7777777777777778,
              "#fb9f3a"
             ],
             [
              0.8888888888888888,
              "#fdca26"
             ],
             [
              1,
              "#f0f921"
             ]
            ],
            "type": "heatmap"
           }
          ],
          "heatmapgl": [
           {
            "colorbar": {
             "outlinewidth": 0,
             "ticks": ""
            },
            "colorscale": [
             [
              0,
              "#0d0887"
             ],
             [
              0.1111111111111111,
              "#46039f"
             ],
             [
              0.2222222222222222,
              "#7201a8"
             ],
             [
              0.3333333333333333,
              "#9c179e"
             ],
             [
              0.4444444444444444,
              "#bd3786"
             ],
             [
              0.5555555555555556,
              "#d8576b"
             ],
             [
              0.6666666666666666,
              "#ed7953"
             ],
             [
              0.7777777777777778,
              "#fb9f3a"
             ],
             [
              0.8888888888888888,
              "#fdca26"
             ],
             [
              1,
              "#f0f921"
             ]
            ],
            "type": "heatmapgl"
           }
          ],
          "histogram": [
           {
            "marker": {
             "pattern": {
              "fillmode": "overlay",
              "size": 10,
              "solidity": 0.2
             }
            },
            "type": "histogram"
           }
          ],
          "histogram2d": [
           {
            "colorbar": {
             "outlinewidth": 0,
             "ticks": ""
            },
            "colorscale": [
             [
              0,
              "#0d0887"
             ],
             [
              0.1111111111111111,
              "#46039f"
             ],
             [
              0.2222222222222222,
              "#7201a8"
             ],
             [
              0.3333333333333333,
              "#9c179e"
             ],
             [
              0.4444444444444444,
              "#bd3786"
             ],
             [
              0.5555555555555556,
              "#d8576b"
             ],
             [
              0.6666666666666666,
              "#ed7953"
             ],
             [
              0.7777777777777778,
              "#fb9f3a"
             ],
             [
              0.8888888888888888,
              "#fdca26"
             ],
             [
              1,
              "#f0f921"
             ]
            ],
            "type": "histogram2d"
           }
          ],
          "histogram2dcontour": [
           {
            "colorbar": {
             "outlinewidth": 0,
             "ticks": ""
            },
            "colorscale": [
             [
              0,
              "#0d0887"
             ],
             [
              0.1111111111111111,
              "#46039f"
             ],
             [
              0.2222222222222222,
              "#7201a8"
             ],
             [
              0.3333333333333333,
              "#9c179e"
             ],
             [
              0.4444444444444444,
              "#bd3786"
             ],
             [
              0.5555555555555556,
              "#d8576b"
             ],
             [
              0.6666666666666666,
              "#ed7953"
             ],
             [
              0.7777777777777778,
              "#fb9f3a"
             ],
             [
              0.8888888888888888,
              "#fdca26"
             ],
             [
              1,
              "#f0f921"
             ]
            ],
            "type": "histogram2dcontour"
           }
          ],
          "mesh3d": [
           {
            "colorbar": {
             "outlinewidth": 0,
             "ticks": ""
            },
            "type": "mesh3d"
           }
          ],
          "parcoords": [
           {
            "line": {
             "colorbar": {
              "outlinewidth": 0,
              "ticks": ""
             }
            },
            "type": "parcoords"
           }
          ],
          "pie": [
           {
            "automargin": true,
            "type": "pie"
           }
          ],
          "scatter": [
           {
            "fillpattern": {
             "fillmode": "overlay",
             "size": 10,
             "solidity": 0.2
            },
            "type": "scatter"
           }
          ],
          "scatter3d": [
           {
            "line": {
             "colorbar": {
              "outlinewidth": 0,
              "ticks": ""
             }
            },
            "marker": {
             "colorbar": {
              "outlinewidth": 0,
              "ticks": ""
             }
            },
            "type": "scatter3d"
           }
          ],
          "scattercarpet": [
           {
            "marker": {
             "colorbar": {
              "outlinewidth": 0,
              "ticks": ""
             }
            },
            "type": "scattercarpet"
           }
          ],
          "scattergeo": [
           {
            "marker": {
             "colorbar": {
              "outlinewidth": 0,
              "ticks": ""
             }
            },
            "type": "scattergeo"
           }
          ],
          "scattergl": [
           {
            "marker": {
             "colorbar": {
              "outlinewidth": 0,
              "ticks": ""
             }
            },
            "type": "scattergl"
           }
          ],
          "scattermapbox": [
           {
            "marker": {
             "colorbar": {
              "outlinewidth": 0,
              "ticks": ""
             }
            },
            "type": "scattermapbox"
           }
          ],
          "scatterpolar": [
           {
            "marker": {
             "colorbar": {
              "outlinewidth": 0,
              "ticks": ""
             }
            },
            "type": "scatterpolar"
           }
          ],
          "scatterpolargl": [
           {
            "marker": {
             "colorbar": {
              "outlinewidth": 0,
              "ticks": ""
             }
            },
            "type": "scatterpolargl"
           }
          ],
          "scatterternary": [
           {
            "marker": {
             "colorbar": {
              "outlinewidth": 0,
              "ticks": ""
             }
            },
            "type": "scatterternary"
           }
          ],
          "surface": [
           {
            "colorbar": {
             "outlinewidth": 0,
             "ticks": ""
            },
            "colorscale": [
             [
              0,
              "#0d0887"
             ],
             [
              0.1111111111111111,
              "#46039f"
             ],
             [
              0.2222222222222222,
              "#7201a8"
             ],
             [
              0.3333333333333333,
              "#9c179e"
             ],
             [
              0.4444444444444444,
              "#bd3786"
             ],
             [
              0.5555555555555556,
              "#d8576b"
             ],
             [
              0.6666666666666666,
              "#ed7953"
             ],
             [
              0.7777777777777778,
              "#fb9f3a"
             ],
             [
              0.8888888888888888,
              "#fdca26"
             ],
             [
              1,
              "#f0f921"
             ]
            ],
            "type": "surface"
           }
          ],
          "table": [
           {
            "cells": {
             "fill": {
              "color": "#EBF0F8"
             },
             "line": {
              "color": "white"
             }
            },
            "header": {
             "fill": {
              "color": "#C8D4E3"
             },
             "line": {
              "color": "white"
             }
            },
            "type": "table"
           }
          ]
         },
         "layout": {
          "annotationdefaults": {
           "arrowcolor": "#2a3f5f",
           "arrowhead": 0,
           "arrowwidth": 1
          },
          "autotypenumbers": "strict",
          "coloraxis": {
           "colorbar": {
            "outlinewidth": 0,
            "ticks": ""
           }
          },
          "colorscale": {
           "diverging": [
            [
             0,
             "#8e0152"
            ],
            [
             0.1,
             "#c51b7d"
            ],
            [
             0.2,
             "#de77ae"
            ],
            [
             0.3,
             "#f1b6da"
            ],
            [
             0.4,
             "#fde0ef"
            ],
            [
             0.5,
             "#f7f7f7"
            ],
            [
             0.6,
             "#e6f5d0"
            ],
            [
             0.7,
             "#b8e186"
            ],
            [
             0.8,
             "#7fbc41"
            ],
            [
             0.9,
             "#4d9221"
            ],
            [
             1,
             "#276419"
            ]
           ],
           "sequential": [
            [
             0,
             "#0d0887"
            ],
            [
             0.1111111111111111,
             "#46039f"
            ],
            [
             0.2222222222222222,
             "#7201a8"
            ],
            [
             0.3333333333333333,
             "#9c179e"
            ],
            [
             0.4444444444444444,
             "#bd3786"
            ],
            [
             0.5555555555555556,
             "#d8576b"
            ],
            [
             0.6666666666666666,
             "#ed7953"
            ],
            [
             0.7777777777777778,
             "#fb9f3a"
            ],
            [
             0.8888888888888888,
             "#fdca26"
            ],
            [
             1,
             "#f0f921"
            ]
           ],
           "sequentialminus": [
            [
             0,
             "#0d0887"
            ],
            [
             0.1111111111111111,
             "#46039f"
            ],
            [
             0.2222222222222222,
             "#7201a8"
            ],
            [
             0.3333333333333333,
             "#9c179e"
            ],
            [
             0.4444444444444444,
             "#bd3786"
            ],
            [
             0.5555555555555556,
             "#d8576b"
            ],
            [
             0.6666666666666666,
             "#ed7953"
            ],
            [
             0.7777777777777778,
             "#fb9f3a"
            ],
            [
             0.8888888888888888,
             "#fdca26"
            ],
            [
             1,
             "#f0f921"
            ]
           ]
          },
          "colorway": [
           "#636efa",
           "#EF553B",
           "#00cc96",
           "#ab63fa",
           "#FFA15A",
           "#19d3f3",
           "#FF6692",
           "#B6E880",
           "#FF97FF",
           "#FECB52"
          ],
          "font": {
           "color": "#2a3f5f"
          },
          "geo": {
           "bgcolor": "white",
           "lakecolor": "white",
           "landcolor": "#E5ECF6",
           "showlakes": true,
           "showland": true,
           "subunitcolor": "white"
          },
          "hoverlabel": {
           "align": "left"
          },
          "hovermode": "closest",
          "mapbox": {
           "style": "light"
          },
          "paper_bgcolor": "white",
          "plot_bgcolor": "#E5ECF6",
          "polar": {
           "angularaxis": {
            "gridcolor": "white",
            "linecolor": "white",
            "ticks": ""
           },
           "bgcolor": "#E5ECF6",
           "radialaxis": {
            "gridcolor": "white",
            "linecolor": "white",
            "ticks": ""
           }
          },
          "scene": {
           "xaxis": {
            "backgroundcolor": "#E5ECF6",
            "gridcolor": "white",
            "gridwidth": 2,
            "linecolor": "white",
            "showbackground": true,
            "ticks": "",
            "zerolinecolor": "white"
           },
           "yaxis": {
            "backgroundcolor": "#E5ECF6",
            "gridcolor": "white",
            "gridwidth": 2,
            "linecolor": "white",
            "showbackground": true,
            "ticks": "",
            "zerolinecolor": "white"
           },
           "zaxis": {
            "backgroundcolor": "#E5ECF6",
            "gridcolor": "white",
            "gridwidth": 2,
            "linecolor": "white",
            "showbackground": true,
            "ticks": "",
            "zerolinecolor": "white"
           }
          },
          "shapedefaults": {
           "line": {
            "color": "#2a3f5f"
           }
          },
          "ternary": {
           "aaxis": {
            "gridcolor": "white",
            "linecolor": "white",
            "ticks": ""
           },
           "baxis": {
            "gridcolor": "white",
            "linecolor": "white",
            "ticks": ""
           },
           "bgcolor": "#E5ECF6",
           "caxis": {
            "gridcolor": "white",
            "linecolor": "white",
            "ticks": ""
           }
          },
          "title": {
           "x": 0.05
          },
          "xaxis": {
           "automargin": true,
           "gridcolor": "white",
           "linecolor": "white",
           "ticks": "",
           "title": {
            "standoff": 15
           },
           "zerolinecolor": "white",
           "zerolinewidth": 2
          },
          "yaxis": {
           "automargin": true,
           "gridcolor": "white",
           "linecolor": "white",
           "ticks": "",
           "title": {
            "standoff": 15
           },
           "zerolinecolor": "white",
           "zerolinewidth": 2
          }
         }
        },
        "xaxis": {
         "title": {
          "text": "X"
         }
        },
        "yaxis": {
         "title": {
          "text": "Y"
         }
        }
       }
      }
     },
     "metadata": {},
     "output_type": "display_data"
    }
   ],
   "source": [
    "fig = go.Figure()\n",
    "fig.add_trace(go.Scatter(x = data['X'], y = data['Y'], mode = 'markers', name = 'actual'))\n",
    "fig.add_trace(go.Scatter(x = data['X'], y = pred_Y, name = 'prediction', line=dict(color='red')))\n",
    "fig.update_layout(xaxis_title = 'X', yaxis_title = 'Y')"
   ]
  },
  {
   "cell_type": "markdown",
   "id": "supported-young",
   "metadata": {},
   "source": [
    "### 2.3.\n",
    "\n",
    "Use a different value of initial step of 0.001 and iterations 1000 and repeat 2.1 and 2.2.\n"
   ]
  },
  {
   "cell_type": "code",
   "execution_count": 20,
   "id": "emerging-board",
   "metadata": {},
   "outputs": [
    {
     "name": "stdout",
     "output_type": "stream",
     "text": [
      "The best m, b for the lowest value ms are: 2.8335827472886703, 2.167289835782521, 6.692767640712683\n"
     ]
    }
   ],
   "source": [
    "# try with 1000 iterations and a 0.001 rate\n",
    "# 7 points for correctly using 0.001 and 1000 iterations\n",
    "# 8 points for showing the correct answer like below for a best mse.\n",
    "# the mse is different for each student but look for the technique that it looked for the minimum mse.\n",
    "m_array, b_arr, mse_arr = gradient_des(x, y_obs, 1000, 0.001)\n",
    "index_lowest = np.argmin(mse_arr)\n",
    "index_lowest\n",
    "print(f'The best m, b for the lowest value ms are: {m_array[index_lowest]}, {b_arr[index_lowest]}, {mse_arr[index_lowest]}')\n"
   ]
  },
  {
   "cell_type": "markdown",
   "id": "understood-haven",
   "metadata": {},
   "source": [
    "### 2.4.\n",
    "Which value of initial step and iteratoins resulted in a better model? Why? "
   ]
  },
  {
   "cell_type": "markdown",
   "id": "compliant-moscow",
   "metadata": {},
   "source": []
  },
  {
   "cell_type": "markdown",
   "id": "a723a2e9",
   "metadata": {},
   "source": [
    "# 10 points total\n",
    "# 5 points for trying several different values of iterations and rate.\n",
    "# 4 point for showing the best value\n",
    "# 1 for showing the actual tests for those other variations.\n",
    "\n",
    "The 5000 steps with 0.01 reached the same or similar MSE as 50,000 steps and 0.001.\n",
    "And going to 70,000 iterations did not change the MSE much\n",
    "\n",
    "# 10 points total\n",
    "5 points for reaching a smaller MSE by trying various combinations of iterations and the rate\n",
    "5 points for explanation that using less number of iterations but a large rate can get to the same or similar MSE."
   ]
  },
  {
   "cell_type": "code",
   "execution_count": 21,
   "id": "05788c3d",
   "metadata": {},
   "outputs": [
    {
     "name": "stdout",
     "output_type": "stream",
     "text": [
      "The best m, b for the lowest value ms are: 8.357867251469647, -0.8992875757916418, 1.649083737072639\n"
     ]
    }
   ],
   "source": [
    "m_array, b_arr, mse_arr = gradient_des(x, y_obs, 10000, 0.001)\n",
    "index_lowest = np.argmin(mse_arr)\n",
    "index_lowest\n",
    "print(f'The best m, b for the lowest value ms are: {m_array[index_lowest]}, {b_arr[index_lowest]}, {mse_arr[index_lowest]}')"
   ]
  },
  {
   "cell_type": "markdown",
   "id": "killing-example",
   "metadata": {},
   "source": []
  },
  {
   "cell_type": "code",
   "execution_count": 22,
   "id": "integrated-fellow",
   "metadata": {},
   "outputs": [
    {
     "name": "stdout",
     "output_type": "stream",
     "text": [
      "The best m, b for the lowest value ms are: 10.040252359664501, -1.9194375450989318, 1.2045471784279729\n"
     ]
    }
   ],
   "source": [
    "# trying 20000 iterations and 0.001 rate\n",
    "m_array, b_arr, mse_arr = gradient_des(x, y_obs, 20000, 0.001)\n",
    "index_lowest = np.argmin(mse_arr)\n",
    "index_lowest\n",
    "print(f'The best m, b for the lowest value ms are: {m_array[index_lowest]}, {b_arr[index_lowest]}, {mse_arr[index_lowest]}')"
   ]
  },
  {
   "cell_type": "code",
   "execution_count": 23,
   "id": "05f2ec2d",
   "metadata": {},
   "outputs": [
    {
     "name": "stdout",
     "output_type": "stream",
     "text": [
      "The best m, b for the lowest value ms are: 10.616511582542794, -2.2688645732352586, 1.1727392428722505\n"
     ]
    }
   ],
   "source": [
    "# trying 500 iterations and 0.001 rate\n",
    "m_array, b_arr, mse_arr = gradient_des(x, y_obs, 5000, 0.01)\n",
    "index_lowest = np.argmin(mse_arr)\n",
    "index_lowest\n",
    "print(f'The best m, b for the lowest value ms are: {m_array[index_lowest]}, {b_arr[index_lowest]}, {mse_arr[index_lowest]}')"
   ]
  },
  {
   "cell_type": "code",
   "execution_count": 24,
   "id": "f3a6ced8",
   "metadata": {},
   "outputs": [
    {
     "name": "stdout",
     "output_type": "stream",
     "text": [
      "The best m, b for the lowest value ms are: 10.616469938400952, -2.268839321424713, 1.1727392977849858\n"
     ]
    }
   ],
   "source": [
    "# trying 50000 iterations and 0.001 rate\n",
    "m_array, b_arr, mse_arr = gradient_des(x, y_obs, 50000, 0.001)\n",
    "index_lowest = np.argmin(mse_arr)\n",
    "index_lowest\n",
    "print(f'The best m, b for the lowest value ms are: {m_array[index_lowest]}, {b_arr[index_lowest]}, {mse_arr[index_lowest]}')"
   ]
  }
 ],
 "metadata": {
  "kernelspec": {
   "display_name": "Assignment3",
   "language": "python",
   "name": "python3"
  },
  "language_info": {
   "codemirror_mode": {
    "name": "ipython",
    "version": 3
   },
   "file_extension": ".py",
   "mimetype": "text/x-python",
   "name": "python",
   "nbconvert_exporter": "python",
   "pygments_lexer": "ipython3",
   "version": "3.11.8"
  }
 },
 "nbformat": 4,
 "nbformat_minor": 5
}
