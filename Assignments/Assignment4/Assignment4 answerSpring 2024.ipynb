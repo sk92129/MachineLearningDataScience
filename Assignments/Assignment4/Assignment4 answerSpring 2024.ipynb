{
 "cells": [
  {
   "cell_type": "markdown",
   "id": "configured-background",
   "metadata": {},
   "source": [
    "# Assignment 4: Linear Regression and Gradient Descent\n",
    "\n",
    "Due date: Sunday, Apr. 14 at 11:59 pm\n",
    "\n",
    "## Collaboration Policy\n",
    "\n",
    "Data science is a collaborative activity. While you may talk with others about\n",
    "the homework, we ask that you **write your solutions individually**. If you do\n",
    "discuss the assignments with others please **include their names** below."
   ]
  },
  {
   "cell_type": "markdown",
   "id": "graduate-tractor",
   "metadata": {},
   "source": [
    "**Collaborators**: *list  collaborators here*"
   ]
  },
  {
   "cell_type": "markdown",
   "id": "surrounded-turkish",
   "metadata": {},
   "source": [
    "## Scoring Breakdown\n",
    "\n",
    "|Question|Points|\n",
    "|---|---|\n",
    "|1.1|10|\n",
    "|1.2|10|\n",
    "|2.1|10|\n",
    "|2.2|15|\n",
    "|2.3|15|\n",
    "|2.4|10|\n",
    "|**Total**|70|"
   ]
  },
  {
   "cell_type": "markdown",
   "id": "elementary-population",
   "metadata": {},
   "source": [
    "## Question 1. \n",
    "Suppose we create a linear model with parameters $\\vec{\\hat{\\beta}}=[\\hat{\\beta}_0,...,\\hat{\\beta}_p]$\n",
    "As we saw in lecture, such a model makes predictions $\\hat{y}=\\vec{\\hat{\\beta}}.\\vec{x}=\\sum{\\hat{\\beta}_ix_i}$ \n",
    "\n",
    "\n",
    "### 1.1. \n",
    "Suppose $\\vec{\\hat{\\beta}}=[1,2,1]$ and e receive an observation $x = [4, 2, 1]$. What $\\hat{y}$ value will\n",
    "this model predict for the given observation?"
   ]
  },
  {
   "cell_type": "markdown",
   "id": "valuable-french",
   "metadata": {},
   "source": [
    "y = 1 * 4 + 2 * 2 + 1 * 1 = 9"
   ]
  },
  {
   "cell_type": "markdown",
   "id": "beneficial-burke",
   "metadata": {},
   "source": [
    "### 1.2.\n",
    "Suppose the correct $y$ was 6.1. What will be the L2 loss for our prediction $\\hat{y}$ from question 1.a?"
   ]
  },
  {
   "cell_type": "markdown",
   "id": "listed-savannah",
   "metadata": {},
   "source": [
    "L2-loss = (y^ - y )^2 = (9-61)^2 = 8.41"
   ]
  },
  {
   "cell_type": "markdown",
   "id": "favorite-empire",
   "metadata": {},
   "source": [
    "## Question 2.\n",
    "\n",
    "The following function generates the dataset you need for the rest of the questions"
   ]
  },
  {
   "cell_type": "code",
   "execution_count": 2,
   "id": "aboriginal-jurisdiction",
   "metadata": {},
   "outputs": [],
   "source": [
    "import numpy as np\n",
    "import pandas as pd\n",
    "# This function helps generate a synthesized dataset based on a given gamma value\n",
    "def generate_dataset(gamma, std=1, num_samples=100, with_intercept=True):\n",
    "    X = np.random.random_sample(num_samples)\n",
    "    e = np.random.randn(num_samples) * std \n",
    "    intercept = -int(with_intercept) * 2\n",
    "    Y = gamma * X + intercept + e\n",
    "    #X=X.reshape(-1, 1)\n",
    "    #Y=Y.reshape(-1, 1)\n",
    "    data=pd.DataFrame({'X':X, 'Y':Y})\n",
    "    return data"
   ]
  },
  {
   "cell_type": "code",
   "execution_count": 3,
   "id": "hollow-arthur",
   "metadata": {},
   "outputs": [
    {
     "data": {
      "text/html": [
       "<div>\n",
       "<style scoped>\n",
       "    .dataframe tbody tr th:only-of-type {\n",
       "        vertical-align: middle;\n",
       "    }\n",
       "\n",
       "    .dataframe tbody tr th {\n",
       "        vertical-align: top;\n",
       "    }\n",
       "\n",
       "    .dataframe thead th {\n",
       "        text-align: right;\n",
       "    }\n",
       "</style>\n",
       "<table border=\"1\" class=\"dataframe\">\n",
       "  <thead>\n",
       "    <tr style=\"text-align: right;\">\n",
       "      <th></th>\n",
       "      <th>X</th>\n",
       "      <th>Y</th>\n",
       "    </tr>\n",
       "  </thead>\n",
       "  <tbody>\n",
       "    <tr>\n",
       "      <th>0</th>\n",
       "      <td>0.823728</td>\n",
       "      <td>3.461876</td>\n",
       "    </tr>\n",
       "    <tr>\n",
       "      <th>1</th>\n",
       "      <td>0.184444</td>\n",
       "      <td>-0.243609</td>\n",
       "    </tr>\n",
       "    <tr>\n",
       "      <th>2</th>\n",
       "      <td>0.459670</td>\n",
       "      <td>2.957499</td>\n",
       "    </tr>\n",
       "    <tr>\n",
       "      <th>3</th>\n",
       "      <td>0.483174</td>\n",
       "      <td>2.570855</td>\n",
       "    </tr>\n",
       "    <tr>\n",
       "      <th>4</th>\n",
       "      <td>0.135556</td>\n",
       "      <td>-1.100739</td>\n",
       "    </tr>\n",
       "    <tr>\n",
       "      <th>...</th>\n",
       "      <td>...</td>\n",
       "      <td>...</td>\n",
       "    </tr>\n",
       "    <tr>\n",
       "      <th>95</th>\n",
       "      <td>0.548838</td>\n",
       "      <td>4.053571</td>\n",
       "    </tr>\n",
       "    <tr>\n",
       "      <th>96</th>\n",
       "      <td>0.311203</td>\n",
       "      <td>2.835511</td>\n",
       "    </tr>\n",
       "    <tr>\n",
       "      <th>97</th>\n",
       "      <td>0.019516</td>\n",
       "      <td>-3.461972</td>\n",
       "    </tr>\n",
       "    <tr>\n",
       "      <th>98</th>\n",
       "      <td>0.188661</td>\n",
       "      <td>0.306622</td>\n",
       "    </tr>\n",
       "    <tr>\n",
       "      <th>99</th>\n",
       "      <td>0.047938</td>\n",
       "      <td>0.582507</td>\n",
       "    </tr>\n",
       "  </tbody>\n",
       "</table>\n",
       "<p>100 rows × 2 columns</p>\n",
       "</div>"
      ],
      "text/plain": [
       "           X         Y\n",
       "0   0.823728  3.461876\n",
       "1   0.184444 -0.243609\n",
       "2   0.459670  2.957499\n",
       "3   0.483174  2.570855\n",
       "4   0.135556 -1.100739\n",
       "..       ...       ...\n",
       "95  0.548838  4.053571\n",
       "96  0.311203  2.835511\n",
       "97  0.019516 -3.461972\n",
       "98  0.188661  0.306622\n",
       "99  0.047938  0.582507\n",
       "\n",
       "[100 rows x 2 columns]"
      ]
     },
     "execution_count": 3,
     "metadata": {},
     "output_type": "execute_result"
    }
   ],
   "source": [
    "# Example:\n",
    "data = generate_dataset(gamma=10)\n",
    "data"
   ]
  },
  {
   "cell_type": "markdown",
   "id": "decent-fruit",
   "metadata": {},
   "source": [
    "### 2.1.\n",
    "\n",
    "Using the following functions (gradient descent python logic provided in lecture), find the best value of m and b that the gradient descent algorithm can find in 100 iterations with a step initial value of 0.01. "
   ]
  },
  {
   "cell_type": "code",
   "execution_count": 17,
   "id": "ruled-thousand",
   "metadata": {
    "tags": []
   },
   "outputs": [
    {
     "data": {
      "text/plain": [
       "(2.503361820803253, 2.062527008151719)"
      ]
     },
     "execution_count": 17,
     "metadata": {},
     "output_type": "execute_result"
    }
   ],
   "source": [
    "import numpy as np \n",
    "import pandas as pd\n",
    "\n",
    "def generate_dataset(gamma, std=1, num_samples=100, with_intercept=True):\n",
    "    X = np.random.random_sample(num_samples)\n",
    "    e = np.random.randn(num_samples) * std\n",
    "    intercept = -int(with_intercept) * 2\n",
    "    Y = gamma * X + intercept + e\n",
    "    data = pd.DataFrame({'X': X, 'Y': Y})\n",
    "    return data\n",
    "\n",
    "data = generate_dataset(gamma=10)\n",
    "\n",
    "def gradient_descent(x, y, m_current=0, b_current=0, iterations=100, initial_value=0.01):\n",
    "    m = m_current\n",
    "    b = b_current\n",
    "    n = len(y)\n",
    "    for _ in range(iterations):\n",
    "        y_pred = m * x + b\n",
    "        dm = (-2/n) * np.sum(x * (y - y_pred))\n",
    "        db = (-2/n) * np.sum(y - y_pred)\n",
    "        m -= initial_value * dm\n",
    "        b -= initial_value * db\n",
    "    return m, b\n",
    "\n",
    "# running the gradient descent function\n",
    "x = data['X']\n",
    "y_obs = data['Y']\n",
    "m_final, b_final = gradient_descent(x, y_obs, initial_value=0.01, iterations=100)\n",
    "m_final, b_final\n",
    "\n",
    "\n",
    "    \n"
   ]
  },
  {
   "cell_type": "code",
   "execution_count": null,
   "id": "offshore-sacramento",
   "metadata": {},
   "outputs": [],
   "source": []
  },
  {
   "cell_type": "markdown",
   "id": "extra-discussion",
   "metadata": {},
   "source": [
    "### 2.2.\n",
    "Create a plot below showing the fitted simple linear regression model on the observed data . Your plot should include at least the following:\n",
    "- A scatter plot of all the observed data\n",
    "- A line plot for the simple linear regression model \n",
    "- An appropriate title, a legend labeling which line contains an intercept, and labels for both axes"
   ]
  },
  {
   "cell_type": "code",
   "execution_count": 18,
   "id": "lucky-reservoir",
   "metadata": {
    "tags": []
   },
   "outputs": [
    {
     "data": {
      "image/png": "[encoded data removed]",
      "text/plain": [
       "<Figure size 640x480 with 1 Axes>"
      ]
     },
     "metadata": {},
     "output_type": "display_data"
    }
   ],
   "source": [
    "import matplotlib.pyplot as plt\n",
    "\n",
    "plt.scatter(x, y_obs, color='pink', label='Observed data')\n",
    "\n",
    "y_pred = m_final * x + b_final\n",
    "plt.plot(x, y_pred, color='red', label=f'Fit Line: y = {m_final:.2f}x + {b_final:.2f}')\n",
    "\n",
    "plt.title('Linear Regression Model')\n",
    "plt.xlabel('X')\n",
    "plt.ylabel('Y')\n",
    "plt.legend()\n",
    "\n",
    "# Display the plot\n",
    "plt.show()\n"
   ]
  },
  {
   "cell_type": "markdown",
   "id": "supported-young",
   "metadata": {},
   "source": [
    "### 2.3.\n",
    "\n",
    "Use a different value of initial step of 0.001 and iterations 1000 and repeat 2.1 and 2.2.\n"
   ]
  },
  {
   "cell_type": "code",
   "execution_count": 15,
   "id": "emerging-board",
   "metadata": {
    "tags": []
   },
   "outputs": [
    {
     "data": {
      "text/plain": [
       "(2.16743288940364, 1.7302236320871904)"
      ]
     },
     "execution_count": 15,
     "metadata": {},
     "output_type": "execute_result"
    }
   ],
   "source": [
    "m_final_low_lr, b_final_low_lr = gradient_descent(x, y_obs, initial_value=0.001, iterations=1000)\n",
    "m_final_low_lr, b_final_low_lr\n"
   ]
  },
  {
   "cell_type": "code",
   "execution_count": 16,
   "id": "2bd0bc04-98e4-47a0-b528-74786fca43a4",
   "metadata": {
    "tags": []
   },
   "outputs": [
    {
     "data": {
      "image/png": "[encoded data removed]",
      "text/plain": [
       "<Figure size 640x480 with 1 Axes>"
      ]
     },
     "metadata": {},
     "output_type": "display_data"
    }
   ],
   "source": [
    "plt.scatter(x, y_obs, color='pink', label='Observed data')\n",
    "\n",
    "y_pred_low_lr = m_final_low_lr * x + b_final_low_lr\n",
    "plt.plot(x, y_pred_low_lr, color='red', label=f'Fit Line: y = {m_final_low_lr:.2f}x + {b_final_low_lr:.2f}')\n",
    "\n",
    "plt.title('Updated Linear Regression Model')\n",
    "plt.xlabel('X')\n",
    "plt.ylabel('Y')\n",
    "plt.legend()\n",
    "\n",
    "# display the plot\n",
    "plt.show()\n"
   ]
  },
  {
   "cell_type": "markdown",
   "id": "understood-haven",
   "metadata": {},
   "source": [
    "### 2.4.\n",
    "Which value of initial step and iteratoins resulted in a better model? Why? "
   ]
  },
  {
   "cell_type": "markdown",
   "id": "compliant-moscow",
   "metadata": {},
   "source": [
    "The results were very close to each other. But initially, the first setting is better becuase it achieved comparable results in fewer iterations"
   ]
  },
  {
   "cell_type": "markdown",
   "id": "killing-example",
   "metadata": {},
   "source": [
    "The results were very close to each other. But initially, the first setting is better becuase it achieved comparable results in fewer iterations"
   ]
  },
  {
   "cell_type": "code",
   "execution_count": null,
   "id": "integrated-fellow",
   "metadata": {},
   "outputs": [],
   "source": []
  }
 ],
 "metadata": {
  "kernelspec": {
   "display_name": "Python 3 (ipykernel)",
   "language": "python",
   "name": "python3"
  },
  "language_info": {
   "codemirror_mode": {
    "name": "ipython",
    "version": 3
   },
   "file_extension": ".py",
   "mimetype": "text/x-python",
   "name": "python",
   "nbconvert_exporter": "python",
   "pygments_lexer": "ipython3",
   "version": "3.11.6"
  }
 },
 "nbformat": 4,
 "nbformat_minor": 5
}
