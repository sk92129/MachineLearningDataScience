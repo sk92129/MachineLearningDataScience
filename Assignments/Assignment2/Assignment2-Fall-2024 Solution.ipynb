{
 "cells": [
  {
   "cell_type": "markdown",
   "id": "coupled-transmission",
   "metadata": {},
   "source": [
    "# Assignment 2: Probability Sampling and Pandas\n",
    "## Due Date: Sunday, October 6, 11:59PM\n",
    "## CS577 \n",
    "\n",
    "## Collaboration Policy\n",
    "\n",
    "Data science is a collaborative activity. While you may talk with others about\n",
    "the homework, we ask that you **write your solutions individually**. If you do\n",
    "discuss the assignments with others please **include their names** below."
   ]
  },
  {
   "cell_type": "markdown",
   "id": "documented-lodge",
   "metadata": {},
   "source": [
    "**Collaborators**: *list  collaborators here*"
   ]
  },
  {
   "cell_type": "code",
   "execution_count": 58,
   "id": "e681eede-4c7d-497e-936c-200ff7ac080a",
   "metadata": {
    "tags": []
   },
   "outputs": [
    {
     "name": "stdout",
     "output_type": "stream",
     "text": [
      "3.11.8 (main, Feb 26 2024, 15:36:12) [Clang 14.0.6 ]\n"
     ]
    }
   ],
   "source": [
    "# \n",
    "import sys\n",
    "print(sys.version)"
   ]
  },
  {
   "cell_type": "markdown",
   "id": "generous-defendant",
   "metadata": {},
   "source": [
    "## Scoring Breakdown\n",
    "\n",
    "|Question|Points|\n",
    "|---|---|\n",
    "|1|30|\n",
    "|2|10|\n",
    "|3|10|\n",
    "|4|10|\n",
    "|5|40|\n",
    "|**Total**|100|"
   ]
  },
  {
   "cell_type": "markdown",
   "id": "duplicate-belief",
   "metadata": {},
   "source": [
    "# Part 1: Probability\n",
    "\n",
    "## Question 1\n",
    "\n",
    "1.1. Suppose you sample 100 times at random with replacement from a population in which 34% of the individuals are successes. Write a Python expression that evaluates to the chance that the sample has 15 successes.  \n"
   ]
  },
  {
   "cell_type": "markdown",
   "id": "lightweight-swift",
   "metadata": {},
   "source": [
    "One way to compute the *binomial coefficients* $\\binom{n}{k} = \\frac{n!}{k!(n-k)!}$ is to use the `SciPy` module `special`. `SciPy` is a collection of Python-based software for math, probability, statistics, science, and engineering.\n",
    "\n",
    "Hint 1:`special.comb(n, k)` evaluates to $\\binom{n}{k}$. \n",
    "\n",
    "Hint 2: `special.factorial(n)` evaluates to $n!$."
   ]
  },
  {
   "cell_type": "code",
   "execution_count": 59,
   "id": "homeless-growing",
   "metadata": {
    "tags": []
   },
   "outputs": [],
   "source": [
    "from scipy import special"
   ]
  },
  {
   "cell_type": "code",
   "execution_count": 60,
   "id": "092e0b1f-1df8-4e4b-b238-6d7c6a0cf1e2",
   "metadata": {
    "tags": []
   },
   "outputs": [],
   "source": [
    "# the full expression \n",
    "\n",
    "def my_probability(n, p, k):\n",
    "    return special.comb(n, k) * (p**k) * ((1 - p)**(n - k))\n",
    "\n"
   ]
  },
  {
   "cell_type": "code",
   "execution_count": 61,
   "id": "91c65984",
   "metadata": {},
   "outputs": [
    {
     "data": {
      "text/plain": [
       "1.0892295686895682e-05"
      ]
     },
     "execution_count": 61,
     "metadata": {},
     "output_type": "execute_result"
    }
   ],
   "source": [
    "my_probability(100, 0.34, 15)"
   ]
  },
  {
   "cell_type": "markdown",
   "id": "fiscal-backing",
   "metadata": {},
   "source": [
    "1.2. Complete the cell with a Python expression that evaluates to an array whose elements are the chances of $k$ successes for $k = 0, 1, 2, \\ldots, 100$. That is, `all_probs[k]` should contain $P(X = k)$, where $X$ is the random variable describing the number of successes drawn from the scenario outlined above."
   ]
  },
  {
   "cell_type": "code",
   "execution_count": 62,
   "id": "fifteen-procurement",
   "metadata": {
    "tags": []
   },
   "outputs": [],
   "source": [
    "\n",
    "n = 100\n",
    "p= 0.34\n",
    "\n",
    "all_probs = [my_probability( 100, p, k)   for k in range(0, n+1, 1)]\n"
   ]
  },
  {
   "cell_type": "code",
   "execution_count": 63,
   "id": "right-israeli",
   "metadata": {
    "tags": []
   },
   "outputs": [
    {
     "data": {
      "text/plain": [
       "[9.003130684840668e-19,\n",
       " 4.637976413402769e-17,\n",
       " 1.1826839854177066e-15,\n",
       " 1.990254060308989e-14,\n",
       " 2.4863098071587304e-13,\n",
       " 2.4591864274442716e-12,\n",
       " 2.005851555718434e-11,\n",
       " 1.3875977428736185e-10,\n",
       " 8.309818301072692e-10,\n",
       " 4.375944721507641e-09,\n",
       " 2.0513898436885825e-08,\n",
       " 8.6463538866213e-08,\n",
       " 3.303518543044957e-07,\n",
       " 1.1519962098823441e-06,\n",
       " 3.6878839705973763e-06,\n",
       " 1.0892295686895682e-05,\n",
       " 2.98094077037202e-05,\n",
       " 7.587849233674233e-05,\n",
       " 0.00018024335469216072,\n",
       " 0.0004007324345149476,\n",
       " 0.0008360735792834587,\n",
       " 0.0016407793186515212,\n",
       " 0.003035215736844343,\n",
       " 0.0053026298643683795,\n",
       " 0.008764068803608853,\n",
       " 0.013725062902136532,\n",
       " 0.02039563543149659,\n",
       " 0.028796531282629323,\n",
       " 0.038675860737817085,\n",
       " 0.04946630464272532,\n",
       " 0.06030891889269643,\n",
       " 0.07015406987517965,\n",
       " 0.07792682193521373,\n",
       " 0.08272121777512133,\n",
       " 0.08397456955959286,\n",
       " 0.08157529614360451,\n",
       " 0.07587601198542343,\n",
       " 0.06761105736293258,\n",
       " 0.05774437195829411,\n",
       " 0.0472902626604833,\n",
       " 0.03715151695372817,\n",
       " 0.028007795486180886,\n",
       " 0.020268267584876935,\n",
       " 0.014083517856722107,\n",
       " 0.009398711296944712,\n",
       " 0.006025301787670954,\n",
       " 0.003711236608348052,\n",
       " 0.0021965926540706083,\n",
       " 0.001249450745781325,\n",
       " 0.0006830639822329568,\n",
       " 0.00035891907430058996,\n",
       " 0.0001812722597477728,\n",
       " 8.79952169987732e-05,\n",
       " 4.105437225328699e-05,\n",
       " 1.8407656246002416e-05,\n",
       " 7.931012222795532e-06,\n",
       " 3.2831300597611373e-06,\n",
       " 1.305572187507354e-06,\n",
       " 4.986276222925157e-07,\n",
       " 1.8285573822129242e-07,\n",
       " 6.436891390921255e-08,\n",
       " 2.1744094117369378e-08,\n",
       " 7.046106744778055e-09,\n",
       " 2.1894107537886597e-09,\n",
       " 6.520546231690662e-10,\n",
       " 1.860407596174678e-10,\n",
       " 5.0823807149859206e-11,\n",
       " 1.3286368400098884e-11,\n",
       " 3.3215921000247215e-12,\n",
       " 7.935643840199603e-13,\n",
       " 1.810426105534714e-13,\n",
       " 3.9407482450819655e-14,\n",
       " 8.176720895729836e-15,\n",
       " 1.6156575950051486e-15,\n",
       " 3.036801130660783e-16,\n",
       " 5.423297372735623e-17,\n",
       " 9.190196903559173e-18,\n",
       " 1.4756396444912014e-18,\n",
       " 2.241550508920201e-19,\n",
       " 3.2157264684931157e-20,\n",
       " 4.348539201712284e-21,\n",
       " 5.531250761624306e-22,\n",
       " 6.602342926846457e-23,\n",
       " 7.376111484538209e-24,\n",
       " 7.690101800258094e-25,\n",
       " 7.457068412371485e-26,\n",
       " 6.700325740502923e-27,\n",
       " 5.554432344965851e-28,\n",
       " 4.227030124784618e-29,\n",
       " 2.9360372674704202e-30,\n",
       " 1.8486160572961908e-31,\n",
       " 1.0465025965379705e-32,\n",
       " 5.273876721683448e-34,\n",
       " 2.3370714700193845e-35,\n",
       " 8.965554639984101e-37,\n",
       " 2.9170225622914783e-38,\n",
       " 7.826607253622972e-40,\n",
       " 1.6626344681235933e-41,\n",
       " 2.6219653022357222e-43,\n",
       " 2.728705854790774e-45,\n",
       " 1.4056969554982776e-47]"
      ]
     },
     "execution_count": 63,
     "metadata": {},
     "output_type": "execute_result"
    }
   ],
   "source": [
    "all_probs"
   ]
  },
  {
   "cell_type": "code",
   "execution_count": 64,
   "id": "4a5a8989-e3bb-4924-b98a-e005bae96dac",
   "metadata": {
    "tags": []
   },
   "outputs": [
    {
     "data": {
      "text/plain": [
       "101"
      ]
     },
     "execution_count": 64,
     "metadata": {},
     "output_type": "execute_result"
    }
   ],
   "source": [
    "len(all_probs)\n",
    "# there should be 101 elements in the results"
   ]
  },
  {
   "cell_type": "code",
   "execution_count": 65,
   "id": "96d7a6a8-c9e3-4d13-8fa2-de0bdc8466f1",
   "metadata": {
    "tags": []
   },
   "outputs": [
    {
     "data": {
      "text/plain": [
       "9.003130684840668e-19"
      ]
     },
     "execution_count": 65,
     "metadata": {},
     "output_type": "execute_result"
    }
   ],
   "source": [
    "all_probs[0]\n",
    "# first value should be this."
   ]
  },
  {
   "cell_type": "code",
   "execution_count": 66,
   "id": "c94e7f22-46b8-42e5-b098-b80f5cdb8914",
   "metadata": {
    "tags": []
   },
   "outputs": [
    {
     "data": {
      "text/plain": [
       "1.4056969554982776e-47"
      ]
     },
     "execution_count": 66,
     "metadata": {},
     "output_type": "execute_result"
    }
   ],
   "source": [
    "all_probs[100]\n",
    "# last value should be this"
   ]
  },
  {
   "cell_type": "markdown",
   "id": "surface-botswana",
   "metadata": {},
   "source": [
    "1.3. Complete the cell with an expression that evaluates to the chance that the number of successes in the sample is in the interval $34 \\pm 10$ (inclusive on both sides). In other words, determine $P(24 \\leq X \\leq 44)$. **Hint: You might want to apply your Python indexing knowledge here.**"
   ]
  },
  {
   "cell_type": "code",
   "execution_count": 67,
   "id": "breeding-sellers",
   "metadata": {
    "tags": []
   },
   "outputs": [
    {
     "data": {
      "text/plain": [
       "0.9739158711274085"
      ]
     },
     "execution_count": 67,
     "metadata": {},
     "output_type": "execute_result"
    }
   ],
   "source": [
    "n = 100\n",
    "# the probilitiy of the event is not changing, just the size of the success \n",
    "all_range = [my_probability( 100, 0.34, k)  for k in range(24, 45)]\n",
    "\n",
    "sum(all_range)\n"
   ]
  },
  {
   "cell_type": "code",
   "execution_count": 68,
   "id": "741e954f",
   "metadata": {},
   "outputs": [
    {
     "data": {
      "text/plain": [
       "'0.974'"
      ]
     },
     "execution_count": 68,
     "metadata": {},
     "output_type": "execute_result"
    }
   ],
   "source": [
    "\n",
    "\"{:.3f}\".format(sum(all_range))"
   ]
  },
  {
   "cell_type": "markdown",
   "id": "loved-emphasis",
   "metadata": {},
   "source": [
    "## Question 2\n",
    "Consider a sample of size $n$ drawn at random with replacement from a population in which a proportion $p$ of the individuals are called successes.\n",
    "\n",
    "Let $S$ be the random variable that denotes the number of successes in our sample. (As stated above, $S$ follows the binomial distribution.) Then, the probability that the number of successes in our sample is **at most** $s$ (where $0 \\leq s \\leq n$) is\n",
    "\n",
    "$$P(S \\leq s) = P(S = 0) + P(S = 1) + ... + P(S = s) = \\sum_{k=0}^s \\binom{n}{k}p^k(1-p)^{n-k}$$\n",
    "\n",
    "We obtain this by summing the probability that the number of successes is exactly $k$, for each value of $k = 0, 1, 2, ..., s$.\n",
    "\n",
    "\n",
    "Please fill in the function `prob_at_most` which takes $n$, $p$, and $s$ and returns $P(S \\le s)$ as defined above. If the inputs are invalid: for instance, if $p > 1$ OR $s > n$ then return 0.\" "
   ]
  },
  {
   "cell_type": "code",
   "execution_count": 69,
   "id": "significant-sculpture",
   "metadata": {
    "tags": []
   },
   "outputs": [
    {
     "name": "stdout",
     "output_type": "stream",
     "text": [
      "2.5882372228258107e-08\n"
     ]
    }
   ],
   "source": [
    "def prob_at_most(n, p, s):\n",
    "    accum_prob = sum([my_probability( n, p, k) for k in range(s+1)])\n",
    "    return (accum_prob)\n",
    "\n",
    "\n",
    "\n",
    "    \n",
    "result = prob_at_most(100, 0.34, 10)\n",
    "\n",
    "\n",
    "print(result)\n",
    "\n",
    "# "
   ]
  },
  {
   "cell_type": "markdown",
   "id": "seven-federal",
   "metadata": {},
   "source": [
    "## Question 3\n",
    "\n",
    "In an election, supporters of Candidate C are in a minority. Only 24% of the voters in the population favor the candidate C.\n",
    "\n",
    "Suppose a survey organization takes a sample of 500 voters at random with replacement from this population. Use `prob_at_most` to write an expression that evaluates to the chance that a majority (more than half) of the sampled voters favor Candidate C."
   ]
  },
  {
   "cell_type": "code",
   "execution_count": 70,
   "id": "09ca60d1-360a-41ba-a9a1-95ccb6757a09",
   "metadata": {
    "tags": []
   },
   "outputs": [
    {
     "name": "stdout",
     "output_type": "stream",
     "text": [
      "0.9999999999999074\n"
     ]
    }
   ],
   "source": [
    "# approach #1\n",
    "# \n",
    "#this is the best way to solve it, but the student could have solve it in\n",
    "# the approach in approach #2\n",
    "lowerHalf = prob_at_most(500, 0.24, 250)\n",
    "print(lowerHalf)\n",
    "\n"
   ]
  },
  {
   "cell_type": "code",
   "execution_count": 71,
   "id": "a4ec0597",
   "metadata": {},
   "outputs": [
    {
     "name": "stdout",
     "output_type": "stream",
     "text": [
      "0.9999999999999074\n"
     ]
    }
   ],
   "source": [
    "fullPortion = prob_at_most(500, 0.24, 500)\n",
    "print(fullPortion)"
   ]
  },
  {
   "cell_type": "code",
   "execution_count": 81,
   "id": "262ce976",
   "metadata": {},
   "outputs": [
    {
     "data": {
      "text/plain": [
       "0.0"
      ]
     },
     "execution_count": 81,
     "metadata": {},
     "output_type": "execute_result"
    }
   ],
   "source": [
    "\n",
    "fullPortion-lowerHalf\n",
    "\n",
    "# the answer should be zero based on 0.24 percent.  \n",
    "# if the students have zero as the answer, they get 1 pt for correct value.\n",
    "\n"
   ]
  },
  {
   "cell_type": "code",
   "execution_count": 73,
   "id": "80f9c786",
   "metadata": {},
   "outputs": [
    {
     "data": {
      "text/plain": [
       "0.9999999999975152"
      ]
     },
     "execution_count": 73,
     "metadata": {},
     "output_type": "execute_result"
    }
   ],
   "source": [
    "# however I made the percentage too low, I should have increased it from 35% to 39% to see noticeable differences\n",
    "# to ensure that they students did it correctly, i will ask the students to add this to #3 to see if the difference is noticeable\n",
    "prob_at_most(500, 0.35, 250)\n",
    "\n"
   ]
  },
  {
   "cell_type": "code",
   "execution_count": 74,
   "id": "ee9623ea",
   "metadata": {},
   "outputs": [
    {
     "data": {
      "text/plain": [
       "0.9999999999998462"
      ]
     },
     "execution_count": 74,
     "metadata": {},
     "output_type": "execute_result"
    }
   ],
   "source": [
    "fullPortion35 = prob_at_most(500, 0.35, 500)\n",
    "fullPortion35"
   ]
  },
  {
   "cell_type": "code",
   "execution_count": 77,
   "id": "318dd724",
   "metadata": {},
   "outputs": [],
   "source": [
    "lowerHalf35 = prob_at_most(500, 0.35, 250)"
   ]
  },
  {
   "cell_type": "code",
   "execution_count": 80,
   "id": "e01b0936",
   "metadata": {},
   "outputs": [
    {
     "data": {
      "text/plain": [
       "2.3310242625029787e-12"
      ]
     },
     "execution_count": 80,
     "metadata": {},
     "output_type": "execute_result"
    }
   ],
   "source": [
    "fullPortion35-lowerHalf35 \n",
    "# the answer should be  below  based on 0.35 percent."
   ]
  },
  {
   "cell_type": "code",
   "execution_count": 14,
   "id": "lonely-nashville",
   "metadata": {
    "tags": []
   },
   "outputs": [
    {
     "data": {
      "text/plain": [
       "2.331088684402839e-12"
      ]
     },
     "execution_count": 14,
     "metadata": {},
     "output_type": "execute_result"
    }
   ],
   "source": [
    "# approach #2\n",
    "# If we dont re-use the prob_at_most because the range is from 0 to s.\n",
    "# since we want to calculate the chances when more than half - to -full population\n",
    "# so we use 251 to 500.\n",
    "n= 500\n",
    "p = 0.35\n",
    "sum([special.comb(n,k) * (p**k) * ((1-p)**(n-k)) for k in range(251, 501)])\n",
    "\n"
   ]
  },
  {
   "cell_type": "code",
   "execution_count": 15,
   "id": "69ea76a4-6f02-463f-b02b-737cb7268cf9",
   "metadata": {
    "tags": []
   },
   "outputs": [
    {
     "data": {
      "text/plain": [
       "0.0"
      ]
     },
     "execution_count": 15,
     "metadata": {},
     "output_type": "execute_result"
    }
   ],
   "source": [
    "# approach 3\n",
    "\n",
    "1-lowerHalf -(1-fullPortion)"
   ]
  },
  {
   "cell_type": "code",
   "execution_count": 16,
   "id": "d4b27b52-628b-434c-a6ad-b4a9c18dcd8f",
   "metadata": {
    "tags": []
   },
   "outputs": [
    {
     "data": {
      "text/plain": [
       "9.259260025373806e-14"
      ]
     },
     "execution_count": 16,
     "metadata": {},
     "output_type": "execute_result"
    }
   ],
   "source": [
    "1-lowerHalf\n",
    "# if students did to remove the extra part from accuracy"
   ]
  },
  {
   "cell_type": "code",
   "execution_count": 17,
   "id": "fac3f504-43f5-4306-a6e1-23860768cff4",
   "metadata": {
    "tags": []
   },
   "outputs": [
    {
     "data": {
      "text/plain": [
       "0.9999999999999074"
      ]
     },
     "execution_count": 17,
     "metadata": {},
     "output_type": "execute_result"
    }
   ],
   "source": [
    "fullPortion"
   ]
  },
  {
   "cell_type": "code",
   "execution_count": 18,
   "id": "a33f07d2-28d1-4a51-b8e6-bf90dccf7a51",
   "metadata": {
    "tags": []
   },
   "outputs": [
    {
     "data": {
      "text/plain": [
       "9.259260025373806e-14"
      ]
     },
     "execution_count": 18,
     "metadata": {},
     "output_type": "execute_result"
    }
   ],
   "source": [
    "1-fullPortion"
   ]
  },
  {
   "cell_type": "markdown",
   "id": "disabled-booking",
   "metadata": {},
   "source": [
    "# Part 2: Pandas\n",
    "## Question 4\n",
    "For the following DataFrame (fruit_info), add a column by d['new column name'] = ... and assigning a list or array of values to the column. Add a column of integers containing 1, 2, 3, and 4 called rank1 to the fruit_info table which expresses your personal preference about the taste ordering for each fruit (1 is tastiest; 4 is least tasty).\n"
   ]
  },
  {
   "cell_type": "code",
   "execution_count": 19,
   "id": "divine-surface",
   "metadata": {
    "tags": []
   },
   "outputs": [
    {
     "data": {
      "text/html": [
       "<div>\n",
       "<style scoped>\n",
       "    .dataframe tbody tr th:only-of-type {\n",
       "        vertical-align: middle;\n",
       "    }\n",
       "\n",
       "    .dataframe tbody tr th {\n",
       "        vertical-align: top;\n",
       "    }\n",
       "\n",
       "    .dataframe thead th {\n",
       "        text-align: right;\n",
       "    }\n",
       "</style>\n",
       "<table border=\"1\" class=\"dataframe\">\n",
       "  <thead>\n",
       "    <tr style=\"text-align: right;\">\n",
       "      <th></th>\n",
       "      <th>fruit</th>\n",
       "      <th>color</th>\n",
       "    </tr>\n",
       "  </thead>\n",
       "  <tbody>\n",
       "    <tr>\n",
       "      <th>0</th>\n",
       "      <td>apple</td>\n",
       "      <td>red</td>\n",
       "    </tr>\n",
       "    <tr>\n",
       "      <th>1</th>\n",
       "      <td>orange</td>\n",
       "      <td>orange</td>\n",
       "    </tr>\n",
       "    <tr>\n",
       "      <th>2</th>\n",
       "      <td>banana</td>\n",
       "      <td>yellow</td>\n",
       "    </tr>\n",
       "    <tr>\n",
       "      <th>3</th>\n",
       "      <td>raspberry</td>\n",
       "      <td>pink</td>\n",
       "    </tr>\n",
       "  </tbody>\n",
       "</table>\n",
       "</div>"
      ],
      "text/plain": [
       "       fruit   color\n",
       "0      apple     red\n",
       "1     orange  orange\n",
       "2     banana  yellow\n",
       "3  raspberry    pink"
      ]
     },
     "execution_count": 19,
     "metadata": {},
     "output_type": "execute_result"
    }
   ],
   "source": [
    "import pandas as pd\n",
    "fruit_info = pd.DataFrame(\n",
    "data={'fruit': ['apple', 'orange', 'banana', 'raspberry'],\n",
    "'color': ['red', 'orange', 'yellow', 'pink']\n",
    "})\n",
    "fruit_info"
   ]
  },
  {
   "cell_type": "code",
   "execution_count": 20,
   "id": "adjacent-eating",
   "metadata": {
    "tags": []
   },
   "outputs": [
    {
     "data": {
      "text/html": [
       "<div>\n",
       "<style scoped>\n",
       "    .dataframe tbody tr th:only-of-type {\n",
       "        vertical-align: middle;\n",
       "    }\n",
       "\n",
       "    .dataframe tbody tr th {\n",
       "        vertical-align: top;\n",
       "    }\n",
       "\n",
       "    .dataframe thead th {\n",
       "        text-align: right;\n",
       "    }\n",
       "</style>\n",
       "<table border=\"1\" class=\"dataframe\">\n",
       "  <thead>\n",
       "    <tr style=\"text-align: right;\">\n",
       "      <th></th>\n",
       "      <th>fruit</th>\n",
       "      <th>color</th>\n",
       "      <th>rank1</th>\n",
       "    </tr>\n",
       "  </thead>\n",
       "  <tbody>\n",
       "    <tr>\n",
       "      <th>0</th>\n",
       "      <td>apple</td>\n",
       "      <td>red</td>\n",
       "      <td>1</td>\n",
       "    </tr>\n",
       "    <tr>\n",
       "      <th>1</th>\n",
       "      <td>orange</td>\n",
       "      <td>orange</td>\n",
       "      <td>1</td>\n",
       "    </tr>\n",
       "    <tr>\n",
       "      <th>2</th>\n",
       "      <td>banana</td>\n",
       "      <td>yellow</td>\n",
       "      <td>4</td>\n",
       "    </tr>\n",
       "    <tr>\n",
       "      <th>3</th>\n",
       "      <td>raspberry</td>\n",
       "      <td>pink</td>\n",
       "      <td>2</td>\n",
       "    </tr>\n",
       "  </tbody>\n",
       "</table>\n",
       "</div>"
      ],
      "text/plain": [
       "       fruit   color  rank1\n",
       "0      apple     red      1\n",
       "1     orange  orange      1\n",
       "2     banana  yellow      4\n",
       "3  raspberry    pink      2"
      ]
     },
     "execution_count": 20,
     "metadata": {},
     "output_type": "execute_result"
    }
   ],
   "source": [
    "fruit_info = fruit_info.drop(columns=['rank1'],errors=\"ignore\" )\n",
    "fruit_info.insert(2, \"rank1\", [1, 1, 4, 2], True)\n",
    "fruit_info\n",
    "# 8 points for showing the whole dataframe below\n",
    "# 1 points for using drop to remove the column if it already exists.\n",
    "# 2 for adding the series into the fruit_info dataframe"
   ]
  },
  {
   "cell_type": "markdown",
   "id": "worldwide-bookmark",
   "metadata": {},
   "source": [
    "## Question 5\n",
    "\n",
    "Find the babyNames.csv from the files section in canvas.\n",
    "\n",
    "Use the babyNames DataFrame and perform the following operations:\n",
    "\n",
    "5.1. Find the first three names (ordered alphabetically) in Year 2001 that have larger than 2000 counts."
   ]
  },
  {
   "cell_type": "code",
   "execution_count": 21,
   "id": "imposed-literacy",
   "metadata": {
    "tags": []
   },
   "outputs": [
    {
     "data": {
      "text/html": [
       "<div>\n",
       "<style scoped>\n",
       "    .dataframe tbody tr th:only-of-type {\n",
       "        vertical-align: middle;\n",
       "    }\n",
       "\n",
       "    .dataframe tbody tr th {\n",
       "        vertical-align: top;\n",
       "    }\n",
       "\n",
       "    .dataframe thead th {\n",
       "        text-align: right;\n",
       "    }\n",
       "</style>\n",
       "<table border=\"1\" class=\"dataframe\">\n",
       "  <thead>\n",
       "    <tr style=\"text-align: right;\">\n",
       "      <th></th>\n",
       "      <th>State</th>\n",
       "      <th>Sex</th>\n",
       "      <th>Year</th>\n",
       "      <th>Name</th>\n",
       "      <th>Count</th>\n",
       "    </tr>\n",
       "  </thead>\n",
       "  <tbody>\n",
       "    <tr>\n",
       "      <th>333924</th>\n",
       "      <td>CA</td>\n",
       "      <td>M</td>\n",
       "      <td>2001</td>\n",
       "      <td>Alexander</td>\n",
       "      <td>2086</td>\n",
       "    </tr>\n",
       "    <tr>\n",
       "      <th>152812</th>\n",
       "      <td>CA</td>\n",
       "      <td>F</td>\n",
       "      <td>2001</td>\n",
       "      <td>Alyssa</td>\n",
       "      <td>2059</td>\n",
       "    </tr>\n",
       "    <tr>\n",
       "      <th>333907</th>\n",
       "      <td>CA</td>\n",
       "      <td>M</td>\n",
       "      <td>2001</td>\n",
       "      <td>Andrew</td>\n",
       "      <td>3447</td>\n",
       "    </tr>\n",
       "  </tbody>\n",
       "</table>\n",
       "</div>"
      ],
      "text/plain": [
       "       State Sex  Year       Name  Count\n",
       "333924    CA   M  2001  Alexander   2086\n",
       "152812    CA   F  2001     Alyssa   2059\n",
       "333907    CA   M  2001     Andrew   3447"
      ]
     },
     "execution_count": 21,
     "metadata": {},
     "output_type": "execute_result"
    }
   ],
   "source": [
    "babyNames = pd.read_csv('babyNames.csv')\n",
    "year2001 = babyNames[babyNames['Year'] == 2001]\n",
    "year2001[year2001['Count'] > 2000].sort_values(\"Name\").head(3)\n",
    "# 3 points for using correct 2001 filter\n",
    "# 3 points for showing all the columns\n",
    "# 4 points for showing the same correct rows as mine"
   ]
  },
  {
   "cell_type": "markdown",
   "id": "cloudy-memorial",
   "metadata": {},
   "source": [
    "5.2. Find the first 10 names (ordered by Year) that start with “Ja” and ends with “e”."
   ]
  },
  {
   "cell_type": "code",
   "execution_count": 22,
   "id": "durable-motion",
   "metadata": {
    "tags": []
   },
   "outputs": [
    {
     "data": {
      "text/html": [
       "<div>\n",
       "<style scoped>\n",
       "    .dataframe tbody tr th:only-of-type {\n",
       "        vertical-align: middle;\n",
       "    }\n",
       "\n",
       "    .dataframe tbody tr th {\n",
       "        vertical-align: top;\n",
       "    }\n",
       "\n",
       "    .dataframe thead th {\n",
       "        text-align: right;\n",
       "    }\n",
       "</style>\n",
       "<table border=\"1\" class=\"dataframe\">\n",
       "  <thead>\n",
       "    <tr style=\"text-align: right;\">\n",
       "      <th></th>\n",
       "      <th>State</th>\n",
       "      <th>Sex</th>\n",
       "      <th>Year</th>\n",
       "      <th>Name</th>\n",
       "      <th>Count</th>\n",
       "    </tr>\n",
       "  </thead>\n",
       "  <tbody>\n",
       "    <tr>\n",
       "      <th>94</th>\n",
       "      <td>CA</td>\n",
       "      <td>F</td>\n",
       "      <td>1910</td>\n",
       "      <td>Jane</td>\n",
       "      <td>17</td>\n",
       "    </tr>\n",
       "    <tr>\n",
       "      <th>218</th>\n",
       "      <td>CA</td>\n",
       "      <td>F</td>\n",
       "      <td>1910</td>\n",
       "      <td>Jacqueline</td>\n",
       "      <td>5</td>\n",
       "    </tr>\n",
       "    <tr>\n",
       "      <th>272</th>\n",
       "      <td>CA</td>\n",
       "      <td>F</td>\n",
       "      <td>1911</td>\n",
       "      <td>Jane</td>\n",
       "      <td>42</td>\n",
       "    </tr>\n",
       "    <tr>\n",
       "      <th>553</th>\n",
       "      <td>CA</td>\n",
       "      <td>F</td>\n",
       "      <td>1912</td>\n",
       "      <td>Jane</td>\n",
       "      <td>36</td>\n",
       "    </tr>\n",
       "    <tr>\n",
       "      <th>660</th>\n",
       "      <td>CA</td>\n",
       "      <td>F</td>\n",
       "      <td>1912</td>\n",
       "      <td>Jacqueline</td>\n",
       "      <td>11</td>\n",
       "    </tr>\n",
       "    <tr>\n",
       "      <th>743</th>\n",
       "      <td>CA</td>\n",
       "      <td>F</td>\n",
       "      <td>1912</td>\n",
       "      <td>Janice</td>\n",
       "      <td>6</td>\n",
       "    </tr>\n",
       "    <tr>\n",
       "      <th>983</th>\n",
       "      <td>CA</td>\n",
       "      <td>F</td>\n",
       "      <td>1913</td>\n",
       "      <td>Jacqueline</td>\n",
       "      <td>11</td>\n",
       "    </tr>\n",
       "    <tr>\n",
       "      <th>1026</th>\n",
       "      <td>CA</td>\n",
       "      <td>F</td>\n",
       "      <td>1913</td>\n",
       "      <td>Janice</td>\n",
       "      <td>8</td>\n",
       "    </tr>\n",
       "    <tr>\n",
       "      <th>823</th>\n",
       "      <td>CA</td>\n",
       "      <td>F</td>\n",
       "      <td>1913</td>\n",
       "      <td>Jane</td>\n",
       "      <td>81</td>\n",
       "    </tr>\n",
       "    <tr>\n",
       "      <th>1164</th>\n",
       "      <td>CA</td>\n",
       "      <td>F</td>\n",
       "      <td>1914</td>\n",
       "      <td>Jane</td>\n",
       "      <td>71</td>\n",
       "    </tr>\n",
       "  </tbody>\n",
       "</table>\n",
       "</div>"
      ],
      "text/plain": [
       "     State Sex  Year        Name  Count\n",
       "94      CA   F  1910        Jane     17\n",
       "218     CA   F  1910  Jacqueline      5\n",
       "272     CA   F  1911        Jane     42\n",
       "553     CA   F  1912        Jane     36\n",
       "660     CA   F  1912  Jacqueline     11\n",
       "743     CA   F  1912      Janice      6\n",
       "983     CA   F  1913  Jacqueline     11\n",
       "1026    CA   F  1913      Janice      8\n",
       "823     CA   F  1913        Jane     81\n",
       "1164    CA   F  1914        Jane     71"
      ]
     },
     "execution_count": 22,
     "metadata": {},
     "output_type": "execute_result"
    }
   ],
   "source": [
    "# 2 points for using dataframe\n",
    "# 2 points for using str functions startwith\n",
    "# 2 points for using str function endswith\n",
    "# 2 points for showing 10 first names\n",
    "# 2 points for Jane in 1910 first with 17, and Jane again in 1914 with 71\n",
    "babyNames[[x.startswith('Ja') and x.endswith('e') for x in babyNames[\"Name\"]]].sort_values(\"Year\").head(10)"
   ]
  },
  {
   "cell_type": "markdown",
   "id": "timely-rings",
   "metadata": {},
   "source": [
    "5.3. Plot the popularity of the name Michael over time. "
   ]
  },
  {
   "cell_type": "code",
   "execution_count": 23,
   "id": "cardiovascular-academy",
   "metadata": {},
   "outputs": [],
   "source": [
    "MichaelDF = babyNames[babyNames['Name'] == 'Michael']\n"
   ]
  },
  {
   "cell_type": "code",
   "execution_count": 24,
   "id": "4a67434f-360d-429a-bd75-45111c06a415",
   "metadata": {
    "tags": []
   },
   "outputs": [],
   "source": [
    "x_values = MichaelDF[\"Year\"]\n",
    "y_values = MichaelDF[\"Count\"]\n"
   ]
  },
  {
   "cell_type": "code",
   "execution_count": 25,
   "id": "1634e20e-7fbc-4ca4-b05b-4f49ad8b4b4c",
   "metadata": {
    "tags": []
   },
   "outputs": [
    {
     "data": {
      "image/png": "[encoded data removed]",
      "text/plain": [
       "<Figure size 640x480 with 1 Axes>"
      ]
     },
     "metadata": {},
     "output_type": "display_data"
    }
   ],
   "source": [
    "\n",
    "import matplotlib.pyplot as plt\n",
    "plt.plot(x_values, y_values)\n",
    "plt.xlabel('year')\n",
    "plt.ylabel('Count')\n",
    "plt.title(r'Popularity of Michael')\n",
    "plt.grid(True)\n",
    "plt.show()"
   ]
  },
  {
   "cell_type": "markdown",
   "id": "collected-vintage",
   "metadata": {},
   "source": [
    "5.4. Find unisex baby names (i.e., names that are used by females and males)."
   ]
  },
  {
   "cell_type": "code",
   "execution_count": 26,
   "id": "5d65b440-e205-4f41-8bb7-f1dffb13fb56",
   "metadata": {
    "tags": []
   },
   "outputs": [
    {
     "data": {
      "text/plain": [
       "0             Mary\n",
       "1            Helen\n",
       "2          Dorothy\n",
       "3         Margaret\n",
       "4          Frances\n",
       "            ...   \n",
       "228488        Zoha\n",
       "228489     Zuleika\n",
       "228490     Zuleyma\n",
       "228491       Zuria\n",
       "228492        Zyah\n",
       "Name: Name, Length: 228493, dtype: object"
      ]
     },
     "execution_count": 26,
     "metadata": {},
     "output_type": "execute_result"
    }
   ],
   "source": [
    "# there are many ways to solve this.\n",
    "\n",
    "\n",
    "babyNames.query(\"Sex == 'F'\")[\"Name\"]"
   ]
  },
  {
   "cell_type": "code",
   "execution_count": 27,
   "id": "2e16c59e-a7ff-44dd-a43d-8aef513a57f3",
   "metadata": {
    "tags": []
   },
   "outputs": [
    {
     "data": {
      "text/plain": [
       "228493       John\n",
       "228494    William\n",
       "228495      James\n",
       "228496     Robert\n",
       "228497     George\n",
       "           ...   \n",
       "387776    Zayvion\n",
       "387777       Zeek\n",
       "387778     Zhaire\n",
       "387779       Zian\n",
       "387780      Ziyad\n",
       "Name: Name, Length: 159288, dtype: object"
      ]
     },
     "execution_count": 27,
     "metadata": {},
     "output_type": "execute_result"
    }
   ],
   "source": [
    "babyNames.query(\"Sex == 'M' \")[\"Name\"]"
   ]
  },
  {
   "cell_type": "code",
   "execution_count": 28,
   "id": "expanded-norfolk",
   "metadata": {},
   "outputs": [
    {
     "data": {
      "text/plain": [
       "pandas.core.series.Series"
      ]
     },
     "execution_count": 28,
     "metadata": {},
     "output_type": "execute_result"
    }
   ],
   "source": [
    "type(babyNames.query(\"Sex == 'M' \")[\"Name\"])"
   ]
  },
  {
   "cell_type": "code",
   "execution_count": 29,
   "id": "23e3263c-f79c-4994-a06c-767d4975a500",
   "metadata": {
    "tags": []
   },
   "outputs": [
    {
     "data": {
      "text/plain": [
       "159288"
      ]
     },
     "execution_count": 29,
     "metadata": {},
     "output_type": "execute_result"
    }
   ],
   "source": [
    "series_males = pd.DataFrame(babyNames.query(\"Sex == 'M' \")[\"Name\"])\n",
    "len(series_males)\n",
    "# this contains duplicates rows of \"John\""
   ]
  },
  {
   "cell_type": "code",
   "execution_count": 30,
   "id": "d4b5fab4-5928-4e17-b569-7b13141f804c",
   "metadata": {
    "tags": []
   },
   "outputs": [
    {
     "data": {
      "text/plain": [
       "228493"
      ]
     },
     "execution_count": 30,
     "metadata": {},
     "output_type": "execute_result"
    }
   ],
   "source": [
    "series_female = pd.DataFrame(babyNames.query(\"Sex == 'F' \")[\"Name\"])\n",
    "len(series_female)\n",
    "# this contains duplicate rows of \"Jane\""
   ]
  },
  {
   "cell_type": "code",
   "execution_count": 31,
   "id": "ce29b2ec-b817-41d0-bc78-e38619f3f4bc",
   "metadata": {
    "tags": []
   },
   "outputs": [],
   "source": [
    "# this is going an intersection of male and female names\n",
    "male_set = set(series_males[\"Name\"].to_list())\n",
    "female_set = set(series_female[\"Name\"].to_list())\n",
    "sortedUnisexNames = sorted( male_set & female_set)\n",
    "\n",
    "# another way by using sets and intersection of tht two sets\n",
    "secondway = set(series_males[\"Name\"].to_list()).intersection(set(series_female[\"Name\"].to_list()))\n",
    "secondwaySorted = sorted(secondway)"
   ]
  },
  {
   "cell_type": "code",
   "execution_count": 32,
   "id": "4e719095-fca4-471d-9e5d-e81231458bd8",
   "metadata": {
    "tags": []
   },
   "outputs": [
    {
     "data": {
      "text/plain": [
       "8187"
      ]
     },
     "execution_count": 32,
     "metadata": {},
     "output_type": "execute_result"
    }
   ],
   "source": [
    "len(male_set)\n",
    "# unique name of males"
   ]
  },
  {
   "cell_type": "code",
   "execution_count": 33,
   "id": "343e030e-4ae6-4051-a4bd-8f0bf4377231",
   "metadata": {
    "tags": []
   },
   "outputs": [
    {
     "data": {
      "text/plain": [
       "13402"
      ]
     },
     "execution_count": 33,
     "metadata": {},
     "output_type": "execute_result"
    }
   ],
   "source": [
    "len(female_set)\n",
    "# unique names of female"
   ]
  },
  {
   "cell_type": "code",
   "execution_count": 34,
   "id": "8ceb8e60-d589-478e-86a1-b53d73529e63",
   "metadata": {
    "tags": []
   },
   "outputs": [
    {
     "data": {
      "text/plain": [
       "1759"
      ]
     },
     "execution_count": 34,
     "metadata": {},
     "output_type": "execute_result"
    }
   ],
   "source": [
    "len(sortedUnisexNames)"
   ]
  },
  {
   "cell_type": "code",
   "execution_count": 35,
   "id": "b812507c-64fc-41da-9e61-7251ba7a0e5d",
   "metadata": {
    "tags": []
   },
   "outputs": [
    {
     "name": "stdout",
     "output_type": "stream",
     "text": [
      "Aarin\n",
      "Aaron\n",
      "Aarya\n",
      "Aaryn\n",
      "Abeer\n",
      "Abigail\n",
      "Abisai\n",
      "Abraham\n",
      "Ace\n",
      "Adair\n"
     ]
    }
   ],
   "source": [
    "myList = list(sortedUnisexNames)[:10]\n",
    "for i, val in enumerate(myList):\n",
    "    print(val)"
   ]
  },
  {
   "cell_type": "code",
   "execution_count": 36,
   "id": "35672f39-7ec1-4fed-bf38-86c4d83d477c",
   "metadata": {
    "tags": []
   },
   "outputs": [
    {
     "data": {
      "text/plain": [
       "1759"
      ]
     },
     "execution_count": 36,
     "metadata": {},
     "output_type": "execute_result"
    }
   ],
   "source": [
    "len(sortedUnisexNames)"
   ]
  },
  {
   "cell_type": "code",
   "execution_count": 37,
   "id": "ec25b469-11ce-4ca7-af98-3a28cd26aa32",
   "metadata": {
    "tags": []
   },
   "outputs": [
    {
     "data": {
      "text/plain": [
       "1759"
      ]
     },
     "execution_count": 37,
     "metadata": {},
     "output_type": "execute_result"
    }
   ],
   "source": [
    "len(secondwaySorted)"
   ]
  },
  {
   "cell_type": "code",
   "execution_count": 38,
   "id": "4120d59d-cd71-4b93-8a03-93c5b787f651",
   "metadata": {
    "tags": []
   },
   "outputs": [
    {
     "data": {
      "text/plain": [
       "387781"
      ]
     },
     "execution_count": 38,
     "metadata": {},
     "output_type": "execute_result"
    }
   ],
   "source": [
    "len(babyNames)"
   ]
  },
  {
   "cell_type": "code",
   "execution_count": 39,
   "id": "d92327a0-1c6a-4af8-b31f-a4d099bdd3c3",
   "metadata": {},
   "outputs": [
    {
     "data": {
      "text/plain": [
       "True"
      ]
     },
     "execution_count": 39,
     "metadata": {},
     "output_type": "execute_result"
    }
   ],
   "source": [
    "\"Dorothy\" in sortedUnisexNames"
   ]
  },
  {
   "cell_type": "code",
   "execution_count": 40,
   "id": "26487053-13c8-48c3-800c-c400166fae04",
   "metadata": {
    "tags": []
   },
   "outputs": [
    {
     "data": {
      "text/plain": [
       "True"
      ]
     },
     "execution_count": 40,
     "metadata": {},
     "output_type": "execute_result"
    }
   ],
   "source": [
    "\"Frances\" in sortedUnisexNames"
   ]
  },
  {
   "cell_type": "code",
   "execution_count": 41,
   "id": "851bd5d7-7c4f-4535-be2a-5cff3ea74d30",
   "metadata": {
    "tags": []
   },
   "outputs": [
    {
     "data": {
      "text/html": [
       "<div>\n",
       "<style scoped>\n",
       "    .dataframe tbody tr th:only-of-type {\n",
       "        vertical-align: middle;\n",
       "    }\n",
       "\n",
       "    .dataframe tbody tr th {\n",
       "        vertical-align: top;\n",
       "    }\n",
       "\n",
       "    .dataframe thead th {\n",
       "        text-align: right;\n",
       "    }\n",
       "</style>\n",
       "<table border=\"1\" class=\"dataframe\">\n",
       "  <thead>\n",
       "    <tr style=\"text-align: right;\">\n",
       "      <th></th>\n",
       "      <th>State</th>\n",
       "      <th>Sex</th>\n",
       "      <th>Year</th>\n",
       "      <th>Name</th>\n",
       "      <th>Count</th>\n",
       "    </tr>\n",
       "  </thead>\n",
       "  <tbody>\n",
       "    <tr>\n",
       "      <th>387771</th>\n",
       "      <td>CA</td>\n",
       "      <td>M</td>\n",
       "      <td>2019</td>\n",
       "      <td>Zackariah</td>\n",
       "      <td>5</td>\n",
       "    </tr>\n",
       "    <tr>\n",
       "      <th>387772</th>\n",
       "      <td>CA</td>\n",
       "      <td>M</td>\n",
       "      <td>2019</td>\n",
       "      <td>Zahid</td>\n",
       "      <td>5</td>\n",
       "    </tr>\n",
       "    <tr>\n",
       "      <th>387773</th>\n",
       "      <td>CA</td>\n",
       "      <td>M</td>\n",
       "      <td>2019</td>\n",
       "      <td>Zakariah</td>\n",
       "      <td>5</td>\n",
       "    </tr>\n",
       "    <tr>\n",
       "      <th>387774</th>\n",
       "      <td>CA</td>\n",
       "      <td>M</td>\n",
       "      <td>2019</td>\n",
       "      <td>Zavien</td>\n",
       "      <td>5</td>\n",
       "    </tr>\n",
       "    <tr>\n",
       "      <th>387775</th>\n",
       "      <td>CA</td>\n",
       "      <td>M</td>\n",
       "      <td>2019</td>\n",
       "      <td>Zay</td>\n",
       "      <td>5</td>\n",
       "    </tr>\n",
       "    <tr>\n",
       "      <th>387776</th>\n",
       "      <td>CA</td>\n",
       "      <td>M</td>\n",
       "      <td>2019</td>\n",
       "      <td>Zayvion</td>\n",
       "      <td>5</td>\n",
       "    </tr>\n",
       "    <tr>\n",
       "      <th>387777</th>\n",
       "      <td>CA</td>\n",
       "      <td>M</td>\n",
       "      <td>2019</td>\n",
       "      <td>Zeek</td>\n",
       "      <td>5</td>\n",
       "    </tr>\n",
       "    <tr>\n",
       "      <th>387778</th>\n",
       "      <td>CA</td>\n",
       "      <td>M</td>\n",
       "      <td>2019</td>\n",
       "      <td>Zhaire</td>\n",
       "      <td>5</td>\n",
       "    </tr>\n",
       "    <tr>\n",
       "      <th>387779</th>\n",
       "      <td>CA</td>\n",
       "      <td>M</td>\n",
       "      <td>2019</td>\n",
       "      <td>Zian</td>\n",
       "      <td>5</td>\n",
       "    </tr>\n",
       "    <tr>\n",
       "      <th>387780</th>\n",
       "      <td>CA</td>\n",
       "      <td>M</td>\n",
       "      <td>2019</td>\n",
       "      <td>Ziyad</td>\n",
       "      <td>5</td>\n",
       "    </tr>\n",
       "  </tbody>\n",
       "</table>\n",
       "</div>"
      ],
      "text/plain": [
       "       State Sex  Year       Name  Count\n",
       "387771    CA   M  2019  Zackariah      5\n",
       "387772    CA   M  2019      Zahid      5\n",
       "387773    CA   M  2019   Zakariah      5\n",
       "387774    CA   M  2019     Zavien      5\n",
       "387775    CA   M  2019        Zay      5\n",
       "387776    CA   M  2019    Zayvion      5\n",
       "387777    CA   M  2019       Zeek      5\n",
       "387778    CA   M  2019     Zhaire      5\n",
       "387779    CA   M  2019       Zian      5\n",
       "387780    CA   M  2019      Ziyad      5"
      ]
     },
     "execution_count": 41,
     "metadata": {},
     "output_type": "execute_result"
    }
   ],
   "source": [
    "babyNames.tail(10)"
   ]
  },
  {
   "cell_type": "code",
   "execution_count": 42,
   "id": "f8340bd0-0017-44ef-9a63-5bd17c17e338",
   "metadata": {
    "tags": []
   },
   "outputs": [
    {
     "data": {
      "text/html": [
       "<div>\n",
       "<style scoped>\n",
       "    .dataframe tbody tr th:only-of-type {\n",
       "        vertical-align: middle;\n",
       "    }\n",
       "\n",
       "    .dataframe tbody tr th {\n",
       "        vertical-align: top;\n",
       "    }\n",
       "\n",
       "    .dataframe thead th {\n",
       "        text-align: right;\n",
       "    }\n",
       "</style>\n",
       "<table border=\"1\" class=\"dataframe\">\n",
       "  <thead>\n",
       "    <tr style=\"text-align: right;\">\n",
       "      <th></th>\n",
       "      <th>State</th>\n",
       "      <th>Sex</th>\n",
       "      <th>Year</th>\n",
       "      <th>Name</th>\n",
       "      <th>Count</th>\n",
       "    </tr>\n",
       "  </thead>\n",
       "  <tbody>\n",
       "    <tr>\n",
       "      <th>0</th>\n",
       "      <td>CA</td>\n",
       "      <td>F</td>\n",
       "      <td>1910</td>\n",
       "      <td>Mary</td>\n",
       "      <td>295</td>\n",
       "    </tr>\n",
       "    <tr>\n",
       "      <th>1</th>\n",
       "      <td>CA</td>\n",
       "      <td>F</td>\n",
       "      <td>1910</td>\n",
       "      <td>Helen</td>\n",
       "      <td>239</td>\n",
       "    </tr>\n",
       "    <tr>\n",
       "      <th>2</th>\n",
       "      <td>CA</td>\n",
       "      <td>F</td>\n",
       "      <td>1910</td>\n",
       "      <td>Dorothy</td>\n",
       "      <td>220</td>\n",
       "    </tr>\n",
       "    <tr>\n",
       "      <th>3</th>\n",
       "      <td>CA</td>\n",
       "      <td>F</td>\n",
       "      <td>1910</td>\n",
       "      <td>Margaret</td>\n",
       "      <td>163</td>\n",
       "    </tr>\n",
       "    <tr>\n",
       "      <th>4</th>\n",
       "      <td>CA</td>\n",
       "      <td>F</td>\n",
       "      <td>1910</td>\n",
       "      <td>Frances</td>\n",
       "      <td>134</td>\n",
       "    </tr>\n",
       "    <tr>\n",
       "      <th>5</th>\n",
       "      <td>CA</td>\n",
       "      <td>F</td>\n",
       "      <td>1910</td>\n",
       "      <td>Ruth</td>\n",
       "      <td>128</td>\n",
       "    </tr>\n",
       "    <tr>\n",
       "      <th>6</th>\n",
       "      <td>CA</td>\n",
       "      <td>F</td>\n",
       "      <td>1910</td>\n",
       "      <td>Evelyn</td>\n",
       "      <td>126</td>\n",
       "    </tr>\n",
       "    <tr>\n",
       "      <th>7</th>\n",
       "      <td>CA</td>\n",
       "      <td>F</td>\n",
       "      <td>1910</td>\n",
       "      <td>Alice</td>\n",
       "      <td>118</td>\n",
       "    </tr>\n",
       "    <tr>\n",
       "      <th>8</th>\n",
       "      <td>CA</td>\n",
       "      <td>F</td>\n",
       "      <td>1910</td>\n",
       "      <td>Virginia</td>\n",
       "      <td>101</td>\n",
       "    </tr>\n",
       "    <tr>\n",
       "      <th>9</th>\n",
       "      <td>CA</td>\n",
       "      <td>F</td>\n",
       "      <td>1910</td>\n",
       "      <td>Elizabeth</td>\n",
       "      <td>93</td>\n",
       "    </tr>\n",
       "    <tr>\n",
       "      <th>10</th>\n",
       "      <td>CA</td>\n",
       "      <td>F</td>\n",
       "      <td>1910</td>\n",
       "      <td>Florence</td>\n",
       "      <td>93</td>\n",
       "    </tr>\n",
       "    <tr>\n",
       "      <th>11</th>\n",
       "      <td>CA</td>\n",
       "      <td>F</td>\n",
       "      <td>1910</td>\n",
       "      <td>Marie</td>\n",
       "      <td>90</td>\n",
       "    </tr>\n",
       "    <tr>\n",
       "      <th>12</th>\n",
       "      <td>CA</td>\n",
       "      <td>F</td>\n",
       "      <td>1910</td>\n",
       "      <td>Mildred</td>\n",
       "      <td>90</td>\n",
       "    </tr>\n",
       "    <tr>\n",
       "      <th>13</th>\n",
       "      <td>CA</td>\n",
       "      <td>F</td>\n",
       "      <td>1910</td>\n",
       "      <td>Rose</td>\n",
       "      <td>74</td>\n",
       "    </tr>\n",
       "    <tr>\n",
       "      <th>14</th>\n",
       "      <td>CA</td>\n",
       "      <td>F</td>\n",
       "      <td>1910</td>\n",
       "      <td>Hazel</td>\n",
       "      <td>68</td>\n",
       "    </tr>\n",
       "    <tr>\n",
       "      <th>15</th>\n",
       "      <td>CA</td>\n",
       "      <td>F</td>\n",
       "      <td>1910</td>\n",
       "      <td>Louise</td>\n",
       "      <td>67</td>\n",
       "    </tr>\n",
       "    <tr>\n",
       "      <th>16</th>\n",
       "      <td>CA</td>\n",
       "      <td>F</td>\n",
       "      <td>1910</td>\n",
       "      <td>Josephine</td>\n",
       "      <td>66</td>\n",
       "    </tr>\n",
       "    <tr>\n",
       "      <th>17</th>\n",
       "      <td>CA</td>\n",
       "      <td>F</td>\n",
       "      <td>1910</td>\n",
       "      <td>Lucille</td>\n",
       "      <td>66</td>\n",
       "    </tr>\n",
       "    <tr>\n",
       "      <th>18</th>\n",
       "      <td>CA</td>\n",
       "      <td>F</td>\n",
       "      <td>1910</td>\n",
       "      <td>Grace</td>\n",
       "      <td>65</td>\n",
       "    </tr>\n",
       "    <tr>\n",
       "      <th>19</th>\n",
       "      <td>CA</td>\n",
       "      <td>F</td>\n",
       "      <td>1910</td>\n",
       "      <td>Gladys</td>\n",
       "      <td>63</td>\n",
       "    </tr>\n",
       "  </tbody>\n",
       "</table>\n",
       "</div>"
      ],
      "text/plain": [
       "   State Sex  Year       Name  Count\n",
       "0     CA   F  1910       Mary    295\n",
       "1     CA   F  1910      Helen    239\n",
       "2     CA   F  1910    Dorothy    220\n",
       "3     CA   F  1910   Margaret    163\n",
       "4     CA   F  1910    Frances    134\n",
       "5     CA   F  1910       Ruth    128\n",
       "6     CA   F  1910     Evelyn    126\n",
       "7     CA   F  1910      Alice    118\n",
       "8     CA   F  1910   Virginia    101\n",
       "9     CA   F  1910  Elizabeth     93\n",
       "10    CA   F  1910   Florence     93\n",
       "11    CA   F  1910      Marie     90\n",
       "12    CA   F  1910    Mildred     90\n",
       "13    CA   F  1910       Rose     74\n",
       "14    CA   F  1910      Hazel     68\n",
       "15    CA   F  1910     Louise     67\n",
       "16    CA   F  1910  Josephine     66\n",
       "17    CA   F  1910    Lucille     66\n",
       "18    CA   F  1910      Grace     65\n",
       "19    CA   F  1910     Gladys     63"
      ]
     },
     "execution_count": 42,
     "metadata": {},
     "output_type": "execute_result"
    }
   ],
   "source": [
    "babyNames.head(20)"
   ]
  },
  {
   "cell_type": "code",
   "execution_count": 43,
   "id": "bf51d8d5-d505-4f7b-b90d-8532503b701a",
   "metadata": {
    "tags": []
   },
   "outputs": [
    {
     "data": {
      "text/plain": [
       "False"
      ]
     },
     "execution_count": 43,
     "metadata": {},
     "output_type": "execute_result"
    }
   ],
   "source": [
    "\"Ziyad\" in sortedUnisexNames"
   ]
  },
  {
   "cell_type": "code",
   "execution_count": 44,
   "id": "a7ecb823-11bd-4563-b8ed-26e1c3a90f13",
   "metadata": {
    "tags": []
   },
   "outputs": [
    {
     "data": {
      "text/plain": [
       "False"
      ]
     },
     "execution_count": 44,
     "metadata": {},
     "output_type": "execute_result"
    }
   ],
   "source": [
    "\"Rose\" in sortedUnisexNames"
   ]
  },
  {
   "cell_type": "code",
   "execution_count": null,
   "id": "036ae854-bc8f-4e8c-b274-d7fe4539f1e0",
   "metadata": {},
   "outputs": [],
   "source": []
  }
 ],
 "metadata": {
  "kernelspec": {
   "display_name": "Assignment3",
   "language": "python",
   "name": "python3"
  },
  "language_info": {
   "codemirror_mode": {
    "name": "ipython",
    "version": 3
   },
   "file_extension": ".py",
   "mimetype": "text/x-python",
   "name": "python",
   "nbconvert_exporter": "python",
   "pygments_lexer": "ipython3",
   "version": "3.11.8"
  }
 },
 "nbformat": 4,
 "nbformat_minor": 5
}
