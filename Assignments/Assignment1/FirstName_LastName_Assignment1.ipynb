{
 "cells": [
  {
   "cell_type": "markdown",
   "id": "2b2519e6-203b-4d7f-8490-084ffd7c8a49",
   "metadata": {},
   "source": [
    "# Part 1: Using JupyterLab"
   ]
  },
  {
   "cell_type": "code",
   "execution_count": 1,
   "id": "890e827b-db93-45db-947d-041dfa657f2b",
   "metadata": {},
   "outputs": [],
   "source": [
    "# 1.1 Running Cells and Displaying Output\n"
   ]
  },
  {
   "cell_type": "code",
   "execution_count": null,
   "id": "1e321624",
   "metadata": {},
   "outputs": [],
   "source": []
  },
  {
   "cell_type": "code",
   "execution_count": null,
   "id": "fc05a754",
   "metadata": {},
   "outputs": [],
   "source": []
  },
  {
   "cell_type": "code",
   "execution_count": 2,
   "id": "60cef06e-9c1b-43c3-883c-c39f3688bc36",
   "metadata": {},
   "outputs": [],
   "source": [
    "# 1.2\n",
    "\n"
   ]
  },
  {
   "cell_type": "code",
   "execution_count": 3,
   "id": "280213e6-de73-4308-a271-91746e6d1e04",
   "metadata": {},
   "outputs": [],
   "source": [
    "# 1.3 Importing Libraries\n",
    "\n"
   ]
  },
  {
   "cell_type": "markdown",
   "id": "009e8642-9534-485c-9d57-c26fff0e0003",
   "metadata": {},
   "source": [
    "# Part 2: Python"
   ]
  },
  {
   "cell_type": "code",
   "execution_count": 4,
   "id": "4c64b304-b3b9-4a96-8cc2-e71651a2ec5a",
   "metadata": {},
   "outputs": [
    {
     "data": {
      "text/plain": [
       "0"
      ]
     },
     "execution_count": 4,
     "metadata": {},
     "output_type": "execute_result"
    }
   ],
   "source": [
    "# 2.1 Write a function summation that evaluates the following summation for n>=1\n",
    "\n",
    "def summation(n):\n",
    "    sum = 0\n",
    "    return sum\n",
    "\n",
    "# use many test values\n",
    "summation(2)"
   ]
  },
  {
   "cell_type": "code",
   "execution_count": 5,
   "id": "6a750d75-918d-42f0-8e85-cd112ef823d0",
   "metadata": {},
   "outputs": [
    {
     "data": {
      "text/plain": [
       "[0]"
      ]
     },
     "execution_count": 5,
     "metadata": {},
     "output_type": "execute_result"
    }
   ],
   "source": [
    "# 2.2 Write a function list_sum that computes the x^2 of each value in list_1, \n",
    "# the (x^4) of each value in list_2, \n",
    "# then returns a list containing the element-wise sum of these results\n",
    "# Assume that list_1 and list_2 have the same number of elements\n",
    "\n",
    "list_1 = [3.3, 5, 10]\n",
    "list_2 = [6, 1, 11]\n",
    "\n",
    "def list_sum(list1, list2): \n",
    "    return [0]\n",
    "\n",
    "list_sum(list_1, list_2)"
   ]
  },
  {
   "cell_type": "markdown",
   "id": "65e2abeb-8aa9-4b8e-9a9f-5630f8a01ff9",
   "metadata": {},
   "source": [
    "# Part 3: NumPy"
   ]
  },
  {
   "cell_type": "code",
   "execution_count": 6,
   "id": "2efc46c3-8cda-4a68-8ffb-c91f532c6505",
   "metadata": {},
   "outputs": [],
   "source": [
    "# 3.1 Create numpy array arr1 containing 1,2,3 and arr2 containing 4,5,6\n",
    "\n"
   ]
  },
  {
   "cell_type": "code",
   "execution_count": 7,
   "id": "c7eebb9e-1731-4864-ac1b-618b6046d599",
   "metadata": {},
   "outputs": [],
   "source": [
    "# 3.2 Add arr1 and arr2 element-wise\n"
   ]
  },
  {
   "cell_type": "code",
   "execution_count": 8,
   "id": "d164b8f5-bdd8-4c63-95e6-d4526e8855a7",
   "metadata": {},
   "outputs": [
    {
     "data": {
      "text/plain": [
       "[0]"
      ]
     },
     "execution_count": 8,
     "metadata": {},
     "output_type": "execute_result"
    }
   ],
   "source": [
    "# 3.3 recreate answer to 2.2 \n",
    "# convert lists to arrays\n",
    "\n",
    "def array_sum(list1, list2):\n",
    " \n",
    "    return [0]\n",
    "array_sum(list_1, list_2)"
   ]
  },
  {
   "cell_type": "code",
   "execution_count": 9,
   "id": "57c824cd-9566-42a0-831e-d6ad5150d899",
   "metadata": {},
   "outputs": [
    {
     "name": "stdout",
     "output_type": "stream",
     "text": [
      "CPU times: user 1 μs, sys: 0 ns, total: 1 μs\n",
      "Wall time: 1.91 μs\n"
     ]
    },
    {
     "data": {
      "text/plain": [
       "[0]"
      ]
     },
     "execution_count": 9,
     "metadata": {},
     "output_type": "execute_result"
    }
   ],
   "source": [
    "\n",
    "# 3.4 show the time difference between list_sum and array_sum3\n",
    "sample_list = list(range(100000))\n",
    "%time  list_sum(sample_list, sample_list)"
   ]
  },
  {
   "cell_type": "code",
   "execution_count": 10,
   "id": "13913630-2d92-4ee5-986c-1f0feb5bede8",
   "metadata": {},
   "outputs": [
    {
     "name": "stdout",
     "output_type": "stream",
     "text": [
      "CPU times: user 6 μs, sys: 45 μs, total: 51 μs\n",
      "Wall time: 7.87 μs\n"
     ]
    },
    {
     "data": {
      "text/plain": [
       "[0]"
      ]
     },
     "execution_count": 10,
     "metadata": {},
     "output_type": "execute_result"
    }
   ],
   "source": [
    "import numpy as np\n",
    "sample_array = np.arange(100000)\n",
    "\n",
    "%time resultarray =  array_sum(sample_array, sample_array)"
   ]
  },
  {
   "cell_type": "markdown",
   "id": "67a9ef2e-5f2d-4588-a416-3f1b52077981",
   "metadata": {},
   "source": [
    "# Part 4: Matplotlib"
   ]
  },
  {
   "cell_type": "code",
   "execution_count": 11,
   "id": "5aacfb8e-0f7f-49ea-a897-f35bc47853ae",
   "metadata": {},
   "outputs": [],
   "source": [
    "#4.1\n",
    "\n",
    "# visualize the function f(t) = 6sin(2pi*t)\n",
    "# Set the x limit of all figures to [-pi, pi] and the y limit to [-10,10]\n",
    "# plot the sine function using plt.plot with 30 red plus signs\n",
    "# make sure the x ticks are labeled [-pi, -pi/2, 0, pi/2, pi] and your axes are labeled as well\n"
   ]
  },
  {
   "cell_type": "code",
   "execution_count": null,
   "id": "2d00c47c-9edf-4ab4-90be-55b8a2c06fcd",
   "metadata": {},
   "outputs": [],
   "source": []
  }
 ],
 "metadata": {
  "kernelspec": {
   "display_name": "Python 3 (ipykernel)",
   "language": "python",
   "name": "python3"
  },
  "language_info": {
   "codemirror_mode": {
    "name": "ipython",
    "version": 3
   },
   "file_extension": ".py",
   "mimetype": "text/x-python",
   "name": "python",
   "nbconvert_exporter": "python",
   "pygments_lexer": "ipython3",
   "version": "3.11.8"
  }
 },
 "nbformat": 4,
 "nbformat_minor": 5
}
