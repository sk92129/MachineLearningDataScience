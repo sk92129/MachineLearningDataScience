{
 "cells": [
  {
   "cell_type": "code",
   "execution_count": 40,
   "id": "32a5a8d9-2825-4561-aeb0-d0ab7be855a9",
   "metadata": {},
   "outputs": [],
   "source": [
    "# part 1.1"
   ]
  },
  {
   "cell_type": "code",
   "execution_count": 41,
   "id": "d9773371-06b0-4969-acca-542e1b09dfa8",
   "metadata": {
    "tags": []
   },
   "outputs": [],
   "source": [
    "# the answers do not need to be in separate input boxes\n",
    "# however, if they are not all in separate boxes, then \"will this line be displayed\" will NOT be displayed"
   ]
  },
  {
   "cell_type": "code",
   "execution_count": 42,
   "id": "9a929bc4-ecb0-411b-aa3f-6ebe7a7f4bae",
   "metadata": {
    "tags": []
   },
   "outputs": [
    {
     "data": {
      "text/plain": [
       "'will this line be displayed?'"
      ]
     },
     "execution_count": 42,
     "metadata": {},
     "output_type": "execute_result"
    }
   ],
   "source": [
    "\"will this line be displayed?\" \n",
    "#it appears below so yes"
   ]
  },
  {
   "cell_type": "code",
   "execution_count": 43,
   "id": "d4ca053b-ff8b-48f2-a4f2-a47d7f969e3e",
   "metadata": {
    "tags": []
   },
   "outputs": [
    {
     "name": "stdout",
     "output_type": "stream",
     "text": [
      "hello,  world!\n"
     ]
    }
   ],
   "source": [
    "print(\"hello\" + \", \", \"world!\")\n"
   ]
  },
  {
   "cell_type": "code",
   "execution_count": 44,
   "id": "85bb5d67-c23b-4755-aaf1-c632d90de9ec",
   "metadata": {
    "tags": []
   },
   "outputs": [
    {
     "data": {
      "text/plain": [
       "8"
      ]
     },
     "execution_count": 44,
     "metadata": {},
     "output_type": "execute_result"
    }
   ],
   "source": [
    "5 + 3"
   ]
  },
  {
   "cell_type": "code",
   "execution_count": 45,
   "id": "d65246a0-0bf0-4e19-a20e-0c3548b679c8",
   "metadata": {
    "tags": []
   },
   "outputs": [
    {
     "name": "stdout",
     "output_type": "stream",
     "text": [
      "hello,  world!\n"
     ]
    },
    {
     "data": {
      "text/plain": [
       "8"
      ]
     },
     "execution_count": 45,
     "metadata": {},
     "output_type": "execute_result"
    }
   ],
   "source": [
    "\"will this line be displayed?\" \n",
    "print(\"hello\" + \", \", \"world!\")\n",
    "5 + 3\n",
    "# noticed above -- that the \"will this line be displayed\n",
    "# isnt displayed\n",
    "# first line 3 points \n",
    "# second line 3 point\n",
    "# third line 2 points"
   ]
  },
  {
   "cell_type": "code",
   "execution_count": 46,
   "id": "5a9eceae-27b6-4baf-8e76-8a1dc2284e21",
   "metadata": {},
   "outputs": [],
   "source": [
    "# part 1.2"
   ]
  },
  {
   "cell_type": "code",
   "execution_count": 47,
   "id": "59bdcd5d-4c26-4658-bf19-45f0c9f55af0",
   "metadata": {
    "tags": []
   },
   "outputs": [
    {
     "name": "stdout",
     "output_type": "stream",
     "text": [
      "Help on built-in function print in module builtins:\n",
      "\n",
      "print(*args, sep=' ', end='\\n', file=None, flush=False)\n",
      "    Prints the values to a stream, or to sys.stdout by default.\n",
      "    \n",
      "    sep\n",
      "      string inserted between values, default a space.\n",
      "    end\n",
      "      string appended after the last value, default a newline.\n",
      "    file\n",
      "      a file-like object (stream); defaults to the current sys.stdout.\n",
      "    flush\n",
      "      whether to forcibly flush the stream.\n",
      "\n"
     ]
    }
   ],
   "source": [
    "help(print)\n",
    "# the student must have used the line above to generate\n",
    "# the output below\n",
    "# 4 points for help printing"
   ]
  },
  {
   "cell_type": "code",
   "execution_count": 48,
   "id": "35dce8f0-1f51-47b6-a95a-6c1f377a3781",
   "metadata": {
    "tags": []
   },
   "outputs": [
    {
     "name": "stdout",
     "output_type": "stream",
     "text": [
      "welcome\n",
      "welcome\n"
     ]
    }
   ],
   "source": [
    "print('welcome')\n",
    "#or \n",
    "print(\"welcome\")\n",
    "# 4 points for welcome"
   ]
  },
  {
   "cell_type": "code",
   "execution_count": 49,
   "id": "1b27ec35-8f1f-4d9c-9ea9-bbeac46ef02a",
   "metadata": {},
   "outputs": [],
   "source": [
    "# part 1.3\n"
   ]
  },
  {
   "cell_type": "code",
   "execution_count": 50,
   "id": "7831f1f2-9867-4d93-b775-b8594b260ea5",
   "metadata": {
    "tags": []
   },
   "outputs": [],
   "source": [
    "import pandas as pd\n",
    "import numpy as np\n",
    "import matplotlib.pyplot as plt\n",
    "import seaborn as sns\n",
    "# just make sure all the lines are here\n",
    "# 9 points for all these lines appearing"
   ]
  },
  {
   "cell_type": "code",
   "execution_count": 51,
   "id": "4807477a-baed-402a-9da5-fd07edb8e3c4",
   "metadata": {},
   "outputs": [],
   "source": [
    "# part 2.1\n"
   ]
  },
  {
   "cell_type": "code",
   "execution_count": 52,
   "id": "85119622-89b2-4085-bd9c-a11e2118eaea",
   "metadata": {
    "tags": []
   },
   "outputs": [],
   "source": [
    "def summation(n):\n",
    "    sum = 0\n",
    "    for i in range(1, n+1):\n",
    "        sum += i**2 + 3*i**3\n",
    "    return sum\n",
    "# make sure that the function name is \"summation\"\n",
    "# make sure all the function body is idented\n",
    "# make sure that the formulat looks correct"
   ]
  },
  {
   "cell_type": "code",
   "execution_count": 53,
   "id": "071b5214-bbc2-4b61-b636-07bfc54cd486",
   "metadata": {
    "tags": []
   },
   "outputs": [
    {
     "data": {
      "text/plain": [
       "9460"
      ]
     },
     "execution_count": 53,
     "metadata": {},
     "output_type": "execute_result"
    }
   ],
   "source": [
    "# make sure the student actually tested the function\n",
    "summation(10)"
   ]
  },
  {
   "cell_type": "code",
   "execution_count": 54,
   "id": "0b1d46e4-2f6d-499c-b8f2-ba4366b9fcb1",
   "metadata": {
    "tags": []
   },
   "outputs": [
    {
     "data": {
      "text/plain": [
       "4"
      ]
     },
     "execution_count": 54,
     "metadata": {},
     "output_type": "execute_result"
    }
   ],
   "source": [
    "summation(1)"
   ]
  },
  {
   "cell_type": "code",
   "execution_count": 55,
   "id": "eda6c6fe-0a64-4dc3-a491-c9e5dde4f321",
   "metadata": {
    "tags": []
   },
   "outputs": [
    {
     "data": {
      "text/plain": [
       "32"
      ]
     },
     "execution_count": 55,
     "metadata": {},
     "output_type": "execute_result"
    }
   ],
   "source": [
    "summation(2)"
   ]
  },
  {
   "cell_type": "code",
   "execution_count": 56,
   "id": "9b13c822-42c3-40a6-91c2-6304b2c21b10",
   "metadata": {
    "tags": []
   },
   "outputs": [
    {
     "name": "stdout",
     "output_type": "stream",
     "text": [
      "0   ====>  0\n",
      "1   ====>  4\n",
      "2   ====>  32\n",
      "3   ====>  122\n",
      "4   ====>  330\n",
      "5   ====>  730\n",
      "6   ====>  1414\n",
      "7   ====>  2492\n",
      "8   ====>  4092\n",
      "9   ====>  6360\n",
      "10   ====>  9460\n",
      "11   ====>  13574\n",
      "12   ====>  18902\n",
      "13   ====>  25662\n",
      "14   ====>  34090\n",
      "15   ====>  44440\n",
      "16   ====>  56984\n",
      "17   ====>  72012\n",
      "18   ====>  89832\n",
      "19   ====>  110770\n",
      "20   ====>  135170\n",
      "21   ====>  163394\n",
      "22   ====>  195822\n",
      "23   ====>  232852\n",
      "24   ====>  274900\n",
      "25   ====>  322400\n",
      "26   ====>  375804\n",
      "27   ====>  435582\n",
      "28   ====>  502222\n",
      "29   ====>  576230\n",
      "30   ====>  658130\n",
      "31   ====>  748464\n",
      "32   ====>  847792\n",
      "33   ====>  956692\n",
      "34   ====>  1075760\n",
      "35   ====>  1205610\n",
      "36   ====>  1346874\n",
      "37   ====>  1500202\n",
      "38   ====>  1666262\n",
      "39   ====>  1845740\n",
      "40   ====>  2039340\n",
      "41   ====>  2247784\n",
      "42   ====>  2471812\n",
      "43   ====>  2712182\n",
      "44   ====>  2969670\n",
      "45   ====>  3245070\n",
      "46   ====>  3539194\n",
      "47   ====>  3852872\n",
      "48   ====>  4186952\n",
      "49   ====>  4542300\n",
      "50   ====>  4919800\n",
      "51   ====>  5320354\n",
      "52   ====>  5744882\n",
      "53   ====>  6194322\n",
      "54   ====>  6669630\n",
      "55   ====>  7171780\n",
      "56   ====>  7701764\n",
      "57   ====>  8260592\n",
      "58   ====>  8849292\n",
      "59   ====>  9468910\n",
      "60   ====>  10120510\n",
      "61   ====>  10805174\n",
      "62   ====>  11524002\n",
      "63   ====>  12278112\n",
      "64   ====>  13068640\n",
      "65   ====>  13896740\n",
      "66   ====>  14763584\n",
      "67   ====>  15670362\n",
      "68   ====>  16618282\n",
      "69   ====>  17608570\n",
      "70   ====>  18642470\n",
      "71   ====>  19721244\n",
      "72   ====>  20846172\n",
      "73   ====>  22018552\n",
      "74   ====>  23239700\n",
      "75   ====>  24510950\n",
      "76   ====>  25833654\n",
      "77   ====>  27209182\n",
      "78   ====>  28638922\n",
      "79   ====>  30124280\n",
      "80   ====>  31666680\n",
      "81   ====>  33267564\n",
      "82   ====>  34928392\n",
      "83   ====>  36650642\n",
      "84   ====>  38435810\n",
      "85   ====>  40285410\n",
      "86   ====>  42200974\n",
      "87   ====>  44184052\n",
      "88   ====>  46236212\n",
      "89   ====>  48359040\n",
      "90   ====>  50554140\n",
      "91   ====>  52823134\n",
      "92   ====>  55167662\n",
      "93   ====>  57589382\n",
      "94   ====>  60089970\n",
      "95   ====>  62671120\n",
      "96   ====>  65334544\n",
      "97   ====>  68081972\n",
      "98   ====>  70915152\n",
      "99   ====>  73835850\n"
     ]
    }
   ],
   "source": [
    "# To check for the test numbers that student might have used\n",
    "for i in range(100):\n",
    "    print(i ,\"  ====> \" , summation(i))"
   ]
  },
  {
   "cell_type": "code",
   "execution_count": 57,
   "id": "81a49281-d911-4b4a-ab29-f4a0fff296c6",
   "metadata": {},
   "outputs": [],
   "source": [
    "# part 2.2"
   ]
  },
  {
   "cell_type": "code",
   "execution_count": 58,
   "id": "8514a6e4-fee9-4aa7-be68-40887a863723",
   "metadata": {
    "tags": []
   },
   "outputs": [],
   "source": [
    "# make sure student uses this function name\n",
    "# make sure that it returns a list\n",
    "def list_sum(list1, list2):\n",
    "    result_sum = []\n",
    "    lenList = len(list1)\n",
    "    for i in range(lenList):\n",
    "        result_sum.append((list1[i]**2) + (list2[i]**4))\n",
    "    return result_sum\n",
    "# The number of loops performed in the solution is once\n",
    "# if the student performas more than 1 loop, or 2 or 3 loops, it is not penalized\n",
    "# but they will learn the impact based on the %time performance"
   ]
  },
  {
   "cell_type": "code",
   "execution_count": 59,
   "id": "81b63997-754b-455e-9e19-b831703a7be5",
   "metadata": {
    "tags": []
   },
   "outputs": [],
   "source": [
    "list_1 = [3.3, 5, 10]\n",
    "list_2 = [6, 1, 11]"
   ]
  },
  {
   "cell_type": "code",
   "execution_count": 60,
   "id": "854248c9-460d-464a-aa48-f3554e271cda",
   "metadata": {
    "tags": []
   },
   "outputs": [
    {
     "name": "stdout",
     "output_type": "stream",
     "text": [
      "[1306.89, 26, 14741]\n"
     ]
    }
   ],
   "source": [
    "# make sure that the result matches the expected \n",
    "# values: [ 334.5921 626. 11331. ]\n",
    "# the number of decimal points is not important in the first number\n",
    "print(list_sum(list_1, list_2))"
   ]
  },
  {
   "cell_type": "code",
   "execution_count": 61,
   "id": "43dd1073-d77a-4293-9a39-7c1330a1fc5d",
   "metadata": {
    "tags": []
   },
   "outputs": [],
   "source": [
    "# part 3.1\n"
   ]
  },
  {
   "cell_type": "code",
   "execution_count": 62,
   "id": "ef37ebcb-c105-4fa3-a444-3f2748dea58a",
   "metadata": {
    "tags": []
   },
   "outputs": [],
   "source": [
    "import array as arr"
   ]
  },
  {
   "cell_type": "code",
   "execution_count": 63,
   "id": "cc45d8cc-5f8a-4d97-850f-8427304a094e",
   "metadata": {
    "tags": []
   },
   "outputs": [],
   "source": [
    "arr1 = np.array([1, 2, 3])\n",
    "arr2 = np.array([4, 5, 6])\n",
    "# below is wrong\n",
    "#arr1 = [1, 2, 3]  \n",
    "# are simple python array, which is syntaxically correct but not what asked for.\n",
    "#arr2 = [4, 5, 6]\n",
    "# but if the student used simple python array - there is no penalty\n",
    "#arr1 = arr.array('i', [1, 2, 3])\n",
    "#arr2 = arr.array('i', [4, 5, 6])\n",
    "# 2 points for uisng np.array\n",
    "# 1 point for using regular python array."
   ]
  },
  {
   "cell_type": "code",
   "execution_count": 64,
   "id": "71070182-2e86-48eb-96e8-6072b937a620",
   "metadata": {
    "tags": []
   },
   "outputs": [
    {
     "name": "stdout",
     "output_type": "stream",
     "text": [
      "[5 7 9]\n"
     ]
    }
   ],
   "source": [
    "# part 3.2\n",
    "print(arr1 + arr2)\n",
    "# the expected result is [5 7 9]\n",
    "# if the student made simple python array then it would be [1 2 3 4 5 6] - which is wrong\n",
    "# but there is no penalty for this\n",
    "# or it would look like array('i', [1 2, 3, 4, 5, 6]\n",
    "# 3 points for using the above expression.\n",
    "#  minus 1 point if the student iterated thru the array to get the result"
   ]
  },
  {
   "cell_type": "code",
   "execution_count": 65,
   "id": "3a8ae2bf-c140-4511-8ef0-45761152ad63",
   "metadata": {
    "tags": []
   },
   "outputs": [],
   "source": [
    "# part 3.3\n",
    "# should use correct function name\n",
    "# should convert into np.array inside the function\n",
    "# 5 points for using correct formula\n",
    "# 5 points for using numpy array\n",
    "# 5 point for testing the function\n",
    "def array_sum(list1, list2):\n",
    "    arr1 = np.array(list1)\n",
    "    arr2 = np.array(list2)\n",
    "    resultlist = arr1**2 + arr2**4\n",
    "    return resultlist"
   ]
  },
  {
   "cell_type": "code",
   "execution_count": 66,
   "id": "92fb73df-76d2-4876-a125-d9ddc75ecb0e",
   "metadata": {
    "tags": []
   },
   "outputs": [
    {
     "name": "stdout",
     "output_type": "stream",
     "text": [
      "[ 1306.89    26.   14741.  ]\n"
     ]
    }
   ],
   "source": [
    "\n",
    "# should use same input list from 2.2\n",
    "list_1 = [3.3, 5, 10]\n",
    "list_2 = [6, 1, 11]\n",
    "print(array_sum(list_1, list_2))\n",
    "# result should be 334.5921   626.     11331.  \n",
    "# the decimals will appear for np.array math"
   ]
  },
  {
   "cell_type": "code",
   "execution_count": 28,
   "id": "b71e870f-5cb5-4e90-a27f-00e2cd37f2b0",
   "metadata": {
    "tags": []
   },
   "outputs": [],
   "source": [
    "# part 3.4\n",
    "sample_array = np.arange(100000)\n",
    "sample_list = list(range(100000))\n",
    "# 1 point for using sample array of 100000 elements\n",
    "# 1 point for using sample_list of 100000 elements\n",
    "# 1 point for running list_sum with %time\n",
    "# 1 point for running array_sum with %time\n",
    "# 1 point for ensuring the time results ( CPU times and wall time ) are displayed\n"
   ]
  },
  {
   "cell_type": "code",
   "execution_count": 29,
   "id": "849c55f9-78d4-4b89-8db6-2487c7f7191e",
   "metadata": {},
   "outputs": [
    {
     "name": "stdout",
     "output_type": "stream",
     "text": [
      "CPU times: user 6.98 ms, sys: 484 μs, total: 7.47 ms\n",
      "Wall time: 7.47 ms\n"
     ]
    }
   ],
   "source": [
    "# the list_sum should use the sample_list\n",
    "%time list_result = list_sum(sample_list, sample_list)\n",
    "# should see that the wall time or total is bigger than the array performance"
   ]
  },
  {
   "cell_type": "code",
   "execution_count": 30,
   "id": "fae84d0d-3bfa-455b-948d-93e5bea2838d",
   "metadata": {
    "tags": []
   },
   "outputs": [
    {
     "name": "stdout",
     "output_type": "stream",
     "text": [
      "CPU times: user 5.16 ms, sys: 1.44 ms, total: 6.6 ms\n",
      "Wall time: 6.87 ms\n"
     ]
    }
   ],
   "source": [
    "# the array_sum should use the sample_array\n",
    "%time array_result = array_sum(sample_array, sample_array)\n",
    "# the array performance should be faster than list "
   ]
  },
  {
   "cell_type": "code",
   "execution_count": 31,
   "id": "30e841a2-5280-4f28-818f-14f5b32cd147",
   "metadata": {
    "tags": []
   },
   "outputs": [
    {
     "name": "stdout",
     "output_type": "stream",
     "text": [
      "7.19 ms ± 109 μs per loop (mean ± std. dev. of 7 runs, 100 loops each)\n"
     ]
    }
   ],
   "source": [
    "import timeit\n",
    "%timeit list_result = list_sum(sample_list, sample_list)"
   ]
  },
  {
   "cell_type": "code",
   "execution_count": 32,
   "id": "b91f38d2-9052-4aad-9733-cea8f8bca9d5",
   "metadata": {
    "tags": []
   },
   "outputs": [
    {
     "name": "stdout",
     "output_type": "stream",
     "text": [
      "4.86 ms ± 27.5 μs per loop (mean ± std. dev. of 7 runs, 100 loops each)\n"
     ]
    }
   ],
   "source": [
    "%timeit array_result = array_sum(sample_array, sample_array)"
   ]
  },
  {
   "cell_type": "code",
   "execution_count": 33,
   "id": "86b683de-a9bc-450a-bb35-9eb2c0b3b18d",
   "metadata": {
    "tags": []
   },
   "outputs": [],
   "source": [
    "# part 4\n",
    "def f(t):\n",
    "    return 6 * np.sin(2 * np.pi * t)\n",
    "# if student uses function (5pt)"
   ]
  },
  {
   "cell_type": "code",
   "execution_count": 34,
   "id": "062029ab-e5ec-4c6b-8303-fbfb0eb2ceb0",
   "metadata": {
    "tags": []
   },
   "outputs": [
    {
     "data": {
      "image/png": "[encoded data removed]",
      "text/plain": [
       "<Figure size 640x480 with 1 Axes>"
      ]
     },
     "metadata": {},
     "output_type": "display_data"
    }
   ],
   "source": [
    "# if the number of points changes from 30 to 300, \n",
    "# then does the plot look like a sin type of curve?\n",
    "t_vals = np.linspace(-np.pi, np.pi, 30)\n",
    "\n",
    "y_vals = f(t_vals)\n",
    "plt.plot(t_vals, y_vals, 'r+')\n",
    "plt.axis([-np.pi, np.pi, -10, 10])\n",
    "plt.xticks([-np.pi, -np.pi/2, 0, np.pi/2, np.pi], \n",
    "           [r'$-\\pi$', r'$-\\pi/2$', r'$0$', r'$\\pi$', r'$\\pi/2$'])\n",
    "plt.xlabel('t')\n",
    "plt.ylabel('f(t)')\n",
    "plt.title(r'Problem 4')\n",
    "plt.show()\n",
    "# the title, x label, or y label can be something meaningful\n",
    "# it is okay for one edge points to appear on the edge of the graph\n",
    "# must use 30 points\n",
    "# must use the x axis values and endpoints\n",
    "# the y axis should be 10 and -10"
   ]
  },
  {
   "cell_type": "code",
   "execution_count": null,
   "id": "3bdf2f05-7cc1-4b8c-a2cc-4d9e8b6f73ab",
   "metadata": {},
   "outputs": [],
   "source": []
  }
 ],
 "metadata": {
  "kernelspec": {
   "display_name": "Python 3 (ipykernel)",
   "language": "python",
   "name": "python3"
  },
  "language_info": {
   "codemirror_mode": {
    "name": "ipython",
    "version": 3
   },
   "file_extension": ".py",
   "mimetype": "text/x-python",
   "name": "python",
   "nbconvert_exporter": "python",
   "pygments_lexer": "ipython3",
   "version": "3.11.8"
  }
 },
 "nbformat": 4,
 "nbformat_minor": 5
}
